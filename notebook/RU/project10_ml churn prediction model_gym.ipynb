{
 "cells": [
  {
   "cell_type": "markdown",
   "metadata": {},
   "source": [
    "# Разработка взаимодействия с клиентами сети фитнес-центров\n",
    "\n",
    "<b> Проект: </b>\n",
    "- Разработка стратегии взаимодействия с клиентами сети фитнес-центров «Культурист-датасаентист» на основе аналитических данных.\n",
    "\n",
    "<b> Предоставленные данные: </b>\n",
    "- Csv-файл, содержащий данные на месяц до оттока и факт оттока на определённый месяц.\n",
    "\n",
    "<b> Задачи: </b>\n",
    "- Проведение анализа и подготовка плана действий по удержанию клиентов:\n",
    "1) Прогноз вероятности оттока (на уровне следующего месяца) для каждого клиента;\n",
    "2) Формирование типичных портретов клиентов (выделение групп с общими признаками, характеристика их основных свойств);\n",
    "3) Анализ основных признаков, наиболее сильно влияющих на отток.\n",
    "\n",
    "<b> Ожидаемый результат: </b>\n",
    "- Формулировка основных выводов и разработка рекомендаций по повышению качества работы с клиентами:\n",
    "1) Выделение целевых групп клиентов;\n",
    "2) Разработка мер по снижению оттока;\n",
    "3) Определение иных особенностей взаимодействия с клиентами."
   ]
  },
  {
   "cell_type": "markdown",
   "metadata": {},
   "source": [
    "## Загрузка данных и изучение общей информации"
   ]
  },
  {
   "cell_type": "code",
   "execution_count": 1,
   "metadata": {},
   "outputs": [],
   "source": [
    "import pandas as pd\n",
    "import numpy as np\n",
    "import matplotlib.pyplot as plt\n",
    "import plotly.express as px\n",
    "import seaborn as sns\n",
    "from sklearn.preprocessing import StandardScaler\n",
    "from sklearn.model_selection import train_test_split\n",
    "from sklearn.linear_model import LogisticRegression\n",
    "from sklearn.ensemble import RandomForestClassifier\n",
    "from sklearn.metrics import accuracy_score, precision_score, recall_score\n",
    "from scipy.cluster.hierarchy import dendrogram, linkage\n",
    "from sklearn.cluster import KMeans\n",
    "from IPython.core.interactiveshell import InteractiveShell\n",
    "InteractiveShell.ast_node_interactivity = \"all\"\n",
    "import warnings\n",
    "warnings.filterwarnings(\"ignore\", category= FutureWarning)"
   ]
  },
  {
   "cell_type": "code",
   "execution_count": 2,
   "metadata": {
    "scrolled": true
   },
   "outputs": [],
   "source": [
    "gym = pd.read_csv('/Users/vintera/Git/projects/my_projects/dataset/project_10/gym_churn.csv')"
   ]
  },
  {
   "cell_type": "code",
   "execution_count": 3,
   "metadata": {},
   "outputs": [
    {
     "data": {
      "text/html": [
       "<div>\n",
       "<style scoped>\n",
       "    .dataframe tbody tr th:only-of-type {\n",
       "        vertical-align: middle;\n",
       "    }\n",
       "\n",
       "    .dataframe tbody tr th {\n",
       "        vertical-align: top;\n",
       "    }\n",
       "\n",
       "    .dataframe thead th {\n",
       "        text-align: right;\n",
       "    }\n",
       "</style>\n",
       "<table border=\"1\" class=\"dataframe\">\n",
       "  <thead>\n",
       "    <tr style=\"text-align: right;\">\n",
       "      <th></th>\n",
       "      <th>gender</th>\n",
       "      <th>Near_Location</th>\n",
       "      <th>Partner</th>\n",
       "      <th>Promo_friends</th>\n",
       "      <th>Phone</th>\n",
       "      <th>Contract_period</th>\n",
       "      <th>Group_visits</th>\n",
       "      <th>Age</th>\n",
       "      <th>Avg_additional_charges_total</th>\n",
       "      <th>Month_to_end_contract</th>\n",
       "      <th>Lifetime</th>\n",
       "      <th>Avg_class_frequency_total</th>\n",
       "      <th>Avg_class_frequency_current_month</th>\n",
       "      <th>Churn</th>\n",
       "    </tr>\n",
       "  </thead>\n",
       "  <tbody>\n",
       "    <tr>\n",
       "      <th>2370</th>\n",
       "      <td>0</td>\n",
       "      <td>1</td>\n",
       "      <td>0</td>\n",
       "      <td>0</td>\n",
       "      <td>1</td>\n",
       "      <td>6</td>\n",
       "      <td>1</td>\n",
       "      <td>34</td>\n",
       "      <td>44.793118</td>\n",
       "      <td>6.0</td>\n",
       "      <td>4</td>\n",
       "      <td>1.178982</td>\n",
       "      <td>1.324440</td>\n",
       "      <td>0</td>\n",
       "    </tr>\n",
       "    <tr>\n",
       "      <th>1785</th>\n",
       "      <td>0</td>\n",
       "      <td>1</td>\n",
       "      <td>1</td>\n",
       "      <td>1</td>\n",
       "      <td>1</td>\n",
       "      <td>1</td>\n",
       "      <td>1</td>\n",
       "      <td>26</td>\n",
       "      <td>152.955607</td>\n",
       "      <td>1.0</td>\n",
       "      <td>0</td>\n",
       "      <td>0.805537</td>\n",
       "      <td>0.348244</td>\n",
       "      <td>1</td>\n",
       "    </tr>\n",
       "    <tr>\n",
       "      <th>1553</th>\n",
       "      <td>1</td>\n",
       "      <td>1</td>\n",
       "      <td>0</td>\n",
       "      <td>0</td>\n",
       "      <td>1</td>\n",
       "      <td>1</td>\n",
       "      <td>0</td>\n",
       "      <td>29</td>\n",
       "      <td>163.776352</td>\n",
       "      <td>1.0</td>\n",
       "      <td>1</td>\n",
       "      <td>1.213122</td>\n",
       "      <td>1.066219</td>\n",
       "      <td>1</td>\n",
       "    </tr>\n",
       "    <tr>\n",
       "      <th>2122</th>\n",
       "      <td>0</td>\n",
       "      <td>1</td>\n",
       "      <td>0</td>\n",
       "      <td>0</td>\n",
       "      <td>0</td>\n",
       "      <td>1</td>\n",
       "      <td>1</td>\n",
       "      <td>27</td>\n",
       "      <td>119.988870</td>\n",
       "      <td>1.0</td>\n",
       "      <td>0</td>\n",
       "      <td>1.872182</td>\n",
       "      <td>1.907196</td>\n",
       "      <td>1</td>\n",
       "    </tr>\n",
       "    <tr>\n",
       "      <th>1043</th>\n",
       "      <td>1</td>\n",
       "      <td>1</td>\n",
       "      <td>0</td>\n",
       "      <td>0</td>\n",
       "      <td>1</td>\n",
       "      <td>12</td>\n",
       "      <td>1</td>\n",
       "      <td>33</td>\n",
       "      <td>275.025084</td>\n",
       "      <td>11.0</td>\n",
       "      <td>4</td>\n",
       "      <td>0.402946</td>\n",
       "      <td>0.508431</td>\n",
       "      <td>0</td>\n",
       "    </tr>\n",
       "    <tr>\n",
       "      <th>485</th>\n",
       "      <td>0</td>\n",
       "      <td>1</td>\n",
       "      <td>1</td>\n",
       "      <td>1</td>\n",
       "      <td>0</td>\n",
       "      <td>1</td>\n",
       "      <td>1</td>\n",
       "      <td>28</td>\n",
       "      <td>152.930700</td>\n",
       "      <td>1.0</td>\n",
       "      <td>1</td>\n",
       "      <td>1.193578</td>\n",
       "      <td>1.273458</td>\n",
       "      <td>0</td>\n",
       "    </tr>\n",
       "    <tr>\n",
       "      <th>39</th>\n",
       "      <td>1</td>\n",
       "      <td>1</td>\n",
       "      <td>0</td>\n",
       "      <td>1</td>\n",
       "      <td>0</td>\n",
       "      <td>6</td>\n",
       "      <td>1</td>\n",
       "      <td>35</td>\n",
       "      <td>233.239548</td>\n",
       "      <td>6.0</td>\n",
       "      <td>0</td>\n",
       "      <td>1.270752</td>\n",
       "      <td>1.206591</td>\n",
       "      <td>0</td>\n",
       "    </tr>\n",
       "    <tr>\n",
       "      <th>2403</th>\n",
       "      <td>1</td>\n",
       "      <td>0</td>\n",
       "      <td>1</td>\n",
       "      <td>0</td>\n",
       "      <td>1</td>\n",
       "      <td>12</td>\n",
       "      <td>1</td>\n",
       "      <td>31</td>\n",
       "      <td>5.428029</td>\n",
       "      <td>12.0</td>\n",
       "      <td>4</td>\n",
       "      <td>2.911786</td>\n",
       "      <td>2.783332</td>\n",
       "      <td>0</td>\n",
       "    </tr>\n",
       "    <tr>\n",
       "      <th>1555</th>\n",
       "      <td>1</td>\n",
       "      <td>1</td>\n",
       "      <td>1</td>\n",
       "      <td>1</td>\n",
       "      <td>1</td>\n",
       "      <td>1</td>\n",
       "      <td>0</td>\n",
       "      <td>28</td>\n",
       "      <td>328.664402</td>\n",
       "      <td>1.0</td>\n",
       "      <td>1</td>\n",
       "      <td>1.870634</td>\n",
       "      <td>1.223711</td>\n",
       "      <td>1</td>\n",
       "    </tr>\n",
       "    <tr>\n",
       "      <th>3819</th>\n",
       "      <td>0</td>\n",
       "      <td>1</td>\n",
       "      <td>1</td>\n",
       "      <td>1</td>\n",
       "      <td>1</td>\n",
       "      <td>12</td>\n",
       "      <td>0</td>\n",
       "      <td>33</td>\n",
       "      <td>237.376532</td>\n",
       "      <td>12.0</td>\n",
       "      <td>3</td>\n",
       "      <td>1.353575</td>\n",
       "      <td>1.421793</td>\n",
       "      <td>0</td>\n",
       "    </tr>\n",
       "  </tbody>\n",
       "</table>\n",
       "</div>"
      ],
      "text/plain": [
       "      gender  Near_Location  Partner  Promo_friends  Phone  Contract_period  \\\n",
       "2370       0              1        0              0      1                6   \n",
       "1785       0              1        1              1      1                1   \n",
       "1553       1              1        0              0      1                1   \n",
       "2122       0              1        0              0      0                1   \n",
       "1043       1              1        0              0      1               12   \n",
       "485        0              1        1              1      0                1   \n",
       "39         1              1        0              1      0                6   \n",
       "2403       1              0        1              0      1               12   \n",
       "1555       1              1        1              1      1                1   \n",
       "3819       0              1        1              1      1               12   \n",
       "\n",
       "      Group_visits  Age  Avg_additional_charges_total  Month_to_end_contract  \\\n",
       "2370             1   34                     44.793118                    6.0   \n",
       "1785             1   26                    152.955607                    1.0   \n",
       "1553             0   29                    163.776352                    1.0   \n",
       "2122             1   27                    119.988870                    1.0   \n",
       "1043             1   33                    275.025084                   11.0   \n",
       "485              1   28                    152.930700                    1.0   \n",
       "39               1   35                    233.239548                    6.0   \n",
       "2403             1   31                      5.428029                   12.0   \n",
       "1555             0   28                    328.664402                    1.0   \n",
       "3819             0   33                    237.376532                   12.0   \n",
       "\n",
       "      Lifetime  Avg_class_frequency_total  Avg_class_frequency_current_month  \\\n",
       "2370         4                   1.178982                           1.324440   \n",
       "1785         0                   0.805537                           0.348244   \n",
       "1553         1                   1.213122                           1.066219   \n",
       "2122         0                   1.872182                           1.907196   \n",
       "1043         4                   0.402946                           0.508431   \n",
       "485          1                   1.193578                           1.273458   \n",
       "39           0                   1.270752                           1.206591   \n",
       "2403         4                   2.911786                           2.783332   \n",
       "1555         1                   1.870634                           1.223711   \n",
       "3819         3                   1.353575                           1.421793   \n",
       "\n",
       "      Churn  \n",
       "2370      0  \n",
       "1785      1  \n",
       "1553      1  \n",
       "2122      1  \n",
       "1043      0  \n",
       "485       0  \n",
       "39        0  \n",
       "2403      0  \n",
       "1555      1  \n",
       "3819      0  "
      ]
     },
     "execution_count": 3,
     "metadata": {},
     "output_type": "execute_result"
    }
   ],
   "source": [
    "gym.sample(10)"
   ]
  },
  {
   "cell_type": "code",
   "execution_count": 4,
   "metadata": {},
   "outputs": [
    {
     "name": "stdout",
     "output_type": "stream",
     "text": [
      "<class 'pandas.core.frame.DataFrame'>\n",
      "RangeIndex: 4000 entries, 0 to 3999\n",
      "Data columns (total 14 columns):\n",
      " #   Column                             Non-Null Count  Dtype  \n",
      "---  ------                             --------------  -----  \n",
      " 0   gender                             4000 non-null   int64  \n",
      " 1   Near_Location                      4000 non-null   int64  \n",
      " 2   Partner                            4000 non-null   int64  \n",
      " 3   Promo_friends                      4000 non-null   int64  \n",
      " 4   Phone                              4000 non-null   int64  \n",
      " 5   Contract_period                    4000 non-null   int64  \n",
      " 6   Group_visits                       4000 non-null   int64  \n",
      " 7   Age                                4000 non-null   int64  \n",
      " 8   Avg_additional_charges_total       4000 non-null   float64\n",
      " 9   Month_to_end_contract              4000 non-null   float64\n",
      " 10  Lifetime                           4000 non-null   int64  \n",
      " 11  Avg_class_frequency_total          4000 non-null   float64\n",
      " 12  Avg_class_frequency_current_month  4000 non-null   float64\n",
      " 13  Churn                              4000 non-null   int64  \n",
      "dtypes: float64(4), int64(10)\n",
      "memory usage: 437.6 KB\n"
     ]
    },
    {
     "data": {
      "text/html": [
       "<div>\n",
       "<style scoped>\n",
       "    .dataframe tbody tr th:only-of-type {\n",
       "        vertical-align: middle;\n",
       "    }\n",
       "\n",
       "    .dataframe tbody tr th {\n",
       "        vertical-align: top;\n",
       "    }\n",
       "\n",
       "    .dataframe thead th {\n",
       "        text-align: right;\n",
       "    }\n",
       "</style>\n",
       "<table border=\"1\" class=\"dataframe\">\n",
       "  <thead>\n",
       "    <tr style=\"text-align: right;\">\n",
       "      <th></th>\n",
       "      <th>gender</th>\n",
       "      <th>Near_Location</th>\n",
       "      <th>Partner</th>\n",
       "      <th>Promo_friends</th>\n",
       "      <th>Phone</th>\n",
       "      <th>Contract_period</th>\n",
       "      <th>Group_visits</th>\n",
       "      <th>Age</th>\n",
       "      <th>Avg_additional_charges_total</th>\n",
       "      <th>Month_to_end_contract</th>\n",
       "      <th>Lifetime</th>\n",
       "      <th>Avg_class_frequency_total</th>\n",
       "      <th>Avg_class_frequency_current_month</th>\n",
       "      <th>Churn</th>\n",
       "    </tr>\n",
       "  </thead>\n",
       "  <tbody>\n",
       "    <tr>\n",
       "      <th>count</th>\n",
       "      <td>4000.000000</td>\n",
       "      <td>4000.000000</td>\n",
       "      <td>4000.000000</td>\n",
       "      <td>4000.000000</td>\n",
       "      <td>4000.000000</td>\n",
       "      <td>4000.000000</td>\n",
       "      <td>4000.000000</td>\n",
       "      <td>4000.000000</td>\n",
       "      <td>4000.000000</td>\n",
       "      <td>4000.000000</td>\n",
       "      <td>4000.000000</td>\n",
       "      <td>4000.000000</td>\n",
       "      <td>4000.000000</td>\n",
       "      <td>4000.000000</td>\n",
       "    </tr>\n",
       "    <tr>\n",
       "      <th>mean</th>\n",
       "      <td>0.510250</td>\n",
       "      <td>0.845250</td>\n",
       "      <td>0.486750</td>\n",
       "      <td>0.308500</td>\n",
       "      <td>0.903500</td>\n",
       "      <td>4.681250</td>\n",
       "      <td>0.412250</td>\n",
       "      <td>29.184250</td>\n",
       "      <td>146.943728</td>\n",
       "      <td>4.322750</td>\n",
       "      <td>3.724750</td>\n",
       "      <td>1.879020</td>\n",
       "      <td>1.767052</td>\n",
       "      <td>0.265250</td>\n",
       "    </tr>\n",
       "    <tr>\n",
       "      <th>std</th>\n",
       "      <td>0.499957</td>\n",
       "      <td>0.361711</td>\n",
       "      <td>0.499887</td>\n",
       "      <td>0.461932</td>\n",
       "      <td>0.295313</td>\n",
       "      <td>4.549706</td>\n",
       "      <td>0.492301</td>\n",
       "      <td>3.258367</td>\n",
       "      <td>96.355602</td>\n",
       "      <td>4.191297</td>\n",
       "      <td>3.749267</td>\n",
       "      <td>0.972245</td>\n",
       "      <td>1.052906</td>\n",
       "      <td>0.441521</td>\n",
       "    </tr>\n",
       "    <tr>\n",
       "      <th>min</th>\n",
       "      <td>0.000000</td>\n",
       "      <td>0.000000</td>\n",
       "      <td>0.000000</td>\n",
       "      <td>0.000000</td>\n",
       "      <td>0.000000</td>\n",
       "      <td>1.000000</td>\n",
       "      <td>0.000000</td>\n",
       "      <td>18.000000</td>\n",
       "      <td>0.148205</td>\n",
       "      <td>1.000000</td>\n",
       "      <td>0.000000</td>\n",
       "      <td>0.000000</td>\n",
       "      <td>0.000000</td>\n",
       "      <td>0.000000</td>\n",
       "    </tr>\n",
       "    <tr>\n",
       "      <th>25%</th>\n",
       "      <td>0.000000</td>\n",
       "      <td>1.000000</td>\n",
       "      <td>0.000000</td>\n",
       "      <td>0.000000</td>\n",
       "      <td>1.000000</td>\n",
       "      <td>1.000000</td>\n",
       "      <td>0.000000</td>\n",
       "      <td>27.000000</td>\n",
       "      <td>68.868830</td>\n",
       "      <td>1.000000</td>\n",
       "      <td>1.000000</td>\n",
       "      <td>1.180875</td>\n",
       "      <td>0.963003</td>\n",
       "      <td>0.000000</td>\n",
       "    </tr>\n",
       "    <tr>\n",
       "      <th>50%</th>\n",
       "      <td>1.000000</td>\n",
       "      <td>1.000000</td>\n",
       "      <td>0.000000</td>\n",
       "      <td>0.000000</td>\n",
       "      <td>1.000000</td>\n",
       "      <td>1.000000</td>\n",
       "      <td>0.000000</td>\n",
       "      <td>29.000000</td>\n",
       "      <td>136.220159</td>\n",
       "      <td>1.000000</td>\n",
       "      <td>3.000000</td>\n",
       "      <td>1.832768</td>\n",
       "      <td>1.719574</td>\n",
       "      <td>0.000000</td>\n",
       "    </tr>\n",
       "    <tr>\n",
       "      <th>75%</th>\n",
       "      <td>1.000000</td>\n",
       "      <td>1.000000</td>\n",
       "      <td>1.000000</td>\n",
       "      <td>1.000000</td>\n",
       "      <td>1.000000</td>\n",
       "      <td>6.000000</td>\n",
       "      <td>1.000000</td>\n",
       "      <td>31.000000</td>\n",
       "      <td>210.949625</td>\n",
       "      <td>6.000000</td>\n",
       "      <td>5.000000</td>\n",
       "      <td>2.536078</td>\n",
       "      <td>2.510336</td>\n",
       "      <td>1.000000</td>\n",
       "    </tr>\n",
       "    <tr>\n",
       "      <th>max</th>\n",
       "      <td>1.000000</td>\n",
       "      <td>1.000000</td>\n",
       "      <td>1.000000</td>\n",
       "      <td>1.000000</td>\n",
       "      <td>1.000000</td>\n",
       "      <td>12.000000</td>\n",
       "      <td>1.000000</td>\n",
       "      <td>41.000000</td>\n",
       "      <td>552.590740</td>\n",
       "      <td>12.000000</td>\n",
       "      <td>31.000000</td>\n",
       "      <td>6.023668</td>\n",
       "      <td>6.146783</td>\n",
       "      <td>1.000000</td>\n",
       "    </tr>\n",
       "  </tbody>\n",
       "</table>\n",
       "</div>"
      ],
      "text/plain": [
       "            gender  Near_Location      Partner  Promo_friends        Phone  \\\n",
       "count  4000.000000    4000.000000  4000.000000    4000.000000  4000.000000   \n",
       "mean      0.510250       0.845250     0.486750       0.308500     0.903500   \n",
       "std       0.499957       0.361711     0.499887       0.461932     0.295313   \n",
       "min       0.000000       0.000000     0.000000       0.000000     0.000000   \n",
       "25%       0.000000       1.000000     0.000000       0.000000     1.000000   \n",
       "50%       1.000000       1.000000     0.000000       0.000000     1.000000   \n",
       "75%       1.000000       1.000000     1.000000       1.000000     1.000000   \n",
       "max       1.000000       1.000000     1.000000       1.000000     1.000000   \n",
       "\n",
       "       Contract_period  Group_visits          Age  \\\n",
       "count      4000.000000   4000.000000  4000.000000   \n",
       "mean          4.681250      0.412250    29.184250   \n",
       "std           4.549706      0.492301     3.258367   \n",
       "min           1.000000      0.000000    18.000000   \n",
       "25%           1.000000      0.000000    27.000000   \n",
       "50%           1.000000      0.000000    29.000000   \n",
       "75%           6.000000      1.000000    31.000000   \n",
       "max          12.000000      1.000000    41.000000   \n",
       "\n",
       "       Avg_additional_charges_total  Month_to_end_contract     Lifetime  \\\n",
       "count                   4000.000000            4000.000000  4000.000000   \n",
       "mean                     146.943728               4.322750     3.724750   \n",
       "std                       96.355602               4.191297     3.749267   \n",
       "min                        0.148205               1.000000     0.000000   \n",
       "25%                       68.868830               1.000000     1.000000   \n",
       "50%                      136.220159               1.000000     3.000000   \n",
       "75%                      210.949625               6.000000     5.000000   \n",
       "max                      552.590740              12.000000    31.000000   \n",
       "\n",
       "       Avg_class_frequency_total  Avg_class_frequency_current_month  \\\n",
       "count                4000.000000                        4000.000000   \n",
       "mean                    1.879020                           1.767052   \n",
       "std                     0.972245                           1.052906   \n",
       "min                     0.000000                           0.000000   \n",
       "25%                     1.180875                           0.963003   \n",
       "50%                     1.832768                           1.719574   \n",
       "75%                     2.536078                           2.510336   \n",
       "max                     6.023668                           6.146783   \n",
       "\n",
       "             Churn  \n",
       "count  4000.000000  \n",
       "mean      0.265250  \n",
       "std       0.441521  \n",
       "min       0.000000  \n",
       "25%       0.000000  \n",
       "50%       0.000000  \n",
       "75%       1.000000  \n",
       "max       1.000000  "
      ]
     },
     "execution_count": 4,
     "metadata": {},
     "output_type": "execute_result"
    }
   ],
   "source": [
    "gym.info()\n",
    "gym.describe()"
   ]
  },
  {
   "cell_type": "markdown",
   "metadata": {},
   "source": [
    "### Комментарий\n",
    "Пропуски в данных отсутствуют. Средние значения уже позволяют сформировать портрет типичного клиента."
   ]
  },
  {
   "cell_type": "code",
   "execution_count": 5,
   "metadata": {},
   "outputs": [],
   "source": [
    "gym['Month_to_end_contract'] = gym['Month_to_end_contract'].astype('int')"
   ]
  },
  {
   "cell_type": "markdown",
   "metadata": {},
   "source": [
    "### Вывод\n",
    "\n",
    "Для исследования у нас имеется таблица, состоящая из 4000 строк и 14 столбцов, содержащая информацию о клиентах сети. Пропуски в данных отсутствуют, типы данных соответствуют содержащимся значениям (для удобства изменен лишь Month_to_end_contract на целые значения)."
   ]
  },
  {
   "cell_type": "markdown",
   "metadata": {},
   "source": [
    "## Исследовательский анализ данных (EDA)"
   ]
  },
  {
   "cell_type": "code",
   "execution_count": 6,
   "metadata": {},
   "outputs": [
    {
     "data": {
      "text/plain": [
       "0"
      ]
     },
     "execution_count": 6,
     "metadata": {},
     "output_type": "execute_result"
    }
   ],
   "source": [
    "gym.duplicated().sum()"
   ]
  },
  {
   "cell_type": "markdown",
   "metadata": {},
   "source": [
    "### Комментарий\n",
    "Дубликаты отсутствуют"
   ]
  },
  {
   "cell_type": "code",
   "execution_count": 7,
   "metadata": {},
   "outputs": [
    {
     "data": {
      "text/plain": [
       "0    2939\n",
       "1    1061\n",
       "Name: Churn, dtype: int64"
      ]
     },
     "execution_count": 7,
     "metadata": {},
     "output_type": "execute_result"
    }
   ],
   "source": [
    "gym.Churn.value_counts()"
   ]
  },
  {
   "cell_type": "markdown",
   "metadata": {},
   "source": [
    "### Комментарий\n",
    "Из общего количетсва клиентов (4000) почти четверть (1061) составляют \"ушедшие клиенты\"."
   ]
  },
  {
   "cell_type": "code",
   "execution_count": 8,
   "metadata": {
    "scrolled": true
   },
   "outputs": [
    {
     "data": {
      "text/html": [
       "<div>\n",
       "<style scoped>\n",
       "    .dataframe tbody tr th:only-of-type {\n",
       "        vertical-align: middle;\n",
       "    }\n",
       "\n",
       "    .dataframe tbody tr th {\n",
       "        vertical-align: top;\n",
       "    }\n",
       "\n",
       "    .dataframe thead th {\n",
       "        text-align: right;\n",
       "    }\n",
       "</style>\n",
       "<table border=\"1\" class=\"dataframe\">\n",
       "  <thead>\n",
       "    <tr style=\"text-align: right;\">\n",
       "      <th></th>\n",
       "      <th>gender</th>\n",
       "      <th>Near_Location</th>\n",
       "      <th>Partner</th>\n",
       "      <th>Promo_friends</th>\n",
       "      <th>Phone</th>\n",
       "      <th>Contract_period</th>\n",
       "      <th>Group_visits</th>\n",
       "      <th>Age</th>\n",
       "      <th>Avg_additional_charges_total</th>\n",
       "      <th>Month_to_end_contract</th>\n",
       "      <th>Lifetime</th>\n",
       "      <th>Avg_class_frequency_total</th>\n",
       "      <th>Avg_class_frequency_current_month</th>\n",
       "    </tr>\n",
       "    <tr>\n",
       "      <th>Churn</th>\n",
       "      <th></th>\n",
       "      <th></th>\n",
       "      <th></th>\n",
       "      <th></th>\n",
       "      <th></th>\n",
       "      <th></th>\n",
       "      <th></th>\n",
       "      <th></th>\n",
       "      <th></th>\n",
       "      <th></th>\n",
       "      <th></th>\n",
       "      <th></th>\n",
       "      <th></th>\n",
       "    </tr>\n",
       "  </thead>\n",
       "  <tbody>\n",
       "    <tr>\n",
       "      <th>0</th>\n",
       "      <td>0.510037</td>\n",
       "      <td>0.873086</td>\n",
       "      <td>0.534195</td>\n",
       "      <td>0.353522</td>\n",
       "      <td>0.903709</td>\n",
       "      <td>5.747193</td>\n",
       "      <td>0.464103</td>\n",
       "      <td>29.976523</td>\n",
       "      <td>158.445715</td>\n",
       "      <td>5.283089</td>\n",
       "      <td>4.711807</td>\n",
       "      <td>2.024876</td>\n",
       "      <td>2.027882</td>\n",
       "    </tr>\n",
       "    <tr>\n",
       "      <th>1</th>\n",
       "      <td>0.510839</td>\n",
       "      <td>0.768143</td>\n",
       "      <td>0.355325</td>\n",
       "      <td>0.183789</td>\n",
       "      <td>0.902922</td>\n",
       "      <td>1.728558</td>\n",
       "      <td>0.268615</td>\n",
       "      <td>26.989632</td>\n",
       "      <td>115.082899</td>\n",
       "      <td>1.662582</td>\n",
       "      <td>0.990575</td>\n",
       "      <td>1.474995</td>\n",
       "      <td>1.044546</td>\n",
       "    </tr>\n",
       "  </tbody>\n",
       "</table>\n",
       "</div>"
      ],
      "text/plain": [
       "         gender  Near_Location   Partner  Promo_friends     Phone  \\\n",
       "Churn                                                               \n",
       "0      0.510037       0.873086  0.534195       0.353522  0.903709   \n",
       "1      0.510839       0.768143  0.355325       0.183789  0.902922   \n",
       "\n",
       "       Contract_period  Group_visits        Age  Avg_additional_charges_total  \\\n",
       "Churn                                                                           \n",
       "0             5.747193      0.464103  29.976523                    158.445715   \n",
       "1             1.728558      0.268615  26.989632                    115.082899   \n",
       "\n",
       "       Month_to_end_contract  Lifetime  Avg_class_frequency_total  \\\n",
       "Churn                                                               \n",
       "0                   5.283089  4.711807                   2.024876   \n",
       "1                   1.662582  0.990575                   1.474995   \n",
       "\n",
       "       Avg_class_frequency_current_month  \n",
       "Churn                                     \n",
       "0                               2.027882  \n",
       "1                               1.044546  "
      ]
     },
     "execution_count": 8,
     "metadata": {},
     "output_type": "execute_result"
    }
   ],
   "source": [
    "gym.groupby('Churn').mean()"
   ]
  },
  {
   "cell_type": "markdown",
   "metadata": {},
   "source": [
    "### Комментарий\n",
    "Средние значения с разбивкой на ушедших и оставшихся позволяют выявить сильно отличающиеся признаки у этих двух групп. Визуализируем эти признаки двух групп для наглядности."
   ]
  },
  {
   "cell_type": "code",
   "execution_count": 9,
   "metadata": {
    "scrolled": true
   },
   "outputs": [
    {
     "data": {
      "text/plain": [
       "<AxesSubplot: title={'center': 'gender'}, ylabel='Frequency'>"
      ]
     },
     "execution_count": 9,
     "metadata": {},
     "output_type": "execute_result"
    },
    {
     "data": {
      "image/png": "[encoded data removed]",
      "text/plain": [
       "<Figure size 500x300 with 1 Axes>"
      ]
     },
     "metadata": {},
     "output_type": "display_data"
    },
    {
     "data": {
      "text/plain": [
       "<AxesSubplot: title={'center': 'Near_Location'}, ylabel='Frequency'>"
      ]
     },
     "execution_count": 9,
     "metadata": {},
     "output_type": "execute_result"
    },
    {
     "data": {
      "image/png": "[encoded data removed]",
      "text/plain": [
       "<Figure size 500x300 with 1 Axes>"
      ]
     },
     "metadata": {},
     "output_type": "display_data"
    },
    {
     "data": {
      "text/plain": [
       "<AxesSubplot: title={'center': 'Partner'}, ylabel='Frequency'>"
      ]
     },
     "execution_count": 9,
     "metadata": {},
     "output_type": "execute_result"
    },
    {
     "data": {
      "image/png": "[encoded data removed]",
      "text/plain": [
       "<Figure size 500x300 with 1 Axes>"
      ]
     },
     "metadata": {},
     "output_type": "display_data"
    },
    {
     "data": {
      "text/plain": [
       "<AxesSubplot: title={'center': 'Promo_friends'}, ylabel='Frequency'>"
      ]
     },
     "execution_count": 9,
     "metadata": {},
     "output_type": "execute_result"
    },
    {
     "data": {
      "image/png": "[encoded data removed]",
      "text/plain": [
       "<Figure size 500x300 with 1 Axes>"
      ]
     },
     "metadata": {},
     "output_type": "display_data"
    },
    {
     "data": {
      "text/plain": [
       "<AxesSubplot: title={'center': 'Phone'}, ylabel='Frequency'>"
      ]
     },
     "execution_count": 9,
     "metadata": {},
     "output_type": "execute_result"
    },
    {
     "data": {
      "image/png": "[encoded data removed]",
      "text/plain": [
       "<Figure size 500x300 with 1 Axes>"
      ]
     },
     "metadata": {},
     "output_type": "display_data"
    },
    {
     "data": {
      "text/plain": [
       "<AxesSubplot: title={'center': 'Contract_period'}, ylabel='Frequency'>"
      ]
     },
     "execution_count": 9,
     "metadata": {},
     "output_type": "execute_result"
    },
    {
     "data": {
      "image/png": "[encoded data removed]",
      "text/plain": [
       "<Figure size 500x300 with 1 Axes>"
      ]
     },
     "metadata": {},
     "output_type": "display_data"
    },
    {
     "data": {
      "text/plain": [
       "<AxesSubplot: title={'center': 'Group_visits'}, ylabel='Frequency'>"
      ]
     },
     "execution_count": 9,
     "metadata": {},
     "output_type": "execute_result"
    },
    {
     "data": {
      "image/png": "[encoded data removed]",
      "text/plain": [
       "<Figure size 500x300 with 1 Axes>"
      ]
     },
     "metadata": {},
     "output_type": "display_data"
    },
    {
     "data": {
      "text/plain": [
       "<AxesSubplot: title={'center': 'Age'}, ylabel='Frequency'>"
      ]
     },
     "execution_count": 9,
     "metadata": {},
     "output_type": "execute_result"
    },
    {
     "data": {
      "image/png": "[encoded data removed]",
      "text/plain": [
       "<Figure size 500x300 with 1 Axes>"
      ]
     },
     "metadata": {},
     "output_type": "display_data"
    },
    {
     "data": {
      "text/plain": [
       "<AxesSubplot: title={'center': 'Avg_additional_charges_total'}, ylabel='Frequency'>"
      ]
     },
     "execution_count": 9,
     "metadata": {},
     "output_type": "execute_result"
    },
    {
     "data": {
      "image/png": "[encoded data removed]",
      "text/plain": [
       "<Figure size 500x300 with 1 Axes>"
      ]
     },
     "metadata": {},
     "output_type": "display_data"
    },
    {
     "data": {
      "text/plain": [
       "<AxesSubplot: title={'center': 'Month_to_end_contract'}, ylabel='Frequency'>"
      ]
     },
     "execution_count": 9,
     "metadata": {},
     "output_type": "execute_result"
    },
    {
     "data": {
      "image/png": "[encoded data removed]",
      "text/plain": [
       "<Figure size 500x300 with 1 Axes>"
      ]
     },
     "metadata": {},
     "output_type": "display_data"
    },
    {
     "data": {
      "text/plain": [
       "<AxesSubplot: title={'center': 'Lifetime'}, ylabel='Frequency'>"
      ]
     },
     "execution_count": 9,
     "metadata": {},
     "output_type": "execute_result"
    },
    {
     "data": {
      "image/png": "[encoded data removed]",
      "text/plain": [
       "<Figure size 500x300 with 1 Axes>"
      ]
     },
     "metadata": {},
     "output_type": "display_data"
    },
    {
     "data": {
      "text/plain": [
       "<AxesSubplot: title={'center': 'Avg_class_frequency_total'}, ylabel='Frequency'>"
      ]
     },
     "execution_count": 9,
     "metadata": {},
     "output_type": "execute_result"
    },
    {
     "data": {
      "image/png": "[encoded data removed]",
      "text/plain": [
       "<Figure size 500x300 with 1 Axes>"
      ]
     },
     "metadata": {},
     "output_type": "display_data"
    },
    {
     "data": {
      "text/plain": [
       "<AxesSubplot: title={'center': 'Avg_class_frequency_current_month'}, ylabel='Frequency'>"
      ]
     },
     "execution_count": 9,
     "metadata": {},
     "output_type": "execute_result"
    },
    {
     "data": {
      "image/png": "[encoded data removed]",
      "text/plain": [
       "<Figure size 500x300 with 1 Axes>"
      ]
     },
     "metadata": {},
     "output_type": "display_data"
    },
    {
     "data": {
      "text/plain": [
       "<AxesSubplot: title={'center': 'Churn'}, ylabel='Frequency'>"
      ]
     },
     "execution_count": 9,
     "metadata": {},
     "output_type": "execute_result"
    },
    {
     "data": {
      "image/png": "[encoded data removed]",
      "text/plain": [
       "<Figure size 500x300 with 1 Axes>"
      ]
     },
     "metadata": {},
     "output_type": "display_data"
    }
   ],
   "source": [
    "# В цикле прогоним названия столбцов (признаки) и по каждому построим графики для двух групп\n",
    "for col in gym.columns:\n",
    "    ax = gym.query('Churn == 0').plot(kind='hist', y=col, \n",
    "    alpha=0.7, label='Остался', figsize = (5,3), title=col)\n",
    "    gym.query('Churn == 1').plot(kind='hist', y=col,\n",
    "    alpha=0.5, label='Ушёл', ax=ax, grid=True, legend=True)\n",
    "    plt.show();"
   ]
  },
  {
   "cell_type": "markdown",
   "metadata": {},
   "source": [
    "### Комментарий\n",
    "Основываясь на результатах визуализации, по многим признакам можно сделать ценные для исследования выводы, а также выдвинуть гипотезы о характеристиках ушедших и оставшихся клиентов фитнес-центра. Сделаем это в подведении итогов раздела."
   ]
  },
  {
   "cell_type": "code",
   "execution_count": 10,
   "metadata": {},
   "outputs": [
    {
     "data": {
      "image/png": "[encoded data removed]",
      "text/plain": [
       "<Figure size 1000x1000 with 2 Axes>"
      ]
     },
     "metadata": {},
     "output_type": "display_data"
    }
   ],
   "source": [
    "# Построим матрицу корреляций\n",
    "cm = gym.corr()\n",
    "# Визуализируем тепловую карту с подписями для матрицы корреляций\n",
    "fig = plt.subplots(figsize=(10,10)) \n",
    "sns.heatmap(cm, annot = True, fmt='.2f', linewidths=1, linecolor='gray')\n",
    "\n",
    "plt.show();"
   ]
  },
  {
   "cell_type": "markdown",
   "metadata": {},
   "source": [
    "### Комментарий\n",
    "Самыми коррелирующими оказались две группы признаков \"срок действия контракта\" - \"количество месяцев до окончания контракта\" и \"средняя частота посещений в неделю за предыдущий месяц\" - \"средняя частота посещений в неделю за все время\", что логически легко поддается объяснению. Явных признаков, коррелирующих с оттоком клиентов на матрице к сожалению не замечено, что не говорит об их отсутствии, так как данные об оттоке являются категориальными и имеют всего два значения, что не лучшим образом сказывается на матрице."
   ]
  },
  {
   "cell_type": "markdown",
   "metadata": {},
   "source": [
    "### Вывод\n",
    "\n",
    "Проведя исследовательский анализ данных можно составить портрет среднестатистического клиента фитнес-центра:\n",
    "\n",
    "- В равной стпени мужчина или женщина, отток по данному признаку одинаков;\n",
    "- В основном проживает поблизости с фитнес-центром, проживающие дальше уходят заметно чаще;\n",
    "- Немного чаще сотрудник компании-партнера, отток таких клиентов ниже;\n",
    "- Чаще не является участником акции «приведи друга», отток у участников акции - ниже;\n",
    "- Практически всегда предоставлет контактный телефон, признак скорее всего не влияет на желание уйти;\n",
    "- Немного чаще заключает краткосрочный контракт на 1 месяц, реже на год, однако практически все ушедшие клиенты заключили краткосрочные контракты;\n",
    "- Немного чаще посещает групповые занятия, отток среди этих клиентов так же выше;\n",
    "- Средний возраст - 30 лет, ушедшие клиенты немного младше, в среднем им 27 лет;\n",
    "- Средний расход на иные услуги центра - 158 у.е., ушедшие тратились пропорционально меньше;\n",
    "- У исследуемого неушедшего среднестатистического клиента - 5.2 месяца до окончания контракта, а уходят, как правило, когда действие контракта уже подходит к концу - 1.6 месяца;\n",
    "- Среднее количество времени, проведенное с момента первого посещения - 4.7 месяца у оставшихся, когда решение о прекращении посещения принимается уходящими в среднем за 1 месяц;\n",
    "- Средняя частота посещений за все время и за прошедший месяц у остающихся не изменяется - 2 раза в неделю. Количество занятий у ушедших ниже и со временем только уменшается, с общего за весь период - 1.5 до 1 занятия в неделю в последнем месяце.\n",
    "\n",
    "Проведя разведочный анализ основных свойств данных, мы убедились в отсутствии аномальных значений, нормальном распределении данных, а также установили в них некоторые закономерности, благодаря которым можно сформировать первые гипотезы и построить предварительные прогнозы по предрасположенности к оттоку определенной группы клиентов. Однако не будем торопить события и предоставим право машинам построить свои прогнозы, а на выходе сравним их с человеческими."
   ]
  },
  {
   "cell_type": "markdown",
   "metadata": {},
   "source": [
    "## Построение модели прогнозирования оттока клиентов"
   ]
  },
  {
   "cell_type": "code",
   "execution_count": 11,
   "metadata": {},
   "outputs": [],
   "source": [
    "# Делим данные на признаки и целевую переменную\n",
    "X = gym.drop('Churn', axis=1)\n",
    "y = gym['Churn']"
   ]
  },
  {
   "cell_type": "code",
   "execution_count": 12,
   "metadata": {},
   "outputs": [],
   "source": [
    "# Разделяем модель на обучающую и валидационную выборки\n",
    "X_train, X_test, y_train, y_test = train_test_split(X, y, test_size=0.2, random_state=0)"
   ]
  },
  {
   "cell_type": "code",
   "execution_count": 13,
   "metadata": {},
   "outputs": [],
   "source": [
    "# В функцию упакуем команды для вызова необходимых метрик\n",
    "def metrics(y_true, y_pred, title):\n",
    "    print(title)\n",
    "    print('\\tAccuracy: {:.2f}'.format(accuracy_score(y_true, y_pred)))\n",
    "    print('\\tPrecision: {:.2f}'.format(precision_score(y_true, y_pred)))\n",
    "    print('\\tRecall: {:.2f}'.format(recall_score(y_true, y_pred)))"
   ]
  },
  {
   "cell_type": "code",
   "execution_count": 14,
   "metadata": {},
   "outputs": [
    {
     "name": "stderr",
     "output_type": "stream",
     "text": [
      "/Library/Frameworks/Python.framework/Versions/3.11/lib/python3.11/site-packages/sklearn/linear_model/_logistic.py:444: ConvergenceWarning: lbfgs failed to converge (status=1):\n",
      "STOP: TOTAL NO. of ITERATIONS REACHED LIMIT.\n",
      "\n",
      "Increase the number of iterations (max_iter) or scale the data as shown in:\n",
      "    https://scikit-learn.org/stable/modules/preprocessing.html\n",
      "Please also refer to the documentation for alternative solver options:\n",
      "    https://scikit-learn.org/stable/modules/linear_model.html#logistic-regression\n",
      "  n_iter_i = _check_optimize_result(\n"
     ]
    },
    {
     "name": "stdout",
     "output_type": "stream",
     "text": [
      "Метрики модели логистической регрессии\n",
      "\tAccuracy: 0.91\n",
      "\tPrecision: 0.81\n",
      "\tRecall: 0.81\n",
      "---------------------------------------\n",
      "Метрики модели случайного леса\n",
      "\tAccuracy: 0.92\n",
      "\tPrecision: 0.84\n",
      "\tRecall: 0.82\n"
     ]
    }
   ],
   "source": [
    "# Обучим модель логистической регрессией..\n",
    "lr_model = LogisticRegression(random_state=0)\n",
    "lr_model.fit(X_train, y_train)\n",
    "predictions = lr_model.predict(X_test)\n",
    "metrics(y_test, predictions, title='Метрики модели логистической регрессии')\n",
    "print('---------------------------------------')\n",
    "\n",
    "# ..и случайным лесом\n",
    "rfc_model = RandomForestClassifier(random_state=0)\n",
    "rfc_model.fit(X_train, y_train)\n",
    "predictions = rfc_model.predict(X_test)\n",
    "metrics(y_test, predictions, title='Метрики модели случайного леса');"
   ]
  },
  {
   "cell_type": "markdown",
   "metadata": {},
   "source": [
    "### Вывод\n",
    "\n",
    "При проверке моделей на валидационной выборке метрики accuracy, precision и recall у модели логистической регрессии выше. При построении дальнейших прогнозов предочтительнее было бы основываться на результатах именно этой модели. "
   ]
  },
  {
   "cell_type": "markdown",
   "metadata": {},
   "source": [
    "## Кластеризация клиентов"
   ]
  },
  {
   "cell_type": "code",
   "execution_count": 15,
   "metadata": {},
   "outputs": [],
   "source": [
    "# Стандартизируем данные\n",
    "sc = StandardScaler()\n",
    "X_sc = sc.fit_transform(X)\n",
    "# Создадим таблицу связок между объектами\n",
    "linked = linkage(X_sc, method = 'ward') "
   ]
  },
  {
   "cell_type": "code",
   "execution_count": 16,
   "metadata": {
    "scrolled": false
   },
   "outputs": [
    {
     "data": {
      "image/png": "[encoded data removed]",
      "text/plain": [
       "<Figure size 1500x800 with 1 Axes>"
      ]
     },
     "metadata": {},
     "output_type": "display_data"
    }
   ],
   "source": [
    "# Построим дендрограмму\n",
    "plt.figure(figsize=(15, 8))  \n",
    "dendrogram(linked, orientation='top', no_labels=True)\n",
    "plt.show();"
   ]
  },
  {
   "cell_type": "markdown",
   "metadata": {},
   "source": [
    "### Комментарий\n",
    "Исходя из визуализации агломеративной кластеризации, получаем оптимальное число кластеров, предложенное алгоритмом - 4. Данное число кластеров и предложим алгоритму KMeans."
   ]
  },
  {
   "cell_type": "code",
   "execution_count": 17,
   "metadata": {},
   "outputs": [],
   "source": [
    "# Задаём модель k_means с числом кластеров, равным 4\n",
    "km = KMeans(n_clusters = 4, random_state=0)\n",
    "# Прогнозируем кластеры для наблюдений\n",
    "labels = km.fit_predict(X_sc)"
   ]
  },
  {
   "cell_type": "code",
   "execution_count": 18,
   "metadata": {},
   "outputs": [
    {
     "data": {
      "text/html": [
       "<div>\n",
       "<style scoped>\n",
       "    .dataframe tbody tr th:only-of-type {\n",
       "        vertical-align: middle;\n",
       "    }\n",
       "\n",
       "    .dataframe tbody tr th {\n",
       "        vertical-align: top;\n",
       "    }\n",
       "\n",
       "    .dataframe thead th {\n",
       "        text-align: right;\n",
       "    }\n",
       "</style>\n",
       "<table border=\"1\" class=\"dataframe\">\n",
       "  <thead>\n",
       "    <tr style=\"text-align: right;\">\n",
       "      <th></th>\n",
       "      <th>cluster</th>\n",
       "      <th>gender</th>\n",
       "      <th>Near_Location</th>\n",
       "      <th>Partner</th>\n",
       "      <th>Promo_friends</th>\n",
       "      <th>Phone</th>\n",
       "      <th>Contract_period</th>\n",
       "      <th>Group_visits</th>\n",
       "      <th>Age</th>\n",
       "      <th>Avg_additional_charges_total</th>\n",
       "      <th>Month_to_end_contract</th>\n",
       "      <th>Lifetime</th>\n",
       "      <th>Avg_class_frequency_total</th>\n",
       "      <th>Avg_class_frequency_current_month</th>\n",
       "      <th>Churn</th>\n",
       "    </tr>\n",
       "  </thead>\n",
       "  <tbody>\n",
       "    <tr>\n",
       "      <th>0</th>\n",
       "      <td>0</td>\n",
       "      <td>0.523316</td>\n",
       "      <td>0.862694</td>\n",
       "      <td>0.471503</td>\n",
       "      <td>0.305699</td>\n",
       "      <td>0.0</td>\n",
       "      <td>4.777202</td>\n",
       "      <td>0.427461</td>\n",
       "      <td>29.297927</td>\n",
       "      <td>144.208179</td>\n",
       "      <td>4.466321</td>\n",
       "      <td>3.940415</td>\n",
       "      <td>1.854211</td>\n",
       "      <td>1.723967</td>\n",
       "      <td>0.266839</td>\n",
       "    </tr>\n",
       "    <tr>\n",
       "      <th>1</th>\n",
       "      <td>1</td>\n",
       "      <td>0.486815</td>\n",
       "      <td>0.759297</td>\n",
       "      <td>0.381339</td>\n",
       "      <td>0.190669</td>\n",
       "      <td>1.0</td>\n",
       "      <td>1.899256</td>\n",
       "      <td>0.292765</td>\n",
       "      <td>28.048005</td>\n",
       "      <td>129.704525</td>\n",
       "      <td>1.805274</td>\n",
       "      <td>2.235294</td>\n",
       "      <td>1.204610</td>\n",
       "      <td>0.951590</td>\n",
       "      <td>0.559838</td>\n",
       "    </tr>\n",
       "    <tr>\n",
       "      <th>2</th>\n",
       "      <td>2</td>\n",
       "      <td>0.544939</td>\n",
       "      <td>0.861873</td>\n",
       "      <td>0.343425</td>\n",
       "      <td>0.205298</td>\n",
       "      <td>1.0</td>\n",
       "      <td>2.403027</td>\n",
       "      <td>0.447493</td>\n",
       "      <td>29.989593</td>\n",
       "      <td>157.358764</td>\n",
       "      <td>2.239357</td>\n",
       "      <td>4.704825</td>\n",
       "      <td>2.724796</td>\n",
       "      <td>2.711132</td>\n",
       "      <td>0.092715</td>\n",
       "    </tr>\n",
       "    <tr>\n",
       "      <th>3</th>\n",
       "      <td>3</td>\n",
       "      <td>0.503711</td>\n",
       "      <td>0.940631</td>\n",
       "      <td>0.777365</td>\n",
       "      <td>0.572356</td>\n",
       "      <td>1.0</td>\n",
       "      <td>10.697588</td>\n",
       "      <td>0.536178</td>\n",
       "      <td>29.912801</td>\n",
       "      <td>161.363032</td>\n",
       "      <td>9.768089</td>\n",
       "      <td>4.730056</td>\n",
       "      <td>1.983884</td>\n",
       "      <td>1.975592</td>\n",
       "      <td>0.029685</td>\n",
       "    </tr>\n",
       "  </tbody>\n",
       "</table>\n",
       "</div>"
      ],
      "text/plain": [
       "   cluster    gender  Near_Location   Partner  Promo_friends  Phone  \\\n",
       "0        0  0.523316       0.862694  0.471503       0.305699    0.0   \n",
       "1        1  0.486815       0.759297  0.381339       0.190669    1.0   \n",
       "2        2  0.544939       0.861873  0.343425       0.205298    1.0   \n",
       "3        3  0.503711       0.940631  0.777365       0.572356    1.0   \n",
       "\n",
       "   Contract_period  Group_visits        Age  Avg_additional_charges_total  \\\n",
       "0         4.777202      0.427461  29.297927                    144.208179   \n",
       "1         1.899256      0.292765  28.048005                    129.704525   \n",
       "2         2.403027      0.447493  29.989593                    157.358764   \n",
       "3        10.697588      0.536178  29.912801                    161.363032   \n",
       "\n",
       "   Month_to_end_contract  Lifetime  Avg_class_frequency_total  \\\n",
       "0               4.466321  3.940415                   1.854211   \n",
       "1               1.805274  2.235294                   1.204610   \n",
       "2               2.239357  4.704825                   2.724796   \n",
       "3               9.768089  4.730056                   1.983884   \n",
       "\n",
       "   Avg_class_frequency_current_month     Churn  \n",
       "0                           1.723967  0.266839  \n",
       "1                           0.951590  0.559838  \n",
       "2                           2.711132  0.092715  \n",
       "3                           1.975592  0.029685  "
      ]
     },
     "execution_count": 18,
     "metadata": {},
     "output_type": "execute_result"
    }
   ],
   "source": [
    "# Создадим в таблице столбец с присвоенным номером кластера и сгруппируем по нему данные, получив их средние значения\n",
    "gym['cluster'] = labels\n",
    "gym_grouped_by_cluster = gym.groupby('cluster').mean().reset_index()\n",
    "gym_grouped_by_cluster"
   ]
  },
  {
   "cell_type": "code",
   "execution_count": 19,
   "metadata": {
    "scrolled": true
   },
   "outputs": [
    {
     "data": {
      "text/plain": [
       "<AxesSubplot: title={'center': 'cluster'}>"
      ]
     },
     "execution_count": 19,
     "metadata": {},
     "output_type": "execute_result"
    },
    {
     "data": {
      "image/png": "[encoded data removed]",
      "text/plain": [
       "<Figure size 500x300 with 1 Axes>"
      ]
     },
     "metadata": {},
     "output_type": "display_data"
    },
    {
     "data": {
      "text/plain": [
       "<AxesSubplot: title={'center': 'gender'}>"
      ]
     },
     "execution_count": 19,
     "metadata": {},
     "output_type": "execute_result"
    },
    {
     "data": {
      "image/png": "[encoded data removed]",
      "text/plain": [
       "<Figure size 500x300 with 1 Axes>"
      ]
     },
     "metadata": {},
     "output_type": "display_data"
    },
    {
     "data": {
      "text/plain": [
       "<AxesSubplot: title={'center': 'Near_Location'}>"
      ]
     },
     "execution_count": 19,
     "metadata": {},
     "output_type": "execute_result"
    },
    {
     "data": {
      "image/png": "[encoded data removed]",
      "text/plain": [
       "<Figure size 500x300 with 1 Axes>"
      ]
     },
     "metadata": {},
     "output_type": "display_data"
    },
    {
     "data": {
      "text/plain": [
       "<AxesSubplot: title={'center': 'Partner'}>"
      ]
     },
     "execution_count": 19,
     "metadata": {},
     "output_type": "execute_result"
    },
    {
     "data": {
      "image/png": "[encoded data removed]",
      "text/plain": [
       "<Figure size 500x300 with 1 Axes>"
      ]
     },
     "metadata": {},
     "output_type": "display_data"
    },
    {
     "data": {
      "text/plain": [
       "<AxesSubplot: title={'center': 'Promo_friends'}>"
      ]
     },
     "execution_count": 19,
     "metadata": {},
     "output_type": "execute_result"
    },
    {
     "data": {
      "image/png": "[encoded data removed]",
      "text/plain": [
       "<Figure size 500x300 with 1 Axes>"
      ]
     },
     "metadata": {},
     "output_type": "display_data"
    },
    {
     "data": {
      "text/plain": [
       "<AxesSubplot: title={'center': 'Phone'}>"
      ]
     },
     "execution_count": 19,
     "metadata": {},
     "output_type": "execute_result"
    },
    {
     "data": {
      "image/png": "[encoded data removed]",
      "text/plain": [
       "<Figure size 500x300 with 1 Axes>"
      ]
     },
     "metadata": {},
     "output_type": "display_data"
    },
    {
     "data": {
      "text/plain": [
       "<AxesSubplot: title={'center': 'Contract_period'}>"
      ]
     },
     "execution_count": 19,
     "metadata": {},
     "output_type": "execute_result"
    },
    {
     "data": {
      "image/png": "[encoded data removed]",
      "text/plain": [
       "<Figure size 500x300 with 1 Axes>"
      ]
     },
     "metadata": {},
     "output_type": "display_data"
    },
    {
     "data": {
      "text/plain": [
       "<AxesSubplot: title={'center': 'Group_visits'}>"
      ]
     },
     "execution_count": 19,
     "metadata": {},
     "output_type": "execute_result"
    },
    {
     "data": {
      "image/png": "[encoded data removed]",
      "text/plain": [
       "<Figure size 500x300 with 1 Axes>"
      ]
     },
     "metadata": {},
     "output_type": "display_data"
    },
    {
     "data": {
      "text/plain": [
       "<AxesSubplot: title={'center': 'Age'}>"
      ]
     },
     "execution_count": 19,
     "metadata": {},
     "output_type": "execute_result"
    },
    {
     "data": {
      "image/png": "[encoded data removed]",
      "text/plain": [
       "<Figure size 500x300 with 1 Axes>"
      ]
     },
     "metadata": {},
     "output_type": "display_data"
    },
    {
     "data": {
      "text/plain": [
       "<AxesSubplot: title={'center': 'Avg_additional_charges_total'}>"
      ]
     },
     "execution_count": 19,
     "metadata": {},
     "output_type": "execute_result"
    },
    {
     "data": {
      "image/png": "[encoded data removed]",
      "text/plain": [
       "<Figure size 500x300 with 1 Axes>"
      ]
     },
     "metadata": {},
     "output_type": "display_data"
    },
    {
     "data": {
      "text/plain": [
       "<AxesSubplot: title={'center': 'Month_to_end_contract'}>"
      ]
     },
     "execution_count": 19,
     "metadata": {},
     "output_type": "execute_result"
    },
    {
     "data": {
      "image/png": "[encoded data removed]",
      "text/plain": [
       "<Figure size 500x300 with 1 Axes>"
      ]
     },
     "metadata": {},
     "output_type": "display_data"
    },
    {
     "data": {
      "text/plain": [
       "<AxesSubplot: title={'center': 'Lifetime'}>"
      ]
     },
     "execution_count": 19,
     "metadata": {},
     "output_type": "execute_result"
    },
    {
     "data": {
      "image/png": "[encoded data removed]",
      "text/plain": [
       "<Figure size 500x300 with 1 Axes>"
      ]
     },
     "metadata": {},
     "output_type": "display_data"
    },
    {
     "data": {
      "text/plain": [
       "<AxesSubplot: title={'center': 'Avg_class_frequency_total'}>"
      ]
     },
     "execution_count": 19,
     "metadata": {},
     "output_type": "execute_result"
    },
    {
     "data": {
      "image/png": "[encoded data removed]",
      "text/plain": [
       "<Figure size 500x300 with 1 Axes>"
      ]
     },
     "metadata": {},
     "output_type": "display_data"
    },
    {
     "data": {
      "text/plain": [
       "<AxesSubplot: title={'center': 'Avg_class_frequency_current_month'}>"
      ]
     },
     "execution_count": 19,
     "metadata": {},
     "output_type": "execute_result"
    },
    {
     "data": {
      "image/png": "[encoded data removed]",
      "text/plain": [
       "<Figure size 500x300 with 1 Axes>"
      ]
     },
     "metadata": {},
     "output_type": "display_data"
    },
    {
     "data": {
      "text/plain": [
       "<AxesSubplot: title={'center': 'Churn'}>"
      ]
     },
     "execution_count": 19,
     "metadata": {},
     "output_type": "execute_result"
    },
    {
     "data": {
      "image/png": "[encoded data removed]",
      "text/plain": [
       "<Figure size 500x300 with 1 Axes>"
      ]
     },
     "metadata": {},
     "output_type": "display_data"
    }
   ],
   "source": [
    "# В цикле построим графики для всех признаков с разбиением на кластеры\n",
    "for col in gym_grouped_by_cluster.columns:\n",
    "    gym_grouped_by_cluster.plot.bar(y=col, figsize = (5,3), title=col, grid=True)\n",
    "    plt.show()"
   ]
  },
  {
   "cell_type": "markdown",
   "metadata": {},
   "source": [
    "### Комментарий\n",
    "Визуализация показателей кластеров определила признаки присущие в основном клиентам попавшим в отток. Разберем подробнее для каждого кластера долю оттока, после чего сможем сделать более конкретные выводы."
   ]
  },
  {
   "cell_type": "code",
   "execution_count": 20,
   "metadata": {},
   "outputs": [
    {
     "data": {
      "text/html": [
       "<div>\n",
       "<style scoped>\n",
       "    .dataframe tbody tr th:only-of-type {\n",
       "        vertical-align: middle;\n",
       "    }\n",
       "\n",
       "    .dataframe tbody tr th {\n",
       "        vertical-align: top;\n",
       "    }\n",
       "\n",
       "    .dataframe thead th {\n",
       "        text-align: right;\n",
       "    }\n",
       "</style>\n",
       "<table border=\"1\" class=\"dataframe\">\n",
       "  <thead>\n",
       "    <tr style=\"text-align: right;\">\n",
       "      <th></th>\n",
       "      <th>Количество клиентов</th>\n",
       "      <th>Отток</th>\n",
       "      <th>Доля оттока</th>\n",
       "    </tr>\n",
       "    <tr>\n",
       "      <th>cluster</th>\n",
       "      <th></th>\n",
       "      <th></th>\n",
       "      <th></th>\n",
       "    </tr>\n",
       "  </thead>\n",
       "  <tbody>\n",
       "    <tr>\n",
       "      <th>1</th>\n",
       "      <td>1479</td>\n",
       "      <td>828</td>\n",
       "      <td>0.559838</td>\n",
       "    </tr>\n",
       "    <tr>\n",
       "      <th>0</th>\n",
       "      <td>386</td>\n",
       "      <td>103</td>\n",
       "      <td>0.266839</td>\n",
       "    </tr>\n",
       "    <tr>\n",
       "      <th>2</th>\n",
       "      <td>1057</td>\n",
       "      <td>98</td>\n",
       "      <td>0.092715</td>\n",
       "    </tr>\n",
       "    <tr>\n",
       "      <th>3</th>\n",
       "      <td>1078</td>\n",
       "      <td>32</td>\n",
       "      <td>0.029685</td>\n",
       "    </tr>\n",
       "  </tbody>\n",
       "</table>\n",
       "</div>"
      ],
      "text/plain": [
       "         Количество клиентов  Отток  Доля оттока\n",
       "cluster                                         \n",
       "1                       1479    828     0.559838\n",
       "0                        386    103     0.266839\n",
       "2                       1057     98     0.092715\n",
       "3                       1078     32     0.029685"
      ]
     },
     "execution_count": 20,
     "metadata": {},
     "output_type": "execute_result"
    }
   ],
   "source": [
    "# С помощью сводной таблицы высчитаем общее количество клиентов, отток и его долю\n",
    "customer_churn = gym.pivot_table(index= 'cluster', values= 'Churn', aggfunc=['count', 'sum', 'mean'])\n",
    "customer_churn.columns = ['Количество клиентов', 'Отток', 'Доля оттока']\n",
    "customer_churn = customer_churn.sort_values(by='Доля оттока', ascending=False)\n",
    "customer_churn"
   ]
  },
  {
   "cell_type": "code",
   "execution_count": 21,
   "metadata": {},
   "outputs": [
    {
     "data": {
      "image/png": "[encoded data removed]",
      "text/plain": [
       "<Figure size 500x300 with 1 Axes>"
      ]
     },
     "metadata": {},
     "output_type": "display_data"
    }
   ],
   "source": [
    "customer_churn['Доля оттока'].plot.bar(\n",
    "    figsize = (5, 3), grid=True, title='Отток клиентов по кластерам')\n",
    "plt.xlabel('Кластер')\n",
    "plt.ylabel('Доля оттока');"
   ]
  },
  {
   "cell_type": "markdown",
   "metadata": {},
   "source": [
    "### Комментарий\n",
    "Кластер под номером 1 показал самые высокие показатели оттока. Признаки, присущие этой группе клиентов будем рассмаривать как тревожные, предупреждающие о возможном скором уходе клиента. Признаки 3го кластера наоборот будем рассматривать, как присущие лояльным клиентам."
   ]
  },
  {
   "cell_type": "markdown",
   "metadata": {},
   "source": [
    "### Вывод\n",
    "\n",
    "Несмотря на то, что разбивка была осуществлена на 4 кластера, в первую очередь нас интересует группа клиентов, проявившая себя как самая склонная к уходу. Таким образом опишем признаки, присущие в основном клиентам, попавшим в первый кластер:\n",
    "- Клиенты этой группы живут дальше всех от фитнес-центра;\n",
    "- Скорее всего не являлись участниками акций и промо-компаний;\n",
    "- Заключают самые краткосрочные контракты;\n",
    "- В основном не посещают групповые занятия;\n",
    "- Имеют меньше всего времени до окончания действия контракта;\n",
    "- Первое посещение было позже остальных групп клиентов;\n",
    "- Меньше остальных посещают фитнес-центр.\n",
    "\n",
    "Группа клиентов, попавших в третий кластер, проявившая себя как самая лояльная, закономерно имеет признаки, обратные описанным выше.\n",
    "\n",
    "Сопоставив полученные признаки с объективной реальностью и исходя из принципов логики, можно сказать, что модель кластеризации сработала хорошо. В целом они подтверждают гипотезы о признаках, присущих уходящим клиентам, выдвинутые на этапе разведочного анализа данных."
   ]
  },
  {
   "cell_type": "markdown",
   "metadata": {},
   "source": [
    "## Общий вывод и рекомендации бизнесу\n",
    "\n",
    "Проводя данное исследование, мы основывались на результатах полученных путем проведения анализа человеком и машиной. Сопоставление реузльтатов проведенных на этапе исследовательского анализа данных аналитиком и результатов кластеризации клиентов, полученных благодаря алгоритму KMeans, не выявило значительной разницы, что может говорить о точности выводов и высоком качестве проведенного исследования.\n",
    "\n",
    "Регулярно анализируя клиентов фитнес-центра, можно разделять их на лояльных и склонных к уходу.\n",
    "\n",
    "<b>Признаки, присущие лояльным клиентам:</b>\n",
    "1. Проживание рядом с клубом;\n",
    "2. Партнерская программа;\n",
    "3. Посещение по акциям и участие в промо-компаниях;\n",
    "4. Заключение контракта на длительный срок;\n",
    "5. Посещение групповых занятий;\n",
    "6. В настоящий момент имеют длительный срок до окочания контракта;\n",
    "7. Стабильно посещают центр не реже двух раз в неделю.\n",
    "\n",
    "<b>Признаки, присущие клиентам, склонным к уходу:</b>\n",
    "1. Живут дальше всех от клуба;\n",
    "2. Не являлись участниками акций и промо-компаний;\n",
    "3. Краткосрочные контракты;\n",
    "4. Не посещают групповые занятия;\n",
    "5. Действие контракта в ближайшее время заканчивается;\n",
    "6. Реже остальных посещают фитнес-центр.\n",
    "\n",
    "<b>При подобном разделении клиентов по признакам можно дать следующие рекомендации:</b>\n",
    "1. Перераспределение расходов на удержание клиентов, снизив их для клиентов, характеризуемых как лояльных и увеличив их на клиентов, склонных к уходу;\n",
    "2. Увеличение партнерских программ с компаниями, для привлечения лояльных клиентов на основе индивидуальных предложений;\n",
    "3. Увеличение пробного периода для участников акции \"Приведи друга\", для более глубокого вовлечения и привязки клиента;\n",
    "4. Отслеживание клиентов у которых до окончания срока действия контракта остается не более двух месяцев. Предложение различных скидок и бонусов продлевающим или перезаключающим контракт;\n",
    "5. Отслеживание клиентов, теряющих интерес к занятиям и все реже посещающим фитнес-центр. Привлечение таких клиентов особыми условиями и скидками на инные услуги.\n",
    "6. Пропорциональное снижение стоимости контракта при заключении его на более длительный срок."
   ]
  }
 ],
 "metadata": {
  "ExecuteTimeLog": [
   {
    "duration": 529,
    "start_time": "2021-11-25T12:09:29.221Z"
   },
   {
    "duration": 24,
    "start_time": "2021-11-25T12:09:52.938Z"
   },
   {
    "duration": 24,
    "start_time": "2021-11-25T12:09:56.026Z"
   },
   {
    "duration": 282,
    "start_time": "2021-11-25T12:10:53.957Z"
   },
   {
    "duration": 234,
    "start_time": "2021-11-25T12:11:02.999Z"
   },
   {
    "duration": 224,
    "start_time": "2021-11-25T12:13:04.186Z"
   },
   {
    "duration": 36,
    "start_time": "2021-11-25T12:13:13.110Z"
   },
   {
    "duration": 11,
    "start_time": "2021-11-25T12:13:13.749Z"
   },
   {
    "duration": 16,
    "start_time": "2021-11-25T12:13:32.037Z"
   },
   {
    "duration": 44,
    "start_time": "2021-11-25T12:15:44.967Z"
   },
   {
    "duration": 30,
    "start_time": "2021-11-25T12:16:00.568Z"
   },
   {
    "duration": 42,
    "start_time": "2021-11-25T12:16:01.652Z"
   },
   {
    "duration": 69,
    "start_time": "2021-11-25T12:46:25.529Z"
   },
   {
    "duration": 14,
    "start_time": "2021-11-25T12:47:41.121Z"
   },
   {
    "duration": 14,
    "start_time": "2021-11-25T12:49:46.296Z"
   },
   {
    "duration": 6,
    "start_time": "2021-11-25T12:50:40.730Z"
   },
   {
    "duration": 1624,
    "start_time": "2021-11-25T13:04:07.930Z"
   },
   {
    "duration": 1345,
    "start_time": "2021-11-25T13:04:21.828Z"
   },
   {
    "duration": 1355,
    "start_time": "2021-11-25T13:04:57.532Z"
   },
   {
    "duration": 1380,
    "start_time": "2021-11-25T13:05:21.984Z"
   },
   {
    "duration": 746,
    "start_time": "2021-11-25T13:05:52.047Z"
   },
   {
    "duration": 326,
    "start_time": "2021-11-25T13:06:31.107Z"
   },
   {
    "duration": 377,
    "start_time": "2021-11-25T13:06:45.174Z"
   },
   {
    "duration": 42843,
    "start_time": "2021-11-25T13:07:01.238Z"
   },
   {
    "duration": 392,
    "start_time": "2021-11-25T13:13:13.599Z"
   },
   {
    "duration": 522,
    "start_time": "2021-11-25T13:14:25.657Z"
   },
   {
    "duration": 4206,
    "start_time": "2021-11-25T13:19:32.181Z"
   },
   {
    "duration": 234,
    "start_time": "2021-11-25T13:21:38.343Z"
   },
   {
    "duration": 227,
    "start_time": "2021-11-25T13:23:33.657Z"
   },
   {
    "duration": 244,
    "start_time": "2021-11-25T13:24:20.192Z"
   },
   {
    "duration": 260,
    "start_time": "2021-11-25T13:29:39.837Z"
   },
   {
    "duration": 241,
    "start_time": "2021-11-25T13:30:04.688Z"
   },
   {
    "duration": 38761,
    "start_time": "2021-11-25T13:30:57.462Z"
   },
   {
    "duration": 232,
    "start_time": "2021-11-25T13:32:03.373Z"
   },
   {
    "duration": 237,
    "start_time": "2021-11-25T13:32:15.553Z"
   },
   {
    "duration": 8899,
    "start_time": "2021-11-25T13:32:42.433Z"
   },
   {
    "duration": 170,
    "start_time": "2021-11-25T13:33:05.267Z"
   },
   {
    "duration": 321,
    "start_time": "2021-11-25T13:34:10.717Z"
   },
   {
    "duration": 73,
    "start_time": "2021-11-25T13:34:23.239Z"
   },
   {
    "duration": 3612,
    "start_time": "2021-11-25T13:34:30.030Z"
   },
   {
    "duration": 2372,
    "start_time": "2021-11-25T13:34:38.271Z"
   },
   {
    "duration": 2225,
    "start_time": "2021-11-25T13:34:53.100Z"
   },
   {
    "duration": 451,
    "start_time": "2021-11-25T13:36:19.814Z"
   },
   {
    "duration": 2389,
    "start_time": "2021-11-25T13:36:40.671Z"
   },
   {
    "duration": 2949,
    "start_time": "2021-11-25T13:36:55.657Z"
   },
   {
    "duration": 104,
    "start_time": "2021-11-25T13:39:22.727Z"
   },
   {
    "duration": 79,
    "start_time": "2021-11-25T13:39:33.614Z"
   },
   {
    "duration": 3,
    "start_time": "2021-11-25T13:39:49.301Z"
   },
   {
    "duration": 2314,
    "start_time": "2021-11-25T13:40:18.089Z"
   },
   {
    "duration": 2356,
    "start_time": "2021-11-25T13:40:39.533Z"
   },
   {
    "duration": 1928,
    "start_time": "2021-11-26T06:21:56.290Z"
   },
   {
    "duration": 42,
    "start_time": "2021-11-26T06:21:58.221Z"
   },
   {
    "duration": 78,
    "start_time": "2021-11-26T06:21:58.265Z"
   },
   {
    "duration": 21,
    "start_time": "2021-11-26T06:21:58.346Z"
   },
   {
    "duration": 24,
    "start_time": "2021-11-26T06:21:58.369Z"
   },
   {
    "duration": 329,
    "start_time": "2021-11-26T06:21:58.396Z"
   },
   {
    "duration": 4,
    "start_time": "2021-11-26T06:21:58.728Z"
   },
   {
    "duration": 4156,
    "start_time": "2021-11-26T06:21:58.735Z"
   },
   {
    "duration": 4279,
    "start_time": "2021-11-26T06:22:02.894Z"
   },
   {
    "duration": 96,
    "start_time": "2021-11-26T06:42:41.255Z"
   },
   {
    "duration": 5682,
    "start_time": "2021-11-26T06:43:31.018Z"
   },
   {
    "duration": 5585,
    "start_time": "2021-11-26T06:46:42.234Z"
   },
   {
    "duration": 6598,
    "start_time": "2021-11-26T06:48:54.886Z"
   },
   {
    "duration": 6128,
    "start_time": "2021-11-26T07:09:10.522Z"
   },
   {
    "duration": 1777,
    "start_time": "2021-11-26T07:14:07.301Z"
   },
   {
    "duration": 1871,
    "start_time": "2021-11-26T07:14:18.537Z"
   },
   {
    "duration": 1612,
    "start_time": "2021-11-26T07:14:46.520Z"
   },
   {
    "duration": 709,
    "start_time": "2021-11-26T07:15:10.486Z"
   },
   {
    "duration": 553,
    "start_time": "2021-11-26T07:16:35.142Z"
   },
   {
    "duration": 2104,
    "start_time": "2021-11-26T07:16:45.309Z"
   },
   {
    "duration": 1981,
    "start_time": "2021-11-26T07:17:05.652Z"
   },
   {
    "duration": 1718,
    "start_time": "2021-11-26T07:18:13.702Z"
   },
   {
    "duration": 1809,
    "start_time": "2021-11-26T07:21:35.396Z"
   },
   {
    "duration": 3037,
    "start_time": "2021-11-26T07:22:03.817Z"
   },
   {
    "duration": 1792,
    "start_time": "2021-11-26T07:22:15.208Z"
   },
   {
    "duration": 1725,
    "start_time": "2021-11-26T07:22:26.377Z"
   },
   {
    "duration": 27,
    "start_time": "2021-11-26T07:22:52.408Z"
   },
   {
    "duration": 1930,
    "start_time": "2021-11-26T07:23:28.379Z"
   },
   {
    "duration": 15,
    "start_time": "2021-11-26T07:27:16.510Z"
   },
   {
    "duration": 6218,
    "start_time": "2021-11-26T07:27:20.912Z"
   },
   {
    "duration": 6441,
    "start_time": "2021-11-26T07:28:24.826Z"
   },
   {
    "duration": 6325,
    "start_time": "2021-11-26T07:28:37.898Z"
   },
   {
    "duration": 7,
    "start_time": "2021-11-26T07:32:16.271Z"
   },
   {
    "duration": 1081,
    "start_time": "2021-11-26T07:32:17.452Z"
   },
   {
    "duration": 57,
    "start_time": "2021-11-26T07:33:19.466Z"
   },
   {
    "duration": 9,
    "start_time": "2021-11-26T07:33:27.806Z"
   },
   {
    "duration": 72,
    "start_time": "2021-11-26T07:35:17.420Z"
   },
   {
    "duration": 10,
    "start_time": "2021-11-26T07:57:31.382Z"
   },
   {
    "duration": 16,
    "start_time": "2021-11-26T07:58:10.870Z"
   },
   {
    "duration": 181,
    "start_time": "2021-11-26T08:07:53.694Z"
   },
   {
    "duration": 759,
    "start_time": "2021-11-26T10:18:02.993Z"
   },
   {
    "duration": 5,
    "start_time": "2021-11-26T10:18:15.120Z"
   },
   {
    "duration": 171,
    "start_time": "2021-11-26T10:21:10.909Z"
   },
   {
    "duration": 203,
    "start_time": "2021-11-26T10:21:23.267Z"
   },
   {
    "duration": 447,
    "start_time": "2021-11-26T10:23:07.596Z"
   },
   {
    "duration": 288,
    "start_time": "2021-11-26T10:27:49.464Z"
   },
   {
    "duration": 5,
    "start_time": "2021-11-26T10:27:58.399Z"
   },
   {
    "duration": 67,
    "start_time": "2021-11-26T10:28:06.523Z"
   },
   {
    "duration": 5,
    "start_time": "2021-11-26T10:35:24.419Z"
   },
   {
    "duration": 725,
    "start_time": "2021-11-26T10:38:47.239Z"
   },
   {
    "duration": 491,
    "start_time": "2021-11-26T10:39:44.712Z"
   },
   {
    "duration": 4,
    "start_time": "2021-11-26T10:40:16.231Z"
   },
   {
    "duration": 110,
    "start_time": "2021-11-26T10:40:16.862Z"
   },
   {
    "duration": 120,
    "start_time": "2021-11-26T10:40:45.149Z"
   },
   {
    "duration": 161,
    "start_time": "2021-11-26T10:41:13.909Z"
   },
   {
    "duration": 419,
    "start_time": "2021-11-26T10:41:30.083Z"
   },
   {
    "duration": 88,
    "start_time": "2021-11-26T10:41:44.392Z"
   },
   {
    "duration": 139,
    "start_time": "2021-11-26T10:41:56.241Z"
   },
   {
    "duration": 291,
    "start_time": "2021-11-26T10:43:31.025Z"
   },
   {
    "duration": 300,
    "start_time": "2021-11-26T10:44:13.520Z"
   },
   {
    "duration": 288,
    "start_time": "2021-11-26T10:44:39.829Z"
   },
   {
    "duration": 4,
    "start_time": "2021-11-26T10:50:48.048Z"
   },
   {
    "duration": 303,
    "start_time": "2021-11-26T10:50:48.724Z"
   },
   {
    "duration": 4,
    "start_time": "2021-11-26T10:51:07.141Z"
   },
   {
    "duration": 56,
    "start_time": "2021-11-26T10:51:16.843Z"
   },
   {
    "duration": 54,
    "start_time": "2021-11-26T10:51:26.285Z"
   },
   {
    "duration": 61,
    "start_time": "2021-11-26T10:52:06.147Z"
   },
   {
    "duration": 57,
    "start_time": "2021-11-26T10:52:12.897Z"
   },
   {
    "duration": 60,
    "start_time": "2021-11-26T10:52:15.643Z"
   },
   {
    "duration": 276,
    "start_time": "2021-11-26T10:52:34.355Z"
   },
   {
    "duration": 256,
    "start_time": "2021-11-26T10:52:48.461Z"
   },
   {
    "duration": 260,
    "start_time": "2021-11-26T10:53:08.361Z"
   },
   {
    "duration": 9,
    "start_time": "2021-11-26T10:57:29.573Z"
   },
   {
    "duration": 8,
    "start_time": "2021-11-26T11:00:34.430Z"
   },
   {
    "duration": 6491,
    "start_time": "2021-11-26T11:01:26.506Z"
   },
   {
    "duration": 6946,
    "start_time": "2021-11-26T11:01:55.113Z"
   },
   {
    "duration": 6495,
    "start_time": "2021-11-26T11:02:28.955Z"
   },
   {
    "duration": 824,
    "start_time": "2021-11-26T12:18:14.343Z"
   },
   {
    "duration": 2691,
    "start_time": "2021-11-26T12:22:19.712Z"
   },
   {
    "duration": 55,
    "start_time": "2021-11-26T12:22:22.352Z"
   },
   {
    "duration": 54,
    "start_time": "2021-11-26T12:22:22.355Z"
   },
   {
    "duration": 53,
    "start_time": "2021-11-26T12:22:22.358Z"
   },
   {
    "duration": 53,
    "start_time": "2021-11-26T12:22:22.360Z"
   },
   {
    "duration": 49,
    "start_time": "2021-11-26T12:22:22.366Z"
   },
   {
    "duration": 48,
    "start_time": "2021-11-26T12:22:22.369Z"
   },
   {
    "duration": 47,
    "start_time": "2021-11-26T12:22:22.372Z"
   },
   {
    "duration": 45,
    "start_time": "2021-11-26T12:22:22.376Z"
   },
   {
    "duration": 44,
    "start_time": "2021-11-26T12:22:22.379Z"
   },
   {
    "duration": 43,
    "start_time": "2021-11-26T12:22:22.382Z"
   },
   {
    "duration": 43,
    "start_time": "2021-11-26T12:22:22.384Z"
   },
   {
    "duration": 42,
    "start_time": "2021-11-26T12:22:22.387Z"
   },
   {
    "duration": 288,
    "start_time": "2021-11-26T12:22:40.641Z"
   },
   {
    "duration": 245,
    "start_time": "2021-11-26T12:22:40.687Z"
   },
   {
    "duration": 244,
    "start_time": "2021-11-26T12:22:40.689Z"
   },
   {
    "duration": 242,
    "start_time": "2021-11-26T12:22:40.692Z"
   },
   {
    "duration": 236,
    "start_time": "2021-11-26T12:22:40.700Z"
   },
   {
    "duration": 235,
    "start_time": "2021-11-26T12:22:40.702Z"
   },
   {
    "duration": 235,
    "start_time": "2021-11-26T12:22:40.704Z"
   },
   {
    "duration": 233,
    "start_time": "2021-11-26T12:22:40.707Z"
   },
   {
    "duration": 233,
    "start_time": "2021-11-26T12:22:40.709Z"
   },
   {
    "duration": 231,
    "start_time": "2021-11-26T12:22:40.712Z"
   },
   {
    "duration": 231,
    "start_time": "2021-11-26T12:22:40.714Z"
   },
   {
    "duration": 230,
    "start_time": "2021-11-26T12:22:40.716Z"
   },
   {
    "duration": 229,
    "start_time": "2021-11-26T12:22:40.718Z"
   },
   {
    "duration": 303,
    "start_time": "2021-11-26T12:23:45.711Z"
   },
   {
    "duration": 204,
    "start_time": "2021-11-26T12:23:45.813Z"
   },
   {
    "duration": 204,
    "start_time": "2021-11-26T12:23:45.815Z"
   },
   {
    "duration": 196,
    "start_time": "2021-11-26T12:23:45.824Z"
   },
   {
    "duration": 194,
    "start_time": "2021-11-26T12:23:45.828Z"
   },
   {
    "duration": 194,
    "start_time": "2021-11-26T12:23:45.830Z"
   },
   {
    "duration": 192,
    "start_time": "2021-11-26T12:23:45.833Z"
   },
   {
    "duration": 191,
    "start_time": "2021-11-26T12:23:45.836Z"
   },
   {
    "duration": 190,
    "start_time": "2021-11-26T12:23:45.838Z"
   },
   {
    "duration": 189,
    "start_time": "2021-11-26T12:23:45.840Z"
   },
   {
    "duration": 189,
    "start_time": "2021-11-26T12:23:45.842Z"
   },
   {
    "duration": 188,
    "start_time": "2021-11-26T12:23:45.845Z"
   },
   {
    "duration": 187,
    "start_time": "2021-11-26T12:23:45.847Z"
   },
   {
    "duration": 92,
    "start_time": "2021-11-26T12:24:33.040Z"
   },
   {
    "duration": 296,
    "start_time": "2021-11-26T12:24:32.839Z"
   },
   {
    "duration": 295,
    "start_time": "2021-11-26T12:24:32.842Z"
   },
   {
    "duration": 294,
    "start_time": "2021-11-26T12:24:32.844Z"
   },
   {
    "duration": 294,
    "start_time": "2021-11-26T12:24:32.846Z"
   },
   {
    "duration": 288,
    "start_time": "2021-11-26T12:24:32.853Z"
   },
   {
    "duration": 287,
    "start_time": "2021-11-26T12:24:32.856Z"
   },
   {
    "duration": 286,
    "start_time": "2021-11-26T12:24:32.858Z"
   },
   {
    "duration": 285,
    "start_time": "2021-11-26T12:24:32.860Z"
   },
   {
    "duration": 285,
    "start_time": "2021-11-26T12:24:32.862Z"
   },
   {
    "duration": 286,
    "start_time": "2021-11-26T12:24:32.864Z"
   },
   {
    "duration": 286,
    "start_time": "2021-11-26T12:24:32.866Z"
   },
   {
    "duration": 283,
    "start_time": "2021-11-26T12:24:32.870Z"
   },
   {
    "duration": 6,
    "start_time": "2021-11-26T12:24:48.370Z"
   },
   {
    "duration": 6,
    "start_time": "2021-11-26T12:24:53.028Z"
   },
   {
    "duration": 48,
    "start_time": "2021-11-26T12:24:53.037Z"
   },
   {
    "duration": 87,
    "start_time": "2021-11-26T12:24:53.088Z"
   },
   {
    "duration": 8,
    "start_time": "2021-11-26T12:24:53.178Z"
   },
   {
    "duration": 27,
    "start_time": "2021-11-26T12:24:53.188Z"
   },
   {
    "duration": 6078,
    "start_time": "2021-11-26T12:24:53.217Z"
   },
   {
    "duration": 2245,
    "start_time": "2021-11-26T12:24:59.298Z"
   },
   {
    "duration": 5,
    "start_time": "2021-11-26T12:25:01.545Z"
   },
   {
    "duration": 20,
    "start_time": "2021-11-26T12:25:01.553Z"
   },
   {
    "duration": 12,
    "start_time": "2021-11-26T12:25:01.576Z"
   },
   {
    "duration": 326,
    "start_time": "2021-11-26T12:25:01.591Z"
   },
   {
    "duration": 950,
    "start_time": "2021-11-26T12:25:01.920Z"
   },
   {
    "duration": 1105,
    "start_time": "2021-11-28T08:25:24.256Z"
   },
   {
    "duration": 33,
    "start_time": "2021-11-28T08:25:25.362Z"
   },
   {
    "duration": 45,
    "start_time": "2021-11-28T08:25:25.396Z"
   },
   {
    "duration": 7,
    "start_time": "2021-11-28T08:25:25.443Z"
   },
   {
    "duration": 28,
    "start_time": "2021-11-28T08:25:25.451Z"
   },
   {
    "duration": 3331,
    "start_time": "2021-11-28T08:25:25.481Z"
   },
   {
    "duration": 1088,
    "start_time": "2021-11-28T08:25:28.814Z"
   },
   {
    "duration": 5,
    "start_time": "2021-11-28T08:25:29.904Z"
   },
   {
    "duration": 6,
    "start_time": "2021-11-28T08:25:29.911Z"
   },
   {
    "duration": 4,
    "start_time": "2021-11-28T08:25:29.918Z"
   },
   {
    "duration": 398,
    "start_time": "2021-11-28T08:25:29.923Z"
   },
   {
    "duration": -108,
    "start_time": "2021-11-28T08:25:30.431Z"
   },
   {
    "duration": -109,
    "start_time": "2021-11-28T08:25:30.433Z"
   },
   {
    "duration": 3,
    "start_time": "2021-11-28T08:26:11.381Z"
   },
   {
    "duration": 4,
    "start_time": "2021-11-28T08:26:15.331Z"
   },
   {
    "duration": 54,
    "start_time": "2021-11-28T08:26:15.336Z"
   },
   {
    "duration": 43,
    "start_time": "2021-11-28T08:26:15.391Z"
   },
   {
    "duration": 4,
    "start_time": "2021-11-28T08:26:15.436Z"
   },
   {
    "duration": 29,
    "start_time": "2021-11-28T08:26:15.441Z"
   },
   {
    "duration": 3176,
    "start_time": "2021-11-28T08:26:15.472Z"
   },
   {
    "duration": 1042,
    "start_time": "2021-11-28T08:26:18.650Z"
   },
   {
    "duration": 4,
    "start_time": "2021-11-28T08:26:19.693Z"
   },
   {
    "duration": 7,
    "start_time": "2021-11-28T08:26:19.698Z"
   },
   {
    "duration": 4,
    "start_time": "2021-11-28T08:26:19.707Z"
   },
   {
    "duration": 205,
    "start_time": "2021-11-28T08:26:19.712Z"
   },
   {
    "duration": 482,
    "start_time": "2021-11-28T08:26:19.918Z"
   },
   {
    "duration": 73001,
    "start_time": "2021-11-28T08:26:20.401Z"
   },
   {
    "duration": 4,
    "start_time": "2021-11-28T09:14:49.070Z"
   },
   {
    "duration": 3,
    "start_time": "2021-11-28T09:17:39.887Z"
   },
   {
    "duration": 578,
    "start_time": "2021-11-28T09:20:59.704Z"
   },
   {
    "duration": 225,
    "start_time": "2021-11-28T09:21:17.275Z"
   },
   {
    "duration": 447,
    "start_time": "2021-11-28T09:21:28.416Z"
   },
   {
    "duration": 602,
    "start_time": "2021-11-28T09:24:28.148Z"
   },
   {
    "duration": 633,
    "start_time": "2021-11-28T09:24:35.303Z"
   },
   {
    "duration": 46,
    "start_time": "2021-11-28T09:48:50.485Z"
   },
   {
    "duration": 1310,
    "start_time": "2021-11-28T09:50:33.686Z"
   },
   {
    "duration": 3,
    "start_time": "2021-11-28T09:51:26.663Z"
   },
   {
    "duration": 4,
    "start_time": "2021-11-28T09:51:41.135Z"
   },
   {
    "duration": 235,
    "start_time": "2021-11-28T09:51:52.694Z"
   },
   {
    "duration": 4,
    "start_time": "2021-11-28T09:54:38.726Z"
   },
   {
    "duration": 17,
    "start_time": "2021-11-28T09:54:44.124Z"
   },
   {
    "duration": 8,
    "start_time": "2021-11-28T09:56:46.039Z"
   },
   {
    "duration": 16,
    "start_time": "2021-11-28T09:56:51.957Z"
   },
   {
    "duration": 1702,
    "start_time": "2021-11-28T14:49:27.234Z"
   },
   {
    "duration": 45,
    "start_time": "2021-11-28T14:49:28.939Z"
   },
   {
    "duration": 90,
    "start_time": "2021-11-28T14:49:28.987Z"
   },
   {
    "duration": 8,
    "start_time": "2021-11-28T14:49:29.079Z"
   },
   {
    "duration": 24,
    "start_time": "2021-11-28T14:49:29.090Z"
   },
   {
    "duration": 6472,
    "start_time": "2021-11-28T14:49:29.117Z"
   },
   {
    "duration": 1921,
    "start_time": "2021-11-28T14:49:35.592Z"
   },
   {
    "duration": 6,
    "start_time": "2021-11-28T14:49:37.515Z"
   },
   {
    "duration": 14,
    "start_time": "2021-11-28T14:49:37.524Z"
   },
   {
    "duration": 29,
    "start_time": "2021-11-28T14:49:37.540Z"
   },
   {
    "duration": 248,
    "start_time": "2021-11-28T14:49:37.572Z"
   },
   {
    "duration": 808,
    "start_time": "2021-11-28T14:49:37.823Z"
   },
   {
    "duration": 1123,
    "start_time": "2021-11-28T14:49:38.634Z"
   },
   {
    "duration": 2020,
    "start_time": "2021-11-28T14:49:39.760Z"
   },
   {
    "duration": 30,
    "start_time": "2021-11-28T14:49:41.783Z"
   },
   {
    "duration": 2859,
    "start_time": "2021-11-28T14:58:00.414Z"
   },
   {
    "duration": 310,
    "start_time": "2021-11-28T15:16:44.062Z"
   },
   {
    "duration": 461,
    "start_time": "2021-11-28T15:17:10.239Z"
   },
   {
    "duration": 215215,
    "start_time": "2021-11-28T15:17:44.805Z"
   },
   {
    "duration": 679,
    "start_time": "2021-11-28T15:22:34.710Z"
   },
   {
    "duration": 485,
    "start_time": "2021-11-28T15:24:12.875Z"
   },
   {
    "duration": 486,
    "start_time": "2021-11-28T15:24:30.299Z"
   },
   {
    "duration": 1574,
    "start_time": "2021-11-28T17:37:39.465Z"
   },
   {
    "duration": 49,
    "start_time": "2021-11-28T17:37:41.042Z"
   },
   {
    "duration": 90,
    "start_time": "2021-11-28T17:37:41.094Z"
   },
   {
    "duration": 10,
    "start_time": "2021-11-28T17:37:41.187Z"
   },
   {
    "duration": 69,
    "start_time": "2021-11-28T17:37:41.200Z"
   },
   {
    "duration": 7772,
    "start_time": "2021-11-28T17:37:41.272Z"
   },
   {
    "duration": 2021,
    "start_time": "2021-11-28T17:37:49.048Z"
   },
   {
    "duration": 8,
    "start_time": "2021-11-28T17:37:51.072Z"
   },
   {
    "duration": 8,
    "start_time": "2021-11-28T17:37:51.086Z"
   },
   {
    "duration": 6,
    "start_time": "2021-11-28T17:37:51.098Z"
   },
   {
    "duration": 377,
    "start_time": "2021-11-28T17:37:51.107Z"
   },
   {
    "duration": 845,
    "start_time": "2021-11-28T17:37:51.487Z"
   },
   {
    "duration": 1152,
    "start_time": "2021-11-28T17:37:52.334Z"
   },
   {
    "duration": 1983,
    "start_time": "2021-11-28T17:37:53.490Z"
   },
   {
    "duration": 28,
    "start_time": "2021-11-28T17:37:55.476Z"
   },
   {
    "duration": 701,
    "start_time": "2021-11-28T17:37:55.506Z"
   },
   {
    "duration": 2024,
    "start_time": "2021-11-28T17:38:38.062Z"
   },
   {
    "duration": 56,
    "start_time": "2021-11-28T17:38:56.043Z"
   },
   {
    "duration": 1272,
    "start_time": "2021-11-28T17:42:59.526Z"
   },
   {
    "duration": 796,
    "start_time": "2021-11-28T17:44:51.823Z"
   },
   {
    "duration": 272,
    "start_time": "2021-11-28T17:47:51.597Z"
   },
   {
    "duration": 606,
    "start_time": "2021-11-28T17:48:03.342Z"
   },
   {
    "duration": 4220,
    "start_time": "2021-11-28T17:48:17.985Z"
   },
   {
    "duration": 4885,
    "start_time": "2021-11-28T17:49:39.938Z"
   },
   {
    "duration": 758,
    "start_time": "2021-11-28T17:56:21.560Z"
   },
   {
    "duration": 1023,
    "start_time": "2021-11-28T17:57:50.139Z"
   },
   {
    "duration": 298,
    "start_time": "2021-11-28T17:58:10.571Z"
   },
   {
    "duration": 469,
    "start_time": "2021-11-28T17:58:22.998Z"
   },
   {
    "duration": 315,
    "start_time": "2021-11-28T17:59:46.833Z"
   },
   {
    "duration": 452,
    "start_time": "2021-11-28T18:02:00.706Z"
   },
   {
    "duration": 559,
    "start_time": "2021-11-28T18:03:12.249Z"
   },
   {
    "duration": 6,
    "start_time": "2021-11-28T18:08:08.471Z"
   },
   {
    "duration": 83,
    "start_time": "2021-11-28T18:09:14.626Z"
   },
   {
    "duration": 7203,
    "start_time": "2021-11-28T18:09:25.264Z"
   },
   {
    "duration": 7265,
    "start_time": "2021-11-28T18:10:55.217Z"
   },
   {
    "duration": 7379,
    "start_time": "2021-11-28T18:11:45.015Z"
   },
   {
    "duration": 7260,
    "start_time": "2021-11-28T18:13:04.264Z"
   },
   {
    "duration": 6600,
    "start_time": "2021-11-28T18:13:44.428Z"
   },
   {
    "duration": 787,
    "start_time": "2021-11-28T18:14:16.262Z"
   },
   {
    "duration": 4447,
    "start_time": "2021-11-28T18:14:32.114Z"
   },
   {
    "duration": 7144,
    "start_time": "2021-11-28T18:20:29.915Z"
   },
   {
    "duration": 32,
    "start_time": "2021-11-28T18:24:58.779Z"
   },
   {
    "duration": 321,
    "start_time": "2021-11-28T18:25:03.608Z"
   },
   {
    "duration": 288,
    "start_time": "2021-11-28T18:26:07.576Z"
   },
   {
    "duration": 32,
    "start_time": "2021-11-28T18:26:21.104Z"
   },
   {
    "duration": 5470,
    "start_time": "2021-11-28T18:26:22.267Z"
   },
   {
    "duration": 4550,
    "start_time": "2021-11-28T18:26:41.660Z"
   },
   {
    "duration": 4885,
    "start_time": "2021-11-28T18:27:59.973Z"
   },
   {
    "duration": 5369,
    "start_time": "2021-11-28T18:28:23.025Z"
   },
   {
    "duration": 7420,
    "start_time": "2021-11-28T18:31:58.301Z"
   },
   {
    "duration": 7224,
    "start_time": "2021-11-28T18:32:09.559Z"
   },
   {
    "duration": 9806,
    "start_time": "2021-11-28T18:39:19.470Z"
   },
   {
    "duration": 775,
    "start_time": "2021-11-28T18:42:51.568Z"
   },
   {
    "duration": 1430,
    "start_time": "2021-11-28T18:42:57.487Z"
   },
   {
    "duration": 14782,
    "start_time": "2021-11-28T18:43:20.764Z"
   },
   {
    "duration": 6947,
    "start_time": "2021-11-28T18:45:14.701Z"
   },
   {
    "duration": 6838,
    "start_time": "2021-11-28T18:45:44.438Z"
   },
   {
    "duration": 4705,
    "start_time": "2021-11-28T18:45:53.040Z"
   },
   {
    "duration": 5062,
    "start_time": "2021-11-28T18:48:46.392Z"
   },
   {
    "duration": 7265,
    "start_time": "2021-11-28T18:50:04.797Z"
   },
   {
    "duration": 13,
    "start_time": "2021-11-28T18:53:00.746Z"
   },
   {
    "duration": 14,
    "start_time": "2021-11-28T18:54:45.439Z"
   },
   {
    "duration": 16,
    "start_time": "2021-11-28T18:57:20.388Z"
   },
   {
    "duration": 15,
    "start_time": "2021-11-28T18:57:50.433Z"
   },
   {
    "duration": 99,
    "start_time": "2021-11-28T18:58:20.079Z"
   },
   {
    "duration": 92,
    "start_time": "2021-11-28T18:58:35.817Z"
   },
   {
    "duration": 14,
    "start_time": "2021-11-28T18:58:53.711Z"
   },
   {
    "duration": 13,
    "start_time": "2021-11-28T19:00:25.647Z"
   },
   {
    "duration": 14,
    "start_time": "2021-11-28T19:00:56.091Z"
   },
   {
    "duration": 16,
    "start_time": "2021-11-28T19:01:28.811Z"
   },
   {
    "duration": 1970,
    "start_time": "2021-11-29T06:19:57.287Z"
   },
   {
    "duration": 43,
    "start_time": "2021-11-29T06:19:59.259Z"
   },
   {
    "duration": 83,
    "start_time": "2021-11-29T06:19:59.304Z"
   },
   {
    "duration": 8,
    "start_time": "2021-11-29T06:19:59.389Z"
   },
   {
    "duration": 39,
    "start_time": "2021-11-29T06:19:59.399Z"
   },
   {
    "duration": 6074,
    "start_time": "2021-11-29T06:19:59.440Z"
   },
   {
    "duration": 2007,
    "start_time": "2021-11-29T06:20:05.516Z"
   },
   {
    "duration": 6,
    "start_time": "2021-11-29T06:20:07.529Z"
   },
   {
    "duration": 25,
    "start_time": "2021-11-29T06:20:07.537Z"
   },
   {
    "duration": 21,
    "start_time": "2021-11-29T06:20:07.564Z"
   },
   {
    "duration": 290,
    "start_time": "2021-11-29T06:20:07.587Z"
   },
   {
    "duration": 829,
    "start_time": "2021-11-29T06:20:07.879Z"
   },
   {
    "duration": 1054,
    "start_time": "2021-11-29T06:20:08.710Z"
   },
   {
    "duration": 1873,
    "start_time": "2021-11-29T06:20:09.766Z"
   },
   {
    "duration": 28,
    "start_time": "2021-11-29T06:20:11.641Z"
   },
   {
    "duration": 4402,
    "start_time": "2021-11-29T06:20:11.671Z"
   },
   {
    "duration": 14,
    "start_time": "2021-11-29T06:20:16.075Z"
   },
   {
    "duration": 41,
    "start_time": "2021-11-29T06:27:41.522Z"
   },
   {
    "duration": 43,
    "start_time": "2021-11-29T08:06:42.691Z"
   },
   {
    "duration": 40,
    "start_time": "2021-11-29T08:08:04.530Z"
   },
   {
    "duration": 466,
    "start_time": "2021-11-29T08:08:24.911Z"
   },
   {
    "duration": 607,
    "start_time": "2021-11-29T08:09:08.568Z"
   },
   {
    "duration": 615,
    "start_time": "2021-11-29T08:09:34.294Z"
   },
   {
    "duration": 413,
    "start_time": "2021-11-29T08:09:45.831Z"
   },
   {
    "duration": 370,
    "start_time": "2021-11-29T08:16:04.413Z"
   },
   {
    "duration": 40,
    "start_time": "2021-11-29T08:16:51.968Z"
   },
   {
    "duration": 369,
    "start_time": "2021-11-29T08:16:52.826Z"
   },
   {
    "duration": 1519,
    "start_time": "2021-11-29T08:17:50.719Z"
   },
   {
    "duration": 28,
    "start_time": "2021-11-29T08:17:52.330Z"
   },
   {
    "duration": 4314,
    "start_time": "2021-11-29T08:17:54.483Z"
   },
   {
    "duration": 42,
    "start_time": "2021-11-29T08:18:49.259Z"
   },
   {
    "duration": 380,
    "start_time": "2021-11-29T08:18:57.230Z"
   },
   {
    "duration": 258,
    "start_time": "2021-11-29T08:21:43.041Z"
   },
   {
    "duration": 255,
    "start_time": "2021-11-29T08:22:15.817Z"
   },
   {
    "duration": 262,
    "start_time": "2021-11-29T08:23:19.367Z"
   },
   {
    "duration": 42,
    "start_time": "2021-11-29T08:25:54.549Z"
   },
   {
    "duration": 282,
    "start_time": "2021-11-29T08:26:06.074Z"
   },
   {
    "duration": 4398,
    "start_time": "2021-11-29T08:26:27.466Z"
   },
   {
    "duration": 399,
    "start_time": "2021-11-29T09:20:17.451Z"
   },
   {
    "duration": 6,
    "start_time": "2021-11-29T09:21:02.135Z"
   },
   {
    "duration": 4,
    "start_time": "2021-11-29T09:21:11.428Z"
   },
   {
    "duration": 2632,
    "start_time": "2021-11-29T09:27:57.946Z"
   },
   {
    "duration": 5,
    "start_time": "2021-11-29T09:28:00.580Z"
   },
   {
    "duration": 81,
    "start_time": "2021-11-29T09:28:00.587Z"
   },
   {
    "duration": 86,
    "start_time": "2021-11-29T09:28:00.671Z"
   },
   {
    "duration": 9,
    "start_time": "2021-11-29T09:28:00.759Z"
   },
   {
    "duration": 56,
    "start_time": "2021-11-29T09:28:00.770Z"
   },
   {
    "duration": 6570,
    "start_time": "2021-11-29T09:28:00.829Z"
   },
   {
    "duration": 2156,
    "start_time": "2021-11-29T09:28:07.404Z"
   },
   {
    "duration": 5,
    "start_time": "2021-11-29T09:28:09.563Z"
   },
   {
    "duration": 56,
    "start_time": "2021-11-29T09:28:09.571Z"
   },
   {
    "duration": 36,
    "start_time": "2021-11-29T09:28:09.629Z"
   },
   {
    "duration": 337,
    "start_time": "2021-11-29T09:28:09.668Z"
   },
   {
    "duration": 801,
    "start_time": "2021-11-29T09:28:10.008Z"
   },
   {
    "duration": 1074,
    "start_time": "2021-11-29T09:28:10.811Z"
   },
   {
    "duration": 1656,
    "start_time": "2021-11-29T09:28:11.887Z"
   },
   {
    "duration": 27,
    "start_time": "2021-11-29T09:28:13.546Z"
   },
   {
    "duration": 5481,
    "start_time": "2021-11-29T09:28:13.575Z"
   },
   {
    "duration": 43,
    "start_time": "2021-11-29T09:28:19.059Z"
   },
   {
    "duration": 306,
    "start_time": "2021-11-29T09:28:19.104Z"
   },
   {
    "duration": 7,
    "start_time": "2021-11-29T09:32:40.954Z"
   },
   {
    "duration": 265,
    "start_time": "2021-11-29T09:32:48.411Z"
   },
   {
    "duration": 1999,
    "start_time": "2021-11-29T09:32:56.846Z"
   },
   {
    "duration": 4,
    "start_time": "2021-11-29T09:32:58.848Z"
   },
   {
    "duration": 63,
    "start_time": "2021-11-29T09:32:58.854Z"
   },
   {
    "duration": 74,
    "start_time": "2021-11-29T09:32:58.919Z"
   },
   {
    "duration": 8,
    "start_time": "2021-11-29T09:32:58.995Z"
   },
   {
    "duration": 42,
    "start_time": "2021-11-29T09:32:59.005Z"
   },
   {
    "duration": 6339,
    "start_time": "2021-11-29T09:32:59.049Z"
   },
   {
    "duration": 1990,
    "start_time": "2021-11-29T09:33:05.392Z"
   },
   {
    "duration": 6,
    "start_time": "2021-11-29T09:33:07.386Z"
   },
   {
    "duration": 38,
    "start_time": "2021-11-29T09:33:07.395Z"
   },
   {
    "duration": 7,
    "start_time": "2021-11-29T09:33:07.436Z"
   },
   {
    "duration": 315,
    "start_time": "2021-11-29T09:33:07.446Z"
   },
   {
    "duration": 827,
    "start_time": "2021-11-29T09:33:07.764Z"
   },
   {
    "duration": 1097,
    "start_time": "2021-11-29T09:33:08.593Z"
   },
   {
    "duration": 1636,
    "start_time": "2021-11-29T09:33:09.693Z"
   },
   {
    "duration": 28,
    "start_time": "2021-11-29T09:33:11.332Z"
   },
   {
    "duration": 4413,
    "start_time": "2021-11-29T09:33:11.363Z"
   },
   {
    "duration": 56,
    "start_time": "2021-11-29T09:33:15.778Z"
   },
   {
    "duration": 273,
    "start_time": "2021-11-29T09:33:15.836Z"
   },
   {
    "duration": 6,
    "start_time": "2021-11-29T09:35:07.204Z"
   },
   {
    "duration": 300,
    "start_time": "2021-11-29T09:35:13.187Z"
   },
   {
    "duration": 965,
    "start_time": "2021-11-29T09:35:51.179Z"
   },
   {
    "duration": 481,
    "start_time": "2021-11-29T09:36:04.662Z"
   },
   {
    "duration": 6,
    "start_time": "2021-11-29T09:36:21.231Z"
   },
   {
    "duration": 2062,
    "start_time": "2021-11-29T09:36:37.108Z"
   },
   {
    "duration": 45,
    "start_time": "2021-11-29T09:36:39.172Z"
   },
   {
    "duration": 84,
    "start_time": "2021-11-29T09:36:39.220Z"
   },
   {
    "duration": 26,
    "start_time": "2021-11-29T09:36:39.307Z"
   },
   {
    "duration": 29,
    "start_time": "2021-11-29T09:36:39.335Z"
   },
   {
    "duration": 6185,
    "start_time": "2021-11-29T09:36:39.367Z"
   },
   {
    "duration": 2084,
    "start_time": "2021-11-29T09:36:45.555Z"
   },
   {
    "duration": 6,
    "start_time": "2021-11-29T09:36:47.642Z"
   },
   {
    "duration": 57,
    "start_time": "2021-11-29T09:36:47.651Z"
   },
   {
    "duration": 69,
    "start_time": "2021-11-29T09:36:47.710Z"
   },
   {
    "duration": 311,
    "start_time": "2021-11-29T09:36:47.782Z"
   },
   {
    "duration": 786,
    "start_time": "2021-11-29T09:36:48.096Z"
   },
   {
    "duration": 1097,
    "start_time": "2021-11-29T09:36:48.884Z"
   },
   {
    "duration": 1358,
    "start_time": "2021-11-29T09:36:49.984Z"
   },
   {
    "duration": 28,
    "start_time": "2021-11-29T09:36:51.345Z"
   },
   {
    "duration": 4479,
    "start_time": "2021-11-29T09:36:51.375Z"
   },
   {
    "duration": 40,
    "start_time": "2021-11-29T09:36:55.857Z"
   },
   {
    "duration": 302,
    "start_time": "2021-11-29T09:36:55.899Z"
   },
   {
    "duration": 292,
    "start_time": "2021-11-29T09:39:37.344Z"
   },
   {
    "duration": 8,
    "start_time": "2021-11-29T09:39:44.239Z"
   },
   {
    "duration": 14,
    "start_time": "2021-11-29T09:52:51.779Z"
   },
   {
    "duration": 12,
    "start_time": "2021-11-29T09:52:59.754Z"
   },
   {
    "duration": 12,
    "start_time": "2021-11-29T09:53:07.098Z"
   },
   {
    "duration": 15,
    "start_time": "2021-11-29T09:56:49.111Z"
   },
   {
    "duration": 1980,
    "start_time": "2021-11-29T09:56:57.526Z"
   },
   {
    "duration": 43,
    "start_time": "2021-11-29T09:56:59.509Z"
   },
   {
    "duration": 84,
    "start_time": "2021-11-29T09:56:59.555Z"
   },
   {
    "duration": 11,
    "start_time": "2021-11-29T09:56:59.642Z"
   },
   {
    "duration": 19,
    "start_time": "2021-11-29T09:56:59.655Z"
   },
   {
    "duration": 54,
    "start_time": "2021-11-29T09:56:59.676Z"
   },
   {
    "duration": 6022,
    "start_time": "2021-11-29T09:56:59.732Z"
   },
   {
    "duration": 1927,
    "start_time": "2021-11-29T09:57:05.758Z"
   },
   {
    "duration": 7,
    "start_time": "2021-11-29T09:57:07.689Z"
   },
   {
    "duration": 33,
    "start_time": "2021-11-29T09:57:07.699Z"
   },
   {
    "duration": 6,
    "start_time": "2021-11-29T09:57:07.735Z"
   },
   {
    "duration": 239,
    "start_time": "2021-11-29T09:57:07.743Z"
   },
   {
    "duration": 877,
    "start_time": "2021-11-29T09:57:07.984Z"
   },
   {
    "duration": 1075,
    "start_time": "2021-11-29T09:57:08.864Z"
   },
   {
    "duration": 1398,
    "start_time": "2021-11-29T09:57:09.941Z"
   },
   {
    "duration": 30,
    "start_time": "2021-11-29T09:57:11.342Z"
   },
   {
    "duration": 4357,
    "start_time": "2021-11-29T09:57:11.375Z"
   },
   {
    "duration": 40,
    "start_time": "2021-11-29T09:57:15.734Z"
   },
   {
    "duration": 291,
    "start_time": "2021-11-29T09:57:15.776Z"
   },
   {
    "duration": 9,
    "start_time": "2021-11-29T10:00:16.919Z"
   },
   {
    "duration": 9,
    "start_time": "2021-11-29T10:00:46.995Z"
   },
   {
    "duration": 8,
    "start_time": "2021-11-29T10:00:57.931Z"
   },
   {
    "duration": 484,
    "start_time": "2021-11-29T10:26:46.827Z"
   },
   {
    "duration": 357,
    "start_time": "2021-11-29T10:27:09.909Z"
   },
   {
    "duration": 267,
    "start_time": "2021-11-29T10:28:27.191Z"
   },
   {
    "duration": 5,
    "start_time": "2021-11-29T10:29:00.903Z"
   },
   {
    "duration": 82,
    "start_time": "2021-11-29T10:30:35.134Z"
   },
   {
    "duration": 37,
    "start_time": "2021-11-29T10:30:42.532Z"
   },
   {
    "duration": 21,
    "start_time": "2021-11-29T10:31:08.295Z"
   },
   {
    "duration": 20,
    "start_time": "2021-11-29T10:31:08.885Z"
   },
   {
    "duration": 81,
    "start_time": "2021-11-29T10:31:10.376Z"
   },
   {
    "duration": 6,
    "start_time": "2021-11-29T10:31:13.318Z"
   },
   {
    "duration": 20,
    "start_time": "2021-11-29T10:31:15.918Z"
   },
   {
    "duration": 13,
    "start_time": "2021-11-29T11:16:41.617Z"
   },
   {
    "duration": 8,
    "start_time": "2021-11-29T11:22:31.834Z"
   },
   {
    "duration": 9,
    "start_time": "2021-11-29T11:22:44.937Z"
   },
   {
    "duration": 6123,
    "start_time": "2021-11-29T11:28:53.366Z"
   },
   {
    "duration": 1794,
    "start_time": "2021-11-29T11:37:45.194Z"
   },
   {
    "duration": 2120,
    "start_time": "2021-11-29T11:39:08.018Z"
   },
   {
    "duration": 1772,
    "start_time": "2021-11-29T11:39:25.162Z"
   },
   {
    "duration": 1893,
    "start_time": "2021-11-29T11:43:50.817Z"
   },
   {
    "duration": 7,
    "start_time": "2021-11-29T11:55:22.478Z"
   },
   {
    "duration": 276,
    "start_time": "2021-11-29T11:55:56.062Z"
   },
   {
    "duration": 10,
    "start_time": "2021-11-29T11:56:16.543Z"
   },
   {
    "duration": 1794,
    "start_time": "2021-11-29T12:03:47.773Z"
   },
   {
    "duration": 1883,
    "start_time": "2021-11-29T12:46:16.742Z"
   },
   {
    "duration": 1678,
    "start_time": "2021-11-29T12:46:27.514Z"
   },
   {
    "duration": 1897,
    "start_time": "2021-11-29T12:46:37.635Z"
   },
   {
    "duration": 8,
    "start_time": "2021-11-29T12:53:16.120Z"
   },
   {
    "duration": 6195,
    "start_time": "2021-11-29T13:50:48.337Z"
   },
   {
    "duration": 6301,
    "start_time": "2021-11-29T13:50:57.141Z"
   },
   {
    "duration": 6190,
    "start_time": "2021-11-29T13:51:15.016Z"
   },
   {
    "duration": 6314,
    "start_time": "2021-11-29T13:51:51.878Z"
   },
   {
    "duration": 459,
    "start_time": "2021-11-29T14:54:40.421Z"
   },
   {
    "duration": 5,
    "start_time": "2021-11-29T15:08:07.273Z"
   },
   {
    "duration": 234,
    "start_time": "2021-11-29T15:09:05.042Z"
   },
   {
    "duration": 8,
    "start_time": "2021-11-29T15:23:41.160Z"
   },
   {
    "duration": 5,
    "start_time": "2021-11-29T15:23:41.645Z"
   },
   {
    "duration": 294,
    "start_time": "2021-11-29T15:23:52.179Z"
   },
   {
    "duration": 246,
    "start_time": "2021-11-29T15:24:10.833Z"
   },
   {
    "duration": 565,
    "start_time": "2021-11-29T15:24:20.075Z"
   },
   {
    "duration": 275,
    "start_time": "2021-11-29T15:24:29.306Z"
   },
   {
    "duration": 297,
    "start_time": "2021-11-29T15:24:37.589Z"
   },
   {
    "duration": 763,
    "start_time": "2021-11-29T15:36:17.011Z"
   },
   {
    "duration": 1177,
    "start_time": "2021-11-29T15:36:59.490Z"
   },
   {
    "duration": 1606,
    "start_time": "2021-11-29T15:45:20.434Z"
   },
   {
    "duration": 30,
    "start_time": "2021-11-29T15:47:13.684Z"
   },
   {
    "duration": 4397,
    "start_time": "2021-11-29T15:48:02.195Z"
   },
   {
    "duration": 42,
    "start_time": "2021-11-29T15:49:44.546Z"
   },
   {
    "duration": 267,
    "start_time": "2021-11-29T15:49:55.428Z"
   },
   {
    "duration": 4225,
    "start_time": "2021-11-29T15:51:20.590Z"
   },
   {
    "duration": 3,
    "start_time": "2021-11-29T16:05:55.599Z"
   },
   {
    "duration": 3,
    "start_time": "2021-11-29T16:22:44.236Z"
   },
   {
    "duration": 7,
    "start_time": "2021-11-29T17:05:16.235Z"
   },
   {
    "duration": 35,
    "start_time": "2021-11-29T17:05:16.245Z"
   },
   {
    "duration": 21,
    "start_time": "2021-11-29T17:05:16.284Z"
   },
   {
    "duration": 108,
    "start_time": "2021-11-29T17:05:16.308Z"
   },
   {
    "duration": 5,
    "start_time": "2021-11-29T17:05:16.429Z"
   },
   {
    "duration": 18,
    "start_time": "2021-11-29T17:05:16.437Z"
   },
   {
    "duration": 7,
    "start_time": "2021-11-29T17:05:16.458Z"
   },
   {
    "duration": 25,
    "start_time": "2021-11-29T17:05:16.469Z"
   },
   {
    "duration": 6137,
    "start_time": "2021-11-29T17:05:16.496Z"
   },
   {
    "duration": 1895,
    "start_time": "2021-11-29T17:05:22.636Z"
   },
   {
    "duration": 5,
    "start_time": "2021-11-29T17:05:24.533Z"
   },
   {
    "duration": 26,
    "start_time": "2021-11-29T17:05:24.541Z"
   },
   {
    "duration": 23,
    "start_time": "2021-11-29T17:05:24.569Z"
   },
   {
    "duration": 286,
    "start_time": "2021-11-29T17:05:24.594Z"
   },
   {
    "duration": 841,
    "start_time": "2021-11-29T17:05:24.882Z"
   },
   {
    "duration": 1085,
    "start_time": "2021-11-29T17:05:25.725Z"
   },
   {
    "duration": 1524,
    "start_time": "2021-11-29T17:05:26.812Z"
   },
   {
    "duration": 28,
    "start_time": "2021-11-29T17:05:28.339Z"
   },
   {
    "duration": 4484,
    "start_time": "2021-11-29T17:05:28.369Z"
   },
   {
    "duration": 39,
    "start_time": "2021-11-29T17:05:32.856Z"
   },
   {
    "duration": 284,
    "start_time": "2021-11-29T17:05:32.897Z"
   },
   {
    "duration": 15308,
    "start_time": "2021-11-29T18:55:44.663Z"
   },
   {
    "duration": 21,
    "start_time": "2021-11-29T18:55:59.973Z"
   },
   {
    "duration": 18,
    "start_time": "2021-11-29T18:55:59.996Z"
   },
   {
    "duration": 62,
    "start_time": "2021-11-29T18:56:00.016Z"
   },
   {
    "duration": 4,
    "start_time": "2021-11-29T18:56:00.079Z"
   },
   {
    "duration": 13,
    "start_time": "2021-11-29T18:56:00.085Z"
   },
   {
    "duration": 6,
    "start_time": "2021-11-29T18:56:00.099Z"
   },
   {
    "duration": 18,
    "start_time": "2021-11-29T18:56:00.106Z"
   },
   {
    "duration": 3645,
    "start_time": "2021-11-29T18:56:00.127Z"
   },
   {
    "duration": 1214,
    "start_time": "2021-11-29T18:56:03.774Z"
   },
   {
    "duration": 4,
    "start_time": "2021-11-29T18:56:04.990Z"
   },
   {
    "duration": 9,
    "start_time": "2021-11-29T18:56:04.996Z"
   },
   {
    "duration": 8,
    "start_time": "2021-11-29T18:56:05.007Z"
   },
   {
    "duration": 280,
    "start_time": "2021-11-29T18:56:05.016Z"
   },
   {
    "duration": 578,
    "start_time": "2021-11-29T18:56:05.299Z"
   },
   {
    "duration": 699,
    "start_time": "2021-11-29T18:56:05.879Z"
   },
   {
    "duration": 1184,
    "start_time": "2021-11-29T18:56:06.580Z"
   },
   {
    "duration": 20,
    "start_time": "2021-11-29T18:56:07.765Z"
   },
   {
    "duration": 2711,
    "start_time": "2021-11-29T18:56:07.786Z"
   },
   {
    "duration": 24,
    "start_time": "2021-11-29T18:56:10.498Z"
   },
   {
    "duration": 181,
    "start_time": "2021-11-29T18:56:10.524Z"
   },
   {
    "duration": 1462,
    "start_time": "2021-11-29T19:04:15.011Z"
   },
   {
    "duration": 20,
    "start_time": "2021-11-29T19:04:16.475Z"
   },
   {
    "duration": 45,
    "start_time": "2021-11-29T19:04:16.497Z"
   },
   {
    "duration": 69,
    "start_time": "2021-11-29T19:04:16.544Z"
   },
   {
    "duration": 3,
    "start_time": "2021-11-29T19:04:16.614Z"
   },
   {
    "duration": 21,
    "start_time": "2021-11-29T19:04:16.619Z"
   },
   {
    "duration": 13,
    "start_time": "2021-11-29T19:04:16.642Z"
   },
   {
    "duration": 21,
    "start_time": "2021-11-29T19:04:16.657Z"
   },
   {
    "duration": 4030,
    "start_time": "2021-11-29T19:04:16.680Z"
   },
   {
    "duration": 1247,
    "start_time": "2021-11-29T19:04:20.712Z"
   },
   {
    "duration": 5,
    "start_time": "2021-11-29T19:04:21.963Z"
   },
   {
    "duration": 20,
    "start_time": "2021-11-29T19:04:21.970Z"
   },
   {
    "duration": 24,
    "start_time": "2021-11-29T19:04:21.991Z"
   },
   {
    "duration": 273,
    "start_time": "2021-11-29T19:04:22.017Z"
   },
   {
    "duration": 585,
    "start_time": "2021-11-29T19:04:22.293Z"
   },
   {
    "duration": 706,
    "start_time": "2021-11-29T19:04:22.880Z"
   },
   {
    "duration": 1376,
    "start_time": "2021-11-29T19:04:23.587Z"
   },
   {
    "duration": 18,
    "start_time": "2021-11-29T19:04:24.965Z"
   },
   {
    "duration": 2728,
    "start_time": "2021-11-29T19:04:24.984Z"
   },
   {
    "duration": 28,
    "start_time": "2021-11-29T19:04:27.713Z"
   },
   {
    "duration": 177,
    "start_time": "2021-11-29T19:04:27.743Z"
   },
   {
    "duration": 1415,
    "start_time": "2021-11-30T08:40:31.286Z"
   },
   {
    "duration": 21,
    "start_time": "2021-11-30T08:40:32.703Z"
   },
   {
    "duration": 35,
    "start_time": "2021-11-30T08:40:32.726Z"
   },
   {
    "duration": 73,
    "start_time": "2021-11-30T08:40:32.762Z"
   },
   {
    "duration": 3,
    "start_time": "2021-11-30T08:40:32.837Z"
   },
   {
    "duration": 62,
    "start_time": "2021-11-30T08:40:32.842Z"
   },
   {
    "duration": 14,
    "start_time": "2021-11-30T08:40:32.906Z"
   },
   {
    "duration": 33,
    "start_time": "2021-11-30T08:40:32.923Z"
   },
   {
    "duration": 3636,
    "start_time": "2021-11-30T08:40:32.957Z"
   },
   {
    "duration": 1260,
    "start_time": "2021-11-30T08:40:36.595Z"
   },
   {
    "duration": 4,
    "start_time": "2021-11-30T08:40:37.856Z"
   },
   {
    "duration": 9,
    "start_time": "2021-11-30T08:40:37.862Z"
   },
   {
    "duration": 6,
    "start_time": "2021-11-30T08:40:37.872Z"
   },
   {
    "duration": 229,
    "start_time": "2021-11-30T08:40:37.892Z"
   },
   {
    "duration": 548,
    "start_time": "2021-11-30T08:40:38.123Z"
   },
   {
    "duration": 640,
    "start_time": "2021-11-30T08:40:38.672Z"
   },
   {
    "duration": 1285,
    "start_time": "2021-11-30T08:40:39.314Z"
   },
   {
    "duration": 103,
    "start_time": "2021-11-30T08:40:40.602Z"
   },
   {
    "duration": 2598,
    "start_time": "2021-11-30T08:40:40.707Z"
   },
   {
    "duration": 25,
    "start_time": "2021-11-30T08:40:43.307Z"
   },
   {
    "duration": 170,
    "start_time": "2021-11-30T08:40:43.334Z"
   },
   {
    "duration": 4,
    "start_time": "2021-11-30T08:47:25.833Z"
   },
   {
    "duration": 40,
    "start_time": "2021-11-30T08:47:25.839Z"
   },
   {
    "duration": 27,
    "start_time": "2021-11-30T08:47:25.881Z"
   },
   {
    "duration": 78,
    "start_time": "2021-11-30T08:47:25.910Z"
   },
   {
    "duration": 3,
    "start_time": "2021-11-30T08:47:25.989Z"
   },
   {
    "duration": 15,
    "start_time": "2021-11-30T08:47:25.994Z"
   },
   {
    "duration": 36,
    "start_time": "2021-11-30T08:47:26.010Z"
   },
   {
    "duration": 36,
    "start_time": "2021-11-30T08:47:26.048Z"
   },
   {
    "duration": 3714,
    "start_time": "2021-11-30T08:47:26.086Z"
   },
   {
    "duration": 1133,
    "start_time": "2021-11-30T08:47:29.801Z"
   },
   {
    "duration": 5,
    "start_time": "2021-11-30T08:47:30.935Z"
   },
   {
    "duration": 11,
    "start_time": "2021-11-30T08:47:30.942Z"
   },
   {
    "duration": 6,
    "start_time": "2021-11-30T08:47:30.954Z"
   },
   {
    "duration": 249,
    "start_time": "2021-11-30T08:47:30.962Z"
   },
   {
    "duration": 527,
    "start_time": "2021-11-30T08:47:31.213Z"
   },
   {
    "duration": 770,
    "start_time": "2021-11-30T08:47:31.742Z"
   },
   {
    "duration": 1279,
    "start_time": "2021-11-30T08:47:32.513Z"
   },
   {
    "duration": 18,
    "start_time": "2021-11-30T08:47:33.794Z"
   },
   {
    "duration": 2599,
    "start_time": "2021-11-30T08:47:33.814Z"
   },
   {
    "duration": 26,
    "start_time": "2021-11-30T08:47:36.416Z"
   },
   {
    "duration": 186,
    "start_time": "2021-11-30T08:47:36.444Z"
   },
   {
    "duration": 1523,
    "start_time": "2021-11-30T15:36:50.522Z"
   },
   {
    "duration": 21,
    "start_time": "2021-11-30T15:36:52.047Z"
   },
   {
    "duration": 20,
    "start_time": "2021-11-30T15:36:52.071Z"
   },
   {
    "duration": 70,
    "start_time": "2021-11-30T15:36:52.093Z"
   },
   {
    "duration": 4,
    "start_time": "2021-11-30T15:36:52.164Z"
   },
   {
    "duration": 40,
    "start_time": "2021-11-30T15:36:52.169Z"
   },
   {
    "duration": 15,
    "start_time": "2021-11-30T15:36:52.210Z"
   },
   {
    "duration": 34,
    "start_time": "2021-11-30T15:36:52.227Z"
   },
   {
    "duration": 4150,
    "start_time": "2021-11-30T15:36:52.263Z"
   },
   {
    "duration": 1238,
    "start_time": "2021-11-30T15:36:56.415Z"
   },
   {
    "duration": 4,
    "start_time": "2021-11-30T15:36:57.655Z"
   },
   {
    "duration": 20,
    "start_time": "2021-11-30T15:36:57.661Z"
   },
   {
    "duration": 22,
    "start_time": "2021-11-30T15:36:57.683Z"
   },
   {
    "duration": 263,
    "start_time": "2021-11-30T15:36:57.707Z"
   },
   {
    "duration": 509,
    "start_time": "2021-11-30T15:36:57.972Z"
   },
   {
    "duration": 714,
    "start_time": "2021-11-30T15:36:58.482Z"
   },
   {
    "duration": 1155,
    "start_time": "2021-11-30T15:36:59.198Z"
   },
   {
    "duration": 18,
    "start_time": "2021-11-30T15:37:00.445Z"
   },
   {
    "duration": 2666,
    "start_time": "2021-11-30T15:37:00.464Z"
   },
   {
    "duration": 35,
    "start_time": "2021-11-30T15:37:03.132Z"
   },
   {
    "duration": 200,
    "start_time": "2021-11-30T15:37:03.169Z"
   },
   {
    "duration": 2291,
    "start_time": "2021-12-12T16:21:36.330Z"
   },
   {
    "duration": 25,
    "start_time": "2021-12-12T16:21:38.624Z"
   },
   {
    "duration": 37,
    "start_time": "2021-12-12T16:21:38.652Z"
   },
   {
    "duration": 128,
    "start_time": "2021-12-12T16:21:38.693Z"
   },
   {
    "duration": 6,
    "start_time": "2021-12-12T16:21:38.824Z"
   },
   {
    "duration": 38,
    "start_time": "2021-12-12T16:21:38.833Z"
   },
   {
    "duration": 8,
    "start_time": "2021-12-12T16:21:38.874Z"
   },
   {
    "duration": 27,
    "start_time": "2021-12-12T16:21:38.885Z"
   },
   {
    "duration": 6783,
    "start_time": "2021-12-12T16:21:38.916Z"
   },
   {
    "duration": 1964,
    "start_time": "2021-12-12T16:21:45.703Z"
   },
   {
    "duration": 6,
    "start_time": "2021-12-12T16:21:47.670Z"
   },
   {
    "duration": 12,
    "start_time": "2021-12-12T16:21:47.678Z"
   },
   {
    "duration": 17,
    "start_time": "2021-12-12T16:21:47.692Z"
   },
   {
    "duration": 314,
    "start_time": "2021-12-12T16:21:47.711Z"
   },
   {
    "duration": 847,
    "start_time": "2021-12-12T16:21:48.028Z"
   },
   {
    "duration": 1080,
    "start_time": "2021-12-12T16:21:48.878Z"
   },
   {
    "duration": 1310,
    "start_time": "2021-12-12T16:21:49.962Z"
   },
   {
    "duration": 29,
    "start_time": "2021-12-12T16:21:51.275Z"
   },
   {
    "duration": 5295,
    "start_time": "2021-12-12T16:21:51.308Z"
   },
   {
    "duration": 42,
    "start_time": "2021-12-12T16:21:56.605Z"
   },
   {
    "duration": 402,
    "start_time": "2021-12-12T16:21:56.668Z"
   },
   {
    "duration": 4,
    "start_time": "2021-12-16T10:19:48.012Z"
   },
   {
    "duration": 25,
    "start_time": "2021-12-16T10:19:48.017Z"
   },
   {
    "duration": 13,
    "start_time": "2021-12-16T10:19:48.044Z"
   },
   {
    "duration": 58,
    "start_time": "2021-12-16T10:19:48.059Z"
   },
   {
    "duration": 3,
    "start_time": "2021-12-16T10:19:48.119Z"
   },
   {
    "duration": 17,
    "start_time": "2021-12-16T10:19:48.124Z"
   },
   {
    "duration": 7,
    "start_time": "2021-12-16T10:19:48.143Z"
   },
   {
    "duration": 19,
    "start_time": "2021-12-16T10:19:48.151Z"
   },
   {
    "duration": 3938,
    "start_time": "2021-12-16T10:19:48.172Z"
   },
   {
    "duration": 1098,
    "start_time": "2021-12-16T10:19:52.112Z"
   },
   {
    "duration": 4,
    "start_time": "2021-12-16T10:19:53.211Z"
   },
   {
    "duration": 7,
    "start_time": "2021-12-16T10:19:53.217Z"
   },
   {
    "duration": 3,
    "start_time": "2021-12-16T10:19:53.226Z"
   },
   {
    "duration": 208,
    "start_time": "2021-12-16T10:19:53.231Z"
   },
   {
    "duration": 534,
    "start_time": "2021-12-16T10:19:53.440Z"
   },
   {
    "duration": 813,
    "start_time": "2021-12-16T10:19:53.975Z"
   },
   {
    "duration": 629,
    "start_time": "2021-12-16T10:19:54.791Z"
   },
   {
    "duration": 19,
    "start_time": "2021-12-16T10:19:55.506Z"
   },
   {
    "duration": 2620,
    "start_time": "2021-12-16T10:19:55.527Z"
   },
   {
    "duration": 26,
    "start_time": "2021-12-16T10:19:58.149Z"
   },
   {
    "duration": 182,
    "start_time": "2021-12-16T10:19:58.177Z"
   },
   {
    "duration": 1685,
    "start_time": "2022-08-15T09:58:39.456Z"
   },
   {
    "duration": 71,
    "start_time": "2022-08-15T09:58:41.142Z"
   },
   {
    "duration": 16,
    "start_time": "2022-08-15T09:58:41.215Z"
   },
   {
    "duration": 53,
    "start_time": "2022-08-15T09:58:41.232Z"
   },
   {
    "duration": 3,
    "start_time": "2022-08-15T09:58:41.288Z"
   },
   {
    "duration": 11,
    "start_time": "2022-08-15T09:58:41.293Z"
   },
   {
    "duration": 6,
    "start_time": "2022-08-15T09:58:41.305Z"
   },
   {
    "duration": 17,
    "start_time": "2022-08-15T09:58:41.312Z"
   },
   {
    "duration": 2745,
    "start_time": "2022-08-15T09:58:41.331Z"
   },
   {
    "duration": 1452,
    "start_time": "2022-08-15T09:58:44.078Z"
   },
   {
    "duration": 3,
    "start_time": "2022-08-15T09:58:45.532Z"
   },
   {
    "duration": 9,
    "start_time": "2022-08-15T09:58:45.537Z"
   },
   {
    "duration": 5,
    "start_time": "2022-08-15T09:58:45.549Z"
   },
   {
    "duration": 2088,
    "start_time": "2022-08-15T09:58:45.557Z"
   },
   {
    "duration": 563,
    "start_time": "2022-08-15T09:58:47.647Z"
   },
   {
    "duration": 388,
    "start_time": "2022-08-15T09:58:48.211Z"
   },
   {
    "duration": 1386,
    "start_time": "2022-08-15T09:58:48.601Z"
   },
   {
    "duration": 24,
    "start_time": "2022-08-15T09:58:49.989Z"
   },
   {
    "duration": 2896,
    "start_time": "2022-08-15T09:58:50.014Z"
   },
   {
    "duration": 26,
    "start_time": "2022-08-15T09:58:52.911Z"
   },
   {
    "duration": 136,
    "start_time": "2022-08-15T09:58:52.939Z"
   }
  ],
  "kernelspec": {
   "display_name": "Python 3.11.0 64-bit",
   "language": "python",
   "name": "python3"
  },
  "language_info": {
   "codemirror_mode": {
    "name": "ipython",
    "version": 3
   },
   "file_extension": ".py",
   "mimetype": "text/x-python",
   "name": "python",
   "nbconvert_exporter": "python",
   "pygments_lexer": "ipython3",
   "version": "3.11.0"
  },
  "toc": {
   "base_numbering": 1,
   "nav_menu": {},
   "number_sections": true,
   "sideBar": true,
   "skip_h1_title": true,
   "title_cell": "Содержание",
   "title_sidebar": "Содержание",
   "toc_cell": true,
   "toc_position": {
    "height": "calc(100% - 180px)",
    "left": "10px",
    "top": "150px",
    "width": "297.214px"
   },
   "toc_section_display": true,
   "toc_window_display": true
  },
  "vscode": {
   "interpreter": {
    "hash": "aee8b7b246df8f9039afb4144a1f6fd8d2ca17a180786b69acc140d282b71a49"
   }
  }
 },
 "nbformat": 4,
 "nbformat_minor": 2
}
