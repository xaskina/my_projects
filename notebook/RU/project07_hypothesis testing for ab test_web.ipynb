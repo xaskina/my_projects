{
 "cells": [
  {
   "cell_type": "markdown",
   "metadata": {},
   "source": [
    "# Работа с гипотезами, A/B - тест и анализ его результатов\n",
    "\n",
    "<b> Проект: </b>\n",
    "* Для одного крупного интернет-магазина требуется приоритизировать гипотезы и провести A/B-тест для увеличения выручки.\n",
    "      \n",
    "<b> Предоставленные данные: </b>\n",
    "* Данные для первой части - Файл hypothesis.csv.\n",
    "    * Hypothesis — краткое описание гипотезы;\n",
    "    * Reach — охват пользователей по 10-балльной шкале;\n",
    "    * Impact — влияние на пользователей по 10-балльной шкале;\n",
    "    * Confidence — уверенность в гипотезе по 10-балльной шкале;\n",
    "    * Efforts — затраты ресурсов на проверку гипотезы по 10-балльной шкале. Чем больше значение Efforts, тем дороже проверка гипотезы.\n",
    "* Данные для второй части - Файл orders.csv.\n",
    "    * transactionId — идентификатор заказа;\n",
    "    * visitorId — идентификатор пользователя, совершившего заказ;\n",
    "    * date — дата, когда был совершён заказ;\n",
    "    * revenue — выручка заказа;\n",
    "    * group — группа A/B-теста, в которую попал заказ.\n",
    "* Файл с количеством пользователей в указанную дату в указанной группе A/B-теста - visitors.csv.\n",
    "    * date — дата;\n",
    "    * group — группа A/B-теста;\n",
    "\n",
    "<b> Задачи исследования: </b>\n",
    "- Приоритизация гипотез;\n",
    "- Анализ результатов теста."
   ]
  },
  {
   "cell_type": "code",
   "execution_count": 33,
   "metadata": {},
   "outputs": [],
   "source": [
    "import pandas as pd\n",
    "import numpy as np\n",
    "import datetime as dt\n",
    "import scipy.stats as stats\n",
    "import matplotlib.pyplot as plt\n",
    "from IPython.core.interactiveshell import InteractiveShell\n",
    "InteractiveShell.ast_node_interactivity = \"all\"\n",
    "import warnings\n",
    "warnings.filterwarnings('ignore')"
   ]
  },
  {
   "cell_type": "markdown",
   "metadata": {},
   "source": [
    "## Приоритизация гипотез"
   ]
  },
  {
   "cell_type": "code",
   "execution_count": 34,
   "metadata": {},
   "outputs": [
    {
     "data": {
      "text/html": [
       "<div>\n",
       "<style scoped>\n",
       "    .dataframe tbody tr th:only-of-type {\n",
       "        vertical-align: middle;\n",
       "    }\n",
       "\n",
       "    .dataframe tbody tr th {\n",
       "        vertical-align: top;\n",
       "    }\n",
       "\n",
       "    .dataframe thead th {\n",
       "        text-align: right;\n",
       "    }\n",
       "</style>\n",
       "<table border=\"1\" class=\"dataframe\">\n",
       "  <thead>\n",
       "    <tr style=\"text-align: right;\">\n",
       "      <th></th>\n",
       "      <th>Hypothesis</th>\n",
       "      <th>Reach</th>\n",
       "      <th>Impact</th>\n",
       "      <th>Confidence</th>\n",
       "      <th>Efforts</th>\n",
       "    </tr>\n",
       "  </thead>\n",
       "  <tbody>\n",
       "    <tr>\n",
       "      <th>0</th>\n",
       "      <td>Добавить два новых канала привлечения трафика, что позволит привлекать на 30% больше пользователей</td>\n",
       "      <td>3</td>\n",
       "      <td>10</td>\n",
       "      <td>8</td>\n",
       "      <td>6</td>\n",
       "    </tr>\n",
       "    <tr>\n",
       "      <th>1</th>\n",
       "      <td>Запустить собственную службу доставки, что сократит срок доставки заказов</td>\n",
       "      <td>2</td>\n",
       "      <td>5</td>\n",
       "      <td>4</td>\n",
       "      <td>10</td>\n",
       "    </tr>\n",
       "    <tr>\n",
       "      <th>2</th>\n",
       "      <td>Добавить блоки рекомендаций товаров на сайт интернет магазина, чтобы повысить конверсию и средний чек заказа</td>\n",
       "      <td>8</td>\n",
       "      <td>3</td>\n",
       "      <td>7</td>\n",
       "      <td>3</td>\n",
       "    </tr>\n",
       "    <tr>\n",
       "      <th>3</th>\n",
       "      <td>Изменить структура категорий, что увеличит конверсию, т.к. пользователи быстрее найдут нужный товар</td>\n",
       "      <td>8</td>\n",
       "      <td>3</td>\n",
       "      <td>3</td>\n",
       "      <td>8</td>\n",
       "    </tr>\n",
       "    <tr>\n",
       "      <th>4</th>\n",
       "      <td>Изменить цвет фона главной страницы, чтобы увеличить вовлеченность пользователей</td>\n",
       "      <td>3</td>\n",
       "      <td>1</td>\n",
       "      <td>1</td>\n",
       "      <td>1</td>\n",
       "    </tr>\n",
       "    <tr>\n",
       "      <th>5</th>\n",
       "      <td>Добавить страницу отзывов клиентов о магазине, что позволит увеличить количество заказов</td>\n",
       "      <td>3</td>\n",
       "      <td>2</td>\n",
       "      <td>2</td>\n",
       "      <td>3</td>\n",
       "    </tr>\n",
       "    <tr>\n",
       "      <th>6</th>\n",
       "      <td>Показать на главной странице баннеры с актуальными акциями и распродажами, чтобы увеличить конверсию</td>\n",
       "      <td>5</td>\n",
       "      <td>3</td>\n",
       "      <td>8</td>\n",
       "      <td>3</td>\n",
       "    </tr>\n",
       "    <tr>\n",
       "      <th>7</th>\n",
       "      <td>Добавить форму подписки на все основные страницы, чтобы собрать базу клиентов для email-рассылок</td>\n",
       "      <td>10</td>\n",
       "      <td>7</td>\n",
       "      <td>8</td>\n",
       "      <td>5</td>\n",
       "    </tr>\n",
       "    <tr>\n",
       "      <th>8</th>\n",
       "      <td>Запустить акцию, дающую скидку на товар в день рождения</td>\n",
       "      <td>1</td>\n",
       "      <td>9</td>\n",
       "      <td>9</td>\n",
       "      <td>5</td>\n",
       "    </tr>\n",
       "  </tbody>\n",
       "</table>\n",
       "</div>"
      ],
      "text/plain": [
       "                                                                                                     Hypothesis  \\\n",
       "0            Добавить два новых канала привлечения трафика, что позволит привлекать на 30% больше пользователей   \n",
       "1                                     Запустить собственную службу доставки, что сократит срок доставки заказов   \n",
       "2  Добавить блоки рекомендаций товаров на сайт интернет магазина, чтобы повысить конверсию и средний чек заказа   \n",
       "3           Изменить структура категорий, что увеличит конверсию, т.к. пользователи быстрее найдут нужный товар   \n",
       "4                              Изменить цвет фона главной страницы, чтобы увеличить вовлеченность пользователей   \n",
       "5                      Добавить страницу отзывов клиентов о магазине, что позволит увеличить количество заказов   \n",
       "6          Показать на главной странице баннеры с актуальными акциями и распродажами, чтобы увеличить конверсию   \n",
       "7              Добавить форму подписки на все основные страницы, чтобы собрать базу клиентов для email-рассылок   \n",
       "8                                                       Запустить акцию, дающую скидку на товар в день рождения   \n",
       "\n",
       "   Reach  Impact  Confidence  Efforts  \n",
       "0      3      10           8        6  \n",
       "1      2       5           4       10  \n",
       "2      8       3           7        3  \n",
       "3      8       3           3        8  \n",
       "4      3       1           1        1  \n",
       "5      3       2           2        3  \n",
       "6      5       3           8        3  \n",
       "7     10       7           8        5  \n",
       "8      1       9           9        5  "
      ]
     },
     "execution_count": 34,
     "metadata": {},
     "output_type": "execute_result"
    }
   ],
   "source": [
    "hypothesis = pd.read_csv('/Users/vintera/Git/projects/my_projects/dataset/project_07/hypothesis.csv')\n",
    "hypothesis"
   ]
  },
  {
   "cell_type": "code",
   "execution_count": 35,
   "metadata": {},
   "outputs": [],
   "source": [
    "pd.options.display.max_colwidth = 150"
   ]
  },
  {
   "cell_type": "code",
   "execution_count": 36,
   "metadata": {},
   "outputs": [
    {
     "data": {
      "text/html": [
       "<div>\n",
       "<style scoped>\n",
       "    .dataframe tbody tr th:only-of-type {\n",
       "        vertical-align: middle;\n",
       "    }\n",
       "\n",
       "    .dataframe tbody tr th {\n",
       "        vertical-align: top;\n",
       "    }\n",
       "\n",
       "    .dataframe thead th {\n",
       "        text-align: right;\n",
       "    }\n",
       "</style>\n",
       "<table border=\"1\" class=\"dataframe\">\n",
       "  <thead>\n",
       "    <tr style=\"text-align: right;\">\n",
       "      <th></th>\n",
       "      <th>Hypothesis</th>\n",
       "      <th>ICE</th>\n",
       "    </tr>\n",
       "  </thead>\n",
       "  <tbody>\n",
       "    <tr>\n",
       "      <th>8</th>\n",
       "      <td>Запустить акцию, дающую скидку на товар в день рождения</td>\n",
       "      <td>16.200000</td>\n",
       "    </tr>\n",
       "    <tr>\n",
       "      <th>0</th>\n",
       "      <td>Добавить два новых канала привлечения трафика, что позволит привлекать на 30% больше пользователей</td>\n",
       "      <td>13.333333</td>\n",
       "    </tr>\n",
       "    <tr>\n",
       "      <th>7</th>\n",
       "      <td>Добавить форму подписки на все основные страницы, чтобы собрать базу клиентов для email-рассылок</td>\n",
       "      <td>11.200000</td>\n",
       "    </tr>\n",
       "    <tr>\n",
       "      <th>6</th>\n",
       "      <td>Показать на главной странице баннеры с актуальными акциями и распродажами, чтобы увеличить конверсию</td>\n",
       "      <td>8.000000</td>\n",
       "    </tr>\n",
       "    <tr>\n",
       "      <th>2</th>\n",
       "      <td>Добавить блоки рекомендаций товаров на сайт интернет магазина, чтобы повысить конверсию и средний чек заказа</td>\n",
       "      <td>7.000000</td>\n",
       "    </tr>\n",
       "    <tr>\n",
       "      <th>1</th>\n",
       "      <td>Запустить собственную службу доставки, что сократит срок доставки заказов</td>\n",
       "      <td>2.000000</td>\n",
       "    </tr>\n",
       "    <tr>\n",
       "      <th>5</th>\n",
       "      <td>Добавить страницу отзывов клиентов о магазине, что позволит увеличить количество заказов</td>\n",
       "      <td>1.333333</td>\n",
       "    </tr>\n",
       "    <tr>\n",
       "      <th>3</th>\n",
       "      <td>Изменить структура категорий, что увеличит конверсию, т.к. пользователи быстрее найдут нужный товар</td>\n",
       "      <td>1.125000</td>\n",
       "    </tr>\n",
       "    <tr>\n",
       "      <th>4</th>\n",
       "      <td>Изменить цвет фона главной страницы, чтобы увеличить вовлеченность пользователей</td>\n",
       "      <td>1.000000</td>\n",
       "    </tr>\n",
       "  </tbody>\n",
       "</table>\n",
       "</div>"
      ],
      "text/plain": [
       "                                                                                                     Hypothesis  \\\n",
       "8                                                       Запустить акцию, дающую скидку на товар в день рождения   \n",
       "0            Добавить два новых канала привлечения трафика, что позволит привлекать на 30% больше пользователей   \n",
       "7              Добавить форму подписки на все основные страницы, чтобы собрать базу клиентов для email-рассылок   \n",
       "6          Показать на главной странице баннеры с актуальными акциями и распродажами, чтобы увеличить конверсию   \n",
       "2  Добавить блоки рекомендаций товаров на сайт интернет магазина, чтобы повысить конверсию и средний чек заказа   \n",
       "1                                     Запустить собственную службу доставки, что сократит срок доставки заказов   \n",
       "5                      Добавить страницу отзывов клиентов о магазине, что позволит увеличить количество заказов   \n",
       "3           Изменить структура категорий, что увеличит конверсию, т.к. пользователи быстрее найдут нужный товар   \n",
       "4                              Изменить цвет фона главной страницы, чтобы увеличить вовлеченность пользователей   \n",
       "\n",
       "         ICE  \n",
       "8  16.200000  \n",
       "0  13.333333  \n",
       "7  11.200000  \n",
       "6   8.000000  \n",
       "2   7.000000  \n",
       "1   2.000000  \n",
       "5   1.333333  \n",
       "3   1.125000  \n",
       "4   1.000000  "
      ]
     },
     "execution_count": 36,
     "metadata": {},
     "output_type": "execute_result"
    }
   ],
   "source": [
    "hypothesis['ICE'] = (hypothesis['Impact'] * hypothesis['Confidence']) / hypothesis['Efforts']\n",
    "hypothesis[['Hypothesis', 'ICE']].sort_values(by='ICE', ascending=False)"
   ]
  },
  {
   "cell_type": "code",
   "execution_count": 37,
   "metadata": {},
   "outputs": [
    {
     "data": {
      "text/html": [
       "<div>\n",
       "<style scoped>\n",
       "    .dataframe tbody tr th:only-of-type {\n",
       "        vertical-align: middle;\n",
       "    }\n",
       "\n",
       "    .dataframe tbody tr th {\n",
       "        vertical-align: top;\n",
       "    }\n",
       "\n",
       "    .dataframe thead th {\n",
       "        text-align: right;\n",
       "    }\n",
       "</style>\n",
       "<table border=\"1\" class=\"dataframe\">\n",
       "  <thead>\n",
       "    <tr style=\"text-align: right;\">\n",
       "      <th></th>\n",
       "      <th>Hypothesis</th>\n",
       "      <th>RICE</th>\n",
       "    </tr>\n",
       "  </thead>\n",
       "  <tbody>\n",
       "    <tr>\n",
       "      <th>7</th>\n",
       "      <td>Добавить форму подписки на все основные страницы, чтобы собрать базу клиентов для email-рассылок</td>\n",
       "      <td>112.0</td>\n",
       "    </tr>\n",
       "    <tr>\n",
       "      <th>2</th>\n",
       "      <td>Добавить блоки рекомендаций товаров на сайт интернет магазина, чтобы повысить конверсию и средний чек заказа</td>\n",
       "      <td>56.0</td>\n",
       "    </tr>\n",
       "    <tr>\n",
       "      <th>0</th>\n",
       "      <td>Добавить два новых канала привлечения трафика, что позволит привлекать на 30% больше пользователей</td>\n",
       "      <td>40.0</td>\n",
       "    </tr>\n",
       "    <tr>\n",
       "      <th>6</th>\n",
       "      <td>Показать на главной странице баннеры с актуальными акциями и распродажами, чтобы увеличить конверсию</td>\n",
       "      <td>40.0</td>\n",
       "    </tr>\n",
       "    <tr>\n",
       "      <th>8</th>\n",
       "      <td>Запустить акцию, дающую скидку на товар в день рождения</td>\n",
       "      <td>16.2</td>\n",
       "    </tr>\n",
       "    <tr>\n",
       "      <th>3</th>\n",
       "      <td>Изменить структура категорий, что увеличит конверсию, т.к. пользователи быстрее найдут нужный товар</td>\n",
       "      <td>9.0</td>\n",
       "    </tr>\n",
       "    <tr>\n",
       "      <th>1</th>\n",
       "      <td>Запустить собственную службу доставки, что сократит срок доставки заказов</td>\n",
       "      <td>4.0</td>\n",
       "    </tr>\n",
       "    <tr>\n",
       "      <th>5</th>\n",
       "      <td>Добавить страницу отзывов клиентов о магазине, что позволит увеличить количество заказов</td>\n",
       "      <td>4.0</td>\n",
       "    </tr>\n",
       "    <tr>\n",
       "      <th>4</th>\n",
       "      <td>Изменить цвет фона главной страницы, чтобы увеличить вовлеченность пользователей</td>\n",
       "      <td>3.0</td>\n",
       "    </tr>\n",
       "  </tbody>\n",
       "</table>\n",
       "</div>"
      ],
      "text/plain": [
       "                                                                                                     Hypothesis  \\\n",
       "7              Добавить форму подписки на все основные страницы, чтобы собрать базу клиентов для email-рассылок   \n",
       "2  Добавить блоки рекомендаций товаров на сайт интернет магазина, чтобы повысить конверсию и средний чек заказа   \n",
       "0            Добавить два новых канала привлечения трафика, что позволит привлекать на 30% больше пользователей   \n",
       "6          Показать на главной странице баннеры с актуальными акциями и распродажами, чтобы увеличить конверсию   \n",
       "8                                                       Запустить акцию, дающую скидку на товар в день рождения   \n",
       "3           Изменить структура категорий, что увеличит конверсию, т.к. пользователи быстрее найдут нужный товар   \n",
       "1                                     Запустить собственную службу доставки, что сократит срок доставки заказов   \n",
       "5                      Добавить страницу отзывов клиентов о магазине, что позволит увеличить количество заказов   \n",
       "4                              Изменить цвет фона главной страницы, чтобы увеличить вовлеченность пользователей   \n",
       "\n",
       "    RICE  \n",
       "7  112.0  \n",
       "2   56.0  \n",
       "0   40.0  \n",
       "6   40.0  \n",
       "8   16.2  \n",
       "3    9.0  \n",
       "1    4.0  \n",
       "5    4.0  \n",
       "4    3.0  "
      ]
     },
     "execution_count": 37,
     "metadata": {},
     "output_type": "execute_result"
    }
   ],
   "source": [
    "hypothesis['RICE'] = (hypothesis['Reach'] * hypothesis['Impact'] * hypothesis['Confidence']) / hypothesis['Efforts']\n",
    "hypothesis[['Hypothesis', 'RICE']].sort_values(by='RICE', ascending=False)"
   ]
  },
  {
   "cell_type": "markdown",
   "metadata": {},
   "source": [
    "### Вывод\n",
    "Применив фреймворки \"ICE\" и \"RICE\" для оценки приоритета гипотез, мы получили две таблицы с рейтингами, отсортированными по убыванию. Приоритетность гипотез отличается, так как второй метод оценки включает в себя показатель \"Reach\" - степень охвата пользователей, которых затронет нововведение. Скидка на товар в день рождения возможно и увеличит продажи, однако контрольная группа для проведения эксперимента будет ничтожно малой, что затруднит проведение А/В-теста. Что касается лидера фреймворка \"RICE\", то можно сказать, что главной составляющей успеха этой гипотезы является охват всех пользователей интернет-магазина.  "
   ]
  },
  {
   "cell_type": "markdown",
   "metadata": {},
   "source": [
    "## Анализ A/B-теста"
   ]
  },
  {
   "cell_type": "markdown",
   "metadata": {},
   "source": [
    "### Загрузка данных и изучение общей информации"
   ]
  },
  {
   "cell_type": "code",
   "execution_count": 38,
   "metadata": {},
   "outputs": [],
   "source": [
    "orders = pd.read_csv('/Users/vintera/Git/projects/my-projects/dataset/project_07/orders.csv')\n",
    "visitors = pd.read_csv('/Users/vintera/Git/projects/my-projects/dataset/project_07/visitors.csv')"
   ]
  },
  {
   "cell_type": "code",
   "execution_count": 39,
   "metadata": {},
   "outputs": [
    {
     "data": {
      "text/html": [
       "<div>\n",
       "<style scoped>\n",
       "    .dataframe tbody tr th:only-of-type {\n",
       "        vertical-align: middle;\n",
       "    }\n",
       "\n",
       "    .dataframe tbody tr th {\n",
       "        vertical-align: top;\n",
       "    }\n",
       "\n",
       "    .dataframe thead th {\n",
       "        text-align: right;\n",
       "    }\n",
       "</style>\n",
       "<table border=\"1\" class=\"dataframe\">\n",
       "  <thead>\n",
       "    <tr style=\"text-align: right;\">\n",
       "      <th></th>\n",
       "      <th>transactionId</th>\n",
       "      <th>visitorId</th>\n",
       "      <th>date</th>\n",
       "      <th>revenue</th>\n",
       "      <th>group</th>\n",
       "    </tr>\n",
       "  </thead>\n",
       "  <tbody>\n",
       "    <tr>\n",
       "      <th>314</th>\n",
       "      <td>738849391</td>\n",
       "      <td>3161387566</td>\n",
       "      <td>2019-08-24</td>\n",
       "      <td>830</td>\n",
       "      <td>A</td>\n",
       "    </tr>\n",
       "    <tr>\n",
       "      <th>232</th>\n",
       "      <td>2883105032</td>\n",
       "      <td>3086835579</td>\n",
       "      <td>2019-08-23</td>\n",
       "      <td>2646</td>\n",
       "      <td>A</td>\n",
       "    </tr>\n",
       "    <tr>\n",
       "      <th>1071</th>\n",
       "      <td>3348489190</td>\n",
       "      <td>3112126740</td>\n",
       "      <td>2019-08-12</td>\n",
       "      <td>7690</td>\n",
       "      <td>A</td>\n",
       "    </tr>\n",
       "    <tr>\n",
       "      <th>928</th>\n",
       "      <td>2894657060</td>\n",
       "      <td>204675465</td>\n",
       "      <td>2019-08-30</td>\n",
       "      <td>33050</td>\n",
       "      <td>B</td>\n",
       "    </tr>\n",
       "    <tr>\n",
       "      <th>411</th>\n",
       "      <td>1696190144</td>\n",
       "      <td>1687240555</td>\n",
       "      <td>2019-08-06</td>\n",
       "      <td>24744</td>\n",
       "      <td>B</td>\n",
       "    </tr>\n",
       "  </tbody>\n",
       "</table>\n",
       "</div>"
      ],
      "text/plain": [
       "      transactionId   visitorId        date  revenue group\n",
       "314       738849391  3161387566  2019-08-24      830     A\n",
       "232      2883105032  3086835579  2019-08-23     2646     A\n",
       "1071     3348489190  3112126740  2019-08-12     7690     A\n",
       "928      2894657060   204675465  2019-08-30    33050     B\n",
       "411      1696190144  1687240555  2019-08-06    24744     B"
      ]
     },
     "execution_count": 39,
     "metadata": {},
     "output_type": "execute_result"
    },
    {
     "name": "stdout",
     "output_type": "stream",
     "text": [
      "<class 'pandas.core.frame.DataFrame'>\n",
      "RangeIndex: 1197 entries, 0 to 1196\n",
      "Data columns (total 5 columns):\n",
      " #   Column         Non-Null Count  Dtype \n",
      "---  ------         --------------  ----- \n",
      " 0   transactionId  1197 non-null   int64 \n",
      " 1   visitorId      1197 non-null   int64 \n",
      " 2   date           1197 non-null   object\n",
      " 3   revenue        1197 non-null   int64 \n",
      " 4   group          1197 non-null   object\n",
      "dtypes: int64(3), object(2)\n",
      "memory usage: 46.9+ KB\n"
     ]
    }
   ],
   "source": [
    "orders.sample(5)\n",
    "orders.info()"
   ]
  },
  {
   "cell_type": "code",
   "execution_count": 40,
   "metadata": {},
   "outputs": [
    {
     "data": {
      "text/html": [
       "<div>\n",
       "<style scoped>\n",
       "    .dataframe tbody tr th:only-of-type {\n",
       "        vertical-align: middle;\n",
       "    }\n",
       "\n",
       "    .dataframe tbody tr th {\n",
       "        vertical-align: top;\n",
       "    }\n",
       "\n",
       "    .dataframe thead th {\n",
       "        text-align: right;\n",
       "    }\n",
       "</style>\n",
       "<table border=\"1\" class=\"dataframe\">\n",
       "  <thead>\n",
       "    <tr style=\"text-align: right;\">\n",
       "      <th></th>\n",
       "      <th>date</th>\n",
       "      <th>group</th>\n",
       "      <th>visitors</th>\n",
       "    </tr>\n",
       "  </thead>\n",
       "  <tbody>\n",
       "    <tr>\n",
       "      <th>8</th>\n",
       "      <td>2019-08-09</td>\n",
       "      <td>A</td>\n",
       "      <td>617</td>\n",
       "    </tr>\n",
       "    <tr>\n",
       "      <th>32</th>\n",
       "      <td>2019-08-02</td>\n",
       "      <td>B</td>\n",
       "      <td>581</td>\n",
       "    </tr>\n",
       "    <tr>\n",
       "      <th>51</th>\n",
       "      <td>2019-08-21</td>\n",
       "      <td>B</td>\n",
       "      <td>656</td>\n",
       "    </tr>\n",
       "    <tr>\n",
       "      <th>43</th>\n",
       "      <td>2019-08-13</td>\n",
       "      <td>B</td>\n",
       "      <td>769</td>\n",
       "    </tr>\n",
       "    <tr>\n",
       "      <th>20</th>\n",
       "      <td>2019-08-21</td>\n",
       "      <td>A</td>\n",
       "      <td>646</td>\n",
       "    </tr>\n",
       "  </tbody>\n",
       "</table>\n",
       "</div>"
      ],
      "text/plain": [
       "          date group  visitors\n",
       "8   2019-08-09     A       617\n",
       "32  2019-08-02     B       581\n",
       "51  2019-08-21     B       656\n",
       "43  2019-08-13     B       769\n",
       "20  2019-08-21     A       646"
      ]
     },
     "execution_count": 40,
     "metadata": {},
     "output_type": "execute_result"
    },
    {
     "name": "stdout",
     "output_type": "stream",
     "text": [
      "<class 'pandas.core.frame.DataFrame'>\n",
      "RangeIndex: 62 entries, 0 to 61\n",
      "Data columns (total 3 columns):\n",
      " #   Column    Non-Null Count  Dtype \n",
      "---  ------    --------------  ----- \n",
      " 0   date      62 non-null     object\n",
      " 1   group     62 non-null     object\n",
      " 2   visitors  62 non-null     int64 \n",
      "dtypes: int64(1), object(2)\n",
      "memory usage: 1.6+ KB\n"
     ]
    }
   ],
   "source": [
    "visitors.sample(5)\n",
    "visitors.info()"
   ]
  },
  {
   "cell_type": "markdown",
   "metadata": {},
   "source": [
    "### Предобработка и исследование данных"
   ]
  },
  {
   "cell_type": "code",
   "execution_count": 41,
   "metadata": {},
   "outputs": [],
   "source": [
    "orders['date'] = orders['date'].map(lambda x: dt.datetime.strptime(x, '%Y-%m-%d'))\n",
    "visitors['date'] = visitors['date'].map(lambda x: dt.datetime.strptime(x, '%Y-%m-%d'))"
   ]
  },
  {
   "cell_type": "markdown",
   "metadata": {},
   "source": [
    "#### Вывод\n",
    "\n",
    "Данные результатов теста, содержащие информацию о заказах и посетителях прочитаны, осмотрены, формат даты в них исправлен. Другими словами, данные готовы для работы с ними."
   ]
  },
  {
   "cell_type": "markdown",
   "metadata": {},
   "source": [
    "### Исследовательский анализ данных (EDA)"
   ]
  },
  {
   "cell_type": "markdown",
   "metadata": {},
   "source": [
    "#### Кумулятивная выручка по группам"
   ]
  },
  {
   "cell_type": "code",
   "execution_count": 42,
   "metadata": {},
   "outputs": [
    {
     "data": {
      "text/html": [
       "<div>\n",
       "<style scoped>\n",
       "    .dataframe tbody tr th:only-of-type {\n",
       "        vertical-align: middle;\n",
       "    }\n",
       "\n",
       "    .dataframe tbody tr th {\n",
       "        vertical-align: top;\n",
       "    }\n",
       "\n",
       "    .dataframe thead th {\n",
       "        text-align: right;\n",
       "    }\n",
       "</style>\n",
       "<table border=\"1\" class=\"dataframe\">\n",
       "  <thead>\n",
       "    <tr style=\"text-align: right;\">\n",
       "      <th></th>\n",
       "      <th>date</th>\n",
       "      <th>group</th>\n",
       "      <th>orders</th>\n",
       "      <th>buyers</th>\n",
       "      <th>revenue</th>\n",
       "      <th>visitors</th>\n",
       "      <th>conversion</th>\n",
       "      <th>avgCheck</th>\n",
       "    </tr>\n",
       "  </thead>\n",
       "  <tbody>\n",
       "    <tr>\n",
       "      <th>0</th>\n",
       "      <td>2019-08-01</td>\n",
       "      <td>A</td>\n",
       "      <td>24</td>\n",
       "      <td>20</td>\n",
       "      <td>148579</td>\n",
       "      <td>719</td>\n",
       "      <td>0.033380</td>\n",
       "      <td>6190.791667</td>\n",
       "    </tr>\n",
       "    <tr>\n",
       "      <th>1</th>\n",
       "      <td>2019-08-01</td>\n",
       "      <td>B</td>\n",
       "      <td>21</td>\n",
       "      <td>20</td>\n",
       "      <td>101217</td>\n",
       "      <td>713</td>\n",
       "      <td>0.029453</td>\n",
       "      <td>4819.857143</td>\n",
       "    </tr>\n",
       "    <tr>\n",
       "      <th>2</th>\n",
       "      <td>2019-08-02</td>\n",
       "      <td>A</td>\n",
       "      <td>44</td>\n",
       "      <td>38</td>\n",
       "      <td>242401</td>\n",
       "      <td>1338</td>\n",
       "      <td>0.032885</td>\n",
       "      <td>5509.113636</td>\n",
       "    </tr>\n",
       "    <tr>\n",
       "      <th>3</th>\n",
       "      <td>2019-08-02</td>\n",
       "      <td>B</td>\n",
       "      <td>45</td>\n",
       "      <td>43</td>\n",
       "      <td>266748</td>\n",
       "      <td>1294</td>\n",
       "      <td>0.034776</td>\n",
       "      <td>5927.733333</td>\n",
       "    </tr>\n",
       "    <tr>\n",
       "      <th>4</th>\n",
       "      <td>2019-08-03</td>\n",
       "      <td>A</td>\n",
       "      <td>68</td>\n",
       "      <td>62</td>\n",
       "      <td>354874</td>\n",
       "      <td>1845</td>\n",
       "      <td>0.036856</td>\n",
       "      <td>5218.735294</td>\n",
       "    </tr>\n",
       "  </tbody>\n",
       "</table>\n",
       "</div>"
      ],
      "text/plain": [
       "        date group  orders  buyers  revenue  visitors  conversion     avgCheck\n",
       "0 2019-08-01     A      24      20   148579       719    0.033380  6190.791667\n",
       "1 2019-08-01     B      21      20   101217       713    0.029453  4819.857143\n",
       "2 2019-08-02     A      44      38   242401      1338    0.032885  5509.113636\n",
       "3 2019-08-02     B      45      43   266748      1294    0.034776  5927.733333\n",
       "4 2019-08-03     A      68      62   354874      1845    0.036856  5218.735294"
      ]
     },
     "execution_count": 42,
     "metadata": {},
     "output_type": "execute_result"
    },
    {
     "data": {
      "text/html": [
       "<div>\n",
       "<style scoped>\n",
       "    .dataframe tbody tr th:only-of-type {\n",
       "        vertical-align: middle;\n",
       "    }\n",
       "\n",
       "    .dataframe tbody tr th {\n",
       "        vertical-align: top;\n",
       "    }\n",
       "\n",
       "    .dataframe thead th {\n",
       "        text-align: right;\n",
       "    }\n",
       "</style>\n",
       "<table border=\"1\" class=\"dataframe\">\n",
       "  <thead>\n",
       "    <tr style=\"text-align: right;\">\n",
       "      <th></th>\n",
       "      <th>date</th>\n",
       "      <th>group</th>\n",
       "      <th>orders</th>\n",
       "      <th>buyers</th>\n",
       "      <th>revenue</th>\n",
       "      <th>visitors</th>\n",
       "      <th>conversion</th>\n",
       "      <th>avgCheck</th>\n",
       "    </tr>\n",
       "  </thead>\n",
       "  <tbody>\n",
       "    <tr>\n",
       "      <th>0</th>\n",
       "      <td>2019-08-01</td>\n",
       "      <td>A</td>\n",
       "      <td>24</td>\n",
       "      <td>20</td>\n",
       "      <td>148579</td>\n",
       "      <td>719</td>\n",
       "      <td>0.033380</td>\n",
       "      <td>6190.791667</td>\n",
       "    </tr>\n",
       "    <tr>\n",
       "      <th>2</th>\n",
       "      <td>2019-08-02</td>\n",
       "      <td>A</td>\n",
       "      <td>44</td>\n",
       "      <td>38</td>\n",
       "      <td>242401</td>\n",
       "      <td>1338</td>\n",
       "      <td>0.032885</td>\n",
       "      <td>5509.113636</td>\n",
       "    </tr>\n",
       "    <tr>\n",
       "      <th>4</th>\n",
       "      <td>2019-08-03</td>\n",
       "      <td>A</td>\n",
       "      <td>68</td>\n",
       "      <td>62</td>\n",
       "      <td>354874</td>\n",
       "      <td>1845</td>\n",
       "      <td>0.036856</td>\n",
       "      <td>5218.735294</td>\n",
       "    </tr>\n",
       "    <tr>\n",
       "      <th>6</th>\n",
       "      <td>2019-08-04</td>\n",
       "      <td>A</td>\n",
       "      <td>84</td>\n",
       "      <td>77</td>\n",
       "      <td>425699</td>\n",
       "      <td>2562</td>\n",
       "      <td>0.032787</td>\n",
       "      <td>5067.845238</td>\n",
       "    </tr>\n",
       "    <tr>\n",
       "      <th>8</th>\n",
       "      <td>2019-08-05</td>\n",
       "      <td>A</td>\n",
       "      <td>109</td>\n",
       "      <td>100</td>\n",
       "      <td>549917</td>\n",
       "      <td>3318</td>\n",
       "      <td>0.032851</td>\n",
       "      <td>5045.110092</td>\n",
       "    </tr>\n",
       "  </tbody>\n",
       "</table>\n",
       "</div>"
      ],
      "text/plain": [
       "        date group  orders  buyers  revenue  visitors  conversion     avgCheck\n",
       "0 2019-08-01     A      24      20   148579       719    0.033380  6190.791667\n",
       "2 2019-08-02     A      44      38   242401      1338    0.032885  5509.113636\n",
       "4 2019-08-03     A      68      62   354874      1845    0.036856  5218.735294\n",
       "6 2019-08-04     A      84      77   425699      2562    0.032787  5067.845238\n",
       "8 2019-08-05     A     109     100   549917      3318    0.032851  5045.110092"
      ]
     },
     "execution_count": 42,
     "metadata": {},
     "output_type": "execute_result"
    },
    {
     "data": {
      "text/html": [
       "<div>\n",
       "<style scoped>\n",
       "    .dataframe tbody tr th:only-of-type {\n",
       "        vertical-align: middle;\n",
       "    }\n",
       "\n",
       "    .dataframe tbody tr th {\n",
       "        vertical-align: top;\n",
       "    }\n",
       "\n",
       "    .dataframe thead th {\n",
       "        text-align: right;\n",
       "    }\n",
       "</style>\n",
       "<table border=\"1\" class=\"dataframe\">\n",
       "  <thead>\n",
       "    <tr style=\"text-align: right;\">\n",
       "      <th></th>\n",
       "      <th>date</th>\n",
       "      <th>group</th>\n",
       "      <th>orders</th>\n",
       "      <th>buyers</th>\n",
       "      <th>revenue</th>\n",
       "      <th>visitors</th>\n",
       "      <th>conversion</th>\n",
       "      <th>avgCheck</th>\n",
       "    </tr>\n",
       "  </thead>\n",
       "  <tbody>\n",
       "    <tr>\n",
       "      <th>1</th>\n",
       "      <td>2019-08-01</td>\n",
       "      <td>B</td>\n",
       "      <td>21</td>\n",
       "      <td>20</td>\n",
       "      <td>101217</td>\n",
       "      <td>713</td>\n",
       "      <td>0.029453</td>\n",
       "      <td>4819.857143</td>\n",
       "    </tr>\n",
       "    <tr>\n",
       "      <th>3</th>\n",
       "      <td>2019-08-02</td>\n",
       "      <td>B</td>\n",
       "      <td>45</td>\n",
       "      <td>43</td>\n",
       "      <td>266748</td>\n",
       "      <td>1294</td>\n",
       "      <td>0.034776</td>\n",
       "      <td>5927.733333</td>\n",
       "    </tr>\n",
       "    <tr>\n",
       "      <th>5</th>\n",
       "      <td>2019-08-03</td>\n",
       "      <td>B</td>\n",
       "      <td>61</td>\n",
       "      <td>59</td>\n",
       "      <td>380996</td>\n",
       "      <td>1803</td>\n",
       "      <td>0.033833</td>\n",
       "      <td>6245.836066</td>\n",
       "    </tr>\n",
       "    <tr>\n",
       "      <th>7</th>\n",
       "      <td>2019-08-04</td>\n",
       "      <td>B</td>\n",
       "      <td>78</td>\n",
       "      <td>75</td>\n",
       "      <td>489567</td>\n",
       "      <td>2573</td>\n",
       "      <td>0.030315</td>\n",
       "      <td>6276.500000</td>\n",
       "    </tr>\n",
       "    <tr>\n",
       "      <th>9</th>\n",
       "      <td>2019-08-05</td>\n",
       "      <td>B</td>\n",
       "      <td>101</td>\n",
       "      <td>98</td>\n",
       "      <td>581995</td>\n",
       "      <td>3280</td>\n",
       "      <td>0.030793</td>\n",
       "      <td>5762.326733</td>\n",
       "    </tr>\n",
       "  </tbody>\n",
       "</table>\n",
       "</div>"
      ],
      "text/plain": [
       "        date group  orders  buyers  revenue  visitors  conversion     avgCheck\n",
       "1 2019-08-01     B      21      20   101217       713    0.029453  4819.857143\n",
       "3 2019-08-02     B      45      43   266748      1294    0.034776  5927.733333\n",
       "5 2019-08-03     B      61      59   380996      1803    0.033833  6245.836066\n",
       "7 2019-08-04     B      78      75   489567      2573    0.030315  6276.500000\n",
       "9 2019-08-05     B     101      98   581995      3280    0.030793  5762.326733"
      ]
     },
     "execution_count": 42,
     "metadata": {},
     "output_type": "execute_result"
    }
   ],
   "source": [
    "# Создадим таблицу, содержащую уникальные даты проведения теста для каждой из групп\n",
    "datesGroups = orders[['date', 'group']].drop_duplicates()\n",
    "\n",
    "# Используя полученную таблицу получим агрегированные кумулятивные по дням данные о заказах\n",
    "ordersAggregated = datesGroups.apply(\n",
    "    lambda x: orders[np.logical_and(orders['date'] <= x['date'], orders['group'] == x['group'])].agg({\n",
    "        'date' : 'max',\n",
    "        'group' : 'max',\n",
    "        'transactionId' : pd.Series.nunique,\n",
    "        'visitorId' : pd.Series.nunique,\n",
    "        'revenue' : 'sum'}), axis=1).sort_values(by=['date','group'])\n",
    "\n",
    "# А также агрегированные кумулятивные по дням данные о посетителях интернет-магазина \n",
    "visitorsAggregated = datesGroups.apply(\n",
    "    lambda x: visitors[np.logical_and(visitors['date'] <= x['date'], visitors['group'] == x['group'])].agg({\n",
    "        'date' : 'max',\n",
    "        'group' : 'max',\n",
    "        'visitors' : 'sum'}), axis=1).sort_values(by=['date','group'])\n",
    "\n",
    "# Объединим таблицы, переименуем столбцы и добавим новые\n",
    "cumulativeData = pd.merge(ordersAggregated, visitorsAggregated, on=['date', 'group'])\n",
    "cumulativeData.columns = ['date', 'group', 'orders', 'buyers', 'revenue', 'visitors']\n",
    "cumulativeData['conversion'] = cumulativeData['orders']/cumulativeData['visitors']\n",
    "cumulativeData['avgCheck'] = cumulativeData['revenue'] / cumulativeData['orders']\n",
    "\n",
    "# Разделим данные по группам\n",
    "cumulativeDataA = cumulativeData.query('group == \"A\"')\n",
    "cumulativeDataB = cumulativeData.query('group == \"B\"')\n",
    "\n",
    "cumulativeData.head(5)\n",
    "cumulativeDataA.head(5)\n",
    "cumulativeDataB.head(5)"
   ]
  },
  {
   "cell_type": "code",
   "execution_count": 43,
   "metadata": {},
   "outputs": [
    {
     "data": {
      "text/plain": [
       "Text(0.5, 0, 'Дата эксперимента')"
      ]
     },
     "execution_count": 43,
     "metadata": {},
     "output_type": "execute_result"
    },
    {
     "data": {
      "text/plain": [
       "Text(0, 0.5, 'Кумулятивная выручка')"
      ]
     },
     "execution_count": 43,
     "metadata": {},
     "output_type": "execute_result"
    },
    {
     "data": {
      "image/png": "[encoded data removed]",
      "text/plain": [
       "<Figure size 500x500 with 1 Axes>"
      ]
     },
     "metadata": {},
     "output_type": "display_data"
    }
   ],
   "source": [
    "# Построим график кумулятивной выручки по группам\n",
    "pltA = cumulativeDataA.plot(\n",
    "    x='date', y='revenue', style='-', label='A')\n",
    "\n",
    "pltAB = cumulativeDataB.plot(\n",
    "    x='date', y='revenue', style='-', label='B', ax=pltA, figsize=(5, 5), grid=True, \n",
    "    title='График кумулятивной выручки по группам')\n",
    "plt.xlabel('Дата эксперимента')\n",
    "plt.ylabel('Кумулятивная выручка')"
   ]
  },
  {
   "cell_type": "markdown",
   "metadata": {},
   "source": [
    "##### Вывод\n",
    "Исходя из графика, можно сказать, что до 18 августа кумулятивная сумма выручки у групп была относительно равной, после чего показатели группы В начали значительно превосходить показатели группы А. Анализируя увиденное на графике, можно предположить, что 19.08.19 у покупателей группы В был всплеск покупательской активности или ими была совершена одна или несколько аномально дорогих покупок на общую сумму около 1.5 млн."
   ]
  },
  {
   "cell_type": "markdown",
   "metadata": {},
   "source": [
    "#### Кумулятивный средний чек по группам"
   ]
  },
  {
   "cell_type": "code",
   "execution_count": 44,
   "metadata": {},
   "outputs": [
    {
     "data": {
      "text/plain": [
       "Text(0.5, 0, 'Дата эксперимента')"
      ]
     },
     "execution_count": 44,
     "metadata": {},
     "output_type": "execute_result"
    },
    {
     "data": {
      "text/plain": [
       "Text(0, 0.5, 'Сумма среднего чека')"
      ]
     },
     "execution_count": 44,
     "metadata": {},
     "output_type": "execute_result"
    },
    {
     "data": {
      "image/png": "[encoded data removed]",
      "text/plain": [
       "<Figure size 500x500 with 1 Axes>"
      ]
     },
     "metadata": {},
     "output_type": "display_data"
    }
   ],
   "source": [
    "# Построим график кумулятивного среднего чека по группам\n",
    "pltA = cumulativeDataA.plot(\n",
    "    x='date', y='avgCheck', style='-', label='A')\n",
    "\n",
    "pltAB = cumulativeDataB.plot(\n",
    "    x='date', y='avgCheck', style='-', label='B', ax=pltA, figsize=(5, 5), grid=True, \n",
    "    title='График кумулятивного среднего чека по группам')\n",
    "plt.xlabel('Дата эксперимента')\n",
    "plt.ylabel('Сумма среднего чека')"
   ]
  },
  {
   "cell_type": "markdown",
   "metadata": {},
   "source": [
    "##### Вывод\n",
    "Как и следовало ожидать, средний чек группы В совершает скачок в тот же период времени, что и в графике выручки и к завершению теста превышает средний чек группы А в среднем на 2000."
   ]
  },
  {
   "cell_type": "markdown",
   "metadata": {},
   "source": [
    "#### Относительное изменение кумулятивного среднего чека группы B к группе A"
   ]
  },
  {
   "cell_type": "code",
   "execution_count": 45,
   "metadata": {},
   "outputs": [
    {
     "data": {
      "text/plain": [
       "<AxesSubplot: title={'center': 'График относительного изменения кумулятивного среднего чека группы B к группе A'}, xlabel='date'>"
      ]
     },
     "execution_count": 45,
     "metadata": {},
     "output_type": "execute_result"
    },
    {
     "data": {
      "text/plain": [
       "Text(0.5, 0, 'Дата эксперимента')"
      ]
     },
     "execution_count": 45,
     "metadata": {},
     "output_type": "execute_result"
    },
    {
     "data": {
      "text/plain": [
       "Text(0, 0.5, 'Относительное изменение')"
      ]
     },
     "execution_count": 45,
     "metadata": {},
     "output_type": "execute_result"
    },
    {
     "data": {
      "text/plain": [
       "<matplotlib.lines.Line2D at 0x14cdde010>"
      ]
     },
     "execution_count": 45,
     "metadata": {},
     "output_type": "execute_result"
    },
    {
     "data": {
      "image/png": "[encoded data removed]",
      "text/plain": [
       "<Figure size 500x500 with 1 Axes>"
      ]
     },
     "metadata": {},
     "output_type": "display_data"
    }
   ],
   "source": [
    "# Объеденним кумулятивные данные групп\n",
    "mergedAB = cumulativeDataA.merge(cumulativeDataB, on='date', how='left', suffixes=['A', 'B'])\n",
    "\n",
    "# Посчитаем относительное изменение суммы среднего чека группы В к группе А\n",
    "mergedAB['relative_change_avgCheck'] = (mergedAB['avgCheckB']/(mergedAB['avgCheckA'])-1)\n",
    "\n",
    "# Построим график\n",
    "mergedAB.plot(\n",
    "    x='date', y='relative_change_avgCheck', style='-', figsize=(5, 5), grid=True, \n",
    "    title='График относительного изменения кумулятивного среднего чека группы B к группе A')\n",
    "plt.xlabel('Дата эксперимента')\n",
    "plt.ylabel('Относительное изменение')\n",
    "plt.axhline(y=0, color='red', linestyle='--')"
   ]
  },
  {
   "cell_type": "markdown",
   "metadata": {},
   "source": [
    "##### Вывод\n",
    "На графике видны всплески показателей среднего чека группы В по отношению к показателям группы А, что может говорить о наличии аномальных значений в имеющихся данных."
   ]
  },
  {
   "cell_type": "markdown",
   "metadata": {},
   "source": [
    "#### Кумулятивная конверсия по группам"
   ]
  },
  {
   "cell_type": "code",
   "execution_count": 46,
   "metadata": {},
   "outputs": [
    {
     "data": {
      "text/plain": [
       "(0.0, 0.07)"
      ]
     },
     "execution_count": 46,
     "metadata": {},
     "output_type": "execute_result"
    },
    {
     "data": {
      "text/plain": [
       "Text(0.5, 0, 'Дата эксперимента')"
      ]
     },
     "execution_count": 46,
     "metadata": {},
     "output_type": "execute_result"
    },
    {
     "data": {
      "text/plain": [
       "Text(0, 0.5, 'Процент конверсии')"
      ]
     },
     "execution_count": 46,
     "metadata": {},
     "output_type": "execute_result"
    },
    {
     "data": {
      "image/png": "[encoded data removed]",
      "text/plain": [
       "<Figure size 500x500 with 1 Axes>"
      ]
     },
     "metadata": {},
     "output_type": "display_data"
    }
   ],
   "source": [
    "# Построим график кумулятивной конверсии по группам\n",
    "pltA = cumulativeDataA.plot(\n",
    "    x='date', y='conversion', style='-', label='A')\n",
    "\n",
    "pltAB = cumulativeDataB.plot(\n",
    "    x='date', y='conversion', style='-', label='B', ax=pltA, figsize=(5, 5), grid=True, \n",
    "    title='График кумулятивной конверсии по группам')\n",
    "plt.ylim(0, 0.07)\n",
    "plt.xlabel('Дата эксперимента')\n",
    "plt.ylabel('Процент конверсии')"
   ]
  },
  {
   "cell_type": "markdown",
   "metadata": {},
   "source": [
    "##### Вывод\n",
    "Приблизительно до 06.08 показатели конверсий групп распределяются пропорционально друг другу, после чего, вплоть до 10.08 конверсия группы В повышается, а группы А идет на спад. После 10.08 показатели групп фиксируются и распределяются на графике паралельно друг к другу."
   ]
  },
  {
   "cell_type": "markdown",
   "metadata": {},
   "source": [
    "#### Относительное изменение кумулятивной конверсии группы B к группе A"
   ]
  },
  {
   "cell_type": "code",
   "execution_count": 47,
   "metadata": {},
   "outputs": [
    {
     "data": {
      "text/plain": [
       "<AxesSubplot: title={'center': 'График относительного изменения кумулятивной конверсии группы B к группе A'}, xlabel='date'>"
      ]
     },
     "execution_count": 47,
     "metadata": {},
     "output_type": "execute_result"
    },
    {
     "data": {
      "text/plain": [
       "Text(0.5, 0, 'Дата эксперимента')"
      ]
     },
     "execution_count": 47,
     "metadata": {},
     "output_type": "execute_result"
    },
    {
     "data": {
      "text/plain": [
       "Text(0, 0.5, 'Относительное изменение')"
      ]
     },
     "execution_count": 47,
     "metadata": {},
     "output_type": "execute_result"
    },
    {
     "data": {
      "text/plain": [
       "<matplotlib.lines.Line2D at 0x176dc8ad0>"
      ]
     },
     "execution_count": 47,
     "metadata": {},
     "output_type": "execute_result"
    },
    {
     "data": {
      "image/png": "[encoded data removed]",
      "text/plain": [
       "<Figure size 500x500 with 1 Axes>"
      ]
     },
     "metadata": {},
     "output_type": "display_data"
    }
   ],
   "source": [
    "# Посчитаем относительное изменение конверсии группы В к группе А\n",
    "mergedAB['relative_change_conversion'] = (mergedAB['conversionB']/(mergedAB['conversionA'])-1)\n",
    "\n",
    "# Построим график\n",
    "mergedAB.plot(\n",
    "    x='date', y='relative_change_conversion', style='-', figsize=(5, 5), grid=True, \n",
    "    title='График относительного изменения кумулятивной конверсии группы B к группе A')\n",
    "plt.xlabel('Дата эксперимента')\n",
    "plt.ylabel('Относительное изменение')\n",
    "plt.axhline(y=0, color='red', linestyle='--')"
   ]
  },
  {
   "cell_type": "markdown",
   "metadata": {},
   "source": [
    "##### Вывод\n",
    "Если до 06.08 показатели группы В колебались по отношению к группе А (сперва были выше, затем ниже), то после этой даты они подскачили и зафиксировались на высокой отметке."
   ]
  },
  {
   "cell_type": "markdown",
   "metadata": {},
   "source": [
    "#### Количество заказов по пользователям"
   ]
  },
  {
   "cell_type": "code",
   "execution_count": 48,
   "metadata": {},
   "outputs": [
    {
     "data": {
      "text/plain": [
       "<AxesSubplot: title={'center': 'График количества заказов по пользователям'}, xlabel='id', ylabel='orders'>"
      ]
     },
     "execution_count": 48,
     "metadata": {},
     "output_type": "execute_result"
    },
    {
     "data": {
      "text/plain": [
       "Text(0.5, 0, 'Пользователи')"
      ]
     },
     "execution_count": 48,
     "metadata": {},
     "output_type": "execute_result"
    },
    {
     "data": {
      "text/plain": [
       "Text(0, 0.5, 'Количество заказов')"
      ]
     },
     "execution_count": 48,
     "metadata": {},
     "output_type": "execute_result"
    },
    {
     "data": {
      "image/png": "[encoded data removed]",
      "text/plain": [
       "<Figure size 1000x500 with 1 Axes>"
      ]
     },
     "metadata": {},
     "output_type": "display_data"
    }
   ],
   "source": [
    "# Сгруппируем данные о заказах, чтобы получить данные о количестве заказов на одного пользователя\n",
    "number_of_orders = orders.groupby('visitorId').agg({'transactionId' : 'count'}).reset_index()\n",
    "number_of_orders.columns = ['id', 'orders']\n",
    "\n",
    "# Построим точечный график\n",
    "number_of_orders.plot(x='id', y='orders', \n",
    "                    kind='scatter', \n",
    "                    grid=True, \n",
    "                    figsize=(10,5), \n",
    "                    title='График количества заказов по пользователям')\n",
    "plt.xlabel('Пользователи')\n",
    "plt.ylabel('Количество заказов')"
   ]
  },
  {
   "cell_type": "markdown",
   "metadata": {},
   "source": [
    "##### Вывод\n",
    "Клиентов, оформивших более двух заказов можно по пальцам сосчитать. В основном клиенты оформляли один заказ за исследуемый период."
   ]
  },
  {
   "cell_type": "markdown",
   "metadata": {},
   "source": [
    "#### Перцентили количества заказов на пользователя"
   ]
  },
  {
   "cell_type": "code",
   "execution_count": 49,
   "metadata": {},
   "outputs": [
    {
     "name": "stdout",
     "output_type": "stream",
     "text": [
      "Всего клиентов совершивших заказы: 1031\n",
      "\n",
      "95-й перцентиль: 2 заказа\n",
      "Клиентов, совершивших более 2-х заказов: 30, что составляет: 2.9% от общего числа заказов\n",
      "\n",
      "99-й перцентиль: 4 заказа\n",
      "Клиентов, совершивших более 4-х заказов: 10, что составляет: 1.0% от общего числа заказов\n"
     ]
    }
   ],
   "source": [
    "orders_percentile = np.percentile(number_of_orders['orders'], [95, 99]) \n",
    "print('Всего клиентов совершивших заказы: {}'.format(len(number_of_orders)))\n",
    "print()\n",
    "print('95-й перцентиль: {:.0f} заказа'.format(orders_percentile[0]))\n",
    "print('Клиентов, совершивших более 2-х заказов: {}, что составляет: {:.1%} от общего числа заказов'.format(\n",
    "    number_of_orders.query('orders > 2')['orders'].count(), (\n",
    "        number_of_orders.query('orders > 2')['orders'].count() / len(number_of_orders))))\n",
    "print()\n",
    "print('99-й перцентиль: {:.0f} заказа'.format(orders_percentile[1]))\n",
    "print('Клиентов, совершивших более 4-х заказов: {}, что составляет: {:.1%} от общего числа заказов'.format(\n",
    "    number_of_orders.query('orders > 4')['orders'].count(), (\n",
    "        number_of_orders.query('orders > 4')['orders'].count() / len(number_of_orders))))"
   ]
  },
  {
   "cell_type": "markdown",
   "metadata": {},
   "source": [
    "##### Вывод\n",
    "Исходя из полученных данных, целесообразно выбрать границей для аномальных пользователей 95-й перцентиль, а значит избавиться от данных 30 клиентов, совершивших более 2-х заказов (2.9%)."
   ]
  },
  {
   "cell_type": "markdown",
   "metadata": {},
   "source": [
    "#### Стоимости заказов"
   ]
  },
  {
   "cell_type": "code",
   "execution_count": 50,
   "metadata": {},
   "outputs": [
    {
     "data": {
      "text/plain": [
       "<AxesSubplot: title={'center': 'График стоимостей заказов'}, xlabel='visitorId', ylabel='revenue'>"
      ]
     },
     "execution_count": 50,
     "metadata": {},
     "output_type": "execute_result"
    },
    {
     "data": {
      "text/plain": [
       "Text(0.5, 0, 'Пользователи')"
      ]
     },
     "execution_count": 50,
     "metadata": {},
     "output_type": "execute_result"
    },
    {
     "data": {
      "text/plain": [
       "Text(0, 0.5, 'Стоимость заказа')"
      ]
     },
     "execution_count": 50,
     "metadata": {},
     "output_type": "execute_result"
    },
    {
     "data": {
      "image/png": "[encoded data removed]",
      "text/plain": [
       "<Figure size 500x500 with 1 Axes>"
      ]
     },
     "metadata": {},
     "output_type": "display_data"
    }
   ],
   "source": [
    "# Построим точечный график\n",
    "orders.plot(x='visitorId', y='revenue', \n",
    "                    kind='scatter', \n",
    "                    grid=True, \n",
    "                    figsize=(5,5), \n",
    "                    title='График стоимостей заказов')\n",
    "plt.xlabel('Пользователи')\n",
    "plt.ylabel('Стоимость заказа')"
   ]
  },
  {
   "cell_type": "markdown",
   "metadata": {},
   "source": [
    "##### Комментарий\n",
    "Из-за одной покупки, стоимостью выше 1 млн., график получился не очень информативным. Попробуем снова, установив границу на 100 тыс."
   ]
  },
  {
   "cell_type": "code",
   "execution_count": 51,
   "metadata": {},
   "outputs": [
    {
     "data": {
      "text/plain": [
       "<AxesSubplot: title={'center': 'График стоимостей заказов'}, xlabel='visitorId', ylabel='revenue'>"
      ]
     },
     "execution_count": 51,
     "metadata": {},
     "output_type": "execute_result"
    },
    {
     "data": {
      "text/plain": [
       "Text(0.5, 0, 'Пользователи')"
      ]
     },
     "execution_count": 51,
     "metadata": {},
     "output_type": "execute_result"
    },
    {
     "data": {
      "text/plain": [
       "Text(0, 0.5, 'Стоимость заказа')"
      ]
     },
     "execution_count": 51,
     "metadata": {},
     "output_type": "execute_result"
    },
    {
     "data": {
      "text/plain": [
       "(0.0, 100000.0)"
      ]
     },
     "execution_count": 51,
     "metadata": {},
     "output_type": "execute_result"
    },
    {
     "data": {
      "image/png": "[encoded data removed]",
      "text/plain": [
       "<Figure size 500x500 with 1 Axes>"
      ]
     },
     "metadata": {},
     "output_type": "display_data"
    }
   ],
   "source": [
    "orders.plot(x='visitorId', y='revenue', \n",
    "                    kind='scatter', \n",
    "                    grid=True, \n",
    "                    figsize=(5,5), \n",
    "                    title='График стоимостей заказов')\n",
    "plt.xlabel('Пользователи')\n",
    "plt.ylabel('Стоимость заказа')\n",
    "plt.ylim(0, 100000)"
   ]
  },
  {
   "cell_type": "markdown",
   "metadata": {},
   "source": [
    "##### Вывод\n",
    "Теперь распределение стоимостей видно отчетливее. С уверенностью можно сказать, что подавляющее большинство стоимостей заказов не превышало 20000."
   ]
  },
  {
   "cell_type": "markdown",
   "metadata": {},
   "source": [
    "#### Перцентили стоимости заказов"
   ]
  },
  {
   "cell_type": "code",
   "execution_count": 52,
   "metadata": {},
   "outputs": [
    {
     "name": "stdout",
     "output_type": "stream",
     "text": [
      "Всего заказов: 1197\n",
      "\n",
      "95-й перцентиль: 28000\n",
      "Заказов дороже 28000: 60\n",
      "\n",
      "99-й перцентиль: 58233\n",
      "Заказов дороже 58233: 12\n"
     ]
    }
   ],
   "source": [
    "price_percentile = np.percentile(orders['revenue'], [95, 99]) \n",
    "print('Всего заказов: {}'.format(len(orders)))\n",
    "print()\n",
    "print('95-й перцентиль: {:.0f}'.format(price_percentile[0]))\n",
    "print('Заказов дороже 28000: {}'.format(\n",
    "    orders.query('revenue > 28000')['revenue'].count()))\n",
    "print()\n",
    "print('99-й перцентиль: {:.0f}'.format(price_percentile[1]))\n",
    "print('Заказов дороже 58233: {}'.format(\n",
    "    orders.query('revenue > 58233')['revenue'].count()))"
   ]
  },
  {
   "cell_type": "markdown",
   "metadata": {},
   "source": [
    "##### Вывод\n",
    "Всего 60 из 1197 заказов превышают стоимость в 28000. Границей для определения аномальных заказов выберем 95-й перцентиль."
   ]
  },
  {
   "cell_type": "markdown",
   "metadata": {},
   "source": [
    "#### Статистическая значимость различий в конверсии между группами по «сырым» данным"
   ]
  },
  {
   "cell_type": "code",
   "execution_count": 53,
   "metadata": {},
   "outputs": [],
   "source": [
    "# Посчитаем количество заказов на каждого пользователя по группам\n",
    "ordersByUsersA = orders.query(\n",
    "    'group == \"A\"').groupby(\n",
    "    'visitorId').agg({\n",
    "    'transactionId': 'count'}).reset_index()\n",
    "ordersByUsersA.columns = ['id', 'orders']\n",
    "\n",
    "ordersByUsersB = orders.query(\n",
    "    'group == \"B\"').groupby(\n",
    "    'visitorId').agg({\n",
    "    'transactionId': 'count'}).reset_index()\n",
    "ordersByUsersB.columns = ['id', 'orders']"
   ]
  },
  {
   "cell_type": "code",
   "execution_count": 54,
   "metadata": {},
   "outputs": [
    {
     "data": {
      "text/plain": [
       "1089"
      ]
     },
     "execution_count": 54,
     "metadata": {},
     "output_type": "execute_result"
    }
   ],
   "source": [
    "ordersByUsersA['id'].count() + ordersByUsersB['id'].count()"
   ]
  },
  {
   "cell_type": "markdown",
   "metadata": {},
   "source": [
    "##### Комментарий\n",
    "При группировке по пользователям, с разбивкой на группы А и В получилось 1089 пользователей, а как мы могли заметить ранее, при группировке для формирования точечного графика без разъединения на группы, пользователей было 1031."
   ]
  },
  {
   "cell_type": "code",
   "execution_count": 55,
   "metadata": {},
   "outputs": [
    {
     "data": {
      "text/plain": [
       "58"
      ]
     },
     "execution_count": 55,
     "metadata": {},
     "output_type": "execute_result"
    }
   ],
   "source": [
    "visitorsB = pd.Series(ordersByUsersB['id'])\n",
    "ordersByUsersA.query('id in @visitorsB')['id'].count()"
   ]
  },
  {
   "cell_type": "markdown",
   "metadata": {},
   "source": [
    "##### Комментарий\n",
    "Проверка на совпадение id в группах показала, что 58 пользователей с одинаковыми id совершали покупки в обеих группах. Данный факт может негативно отразиться на результатах исследования, поэтому сообщим об этом дата-инжинерам, руководству или заказчику. Пока ответ не получен и неизвестно какие действия предпринимать, продолжим проводить исследование с имеющимися данными."
   ]
  },
  {
   "cell_type": "code",
   "execution_count": 56,
   "metadata": {},
   "outputs": [],
   "source": [
    "# Создадим таблицы с количеством строк равным количеству всех посетителей и заказов своершенных за это время\n",
    "sampleA = pd.concat(\n",
    "    [ordersByUsersA['orders'], pd.Series(\n",
    "        0, index=np.arange(mergedAB['visitorsA'].max() - len(ordersByUsersA['orders'])))],axis=0)\n",
    "\n",
    "sampleB = pd.concat(\n",
    "    [ordersByUsersB['orders'], pd.Series(\n",
    "        0, index=np.arange(mergedAB['visitorsB'].max() - len(ordersByUsersB['orders'])))],axis=0)"
   ]
  },
  {
   "cell_type": "code",
   "execution_count": 57,
   "metadata": {},
   "outputs": [
    {
     "name": "stdout",
     "output_type": "stream",
     "text": [
      "P-value: 0.017\n",
      "Разница конверсий групп: 0.138\n"
     ]
    }
   ],
   "source": [
    "#  Посчитаем статистическую значимость различия конверсий групп, применив тест Манна-Уитни\n",
    "print('P-value: {:.3f}'.format(stats.mannwhitneyu(sampleA, sampleB)[1]))\n",
    "print('Разница конверсий групп: {:.3f}'.format(sampleB.mean() / sampleA.mean()-1))"
   ]
  },
  {
   "cell_type": "markdown",
   "metadata": {},
   "source": [
    "##### Вывод\n",
    "P-value меньше 0.05, в связи с чем отвергаем нулевую гипотезу. Исходя из анализа \"сырых данных\" в конверсии между группами есть статистически значимые различия. Относительный прирост конверсии группы B к конверсии группы A равен 13.8%."
   ]
  },
  {
   "cell_type": "markdown",
   "metadata": {},
   "source": [
    "#### Статистическая значимость различий в среднем чеке между группами по «сырым» данным"
   ]
  },
  {
   "cell_type": "code",
   "execution_count": 58,
   "metadata": {},
   "outputs": [],
   "source": [
    "ordersA = orders.query('group == \"A\"')\n",
    "ordersB = orders.query('group == \"B\"')"
   ]
  },
  {
   "cell_type": "code",
   "execution_count": 59,
   "metadata": {},
   "outputs": [
    {
     "name": "stdout",
     "output_type": "stream",
     "text": [
      "P-value: 0.729\n",
      "Разница среднего чека групп: 0.259\n"
     ]
    }
   ],
   "source": [
    "print('P-value: {:.3f}'.format(stats.mannwhitneyu(ordersA['revenue'], ordersB['revenue'])[1]))\n",
    "print('Разница среднего чека групп: {:.3f}'.format(ordersB['revenue'].mean() / ordersA['revenue'].mean()-1))"
   ]
  },
  {
   "cell_type": "markdown",
   "metadata": {},
   "source": [
    "##### Вывод\n",
    "P-value больше 0.05 — статистически значимых различий в среднем чеке между группами нет. Однако относительное различие среднего чека между группами составляет 25.9%. Крайне подозрительный результат."
   ]
  },
  {
   "cell_type": "markdown",
   "metadata": {},
   "source": [
    "#### Статистическая значимость различий в конверсии между группами по «очищенным» данным"
   ]
  },
  {
   "cell_type": "code",
   "execution_count": 60,
   "metadata": {},
   "outputs": [],
   "source": [
    "# Пользователи соврешившие больше 2-х заказов\n",
    "usersWithManyOrders = pd.concat(\n",
    "    [ordersByUsersA.query('orders > 2')['id'], ordersByUsersB.query('orders > 2')['id']], axis=0)\n",
    "\n",
    "# Пользователи соврешившие покупки дороже 28000\n",
    "usersWithExpensiveOrders = orders.query('revenue > 28000')['visitorId']\n",
    "\n",
    "# Соеденим полученные данные\n",
    "abnormalUsers = pd.concat(\n",
    "    [usersWithManyOrders, usersWithExpensiveOrders], axis=0).drop_duplicates().sort_values()"
   ]
  },
  {
   "cell_type": "code",
   "execution_count": 61,
   "metadata": {},
   "outputs": [],
   "source": [
    "# Получим аналогичные таблицы, отфильтрованные от аномальных пользователей\n",
    "cleared_sampleA = pd.concat(\n",
    "    [ordersByUsersA.query('id not in @abnormalUsers')['orders'], pd.Series(\n",
    "        0, index=np.arange(mergedAB['visitorsA'].max() - len(ordersByUsersA['orders'])))],axis=0)\n",
    "\n",
    "cleared_sampleB = pd.concat(\n",
    "    [ordersByUsersB.query('id not in @abnormalUsers')['orders'], pd.Series(\n",
    "        0, index=np.arange(mergedAB['visitorsB'].max() - len(ordersByUsersB['orders'])))],axis=0)"
   ]
  },
  {
   "cell_type": "code",
   "execution_count": 62,
   "metadata": {},
   "outputs": [
    {
     "name": "stdout",
     "output_type": "stream",
     "text": [
      "P-value: 0.013\n",
      "Разница конверсий групп: 0.173\n"
     ]
    }
   ],
   "source": [
    "#  Посчитаем статистическую значимость различия конверсий групп, применив тест Манна-Уитни\n",
    "print('P-value: {:.3f}'.format(stats.mannwhitneyu(cleared_sampleA, cleared_sampleB)[1]))\n",
    "print('Разница конверсий групп: {:.3f}'.format(cleared_sampleB.mean() / cleared_sampleA.mean()-1))"
   ]
  },
  {
   "cell_type": "markdown",
   "metadata": {},
   "source": [
    "##### Вывод\n",
    "P-value меньше 0.05 - отвергаем нулевую гипотезу. Исходя из анализа \"очищенных данных\" в конверсии между группами есть статистически значимые различия. Относительный прирост конверсии группы B к конверсии группы A увеличился по сравнению с предыдущим результатом \"сырых данных\" и составил 17.3%."
   ]
  },
  {
   "cell_type": "markdown",
   "metadata": {},
   "source": [
    "#### Статистическая значимость различий в среднем чеке заказа между группами по «очищенным» данным"
   ]
  },
  {
   "cell_type": "code",
   "execution_count": 63,
   "metadata": {},
   "outputs": [],
   "source": [
    "cleared_ordersA = orders.query('group == \"A\" and visitorId not in @abnormalUsers')\n",
    "cleared_ordersB = orders.query('group == \"B\" and visitorId not in @abnormalUsers')"
   ]
  },
  {
   "cell_type": "code",
   "execution_count": 64,
   "metadata": {},
   "outputs": [
    {
     "name": "stdout",
     "output_type": "stream",
     "text": [
      "P-value: 0.738\n",
      "Разница среднего чека групп: -0.020\n"
     ]
    }
   ],
   "source": [
    "print('P-value: {:.3f}'.format(stats.mannwhitneyu(cleared_ordersA['revenue'], cleared_ordersB['revenue'])[1]))\n",
    "print('Разница среднего чека групп: {:.3f}'.format(\n",
    "    cleared_ordersB['revenue'].mean() / cleared_ordersA['revenue'].mean()-1))"
   ]
  },
  {
   "cell_type": "markdown",
   "metadata": {},
   "source": [
    "##### Вывод\n",
    "P-value почти не изменился и остался так же больше 0.05 — статистически значимых различий в среднем чеке между группами по \"очищенным данным\" нет. Относительное различие средних чеков значительно изменилось - от прироста в 25.9% по \"сырым\" данным к убытку в 2% по \"очищенным\". По всей видимости та самая покупка стоимостью выше 1200000 была совершена клиентом из группы В."
   ]
  },
  {
   "cell_type": "markdown",
   "metadata": {},
   "source": [
    "## Общий вывод и рекомендации бизнесу\n",
    "\n",
    "Анализ А/В - теста позволяет нам сделать следующие выводы:\n",
    "  - С учетом аномалий:\n",
    "   - в конверсиях групп есть статистически значимые различия. Относительный прирост конверсии группы B к конверсии группы A равен 13.8%.\n",
    "   - статистически значимые различия в среднем чеке между группами отсутствуют. Средний покупательский чек группы В выше, чем у группы А на 25.9%.\n",
    " \n",
    " \n",
    "  - Без учета аномалий:\n",
    "   - в конверсиях групп есть статистически значимые различия. Относительный прирост конверсии группы B к конверсии группы A составляет 17.3%.\n",
    "   - статистически значимые различия в среднем чеке между группами отсутствуют. Средний покупательский чек группы В ниже, чем у группы А на 2%.\n",
    "   \n",
    "Основываясь на полученных результатах, учитывая, что при почти одинаковом количестве пользователей, в группе В совершается больше заказов, чем в группе А, можно сказать о позитивном результате проведения теста и увеличении конверсии в группе В. По данным, не отфильтрованным от аномальных покупок, можно так же со всей смелостью заявить о победе группы В, чьи показатели на четверть выше группы А, однако убрав аномально дорогие покупки, выручки групп теряют значительные отличия, а группа В уже проигрывает на 2% в данном показателе.\n",
    "\n",
    "Для ответа на вопрос о дальнейшей судьбе А/В-теста нам необходимо знать какую гипотезу он проверял и на какие результаты рассчитывал заказчик. Если целью теста было установить увеличение конверсии, то его можно считать успешным, признать победу группы В и завершить. Если же главным ожиданием от теста было увеличение выручки, то необходимо продолжить тест, так как показатели \"сырых\" и \"очищенных\" данных сильно разнятся, возможно через какое-то время аномально дорогие покупки, совершенные в группе В, перестанут быть исключением и станут рядовым событием. "
   ]
  }
 ],
 "metadata": {
  "ExecuteTimeLog": [
   {
    "duration": 891,
    "start_time": "2021-09-06T05:23:28.095Z"
   },
   {
    "duration": 43,
    "start_time": "2021-09-06T05:23:47.466Z"
   },
   {
    "duration": 21,
    "start_time": "2021-09-06T05:23:53.864Z"
   },
   {
    "duration": 7,
    "start_time": "2021-09-06T05:24:19.145Z"
   },
   {
    "duration": 11,
    "start_time": "2021-09-06T05:24:33.340Z"
   },
   {
    "duration": 692,
    "start_time": "2021-09-06T10:50:52.406Z"
   },
   {
    "duration": 25,
    "start_time": "2021-09-06T10:50:56.061Z"
   },
   {
    "duration": 25,
    "start_time": "2021-09-06T10:53:25.935Z"
   },
   {
    "duration": 24992,
    "start_time": "2021-09-06T10:54:19.578Z"
   },
   {
    "duration": 12,
    "start_time": "2021-09-06T10:55:11.044Z"
   },
   {
    "duration": 24,
    "start_time": "2021-09-06T10:55:35.961Z"
   },
   {
    "duration": 5,
    "start_time": "2021-09-06T10:57:21.118Z"
   },
   {
    "duration": 3,
    "start_time": "2021-09-06T10:57:36.752Z"
   },
   {
    "duration": 17,
    "start_time": "2021-09-06T10:57:37.916Z"
   },
   {
    "duration": 4,
    "start_time": "2021-09-06T10:57:45.811Z"
   },
   {
    "duration": 21,
    "start_time": "2021-09-06T10:57:47.269Z"
   },
   {
    "duration": 13,
    "start_time": "2021-09-06T10:59:21.153Z"
   },
   {
    "duration": 4,
    "start_time": "2021-09-06T11:00:09.583Z"
   },
   {
    "duration": 4,
    "start_time": "2021-09-06T11:00:11.493Z"
   },
   {
    "duration": 24063,
    "start_time": "2021-09-06T11:00:12.292Z"
   },
   {
    "duration": -54,
    "start_time": "2021-09-06T11:00:36.411Z"
   },
   {
    "duration": 16,
    "start_time": "2021-09-06T11:00:41.942Z"
   },
   {
    "duration": 2026,
    "start_time": "2021-09-06T11:01:51.352Z"
   },
   {
    "duration": 25,
    "start_time": "2021-09-06T11:01:53.380Z"
   },
   {
    "duration": 11,
    "start_time": "2021-09-06T11:01:53.408Z"
   },
   {
    "duration": 25,
    "start_time": "2021-09-06T11:01:53.421Z"
   },
   {
    "duration": 12,
    "start_time": "2021-09-06T11:01:53.448Z"
   },
   {
    "duration": 32,
    "start_time": "2021-09-06T11:02:19.566Z"
   },
   {
    "duration": 1643,
    "start_time": "2021-09-06T11:02:55.793Z"
   },
   {
    "duration": 15,
    "start_time": "2021-09-06T11:03:41.868Z"
   },
   {
    "duration": 376,
    "start_time": "2021-09-06T11:05:27.089Z"
   },
   {
    "duration": 161,
    "start_time": "2021-09-06T11:05:33.234Z"
   },
   {
    "duration": 21,
    "start_time": "2021-09-06T11:05:40.016Z"
   },
   {
    "duration": 1602,
    "start_time": "2021-09-06T12:48:22.695Z"
   },
   {
    "duration": 41,
    "start_time": "2021-09-06T12:48:24.300Z"
   },
   {
    "duration": 4,
    "start_time": "2021-09-06T12:48:24.345Z"
   },
   {
    "duration": 32,
    "start_time": "2021-09-06T12:48:24.353Z"
   },
   {
    "duration": 38,
    "start_time": "2021-09-06T12:48:24.389Z"
   },
   {
    "duration": 57,
    "start_time": "2021-09-06T13:15:02.558Z"
   },
   {
    "duration": 77,
    "start_time": "2021-09-06T13:15:34.007Z"
   },
   {
    "duration": 19,
    "start_time": "2021-09-06T13:15:40.202Z"
   },
   {
    "duration": 51,
    "start_time": "2021-09-06T13:16:14.031Z"
   },
   {
    "duration": 39,
    "start_time": "2021-09-06T13:16:22.295Z"
   },
   {
    "duration": 18,
    "start_time": "2021-09-06T13:17:59.356Z"
   },
   {
    "duration": 16,
    "start_time": "2021-09-06T13:18:17.529Z"
   },
   {
    "duration": 3836,
    "start_time": "2021-09-06T13:31:34.903Z"
   },
   {
    "duration": 5,
    "start_time": "2021-09-06T13:32:33.031Z"
   },
   {
    "duration": 4976,
    "start_time": "2021-09-06T13:32:38.324Z"
   },
   {
    "duration": 5738,
    "start_time": "2021-09-06T13:33:07.695Z"
   },
   {
    "duration": 21,
    "start_time": "2021-09-06T13:33:33.266Z"
   },
   {
    "duration": 18,
    "start_time": "2021-09-06T13:33:44.392Z"
   },
   {
    "duration": 9,
    "start_time": "2021-09-06T13:33:54.361Z"
   },
   {
    "duration": 4339,
    "start_time": "2021-09-06T13:34:14.640Z"
   },
   {
    "duration": 1641,
    "start_time": "2021-09-06T13:34:37.852Z"
   },
   {
    "duration": 45,
    "start_time": "2021-09-06T13:34:39.496Z"
   },
   {
    "duration": 4,
    "start_time": "2021-09-06T13:34:39.543Z"
   },
   {
    "duration": 31,
    "start_time": "2021-09-06T13:34:39.549Z"
   },
   {
    "duration": 49,
    "start_time": "2021-09-06T13:34:39.582Z"
   },
   {
    "duration": 303,
    "start_time": "2021-09-06T13:34:39.637Z"
   },
   {
    "duration": 18,
    "start_time": "2021-09-06T13:34:39.942Z"
   },
   {
    "duration": 17,
    "start_time": "2021-09-06T13:34:39.964Z"
   },
   {
    "duration": 6401,
    "start_time": "2021-09-06T13:34:39.985Z"
   },
   {
    "duration": -53,
    "start_time": "2021-09-06T13:34:46.441Z"
   },
   {
    "duration": 23,
    "start_time": "2021-09-06T13:34:57.764Z"
   },
   {
    "duration": 10,
    "start_time": "2021-09-06T13:35:01.304Z"
   },
   {
    "duration": 9,
    "start_time": "2021-09-06T13:35:23.990Z"
   },
   {
    "duration": 16,
    "start_time": "2021-09-06T13:35:36.840Z"
   },
   {
    "duration": 9,
    "start_time": "2021-09-06T13:42:35.227Z"
   },
   {
    "duration": 19,
    "start_time": "2021-09-06T13:42:41.492Z"
   },
   {
    "duration": 24494,
    "start_time": "2021-09-06T13:55:16.619Z"
   },
   {
    "duration": 1446,
    "start_time": "2021-09-06T13:58:26.741Z"
   },
   {
    "duration": 38,
    "start_time": "2021-09-06T13:58:28.189Z"
   },
   {
    "duration": 5,
    "start_time": "2021-09-06T13:58:28.230Z"
   },
   {
    "duration": 18,
    "start_time": "2021-09-06T13:58:28.238Z"
   },
   {
    "duration": 14,
    "start_time": "2021-09-06T13:58:28.259Z"
   },
   {
    "duration": 83,
    "start_time": "2021-09-06T13:58:28.276Z"
   },
   {
    "duration": 18,
    "start_time": "2021-09-06T13:58:28.361Z"
   },
   {
    "duration": 16,
    "start_time": "2021-09-06T13:58:28.383Z"
   },
   {
    "duration": 24,
    "start_time": "2021-09-06T13:58:28.401Z"
   },
   {
    "duration": 206,
    "start_time": "2021-09-06T13:58:28.427Z"
   },
   {
    "duration": -30,
    "start_time": "2021-09-06T13:58:28.665Z"
   },
   {
    "duration": -30,
    "start_time": "2021-09-06T13:58:28.667Z"
   },
   {
    "duration": 3,
    "start_time": "2021-09-06T13:58:41.668Z"
   },
   {
    "duration": 9,
    "start_time": "2021-09-06T13:58:42.316Z"
   },
   {
    "duration": 13867,
    "start_time": "2021-09-06T13:58:43.468Z"
   },
   {
    "duration": 17242,
    "start_time": "2021-09-06T13:59:50.645Z"
   },
   {
    "duration": 349,
    "start_time": "2021-09-06T14:00:29.164Z"
   },
   {
    "duration": 16,
    "start_time": "2021-09-06T14:00:37.684Z"
   },
   {
    "duration": 4,
    "start_time": "2021-09-06T14:03:18.921Z"
   },
   {
    "duration": 1247,
    "start_time": "2021-09-06T14:06:05.389Z"
   },
   {
    "duration": 350,
    "start_time": "2021-09-06T14:06:26.421Z"
   },
   {
    "duration": 317,
    "start_time": "2021-09-06T14:06:37.271Z"
   },
   {
    "duration": 359,
    "start_time": "2021-09-06T14:29:27.658Z"
   },
   {
    "duration": 353,
    "start_time": "2021-09-06T14:29:51.174Z"
   },
   {
    "duration": 332,
    "start_time": "2021-09-06T14:32:30.293Z"
   },
   {
    "duration": 335,
    "start_time": "2021-09-06T14:32:50.770Z"
   },
   {
    "duration": 1258,
    "start_time": "2021-09-06T14:34:20.309Z"
   },
   {
    "duration": 1752,
    "start_time": "2021-09-06T14:35:48.624Z"
   },
   {
    "duration": 715,
    "start_time": "2021-09-06T14:36:08.036Z"
   },
   {
    "duration": 115,
    "start_time": "2021-09-06T14:36:47.971Z"
   },
   {
    "duration": 67,
    "start_time": "2021-09-06T14:37:07.959Z"
   },
   {
    "duration": 17,
    "start_time": "2021-09-06T14:38:23.918Z"
   },
   {
    "duration": 425,
    "start_time": "2021-09-06T14:38:38.341Z"
   },
   {
    "duration": 71,
    "start_time": "2021-09-06T14:38:51.479Z"
   },
   {
    "duration": 70,
    "start_time": "2021-09-06T14:39:02.004Z"
   },
   {
    "duration": 443,
    "start_time": "2021-09-06T14:40:06.182Z"
   },
   {
    "duration": 446,
    "start_time": "2021-09-06T14:40:30.960Z"
   },
   {
    "duration": 720,
    "start_time": "2021-09-06T14:40:50.378Z"
   },
   {
    "duration": 988,
    "start_time": "2021-09-06T14:41:33.175Z"
   },
   {
    "duration": 639,
    "start_time": "2021-09-06T14:41:51.877Z"
   },
   {
    "duration": 10,
    "start_time": "2021-09-06T14:42:24.154Z"
   },
   {
    "duration": 7,
    "start_time": "2021-09-06T14:42:38.473Z"
   },
   {
    "duration": 1062,
    "start_time": "2021-09-06T14:43:33.089Z"
   },
   {
    "duration": 1145,
    "start_time": "2021-09-06T14:43:46.485Z"
   },
   {
    "duration": 653,
    "start_time": "2021-09-06T14:47:41.875Z"
   },
   {
    "duration": 5,
    "start_time": "2021-09-06T14:48:21.388Z"
   },
   {
    "duration": 787,
    "start_time": "2021-09-06T14:48:59.623Z"
   },
   {
    "duration": 658,
    "start_time": "2021-09-06T14:49:25.331Z"
   },
   {
    "duration": 915,
    "start_time": "2021-09-06T14:50:35.820Z"
   },
   {
    "duration": 1070,
    "start_time": "2021-09-06T14:51:03.966Z"
   },
   {
    "duration": 775,
    "start_time": "2021-09-06T14:52:03.450Z"
   },
   {
    "duration": 659,
    "start_time": "2021-09-06T14:52:12.016Z"
   },
   {
    "duration": 709,
    "start_time": "2021-09-06T14:54:55.700Z"
   },
   {
    "duration": 723,
    "start_time": "2021-09-06T14:55:06.937Z"
   },
   {
    "duration": 725,
    "start_time": "2021-09-06T14:56:51.611Z"
   },
   {
    "duration": 804,
    "start_time": "2021-09-06T14:57:58.380Z"
   },
   {
    "duration": 5,
    "start_time": "2021-09-06T15:09:23.716Z"
   },
   {
    "duration": 326,
    "start_time": "2021-09-06T15:10:46.091Z"
   },
   {
    "duration": 380,
    "start_time": "2021-09-06T15:11:13.033Z"
   },
   {
    "duration": 21,
    "start_time": "2021-09-06T15:12:00.764Z"
   },
   {
    "duration": 25,
    "start_time": "2021-09-06T15:12:31.317Z"
   },
   {
    "duration": 11,
    "start_time": "2021-09-06T15:12:47.504Z"
   },
   {
    "duration": 11,
    "start_time": "2021-09-06T15:13:03.373Z"
   },
   {
    "duration": 30,
    "start_time": "2021-09-06T15:14:46.773Z"
   },
   {
    "duration": 19,
    "start_time": "2021-09-06T15:15:03.590Z"
   },
   {
    "duration": 19,
    "start_time": "2021-09-06T15:15:14.567Z"
   },
   {
    "duration": 18,
    "start_time": "2021-09-06T15:15:22.144Z"
   },
   {
    "duration": 20,
    "start_time": "2021-09-06T15:15:31.170Z"
   },
   {
    "duration": 12,
    "start_time": "2021-09-06T15:16:12.342Z"
   },
   {
    "duration": 380,
    "start_time": "2021-09-06T15:25:02.584Z"
   },
   {
    "duration": 355,
    "start_time": "2021-09-06T15:31:15.890Z"
   },
   {
    "duration": 729,
    "start_time": "2021-09-06T15:34:53.232Z"
   },
   {
    "duration": 694,
    "start_time": "2021-09-06T15:35:00.516Z"
   },
   {
    "duration": 360,
    "start_time": "2021-09-06T15:35:27.257Z"
   },
   {
    "duration": 357,
    "start_time": "2021-09-06T15:35:41.927Z"
   },
   {
    "duration": 370,
    "start_time": "2021-09-06T15:45:59.968Z"
   },
   {
    "duration": 661,
    "start_time": "2021-09-06T15:46:50.048Z"
   },
   {
    "duration": 693,
    "start_time": "2021-09-06T15:49:28.040Z"
   },
   {
    "duration": 330,
    "start_time": "2021-09-06T15:49:34.110Z"
   },
   {
    "duration": 689,
    "start_time": "2021-09-06T15:49:58.707Z"
   },
   {
    "duration": 3,
    "start_time": "2021-09-06T15:58:15.994Z"
   },
   {
    "duration": 21,
    "start_time": "2021-09-06T16:02:00.506Z"
   },
   {
    "duration": 318,
    "start_time": "2021-09-06T16:06:14.941Z"
   },
   {
    "duration": 11,
    "start_time": "2021-09-06T16:06:24.732Z"
   },
   {
    "duration": 24,
    "start_time": "2021-09-06T16:06:36.484Z"
   },
   {
    "duration": 7410,
    "start_time": "2021-09-06T16:07:38.847Z"
   },
   {
    "duration": 280,
    "start_time": "2021-09-06T16:07:49.096Z"
   },
   {
    "duration": 756,
    "start_time": "2021-09-06T16:08:02.382Z"
   },
   {
    "duration": 791,
    "start_time": "2021-09-06T16:12:16.428Z"
   },
   {
    "duration": 782,
    "start_time": "2021-09-06T16:31:12.084Z"
   },
   {
    "duration": 812,
    "start_time": "2021-09-06T16:31:58.441Z"
   },
   {
    "duration": 675,
    "start_time": "2021-09-06T16:32:31.363Z"
   },
   {
    "duration": 714,
    "start_time": "2021-09-06T16:32:47.570Z"
   },
   {
    "duration": 705,
    "start_time": "2021-09-06T16:33:07.117Z"
   },
   {
    "duration": 270,
    "start_time": "2021-09-06T16:44:54.172Z"
   },
   {
    "duration": 293,
    "start_time": "2021-09-06T16:45:02.393Z"
   },
   {
    "duration": 277,
    "start_time": "2021-09-06T16:46:25.942Z"
   },
   {
    "duration": 9,
    "start_time": "2021-09-06T16:48:10.681Z"
   },
   {
    "duration": 9,
    "start_time": "2021-09-06T16:48:32.551Z"
   },
   {
    "duration": 28,
    "start_time": "2021-09-06T16:48:37.791Z"
   },
   {
    "duration": 29,
    "start_time": "2021-09-06T16:49:41.944Z"
   },
   {
    "duration": 11,
    "start_time": "2021-09-06T16:50:20.290Z"
   },
   {
    "duration": 11,
    "start_time": "2021-09-06T16:50:40.305Z"
   },
   {
    "duration": 46,
    "start_time": "2021-09-06T16:50:46.709Z"
   },
   {
    "duration": 754,
    "start_time": "2021-09-06T16:55:07.636Z"
   },
   {
    "duration": 1147,
    "start_time": "2021-09-07T05:43:07.327Z"
   },
   {
    "duration": 33,
    "start_time": "2021-09-07T05:43:08.476Z"
   },
   {
    "duration": 2,
    "start_time": "2021-09-07T05:43:08.511Z"
   },
   {
    "duration": 13,
    "start_time": "2021-09-07T05:43:08.515Z"
   },
   {
    "duration": 10,
    "start_time": "2021-09-07T05:43:08.529Z"
   },
   {
    "duration": 59,
    "start_time": "2021-09-07T05:43:08.541Z"
   },
   {
    "duration": 14,
    "start_time": "2021-09-07T05:43:08.603Z"
   },
   {
    "duration": 11,
    "start_time": "2021-09-07T05:43:08.618Z"
   },
   {
    "duration": 13,
    "start_time": "2021-09-07T05:43:08.632Z"
   },
   {
    "duration": 9,
    "start_time": "2021-09-07T05:43:08.647Z"
   },
   {
    "duration": 254,
    "start_time": "2021-09-07T05:43:08.658Z"
   },
   {
    "duration": 609,
    "start_time": "2021-09-07T05:43:08.914Z"
   },
   {
    "duration": 452,
    "start_time": "2021-09-07T05:43:09.525Z"
   },
   {
    "duration": 518,
    "start_time": "2021-09-07T05:43:09.978Z"
   },
   {
    "duration": 178,
    "start_time": "2021-09-07T05:43:10.498Z"
   },
   {
    "duration": 22,
    "start_time": "2021-09-07T05:43:10.678Z"
   },
   {
    "duration": 6518,
    "start_time": "2021-09-07T05:49:39.196Z"
   },
   {
    "duration": 395,
    "start_time": "2021-09-07T05:50:08.316Z"
   },
   {
    "duration": 1323,
    "start_time": "2021-09-07T05:51:33.650Z"
   },
   {
    "duration": 1290,
    "start_time": "2021-09-07T05:52:37.843Z"
   },
   {
    "duration": 1382,
    "start_time": "2021-09-07T05:52:49.149Z"
   },
   {
    "duration": 1228,
    "start_time": "2021-09-07T05:52:59.127Z"
   },
   {
    "duration": 27,
    "start_time": "2021-09-07T05:53:00.357Z"
   },
   {
    "duration": 21,
    "start_time": "2021-09-07T05:53:00.387Z"
   },
   {
    "duration": 29,
    "start_time": "2021-09-07T05:53:00.411Z"
   },
   {
    "duration": 15,
    "start_time": "2021-09-07T05:53:00.442Z"
   },
   {
    "duration": 64,
    "start_time": "2021-09-07T05:53:00.459Z"
   },
   {
    "duration": 13,
    "start_time": "2021-09-07T05:53:00.527Z"
   },
   {
    "duration": 15,
    "start_time": "2021-09-07T05:53:00.542Z"
   },
   {
    "duration": 40,
    "start_time": "2021-09-07T05:53:00.559Z"
   },
   {
    "duration": 20,
    "start_time": "2021-09-07T05:53:00.602Z"
   },
   {
    "duration": 1518,
    "start_time": "2021-09-07T05:53:00.624Z"
   },
   {
    "duration": -99,
    "start_time": "2021-09-07T05:53:02.243Z"
   },
   {
    "duration": -107,
    "start_time": "2021-09-07T05:53:02.253Z"
   },
   {
    "duration": -116,
    "start_time": "2021-09-07T05:53:02.263Z"
   },
   {
    "duration": -122,
    "start_time": "2021-09-07T05:53:02.270Z"
   },
   {
    "duration": -124,
    "start_time": "2021-09-07T05:53:02.274Z"
   },
   {
    "duration": 407,
    "start_time": "2021-09-07T05:53:31.251Z"
   },
   {
    "duration": 394,
    "start_time": "2021-09-07T05:56:31.025Z"
   },
   {
    "duration": 371,
    "start_time": "2021-09-07T05:57:35.300Z"
   },
   {
    "duration": 532,
    "start_time": "2021-09-07T05:58:18.898Z"
   },
   {
    "duration": 400,
    "start_time": "2021-09-07T06:00:29.123Z"
   },
   {
    "duration": 284,
    "start_time": "2021-09-07T06:02:01.364Z"
   },
   {
    "duration": 281,
    "start_time": "2021-09-07T06:02:04.414Z"
   },
   {
    "duration": 519,
    "start_time": "2021-09-07T06:02:59.410Z"
   },
   {
    "duration": 20,
    "start_time": "2021-09-07T06:03:26.913Z"
   },
   {
    "duration": 524,
    "start_time": "2021-09-07T06:14:39.140Z"
   },
   {
    "duration": 543,
    "start_time": "2021-09-07T06:14:49.940Z"
   },
   {
    "duration": 809,
    "start_time": "2021-09-07T06:15:13.129Z"
   },
   {
    "duration": 494,
    "start_time": "2021-09-07T06:15:34.075Z"
   },
   {
    "duration": 495,
    "start_time": "2021-09-07T06:15:45.007Z"
   },
   {
    "duration": 754,
    "start_time": "2021-09-07T06:15:56.516Z"
   },
   {
    "duration": 581,
    "start_time": "2021-09-07T06:16:29.628Z"
   },
   {
    "duration": 521,
    "start_time": "2021-09-07T06:16:49.537Z"
   },
   {
    "duration": 417,
    "start_time": "2021-09-07T06:20:19.732Z"
   },
   {
    "duration": 41,
    "start_time": "2021-09-07T07:06:56.382Z"
   },
   {
    "duration": 363,
    "start_time": "2021-09-07T07:09:34.234Z"
   },
   {
    "duration": 361,
    "start_time": "2021-09-07T07:09:53.316Z"
   },
   {
    "duration": 359,
    "start_time": "2021-09-07T07:10:10.142Z"
   },
   {
    "duration": 367,
    "start_time": "2021-09-07T07:10:26.108Z"
   },
   {
    "duration": 461,
    "start_time": "2021-09-07T07:10:32.798Z"
   },
   {
    "duration": 401,
    "start_time": "2021-09-07T07:11:14.475Z"
   },
   {
    "duration": 360,
    "start_time": "2021-09-07T07:11:25.583Z"
   },
   {
    "duration": 377,
    "start_time": "2021-09-07T07:11:31.987Z"
   },
   {
    "duration": 372,
    "start_time": "2021-09-07T07:11:39.790Z"
   },
   {
    "duration": 474,
    "start_time": "2021-09-07T07:11:46.437Z"
   },
   {
    "duration": 90,
    "start_time": "2021-09-07T07:11:55.290Z"
   },
   {
    "duration": 372,
    "start_time": "2021-09-07T07:11:59.818Z"
   },
   {
    "duration": 372,
    "start_time": "2021-09-07T07:22:17.165Z"
   },
   {
    "duration": 366,
    "start_time": "2021-09-07T07:22:35.391Z"
   },
   {
    "duration": 365,
    "start_time": "2021-09-07T07:24:06.411Z"
   },
   {
    "duration": 364,
    "start_time": "2021-09-07T07:24:38.679Z"
   },
   {
    "duration": 456,
    "start_time": "2021-09-07T07:24:53.670Z"
   },
   {
    "duration": 434,
    "start_time": "2021-09-07T07:25:02.042Z"
   },
   {
    "duration": 21,
    "start_time": "2021-09-07T07:51:05.686Z"
   },
   {
    "duration": 383,
    "start_time": "2021-09-07T07:54:14.824Z"
   },
   {
    "duration": 412,
    "start_time": "2021-09-07T07:56:20.693Z"
   },
   {
    "duration": 6314,
    "start_time": "2021-09-07T07:56:25.301Z"
   },
   {
    "duration": 595,
    "start_time": "2021-09-07T07:56:51.103Z"
   },
   {
    "duration": 7793,
    "start_time": "2021-09-07T08:06:10.944Z"
   },
   {
    "duration": 461,
    "start_time": "2021-09-07T08:06:32.905Z"
   },
   {
    "duration": 496,
    "start_time": "2021-09-07T08:06:47.346Z"
   },
   {
    "duration": 695,
    "start_time": "2021-09-07T08:15:02.036Z"
   },
   {
    "duration": 699,
    "start_time": "2021-09-07T08:15:15.121Z"
   },
   {
    "duration": 504,
    "start_time": "2021-09-07T08:15:20.368Z"
   },
   {
    "duration": 523,
    "start_time": "2021-09-07T08:15:34.535Z"
   },
   {
    "duration": 801,
    "start_time": "2021-09-07T08:15:53.825Z"
   },
   {
    "duration": 647,
    "start_time": "2021-09-07T08:16:08.975Z"
   },
   {
    "duration": 662,
    "start_time": "2021-09-07T08:17:59.857Z"
   },
   {
    "duration": 17,
    "start_time": "2021-09-07T08:21:13.699Z"
   },
   {
    "duration": 10,
    "start_time": "2021-09-07T08:23:03.946Z"
   },
   {
    "duration": 12,
    "start_time": "2021-09-07T08:23:30.701Z"
   },
   {
    "duration": 10,
    "start_time": "2021-09-07T08:23:42.979Z"
   },
   {
    "duration": 6,
    "start_time": "2021-09-07T08:24:14.006Z"
   },
   {
    "duration": 263,
    "start_time": "2021-09-07T08:24:29.928Z"
   },
   {
    "duration": 114,
    "start_time": "2021-09-07T08:26:15.437Z"
   },
   {
    "duration": 11,
    "start_time": "2021-09-07T08:26:43.064Z"
   },
   {
    "duration": 15,
    "start_time": "2021-09-07T08:27:20.369Z"
   },
   {
    "duration": 125,
    "start_time": "2021-09-07T08:27:45.387Z"
   },
   {
    "duration": 131,
    "start_time": "2021-09-07T08:32:33.504Z"
   },
   {
    "duration": 191,
    "start_time": "2021-09-07T08:33:06.355Z"
   },
   {
    "duration": 130,
    "start_time": "2021-09-07T08:33:28.682Z"
   },
   {
    "duration": 117,
    "start_time": "2021-09-07T08:33:55.988Z"
   },
   {
    "duration": 1239,
    "start_time": "2021-09-07T08:35:23.090Z"
   },
   {
    "duration": 121,
    "start_time": "2021-09-07T08:35:33.046Z"
   },
   {
    "duration": 463,
    "start_time": "2021-09-07T08:36:28.369Z"
   },
   {
    "duration": 1237,
    "start_time": "2021-09-07T08:37:36.341Z"
   },
   {
    "duration": -123,
    "start_time": "2021-09-07T08:37:37.703Z"
   },
   {
    "duration": 111,
    "start_time": "2021-09-07T08:37:48.152Z"
   },
   {
    "duration": 420,
    "start_time": "2021-09-07T08:38:04.953Z"
   },
   {
    "duration": 357,
    "start_time": "2021-09-07T08:38:23.743Z"
   },
   {
    "duration": 129,
    "start_time": "2021-09-07T08:39:59.170Z"
   },
   {
    "duration": 1692,
    "start_time": "2021-09-07T13:10:14.619Z"
   },
   {
    "duration": 28,
    "start_time": "2021-09-07T13:10:16.314Z"
   },
   {
    "duration": 9,
    "start_time": "2021-09-07T13:10:16.345Z"
   },
   {
    "duration": 26,
    "start_time": "2021-09-07T13:10:16.357Z"
   },
   {
    "duration": 15,
    "start_time": "2021-09-07T13:10:16.386Z"
   },
   {
    "duration": 43,
    "start_time": "2021-09-07T13:10:16.404Z"
   },
   {
    "duration": 15,
    "start_time": "2021-09-07T13:10:16.449Z"
   },
   {
    "duration": 16,
    "start_time": "2021-09-07T13:10:16.466Z"
   },
   {
    "duration": 19,
    "start_time": "2021-09-07T13:10:16.486Z"
   },
   {
    "duration": 615,
    "start_time": "2021-09-07T13:10:16.508Z"
   },
   {
    "duration": 661,
    "start_time": "2021-09-07T13:10:17.125Z"
   },
   {
    "duration": 632,
    "start_time": "2021-09-07T13:10:17.788Z"
   },
   {
    "duration": 760,
    "start_time": "2021-09-07T13:10:18.422Z"
   },
   {
    "duration": 69,
    "start_time": "2021-09-07T13:10:19.184Z"
   },
   {
    "duration": 620,
    "start_time": "2021-09-07T13:10:19.255Z"
   },
   {
    "duration": 696,
    "start_time": "2021-09-07T13:10:19.877Z"
   },
   {
    "duration": 747,
    "start_time": "2021-09-07T13:10:20.576Z"
   },
   {
    "duration": 831,
    "start_time": "2021-09-07T13:58:42.128Z"
   },
   {
    "duration": 960,
    "start_time": "2021-09-07T13:58:48.335Z"
   },
   {
    "duration": 784,
    "start_time": "2021-09-07T13:59:04.787Z"
   },
   {
    "duration": 1442,
    "start_time": "2021-09-08T04:34:47.979Z"
   },
   {
    "duration": 40,
    "start_time": "2021-09-08T04:34:49.425Z"
   },
   {
    "duration": 4,
    "start_time": "2021-09-08T04:34:49.469Z"
   },
   {
    "duration": 37,
    "start_time": "2021-09-08T04:34:49.477Z"
   },
   {
    "duration": 36,
    "start_time": "2021-09-08T04:34:49.518Z"
   },
   {
    "duration": 53,
    "start_time": "2021-09-08T04:34:49.558Z"
   },
   {
    "duration": 19,
    "start_time": "2021-09-08T04:34:49.614Z"
   },
   {
    "duration": 27,
    "start_time": "2021-09-08T04:34:49.637Z"
   },
   {
    "duration": 25,
    "start_time": "2021-09-08T04:34:49.667Z"
   },
   {
    "duration": 617,
    "start_time": "2021-09-08T04:34:49.694Z"
   },
   {
    "duration": 684,
    "start_time": "2021-09-08T04:34:50.313Z"
   },
   {
    "duration": 647,
    "start_time": "2021-09-08T04:34:51.000Z"
   },
   {
    "duration": 742,
    "start_time": "2021-09-08T04:34:51.650Z"
   },
   {
    "duration": 88,
    "start_time": "2021-09-08T04:34:52.395Z"
   },
   {
    "duration": 671,
    "start_time": "2021-09-08T04:34:52.486Z"
   },
   {
    "duration": 768,
    "start_time": "2021-09-08T04:34:53.160Z"
   },
   {
    "duration": 895,
    "start_time": "2021-09-08T04:34:53.930Z"
   },
   {
    "duration": 9,
    "start_time": "2021-09-08T06:31:05.117Z"
   },
   {
    "duration": 122,
    "start_time": "2021-09-08T06:32:13.733Z"
   },
   {
    "duration": 6,
    "start_time": "2021-09-08T06:32:51.582Z"
   },
   {
    "duration": 8,
    "start_time": "2021-09-08T06:33:40.141Z"
   },
   {
    "duration": 6,
    "start_time": "2021-09-08T06:35:36.702Z"
   },
   {
    "duration": 6,
    "start_time": "2021-09-08T06:35:49.312Z"
   },
   {
    "duration": 730,
    "start_time": "2021-09-08T06:37:06.662Z"
   },
   {
    "duration": 752,
    "start_time": "2021-09-08T06:37:47.502Z"
   },
   {
    "duration": 662,
    "start_time": "2021-09-08T06:37:57.808Z"
   },
   {
    "duration": 579,
    "start_time": "2021-09-08T06:38:27.344Z"
   },
   {
    "duration": 5,
    "start_time": "2021-09-08T06:39:03.038Z"
   },
   {
    "duration": 6,
    "start_time": "2021-09-08T06:39:27.643Z"
   },
   {
    "duration": 6,
    "start_time": "2021-09-08T06:39:38.855Z"
   },
   {
    "duration": 444,
    "start_time": "2021-09-08T06:39:46.572Z"
   },
   {
    "duration": 8,
    "start_time": "2021-09-08T06:39:56.106Z"
   },
   {
    "duration": 7,
    "start_time": "2021-09-08T06:40:38.191Z"
   },
   {
    "duration": 7,
    "start_time": "2021-09-08T06:42:28.538Z"
   },
   {
    "duration": 7,
    "start_time": "2021-09-08T06:45:49.295Z"
   },
   {
    "duration": 89,
    "start_time": "2021-09-08T06:47:11.677Z"
   },
   {
    "duration": 10,
    "start_time": "2021-09-08T06:47:42.434Z"
   },
   {
    "duration": 13,
    "start_time": "2021-09-08T06:49:05.011Z"
   },
   {
    "duration": 13,
    "start_time": "2021-09-08T06:49:59.449Z"
   },
   {
    "duration": 13,
    "start_time": "2021-09-08T06:51:08.306Z"
   },
   {
    "duration": 87,
    "start_time": "2021-09-08T06:56:13.974Z"
   },
   {
    "duration": 111,
    "start_time": "2021-09-08T06:56:43.709Z"
   },
   {
    "duration": 93,
    "start_time": "2021-09-08T06:57:05.596Z"
   },
   {
    "duration": 15,
    "start_time": "2021-09-08T06:57:38.866Z"
   },
   {
    "duration": 91,
    "start_time": "2021-09-08T07:03:06.285Z"
   },
   {
    "duration": 18,
    "start_time": "2021-09-08T07:03:11.081Z"
   },
   {
    "duration": 20,
    "start_time": "2021-09-08T07:04:06.907Z"
   },
   {
    "duration": 20,
    "start_time": "2021-09-08T07:04:28.031Z"
   },
   {
    "duration": 20,
    "start_time": "2021-09-08T07:04:43.061Z"
   },
   {
    "duration": 19,
    "start_time": "2021-09-08T07:04:52.812Z"
   },
   {
    "duration": 20,
    "start_time": "2021-09-08T07:19:38.286Z"
   },
   {
    "duration": 19,
    "start_time": "2021-09-08T07:21:38.951Z"
   },
   {
    "duration": 18,
    "start_time": "2021-09-08T07:23:35.921Z"
   },
   {
    "duration": 789,
    "start_time": "2021-09-08T07:24:44.180Z"
   },
   {
    "duration": 22,
    "start_time": "2021-09-08T07:25:27.895Z"
   },
   {
    "duration": 21,
    "start_time": "2021-09-08T07:25:30.981Z"
   },
   {
    "duration": 570,
    "start_time": "2021-09-08T07:26:50.084Z"
   },
   {
    "duration": 7331,
    "start_time": "2021-09-08T07:31:16.673Z"
   },
   {
    "duration": 826,
    "start_time": "2021-09-08T07:31:41.544Z"
   },
   {
    "duration": 829,
    "start_time": "2021-09-08T07:46:22.293Z"
   },
   {
    "duration": 775,
    "start_time": "2021-09-08T07:48:44.513Z"
   },
   {
    "duration": 584,
    "start_time": "2021-09-08T07:48:56.873Z"
   },
   {
    "duration": 640,
    "start_time": "2021-09-08T07:49:08.170Z"
   },
   {
    "duration": 5,
    "start_time": "2021-09-08T07:50:56.106Z"
   },
   {
    "duration": 752,
    "start_time": "2021-09-08T07:51:44.834Z"
   },
   {
    "duration": 4,
    "start_time": "2021-09-08T08:09:02.456Z"
   },
   {
    "duration": 799,
    "start_time": "2021-09-08T08:09:10.187Z"
   },
   {
    "duration": 30,
    "start_time": "2021-09-08T08:09:10.989Z"
   },
   {
    "duration": 24,
    "start_time": "2021-09-08T08:09:11.022Z"
   },
   {
    "duration": 31,
    "start_time": "2021-09-08T08:09:11.049Z"
   },
   {
    "duration": 19,
    "start_time": "2021-09-08T08:09:11.082Z"
   },
   {
    "duration": 78,
    "start_time": "2021-09-08T08:09:11.103Z"
   },
   {
    "duration": 19,
    "start_time": "2021-09-08T08:09:11.184Z"
   },
   {
    "duration": 20,
    "start_time": "2021-09-08T08:09:11.207Z"
   },
   {
    "duration": 41,
    "start_time": "2021-09-08T08:09:11.230Z"
   },
   {
    "duration": 604,
    "start_time": "2021-09-08T08:09:11.273Z"
   },
   {
    "duration": 688,
    "start_time": "2021-09-08T08:09:11.880Z"
   },
   {
    "duration": 691,
    "start_time": "2021-09-08T08:09:12.570Z"
   },
   {
    "duration": 779,
    "start_time": "2021-09-08T08:09:13.264Z"
   },
   {
    "duration": 70,
    "start_time": "2021-09-08T08:09:14.046Z"
   },
   {
    "duration": 857,
    "start_time": "2021-09-08T08:09:14.119Z"
   },
   {
    "duration": 835,
    "start_time": "2021-09-08T08:09:14.995Z"
   },
   {
    "duration": 600,
    "start_time": "2021-09-08T08:09:15.832Z"
   },
   {
    "duration": 32,
    "start_time": "2021-09-08T08:09:16.434Z"
   },
   {
    "duration": 894,
    "start_time": "2021-09-08T08:09:16.468Z"
   },
   {
    "duration": -216,
    "start_time": "2021-09-08T08:09:17.580Z"
   },
   {
    "duration": 618,
    "start_time": "2021-09-08T08:09:26.736Z"
   },
   {
    "duration": 884,
    "start_time": "2021-09-08T08:11:50.284Z"
   },
   {
    "duration": 738,
    "start_time": "2021-09-08T08:12:32.969Z"
   },
   {
    "duration": 629,
    "start_time": "2021-09-08T08:13:37.929Z"
   },
   {
    "duration": 641,
    "start_time": "2021-09-08T08:13:51.656Z"
   },
   {
    "duration": 669,
    "start_time": "2021-09-08T08:14:26.725Z"
   },
   {
    "duration": 830,
    "start_time": "2021-09-08T08:30:31.935Z"
   },
   {
    "duration": 688,
    "start_time": "2021-09-08T08:30:44.200Z"
   },
   {
    "duration": 631,
    "start_time": "2021-09-08T08:31:57.569Z"
   },
   {
    "duration": 648,
    "start_time": "2021-09-08T08:32:16.645Z"
   },
   {
    "duration": 669,
    "start_time": "2021-09-08T08:32:39.293Z"
   },
   {
    "duration": 4,
    "start_time": "2021-09-08T08:35:05.487Z"
   },
   {
    "duration": 19,
    "start_time": "2021-09-08T08:38:41.015Z"
   },
   {
    "duration": 19,
    "start_time": "2021-09-08T08:40:06.789Z"
   },
   {
    "duration": 41,
    "start_time": "2021-09-08T08:43:23.186Z"
   },
   {
    "duration": 19,
    "start_time": "2021-09-08T09:19:10.756Z"
   },
   {
    "duration": 15,
    "start_time": "2021-09-08T09:20:33.519Z"
   },
   {
    "duration": 34,
    "start_time": "2021-09-08T09:47:53.936Z"
   },
   {
    "duration": 12,
    "start_time": "2021-09-08T11:19:53.514Z"
   },
   {
    "duration": 365,
    "start_time": "2021-09-08T11:22:13.588Z"
   },
   {
    "duration": 19,
    "start_time": "2021-09-08T11:22:32.503Z"
   },
   {
    "duration": 1285,
    "start_time": "2021-09-08T11:23:01.994Z"
   },
   {
    "duration": 108,
    "start_time": "2021-09-08T11:23:40.900Z"
   },
   {
    "duration": 123,
    "start_time": "2021-09-08T11:23:51.030Z"
   },
   {
    "duration": 21,
    "start_time": "2021-09-08T11:27:55.200Z"
   },
   {
    "duration": 30,
    "start_time": "2021-09-08T11:28:39.315Z"
   },
   {
    "duration": 645,
    "start_time": "2021-09-08T11:34:34.904Z"
   },
   {
    "duration": 322,
    "start_time": "2021-09-08T11:43:25.291Z"
   },
   {
    "duration": 326,
    "start_time": "2021-09-08T11:43:40.723Z"
   },
   {
    "duration": 24,
    "start_time": "2021-09-08T11:44:01.229Z"
   },
   {
    "duration": 27,
    "start_time": "2021-09-08T11:44:35.327Z"
   },
   {
    "duration": 23,
    "start_time": "2021-09-08T11:44:57.376Z"
   },
   {
    "duration": 23,
    "start_time": "2021-09-08T11:45:12.040Z"
   },
   {
    "duration": 27,
    "start_time": "2021-09-08T11:45:36.602Z"
   },
   {
    "duration": 28,
    "start_time": "2021-09-08T11:45:49.690Z"
   },
   {
    "duration": 30,
    "start_time": "2021-09-08T11:46:03.798Z"
   },
   {
    "duration": 814,
    "start_time": "2021-09-08T11:47:20.331Z"
   },
   {
    "duration": 757,
    "start_time": "2021-09-08T11:47:33.453Z"
   },
   {
    "duration": 6,
    "start_time": "2021-09-08T11:48:23.466Z"
   },
   {
    "duration": 25,
    "start_time": "2021-09-08T11:49:25.464Z"
   },
   {
    "duration": 34,
    "start_time": "2021-09-08T11:49:39.013Z"
   },
   {
    "duration": 27,
    "start_time": "2021-09-08T11:49:52.884Z"
   },
   {
    "duration": 29,
    "start_time": "2021-09-08T11:50:50.342Z"
   },
   {
    "duration": 15,
    "start_time": "2021-09-08T11:51:59.639Z"
   },
   {
    "duration": 24,
    "start_time": "2021-09-08T11:52:42.667Z"
   },
   {
    "duration": 23,
    "start_time": "2021-09-08T11:52:49.357Z"
   },
   {
    "duration": 28,
    "start_time": "2021-09-08T11:52:58.023Z"
   },
   {
    "duration": 26,
    "start_time": "2021-09-08T11:53:22.443Z"
   },
   {
    "duration": 33,
    "start_time": "2021-09-08T11:56:11.682Z"
   },
   {
    "duration": 30,
    "start_time": "2021-09-08T11:56:18.618Z"
   },
   {
    "duration": 49,
    "start_time": "2021-09-08T11:56:23.585Z"
   },
   {
    "duration": 287,
    "start_time": "2021-09-08T12:06:21.194Z"
   },
   {
    "duration": 17,
    "start_time": "2021-09-08T12:06:24.375Z"
   },
   {
    "duration": 125,
    "start_time": "2021-09-08T12:08:14.445Z"
   },
   {
    "duration": 101,
    "start_time": "2021-09-08T12:08:21.377Z"
   },
   {
    "duration": 111,
    "start_time": "2021-09-08T12:08:31.274Z"
   },
   {
    "duration": 140,
    "start_time": "2021-09-08T12:09:24.393Z"
   },
   {
    "duration": 33,
    "start_time": "2021-09-08T12:09:33.313Z"
   },
   {
    "duration": 34,
    "start_time": "2021-09-08T12:09:40.106Z"
   },
   {
    "duration": 322,
    "start_time": "2021-09-08T12:09:57.358Z"
   },
   {
    "duration": 34,
    "start_time": "2021-09-08T12:10:16.414Z"
   },
   {
    "duration": 7949,
    "start_time": "2021-09-08T12:10:57.989Z"
   },
   {
    "duration": 8739,
    "start_time": "2021-09-08T12:11:06.265Z"
   },
   {
    "duration": 32,
    "start_time": "2021-09-08T12:11:41.312Z"
   },
   {
    "duration": 26,
    "start_time": "2021-09-08T12:16:54.729Z"
   },
   {
    "duration": 44,
    "start_time": "2021-09-08T12:17:06.592Z"
   },
   {
    "duration": 37,
    "start_time": "2021-09-08T12:17:27.571Z"
   },
   {
    "duration": 35,
    "start_time": "2021-09-08T12:17:49.115Z"
   },
   {
    "duration": 10,
    "start_time": "2021-09-08T12:52:06.437Z"
   },
   {
    "duration": 30,
    "start_time": "2021-09-08T12:52:15.961Z"
   },
   {
    "duration": 37,
    "start_time": "2021-09-08T12:52:27.901Z"
   },
   {
    "duration": 27,
    "start_time": "2021-09-08T12:52:44.272Z"
   },
   {
    "duration": 6,
    "start_time": "2021-09-08T12:54:31.831Z"
   },
   {
    "duration": 6854,
    "start_time": "2021-09-08T12:55:06.754Z"
   },
   {
    "duration": -184,
    "start_time": "2021-09-08T12:55:13.795Z"
   },
   {
    "duration": 6839,
    "start_time": "2021-09-08T12:55:16.225Z"
   },
   {
    "duration": 18,
    "start_time": "2021-09-08T12:55:24.672Z"
   },
   {
    "duration": 7,
    "start_time": "2021-09-08T12:55:27.293Z"
   },
   {
    "duration": 10,
    "start_time": "2021-09-08T12:59:57.517Z"
   },
   {
    "duration": 13,
    "start_time": "2021-09-08T13:02:45.229Z"
   },
   {
    "duration": 13,
    "start_time": "2021-09-08T13:02:50.445Z"
   },
   {
    "duration": 10,
    "start_time": "2021-09-08T13:02:56.460Z"
   },
   {
    "duration": 6,
    "start_time": "2021-09-08T13:09:02.564Z"
   },
   {
    "duration": 7,
    "start_time": "2021-09-08T13:09:09.784Z"
   },
   {
    "duration": 109,
    "start_time": "2021-09-08T13:10:49.494Z"
   },
   {
    "duration": 97,
    "start_time": "2021-09-08T13:11:01.630Z"
   },
   {
    "duration": 99,
    "start_time": "2021-09-08T13:11:09.298Z"
   },
   {
    "duration": 95,
    "start_time": "2021-09-08T13:11:33.386Z"
   },
   {
    "duration": 92,
    "start_time": "2021-09-08T13:11:36.753Z"
   },
   {
    "duration": 96,
    "start_time": "2021-09-08T13:11:43.174Z"
   },
   {
    "duration": 103,
    "start_time": "2021-09-08T13:12:16.760Z"
   },
   {
    "duration": 105,
    "start_time": "2021-09-08T13:13:05.233Z"
   },
   {
    "duration": 102,
    "start_time": "2021-09-08T13:13:10.607Z"
   },
   {
    "duration": 112,
    "start_time": "2021-09-08T13:14:24.485Z"
   },
   {
    "duration": 90,
    "start_time": "2021-09-08T13:14:41.497Z"
   },
   {
    "duration": 148,
    "start_time": "2021-09-08T13:15:33.409Z"
   },
   {
    "duration": 6,
    "start_time": "2021-09-08T13:15:40.641Z"
   },
   {
    "duration": 7,
    "start_time": "2021-09-08T13:15:53.333Z"
   },
   {
    "duration": 100,
    "start_time": "2021-09-08T13:16:38.749Z"
   },
   {
    "duration": 124,
    "start_time": "2021-09-08T13:16:42.488Z"
   },
   {
    "duration": 95,
    "start_time": "2021-09-08T13:16:58.828Z"
   },
   {
    "duration": 92,
    "start_time": "2021-09-08T13:17:05.215Z"
   },
   {
    "duration": 6,
    "start_time": "2021-09-08T13:18:22.462Z"
   },
   {
    "duration": 8,
    "start_time": "2021-09-08T13:18:31.525Z"
   },
   {
    "duration": 7,
    "start_time": "2021-09-08T13:18:58.937Z"
   },
   {
    "duration": 8,
    "start_time": "2021-09-08T13:19:00.203Z"
   },
   {
    "duration": 7,
    "start_time": "2021-09-08T13:19:10.663Z"
   },
   {
    "duration": 7,
    "start_time": "2021-09-08T13:19:11.721Z"
   },
   {
    "duration": 7,
    "start_time": "2021-09-08T13:19:34.676Z"
   },
   {
    "duration": 7,
    "start_time": "2021-09-08T13:19:35.361Z"
   },
   {
    "duration": 8,
    "start_time": "2021-09-08T13:20:16.267Z"
   },
   {
    "duration": 7,
    "start_time": "2021-09-08T13:20:32.238Z"
   },
   {
    "duration": 8,
    "start_time": "2021-09-08T13:24:05.769Z"
   },
   {
    "duration": 8,
    "start_time": "2021-09-08T13:24:14.892Z"
   },
   {
    "duration": 7,
    "start_time": "2021-09-08T13:24:16.541Z"
   },
   {
    "duration": 8,
    "start_time": "2021-09-08T13:26:36.903Z"
   },
   {
    "duration": 7,
    "start_time": "2021-09-08T13:26:38.505Z"
   },
   {
    "duration": 6,
    "start_time": "2021-09-08T13:48:57.714Z"
   },
   {
    "duration": 8,
    "start_time": "2021-09-08T13:49:18.674Z"
   },
   {
    "duration": 52,
    "start_time": "2021-09-08T13:50:41.539Z"
   },
   {
    "duration": 289,
    "start_time": "2021-09-08T13:52:22.926Z"
   },
   {
    "duration": 516,
    "start_time": "2021-09-08T13:53:32.970Z"
   },
   {
    "duration": 8,
    "start_time": "2021-09-08T13:53:44.891Z"
   },
   {
    "duration": 11,
    "start_time": "2021-09-08T13:53:48.034Z"
   },
   {
    "duration": 9,
    "start_time": "2021-09-08T13:55:50.110Z"
   },
   {
    "duration": 10,
    "start_time": "2021-09-08T13:56:03.954Z"
   },
   {
    "duration": 10,
    "start_time": "2021-09-08T13:57:18.427Z"
   },
   {
    "duration": 7,
    "start_time": "2021-09-08T13:57:53.002Z"
   },
   {
    "duration": 7,
    "start_time": "2021-09-08T13:57:58.568Z"
   },
   {
    "duration": 1150,
    "start_time": "2021-09-09T04:44:35.968Z"
   },
   {
    "duration": 28,
    "start_time": "2021-09-09T04:44:37.120Z"
   },
   {
    "duration": 3,
    "start_time": "2021-09-09T04:44:37.150Z"
   },
   {
    "duration": 14,
    "start_time": "2021-09-09T04:44:37.155Z"
   },
   {
    "duration": 12,
    "start_time": "2021-09-09T04:44:37.171Z"
   },
   {
    "duration": 88,
    "start_time": "2021-09-09T04:44:37.185Z"
   },
   {
    "duration": 13,
    "start_time": "2021-09-09T04:44:37.275Z"
   },
   {
    "duration": 11,
    "start_time": "2021-09-09T04:44:37.290Z"
   },
   {
    "duration": 14,
    "start_time": "2021-09-09T04:44:37.304Z"
   },
   {
    "duration": 396,
    "start_time": "2021-09-09T04:44:37.321Z"
   },
   {
    "duration": 458,
    "start_time": "2021-09-09T04:44:37.718Z"
   },
   {
    "duration": 436,
    "start_time": "2021-09-09T04:44:38.178Z"
   },
   {
    "duration": 564,
    "start_time": "2021-09-09T04:44:38.615Z"
   },
   {
    "duration": 435,
    "start_time": "2021-09-09T04:44:39.182Z"
   },
   {
    "duration": 553,
    "start_time": "2021-09-09T04:44:39.620Z"
   },
   {
    "duration": 427,
    "start_time": "2021-09-09T04:44:40.175Z"
   },
   {
    "duration": 10,
    "start_time": "2021-09-09T04:44:40.604Z"
   },
   {
    "duration": 32,
    "start_time": "2021-09-09T04:44:40.616Z"
   },
   {
    "duration": 460,
    "start_time": "2021-09-09T04:44:40.651Z"
   },
   {
    "duration": 496,
    "start_time": "2021-09-09T04:44:41.113Z"
   },
   {
    "duration": 11,
    "start_time": "2021-09-09T04:44:41.610Z"
   },
   {
    "duration": 25,
    "start_time": "2021-09-09T04:44:41.623Z"
   },
   {
    "duration": 5,
    "start_time": "2021-09-09T04:44:41.650Z"
   },
   {
    "duration": 8,
    "start_time": "2021-09-09T04:44:41.657Z"
   },
   {
    "duration": 9,
    "start_time": "2021-09-09T04:44:41.667Z"
   },
   {
    "duration": 93,
    "start_time": "2021-09-09T04:44:41.678Z"
   },
   {
    "duration": 9,
    "start_time": "2021-09-09T06:24:33.151Z"
   },
   {
    "duration": 9,
    "start_time": "2021-09-09T07:00:04.448Z"
   },
   {
    "duration": 9,
    "start_time": "2021-09-09T07:00:28.228Z"
   },
   {
    "duration": 7,
    "start_time": "2021-09-09T07:10:20.871Z"
   },
   {
    "duration": 7,
    "start_time": "2021-09-09T07:10:21.858Z"
   },
   {
    "duration": 12,
    "start_time": "2021-09-09T07:12:11.145Z"
   },
   {
    "duration": 7,
    "start_time": "2021-09-09T07:22:54.812Z"
   },
   {
    "duration": 13,
    "start_time": "2021-09-09T07:23:30.152Z"
   },
   {
    "duration": 7,
    "start_time": "2021-09-09T07:26:00.077Z"
   },
   {
    "duration": 13,
    "start_time": "2021-09-09T07:26:05.735Z"
   },
   {
    "duration": 15,
    "start_time": "2021-09-09T07:26:10.931Z"
   },
   {
    "duration": 7,
    "start_time": "2021-09-09T07:29:10.339Z"
   },
   {
    "duration": 6,
    "start_time": "2021-09-09T07:34:12.871Z"
   },
   {
    "duration": 5,
    "start_time": "2021-09-09T07:34:21.742Z"
   },
   {
    "duration": 4,
    "start_time": "2021-09-09T07:34:58.216Z"
   },
   {
    "duration": 5,
    "start_time": "2021-09-09T07:35:00.822Z"
   },
   {
    "duration": 5,
    "start_time": "2021-09-09T07:50:10.674Z"
   },
   {
    "duration": 5,
    "start_time": "2021-09-09T07:50:28.259Z"
   },
   {
    "duration": 5,
    "start_time": "2021-09-09T07:50:45.380Z"
   },
   {
    "duration": 6,
    "start_time": "2021-09-09T08:07:35.628Z"
   },
   {
    "duration": 6870,
    "start_time": "2021-09-09T08:19:07.531Z"
   },
   {
    "duration": 7608,
    "start_time": "2021-09-09T08:19:29.558Z"
   },
   {
    "duration": 8,
    "start_time": "2021-09-09T08:20:11.098Z"
   },
   {
    "duration": 13,
    "start_time": "2021-09-09T08:20:54.270Z"
   },
   {
    "duration": 12,
    "start_time": "2021-09-09T08:21:03.513Z"
   },
   {
    "duration": 6,
    "start_time": "2021-09-09T08:21:09.661Z"
   },
   {
    "duration": 6,
    "start_time": "2021-09-09T08:30:03.600Z"
   },
   {
    "duration": 8,
    "start_time": "2021-09-09T08:30:40.761Z"
   },
   {
    "duration": 340,
    "start_time": "2021-09-09T08:31:18.346Z"
   },
   {
    "duration": 11,
    "start_time": "2021-09-09T08:31:58.223Z"
   },
   {
    "duration": 10,
    "start_time": "2021-09-09T08:32:12.359Z"
   },
   {
    "duration": 9,
    "start_time": "2021-09-09T08:32:28.603Z"
   },
   {
    "duration": 11,
    "start_time": "2021-09-09T08:32:54.832Z"
   },
   {
    "duration": 14,
    "start_time": "2021-09-09T08:33:57.997Z"
   },
   {
    "duration": 13,
    "start_time": "2021-09-09T08:34:23.454Z"
   },
   {
    "duration": 335,
    "start_time": "2021-09-09T08:34:36.774Z"
   },
   {
    "duration": 1523,
    "start_time": "2021-09-09T08:35:05.272Z"
   },
   {
    "duration": 36,
    "start_time": "2021-09-09T08:35:06.797Z"
   },
   {
    "duration": 16,
    "start_time": "2021-09-09T08:35:06.836Z"
   },
   {
    "duration": 40,
    "start_time": "2021-09-09T08:35:06.855Z"
   },
   {
    "duration": 27,
    "start_time": "2021-09-09T08:35:06.898Z"
   },
   {
    "duration": 81,
    "start_time": "2021-09-09T08:35:06.928Z"
   },
   {
    "duration": 14,
    "start_time": "2021-09-09T08:35:07.011Z"
   },
   {
    "duration": 42,
    "start_time": "2021-09-09T08:35:07.028Z"
   },
   {
    "duration": 47,
    "start_time": "2021-09-09T08:35:07.072Z"
   },
   {
    "duration": 439,
    "start_time": "2021-09-09T08:35:07.121Z"
   },
   {
    "duration": 470,
    "start_time": "2021-09-09T08:35:07.562Z"
   },
   {
    "duration": 451,
    "start_time": "2021-09-09T08:35:08.033Z"
   },
   {
    "duration": 572,
    "start_time": "2021-09-09T08:35:08.486Z"
   },
   {
    "duration": 445,
    "start_time": "2021-09-09T08:35:09.060Z"
   },
   {
    "duration": 673,
    "start_time": "2021-09-09T08:35:09.507Z"
   },
   {
    "duration": 429,
    "start_time": "2021-09-09T08:35:10.182Z"
   },
   {
    "duration": 29,
    "start_time": "2021-09-09T08:35:10.613Z"
   },
   {
    "duration": 478,
    "start_time": "2021-09-09T08:35:10.644Z"
   },
   {
    "duration": 648,
    "start_time": "2021-09-09T08:35:11.125Z"
   },
   {
    "duration": 17,
    "start_time": "2021-09-09T08:35:11.776Z"
   },
   {
    "duration": 48,
    "start_time": "2021-09-09T08:35:11.795Z"
   },
   {
    "duration": 22,
    "start_time": "2021-09-09T08:35:11.845Z"
   },
   {
    "duration": 27,
    "start_time": "2021-09-09T08:35:11.871Z"
   },
   {
    "duration": 26,
    "start_time": "2021-09-09T08:35:11.900Z"
   },
   {
    "duration": 27,
    "start_time": "2021-09-09T08:35:11.928Z"
   },
   {
    "duration": 23,
    "start_time": "2021-09-09T08:35:11.957Z"
   },
   {
    "duration": 30,
    "start_time": "2021-09-09T08:35:11.982Z"
   },
   {
    "duration": 36,
    "start_time": "2021-09-09T08:35:12.014Z"
   },
   {
    "duration": 105,
    "start_time": "2021-09-09T08:35:12.053Z"
   },
   {
    "duration": 11,
    "start_time": "2021-09-09T08:35:12.161Z"
   },
   {
    "duration": 33,
    "start_time": "2021-09-09T08:35:12.173Z"
   },
   {
    "duration": 11,
    "start_time": "2021-09-09T08:36:43.811Z"
   },
   {
    "duration": 14,
    "start_time": "2021-09-09T08:36:44.354Z"
   },
   {
    "duration": 475,
    "start_time": "2021-09-09T08:37:36.605Z"
   },
   {
    "duration": 11,
    "start_time": "2021-09-09T08:37:52.746Z"
   },
   {
    "duration": 11,
    "start_time": "2021-09-09T08:45:09.676Z"
   },
   {
    "duration": 87,
    "start_time": "2021-09-09T08:45:32.296Z"
   },
   {
    "duration": 101,
    "start_time": "2021-09-09T08:45:37.373Z"
   },
   {
    "duration": 7,
    "start_time": "2021-09-09T08:45:48.225Z"
   },
   {
    "duration": 17,
    "start_time": "2021-09-09T08:46:16.653Z"
   },
   {
    "duration": 6,
    "start_time": "2021-09-09T08:46:37.288Z"
   },
   {
    "duration": 11,
    "start_time": "2021-09-09T08:47:24.792Z"
   },
   {
    "duration": 9,
    "start_time": "2021-09-09T08:47:26.079Z"
   },
   {
    "duration": 19,
    "start_time": "2021-09-09T08:57:42.245Z"
   },
   {
    "duration": 9,
    "start_time": "2021-09-09T08:58:06.318Z"
   },
   {
    "duration": 15,
    "start_time": "2021-09-09T09:17:03.262Z"
   },
   {
    "duration": 7,
    "start_time": "2021-09-09T09:17:58.824Z"
   },
   {
    "duration": 14,
    "start_time": "2021-09-09T09:34:10.529Z"
   },
   {
    "duration": 20,
    "start_time": "2021-09-09T09:34:29.037Z"
   },
   {
    "duration": 13,
    "start_time": "2021-09-09T11:06:28.594Z"
   },
   {
    "duration": 14,
    "start_time": "2021-09-09T11:06:36.643Z"
   },
   {
    "duration": 22,
    "start_time": "2021-09-09T11:06:50.337Z"
   },
   {
    "duration": 3,
    "start_time": "2021-09-09T11:23:48.760Z"
   },
   {
    "duration": 4,
    "start_time": "2021-09-09T12:04:57.271Z"
   },
   {
    "duration": 27,
    "start_time": "2021-09-09T12:04:57.278Z"
   },
   {
    "duration": 4,
    "start_time": "2021-09-09T12:04:57.308Z"
   },
   {
    "duration": 15,
    "start_time": "2021-09-09T12:04:57.314Z"
   },
   {
    "duration": 13,
    "start_time": "2021-09-09T12:04:57.331Z"
   },
   {
    "duration": 60,
    "start_time": "2021-09-09T12:04:57.346Z"
   },
   {
    "duration": 14,
    "start_time": "2021-09-09T12:04:57.410Z"
   },
   {
    "duration": 13,
    "start_time": "2021-09-09T12:04:57.427Z"
   },
   {
    "duration": 16,
    "start_time": "2021-09-09T12:04:57.442Z"
   },
   {
    "duration": 426,
    "start_time": "2021-09-09T12:04:57.460Z"
   },
   {
    "duration": 446,
    "start_time": "2021-09-09T12:04:57.889Z"
   },
   {
    "duration": 440,
    "start_time": "2021-09-09T12:04:58.337Z"
   },
   {
    "duration": 571,
    "start_time": "2021-09-09T12:04:58.780Z"
   },
   {
    "duration": 436,
    "start_time": "2021-09-09T12:04:59.354Z"
   },
   {
    "duration": 567,
    "start_time": "2021-09-09T12:04:59.792Z"
   },
   {
    "duration": 428,
    "start_time": "2021-09-09T12:05:00.361Z"
   },
   {
    "duration": 16,
    "start_time": "2021-09-09T12:05:00.792Z"
   },
   {
    "duration": 504,
    "start_time": "2021-09-09T12:05:00.810Z"
   },
   {
    "duration": 532,
    "start_time": "2021-09-09T12:05:01.318Z"
   },
   {
    "duration": 12,
    "start_time": "2021-09-09T12:05:01.852Z"
   },
   {
    "duration": 50,
    "start_time": "2021-09-09T12:05:01.866Z"
   },
   {
    "duration": 49,
    "start_time": "2021-09-09T12:05:01.918Z"
   },
   {
    "duration": 37,
    "start_time": "2021-09-09T12:05:01.968Z"
   },
   {
    "duration": 72,
    "start_time": "2021-09-09T12:05:02.007Z"
   },
   {
    "duration": 40,
    "start_time": "2021-09-09T12:05:02.081Z"
   },
   {
    "duration": 29,
    "start_time": "2021-09-09T12:05:02.122Z"
   },
   {
    "duration": 35,
    "start_time": "2021-09-09T12:05:02.153Z"
   },
   {
    "duration": 27,
    "start_time": "2021-09-09T12:05:02.190Z"
   },
   {
    "duration": 40,
    "start_time": "2021-09-09T12:05:02.219Z"
   },
   {
    "duration": 29,
    "start_time": "2021-09-09T12:05:02.261Z"
   },
   {
    "duration": 26,
    "start_time": "2021-09-09T12:05:02.292Z"
   },
   {
    "duration": 25,
    "start_time": "2021-09-09T12:05:02.320Z"
   },
   {
    "duration": 6,
    "start_time": "2021-09-09T12:05:27.721Z"
   },
   {
    "duration": 97,
    "start_time": "2021-09-09T14:59:16.661Z"
   },
   {
    "duration": 93,
    "start_time": "2021-09-09T15:06:23.654Z"
   },
   {
    "duration": 1381,
    "start_time": "2021-09-09T17:59:53.474Z"
   },
   {
    "duration": 31,
    "start_time": "2021-09-09T17:59:54.858Z"
   },
   {
    "duration": 4,
    "start_time": "2021-09-09T17:59:54.892Z"
   },
   {
    "duration": 31,
    "start_time": "2021-09-09T17:59:54.899Z"
   },
   {
    "duration": 30,
    "start_time": "2021-09-09T17:59:54.932Z"
   },
   {
    "duration": 70,
    "start_time": "2021-09-09T17:59:54.964Z"
   },
   {
    "duration": 21,
    "start_time": "2021-09-09T17:59:55.037Z"
   },
   {
    "duration": 28,
    "start_time": "2021-09-09T17:59:55.064Z"
   },
   {
    "duration": 25,
    "start_time": "2021-09-09T17:59:55.096Z"
   },
   {
    "duration": 657,
    "start_time": "2021-09-09T17:59:55.124Z"
   },
   {
    "duration": 685,
    "start_time": "2021-09-09T17:59:55.784Z"
   },
   {
    "duration": 807,
    "start_time": "2021-09-09T17:59:56.472Z"
   },
   {
    "duration": 881,
    "start_time": "2021-09-09T17:59:57.283Z"
   },
   {
    "duration": 704,
    "start_time": "2021-09-09T17:59:58.167Z"
   },
   {
    "duration": 789,
    "start_time": "2021-09-09T17:59:58.873Z"
   },
   {
    "duration": 592,
    "start_time": "2021-09-09T17:59:59.664Z"
   },
   {
    "duration": 19,
    "start_time": "2021-09-09T18:00:00.259Z"
   },
   {
    "duration": 714,
    "start_time": "2021-09-09T18:00:00.280Z"
   },
   {
    "duration": 885,
    "start_time": "2021-09-09T18:00:00.996Z"
   },
   {
    "duration": 16,
    "start_time": "2021-09-09T18:00:01.884Z"
   },
   {
    "duration": 145,
    "start_time": "2021-09-09T18:00:01.902Z"
   },
   {
    "duration": 23,
    "start_time": "2021-09-09T18:00:02.049Z"
   },
   {
    "duration": 56,
    "start_time": "2021-09-09T18:00:02.076Z"
   },
   {
    "duration": 51,
    "start_time": "2021-09-09T18:00:02.135Z"
   },
   {
    "duration": 18,
    "start_time": "2021-09-09T18:00:02.189Z"
   },
   {
    "duration": 18,
    "start_time": "2021-09-09T18:00:02.210Z"
   },
   {
    "duration": 48,
    "start_time": "2021-09-09T18:00:02.231Z"
   },
   {
    "duration": 40,
    "start_time": "2021-09-09T18:00:02.282Z"
   },
   {
    "duration": 124,
    "start_time": "2021-09-09T18:00:02.325Z"
   },
   {
    "duration": 11,
    "start_time": "2021-09-09T18:00:02.452Z"
   },
   {
    "duration": 26,
    "start_time": "2021-09-09T18:00:02.466Z"
   },
   {
    "duration": 17,
    "start_time": "2021-09-09T18:00:02.494Z"
   },
   {
    "duration": 1349,
    "start_time": "2021-10-12T04:40:41.769Z"
   },
   {
    "duration": 31,
    "start_time": "2021-10-12T04:40:43.120Z"
   },
   {
    "duration": 4,
    "start_time": "2021-10-12T04:40:43.154Z"
   },
   {
    "duration": 17,
    "start_time": "2021-10-12T04:40:43.161Z"
   },
   {
    "duration": 14,
    "start_time": "2021-10-12T04:40:43.180Z"
   },
   {
    "duration": 55,
    "start_time": "2021-10-12T04:40:43.196Z"
   },
   {
    "duration": 16,
    "start_time": "2021-10-12T04:40:43.254Z"
   },
   {
    "duration": 15,
    "start_time": "2021-10-12T04:40:43.274Z"
   },
   {
    "duration": 21,
    "start_time": "2021-10-12T04:40:43.292Z"
   },
   {
    "duration": 752,
    "start_time": "2021-10-12T04:40:43.316Z"
   },
   {
    "duration": 685,
    "start_time": "2021-10-12T04:40:44.070Z"
   },
   {
    "duration": 681,
    "start_time": "2021-10-12T04:40:44.758Z"
   },
   {
    "duration": 767,
    "start_time": "2021-10-12T04:40:45.442Z"
   },
   {
    "duration": 651,
    "start_time": "2021-10-12T04:40:46.211Z"
   },
   {
    "duration": 816,
    "start_time": "2021-10-12T04:40:46.864Z"
   },
   {
    "duration": 889,
    "start_time": "2021-10-12T04:40:47.682Z"
   },
   {
    "duration": 20,
    "start_time": "2021-10-12T04:40:48.573Z"
   },
   {
    "duration": 598,
    "start_time": "2021-10-12T04:40:48.595Z"
   },
   {
    "duration": 599,
    "start_time": "2021-10-12T04:40:49.196Z"
   },
   {
    "duration": 17,
    "start_time": "2021-10-12T04:40:49.797Z"
   },
   {
    "duration": 18,
    "start_time": "2021-10-12T04:40:49.817Z"
   },
   {
    "duration": 7,
    "start_time": "2021-10-12T04:40:49.859Z"
   },
   {
    "duration": 9,
    "start_time": "2021-10-12T04:40:49.872Z"
   },
   {
    "duration": 9,
    "start_time": "2021-10-12T04:40:49.883Z"
   },
   {
    "duration": 16,
    "start_time": "2021-10-12T04:40:49.894Z"
   },
   {
    "duration": 47,
    "start_time": "2021-10-12T04:40:49.914Z"
   },
   {
    "duration": 19,
    "start_time": "2021-10-12T04:40:49.963Z"
   },
   {
    "duration": 19,
    "start_time": "2021-10-12T04:40:49.985Z"
   },
   {
    "duration": 116,
    "start_time": "2021-10-12T04:40:50.007Z"
   },
   {
    "duration": 9,
    "start_time": "2021-10-12T04:40:50.125Z"
   },
   {
    "duration": 28,
    "start_time": "2021-10-12T04:40:50.136Z"
   },
   {
    "duration": 8,
    "start_time": "2021-10-12T04:40:50.166Z"
   },
   {
    "duration": 9,
    "start_time": "2021-10-12T10:00:52.836Z"
   },
   {
    "duration": 1013,
    "start_time": "2022-01-28T09:06:19.547Z"
   },
   {
    "duration": 22,
    "start_time": "2022-01-28T09:06:20.561Z"
   },
   {
    "duration": 4,
    "start_time": "2022-01-28T09:06:20.586Z"
   },
   {
    "duration": 24,
    "start_time": "2022-01-28T09:06:20.592Z"
   },
   {
    "duration": 19,
    "start_time": "2022-01-28T09:06:20.618Z"
   },
   {
    "duration": 38,
    "start_time": "2022-01-28T09:06:20.639Z"
   },
   {
    "duration": 10,
    "start_time": "2022-01-28T09:06:20.679Z"
   },
   {
    "duration": 23,
    "start_time": "2022-01-28T09:06:20.691Z"
   },
   {
    "duration": 18,
    "start_time": "2022-01-28T09:06:20.718Z"
   },
   {
    "duration": 401,
    "start_time": "2022-01-28T09:06:20.738Z"
   },
   {
    "duration": 443,
    "start_time": "2022-01-28T09:06:21.141Z"
   },
   {
    "duration": 428,
    "start_time": "2022-01-28T09:06:21.586Z"
   },
   {
    "duration": 536,
    "start_time": "2022-01-28T09:06:22.017Z"
   },
   {
    "duration": 423,
    "start_time": "2022-01-28T09:06:22.555Z"
   },
   {
    "duration": 816,
    "start_time": "2022-01-28T09:06:22.980Z"
   },
   {
    "duration": 453,
    "start_time": "2022-01-28T09:06:23.798Z"
   },
   {
    "duration": 13,
    "start_time": "2022-01-28T09:06:24.253Z"
   },
   {
    "duration": 451,
    "start_time": "2022-01-28T09:06:24.268Z"
   },
   {
    "duration": 469,
    "start_time": "2022-01-28T09:06:24.721Z"
   },
   {
    "duration": 21,
    "start_time": "2022-01-28T09:06:25.191Z"
   },
   {
    "duration": 18,
    "start_time": "2022-01-28T09:06:25.214Z"
   },
   {
    "duration": 4,
    "start_time": "2022-01-28T09:06:25.234Z"
   },
   {
    "duration": 9,
    "start_time": "2022-01-28T09:06:25.239Z"
   },
   {
    "duration": 82,
    "start_time": "2022-01-28T09:06:25.250Z"
   },
   {
    "duration": 7,
    "start_time": "2022-01-28T09:06:25.334Z"
   },
   {
    "duration": 10,
    "start_time": "2022-01-28T09:06:25.343Z"
   },
   {
    "duration": 6,
    "start_time": "2022-01-28T09:06:25.356Z"
   },
   {
    "duration": 9,
    "start_time": "2022-01-28T09:06:25.363Z"
   },
   {
    "duration": 8,
    "start_time": "2022-01-28T09:06:25.374Z"
   },
   {
    "duration": 35,
    "start_time": "2022-01-28T09:06:25.383Z"
   },
   {
    "duration": 9,
    "start_time": "2022-01-28T09:06:25.420Z"
   },
   {
    "duration": 8,
    "start_time": "2022-01-28T09:06:25.431Z"
   },
   {
    "duration": 1105,
    "start_time": "2022-01-28T09:20:49.064Z"
   }
  ],
  "kernelspec": {
   "display_name": "Python 3.11.0 64-bit",
   "language": "python",
   "name": "python3"
  },
  "language_info": {
   "codemirror_mode": {
    "name": "ipython",
    "version": 3
   },
   "file_extension": ".py",
   "mimetype": "text/x-python",
   "name": "python",
   "nbconvert_exporter": "python",
   "pygments_lexer": "ipython3",
   "version": "3.11.0"
  },
  "toc": {
   "base_numbering": 1,
   "nav_menu": {
    "height": "16px",
    "width": "160px"
   },
   "number_sections": true,
   "sideBar": true,
   "skip_h1_title": true,
   "title_cell": "Table of Contents",
   "title_sidebar": "Contents",
   "toc_cell": false,
   "toc_position": {
    "height": "calc(100% - 180px)",
    "left": "10px",
    "top": "150px",
    "width": "425.217px"
   },
   "toc_section_display": true,
   "toc_window_display": true
  },
  "vscode": {
   "interpreter": {
    "hash": "aee8b7b246df8f9039afb4144a1f6fd8d2ca17a180786b69acc140d282b71a49"
   }
  }
 },
 "nbformat": 4,
 "nbformat_minor": 2
}
