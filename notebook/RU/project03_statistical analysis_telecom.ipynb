{
 "cells": [
  {
   "cell_type": "markdown",
   "metadata": {},
   "source": [
    "# Определение перспективного тарифа для телеком компании\n",
    "\n",
    "Заказчик — федеральный оператор сотовой связи. Клиентам предлагают два тарифных плана. Нужно определить какой тариф приносит больше денег, чтобы скорректировать рекламный бюджет. Задача — проанализировать поведение клиентов и сделать вывод какой тариф лучше."
   ]
  },
  {
   "cell_type": "markdown",
   "metadata": {},
   "source": [
    "## Загрузка данных и изучение общей информации"
   ]
  },
  {
   "cell_type": "code",
   "execution_count": 1,
   "metadata": {},
   "outputs": [],
   "source": [
    "import pandas as pd\n",
    "import numpy as np\n",
    "import matplotlib.pyplot as plt\n",
    "from scipy import stats as st\n",
    "from IPython.core.interactiveshell import InteractiveShell\n",
    "InteractiveShell.ast_node_interactivity = \"all\""
   ]
  },
  {
   "cell_type": "code",
   "execution_count": 2,
   "metadata": {},
   "outputs": [],
   "source": [
    "# Читаем предоставленные данные и задаем им названия.\n",
    "users = pd.read_csv('/Users/vintera/Git/projects/my_projects/dataset/project_03/users.csv')\n",
    "calls = pd.read_csv('/Users/vintera/Git/projects/my_projects/dataset/project_03/calls.csv')\n",
    "internet = pd.read_csv('/Users/vintera/Git/projects/my_projects/dataset/project_03/internet.csv')\n",
    "messages = pd.read_csv('/Users/vintera/Git/projects/my_projects/dataset/project_03/messages.csv')\n",
    "tariffs = pd.read_csv('/Users/vintera/Git/projects/my_projects/dataset/project_03/tariffs.csv')"
   ]
  },
  {
   "cell_type": "code",
   "execution_count": 3,
   "metadata": {},
   "outputs": [
    {
     "data": {
      "text/html": [
       "<div>\n",
       "<style scoped>\n",
       "    .dataframe tbody tr th:only-of-type {\n",
       "        vertical-align: middle;\n",
       "    }\n",
       "\n",
       "    .dataframe tbody tr th {\n",
       "        vertical-align: top;\n",
       "    }\n",
       "\n",
       "    .dataframe thead th {\n",
       "        text-align: right;\n",
       "    }\n",
       "</style>\n",
       "<table border=\"1\" class=\"dataframe\">\n",
       "  <thead>\n",
       "    <tr style=\"text-align: right;\">\n",
       "      <th></th>\n",
       "      <th>user_id</th>\n",
       "      <th>age</th>\n",
       "      <th>churn_date</th>\n",
       "      <th>city</th>\n",
       "      <th>first_name</th>\n",
       "      <th>last_name</th>\n",
       "      <th>reg_date</th>\n",
       "      <th>tariff</th>\n",
       "    </tr>\n",
       "  </thead>\n",
       "  <tbody>\n",
       "    <tr>\n",
       "      <th>0</th>\n",
       "      <td>1000</td>\n",
       "      <td>52</td>\n",
       "      <td>NaN</td>\n",
       "      <td>Краснодар</td>\n",
       "      <td>Рафаил</td>\n",
       "      <td>Верещагин</td>\n",
       "      <td>2018-05-25</td>\n",
       "      <td>ultra</td>\n",
       "    </tr>\n",
       "    <tr>\n",
       "      <th>1</th>\n",
       "      <td>1001</td>\n",
       "      <td>41</td>\n",
       "      <td>NaN</td>\n",
       "      <td>Москва</td>\n",
       "      <td>Иван</td>\n",
       "      <td>Ежов</td>\n",
       "      <td>2018-11-01</td>\n",
       "      <td>smart</td>\n",
       "    </tr>\n",
       "    <tr>\n",
       "      <th>2</th>\n",
       "      <td>1002</td>\n",
       "      <td>59</td>\n",
       "      <td>NaN</td>\n",
       "      <td>Стерлитамак</td>\n",
       "      <td>Евгений</td>\n",
       "      <td>Абрамович</td>\n",
       "      <td>2018-06-17</td>\n",
       "      <td>smart</td>\n",
       "    </tr>\n",
       "    <tr>\n",
       "      <th>3</th>\n",
       "      <td>1003</td>\n",
       "      <td>23</td>\n",
       "      <td>NaN</td>\n",
       "      <td>Москва</td>\n",
       "      <td>Белла</td>\n",
       "      <td>Белякова</td>\n",
       "      <td>2018-08-17</td>\n",
       "      <td>ultra</td>\n",
       "    </tr>\n",
       "    <tr>\n",
       "      <th>4</th>\n",
       "      <td>1004</td>\n",
       "      <td>68</td>\n",
       "      <td>NaN</td>\n",
       "      <td>Новокузнецк</td>\n",
       "      <td>Татьяна</td>\n",
       "      <td>Авдеенко</td>\n",
       "      <td>2018-05-14</td>\n",
       "      <td>ultra</td>\n",
       "    </tr>\n",
       "    <tr>\n",
       "      <th>...</th>\n",
       "      <td>...</td>\n",
       "      <td>...</td>\n",
       "      <td>...</td>\n",
       "      <td>...</td>\n",
       "      <td>...</td>\n",
       "      <td>...</td>\n",
       "      <td>...</td>\n",
       "      <td>...</td>\n",
       "    </tr>\n",
       "    <tr>\n",
       "      <th>495</th>\n",
       "      <td>1495</td>\n",
       "      <td>65</td>\n",
       "      <td>NaN</td>\n",
       "      <td>Иркутск</td>\n",
       "      <td>Авксентий</td>\n",
       "      <td>Фокин</td>\n",
       "      <td>2018-08-28</td>\n",
       "      <td>ultra</td>\n",
       "    </tr>\n",
       "    <tr>\n",
       "      <th>496</th>\n",
       "      <td>1496</td>\n",
       "      <td>36</td>\n",
       "      <td>NaN</td>\n",
       "      <td>Вологда</td>\n",
       "      <td>Трифон</td>\n",
       "      <td>Блохин</td>\n",
       "      <td>2018-01-27</td>\n",
       "      <td>smart</td>\n",
       "    </tr>\n",
       "    <tr>\n",
       "      <th>497</th>\n",
       "      <td>1497</td>\n",
       "      <td>32</td>\n",
       "      <td>NaN</td>\n",
       "      <td>Челябинск</td>\n",
       "      <td>Каролина</td>\n",
       "      <td>Агеева</td>\n",
       "      <td>2018-10-09</td>\n",
       "      <td>smart</td>\n",
       "    </tr>\n",
       "    <tr>\n",
       "      <th>498</th>\n",
       "      <td>1498</td>\n",
       "      <td>68</td>\n",
       "      <td>2018-10-25</td>\n",
       "      <td>Владикавказ</td>\n",
       "      <td>Всеволод</td>\n",
       "      <td>Акимчин</td>\n",
       "      <td>2018-07-19</td>\n",
       "      <td>smart</td>\n",
       "    </tr>\n",
       "    <tr>\n",
       "      <th>499</th>\n",
       "      <td>1499</td>\n",
       "      <td>35</td>\n",
       "      <td>NaN</td>\n",
       "      <td>Пермь</td>\n",
       "      <td>Гектор</td>\n",
       "      <td>Корнилов</td>\n",
       "      <td>2018-09-27</td>\n",
       "      <td>smart</td>\n",
       "    </tr>\n",
       "  </tbody>\n",
       "</table>\n",
       "<p>500 rows × 8 columns</p>\n",
       "</div>"
      ],
      "text/plain": [
       "     user_id  age  churn_date         city first_name  last_name    reg_date  \\\n",
       "0       1000   52         NaN    Краснодар     Рафаил  Верещагин  2018-05-25   \n",
       "1       1001   41         NaN       Москва       Иван       Ежов  2018-11-01   \n",
       "2       1002   59         NaN  Стерлитамак    Евгений  Абрамович  2018-06-17   \n",
       "3       1003   23         NaN       Москва      Белла   Белякова  2018-08-17   \n",
       "4       1004   68         NaN  Новокузнецк    Татьяна   Авдеенко  2018-05-14   \n",
       "..       ...  ...         ...          ...        ...        ...         ...   \n",
       "495     1495   65         NaN      Иркутск  Авксентий      Фокин  2018-08-28   \n",
       "496     1496   36         NaN      Вологда     Трифон     Блохин  2018-01-27   \n",
       "497     1497   32         NaN    Челябинск   Каролина     Агеева  2018-10-09   \n",
       "498     1498   68  2018-10-25  Владикавказ   Всеволод    Акимчин  2018-07-19   \n",
       "499     1499   35         NaN        Пермь     Гектор   Корнилов  2018-09-27   \n",
       "\n",
       "    tariff  \n",
       "0    ultra  \n",
       "1    smart  \n",
       "2    smart  \n",
       "3    ultra  \n",
       "4    ultra  \n",
       "..     ...  \n",
       "495  ultra  \n",
       "496  smart  \n",
       "497  smart  \n",
       "498  smart  \n",
       "499  smart  \n",
       "\n",
       "[500 rows x 8 columns]"
      ]
     },
     "execution_count": 3,
     "metadata": {},
     "output_type": "execute_result"
    },
    {
     "name": "stdout",
     "output_type": "stream",
     "text": [
      "<class 'pandas.core.frame.DataFrame'>\n",
      "RangeIndex: 500 entries, 0 to 499\n",
      "Data columns (total 8 columns):\n",
      " #   Column      Non-Null Count  Dtype \n",
      "---  ------      --------------  ----- \n",
      " 0   user_id     500 non-null    int64 \n",
      " 1   age         500 non-null    int64 \n",
      " 2   churn_date  38 non-null     object\n",
      " 3   city        500 non-null    object\n",
      " 4   first_name  500 non-null    object\n",
      " 5   last_name   500 non-null    object\n",
      " 6   reg_date    500 non-null    object\n",
      " 7   tariff      500 non-null    object\n",
      "dtypes: int64(2), object(6)\n",
      "memory usage: 31.4+ KB\n"
     ]
    },
    {
     "data": {
      "text/plain": [
       "count    500.00000\n",
       "mean      46.58800\n",
       "std       16.66763\n",
       "min       18.00000\n",
       "25%       32.00000\n",
       "50%       46.00000\n",
       "75%       62.00000\n",
       "max       75.00000\n",
       "Name: age, dtype: float64"
      ]
     },
     "execution_count": 3,
     "metadata": {},
     "output_type": "execute_result"
    },
    {
     "data": {
      "text/plain": [
       "smart    351\n",
       "ultra    149\n",
       "Name: tariff, dtype: int64"
      ]
     },
     "execution_count": 3,
     "metadata": {},
     "output_type": "execute_result"
    }
   ],
   "source": [
    "users\n",
    "users.info()\n",
    "users.age.describe()\n",
    "users.tariff.value_counts()"
   ]
  },
  {
   "cell_type": "code",
   "execution_count": 4,
   "metadata": {},
   "outputs": [
    {
     "data": {
      "text/html": [
       "<div>\n",
       "<style scoped>\n",
       "    .dataframe tbody tr th:only-of-type {\n",
       "        vertical-align: middle;\n",
       "    }\n",
       "\n",
       "    .dataframe tbody tr th {\n",
       "        vertical-align: top;\n",
       "    }\n",
       "\n",
       "    .dataframe thead th {\n",
       "        text-align: right;\n",
       "    }\n",
       "</style>\n",
       "<table border=\"1\" class=\"dataframe\">\n",
       "  <thead>\n",
       "    <tr style=\"text-align: right;\">\n",
       "      <th></th>\n",
       "      <th>id</th>\n",
       "      <th>call_date</th>\n",
       "      <th>duration</th>\n",
       "      <th>user_id</th>\n",
       "    </tr>\n",
       "  </thead>\n",
       "  <tbody>\n",
       "    <tr>\n",
       "      <th>0</th>\n",
       "      <td>1000_0</td>\n",
       "      <td>2018-07-25</td>\n",
       "      <td>0.00</td>\n",
       "      <td>1000</td>\n",
       "    </tr>\n",
       "    <tr>\n",
       "      <th>1</th>\n",
       "      <td>1000_1</td>\n",
       "      <td>2018-08-17</td>\n",
       "      <td>0.00</td>\n",
       "      <td>1000</td>\n",
       "    </tr>\n",
       "    <tr>\n",
       "      <th>2</th>\n",
       "      <td>1000_2</td>\n",
       "      <td>2018-06-11</td>\n",
       "      <td>2.85</td>\n",
       "      <td>1000</td>\n",
       "    </tr>\n",
       "    <tr>\n",
       "      <th>3</th>\n",
       "      <td>1000_3</td>\n",
       "      <td>2018-09-21</td>\n",
       "      <td>13.80</td>\n",
       "      <td>1000</td>\n",
       "    </tr>\n",
       "    <tr>\n",
       "      <th>4</th>\n",
       "      <td>1000_4</td>\n",
       "      <td>2018-12-15</td>\n",
       "      <td>5.18</td>\n",
       "      <td>1000</td>\n",
       "    </tr>\n",
       "    <tr>\n",
       "      <th>...</th>\n",
       "      <td>...</td>\n",
       "      <td>...</td>\n",
       "      <td>...</td>\n",
       "      <td>...</td>\n",
       "    </tr>\n",
       "    <tr>\n",
       "      <th>202602</th>\n",
       "      <td>1499_215</td>\n",
       "      <td>2018-12-26</td>\n",
       "      <td>0.76</td>\n",
       "      <td>1499</td>\n",
       "    </tr>\n",
       "    <tr>\n",
       "      <th>202603</th>\n",
       "      <td>1499_216</td>\n",
       "      <td>2018-10-18</td>\n",
       "      <td>18.83</td>\n",
       "      <td>1499</td>\n",
       "    </tr>\n",
       "    <tr>\n",
       "      <th>202604</th>\n",
       "      <td>1499_217</td>\n",
       "      <td>2018-11-10</td>\n",
       "      <td>10.81</td>\n",
       "      <td>1499</td>\n",
       "    </tr>\n",
       "    <tr>\n",
       "      <th>202605</th>\n",
       "      <td>1499_218</td>\n",
       "      <td>2018-10-06</td>\n",
       "      <td>4.27</td>\n",
       "      <td>1499</td>\n",
       "    </tr>\n",
       "    <tr>\n",
       "      <th>202606</th>\n",
       "      <td>1499_219</td>\n",
       "      <td>2018-12-14</td>\n",
       "      <td>19.62</td>\n",
       "      <td>1499</td>\n",
       "    </tr>\n",
       "  </tbody>\n",
       "</table>\n",
       "<p>202607 rows × 4 columns</p>\n",
       "</div>"
      ],
      "text/plain": [
       "              id   call_date  duration  user_id\n",
       "0         1000_0  2018-07-25      0.00     1000\n",
       "1         1000_1  2018-08-17      0.00     1000\n",
       "2         1000_2  2018-06-11      2.85     1000\n",
       "3         1000_3  2018-09-21     13.80     1000\n",
       "4         1000_4  2018-12-15      5.18     1000\n",
       "...          ...         ...       ...      ...\n",
       "202602  1499_215  2018-12-26      0.76     1499\n",
       "202603  1499_216  2018-10-18     18.83     1499\n",
       "202604  1499_217  2018-11-10     10.81     1499\n",
       "202605  1499_218  2018-10-06      4.27     1499\n",
       "202606  1499_219  2018-12-14     19.62     1499\n",
       "\n",
       "[202607 rows x 4 columns]"
      ]
     },
     "execution_count": 4,
     "metadata": {},
     "output_type": "execute_result"
    },
    {
     "name": "stdout",
     "output_type": "stream",
     "text": [
      "<class 'pandas.core.frame.DataFrame'>\n",
      "RangeIndex: 202607 entries, 0 to 202606\n",
      "Data columns (total 4 columns):\n",
      " #   Column     Non-Null Count   Dtype  \n",
      "---  ------     --------------   -----  \n",
      " 0   id         202607 non-null  object \n",
      " 1   call_date  202607 non-null  object \n",
      " 2   duration   202607 non-null  float64\n",
      " 3   user_id    202607 non-null  int64  \n",
      "dtypes: float64(1), int64(1), object(2)\n",
      "memory usage: 6.2+ MB\n"
     ]
    },
    {
     "data": {
      "text/plain": [
       "count    202607.000000\n",
       "mean          6.755887\n",
       "std           5.843365\n",
       "min           0.000000\n",
       "25%           1.300000\n",
       "50%           6.000000\n",
       "75%          10.700000\n",
       "max          38.000000\n",
       "Name: duration, dtype: float64"
      ]
     },
     "execution_count": 4,
     "metadata": {},
     "output_type": "execute_result"
    }
   ],
   "source": [
    "calls\n",
    "calls.info()\n",
    "calls.duration.describe()"
   ]
  },
  {
   "cell_type": "code",
   "execution_count": 5,
   "metadata": {},
   "outputs": [
    {
     "data": {
      "text/html": [
       "<div>\n",
       "<style scoped>\n",
       "    .dataframe tbody tr th:only-of-type {\n",
       "        vertical-align: middle;\n",
       "    }\n",
       "\n",
       "    .dataframe tbody tr th {\n",
       "        vertical-align: top;\n",
       "    }\n",
       "\n",
       "    .dataframe thead th {\n",
       "        text-align: right;\n",
       "    }\n",
       "</style>\n",
       "<table border=\"1\" class=\"dataframe\">\n",
       "  <thead>\n",
       "    <tr style=\"text-align: right;\">\n",
       "      <th></th>\n",
       "      <th>id</th>\n",
       "      <th>message_date</th>\n",
       "      <th>user_id</th>\n",
       "    </tr>\n",
       "  </thead>\n",
       "  <tbody>\n",
       "    <tr>\n",
       "      <th>0</th>\n",
       "      <td>1000_0</td>\n",
       "      <td>2018-06-27</td>\n",
       "      <td>1000</td>\n",
       "    </tr>\n",
       "    <tr>\n",
       "      <th>1</th>\n",
       "      <td>1000_1</td>\n",
       "      <td>2018-10-08</td>\n",
       "      <td>1000</td>\n",
       "    </tr>\n",
       "    <tr>\n",
       "      <th>2</th>\n",
       "      <td>1000_2</td>\n",
       "      <td>2018-08-04</td>\n",
       "      <td>1000</td>\n",
       "    </tr>\n",
       "    <tr>\n",
       "      <th>3</th>\n",
       "      <td>1000_3</td>\n",
       "      <td>2018-06-16</td>\n",
       "      <td>1000</td>\n",
       "    </tr>\n",
       "    <tr>\n",
       "      <th>4</th>\n",
       "      <td>1000_4</td>\n",
       "      <td>2018-12-05</td>\n",
       "      <td>1000</td>\n",
       "    </tr>\n",
       "    <tr>\n",
       "      <th>...</th>\n",
       "      <td>...</td>\n",
       "      <td>...</td>\n",
       "      <td>...</td>\n",
       "    </tr>\n",
       "    <tr>\n",
       "      <th>123031</th>\n",
       "      <td>1499_179</td>\n",
       "      <td>2018-12-12</td>\n",
       "      <td>1499</td>\n",
       "    </tr>\n",
       "    <tr>\n",
       "      <th>123032</th>\n",
       "      <td>1499_180</td>\n",
       "      <td>2018-09-28</td>\n",
       "      <td>1499</td>\n",
       "    </tr>\n",
       "    <tr>\n",
       "      <th>123033</th>\n",
       "      <td>1499_181</td>\n",
       "      <td>2018-09-27</td>\n",
       "      <td>1499</td>\n",
       "    </tr>\n",
       "    <tr>\n",
       "      <th>123034</th>\n",
       "      <td>1499_182</td>\n",
       "      <td>2018-11-15</td>\n",
       "      <td>1499</td>\n",
       "    </tr>\n",
       "    <tr>\n",
       "      <th>123035</th>\n",
       "      <td>1499_183</td>\n",
       "      <td>2018-11-16</td>\n",
       "      <td>1499</td>\n",
       "    </tr>\n",
       "  </tbody>\n",
       "</table>\n",
       "<p>123036 rows × 3 columns</p>\n",
       "</div>"
      ],
      "text/plain": [
       "              id message_date  user_id\n",
       "0         1000_0   2018-06-27     1000\n",
       "1         1000_1   2018-10-08     1000\n",
       "2         1000_2   2018-08-04     1000\n",
       "3         1000_3   2018-06-16     1000\n",
       "4         1000_4   2018-12-05     1000\n",
       "...          ...          ...      ...\n",
       "123031  1499_179   2018-12-12     1499\n",
       "123032  1499_180   2018-09-28     1499\n",
       "123033  1499_181   2018-09-27     1499\n",
       "123034  1499_182   2018-11-15     1499\n",
       "123035  1499_183   2018-11-16     1499\n",
       "\n",
       "[123036 rows x 3 columns]"
      ]
     },
     "execution_count": 5,
     "metadata": {},
     "output_type": "execute_result"
    },
    {
     "name": "stdout",
     "output_type": "stream",
     "text": [
      "<class 'pandas.core.frame.DataFrame'>\n",
      "RangeIndex: 123036 entries, 0 to 123035\n",
      "Data columns (total 3 columns):\n",
      " #   Column        Non-Null Count   Dtype \n",
      "---  ------        --------------   ----- \n",
      " 0   id            123036 non-null  object\n",
      " 1   message_date  123036 non-null  object\n",
      " 2   user_id       123036 non-null  int64 \n",
      "dtypes: int64(1), object(2)\n",
      "memory usage: 2.8+ MB\n"
     ]
    }
   ],
   "source": [
    "messages\n",
    "messages.info()"
   ]
  },
  {
   "cell_type": "code",
   "execution_count": 6,
   "metadata": {},
   "outputs": [
    {
     "data": {
      "text/html": [
       "<div>\n",
       "<style scoped>\n",
       "    .dataframe tbody tr th:only-of-type {\n",
       "        vertical-align: middle;\n",
       "    }\n",
       "\n",
       "    .dataframe tbody tr th {\n",
       "        vertical-align: top;\n",
       "    }\n",
       "\n",
       "    .dataframe thead th {\n",
       "        text-align: right;\n",
       "    }\n",
       "</style>\n",
       "<table border=\"1\" class=\"dataframe\">\n",
       "  <thead>\n",
       "    <tr style=\"text-align: right;\">\n",
       "      <th></th>\n",
       "      <th>Unnamed: 0</th>\n",
       "      <th>id</th>\n",
       "      <th>mb_used</th>\n",
       "      <th>session_date</th>\n",
       "      <th>user_id</th>\n",
       "    </tr>\n",
       "  </thead>\n",
       "  <tbody>\n",
       "    <tr>\n",
       "      <th>0</th>\n",
       "      <td>0</td>\n",
       "      <td>1000_0</td>\n",
       "      <td>112.95</td>\n",
       "      <td>2018-11-25</td>\n",
       "      <td>1000</td>\n",
       "    </tr>\n",
       "    <tr>\n",
       "      <th>1</th>\n",
       "      <td>1</td>\n",
       "      <td>1000_1</td>\n",
       "      <td>1052.81</td>\n",
       "      <td>2018-09-07</td>\n",
       "      <td>1000</td>\n",
       "    </tr>\n",
       "    <tr>\n",
       "      <th>2</th>\n",
       "      <td>2</td>\n",
       "      <td>1000_2</td>\n",
       "      <td>1197.26</td>\n",
       "      <td>2018-06-25</td>\n",
       "      <td>1000</td>\n",
       "    </tr>\n",
       "    <tr>\n",
       "      <th>3</th>\n",
       "      <td>3</td>\n",
       "      <td>1000_3</td>\n",
       "      <td>550.27</td>\n",
       "      <td>2018-08-22</td>\n",
       "      <td>1000</td>\n",
       "    </tr>\n",
       "    <tr>\n",
       "      <th>4</th>\n",
       "      <td>4</td>\n",
       "      <td>1000_4</td>\n",
       "      <td>302.56</td>\n",
       "      <td>2018-09-24</td>\n",
       "      <td>1000</td>\n",
       "    </tr>\n",
       "    <tr>\n",
       "      <th>...</th>\n",
       "      <td>...</td>\n",
       "      <td>...</td>\n",
       "      <td>...</td>\n",
       "      <td>...</td>\n",
       "      <td>...</td>\n",
       "    </tr>\n",
       "    <tr>\n",
       "      <th>149391</th>\n",
       "      <td>149391</td>\n",
       "      <td>1499_152</td>\n",
       "      <td>318.90</td>\n",
       "      <td>2018-10-03</td>\n",
       "      <td>1499</td>\n",
       "    </tr>\n",
       "    <tr>\n",
       "      <th>149392</th>\n",
       "      <td>149392</td>\n",
       "      <td>1499_153</td>\n",
       "      <td>490.13</td>\n",
       "      <td>2018-12-14</td>\n",
       "      <td>1499</td>\n",
       "    </tr>\n",
       "    <tr>\n",
       "      <th>149393</th>\n",
       "      <td>149393</td>\n",
       "      <td>1499_154</td>\n",
       "      <td>0.00</td>\n",
       "      <td>2018-10-27</td>\n",
       "      <td>1499</td>\n",
       "    </tr>\n",
       "    <tr>\n",
       "      <th>149394</th>\n",
       "      <td>149394</td>\n",
       "      <td>1499_155</td>\n",
       "      <td>1246.32</td>\n",
       "      <td>2018-11-26</td>\n",
       "      <td>1499</td>\n",
       "    </tr>\n",
       "    <tr>\n",
       "      <th>149395</th>\n",
       "      <td>149395</td>\n",
       "      <td>1499_156</td>\n",
       "      <td>544.37</td>\n",
       "      <td>2018-10-26</td>\n",
       "      <td>1499</td>\n",
       "    </tr>\n",
       "  </tbody>\n",
       "</table>\n",
       "<p>149396 rows × 5 columns</p>\n",
       "</div>"
      ],
      "text/plain": [
       "        Unnamed: 0        id  mb_used session_date  user_id\n",
       "0                0    1000_0   112.95   2018-11-25     1000\n",
       "1                1    1000_1  1052.81   2018-09-07     1000\n",
       "2                2    1000_2  1197.26   2018-06-25     1000\n",
       "3                3    1000_3   550.27   2018-08-22     1000\n",
       "4                4    1000_4   302.56   2018-09-24     1000\n",
       "...            ...       ...      ...          ...      ...\n",
       "149391      149391  1499_152   318.90   2018-10-03     1499\n",
       "149392      149392  1499_153   490.13   2018-12-14     1499\n",
       "149393      149393  1499_154     0.00   2018-10-27     1499\n",
       "149394      149394  1499_155  1246.32   2018-11-26     1499\n",
       "149395      149395  1499_156   544.37   2018-10-26     1499\n",
       "\n",
       "[149396 rows x 5 columns]"
      ]
     },
     "execution_count": 6,
     "metadata": {},
     "output_type": "execute_result"
    },
    {
     "name": "stdout",
     "output_type": "stream",
     "text": [
      "<class 'pandas.core.frame.DataFrame'>\n",
      "RangeIndex: 149396 entries, 0 to 149395\n",
      "Data columns (total 5 columns):\n",
      " #   Column        Non-Null Count   Dtype  \n",
      "---  ------        --------------   -----  \n",
      " 0   Unnamed: 0    149396 non-null  int64  \n",
      " 1   id            149396 non-null  object \n",
      " 2   mb_used       149396 non-null  float64\n",
      " 3   session_date  149396 non-null  object \n",
      " 4   user_id       149396 non-null  int64  \n",
      "dtypes: float64(1), int64(2), object(2)\n",
      "memory usage: 5.7+ MB\n"
     ]
    },
    {
     "data": {
      "text/plain": [
       "count    149396.000000\n",
       "mean        370.192426\n",
       "std         278.300951\n",
       "min           0.000000\n",
       "25%         138.187500\n",
       "50%         348.015000\n",
       "75%         559.552500\n",
       "max        1724.830000\n",
       "Name: mb_used, dtype: float64"
      ]
     },
     "execution_count": 6,
     "metadata": {},
     "output_type": "execute_result"
    }
   ],
   "source": [
    "internet\n",
    "internet.info()\n",
    "internet.mb_used.describe()"
   ]
  },
  {
   "cell_type": "code",
   "execution_count": 7,
   "metadata": {},
   "outputs": [
    {
     "data": {
      "text/html": [
       "<div>\n",
       "<style scoped>\n",
       "    .dataframe tbody tr th:only-of-type {\n",
       "        vertical-align: middle;\n",
       "    }\n",
       "\n",
       "    .dataframe tbody tr th {\n",
       "        vertical-align: top;\n",
       "    }\n",
       "\n",
       "    .dataframe thead th {\n",
       "        text-align: right;\n",
       "    }\n",
       "</style>\n",
       "<table border=\"1\" class=\"dataframe\">\n",
       "  <thead>\n",
       "    <tr style=\"text-align: right;\">\n",
       "      <th></th>\n",
       "      <th>messages_included</th>\n",
       "      <th>mb_per_month_included</th>\n",
       "      <th>minutes_included</th>\n",
       "      <th>rub_monthly_fee</th>\n",
       "      <th>rub_per_gb</th>\n",
       "      <th>rub_per_message</th>\n",
       "      <th>rub_per_minute</th>\n",
       "      <th>tariff_name</th>\n",
       "    </tr>\n",
       "  </thead>\n",
       "  <tbody>\n",
       "    <tr>\n",
       "      <th>0</th>\n",
       "      <td>50</td>\n",
       "      <td>15360</td>\n",
       "      <td>500</td>\n",
       "      <td>550</td>\n",
       "      <td>200</td>\n",
       "      <td>3</td>\n",
       "      <td>3</td>\n",
       "      <td>smart</td>\n",
       "    </tr>\n",
       "    <tr>\n",
       "      <th>1</th>\n",
       "      <td>1000</td>\n",
       "      <td>30720</td>\n",
       "      <td>3000</td>\n",
       "      <td>1950</td>\n",
       "      <td>150</td>\n",
       "      <td>1</td>\n",
       "      <td>1</td>\n",
       "      <td>ultra</td>\n",
       "    </tr>\n",
       "  </tbody>\n",
       "</table>\n",
       "</div>"
      ],
      "text/plain": [
       "   messages_included  mb_per_month_included  minutes_included  \\\n",
       "0                 50                  15360               500   \n",
       "1               1000                  30720              3000   \n",
       "\n",
       "   rub_monthly_fee  rub_per_gb  rub_per_message  rub_per_minute tariff_name  \n",
       "0              550         200                3               3       smart  \n",
       "1             1950         150                1               1       ultra  "
      ]
     },
     "execution_count": 7,
     "metadata": {},
     "output_type": "execute_result"
    },
    {
     "name": "stdout",
     "output_type": "stream",
     "text": [
      "<class 'pandas.core.frame.DataFrame'>\n",
      "RangeIndex: 2 entries, 0 to 1\n",
      "Data columns (total 8 columns):\n",
      " #   Column                 Non-Null Count  Dtype \n",
      "---  ------                 --------------  ----- \n",
      " 0   messages_included      2 non-null      int64 \n",
      " 1   mb_per_month_included  2 non-null      int64 \n",
      " 2   minutes_included       2 non-null      int64 \n",
      " 3   rub_monthly_fee        2 non-null      int64 \n",
      " 4   rub_per_gb             2 non-null      int64 \n",
      " 5   rub_per_message        2 non-null      int64 \n",
      " 6   rub_per_minute         2 non-null      int64 \n",
      " 7   tariff_name            2 non-null      object\n",
      "dtypes: int64(7), object(1)\n",
      "memory usage: 256.0+ bytes\n"
     ]
    }
   ],
   "source": [
    "tariffs\n",
    "tariffs.info()"
   ]
  },
  {
   "cell_type": "code",
   "execution_count": 8,
   "metadata": {},
   "outputs": [],
   "source": [
    "# Чтобы не нагромождать общую таблицу, информацию о тарифах перенесем в справочники и при необходимости, будем пользоваться ими. \n",
    "dict_smart = {\n",
    "    \"messages_included\": 50, \n",
    "    \"gb_per_month_included\": 15, \n",
    "    \"minutes_included\": 500,\n",
    "    \"rub_monthly_fee\": 550,\n",
    "    \"rub_per_gb\": 200,\n",
    "    \"rub_per_message\": 3,\n",
    "    \"rub_per_minute\": 3\n",
    "} \n",
    "dict_ultra = {\n",
    "    \"messages_included\": 1000, \n",
    "    \"gb_per_month_included\": 30, \n",
    "    \"minutes_included\": 3000,\n",
    "    \"rub_monthly_fee\": 1950,\n",
    "    \"rub_per_gb\": 150,\n",
    "    \"rub_per_message\": 1,\n",
    "    \"rub_per_minute\": 1\n",
    "} "
   ]
  },
  {
   "cell_type": "markdown",
   "metadata": {},
   "source": [
    "### Вывод\n",
    "\n",
    "Для исследования предоставлены пять таблиц, содержащих данные о 500 уникальных пользователях, количестве и дате совершенных звонков, отпрвавки текстовых сообщений и использования интернета, а также информация о двух тарфиных планах. При первом ознакомлении, данные не вызывают дополнительных вопросов - все имющиеся пропуски логически объяснимы, аномальные значения отсутствуют. Однако в нашей ситуации работать с одним датафреймом будет комфортнее, чем с несколькими."
   ]
  },
  {
   "cell_type": "markdown",
   "metadata": {},
   "source": [
    "## Предобработка и исследование данных"
   ]
  },
  {
   "cell_type": "markdown",
   "metadata": {},
   "source": [
    "### Группировка данных и объединение таблиц"
   ]
  },
  {
   "cell_type": "code",
   "execution_count": 9,
   "metadata": {},
   "outputs": [],
   "source": [
    "# Во всех таблицах, имеющих информацию о датах, приведем эти столбцы в соответствующий формат.\n",
    "users['churn_date'] = pd.to_datetime(users['churn_date'], format='%Y-%m-%d')\n",
    "users['reg_date'] = pd.to_datetime(users['reg_date'], format='%Y-%m-%d')\n",
    "calls['call_date'] = pd.to_datetime(calls['call_date'], format='%Y-%m-%d')\n",
    "messages['message_date'] = pd.to_datetime(messages['message_date'], format='%Y-%m-%d')\n",
    "internet['session_date'] = pd.to_datetime(internet['session_date'], format='%Y-%m-%d')"
   ]
  },
  {
   "cell_type": "code",
   "execution_count": 10,
   "metadata": {},
   "outputs": [],
   "source": [
    "# В таблицах с информацией о звонках, сообщениях и трафике из даты пользования усулугой выделим месяц и создадим отдельный столбец для каждой таблицы.\n",
    "calls['month'] = calls['call_date'].dt.month\n",
    "messages['month'] = messages['message_date'].dt.month\n",
    "internet['month'] = internet['session_date'].dt.month"
   ]
  },
  {
   "cell_type": "code",
   "execution_count": 11,
   "metadata": {},
   "outputs": [],
   "source": [
    "calls = calls.query('duration > 0')"
   ]
  },
  {
   "cell_type": "markdown",
   "metadata": {},
   "source": [
    "#### Комментарий\n",
    "Несмотря на то, что данные о звонках длительностью 0 секунд хоть и дают нам небольшое представление об активности абонента, одной из главных задач исследования остается изучение сумм, затраченных абонентами на услуги связи, а так как \"пустые\" звонки никак не влияют на финальную стоимость, а лишь только тянут среднее и медианное значение вниз, избавимся от таких звонков."
   ]
  },
  {
   "cell_type": "code",
   "execution_count": 12,
   "metadata": {
    "scrolled": true
   },
   "outputs": [
    {
     "data": {
      "text/plain": [
       "<AxesSubplot: >"
      ]
     },
     "execution_count": 12,
     "metadata": {},
     "output_type": "execute_result"
    },
    {
     "data": {
      "image/png": "[encoded data removed]",
      "text/plain": [
       "<Figure size 640x480 with 1 Axes>"
      ]
     },
     "metadata": {},
     "output_type": "display_data"
    }
   ],
   "source": [
    "internet['mb_used'].hist(bins=100, range=(0, 1000), grid=True)"
   ]
  },
  {
   "cell_type": "code",
   "execution_count": 13,
   "metadata": {},
   "outputs": [
    {
     "name": "stdout",
     "output_type": "stream",
     "text": [
      "<class 'pandas.core.frame.DataFrame'>\n",
      "Int64Index: 19598 entries, 11 to 149393\n",
      "Data columns (total 6 columns):\n",
      " #   Column        Non-Null Count  Dtype         \n",
      "---  ------        --------------  -----         \n",
      " 0   Unnamed: 0    19598 non-null  int64         \n",
      " 1   id            19598 non-null  object        \n",
      " 2   mb_used       19598 non-null  float64       \n",
      " 3   session_date  19598 non-null  datetime64[ns]\n",
      " 4   user_id       19598 non-null  int64         \n",
      " 5   month         19598 non-null  int64         \n",
      "dtypes: datetime64[ns](1), float64(1), int64(3), object(1)\n",
      "memory usage: 1.0+ MB\n"
     ]
    }
   ],
   "source": [
    "internet.query('mb_used == 0').info()"
   ]
  },
  {
   "cell_type": "code",
   "execution_count": 14,
   "metadata": {},
   "outputs": [],
   "source": [
    "internet = internet.query('mb_used > 0')"
   ]
  },
  {
   "cell_type": "markdown",
   "metadata": {},
   "source": [
    "#### Комментарий\n",
    "При проверке данных об интернет-трафике выявлено 19598 значений, равных 0. Что означают нулевые сессии, можно только гадать, так как связаться со сборщиками данных не представляется возможным. Можно предположить, что таким образом обозначаются сессии, с исходящим трафиком. В любом случае, на общую стоимость услуги за месяц такие данные никак не повлияют, поэтому можно избавиться от нулевых значений."
   ]
  },
  {
   "cell_type": "code",
   "execution_count": 15,
   "metadata": {},
   "outputs": [],
   "source": [
    "# Данные о длительности звонков округлим в бо́льшую сторону, исходя из правил оператора.\n",
    "calls['duration'] = np.ceil(calls['duration'])"
   ]
  },
  {
   "cell_type": "code",
   "execution_count": 16,
   "metadata": {},
   "outputs": [],
   "source": [
    "# Информацию о звонках сгруппируем по пользователям и месяцам, общее колличество минут суммируем по месяцам.\n",
    "grouped_calls = calls.groupby(['user_id', 'month']).agg({'duration': ['sum', 'count']}).reset_index()\n",
    "grouped_calls.columns = ['user_id', 'month', 'cons_minutes', 'num_of_cal']"
   ]
  },
  {
   "cell_type": "code",
   "execution_count": 17,
   "metadata": {},
   "outputs": [],
   "source": [
    "# Сгруппируем данные об отправленных сообщениях по пользователям и месяцам, количество сообщений получим подсчетом дат отправки.\n",
    "grouped_sms = messages.groupby(['user_id', 'month']).agg({'message_date': 'count'}).reset_index()\n",
    "grouped_sms.columns = ['user_id', 'month', 'cons_sms']"
   ]
  },
  {
   "cell_type": "code",
   "execution_count": 18,
   "metadata": {
    "scrolled": true
   },
   "outputs": [],
   "source": [
    "grouped_internet = internet.groupby(['user_id', 'month']).agg({'mb_used': 'sum'}).reset_index()\n",
    "grouped_internet['mb_used'] = (grouped_internet['mb_used'] / 1024).apply(np.ceil)\n",
    "grouped_internet.columns = ['user_id', 'month', 'cons_traffic_gb']"
   ]
  },
  {
   "cell_type": "markdown",
   "metadata": {},
   "source": [
    "#### Комментарий\n",
    "Информацию об израсходованном трафике так же сгруппируем по пользователям и месяцам, общее колличество трафика суммируем по месяцам. Конвертируем значения в гигабайты, поделив их на 1024 и по правилам Заказчика, округлим значения в бОльшую сторону."
   ]
  },
  {
   "cell_type": "code",
   "execution_count": 19,
   "metadata": {},
   "outputs": [],
   "source": [
    "# В таблице с тарифами конвертируем мегабайты в гигабайты. И немного подредактируем названия столбцов.\n",
    "tariffs['mb_per_month_included'] = tariffs['mb_per_month_included'] / 1024\n",
    "tariffs.columns = ['sms_incl', 'gb_incl', 'min_incl', 'subscript_fee', 'rub_per_gb', 'rub_per_sms', 'rub_per_min', 'tariff']"
   ]
  },
  {
   "cell_type": "code",
   "execution_count": 20,
   "metadata": {
    "scrolled": false
   },
   "outputs": [],
   "source": [
    "# Соединяем сгруппированные ранее таблицы методом .merge, привязывая их друг к другу по пользователям и месяцам. Получившейся таблице присваиваем имя data.\n",
    "\n",
    "cal_sms = grouped_calls.merge(grouped_sms, on=('user_id', 'month'), how='outer')\n",
    "# звонки + сообщения\n",
    "cal_sms_int = cal_sms.merge(grouped_internet, on=('user_id', 'month'), how='outer')\n",
    "# звонки + сообщения + интернет\n",
    "data = users.merge(cal_sms_int, on= 'user_id', how='outer')\n",
    "# пользователи + звонки + сообщения + интернет"
   ]
  },
  {
   "cell_type": "markdown",
   "metadata": {},
   "source": [
    "### Работа с пропусками"
   ]
  },
  {
   "cell_type": "code",
   "execution_count": 21,
   "metadata": {},
   "outputs": [
    {
     "data": {
      "text/html": [
       "<div>\n",
       "<style scoped>\n",
       "    .dataframe tbody tr th:only-of-type {\n",
       "        vertical-align: middle;\n",
       "    }\n",
       "\n",
       "    .dataframe tbody tr th {\n",
       "        vertical-align: top;\n",
       "    }\n",
       "\n",
       "    .dataframe thead th {\n",
       "        text-align: right;\n",
       "    }\n",
       "</style>\n",
       "<table border=\"1\" class=\"dataframe\">\n",
       "  <thead>\n",
       "    <tr style=\"text-align: right;\">\n",
       "      <th></th>\n",
       "      <th>user_id</th>\n",
       "      <th>age</th>\n",
       "      <th>churn_date</th>\n",
       "      <th>city</th>\n",
       "      <th>first_name</th>\n",
       "      <th>last_name</th>\n",
       "      <th>reg_date</th>\n",
       "      <th>tariff</th>\n",
       "      <th>month</th>\n",
       "      <th>cons_minutes</th>\n",
       "      <th>num_of_cal</th>\n",
       "      <th>cons_sms</th>\n",
       "      <th>cons_traffic_gb</th>\n",
       "    </tr>\n",
       "  </thead>\n",
       "  <tbody>\n",
       "    <tr>\n",
       "      <th>827</th>\n",
       "      <td>1128</td>\n",
       "      <td>51</td>\n",
       "      <td>2018-12-23</td>\n",
       "      <td>Волжский</td>\n",
       "      <td>Ксения</td>\n",
       "      <td>Агаева</td>\n",
       "      <td>2018-12-15</td>\n",
       "      <td>ultra</td>\n",
       "      <td>NaN</td>\n",
       "      <td>NaN</td>\n",
       "      <td>NaN</td>\n",
       "      <td>NaN</td>\n",
       "      <td>NaN</td>\n",
       "    </tr>\n",
       "    <tr>\n",
       "      <th>2335</th>\n",
       "      <td>1371</td>\n",
       "      <td>50</td>\n",
       "      <td>2018-12-30</td>\n",
       "      <td>Омск</td>\n",
       "      <td>Ириней</td>\n",
       "      <td>Трофимов</td>\n",
       "      <td>2018-12-25</td>\n",
       "      <td>smart</td>\n",
       "      <td>NaN</td>\n",
       "      <td>NaN</td>\n",
       "      <td>NaN</td>\n",
       "      <td>NaN</td>\n",
       "      <td>NaN</td>\n",
       "    </tr>\n",
       "  </tbody>\n",
       "</table>\n",
       "</div>"
      ],
      "text/plain": [
       "      user_id  age churn_date      city first_name last_name   reg_date  \\\n",
       "827      1128   51 2018-12-23  Волжский     Ксения    Агаева 2018-12-15   \n",
       "2335     1371   50 2018-12-30      Омск     Ириней  Трофимов 2018-12-25   \n",
       "\n",
       "     tariff  month  cons_minutes  num_of_cal  cons_sms  cons_traffic_gb  \n",
       "827   ultra    NaN           NaN         NaN       NaN              NaN  \n",
       "2335  smart    NaN           NaN         NaN       NaN              NaN  "
      ]
     },
     "execution_count": 21,
     "metadata": {},
     "output_type": "execute_result"
    }
   ],
   "source": [
    "# Удалим две строки с абонентами, которые не пользовались услугами оператора.\n",
    "data.query('month.isna()')\n",
    "data.dropna(subset=['month'], inplace=True)"
   ]
  },
  {
   "cell_type": "code",
   "execution_count": 22,
   "metadata": {},
   "outputs": [],
   "source": [
    "# Можно предположить, что пропуски в столбцах, содержащих информацию о количестве израсходованных минут, сообщений и интернет-трафика, подразумевают, что абонент не пользовался данными услугами. \n",
    "# Заменяем их на 0.\n",
    "data['cons_minutes'] = data['cons_minutes'].fillna(0)\n",
    "data['num_of_cal'] = data['num_of_cal'].fillna(0)\n",
    "data['cons_sms'] = data['cons_sms'].fillna(0)\n",
    "data['cons_traffic_gb'] = data['cons_traffic_gb'].fillna(0)"
   ]
  },
  {
   "cell_type": "markdown",
   "metadata": {},
   "source": [
    "### Подсчет и добавление новых данных"
   ]
  },
  {
   "cell_type": "code",
   "execution_count": 23,
   "metadata": {},
   "outputs": [],
   "source": [
    "# Создадем функцию для подсчета стоимости звонков сверх тарифного пакета. \n",
    "# Результаты подсчета добавим в новый столбец.\n",
    "\n",
    "def min_overlmt_fee(row):\n",
    "    tariff = row['tariff']\n",
    "    minutes = row['cons_minutes']\n",
    "    \n",
    "    if 'ultra' in tariff:\n",
    "        if minutes <= dict_ultra[\"minutes_included\"]:\n",
    "            return 0\n",
    "        return minutes - dict_ultra[\"minutes_included\"]\n",
    "    else:\n",
    "        if minutes <= dict_smart[\"minutes_included\"]:\n",
    "            return 0\n",
    "        return (minutes - dict_smart[\"minutes_included\"]) * 3\n",
    "\n",
    "data['min_overlimit_fee'] = data.apply(min_overlmt_fee, axis=1)"
   ]
  },
  {
   "cell_type": "code",
   "execution_count": 24,
   "metadata": {},
   "outputs": [],
   "source": [
    "def sms_overlmt_fee(row):\n",
    "    tariff = row['tariff']\n",
    "    sms = row['cons_sms']\n",
    "    \n",
    "    if 'ultra' in tariff:\n",
    "        if sms <= dict_ultra[\"messages_included\"]:\n",
    "            return 0\n",
    "        return sms - dict_ultra[\"messages_included\"]\n",
    "    else:\n",
    "        if sms <= dict_smart[\"messages_included\"]:\n",
    "            return 0\n",
    "        return (sms - dict_smart[\"messages_included\"]) * 3\n",
    "\n",
    "data['sms_overlimit_fee'] = data.apply(sms_overlmt_fee, axis=1)"
   ]
  },
  {
   "cell_type": "code",
   "execution_count": 25,
   "metadata": {},
   "outputs": [],
   "source": [
    "def gb_overlmt_fee(row):\n",
    "    tariff = row['tariff']\n",
    "    gb = row['cons_traffic_gb']\n",
    "    \n",
    "    if 'ultra' in tariff:\n",
    "        if gb <= dict_ultra[\"gb_per_month_included\"]:\n",
    "            return 0\n",
    "        return (gb - dict_ultra[\"gb_per_month_included\"]) * 150\n",
    "    else:\n",
    "        if gb <= dict_smart[\"gb_per_month_included\"]:\n",
    "            return 0\n",
    "        return (gb - dict_smart[\"gb_per_month_included\"]) * 200\n",
    "\n",
    "data['gb_overlimit_fee'] = data.apply(gb_overlmt_fee, axis=1)"
   ]
  },
  {
   "cell_type": "code",
   "execution_count": 26,
   "metadata": {},
   "outputs": [],
   "source": [
    "data['total_overlimit_fee'] = data['min_overlimit_fee'] + data['sms_overlimit_fee'] + data['gb_overlimit_fee']"
   ]
  },
  {
   "cell_type": "markdown",
   "metadata": {},
   "source": [
    "#### Комментарий\n",
    "Для данных о сообщениях и интернет трафике применяем аналогичную функцию и добавляем столбцы с суммой переплаты к таблице. Создаем столбец с общей суммой переплаты по всем трем услугам."
   ]
  },
  {
   "cell_type": "code",
   "execution_count": 27,
   "metadata": {},
   "outputs": [],
   "source": [
    "def total_fee(row):\n",
    "    tariff = row['tariff']\n",
    "    over_limit_fee = row['total_overlimit_fee']\n",
    "    \n",
    "    if 'ultra' in tariff:\n",
    "        return over_limit_fee + dict_ultra[\"rub_monthly_fee\"] # абонентская плата по тарифу ультра\n",
    "    return over_limit_fee + dict_smart[\"rub_monthly_fee\"] # абонентская плата по тарифу смарт\n",
    "\n",
    "data['total_fee'] = data.apply(total_fee, axis=1)"
   ]
  },
  {
   "cell_type": "markdown",
   "metadata": {},
   "source": [
    "#### Комментарий\n",
    "Используя аналогичную функцию подсчитаем полную сумму средств, затраченных абонентом на услуги связи за текущий месяц."
   ]
  },
  {
   "cell_type": "markdown",
   "metadata": {},
   "source": [
    "### Изменение типов данных"
   ]
  },
  {
   "cell_type": "code",
   "execution_count": 28,
   "metadata": {},
   "outputs": [],
   "source": [
    "# Столбцам с информацией о месяце, количестве израсходованных минут, сообщений и интернет-трафика присвоим числовой тип данных.\n",
    "data = data.astype({'month': int, \n",
    "                    'cons_minutes': int, \n",
    "                    'num_of_cal': int, \n",
    "                    'cons_sms': int, \n",
    "                    'cons_traffic_gb': int, \n",
    "                    'min_overlimit_fee': int, \n",
    "                    'sms_overlimit_fee': int, \n",
    "                    'gb_overlimit_fee': int, \n",
    "                    'total_overlimit_fee': int, \n",
    "                    'total_fee': int})"
   ]
  },
  {
   "cell_type": "code",
   "execution_count": 29,
   "metadata": {},
   "outputs": [
    {
     "data": {
      "text/html": [
       "<div>\n",
       "<style scoped>\n",
       "    .dataframe tbody tr th:only-of-type {\n",
       "        vertical-align: middle;\n",
       "    }\n",
       "\n",
       "    .dataframe tbody tr th {\n",
       "        vertical-align: top;\n",
       "    }\n",
       "\n",
       "    .dataframe thead th {\n",
       "        text-align: right;\n",
       "    }\n",
       "</style>\n",
       "<table border=\"1\" class=\"dataframe\">\n",
       "  <thead>\n",
       "    <tr style=\"text-align: right;\">\n",
       "      <th></th>\n",
       "      <th>user_id</th>\n",
       "      <th>age</th>\n",
       "      <th>churn_date</th>\n",
       "      <th>city</th>\n",
       "      <th>first_name</th>\n",
       "      <th>last_name</th>\n",
       "      <th>reg_date</th>\n",
       "      <th>tariff</th>\n",
       "      <th>month</th>\n",
       "      <th>cons_minutes</th>\n",
       "      <th>num_of_cal</th>\n",
       "      <th>cons_sms</th>\n",
       "      <th>cons_traffic_gb</th>\n",
       "      <th>min_overlimit_fee</th>\n",
       "      <th>sms_overlimit_fee</th>\n",
       "      <th>gb_overlimit_fee</th>\n",
       "      <th>total_overlimit_fee</th>\n",
       "      <th>total_fee</th>\n",
       "    </tr>\n",
       "  </thead>\n",
       "  <tbody>\n",
       "    <tr>\n",
       "      <th>0</th>\n",
       "      <td>1000</td>\n",
       "      <td>52</td>\n",
       "      <td>NaT</td>\n",
       "      <td>Краснодар</td>\n",
       "      <td>Рафаил</td>\n",
       "      <td>Верещагин</td>\n",
       "      <td>2018-05-25</td>\n",
       "      <td>ultra</td>\n",
       "      <td>5</td>\n",
       "      <td>159</td>\n",
       "      <td>17</td>\n",
       "      <td>22</td>\n",
       "      <td>3</td>\n",
       "      <td>0</td>\n",
       "      <td>0</td>\n",
       "      <td>0</td>\n",
       "      <td>0</td>\n",
       "      <td>1950</td>\n",
       "    </tr>\n",
       "    <tr>\n",
       "      <th>1</th>\n",
       "      <td>1000</td>\n",
       "      <td>52</td>\n",
       "      <td>NaT</td>\n",
       "      <td>Краснодар</td>\n",
       "      <td>Рафаил</td>\n",
       "      <td>Верещагин</td>\n",
       "      <td>2018-05-25</td>\n",
       "      <td>ultra</td>\n",
       "      <td>6</td>\n",
       "      <td>172</td>\n",
       "      <td>28</td>\n",
       "      <td>60</td>\n",
       "      <td>23</td>\n",
       "      <td>0</td>\n",
       "      <td>0</td>\n",
       "      <td>0</td>\n",
       "      <td>0</td>\n",
       "      <td>1950</td>\n",
       "    </tr>\n",
       "    <tr>\n",
       "      <th>2</th>\n",
       "      <td>1000</td>\n",
       "      <td>52</td>\n",
       "      <td>NaT</td>\n",
       "      <td>Краснодар</td>\n",
       "      <td>Рафаил</td>\n",
       "      <td>Верещагин</td>\n",
       "      <td>2018-05-25</td>\n",
       "      <td>ultra</td>\n",
       "      <td>7</td>\n",
       "      <td>340</td>\n",
       "      <td>41</td>\n",
       "      <td>75</td>\n",
       "      <td>14</td>\n",
       "      <td>0</td>\n",
       "      <td>0</td>\n",
       "      <td>0</td>\n",
       "      <td>0</td>\n",
       "      <td>1950</td>\n",
       "    </tr>\n",
       "    <tr>\n",
       "      <th>3</th>\n",
       "      <td>1000</td>\n",
       "      <td>52</td>\n",
       "      <td>NaT</td>\n",
       "      <td>Краснодар</td>\n",
       "      <td>Рафаил</td>\n",
       "      <td>Верещагин</td>\n",
       "      <td>2018-05-25</td>\n",
       "      <td>ultra</td>\n",
       "      <td>8</td>\n",
       "      <td>408</td>\n",
       "      <td>42</td>\n",
       "      <td>81</td>\n",
       "      <td>14</td>\n",
       "      <td>0</td>\n",
       "      <td>0</td>\n",
       "      <td>0</td>\n",
       "      <td>0</td>\n",
       "      <td>1950</td>\n",
       "    </tr>\n",
       "    <tr>\n",
       "      <th>4</th>\n",
       "      <td>1000</td>\n",
       "      <td>52</td>\n",
       "      <td>NaT</td>\n",
       "      <td>Краснодар</td>\n",
       "      <td>Рафаил</td>\n",
       "      <td>Верещагин</td>\n",
       "      <td>2018-05-25</td>\n",
       "      <td>ultra</td>\n",
       "      <td>9</td>\n",
       "      <td>466</td>\n",
       "      <td>46</td>\n",
       "      <td>57</td>\n",
       "      <td>15</td>\n",
       "      <td>0</td>\n",
       "      <td>0</td>\n",
       "      <td>0</td>\n",
       "      <td>0</td>\n",
       "      <td>1950</td>\n",
       "    </tr>\n",
       "    <tr>\n",
       "      <th>...</th>\n",
       "      <td>...</td>\n",
       "      <td>...</td>\n",
       "      <td>...</td>\n",
       "      <td>...</td>\n",
       "      <td>...</td>\n",
       "      <td>...</td>\n",
       "      <td>...</td>\n",
       "      <td>...</td>\n",
       "      <td>...</td>\n",
       "      <td>...</td>\n",
       "      <td>...</td>\n",
       "      <td>...</td>\n",
       "      <td>...</td>\n",
       "      <td>...</td>\n",
       "      <td>...</td>\n",
       "      <td>...</td>\n",
       "      <td>...</td>\n",
       "      <td>...</td>\n",
       "    </tr>\n",
       "    <tr>\n",
       "      <th>3211</th>\n",
       "      <td>1498</td>\n",
       "      <td>68</td>\n",
       "      <td>2018-10-25</td>\n",
       "      <td>Владикавказ</td>\n",
       "      <td>Всеволод</td>\n",
       "      <td>Акимчин</td>\n",
       "      <td>2018-07-19</td>\n",
       "      <td>smart</td>\n",
       "      <td>10</td>\n",
       "      <td>247</td>\n",
       "      <td>30</td>\n",
       "      <td>42</td>\n",
       "      <td>21</td>\n",
       "      <td>0</td>\n",
       "      <td>0</td>\n",
       "      <td>1200</td>\n",
       "      <td>1200</td>\n",
       "      <td>1750</td>\n",
       "    </tr>\n",
       "    <tr>\n",
       "      <th>3212</th>\n",
       "      <td>1499</td>\n",
       "      <td>35</td>\n",
       "      <td>NaT</td>\n",
       "      <td>Пермь</td>\n",
       "      <td>Гектор</td>\n",
       "      <td>Корнилов</td>\n",
       "      <td>2018-09-27</td>\n",
       "      <td>smart</td>\n",
       "      <td>9</td>\n",
       "      <td>70</td>\n",
       "      <td>8</td>\n",
       "      <td>11</td>\n",
       "      <td>2</td>\n",
       "      <td>0</td>\n",
       "      <td>0</td>\n",
       "      <td>0</td>\n",
       "      <td>0</td>\n",
       "      <td>550</td>\n",
       "    </tr>\n",
       "    <tr>\n",
       "      <th>3213</th>\n",
       "      <td>1499</td>\n",
       "      <td>35</td>\n",
       "      <td>NaT</td>\n",
       "      <td>Пермь</td>\n",
       "      <td>Гектор</td>\n",
       "      <td>Корнилов</td>\n",
       "      <td>2018-09-27</td>\n",
       "      <td>smart</td>\n",
       "      <td>10</td>\n",
       "      <td>449</td>\n",
       "      <td>44</td>\n",
       "      <td>48</td>\n",
       "      <td>18</td>\n",
       "      <td>0</td>\n",
       "      <td>0</td>\n",
       "      <td>600</td>\n",
       "      <td>600</td>\n",
       "      <td>1150</td>\n",
       "    </tr>\n",
       "    <tr>\n",
       "      <th>3214</th>\n",
       "      <td>1499</td>\n",
       "      <td>35</td>\n",
       "      <td>NaT</td>\n",
       "      <td>Пермь</td>\n",
       "      <td>Гектор</td>\n",
       "      <td>Корнилов</td>\n",
       "      <td>2018-09-27</td>\n",
       "      <td>smart</td>\n",
       "      <td>11</td>\n",
       "      <td>612</td>\n",
       "      <td>62</td>\n",
       "      <td>59</td>\n",
       "      <td>18</td>\n",
       "      <td>336</td>\n",
       "      <td>27</td>\n",
       "      <td>600</td>\n",
       "      <td>963</td>\n",
       "      <td>1513</td>\n",
       "    </tr>\n",
       "    <tr>\n",
       "      <th>3215</th>\n",
       "      <td>1499</td>\n",
       "      <td>35</td>\n",
       "      <td>NaT</td>\n",
       "      <td>Пермь</td>\n",
       "      <td>Гектор</td>\n",
       "      <td>Корнилов</td>\n",
       "      <td>2018-09-27</td>\n",
       "      <td>smart</td>\n",
       "      <td>12</td>\n",
       "      <td>492</td>\n",
       "      <td>56</td>\n",
       "      <td>66</td>\n",
       "      <td>13</td>\n",
       "      <td>0</td>\n",
       "      <td>48</td>\n",
       "      <td>0</td>\n",
       "      <td>48</td>\n",
       "      <td>598</td>\n",
       "    </tr>\n",
       "  </tbody>\n",
       "</table>\n",
       "<p>3214 rows × 18 columns</p>\n",
       "</div>"
      ],
      "text/plain": [
       "      user_id  age churn_date         city first_name  last_name   reg_date  \\\n",
       "0        1000   52        NaT    Краснодар     Рафаил  Верещагин 2018-05-25   \n",
       "1        1000   52        NaT    Краснодар     Рафаил  Верещагин 2018-05-25   \n",
       "2        1000   52        NaT    Краснодар     Рафаил  Верещагин 2018-05-25   \n",
       "3        1000   52        NaT    Краснодар     Рафаил  Верещагин 2018-05-25   \n",
       "4        1000   52        NaT    Краснодар     Рафаил  Верещагин 2018-05-25   \n",
       "...       ...  ...        ...          ...        ...        ...        ...   \n",
       "3211     1498   68 2018-10-25  Владикавказ   Всеволод    Акимчин 2018-07-19   \n",
       "3212     1499   35        NaT        Пермь     Гектор   Корнилов 2018-09-27   \n",
       "3213     1499   35        NaT        Пермь     Гектор   Корнилов 2018-09-27   \n",
       "3214     1499   35        NaT        Пермь     Гектор   Корнилов 2018-09-27   \n",
       "3215     1499   35        NaT        Пермь     Гектор   Корнилов 2018-09-27   \n",
       "\n",
       "     tariff  month  cons_minutes  num_of_cal  cons_sms  cons_traffic_gb  \\\n",
       "0     ultra      5           159          17        22                3   \n",
       "1     ultra      6           172          28        60               23   \n",
       "2     ultra      7           340          41        75               14   \n",
       "3     ultra      8           408          42        81               14   \n",
       "4     ultra      9           466          46        57               15   \n",
       "...     ...    ...           ...         ...       ...              ...   \n",
       "3211  smart     10           247          30        42               21   \n",
       "3212  smart      9            70           8        11                2   \n",
       "3213  smart     10           449          44        48               18   \n",
       "3214  smart     11           612          62        59               18   \n",
       "3215  smart     12           492          56        66               13   \n",
       "\n",
       "      min_overlimit_fee  sms_overlimit_fee  gb_overlimit_fee  \\\n",
       "0                     0                  0                 0   \n",
       "1                     0                  0                 0   \n",
       "2                     0                  0                 0   \n",
       "3                     0                  0                 0   \n",
       "4                     0                  0                 0   \n",
       "...                 ...                ...               ...   \n",
       "3211                  0                  0              1200   \n",
       "3212                  0                  0                 0   \n",
       "3213                  0                  0               600   \n",
       "3214                336                 27               600   \n",
       "3215                  0                 48                 0   \n",
       "\n",
       "      total_overlimit_fee  total_fee  \n",
       "0                       0       1950  \n",
       "1                       0       1950  \n",
       "2                       0       1950  \n",
       "3                       0       1950  \n",
       "4                       0       1950  \n",
       "...                   ...        ...  \n",
       "3211                 1200       1750  \n",
       "3212                    0        550  \n",
       "3213                  600       1150  \n",
       "3214                  963       1513  \n",
       "3215                   48        598  \n",
       "\n",
       "[3214 rows x 18 columns]"
      ]
     },
     "execution_count": 29,
     "metadata": {},
     "output_type": "execute_result"
    },
    {
     "name": "stdout",
     "output_type": "stream",
     "text": [
      "<class 'pandas.core.frame.DataFrame'>\n",
      "Int64Index: 3214 entries, 0 to 3215\n",
      "Data columns (total 18 columns):\n",
      " #   Column               Non-Null Count  Dtype         \n",
      "---  ------               --------------  -----         \n",
      " 0   user_id              3214 non-null   int64         \n",
      " 1   age                  3214 non-null   int64         \n",
      " 2   churn_date           187 non-null    datetime64[ns]\n",
      " 3   city                 3214 non-null   object        \n",
      " 4   first_name           3214 non-null   object        \n",
      " 5   last_name            3214 non-null   object        \n",
      " 6   reg_date             3214 non-null   datetime64[ns]\n",
      " 7   tariff               3214 non-null   object        \n",
      " 8   month                3214 non-null   int64         \n",
      " 9   cons_minutes         3214 non-null   int64         \n",
      " 10  num_of_cal           3214 non-null   int64         \n",
      " 11  cons_sms             3214 non-null   int64         \n",
      " 12  cons_traffic_gb      3214 non-null   int64         \n",
      " 13  min_overlimit_fee    3214 non-null   int64         \n",
      " 14  sms_overlimit_fee    3214 non-null   int64         \n",
      " 15  gb_overlimit_fee     3214 non-null   int64         \n",
      " 16  total_overlimit_fee  3214 non-null   int64         \n",
      " 17  total_fee            3214 non-null   int64         \n",
      "dtypes: datetime64[ns](2), int64(12), object(4)\n",
      "memory usage: 477.1+ KB\n"
     ]
    },
    {
     "data": {
      "text/html": [
       "<div>\n",
       "<style scoped>\n",
       "    .dataframe tbody tr th:only-of-type {\n",
       "        vertical-align: middle;\n",
       "    }\n",
       "\n",
       "    .dataframe tbody tr th {\n",
       "        vertical-align: top;\n",
       "    }\n",
       "\n",
       "    .dataframe thead th {\n",
       "        text-align: right;\n",
       "    }\n",
       "</style>\n",
       "<table border=\"1\" class=\"dataframe\">\n",
       "  <thead>\n",
       "    <tr style=\"text-align: right;\">\n",
       "      <th></th>\n",
       "      <th>user_id</th>\n",
       "      <th>age</th>\n",
       "      <th>month</th>\n",
       "      <th>cons_minutes</th>\n",
       "      <th>num_of_cal</th>\n",
       "      <th>cons_sms</th>\n",
       "      <th>cons_traffic_gb</th>\n",
       "      <th>min_overlimit_fee</th>\n",
       "      <th>sms_overlimit_fee</th>\n",
       "      <th>gb_overlimit_fee</th>\n",
       "      <th>total_overlimit_fee</th>\n",
       "      <th>total_fee</th>\n",
       "    </tr>\n",
       "  </thead>\n",
       "  <tbody>\n",
       "    <tr>\n",
       "      <th>count</th>\n",
       "      <td>3214.000000</td>\n",
       "      <td>3214.000000</td>\n",
       "      <td>3214.000000</td>\n",
       "      <td>3214.000000</td>\n",
       "      <td>3214.000000</td>\n",
       "      <td>3214.000000</td>\n",
       "      <td>3214.000000</td>\n",
       "      <td>3214.000000</td>\n",
       "      <td>3214.000000</td>\n",
       "      <td>3214.000000</td>\n",
       "      <td>3214.000000</td>\n",
       "      <td>3214.000000</td>\n",
       "    </tr>\n",
       "    <tr>\n",
       "      <th>mean</th>\n",
       "      <td>1251.590230</td>\n",
       "      <td>46.641568</td>\n",
       "      <td>8.317362</td>\n",
       "      <td>451.244866</td>\n",
       "      <td>50.713752</td>\n",
       "      <td>38.281269</td>\n",
       "      <td>17.299004</td>\n",
       "      <td>86.564095</td>\n",
       "      <td>12.067206</td>\n",
       "      <td>451.384568</td>\n",
       "      <td>550.015868</td>\n",
       "      <td>1529.076229</td>\n",
       "    </tr>\n",
       "    <tr>\n",
       "      <th>std</th>\n",
       "      <td>144.659172</td>\n",
       "      <td>16.586109</td>\n",
       "      <td>2.905413</td>\n",
       "      <td>241.909978</td>\n",
       "      <td>26.951413</td>\n",
       "      <td>36.148326</td>\n",
       "      <td>7.400584</td>\n",
       "      <td>219.231515</td>\n",
       "      <td>34.526748</td>\n",
       "      <td>684.137633</td>\n",
       "      <td>767.771509</td>\n",
       "      <td>798.251091</td>\n",
       "    </tr>\n",
       "    <tr>\n",
       "      <th>min</th>\n",
       "      <td>1000.000000</td>\n",
       "      <td>18.000000</td>\n",
       "      <td>1.000000</td>\n",
       "      <td>0.000000</td>\n",
       "      <td>0.000000</td>\n",
       "      <td>0.000000</td>\n",
       "      <td>0.000000</td>\n",
       "      <td>0.000000</td>\n",
       "      <td>0.000000</td>\n",
       "      <td>0.000000</td>\n",
       "      <td>0.000000</td>\n",
       "      <td>550.000000</td>\n",
       "    </tr>\n",
       "    <tr>\n",
       "      <th>25%</th>\n",
       "      <td>1125.000000</td>\n",
       "      <td>32.000000</td>\n",
       "      <td>6.000000</td>\n",
       "      <td>282.000000</td>\n",
       "      <td>32.000000</td>\n",
       "      <td>9.000000</td>\n",
       "      <td>13.000000</td>\n",
       "      <td>0.000000</td>\n",
       "      <td>0.000000</td>\n",
       "      <td>0.000000</td>\n",
       "      <td>0.000000</td>\n",
       "      <td>750.000000</td>\n",
       "    </tr>\n",
       "    <tr>\n",
       "      <th>50%</th>\n",
       "      <td>1253.000000</td>\n",
       "      <td>46.000000</td>\n",
       "      <td>9.000000</td>\n",
       "      <td>443.000000</td>\n",
       "      <td>50.000000</td>\n",
       "      <td>30.000000</td>\n",
       "      <td>17.000000</td>\n",
       "      <td>0.000000</td>\n",
       "      <td>0.000000</td>\n",
       "      <td>0.000000</td>\n",
       "      <td>163.500000</td>\n",
       "      <td>1653.500000</td>\n",
       "    </tr>\n",
       "    <tr>\n",
       "      <th>75%</th>\n",
       "      <td>1378.750000</td>\n",
       "      <td>62.000000</td>\n",
       "      <td>11.000000</td>\n",
       "      <td>589.000000</td>\n",
       "      <td>66.000000</td>\n",
       "      <td>57.000000</td>\n",
       "      <td>21.000000</td>\n",
       "      <td>0.000000</td>\n",
       "      <td>0.000000</td>\n",
       "      <td>800.000000</td>\n",
       "      <td>938.000000</td>\n",
       "      <td>1950.000000</td>\n",
       "    </tr>\n",
       "    <tr>\n",
       "      <th>max</th>\n",
       "      <td>1499.000000</td>\n",
       "      <td>75.000000</td>\n",
       "      <td>12.000000</td>\n",
       "      <td>1673.000000</td>\n",
       "      <td>190.000000</td>\n",
       "      <td>224.000000</td>\n",
       "      <td>49.000000</td>\n",
       "      <td>2805.000000</td>\n",
       "      <td>279.000000</td>\n",
       "      <td>4600.000000</td>\n",
       "      <td>6220.000000</td>\n",
       "      <td>6770.000000</td>\n",
       "    </tr>\n",
       "  </tbody>\n",
       "</table>\n",
       "</div>"
      ],
      "text/plain": [
       "           user_id          age        month  cons_minutes   num_of_cal  \\\n",
       "count  3214.000000  3214.000000  3214.000000   3214.000000  3214.000000   \n",
       "mean   1251.590230    46.641568     8.317362    451.244866    50.713752   \n",
       "std     144.659172    16.586109     2.905413    241.909978    26.951413   \n",
       "min    1000.000000    18.000000     1.000000      0.000000     0.000000   \n",
       "25%    1125.000000    32.000000     6.000000    282.000000    32.000000   \n",
       "50%    1253.000000    46.000000     9.000000    443.000000    50.000000   \n",
       "75%    1378.750000    62.000000    11.000000    589.000000    66.000000   \n",
       "max    1499.000000    75.000000    12.000000   1673.000000   190.000000   \n",
       "\n",
       "          cons_sms  cons_traffic_gb  min_overlimit_fee  sms_overlimit_fee  \\\n",
       "count  3214.000000      3214.000000        3214.000000        3214.000000   \n",
       "mean     38.281269        17.299004          86.564095          12.067206   \n",
       "std      36.148326         7.400584         219.231515          34.526748   \n",
       "min       0.000000         0.000000           0.000000           0.000000   \n",
       "25%       9.000000        13.000000           0.000000           0.000000   \n",
       "50%      30.000000        17.000000           0.000000           0.000000   \n",
       "75%      57.000000        21.000000           0.000000           0.000000   \n",
       "max     224.000000        49.000000        2805.000000         279.000000   \n",
       "\n",
       "       gb_overlimit_fee  total_overlimit_fee    total_fee  \n",
       "count       3214.000000          3214.000000  3214.000000  \n",
       "mean         451.384568           550.015868  1529.076229  \n",
       "std          684.137633           767.771509   798.251091  \n",
       "min            0.000000             0.000000   550.000000  \n",
       "25%            0.000000             0.000000   750.000000  \n",
       "50%            0.000000           163.500000  1653.500000  \n",
       "75%          800.000000           938.000000  1950.000000  \n",
       "max         4600.000000          6220.000000  6770.000000  "
      ]
     },
     "execution_count": 29,
     "metadata": {},
     "output_type": "execute_result"
    }
   ],
   "source": [
    "data\n",
    "data.info()\n",
    "data.describe()"
   ]
  },
  {
   "cell_type": "markdown",
   "metadata": {},
   "source": [
    "### Вывод\n",
    "\n",
    "В данном разделе информация об использовании услуг была сгруппирована по месяцам и пользовательским идентификаторам, затем, полученные данные из четырех таблиц были объединены по этим столбцам. Образовавшиеся пропуски, указывавшие на неиспользование услуги были заменены на 0. Были удалены два пользователя, информация о которых не представляет интерес. Произведен подсчет переплаты за использование услуг сверх тарифного пакета. В итоге была получена таблица, состоящая из 18 столбцов и 3214 строк, содержащая данные, необходимые для дальнейшего анализа."
   ]
  },
  {
   "cell_type": "markdown",
   "metadata": {},
   "source": [
    "## Исследовательский анализ данных (EDA)"
   ]
  },
  {
   "cell_type": "code",
   "execution_count": 30,
   "metadata": {},
   "outputs": [],
   "source": [
    "smart = data.query('tariff == \"smart\"')\n",
    "ultra = data.query('tariff == \"ultra\"')"
   ]
  },
  {
   "cell_type": "markdown",
   "metadata": {},
   "source": [
    "### Длительность разговоров"
   ]
  },
  {
   "cell_type": "code",
   "execution_count": 31,
   "metadata": {},
   "outputs": [
    {
     "name": "stdout",
     "output_type": "stream",
     "text": [
      "Данные о длительности разговоров абонентов с тарифом \"Смарт\"\n",
      "_____________________________________________________________________\n"
     ]
    },
    {
     "data": {
      "text/plain": [
       "count    2229.000000\n",
       "mean      417.934948\n",
       "std       190.313730\n",
       "min         0.000000\n",
       "25%       282.000000\n",
       "50%       422.000000\n",
       "75%       545.000000\n",
       "max      1435.000000\n",
       "Name: cons_minutes, dtype: float64"
      ]
     },
     "execution_count": 31,
     "metadata": {},
     "output_type": "execute_result"
    },
    {
     "name": "stdout",
     "output_type": "stream",
     "text": [
      "Дисперсия равна: 36219.31578434428\n",
      "\n",
      "\n",
      "Данные о длительности разговоров абонентов с тарифом \"Ультра\"\n",
      "_____________________________________________________________________\n"
     ]
    },
    {
     "data": {
      "text/plain": [
       "count     985.000000\n",
       "mean      526.623350\n",
       "std       317.606098\n",
       "min         0.000000\n",
       "25%       284.000000\n",
       "50%       518.000000\n",
       "75%       752.000000\n",
       "max      1673.000000\n",
       "Name: cons_minutes, dtype: float64"
      ]
     },
     "execution_count": 31,
     "metadata": {},
     "output_type": "execute_result"
    },
    {
     "name": "stdout",
     "output_type": "stream",
     "text": [
      "Дисперсия равна: 100873.63339730098\n"
     ]
    },
    {
     "data": {
      "text/plain": [
       "<AxesSubplot: title={'center': 'Длительность разговоров'}, ylabel='Frequency'>"
      ]
     },
     "execution_count": 31,
     "metadata": {},
     "output_type": "execute_result"
    },
    {
     "data": {
      "text/plain": [
       "Text(0.5, 0, 'Длительность разговоров (мин.)')"
      ]
     },
     "execution_count": 31,
     "metadata": {},
     "output_type": "execute_result"
    },
    {
     "data": {
      "text/plain": [
       "Text(0, 0.5, 'Общее количество')"
      ]
     },
     "execution_count": 31,
     "metadata": {},
     "output_type": "execute_result"
    },
    {
     "data": {
      "image/png": "[encoded data removed]",
      "text/plain": [
       "<Figure size 500x500 with 1 Axes>"
      ]
     },
     "metadata": {},
     "output_type": "display_data"
    }
   ],
   "source": [
    "print('Данные о длительности разговоров абонентов с тарифом \"Смарт\"')\n",
    "print('_____________________________________________________________________')\n",
    "smart['cons_minutes'].describe() # среднее значение и стандартное отклонение\n",
    "print('Дисперсия равна:', smart['cons_minutes'].var()) # дисперсия\n",
    "print('')\n",
    "print('')\n",
    "print('Данные о длительности разговоров абонентов с тарифом \"Ультра\"')\n",
    "print('_____________________________________________________________________')\n",
    "ultra['cons_minutes'].describe() # среднее значение и стандартное отклонение\n",
    "print('Дисперсия равна:', ultra['cons_minutes'].var()) # дисперсия\n",
    "\n",
    "ax = smart.plot(\n",
    "    kind='hist', y='cons_minutes', histtype='step', range=(0, 1200), bins=50, \n",
    "    linewidth=3, alpha=0.7, label='Смарт', figsize = (5,5), title='Длительность разговоров')\n",
    "ultra.plot(\n",
    "    kind='hist', y='cons_minutes', histtype='step',range=(0, 1200), bins=50,\n",
    "    linewidth=3, alpha=0.7, label='Ультра', ax=ax, grid=True, legend=True)\n",
    "plt.xlabel('Длительность разговоров (мин.)')\n",
    "plt.ylabel('Общее количество')"
   ]
  },
  {
   "cell_type": "markdown",
   "metadata": {},
   "source": [
    "#### Вывод\n",
    "Средние и медианные значения у тарфиов очень близки 418 и 422 у пользователей с тарифом \"Смарт\", 526 и 517 у \"Ультры\", что говорит об отсутствии в данных сильно завышенных или заниженных значений. Несмотря на то, что данных по тарифу \"Смарт\" больше в два раза, стандартное отклонение - 190, а  у \"Ультры\" - 318, что объясняется бОльшим разнообразием данных в этом тарифе. Дисперсия \"Смарта\" - 36219, \"Ультры\" - 100874. Проанализировав полученную гистограмму можно сделать выводы о том что, данные в тарифе \"Ультра\" распределены практически равномерно, без пиковых значений - абоненты расходуют от 50 до 900 минут практически одинаково. Основная часть абонентов \"Смарта\" в среднем проговаривает за месяц от 100 до 700 минут. У обоих тарифов есть часть значений, равных 0, что говорит о неиспользовании услуги в определенные месяца или определенными абонентами (кто-то пользуется исключительно интернетом)."
   ]
  },
  {
   "cell_type": "markdown",
   "metadata": {},
   "source": [
    "### Количество отправленных сообщений"
   ]
  },
  {
   "cell_type": "code",
   "execution_count": 32,
   "metadata": {},
   "outputs": [
    {
     "name": "stdout",
     "output_type": "stream",
     "text": [
      "Данные о количестве отправленных сообщений абонентов с тарифом \"Смарт\"\n",
      "___________________________________________________________________________\n"
     ]
    },
    {
     "data": {
      "text/plain": [
       "count    2229.000000\n",
       "mean       33.384029\n",
       "std        28.227876\n",
       "min         0.000000\n",
       "25%        10.000000\n",
       "50%        28.000000\n",
       "75%        51.000000\n",
       "max       143.000000\n",
       "Name: cons_sms, dtype: float64"
      ]
     },
     "execution_count": 32,
     "metadata": {},
     "output_type": "execute_result"
    },
    {
     "name": "stdout",
     "output_type": "stream",
     "text": [
      "Дисперсия равна: 796.8129584480083\n",
      "\n",
      "\n",
      "Данные о количестве отправленных сообщений абонентов с тарифом \"Ультра\"\n",
      "___________________________________________________________________________\n"
     ]
    },
    {
     "data": {
      "text/plain": [
       "count    985.000000\n",
       "mean      49.363452\n",
       "std       47.804457\n",
       "min        0.000000\n",
       "25%        6.000000\n",
       "50%       38.000000\n",
       "75%       79.000000\n",
       "max      224.000000\n",
       "Name: cons_sms, dtype: float64"
      ]
     },
     "execution_count": 32,
     "metadata": {},
     "output_type": "execute_result"
    },
    {
     "name": "stdout",
     "output_type": "stream",
     "text": [
      "Дисперсия равна: 2285.266142544674\n"
     ]
    },
    {
     "data": {
      "text/plain": [
       "<AxesSubplot: title={'center': 'Количество отправленных сообщений'}, ylabel='Frequency'>"
      ]
     },
     "execution_count": 32,
     "metadata": {},
     "output_type": "execute_result"
    },
    {
     "data": {
      "text/plain": [
       "Text(0.5, 0, 'Количество сообщений (в месяц)')"
      ]
     },
     "execution_count": 32,
     "metadata": {},
     "output_type": "execute_result"
    },
    {
     "data": {
      "text/plain": [
       "Text(0, 0.5, 'Общее количество')"
      ]
     },
     "execution_count": 32,
     "metadata": {},
     "output_type": "execute_result"
    },
    {
     "data": {
      "image/png": "[encoded data removed]",
      "text/plain": [
       "<Figure size 500x500 with 1 Axes>"
      ]
     },
     "metadata": {},
     "output_type": "display_data"
    }
   ],
   "source": [
    "print('Данные о количестве отправленных сообщений абонентов с тарифом \"Смарт\"')\n",
    "print('___________________________________________________________________________')\n",
    "smart['cons_sms'].describe() # среднее значение и стандартное отклонение\n",
    "print('Дисперсия равна:', smart['cons_sms'].var()) # дисперсия\n",
    "print('')\n",
    "print('')\n",
    "print('Данные о количестве отправленных сообщений абонентов с тарифом \"Ультра\"')\n",
    "print('___________________________________________________________________________')\n",
    "ultra['cons_sms'].describe() # среднее значение и стандартное отклонение\n",
    "print('Дисперсия равна:', ultra['cons_sms'].var()) # дисперсия\n",
    "\n",
    "ax = smart.plot(\n",
    "    kind='hist', y='cons_sms', histtype='step', range=(0, 200), bins=50, \n",
    "    linewidth=3, alpha=0.7, label='Смарт', figsize = (5,5), title='Количество отправленных сообщений')\n",
    "ultra.plot(\n",
    "    kind='hist', y='cons_sms', histtype='step',range=(0, 200), bins=50,\n",
    "    linewidth=3, alpha=0.7, label='Ультра', ax=ax, grid=True, legend=True)\n",
    "plt.xlabel('Количество сообщений (в месяц)')\n",
    "plt.ylabel('Общее количество')"
   ]
  },
  {
   "cell_type": "markdown",
   "metadata": {},
   "source": [
    "#### Вывод\n",
    "Среднее и медиана \"Смарта\" - 33 и 28, \"Ультры\" - 49 и 38 сообщений соответственно. Дисперсия \"Смарта\" - 797, стандартное отклонение - 28, \"Ультры\" - 2285 и 48 соответственно. При анализе гистограммы внимание привлекает большое количество нулевых значений, что логично, услуга отправки текстовых сообщений вытесняется интернет-мессенджерами. Данные в тарифе \"Ультра\" распрделены равномерно, не имеют пиков (за исключением 0), их основная часть укладывается в показатели от 20 до 120, абоненты \"Смарта\" отправляют в основном от 10 до 70 сообщений в месяц."
   ]
  },
  {
   "cell_type": "markdown",
   "metadata": {},
   "source": [
    "### Израсходованный интернет-трафик"
   ]
  },
  {
   "cell_type": "code",
   "execution_count": 33,
   "metadata": {},
   "outputs": [
    {
     "name": "stdout",
     "output_type": "stream",
     "text": [
      "Данные о трафике, израсходованном абонентами с тарифом \"Смарт\"\n",
      "__________________________________________________________________\n"
     ]
    },
    {
     "data": {
      "text/plain": [
       "count    2229.000000\n",
       "mean       16.328847\n",
       "std         5.747061\n",
       "min         0.000000\n",
       "25%        13.000000\n",
       "50%        17.000000\n",
       "75%        20.000000\n",
       "max        38.000000\n",
       "Name: cons_traffic_gb, dtype: float64"
      ]
     },
     "execution_count": 33,
     "metadata": {},
     "output_type": "execute_result"
    },
    {
     "name": "stdout",
     "output_type": "stream",
     "text": [
      "Дисперсия равна: 33.02870517811161\n",
      "\n",
      "\n",
      "Данные о трафике, израсходованном абонентами с тарифом \"Ультра\"\n",
      "__________________________________________________________________\n"
     ]
    },
    {
     "data": {
      "text/plain": [
       "count    985.000000\n",
       "mean      19.494416\n",
       "std        9.853511\n",
       "min        0.000000\n",
       "25%       12.000000\n",
       "50%       19.000000\n",
       "75%       27.000000\n",
       "max       49.000000\n",
       "Name: cons_traffic_gb, dtype: float64"
      ]
     },
     "execution_count": 33,
     "metadata": {},
     "output_type": "execute_result"
    },
    {
     "name": "stdout",
     "output_type": "stream",
     "text": [
      "Дисперсия равна: 97.09168626965459\n"
     ]
    },
    {
     "data": {
      "text/plain": [
       "<AxesSubplot: title={'center': 'Объем расходуемого интернет-трафика'}, ylabel='Frequency'>"
      ]
     },
     "execution_count": 33,
     "metadata": {},
     "output_type": "execute_result"
    },
    {
     "data": {
      "text/plain": [
       "Text(0.5, 0, 'Объем интернет-трафика (Гб)')"
      ]
     },
     "execution_count": 33,
     "metadata": {},
     "output_type": "execute_result"
    },
    {
     "data": {
      "text/plain": [
       "Text(0, 0.5, 'Общее количество')"
      ]
     },
     "execution_count": 33,
     "metadata": {},
     "output_type": "execute_result"
    },
    {
     "data": {
      "image/png": "[encoded data removed]",
      "text/plain": [
       "<Figure size 500x500 with 1 Axes>"
      ]
     },
     "metadata": {},
     "output_type": "display_data"
    }
   ],
   "source": [
    "print('Данные о трафике, израсходованном абонентами с тарифом \"Смарт\"')\n",
    "print('__________________________________________________________________')\n",
    "smart['cons_traffic_gb'].describe() # среднее значение и стандартное отклонение\n",
    "print('Дисперсия равна:', smart['cons_traffic_gb'].var()) # дисперсия\n",
    "print('')\n",
    "print('')\n",
    "print('Данные о трафике, израсходованном абонентами с тарифом \"Ультра\"')\n",
    "print('__________________________________________________________________')\n",
    "ultra['cons_traffic_gb'].describe() # среднее значение и стандартное отклонение\n",
    "print('Дисперсия равна:', ultra['cons_traffic_gb'].var()) # дисперсия\n",
    "\n",
    "ax = smart.plot(\n",
    "    kind='hist', y='cons_traffic_gb', histtype='step', range=(0, 50), bins=50, \n",
    "    linewidth=3, alpha=0.7, label='Смарт', figsize = (5,5), title='Объем расходуемого интернет-трафика')\n",
    "ultra.plot(\n",
    "    kind='hist', y='cons_traffic_gb', histtype='step',range=(0, 50), bins=50,\n",
    "    linewidth=3, alpha=0.7, label='Ультра', ax=ax, grid=True, legend=True)\n",
    "plt.xlabel('Объем интернет-трафика (Гб)')\n",
    "plt.ylabel('Общее количество')"
   ]
  },
  {
   "cell_type": "markdown",
   "metadata": {},
   "source": [
    "#### Вывод\n",
    "Среднее и медиана \"Смарта\" - 16 и 17, \"Ультры\" - одинаковое значение в 19 гигабайт. Эти значения идентичны друг другу благодаря правильному распределению данных и отсутствию выбросов. Дисперсия \"Смарта\" - 33, стандартное отклонение - 6, \"Ультры\" - 97 и 10 соответственно. Практически полное отсутствие нулевых значений говорит о том, что интернетом в наши времена пользуются все. Пользователи \"Смарта\" в основном расходуют от 10 до 25 Гб трафика в месяц, в \"Ультре\", данные как всегда распределены практически равномерно по оси, рользователи этого тарифа в основном расходуют от 10 до 30 Гб. "
   ]
  },
  {
   "cell_type": "markdown",
   "metadata": {},
   "source": [
    "### Вывод\n",
    "\n",
    "В данном разделе были исследованы показатели использования основных услуг пользователями тарифов \"Смарт\" и \"Ультра\" за месяц. Абонентов \"Смарта\" почти в два раза больше, чем абонентов \"Ультры\", но при этом, последние разговаривают и отправляют сообщений больше, однако в вопросе использования интернета, абоненты остаются солидарными и расходуют практически одинаковое количество трафика. Учитывая, что большое количество абонентов \"Смарта\" не укладываются в тарифные лимиты, а плата за услуги сверх пакета достаточно высока, можно предположить, что в среднем они тратят больше за месяц, чем абоненты \"Ультры\"."
   ]
  },
  {
   "cell_type": "markdown",
   "metadata": {},
   "source": [
    "## Проверка гипотез"
   ]
  },
  {
   "cell_type": "markdown",
   "metadata": {},
   "source": [
    "### Гипотеза 1: \"Средняя выручка пользователей тарифов «Ультра» и «Смарт» различается\".\n",
    "\n",
    "H₀ - Средняя выручка пользователей тарифов «Ультра» и «Смарт» одинакова.\n",
    "\n",
    "H₁ - Средняя выручка пользователей тарифов «Ультра» и «Смарт» различается."
   ]
  },
  {
   "cell_type": "code",
   "execution_count": 34,
   "metadata": {},
   "outputs": [],
   "source": [
    "smart_total_fee = smart['total_fee']\n",
    "ultra_total_fee = ultra['total_fee']"
   ]
  },
  {
   "cell_type": "code",
   "execution_count": 35,
   "metadata": {},
   "outputs": [
    {
     "data": {
      "text/plain": [
       "8       1150\n",
       "9        550\n",
       "10       550\n",
       "11      1150\n",
       "12      1550\n",
       "        ... \n",
       "3211    1750\n",
       "3212     550\n",
       "3213    1150\n",
       "3214    1513\n",
       "3215     598\n",
       "Name: total_fee, Length: 2229, dtype: int64"
      ]
     },
     "execution_count": 35,
     "metadata": {},
     "output_type": "execute_result"
    }
   ],
   "source": [
    "smart_total_fee"
   ]
  },
  {
   "cell_type": "code",
   "execution_count": 36,
   "metadata": {},
   "outputs": [
    {
     "name": "stdout",
     "output_type": "stream",
     "text": [
      "средняя выручка с тарифом \"Смарт\": 1290\n",
      "средняя выручка с тарифом \"Ультра\": 2070\n",
      "\n",
      "p-значение: 1.4229814360764067e-160\n",
      "\n",
      "Отвергаем нулевую гипотезу\n"
     ]
    }
   ],
   "source": [
    "alpha = 0.05 # стандартный критический уровень статистической значимости\n",
    "results = st.ttest_ind(smart_total_fee, ultra_total_fee, equal_var=True)\n",
    "\n",
    "print('средняя выручка с тарифом \"Смарт\": {:.0f}'.format(smart_total_fee.mean()))\n",
    "print('средняя выручка с тарифом \"Ультра\": {:.0f}'.format(ultra_total_fee.mean()))\n",
    "print()\n",
    "print('p-значение: {}'.format(results.pvalue))\n",
    "print()\n",
    "if results.pvalue < alpha:\n",
    "    print(\"Отвергаем нулевую гипотезу\")\n",
    "else:\n",
    "    print(\"Не получилось отвергнуть нулевую гипотезу\")"
   ]
  },
  {
   "cell_type": "markdown",
   "metadata": {},
   "source": [
    "p-значение значительно меньше критического уровня статистической значимости, что говорит нам о неравенстве двух совокупностей, в связи с чем отвергаем нулевую гипотезу. Средняя выручка пользователей тарифов «Ультра» и «Смарт» различается."
   ]
  },
  {
   "cell_type": "markdown",
   "metadata": {},
   "source": [
    "### Гипотеза 2: \"Средняя выручка пользователей из Москвы отличается от выручки пользователей из других регионов\".\n",
    "\n",
    "H₀ - Средняя выручка пользователей из Москвы не отличается от выручки пользователей из других регионов.\n",
    "\n",
    "H₁ - Средняя выручка пользователей из Москвы отличается от выручки пользователей из других регионов."
   ]
  },
  {
   "cell_type": "code",
   "execution_count": 37,
   "metadata": {},
   "outputs": [],
   "source": [
    "moscow_total_fee = data.query('city == \"Москва\"')['total_fee']\n",
    "region_total_fee = data.query('city != \"Москва\"')['total_fee']"
   ]
  },
  {
   "cell_type": "code",
   "execution_count": 38,
   "metadata": {},
   "outputs": [
    {
     "name": "stdout",
     "output_type": "stream",
     "text": [
      "средняя выручка пользователей из Москвы: 1547\n",
      "средняя выручка пользователей из других регионов: 1525\n",
      "\n",
      "p-значение: 0.5440152912\n",
      "\n",
      "Не получилось отвергнуть нулевую гипотезу\n"
     ]
    }
   ],
   "source": [
    "alpha = 0.05 # стандартный критический уровень статистической значимости\n",
    "results = st.ttest_ind(moscow_total_fee, region_total_fee, equal_var=True)\n",
    "\n",
    "print('средняя выручка пользователей из Москвы: {:.0f}'.format(moscow_total_fee.mean()))\n",
    "print('средняя выручка пользователей из других регионов: {:.0f}'.format(region_total_fee.mean()))\n",
    "print()\n",
    "print('p-значение: {:.10f}'.format(results.pvalue))\n",
    "print()\n",
    "if results.pvalue < alpha:\n",
    "    print(\"Отвергаем нулевую гипотезу\")\n",
    "else:\n",
    "    print(\"Не получилось отвергнуть нулевую гипотезу\")"
   ]
  },
  {
   "cell_type": "markdown",
   "metadata": {},
   "source": [
    "p-значение больше критического уровня статистической значимости, что говорит нам о равенстве двух совокупностей, в связи с чем нулевую гипотезу опровергнуть не получается. Средняя выручка пользователей из Москвы не отличается от выручки пользователей из других регионов."
   ]
  },
  {
   "cell_type": "markdown",
   "metadata": {},
   "source": [
    "### Гипотеза 3: \"Средняя длительность разговоров у пользователей тарифов «Ультра» и «Смарт» не различается \".\n",
    "\n",
    "H₀ - Средняя продолжительность разговоров у пользователей тарифов «Ультра» и «Смарт» не различается.\n",
    "\n",
    "H₁ - Средняя продолжительность разговоров у пользователей тарифов «Ультра» и «Смарт» различается."
   ]
  },
  {
   "cell_type": "code",
   "execution_count": 39,
   "metadata": {},
   "outputs": [],
   "source": [
    "smart_cons_minutes = smart['cons_minutes']\n",
    "ultra_cons_minutes = ultra['cons_minutes']"
   ]
  },
  {
   "cell_type": "code",
   "execution_count": 40,
   "metadata": {},
   "outputs": [
    {
     "name": "stdout",
     "output_type": "stream",
     "text": [
      "средняя продолжительность разговоров в тарифе \"Смарт\": 418\n",
      "средняя продолжительность разговоров в тарифе \"Ультра\": 527\n",
      "\n",
      "p-значение: 0.0000000000\n",
      "\n",
      "Отвергаем нулевую гипотезу\n"
     ]
    }
   ],
   "source": [
    "alpha = 0.05 # стандартный критический уровень статистической значимости\n",
    "results = st.ttest_ind(smart_cons_minutes, ultra_cons_minutes, equal_var=True)\n",
    "\n",
    "print('средняя продолжительность разговоров в тарифе \"Смарт\": {:.0f}'.format(smart_cons_minutes.mean()))\n",
    "print('средняя продолжительность разговоров в тарифе \"Ультра\": {:.0f}'.format(ultra_cons_minutes.mean()))\n",
    "print()\n",
    "print('p-значение: {:.10f}'.format(results.pvalue))\n",
    "print()\n",
    "if results.pvalue < alpha:\n",
    "    print(\"Отвергаем нулевую гипотезу\")\n",
    "else:\n",
    "    print(\"Не получилось отвергнуть нулевую гипотезу\")"
   ]
  },
  {
   "cell_type": "markdown",
   "metadata": {},
   "source": [
    "p-значение значительно меньше критического уровня статистической значимости, что говорит нам о неравенстве двух совокупностей, в связи с чем отвергаем нулевую гипотезу. Средняя продолжительность разговоров у пользователей тарифов «Ультра» и «Смарт» различается."
   ]
  },
  {
   "cell_type": "markdown",
   "metadata": {},
   "source": [
    "### Вывод\n",
    "\n",
    "Проверив выдвинутые гипотезы, можем сделать вывод о том, что за услуги связи по всей стране платят примерно одинаково, абоненты с тарифом \"Ультра\" платят за связь немного меньше абонентов с тарифом \"Смарт\"."
   ]
  },
  {
   "cell_type": "markdown",
   "metadata": {},
   "source": [
    "## Общий вывод и рекомендации бизнесу\n",
    "\n",
    "В результате проведенного исследования, было изучено поведение абонентов двух разных тарифных планов, установлено какое количество средств они тратят ежемесячно на услуги связи, какие услуги связи более востребованы, а какие менее. Подводя итог, можно сделать следующие выводы: \n",
    "1. Пользователи \"Ультры\" в среднем больше разговаривают по телефону, отправляют сообщения и пользуются интернетом, чем пользователи \"Смарта\", однако при этом расходуют около 20% минут разговора, 5% сообщений и 65% интернет-трафика, включенных в основной тарифный план.\n",
    "2. Абоненты с тарифным планом \"Смарт\" в основном пользуются услугами в соответствии с предоставленным базовым пакетом, исключение составляет интернет-трафик, по которому абоненты незначительно переплачивают сверх тарифного пакета.\n",
    "3. Учитывая то, что ежемесячная абонентская плата по тарифу \"Смарт\" в 3,5 раза ниже абонентской платы за \"Ультру\", а как нам стало известно, абоненты \"Смарта\" в основном не переплачивают сверх тарифного пакета, общая сумма средств затрачиваемая ими в месяц на услуги связи составляет 60% от трат абонентов с \"Ультрой\".\n",
    "\n",
    "Однозначно ответить на главный вопрос исследования, какой же из представленных тарифов лучше, невозможно, так как \"Ультра\" хоть и кажется более прибыльной, однако не стоит забывать, что исследование проводилось исходя из данных небольшого отрезка времени. Можно предположить, что часть абонентов с тарифным планом \"Ультра\", осознав, что не расходует и половины включенных в пакет услуг, предпочтет альтернативные варианты, с меньшей абонентской платой и пакетом услуг.\n",
    "Основываясь на результатах исследования поведения пользователей \"Смарта\", можно предположить, что данные абоненты стараются не пересекать лимиты, установленные базовым пакетом услуг, так как плата за использование услуг сверх пакета высока. Несмотря на это, они все равно чаще используют такую востребованую услугу как мобильный интернет, сверх установленного лимита. По обратной аналогии с пользователями \"Ультры\", можно предположить, что эту группу абонентов может привлечь тарифный пакет, с увеличенными базовыми лимитами на услуги.\n",
    "Исходя из изложенного, учитывая плюсы и минусы исследуемых тарифов, можно ответить на главный вопрос - лучшим тарифом мог бы оказаться тариф \"Медиум\", включающий в себя средние показатели тарифов \"Ультра\" и \"Смарт\".\n",
    "    \n",
    "Касательно общих наблюдений и тенденций, можно выделить следующие:\n",
    "1. Самая востребованная услуга - мобильный интернет.\n",
    "2. Услугой отправки текстовых сообщений абоненты практически не пользуются.\n",
    "3. Затраты на связь по всей стране относительно равны."
   ]
  }
 ],
 "metadata": {
  "ExecuteTimeLog": [
   {
    "duration": 1334,
    "start_time": "2021-07-02T07:21:12.923Z"
   },
   {
    "duration": 2115,
    "start_time": "2021-07-02T07:22:23.741Z"
   },
   {
    "duration": 191,
    "start_time": "2021-07-02T07:22:40.964Z"
   },
   {
    "duration": 206,
    "start_time": "2021-07-02T07:23:36.451Z"
   },
   {
    "duration": 207,
    "start_time": "2021-07-02T07:23:43.903Z"
   },
   {
    "duration": 497,
    "start_time": "2021-07-02T07:26:17.570Z"
   },
   {
    "duration": 17,
    "start_time": "2021-07-02T07:26:26.400Z"
   },
   {
    "duration": 18,
    "start_time": "2021-07-02T07:26:36.622Z"
   },
   {
    "duration": 105,
    "start_time": "2021-07-02T07:26:55.577Z"
   },
   {
    "duration": 14,
    "start_time": "2021-07-02T07:27:09.439Z"
   },
   {
    "duration": 20,
    "start_time": "2021-07-02T07:27:21.724Z"
   },
   {
    "duration": 24,
    "start_time": "2021-07-02T07:28:15.906Z"
   },
   {
    "duration": 19,
    "start_time": "2021-07-02T07:29:01.062Z"
   },
   {
    "duration": 9,
    "start_time": "2021-07-02T07:48:26.849Z"
   },
   {
    "duration": 27,
    "start_time": "2021-07-02T07:49:45.662Z"
   },
   {
    "duration": 10,
    "start_time": "2021-07-02T07:51:30.762Z"
   },
   {
    "duration": 6,
    "start_time": "2021-07-02T07:51:49.120Z"
   },
   {
    "duration": 23,
    "start_time": "2021-07-02T08:07:47.543Z"
   },
   {
    "duration": 59,
    "start_time": "2021-07-02T08:15:55.708Z"
   },
   {
    "duration": 20,
    "start_time": "2021-07-02T08:19:02.883Z"
   },
   {
    "duration": 58,
    "start_time": "2021-07-02T08:20:25.892Z"
   },
   {
    "duration": 14,
    "start_time": "2021-07-02T08:23:14.952Z"
   },
   {
    "duration": 35,
    "start_time": "2021-07-02T08:24:01.416Z"
   },
   {
    "duration": 7,
    "start_time": "2021-07-02T08:37:15.972Z"
   },
   {
    "duration": 307,
    "start_time": "2021-07-02T08:37:31.071Z"
   },
   {
    "duration": 6,
    "start_time": "2021-07-02T08:37:36.681Z"
   },
   {
    "duration": 304,
    "start_time": "2021-07-02T08:38:25.760Z"
   },
   {
    "duration": 34,
    "start_time": "2021-07-02T08:38:30.500Z"
   },
   {
    "duration": 7,
    "start_time": "2021-07-02T08:57:20.045Z"
   },
   {
    "duration": 280,
    "start_time": "2021-07-02T09:31:31.661Z"
   },
   {
    "duration": 7407,
    "start_time": "2021-07-02T09:59:01.133Z"
   },
   {
    "duration": 2371,
    "start_time": "2021-07-02T09:59:26.548Z"
   },
   {
    "duration": 29,
    "start_time": "2021-07-02T09:59:54.460Z"
   },
   {
    "duration": 18,
    "start_time": "2021-07-02T10:00:03.683Z"
   },
   {
    "duration": 24,
    "start_time": "2021-07-02T10:12:10.620Z"
   },
   {
    "duration": 22,
    "start_time": "2021-07-02T10:12:16.311Z"
   },
   {
    "duration": 34,
    "start_time": "2021-07-02T10:21:22.870Z"
   },
   {
    "duration": 48,
    "start_time": "2021-07-02T10:21:27.586Z"
   },
   {
    "duration": 21,
    "start_time": "2021-07-02T10:21:50.484Z"
   },
   {
    "duration": 31,
    "start_time": "2021-07-02T10:24:10.580Z"
   },
   {
    "duration": 47,
    "start_time": "2021-07-02T10:25:38.288Z"
   },
   {
    "duration": 37,
    "start_time": "2021-07-02T10:25:59.482Z"
   },
   {
    "duration": 297,
    "start_time": "2021-07-02T10:28:28.014Z"
   },
   {
    "duration": 17,
    "start_time": "2021-07-02T10:28:32.743Z"
   },
   {
    "duration": 7,
    "start_time": "2021-07-02T10:29:53.212Z"
   },
   {
    "duration": 56,
    "start_time": "2021-07-02T10:37:27.334Z"
   },
   {
    "duration": 32,
    "start_time": "2021-07-02T10:37:52.234Z"
   },
   {
    "duration": 12,
    "start_time": "2021-07-02T10:39:47.077Z"
   },
   {
    "duration": 12,
    "start_time": "2021-07-02T10:41:05.323Z"
   },
   {
    "duration": 40,
    "start_time": "2021-07-02T11:04:23.996Z"
   },
   {
    "duration": 38,
    "start_time": "2021-07-02T11:06:22.038Z"
   },
   {
    "duration": 7183,
    "start_time": "2021-07-02T11:08:32.752Z"
   },
   {
    "duration": 313,
    "start_time": "2021-07-02T11:09:02.276Z"
   },
   {
    "duration": 1332,
    "start_time": "2021-07-02T11:09:27.622Z"
   },
   {
    "duration": 542,
    "start_time": "2021-07-02T11:09:28.956Z"
   },
   {
    "duration": 24,
    "start_time": "2021-07-02T11:09:29.501Z"
   },
   {
    "duration": 34,
    "start_time": "2021-07-02T11:09:29.528Z"
   },
   {
    "duration": 43,
    "start_time": "2021-07-02T11:09:29.564Z"
   },
   {
    "duration": 60,
    "start_time": "2021-07-02T11:09:29.610Z"
   },
   {
    "duration": 41,
    "start_time": "2021-07-02T11:09:29.673Z"
   },
   {
    "duration": 42,
    "start_time": "2021-07-02T11:09:29.717Z"
   },
   {
    "duration": 41,
    "start_time": "2021-07-02T11:09:29.762Z"
   },
   {
    "duration": 56,
    "start_time": "2021-07-02T11:09:29.805Z"
   },
   {
    "duration": 39,
    "start_time": "2021-07-02T11:09:29.863Z"
   },
   {
    "duration": 1366,
    "start_time": "2021-07-02T11:10:55.382Z"
   },
   {
    "duration": 562,
    "start_time": "2021-07-02T11:10:56.751Z"
   },
   {
    "duration": 25,
    "start_time": "2021-07-02T11:10:57.318Z"
   },
   {
    "duration": 20,
    "start_time": "2021-07-02T11:12:48.230Z"
   },
   {
    "duration": 530,
    "start_time": "2021-07-02T11:14:09.223Z"
   },
   {
    "duration": 55,
    "start_time": "2021-07-02T11:16:52.187Z"
   },
   {
    "duration": 46,
    "start_time": "2021-07-02T11:19:03.205Z"
   },
   {
    "duration": 37,
    "start_time": "2021-07-02T11:19:22.681Z"
   },
   {
    "duration": 35,
    "start_time": "2021-07-02T11:20:54.541Z"
   },
   {
    "duration": 551,
    "start_time": "2021-07-02T11:22:39.264Z"
   },
   {
    "duration": 84,
    "start_time": "2021-07-02T11:22:46.750Z"
   },
   {
    "duration": 42,
    "start_time": "2021-07-02T11:23:51.097Z"
   },
   {
    "duration": 55,
    "start_time": "2021-07-02T11:24:05.171Z"
   },
   {
    "duration": 16,
    "start_time": "2021-07-02T11:24:36.149Z"
   },
   {
    "duration": 112,
    "start_time": "2021-07-02T11:26:25.705Z"
   },
   {
    "duration": 15,
    "start_time": "2021-07-02T11:28:48.553Z"
   },
   {
    "duration": 23,
    "start_time": "2021-07-02T11:28:58.171Z"
   },
   {
    "duration": 726,
    "start_time": "2021-07-02T11:29:29.084Z"
   },
   {
    "duration": 31,
    "start_time": "2021-07-02T11:29:36.432Z"
   },
   {
    "duration": 27,
    "start_time": "2021-07-02T11:30:39.838Z"
   },
   {
    "duration": 584,
    "start_time": "2021-07-02T11:33:01.255Z"
   },
   {
    "duration": 314,
    "start_time": "2021-07-02T11:34:18.894Z"
   },
   {
    "duration": 21,
    "start_time": "2021-07-02T11:34:36.174Z"
   },
   {
    "duration": 38,
    "start_time": "2021-07-02T11:34:49.247Z"
   },
   {
    "duration": 8094,
    "start_time": "2021-07-02T11:36:59.562Z"
   },
   {
    "duration": 35,
    "start_time": "2021-07-02T11:37:43.292Z"
   },
   {
    "duration": 37,
    "start_time": "2021-07-02T11:39:38.465Z"
   },
   {
    "duration": 96,
    "start_time": "2021-07-02T11:43:50.160Z"
   },
   {
    "duration": 7912,
    "start_time": "2021-07-02T12:32:42.704Z"
   },
   {
    "duration": 47,
    "start_time": "2021-07-02T12:32:58.767Z"
   },
   {
    "duration": 39,
    "start_time": "2021-07-02T12:33:46.342Z"
   },
   {
    "duration": 751,
    "start_time": "2021-07-02T12:34:48.921Z"
   },
   {
    "duration": 25,
    "start_time": "2021-07-02T12:35:10.839Z"
   },
   {
    "duration": 39,
    "start_time": "2021-07-02T12:35:41.793Z"
   },
   {
    "duration": 62,
    "start_time": "2021-07-02T12:49:05.272Z"
   },
   {
    "duration": 45,
    "start_time": "2021-07-02T12:52:06.150Z"
   },
   {
    "duration": 37,
    "start_time": "2021-07-02T12:52:16.120Z"
   },
   {
    "duration": 517,
    "start_time": "2021-07-02T12:56:07.578Z"
   },
   {
    "duration": 380,
    "start_time": "2021-07-02T12:58:53.623Z"
   },
   {
    "duration": 313,
    "start_time": "2021-07-02T12:59:10.998Z"
   },
   {
    "duration": 45,
    "start_time": "2021-07-02T13:00:16.525Z"
   },
   {
    "duration": 317,
    "start_time": "2021-07-02T13:00:26.759Z"
   },
   {
    "duration": 8078,
    "start_time": "2021-07-02T13:00:44.122Z"
   },
   {
    "duration": 14944,
    "start_time": "2021-07-02T13:00:53.908Z"
   },
   {
    "duration": 59,
    "start_time": "2021-07-02T13:01:36.965Z"
   },
   {
    "duration": 52,
    "start_time": "2021-07-02T13:01:53.877Z"
   },
   {
    "duration": 26,
    "start_time": "2021-07-02T13:03:14.303Z"
   },
   {
    "duration": 26,
    "start_time": "2021-07-02T13:03:23.455Z"
   },
   {
    "duration": 51,
    "start_time": "2021-07-02T13:03:27.039Z"
   },
   {
    "duration": 47,
    "start_time": "2021-07-02T13:05:09.980Z"
   },
   {
    "duration": 305,
    "start_time": "2021-07-02T13:07:08.530Z"
   },
   {
    "duration": 365,
    "start_time": "2021-07-02T13:53:57.820Z"
   },
   {
    "duration": 46,
    "start_time": "2021-07-02T13:55:15.912Z"
   },
   {
    "duration": 26,
    "start_time": "2021-07-02T13:56:15.054Z"
   },
   {
    "duration": 34,
    "start_time": "2021-07-02T13:58:24.319Z"
   },
   {
    "duration": 54,
    "start_time": "2021-07-02T13:59:27.079Z"
   },
   {
    "duration": 48,
    "start_time": "2021-07-02T13:59:48.610Z"
   },
   {
    "duration": 33,
    "start_time": "2021-07-02T14:00:35.748Z"
   },
   {
    "duration": 28,
    "start_time": "2021-07-02T14:01:44.017Z"
   },
   {
    "duration": 30,
    "start_time": "2021-07-02T14:02:06.529Z"
   },
   {
    "duration": 49,
    "start_time": "2021-07-02T14:02:37.978Z"
   },
   {
    "duration": 39,
    "start_time": "2021-07-02T14:03:31.577Z"
   },
   {
    "duration": 50,
    "start_time": "2021-07-02T14:04:43.766Z"
   },
   {
    "duration": 10,
    "start_time": "2021-07-02T15:27:15.877Z"
   },
   {
    "duration": 25,
    "start_time": "2021-07-02T15:27:30.395Z"
   },
   {
    "duration": 50,
    "start_time": "2021-07-02T15:27:52.504Z"
   },
   {
    "duration": 40,
    "start_time": "2021-07-02T15:30:56.459Z"
   },
   {
    "duration": 44,
    "start_time": "2021-07-02T15:42:15.236Z"
   },
   {
    "duration": 53,
    "start_time": "2021-07-02T15:42:52.145Z"
   },
   {
    "duration": 4,
    "start_time": "2021-07-02T15:48:01.118Z"
   },
   {
    "duration": 44,
    "start_time": "2021-07-02T15:48:19.442Z"
   },
   {
    "duration": 557,
    "start_time": "2021-07-02T15:48:44.395Z"
   },
   {
    "duration": 75,
    "start_time": "2021-07-02T15:51:14.295Z"
   },
   {
    "duration": 47,
    "start_time": "2021-07-02T15:52:53.188Z"
   },
   {
    "duration": 61,
    "start_time": "2021-07-02T15:54:11.489Z"
   },
   {
    "duration": 30,
    "start_time": "2021-07-02T15:54:56.742Z"
   },
   {
    "duration": 110,
    "start_time": "2021-07-02T15:55:12.866Z"
   },
   {
    "duration": 72,
    "start_time": "2021-07-02T15:55:27.389Z"
   },
   {
    "duration": 123,
    "start_time": "2021-07-02T16:20:53.757Z"
   },
   {
    "duration": 43,
    "start_time": "2021-07-02T16:21:03.840Z"
   },
   {
    "duration": 51,
    "start_time": "2021-07-02T16:22:18.266Z"
   },
   {
    "duration": 72,
    "start_time": "2021-07-02T16:22:36.714Z"
   },
   {
    "duration": 52,
    "start_time": "2021-07-02T16:23:32.893Z"
   },
   {
    "duration": 46,
    "start_time": "2021-07-02T16:23:44.511Z"
   },
   {
    "duration": 349,
    "start_time": "2021-07-02T16:25:07.774Z"
   },
   {
    "duration": 65,
    "start_time": "2021-07-02T16:25:19.075Z"
   },
   {
    "duration": 40,
    "start_time": "2021-07-02T16:25:51.385Z"
   },
   {
    "duration": 39,
    "start_time": "2021-07-02T16:26:44.651Z"
   },
   {
    "duration": 58,
    "start_time": "2021-07-02T16:27:10.403Z"
   },
   {
    "duration": 24,
    "start_time": "2021-07-02T16:27:54.217Z"
   },
   {
    "duration": 93,
    "start_time": "2021-07-02T16:39:25.167Z"
   },
   {
    "duration": 331,
    "start_time": "2021-07-02T16:46:28.367Z"
   },
   {
    "duration": 383,
    "start_time": "2021-07-02T16:49:23.519Z"
   },
   {
    "duration": 63,
    "start_time": "2021-07-02T16:51:19.270Z"
   },
   {
    "duration": 44,
    "start_time": "2021-07-02T16:51:42.510Z"
   },
   {
    "duration": 18,
    "start_time": "2021-07-02T16:51:55.019Z"
   },
   {
    "duration": 938,
    "start_time": "2021-07-03T05:50:58.919Z"
   },
   {
    "duration": 367,
    "start_time": "2021-07-03T05:50:59.858Z"
   },
   {
    "duration": 21,
    "start_time": "2021-07-03T05:51:00.227Z"
   },
   {
    "duration": 44,
    "start_time": "2021-07-03T05:51:00.249Z"
   },
   {
    "duration": 18,
    "start_time": "2021-07-03T05:51:00.295Z"
   },
   {
    "duration": 32,
    "start_time": "2021-07-03T05:51:00.314Z"
   },
   {
    "duration": 10,
    "start_time": "2021-07-03T05:51:00.348Z"
   },
   {
    "duration": 66,
    "start_time": "2021-07-03T05:51:00.360Z"
   },
   {
    "duration": 68,
    "start_time": "2021-07-03T05:51:00.428Z"
   },
   {
    "duration": 11,
    "start_time": "2021-07-03T05:51:00.498Z"
   },
   {
    "duration": 72,
    "start_time": "2021-07-03T05:51:00.510Z"
   },
   {
    "duration": 30,
    "start_time": "2021-07-03T05:51:00.584Z"
   },
   {
    "duration": 7,
    "start_time": "2021-07-03T05:52:04.085Z"
   },
   {
    "duration": 11,
    "start_time": "2021-07-03T10:05:59.573Z"
   },
   {
    "duration": 17,
    "start_time": "2021-07-03T10:06:20.592Z"
   },
   {
    "duration": 19,
    "start_time": "2021-07-03T10:06:58.891Z"
   },
   {
    "duration": 18,
    "start_time": "2021-07-03T10:08:06.304Z"
   },
   {
    "duration": 18,
    "start_time": "2021-07-03T10:08:29.214Z"
   },
   {
    "duration": 11,
    "start_time": "2021-07-03T10:09:42.646Z"
   },
   {
    "duration": 4,
    "start_time": "2021-07-03T10:11:10.087Z"
   },
   {
    "duration": 8,
    "start_time": "2021-07-03T10:12:02.724Z"
   },
   {
    "duration": 6,
    "start_time": "2021-07-03T10:12:24.762Z"
   },
   {
    "duration": 75,
    "start_time": "2021-07-03T10:12:58.539Z"
   },
   {
    "duration": 314,
    "start_time": "2021-07-03T10:15:34.275Z"
   },
   {
    "duration": 15,
    "start_time": "2021-07-03T10:15:44.902Z"
   },
   {
    "duration": 14,
    "start_time": "2021-07-03T10:15:56.359Z"
   },
   {
    "duration": 11,
    "start_time": "2021-07-03T10:16:02.358Z"
   },
   {
    "duration": 12,
    "start_time": "2021-07-03T10:16:08.690Z"
   },
   {
    "duration": 44,
    "start_time": "2021-07-03T10:18:25.416Z"
   },
   {
    "duration": 10,
    "start_time": "2021-07-03T11:03:51.033Z"
   },
   {
    "duration": 4,
    "start_time": "2021-07-03T11:07:48.986Z"
   },
   {
    "duration": 17,
    "start_time": "2021-07-03T11:59:46.234Z"
   },
   {
    "duration": 6170,
    "start_time": "2021-07-03T12:04:50.074Z"
   },
   {
    "duration": 25,
    "start_time": "2021-07-03T12:04:56.221Z"
   },
   {
    "duration": 12,
    "start_time": "2021-07-03T12:10:09.592Z"
   },
   {
    "duration": 9,
    "start_time": "2021-07-03T12:10:13.509Z"
   },
   {
    "duration": 22,
    "start_time": "2021-07-03T12:48:46.557Z"
   },
   {
    "duration": 32,
    "start_time": "2021-07-03T12:53:20.197Z"
   },
   {
    "duration": 22,
    "start_time": "2021-07-03T12:53:35.124Z"
   },
   {
    "duration": 989,
    "start_time": "2021-07-03T12:54:01.273Z"
   },
   {
    "duration": 363,
    "start_time": "2021-07-03T12:54:02.263Z"
   },
   {
    "duration": 21,
    "start_time": "2021-07-03T12:54:02.627Z"
   },
   {
    "duration": 35,
    "start_time": "2021-07-03T12:54:02.650Z"
   },
   {
    "duration": 20,
    "start_time": "2021-07-03T12:54:02.687Z"
   },
   {
    "duration": 33,
    "start_time": "2021-07-03T12:54:02.709Z"
   },
   {
    "duration": 10,
    "start_time": "2021-07-03T12:54:02.743Z"
   },
   {
    "duration": 94,
    "start_time": "2021-07-03T12:54:02.756Z"
   },
   {
    "duration": 55,
    "start_time": "2021-07-03T12:54:02.851Z"
   },
   {
    "duration": 30,
    "start_time": "2021-07-03T12:54:02.907Z"
   },
   {
    "duration": 11,
    "start_time": "2021-07-03T12:54:02.939Z"
   },
   {
    "duration": 18,
    "start_time": "2021-07-03T12:54:02.952Z"
   },
   {
    "duration": 10,
    "start_time": "2021-07-03T12:54:02.991Z"
   },
   {
    "duration": 33,
    "start_time": "2021-07-03T12:54:03.002Z"
   },
   {
    "duration": 25,
    "start_time": "2021-07-03T12:54:03.036Z"
   },
   {
    "duration": 20,
    "start_time": "2021-07-03T12:54:59.608Z"
   },
   {
    "duration": 20,
    "start_time": "2021-07-03T12:55:30.189Z"
   },
   {
    "duration": 288,
    "start_time": "2021-07-03T12:56:26.766Z"
   },
   {
    "duration": 245,
    "start_time": "2021-07-03T12:56:49.734Z"
   },
   {
    "duration": 218,
    "start_time": "2021-07-03T12:57:35.631Z"
   },
   {
    "duration": 226,
    "start_time": "2021-07-03T12:57:57.406Z"
   },
   {
    "duration": 225,
    "start_time": "2021-07-03T12:58:10.874Z"
   },
   {
    "duration": 5,
    "start_time": "2021-07-03T12:59:51.724Z"
   },
   {
    "duration": 5,
    "start_time": "2021-07-03T13:00:01.713Z"
   },
   {
    "duration": 5,
    "start_time": "2021-07-03T13:00:13.091Z"
   },
   {
    "duration": 5,
    "start_time": "2021-07-03T13:00:17.021Z"
   },
   {
    "duration": 5,
    "start_time": "2021-07-03T13:00:29.388Z"
   },
   {
    "duration": 5,
    "start_time": "2021-07-03T13:00:43.524Z"
   },
   {
    "duration": 5,
    "start_time": "2021-07-03T13:00:47.966Z"
   },
   {
    "duration": 6,
    "start_time": "2021-07-03T13:00:58.319Z"
   },
   {
    "duration": 20,
    "start_time": "2021-07-03T13:01:23.980Z"
   },
   {
    "duration": 249,
    "start_time": "2021-07-03T13:02:32.178Z"
   },
   {
    "duration": 4,
    "start_time": "2021-07-03T13:02:38.526Z"
   },
   {
    "duration": 12,
    "start_time": "2021-07-03T13:03:37.120Z"
   },
   {
    "duration": 9,
    "start_time": "2021-07-03T13:03:39.037Z"
   },
   {
    "duration": 18,
    "start_time": "2021-07-03T14:05:55.935Z"
   },
   {
    "duration": 11,
    "start_time": "2021-07-03T14:06:06.393Z"
   },
   {
    "duration": 11,
    "start_time": "2021-07-03T14:07:51.649Z"
   },
   {
    "duration": 13,
    "start_time": "2021-07-03T14:07:55.326Z"
   },
   {
    "duration": 9,
    "start_time": "2021-07-03T14:07:57.129Z"
   },
   {
    "duration": 5511,
    "start_time": "2021-07-03T14:10:14.513Z"
   },
   {
    "duration": 235,
    "start_time": "2021-07-03T14:10:19.790Z"
   },
   {
    "duration": 14,
    "start_time": "2021-07-03T14:10:39.574Z"
   },
   {
    "duration": 13,
    "start_time": "2021-07-03T14:10:51.918Z"
   },
   {
    "duration": 9,
    "start_time": "2021-07-03T14:11:06.563Z"
   },
   {
    "duration": 14,
    "start_time": "2021-07-03T14:11:11.798Z"
   },
   {
    "duration": 9,
    "start_time": "2021-07-03T14:11:13.986Z"
   },
   {
    "duration": 8,
    "start_time": "2021-07-03T14:11:58.651Z"
   },
   {
    "duration": 12,
    "start_time": "2021-07-03T14:12:01.416Z"
   },
   {
    "duration": 9,
    "start_time": "2021-07-03T14:12:05.872Z"
   },
   {
    "duration": 32,
    "start_time": "2021-07-03T14:19:34.979Z"
   },
   {
    "duration": 909,
    "start_time": "2021-07-03T14:20:27.147Z"
   },
   {
    "duration": 354,
    "start_time": "2021-07-03T14:20:28.058Z"
   },
   {
    "duration": 22,
    "start_time": "2021-07-03T14:20:28.414Z"
   },
   {
    "duration": 37,
    "start_time": "2021-07-03T14:20:28.437Z"
   },
   {
    "duration": 30,
    "start_time": "2021-07-03T14:20:28.475Z"
   },
   {
    "duration": 33,
    "start_time": "2021-07-03T14:20:28.506Z"
   },
   {
    "duration": 9,
    "start_time": "2021-07-03T14:20:28.540Z"
   },
   {
    "duration": 88,
    "start_time": "2021-07-03T14:20:28.551Z"
   },
   {
    "duration": 50,
    "start_time": "2021-07-03T14:20:28.641Z"
   },
   {
    "duration": 6079,
    "start_time": "2021-07-03T14:20:28.693Z"
   },
   {
    "duration": 246,
    "start_time": "2021-07-03T14:20:34.528Z"
   },
   {
    "duration": 242,
    "start_time": "2021-07-03T14:20:34.533Z"
   },
   {
    "duration": 238,
    "start_time": "2021-07-03T14:20:34.537Z"
   },
   {
    "duration": 235,
    "start_time": "2021-07-03T14:20:34.541Z"
   },
   {
    "duration": 16,
    "start_time": "2021-07-03T14:20:56.891Z"
   },
   {
    "duration": 13,
    "start_time": "2021-07-03T14:20:59.826Z"
   },
   {
    "duration": 20,
    "start_time": "2021-07-03T14:21:01.918Z"
   },
   {
    "duration": 32,
    "start_time": "2021-07-03T14:21:05.561Z"
   },
   {
    "duration": 16,
    "start_time": "2021-07-03T14:23:37.881Z"
   },
   {
    "duration": 23,
    "start_time": "2021-07-03T14:23:48.889Z"
   },
   {
    "duration": 25,
    "start_time": "2021-07-03T14:24:08.195Z"
   },
   {
    "duration": 23,
    "start_time": "2021-07-03T14:24:19.053Z"
   },
   {
    "duration": 29,
    "start_time": "2021-07-03T14:25:19.563Z"
   },
   {
    "duration": 14,
    "start_time": "2021-07-03T14:28:17.953Z"
   },
   {
    "duration": 241,
    "start_time": "2021-07-03T14:28:35.863Z"
   },
   {
    "duration": 229,
    "start_time": "2021-07-03T14:29:47.703Z"
   },
   {
    "duration": 9,
    "start_time": "2021-07-03T14:30:00.241Z"
   },
   {
    "duration": 909,
    "start_time": "2021-07-03T14:37:45.911Z"
   },
   {
    "duration": 9,
    "start_time": "2021-07-03T14:38:02.668Z"
   },
   {
    "duration": 10,
    "start_time": "2021-07-03T14:41:15.061Z"
   },
   {
    "duration": 5855,
    "start_time": "2021-07-03T14:41:54.806Z"
   },
   {
    "duration": 921,
    "start_time": "2021-07-03T14:42:18.643Z"
   },
   {
    "duration": 363,
    "start_time": "2021-07-03T14:42:19.566Z"
   },
   {
    "duration": 23,
    "start_time": "2021-07-03T14:42:19.931Z"
   },
   {
    "duration": 37,
    "start_time": "2021-07-03T14:42:19.955Z"
   },
   {
    "duration": 18,
    "start_time": "2021-07-03T14:42:19.993Z"
   },
   {
    "duration": 32,
    "start_time": "2021-07-03T14:42:20.012Z"
   },
   {
    "duration": 8,
    "start_time": "2021-07-03T14:42:20.046Z"
   },
   {
    "duration": 98,
    "start_time": "2021-07-03T14:42:20.056Z"
   },
   {
    "duration": 50,
    "start_time": "2021-07-03T14:42:20.156Z"
   },
   {
    "duration": 20,
    "start_time": "2021-07-03T14:42:20.207Z"
   },
   {
    "duration": 10,
    "start_time": "2021-07-03T14:42:20.229Z"
   },
   {
    "duration": 19,
    "start_time": "2021-07-03T14:42:20.240Z"
   },
   {
    "duration": 286,
    "start_time": "2021-07-03T14:42:20.260Z"
   },
   {
    "duration": 293,
    "start_time": "2021-07-03T14:42:20.255Z"
   },
   {
    "duration": 291,
    "start_time": "2021-07-03T14:42:20.258Z"
   },
   {
    "duration": 289,
    "start_time": "2021-07-03T14:42:20.261Z"
   },
   {
    "duration": 9,
    "start_time": "2021-07-03T14:46:39.339Z"
   },
   {
    "duration": 256,
    "start_time": "2021-07-03T14:50:44.432Z"
   },
   {
    "duration": 39,
    "start_time": "2021-07-03T14:50:59.981Z"
   },
   {
    "duration": 38,
    "start_time": "2021-07-03T14:51:51.305Z"
   },
   {
    "duration": 28,
    "start_time": "2021-07-03T14:55:25.396Z"
   },
   {
    "duration": 214,
    "start_time": "2021-07-03T15:00:16.100Z"
   },
   {
    "duration": 11,
    "start_time": "2021-07-03T15:00:26.515Z"
   },
   {
    "duration": 31,
    "start_time": "2021-07-03T15:00:31.691Z"
   },
   {
    "duration": 221,
    "start_time": "2021-07-03T15:04:43.477Z"
   },
   {
    "duration": 15,
    "start_time": "2021-07-03T15:04:50.524Z"
   },
   {
    "duration": 14,
    "start_time": "2021-07-03T15:04:52.960Z"
   },
   {
    "duration": 13,
    "start_time": "2021-07-03T15:05:13.232Z"
   },
   {
    "duration": 13,
    "start_time": "2021-07-03T15:06:06.152Z"
   },
   {
    "duration": 227,
    "start_time": "2021-07-03T15:06:21.922Z"
   },
   {
    "duration": 5,
    "start_time": "2021-07-03T15:06:48.884Z"
   },
   {
    "duration": 708,
    "start_time": "2021-07-03T15:09:44.850Z"
   },
   {
    "duration": 922,
    "start_time": "2021-07-03T15:09:50.646Z"
   },
   {
    "duration": 370,
    "start_time": "2021-07-03T15:09:51.570Z"
   },
   {
    "duration": 20,
    "start_time": "2021-07-03T15:09:51.945Z"
   },
   {
    "duration": 49,
    "start_time": "2021-07-03T15:09:51.967Z"
   },
   {
    "duration": 19,
    "start_time": "2021-07-03T15:09:52.017Z"
   },
   {
    "duration": 32,
    "start_time": "2021-07-03T15:09:52.037Z"
   },
   {
    "duration": 27,
    "start_time": "2021-07-03T15:09:52.071Z"
   },
   {
    "duration": 72,
    "start_time": "2021-07-03T15:09:52.099Z"
   },
   {
    "duration": 66,
    "start_time": "2021-07-03T15:09:52.173Z"
   },
   {
    "duration": 23,
    "start_time": "2021-07-03T15:09:52.241Z"
   },
   {
    "duration": 29,
    "start_time": "2021-07-03T15:09:52.266Z"
   },
   {
    "duration": 47,
    "start_time": "2021-07-03T15:09:52.297Z"
   },
   {
    "duration": 328,
    "start_time": "2021-07-03T15:09:52.345Z"
   },
   {
    "duration": 338,
    "start_time": "2021-07-03T15:09:52.337Z"
   },
   {
    "duration": 330,
    "start_time": "2021-07-03T15:09:52.346Z"
   },
   {
    "duration": 325,
    "start_time": "2021-07-03T15:09:52.352Z"
   },
   {
    "duration": 226,
    "start_time": "2021-07-03T15:10:03.068Z"
   },
   {
    "duration": 17,
    "start_time": "2021-07-03T15:10:10.548Z"
   },
   {
    "duration": 17,
    "start_time": "2021-07-03T15:10:13.750Z"
   },
   {
    "duration": 18,
    "start_time": "2021-07-03T15:10:18.021Z"
   },
   {
    "duration": 14,
    "start_time": "2021-07-03T15:10:29.950Z"
   },
   {
    "duration": 14,
    "start_time": "2021-07-03T15:10:37.676Z"
   },
   {
    "duration": 5,
    "start_time": "2021-07-03T15:10:53.079Z"
   },
   {
    "duration": 15,
    "start_time": "2021-07-03T15:10:55.027Z"
   },
   {
    "duration": 12,
    "start_time": "2021-07-03T15:15:09.095Z"
   },
   {
    "duration": 19,
    "start_time": "2021-07-03T15:15:24.288Z"
   },
   {
    "duration": 7,
    "start_time": "2021-07-03T15:17:13.551Z"
   },
   {
    "duration": 6,
    "start_time": "2021-07-03T15:19:36.576Z"
   },
   {
    "duration": 14,
    "start_time": "2021-07-03T15:19:41.697Z"
   },
   {
    "duration": 4,
    "start_time": "2021-07-03T15:27:41.220Z"
   },
   {
    "duration": 216,
    "start_time": "2021-07-03T15:27:43.766Z"
   },
   {
    "duration": 944,
    "start_time": "2021-07-03T15:31:00.837Z"
   },
   {
    "duration": 411,
    "start_time": "2021-07-03T15:31:01.783Z"
   },
   {
    "duration": 23,
    "start_time": "2021-07-03T15:31:02.197Z"
   },
   {
    "duration": 40,
    "start_time": "2021-07-03T15:31:02.221Z"
   },
   {
    "duration": 43,
    "start_time": "2021-07-03T15:31:02.262Z"
   },
   {
    "duration": 35,
    "start_time": "2021-07-03T15:31:02.306Z"
   },
   {
    "duration": 10,
    "start_time": "2021-07-03T15:31:02.342Z"
   },
   {
    "duration": 102,
    "start_time": "2021-07-03T15:31:02.354Z"
   },
   {
    "duration": 56,
    "start_time": "2021-07-03T15:31:02.458Z"
   },
   {
    "duration": 22,
    "start_time": "2021-07-03T15:31:02.516Z"
   },
   {
    "duration": 12,
    "start_time": "2021-07-03T15:31:02.539Z"
   },
   {
    "duration": 27,
    "start_time": "2021-07-03T15:31:02.553Z"
   },
   {
    "duration": 304,
    "start_time": "2021-07-03T15:31:02.582Z"
   },
   {
    "duration": 370,
    "start_time": "2021-07-03T15:31:02.518Z"
   },
   {
    "duration": 364,
    "start_time": "2021-07-03T15:31:02.525Z"
   },
   {
    "duration": 356,
    "start_time": "2021-07-03T15:31:02.533Z"
   },
   {
    "duration": 354,
    "start_time": "2021-07-03T15:31:02.536Z"
   },
   {
    "duration": 226,
    "start_time": "2021-07-03T15:31:09.228Z"
   },
   {
    "duration": 16,
    "start_time": "2021-07-03T15:31:13.086Z"
   },
   {
    "duration": 15,
    "start_time": "2021-07-03T15:31:16.227Z"
   },
   {
    "duration": 262,
    "start_time": "2021-07-03T15:31:18.534Z"
   },
   {
    "duration": 228,
    "start_time": "2021-07-03T15:31:54.273Z"
   },
   {
    "duration": 240,
    "start_time": "2021-07-03T15:35:57.585Z"
   },
   {
    "duration": 10,
    "start_time": "2021-07-03T15:36:19.629Z"
   },
   {
    "duration": 916,
    "start_time": "2021-07-03T15:36:27.244Z"
   },
   {
    "duration": 364,
    "start_time": "2021-07-03T15:36:28.162Z"
   },
   {
    "duration": 23,
    "start_time": "2021-07-03T15:36:28.528Z"
   },
   {
    "duration": 42,
    "start_time": "2021-07-03T15:36:28.553Z"
   },
   {
    "duration": 19,
    "start_time": "2021-07-03T15:36:28.597Z"
   },
   {
    "duration": 33,
    "start_time": "2021-07-03T15:36:28.618Z"
   },
   {
    "duration": 39,
    "start_time": "2021-07-03T15:36:28.652Z"
   },
   {
    "duration": 66,
    "start_time": "2021-07-03T15:36:28.694Z"
   },
   {
    "duration": 63,
    "start_time": "2021-07-03T15:36:28.762Z"
   },
   {
    "duration": 21,
    "start_time": "2021-07-03T15:36:28.827Z"
   },
   {
    "duration": 12,
    "start_time": "2021-07-03T15:36:28.850Z"
   },
   {
    "duration": 40,
    "start_time": "2021-07-03T15:36:28.863Z"
   },
   {
    "duration": 289,
    "start_time": "2021-07-03T15:36:28.905Z"
   },
   {
    "duration": 365,
    "start_time": "2021-07-03T15:36:28.831Z"
   },
   {
    "duration": 362,
    "start_time": "2021-07-03T15:36:28.835Z"
   },
   {
    "duration": 357,
    "start_time": "2021-07-03T15:36:28.842Z"
   },
   {
    "duration": 354,
    "start_time": "2021-07-03T15:36:28.846Z"
   },
   {
    "duration": 17,
    "start_time": "2021-07-03T15:36:34.393Z"
   },
   {
    "duration": 16,
    "start_time": "2021-07-03T15:36:36.640Z"
   },
   {
    "duration": 214,
    "start_time": "2021-07-03T15:36:39.058Z"
   },
   {
    "duration": 6,
    "start_time": "2021-07-03T15:36:54.942Z"
   },
   {
    "duration": 10,
    "start_time": "2021-07-03T15:36:58.437Z"
   },
   {
    "duration": 250,
    "start_time": "2021-07-03T15:37:46.195Z"
   },
   {
    "duration": 217,
    "start_time": "2021-07-03T15:37:50.980Z"
   },
   {
    "duration": 973,
    "start_time": "2021-07-03T15:37:54.584Z"
   },
   {
    "duration": 371,
    "start_time": "2021-07-03T15:37:55.558Z"
   },
   {
    "duration": 22,
    "start_time": "2021-07-03T15:37:55.930Z"
   },
   {
    "duration": 38,
    "start_time": "2021-07-03T15:37:55.953Z"
   },
   {
    "duration": 18,
    "start_time": "2021-07-03T15:37:55.992Z"
   },
   {
    "duration": 31,
    "start_time": "2021-07-03T15:37:56.011Z"
   },
   {
    "duration": 9,
    "start_time": "2021-07-03T15:37:56.044Z"
   },
   {
    "duration": 92,
    "start_time": "2021-07-03T15:37:56.055Z"
   },
   {
    "duration": 50,
    "start_time": "2021-07-03T15:37:56.149Z"
   },
   {
    "duration": 21,
    "start_time": "2021-07-03T15:37:56.201Z"
   },
   {
    "duration": 11,
    "start_time": "2021-07-03T15:37:56.223Z"
   },
   {
    "duration": 19,
    "start_time": "2021-07-03T15:37:56.235Z"
   },
   {
    "duration": 271,
    "start_time": "2021-07-03T15:37:56.256Z"
   },
   {
    "duration": 392,
    "start_time": "2021-07-03T15:37:56.137Z"
   },
   {
    "duration": 390,
    "start_time": "2021-07-03T15:37:56.140Z"
   },
   {
    "duration": 17,
    "start_time": "2021-07-03T15:38:03.490Z"
   },
   {
    "duration": 18,
    "start_time": "2021-07-03T15:38:06.462Z"
   },
   {
    "duration": 19,
    "start_time": "2021-07-03T16:19:46.978Z"
   },
   {
    "duration": 6,
    "start_time": "2021-07-03T16:20:26.325Z"
   },
   {
    "duration": 17,
    "start_time": "2021-07-03T16:20:35.801Z"
   },
   {
    "duration": 7,
    "start_time": "2021-07-03T16:20:48.678Z"
   },
   {
    "duration": 19,
    "start_time": "2021-07-03T16:21:00.067Z"
   },
   {
    "duration": 7,
    "start_time": "2021-07-03T16:21:15.755Z"
   },
   {
    "duration": 5371,
    "start_time": "2021-07-03T16:23:21.369Z"
   },
   {
    "duration": 435,
    "start_time": "2021-07-03T16:23:26.307Z"
   },
   {
    "duration": 17,
    "start_time": "2021-07-03T16:35:33.674Z"
   },
   {
    "duration": 5,
    "start_time": "2021-07-03T16:37:29.127Z"
   },
   {
    "duration": 9,
    "start_time": "2021-07-03T16:37:59.885Z"
   },
   {
    "duration": 16,
    "start_time": "2021-07-03T16:39:56.283Z"
   },
   {
    "duration": 4,
    "start_time": "2021-07-03T16:46:21.030Z"
   },
   {
    "duration": 222,
    "start_time": "2021-07-03T16:52:50.044Z"
   },
   {
    "duration": 7,
    "start_time": "2021-07-03T16:52:58.974Z"
   },
   {
    "duration": 7,
    "start_time": "2021-07-03T16:53:02.564Z"
   },
   {
    "duration": 16,
    "start_time": "2021-07-03T16:53:30.832Z"
   },
   {
    "duration": 17,
    "start_time": "2021-07-03T16:57:21.287Z"
   },
   {
    "duration": 215,
    "start_time": "2021-07-03T16:58:17.629Z"
   },
   {
    "duration": 4,
    "start_time": "2021-07-03T16:58:38.147Z"
   },
   {
    "duration": 276,
    "start_time": "2021-07-04T10:02:20.223Z"
   },
   {
    "duration": 930,
    "start_time": "2021-07-04T10:02:27.474Z"
   },
   {
    "duration": 397,
    "start_time": "2021-07-04T10:02:28.406Z"
   },
   {
    "duration": 22,
    "start_time": "2021-07-04T10:02:28.805Z"
   },
   {
    "duration": 278,
    "start_time": "2021-07-04T10:02:28.830Z"
   },
   {
    "duration": 2285,
    "start_time": "2021-07-04T10:02:26.825Z"
   },
   {
    "duration": 2280,
    "start_time": "2021-07-04T10:02:26.831Z"
   },
   {
    "duration": 2272,
    "start_time": "2021-07-04T10:02:26.840Z"
   },
   {
    "duration": 2269,
    "start_time": "2021-07-04T10:02:26.844Z"
   },
   {
    "duration": 2268,
    "start_time": "2021-07-04T10:02:26.846Z"
   },
   {
    "duration": 2267,
    "start_time": "2021-07-04T10:02:26.848Z"
   },
   {
    "duration": 2266,
    "start_time": "2021-07-04T10:02:26.850Z"
   },
   {
    "duration": 2265,
    "start_time": "2021-07-04T10:02:26.852Z"
   },
   {
    "duration": 2264,
    "start_time": "2021-07-04T10:02:26.854Z"
   },
   {
    "duration": 2262,
    "start_time": "2021-07-04T10:02:26.856Z"
   },
   {
    "duration": 2261,
    "start_time": "2021-07-04T10:02:26.858Z"
   },
   {
    "duration": 2259,
    "start_time": "2021-07-04T10:02:26.861Z"
   },
   {
    "duration": 2258,
    "start_time": "2021-07-04T10:02:26.863Z"
   },
   {
    "duration": 2257,
    "start_time": "2021-07-04T10:02:26.865Z"
   },
   {
    "duration": 2256,
    "start_time": "2021-07-04T10:02:26.867Z"
   },
   {
    "duration": 247,
    "start_time": "2021-07-04T10:03:00.616Z"
   },
   {
    "duration": 250,
    "start_time": "2021-07-04T10:03:25.771Z"
   },
   {
    "duration": 6,
    "start_time": "2021-07-04T10:03:36.201Z"
   },
   {
    "duration": 8,
    "start_time": "2021-07-04T10:03:48.344Z"
   },
   {
    "duration": 39,
    "start_time": "2021-07-04T10:05:15.792Z"
   },
   {
    "duration": 37,
    "start_time": "2021-07-04T10:10:28.730Z"
   },
   {
    "duration": 19,
    "start_time": "2021-07-04T10:10:41.771Z"
   },
   {
    "duration": 35,
    "start_time": "2021-07-04T10:10:56.676Z"
   },
   {
    "duration": 11,
    "start_time": "2021-07-04T10:11:34.990Z"
   },
   {
    "duration": 261,
    "start_time": "2021-07-04T10:32:13.650Z"
   },
   {
    "duration": 256,
    "start_time": "2021-07-04T10:32:19.862Z"
   },
   {
    "duration": 228,
    "start_time": "2021-07-04T10:32:24.890Z"
   },
   {
    "duration": 3,
    "start_time": "2021-07-04T10:32:29.773Z"
   },
   {
    "duration": 464,
    "start_time": "2021-07-04T10:32:29.778Z"
   },
   {
    "duration": 28,
    "start_time": "2021-07-04T10:32:30.244Z"
   },
   {
    "duration": 72,
    "start_time": "2021-07-04T10:32:30.274Z"
   },
   {
    "duration": 21,
    "start_time": "2021-07-04T10:32:30.348Z"
   },
   {
    "duration": 41,
    "start_time": "2021-07-04T10:32:30.370Z"
   },
   {
    "duration": 10,
    "start_time": "2021-07-04T10:32:30.441Z"
   },
   {
    "duration": 70,
    "start_time": "2021-07-04T10:32:30.453Z"
   },
   {
    "duration": 48,
    "start_time": "2021-07-04T10:32:30.525Z"
   },
   {
    "duration": 19,
    "start_time": "2021-07-04T10:32:30.575Z"
   },
   {
    "duration": 12,
    "start_time": "2021-07-04T10:32:30.595Z"
   },
   {
    "duration": 44,
    "start_time": "2021-07-04T10:32:30.608Z"
   },
   {
    "duration": 3,
    "start_time": "2021-07-04T10:32:30.653Z"
   },
   {
    "duration": 23,
    "start_time": "2021-07-04T10:32:30.657Z"
   },
   {
    "duration": 23,
    "start_time": "2021-07-04T10:32:30.681Z"
   },
   {
    "duration": 4,
    "start_time": "2021-07-04T10:32:30.705Z"
   },
   {
    "duration": 19,
    "start_time": "2021-07-04T10:32:30.710Z"
   },
   {
    "duration": 250,
    "start_time": "2021-07-04T10:32:30.731Z"
   },
   {
    "duration": 249,
    "start_time": "2021-07-04T10:32:47.919Z"
   },
   {
    "duration": 10,
    "start_time": "2021-07-04T10:33:33.581Z"
   },
   {
    "duration": 7,
    "start_time": "2021-07-04T10:33:51.454Z"
   },
   {
    "duration": 17,
    "start_time": "2021-07-04T10:34:00.184Z"
   },
   {
    "duration": 5,
    "start_time": "2021-07-04T10:35:16.439Z"
   },
   {
    "duration": 39,
    "start_time": "2021-07-04T10:36:12.950Z"
   },
   {
    "duration": 234,
    "start_time": "2021-07-04T12:12:31.697Z"
   },
   {
    "duration": 4,
    "start_time": "2021-07-04T12:13:29.226Z"
   },
   {
    "duration": 31,
    "start_time": "2021-07-04T12:13:46.691Z"
   },
   {
    "duration": 31,
    "start_time": "2021-07-04T12:14:12.094Z"
   },
   {
    "duration": 908,
    "start_time": "2021-07-04T12:14:28.292Z"
   },
   {
    "duration": 359,
    "start_time": "2021-07-04T12:14:29.202Z"
   },
   {
    "duration": 22,
    "start_time": "2021-07-04T12:14:29.563Z"
   },
   {
    "duration": 6,
    "start_time": "2021-07-04T12:14:29.587Z"
   },
   {
    "duration": 48,
    "start_time": "2021-07-04T12:14:29.594Z"
   },
   {
    "duration": 19,
    "start_time": "2021-07-04T12:14:29.644Z"
   },
   {
    "duration": 35,
    "start_time": "2021-07-04T12:14:29.664Z"
   },
   {
    "duration": 10,
    "start_time": "2021-07-04T12:14:29.701Z"
   },
   {
    "duration": 88,
    "start_time": "2021-07-04T12:14:29.713Z"
   },
   {
    "duration": 55,
    "start_time": "2021-07-04T12:14:29.802Z"
   },
   {
    "duration": 5813,
    "start_time": "2021-07-04T12:14:29.859Z"
   },
   {
    "duration": 76,
    "start_time": "2021-07-04T12:14:35.598Z"
   },
   {
    "duration": 73,
    "start_time": "2021-07-04T12:14:35.602Z"
   },
   {
    "duration": 71,
    "start_time": "2021-07-04T12:14:35.606Z"
   },
   {
    "duration": 69,
    "start_time": "2021-07-04T12:14:35.609Z"
   },
   {
    "duration": 67,
    "start_time": "2021-07-04T12:14:35.612Z"
   },
   {
    "duration": 67,
    "start_time": "2021-07-04T12:14:35.614Z"
   },
   {
    "duration": 65,
    "start_time": "2021-07-04T12:14:35.617Z"
   },
   {
    "duration": 63,
    "start_time": "2021-07-04T12:14:35.620Z"
   },
   {
    "duration": 5,
    "start_time": "2021-07-04T12:15:02.968Z"
   },
   {
    "duration": 38,
    "start_time": "2021-07-04T12:15:09.814Z"
   },
   {
    "duration": 42,
    "start_time": "2021-07-04T12:16:10.035Z"
   },
   {
    "duration": 83,
    "start_time": "2021-07-04T12:29:47.335Z"
   },
   {
    "duration": 22,
    "start_time": "2021-07-04T12:45:50.508Z"
   },
   {
    "duration": 21,
    "start_time": "2021-07-04T12:47:46.127Z"
   },
   {
    "duration": 84,
    "start_time": "2021-07-04T12:48:01.840Z"
   },
   {
    "duration": 87,
    "start_time": "2021-07-04T12:48:50.463Z"
   },
   {
    "duration": 992,
    "start_time": "2021-07-04T12:49:48.553Z"
   },
   {
    "duration": 933,
    "start_time": "2021-07-04T12:50:20.139Z"
   },
   {
    "duration": 281,
    "start_time": "2021-07-04T12:52:11.104Z"
   },
   {
    "duration": 1056,
    "start_time": "2021-07-04T12:53:09.132Z"
   },
   {
    "duration": 1022,
    "start_time": "2021-07-04T12:53:37.465Z"
   },
   {
    "duration": 1019,
    "start_time": "2021-07-04T12:55:31.506Z"
   },
   {
    "duration": 19,
    "start_time": "2021-07-04T12:56:37.249Z"
   },
   {
    "duration": 939,
    "start_time": "2021-07-04T12:56:56.907Z"
   },
   {
    "duration": 6484,
    "start_time": "2021-07-04T12:57:18.042Z"
   },
   {
    "duration": 16,
    "start_time": "2021-07-04T12:57:34.795Z"
   },
   {
    "duration": 81,
    "start_time": "2021-07-04T12:57:53.489Z"
   },
   {
    "duration": 25,
    "start_time": "2021-07-04T12:58:04.184Z"
   },
   {
    "duration": 256,
    "start_time": "2021-07-04T12:59:19.290Z"
   },
   {
    "duration": 23,
    "start_time": "2021-07-04T12:59:27.815Z"
   },
   {
    "duration": 17,
    "start_time": "2021-07-04T13:03:57.611Z"
   },
   {
    "duration": 4,
    "start_time": "2021-07-04T13:05:25.020Z"
   },
   {
    "duration": 16,
    "start_time": "2021-07-04T13:09:37.653Z"
   },
   {
    "duration": 240,
    "start_time": "2021-07-04T13:09:50.790Z"
   },
   {
    "duration": 11,
    "start_time": "2021-07-04T13:10:00.078Z"
   },
   {
    "duration": 16,
    "start_time": "2021-07-04T13:10:02.062Z"
   },
   {
    "duration": 4,
    "start_time": "2021-07-04T13:10:04.815Z"
   },
   {
    "duration": 32,
    "start_time": "2021-07-04T13:10:09.041Z"
   },
   {
    "duration": 42,
    "start_time": "2021-07-04T13:11:02.069Z"
   },
   {
    "duration": 5,
    "start_time": "2021-07-04T13:11:10.854Z"
   },
   {
    "duration": 17,
    "start_time": "2021-07-04T13:11:13.886Z"
   },
   {
    "duration": 280,
    "start_time": "2021-07-04T13:12:07.569Z"
   },
   {
    "duration": 5,
    "start_time": "2021-07-04T13:13:01.107Z"
   },
   {
    "duration": 6,
    "start_time": "2021-07-04T13:13:03.015Z"
   },
   {
    "duration": 42,
    "start_time": "2021-07-04T13:13:10.001Z"
   },
   {
    "duration": 272,
    "start_time": "2021-07-04T13:15:44.401Z"
   },
   {
    "duration": 80,
    "start_time": "2021-07-04T13:16:17.028Z"
   },
   {
    "duration": 6,
    "start_time": "2021-07-04T13:16:23.903Z"
   },
   {
    "duration": 6,
    "start_time": "2021-07-04T13:17:09.300Z"
   },
   {
    "duration": 41,
    "start_time": "2021-07-04T13:17:13.375Z"
   },
   {
    "duration": 7,
    "start_time": "2021-07-04T13:20:12.267Z"
   },
   {
    "duration": 421,
    "start_time": "2021-07-04T13:44:32.864Z"
   },
   {
    "duration": 407,
    "start_time": "2021-07-04T13:45:27.731Z"
   },
   {
    "duration": 433,
    "start_time": "2021-07-04T13:46:32.185Z"
   },
   {
    "duration": 423,
    "start_time": "2021-07-04T13:46:58.489Z"
   },
   {
    "duration": 394,
    "start_time": "2021-07-04T13:47:16.134Z"
   },
   {
    "duration": 421,
    "start_time": "2021-07-04T13:48:03.413Z"
   },
   {
    "duration": 412,
    "start_time": "2021-07-04T13:48:43.848Z"
   },
   {
    "duration": 416,
    "start_time": "2021-07-04T13:49:53.135Z"
   },
   {
    "duration": 3120,
    "start_time": "2021-07-04T13:50:02.278Z"
   },
   {
    "duration": 3779,
    "start_time": "2021-07-04T13:52:02.974Z"
   },
   {
    "duration": 403,
    "start_time": "2021-07-04T13:52:17.330Z"
   },
   {
    "duration": 16,
    "start_time": "2021-07-04T13:53:51.154Z"
   },
   {
    "duration": 31,
    "start_time": "2021-07-04T13:53:56.397Z"
   },
   {
    "duration": 463,
    "start_time": "2021-07-04T13:55:45.906Z"
   },
   {
    "duration": 22,
    "start_time": "2021-07-04T13:56:02.451Z"
   },
   {
    "duration": 246,
    "start_time": "2021-07-04T13:56:58.191Z"
   },
   {
    "duration": 19,
    "start_time": "2021-07-04T13:57:09.217Z"
   },
   {
    "duration": 30,
    "start_time": "2021-07-04T13:59:28.876Z"
   },
   {
    "duration": 276,
    "start_time": "2021-07-04T13:59:39.940Z"
   },
   {
    "duration": 240,
    "start_time": "2021-07-04T13:59:55.308Z"
   },
   {
    "duration": 270,
    "start_time": "2021-07-04T14:00:01.602Z"
   },
   {
    "duration": 7,
    "start_time": "2021-07-04T14:00:37.484Z"
   },
   {
    "duration": 66,
    "start_time": "2021-07-04T14:00:50.190Z"
   },
   {
    "duration": 19,
    "start_time": "2021-07-04T14:01:02.937Z"
   },
   {
    "duration": 1519,
    "start_time": "2021-07-04T14:08:11.354Z"
   },
   {
    "duration": 358,
    "start_time": "2021-07-04T14:08:12.875Z"
   },
   {
    "duration": 21,
    "start_time": "2021-07-04T14:08:13.235Z"
   },
   {
    "duration": 35,
    "start_time": "2021-07-04T14:08:13.257Z"
   },
   {
    "duration": 47,
    "start_time": "2021-07-04T14:08:13.294Z"
   },
   {
    "duration": 32,
    "start_time": "2021-07-04T14:08:13.342Z"
   },
   {
    "duration": 8,
    "start_time": "2021-07-04T14:08:13.376Z"
   },
   {
    "duration": 88,
    "start_time": "2021-07-04T14:08:13.386Z"
   },
   {
    "duration": 44,
    "start_time": "2021-07-04T14:08:13.476Z"
   },
   {
    "duration": 21,
    "start_time": "2021-07-04T14:08:13.521Z"
   },
   {
    "duration": 24,
    "start_time": "2021-07-04T14:08:13.543Z"
   },
   {
    "duration": 19,
    "start_time": "2021-07-04T14:08:13.568Z"
   },
   {
    "duration": 26,
    "start_time": "2021-07-04T14:08:13.588Z"
   },
   {
    "duration": 3,
    "start_time": "2021-07-04T14:08:13.616Z"
   },
   {
    "duration": 39,
    "start_time": "2021-07-04T14:08:13.621Z"
   },
   {
    "duration": 9,
    "start_time": "2021-07-04T14:08:13.661Z"
   },
   {
    "duration": 524,
    "start_time": "2021-07-04T14:08:13.671Z"
   },
   {
    "duration": 228,
    "start_time": "2021-07-04T14:08:13.969Z"
   },
   {
    "duration": 222,
    "start_time": "2021-07-04T14:08:13.976Z"
   },
   {
    "duration": 217,
    "start_time": "2021-07-04T14:08:13.982Z"
   },
   {
    "duration": 215,
    "start_time": "2021-07-04T14:08:13.985Z"
   },
   {
    "duration": 213,
    "start_time": "2021-07-04T14:08:13.988Z"
   },
   {
    "duration": 17,
    "start_time": "2021-07-04T14:08:47.722Z"
   },
   {
    "duration": 65,
    "start_time": "2021-07-04T14:10:00.235Z"
   },
   {
    "duration": 20,
    "start_time": "2021-07-04T14:10:07.174Z"
   },
   {
    "duration": 7,
    "start_time": "2021-07-04T14:16:32.756Z"
   },
   {
    "duration": 66,
    "start_time": "2021-07-04T14:34:13.369Z"
   },
   {
    "duration": 17,
    "start_time": "2021-07-04T14:35:25.253Z"
   },
   {
    "duration": 409,
    "start_time": "2021-07-04T14:45:29.340Z"
   },
   {
    "duration": 64,
    "start_time": "2021-07-04T14:45:48.388Z"
   },
   {
    "duration": 69,
    "start_time": "2021-07-04T14:45:53.558Z"
   },
   {
    "duration": 18,
    "start_time": "2021-07-04T14:48:36.635Z"
   },
   {
    "duration": 5762,
    "start_time": "2021-07-04T14:52:40.382Z"
   },
   {
    "duration": 291,
    "start_time": "2021-07-04T14:52:45.855Z"
   },
   {
    "duration": 7983,
    "start_time": "2021-07-04T14:52:50.109Z"
   },
   {
    "duration": 67,
    "start_time": "2021-07-04T14:53:19.008Z"
   },
   {
    "duration": 4,
    "start_time": "2021-07-04T14:53:23.528Z"
   },
   {
    "duration": 14,
    "start_time": "2021-07-04T14:54:20.576Z"
   },
   {
    "duration": 8,
    "start_time": "2021-07-04T14:55:16.376Z"
   },
   {
    "duration": 24,
    "start_time": "2021-07-04T14:56:58.300Z"
   },
   {
    "duration": 6,
    "start_time": "2021-07-04T15:04:22.338Z"
   },
   {
    "duration": 5,
    "start_time": "2021-07-04T15:04:31.367Z"
   },
   {
    "duration": 5,
    "start_time": "2021-07-04T15:04:54.130Z"
   },
   {
    "duration": 8,
    "start_time": "2021-07-04T15:07:45.019Z"
   },
   {
    "duration": 8,
    "start_time": "2021-07-04T15:08:06.198Z"
   },
   {
    "duration": 7,
    "start_time": "2021-07-04T15:14:35.146Z"
   },
   {
    "duration": 266,
    "start_time": "2021-07-04T15:16:31.350Z"
   },
   {
    "duration": 229,
    "start_time": "2021-07-04T15:17:41.954Z"
   },
   {
    "duration": 946,
    "start_time": "2021-07-04T15:17:54.474Z"
   },
   {
    "duration": 398,
    "start_time": "2021-07-04T15:17:55.422Z"
   },
   {
    "duration": 25,
    "start_time": "2021-07-04T15:17:55.823Z"
   },
   {
    "duration": 40,
    "start_time": "2021-07-04T15:17:55.850Z"
   },
   {
    "duration": 19,
    "start_time": "2021-07-04T15:17:55.891Z"
   },
   {
    "duration": 55,
    "start_time": "2021-07-04T15:17:55.912Z"
   },
   {
    "duration": 10,
    "start_time": "2021-07-04T15:17:55.968Z"
   },
   {
    "duration": 87,
    "start_time": "2021-07-04T15:17:55.980Z"
   },
   {
    "duration": 48,
    "start_time": "2021-07-04T15:17:56.070Z"
   },
   {
    "duration": 5,
    "start_time": "2021-07-04T15:17:56.120Z"
   },
   {
    "duration": 36,
    "start_time": "2021-07-04T15:17:56.126Z"
   },
   {
    "duration": 11,
    "start_time": "2021-07-04T15:17:56.164Z"
   },
   {
    "duration": 19,
    "start_time": "2021-07-04T15:17:56.176Z"
   },
   {
    "duration": 3,
    "start_time": "2021-07-04T15:17:56.197Z"
   },
   {
    "duration": 39,
    "start_time": "2021-07-04T15:17:56.202Z"
   },
   {
    "duration": 17,
    "start_time": "2021-07-04T15:17:56.242Z"
   },
   {
    "duration": 5,
    "start_time": "2021-07-04T15:17:56.260Z"
   },
   {
    "duration": 314,
    "start_time": "2021-07-04T15:17:56.267Z"
   },
   {
    "duration": 339,
    "start_time": "2021-07-04T15:17:56.244Z"
   },
   {
    "duration": 337,
    "start_time": "2021-07-04T15:17:56.248Z"
   },
   {
    "duration": 336,
    "start_time": "2021-07-04T15:17:56.250Z"
   },
   {
    "duration": 333,
    "start_time": "2021-07-04T15:17:56.254Z"
   },
   {
    "duration": 332,
    "start_time": "2021-07-04T15:17:56.256Z"
   },
   {
    "duration": 331,
    "start_time": "2021-07-04T15:17:56.259Z"
   },
   {
    "duration": 15,
    "start_time": "2021-07-04T15:19:43.983Z"
   },
   {
    "duration": 5,
    "start_time": "2021-07-04T15:19:51.813Z"
   },
   {
    "duration": 272,
    "start_time": "2021-07-04T15:19:58.631Z"
   },
   {
    "duration": 74,
    "start_time": "2021-07-04T15:20:27.290Z"
   },
   {
    "duration": 236,
    "start_time": "2021-07-04T15:20:56.633Z"
   },
   {
    "duration": 287,
    "start_time": "2021-07-04T15:21:14.307Z"
   },
   {
    "duration": 281,
    "start_time": "2021-07-04T15:21:35.001Z"
   },
   {
    "duration": 299,
    "start_time": "2021-07-04T15:21:59.698Z"
   },
   {
    "duration": 5774,
    "start_time": "2021-07-04T15:24:07.178Z"
   },
   {
    "duration": 110,
    "start_time": "2021-07-04T15:24:39.379Z"
   },
   {
    "duration": 116,
    "start_time": "2021-07-04T15:24:44.085Z"
   },
   {
    "duration": 5,
    "start_time": "2021-07-04T15:24:49.872Z"
   },
   {
    "duration": 250,
    "start_time": "2021-07-04T15:24:55.824Z"
   },
   {
    "duration": 11,
    "start_time": "2021-07-04T15:25:22.848Z"
   },
   {
    "duration": 29,
    "start_time": "2021-07-04T15:26:02.865Z"
   },
   {
    "duration": 10,
    "start_time": "2021-07-04T15:26:20.981Z"
   },
   {
    "duration": 10,
    "start_time": "2021-07-04T15:26:32.532Z"
   },
   {
    "duration": 62,
    "start_time": "2021-07-04T15:26:39.274Z"
   },
   {
    "duration": 4,
    "start_time": "2021-07-04T15:37:14.943Z"
   },
   {
    "duration": 4,
    "start_time": "2021-07-04T15:37:33.078Z"
   },
   {
    "duration": 7,
    "start_time": "2021-07-04T15:39:23.590Z"
   },
   {
    "duration": 6146,
    "start_time": "2021-07-04T15:39:41.431Z"
   },
   {
    "duration": 5608,
    "start_time": "2021-07-04T15:40:24.060Z"
   },
   {
    "duration": 12,
    "start_time": "2021-07-04T15:40:42.130Z"
   },
   {
    "duration": 20,
    "start_time": "2021-07-04T16:22:42.545Z"
   },
   {
    "duration": 270,
    "start_time": "2021-07-04T16:26:15.670Z"
   },
   {
    "duration": 264,
    "start_time": "2021-07-04T16:26:57.948Z"
   },
   {
    "duration": 219,
    "start_time": "2021-07-04T16:28:24.581Z"
   },
   {
    "duration": 210,
    "start_time": "2021-07-04T16:29:11.304Z"
   },
   {
    "duration": 35,
    "start_time": "2021-07-04T16:30:35.487Z"
   },
   {
    "duration": 35,
    "start_time": "2021-07-04T16:31:01.094Z"
   },
   {
    "duration": 10,
    "start_time": "2021-07-04T16:31:49.725Z"
   },
   {
    "duration": 17,
    "start_time": "2021-07-04T16:32:10.283Z"
   },
   {
    "duration": 24,
    "start_time": "2021-07-04T16:40:05.333Z"
   },
   {
    "duration": 23,
    "start_time": "2021-07-04T16:40:19.038Z"
   },
   {
    "duration": 166,
    "start_time": "2021-07-04T16:40:25.284Z"
   },
   {
    "duration": 3294,
    "start_time": "2021-07-04T16:42:25.575Z"
   },
   {
    "duration": 1803,
    "start_time": "2021-07-04T16:42:45.795Z"
   },
   {
    "duration": 1882,
    "start_time": "2021-07-04T16:42:55.077Z"
   },
   {
    "duration": 1875,
    "start_time": "2021-07-04T16:43:04.110Z"
   },
   {
    "duration": 16,
    "start_time": "2021-07-04T16:43:26.623Z"
   },
   {
    "duration": 22,
    "start_time": "2021-07-04T16:44:21.544Z"
   },
   {
    "duration": 17,
    "start_time": "2021-07-04T16:44:59.272Z"
   },
   {
    "duration": 1661,
    "start_time": "2021-07-04T16:45:13.174Z"
   },
   {
    "duration": 1604,
    "start_time": "2021-07-04T16:45:22.791Z"
   },
   {
    "duration": 1083,
    "start_time": "2021-07-04T16:45:29.105Z"
   },
   {
    "duration": 1280,
    "start_time": "2021-07-04T16:45:38.341Z"
   },
   {
    "duration": 645,
    "start_time": "2021-07-04T16:45:48.491Z"
   },
   {
    "duration": 314,
    "start_time": "2021-07-04T16:45:57.952Z"
   },
   {
    "duration": 313,
    "start_time": "2021-07-04T16:46:06.517Z"
   },
   {
    "duration": 1382,
    "start_time": "2021-07-04T16:46:15.873Z"
   },
   {
    "duration": 625,
    "start_time": "2021-07-04T16:46:20.999Z"
   },
   {
    "duration": 286,
    "start_time": "2021-07-04T16:47:56.794Z"
   },
   {
    "duration": 304,
    "start_time": "2021-07-04T16:48:56.271Z"
   },
   {
    "duration": 309,
    "start_time": "2021-07-04T16:49:09.886Z"
   },
   {
    "duration": 272,
    "start_time": "2021-07-04T16:49:14.335Z"
   },
   {
    "duration": 264,
    "start_time": "2021-07-04T16:49:27.658Z"
   },
   {
    "duration": 196,
    "start_time": "2021-07-04T16:49:35.159Z"
   },
   {
    "duration": 192,
    "start_time": "2021-07-04T16:49:45.832Z"
   },
   {
    "duration": 183,
    "start_time": "2021-07-04T16:50:03.093Z"
   },
   {
    "duration": 213,
    "start_time": "2021-07-04T16:50:09.517Z"
   },
   {
    "duration": 188,
    "start_time": "2021-07-04T16:51:40.873Z"
   },
   {
    "duration": 198,
    "start_time": "2021-07-04T16:51:54.239Z"
   },
   {
    "duration": 192,
    "start_time": "2021-07-04T16:52:05.127Z"
   },
   {
    "duration": 184,
    "start_time": "2021-07-04T16:52:59.992Z"
   },
   {
    "duration": 1411,
    "start_time": "2021-07-05T07:43:03.949Z"
   },
   {
    "duration": 576,
    "start_time": "2021-07-05T07:43:05.363Z"
   },
   {
    "duration": 35,
    "start_time": "2021-07-05T07:43:05.942Z"
   },
   {
    "duration": 55,
    "start_time": "2021-07-05T07:43:05.985Z"
   },
   {
    "duration": 52,
    "start_time": "2021-07-05T07:43:06.042Z"
   },
   {
    "duration": 51,
    "start_time": "2021-07-05T07:43:06.097Z"
   },
   {
    "duration": 43,
    "start_time": "2021-07-05T07:43:06.150Z"
   },
   {
    "duration": 116,
    "start_time": "2021-07-05T07:43:06.196Z"
   },
   {
    "duration": 82,
    "start_time": "2021-07-05T07:43:06.316Z"
   },
   {
    "duration": 6,
    "start_time": "2021-07-05T07:43:06.401Z"
   },
   {
    "duration": 34,
    "start_time": "2021-07-05T07:43:06.410Z"
   },
   {
    "duration": 40,
    "start_time": "2021-07-05T07:43:06.447Z"
   },
   {
    "duration": 29,
    "start_time": "2021-07-05T07:43:06.490Z"
   },
   {
    "duration": 5,
    "start_time": "2021-07-05T07:43:06.521Z"
   },
   {
    "duration": 35,
    "start_time": "2021-07-05T07:43:06.528Z"
   },
   {
    "duration": 41,
    "start_time": "2021-07-05T07:43:06.566Z"
   },
   {
    "duration": 8,
    "start_time": "2021-07-05T07:43:06.609Z"
   },
   {
    "duration": 143,
    "start_time": "2021-07-05T07:43:06.619Z"
   },
   {
    "duration": 120,
    "start_time": "2021-07-05T07:43:06.765Z"
   },
   {
    "duration": 122,
    "start_time": "2021-07-05T07:43:06.888Z"
   },
   {
    "duration": 6,
    "start_time": "2021-07-05T07:43:07.012Z"
   },
   {
    "duration": 15,
    "start_time": "2021-07-05T07:43:07.020Z"
   },
   {
    "duration": 109,
    "start_time": "2021-07-05T07:43:07.037Z"
   },
   {
    "duration": 53,
    "start_time": "2021-07-05T07:43:07.149Z"
   },
   {
    "duration": 347,
    "start_time": "2021-07-05T07:43:07.205Z"
   },
   {
    "duration": 369,
    "start_time": "2021-07-05T07:43:07.556Z"
   },
   {
    "duration": 379,
    "start_time": "2021-07-05T07:43:07.929Z"
   },
   {
    "duration": 26,
    "start_time": "2021-07-05T07:43:08.312Z"
   },
   {
    "duration": 96,
    "start_time": "2021-07-05T07:43:08.341Z"
   },
   {
    "duration": 20,
    "start_time": "2021-07-05T08:03:04.938Z"
   },
   {
    "duration": 12,
    "start_time": "2021-07-05T08:03:30.823Z"
   },
   {
    "duration": 13,
    "start_time": "2021-07-05T08:03:40.843Z"
   },
   {
    "duration": 29,
    "start_time": "2021-07-05T08:03:45.880Z"
   },
   {
    "duration": 40,
    "start_time": "2021-07-05T08:10:36.428Z"
   },
   {
    "duration": 4,
    "start_time": "2021-07-05T08:11:10.529Z"
   },
   {
    "duration": 568,
    "start_time": "2021-07-05T08:11:10.536Z"
   },
   {
    "duration": 29,
    "start_time": "2021-07-05T08:11:11.107Z"
   },
   {
    "duration": 73,
    "start_time": "2021-07-05T08:11:11.139Z"
   },
   {
    "duration": 29,
    "start_time": "2021-07-05T08:11:11.214Z"
   },
   {
    "duration": 75,
    "start_time": "2021-07-05T08:11:11.246Z"
   },
   {
    "duration": 17,
    "start_time": "2021-07-05T08:11:11.325Z"
   },
   {
    "duration": 123,
    "start_time": "2021-07-05T08:11:11.345Z"
   },
   {
    "duration": 74,
    "start_time": "2021-07-05T08:11:11.471Z"
   },
   {
    "duration": 43,
    "start_time": "2021-07-05T08:11:11.547Z"
   },
   {
    "duration": 35,
    "start_time": "2021-07-05T08:11:11.593Z"
   },
   {
    "duration": 20,
    "start_time": "2021-07-05T08:11:11.631Z"
   },
   {
    "duration": 44,
    "start_time": "2021-07-05T08:11:11.654Z"
   },
   {
    "duration": 5,
    "start_time": "2021-07-05T08:11:11.700Z"
   },
   {
    "duration": 36,
    "start_time": "2021-07-05T08:11:11.708Z"
   },
   {
    "duration": 57,
    "start_time": "2021-07-05T08:11:11.747Z"
   },
   {
    "duration": 7,
    "start_time": "2021-07-05T08:11:11.807Z"
   },
   {
    "duration": 143,
    "start_time": "2021-07-05T08:11:11.816Z"
   },
   {
    "duration": 126,
    "start_time": "2021-07-05T08:11:11.964Z"
   },
   {
    "duration": 129,
    "start_time": "2021-07-05T08:11:12.092Z"
   },
   {
    "duration": 5,
    "start_time": "2021-07-05T08:11:12.223Z"
   },
   {
    "duration": 17,
    "start_time": "2021-07-05T08:11:12.230Z"
   },
   {
    "duration": 106,
    "start_time": "2021-07-05T08:11:12.250Z"
   },
   {
    "duration": 48,
    "start_time": "2021-07-05T08:11:12.358Z"
   },
   {
    "duration": 349,
    "start_time": "2021-07-05T08:11:12.408Z"
   },
   {
    "duration": 358,
    "start_time": "2021-07-05T08:11:12.759Z"
   },
   {
    "duration": 383,
    "start_time": "2021-07-05T08:11:13.120Z"
   },
   {
    "duration": 22,
    "start_time": "2021-07-05T08:11:13.506Z"
   },
   {
    "duration": 85,
    "start_time": "2021-07-05T08:11:13.530Z"
   },
   {
    "duration": 94,
    "start_time": "2021-07-05T08:11:48.398Z"
   },
   {
    "duration": 188,
    "start_time": "2021-07-05T08:20:11.385Z"
   },
   {
    "duration": 10,
    "start_time": "2021-07-05T08:32:12.540Z"
   },
   {
    "duration": 97,
    "start_time": "2021-07-05T08:32:17.611Z"
   },
   {
    "duration": 23,
    "start_time": "2021-07-05T08:43:31.512Z"
   },
   {
    "duration": 24,
    "start_time": "2021-07-05T08:44:47.457Z"
   },
   {
    "duration": 29,
    "start_time": "2021-07-05T08:45:43.369Z"
   },
   {
    "duration": 497,
    "start_time": "2021-07-05T08:52:51.858Z"
   },
   {
    "duration": 607,
    "start_time": "2021-07-05T08:53:38.567Z"
   },
   {
    "duration": 358,
    "start_time": "2021-07-05T08:54:24.055Z"
   },
   {
    "duration": 42,
    "start_time": "2021-07-05T08:54:43.054Z"
   },
   {
    "duration": 44,
    "start_time": "2021-07-05T08:55:53.095Z"
   },
   {
    "duration": 471,
    "start_time": "2021-07-05T08:58:53.297Z"
   },
   {
    "duration": 480,
    "start_time": "2021-07-05T08:59:11.978Z"
   },
   {
    "duration": 110,
    "start_time": "2021-07-05T09:00:57.826Z"
   },
   {
    "duration": 102,
    "start_time": "2021-07-05T09:01:06.962Z"
   },
   {
    "duration": 101,
    "start_time": "2021-07-05T09:01:24.678Z"
   },
   {
    "duration": 107,
    "start_time": "2021-07-05T09:01:36.457Z"
   },
   {
    "duration": 109,
    "start_time": "2021-07-05T09:01:48.027Z"
   },
   {
    "duration": 111,
    "start_time": "2021-07-05T09:02:06.726Z"
   },
   {
    "duration": 299,
    "start_time": "2021-07-05T09:02:13.093Z"
   },
   {
    "duration": 131,
    "start_time": "2021-07-05T09:02:19.331Z"
   },
   {
    "duration": 468,
    "start_time": "2021-07-05T09:02:33.760Z"
   },
   {
    "duration": 474,
    "start_time": "2021-07-05T09:02:59.715Z"
   },
   {
    "duration": 470,
    "start_time": "2021-07-05T09:03:56.581Z"
   },
   {
    "duration": 3,
    "start_time": "2021-07-05T09:04:03.626Z"
   },
   {
    "duration": 447,
    "start_time": "2021-07-05T09:04:17.124Z"
   },
   {
    "duration": 835,
    "start_time": "2021-07-05T09:08:27.534Z"
   },
   {
    "duration": 469,
    "start_time": "2021-07-05T09:10:43.220Z"
   },
   {
    "duration": 26,
    "start_time": "2021-07-05T09:10:51.577Z"
   },
   {
    "duration": 8046,
    "start_time": "2021-07-05T09:12:45.893Z"
   },
   {
    "duration": 8261,
    "start_time": "2021-07-05T09:13:21.995Z"
   },
   {
    "duration": 25,
    "start_time": "2021-07-05T09:14:00.244Z"
   },
   {
    "duration": 11,
    "start_time": "2021-07-05T09:14:45.882Z"
   },
   {
    "duration": 12,
    "start_time": "2021-07-05T09:15:31.442Z"
   },
   {
    "duration": 341,
    "start_time": "2021-07-05T09:16:43.618Z"
   },
   {
    "duration": 305,
    "start_time": "2021-07-05T09:16:51.589Z"
   },
   {
    "duration": 9,
    "start_time": "2021-07-05T09:16:59.716Z"
   },
   {
    "duration": 10,
    "start_time": "2021-07-05T09:17:13.459Z"
   },
   {
    "duration": 12,
    "start_time": "2021-07-05T09:17:41.275Z"
   },
   {
    "duration": 44,
    "start_time": "2021-07-05T09:19:11.485Z"
   },
   {
    "duration": 761,
    "start_time": "2021-07-05T09:21:14.000Z"
   },
   {
    "duration": 972,
    "start_time": "2021-07-05T09:21:43.815Z"
   },
   {
    "duration": 895,
    "start_time": "2021-07-05T09:22:29.400Z"
   },
   {
    "duration": 984,
    "start_time": "2021-07-05T09:22:43.745Z"
   },
   {
    "duration": 1330,
    "start_time": "2021-07-05T09:23:33.040Z"
   },
   {
    "duration": 1124,
    "start_time": "2021-07-05T09:23:57.447Z"
   },
   {
    "duration": 1189,
    "start_time": "2021-07-05T09:24:06.599Z"
   },
   {
    "duration": 1305,
    "start_time": "2021-07-05T09:24:25.202Z"
   },
   {
    "duration": 1279,
    "start_time": "2021-07-05T09:24:35.674Z"
   },
   {
    "duration": 1583,
    "start_time": "2021-07-05T09:24:56.265Z"
   },
   {
    "duration": 1034,
    "start_time": "2021-07-05T09:25:05.769Z"
   },
   {
    "duration": 876,
    "start_time": "2021-07-05T09:25:14.472Z"
   },
   {
    "duration": 1079,
    "start_time": "2021-07-05T09:25:31.633Z"
   },
   {
    "duration": 897,
    "start_time": "2021-07-05T09:25:39.777Z"
   },
   {
    "duration": 988,
    "start_time": "2021-07-05T09:26:12.355Z"
   },
   {
    "duration": 1980,
    "start_time": "2021-07-06T10:11:11.215Z"
   },
   {
    "duration": 837,
    "start_time": "2021-07-06T10:11:13.199Z"
   },
   {
    "duration": 59,
    "start_time": "2021-07-06T10:11:14.041Z"
   },
   {
    "duration": 110,
    "start_time": "2021-07-06T10:11:14.104Z"
   },
   {
    "duration": 29,
    "start_time": "2021-07-06T10:11:14.217Z"
   },
   {
    "duration": 92,
    "start_time": "2021-07-06T10:11:14.249Z"
   },
   {
    "duration": 42,
    "start_time": "2021-07-06T10:11:14.344Z"
   },
   {
    "duration": 149,
    "start_time": "2021-07-06T10:11:14.391Z"
   },
   {
    "duration": 77,
    "start_time": "2021-07-06T10:11:14.544Z"
   },
   {
    "duration": 30,
    "start_time": "2021-07-06T10:11:14.624Z"
   },
   {
    "duration": 45,
    "start_time": "2021-07-06T10:11:14.657Z"
   },
   {
    "duration": 16,
    "start_time": "2021-07-06T10:11:14.705Z"
   },
   {
    "duration": 58,
    "start_time": "2021-07-06T10:11:14.724Z"
   },
   {
    "duration": 6,
    "start_time": "2021-07-06T10:11:14.785Z"
   },
   {
    "duration": 32,
    "start_time": "2021-07-06T10:11:14.794Z"
   },
   {
    "duration": 60,
    "start_time": "2021-07-06T10:11:14.829Z"
   },
   {
    "duration": 8,
    "start_time": "2021-07-06T10:11:14.891Z"
   },
   {
    "duration": 197,
    "start_time": "2021-07-06T10:11:14.902Z"
   },
   {
    "duration": 193,
    "start_time": "2021-07-06T10:11:15.102Z"
   },
   {
    "duration": 199,
    "start_time": "2021-07-06T10:11:15.298Z"
   },
   {
    "duration": 7,
    "start_time": "2021-07-06T10:11:15.500Z"
   },
   {
    "duration": 200,
    "start_time": "2021-07-06T10:11:15.510Z"
   },
   {
    "duration": 17,
    "start_time": "2021-07-06T10:11:15.716Z"
   },
   {
    "duration": 161,
    "start_time": "2021-07-06T10:11:15.736Z"
   },
   {
    "duration": 32,
    "start_time": "2021-07-06T10:11:15.900Z"
   },
   {
    "duration": 1005,
    "start_time": "2021-07-06T10:11:15.935Z"
   },
   {
    "duration": 28,
    "start_time": "2021-07-06T10:11:16.943Z"
   },
   {
    "duration": 398,
    "start_time": "2021-07-06T10:11:16.977Z"
   },
   {
    "duration": 25,
    "start_time": "2021-07-06T10:11:17.378Z"
   },
   {
    "duration": 96,
    "start_time": "2021-07-06T10:11:17.406Z"
   },
   {
    "duration": 996,
    "start_time": "2021-07-06T10:13:07.782Z"
   },
   {
    "duration": 962,
    "start_time": "2021-07-06T10:13:18.094Z"
   },
   {
    "duration": 1056,
    "start_time": "2021-07-06T10:13:42.134Z"
   },
   {
    "duration": 1033,
    "start_time": "2021-07-06T10:23:32.690Z"
   },
   {
    "duration": 705,
    "start_time": "2021-07-06T10:24:07.287Z"
   },
   {
    "duration": 453,
    "start_time": "2021-07-06T10:32:34.300Z"
   },
   {
    "duration": 924,
    "start_time": "2021-07-06T10:33:26.685Z"
   },
   {
    "duration": 759,
    "start_time": "2021-07-06T10:33:44.116Z"
   },
   {
    "duration": 511,
    "start_time": "2021-07-06T10:36:39.427Z"
   },
   {
    "duration": 490,
    "start_time": "2021-07-06T10:36:51.338Z"
   },
   {
    "duration": 27,
    "start_time": "2021-07-06T10:37:39.756Z"
   },
   {
    "duration": 415,
    "start_time": "2021-07-06T10:37:50.349Z"
   },
   {
    "duration": 39,
    "start_time": "2021-07-06T10:38:07.332Z"
   },
   {
    "duration": 581,
    "start_time": "2021-07-06T10:39:50.462Z"
   },
   {
    "duration": 122,
    "start_time": "2021-07-06T10:44:11.856Z"
   },
   {
    "duration": 125,
    "start_time": "2021-07-06T10:44:46.514Z"
   },
   {
    "duration": 126,
    "start_time": "2021-07-06T10:45:09.038Z"
   },
   {
    "duration": 697,
    "start_time": "2021-07-06T10:46:26.059Z"
   },
   {
    "duration": 875,
    "start_time": "2021-07-06T10:47:02.332Z"
   },
   {
    "duration": 24,
    "start_time": "2021-07-06T10:56:47.175Z"
   },
   {
    "duration": 27,
    "start_time": "2021-07-06T10:57:09.634Z"
   },
   {
    "duration": 332,
    "start_time": "2021-07-06T11:00:17.781Z"
   },
   {
    "duration": 11,
    "start_time": "2021-07-06T11:00:24.492Z"
   },
   {
    "duration": 521,
    "start_time": "2021-07-06T11:00:27.589Z"
   },
   {
    "duration": 553,
    "start_time": "2021-07-06T11:10:02.052Z"
   },
   {
    "duration": 718,
    "start_time": "2021-07-06T11:11:51.137Z"
   },
   {
    "duration": 344,
    "start_time": "2021-07-06T11:19:11.413Z"
   },
   {
    "duration": 16,
    "start_time": "2021-07-06T11:19:19.460Z"
   },
   {
    "duration": 514,
    "start_time": "2021-07-06T11:23:33.832Z"
   },
   {
    "duration": 529,
    "start_time": "2021-07-06T11:26:33.243Z"
   },
   {
    "duration": 11,
    "start_time": "2021-07-06T11:38:13.800Z"
   },
   {
    "duration": 104,
    "start_time": "2021-07-06T11:42:22.149Z"
   },
   {
    "duration": 512,
    "start_time": "2021-07-06T11:42:38.893Z"
   },
   {
    "duration": 637,
    "start_time": "2021-07-06T11:43:22.395Z"
   },
   {
    "duration": 564,
    "start_time": "2021-07-06T11:44:42.027Z"
   },
   {
    "duration": 326,
    "start_time": "2021-07-06T11:48:40.375Z"
   },
   {
    "duration": 503,
    "start_time": "2021-07-06T11:48:54.799Z"
   },
   {
    "duration": 506,
    "start_time": "2021-07-06T11:49:12.407Z"
   },
   {
    "duration": 521,
    "start_time": "2021-07-06T11:49:44.040Z"
   },
   {
    "duration": 516,
    "start_time": "2021-07-06T11:49:53.936Z"
   },
   {
    "duration": 696,
    "start_time": "2021-07-06T11:50:12.866Z"
   },
   {
    "duration": 540,
    "start_time": "2021-07-06T11:50:44.933Z"
   },
   {
    "duration": 527,
    "start_time": "2021-07-06T11:51:07.596Z"
   },
   {
    "duration": 528,
    "start_time": "2021-07-06T11:51:28.858Z"
   },
   {
    "duration": 666,
    "start_time": "2021-07-06T11:56:51.432Z"
   },
   {
    "duration": 522,
    "start_time": "2021-07-06T11:59:49.012Z"
   },
   {
    "duration": 536,
    "start_time": "2021-07-06T12:29:30.884Z"
   },
   {
    "duration": 534,
    "start_time": "2021-07-06T12:29:48.960Z"
   },
   {
    "duration": 543,
    "start_time": "2021-07-06T12:37:21.828Z"
   },
   {
    "duration": 544,
    "start_time": "2021-07-06T12:38:06.354Z"
   },
   {
    "duration": 509,
    "start_time": "2021-07-06T12:38:30.307Z"
   },
   {
    "duration": 540,
    "start_time": "2021-07-06T12:39:12.165Z"
   },
   {
    "duration": 569,
    "start_time": "2021-07-06T12:51:03.843Z"
   },
   {
    "duration": 539,
    "start_time": "2021-07-06T12:51:27.509Z"
   },
   {
    "duration": 542,
    "start_time": "2021-07-06T14:34:24.084Z"
   },
   {
    "duration": 131,
    "start_time": "2021-07-06T15:17:44.420Z"
   },
   {
    "duration": 8,
    "start_time": "2021-07-06T15:34:10.717Z"
   },
   {
    "duration": 7,
    "start_time": "2021-07-06T15:35:39.992Z"
   },
   {
    "duration": 4,
    "start_time": "2021-07-06T15:38:51.706Z"
   },
   {
    "duration": 103,
    "start_time": "2021-07-06T15:45:38.410Z"
   },
   {
    "duration": 122,
    "start_time": "2021-07-06T15:45:54.773Z"
   },
   {
    "duration": 7,
    "start_time": "2021-07-06T15:46:36.758Z"
   },
   {
    "duration": 9,
    "start_time": "2021-07-06T15:52:29.356Z"
   },
   {
    "duration": 12,
    "start_time": "2021-07-06T15:54:22.661Z"
   },
   {
    "duration": 9,
    "start_time": "2021-07-06T15:55:18.999Z"
   },
   {
    "duration": 8,
    "start_time": "2021-07-06T15:55:34.083Z"
   },
   {
    "duration": 8,
    "start_time": "2021-07-06T15:55:39.884Z"
   },
   {
    "duration": 9,
    "start_time": "2021-07-06T15:55:45.404Z"
   },
   {
    "duration": 9,
    "start_time": "2021-07-06T15:56:25.436Z"
   },
   {
    "duration": 124,
    "start_time": "2021-07-06T15:57:37.517Z"
   },
   {
    "duration": 10,
    "start_time": "2021-07-06T15:57:53.413Z"
   },
   {
    "duration": 9,
    "start_time": "2021-07-06T15:58:10.419Z"
   },
   {
    "duration": 10,
    "start_time": "2021-07-06T16:05:28.707Z"
   },
   {
    "duration": 10,
    "start_time": "2021-07-06T16:08:53.300Z"
   },
   {
    "duration": 8,
    "start_time": "2021-07-06T16:09:10.912Z"
   },
   {
    "duration": 7,
    "start_time": "2021-07-06T16:09:24.023Z"
   },
   {
    "duration": 15,
    "start_time": "2021-07-06T16:09:28.420Z"
   },
   {
    "duration": 20,
    "start_time": "2021-07-06T16:10:03.216Z"
   },
   {
    "duration": 1793,
    "start_time": "2021-07-06T16:10:25.324Z"
   },
   {
    "duration": 822,
    "start_time": "2021-07-06T16:10:27.121Z"
   },
   {
    "duration": 57,
    "start_time": "2021-07-06T16:10:27.947Z"
   },
   {
    "duration": 99,
    "start_time": "2021-07-06T16:10:28.008Z"
   },
   {
    "duration": 31,
    "start_time": "2021-07-06T16:10:28.110Z"
   },
   {
    "duration": 80,
    "start_time": "2021-07-06T16:10:28.143Z"
   },
   {
    "duration": 53,
    "start_time": "2021-07-06T16:10:28.225Z"
   },
   {
    "duration": 122,
    "start_time": "2021-07-06T16:10:28.283Z"
   },
   {
    "duration": 86,
    "start_time": "2021-07-06T16:10:28.408Z"
   },
   {
    "duration": 31,
    "start_time": "2021-07-06T16:10:28.496Z"
   },
   {
    "duration": 51,
    "start_time": "2021-07-06T16:10:28.529Z"
   },
   {
    "duration": 17,
    "start_time": "2021-07-06T16:10:28.585Z"
   },
   {
    "duration": 26,
    "start_time": "2021-07-06T16:10:28.604Z"
   },
   {
    "duration": 5,
    "start_time": "2021-07-06T16:10:28.632Z"
   },
   {
    "duration": 36,
    "start_time": "2021-07-06T16:10:28.667Z"
   },
   {
    "duration": 31,
    "start_time": "2021-07-06T16:10:28.706Z"
   },
   {
    "duration": 31,
    "start_time": "2021-07-06T16:10:28.739Z"
   },
   {
    "duration": 151,
    "start_time": "2021-07-06T16:10:28.773Z"
   },
   {
    "duration": 135,
    "start_time": "2021-07-06T16:10:28.926Z"
   },
   {
    "duration": 149,
    "start_time": "2021-07-06T16:10:29.063Z"
   },
   {
    "duration": 6,
    "start_time": "2021-07-06T16:10:29.214Z"
   },
   {
    "duration": 196,
    "start_time": "2021-07-06T16:10:29.222Z"
   },
   {
    "duration": 16,
    "start_time": "2021-07-06T16:10:29.424Z"
   },
   {
    "duration": 173,
    "start_time": "2021-07-06T16:10:29.443Z"
   },
   {
    "duration": 15,
    "start_time": "2021-07-06T16:10:29.619Z"
   },
   {
    "duration": 602,
    "start_time": "2021-07-06T16:10:29.638Z"
   },
   {
    "duration": 622,
    "start_time": "2021-07-06T16:10:30.242Z"
   },
   {
    "duration": 551,
    "start_time": "2021-07-06T16:10:30.875Z"
   },
   {
    "duration": 4,
    "start_time": "2021-07-06T16:10:31.428Z"
   },
   {
    "duration": 14,
    "start_time": "2021-07-06T16:10:31.435Z"
   },
   {
    "duration": 68,
    "start_time": "2021-07-06T16:10:31.469Z"
   },
   {
    "duration": 16,
    "start_time": "2021-07-06T16:11:14.424Z"
   },
   {
    "duration": 78,
    "start_time": "2021-07-06T16:11:44.736Z"
   },
   {
    "duration": 19,
    "start_time": "2021-07-06T16:12:17.706Z"
   },
   {
    "duration": 12,
    "start_time": "2021-07-06T16:12:25.318Z"
   },
   {
    "duration": 11,
    "start_time": "2021-07-06T16:15:58.359Z"
   },
   {
    "duration": 134,
    "start_time": "2021-07-06T18:20:36.947Z"
   },
   {
    "duration": 101,
    "start_time": "2021-07-06T18:21:07.552Z"
   },
   {
    "duration": 19,
    "start_time": "2021-07-06T18:21:33.566Z"
   },
   {
    "duration": 17,
    "start_time": "2021-07-06T18:21:58.671Z"
   },
   {
    "duration": 15,
    "start_time": "2021-07-06T18:23:13.246Z"
   },
   {
    "duration": 9,
    "start_time": "2021-07-06T18:26:19.817Z"
   },
   {
    "duration": 23,
    "start_time": "2021-07-06T18:29:09.955Z"
   },
   {
    "duration": 17,
    "start_time": "2021-07-06T18:29:18.250Z"
   },
   {
    "duration": 17,
    "start_time": "2021-07-06T18:35:10.495Z"
   },
   {
    "duration": 16,
    "start_time": "2021-07-06T18:35:31.752Z"
   },
   {
    "duration": 16,
    "start_time": "2021-07-06T18:37:03.169Z"
   },
   {
    "duration": 26,
    "start_time": "2021-07-06T18:39:28.834Z"
   },
   {
    "duration": 1404,
    "start_time": "2021-07-06T19:16:07.921Z"
   },
   {
    "duration": 549,
    "start_time": "2021-07-06T19:16:09.328Z"
   },
   {
    "duration": 43,
    "start_time": "2021-07-06T19:16:09.880Z"
   },
   {
    "duration": 78,
    "start_time": "2021-07-06T19:16:09.925Z"
   },
   {
    "duration": 29,
    "start_time": "2021-07-06T19:16:10.005Z"
   },
   {
    "duration": 78,
    "start_time": "2021-07-06T19:16:10.036Z"
   },
   {
    "duration": 17,
    "start_time": "2021-07-06T19:16:10.116Z"
   },
   {
    "duration": 135,
    "start_time": "2021-07-06T19:16:10.137Z"
   },
   {
    "duration": 75,
    "start_time": "2021-07-06T19:16:10.275Z"
   },
   {
    "duration": 44,
    "start_time": "2021-07-06T19:16:10.352Z"
   },
   {
    "duration": 34,
    "start_time": "2021-07-06T19:16:10.399Z"
   },
   {
    "duration": 41,
    "start_time": "2021-07-06T19:16:10.436Z"
   },
   {
    "duration": 24,
    "start_time": "2021-07-06T19:16:10.480Z"
   },
   {
    "duration": 6,
    "start_time": "2021-07-06T19:16:10.507Z"
   },
   {
    "duration": 63,
    "start_time": "2021-07-06T19:16:10.516Z"
   },
   {
    "duration": 32,
    "start_time": "2021-07-06T19:16:10.581Z"
   },
   {
    "duration": 9,
    "start_time": "2021-07-06T19:16:10.615Z"
   },
   {
    "duration": 161,
    "start_time": "2021-07-06T19:16:10.627Z"
   },
   {
    "duration": 134,
    "start_time": "2021-07-06T19:16:10.791Z"
   },
   {
    "duration": 129,
    "start_time": "2021-07-06T19:16:10.927Z"
   },
   {
    "duration": 9,
    "start_time": "2021-07-06T19:16:11.059Z"
   },
   {
    "duration": 146,
    "start_time": "2021-07-06T19:16:11.070Z"
   },
   {
    "duration": 13,
    "start_time": "2021-07-06T19:16:11.220Z"
   },
   {
    "duration": 122,
    "start_time": "2021-07-06T19:16:11.235Z"
   },
   {
    "duration": 16,
    "start_time": "2021-07-06T19:16:11.359Z"
   },
   {
    "duration": 552,
    "start_time": "2021-07-06T19:16:11.377Z"
   },
   {
    "duration": 571,
    "start_time": "2021-07-06T19:16:11.932Z"
   },
   {
    "duration": 548,
    "start_time": "2021-07-06T19:16:12.506Z"
   },
   {
    "duration": 13,
    "start_time": "2021-07-06T19:16:13.057Z"
   },
   {
    "duration": 10,
    "start_time": "2021-07-06T19:16:13.073Z"
   },
   {
    "duration": 15,
    "start_time": "2021-07-06T19:16:13.085Z"
   },
   {
    "duration": 15,
    "start_time": "2021-07-06T19:16:13.102Z"
   },
   {
    "duration": 27,
    "start_time": "2021-07-06T19:20:12.441Z"
   },
   {
    "duration": 19,
    "start_time": "2021-07-06T19:20:17.126Z"
   },
   {
    "duration": 104,
    "start_time": "2021-07-06T19:20:39.992Z"
   },
   {
    "duration": 1549,
    "start_time": "2021-07-07T07:31:27.118Z"
   },
   {
    "duration": 562,
    "start_time": "2021-07-07T07:31:28.670Z"
   },
   {
    "duration": 48,
    "start_time": "2021-07-07T07:31:29.236Z"
   },
   {
    "duration": 82,
    "start_time": "2021-07-07T07:31:29.287Z"
   },
   {
    "duration": 34,
    "start_time": "2021-07-07T07:31:29.372Z"
   },
   {
    "duration": 91,
    "start_time": "2021-07-07T07:31:29.409Z"
   },
   {
    "duration": 18,
    "start_time": "2021-07-07T07:31:29.502Z"
   },
   {
    "duration": 202,
    "start_time": "2021-07-07T07:31:29.524Z"
   },
   {
    "duration": 107,
    "start_time": "2021-07-07T07:31:29.730Z"
   },
   {
    "duration": 46,
    "start_time": "2021-07-07T07:31:29.840Z"
   },
   {
    "duration": 47,
    "start_time": "2021-07-07T07:31:29.889Z"
   },
   {
    "duration": 46,
    "start_time": "2021-07-07T07:31:29.938Z"
   },
   {
    "duration": 33,
    "start_time": "2021-07-07T07:31:29.987Z"
   },
   {
    "duration": 6,
    "start_time": "2021-07-07T07:31:30.024Z"
   },
   {
    "duration": 68,
    "start_time": "2021-07-07T07:31:30.033Z"
   },
   {
    "duration": 45,
    "start_time": "2021-07-07T07:31:30.104Z"
   },
   {
    "duration": 23,
    "start_time": "2021-07-07T07:31:30.153Z"
   },
   {
    "duration": 230,
    "start_time": "2021-07-07T07:31:30.179Z"
   },
   {
    "duration": 133,
    "start_time": "2021-07-07T07:31:30.411Z"
   },
   {
    "duration": 128,
    "start_time": "2021-07-07T07:31:30.547Z"
   },
   {
    "duration": 6,
    "start_time": "2021-07-07T07:31:30.677Z"
   },
   {
    "duration": 143,
    "start_time": "2021-07-07T07:31:30.686Z"
   },
   {
    "duration": 12,
    "start_time": "2021-07-07T07:31:30.834Z"
   },
   {
    "duration": 182,
    "start_time": "2021-07-07T07:31:30.849Z"
   },
   {
    "duration": 15,
    "start_time": "2021-07-07T07:31:31.034Z"
   },
   {
    "duration": 546,
    "start_time": "2021-07-07T07:31:31.068Z"
   },
   {
    "duration": 565,
    "start_time": "2021-07-07T07:31:31.617Z"
   },
   {
    "duration": 536,
    "start_time": "2021-07-07T07:31:32.184Z"
   },
   {
    "duration": 4,
    "start_time": "2021-07-07T07:31:32.722Z"
   },
   {
    "duration": 11,
    "start_time": "2021-07-07T07:31:32.729Z"
   },
   {
    "duration": 32,
    "start_time": "2021-07-07T07:31:32.742Z"
   },
   {
    "duration": 13,
    "start_time": "2021-07-07T07:31:32.776Z"
   },
   {
    "duration": 120,
    "start_time": "2021-07-07T07:38:26.587Z"
   },
   {
    "duration": 24,
    "start_time": "2021-07-07T07:41:30.403Z"
   },
   {
    "duration": 22,
    "start_time": "2021-07-07T07:42:23.888Z"
   },
   {
    "duration": 21,
    "start_time": "2021-07-07T07:43:46.916Z"
   },
   {
    "duration": 21,
    "start_time": "2021-07-07T07:44:38.082Z"
   },
   {
    "duration": 577,
    "start_time": "2021-07-07T08:09:11.417Z"
   },
   {
    "duration": 1459,
    "start_time": "2021-07-07T08:09:17.332Z"
   },
   {
    "duration": 543,
    "start_time": "2021-07-07T08:09:18.794Z"
   },
   {
    "duration": 40,
    "start_time": "2021-07-07T08:09:19.340Z"
   },
   {
    "duration": 75,
    "start_time": "2021-07-07T08:09:19.383Z"
   },
   {
    "duration": 53,
    "start_time": "2021-07-07T08:09:19.461Z"
   },
   {
    "duration": 57,
    "start_time": "2021-07-07T08:09:19.517Z"
   },
   {
    "duration": 48,
    "start_time": "2021-07-07T08:09:19.577Z"
   },
   {
    "duration": 124,
    "start_time": "2021-07-07T08:09:19.631Z"
   },
   {
    "duration": 88,
    "start_time": "2021-07-07T08:09:19.758Z"
   },
   {
    "duration": 33,
    "start_time": "2021-07-07T08:09:19.849Z"
   },
   {
    "duration": 9676,
    "start_time": "2021-07-07T08:09:19.885Z"
   },
   {
    "duration": 1562,
    "start_time": "2021-07-07T08:09:28.001Z"
   },
   {
    "duration": 1555,
    "start_time": "2021-07-07T08:09:28.010Z"
   },
   {
    "duration": 1550,
    "start_time": "2021-07-07T08:09:28.017Z"
   },
   {
    "duration": 1547,
    "start_time": "2021-07-07T08:09:28.021Z"
   },
   {
    "duration": 1544,
    "start_time": "2021-07-07T08:09:28.026Z"
   },
   {
    "duration": 1539,
    "start_time": "2021-07-07T08:09:28.032Z"
   },
   {
    "duration": 1536,
    "start_time": "2021-07-07T08:09:28.037Z"
   },
   {
    "duration": 1531,
    "start_time": "2021-07-07T08:09:28.044Z"
   },
   {
    "duration": 1525,
    "start_time": "2021-07-07T08:09:28.051Z"
   },
   {
    "duration": 1522,
    "start_time": "2021-07-07T08:09:28.056Z"
   },
   {
    "duration": 1517,
    "start_time": "2021-07-07T08:09:28.062Z"
   },
   {
    "duration": 1513,
    "start_time": "2021-07-07T08:09:28.068Z"
   },
   {
    "duration": 1509,
    "start_time": "2021-07-07T08:09:28.073Z"
   },
   {
    "duration": 1507,
    "start_time": "2021-07-07T08:09:28.077Z"
   },
   {
    "duration": 1505,
    "start_time": "2021-07-07T08:09:28.081Z"
   },
   {
    "duration": 1496,
    "start_time": "2021-07-07T08:09:28.092Z"
   },
   {
    "duration": 1494,
    "start_time": "2021-07-07T08:09:28.096Z"
   },
   {
    "duration": 1492,
    "start_time": "2021-07-07T08:09:28.100Z"
   },
   {
    "duration": 1490,
    "start_time": "2021-07-07T08:09:28.104Z"
   },
   {
    "duration": 1488,
    "start_time": "2021-07-07T08:09:28.108Z"
   },
   {
    "duration": 1486,
    "start_time": "2021-07-07T08:09:28.112Z"
   },
   {
    "duration": 1485,
    "start_time": "2021-07-07T08:09:28.115Z"
   },
   {
    "duration": 1489,
    "start_time": "2021-07-07T08:09:28.120Z"
   },
   {
    "duration": 389,
    "start_time": "2021-07-07T08:11:21.849Z"
   },
   {
    "duration": 348,
    "start_time": "2021-07-07T08:11:53.423Z"
   },
   {
    "duration": 6,
    "start_time": "2021-07-07T08:13:35.516Z"
   },
   {
    "duration": 36,
    "start_time": "2021-07-07T08:14:04.098Z"
   },
   {
    "duration": 19,
    "start_time": "2021-07-07T08:16:28.443Z"
   },
   {
    "duration": 46,
    "start_time": "2021-07-07T08:20:04.766Z"
   },
   {
    "duration": 18,
    "start_time": "2021-07-07T08:20:32.653Z"
   },
   {
    "duration": 5,
    "start_time": "2021-07-07T08:20:41.261Z"
   },
   {
    "duration": 23,
    "start_time": "2021-07-07T08:20:46.215Z"
   },
   {
    "duration": 1066,
    "start_time": "2021-07-07T08:22:51.155Z"
   },
   {
    "duration": 374,
    "start_time": "2021-07-07T08:23:20.535Z"
   },
   {
    "duration": 415,
    "start_time": "2021-07-07T08:23:48.433Z"
   },
   {
    "duration": 434,
    "start_time": "2021-07-07T08:25:24.806Z"
   },
   {
    "duration": 1860,
    "start_time": "2021-07-07T08:25:42.734Z"
   },
   {
    "duration": 3573,
    "start_time": "2021-07-07T08:26:39.078Z"
   },
   {
    "duration": 3328,
    "start_time": "2021-07-07T08:27:05.177Z"
   },
   {
    "duration": 643,
    "start_time": "2021-07-07T08:27:23.587Z"
   },
   {
    "duration": 26,
    "start_time": "2021-07-07T08:29:18.364Z"
   },
   {
    "duration": 25,
    "start_time": "2021-07-07T08:32:42.301Z"
   },
   {
    "duration": 28,
    "start_time": "2021-07-07T08:34:03.820Z"
   },
   {
    "duration": 26,
    "start_time": "2021-07-07T08:55:25.220Z"
   },
   {
    "duration": 13,
    "start_time": "2021-07-07T08:55:32.643Z"
   },
   {
    "duration": 27,
    "start_time": "2021-07-07T08:55:37.088Z"
   },
   {
    "duration": 16,
    "start_time": "2021-07-07T08:56:02.577Z"
   },
   {
    "duration": 626,
    "start_time": "2021-07-07T09:38:24.970Z"
   },
   {
    "duration": 19,
    "start_time": "2021-07-07T09:51:55.687Z"
   },
   {
    "duration": 47,
    "start_time": "2021-07-07T09:52:03.171Z"
   },
   {
    "duration": 359,
    "start_time": "2021-07-07T09:57:31.499Z"
   },
   {
    "duration": 381,
    "start_time": "2021-07-07T09:57:39.924Z"
   },
   {
    "duration": 7,
    "start_time": "2021-07-07T09:57:47.237Z"
   },
   {
    "duration": 19,
    "start_time": "2021-07-07T09:57:50.135Z"
   },
   {
    "duration": 20,
    "start_time": "2021-07-07T09:57:52.077Z"
   },
   {
    "duration": 29,
    "start_time": "2021-07-07T09:57:58.218Z"
   },
   {
    "duration": 10202,
    "start_time": "2021-07-07T09:58:09.011Z"
   },
   {
    "duration": 1829,
    "start_time": "2021-07-07T09:58:17.387Z"
   },
   {
    "duration": 123,
    "start_time": "2021-07-07T10:00:24.385Z"
   },
   {
    "duration": 9342,
    "start_time": "2021-07-07T10:00:48.065Z"
   },
   {
    "duration": 5,
    "start_time": "2021-07-07T10:02:59.537Z"
   },
   {
    "duration": 555,
    "start_time": "2021-07-07T10:02:59.546Z"
   },
   {
    "duration": 38,
    "start_time": "2021-07-07T10:03:00.104Z"
   },
   {
    "duration": 84,
    "start_time": "2021-07-07T10:03:00.145Z"
   },
   {
    "duration": 29,
    "start_time": "2021-07-07T10:03:00.231Z"
   },
   {
    "duration": 78,
    "start_time": "2021-07-07T10:03:00.263Z"
   },
   {
    "duration": 16,
    "start_time": "2021-07-07T10:03:00.345Z"
   },
   {
    "duration": 124,
    "start_time": "2021-07-07T10:03:00.364Z"
   },
   {
    "duration": 80,
    "start_time": "2021-07-07T10:03:00.490Z"
   },
   {
    "duration": 37,
    "start_time": "2021-07-07T10:03:00.572Z"
   },
   {
    "duration": 4,
    "start_time": "2021-07-07T10:03:00.612Z"
   },
   {
    "duration": 584,
    "start_time": "2021-07-07T10:03:00.619Z"
   },
   {
    "duration": 22,
    "start_time": "2021-07-07T10:03:01.208Z"
   },
   {
    "duration": 15,
    "start_time": "2021-07-07T10:03:01.233Z"
   },
   {
    "duration": 68,
    "start_time": "2021-07-07T10:03:01.251Z"
   },
   {
    "duration": 19,
    "start_time": "2021-07-07T10:03:01.322Z"
   },
   {
    "duration": 20,
    "start_time": "2021-07-07T10:03:01.344Z"
   },
   {
    "duration": 6,
    "start_time": "2021-07-07T10:03:01.367Z"
   },
   {
    "duration": 60,
    "start_time": "2021-07-07T10:03:01.378Z"
   },
   {
    "duration": 37,
    "start_time": "2021-07-07T10:03:01.441Z"
   },
   {
    "duration": 33,
    "start_time": "2021-07-07T10:03:01.481Z"
   },
   {
    "duration": 151,
    "start_time": "2021-07-07T10:03:01.517Z"
   },
   {
    "duration": 139,
    "start_time": "2021-07-07T10:03:01.671Z"
   },
   {
    "duration": 500,
    "start_time": "2021-07-07T10:03:01.813Z"
   },
   {
    "duration": 7,
    "start_time": "2021-07-07T10:03:02.316Z"
   },
   {
    "duration": 139,
    "start_time": "2021-07-07T10:03:02.326Z"
   },
   {
    "duration": 14,
    "start_time": "2021-07-07T10:03:02.468Z"
   },
   {
    "duration": 142,
    "start_time": "2021-07-07T10:03:02.485Z"
   },
   {
    "duration": 12,
    "start_time": "2021-07-07T10:03:02.630Z"
   },
   {
    "duration": 555,
    "start_time": "2021-07-07T10:03:02.645Z"
   },
   {
    "duration": 577,
    "start_time": "2021-07-07T10:03:03.203Z"
   },
   {
    "duration": 528,
    "start_time": "2021-07-07T10:03:03.783Z"
   },
   {
    "duration": 4,
    "start_time": "2021-07-07T10:03:04.315Z"
   },
   {
    "duration": 11,
    "start_time": "2021-07-07T10:03:04.323Z"
   },
   {
    "duration": 45,
    "start_time": "2021-07-07T10:03:04.337Z"
   },
   {
    "duration": 15,
    "start_time": "2021-07-07T10:03:04.384Z"
   },
   {
    "duration": 9,
    "start_time": "2021-07-07T10:04:24.213Z"
   },
   {
    "duration": 9,
    "start_time": "2021-07-07T10:04:37.420Z"
   },
   {
    "duration": 10,
    "start_time": "2021-07-07T10:04:43.884Z"
   },
   {
    "duration": 10,
    "start_time": "2021-07-07T10:05:05.410Z"
   },
   {
    "duration": 9,
    "start_time": "2021-07-07T10:05:25.818Z"
   },
   {
    "duration": 10,
    "start_time": "2021-07-07T10:05:30.132Z"
   },
   {
    "duration": 9,
    "start_time": "2021-07-07T10:05:34.632Z"
   },
   {
    "duration": 10,
    "start_time": "2021-07-07T10:05:38.733Z"
   },
   {
    "duration": 10,
    "start_time": "2021-07-07T10:05:44.330Z"
   },
   {
    "duration": 533,
    "start_time": "2021-07-07T10:20:23.510Z"
   },
   {
    "duration": 628,
    "start_time": "2021-07-07T10:21:40.701Z"
   },
   {
    "duration": 533,
    "start_time": "2021-07-07T10:22:01.587Z"
   },
   {
    "duration": 6,
    "start_time": "2021-07-07T10:38:44.931Z"
   },
   {
    "duration": 5,
    "start_time": "2021-07-07T10:38:51.631Z"
   },
   {
    "duration": 6,
    "start_time": "2021-07-07T10:39:13.427Z"
   },
   {
    "duration": 6,
    "start_time": "2021-07-07T10:40:33.468Z"
   },
   {
    "duration": 8,
    "start_time": "2021-07-07T10:42:36.074Z"
   },
   {
    "duration": 8,
    "start_time": "2021-07-07T10:43:48.637Z"
   },
   {
    "duration": 121,
    "start_time": "2021-07-07T10:45:31.838Z"
   },
   {
    "duration": 123,
    "start_time": "2021-07-07T10:46:58.532Z"
   },
   {
    "duration": 133,
    "start_time": "2021-07-07T10:48:28.599Z"
   },
   {
    "duration": 610,
    "start_time": "2021-07-07T10:49:21.486Z"
   },
   {
    "duration": 127,
    "start_time": "2021-07-07T10:49:43.600Z"
   },
   {
    "duration": 445,
    "start_time": "2021-07-07T13:03:37.044Z"
   },
   {
    "duration": 1392,
    "start_time": "2021-07-07T13:03:40.864Z"
   },
   {
    "duration": 3957,
    "start_time": "2021-07-07T13:03:42.258Z"
   },
   {
    "duration": 40,
    "start_time": "2021-07-07T13:03:46.218Z"
   },
   {
    "duration": 61,
    "start_time": "2021-07-07T13:03:46.260Z"
   },
   {
    "duration": 29,
    "start_time": "2021-07-07T13:03:46.323Z"
   },
   {
    "duration": 80,
    "start_time": "2021-07-07T13:03:46.354Z"
   },
   {
    "duration": 20,
    "start_time": "2021-07-07T13:03:46.437Z"
   },
   {
    "duration": 24,
    "start_time": "2021-07-07T13:03:46.461Z"
   },
   {
    "duration": 124,
    "start_time": "2021-07-07T13:03:46.488Z"
   },
   {
    "duration": 80,
    "start_time": "2021-07-07T13:03:46.614Z"
   },
   {
    "duration": 30,
    "start_time": "2021-07-07T13:03:46.697Z"
   },
   {
    "duration": 582,
    "start_time": "2021-07-07T13:03:46.729Z"
   },
   {
    "duration": 23,
    "start_time": "2021-07-07T13:03:47.314Z"
   },
   {
    "duration": 45,
    "start_time": "2021-07-07T13:03:47.340Z"
   },
   {
    "duration": 6,
    "start_time": "2021-07-07T13:03:47.388Z"
   },
   {
    "duration": 37,
    "start_time": "2021-07-07T13:03:47.397Z"
   },
   {
    "duration": 48,
    "start_time": "2021-07-07T13:03:47.437Z"
   },
   {
    "duration": 21,
    "start_time": "2021-07-07T13:03:47.488Z"
   },
   {
    "duration": 6,
    "start_time": "2021-07-07T13:03:47.511Z"
   },
   {
    "duration": 31,
    "start_time": "2021-07-07T13:03:47.521Z"
   },
   {
    "duration": 61,
    "start_time": "2021-07-07T13:03:47.554Z"
   },
   {
    "duration": 8,
    "start_time": "2021-07-07T13:03:47.618Z"
   },
   {
    "duration": 256,
    "start_time": "2021-07-07T13:03:47.633Z"
   },
   {
    "duration": 128,
    "start_time": "2021-07-07T13:03:47.892Z"
   },
   {
    "duration": 134,
    "start_time": "2021-07-07T13:03:48.023Z"
   },
   {
    "duration": 5,
    "start_time": "2021-07-07T13:03:48.160Z"
   },
   {
    "duration": 138,
    "start_time": "2021-07-07T13:03:48.167Z"
   },
   {
    "duration": 11,
    "start_time": "2021-07-07T13:03:48.308Z"
   },
   {
    "duration": 117,
    "start_time": "2021-07-07T13:03:48.321Z"
   },
   {
    "duration": 11,
    "start_time": "2021-07-07T13:03:48.440Z"
   },
   {
    "duration": 555,
    "start_time": "2021-07-07T13:03:48.454Z"
   },
   {
    "duration": 625,
    "start_time": "2021-07-07T13:03:49.012Z"
   },
   {
    "duration": 527,
    "start_time": "2021-07-07T13:03:49.639Z"
   },
   {
    "duration": 3,
    "start_time": "2021-07-07T13:03:50.169Z"
   },
   {
    "duration": 18,
    "start_time": "2021-07-07T13:03:50.174Z"
   },
   {
    "duration": 14,
    "start_time": "2021-07-07T13:03:50.195Z"
   },
   {
    "duration": 10,
    "start_time": "2021-07-07T13:03:50.211Z"
   },
   {
    "duration": 4,
    "start_time": "2021-07-07T13:03:50.224Z"
   },
   {
    "duration": 57,
    "start_time": "2021-07-07T13:03:50.231Z"
   },
   {
    "duration": 3,
    "start_time": "2021-07-07T13:03:53.772Z"
   },
   {
    "duration": 9,
    "start_time": "2021-07-07T13:05:16.266Z"
   },
   {
    "duration": 8,
    "start_time": "2021-07-07T13:22:57.030Z"
   },
   {
    "duration": 6,
    "start_time": "2021-07-07T13:23:41.810Z"
   },
   {
    "duration": 7,
    "start_time": "2021-07-07T13:23:56.580Z"
   },
   {
    "duration": 9,
    "start_time": "2021-07-07T13:24:24.415Z"
   },
   {
    "duration": 9,
    "start_time": "2021-07-07T13:24:29.568Z"
   },
   {
    "duration": 7,
    "start_time": "2021-07-07T13:24:59.949Z"
   },
   {
    "duration": 10,
    "start_time": "2021-07-07T13:25:23.661Z"
   },
   {
    "duration": 34,
    "start_time": "2021-07-07T13:27:31.138Z"
   },
   {
    "duration": 10,
    "start_time": "2021-07-07T13:29:43.944Z"
   },
   {
    "duration": 8,
    "start_time": "2021-07-07T13:29:46.236Z"
   },
   {
    "duration": 9,
    "start_time": "2021-07-07T13:29:47.810Z"
   },
   {
    "duration": 9,
    "start_time": "2021-07-07T13:34:17.895Z"
   },
   {
    "duration": 5,
    "start_time": "2021-07-07T13:37:22.198Z"
   },
   {
    "duration": 6,
    "start_time": "2021-07-07T15:15:57.589Z"
   },
   {
    "duration": 9,
    "start_time": "2021-07-07T15:49:02.457Z"
   },
   {
    "duration": 965,
    "start_time": "2021-07-08T11:29:35.886Z"
   },
   {
    "duration": 353,
    "start_time": "2021-07-08T11:29:36.853Z"
   },
   {
    "duration": 27,
    "start_time": "2021-07-08T11:29:37.208Z"
   },
   {
    "duration": 55,
    "start_time": "2021-07-08T11:29:37.237Z"
   },
   {
    "duration": 20,
    "start_time": "2021-07-08T11:29:37.294Z"
   },
   {
    "duration": 34,
    "start_time": "2021-07-08T11:29:37.316Z"
   },
   {
    "duration": 47,
    "start_time": "2021-07-08T11:29:37.352Z"
   },
   {
    "duration": 3,
    "start_time": "2021-07-08T11:29:37.403Z"
   },
   {
    "duration": 89,
    "start_time": "2021-07-08T11:29:37.409Z"
   },
   {
    "duration": 47,
    "start_time": "2021-07-08T11:29:37.500Z"
   },
   {
    "duration": 21,
    "start_time": "2021-07-08T11:29:37.548Z"
   },
   {
    "duration": 303,
    "start_time": "2021-07-08T11:29:37.590Z"
   },
   {
    "duration": 17,
    "start_time": "2021-07-08T11:29:37.894Z"
   },
   {
    "duration": 12,
    "start_time": "2021-07-08T11:29:37.913Z"
   },
   {
    "duration": 4,
    "start_time": "2021-07-08T11:29:37.927Z"
   },
   {
    "duration": 66,
    "start_time": "2021-07-08T11:29:37.933Z"
   },
   {
    "duration": 11,
    "start_time": "2021-07-08T11:29:38.001Z"
   },
   {
    "duration": 11,
    "start_time": "2021-07-08T11:29:38.014Z"
   },
   {
    "duration": 3,
    "start_time": "2021-07-08T11:29:38.026Z"
   },
   {
    "duration": 17,
    "start_time": "2021-07-08T11:29:38.031Z"
   },
   {
    "duration": 43,
    "start_time": "2021-07-08T11:29:38.049Z"
   },
   {
    "duration": 4,
    "start_time": "2021-07-08T11:29:38.094Z"
   },
   {
    "duration": 63,
    "start_time": "2021-07-08T11:29:38.101Z"
   },
   {
    "duration": 76,
    "start_time": "2021-07-08T11:29:38.165Z"
   },
   {
    "duration": 80,
    "start_time": "2021-07-08T11:29:38.243Z"
   },
   {
    "duration": 3,
    "start_time": "2021-07-08T11:29:38.325Z"
   },
   {
    "duration": 73,
    "start_time": "2021-07-08T11:29:38.330Z"
   },
   {
    "duration": 7,
    "start_time": "2021-07-08T11:29:38.405Z"
   },
   {
    "duration": 54,
    "start_time": "2021-07-08T11:29:38.413Z"
   },
   {
    "duration": 28,
    "start_time": "2021-07-08T11:29:38.468Z"
   },
   {
    "duration": 399,
    "start_time": "2021-07-08T11:29:38.497Z"
   },
   {
    "duration": 301,
    "start_time": "2021-07-08T11:29:38.898Z"
   },
   {
    "duration": 386,
    "start_time": "2021-07-08T11:29:39.201Z"
   },
   {
    "duration": 3,
    "start_time": "2021-07-08T11:29:39.588Z"
   },
   {
    "duration": 7,
    "start_time": "2021-07-08T11:29:39.593Z"
   },
   {
    "duration": 9,
    "start_time": "2021-07-08T11:29:39.602Z"
   },
   {
    "duration": 5,
    "start_time": "2021-07-08T11:29:39.613Z"
   },
   {
    "duration": 5,
    "start_time": "2021-07-08T11:29:39.619Z"
   },
   {
    "duration": 6,
    "start_time": "2021-07-08T11:29:39.626Z"
   },
   {
    "duration": 256,
    "start_time": "2021-07-08T11:33:13.801Z"
   },
   {
    "duration": 261,
    "start_time": "2021-07-08T11:33:17.747Z"
   },
   {
    "duration": 343,
    "start_time": "2021-07-08T11:33:27.883Z"
   },
   {
    "duration": 577,
    "start_time": "2021-07-08T11:33:41.833Z"
   },
   {
    "duration": 259,
    "start_time": "2021-07-08T11:33:48.317Z"
   },
   {
    "duration": 267,
    "start_time": "2021-07-08T11:34:44.335Z"
   },
   {
    "duration": 468,
    "start_time": "2021-07-08T11:34:55.276Z"
   },
   {
    "duration": 386,
    "start_time": "2021-07-08T11:35:01.971Z"
   },
   {
    "duration": 379,
    "start_time": "2021-07-08T11:35:11.760Z"
   },
   {
    "duration": 409,
    "start_time": "2021-07-08T11:35:26.703Z"
   },
   {
    "duration": 444,
    "start_time": "2021-07-08T11:35:33.313Z"
   },
   {
    "duration": 261,
    "start_time": "2021-07-08T11:35:41.458Z"
   },
   {
    "duration": 258,
    "start_time": "2021-07-08T11:35:50.612Z"
   },
   {
    "duration": 261,
    "start_time": "2021-07-08T11:36:00.013Z"
   },
   {
    "duration": 256,
    "start_time": "2021-07-08T11:36:05.597Z"
   },
   {
    "duration": 289,
    "start_time": "2021-07-08T11:36:51.394Z"
   },
   {
    "duration": 264,
    "start_time": "2021-07-08T11:36:55.508Z"
   },
   {
    "duration": 263,
    "start_time": "2021-07-08T11:37:03.150Z"
   },
   {
    "duration": 443,
    "start_time": "2021-07-15T07:23:47.864Z"
   },
   {
    "duration": 3118,
    "start_time": "2021-07-15T07:23:53.146Z"
   },
   {
    "duration": 1120,
    "start_time": "2021-07-15T07:23:56.267Z"
   },
   {
    "duration": 95,
    "start_time": "2021-07-15T07:23:57.390Z"
   },
   {
    "duration": 179,
    "start_time": "2021-07-15T07:23:57.488Z"
   },
   {
    "duration": 29,
    "start_time": "2021-07-15T07:23:57.670Z"
   },
   {
    "duration": 166,
    "start_time": "2021-07-15T07:23:57.701Z"
   },
   {
    "duration": 17,
    "start_time": "2021-07-15T07:23:57.870Z"
   },
   {
    "duration": 5,
    "start_time": "2021-07-15T07:23:57.891Z"
   },
   {
    "duration": 266,
    "start_time": "2021-07-15T07:23:57.899Z"
   },
   {
    "duration": 216,
    "start_time": "2021-07-15T07:23:58.168Z"
   },
   {
    "duration": 93,
    "start_time": "2021-07-15T07:23:58.386Z"
   },
   {
    "duration": 1295,
    "start_time": "2021-07-15T07:23:58.481Z"
   },
   {
    "duration": 20,
    "start_time": "2021-07-15T07:23:59.779Z"
   },
   {
    "duration": 21,
    "start_time": "2021-07-15T07:23:59.864Z"
   },
   {
    "duration": 6,
    "start_time": "2021-07-15T07:23:59.888Z"
   },
   {
    "duration": 108,
    "start_time": "2021-07-15T07:23:59.897Z"
   },
   {
    "duration": 27,
    "start_time": "2021-07-15T07:24:00.063Z"
   },
   {
    "duration": 89,
    "start_time": "2021-07-15T07:24:00.093Z"
   },
   {
    "duration": 7,
    "start_time": "2021-07-15T07:24:00.185Z"
   },
   {
    "duration": 105,
    "start_time": "2021-07-15T07:24:00.195Z"
   },
   {
    "duration": 95,
    "start_time": "2021-07-15T07:24:00.303Z"
   },
   {
    "duration": 64,
    "start_time": "2021-07-15T07:24:00.401Z"
   },
   {
    "duration": 232,
    "start_time": "2021-07-15T07:24:00.470Z"
   },
   {
    "duration": 278,
    "start_time": "2021-07-15T07:24:00.705Z"
   },
   {
    "duration": 221,
    "start_time": "2021-07-15T07:24:00.986Z"
   },
   {
    "duration": 5,
    "start_time": "2021-07-15T07:24:01.262Z"
   },
   {
    "duration": 237,
    "start_time": "2021-07-15T07:24:01.269Z"
   },
   {
    "duration": 62,
    "start_time": "2021-07-15T07:24:01.508Z"
   },
   {
    "duration": 216,
    "start_time": "2021-07-15T07:24:01.572Z"
   },
   {
    "duration": 11,
    "start_time": "2021-07-15T07:24:01.790Z"
   },
   {
    "duration": 1068,
    "start_time": "2021-07-15T07:24:01.803Z"
   },
   {
    "duration": 1114,
    "start_time": "2021-07-15T07:24:02.874Z"
   },
   {
    "duration": 1509,
    "start_time": "2021-07-15T07:24:03.991Z"
   },
   {
    "duration": 59,
    "start_time": "2021-07-15T07:24:05.504Z"
   },
   {
    "duration": 11,
    "start_time": "2021-07-15T07:24:05.565Z"
   },
   {
    "duration": 16,
    "start_time": "2021-07-15T07:24:05.579Z"
   },
   {
    "duration": 72,
    "start_time": "2021-07-15T07:24:05.597Z"
   },
   {
    "duration": 9,
    "start_time": "2021-07-15T07:24:05.673Z"
   },
   {
    "duration": 80,
    "start_time": "2021-07-15T07:24:05.685Z"
   },
   {
    "duration": 1108,
    "start_time": "2021-07-15T07:24:32.575Z"
   },
   {
    "duration": 906,
    "start_time": "2021-07-16T08:04:58.847Z"
   },
   {
    "duration": 403,
    "start_time": "2021-07-16T08:04:59.755Z"
   },
   {
    "duration": 28,
    "start_time": "2021-07-16T08:05:00.160Z"
   },
   {
    "duration": 41,
    "start_time": "2021-07-16T08:05:00.190Z"
   },
   {
    "duration": 21,
    "start_time": "2021-07-16T08:05:00.233Z"
   },
   {
    "duration": 62,
    "start_time": "2021-07-16T08:05:00.255Z"
   },
   {
    "duration": 10,
    "start_time": "2021-07-16T08:05:00.319Z"
   },
   {
    "duration": 10,
    "start_time": "2021-07-16T08:05:00.332Z"
   },
   {
    "duration": 91,
    "start_time": "2021-07-16T08:05:00.344Z"
   },
   {
    "duration": 59,
    "start_time": "2021-07-16T08:05:00.436Z"
   },
   {
    "duration": 22,
    "start_time": "2021-07-16T08:05:00.496Z"
   },
   {
    "duration": 360,
    "start_time": "2021-07-16T08:05:00.520Z"
   },
   {
    "duration": 15,
    "start_time": "2021-07-16T08:05:00.882Z"
   },
   {
    "duration": 20,
    "start_time": "2021-07-16T08:05:00.899Z"
   },
   {
    "duration": 4,
    "start_time": "2021-07-16T08:05:00.921Z"
   },
   {
    "duration": 26,
    "start_time": "2021-07-16T08:05:00.927Z"
   },
   {
    "duration": 34,
    "start_time": "2021-07-16T08:05:00.954Z"
   },
   {
    "duration": 14,
    "start_time": "2021-07-16T08:05:00.989Z"
   },
   {
    "duration": 4,
    "start_time": "2021-07-16T08:05:01.005Z"
   },
   {
    "duration": 38,
    "start_time": "2021-07-16T08:05:01.010Z"
   },
   {
    "duration": 19,
    "start_time": "2021-07-16T08:05:01.049Z"
   },
   {
    "duration": 17,
    "start_time": "2021-07-16T08:05:01.069Z"
   },
   {
    "duration": 70,
    "start_time": "2021-07-16T08:05:01.089Z"
   },
   {
    "duration": 80,
    "start_time": "2021-07-16T08:05:01.161Z"
   },
   {
    "duration": 77,
    "start_time": "2021-07-16T08:05:01.242Z"
   },
   {
    "duration": 3,
    "start_time": "2021-07-16T08:05:01.321Z"
   },
   {
    "duration": 78,
    "start_time": "2021-07-16T08:05:01.326Z"
   },
   {
    "duration": 8,
    "start_time": "2021-07-16T08:05:01.405Z"
   },
   {
    "duration": 75,
    "start_time": "2021-07-16T08:05:01.415Z"
   },
   {
    "duration": 8,
    "start_time": "2021-07-16T08:05:01.492Z"
   },
   {
    "duration": 337,
    "start_time": "2021-07-16T08:05:01.501Z"
   },
   {
    "duration": 552,
    "start_time": "2021-07-16T08:05:01.840Z"
   },
   {
    "duration": 330,
    "start_time": "2021-07-16T08:05:02.394Z"
   },
   {
    "duration": 3,
    "start_time": "2021-07-16T08:05:02.725Z"
   },
   {
    "duration": 7,
    "start_time": "2021-07-16T08:05:02.729Z"
   },
   {
    "duration": 15,
    "start_time": "2021-07-16T08:05:02.738Z"
   },
   {
    "duration": 8,
    "start_time": "2021-07-16T08:05:02.754Z"
   },
   {
    "duration": 5,
    "start_time": "2021-07-16T08:05:02.764Z"
   },
   {
    "duration": 6,
    "start_time": "2021-07-16T08:05:02.785Z"
   },
   {
    "duration": 4,
    "start_time": "2021-07-16T08:05:10.933Z"
   },
   {
    "duration": 1384,
    "start_time": "2021-10-18T16:05:17.224Z"
   },
   {
    "duration": 529,
    "start_time": "2021-10-18T16:05:18.611Z"
   },
   {
    "duration": 40,
    "start_time": "2021-10-18T16:05:19.144Z"
   },
   {
    "duration": 84,
    "start_time": "2021-10-18T16:05:19.186Z"
   },
   {
    "duration": 29,
    "start_time": "2021-10-18T16:05:19.273Z"
   },
   {
    "duration": 80,
    "start_time": "2021-10-18T16:05:19.305Z"
   },
   {
    "duration": 17,
    "start_time": "2021-10-18T16:05:19.387Z"
   },
   {
    "duration": 4,
    "start_time": "2021-10-18T16:05:19.408Z"
   },
   {
    "duration": 148,
    "start_time": "2021-10-18T16:05:19.415Z"
   },
   {
    "duration": 71,
    "start_time": "2021-10-18T16:05:19.566Z"
   },
   {
    "duration": 37,
    "start_time": "2021-10-18T16:05:19.639Z"
   },
   {
    "duration": 567,
    "start_time": "2021-10-18T16:05:19.679Z"
   },
   {
    "duration": 25,
    "start_time": "2021-10-18T16:05:20.248Z"
   },
   {
    "duration": 16,
    "start_time": "2021-10-18T16:05:20.276Z"
   },
   {
    "duration": 5,
    "start_time": "2021-10-18T16:05:20.295Z"
   },
   {
    "duration": 79,
    "start_time": "2021-10-18T16:05:20.302Z"
   },
   {
    "duration": 18,
    "start_time": "2021-10-18T16:05:20.384Z"
   },
   {
    "duration": 19,
    "start_time": "2021-10-18T16:05:20.404Z"
   },
   {
    "duration": 5,
    "start_time": "2021-10-18T16:05:20.426Z"
   },
   {
    "duration": 30,
    "start_time": "2021-10-18T16:05:20.458Z"
   },
   {
    "duration": 28,
    "start_time": "2021-10-18T16:05:20.491Z"
   },
   {
    "duration": 41,
    "start_time": "2021-10-18T16:05:20.521Z"
   },
   {
    "duration": 209,
    "start_time": "2021-10-18T16:05:20.568Z"
   },
   {
    "duration": 143,
    "start_time": "2021-10-18T16:05:20.779Z"
   },
   {
    "duration": 135,
    "start_time": "2021-10-18T16:05:20.925Z"
   },
   {
    "duration": 7,
    "start_time": "2021-10-18T16:05:21.063Z"
   },
   {
    "duration": 138,
    "start_time": "2021-10-18T16:05:21.073Z"
   },
   {
    "duration": 12,
    "start_time": "2021-10-18T16:05:21.214Z"
   },
   {
    "duration": 128,
    "start_time": "2021-10-18T16:05:21.229Z"
   },
   {
    "duration": 10,
    "start_time": "2021-10-18T16:05:21.360Z"
   },
   {
    "duration": 526,
    "start_time": "2021-10-18T16:05:21.373Z"
   },
   {
    "duration": 536,
    "start_time": "2021-10-18T16:05:21.902Z"
   },
   {
    "duration": 518,
    "start_time": "2021-10-18T16:05:22.441Z"
   },
   {
    "duration": 4,
    "start_time": "2021-10-18T16:05:22.962Z"
   },
   {
    "duration": 29,
    "start_time": "2021-10-18T16:05:22.969Z"
   },
   {
    "duration": 25,
    "start_time": "2021-10-18T16:05:23.001Z"
   },
   {
    "duration": 15,
    "start_time": "2021-10-18T16:05:23.029Z"
   },
   {
    "duration": 15,
    "start_time": "2021-10-18T16:05:23.047Z"
   },
   {
    "duration": 4,
    "start_time": "2021-10-18T16:05:23.065Z"
   },
   {
    "duration": 10,
    "start_time": "2021-10-18T16:05:23.072Z"
   },
   {
    "duration": 1562,
    "start_time": "2021-12-14T12:48:33.901Z"
   },
   {
    "duration": 700,
    "start_time": "2021-12-14T12:48:35.465Z"
   },
   {
    "duration": 63,
    "start_time": "2021-12-14T12:48:36.169Z"
   },
   {
    "duration": 58,
    "start_time": "2021-12-14T12:48:36.235Z"
   },
   {
    "duration": 60,
    "start_time": "2021-12-14T12:48:36.295Z"
   },
   {
    "duration": 83,
    "start_time": "2021-12-14T12:48:36.358Z"
   },
   {
    "duration": 17,
    "start_time": "2021-12-14T12:48:36.445Z"
   },
   {
    "duration": 23,
    "start_time": "2021-12-14T12:48:36.466Z"
   },
   {
    "duration": 125,
    "start_time": "2021-12-14T12:48:36.493Z"
   },
   {
    "duration": 74,
    "start_time": "2021-12-14T12:48:36.620Z"
   },
   {
    "duration": 48,
    "start_time": "2021-12-14T12:48:36.696Z"
   },
   {
    "duration": 605,
    "start_time": "2021-12-14T12:48:36.747Z"
   },
   {
    "duration": 23,
    "start_time": "2021-12-14T12:48:37.355Z"
   },
   {
    "duration": 46,
    "start_time": "2021-12-14T12:48:37.380Z"
   },
   {
    "duration": 9,
    "start_time": "2021-12-14T12:48:37.433Z"
   },
   {
    "duration": 63,
    "start_time": "2021-12-14T12:48:37.445Z"
   },
   {
    "duration": 18,
    "start_time": "2021-12-14T12:48:37.511Z"
   },
   {
    "duration": 37,
    "start_time": "2021-12-14T12:48:37.532Z"
   },
   {
    "duration": 6,
    "start_time": "2021-12-14T12:48:37.571Z"
   },
   {
    "duration": 55,
    "start_time": "2021-12-14T12:48:37.579Z"
   },
   {
    "duration": 29,
    "start_time": "2021-12-14T12:48:37.638Z"
   },
   {
    "duration": 7,
    "start_time": "2021-12-14T12:48:37.670Z"
   },
   {
    "duration": 167,
    "start_time": "2021-12-14T12:48:37.682Z"
   },
   {
    "duration": 136,
    "start_time": "2021-12-14T12:48:37.852Z"
   },
   {
    "duration": 144,
    "start_time": "2021-12-14T12:48:37.990Z"
   },
   {
    "duration": 6,
    "start_time": "2021-12-14T12:48:38.138Z"
   },
   {
    "duration": 150,
    "start_time": "2021-12-14T12:48:38.147Z"
   },
   {
    "duration": 12,
    "start_time": "2021-12-14T12:48:38.299Z"
   },
   {
    "duration": 125,
    "start_time": "2021-12-14T12:48:38.314Z"
   },
   {
    "duration": 12,
    "start_time": "2021-12-14T12:48:38.442Z"
   },
   {
    "duration": 575,
    "start_time": "2021-12-14T12:48:38.457Z"
   },
   {
    "duration": 591,
    "start_time": "2021-12-14T12:48:39.036Z"
   },
   {
    "duration": 563,
    "start_time": "2021-12-14T12:48:39.630Z"
   },
   {
    "duration": 4,
    "start_time": "2021-12-14T12:48:40.195Z"
   },
   {
    "duration": 46,
    "start_time": "2021-12-14T12:48:40.201Z"
   },
   {
    "duration": 28,
    "start_time": "2021-12-14T12:48:40.250Z"
   },
   {
    "duration": 51,
    "start_time": "2021-12-14T12:48:40.280Z"
   },
   {
    "duration": 22,
    "start_time": "2021-12-14T12:48:40.334Z"
   },
   {
    "duration": 36,
    "start_time": "2021-12-14T12:48:40.359Z"
   },
   {
    "duration": 58,
    "start_time": "2021-12-14T12:48:40.397Z"
   },
   {
    "duration": 10,
    "start_time": "2021-12-14T12:57:41.639Z"
   },
   {
    "duration": 1075,
    "start_time": "2021-12-24T15:54:29.356Z"
   },
   {
    "duration": 453,
    "start_time": "2021-12-24T15:54:30.433Z"
   },
   {
    "duration": 27,
    "start_time": "2021-12-24T15:54:30.889Z"
   },
   {
    "duration": 47,
    "start_time": "2021-12-24T15:54:30.918Z"
   },
   {
    "duration": 23,
    "start_time": "2021-12-24T15:54:30.966Z"
   },
   {
    "duration": 69,
    "start_time": "2021-12-24T15:54:30.991Z"
   },
   {
    "duration": 11,
    "start_time": "2021-12-24T15:54:31.062Z"
   },
   {
    "duration": 3,
    "start_time": "2021-12-24T15:54:31.075Z"
   },
   {
    "duration": 91,
    "start_time": "2021-12-24T15:54:31.081Z"
   },
   {
    "duration": 53,
    "start_time": "2021-12-24T15:54:31.174Z"
   },
   {
    "duration": 36,
    "start_time": "2021-12-24T15:54:31.229Z"
   },
   {
    "duration": 351,
    "start_time": "2021-12-24T15:54:31.267Z"
   },
   {
    "duration": 26,
    "start_time": "2021-12-24T15:54:31.621Z"
   },
   {
    "duration": 14,
    "start_time": "2021-12-24T15:54:31.649Z"
   },
   {
    "duration": 13,
    "start_time": "2021-12-24T15:54:31.665Z"
   },
   {
    "duration": 29,
    "start_time": "2021-12-24T15:54:31.679Z"
   },
   {
    "duration": 31,
    "start_time": "2021-12-24T15:54:31.710Z"
   },
   {
    "duration": 17,
    "start_time": "2021-12-24T15:54:31.745Z"
   },
   {
    "duration": 11,
    "start_time": "2021-12-24T15:54:31.763Z"
   },
   {
    "duration": 24,
    "start_time": "2021-12-24T15:54:31.776Z"
   },
   {
    "duration": 20,
    "start_time": "2021-12-24T15:54:31.802Z"
   },
   {
    "duration": 32,
    "start_time": "2021-12-24T15:54:31.823Z"
   },
   {
    "duration": 79,
    "start_time": "2021-12-24T15:54:31.857Z"
   },
   {
    "duration": 78,
    "start_time": "2021-12-24T15:54:31.938Z"
   },
   {
    "duration": 97,
    "start_time": "2021-12-24T15:54:32.018Z"
   },
   {
    "duration": 4,
    "start_time": "2021-12-24T15:54:32.117Z"
   },
   {
    "duration": 130,
    "start_time": "2021-12-24T15:54:32.126Z"
   },
   {
    "duration": 9,
    "start_time": "2021-12-24T15:54:32.258Z"
   },
   {
    "duration": 75,
    "start_time": "2021-12-24T15:54:32.269Z"
   },
   {
    "duration": 11,
    "start_time": "2021-12-24T15:54:32.349Z"
   },
   {
    "duration": 340,
    "start_time": "2021-12-24T15:54:32.362Z"
   },
   {
    "duration": 447,
    "start_time": "2021-12-24T15:54:32.704Z"
   },
   {
    "duration": 344,
    "start_time": "2021-12-24T15:54:33.154Z"
   },
   {
    "duration": 3,
    "start_time": "2021-12-24T15:54:33.500Z"
   },
   {
    "duration": 30,
    "start_time": "2021-12-24T15:54:33.505Z"
   },
   {
    "duration": 40,
    "start_time": "2021-12-24T15:54:33.537Z"
   },
   {
    "duration": 32,
    "start_time": "2021-12-24T15:54:33.579Z"
   },
   {
    "duration": 22,
    "start_time": "2021-12-24T15:54:33.613Z"
   },
   {
    "duration": 23,
    "start_time": "2021-12-24T15:54:33.637Z"
   },
   {
    "duration": 24,
    "start_time": "2021-12-24T15:54:33.661Z"
   }
  ],
  "kernelspec": {
   "display_name": "Python 3.11.0 64-bit",
   "language": "python",
   "name": "python3"
  },
  "language_info": {
   "codemirror_mode": {
    "name": "ipython",
    "version": 3
   },
   "file_extension": ".py",
   "mimetype": "text/x-python",
   "name": "python",
   "nbconvert_exporter": "python",
   "pygments_lexer": "ipython3",
   "version": "3.11.0"
  },
  "toc": {
   "base_numbering": 1,
   "nav_menu": {},
   "number_sections": true,
   "sideBar": true,
   "skip_h1_title": true,
   "title_cell": "Table of Contents",
   "title_sidebar": "Contents",
   "toc_cell": false,
   "toc_position": {
    "height": "calc(100% - 180px)",
    "left": "10px",
    "top": "150px",
    "width": "265.573px"
   },
   "toc_section_display": true,
   "toc_window_display": true
  },
  "vscode": {
   "interpreter": {
    "hash": "aee8b7b246df8f9039afb4144a1f6fd8d2ca17a180786b69acc140d282b71a49"
   }
  }
 },
 "nbformat": 4,
 "nbformat_minor": 2
}
