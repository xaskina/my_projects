{
 "cells": [
  {
   "cell_type": "markdown",
   "metadata": {},
   "source": [
    "# Рынок заведений общественного питания Москвы\n",
    "\n",
    "<b> Проект: </b>\n",
    "- Открытие кафе в Москве с официантами - роботами.\n",
    "\n",
    "<b> Предоставленные данные: </b>\n",
    "- Открытые данные о заведениях общественного питания Москвы.\n",
    "\n",
    "<b> Задача: </b>\n",
    "- Исследование рынка и подготовка рекомендаций о виде заведения, количестве посадочных мест, а также районе расположения. Формирование прогнозов касательно развития сети."
   ]
  },
  {
   "cell_type": "markdown",
   "metadata": {},
   "source": [
    "## Загрузка данных и изучение общей информации"
   ]
  },
  {
   "cell_type": "code",
   "execution_count": 1,
   "metadata": {},
   "outputs": [
    {
     "name": "stderr",
     "output_type": "stream",
     "text": [
      "/var/folders/_r/kc72tvn91yj1l4rlghqgttm40000gn/T/ipykernel_42552/3403004632.py:4: MatplotlibDeprecationWarning: The seaborn styles shipped by Matplotlib are deprecated since 3.6, as they no longer correspond to the styles shipped by seaborn. However, they will remain available as 'seaborn-v0_8-<style>'. Alternatively, directly use the seaborn API instead.\n",
      "  plt.style.use('seaborn-dark-palette')\n"
     ]
    }
   ],
   "source": [
    "import pandas as pd\n",
    "import numpy as np\n",
    "import matplotlib.pyplot as plt\n",
    "plt.style.use('seaborn-dark-palette')\n",
    "import seaborn as sns\n",
    "import plotly.express as px\n",
    "from IPython.core.interactiveshell import InteractiveShell\n",
    "InteractiveShell.ast_node_interactivity = \"all\"\n",
    "import warnings\n",
    "warnings.filterwarnings('ignore')"
   ]
  },
  {
   "cell_type": "code",
   "execution_count": 2,
   "metadata": {},
   "outputs": [
    {
     "data": {
      "text/html": [
       "<div>\n",
       "<style scoped>\n",
       "    .dataframe tbody tr th:only-of-type {\n",
       "        vertical-align: middle;\n",
       "    }\n",
       "\n",
       "    .dataframe tbody tr th {\n",
       "        vertical-align: top;\n",
       "    }\n",
       "\n",
       "    .dataframe thead th {\n",
       "        text-align: right;\n",
       "    }\n",
       "</style>\n",
       "<table border=\"1\" class=\"dataframe\">\n",
       "  <thead>\n",
       "    <tr style=\"text-align: right;\">\n",
       "      <th></th>\n",
       "      <th>id</th>\n",
       "      <th>object_name</th>\n",
       "      <th>chain</th>\n",
       "      <th>object_type</th>\n",
       "      <th>address</th>\n",
       "      <th>number</th>\n",
       "    </tr>\n",
       "  </thead>\n",
       "  <tbody>\n",
       "    <tr>\n",
       "      <th>5965</th>\n",
       "      <td>107884</td>\n",
       "      <td>Кафе «Восточные вечера»</td>\n",
       "      <td>нет</td>\n",
       "      <td>кафе</td>\n",
       "      <td>город Москва, 2-й квартал Капотня, дом 37</td>\n",
       "      <td>35</td>\n",
       "    </tr>\n",
       "    <tr>\n",
       "      <th>3610</th>\n",
       "      <td>22031</td>\n",
       "      <td>Чайковский</td>\n",
       "      <td>нет</td>\n",
       "      <td>кафе</td>\n",
       "      <td>город Москва, Тверская улица, дом 31/4, строен...</td>\n",
       "      <td>98</td>\n",
       "    </tr>\n",
       "    <tr>\n",
       "      <th>4154</th>\n",
       "      <td>29004</td>\n",
       "      <td>ШКОЛА 514 «КДП»</td>\n",
       "      <td>нет</td>\n",
       "      <td>столовая</td>\n",
       "      <td>город Москва, Коломенская набережная, дом 16</td>\n",
       "      <td>300</td>\n",
       "    </tr>\n",
       "    <tr>\n",
       "      <th>10214</th>\n",
       "      <td>169676</td>\n",
       "      <td>Шоколадница</td>\n",
       "      <td>да</td>\n",
       "      <td>кафе</td>\n",
       "      <td>город Москва, Береговой проезд, дом 5А, корпус 7</td>\n",
       "      <td>56</td>\n",
       "    </tr>\n",
       "    <tr>\n",
       "      <th>2753</th>\n",
       "      <td>22447</td>\n",
       "      <td>Щербет</td>\n",
       "      <td>нет</td>\n",
       "      <td>ресторан</td>\n",
       "      <td>город Москва, Мясницкая улица, дом 17, строение 1</td>\n",
       "      <td>80</td>\n",
       "    </tr>\n",
       "    <tr>\n",
       "      <th>11332</th>\n",
       "      <td>190390</td>\n",
       "      <td>Пицца ДЖЭТ</td>\n",
       "      <td>нет</td>\n",
       "      <td>магазин (отдел кулинарии)</td>\n",
       "      <td>город Москва, бульвар Адмирала Ушакова, дом 18Б</td>\n",
       "      <td>0</td>\n",
       "    </tr>\n",
       "    <tr>\n",
       "      <th>6636</th>\n",
       "      <td>19678</td>\n",
       "      <td>Баскин Роббинс</td>\n",
       "      <td>да</td>\n",
       "      <td>предприятие быстрого обслуживания</td>\n",
       "      <td>город Москва, Рублёвское шоссе, дом 62</td>\n",
       "      <td>46</td>\n",
       "    </tr>\n",
       "    <tr>\n",
       "      <th>1841</th>\n",
       "      <td>145091</td>\n",
       "      <td>Даблби</td>\n",
       "      <td>нет</td>\n",
       "      <td>кафе</td>\n",
       "      <td>город Москва, Большая Татарская улица, дом 7</td>\n",
       "      <td>30</td>\n",
       "    </tr>\n",
       "    <tr>\n",
       "      <th>11179</th>\n",
       "      <td>183145</td>\n",
       "      <td>Тайское мороженое, лимонады</td>\n",
       "      <td>нет</td>\n",
       "      <td>магазин (отдел кулинарии)</td>\n",
       "      <td>город Москва, Открытое шоссе, дом 9, строение 14А</td>\n",
       "      <td>4</td>\n",
       "    </tr>\n",
       "    <tr>\n",
       "      <th>6361</th>\n",
       "      <td>29485</td>\n",
       "      <td>СТОЛОВАЯ ДЛЯ СОТРУДНИКОВ НИЦ ИМ. И.А.СЕЧЕНОВА</td>\n",
       "      <td>нет</td>\n",
       "      <td>столовая</td>\n",
       "      <td>город Москва, Трубецкая улица, дом 8</td>\n",
       "      <td>60</td>\n",
       "    </tr>\n",
       "  </tbody>\n",
       "</table>\n",
       "</div>"
      ],
      "text/plain": [
       "           id                                    object_name chain  \\\n",
       "5965   107884                        Кафе «Восточные вечера»   нет   \n",
       "3610    22031                                     Чайковский   нет   \n",
       "4154    29004                                ШКОЛА 514 «КДП»   нет   \n",
       "10214  169676                                    Шоколадница    да   \n",
       "2753    22447                                         Щербет   нет   \n",
       "11332  190390                                     Пицца ДЖЭТ   нет   \n",
       "6636    19678                                 Баскин Роббинс    да   \n",
       "1841   145091                                         Даблби   нет   \n",
       "11179  183145                    Тайское мороженое, лимонады   нет   \n",
       "6361    29485  СТОЛОВАЯ ДЛЯ СОТРУДНИКОВ НИЦ ИМ. И.А.СЕЧЕНОВА   нет   \n",
       "\n",
       "                             object_type  \\\n",
       "5965                                кафе   \n",
       "3610                                кафе   \n",
       "4154                            столовая   \n",
       "10214                               кафе   \n",
       "2753                            ресторан   \n",
       "11332          магазин (отдел кулинарии)   \n",
       "6636   предприятие быстрого обслуживания   \n",
       "1841                                кафе   \n",
       "11179          магазин (отдел кулинарии)   \n",
       "6361                            столовая   \n",
       "\n",
       "                                                 address  number  \n",
       "5965           город Москва, 2-й квартал Капотня, дом 37      35  \n",
       "3610   город Москва, Тверская улица, дом 31/4, строен...      98  \n",
       "4154        город Москва, Коломенская набережная, дом 16     300  \n",
       "10214   город Москва, Береговой проезд, дом 5А, корпус 7      56  \n",
       "2753   город Москва, Мясницкая улица, дом 17, строение 1      80  \n",
       "11332    город Москва, бульвар Адмирала Ушакова, дом 18Б       0  \n",
       "6636              город Москва, Рублёвское шоссе, дом 62      46  \n",
       "1841        город Москва, Большая Татарская улица, дом 7      30  \n",
       "11179  город Москва, Открытое шоссе, дом 9, строение 14А       4  \n",
       "6361                город Москва, Трубецкая улица, дом 8      60  "
      ]
     },
     "execution_count": 2,
     "metadata": {},
     "output_type": "execute_result"
    },
    {
     "name": "stdout",
     "output_type": "stream",
     "text": [
      "<class 'pandas.core.frame.DataFrame'>\n",
      "RangeIndex: 15366 entries, 0 to 15365\n",
      "Data columns (total 6 columns):\n",
      " #   Column       Non-Null Count  Dtype \n",
      "---  ------       --------------  ----- \n",
      " 0   id           15366 non-null  int64 \n",
      " 1   object_name  15366 non-null  object\n",
      " 2   chain        15366 non-null  object\n",
      " 3   object_type  15366 non-null  object\n",
      " 4   address      15366 non-null  object\n",
      " 5   number       15366 non-null  int64 \n",
      "dtypes: int64(2), object(4)\n",
      "memory usage: 720.4+ KB\n"
     ]
    },
    {
     "data": {
      "text/html": [
       "<div>\n",
       "<style scoped>\n",
       "    .dataframe tbody tr th:only-of-type {\n",
       "        vertical-align: middle;\n",
       "    }\n",
       "\n",
       "    .dataframe tbody tr th {\n",
       "        vertical-align: top;\n",
       "    }\n",
       "\n",
       "    .dataframe thead th {\n",
       "        text-align: right;\n",
       "    }\n",
       "</style>\n",
       "<table border=\"1\" class=\"dataframe\">\n",
       "  <thead>\n",
       "    <tr style=\"text-align: right;\">\n",
       "      <th></th>\n",
       "      <th>id</th>\n",
       "      <th>number</th>\n",
       "    </tr>\n",
       "  </thead>\n",
       "  <tbody>\n",
       "    <tr>\n",
       "      <th>count</th>\n",
       "      <td>15366.000000</td>\n",
       "      <td>15366.000000</td>\n",
       "    </tr>\n",
       "    <tr>\n",
       "      <th>mean</th>\n",
       "      <td>119720.066901</td>\n",
       "      <td>59.547182</td>\n",
       "    </tr>\n",
       "    <tr>\n",
       "      <th>std</th>\n",
       "      <td>73036.130732</td>\n",
       "      <td>74.736833</td>\n",
       "    </tr>\n",
       "    <tr>\n",
       "      <th>min</th>\n",
       "      <td>838.000000</td>\n",
       "      <td>0.000000</td>\n",
       "    </tr>\n",
       "    <tr>\n",
       "      <th>25%</th>\n",
       "      <td>28524.000000</td>\n",
       "      <td>12.000000</td>\n",
       "    </tr>\n",
       "    <tr>\n",
       "      <th>50%</th>\n",
       "      <td>144974.500000</td>\n",
       "      <td>40.000000</td>\n",
       "    </tr>\n",
       "    <tr>\n",
       "      <th>75%</th>\n",
       "      <td>184262.250000</td>\n",
       "      <td>80.000000</td>\n",
       "    </tr>\n",
       "    <tr>\n",
       "      <th>max</th>\n",
       "      <td>223439.000000</td>\n",
       "      <td>1700.000000</td>\n",
       "    </tr>\n",
       "  </tbody>\n",
       "</table>\n",
       "</div>"
      ],
      "text/plain": [
       "                  id        number\n",
       "count   15366.000000  15366.000000\n",
       "mean   119720.066901     59.547182\n",
       "std     73036.130732     74.736833\n",
       "min       838.000000      0.000000\n",
       "25%     28524.000000     12.000000\n",
       "50%    144974.500000     40.000000\n",
       "75%    184262.250000     80.000000\n",
       "max    223439.000000   1700.000000"
      ]
     },
     "execution_count": 2,
     "metadata": {},
     "output_type": "execute_result"
    }
   ],
   "source": [
    "rest_data = pd.read_csv('/Users/vintera/Git/my_projects/dataset/project_08/rest_data.csv')\n",
    "rest_data.sample(10)\n",
    "rest_data.info()\n",
    "rest_data.describe()"
   ]
  },
  {
   "cell_type": "code",
   "execution_count": 3,
   "metadata": {},
   "outputs": [
    {
     "data": {
      "text/plain": [
       "кафе                                 6099\n",
       "столовая                             2587\n",
       "ресторан                             2285\n",
       "предприятие быстрого обслуживания    1923\n",
       "бар                                   856\n",
       "буфет                                 585\n",
       "кафетерий                             398\n",
       "закусочная                            360\n",
       "магазин (отдел кулинарии)             273\n",
       "Name: object_type, dtype: int64"
      ]
     },
     "execution_count": 3,
     "metadata": {},
     "output_type": "execute_result"
    }
   ],
   "source": [
    "rest_data.object_type.value_counts()"
   ]
  },
  {
   "cell_type": "markdown",
   "metadata": {},
   "source": [
    "### Вывод\n",
    "Библиотеки загружены, с данными ознакомлены, можно переходить к предобработке."
   ]
  },
  {
   "cell_type": "markdown",
   "metadata": {},
   "source": [
    "## Предобработка и исследование данных"
   ]
  },
  {
   "cell_type": "code",
   "execution_count": 4,
   "metadata": {},
   "outputs": [],
   "source": [
    "# Все названия заведений приведем к нижнему регистру\n",
    "rest_data['object_name'] = rest_data['object_name'].str.lower()"
   ]
  },
  {
   "cell_type": "code",
   "execution_count": 5,
   "metadata": {},
   "outputs": [],
   "source": [
    "# Создадим словарь вариаций названий крупных сетевых заведений\n",
    "name_dict = {'кафе «kfc»' : 'kfc', 'ресторан «kfc»' : 'kfc',\n",
    "       'кафе «шоколадница»' : 'шоколадница',\n",
    "       'mcdonalds' : 'макдоналдс', 'ресторан «макдоналдс»' : 'макдоналдс', 'кафе «макдоналдс»' : 'макдоналдс',\n",
    "       'ресторан «тануки»' : 'тануки',\n",
    "       'суши вок' : 'суши wok',\n",
    "       'сабвей': 'subway', 'кафе «subway»' : 'subway',\n",
    "       'пиццерия «папа джонс»' : 'папа джонс',\n",
    "       'кафе «теремок»' : 'теремок'}\n",
    "# Приведем названия к единому образцу, воспользовавшись словарем\n",
    "rest_data['object_name'] = rest_data['object_name'].replace(name_dict, regex=True) "
   ]
  },
  {
   "cell_type": "code",
   "execution_count": 6,
   "metadata": {},
   "outputs": [
    {
     "data": {
      "text/html": [
       "<div>\n",
       "<style scoped>\n",
       "    .dataframe tbody tr th:only-of-type {\n",
       "        vertical-align: middle;\n",
       "    }\n",
       "\n",
       "    .dataframe tbody tr th {\n",
       "        vertical-align: top;\n",
       "    }\n",
       "\n",
       "    .dataframe thead th {\n",
       "        text-align: right;\n",
       "    }\n",
       "</style>\n",
       "<table border=\"1\" class=\"dataframe\">\n",
       "  <thead>\n",
       "    <tr style=\"text-align: right;\">\n",
       "      <th></th>\n",
       "      <th>id</th>\n",
       "      <th>object_name</th>\n",
       "      <th>chain</th>\n",
       "      <th>object_type</th>\n",
       "      <th>address</th>\n",
       "      <th>number</th>\n",
       "    </tr>\n",
       "  </thead>\n",
       "  <tbody>\n",
       "    <tr>\n",
       "      <th>0</th>\n",
       "      <td>151635</td>\n",
       "      <td>сметана</td>\n",
       "      <td>нет</td>\n",
       "      <td>кафе</td>\n",
       "      <td>город Москва, улица Егора Абакумова, дом 9</td>\n",
       "      <td>48</td>\n",
       "    </tr>\n",
       "    <tr>\n",
       "      <th>1</th>\n",
       "      <td>77874</td>\n",
       "      <td>родник</td>\n",
       "      <td>нет</td>\n",
       "      <td>кафе</td>\n",
       "      <td>город Москва, улица Талалихина, дом 2/1, корпус 1</td>\n",
       "      <td>35</td>\n",
       "    </tr>\n",
       "    <tr>\n",
       "      <th>2</th>\n",
       "      <td>24309</td>\n",
       "      <td>кафе «академия»</td>\n",
       "      <td>нет</td>\n",
       "      <td>кафе</td>\n",
       "      <td>город Москва, Абельмановская улица, дом 6</td>\n",
       "      <td>95</td>\n",
       "    </tr>\n",
       "    <tr>\n",
       "      <th>3</th>\n",
       "      <td>21894</td>\n",
       "      <td>пиццетория</td>\n",
       "      <td>да</td>\n",
       "      <td>кафе</td>\n",
       "      <td>город Москва, Абрамцевская улица, дом 1</td>\n",
       "      <td>40</td>\n",
       "    </tr>\n",
       "    <tr>\n",
       "      <th>4</th>\n",
       "      <td>119365</td>\n",
       "      <td>кафе «вишневая метель»</td>\n",
       "      <td>нет</td>\n",
       "      <td>кафе</td>\n",
       "      <td>город Москва, Абрамцевская улица, дом 9, корпус 1</td>\n",
       "      <td>50</td>\n",
       "    </tr>\n",
       "    <tr>\n",
       "      <th>...</th>\n",
       "      <td>...</td>\n",
       "      <td>...</td>\n",
       "      <td>...</td>\n",
       "      <td>...</td>\n",
       "      <td>...</td>\n",
       "      <td>...</td>\n",
       "    </tr>\n",
       "    <tr>\n",
       "      <th>15276</th>\n",
       "      <td>208537</td>\n",
       "      <td>шоколадница</td>\n",
       "      <td>да</td>\n",
       "      <td>кафе</td>\n",
       "      <td>город Москва, 3-й Крутицкий переулок, дом 18</td>\n",
       "      <td>50</td>\n",
       "    </tr>\n",
       "    <tr>\n",
       "      <th>15277</th>\n",
       "      <td>209264</td>\n",
       "      <td>шоколадница</td>\n",
       "      <td>да</td>\n",
       "      <td>кафе</td>\n",
       "      <td>город Москва, улица Земляной Вал, дом 33</td>\n",
       "      <td>10</td>\n",
       "    </tr>\n",
       "    <tr>\n",
       "      <th>15278</th>\n",
       "      <td>209186</td>\n",
       "      <td>шоколадница</td>\n",
       "      <td>да</td>\n",
       "      <td>кафе</td>\n",
       "      <td>город Москва, улица Земляной Вал, дом 33</td>\n",
       "      <td>20</td>\n",
       "    </tr>\n",
       "    <tr>\n",
       "      <th>15279</th>\n",
       "      <td>221900</td>\n",
       "      <td>шоколадница</td>\n",
       "      <td>да</td>\n",
       "      <td>кафе</td>\n",
       "      <td>город Москва, поселение Московский, Киевское ш...</td>\n",
       "      <td>36</td>\n",
       "    </tr>\n",
       "    <tr>\n",
       "      <th>15280</th>\n",
       "      <td>222535</td>\n",
       "      <td>шоколадница</td>\n",
       "      <td>да</td>\n",
       "      <td>кафе</td>\n",
       "      <td>город Москва, Ходынский бульвар, дом 4</td>\n",
       "      <td>10</td>\n",
       "    </tr>\n",
       "  </tbody>\n",
       "</table>\n",
       "<p>15281 rows × 6 columns</p>\n",
       "</div>"
      ],
      "text/plain": [
       "           id             object_name chain object_type  \\\n",
       "0      151635                 сметана   нет        кафе   \n",
       "1       77874                  родник   нет        кафе   \n",
       "2       24309         кафе «академия»   нет        кафе   \n",
       "3       21894              пиццетория    да        кафе   \n",
       "4      119365  кафе «вишневая метель»   нет        кафе   \n",
       "...       ...                     ...   ...         ...   \n",
       "15276  208537             шоколадница    да        кафе   \n",
       "15277  209264             шоколадница    да        кафе   \n",
       "15278  209186             шоколадница    да        кафе   \n",
       "15279  221900             шоколадница    да        кафе   \n",
       "15280  222535             шоколадница    да        кафе   \n",
       "\n",
       "                                                 address  number  \n",
       "0             город Москва, улица Егора Абакумова, дом 9      48  \n",
       "1      город Москва, улица Талалихина, дом 2/1, корпус 1      35  \n",
       "2              город Москва, Абельмановская улица, дом 6      95  \n",
       "3                город Москва, Абрамцевская улица, дом 1      40  \n",
       "4      город Москва, Абрамцевская улица, дом 9, корпус 1      50  \n",
       "...                                                  ...     ...  \n",
       "15276       город Москва, 3-й Крутицкий переулок, дом 18      50  \n",
       "15277           город Москва, улица Земляной Вал, дом 33      10  \n",
       "15278           город Москва, улица Земляной Вал, дом 33      20  \n",
       "15279  город Москва, поселение Московский, Киевское ш...      36  \n",
       "15280             город Москва, Ходынский бульвар, дом 4      10  \n",
       "\n",
       "[15281 rows x 6 columns]"
      ]
     },
     "execution_count": 6,
     "metadata": {},
     "output_type": "execute_result"
    }
   ],
   "source": [
    "# Избавимся от небольшого количества явных дубликатов\n",
    "rest_data.drop_duplicates(\n",
    "    subset=['object_name', 'object_type', 'address', 'number']).reset_index(drop=True)"
   ]
  },
  {
   "cell_type": "markdown",
   "metadata": {},
   "source": [
    "### Вывод\n",
    "В предобработке мы частично привели названия заведений к общему порядку. Для составления словаря названий данные прорабатывались вручную, в связи с чем к одному названию были приведены только крупные сети, которые были \"на виду\". Несмотря на разные идентификаторы, 85 заведений схожих по названию, типу, адресу и количеству мест, были удалены. "
   ]
  },
  {
   "cell_type": "markdown",
   "metadata": {},
   "source": [
    "## Исследовательский анализ данных (EDA)"
   ]
  },
  {
   "cell_type": "markdown",
   "metadata": {
    "scrolled": false
   },
   "source": [
    "### Cоотношение видов объектов общественного питания по количеству"
   ]
  },
  {
   "cell_type": "code",
   "execution_count": 7,
   "metadata": {},
   "outputs": [
    {
     "data": {
      "application/vnd.plotly.v1+json": {
       "config": {
        "plotlyServerURL": "https://plot.ly"
       },
       "data": [
        {
         "alignmentgroup": "True",
         "hovertemplate": "Тип объекта=%{x}<br>Количество=%{y}<extra></extra>",
         "legendgroup": "",
         "marker": {
          "color": "#636efa",
          "pattern": {
           "shape": ""
          }
         },
         "name": "",
         "offsetgroup": "",
         "orientation": "v",
         "showlegend": false,
         "textposition": "auto",
         "type": "bar",
         "x": [
          "кафе",
          "столовая",
          "ресторан",
          "предприятие быстрого обслуживания",
          "бар",
          "буфет",
          "кафетерий",
          "закусочная",
          "магазин (отдел кулинарии)"
         ],
         "xaxis": "x",
         "y": [
          6099,
          2587,
          2285,
          1923,
          856,
          585,
          398,
          360,
          273
         ],
         "yaxis": "y"
        }
       ],
       "layout": {
        "barmode": "relative",
        "legend": {
         "tracegroupgap": 0
        },
        "template": {
         "data": {
          "bar": [
           {
            "error_x": {
             "color": "#2a3f5f"
            },
            "error_y": {
             "color": "#2a3f5f"
            },
            "marker": {
             "line": {
              "color": "#E5ECF6",
              "width": 0.5
             },
             "pattern": {
              "fillmode": "overlay",
              "size": 10,
              "solidity": 0.2
             }
            },
            "type": "bar"
           }
          ],
          "barpolar": [
           {
            "marker": {
             "line": {
              "color": "#E5ECF6",
              "width": 0.5
             },
             "pattern": {
              "fillmode": "overlay",
              "size": 10,
              "solidity": 0.2
             }
            },
            "type": "barpolar"
           }
          ],
          "carpet": [
           {
            "aaxis": {
             "endlinecolor": "#2a3f5f",
             "gridcolor": "white",
             "linecolor": "white",
             "minorgridcolor": "white",
             "startlinecolor": "#2a3f5f"
            },
            "baxis": {
             "endlinecolor": "#2a3f5f",
             "gridcolor": "white",
             "linecolor": "white",
             "minorgridcolor": "white",
             "startlinecolor": "#2a3f5f"
            },
            "type": "carpet"
           }
          ],
          "choropleth": [
           {
            "colorbar": {
             "outlinewidth": 0,
             "ticks": ""
            },
            "type": "choropleth"
           }
          ],
          "contour": [
           {
            "colorbar": {
             "outlinewidth": 0,
             "ticks": ""
            },
            "colorscale": [
             [
              0,
              "#0d0887"
             ],
             [
              0.1111111111111111,
              "#46039f"
             ],
             [
              0.2222222222222222,
              "#7201a8"
             ],
             [
              0.3333333333333333,
              "#9c179e"
             ],
             [
              0.4444444444444444,
              "#bd3786"
             ],
             [
              0.5555555555555556,
              "#d8576b"
             ],
             [
              0.6666666666666666,
              "#ed7953"
             ],
             [
              0.7777777777777778,
              "#fb9f3a"
             ],
             [
              0.8888888888888888,
              "#fdca26"
             ],
             [
              1,
              "#f0f921"
             ]
            ],
            "type": "contour"
           }
          ],
          "contourcarpet": [
           {
            "colorbar": {
             "outlinewidth": 0,
             "ticks": ""
            },
            "type": "contourcarpet"
           }
          ],
          "heatmap": [
           {
            "colorbar": {
             "outlinewidth": 0,
             "ticks": ""
            },
            "colorscale": [
             [
              0,
              "#0d0887"
             ],
             [
              0.1111111111111111,
              "#46039f"
             ],
             [
              0.2222222222222222,
              "#7201a8"
             ],
             [
              0.3333333333333333,
              "#9c179e"
             ],
             [
              0.4444444444444444,
              "#bd3786"
             ],
             [
              0.5555555555555556,
              "#d8576b"
             ],
             [
              0.6666666666666666,
              "#ed7953"
             ],
             [
              0.7777777777777778,
              "#fb9f3a"
             ],
             [
              0.8888888888888888,
              "#fdca26"
             ],
             [
              1,
              "#f0f921"
             ]
            ],
            "type": "heatmap"
           }
          ],
          "heatmapgl": [
           {
            "colorbar": {
             "outlinewidth": 0,
             "ticks": ""
            },
            "colorscale": [
             [
              0,
              "#0d0887"
             ],
             [
              0.1111111111111111,
              "#46039f"
             ],
             [
              0.2222222222222222,
              "#7201a8"
             ],
             [
              0.3333333333333333,
              "#9c179e"
             ],
             [
              0.4444444444444444,
              "#bd3786"
             ],
             [
              0.5555555555555556,
              "#d8576b"
             ],
             [
              0.6666666666666666,
              "#ed7953"
             ],
             [
              0.7777777777777778,
              "#fb9f3a"
             ],
             [
              0.8888888888888888,
              "#fdca26"
             ],
             [
              1,
              "#f0f921"
             ]
            ],
            "type": "heatmapgl"
           }
          ],
          "histogram": [
           {
            "marker": {
             "pattern": {
              "fillmode": "overlay",
              "size": 10,
              "solidity": 0.2
             }
            },
            "type": "histogram"
           }
          ],
          "histogram2d": [
           {
            "colorbar": {
             "outlinewidth": 0,
             "ticks": ""
            },
            "colorscale": [
             [
              0,
              "#0d0887"
             ],
             [
              0.1111111111111111,
              "#46039f"
             ],
             [
              0.2222222222222222,
              "#7201a8"
             ],
             [
              0.3333333333333333,
              "#9c179e"
             ],
             [
              0.4444444444444444,
              "#bd3786"
             ],
             [
              0.5555555555555556,
              "#d8576b"
             ],
             [
              0.6666666666666666,
              "#ed7953"
             ],
             [
              0.7777777777777778,
              "#fb9f3a"
             ],
             [
              0.8888888888888888,
              "#fdca26"
             ],
             [
              1,
              "#f0f921"
             ]
            ],
            "type": "histogram2d"
           }
          ],
          "histogram2dcontour": [
           {
            "colorbar": {
             "outlinewidth": 0,
             "ticks": ""
            },
            "colorscale": [
             [
              0,
              "#0d0887"
             ],
             [
              0.1111111111111111,
              "#46039f"
             ],
             [
              0.2222222222222222,
              "#7201a8"
             ],
             [
              0.3333333333333333,
              "#9c179e"
             ],
             [
              0.4444444444444444,
              "#bd3786"
             ],
             [
              0.5555555555555556,
              "#d8576b"
             ],
             [
              0.6666666666666666,
              "#ed7953"
             ],
             [
              0.7777777777777778,
              "#fb9f3a"
             ],
             [
              0.8888888888888888,
              "#fdca26"
             ],
             [
              1,
              "#f0f921"
             ]
            ],
            "type": "histogram2dcontour"
           }
          ],
          "mesh3d": [
           {
            "colorbar": {
             "outlinewidth": 0,
             "ticks": ""
            },
            "type": "mesh3d"
           }
          ],
          "parcoords": [
           {
            "line": {
             "colorbar": {
              "outlinewidth": 0,
              "ticks": ""
             }
            },
            "type": "parcoords"
           }
          ],
          "pie": [
           {
            "automargin": true,
            "type": "pie"
           }
          ],
          "scatter": [
           {
            "fillpattern": {
             "fillmode": "overlay",
             "size": 10,
             "solidity": 0.2
            },
            "type": "scatter"
           }
          ],
          "scatter3d": [
           {
            "line": {
             "colorbar": {
              "outlinewidth": 0,
              "ticks": ""
             }
            },
            "marker": {
             "colorbar": {
              "outlinewidth": 0,
              "ticks": ""
             }
            },
            "type": "scatter3d"
           }
          ],
          "scattercarpet": [
           {
            "marker": {
             "colorbar": {
              "outlinewidth": 0,
              "ticks": ""
             }
            },
            "type": "scattercarpet"
           }
          ],
          "scattergeo": [
           {
            "marker": {
             "colorbar": {
              "outlinewidth": 0,
              "ticks": ""
             }
            },
            "type": "scattergeo"
           }
          ],
          "scattergl": [
           {
            "marker": {
             "colorbar": {
              "outlinewidth": 0,
              "ticks": ""
             }
            },
            "type": "scattergl"
           }
          ],
          "scattermapbox": [
           {
            "marker": {
             "colorbar": {
              "outlinewidth": 0,
              "ticks": ""
             }
            },
            "type": "scattermapbox"
           }
          ],
          "scatterpolar": [
           {
            "marker": {
             "colorbar": {
              "outlinewidth": 0,
              "ticks": ""
             }
            },
            "type": "scatterpolar"
           }
          ],
          "scatterpolargl": [
           {
            "marker": {
             "colorbar": {
              "outlinewidth": 0,
              "ticks": ""
             }
            },
            "type": "scatterpolargl"
           }
          ],
          "scatterternary": [
           {
            "marker": {
             "colorbar": {
              "outlinewidth": 0,
              "ticks": ""
             }
            },
            "type": "scatterternary"
           }
          ],
          "surface": [
           {
            "colorbar": {
             "outlinewidth": 0,
             "ticks": ""
            },
            "colorscale": [
             [
              0,
              "#0d0887"
             ],
             [
              0.1111111111111111,
              "#46039f"
             ],
             [
              0.2222222222222222,
              "#7201a8"
             ],
             [
              0.3333333333333333,
              "#9c179e"
             ],
             [
              0.4444444444444444,
              "#bd3786"
             ],
             [
              0.5555555555555556,
              "#d8576b"
             ],
             [
              0.6666666666666666,
              "#ed7953"
             ],
             [
              0.7777777777777778,
              "#fb9f3a"
             ],
             [
              0.8888888888888888,
              "#fdca26"
             ],
             [
              1,
              "#f0f921"
             ]
            ],
            "type": "surface"
           }
          ],
          "table": [
           {
            "cells": {
             "fill": {
              "color": "#EBF0F8"
             },
             "line": {
              "color": "white"
             }
            },
            "header": {
             "fill": {
              "color": "#C8D4E3"
             },
             "line": {
              "color": "white"
             }
            },
            "type": "table"
           }
          ]
         },
         "layout": {
          "annotationdefaults": {
           "arrowcolor": "#2a3f5f",
           "arrowhead": 0,
           "arrowwidth": 1
          },
          "autotypenumbers": "strict",
          "coloraxis": {
           "colorbar": {
            "outlinewidth": 0,
            "ticks": ""
           }
          },
          "colorscale": {
           "diverging": [
            [
             0,
             "#8e0152"
            ],
            [
             0.1,
             "#c51b7d"
            ],
            [
             0.2,
             "#de77ae"
            ],
            [
             0.3,
             "#f1b6da"
            ],
            [
             0.4,
             "#fde0ef"
            ],
            [
             0.5,
             "#f7f7f7"
            ],
            [
             0.6,
             "#e6f5d0"
            ],
            [
             0.7,
             "#b8e186"
            ],
            [
             0.8,
             "#7fbc41"
            ],
            [
             0.9,
             "#4d9221"
            ],
            [
             1,
             "#276419"
            ]
           ],
           "sequential": [
            [
             0,
             "#0d0887"
            ],
            [
             0.1111111111111111,
             "#46039f"
            ],
            [
             0.2222222222222222,
             "#7201a8"
            ],
            [
             0.3333333333333333,
             "#9c179e"
            ],
            [
             0.4444444444444444,
             "#bd3786"
            ],
            [
             0.5555555555555556,
             "#d8576b"
            ],
            [
             0.6666666666666666,
             "#ed7953"
            ],
            [
             0.7777777777777778,
             "#fb9f3a"
            ],
            [
             0.8888888888888888,
             "#fdca26"
            ],
            [
             1,
             "#f0f921"
            ]
           ],
           "sequentialminus": [
            [
             0,
             "#0d0887"
            ],
            [
             0.1111111111111111,
             "#46039f"
            ],
            [
             0.2222222222222222,
             "#7201a8"
            ],
            [
             0.3333333333333333,
             "#9c179e"
            ],
            [
             0.4444444444444444,
             "#bd3786"
            ],
            [
             0.5555555555555556,
             "#d8576b"
            ],
            [
             0.6666666666666666,
             "#ed7953"
            ],
            [
             0.7777777777777778,
             "#fb9f3a"
            ],
            [
             0.8888888888888888,
             "#fdca26"
            ],
            [
             1,
             "#f0f921"
            ]
           ]
          },
          "colorway": [
           "#636efa",
           "#EF553B",
           "#00cc96",
           "#ab63fa",
           "#FFA15A",
           "#19d3f3",
           "#FF6692",
           "#B6E880",
           "#FF97FF",
           "#FECB52"
          ],
          "font": {
           "color": "#2a3f5f"
          },
          "geo": {
           "bgcolor": "white",
           "lakecolor": "white",
           "landcolor": "#E5ECF6",
           "showlakes": true,
           "showland": true,
           "subunitcolor": "white"
          },
          "hoverlabel": {
           "align": "left"
          },
          "hovermode": "closest",
          "mapbox": {
           "style": "light"
          },
          "paper_bgcolor": "white",
          "plot_bgcolor": "#E5ECF6",
          "polar": {
           "angularaxis": {
            "gridcolor": "white",
            "linecolor": "white",
            "ticks": ""
           },
           "bgcolor": "#E5ECF6",
           "radialaxis": {
            "gridcolor": "white",
            "linecolor": "white",
            "ticks": ""
           }
          },
          "scene": {
           "xaxis": {
            "backgroundcolor": "#E5ECF6",
            "gridcolor": "white",
            "gridwidth": 2,
            "linecolor": "white",
            "showbackground": true,
            "ticks": "",
            "zerolinecolor": "white"
           },
           "yaxis": {
            "backgroundcolor": "#E5ECF6",
            "gridcolor": "white",
            "gridwidth": 2,
            "linecolor": "white",
            "showbackground": true,
            "ticks": "",
            "zerolinecolor": "white"
           },
           "zaxis": {
            "backgroundcolor": "#E5ECF6",
            "gridcolor": "white",
            "gridwidth": 2,
            "linecolor": "white",
            "showbackground": true,
            "ticks": "",
            "zerolinecolor": "white"
           }
          },
          "shapedefaults": {
           "line": {
            "color": "#2a3f5f"
           }
          },
          "ternary": {
           "aaxis": {
            "gridcolor": "white",
            "linecolor": "white",
            "ticks": ""
           },
           "baxis": {
            "gridcolor": "white",
            "linecolor": "white",
            "ticks": ""
           },
           "bgcolor": "#E5ECF6",
           "caxis": {
            "gridcolor": "white",
            "linecolor": "white",
            "ticks": ""
           }
          },
          "title": {
           "x": 0.05
          },
          "xaxis": {
           "automargin": true,
           "gridcolor": "white",
           "linecolor": "white",
           "ticks": "",
           "title": {
            "standoff": 15
           },
           "zerolinecolor": "white",
           "zerolinewidth": 2
          },
          "yaxis": {
           "automargin": true,
           "gridcolor": "white",
           "linecolor": "white",
           "ticks": "",
           "title": {
            "standoff": 15
           },
           "zerolinecolor": "white",
           "zerolinewidth": 2
          }
         }
        },
        "title": {
         "text": "Соотношение видов объектов питания"
        },
        "xaxis": {
         "anchor": "y",
         "domain": [
          0,
          1
         ],
         "title": {
          "text": "Тип объекта"
         }
        },
        "yaxis": {
         "anchor": "x",
         "domain": [
          0,
          1
         ],
         "title": {
          "text": "Количество"
         }
        }
       }
      }
     },
     "metadata": {},
     "output_type": "display_data"
    }
   ],
   "source": [
    "# Сгруппируем данные по типу заведения, посчитаем их количество и построим график\n",
    "type_cnt = rest_data.groupby(\n",
    "    'object_type').agg({'id' : 'count'}).sort_values(by='id', ascending=False).reset_index()\n",
    "type_cnt.columns = ['Тип объекта', 'Количество']\n",
    "fig = px.bar(type_cnt, x='Тип объекта', y='Количество', title='Соотношение видов объектов питания')\n",
    "fig.show()"
   ]
  },
  {
   "cell_type": "code",
   "execution_count": 8,
   "metadata": {},
   "outputs": [
    {
     "data": {
      "image/png": "[encoded data removed]",
      "text/plain": [
       "<Figure size 640x480 with 1 Axes>"
      ]
     },
     "metadata": {},
     "output_type": "display_data"
    }
   ],
   "source": [
    "plt.pie(type_cnt['Количество'], \n",
    "        labels = type_cnt['Тип объекта'], \n",
    "        autopct='%.1f%%', \n",
    "        radius= 1, pctdistance = 0.7)\n",
    "plt.show();"
   ]
  },
  {
   "cell_type": "markdown",
   "metadata": {},
   "source": [
    "#### Вывод\n",
    "Количество кафе значительно превалирует над остальными типами заведений с показателем - 6099 (39,7%). Количество столовых, ресторанов и предприятий быстрого обслуживания значительно ниже количества кафе и находится на уровне средних значений графика - от 2587 до 1923. Меньше всего среди рассматриваемых типов заведений - магазинов с отделами кулинарии - 273 (1,8%). Можно предположить, что кафе больше всего из-за универсальности его понятия, в той или иной мере включающего в себя понятия остальных заведений."
   ]
  },
  {
   "cell_type": "markdown",
   "metadata": {},
   "source": [
    "### Cоотношение сетевых и несетевых заведений по их количеству"
   ]
  },
  {
   "cell_type": "code",
   "execution_count": 9,
   "metadata": {
    "scrolled": false
   },
   "outputs": [
    {
     "data": {
      "application/vnd.plotly.v1+json": {
       "config": {
        "plotlyServerURL": "https://plot.ly"
       },
       "data": [
        {
         "alignmentgroup": "True",
         "hovertemplate": "Сеть=нет<br>Тип объекта=%{x}<br>Количество=%{y}<extra></extra>",
         "legendgroup": "нет",
         "marker": {
          "color": "#636efa",
          "pattern": {
           "shape": ""
          }
         },
         "name": "нет",
         "offsetgroup": "нет",
         "orientation": "v",
         "showlegend": true,
         "textposition": "auto",
         "type": "bar",
         "x": [
          "кафе",
          "столовая",
          "ресторан",
          "предприятие быстрого обслуживания",
          "бар",
          "буфет",
          "кафетерий",
          "закусочная",
          "магазин (отдел кулинарии)"
         ],
         "xaxis": "x",
         "y": [
          4703,
          2584,
          1741,
          1132,
          819,
          574,
          346,
          304,
          195
         ],
         "yaxis": "y"
        },
        {
         "alignmentgroup": "True",
         "hovertemplate": "Сеть=да<br>Тип объекта=%{x}<br>Количество=%{y}<extra></extra>",
         "legendgroup": "да",
         "marker": {
          "color": "#EF553B",
          "pattern": {
           "shape": ""
          }
         },
         "name": "да",
         "offsetgroup": "да",
         "orientation": "v",
         "showlegend": true,
         "textposition": "auto",
         "type": "bar",
         "x": [
          "кафе",
          "предприятие быстрого обслуживания",
          "ресторан",
          "магазин (отдел кулинарии)",
          "закусочная",
          "кафетерий",
          "бар",
          "буфет",
          "столовая"
         ],
         "xaxis": "x",
         "y": [
          1396,
          791,
          544,
          78,
          56,
          52,
          37,
          11,
          3
         ],
         "yaxis": "y"
        }
       ],
       "layout": {
        "barmode": "relative",
        "legend": {
         "title": {
          "text": "Сеть"
         },
         "tracegroupgap": 0
        },
        "template": {
         "data": {
          "bar": [
           {
            "error_x": {
             "color": "#2a3f5f"
            },
            "error_y": {
             "color": "#2a3f5f"
            },
            "marker": {
             "line": {
              "color": "#E5ECF6",
              "width": 0.5
             },
             "pattern": {
              "fillmode": "overlay",
              "size": 10,
              "solidity": 0.2
             }
            },
            "type": "bar"
           }
          ],
          "barpolar": [
           {
            "marker": {
             "line": {
              "color": "#E5ECF6",
              "width": 0.5
             },
             "pattern": {
              "fillmode": "overlay",
              "size": 10,
              "solidity": 0.2
             }
            },
            "type": "barpolar"
           }
          ],
          "carpet": [
           {
            "aaxis": {
             "endlinecolor": "#2a3f5f",
             "gridcolor": "white",
             "linecolor": "white",
             "minorgridcolor": "white",
             "startlinecolor": "#2a3f5f"
            },
            "baxis": {
             "endlinecolor": "#2a3f5f",
             "gridcolor": "white",
             "linecolor": "white",
             "minorgridcolor": "white",
             "startlinecolor": "#2a3f5f"
            },
            "type": "carpet"
           }
          ],
          "choropleth": [
           {
            "colorbar": {
             "outlinewidth": 0,
             "ticks": ""
            },
            "type": "choropleth"
           }
          ],
          "contour": [
           {
            "colorbar": {
             "outlinewidth": 0,
             "ticks": ""
            },
            "colorscale": [
             [
              0,
              "#0d0887"
             ],
             [
              0.1111111111111111,
              "#46039f"
             ],
             [
              0.2222222222222222,
              "#7201a8"
             ],
             [
              0.3333333333333333,
              "#9c179e"
             ],
             [
              0.4444444444444444,
              "#bd3786"
             ],
             [
              0.5555555555555556,
              "#d8576b"
             ],
             [
              0.6666666666666666,
              "#ed7953"
             ],
             [
              0.7777777777777778,
              "#fb9f3a"
             ],
             [
              0.8888888888888888,
              "#fdca26"
             ],
             [
              1,
              "#f0f921"
             ]
            ],
            "type": "contour"
           }
          ],
          "contourcarpet": [
           {
            "colorbar": {
             "outlinewidth": 0,
             "ticks": ""
            },
            "type": "contourcarpet"
           }
          ],
          "heatmap": [
           {
            "colorbar": {
             "outlinewidth": 0,
             "ticks": ""
            },
            "colorscale": [
             [
              0,
              "#0d0887"
             ],
             [
              0.1111111111111111,
              "#46039f"
             ],
             [
              0.2222222222222222,
              "#7201a8"
             ],
             [
              0.3333333333333333,
              "#9c179e"
             ],
             [
              0.4444444444444444,
              "#bd3786"
             ],
             [
              0.5555555555555556,
              "#d8576b"
             ],
             [
              0.6666666666666666,
              "#ed7953"
             ],
             [
              0.7777777777777778,
              "#fb9f3a"
             ],
             [
              0.8888888888888888,
              "#fdca26"
             ],
             [
              1,
              "#f0f921"
             ]
            ],
            "type": "heatmap"
           }
          ],
          "heatmapgl": [
           {
            "colorbar": {
             "outlinewidth": 0,
             "ticks": ""
            },
            "colorscale": [
             [
              0,
              "#0d0887"
             ],
             [
              0.1111111111111111,
              "#46039f"
             ],
             [
              0.2222222222222222,
              "#7201a8"
             ],
             [
              0.3333333333333333,
              "#9c179e"
             ],
             [
              0.4444444444444444,
              "#bd3786"
             ],
             [
              0.5555555555555556,
              "#d8576b"
             ],
             [
              0.6666666666666666,
              "#ed7953"
             ],
             [
              0.7777777777777778,
              "#fb9f3a"
             ],
             [
              0.8888888888888888,
              "#fdca26"
             ],
             [
              1,
              "#f0f921"
             ]
            ],
            "type": "heatmapgl"
           }
          ],
          "histogram": [
           {
            "marker": {
             "pattern": {
              "fillmode": "overlay",
              "size": 10,
              "solidity": 0.2
             }
            },
            "type": "histogram"
           }
          ],
          "histogram2d": [
           {
            "colorbar": {
             "outlinewidth": 0,
             "ticks": ""
            },
            "colorscale": [
             [
              0,
              "#0d0887"
             ],
             [
              0.1111111111111111,
              "#46039f"
             ],
             [
              0.2222222222222222,
              "#7201a8"
             ],
             [
              0.3333333333333333,
              "#9c179e"
             ],
             [
              0.4444444444444444,
              "#bd3786"
             ],
             [
              0.5555555555555556,
              "#d8576b"
             ],
             [
              0.6666666666666666,
              "#ed7953"
             ],
             [
              0.7777777777777778,
              "#fb9f3a"
             ],
             [
              0.8888888888888888,
              "#fdca26"
             ],
             [
              1,
              "#f0f921"
             ]
            ],
            "type": "histogram2d"
           }
          ],
          "histogram2dcontour": [
           {
            "colorbar": {
             "outlinewidth": 0,
             "ticks": ""
            },
            "colorscale": [
             [
              0,
              "#0d0887"
             ],
             [
              0.1111111111111111,
              "#46039f"
             ],
             [
              0.2222222222222222,
              "#7201a8"
             ],
             [
              0.3333333333333333,
              "#9c179e"
             ],
             [
              0.4444444444444444,
              "#bd3786"
             ],
             [
              0.5555555555555556,
              "#d8576b"
             ],
             [
              0.6666666666666666,
              "#ed7953"
             ],
             [
              0.7777777777777778,
              "#fb9f3a"
             ],
             [
              0.8888888888888888,
              "#fdca26"
             ],
             [
              1,
              "#f0f921"
             ]
            ],
            "type": "histogram2dcontour"
           }
          ],
          "mesh3d": [
           {
            "colorbar": {
             "outlinewidth": 0,
             "ticks": ""
            },
            "type": "mesh3d"
           }
          ],
          "parcoords": [
           {
            "line": {
             "colorbar": {
              "outlinewidth": 0,
              "ticks": ""
             }
            },
            "type": "parcoords"
           }
          ],
          "pie": [
           {
            "automargin": true,
            "type": "pie"
           }
          ],
          "scatter": [
           {
            "fillpattern": {
             "fillmode": "overlay",
             "size": 10,
             "solidity": 0.2
            },
            "type": "scatter"
           }
          ],
          "scatter3d": [
           {
            "line": {
             "colorbar": {
              "outlinewidth": 0,
              "ticks": ""
             }
            },
            "marker": {
             "colorbar": {
              "outlinewidth": 0,
              "ticks": ""
             }
            },
            "type": "scatter3d"
           }
          ],
          "scattercarpet": [
           {
            "marker": {
             "colorbar": {
              "outlinewidth": 0,
              "ticks": ""
             }
            },
            "type": "scattercarpet"
           }
          ],
          "scattergeo": [
           {
            "marker": {
             "colorbar": {
              "outlinewidth": 0,
              "ticks": ""
             }
            },
            "type": "scattergeo"
           }
          ],
          "scattergl": [
           {
            "marker": {
             "colorbar": {
              "outlinewidth": 0,
              "ticks": ""
             }
            },
            "type": "scattergl"
           }
          ],
          "scattermapbox": [
           {
            "marker": {
             "colorbar": {
              "outlinewidth": 0,
              "ticks": ""
             }
            },
            "type": "scattermapbox"
           }
          ],
          "scatterpolar": [
           {
            "marker": {
             "colorbar": {
              "outlinewidth": 0,
              "ticks": ""
             }
            },
            "type": "scatterpolar"
           }
          ],
          "scatterpolargl": [
           {
            "marker": {
             "colorbar": {
              "outlinewidth": 0,
              "ticks": ""
             }
            },
            "type": "scatterpolargl"
           }
          ],
          "scatterternary": [
           {
            "marker": {
             "colorbar": {
              "outlinewidth": 0,
              "ticks": ""
             }
            },
            "type": "scatterternary"
           }
          ],
          "surface": [
           {
            "colorbar": {
             "outlinewidth": 0,
             "ticks": ""
            },
            "colorscale": [
             [
              0,
              "#0d0887"
             ],
             [
              0.1111111111111111,
              "#46039f"
             ],
             [
              0.2222222222222222,
              "#7201a8"
             ],
             [
              0.3333333333333333,
              "#9c179e"
             ],
             [
              0.4444444444444444,
              "#bd3786"
             ],
             [
              0.5555555555555556,
              "#d8576b"
             ],
             [
              0.6666666666666666,
              "#ed7953"
             ],
             [
              0.7777777777777778,
              "#fb9f3a"
             ],
             [
              0.8888888888888888,
              "#fdca26"
             ],
             [
              1,
              "#f0f921"
             ]
            ],
            "type": "surface"
           }
          ],
          "table": [
           {
            "cells": {
             "fill": {
              "color": "#EBF0F8"
             },
             "line": {
              "color": "white"
             }
            },
            "header": {
             "fill": {
              "color": "#C8D4E3"
             },
             "line": {
              "color": "white"
             }
            },
            "type": "table"
           }
          ]
         },
         "layout": {
          "annotationdefaults": {
           "arrowcolor": "#2a3f5f",
           "arrowhead": 0,
           "arrowwidth": 1
          },
          "autotypenumbers": "strict",
          "coloraxis": {
           "colorbar": {
            "outlinewidth": 0,
            "ticks": ""
           }
          },
          "colorscale": {
           "diverging": [
            [
             0,
             "#8e0152"
            ],
            [
             0.1,
             "#c51b7d"
            ],
            [
             0.2,
             "#de77ae"
            ],
            [
             0.3,
             "#f1b6da"
            ],
            [
             0.4,
             "#fde0ef"
            ],
            [
             0.5,
             "#f7f7f7"
            ],
            [
             0.6,
             "#e6f5d0"
            ],
            [
             0.7,
             "#b8e186"
            ],
            [
             0.8,
             "#7fbc41"
            ],
            [
             0.9,
             "#4d9221"
            ],
            [
             1,
             "#276419"
            ]
           ],
           "sequential": [
            [
             0,
             "#0d0887"
            ],
            [
             0.1111111111111111,
             "#46039f"
            ],
            [
             0.2222222222222222,
             "#7201a8"
            ],
            [
             0.3333333333333333,
             "#9c179e"
            ],
            [
             0.4444444444444444,
             "#bd3786"
            ],
            [
             0.5555555555555556,
             "#d8576b"
            ],
            [
             0.6666666666666666,
             "#ed7953"
            ],
            [
             0.7777777777777778,
             "#fb9f3a"
            ],
            [
             0.8888888888888888,
             "#fdca26"
            ],
            [
             1,
             "#f0f921"
            ]
           ],
           "sequentialminus": [
            [
             0,
             "#0d0887"
            ],
            [
             0.1111111111111111,
             "#46039f"
            ],
            [
             0.2222222222222222,
             "#7201a8"
            ],
            [
             0.3333333333333333,
             "#9c179e"
            ],
            [
             0.4444444444444444,
             "#bd3786"
            ],
            [
             0.5555555555555556,
             "#d8576b"
            ],
            [
             0.6666666666666666,
             "#ed7953"
            ],
            [
             0.7777777777777778,
             "#fb9f3a"
            ],
            [
             0.8888888888888888,
             "#fdca26"
            ],
            [
             1,
             "#f0f921"
            ]
           ]
          },
          "colorway": [
           "#636efa",
           "#EF553B",
           "#00cc96",
           "#ab63fa",
           "#FFA15A",
           "#19d3f3",
           "#FF6692",
           "#B6E880",
           "#FF97FF",
           "#FECB52"
          ],
          "font": {
           "color": "#2a3f5f"
          },
          "geo": {
           "bgcolor": "white",
           "lakecolor": "white",
           "landcolor": "#E5ECF6",
           "showlakes": true,
           "showland": true,
           "subunitcolor": "white"
          },
          "hoverlabel": {
           "align": "left"
          },
          "hovermode": "closest",
          "mapbox": {
           "style": "light"
          },
          "paper_bgcolor": "white",
          "plot_bgcolor": "#E5ECF6",
          "polar": {
           "angularaxis": {
            "gridcolor": "white",
            "linecolor": "white",
            "ticks": ""
           },
           "bgcolor": "#E5ECF6",
           "radialaxis": {
            "gridcolor": "white",
            "linecolor": "white",
            "ticks": ""
           }
          },
          "scene": {
           "xaxis": {
            "backgroundcolor": "#E5ECF6",
            "gridcolor": "white",
            "gridwidth": 2,
            "linecolor": "white",
            "showbackground": true,
            "ticks": "",
            "zerolinecolor": "white"
           },
           "yaxis": {
            "backgroundcolor": "#E5ECF6",
            "gridcolor": "white",
            "gridwidth": 2,
            "linecolor": "white",
            "showbackground": true,
            "ticks": "",
            "zerolinecolor": "white"
           },
           "zaxis": {
            "backgroundcolor": "#E5ECF6",
            "gridcolor": "white",
            "gridwidth": 2,
            "linecolor": "white",
            "showbackground": true,
            "ticks": "",
            "zerolinecolor": "white"
           }
          },
          "shapedefaults": {
           "line": {
            "color": "#2a3f5f"
           }
          },
          "ternary": {
           "aaxis": {
            "gridcolor": "white",
            "linecolor": "white",
            "ticks": ""
           },
           "baxis": {
            "gridcolor": "white",
            "linecolor": "white",
            "ticks": ""
           },
           "bgcolor": "#E5ECF6",
           "caxis": {
            "gridcolor": "white",
            "linecolor": "white",
            "ticks": ""
           }
          },
          "title": {
           "x": 0.05
          },
          "xaxis": {
           "automargin": true,
           "gridcolor": "white",
           "linecolor": "white",
           "ticks": "",
           "title": {
            "standoff": 15
           },
           "zerolinecolor": "white",
           "zerolinewidth": 2
          },
          "yaxis": {
           "automargin": true,
           "gridcolor": "white",
           "linecolor": "white",
           "ticks": "",
           "title": {
            "standoff": 15
           },
           "zerolinecolor": "white",
           "zerolinewidth": 2
          }
         }
        },
        "title": {
         "text": "Соотношение сетевых и несетевых заведений"
        },
        "xaxis": {
         "anchor": "y",
         "domain": [
          0,
          1
         ],
         "tickmode": "array",
         "ticktext": [
          "кафе",
          "столовая",
          "ресторан",
          "кафе",
          "предприятие<br>быстрого<br>обслуживания",
          "бар",
          "предприятие<br>быстрого<br>обслуживания",
          "буфет",
          "ресторан",
          "кафетерий",
          "закусочная",
          "магазин<br>(отдел<br>кулинарии)",
          "магазин<br>(отдел<br>кулинарии)",
          "закусочная",
          "кафетерий",
          "бар",
          "буфет",
          "столовая"
         ],
         "tickvals": [
          "кафе",
          "столовая",
          "ресторан",
          "кафе",
          "предприятие быстрого обслуживания",
          "бар",
          "предприятие быстрого обслуживания",
          "буфет",
          "ресторан",
          "кафетерий",
          "закусочная",
          "магазин (отдел кулинарии)",
          "магазин (отдел кулинарии)",
          "закусочная",
          "кафетерий",
          "бар",
          "буфет",
          "столовая"
         ],
         "title": {
          "text": "Тип объекта"
         }
        },
        "yaxis": {
         "anchor": "x",
         "domain": [
          0,
          1
         ],
         "title": {
          "text": "Количество"
         }
        }
       }
      }
     },
     "metadata": {},
     "output_type": "display_data"
    },
    {
     "data": {
      "application/vnd.plotly.v1+json": {
       "config": {
        "plotlyServerURL": "https://plot.ly"
       },
       "data": [
        {
         "alignmentgroup": "True",
         "hovertemplate": "Сеть=нет<br>Тип объекта=%{x}<br>Количество=%{y}<extra></extra>",
         "legendgroup": "нет",
         "marker": {
          "color": "#636efa",
          "pattern": {
           "shape": ""
          }
         },
         "name": "нет",
         "offsetgroup": "нет",
         "orientation": "v",
         "showlegend": true,
         "textposition": "auto",
         "type": "bar",
         "x": [
          "кафе",
          "столовая",
          "ресторан",
          "предприятие быстрого обслуживания",
          "бар",
          "буфет",
          "кафетерий",
          "закусочная",
          "магазин (отдел кулинарии)"
         ],
         "xaxis": "x",
         "y": [
          4703,
          2584,
          1741,
          1132,
          819,
          574,
          346,
          304,
          195
         ],
         "yaxis": "y"
        },
        {
         "alignmentgroup": "True",
         "hovertemplate": "Сеть=да<br>Тип объекта=%{x}<br>Количество=%{y}<extra></extra>",
         "legendgroup": "да",
         "marker": {
          "color": "#EF553B",
          "pattern": {
           "shape": ""
          }
         },
         "name": "да",
         "offsetgroup": "да",
         "orientation": "v",
         "showlegend": true,
         "textposition": "auto",
         "type": "bar",
         "x": [
          "кафе",
          "предприятие быстрого обслуживания",
          "ресторан",
          "магазин (отдел кулинарии)",
          "закусочная",
          "кафетерий",
          "бар",
          "буфет",
          "столовая"
         ],
         "xaxis": "x",
         "y": [
          1396,
          791,
          544,
          78,
          56,
          52,
          37,
          11,
          3
         ],
         "yaxis": "y"
        }
       ],
       "layout": {
        "barmode": "relative",
        "legend": {
         "title": {
          "text": "Сеть"
         },
         "tracegroupgap": 0
        },
        "template": {
         "data": {
          "bar": [
           {
            "error_x": {
             "color": "#2a3f5f"
            },
            "error_y": {
             "color": "#2a3f5f"
            },
            "marker": {
             "line": {
              "color": "#E5ECF6",
              "width": 0.5
             },
             "pattern": {
              "fillmode": "overlay",
              "size": 10,
              "solidity": 0.2
             }
            },
            "type": "bar"
           }
          ],
          "barpolar": [
           {
            "marker": {
             "line": {
              "color": "#E5ECF6",
              "width": 0.5
             },
             "pattern": {
              "fillmode": "overlay",
              "size": 10,
              "solidity": 0.2
             }
            },
            "type": "barpolar"
           }
          ],
          "carpet": [
           {
            "aaxis": {
             "endlinecolor": "#2a3f5f",
             "gridcolor": "white",
             "linecolor": "white",
             "minorgridcolor": "white",
             "startlinecolor": "#2a3f5f"
            },
            "baxis": {
             "endlinecolor": "#2a3f5f",
             "gridcolor": "white",
             "linecolor": "white",
             "minorgridcolor": "white",
             "startlinecolor": "#2a3f5f"
            },
            "type": "carpet"
           }
          ],
          "choropleth": [
           {
            "colorbar": {
             "outlinewidth": 0,
             "ticks": ""
            },
            "type": "choropleth"
           }
          ],
          "contour": [
           {
            "colorbar": {
             "outlinewidth": 0,
             "ticks": ""
            },
            "colorscale": [
             [
              0,
              "#0d0887"
             ],
             [
              0.1111111111111111,
              "#46039f"
             ],
             [
              0.2222222222222222,
              "#7201a8"
             ],
             [
              0.3333333333333333,
              "#9c179e"
             ],
             [
              0.4444444444444444,
              "#bd3786"
             ],
             [
              0.5555555555555556,
              "#d8576b"
             ],
             [
              0.6666666666666666,
              "#ed7953"
             ],
             [
              0.7777777777777778,
              "#fb9f3a"
             ],
             [
              0.8888888888888888,
              "#fdca26"
             ],
             [
              1,
              "#f0f921"
             ]
            ],
            "type": "contour"
           }
          ],
          "contourcarpet": [
           {
            "colorbar": {
             "outlinewidth": 0,
             "ticks": ""
            },
            "type": "contourcarpet"
           }
          ],
          "heatmap": [
           {
            "colorbar": {
             "outlinewidth": 0,
             "ticks": ""
            },
            "colorscale": [
             [
              0,
              "#0d0887"
             ],
             [
              0.1111111111111111,
              "#46039f"
             ],
             [
              0.2222222222222222,
              "#7201a8"
             ],
             [
              0.3333333333333333,
              "#9c179e"
             ],
             [
              0.4444444444444444,
              "#bd3786"
             ],
             [
              0.5555555555555556,
              "#d8576b"
             ],
             [
              0.6666666666666666,
              "#ed7953"
             ],
             [
              0.7777777777777778,
              "#fb9f3a"
             ],
             [
              0.8888888888888888,
              "#fdca26"
             ],
             [
              1,
              "#f0f921"
             ]
            ],
            "type": "heatmap"
           }
          ],
          "heatmapgl": [
           {
            "colorbar": {
             "outlinewidth": 0,
             "ticks": ""
            },
            "colorscale": [
             [
              0,
              "#0d0887"
             ],
             [
              0.1111111111111111,
              "#46039f"
             ],
             [
              0.2222222222222222,
              "#7201a8"
             ],
             [
              0.3333333333333333,
              "#9c179e"
             ],
             [
              0.4444444444444444,
              "#bd3786"
             ],
             [
              0.5555555555555556,
              "#d8576b"
             ],
             [
              0.6666666666666666,
              "#ed7953"
             ],
             [
              0.7777777777777778,
              "#fb9f3a"
             ],
             [
              0.8888888888888888,
              "#fdca26"
             ],
             [
              1,
              "#f0f921"
             ]
            ],
            "type": "heatmapgl"
           }
          ],
          "histogram": [
           {
            "marker": {
             "pattern": {
              "fillmode": "overlay",
              "size": 10,
              "solidity": 0.2
             }
            },
            "type": "histogram"
           }
          ],
          "histogram2d": [
           {
            "colorbar": {
             "outlinewidth": 0,
             "ticks": ""
            },
            "colorscale": [
             [
              0,
              "#0d0887"
             ],
             [
              0.1111111111111111,
              "#46039f"
             ],
             [
              0.2222222222222222,
              "#7201a8"
             ],
             [
              0.3333333333333333,
              "#9c179e"
             ],
             [
              0.4444444444444444,
              "#bd3786"
             ],
             [
              0.5555555555555556,
              "#d8576b"
             ],
             [
              0.6666666666666666,
              "#ed7953"
             ],
             [
              0.7777777777777778,
              "#fb9f3a"
             ],
             [
              0.8888888888888888,
              "#fdca26"
             ],
             [
              1,
              "#f0f921"
             ]
            ],
            "type": "histogram2d"
           }
          ],
          "histogram2dcontour": [
           {
            "colorbar": {
             "outlinewidth": 0,
             "ticks": ""
            },
            "colorscale": [
             [
              0,
              "#0d0887"
             ],
             [
              0.1111111111111111,
              "#46039f"
             ],
             [
              0.2222222222222222,
              "#7201a8"
             ],
             [
              0.3333333333333333,
              "#9c179e"
             ],
             [
              0.4444444444444444,
              "#bd3786"
             ],
             [
              0.5555555555555556,
              "#d8576b"
             ],
             [
              0.6666666666666666,
              "#ed7953"
             ],
             [
              0.7777777777777778,
              "#fb9f3a"
             ],
             [
              0.8888888888888888,
              "#fdca26"
             ],
             [
              1,
              "#f0f921"
             ]
            ],
            "type": "histogram2dcontour"
           }
          ],
          "mesh3d": [
           {
            "colorbar": {
             "outlinewidth": 0,
             "ticks": ""
            },
            "type": "mesh3d"
           }
          ],
          "parcoords": [
           {
            "line": {
             "colorbar": {
              "outlinewidth": 0,
              "ticks": ""
             }
            },
            "type": "parcoords"
           }
          ],
          "pie": [
           {
            "automargin": true,
            "type": "pie"
           }
          ],
          "scatter": [
           {
            "fillpattern": {
             "fillmode": "overlay",
             "size": 10,
             "solidity": 0.2
            },
            "type": "scatter"
           }
          ],
          "scatter3d": [
           {
            "line": {
             "colorbar": {
              "outlinewidth": 0,
              "ticks": ""
             }
            },
            "marker": {
             "colorbar": {
              "outlinewidth": 0,
              "ticks": ""
             }
            },
            "type": "scatter3d"
           }
          ],
          "scattercarpet": [
           {
            "marker": {
             "colorbar": {
              "outlinewidth": 0,
              "ticks": ""
             }
            },
            "type": "scattercarpet"
           }
          ],
          "scattergeo": [
           {
            "marker": {
             "colorbar": {
              "outlinewidth": 0,
              "ticks": ""
             }
            },
            "type": "scattergeo"
           }
          ],
          "scattergl": [
           {
            "marker": {
             "colorbar": {
              "outlinewidth": 0,
              "ticks": ""
             }
            },
            "type": "scattergl"
           }
          ],
          "scattermapbox": [
           {
            "marker": {
             "colorbar": {
              "outlinewidth": 0,
              "ticks": ""
             }
            },
            "type": "scattermapbox"
           }
          ],
          "scatterpolar": [
           {
            "marker": {
             "colorbar": {
              "outlinewidth": 0,
              "ticks": ""
             }
            },
            "type": "scatterpolar"
           }
          ],
          "scatterpolargl": [
           {
            "marker": {
             "colorbar": {
              "outlinewidth": 0,
              "ticks": ""
             }
            },
            "type": "scatterpolargl"
           }
          ],
          "scatterternary": [
           {
            "marker": {
             "colorbar": {
              "outlinewidth": 0,
              "ticks": ""
             }
            },
            "type": "scatterternary"
           }
          ],
          "surface": [
           {
            "colorbar": {
             "outlinewidth": 0,
             "ticks": ""
            },
            "colorscale": [
             [
              0,
              "#0d0887"
             ],
             [
              0.1111111111111111,
              "#46039f"
             ],
             [
              0.2222222222222222,
              "#7201a8"
             ],
             [
              0.3333333333333333,
              "#9c179e"
             ],
             [
              0.4444444444444444,
              "#bd3786"
             ],
             [
              0.5555555555555556,
              "#d8576b"
             ],
             [
              0.6666666666666666,
              "#ed7953"
             ],
             [
              0.7777777777777778,
              "#fb9f3a"
             ],
             [
              0.8888888888888888,
              "#fdca26"
             ],
             [
              1,
              "#f0f921"
             ]
            ],
            "type": "surface"
           }
          ],
          "table": [
           {
            "cells": {
             "fill": {
              "color": "#EBF0F8"
             },
             "line": {
              "color": "white"
             }
            },
            "header": {
             "fill": {
              "color": "#C8D4E3"
             },
             "line": {
              "color": "white"
             }
            },
            "type": "table"
           }
          ]
         },
         "layout": {
          "annotationdefaults": {
           "arrowcolor": "#2a3f5f",
           "arrowhead": 0,
           "arrowwidth": 1
          },
          "autotypenumbers": "strict",
          "coloraxis": {
           "colorbar": {
            "outlinewidth": 0,
            "ticks": ""
           }
          },
          "colorscale": {
           "diverging": [
            [
             0,
             "#8e0152"
            ],
            [
             0.1,
             "#c51b7d"
            ],
            [
             0.2,
             "#de77ae"
            ],
            [
             0.3,
             "#f1b6da"
            ],
            [
             0.4,
             "#fde0ef"
            ],
            [
             0.5,
             "#f7f7f7"
            ],
            [
             0.6,
             "#e6f5d0"
            ],
            [
             0.7,
             "#b8e186"
            ],
            [
             0.8,
             "#7fbc41"
            ],
            [
             0.9,
             "#4d9221"
            ],
            [
             1,
             "#276419"
            ]
           ],
           "sequential": [
            [
             0,
             "#0d0887"
            ],
            [
             0.1111111111111111,
             "#46039f"
            ],
            [
             0.2222222222222222,
             "#7201a8"
            ],
            [
             0.3333333333333333,
             "#9c179e"
            ],
            [
             0.4444444444444444,
             "#bd3786"
            ],
            [
             0.5555555555555556,
             "#d8576b"
            ],
            [
             0.6666666666666666,
             "#ed7953"
            ],
            [
             0.7777777777777778,
             "#fb9f3a"
            ],
            [
             0.8888888888888888,
             "#fdca26"
            ],
            [
             1,
             "#f0f921"
            ]
           ],
           "sequentialminus": [
            [
             0,
             "#0d0887"
            ],
            [
             0.1111111111111111,
             "#46039f"
            ],
            [
             0.2222222222222222,
             "#7201a8"
            ],
            [
             0.3333333333333333,
             "#9c179e"
            ],
            [
             0.4444444444444444,
             "#bd3786"
            ],
            [
             0.5555555555555556,
             "#d8576b"
            ],
            [
             0.6666666666666666,
             "#ed7953"
            ],
            [
             0.7777777777777778,
             "#fb9f3a"
            ],
            [
             0.8888888888888888,
             "#fdca26"
            ],
            [
             1,
             "#f0f921"
            ]
           ]
          },
          "colorway": [
           "#636efa",
           "#EF553B",
           "#00cc96",
           "#ab63fa",
           "#FFA15A",
           "#19d3f3",
           "#FF6692",
           "#B6E880",
           "#FF97FF",
           "#FECB52"
          ],
          "font": {
           "color": "#2a3f5f"
          },
          "geo": {
           "bgcolor": "white",
           "lakecolor": "white",
           "landcolor": "#E5ECF6",
           "showlakes": true,
           "showland": true,
           "subunitcolor": "white"
          },
          "hoverlabel": {
           "align": "left"
          },
          "hovermode": "closest",
          "mapbox": {
           "style": "light"
          },
          "paper_bgcolor": "white",
          "plot_bgcolor": "#E5ECF6",
          "polar": {
           "angularaxis": {
            "gridcolor": "white",
            "linecolor": "white",
            "ticks": ""
           },
           "bgcolor": "#E5ECF6",
           "radialaxis": {
            "gridcolor": "white",
            "linecolor": "white",
            "ticks": ""
           }
          },
          "scene": {
           "xaxis": {
            "backgroundcolor": "#E5ECF6",
            "gridcolor": "white",
            "gridwidth": 2,
            "linecolor": "white",
            "showbackground": true,
            "ticks": "",
            "zerolinecolor": "white"
           },
           "yaxis": {
            "backgroundcolor": "#E5ECF6",
            "gridcolor": "white",
            "gridwidth": 2,
            "linecolor": "white",
            "showbackground": true,
            "ticks": "",
            "zerolinecolor": "white"
           },
           "zaxis": {
            "backgroundcolor": "#E5ECF6",
            "gridcolor": "white",
            "gridwidth": 2,
            "linecolor": "white",
            "showbackground": true,
            "ticks": "",
            "zerolinecolor": "white"
           }
          },
          "shapedefaults": {
           "line": {
            "color": "#2a3f5f"
           }
          },
          "ternary": {
           "aaxis": {
            "gridcolor": "white",
            "linecolor": "white",
            "ticks": ""
           },
           "baxis": {
            "gridcolor": "white",
            "linecolor": "white",
            "ticks": ""
           },
           "bgcolor": "#E5ECF6",
           "caxis": {
            "gridcolor": "white",
            "linecolor": "white",
            "ticks": ""
           }
          },
          "title": {
           "x": 0.05
          },
          "xaxis": {
           "automargin": true,
           "gridcolor": "white",
           "linecolor": "white",
           "ticks": "",
           "title": {
            "standoff": 15
           },
           "zerolinecolor": "white",
           "zerolinewidth": 2
          },
          "yaxis": {
           "automargin": true,
           "gridcolor": "white",
           "linecolor": "white",
           "ticks": "",
           "title": {
            "standoff": 15
           },
           "zerolinecolor": "white",
           "zerolinewidth": 2
          }
         }
        },
        "title": {
         "text": "Соотношение сетевых и несетевых заведений"
        },
        "xaxis": {
         "anchor": "y",
         "domain": [
          0,
          1
         ],
         "tickmode": "array",
         "ticktext": [
          "кафе",
          "столовая",
          "ресторан",
          "кафе",
          "предприятие<br>быстрого<br>обслуживания",
          "бар",
          "предприятие<br>быстрого<br>обслуживания",
          "буфет",
          "ресторан",
          "кафетерий",
          "закусочная",
          "магазин<br>(отдел<br>кулинарии)",
          "магазин<br>(отдел<br>кулинарии)",
          "закусочная",
          "кафетерий",
          "бар",
          "буфет",
          "столовая"
         ],
         "tickvals": [
          "кафе",
          "столовая",
          "ресторан",
          "кафе",
          "предприятие быстрого обслуживания",
          "бар",
          "предприятие быстрого обслуживания",
          "буфет",
          "ресторан",
          "кафетерий",
          "закусочная",
          "магазин (отдел кулинарии)",
          "магазин (отдел кулинарии)",
          "закусочная",
          "кафетерий",
          "бар",
          "буфет",
          "столовая"
         ],
         "title": {
          "text": "Тип объекта"
         }
        },
        "yaxis": {
         "anchor": "x",
         "domain": [
          0,
          1
         ],
         "title": {
          "text": "Количество"
         }
        }
       }
      }
     },
     "metadata": {},
     "output_type": "display_data"
    }
   ],
   "source": [
    "# Сгруппируем данные по типу заведения и сетевому статусу, посчитаем их количество и построим график\n",
    "chain_cnt = rest_data.groupby(\n",
    "    ['chain','object_type']).agg(\n",
    "    {'id' : 'count'}).sort_values(\n",
    "    by='id', ascending=False).reset_index()\n",
    "chain_cnt.columns = ['Сеть', 'Тип объекта', 'Количество']\n",
    "fig = px.bar(chain_cnt, x=\"Тип объекта\", y=\"Количество\", color=\"Сеть\", \n",
    "             title=\"Соотношение сетевых и несетевых заведений\")\n",
    "\n",
    "fig.update_layout(\n",
    "    xaxis = dict(\n",
    "        tickmode = 'array',\n",
    "        tickvals = chain_cnt['Тип объекта'],\n",
    "        ticktext = [\"<br>\".join(label.split()) for label in chain_cnt['Тип объекта']]\n",
    "    )\n",
    ")\n",
    "\n",
    "fig.show()"
   ]
  },
  {
   "cell_type": "markdown",
   "metadata": {},
   "source": [
    "#### Вывод\n",
    "На графике можно заметить, что сетевых заведений значительно меньше, а столовые, буфеты и бары в основном вообще не имеют сетевых заведений. Кафе, рестораны и предприятия быстрого обслуживания имеют больше всего сетей заведений. Стоит посмотреть на относительные величины."
   ]
  },
  {
   "cell_type": "code",
   "execution_count": 11,
   "metadata": {
    "scrolled": false
   },
   "outputs": [
    {
     "data": {
      "application/vnd.plotly.v1+json": {
       "config": {
        "plotlyServerURL": "https://plot.ly"
       },
       "data": [
        {
         "alignmentgroup": "True",
         "hovertemplate": "Тип объекта=%{x}<br>Соотношение=%{y}<extra></extra>",
         "legendgroup": "",
         "marker": {
          "color": "#636efa",
          "pattern": {
           "shape": ""
          }
         },
         "name": "",
         "offsetgroup": "",
         "orientation": "v",
         "showlegend": false,
         "textposition": "auto",
         "type": "bar",
         "x": [
          "предприятие быстрого обслуживания",
          "магазин (отдел кулинарии)",
          "ресторан",
          "кафе",
          "закусочная",
          "кафетерий",
          "бар",
          "буфет",
          "столовая"
         ],
         "xaxis": "x",
         "y": [
          0.6987632508833922,
          0.4,
          0.31246410109132683,
          0.2968318094833085,
          0.18421052631578946,
          0.15028901734104047,
          0.045177045177045176,
          0.01916376306620209,
          0.0011609907120743034
         ],
         "yaxis": "y"
        }
       ],
       "layout": {
        "barmode": "relative",
        "legend": {
         "tracegroupgap": 0
        },
        "template": {
         "data": {
          "bar": [
           {
            "error_x": {
             "color": "#2a3f5f"
            },
            "error_y": {
             "color": "#2a3f5f"
            },
            "marker": {
             "line": {
              "color": "#E5ECF6",
              "width": 0.5
             },
             "pattern": {
              "fillmode": "overlay",
              "size": 10,
              "solidity": 0.2
             }
            },
            "type": "bar"
           }
          ],
          "barpolar": [
           {
            "marker": {
             "line": {
              "color": "#E5ECF6",
              "width": 0.5
             },
             "pattern": {
              "fillmode": "overlay",
              "size": 10,
              "solidity": 0.2
             }
            },
            "type": "barpolar"
           }
          ],
          "carpet": [
           {
            "aaxis": {
             "endlinecolor": "#2a3f5f",
             "gridcolor": "white",
             "linecolor": "white",
             "minorgridcolor": "white",
             "startlinecolor": "#2a3f5f"
            },
            "baxis": {
             "endlinecolor": "#2a3f5f",
             "gridcolor": "white",
             "linecolor": "white",
             "minorgridcolor": "white",
             "startlinecolor": "#2a3f5f"
            },
            "type": "carpet"
           }
          ],
          "choropleth": [
           {
            "colorbar": {
             "outlinewidth": 0,
             "ticks": ""
            },
            "type": "choropleth"
           }
          ],
          "contour": [
           {
            "colorbar": {
             "outlinewidth": 0,
             "ticks": ""
            },
            "colorscale": [
             [
              0,
              "#0d0887"
             ],
             [
              0.1111111111111111,
              "#46039f"
             ],
             [
              0.2222222222222222,
              "#7201a8"
             ],
             [
              0.3333333333333333,
              "#9c179e"
             ],
             [
              0.4444444444444444,
              "#bd3786"
             ],
             [
              0.5555555555555556,
              "#d8576b"
             ],
             [
              0.6666666666666666,
              "#ed7953"
             ],
             [
              0.7777777777777778,
              "#fb9f3a"
             ],
             [
              0.8888888888888888,
              "#fdca26"
             ],
             [
              1,
              "#f0f921"
             ]
            ],
            "type": "contour"
           }
          ],
          "contourcarpet": [
           {
            "colorbar": {
             "outlinewidth": 0,
             "ticks": ""
            },
            "type": "contourcarpet"
           }
          ],
          "heatmap": [
           {
            "colorbar": {
             "outlinewidth": 0,
             "ticks": ""
            },
            "colorscale": [
             [
              0,
              "#0d0887"
             ],
             [
              0.1111111111111111,
              "#46039f"
             ],
             [
              0.2222222222222222,
              "#7201a8"
             ],
             [
              0.3333333333333333,
              "#9c179e"
             ],
             [
              0.4444444444444444,
              "#bd3786"
             ],
             [
              0.5555555555555556,
              "#d8576b"
             ],
             [
              0.6666666666666666,
              "#ed7953"
             ],
             [
              0.7777777777777778,
              "#fb9f3a"
             ],
             [
              0.8888888888888888,
              "#fdca26"
             ],
             [
              1,
              "#f0f921"
             ]
            ],
            "type": "heatmap"
           }
          ],
          "heatmapgl": [
           {
            "colorbar": {
             "outlinewidth": 0,
             "ticks": ""
            },
            "colorscale": [
             [
              0,
              "#0d0887"
             ],
             [
              0.1111111111111111,
              "#46039f"
             ],
             [
              0.2222222222222222,
              "#7201a8"
             ],
             [
              0.3333333333333333,
              "#9c179e"
             ],
             [
              0.4444444444444444,
              "#bd3786"
             ],
             [
              0.5555555555555556,
              "#d8576b"
             ],
             [
              0.6666666666666666,
              "#ed7953"
             ],
             [
              0.7777777777777778,
              "#fb9f3a"
             ],
             [
              0.8888888888888888,
              "#fdca26"
             ],
             [
              1,
              "#f0f921"
             ]
            ],
            "type": "heatmapgl"
           }
          ],
          "histogram": [
           {
            "marker": {
             "pattern": {
              "fillmode": "overlay",
              "size": 10,
              "solidity": 0.2
             }
            },
            "type": "histogram"
           }
          ],
          "histogram2d": [
           {
            "colorbar": {
             "outlinewidth": 0,
             "ticks": ""
            },
            "colorscale": [
             [
              0,
              "#0d0887"
             ],
             [
              0.1111111111111111,
              "#46039f"
             ],
             [
              0.2222222222222222,
              "#7201a8"
             ],
             [
              0.3333333333333333,
              "#9c179e"
             ],
             [
              0.4444444444444444,
              "#bd3786"
             ],
             [
              0.5555555555555556,
              "#d8576b"
             ],
             [
              0.6666666666666666,
              "#ed7953"
             ],
             [
              0.7777777777777778,
              "#fb9f3a"
             ],
             [
              0.8888888888888888,
              "#fdca26"
             ],
             [
              1,
              "#f0f921"
             ]
            ],
            "type": "histogram2d"
           }
          ],
          "histogram2dcontour": [
           {
            "colorbar": {
             "outlinewidth": 0,
             "ticks": ""
            },
            "colorscale": [
             [
              0,
              "#0d0887"
             ],
             [
              0.1111111111111111,
              "#46039f"
             ],
             [
              0.2222222222222222,
              "#7201a8"
             ],
             [
              0.3333333333333333,
              "#9c179e"
             ],
             [
              0.4444444444444444,
              "#bd3786"
             ],
             [
              0.5555555555555556,
              "#d8576b"
             ],
             [
              0.6666666666666666,
              "#ed7953"
             ],
             [
              0.7777777777777778,
              "#fb9f3a"
             ],
             [
              0.8888888888888888,
              "#fdca26"
             ],
             [
              1,
              "#f0f921"
             ]
            ],
            "type": "histogram2dcontour"
           }
          ],
          "mesh3d": [
           {
            "colorbar": {
             "outlinewidth": 0,
             "ticks": ""
            },
            "type": "mesh3d"
           }
          ],
          "parcoords": [
           {
            "line": {
             "colorbar": {
              "outlinewidth": 0,
              "ticks": ""
             }
            },
            "type": "parcoords"
           }
          ],
          "pie": [
           {
            "automargin": true,
            "type": "pie"
           }
          ],
          "scatter": [
           {
            "fillpattern": {
             "fillmode": "overlay",
             "size": 10,
             "solidity": 0.2
            },
            "type": "scatter"
           }
          ],
          "scatter3d": [
           {
            "line": {
             "colorbar": {
              "outlinewidth": 0,
              "ticks": ""
             }
            },
            "marker": {
             "colorbar": {
              "outlinewidth": 0,
              "ticks": ""
             }
            },
            "type": "scatter3d"
           }
          ],
          "scattercarpet": [
           {
            "marker": {
             "colorbar": {
              "outlinewidth": 0,
              "ticks": ""
             }
            },
            "type": "scattercarpet"
           }
          ],
          "scattergeo": [
           {
            "marker": {
             "colorbar": {
              "outlinewidth": 0,
              "ticks": ""
             }
            },
            "type": "scattergeo"
           }
          ],
          "scattergl": [
           {
            "marker": {
             "colorbar": {
              "outlinewidth": 0,
              "ticks": ""
             }
            },
            "type": "scattergl"
           }
          ],
          "scattermapbox": [
           {
            "marker": {
             "colorbar": {
              "outlinewidth": 0,
              "ticks": ""
             }
            },
            "type": "scattermapbox"
           }
          ],
          "scatterpolar": [
           {
            "marker": {
             "colorbar": {
              "outlinewidth": 0,
              "ticks": ""
             }
            },
            "type": "scatterpolar"
           }
          ],
          "scatterpolargl": [
           {
            "marker": {
             "colorbar": {
              "outlinewidth": 0,
              "ticks": ""
             }
            },
            "type": "scatterpolargl"
           }
          ],
          "scatterternary": [
           {
            "marker": {
             "colorbar": {
              "outlinewidth": 0,
              "ticks": ""
             }
            },
            "type": "scatterternary"
           }
          ],
          "surface": [
           {
            "colorbar": {
             "outlinewidth": 0,
             "ticks": ""
            },
            "colorscale": [
             [
              0,
              "#0d0887"
             ],
             [
              0.1111111111111111,
              "#46039f"
             ],
             [
              0.2222222222222222,
              "#7201a8"
             ],
             [
              0.3333333333333333,
              "#9c179e"
             ],
             [
              0.4444444444444444,
              "#bd3786"
             ],
             [
              0.5555555555555556,
              "#d8576b"
             ],
             [
              0.6666666666666666,
              "#ed7953"
             ],
             [
              0.7777777777777778,
              "#fb9f3a"
             ],
             [
              0.8888888888888888,
              "#fdca26"
             ],
             [
              1,
              "#f0f921"
             ]
            ],
            "type": "surface"
           }
          ],
          "table": [
           {
            "cells": {
             "fill": {
              "color": "#EBF0F8"
             },
             "line": {
              "color": "white"
             }
            },
            "header": {
             "fill": {
              "color": "#C8D4E3"
             },
             "line": {
              "color": "white"
             }
            },
            "type": "table"
           }
          ]
         },
         "layout": {
          "annotationdefaults": {
           "arrowcolor": "#2a3f5f",
           "arrowhead": 0,
           "arrowwidth": 1
          },
          "autotypenumbers": "strict",
          "coloraxis": {
           "colorbar": {
            "outlinewidth": 0,
            "ticks": ""
           }
          },
          "colorscale": {
           "diverging": [
            [
             0,
             "#8e0152"
            ],
            [
             0.1,
             "#c51b7d"
            ],
            [
             0.2,
             "#de77ae"
            ],
            [
             0.3,
             "#f1b6da"
            ],
            [
             0.4,
             "#fde0ef"
            ],
            [
             0.5,
             "#f7f7f7"
            ],
            [
             0.6,
             "#e6f5d0"
            ],
            [
             0.7,
             "#b8e186"
            ],
            [
             0.8,
             "#7fbc41"
            ],
            [
             0.9,
             "#4d9221"
            ],
            [
             1,
             "#276419"
            ]
           ],
           "sequential": [
            [
             0,
             "#0d0887"
            ],
            [
             0.1111111111111111,
             "#46039f"
            ],
            [
             0.2222222222222222,
             "#7201a8"
            ],
            [
             0.3333333333333333,
             "#9c179e"
            ],
            [
             0.4444444444444444,
             "#bd3786"
            ],
            [
             0.5555555555555556,
             "#d8576b"
            ],
            [
             0.6666666666666666,
             "#ed7953"
            ],
            [
             0.7777777777777778,
             "#fb9f3a"
            ],
            [
             0.8888888888888888,
             "#fdca26"
            ],
            [
             1,
             "#f0f921"
            ]
           ],
           "sequentialminus": [
            [
             0,
             "#0d0887"
            ],
            [
             0.1111111111111111,
             "#46039f"
            ],
            [
             0.2222222222222222,
             "#7201a8"
            ],
            [
             0.3333333333333333,
             "#9c179e"
            ],
            [
             0.4444444444444444,
             "#bd3786"
            ],
            [
             0.5555555555555556,
             "#d8576b"
            ],
            [
             0.6666666666666666,
             "#ed7953"
            ],
            [
             0.7777777777777778,
             "#fb9f3a"
            ],
            [
             0.8888888888888888,
             "#fdca26"
            ],
            [
             1,
             "#f0f921"
            ]
           ]
          },
          "colorway": [
           "#636efa",
           "#EF553B",
           "#00cc96",
           "#ab63fa",
           "#FFA15A",
           "#19d3f3",
           "#FF6692",
           "#B6E880",
           "#FF97FF",
           "#FECB52"
          ],
          "font": {
           "color": "#2a3f5f"
          },
          "geo": {
           "bgcolor": "white",
           "lakecolor": "white",
           "landcolor": "#E5ECF6",
           "showlakes": true,
           "showland": true,
           "subunitcolor": "white"
          },
          "hoverlabel": {
           "align": "left"
          },
          "hovermode": "closest",
          "mapbox": {
           "style": "light"
          },
          "paper_bgcolor": "white",
          "plot_bgcolor": "#E5ECF6",
          "polar": {
           "angularaxis": {
            "gridcolor": "white",
            "linecolor": "white",
            "ticks": ""
           },
           "bgcolor": "#E5ECF6",
           "radialaxis": {
            "gridcolor": "white",
            "linecolor": "white",
            "ticks": ""
           }
          },
          "scene": {
           "xaxis": {
            "backgroundcolor": "#E5ECF6",
            "gridcolor": "white",
            "gridwidth": 2,
            "linecolor": "white",
            "showbackground": true,
            "ticks": "",
            "zerolinecolor": "white"
           },
           "yaxis": {
            "backgroundcolor": "#E5ECF6",
            "gridcolor": "white",
            "gridwidth": 2,
            "linecolor": "white",
            "showbackground": true,
            "ticks": "",
            "zerolinecolor": "white"
           },
           "zaxis": {
            "backgroundcolor": "#E5ECF6",
            "gridcolor": "white",
            "gridwidth": 2,
            "linecolor": "white",
            "showbackground": true,
            "ticks": "",
            "zerolinecolor": "white"
           }
          },
          "shapedefaults": {
           "line": {
            "color": "#2a3f5f"
           }
          },
          "ternary": {
           "aaxis": {
            "gridcolor": "white",
            "linecolor": "white",
            "ticks": ""
           },
           "baxis": {
            "gridcolor": "white",
            "linecolor": "white",
            "ticks": ""
           },
           "bgcolor": "#E5ECF6",
           "caxis": {
            "gridcolor": "white",
            "linecolor": "white",
            "ticks": ""
           }
          },
          "title": {
           "x": 0.05
          },
          "xaxis": {
           "automargin": true,
           "gridcolor": "white",
           "linecolor": "white",
           "ticks": "",
           "title": {
            "standoff": 15
           },
           "zerolinecolor": "white",
           "zerolinewidth": 2
          },
          "yaxis": {
           "automargin": true,
           "gridcolor": "white",
           "linecolor": "white",
           "ticks": "",
           "title": {
            "standoff": 15
           },
           "zerolinecolor": "white",
           "zerolinewidth": 2
          }
         }
        },
        "title": {
         "text": "Соотношение сетевых и несетевых заведений"
        },
        "xaxis": {
         "anchor": "y",
         "domain": [
          0,
          1
         ],
         "title": {
          "text": "Тип объекта"
         }
        },
        "yaxis": {
         "anchor": "x",
         "domain": [
          0,
          1
         ],
         "title": {
          "text": "Соотношение"
         }
        }
       }
      }
     },
     "metadata": {},
     "output_type": "display_data"
    }
   ],
   "source": [
    "# Посчитаем отношение несетевых к сетевым заведениям\n",
    "chain_ratio = chain_cnt.pivot_table(index='Тип объекта', columns='Сеть', values='Количество').reset_index()\n",
    "chain_ratio['Соотношение'] = chain_ratio['да'] / chain_ratio['нет']\n",
    "chain_ratio = chain_ratio.sort_values(by='Соотношение', ascending=False)\n",
    "fig = px.bar(chain_ratio, x=\"Тип объекта\", y=\"Соотношение\",\n",
    "             title=\"Соотношение сетевых и несетевых заведений\")\n",
    "fig.show();"
   ]
  },
  {
   "cell_type": "markdown",
   "metadata": {},
   "source": [
    "#### Вывод\n",
    "В данном случае мы видим, что относительные величины распределились иначе. Предприятия быстрого обслуживания имеют самое большое количество сетевых заведений по отношению к несетевым, когда столовые наоборот, имеют только индивидуальные заведения."
   ]
  },
  {
   "cell_type": "markdown",
   "metadata": {},
   "source": [
    "### Распределение посадочных мест в сетевых заведениях"
   ]
  },
  {
   "cell_type": "code",
   "execution_count": 12,
   "metadata": {},
   "outputs": [
    {
     "data": {
      "application/vnd.plotly.v1+json": {
       "config": {
        "plotlyServerURL": "https://plot.ly"
       },
       "data": [
        {
         "alignmentgroup": "True",
         "bingroup": "x",
         "hovertemplate": "number=%{x}<br>count=%{y}<extra></extra>",
         "legendgroup": "",
         "marker": {
          "color": "#636efa",
          "pattern": {
           "shape": ""
          }
         },
         "name": "",
         "offsetgroup": "",
         "orientation": "v",
         "showlegend": false,
         "type": "histogram",
         "x": [
          40,
          10,
          32,
          7,
          160,
          24,
          65,
          4,
          125,
          20,
          100,
          48,
          120,
          40,
          22,
          40,
          38,
          220,
          20,
          96,
          48,
          160,
          10,
          63,
          32,
          6,
          50,
          98,
          75,
          43,
          54,
          580,
          45,
          159,
          25,
          64,
          67,
          22,
          124,
          82,
          150,
          36,
          70,
          45,
          114,
          3,
          8,
          50,
          10,
          50,
          18,
          14,
          18,
          8,
          100,
          40,
          80,
          158,
          150,
          4,
          45,
          60,
          42,
          30,
          70,
          50,
          4,
          50,
          20,
          120,
          30,
          50,
          5,
          20,
          70,
          60,
          48,
          41,
          60,
          60,
          80,
          144,
          10,
          40,
          30,
          0,
          30,
          35,
          68,
          40,
          48,
          20,
          50,
          50,
          20,
          50,
          143,
          50,
          198,
          79,
          90,
          14,
          16,
          70,
          40,
          8,
          40,
          60,
          120,
          16,
          8,
          86,
          3,
          63,
          20,
          26,
          50,
          65,
          5,
          50,
          10,
          190,
          50,
          80,
          55,
          15,
          131,
          20,
          48,
          45,
          41,
          45,
          92,
          45,
          76,
          102,
          150,
          32,
          50,
          40,
          35,
          0,
          45,
          0,
          70,
          12,
          49,
          16,
          110,
          42,
          60,
          50,
          32,
          94,
          16,
          56,
          65,
          48,
          16,
          41,
          37,
          48,
          26,
          4,
          98,
          98,
          15,
          6,
          0,
          100,
          120,
          96,
          70,
          43,
          80,
          68,
          88,
          88,
          96,
          22,
          70,
          24,
          35,
          20,
          8,
          61,
          48,
          20,
          64,
          40,
          25,
          36,
          32,
          40,
          20,
          143,
          100,
          25,
          150,
          22,
          150,
          125,
          55,
          49,
          50,
          98,
          25,
          24,
          70,
          80,
          130,
          128,
          25,
          24,
          128,
          106,
          43,
          30,
          45,
          90,
          65,
          48,
          15,
          4,
          38,
          20,
          40,
          40,
          100,
          15,
          48,
          27,
          40,
          80,
          6,
          19,
          44,
          30,
          200,
          81,
          98,
          24,
          6,
          90,
          50,
          48,
          2,
          130,
          30,
          48,
          140,
          50,
          45,
          50,
          43,
          98,
          95,
          68,
          13,
          0,
          40,
          60,
          48,
          10,
          40,
          39,
          30,
          96,
          75,
          45,
          70,
          50,
          54,
          43,
          7,
          48,
          30,
          9,
          40,
          50,
          71,
          200,
          35,
          26,
          4,
          22,
          98,
          68,
          75,
          45,
          80,
          65,
          20,
          40,
          50,
          48,
          10,
          0,
          26,
          120,
          6,
          8,
          8,
          15,
          30,
          0,
          46,
          20,
          160,
          45,
          45,
          50,
          10,
          98,
          33,
          38,
          130,
          24,
          0,
          45,
          10,
          48,
          70,
          85,
          70,
          60,
          60,
          80,
          75,
          10,
          48,
          6,
          35,
          50,
          12,
          48,
          38,
          12,
          18,
          17,
          43,
          10,
          60,
          70,
          48,
          46,
          34,
          62,
          50,
          50,
          150,
          40,
          40,
          6,
          20,
          48,
          84,
          48,
          12,
          0,
          20,
          70,
          47,
          60,
          89,
          24,
          120,
          2,
          2,
          20,
          50,
          170,
          48,
          48,
          140,
          50,
          96,
          40,
          60,
          24,
          96,
          15,
          80,
          48,
          48,
          50,
          32,
          50,
          14,
          21,
          190,
          108,
          35,
          10,
          80,
          20,
          7,
          90,
          35,
          30,
          20,
          17,
          30,
          46,
          27,
          16,
          0,
          85,
          1,
          34,
          1,
          46,
          70,
          115,
          8,
          40,
          65,
          40,
          15,
          18,
          27,
          15,
          10,
          56,
          30,
          40,
          32,
          45,
          98,
          20,
          95,
          55,
          93,
          75,
          96,
          50,
          50,
          180,
          25,
          49,
          20,
          6,
          150,
          198,
          16,
          18,
          8,
          0,
          104,
          1,
          130,
          10,
          45,
          22,
          12,
          20,
          36,
          42,
          356,
          156,
          42,
          428,
          12,
          50,
          138,
          74,
          50,
          48,
          48,
          40,
          25,
          20,
          20,
          45,
          49,
          300,
          45,
          130,
          60,
          48,
          45,
          220,
          92,
          198,
          10,
          12,
          5,
          38,
          4,
          98,
          35,
          94,
          94,
          40,
          21,
          32,
          35,
          190,
          54,
          25,
          20,
          41,
          49,
          80,
          20,
          16,
          36,
          36,
          8,
          8,
          30,
          67,
          52,
          75,
          85,
          50,
          45,
          41,
          5,
          25,
          16,
          92,
          98,
          0,
          45,
          40,
          20,
          16,
          50,
          150,
          70,
          15,
          20,
          10,
          50,
          80,
          60,
          40,
          82,
          32,
          36,
          66,
          55,
          30,
          48,
          132,
          200,
          80,
          50,
          20,
          35,
          0,
          109,
          61,
          306,
          180,
          45,
          138,
          100,
          60,
          48,
          10,
          50,
          90,
          144,
          1,
          100,
          24,
          93,
          10,
          15,
          10,
          10,
          45,
          35,
          52,
          148,
          280,
          100,
          48,
          80,
          80,
          25,
          65,
          48,
          35,
          282,
          20,
          45,
          90,
          45,
          150,
          95,
          180,
          40,
          175,
          26,
          60,
          60,
          200,
          110,
          190,
          15,
          140,
          0,
          120,
          149,
          170,
          25,
          52,
          85,
          46,
          180,
          200,
          20,
          150,
          25,
          24,
          24,
          50,
          40,
          5,
          25,
          24,
          217,
          200,
          33,
          96,
          45,
          47,
          100,
          80,
          92,
          35,
          80,
          86,
          310,
          90,
          145,
          80,
          101,
          96,
          200,
          60,
          94,
          398,
          95,
          16,
          150,
          85,
          65,
          70,
          32,
          430,
          30,
          120,
          88,
          100,
          166,
          114,
          80,
          110,
          150,
          50,
          90,
          35,
          150,
          0,
          80,
          10,
          0,
          98,
          38,
          35,
          300,
          30,
          98,
          160,
          6,
          68,
          12,
          20,
          98,
          82,
          28,
          53,
          95,
          90,
          110,
          64,
          30,
          180,
          120,
          80,
          400,
          149,
          30,
          98,
          144,
          68,
          154,
          30,
          86,
          48,
          80,
          90,
          500,
          48,
          25,
          38,
          75,
          25,
          158,
          143,
          160,
          50,
          160,
          27,
          174,
          240,
          8,
          24,
          7,
          22,
          170,
          146,
          380,
          98,
          40,
          20,
          86,
          82,
          64,
          100,
          400,
          80,
          35,
          60,
          20,
          160,
          50,
          35,
          72,
          250,
          75,
          85,
          60,
          124,
          190,
          30,
          49,
          178,
          60,
          0,
          40,
          19,
          48,
          42,
          24,
          28,
          10,
          80,
          20,
          10,
          22,
          98,
          99,
          58,
          98,
          89,
          40,
          60,
          3,
          8,
          225,
          90,
          20,
          25,
          96,
          45,
          60,
          130,
          90,
          150,
          72,
          12,
          90,
          17,
          30,
          60,
          12,
          12,
          400,
          20,
          150,
          70,
          150,
          16,
          36,
          35,
          32,
          86,
          50,
          10,
          150,
          70,
          34,
          95,
          96,
          144,
          70,
          206,
          150,
          35,
          20,
          80,
          45,
          15,
          98,
          50,
          95,
          30,
          23,
          90,
          57,
          30,
          36,
          90,
          36,
          22,
          150,
          16,
          54,
          90,
          42,
          120,
          110,
          45,
          20,
          60,
          16,
          84,
          50,
          37,
          10,
          60,
          200,
          35,
          25,
          200,
          25,
          90,
          95,
          110,
          0,
          58,
          150,
          20,
          64,
          20,
          200,
          54,
          95,
          45,
          86,
          65,
          80,
          90,
          80,
          90,
          200,
          273,
          220,
          98,
          10,
          75,
          40,
          35,
          55,
          35,
          35,
          120,
          120,
          80,
          70,
          120,
          128,
          40,
          130,
          96,
          96,
          96,
          12,
          136,
          100,
          110,
          69,
          69,
          69,
          4,
          94,
          82,
          40,
          90,
          250,
          52,
          75,
          50,
          100,
          40,
          43,
          80,
          44,
          15,
          110,
          130,
          225,
          20,
          71,
          20,
          50,
          100,
          40,
          30,
          80,
          60,
          50,
          120,
          40,
          25,
          110,
          86,
          198,
          218,
          96,
          150,
          92,
          70,
          68,
          60,
          90,
          56,
          106,
          101,
          62,
          40,
          60,
          12,
          71,
          75,
          49,
          50,
          68,
          15,
          25,
          20,
          60,
          93,
          93,
          108,
          144,
          80,
          8,
          125,
          50,
          53,
          5,
          35,
          100,
          30,
          98,
          80,
          55,
          240,
          43,
          99,
          130,
          45,
          90,
          80,
          120,
          15,
          15,
          120,
          50,
          92,
          79,
          195,
          145,
          10,
          25,
          4,
          10,
          5,
          5,
          50,
          150,
          72,
          40,
          99,
          130,
          6,
          120,
          0,
          9,
          250,
          8,
          3,
          10,
          48,
          0,
          0,
          284,
          20,
          215,
          146,
          22,
          90,
          2,
          10,
          58,
          50,
          40,
          30,
          15,
          148,
          95,
          100,
          99,
          70,
          25,
          16,
          44,
          22,
          22,
          12,
          25,
          1,
          1,
          184,
          40,
          25,
          25,
          25,
          50,
          116,
          32,
          53,
          80,
          35,
          190,
          80,
          85,
          55,
          22,
          22,
          1,
          25,
          0,
          0,
          4,
          50,
          70,
          2,
          190,
          118,
          40,
          31,
          96,
          60,
          90,
          14,
          45,
          100,
          120,
          25,
          30,
          16,
          76,
          60,
          99,
          25,
          22,
          150,
          80,
          55,
          159,
          35,
          80,
          2,
          20,
          20,
          20,
          20,
          65,
          170,
          40,
          50,
          15,
          40,
          4,
          12,
          70,
          70,
          0,
          0,
          30,
          30,
          50,
          55,
          50,
          40,
          10,
          10,
          25,
          70,
          30,
          90,
          55,
          80,
          90,
          46,
          40,
          180,
          55,
          150,
          120,
          60,
          100,
          4,
          96,
          86,
          95,
          30,
          20,
          25,
          4,
          30,
          40,
          72,
          68,
          70,
          2,
          90,
          60,
          60,
          50,
          95,
          152,
          28,
          89,
          12,
          120,
          80,
          40,
          60,
          20,
          60,
          39,
          70,
          85,
          10,
          150,
          76,
          60,
          120,
          45,
          48,
          210,
          62,
          95,
          35,
          40,
          40,
          100,
          100,
          123,
          72,
          85,
          50,
          90,
          24,
          48,
          40,
          2,
          40,
          19,
          10,
          150,
          250,
          50,
          40,
          20,
          99,
          88,
          30,
          98,
          40,
          25,
          250,
          165,
          186,
          100,
          84,
          50,
          67,
          60,
          60,
          60,
          50,
          120,
          122,
          18,
          30,
          40,
          40,
          36,
          50,
          40,
          80,
          48,
          19,
          150,
          84,
          9,
          74,
          275,
          70,
          50,
          60,
          40,
          100,
          23,
          110,
          90,
          120,
          480,
          90,
          55,
          50,
          162,
          86,
          150,
          73,
          130,
          350,
          83,
          300,
          110,
          150,
          98,
          300,
          2,
          40,
          46,
          46,
          46,
          57,
          52,
          14,
          44,
          80,
          0,
          30,
          18,
          0,
          0,
          60,
          100,
          50,
          80,
          0,
          6,
          30,
          30,
          100,
          60,
          48,
          40,
          80,
          6,
          120,
          85,
          30,
          200,
          300,
          90,
          80,
          55,
          60,
          38,
          12,
          0,
          14,
          40,
          15,
          15,
          30,
          20,
          98,
          100,
          220,
          12,
          90,
          90,
          96,
          8,
          8,
          150,
          90,
          250,
          90,
          36,
          46,
          51,
          50,
          55,
          55,
          30,
          35,
          20,
          174,
          100,
          40,
          45,
          45,
          120,
          50,
          40,
          150,
          120,
          60,
          66,
          98,
          90,
          90,
          20,
          10,
          55,
          48,
          10,
          10,
          10,
          15,
          130,
          140,
          9,
          36,
          1,
          7,
          1,
          20,
          80,
          40,
          27,
          92,
          130,
          30,
          4,
          60,
          130,
          80,
          20,
          40,
          35,
          20,
          48,
          49,
          69,
          40,
          224,
          30,
          96,
          45,
          25,
          90,
          30,
          48,
          230,
          10,
          45,
          189,
          45,
          48,
          27,
          0,
          20,
          29,
          35,
          35,
          20,
          40,
          45,
          35,
          12,
          60,
          95,
          4,
          2,
          10,
          50,
          18,
          98,
          96,
          180,
          20,
          8,
          39,
          230,
          30,
          84,
          48,
          20,
          32,
          20,
          95,
          0,
          35,
          53,
          25,
          35,
          26,
          46,
          67,
          46,
          60,
          32,
          28,
          64,
          28,
          4,
          10,
          40,
          55,
          50,
          40,
          25,
          150,
          100,
          70,
          70,
          220,
          108,
          20,
          0,
          50,
          75,
          89,
          60,
          75,
          135,
          22,
          30,
          30,
          40,
          250,
          6,
          4,
          84,
          20,
          20,
          25,
          0,
          88,
          150,
          54,
          24,
          80,
          10,
          10,
          98,
          20,
          55,
          12,
          98,
          240,
          73,
          24,
          64,
          19,
          50,
          15,
          60,
          46,
          24,
          48,
          46,
          24,
          30,
          20,
          20,
          16,
          22,
          75,
          12,
          40,
          90,
          49,
          50,
          75,
          0,
          0,
          25,
          35,
          10,
          64,
          13,
          84,
          64,
          64,
          150,
          16,
          50,
          24,
          70,
          280,
          60,
          10,
          10,
          10,
          40,
          102,
          48,
          95,
          110,
          46,
          46,
          50,
          150,
          100,
          48,
          80,
          180,
          188,
          0,
          87,
          54,
          44,
          180,
          15,
          15,
          60,
          20,
          40,
          70,
          40,
          25,
          10,
          46,
          30,
          80,
          25,
          15,
          20,
          15,
          160,
          0,
          10,
          80,
          205,
          30,
          11,
          200,
          75,
          120,
          7,
          30,
          30,
          40,
          20,
          220,
          320,
          20,
          6,
          150,
          87,
          87,
          160,
          87,
          87,
          86,
          87,
          20,
          98,
          5,
          98,
          98,
          20,
          70,
          80,
          60,
          24,
          176,
          24,
          12,
          21,
          20,
          25,
          30,
          55,
          152,
          160,
          80,
          25,
          114,
          40,
          40,
          250,
          10,
          10,
          0,
          30,
          41,
          98,
          100,
          56,
          30,
          10,
          12,
          40,
          70,
          80,
          50,
          60,
          28,
          30,
          3,
          250,
          266,
          160,
          8,
          53,
          44,
          15,
          60,
          98,
          50,
          68,
          30,
          10,
          30,
          10,
          90,
          30,
          160,
          39,
          146,
          50,
          66,
          145,
          58,
          37,
          20,
          32,
          2,
          50,
          90,
          100,
          85,
          30,
          42,
          35,
          85,
          37,
          20,
          20,
          40,
          60,
          48,
          100,
          42,
          170,
          40,
          80,
          25,
          70,
          20,
          80,
          87,
          98,
          250,
          300,
          90,
          128,
          50,
          41,
          98,
          25,
          94,
          24,
          100,
          40,
          95,
          22,
          52,
          110,
          343,
          200,
          40,
          70,
          90,
          150,
          56,
          30,
          65,
          27,
          86,
          95,
          80,
          90,
          70,
          27,
          25,
          30,
          50,
          157,
          85,
          25,
          65,
          42,
          29,
          74,
          42,
          13,
          35,
          120,
          70,
          6,
          49,
          48,
          170,
          64,
          1,
          54,
          17,
          10,
          10,
          10,
          48,
          160,
          48,
          48,
          88,
          140,
          32,
          80,
          30,
          70,
          85,
          90,
          63,
          200,
          10,
          15,
          170,
          49,
          56,
          90,
          40,
          140,
          45,
          70,
          50,
          75,
          98,
          45,
          40,
          80,
          20,
          80,
          60,
          40,
          42,
          32,
          40,
          45,
          350,
          10,
          60,
          50,
          50,
          20,
          8,
          4,
          4,
          5,
          8,
          0,
          50,
          5,
          0,
          5,
          50,
          42,
          30,
          35,
          60,
          90,
          40,
          60,
          45,
          0,
          40,
          45,
          20,
          39,
          12,
          14,
          10,
          0,
          0,
          28,
          9,
          30,
          20,
          64,
          0,
          42,
          0,
          6,
          0,
          40,
          144,
          98,
          276,
          50,
          76,
          60,
          60,
          60,
          60,
          40,
          60,
          20,
          30,
          30,
          96,
          30,
          30,
          51,
          35,
          100,
          35,
          32,
          174,
          50,
          45,
          70,
          50,
          25,
          60,
          70,
          90,
          23,
          76,
          45,
          4,
          4,
          4,
          16,
          45,
          0,
          0,
          0,
          0,
          0,
          0,
          56,
          20,
          60,
          20,
          66,
          102,
          34,
          45,
          48,
          38,
          40,
          48,
          75,
          80,
          120,
          0,
          7,
          60,
          150,
          20,
          10,
          110,
          50,
          13,
          120,
          456,
          70,
          100,
          20,
          24,
          91,
          40,
          44,
          96,
          30,
          30,
          70,
          90,
          45,
          60,
          50,
          20,
          25,
          45,
          0,
          0,
          20,
          10,
          96,
          8,
          0,
          14,
          15,
          6,
          20,
          43,
          20,
          35,
          104,
          18,
          12,
          3,
          20,
          10,
          80,
          3,
          39,
          0,
          0,
          48,
          45,
          40,
          20,
          20,
          45,
          0,
          8,
          1,
          4,
          40,
          125,
          94,
          16,
          8,
          21,
          22,
          15,
          22,
          16,
          0,
          6,
          30,
          94,
          70,
          0,
          90,
          20,
          110,
          50,
          30,
          84,
          65,
          45,
          20,
          90,
          30,
          225,
          60,
          98,
          20,
          8,
          130,
          12,
          45,
          30,
          8,
          200,
          145,
          49,
          70,
          30,
          40,
          50,
          40,
          20,
          173,
          41,
          15,
          20,
          199,
          37,
          130,
          10,
          135,
          0,
          28,
          10,
          0,
          10,
          0,
          6,
          15,
          20,
          10,
          18,
          16,
          22,
          20,
          50,
          18,
          26,
          25,
          6,
          10,
          20,
          0,
          0,
          0,
          8,
          20,
          0,
          45,
          40,
          45,
          60,
          86,
          45,
          40,
          10,
          70,
          30,
          61,
          50,
          100,
          12,
          16,
          21,
          25,
          5,
          40,
          10,
          12,
          15,
          2,
          40,
          50,
          2,
          25,
          48,
          0,
          4,
          50,
          98,
          165,
          16,
          0,
          10,
          6,
          0,
          10,
          0,
          4,
          38,
          0,
          15,
          0,
          6,
          10,
          55,
          98,
          38,
          42,
          44,
          43,
          2,
          4,
          2,
          0,
          30,
          96,
          4,
          8,
          6,
          10,
          22,
          150,
          20,
          30,
          36,
          0,
          10,
          133,
          45,
          56,
          50,
          133,
          25,
          190,
          60,
          83,
          40,
          40,
          28,
          20,
          56,
          45,
          6,
          30,
          10,
          25,
          9,
          45,
          4,
          14,
          0,
          24,
          5,
          14,
          2,
          90,
          98,
          120,
          52,
          0,
          20,
          30,
          10,
          20,
          40,
          32,
          0,
          12,
          50,
          23,
          100,
          45,
          45,
          40,
          5,
          6,
          12,
          6,
          6,
          0,
          6,
          10,
          0,
          15,
          2,
          0,
          15,
          3,
          20,
          2,
          0,
          8,
          0,
          0,
          150,
          10,
          0,
          30,
          35,
          40,
          30,
          60,
          110,
          20,
          60,
          55,
          5,
          18,
          10,
          82,
          16,
          35,
          34,
          19,
          9,
          20,
          20,
          4,
          20,
          16,
          0,
          12,
          12,
          16,
          12,
          20,
          35,
          20,
          2,
          15,
          12,
          16,
          12,
          0,
          0,
          18,
          11,
          15,
          3,
          12,
          6,
          16,
          10,
          10,
          8,
          4,
          15,
          15,
          16,
          10,
          16,
          10,
          15,
          16,
          10,
          29,
          3,
          215,
          40,
          80,
          130,
          10,
          14,
          26,
          0,
          0,
          120,
          20,
          12,
          47,
          15,
          60,
          50,
          180,
          200,
          60,
          20,
          0,
          0,
          60,
          140,
          65,
          60,
          20,
          20,
          10,
          12,
          32,
          10,
          30,
          20,
          12,
          24,
          24,
          10,
          0,
          12,
          186,
          0,
          0,
          0,
          0,
          0,
          16,
          0,
          20,
          0,
          0,
          4,
          0,
          0,
          0,
          8,
          0,
          0,
          6,
          0,
          2,
          0,
          1,
          4,
          0,
          0,
          0,
          0,
          17,
          10,
          40,
          15,
          5,
          70,
          48,
          12,
          25,
          6,
          15,
          45,
          10,
          49,
          24,
          0,
          30,
          5,
          0,
          60,
          0,
          2,
          5,
          138,
          98,
          90,
          30,
          138,
          30,
          20,
          0,
          30,
          10,
          10,
          8,
          30,
          24,
          25,
          8,
          15,
          50,
          12,
          60,
          0,
          35,
          20,
          60,
          58,
          60,
          60,
          100,
          50,
          0,
          25,
          15,
          50,
          45,
          95,
          50,
          72,
          78,
          20,
          120,
          4,
          20,
          60,
          40,
          0,
          94,
          93,
          30,
          6,
          35,
          0,
          180,
          40,
          34,
          10,
          0,
          58,
          22,
          15,
          30,
          15,
          40,
          46,
          60,
          40,
          8,
          9,
          30,
          6,
          6,
          69,
          46,
          4,
          6,
          22,
          35,
          16,
          40,
          40,
          22,
          45,
          48,
          40,
          30,
          40,
          0,
          30,
          100,
          70,
          7,
          40,
          20,
          42,
          3,
          3,
          15,
          70,
          20,
          0,
          5,
          100,
          20,
          40,
          24,
          0,
          0,
          17,
          40,
          0,
          20,
          86,
          25,
          30,
          0,
          48,
          49,
          8,
          10,
          8,
          30,
          92,
          10,
          40,
          90,
          15,
          0,
          10,
          35,
          0,
          20,
          70,
          20,
          0,
          30,
          0,
          25,
          25,
          25,
          8,
          10,
          7,
          4,
          50,
          150,
          35,
          150,
          40,
          64,
          80,
          56,
          100,
          25,
          120,
          80,
          33,
          15,
          14,
          10,
          10,
          14,
          12,
          8,
          12,
          26,
          4,
          10,
          17,
          50,
          30,
          25,
          26,
          55,
          45,
          15,
          12,
          16,
          9,
          5,
          14,
          12,
          3,
          8,
          30,
          36,
          10,
          80,
          320,
          38,
          30,
          98,
          16,
          55,
          88,
          15,
          75,
          50,
          70,
          20,
          0,
          0,
          60,
          96,
          20,
          16,
          10,
          15,
          35,
          15,
          42,
          70,
          40,
          12,
          40,
          40,
          50,
          80,
          12,
          18,
          2,
          0,
          0,
          0,
          25,
          25,
          43,
          10,
          40,
          60,
          60,
          40,
          0,
          0,
          0,
          2,
          2,
          0,
          6,
          0,
          0,
          0,
          4,
          2,
          8,
          0,
          50,
          10,
          200,
          12,
          40,
          55,
          10,
          0,
          40,
          220,
          150,
          198,
          46,
          50,
          0,
          164,
          40,
          150,
          0,
          15,
          0,
          12,
          10,
          24,
          35,
          76,
          50,
          35,
          20,
          120,
          80,
          35,
          25,
          53,
          60,
          40,
          0,
          50,
          60,
          40,
          89,
          10,
          10,
          30,
          150,
          80,
          52,
          45,
          12,
          52,
          15,
          20,
          36,
          20,
          58,
          15,
          60,
          30,
          8,
          40,
          40,
          150,
          75,
          73,
          40,
          30,
          35,
          30,
          15,
          50,
          100,
          100,
          5,
          40,
          56,
          20,
          17,
          8,
          10,
          11,
          15,
          8,
          6,
          10,
          10,
          25,
          100,
          42,
          12,
          40,
          50,
          30,
          99,
          20,
          155,
          30,
          65,
          48,
          119,
          10,
          15,
          16,
          15,
          10,
          45,
          8,
          4,
          0,
          5,
          16,
          4,
          40,
          3,
          4,
          0,
          0,
          6,
          38,
          20,
          10,
          36,
          54,
          15,
          0,
          0,
          0,
          15,
          120,
          70,
          10,
          0,
          20,
          20,
          20,
          20,
          35,
          75,
          0,
          25,
          40,
          30,
          15,
          43,
          20,
          0,
          20,
          8,
          0,
          0,
          10,
          24,
          20,
          0,
          0,
          0,
          15,
          0,
          0,
          0,
          10,
          6,
          0,
          12,
          30,
          15,
          60,
          15,
          30,
          23,
          136,
          52,
          10,
          20,
          0,
          18,
          56,
          100,
          0,
          16,
          0,
          0,
          0,
          35,
          20,
          25,
          4,
          6,
          25,
          10,
          10,
          0,
          12,
          20,
          27,
          100,
          60,
          0,
          20,
          20,
          15,
          4,
          0,
          16,
          0,
          0,
          0,
          0,
          10,
          15,
          0,
          0,
          0,
          0,
          4,
          0,
          0,
          0,
          4,
          9,
          0,
          0,
          0,
          30,
          0,
          0,
          34,
          30,
          10,
          20,
          30,
          33,
          65,
          10,
          0,
          20,
          60,
          0,
          45,
          0,
          15,
          0,
          30,
          0,
          15,
          40,
          0,
          0,
          95,
          48,
          40,
          30,
          20,
          20,
          40,
          45,
          0,
          0,
          45,
          0,
          31,
          15,
          20,
          15,
          115,
          85,
          90,
          35,
          50,
          30,
          15,
          110,
          20,
          50,
          10,
          52,
          0,
          30,
          20,
          10,
          30,
          41,
          50,
          30,
          0,
          30,
          0,
          8,
          10,
          60,
          65,
          120,
          0,
          0,
          15,
          0,
          0,
          0,
          0,
          40,
          10,
          0,
          0,
          0,
          2,
          0,
          0,
          0,
          0,
          0,
          2,
          0,
          0,
          1,
          0,
          0,
          0,
          0,
          0,
          0,
          0,
          2,
          0,
          1,
          0,
          1,
          2,
          0,
          0,
          0,
          0,
          0,
          0,
          0,
          0,
          0,
          0,
          0,
          45,
          15,
          3,
          35,
          10,
          15,
          28,
          24,
          42,
          20,
          25,
          6,
          12,
          0,
          0,
          0,
          0,
          0,
          0,
          0,
          0,
          0,
          6,
          0,
          0,
          0,
          0,
          0,
          0,
          0,
          0,
          0,
          3,
          0,
          0,
          0,
          0,
          0,
          0,
          0,
          0,
          38,
          74,
          45,
          50,
          5,
          48,
          52,
          30,
          40,
          56,
          100,
          35,
          92,
          50,
          98,
          45,
          30,
          100,
          30,
          54,
          72,
          36,
          50,
          10,
          20,
          36,
          10
         ],
         "xaxis": "x",
         "yaxis": "y"
        }
       ],
       "layout": {
        "barmode": "relative",
        "legend": {
         "tracegroupgap": 0
        },
        "margin": {
         "t": 60
        },
        "template": {
         "data": {
          "bar": [
           {
            "error_x": {
             "color": "#2a3f5f"
            },
            "error_y": {
             "color": "#2a3f5f"
            },
            "marker": {
             "line": {
              "color": "#E5ECF6",
              "width": 0.5
             },
             "pattern": {
              "fillmode": "overlay",
              "size": 10,
              "solidity": 0.2
             }
            },
            "type": "bar"
           }
          ],
          "barpolar": [
           {
            "marker": {
             "line": {
              "color": "#E5ECF6",
              "width": 0.5
             },
             "pattern": {
              "fillmode": "overlay",
              "size": 10,
              "solidity": 0.2
             }
            },
            "type": "barpolar"
           }
          ],
          "carpet": [
           {
            "aaxis": {
             "endlinecolor": "#2a3f5f",
             "gridcolor": "white",
             "linecolor": "white",
             "minorgridcolor": "white",
             "startlinecolor": "#2a3f5f"
            },
            "baxis": {
             "endlinecolor": "#2a3f5f",
             "gridcolor": "white",
             "linecolor": "white",
             "minorgridcolor": "white",
             "startlinecolor": "#2a3f5f"
            },
            "type": "carpet"
           }
          ],
          "choropleth": [
           {
            "colorbar": {
             "outlinewidth": 0,
             "ticks": ""
            },
            "type": "choropleth"
           }
          ],
          "contour": [
           {
            "colorbar": {
             "outlinewidth": 0,
             "ticks": ""
            },
            "colorscale": [
             [
              0,
              "#0d0887"
             ],
             [
              0.1111111111111111,
              "#46039f"
             ],
             [
              0.2222222222222222,
              "#7201a8"
             ],
             [
              0.3333333333333333,
              "#9c179e"
             ],
             [
              0.4444444444444444,
              "#bd3786"
             ],
             [
              0.5555555555555556,
              "#d8576b"
             ],
             [
              0.6666666666666666,
              "#ed7953"
             ],
             [
              0.7777777777777778,
              "#fb9f3a"
             ],
             [
              0.8888888888888888,
              "#fdca26"
             ],
             [
              1,
              "#f0f921"
             ]
            ],
            "type": "contour"
           }
          ],
          "contourcarpet": [
           {
            "colorbar": {
             "outlinewidth": 0,
             "ticks": ""
            },
            "type": "contourcarpet"
           }
          ],
          "heatmap": [
           {
            "colorbar": {
             "outlinewidth": 0,
             "ticks": ""
            },
            "colorscale": [
             [
              0,
              "#0d0887"
             ],
             [
              0.1111111111111111,
              "#46039f"
             ],
             [
              0.2222222222222222,
              "#7201a8"
             ],
             [
              0.3333333333333333,
              "#9c179e"
             ],
             [
              0.4444444444444444,
              "#bd3786"
             ],
             [
              0.5555555555555556,
              "#d8576b"
             ],
             [
              0.6666666666666666,
              "#ed7953"
             ],
             [
              0.7777777777777778,
              "#fb9f3a"
             ],
             [
              0.8888888888888888,
              "#fdca26"
             ],
             [
              1,
              "#f0f921"
             ]
            ],
            "type": "heatmap"
           }
          ],
          "heatmapgl": [
           {
            "colorbar": {
             "outlinewidth": 0,
             "ticks": ""
            },
            "colorscale": [
             [
              0,
              "#0d0887"
             ],
             [
              0.1111111111111111,
              "#46039f"
             ],
             [
              0.2222222222222222,
              "#7201a8"
             ],
             [
              0.3333333333333333,
              "#9c179e"
             ],
             [
              0.4444444444444444,
              "#bd3786"
             ],
             [
              0.5555555555555556,
              "#d8576b"
             ],
             [
              0.6666666666666666,
              "#ed7953"
             ],
             [
              0.7777777777777778,
              "#fb9f3a"
             ],
             [
              0.8888888888888888,
              "#fdca26"
             ],
             [
              1,
              "#f0f921"
             ]
            ],
            "type": "heatmapgl"
           }
          ],
          "histogram": [
           {
            "marker": {
             "pattern": {
              "fillmode": "overlay",
              "size": 10,
              "solidity": 0.2
             }
            },
            "type": "histogram"
           }
          ],
          "histogram2d": [
           {
            "colorbar": {
             "outlinewidth": 0,
             "ticks": ""
            },
            "colorscale": [
             [
              0,
              "#0d0887"
             ],
             [
              0.1111111111111111,
              "#46039f"
             ],
             [
              0.2222222222222222,
              "#7201a8"
             ],
             [
              0.3333333333333333,
              "#9c179e"
             ],
             [
              0.4444444444444444,
              "#bd3786"
             ],
             [
              0.5555555555555556,
              "#d8576b"
             ],
             [
              0.6666666666666666,
              "#ed7953"
             ],
             [
              0.7777777777777778,
              "#fb9f3a"
             ],
             [
              0.8888888888888888,
              "#fdca26"
             ],
             [
              1,
              "#f0f921"
             ]
            ],
            "type": "histogram2d"
           }
          ],
          "histogram2dcontour": [
           {
            "colorbar": {
             "outlinewidth": 0,
             "ticks": ""
            },
            "colorscale": [
             [
              0,
              "#0d0887"
             ],
             [
              0.1111111111111111,
              "#46039f"
             ],
             [
              0.2222222222222222,
              "#7201a8"
             ],
             [
              0.3333333333333333,
              "#9c179e"
             ],
             [
              0.4444444444444444,
              "#bd3786"
             ],
             [
              0.5555555555555556,
              "#d8576b"
             ],
             [
              0.6666666666666666,
              "#ed7953"
             ],
             [
              0.7777777777777778,
              "#fb9f3a"
             ],
             [
              0.8888888888888888,
              "#fdca26"
             ],
             [
              1,
              "#f0f921"
             ]
            ],
            "type": "histogram2dcontour"
           }
          ],
          "mesh3d": [
           {
            "colorbar": {
             "outlinewidth": 0,
             "ticks": ""
            },
            "type": "mesh3d"
           }
          ],
          "parcoords": [
           {
            "line": {
             "colorbar": {
              "outlinewidth": 0,
              "ticks": ""
             }
            },
            "type": "parcoords"
           }
          ],
          "pie": [
           {
            "automargin": true,
            "type": "pie"
           }
          ],
          "scatter": [
           {
            "fillpattern": {
             "fillmode": "overlay",
             "size": 10,
             "solidity": 0.2
            },
            "type": "scatter"
           }
          ],
          "scatter3d": [
           {
            "line": {
             "colorbar": {
              "outlinewidth": 0,
              "ticks": ""
             }
            },
            "marker": {
             "colorbar": {
              "outlinewidth": 0,
              "ticks": ""
             }
            },
            "type": "scatter3d"
           }
          ],
          "scattercarpet": [
           {
            "marker": {
             "colorbar": {
              "outlinewidth": 0,
              "ticks": ""
             }
            },
            "type": "scattercarpet"
           }
          ],
          "scattergeo": [
           {
            "marker": {
             "colorbar": {
              "outlinewidth": 0,
              "ticks": ""
             }
            },
            "type": "scattergeo"
           }
          ],
          "scattergl": [
           {
            "marker": {
             "colorbar": {
              "outlinewidth": 0,
              "ticks": ""
             }
            },
            "type": "scattergl"
           }
          ],
          "scattermapbox": [
           {
            "marker": {
             "colorbar": {
              "outlinewidth": 0,
              "ticks": ""
             }
            },
            "type": "scattermapbox"
           }
          ],
          "scatterpolar": [
           {
            "marker": {
             "colorbar": {
              "outlinewidth": 0,
              "ticks": ""
             }
            },
            "type": "scatterpolar"
           }
          ],
          "scatterpolargl": [
           {
            "marker": {
             "colorbar": {
              "outlinewidth": 0,
              "ticks": ""
             }
            },
            "type": "scatterpolargl"
           }
          ],
          "scatterternary": [
           {
            "marker": {
             "colorbar": {
              "outlinewidth": 0,
              "ticks": ""
             }
            },
            "type": "scatterternary"
           }
          ],
          "surface": [
           {
            "colorbar": {
             "outlinewidth": 0,
             "ticks": ""
            },
            "colorscale": [
             [
              0,
              "#0d0887"
             ],
             [
              0.1111111111111111,
              "#46039f"
             ],
             [
              0.2222222222222222,
              "#7201a8"
             ],
             [
              0.3333333333333333,
              "#9c179e"
             ],
             [
              0.4444444444444444,
              "#bd3786"
             ],
             [
              0.5555555555555556,
              "#d8576b"
             ],
             [
              0.6666666666666666,
              "#ed7953"
             ],
             [
              0.7777777777777778,
              "#fb9f3a"
             ],
             [
              0.8888888888888888,
              "#fdca26"
             ],
             [
              1,
              "#f0f921"
             ]
            ],
            "type": "surface"
           }
          ],
          "table": [
           {
            "cells": {
             "fill": {
              "color": "#EBF0F8"
             },
             "line": {
              "color": "white"
             }
            },
            "header": {
             "fill": {
              "color": "#C8D4E3"
             },
             "line": {
              "color": "white"
             }
            },
            "type": "table"
           }
          ]
         },
         "layout": {
          "annotationdefaults": {
           "arrowcolor": "#2a3f5f",
           "arrowhead": 0,
           "arrowwidth": 1
          },
          "autotypenumbers": "strict",
          "coloraxis": {
           "colorbar": {
            "outlinewidth": 0,
            "ticks": ""
           }
          },
          "colorscale": {
           "diverging": [
            [
             0,
             "#8e0152"
            ],
            [
             0.1,
             "#c51b7d"
            ],
            [
             0.2,
             "#de77ae"
            ],
            [
             0.3,
             "#f1b6da"
            ],
            [
             0.4,
             "#fde0ef"
            ],
            [
             0.5,
             "#f7f7f7"
            ],
            [
             0.6,
             "#e6f5d0"
            ],
            [
             0.7,
             "#b8e186"
            ],
            [
             0.8,
             "#7fbc41"
            ],
            [
             0.9,
             "#4d9221"
            ],
            [
             1,
             "#276419"
            ]
           ],
           "sequential": [
            [
             0,
             "#0d0887"
            ],
            [
             0.1111111111111111,
             "#46039f"
            ],
            [
             0.2222222222222222,
             "#7201a8"
            ],
            [
             0.3333333333333333,
             "#9c179e"
            ],
            [
             0.4444444444444444,
             "#bd3786"
            ],
            [
             0.5555555555555556,
             "#d8576b"
            ],
            [
             0.6666666666666666,
             "#ed7953"
            ],
            [
             0.7777777777777778,
             "#fb9f3a"
            ],
            [
             0.8888888888888888,
             "#fdca26"
            ],
            [
             1,
             "#f0f921"
            ]
           ],
           "sequentialminus": [
            [
             0,
             "#0d0887"
            ],
            [
             0.1111111111111111,
             "#46039f"
            ],
            [
             0.2222222222222222,
             "#7201a8"
            ],
            [
             0.3333333333333333,
             "#9c179e"
            ],
            [
             0.4444444444444444,
             "#bd3786"
            ],
            [
             0.5555555555555556,
             "#d8576b"
            ],
            [
             0.6666666666666666,
             "#ed7953"
            ],
            [
             0.7777777777777778,
             "#fb9f3a"
            ],
            [
             0.8888888888888888,
             "#fdca26"
            ],
            [
             1,
             "#f0f921"
            ]
           ]
          },
          "colorway": [
           "#636efa",
           "#EF553B",
           "#00cc96",
           "#ab63fa",
           "#FFA15A",
           "#19d3f3",
           "#FF6692",
           "#B6E880",
           "#FF97FF",
           "#FECB52"
          ],
          "font": {
           "color": "#2a3f5f"
          },
          "geo": {
           "bgcolor": "white",
           "lakecolor": "white",
           "landcolor": "#E5ECF6",
           "showlakes": true,
           "showland": true,
           "subunitcolor": "white"
          },
          "hoverlabel": {
           "align": "left"
          },
          "hovermode": "closest",
          "mapbox": {
           "style": "light"
          },
          "paper_bgcolor": "white",
          "plot_bgcolor": "#E5ECF6",
          "polar": {
           "angularaxis": {
            "gridcolor": "white",
            "linecolor": "white",
            "ticks": ""
           },
           "bgcolor": "#E5ECF6",
           "radialaxis": {
            "gridcolor": "white",
            "linecolor": "white",
            "ticks": ""
           }
          },
          "scene": {
           "xaxis": {
            "backgroundcolor": "#E5ECF6",
            "gridcolor": "white",
            "gridwidth": 2,
            "linecolor": "white",
            "showbackground": true,
            "ticks": "",
            "zerolinecolor": "white"
           },
           "yaxis": {
            "backgroundcolor": "#E5ECF6",
            "gridcolor": "white",
            "gridwidth": 2,
            "linecolor": "white",
            "showbackground": true,
            "ticks": "",
            "zerolinecolor": "white"
           },
           "zaxis": {
            "backgroundcolor": "#E5ECF6",
            "gridcolor": "white",
            "gridwidth": 2,
            "linecolor": "white",
            "showbackground": true,
            "ticks": "",
            "zerolinecolor": "white"
           }
          },
          "shapedefaults": {
           "line": {
            "color": "#2a3f5f"
           }
          },
          "ternary": {
           "aaxis": {
            "gridcolor": "white",
            "linecolor": "white",
            "ticks": ""
           },
           "baxis": {
            "gridcolor": "white",
            "linecolor": "white",
            "ticks": ""
           },
           "bgcolor": "#E5ECF6",
           "caxis": {
            "gridcolor": "white",
            "linecolor": "white",
            "ticks": ""
           }
          },
          "title": {
           "x": 0.05
          },
          "xaxis": {
           "automargin": true,
           "gridcolor": "white",
           "linecolor": "white",
           "ticks": "",
           "title": {
            "standoff": 15
           },
           "zerolinecolor": "white",
           "zerolinewidth": 2
          },
          "yaxis": {
           "automargin": true,
           "gridcolor": "white",
           "linecolor": "white",
           "ticks": "",
           "title": {
            "standoff": 15
           },
           "zerolinecolor": "white",
           "zerolinewidth": 2
          }
         }
        },
        "title": {
         "text": "Распределение количества мест в сетевых заведениях"
        },
        "xaxis": {
         "anchor": "y",
         "domain": [
          0,
          1
         ],
         "title": {
          "text": "Количество посадочных мест"
         }
        },
        "yaxis": {
         "anchor": "x",
         "domain": [
          0,
          1
         ],
         "title": {
          "text": "Количество заведений"
         }
        }
       }
      }
     },
     "metadata": {},
     "output_type": "display_data"
    }
   ],
   "source": [
    "# Отфильтруем сетевые заведения и построим график распределения количества посадочных мест\n",
    "chain_object = rest_data.query('chain == \"да\"')\n",
    "fig = px.histogram(chain_object, x=\"number\")\n",
    "fig.update_layout(\n",
    "                  title=\"Распределение количества мест в сетевых заведениях\",\n",
    "                  xaxis_title=\"Количество посадочных мест\",\n",
    "                  yaxis_title=\"Количество заведений\")\n",
    "fig.show();"
   ]
  },
  {
   "cell_type": "markdown",
   "metadata": {},
   "source": [
    "#### Комментарий\n",
    "Большее количество посадочных мест среди сетевых заведений располагается в диапазоне от 0 до 50."
   ]
  },
  {
   "cell_type": "code",
   "execution_count": 13,
   "metadata": {
    "scrolled": false
   },
   "outputs": [
    {
     "data": {
      "image/png": "[encoded data removed]",
      "text/plain": [
       "<Figure size 900x900 with 3 Axes>"
      ]
     },
     "metadata": {},
     "output_type": "display_data"
    }
   ],
   "source": [
    "number_mean = chain_object.groupby('object_name').agg({'id':'count', 'number':'mean'})\n",
    "number_mean['number'] = number_mean['number'].astype(int)\n",
    "number_mean_without_1 = number_mean.query('id > 1')\n",
    "number_mean_without_1.columns = ['Количество заведений', 'Среднее колиичество мест']\n",
    "fig = sns.jointplot(x='Количество заведений', \n",
    "              y='Среднее колиичество мест', \n",
    "              data=number_mean_without_1, \n",
    "              height = 9, kind=\"hex\")\n",
    "fig.fig.suptitle('Соотношение количества посадочных мест к количеству заведений');"
   ]
  },
  {
   "cell_type": "markdown",
   "metadata": {},
   "source": [
    "#### Вывод\n",
    "Сети с большим количеством заведений, как правило не имеют большого количества посадочных мест. В сетевых заведениях с количеством объектов не более 10 имеются заведения с большим количеством посадочных мест. Однако бОльшая часть сетевых заведений попадает в категорию с небольшим количеством объектов и посадочных мест."
   ]
  },
  {
   "cell_type": "markdown",
   "metadata": {},
   "source": [
    "### Среднее количество посадочных мест по видам заведений"
   ]
  },
  {
   "cell_type": "code",
   "execution_count": 14,
   "metadata": {
    "scrolled": false
   },
   "outputs": [
    {
     "data": {
      "application/vnd.plotly.v1+json": {
       "config": {
        "plotlyServerURL": "https://plot.ly"
       },
       "data": [
        {
         "alignmentgroup": "True",
         "hovertemplate": "Тип объекта=%{x}<br>Количество мест=%{y}<extra></extra>",
         "legendgroup": "",
         "marker": {
          "color": "#636efa",
          "pattern": {
           "shape": ""
          }
         },
         "name": "",
         "offsetgroup": "",
         "orientation": "v",
         "showlegend": false,
         "textposition": "auto",
         "type": "bar",
         "x": [
          "столовая",
          "ресторан",
          "буфет",
          "бар",
          "кафе",
          "предприятие быстрого обслуживания",
          "кафетерий",
          "закусочная",
          "магазин (отдел кулинарии)"
         ],
         "xaxis": "x",
         "y": [
          130.24661770390415,
          96.83413566739605,
          51.12991452991453,
          43.49415887850467,
          39.71601901951139,
          20.55226209048362,
          9.123115577889447,
          7.608333333333333,
          5.589743589743589
         ],
         "yaxis": "y"
        }
       ],
       "layout": {
        "barmode": "relative",
        "legend": {
         "tracegroupgap": 0
        },
        "template": {
         "data": {
          "bar": [
           {
            "error_x": {
             "color": "#2a3f5f"
            },
            "error_y": {
             "color": "#2a3f5f"
            },
            "marker": {
             "line": {
              "color": "#E5ECF6",
              "width": 0.5
             },
             "pattern": {
              "fillmode": "overlay",
              "size": 10,
              "solidity": 0.2
             }
            },
            "type": "bar"
           }
          ],
          "barpolar": [
           {
            "marker": {
             "line": {
              "color": "#E5ECF6",
              "width": 0.5
             },
             "pattern": {
              "fillmode": "overlay",
              "size": 10,
              "solidity": 0.2
             }
            },
            "type": "barpolar"
           }
          ],
          "carpet": [
           {
            "aaxis": {
             "endlinecolor": "#2a3f5f",
             "gridcolor": "white",
             "linecolor": "white",
             "minorgridcolor": "white",
             "startlinecolor": "#2a3f5f"
            },
            "baxis": {
             "endlinecolor": "#2a3f5f",
             "gridcolor": "white",
             "linecolor": "white",
             "minorgridcolor": "white",
             "startlinecolor": "#2a3f5f"
            },
            "type": "carpet"
           }
          ],
          "choropleth": [
           {
            "colorbar": {
             "outlinewidth": 0,
             "ticks": ""
            },
            "type": "choropleth"
           }
          ],
          "contour": [
           {
            "colorbar": {
             "outlinewidth": 0,
             "ticks": ""
            },
            "colorscale": [
             [
              0,
              "#0d0887"
             ],
             [
              0.1111111111111111,
              "#46039f"
             ],
             [
              0.2222222222222222,
              "#7201a8"
             ],
             [
              0.3333333333333333,
              "#9c179e"
             ],
             [
              0.4444444444444444,
              "#bd3786"
             ],
             [
              0.5555555555555556,
              "#d8576b"
             ],
             [
              0.6666666666666666,
              "#ed7953"
             ],
             [
              0.7777777777777778,
              "#fb9f3a"
             ],
             [
              0.8888888888888888,
              "#fdca26"
             ],
             [
              1,
              "#f0f921"
             ]
            ],
            "type": "contour"
           }
          ],
          "contourcarpet": [
           {
            "colorbar": {
             "outlinewidth": 0,
             "ticks": ""
            },
            "type": "contourcarpet"
           }
          ],
          "heatmap": [
           {
            "colorbar": {
             "outlinewidth": 0,
             "ticks": ""
            },
            "colorscale": [
             [
              0,
              "#0d0887"
             ],
             [
              0.1111111111111111,
              "#46039f"
             ],
             [
              0.2222222222222222,
              "#7201a8"
             ],
             [
              0.3333333333333333,
              "#9c179e"
             ],
             [
              0.4444444444444444,
              "#bd3786"
             ],
             [
              0.5555555555555556,
              "#d8576b"
             ],
             [
              0.6666666666666666,
              "#ed7953"
             ],
             [
              0.7777777777777778,
              "#fb9f3a"
             ],
             [
              0.8888888888888888,
              "#fdca26"
             ],
             [
              1,
              "#f0f921"
             ]
            ],
            "type": "heatmap"
           }
          ],
          "heatmapgl": [
           {
            "colorbar": {
             "outlinewidth": 0,
             "ticks": ""
            },
            "colorscale": [
             [
              0,
              "#0d0887"
             ],
             [
              0.1111111111111111,
              "#46039f"
             ],
             [
              0.2222222222222222,
              "#7201a8"
             ],
             [
              0.3333333333333333,
              "#9c179e"
             ],
             [
              0.4444444444444444,
              "#bd3786"
             ],
             [
              0.5555555555555556,
              "#d8576b"
             ],
             [
              0.6666666666666666,
              "#ed7953"
             ],
             [
              0.7777777777777778,
              "#fb9f3a"
             ],
             [
              0.8888888888888888,
              "#fdca26"
             ],
             [
              1,
              "#f0f921"
             ]
            ],
            "type": "heatmapgl"
           }
          ],
          "histogram": [
           {
            "marker": {
             "pattern": {
              "fillmode": "overlay",
              "size": 10,
              "solidity": 0.2
             }
            },
            "type": "histogram"
           }
          ],
          "histogram2d": [
           {
            "colorbar": {
             "outlinewidth": 0,
             "ticks": ""
            },
            "colorscale": [
             [
              0,
              "#0d0887"
             ],
             [
              0.1111111111111111,
              "#46039f"
             ],
             [
              0.2222222222222222,
              "#7201a8"
             ],
             [
              0.3333333333333333,
              "#9c179e"
             ],
             [
              0.4444444444444444,
              "#bd3786"
             ],
             [
              0.5555555555555556,
              "#d8576b"
             ],
             [
              0.6666666666666666,
              "#ed7953"
             ],
             [
              0.7777777777777778,
              "#fb9f3a"
             ],
             [
              0.8888888888888888,
              "#fdca26"
             ],
             [
              1,
              "#f0f921"
             ]
            ],
            "type": "histogram2d"
           }
          ],
          "histogram2dcontour": [
           {
            "colorbar": {
             "outlinewidth": 0,
             "ticks": ""
            },
            "colorscale": [
             [
              0,
              "#0d0887"
             ],
             [
              0.1111111111111111,
              "#46039f"
             ],
             [
              0.2222222222222222,
              "#7201a8"
             ],
             [
              0.3333333333333333,
              "#9c179e"
             ],
             [
              0.4444444444444444,
              "#bd3786"
             ],
             [
              0.5555555555555556,
              "#d8576b"
             ],
             [
              0.6666666666666666,
              "#ed7953"
             ],
             [
              0.7777777777777778,
              "#fb9f3a"
             ],
             [
              0.8888888888888888,
              "#fdca26"
             ],
             [
              1,
              "#f0f921"
             ]
            ],
            "type": "histogram2dcontour"
           }
          ],
          "mesh3d": [
           {
            "colorbar": {
             "outlinewidth": 0,
             "ticks": ""
            },
            "type": "mesh3d"
           }
          ],
          "parcoords": [
           {
            "line": {
             "colorbar": {
              "outlinewidth": 0,
              "ticks": ""
             }
            },
            "type": "parcoords"
           }
          ],
          "pie": [
           {
            "automargin": true,
            "type": "pie"
           }
          ],
          "scatter": [
           {
            "fillpattern": {
             "fillmode": "overlay",
             "size": 10,
             "solidity": 0.2
            },
            "type": "scatter"
           }
          ],
          "scatter3d": [
           {
            "line": {
             "colorbar": {
              "outlinewidth": 0,
              "ticks": ""
             }
            },
            "marker": {
             "colorbar": {
              "outlinewidth": 0,
              "ticks": ""
             }
            },
            "type": "scatter3d"
           }
          ],
          "scattercarpet": [
           {
            "marker": {
             "colorbar": {
              "outlinewidth": 0,
              "ticks": ""
             }
            },
            "type": "scattercarpet"
           }
          ],
          "scattergeo": [
           {
            "marker": {
             "colorbar": {
              "outlinewidth": 0,
              "ticks": ""
             }
            },
            "type": "scattergeo"
           }
          ],
          "scattergl": [
           {
            "marker": {
             "colorbar": {
              "outlinewidth": 0,
              "ticks": ""
             }
            },
            "type": "scattergl"
           }
          ],
          "scattermapbox": [
           {
            "marker": {
             "colorbar": {
              "outlinewidth": 0,
              "ticks": ""
             }
            },
            "type": "scattermapbox"
           }
          ],
          "scatterpolar": [
           {
            "marker": {
             "colorbar": {
              "outlinewidth": 0,
              "ticks": ""
             }
            },
            "type": "scatterpolar"
           }
          ],
          "scatterpolargl": [
           {
            "marker": {
             "colorbar": {
              "outlinewidth": 0,
              "ticks": ""
             }
            },
            "type": "scatterpolargl"
           }
          ],
          "scatterternary": [
           {
            "marker": {
             "colorbar": {
              "outlinewidth": 0,
              "ticks": ""
             }
            },
            "type": "scatterternary"
           }
          ],
          "surface": [
           {
            "colorbar": {
             "outlinewidth": 0,
             "ticks": ""
            },
            "colorscale": [
             [
              0,
              "#0d0887"
             ],
             [
              0.1111111111111111,
              "#46039f"
             ],
             [
              0.2222222222222222,
              "#7201a8"
             ],
             [
              0.3333333333333333,
              "#9c179e"
             ],
             [
              0.4444444444444444,
              "#bd3786"
             ],
             [
              0.5555555555555556,
              "#d8576b"
             ],
             [
              0.6666666666666666,
              "#ed7953"
             ],
             [
              0.7777777777777778,
              "#fb9f3a"
             ],
             [
              0.8888888888888888,
              "#fdca26"
             ],
             [
              1,
              "#f0f921"
             ]
            ],
            "type": "surface"
           }
          ],
          "table": [
           {
            "cells": {
             "fill": {
              "color": "#EBF0F8"
             },
             "line": {
              "color": "white"
             }
            },
            "header": {
             "fill": {
              "color": "#C8D4E3"
             },
             "line": {
              "color": "white"
             }
            },
            "type": "table"
           }
          ]
         },
         "layout": {
          "annotationdefaults": {
           "arrowcolor": "#2a3f5f",
           "arrowhead": 0,
           "arrowwidth": 1
          },
          "autotypenumbers": "strict",
          "coloraxis": {
           "colorbar": {
            "outlinewidth": 0,
            "ticks": ""
           }
          },
          "colorscale": {
           "diverging": [
            [
             0,
             "#8e0152"
            ],
            [
             0.1,
             "#c51b7d"
            ],
            [
             0.2,
             "#de77ae"
            ],
            [
             0.3,
             "#f1b6da"
            ],
            [
             0.4,
             "#fde0ef"
            ],
            [
             0.5,
             "#f7f7f7"
            ],
            [
             0.6,
             "#e6f5d0"
            ],
            [
             0.7,
             "#b8e186"
            ],
            [
             0.8,
             "#7fbc41"
            ],
            [
             0.9,
             "#4d9221"
            ],
            [
             1,
             "#276419"
            ]
           ],
           "sequential": [
            [
             0,
             "#0d0887"
            ],
            [
             0.1111111111111111,
             "#46039f"
            ],
            [
             0.2222222222222222,
             "#7201a8"
            ],
            [
             0.3333333333333333,
             "#9c179e"
            ],
            [
             0.4444444444444444,
             "#bd3786"
            ],
            [
             0.5555555555555556,
             "#d8576b"
            ],
            [
             0.6666666666666666,
             "#ed7953"
            ],
            [
             0.7777777777777778,
             "#fb9f3a"
            ],
            [
             0.8888888888888888,
             "#fdca26"
            ],
            [
             1,
             "#f0f921"
            ]
           ],
           "sequentialminus": [
            [
             0,
             "#0d0887"
            ],
            [
             0.1111111111111111,
             "#46039f"
            ],
            [
             0.2222222222222222,
             "#7201a8"
            ],
            [
             0.3333333333333333,
             "#9c179e"
            ],
            [
             0.4444444444444444,
             "#bd3786"
            ],
            [
             0.5555555555555556,
             "#d8576b"
            ],
            [
             0.6666666666666666,
             "#ed7953"
            ],
            [
             0.7777777777777778,
             "#fb9f3a"
            ],
            [
             0.8888888888888888,
             "#fdca26"
            ],
            [
             1,
             "#f0f921"
            ]
           ]
          },
          "colorway": [
           "#636efa",
           "#EF553B",
           "#00cc96",
           "#ab63fa",
           "#FFA15A",
           "#19d3f3",
           "#FF6692",
           "#B6E880",
           "#FF97FF",
           "#FECB52"
          ],
          "font": {
           "color": "#2a3f5f"
          },
          "geo": {
           "bgcolor": "white",
           "lakecolor": "white",
           "landcolor": "#E5ECF6",
           "showlakes": true,
           "showland": true,
           "subunitcolor": "white"
          },
          "hoverlabel": {
           "align": "left"
          },
          "hovermode": "closest",
          "mapbox": {
           "style": "light"
          },
          "paper_bgcolor": "white",
          "plot_bgcolor": "#E5ECF6",
          "polar": {
           "angularaxis": {
            "gridcolor": "white",
            "linecolor": "white",
            "ticks": ""
           },
           "bgcolor": "#E5ECF6",
           "radialaxis": {
            "gridcolor": "white",
            "linecolor": "white",
            "ticks": ""
           }
          },
          "scene": {
           "xaxis": {
            "backgroundcolor": "#E5ECF6",
            "gridcolor": "white",
            "gridwidth": 2,
            "linecolor": "white",
            "showbackground": true,
            "ticks": "",
            "zerolinecolor": "white"
           },
           "yaxis": {
            "backgroundcolor": "#E5ECF6",
            "gridcolor": "white",
            "gridwidth": 2,
            "linecolor": "white",
            "showbackground": true,
            "ticks": "",
            "zerolinecolor": "white"
           },
           "zaxis": {
            "backgroundcolor": "#E5ECF6",
            "gridcolor": "white",
            "gridwidth": 2,
            "linecolor": "white",
            "showbackground": true,
            "ticks": "",
            "zerolinecolor": "white"
           }
          },
          "shapedefaults": {
           "line": {
            "color": "#2a3f5f"
           }
          },
          "ternary": {
           "aaxis": {
            "gridcolor": "white",
            "linecolor": "white",
            "ticks": ""
           },
           "baxis": {
            "gridcolor": "white",
            "linecolor": "white",
            "ticks": ""
           },
           "bgcolor": "#E5ECF6",
           "caxis": {
            "gridcolor": "white",
            "linecolor": "white",
            "ticks": ""
           }
          },
          "title": {
           "x": 0.05
          },
          "xaxis": {
           "automargin": true,
           "gridcolor": "white",
           "linecolor": "white",
           "ticks": "",
           "title": {
            "standoff": 15
           },
           "zerolinecolor": "white",
           "zerolinewidth": 2
          },
          "yaxis": {
           "automargin": true,
           "gridcolor": "white",
           "linecolor": "white",
           "ticks": "",
           "title": {
            "standoff": 15
           },
           "zerolinecolor": "white",
           "zerolinewidth": 2
          }
         }
        },
        "title": {
         "text": "Среднее количество посадочных мест"
        },
        "xaxis": {
         "anchor": "y",
         "domain": [
          0,
          1
         ],
         "title": {
          "text": "Тип объекта"
         }
        },
        "yaxis": {
         "anchor": "x",
         "domain": [
          0,
          1
         ],
         "title": {
          "text": "Количество мест"
         }
        }
       }
      }
     },
     "metadata": {},
     "output_type": "display_data"
    }
   ],
   "source": [
    "# Сгруппируем данные по типам и вычислим среднее количество мест для каждого, после чего построим график\n",
    "mean_seats = rest_data.groupby('object_type')['number'].agg(mean_seats='mean').reset_index()\n",
    "mean_seats.columns = ['Тип объекта', 'Количество мест']\n",
    "mean_seats = mean_seats.sort_values(by='Количество мест', ascending=False)\n",
    "fig = px.bar(mean_seats, x=\"Тип объекта\", y=\"Количество мест\",\n",
    "             title=\"Среднее количество посадочных мест\")\n",
    "fig.show();"
   ]
  },
  {
   "cell_type": "markdown",
   "metadata": {},
   "source": [
    "#### Вывод\n",
    "В среднем самым большим количеством посадочных мест располагают столовые и рестораны - 130 и 97 соответственно. Для столовых это необходимо, так как приходится обслуживать большое количество клиентов одновременно, а в ресторанах это объясняется желанием клиентов провести побольше времени и чтобы не обидеть никого из клиентов, появляется необходимость в увеличении посадочных мест.\n",
    "Меньше всего посадочных мест в кафетериях, закусочных и отделах кулинарии, где клиенты находятся недолго, а зачастую и забирают еду с собой."
   ]
  },
  {
   "cell_type": "markdown",
   "metadata": {},
   "source": [
    "### Tоп-10 улиц по количеству объектов общественного питания"
   ]
  },
  {
   "cell_type": "code",
   "execution_count": 15,
   "metadata": {
    "scrolled": false
   },
   "outputs": [
    {
     "data": {
      "text/html": [
       "<div>\n",
       "<style scoped>\n",
       "    .dataframe tbody tr th:only-of-type {\n",
       "        vertical-align: middle;\n",
       "    }\n",
       "\n",
       "    .dataframe tbody tr th {\n",
       "        vertical-align: top;\n",
       "    }\n",
       "\n",
       "    .dataframe thead th {\n",
       "        text-align: right;\n",
       "    }\n",
       "</style>\n",
       "<table border=\"1\" class=\"dataframe\">\n",
       "  <thead>\n",
       "    <tr style=\"text-align: right;\">\n",
       "      <th></th>\n",
       "      <th>id</th>\n",
       "      <th>object_name</th>\n",
       "      <th>chain</th>\n",
       "      <th>object_type</th>\n",
       "      <th>address</th>\n",
       "      <th>number</th>\n",
       "      <th>street</th>\n",
       "    </tr>\n",
       "  </thead>\n",
       "  <tbody>\n",
       "    <tr>\n",
       "      <th>4523</th>\n",
       "      <td>23302</td>\n",
       "      <td>буфет при гоу сош №1114</td>\n",
       "      <td>нет</td>\n",
       "      <td>буфет</td>\n",
       "      <td>город Москва, Филёвский бульвар, дом 13, корпус 2</td>\n",
       "      <td>120</td>\n",
       "      <td>Филёвский бульвар</td>\n",
       "    </tr>\n",
       "    <tr>\n",
       "      <th>11878</th>\n",
       "      <td>173678</td>\n",
       "      <td>суши wok</td>\n",
       "      <td>да</td>\n",
       "      <td>кафе</td>\n",
       "      <td>город Москва, Сельскохозяйственная улица, дом ...</td>\n",
       "      <td>20</td>\n",
       "      <td>Сельскохозяйственная улица</td>\n",
       "    </tr>\n",
       "    <tr>\n",
       "      <th>12366</th>\n",
       "      <td>202138</td>\n",
       "      <td>cofix</td>\n",
       "      <td>да</td>\n",
       "      <td>кафе</td>\n",
       "      <td>город Москва, Пятницкая улица, дом 8</td>\n",
       "      <td>10</td>\n",
       "      <td>Пятницкая улица</td>\n",
       "    </tr>\n",
       "    <tr>\n",
       "      <th>13832</th>\n",
       "      <td>206974</td>\n",
       "      <td>дублинец</td>\n",
       "      <td>нет</td>\n",
       "      <td>ресторан</td>\n",
       "      <td>город Москва, Никольская улица, дом 10</td>\n",
       "      <td>115</td>\n",
       "      <td>Никольская улица</td>\n",
       "    </tr>\n",
       "    <tr>\n",
       "      <th>4343</th>\n",
       "      <td>138012</td>\n",
       "      <td>столовая при школе № 2107</td>\n",
       "      <td>нет</td>\n",
       "      <td>столовая</td>\n",
       "      <td>город Москва, Большая Переяславская улица, дом...</td>\n",
       "      <td>130</td>\n",
       "      <td>Большая Переяславская улица</td>\n",
       "    </tr>\n",
       "  </tbody>\n",
       "</table>\n",
       "</div>"
      ],
      "text/plain": [
       "           id                object_name chain object_type  \\\n",
       "4523    23302    буфет при гоу сош №1114   нет       буфет   \n",
       "11878  173678                   суши wok    да        кафе   \n",
       "12366  202138                      cofix    да        кафе   \n",
       "13832  206974                   дублинец   нет    ресторан   \n",
       "4343   138012  столовая при школе № 2107   нет    столовая   \n",
       "\n",
       "                                                 address  number  \\\n",
       "4523   город Москва, Филёвский бульвар, дом 13, корпус 2     120   \n",
       "11878  город Москва, Сельскохозяйственная улица, дом ...      20   \n",
       "12366               город Москва, Пятницкая улица, дом 8      10   \n",
       "13832             город Москва, Никольская улица, дом 10     115   \n",
       "4343   город Москва, Большая Переяславская улица, дом...     130   \n",
       "\n",
       "                            street  \n",
       "4523             Филёвский бульвар  \n",
       "11878   Сельскохозяйственная улица  \n",
       "12366              Пятницкая улица  \n",
       "13832             Никольская улица  \n",
       "4343   Большая Переяславская улица  "
      ]
     },
     "execution_count": 15,
     "metadata": {},
     "output_type": "execute_result"
    }
   ],
   "source": [
    "# Создадим словарь наименований адресов объектов\n",
    "words = ['улица','ул','переулок','шоссе','проспект','площадь','проезд',\n",
    "         'село','аллея','бульвар','набережная','тупик','линия']\n",
    "# С помощью регулярных выражений удалим все лишнее и оставим в столбце street только названия улиц\n",
    "str_pat = r\".*,\\s*\\b([^,]*?(?:{})\\b[^,]*)[,$]+\".format(\"|\".join(words))\n",
    "rest_data['street'] = rest_data['address'].str.extract(str_pat, flags=0)\n",
    "rest_data.sample(5)"
   ]
  },
  {
   "cell_type": "code",
   "execution_count": 16,
   "metadata": {},
   "outputs": [
    {
     "name": "stdout",
     "output_type": "stream",
     "text": [
      "Не нашлось :( Хотя вот же оно. 'NoneType' object has no attribute 'group'\n",
      "проспект Мира\n"
     ]
    }
   ],
   "source": [
    "import re\n",
    "\n",
    "try:\n",
    "    print(re.search(str_pat, \"город Москва, проспект Мира\").group(1))\n",
    "except AttributeError as e:\n",
    "    print(\"Не нашлось :( Хотя вот же оно.\", e)\n",
    "\n",
    "try:\n",
    "    print(re.search(str_pat, \"город Москва, проспект Мира,\").group(1))\n",
    "except AttributeError as e:\n",
    "    print(\"Это не выполнится\")\n"
   ]
  },
  {
   "cell_type": "code",
   "execution_count": 17,
   "metadata": {},
   "outputs": [
    {
     "name": "stdout",
     "output_type": "stream",
     "text": [
      "Топ-10 улиц с самым большим количеством заведений\n"
     ]
    },
    {
     "data": {
      "text/html": [
       "<div>\n",
       "<style scoped>\n",
       "    .dataframe tbody tr th:only-of-type {\n",
       "        vertical-align: middle;\n",
       "    }\n",
       "\n",
       "    .dataframe tbody tr th {\n",
       "        vertical-align: top;\n",
       "    }\n",
       "\n",
       "    .dataframe thead th {\n",
       "        text-align: right;\n",
       "    }\n",
       "</style>\n",
       "<table border=\"1\" class=\"dataframe\">\n",
       "  <thead>\n",
       "    <tr style=\"text-align: right;\">\n",
       "      <th></th>\n",
       "      <th>Улица</th>\n",
       "      <th>Количество заведений</th>\n",
       "    </tr>\n",
       "  </thead>\n",
       "  <tbody>\n",
       "    <tr>\n",
       "      <th>0</th>\n",
       "      <td>проспект Мира</td>\n",
       "      <td>204</td>\n",
       "    </tr>\n",
       "    <tr>\n",
       "      <th>1</th>\n",
       "      <td>Профсоюзная улица</td>\n",
       "      <td>182</td>\n",
       "    </tr>\n",
       "    <tr>\n",
       "      <th>2</th>\n",
       "      <td>Ленинградский проспект</td>\n",
       "      <td>171</td>\n",
       "    </tr>\n",
       "    <tr>\n",
       "      <th>3</th>\n",
       "      <td>Пресненская набережная</td>\n",
       "      <td>167</td>\n",
       "    </tr>\n",
       "    <tr>\n",
       "      <th>4</th>\n",
       "      <td>Варшавское шоссе</td>\n",
       "      <td>164</td>\n",
       "    </tr>\n",
       "    <tr>\n",
       "      <th>5</th>\n",
       "      <td>Ленинский проспект</td>\n",
       "      <td>147</td>\n",
       "    </tr>\n",
       "    <tr>\n",
       "      <th>6</th>\n",
       "      <td>проспект Вернадского</td>\n",
       "      <td>132</td>\n",
       "    </tr>\n",
       "    <tr>\n",
       "      <th>7</th>\n",
       "      <td>Кутузовский проспект</td>\n",
       "      <td>114</td>\n",
       "    </tr>\n",
       "    <tr>\n",
       "      <th>8</th>\n",
       "      <td>Каширское шоссе</td>\n",
       "      <td>112</td>\n",
       "    </tr>\n",
       "    <tr>\n",
       "      <th>9</th>\n",
       "      <td>Кировоградская улица</td>\n",
       "      <td>110</td>\n",
       "    </tr>\n",
       "  </tbody>\n",
       "</table>\n",
       "</div>"
      ],
      "text/plain": [
       "                    Улица  Количество заведений\n",
       "0           проспект Мира                   204\n",
       "1       Профсоюзная улица                   182\n",
       "2  Ленинградский проспект                   171\n",
       "3  Пресненская набережная                   167\n",
       "4        Варшавское шоссе                   164\n",
       "5      Ленинский проспект                   147\n",
       "6    проспект Вернадского                   132\n",
       "7    Кутузовский проспект                   114\n",
       "8         Каширское шоссе                   112\n",
       "9    Кировоградская улица                   110"
      ]
     },
     "execution_count": 17,
     "metadata": {},
     "output_type": "execute_result"
    }
   ],
   "source": [
    "# Сформируем таблицу из десяти улиц с самым большим количетсвом заведений\n",
    "top10_street = rest_data.groupby('street').agg(\n",
    "    {'id' : 'count'}).sort_values(\n",
    "    by='id',ascending=False).head(10).reset_index()\n",
    "top10_street.columns = ['Улица', 'Количество заведений']\n",
    "print('Топ-10 улиц с самым большим количеством заведений')\n",
    "top10_street"
   ]
  },
  {
   "cell_type": "markdown",
   "metadata": {},
   "source": [
    "#### Комментарий\n",
    "Чем больше улица, тем больше на ней заведений, поэтому в нашем рейтинге в основном шоссе и проспекты. Скорее всего данный факт малоинформативен, так как данные сильно искажаются размерами улиц."
   ]
  },
  {
   "cell_type": "markdown",
   "metadata": {},
   "source": [
    "### Tоп-10 районов по количеству объектов общественного питания"
   ]
  },
  {
   "cell_type": "code",
   "execution_count": 18,
   "metadata": {},
   "outputs": [
    {
     "data": {
      "text/html": [
       "<div>\n",
       "<style scoped>\n",
       "    .dataframe tbody tr th:only-of-type {\n",
       "        vertical-align: middle;\n",
       "    }\n",
       "\n",
       "    .dataframe tbody tr th {\n",
       "        vertical-align: top;\n",
       "    }\n",
       "\n",
       "    .dataframe thead th {\n",
       "        text-align: right;\n",
       "    }\n",
       "</style>\n",
       "<table border=\"1\" class=\"dataframe\">\n",
       "  <thead>\n",
       "    <tr style=\"text-align: right;\">\n",
       "      <th></th>\n",
       "      <th>streetname</th>\n",
       "      <th>areaid</th>\n",
       "      <th>okrug</th>\n",
       "      <th>area</th>\n",
       "    </tr>\n",
       "  </thead>\n",
       "  <tbody>\n",
       "    <tr>\n",
       "      <th>0</th>\n",
       "      <td>Выставочный переулок</td>\n",
       "      <td>17</td>\n",
       "      <td>ЦАО</td>\n",
       "      <td>Пресненский район</td>\n",
       "    </tr>\n",
       "    <tr>\n",
       "      <th>1</th>\n",
       "      <td>улица Гашека</td>\n",
       "      <td>17</td>\n",
       "      <td>ЦАО</td>\n",
       "      <td>Пресненский район</td>\n",
       "    </tr>\n",
       "    <tr>\n",
       "      <th>2</th>\n",
       "      <td>Большая Никитская улица</td>\n",
       "      <td>17</td>\n",
       "      <td>ЦАО</td>\n",
       "      <td>Пресненский район</td>\n",
       "    </tr>\n",
       "    <tr>\n",
       "      <th>3</th>\n",
       "      <td>Глубокий переулок</td>\n",
       "      <td>17</td>\n",
       "      <td>ЦАО</td>\n",
       "      <td>Пресненский район</td>\n",
       "    </tr>\n",
       "    <tr>\n",
       "      <th>4</th>\n",
       "      <td>Большой Гнездниковский переулок</td>\n",
       "      <td>17</td>\n",
       "      <td>ЦАО</td>\n",
       "      <td>Пресненский район</td>\n",
       "    </tr>\n",
       "    <tr>\n",
       "      <th>...</th>\n",
       "      <td>...</td>\n",
       "      <td>...</td>\n",
       "      <td>...</td>\n",
       "      <td>...</td>\n",
       "    </tr>\n",
       "    <tr>\n",
       "      <th>4393</th>\n",
       "      <td>Вознесенский проезд</td>\n",
       "      <td>17</td>\n",
       "      <td>ЦАО</td>\n",
       "      <td>Пресненский район</td>\n",
       "    </tr>\n",
       "    <tr>\n",
       "      <th>4394</th>\n",
       "      <td>Волков переулок</td>\n",
       "      <td>17</td>\n",
       "      <td>ЦАО</td>\n",
       "      <td>Пресненский район</td>\n",
       "    </tr>\n",
       "    <tr>\n",
       "      <th>4395</th>\n",
       "      <td>Поварская улица</td>\n",
       "      <td>17</td>\n",
       "      <td>ЦАО</td>\n",
       "      <td>Пресненский район</td>\n",
       "    </tr>\n",
       "    <tr>\n",
       "      <th>4396</th>\n",
       "      <td>Кудринская площадь</td>\n",
       "      <td>17</td>\n",
       "      <td>ЦАО</td>\n",
       "      <td>Пресненский район</td>\n",
       "    </tr>\n",
       "    <tr>\n",
       "      <th>4397</th>\n",
       "      <td>Вспольный переулок</td>\n",
       "      <td>17</td>\n",
       "      <td>ЦАО</td>\n",
       "      <td>Пресненский район</td>\n",
       "    </tr>\n",
       "  </tbody>\n",
       "</table>\n",
       "<p>4398 rows × 4 columns</p>\n",
       "</div>"
      ],
      "text/plain": [
       "                           streetname  areaid okrug               area\n",
       "0                Выставочный переулок      17   ЦАО  Пресненский район\n",
       "1                        улица Гашека      17   ЦАО  Пресненский район\n",
       "2             Большая Никитская улица      17   ЦАО  Пресненский район\n",
       "3                   Глубокий переулок      17   ЦАО  Пресненский район\n",
       "4     Большой Гнездниковский переулок      17   ЦАО  Пресненский район\n",
       "...                               ...     ...   ...                ...\n",
       "4393              Вознесенский проезд      17   ЦАО  Пресненский район\n",
       "4394                  Волков переулок      17   ЦАО  Пресненский район\n",
       "4395                  Поварская улица      17   ЦАО  Пресненский район\n",
       "4396               Кудринская площадь      17   ЦАО  Пресненский район\n",
       "4397               Вспольный переулок      17   ЦАО  Пресненский район\n",
       "\n",
       "[4398 rows x 4 columns]"
      ]
     },
     "execution_count": 18,
     "metadata": {},
     "output_type": "execute_result"
    }
   ],
   "source": [
    "# Импортируем внешние данные с градацией улиц по районам\n",
    "from io import BytesIO\n",
    "import requests\n",
    "spreadsheet_id = '19DwsyPT12C1C9p0F1SeMUkYV-6AEu6132Z73cocBlk8'\n",
    "file_name = 'https://docs.google.com/spreadsheets/d/{}/export?format=csv'.format(spreadsheet_id)\n",
    "r = requests.get(file_name)\n",
    "area_data = pd.read_csv(BytesIO(r.content))\n",
    "area_data"
   ]
  },
  {
   "cell_type": "code",
   "execution_count": 19,
   "metadata": {},
   "outputs": [],
   "source": [
    "# Соединим таблицы по названию улицы\n",
    "rest_data = pd.merge(rest_data, area_data, left_on='street', right_on='streetname')"
   ]
  },
  {
   "cell_type": "markdown",
   "metadata": {},
   "source": [
    "#### Комментарий\n",
    "Объединение значительно увеличило размер таблицы, так как одна улица может располагать в нескольких районах, в связи с чем данные о заведениях продублировались в каждый из районов, по которому проходит улица."
   ]
  },
  {
   "cell_type": "code",
   "execution_count": 20,
   "metadata": {
    "scrolled": false
   },
   "outputs": [
    {
     "name": "stdout",
     "output_type": "stream",
     "text": [
      "Топ-10 районов с самым большим количеством заведений\n"
     ]
    },
    {
     "data": {
      "text/html": [
       "<div>\n",
       "<style scoped>\n",
       "    .dataframe tbody tr th:only-of-type {\n",
       "        vertical-align: middle;\n",
       "    }\n",
       "\n",
       "    .dataframe tbody tr th {\n",
       "        vertical-align: top;\n",
       "    }\n",
       "\n",
       "    .dataframe thead th {\n",
       "        text-align: right;\n",
       "    }\n",
       "</style>\n",
       "<table border=\"1\" class=\"dataframe\">\n",
       "  <thead>\n",
       "    <tr style=\"text-align: right;\">\n",
       "      <th></th>\n",
       "      <th>Район</th>\n",
       "    </tr>\n",
       "  </thead>\n",
       "  <tbody>\n",
       "    <tr>\n",
       "      <th>0</th>\n",
       "      <td>Тверской район</td>\n",
       "    </tr>\n",
       "    <tr>\n",
       "      <th>1</th>\n",
       "      <td>Пресненский район</td>\n",
       "    </tr>\n",
       "    <tr>\n",
       "      <th>2</th>\n",
       "      <td>Басманный район</td>\n",
       "    </tr>\n",
       "    <tr>\n",
       "      <th>3</th>\n",
       "      <td>Даниловский район</td>\n",
       "    </tr>\n",
       "    <tr>\n",
       "      <th>4</th>\n",
       "      <td>Мещанский район</td>\n",
       "    </tr>\n",
       "    <tr>\n",
       "      <th>5</th>\n",
       "      <td>Донской район</td>\n",
       "    </tr>\n",
       "    <tr>\n",
       "      <th>6</th>\n",
       "      <td>Таганский район</td>\n",
       "    </tr>\n",
       "    <tr>\n",
       "      <th>7</th>\n",
       "      <td>Обручевский район</td>\n",
       "    </tr>\n",
       "    <tr>\n",
       "      <th>8</th>\n",
       "      <td>Район Замоскворечье</td>\n",
       "    </tr>\n",
       "    <tr>\n",
       "      <th>9</th>\n",
       "      <td>Район Гагаринский</td>\n",
       "    </tr>\n",
       "  </tbody>\n",
       "</table>\n",
       "</div>"
      ],
      "text/plain": [
       "                 Район\n",
       "0       Тверской район\n",
       "1    Пресненский район\n",
       "2      Басманный район\n",
       "3    Даниловский район\n",
       "4      Мещанский район\n",
       "5        Донской район\n",
       "6      Таганский район\n",
       "7    Обручевский район\n",
       "8  Район Замоскворечье\n",
       "9    Район Гагаринский"
      ]
     },
     "execution_count": 20,
     "metadata": {},
     "output_type": "execute_result"
    }
   ],
   "source": [
    "# Сгруппируем данные по названиям районов\n",
    "top10_area = rest_data.groupby('area').agg(\n",
    "    {'id' : 'nunique'}).sort_values(\n",
    "    by='id', ascending=False).head(10).reset_index()\n",
    "top10_area.columns = ['Район', 'Количество заведений']\n",
    "print('Топ-10 районов с самым большим количеством заведений')\n",
    "top10_area[['Район']]"
   ]
  },
  {
   "cell_type": "code",
   "execution_count": 21,
   "metadata": {},
   "outputs": [
    {
     "name": "stdout",
     "output_type": "stream",
     "text": [
      "Районы, по которым проходят Топ-10 улиц\n",
      "_________________________________________\n"
     ]
    },
    {
     "data": {
      "text/plain": [
       "array(['Район Чертаново Центральное', 'Район Чертаново Северное',\n",
       "       'Район Чертаново Южное', 'Донской район',\n",
       "       'Район Нагатино-Садовники', 'Нагорный район',\n",
       "       'Район Северное Бутово', 'Район Южное Бутово',\n",
       "       'Район Проспект Вернадского', 'Район Раменки',\n",
       "       'Район Тропарево-Никулино', 'Район Гагаринский',\n",
       "       'Ломоносовский район', 'Район Дорогомилово',\n",
       "       'Район Фили-Давыдково', 'Район Москворечье-Сабурово',\n",
       "       'Район Орехово-Борисово Южное', 'Район Орехово-Борисово Северное',\n",
       "       'Район Аэропорт', 'Район Беговой', 'Хорошевский район',\n",
       "       'Район Сокол', 'Обручевский район', 'Район Теплый Стан',\n",
       "       'Район Якиманка', 'Алексеевский район', 'Ярославский Район',\n",
       "       'Район Марьина роща', 'Останкинский район', 'Район Ростокино',\n",
       "       'Район Свиблово', 'Мещанский район', 'Академический район',\n",
       "       'Район Черемушки', 'Район Ясенево', 'Район Коньково',\n",
       "       'Пресненский район'], dtype=object)"
      ]
     },
     "execution_count": 21,
     "metadata": {},
     "output_type": "execute_result"
    }
   ],
   "source": [
    "# Создадим список из улиц, с большим количеством заведений\n",
    "top10_street_list = pd.Series(top10_street['Улица'])\n",
    "# Отфильтруем таблицу по полученному списку\n",
    "street_with_many_obj = rest_data.query('street in @top10_street_list')\n",
    "\n",
    "print('Районы, по которым проходят Топ-10 улиц')\n",
    "print('_________________________________________')\n",
    "street_with_many_obj['area'].unique()"
   ]
  },
  {
   "cell_type": "markdown",
   "metadata": {},
   "source": [
    "#### Вывод\n",
    "Несмотря на то, что группировка по районам проводилась в таблице, содержащей большое количество дубликатов, копирование заведений производилось пропорционально, что позволило составить Топ-10 районов с самым большим количеством заведений.\n",
    "\n",
    "Как можно было предположить, заведения общепита предпочитают открывать ближе к центру, почему и 6 районов рейтинга расположены в центральном округе. Оставшиеся 4 района, расположены вблизи друг от друга, находятся далеко не на окраинах города, а их инфраструктура включает в себя большое количество учебных заведений, общежитий для учащихся, торговых центров и офисов, что также может объяснить их попадание в десятку лучших."
   ]
  },
  {
   "cell_type": "markdown",
   "metadata": {},
   "source": [
    "### Районы, где присутствуют улицы с одним объектом питания"
   ]
  },
  {
   "cell_type": "code",
   "execution_count": 22,
   "metadata": {},
   "outputs": [
    {
     "data": {
      "text/plain": [
       "564"
      ]
     },
     "execution_count": 22,
     "metadata": {},
     "output_type": "execute_result"
    }
   ],
   "source": [
    "# Сгруппируем данные, по улицам и районам, а затем отфильтруем, оставив улицы с 1 заведением\n",
    "street_with_1_obj = rest_data.groupby(['street', 'area']).agg({'id' : 'count'}).query('id == 1').reset_index()\n",
    "len(street_with_1_obj)"
   ]
  },
  {
   "cell_type": "markdown",
   "metadata": {},
   "source": [
    "#### Комментарий\n",
    "В Москве есть 564 улицы на которых расположено одно завдение общепита."
   ]
  },
  {
   "cell_type": "code",
   "execution_count": 23,
   "metadata": {},
   "outputs": [
    {
     "name": "stdout",
     "output_type": "stream",
     "text": [
      "Районы, где присутствуют улицы с одним объектом\n"
     ]
    },
    {
     "data": {
      "text/html": [
       "<div>\n",
       "<style scoped>\n",
       "    .dataframe tbody tr th:only-of-type {\n",
       "        vertical-align: middle;\n",
       "    }\n",
       "\n",
       "    .dataframe tbody tr th {\n",
       "        vertical-align: top;\n",
       "    }\n",
       "\n",
       "    .dataframe thead th {\n",
       "        text-align: right;\n",
       "    }\n",
       "</style>\n",
       "<table border=\"1\" class=\"dataframe\">\n",
       "  <thead>\n",
       "    <tr style=\"text-align: right;\">\n",
       "      <th></th>\n",
       "      <th>Район</th>\n",
       "      <th>Количество улиц</th>\n",
       "    </tr>\n",
       "  </thead>\n",
       "  <tbody>\n",
       "    <tr>\n",
       "      <th>0</th>\n",
       "      <td>Таганский район</td>\n",
       "      <td>27</td>\n",
       "    </tr>\n",
       "    <tr>\n",
       "      <th>1</th>\n",
       "      <td>Район Хамовники</td>\n",
       "      <td>26</td>\n",
       "    </tr>\n",
       "    <tr>\n",
       "      <th>2</th>\n",
       "      <td>Басманный район</td>\n",
       "      <td>25</td>\n",
       "    </tr>\n",
       "    <tr>\n",
       "      <th>3</th>\n",
       "      <td>Тверской район</td>\n",
       "      <td>20</td>\n",
       "    </tr>\n",
       "    <tr>\n",
       "      <th>4</th>\n",
       "      <td>Пресненский район</td>\n",
       "      <td>19</td>\n",
       "    </tr>\n",
       "    <tr>\n",
       "      <th>5</th>\n",
       "      <td>Район Марьина роща</td>\n",
       "      <td>18</td>\n",
       "    </tr>\n",
       "    <tr>\n",
       "      <th>6</th>\n",
       "      <td>Мещанский район</td>\n",
       "      <td>17</td>\n",
       "    </tr>\n",
       "    <tr>\n",
       "      <th>7</th>\n",
       "      <td>Район Арбат</td>\n",
       "      <td>17</td>\n",
       "    </tr>\n",
       "    <tr>\n",
       "      <th>8</th>\n",
       "      <td>Район Замоскворечье</td>\n",
       "      <td>14</td>\n",
       "    </tr>\n",
       "    <tr>\n",
       "      <th>9</th>\n",
       "      <td>Район Лефортово</td>\n",
       "      <td>12</td>\n",
       "    </tr>\n",
       "  </tbody>\n",
       "</table>\n",
       "</div>"
      ],
      "text/plain": [
       "                 Район  Количество улиц\n",
       "0      Таганский район               27\n",
       "1      Район Хамовники               26\n",
       "2      Басманный район               25\n",
       "3       Тверской район               20\n",
       "4    Пресненский район               19\n",
       "5   Район Марьина роща               18\n",
       "6      Мещанский район               17\n",
       "7          Район Арбат               17\n",
       "8  Район Замоскворечье               14\n",
       "9      Район Лефортово               12"
      ]
     },
     "execution_count": 23,
     "metadata": {},
     "output_type": "execute_result"
    }
   ],
   "source": [
    "# Сгруппируем полученые данные по районам\n",
    "street_with_1_obj.columns = ['Улица', 'Район', 'Количество улиц']\n",
    "street_with_1_obj_cnt = street_with_1_obj.groupby('Район').agg({'Количество улиц' : 'count'}).sort_values(\n",
    "    by='Количество улиц', ascending=False).head(10).reset_index()\n",
    "print('Районы, где присутствуют улицы с одним объектом')\n",
    "street_with_1_obj_cnt"
   ]
  },
  {
   "cell_type": "markdown",
   "metadata": {},
   "source": [
    "#### Вывод\n",
    "Таким образом, опять в лидерах районы ЦАО, теперь их 7 в рейтинге. Повышенное количество заведений вкупе с наличием большого числа маленьких улиц, переулков и всевозможных тупиков, позволяют районам Центрального округа в очередной раз попасть в рейтинг \"лучших\"."
   ]
  },
  {
   "cell_type": "markdown",
   "metadata": {},
   "source": [
    "### Распределение количества посадочных мест для Топ-10 улиц"
   ]
  },
  {
   "cell_type": "code",
   "execution_count": 24,
   "metadata": {},
   "outputs": [],
   "source": [
    "# Отфильтруем таблицу по полученному списку\n",
    "street_with_many_obj = rest_data.query('street in @top10_street_list')\n",
    "# Избавимся от дубликатов, получившихся ранее из-за слияния таблиц\n",
    "street_with_many_obj = street_with_many_obj.drop_duplicates(\n",
    "    subset=['id']).reset_index(drop=True)"
   ]
  },
  {
   "cell_type": "code",
   "execution_count": 25,
   "metadata": {},
   "outputs": [
    {
     "data": {
      "application/vnd.plotly.v1+json": {
       "config": {
        "plotlyServerURL": "https://plot.ly"
       },
       "data": [
        {
         "alignmentgroup": "True",
         "bingroup": "x",
         "hovertemplate": "number=%{x}<br>count=%{y}<extra></extra>",
         "legendgroup": "",
         "marker": {
          "color": "#636efa",
          "pattern": {
           "shape": ""
          }
         },
         "name": "",
         "offsetgroup": "",
         "orientation": "v",
         "showlegend": false,
         "type": "histogram",
         "x": [
          150,
          36,
          30,
          0,
          2,
          70,
          70,
          42,
          380,
          50,
          46,
          60,
          97,
          300,
          70,
          240,
          100,
          40,
          0,
          300,
          42,
          0,
          140,
          250,
          45,
          100,
          12,
          70,
          200,
          25,
          60,
          300,
          10,
          98,
          46,
          36,
          40,
          12,
          64,
          64,
          40,
          95,
          110,
          46,
          46,
          28,
          92,
          20,
          54,
          180,
          46,
          44,
          500,
          60,
          0,
          6,
          7,
          98,
          90,
          24,
          98,
          98,
          20,
          70,
          80,
          12,
          80,
          30,
          180,
          97,
          10,
          12,
          8,
          10,
          8,
          15,
          13,
          15,
          16,
          65,
          12,
          2,
          40,
          98,
          8,
          60,
          32,
          48,
          20,
          57,
          0,
          4,
          36,
          1,
          2,
          40,
          20,
          300,
          24,
          0,
          5,
          0,
          0,
          80,
          45,
          30,
          40,
          80,
          0,
          140,
          105,
          27,
          12,
          7,
          20,
          3,
          95,
          42,
          24,
          2,
          20,
          0,
          4,
          32,
          0,
          6,
          0,
          20,
          0,
          0,
          50,
          25,
          18,
          15,
          18,
          10,
          25,
          44,
          40,
          20,
          20,
          24,
          100,
          46,
          0,
          0,
          38,
          76,
          0,
          10,
          16,
          2,
          2,
          30,
          8,
          8,
          12,
          0,
          0,
          0,
          0,
          30,
          2,
          54,
          42,
          5,
          8,
          10,
          50,
          10,
          240,
          40,
          60,
          30,
          40,
          24,
          20,
          40,
          18,
          38,
          97,
          20,
          13,
          10,
          50,
          10,
          328,
          60,
          32,
          20,
          80,
          68,
          50,
          40,
          12,
          150,
          200,
          150,
          80,
          40,
          20,
          50,
          100,
          120,
          23,
          100,
          100,
          20,
          20,
          10,
          30,
          98,
          5,
          80,
          40,
          40,
          49,
          250,
          165,
          186,
          30,
          40,
          24,
          40,
          85,
          36,
          40,
          40,
          50,
          40,
          80,
          48,
          90,
          10,
          19,
          24,
          150,
          84,
          90,
          120,
          180,
          10,
          9,
          46,
          74,
          20,
          38,
          60,
          10,
          60,
          60,
          60,
          60,
          60,
          40,
          100,
          70,
          3,
          1288,
          160,
          200,
          172,
          200,
          16,
          45,
          40,
          30,
          5,
          2,
          70,
          40,
          35,
          80,
          10,
          50,
          80,
          5,
          47,
          3,
          150,
          30,
          1,
          1,
          1,
          1,
          1,
          0,
          40,
          0,
          90,
          20,
          40,
          40,
          2,
          4,
          50,
          90,
          96,
          3,
          12,
          100,
          12,
          60,
          40,
          50,
          15,
          32,
          200,
          75,
          25,
          168,
          1200,
          200,
          200,
          200,
          50,
          68,
          200,
          92,
          50,
          15,
          60,
          96,
          42,
          35,
          100,
          50,
          40,
          40,
          98,
          40,
          98,
          35,
          30,
          92,
          96,
          96,
          90,
          100,
          120,
          150,
          154,
          98,
          160,
          134,
          50,
          60,
          86,
          255,
          0,
          0,
          60,
          70,
          0,
          30,
          20,
          20,
          30,
          30,
          10,
          96,
          30,
          30,
          60,
          20,
          30,
          40,
          30,
          78,
          36,
          50,
          20,
          158,
          140,
          100,
          200,
          15,
          120,
          45,
          1700,
          70,
          35,
          100,
          80,
          20,
          45,
          30,
          0,
          30,
          32,
          39,
          20,
          30,
          0,
          0,
          0,
          30,
          0,
          0,
          30,
          30,
          0,
          0,
          10,
          0,
          0,
          0,
          40,
          0,
          0,
          40,
          200,
          50,
          24,
          40,
          35,
          100,
          200,
          180,
          80,
          28,
          42,
          40,
          0,
          200,
          40,
          680,
          80,
          80,
          48,
          40,
          160,
          50,
          16,
          80,
          55,
          0,
          292,
          80,
          350,
          15,
          75,
          75,
          40,
          10,
          5,
          20,
          102,
          15,
          5,
          47,
          5,
          5,
          87,
          87,
          160,
          87,
          87,
          86,
          87,
          20,
          60,
          24,
          24,
          176,
          24,
          12,
          21,
          21,
          10,
          10,
          0,
          86,
          50,
          30,
          20,
          4,
          28,
          15,
          0,
          2,
          25,
          0,
          8,
          0,
          49,
          9,
          24,
          38,
          4,
          5,
          0,
          12,
          30,
          4,
          4,
          0,
          16,
          6,
          0,
          24,
          6,
          110,
          25,
          100,
          0,
          0,
          0,
          15,
          25,
          15,
          2,
          25,
          268,
          0,
          30,
          0,
          160,
          0,
          17,
          33,
          35,
          20,
          240,
          250,
          240,
          200,
          300,
          240,
          300,
          240,
          300,
          240,
          300,
          80,
          30,
          46,
          24,
          48,
          46,
          24,
          30,
          120,
          48,
          56,
          60,
          20,
          25,
          30,
          55,
          25,
          120,
          152,
          250,
          80,
          160,
          80,
          25,
          10,
          6,
          20,
          50,
          34,
          30,
          50,
          18,
          0,
          130,
          0,
          0,
          120,
          45,
          60,
          24,
          12,
          0,
          8,
          0,
          80,
          50,
          35,
          50,
          30,
          25,
          0,
          60,
          0,
          50,
          0,
          0,
          10,
          70,
          60,
          0,
          72,
          20,
          0,
          0,
          0,
          0,
          40,
          0,
          60,
          64,
          24,
          0,
          16,
          46,
          10,
          120,
          120,
          0,
          6,
          6,
          12,
          0,
          6,
          8,
          80,
          6,
          6,
          0,
          27,
          0,
          0,
          24,
          20,
          43,
          0,
          100,
          0,
          0,
          23,
          56,
          80,
          65,
          48,
          16,
          70,
          28,
          45,
          20,
          150,
          40,
          150,
          41,
          2,
          37,
          48,
          26,
          45,
          70,
          4,
          98,
          98,
          15,
          80,
          160,
          6,
          47,
          10,
          15,
          45,
          15,
          20,
          10,
          90,
          57,
          50,
          106,
          70,
          90,
          25,
          40,
          20,
          40,
          60,
          15,
          50,
          53,
          30,
          64,
          2,
          40,
          40,
          90,
          80,
          70,
          100,
          45,
          40,
          15,
          90,
          40,
          40,
          60,
          70,
          32,
          190,
          95,
          95,
          95,
          90,
          110,
          86,
          85,
          47,
          90,
          45,
          90,
          83,
          12,
          60,
          25,
          20,
          60,
          2,
          20,
          54,
          300,
          36,
          95,
          60,
          80,
          625,
          78,
          120,
          180,
          40,
          20,
          60,
          67,
          46,
          96,
          30,
          60,
          56,
          30,
          0,
          45,
          65,
          64,
          10,
          0,
          0,
          0,
          0,
          2,
          0,
          90,
          96,
          2,
          0,
          20,
          64,
          28,
          95,
          30,
          24,
          26,
          0,
          44,
          26,
          12,
          12,
          24,
          138,
          25,
          32,
          25,
          30,
          232,
          12,
          10,
          33,
          2,
          2,
          10,
          150,
          73,
          35,
          2,
          3,
          0,
          15,
          28,
          30,
          10,
          50,
          10,
          30,
          12,
          42,
          90,
          15,
          0,
          25,
          0,
          15,
          50,
          65,
          0,
          0,
          0,
          71,
          120,
          80,
          4,
          12,
          96,
          60,
          70,
          43,
          40,
          46,
          80,
          80,
          80,
          4,
          68,
          88,
          88,
          96,
          10,
          80,
          10,
          75,
          36,
          22,
          50,
          90,
          45,
          90,
          50,
          50,
          30,
          86,
          46,
          60,
          60,
          74,
          24,
          290,
          28,
          40,
          80,
          40,
          80,
          0,
          90,
          144,
          0,
          100,
          220,
          250,
          100,
          60,
          50,
          40,
          50,
          14,
          96,
          92,
          80,
          60,
          100,
          200,
          20,
          50,
          200,
          100,
          200,
          32,
          300,
          150,
          89,
          12,
          30,
          20,
          25,
          4,
          98,
          30,
          40,
          72,
          68,
          70,
          94,
          140,
          140,
          495,
          80,
          250,
          96,
          80,
          40,
          185,
          40,
          80,
          49,
          40,
          45,
          32,
          35,
          60,
          10,
          15,
          40,
          14,
          22,
          42,
          40,
          30,
          22,
          14,
          10,
          100,
          20,
          20,
          120,
          40,
          170,
          24,
          1,
          20,
          30,
          5,
          47,
          64,
          32,
          0,
          45,
          30,
          0,
          0,
          0,
          0,
          0,
          28,
          40,
          4,
          8,
          10,
          0,
          16,
          16,
          12,
          10,
          16,
          34,
          10,
          64,
          40,
          25,
          36,
          16,
          32,
          40,
          20,
          60,
          40,
          85,
          20,
          35,
          24,
          50,
          70,
          143,
          100,
          25,
          150,
          0,
          130,
          22,
          98,
          150,
          125,
          74,
          10,
          41,
          16,
          65,
          50,
          15,
          18,
          48,
          98,
          65,
          40,
          60,
          30,
          24,
          60,
          36,
          130,
          50,
          20,
          50,
          50,
          35,
          110,
          100,
          150,
          100,
          150,
          25,
          250,
          250,
          127,
          50,
          64,
          28,
          100,
          90,
          40,
          10,
          200,
          104,
          45,
          200,
          20,
          40,
          40,
          20,
          52,
          60,
          200,
          273,
          44,
          92,
          128,
          80,
          225,
          95,
          45,
          80,
          25,
          110,
          86,
          198,
          218,
          16,
          10,
          12,
          96,
          136,
          100,
          20,
          165,
          150,
          173,
          150,
          20,
          40,
          50,
          50,
          23,
          92,
          70,
          56,
          68,
          100,
          250,
          60,
          48,
          20,
          90,
          45,
          150,
          80,
          16,
          50,
          50,
          150,
          109,
          90,
          56,
          50,
          50,
          150,
          70,
          80,
          50,
          54,
          20,
          80,
          48,
          60,
          80,
          91,
          50,
          25,
          4,
          18,
          6,
          82,
          40,
          10,
          125,
          84,
          70,
          36,
          145,
          37,
          0,
          0,
          15,
          7,
          48,
          60,
          18,
          40,
          0,
          15,
          44,
          30,
          326,
          0,
          0,
          35,
          10,
          41,
          0,
          40,
          0,
          0,
          15,
          4,
          0,
          20,
          12,
          0,
          10,
          25,
          12,
          0,
          4,
          20,
          96,
          43,
          20,
          20,
          20,
          20,
          20,
          20,
          20,
          20,
          10,
          20,
          30,
          15,
          20,
          50,
          0,
          200,
          12,
          30,
          40,
          60,
          48,
          120,
          70,
          30,
          16,
          20,
          10,
          100,
          75,
          95,
          26,
          43,
          80,
          220,
          118,
          150,
          92,
          198,
          0,
          45,
          170,
          0,
          40,
          50,
          25,
          52,
          30,
          200,
          80,
          95,
          100,
          120,
          160,
          240,
          35,
          80,
          54,
          55,
          20,
          20,
          20,
          190,
          10,
          40,
          80,
          20,
          86,
          50,
          15,
          40,
          12,
          4,
          12,
          70,
          24,
          56,
          0,
          75,
          70,
          0,
          70,
          50,
          0,
          0,
          0,
          24,
          50,
          90,
          180,
          120,
          55,
          150,
          120,
          60,
          100,
          120,
          40,
          90,
          60,
          150,
          24,
          95,
          200,
          210,
          240,
          24,
          40,
          160,
          4,
          12,
          0,
          0,
          0,
          0,
          45,
          56,
          9,
          0,
          4,
          5,
          12,
          4,
          0,
          14,
          60,
          14,
          65,
          6,
          5,
          5,
          25,
          8,
          21,
          24,
          30,
          6,
          8,
          10,
          16,
          20,
          12,
          40,
          0,
          0,
          12,
          0,
          0,
          14,
          2,
          0,
          45,
          50,
          0,
          0,
          15,
          0,
          20,
          0,
          0,
          0,
          0,
          0,
          0,
          0,
          0,
          0,
          15,
          0,
          15,
          0,
          0,
          155,
          30,
          16,
          50,
          10,
          120,
          40,
          8,
          0,
          10,
          15,
          9,
          8,
          55,
          0,
          30,
          75,
          0,
          48,
          0,
          35,
          45,
          0,
          0,
          40,
          300,
          237,
          88,
          140,
          32,
          250,
          30,
          150,
          100,
          65,
          60,
          30,
          30,
          30,
          45,
          5,
          120,
          350,
          50,
          10,
          60,
          50,
          50,
          50,
          60,
          30,
          0,
          30,
          50,
          30,
          50,
          45,
          60,
          30,
          35,
          60,
          12,
          8,
          10,
          80,
          38,
          6,
          24,
          24,
          6,
          95,
          8,
          20,
          478,
          43,
          25,
          20,
          50,
          6,
          25,
          9,
          120,
          250,
          10,
          40,
          20,
          25,
          0,
          60,
          120,
          32,
          20,
          26,
          150,
          150,
          13,
          90,
          57,
          20,
          31,
          2,
          5,
          7,
          35,
          20,
          15,
          45,
          45,
          12,
          50,
          24,
          15,
          18,
          4,
          6,
          20,
          230,
          40,
          30,
          100,
          58,
          37,
          34,
          80,
          45,
          60,
          30,
          20,
          45,
          60,
          40,
          0,
          0,
          0,
          0,
          60,
          58,
          150,
          15,
          60,
          0,
          40,
          10,
          35,
          0,
          0,
          30,
          25,
          150,
          40,
          15,
          20,
          5,
          20,
          3,
          4,
          20,
          60,
          5,
          50,
          5,
          65,
          80,
          27,
          5,
          0,
          7,
          6,
          4,
          4,
          4,
          4,
          4,
          6,
          10,
          11,
          15,
          3,
          3,
          4,
          4,
          40,
          35,
          40,
          3,
          4,
          48,
          20,
          0,
          20,
          10,
          25
         ],
         "xaxis": "x",
         "yaxis": "y"
        }
       ],
       "layout": {
        "barmode": "relative",
        "legend": {
         "tracegroupgap": 0
        },
        "margin": {
         "b": 0,
         "l": 0,
         "r": 0,
         "t": 80
        },
        "template": {
         "data": {
          "bar": [
           {
            "error_x": {
             "color": "#2a3f5f"
            },
            "error_y": {
             "color": "#2a3f5f"
            },
            "marker": {
             "line": {
              "color": "#E5ECF6",
              "width": 0.5
             },
             "pattern": {
              "fillmode": "overlay",
              "size": 10,
              "solidity": 0.2
             }
            },
            "type": "bar"
           }
          ],
          "barpolar": [
           {
            "marker": {
             "line": {
              "color": "#E5ECF6",
              "width": 0.5
             },
             "pattern": {
              "fillmode": "overlay",
              "size": 10,
              "solidity": 0.2
             }
            },
            "type": "barpolar"
           }
          ],
          "carpet": [
           {
            "aaxis": {
             "endlinecolor": "#2a3f5f",
             "gridcolor": "white",
             "linecolor": "white",
             "minorgridcolor": "white",
             "startlinecolor": "#2a3f5f"
            },
            "baxis": {
             "endlinecolor": "#2a3f5f",
             "gridcolor": "white",
             "linecolor": "white",
             "minorgridcolor": "white",
             "startlinecolor": "#2a3f5f"
            },
            "type": "carpet"
           }
          ],
          "choropleth": [
           {
            "colorbar": {
             "outlinewidth": 0,
             "ticks": ""
            },
            "type": "choropleth"
           }
          ],
          "contour": [
           {
            "colorbar": {
             "outlinewidth": 0,
             "ticks": ""
            },
            "colorscale": [
             [
              0,
              "#0d0887"
             ],
             [
              0.1111111111111111,
              "#46039f"
             ],
             [
              0.2222222222222222,
              "#7201a8"
             ],
             [
              0.3333333333333333,
              "#9c179e"
             ],
             [
              0.4444444444444444,
              "#bd3786"
             ],
             [
              0.5555555555555556,
              "#d8576b"
             ],
             [
              0.6666666666666666,
              "#ed7953"
             ],
             [
              0.7777777777777778,
              "#fb9f3a"
             ],
             [
              0.8888888888888888,
              "#fdca26"
             ],
             [
              1,
              "#f0f921"
             ]
            ],
            "type": "contour"
           }
          ],
          "contourcarpet": [
           {
            "colorbar": {
             "outlinewidth": 0,
             "ticks": ""
            },
            "type": "contourcarpet"
           }
          ],
          "heatmap": [
           {
            "colorbar": {
             "outlinewidth": 0,
             "ticks": ""
            },
            "colorscale": [
             [
              0,
              "#0d0887"
             ],
             [
              0.1111111111111111,
              "#46039f"
             ],
             [
              0.2222222222222222,
              "#7201a8"
             ],
             [
              0.3333333333333333,
              "#9c179e"
             ],
             [
              0.4444444444444444,
              "#bd3786"
             ],
             [
              0.5555555555555556,
              "#d8576b"
             ],
             [
              0.6666666666666666,
              "#ed7953"
             ],
             [
              0.7777777777777778,
              "#fb9f3a"
             ],
             [
              0.8888888888888888,
              "#fdca26"
             ],
             [
              1,
              "#f0f921"
             ]
            ],
            "type": "heatmap"
           }
          ],
          "heatmapgl": [
           {
            "colorbar": {
             "outlinewidth": 0,
             "ticks": ""
            },
            "colorscale": [
             [
              0,
              "#0d0887"
             ],
             [
              0.1111111111111111,
              "#46039f"
             ],
             [
              0.2222222222222222,
              "#7201a8"
             ],
             [
              0.3333333333333333,
              "#9c179e"
             ],
             [
              0.4444444444444444,
              "#bd3786"
             ],
             [
              0.5555555555555556,
              "#d8576b"
             ],
             [
              0.6666666666666666,
              "#ed7953"
             ],
             [
              0.7777777777777778,
              "#fb9f3a"
             ],
             [
              0.8888888888888888,
              "#fdca26"
             ],
             [
              1,
              "#f0f921"
             ]
            ],
            "type": "heatmapgl"
           }
          ],
          "histogram": [
           {
            "marker": {
             "pattern": {
              "fillmode": "overlay",
              "size": 10,
              "solidity": 0.2
             }
            },
            "type": "histogram"
           }
          ],
          "histogram2d": [
           {
            "colorbar": {
             "outlinewidth": 0,
             "ticks": ""
            },
            "colorscale": [
             [
              0,
              "#0d0887"
             ],
             [
              0.1111111111111111,
              "#46039f"
             ],
             [
              0.2222222222222222,
              "#7201a8"
             ],
             [
              0.3333333333333333,
              "#9c179e"
             ],
             [
              0.4444444444444444,
              "#bd3786"
             ],
             [
              0.5555555555555556,
              "#d8576b"
             ],
             [
              0.6666666666666666,
              "#ed7953"
             ],
             [
              0.7777777777777778,
              "#fb9f3a"
             ],
             [
              0.8888888888888888,
              "#fdca26"
             ],
             [
              1,
              "#f0f921"
             ]
            ],
            "type": "histogram2d"
           }
          ],
          "histogram2dcontour": [
           {
            "colorbar": {
             "outlinewidth": 0,
             "ticks": ""
            },
            "colorscale": [
             [
              0,
              "#0d0887"
             ],
             [
              0.1111111111111111,
              "#46039f"
             ],
             [
              0.2222222222222222,
              "#7201a8"
             ],
             [
              0.3333333333333333,
              "#9c179e"
             ],
             [
              0.4444444444444444,
              "#bd3786"
             ],
             [
              0.5555555555555556,
              "#d8576b"
             ],
             [
              0.6666666666666666,
              "#ed7953"
             ],
             [
              0.7777777777777778,
              "#fb9f3a"
             ],
             [
              0.8888888888888888,
              "#fdca26"
             ],
             [
              1,
              "#f0f921"
             ]
            ],
            "type": "histogram2dcontour"
           }
          ],
          "mesh3d": [
           {
            "colorbar": {
             "outlinewidth": 0,
             "ticks": ""
            },
            "type": "mesh3d"
           }
          ],
          "parcoords": [
           {
            "line": {
             "colorbar": {
              "outlinewidth": 0,
              "ticks": ""
             }
            },
            "type": "parcoords"
           }
          ],
          "pie": [
           {
            "automargin": true,
            "type": "pie"
           }
          ],
          "scatter": [
           {
            "fillpattern": {
             "fillmode": "overlay",
             "size": 10,
             "solidity": 0.2
            },
            "type": "scatter"
           }
          ],
          "scatter3d": [
           {
            "line": {
             "colorbar": {
              "outlinewidth": 0,
              "ticks": ""
             }
            },
            "marker": {
             "colorbar": {
              "outlinewidth": 0,
              "ticks": ""
             }
            },
            "type": "scatter3d"
           }
          ],
          "scattercarpet": [
           {
            "marker": {
             "colorbar": {
              "outlinewidth": 0,
              "ticks": ""
             }
            },
            "type": "scattercarpet"
           }
          ],
          "scattergeo": [
           {
            "marker": {
             "colorbar": {
              "outlinewidth": 0,
              "ticks": ""
             }
            },
            "type": "scattergeo"
           }
          ],
          "scattergl": [
           {
            "marker": {
             "colorbar": {
              "outlinewidth": 0,
              "ticks": ""
             }
            },
            "type": "scattergl"
           }
          ],
          "scattermapbox": [
           {
            "marker": {
             "colorbar": {
              "outlinewidth": 0,
              "ticks": ""
             }
            },
            "type": "scattermapbox"
           }
          ],
          "scatterpolar": [
           {
            "marker": {
             "colorbar": {
              "outlinewidth": 0,
              "ticks": ""
             }
            },
            "type": "scatterpolar"
           }
          ],
          "scatterpolargl": [
           {
            "marker": {
             "colorbar": {
              "outlinewidth": 0,
              "ticks": ""
             }
            },
            "type": "scatterpolargl"
           }
          ],
          "scatterternary": [
           {
            "marker": {
             "colorbar": {
              "outlinewidth": 0,
              "ticks": ""
             }
            },
            "type": "scatterternary"
           }
          ],
          "surface": [
           {
            "colorbar": {
             "outlinewidth": 0,
             "ticks": ""
            },
            "colorscale": [
             [
              0,
              "#0d0887"
             ],
             [
              0.1111111111111111,
              "#46039f"
             ],
             [
              0.2222222222222222,
              "#7201a8"
             ],
             [
              0.3333333333333333,
              "#9c179e"
             ],
             [
              0.4444444444444444,
              "#bd3786"
             ],
             [
              0.5555555555555556,
              "#d8576b"
             ],
             [
              0.6666666666666666,
              "#ed7953"
             ],
             [
              0.7777777777777778,
              "#fb9f3a"
             ],
             [
              0.8888888888888888,
              "#fdca26"
             ],
             [
              1,
              "#f0f921"
             ]
            ],
            "type": "surface"
           }
          ],
          "table": [
           {
            "cells": {
             "fill": {
              "color": "#EBF0F8"
             },
             "line": {
              "color": "white"
             }
            },
            "header": {
             "fill": {
              "color": "#C8D4E3"
             },
             "line": {
              "color": "white"
             }
            },
            "type": "table"
           }
          ]
         },
         "layout": {
          "annotationdefaults": {
           "arrowcolor": "#2a3f5f",
           "arrowhead": 0,
           "arrowwidth": 1
          },
          "autotypenumbers": "strict",
          "coloraxis": {
           "colorbar": {
            "outlinewidth": 0,
            "ticks": ""
           }
          },
          "colorscale": {
           "diverging": [
            [
             0,
             "#8e0152"
            ],
            [
             0.1,
             "#c51b7d"
            ],
            [
             0.2,
             "#de77ae"
            ],
            [
             0.3,
             "#f1b6da"
            ],
            [
             0.4,
             "#fde0ef"
            ],
            [
             0.5,
             "#f7f7f7"
            ],
            [
             0.6,
             "#e6f5d0"
            ],
            [
             0.7,
             "#b8e186"
            ],
            [
             0.8,
             "#7fbc41"
            ],
            [
             0.9,
             "#4d9221"
            ],
            [
             1,
             "#276419"
            ]
           ],
           "sequential": [
            [
             0,
             "#0d0887"
            ],
            [
             0.1111111111111111,
             "#46039f"
            ],
            [
             0.2222222222222222,
             "#7201a8"
            ],
            [
             0.3333333333333333,
             "#9c179e"
            ],
            [
             0.4444444444444444,
             "#bd3786"
            ],
            [
             0.5555555555555556,
             "#d8576b"
            ],
            [
             0.6666666666666666,
             "#ed7953"
            ],
            [
             0.7777777777777778,
             "#fb9f3a"
            ],
            [
             0.8888888888888888,
             "#fdca26"
            ],
            [
             1,
             "#f0f921"
            ]
           ],
           "sequentialminus": [
            [
             0,
             "#0d0887"
            ],
            [
             0.1111111111111111,
             "#46039f"
            ],
            [
             0.2222222222222222,
             "#7201a8"
            ],
            [
             0.3333333333333333,
             "#9c179e"
            ],
            [
             0.4444444444444444,
             "#bd3786"
            ],
            [
             0.5555555555555556,
             "#d8576b"
            ],
            [
             0.6666666666666666,
             "#ed7953"
            ],
            [
             0.7777777777777778,
             "#fb9f3a"
            ],
            [
             0.8888888888888888,
             "#fdca26"
            ],
            [
             1,
             "#f0f921"
            ]
           ]
          },
          "colorway": [
           "#636efa",
           "#EF553B",
           "#00cc96",
           "#ab63fa",
           "#FFA15A",
           "#19d3f3",
           "#FF6692",
           "#B6E880",
           "#FF97FF",
           "#FECB52"
          ],
          "font": {
           "color": "#2a3f5f"
          },
          "geo": {
           "bgcolor": "white",
           "lakecolor": "white",
           "landcolor": "#E5ECF6",
           "showlakes": true,
           "showland": true,
           "subunitcolor": "white"
          },
          "hoverlabel": {
           "align": "left"
          },
          "hovermode": "closest",
          "mapbox": {
           "style": "light"
          },
          "paper_bgcolor": "white",
          "plot_bgcolor": "#E5ECF6",
          "polar": {
           "angularaxis": {
            "gridcolor": "white",
            "linecolor": "white",
            "ticks": ""
           },
           "bgcolor": "#E5ECF6",
           "radialaxis": {
            "gridcolor": "white",
            "linecolor": "white",
            "ticks": ""
           }
          },
          "scene": {
           "xaxis": {
            "backgroundcolor": "#E5ECF6",
            "gridcolor": "white",
            "gridwidth": 2,
            "linecolor": "white",
            "showbackground": true,
            "ticks": "",
            "zerolinecolor": "white"
           },
           "yaxis": {
            "backgroundcolor": "#E5ECF6",
            "gridcolor": "white",
            "gridwidth": 2,
            "linecolor": "white",
            "showbackground": true,
            "ticks": "",
            "zerolinecolor": "white"
           },
           "zaxis": {
            "backgroundcolor": "#E5ECF6",
            "gridcolor": "white",
            "gridwidth": 2,
            "linecolor": "white",
            "showbackground": true,
            "ticks": "",
            "zerolinecolor": "white"
           }
          },
          "shapedefaults": {
           "line": {
            "color": "#2a3f5f"
           }
          },
          "ternary": {
           "aaxis": {
            "gridcolor": "white",
            "linecolor": "white",
            "ticks": ""
           },
           "baxis": {
            "gridcolor": "white",
            "linecolor": "white",
            "ticks": ""
           },
           "bgcolor": "#E5ECF6",
           "caxis": {
            "gridcolor": "white",
            "linecolor": "white",
            "ticks": ""
           }
          },
          "title": {
           "x": 0.05
          },
          "xaxis": {
           "automargin": true,
           "gridcolor": "white",
           "linecolor": "white",
           "ticks": "",
           "title": {
            "standoff": 15
           },
           "zerolinecolor": "white",
           "zerolinewidth": 2
          },
          "yaxis": {
           "automargin": true,
           "gridcolor": "white",
           "linecolor": "white",
           "ticks": "",
           "title": {
            "standoff": 15
           },
           "zerolinecolor": "white",
           "zerolinewidth": 2
          }
         }
        },
        "title": {
         "text": "Распределение количества мест для улиц с большим количеством заведений"
        },
        "xaxis": {
         "anchor": "y",
         "domain": [
          0,
          1
         ],
         "title": {
          "text": "Количество посадочных мест"
         }
        },
        "yaxis": {
         "anchor": "x",
         "domain": [
          0,
          1
         ],
         "title": {
          "text": "Количество заведений"
         }
        }
       }
      }
     },
     "metadata": {},
     "output_type": "display_data"
    }
   ],
   "source": [
    "fig = px.histogram(street_with_many_obj, x=\"number\")\n",
    "fig.update_layout(\n",
    "                  title=\"Распределение количества мест для улиц с большим количеством заведений\",\n",
    "                  xaxis_title=\"Количество посадочных мест\",\n",
    "                  yaxis_title=\"Количество заведений\",\n",
    "                  margin=dict(l=0, r=0, t=80, b=0))\n",
    "fig.show();"
   ]
  },
  {
   "cell_type": "markdown",
   "metadata": {},
   "source": [
    "#### Вывод\n",
    "Самое большое количество заведений имеет до 10ти посадочных мест, а основная часть исследуемых заведений не превышает 90 посадочных мест. Так как основная часть объектов располагается в центральной части города, где аренда помещения категорически высокая, владельцам заведений в основном приходится выжимать максимум из небольшой площади, откуда и небольшое количество посадочных мест. Так же график посадочных мест сильно \"оттягивают\" к минимуму заведения, неимеющие посадочных мест совсем. Рынки и гастрономические лавки, фудкорты и рестораны с едой на вынос строят свой бизнес в основном на производстве еды, а не на обслуживании большого количества столиков."
   ]
  },
  {
   "cell_type": "markdown",
   "metadata": {},
   "source": [
    "## Общий вывод и рекомендации бизнесу\n",
    "\n",
    "Подводя итог исследования, можно сделать вывод о факторах, которые позитивно отразились бы на бизнесе в сфере общественного питания. Учитывая, что у нас отсутствовали данные о прибыльности или посещаемости тех или иных заведений, прогнозы на успешность бизнеса будем строить отталкиваясь от велечин показателей, рассматривая самые распротстраненные, как показатели успеха. Таким образом можно выделить следующие факторы:\n",
    "\n",
    "   - Заведение должно быть формата кафе, ресторана или предприятия быстрого обслуживания (столовые не рассматриваем из-за специфики расположения и обслуживания в данных заведениях).\n",
    "   - Открывая предприятие быстрого обслуживания, возможно рассмотреть вариант запуска сети таких заведений. Для кафе и ресторанов этот фактор незначителен.\n",
    "   - Для сетей с большим количеством заведений характерно наличие небольшого количества посадочных мест (от 0 до 50). Открывая одиночное заведение или небольшую сеть стоит рассмотреть вариант с наличием бОльшего количества мест (от 100).\n",
    "   - Исходя из специфики заведений, для столовых и ресторанов характерно наличие большого количества посадочных мест (100 - 130). Для буфетов, баров и кафе характерно среднее количество мест (около 50), оставшиеся заведения в среднем имеют не больше 20 посадочных мест.\n",
    "   - Большая часть заведений располагается в центральной части города. Однако фактор конкуренции здесь будет значительно выше. Давая рекомендацию по данному вопросу, чтобы сохранить баланс между близостью к историческому центру для завлечения туристов, а также местными жителями и работниками района, сразу не вступая в борьбу с крупными сетями и раскрученными заведениями, расположенными в центре, предпочтительно выбирать густонаселенные, соседствующие с центром районы, с развитой транспортной и офисной инфраструктурой.\n",
    "   - Не опасаясь конкуренции и высокой арендной платы, если заведение открывается в одном из центральных районов, возможно стоит придерживаться формата здешних заведений и не увеличивать количество посадочных мест больше 50.\n",
    "   \n",
    "Как было указано ранее, приведенные рекомендации - лишь результат исследования небольшого количества данных. К сожалению исследовать поведение клиентов заведений общепита, которых обслуживали роботы, мы не имели возможности из-за инновационности этого проекта. Отвечая на вопрос, привлекут ли роботы клиентов, можно предположить - да, а личный опыт и оценка объективного мира подсказывают, что вкусная еда и демократичные цены, сделают клиентов лояльными, а бизнес прибыльным."
   ]
  }
 ],
 "metadata": {
  "ExecuteTimeLog": [
   {
    "duration": 1091,
    "start_time": "2021-09-13T13:44:45.204Z"
   },
   {
    "duration": 49,
    "start_time": "2021-09-13T13:45:39.281Z"
   },
   {
    "duration": 63,
    "start_time": "2021-09-13T13:45:45.866Z"
   },
   {
    "duration": 70,
    "start_time": "2021-09-13T13:46:47.585Z"
   },
   {
    "duration": 289,
    "start_time": "2021-09-13T13:48:13.465Z"
   },
   {
    "duration": 18,
    "start_time": "2021-09-13T13:48:18.887Z"
   },
   {
    "duration": 12,
    "start_time": "2021-09-13T13:49:29.592Z"
   },
   {
    "duration": 216,
    "start_time": "2021-09-13T13:51:09.356Z"
   },
   {
    "duration": 19,
    "start_time": "2021-09-13T13:51:15.832Z"
   },
   {
    "duration": 14,
    "start_time": "2021-09-13T13:51:29.597Z"
   },
   {
    "duration": 17,
    "start_time": "2021-09-13T13:51:35.659Z"
   },
   {
    "duration": 203,
    "start_time": "2021-09-13T13:51:56.186Z"
   },
   {
    "duration": 68,
    "start_time": "2021-09-13T13:52:27.093Z"
   },
   {
    "duration": 6,
    "start_time": "2021-09-13T13:53:18.771Z"
   },
   {
    "duration": 11,
    "start_time": "2021-09-13T13:53:36.444Z"
   },
   {
    "duration": 12,
    "start_time": "2021-09-13T13:54:03.679Z"
   },
   {
    "duration": 10,
    "start_time": "2021-09-13T13:56:00.826Z"
   },
   {
    "duration": 8,
    "start_time": "2021-09-13T13:56:07.714Z"
   },
   {
    "duration": 3,
    "start_time": "2021-09-13T14:28:48.120Z"
   },
   {
    "duration": 3,
    "start_time": "2021-09-13T14:28:49.250Z"
   },
   {
    "duration": 3,
    "start_time": "2021-09-13T14:28:50.751Z"
   },
   {
    "duration": 235,
    "start_time": "2021-09-13T14:35:49.739Z"
   },
   {
    "duration": 177,
    "start_time": "2021-09-13T14:35:55.659Z"
   },
   {
    "duration": 222,
    "start_time": "2021-09-13T14:36:28.402Z"
   },
   {
    "duration": 1138,
    "start_time": "2021-09-13T14:36:33.802Z"
   },
   {
    "duration": 3,
    "start_time": "2021-09-13T14:36:49.693Z"
   },
   {
    "duration": 69,
    "start_time": "2021-09-13T14:36:49.717Z"
   },
   {
    "duration": 228,
    "start_time": "2021-09-13T14:36:49.787Z"
   },
   {
    "duration": 70,
    "start_time": "2021-09-13T14:37:26.514Z"
   },
   {
    "duration": 192,
    "start_time": "2021-09-13T14:37:31.989Z"
   },
   {
    "duration": 16,
    "start_time": "2021-09-13T14:38:18.905Z"
   },
   {
    "duration": 13,
    "start_time": "2021-09-13T14:38:31.185Z"
   },
   {
    "duration": 26,
    "start_time": "2021-09-13T14:39:01.540Z"
   },
   {
    "duration": 20,
    "start_time": "2021-09-13T14:40:11.214Z"
   },
   {
    "duration": 22,
    "start_time": "2021-09-13T14:40:39.040Z"
   },
   {
    "duration": 167,
    "start_time": "2021-09-13T14:49:12.224Z"
   },
   {
    "duration": 172,
    "start_time": "2021-09-13T14:50:28.962Z"
   },
   {
    "duration": 178,
    "start_time": "2021-09-13T14:50:48.953Z"
   },
   {
    "duration": 3,
    "start_time": "2021-09-13T14:50:59.276Z"
   },
   {
    "duration": 87,
    "start_time": "2021-09-13T14:50:59.281Z"
   },
   {
    "duration": 22,
    "start_time": "2021-09-13T14:50:59.370Z"
   },
   {
    "duration": 196,
    "start_time": "2021-09-13T14:50:59.393Z"
   },
   {
    "duration": 4,
    "start_time": "2021-09-13T14:51:03.728Z"
   },
   {
    "duration": 86,
    "start_time": "2021-09-13T14:51:03.734Z"
   },
   {
    "duration": 21,
    "start_time": "2021-09-13T14:51:03.823Z"
   },
   {
    "duration": 197,
    "start_time": "2021-09-13T14:51:03.846Z"
   },
   {
    "duration": 21,
    "start_time": "2021-09-13T14:51:13.321Z"
   },
   {
    "duration": 240,
    "start_time": "2021-09-13T14:51:54.928Z"
   },
   {
    "duration": 7,
    "start_time": "2021-09-13T14:52:01.947Z"
   },
   {
    "duration": 187,
    "start_time": "2021-09-13T14:52:17.375Z"
   },
   {
    "duration": 6,
    "start_time": "2021-09-13T14:52:44.231Z"
   },
   {
    "duration": 11,
    "start_time": "2021-09-13T14:53:50.170Z"
   },
   {
    "duration": 61,
    "start_time": "2021-09-13T14:54:16.851Z"
   },
   {
    "duration": 61,
    "start_time": "2021-09-13T14:54:25.720Z"
   },
   {
    "duration": 13,
    "start_time": "2021-09-13T14:54:36.259Z"
   },
   {
    "duration": 1436,
    "start_time": "2021-09-13T19:17:19.003Z"
   },
   {
    "duration": 94,
    "start_time": "2021-09-13T19:17:20.441Z"
   },
   {
    "duration": 51,
    "start_time": "2021-09-13T19:17:20.539Z"
   },
   {
    "duration": 21,
    "start_time": "2021-09-13T19:17:20.593Z"
   },
   {
    "duration": 101,
    "start_time": "2021-09-13T19:20:19.328Z"
   },
   {
    "duration": 496,
    "start_time": "2021-09-13T19:20:44.333Z"
   },
   {
    "duration": 281,
    "start_time": "2021-09-13T19:21:22.027Z"
   },
   {
    "duration": 291,
    "start_time": "2021-09-13T19:23:12.018Z"
   },
   {
    "duration": 566,
    "start_time": "2021-09-13T19:23:48.765Z"
   },
   {
    "duration": 1521,
    "start_time": "2021-09-14T05:06:44.451Z"
   },
   {
    "duration": 86,
    "start_time": "2021-09-14T05:06:45.974Z"
   },
   {
    "duration": 36,
    "start_time": "2021-09-14T05:06:46.063Z"
   },
   {
    "duration": 240,
    "start_time": "2021-09-14T05:06:46.102Z"
   },
   {
    "duration": 2899,
    "start_time": "2021-09-14T05:06:58.972Z"
   },
   {
    "duration": 730,
    "start_time": "2021-09-14T05:07:28.039Z"
   },
   {
    "duration": 302,
    "start_time": "2021-09-14T05:18:35.061Z"
   },
   {
    "duration": 219,
    "start_time": "2021-09-14T05:21:05.200Z"
   },
   {
    "duration": 93,
    "start_time": "2021-09-14T06:07:53.022Z"
   },
   {
    "duration": 107,
    "start_time": "2021-09-14T06:08:05.790Z"
   },
   {
    "duration": 355,
    "start_time": "2021-09-14T06:08:11.239Z"
   },
   {
    "duration": 14,
    "start_time": "2021-09-14T06:14:19.940Z"
   },
   {
    "duration": 277,
    "start_time": "2021-09-14T06:16:20.629Z"
   },
   {
    "duration": 3196,
    "start_time": "2021-09-14T06:16:30.570Z"
   },
   {
    "duration": 262,
    "start_time": "2021-09-14T06:16:43.945Z"
   },
   {
    "duration": 323,
    "start_time": "2021-09-14T06:16:57.825Z"
   },
   {
    "duration": 282,
    "start_time": "2021-09-14T06:17:06.911Z"
   },
   {
    "duration": 202,
    "start_time": "2021-09-14T06:17:52.764Z"
   },
   {
    "duration": 414,
    "start_time": "2021-09-14T06:26:06.076Z"
   },
   {
    "duration": 493,
    "start_time": "2021-09-14T06:26:27.516Z"
   },
   {
    "duration": 798,
    "start_time": "2021-09-14T06:27:34.826Z"
   },
   {
    "duration": 314,
    "start_time": "2021-09-14T06:27:43.889Z"
   },
   {
    "duration": 395,
    "start_time": "2021-09-14T06:31:58.701Z"
   },
   {
    "duration": 262,
    "start_time": "2021-09-14T06:35:51.165Z"
   },
   {
    "duration": 398,
    "start_time": "2021-09-14T06:36:45.635Z"
   },
   {
    "duration": 260,
    "start_time": "2021-09-14T06:37:07.582Z"
   },
   {
    "duration": 776,
    "start_time": "2021-09-14T07:07:38.189Z"
   },
   {
    "duration": 208,
    "start_time": "2021-09-14T07:30:04.880Z"
   },
   {
    "duration": 4,
    "start_time": "2021-09-14T07:30:18.142Z"
   },
   {
    "duration": 5,
    "start_time": "2021-09-14T07:30:25.180Z"
   },
   {
    "duration": 212,
    "start_time": "2021-09-14T07:30:29.787Z"
   },
   {
    "duration": 3,
    "start_time": "2021-09-14T07:30:53.817Z"
   },
   {
    "duration": 217,
    "start_time": "2021-09-14T07:30:57.824Z"
   },
   {
    "duration": 210,
    "start_time": "2021-09-14T07:31:27.886Z"
   },
   {
    "duration": 6,
    "start_time": "2021-09-14T07:31:34.642Z"
   },
   {
    "duration": 246,
    "start_time": "2021-09-14T07:31:38.047Z"
   },
   {
    "duration": 528,
    "start_time": "2021-09-14T07:34:14.307Z"
   },
   {
    "duration": 1075,
    "start_time": "2021-09-14T07:35:15.202Z"
   },
   {
    "duration": 228,
    "start_time": "2021-09-14T07:35:24.449Z"
   },
   {
    "duration": 389,
    "start_time": "2021-09-14T07:35:35.149Z"
   },
   {
    "duration": 810,
    "start_time": "2021-09-14T07:36:23.442Z"
   },
   {
    "duration": 292,
    "start_time": "2021-09-14T07:37:24.234Z"
   },
   {
    "duration": 377,
    "start_time": "2021-09-14T07:37:37.601Z"
   },
   {
    "duration": 664,
    "start_time": "2021-09-14T07:37:50.181Z"
   },
   {
    "duration": 4,
    "start_time": "2021-09-14T07:38:35.935Z"
   },
   {
    "duration": 653,
    "start_time": "2021-09-14T07:38:39.434Z"
   },
   {
    "duration": 438,
    "start_time": "2021-09-14T07:38:47.670Z"
   },
   {
    "duration": 405,
    "start_time": "2021-09-14T07:39:30.890Z"
   },
   {
    "duration": 407,
    "start_time": "2021-09-14T07:39:45.603Z"
   },
   {
    "duration": 419,
    "start_time": "2021-09-14T07:39:56.457Z"
   },
   {
    "duration": 409,
    "start_time": "2021-09-14T07:40:02.707Z"
   },
   {
    "duration": 922,
    "start_time": "2021-09-14T07:40:24.005Z"
   },
   {
    "duration": 413,
    "start_time": "2021-09-14T07:40:35.737Z"
   },
   {
    "duration": 711,
    "start_time": "2021-09-14T07:48:20.497Z"
   },
   {
    "duration": 690,
    "start_time": "2021-09-14T07:48:32.861Z"
   },
   {
    "duration": 787,
    "start_time": "2021-09-14T07:49:41.277Z"
   },
   {
    "duration": 718,
    "start_time": "2021-09-14T07:50:05.375Z"
   },
   {
    "duration": 728,
    "start_time": "2021-09-14T07:50:19.426Z"
   },
   {
    "duration": 736,
    "start_time": "2021-09-14T07:50:32.188Z"
   },
   {
    "duration": 705,
    "start_time": "2021-09-14T07:51:41.544Z"
   },
   {
    "duration": 799,
    "start_time": "2021-09-14T07:51:54.441Z"
   },
   {
    "duration": 688,
    "start_time": "2021-09-14T07:52:09.758Z"
   },
   {
    "duration": 408,
    "start_time": "2021-09-14T07:52:26.722Z"
   },
   {
    "duration": 89,
    "start_time": "2021-09-14T08:02:11.112Z"
   },
   {
    "duration": 87,
    "start_time": "2021-09-14T08:17:03.893Z"
   },
   {
    "duration": 729,
    "start_time": "2021-09-14T08:17:12.472Z"
   },
   {
    "duration": 688,
    "start_time": "2021-09-14T08:17:42.819Z"
   },
   {
    "duration": 703,
    "start_time": "2021-09-14T08:17:52.588Z"
   },
   {
    "duration": 707,
    "start_time": "2021-09-14T08:18:17.595Z"
   },
   {
    "duration": 411,
    "start_time": "2021-09-14T08:20:07.400Z"
   },
   {
    "duration": 412,
    "start_time": "2021-09-14T08:20:23.798Z"
   },
   {
    "duration": 424,
    "start_time": "2021-09-14T08:20:32.684Z"
   },
   {
    "duration": 424,
    "start_time": "2021-09-14T08:21:23.697Z"
   },
   {
    "duration": 435,
    "start_time": "2021-09-14T08:22:26.566Z"
   },
   {
    "duration": 426,
    "start_time": "2021-09-14T08:22:44.142Z"
   },
   {
    "duration": 420,
    "start_time": "2021-09-14T08:23:00.032Z"
   },
   {
    "duration": 415,
    "start_time": "2021-09-14T08:23:15.002Z"
   },
   {
    "duration": 754,
    "start_time": "2021-09-14T08:24:12.283Z"
   },
   {
    "duration": 429,
    "start_time": "2021-09-14T08:24:27.583Z"
   },
   {
    "duration": 680,
    "start_time": "2021-09-14T08:27:39.625Z"
   },
   {
    "duration": 742,
    "start_time": "2021-09-14T08:44:29.698Z"
   },
   {
    "duration": 434,
    "start_time": "2021-09-14T08:45:33.600Z"
   },
   {
    "duration": 429,
    "start_time": "2021-09-14T08:46:26.133Z"
   },
   {
    "duration": 433,
    "start_time": "2021-09-14T08:46:49.790Z"
   },
   {
    "duration": 438,
    "start_time": "2021-09-14T08:46:59.487Z"
   },
   {
    "duration": 442,
    "start_time": "2021-09-14T08:47:08.313Z"
   },
   {
    "duration": 432,
    "start_time": "2021-09-14T08:48:39.917Z"
   },
   {
    "duration": 479,
    "start_time": "2021-09-14T08:49:12.638Z"
   },
   {
    "duration": 377,
    "start_time": "2021-09-14T08:49:20.190Z"
   },
   {
    "duration": 432,
    "start_time": "2021-09-14T08:49:28.641Z"
   },
   {
    "duration": 486,
    "start_time": "2021-09-14T08:53:19.137Z"
   },
   {
    "duration": 402,
    "start_time": "2021-09-14T08:53:29.068Z"
   },
   {
    "duration": 371,
    "start_time": "2021-09-14T08:53:33.019Z"
   },
   {
    "duration": 371,
    "start_time": "2021-09-14T08:54:15.623Z"
   },
   {
    "duration": 428,
    "start_time": "2021-09-14T08:55:54.351Z"
   },
   {
    "duration": 423,
    "start_time": "2021-09-14T08:56:17.349Z"
   },
   {
    "duration": 468,
    "start_time": "2021-09-14T08:56:26.998Z"
   },
   {
    "duration": 445,
    "start_time": "2021-09-14T08:56:30.874Z"
   },
   {
    "duration": 431,
    "start_time": "2021-09-14T09:24:18.866Z"
   },
   {
    "duration": 433,
    "start_time": "2021-09-14T09:24:26.233Z"
   },
   {
    "duration": 436,
    "start_time": "2021-09-14T09:25:25.251Z"
   },
   {
    "duration": 316,
    "start_time": "2021-09-14T09:26:19.536Z"
   },
   {
    "duration": 424,
    "start_time": "2021-09-14T09:26:26.052Z"
   },
   {
    "duration": 420,
    "start_time": "2021-09-14T09:33:02.569Z"
   },
   {
    "duration": 433,
    "start_time": "2021-09-14T09:33:20.376Z"
   },
   {
    "duration": 430,
    "start_time": "2021-09-14T09:33:58.814Z"
   },
   {
    "duration": 430,
    "start_time": "2021-09-14T09:34:28.472Z"
   },
   {
    "duration": 4,
    "start_time": "2021-09-14T09:35:28.465Z"
   },
   {
    "duration": 534,
    "start_time": "2021-09-14T09:35:32.357Z"
   },
   {
    "duration": 353,
    "start_time": "2021-09-14T09:36:09.978Z"
   },
   {
    "duration": 1180,
    "start_time": "2021-09-14T09:36:26.958Z"
   },
   {
    "duration": 273,
    "start_time": "2021-09-14T09:36:55.619Z"
   },
   {
    "duration": 885,
    "start_time": "2021-09-14T09:37:12.310Z"
   },
   {
    "duration": 615,
    "start_time": "2021-09-14T09:37:40.640Z"
   },
   {
    "duration": 1386,
    "start_time": "2021-09-14T09:39:30.887Z"
   },
   {
    "duration": 336,
    "start_time": "2021-09-14T09:40:43.646Z"
   },
   {
    "duration": 489,
    "start_time": "2021-09-14T09:41:12.136Z"
   },
   {
    "duration": 491,
    "start_time": "2021-09-14T09:41:40.648Z"
   },
   {
    "duration": 613,
    "start_time": "2021-09-14T09:44:40.398Z"
   },
   {
    "duration": 824,
    "start_time": "2021-09-14T09:44:50.899Z"
   },
   {
    "duration": 429,
    "start_time": "2021-09-14T09:45:40.110Z"
   },
   {
    "duration": 8,
    "start_time": "2021-09-14T09:55:04.509Z"
   },
   {
    "duration": 15,
    "start_time": "2021-09-14T10:22:37.171Z"
   },
   {
    "duration": 8,
    "start_time": "2021-09-14T11:13:10.980Z"
   },
   {
    "duration": 10,
    "start_time": "2021-09-14T11:13:22.238Z"
   },
   {
    "duration": 326,
    "start_time": "2021-09-14T11:14:49.909Z"
   },
   {
    "duration": 346,
    "start_time": "2021-09-14T11:15:37.548Z"
   },
   {
    "duration": 14,
    "start_time": "2021-09-14T11:15:45.278Z"
   },
   {
    "duration": 14,
    "start_time": "2021-09-14T11:17:31.459Z"
   },
   {
    "duration": 360,
    "start_time": "2021-09-14T11:17:44.992Z"
   },
   {
    "duration": 772,
    "start_time": "2021-09-14T11:18:16.148Z"
   },
   {
    "duration": 762,
    "start_time": "2021-09-14T11:18:21.533Z"
   },
   {
    "duration": 1061,
    "start_time": "2021-09-14T11:18:48.145Z"
   },
   {
    "duration": 1134,
    "start_time": "2021-09-14T11:19:17.985Z"
   },
   {
    "duration": 534,
    "start_time": "2021-09-14T11:20:13.016Z"
   },
   {
    "duration": 14,
    "start_time": "2021-09-14T11:20:58.291Z"
   },
   {
    "duration": 10,
    "start_time": "2021-09-14T11:21:37.683Z"
   },
   {
    "duration": 362,
    "start_time": "2021-09-14T11:26:20.823Z"
   },
   {
    "duration": 21,
    "start_time": "2021-09-14T11:26:43.395Z"
   },
   {
    "duration": 435,
    "start_time": "2021-09-14T11:28:07.891Z"
   },
   {
    "duration": 694,
    "start_time": "2021-09-14T11:31:19.042Z"
   },
   {
    "duration": 456,
    "start_time": "2021-09-14T11:31:51.211Z"
   },
   {
    "duration": 280,
    "start_time": "2021-09-14T11:32:25.751Z"
   },
   {
    "duration": 544,
    "start_time": "2021-09-14T11:32:43.404Z"
   },
   {
    "duration": 273,
    "start_time": "2021-09-14T11:33:46.795Z"
   },
   {
    "duration": 464,
    "start_time": "2021-09-14T11:34:58.760Z"
   },
   {
    "duration": 1240,
    "start_time": "2021-09-14T11:35:07.117Z"
   },
   {
    "duration": 646,
    "start_time": "2021-09-14T11:35:25.805Z"
   },
   {
    "duration": 579,
    "start_time": "2021-09-14T11:35:38.532Z"
   },
   {
    "duration": 654,
    "start_time": "2021-09-14T11:36:04.115Z"
   },
   {
    "duration": 905,
    "start_time": "2021-09-14T11:36:14.940Z"
   },
   {
    "duration": 433,
    "start_time": "2021-09-14T11:36:23.457Z"
   },
   {
    "duration": 338,
    "start_time": "2021-09-14T11:36:49.553Z"
   },
   {
    "duration": 442,
    "start_time": "2021-09-14T11:36:53.959Z"
   },
   {
    "duration": 528,
    "start_time": "2021-09-14T11:37:06.863Z"
   },
   {
    "duration": 270,
    "start_time": "2021-09-14T11:40:18.832Z"
   },
   {
    "duration": 278,
    "start_time": "2021-09-14T11:41:13.150Z"
   },
   {
    "duration": 339,
    "start_time": "2021-09-14T11:44:20.002Z"
   },
   {
    "duration": 545,
    "start_time": "2021-09-14T11:44:38.996Z"
   },
   {
    "duration": 268,
    "start_time": "2021-09-14T11:45:52.527Z"
   },
   {
    "duration": 406,
    "start_time": "2021-09-14T11:47:42.585Z"
   },
   {
    "duration": 283,
    "start_time": "2021-09-14T11:48:32.110Z"
   },
   {
    "duration": 568,
    "start_time": "2021-09-14T11:48:38.513Z"
   },
   {
    "duration": 14,
    "start_time": "2021-09-14T11:57:30.643Z"
   },
   {
    "duration": 25,
    "start_time": "2021-09-14T11:58:37.436Z"
   },
   {
    "duration": 15,
    "start_time": "2021-09-14T12:04:12.017Z"
   },
   {
    "duration": 22,
    "start_time": "2021-09-14T12:04:20.124Z"
   },
   {
    "duration": 388,
    "start_time": "2021-09-14T12:06:24.793Z"
   },
   {
    "duration": 24,
    "start_time": "2021-09-14T12:06:46.739Z"
   },
   {
    "duration": 323,
    "start_time": "2021-09-14T12:07:32.650Z"
   },
   {
    "duration": 261,
    "start_time": "2021-09-14T12:07:49.990Z"
   },
   {
    "duration": 315,
    "start_time": "2021-09-14T12:08:12.457Z"
   },
   {
    "duration": 398,
    "start_time": "2021-09-14T12:09:02.170Z"
   },
   {
    "duration": 570,
    "start_time": "2021-09-14T12:09:13.153Z"
   },
   {
    "duration": 262,
    "start_time": "2021-09-14T12:10:29.469Z"
   },
   {
    "duration": 276,
    "start_time": "2021-09-14T12:11:19.311Z"
   },
   {
    "duration": 288,
    "start_time": "2021-09-14T12:12:01.555Z"
   },
   {
    "duration": 594,
    "start_time": "2021-09-14T12:12:33.138Z"
   },
   {
    "duration": 272,
    "start_time": "2021-09-14T12:12:59.053Z"
   },
   {
    "duration": 285,
    "start_time": "2021-09-14T12:16:09.417Z"
   },
   {
    "duration": 344,
    "start_time": "2021-09-14T12:16:49.696Z"
   },
   {
    "duration": 601,
    "start_time": "2021-09-14T12:17:10.369Z"
   },
   {
    "duration": 277,
    "start_time": "2021-09-14T12:17:50.890Z"
   },
   {
    "duration": 251,
    "start_time": "2021-09-14T12:22:39.478Z"
   },
   {
    "duration": 282,
    "start_time": "2021-09-14T12:23:10.479Z"
   },
   {
    "duration": 595,
    "start_time": "2021-09-14T13:06:09.381Z"
   },
   {
    "duration": 261,
    "start_time": "2021-09-14T13:06:24.087Z"
   },
   {
    "duration": 285,
    "start_time": "2021-09-14T13:07:13.264Z"
   },
   {
    "duration": 635,
    "start_time": "2021-09-14T13:07:42.154Z"
   },
   {
    "duration": 283,
    "start_time": "2021-09-14T13:08:13.709Z"
   },
   {
    "duration": 15,
    "start_time": "2021-09-14T13:39:15.177Z"
   },
   {
    "duration": 387,
    "start_time": "2021-09-14T13:41:04.506Z"
   },
   {
    "duration": 6,
    "start_time": "2021-09-14T13:41:17.688Z"
   },
   {
    "duration": 19,
    "start_time": "2021-09-14T13:41:24.002Z"
   },
   {
    "duration": 12,
    "start_time": "2021-09-14T13:44:42.542Z"
   },
   {
    "duration": 11,
    "start_time": "2021-09-14T13:44:52.227Z"
   },
   {
    "duration": 17,
    "start_time": "2021-09-14T13:45:23.691Z"
   },
   {
    "duration": 237,
    "start_time": "2021-09-14T13:46:25.371Z"
   },
   {
    "duration": 389,
    "start_time": "2021-09-14T13:46:44.507Z"
   },
   {
    "duration": 261,
    "start_time": "2021-09-14T13:49:48.684Z"
   },
   {
    "duration": 16,
    "start_time": "2021-09-14T14:01:28.089Z"
   },
   {
    "duration": 9,
    "start_time": "2021-09-14T14:06:09.774Z"
   },
   {
    "duration": 249,
    "start_time": "2021-09-14T14:06:22.913Z"
   },
   {
    "duration": 381,
    "start_time": "2021-09-14T14:07:11.017Z"
   },
   {
    "duration": 354,
    "start_time": "2021-09-14T14:07:30.214Z"
   },
   {
    "duration": 4,
    "start_time": "2021-09-14T14:42:27.988Z"
   },
   {
    "duration": 69,
    "start_time": "2021-09-14T14:42:28.044Z"
   },
   {
    "duration": 512,
    "start_time": "2021-09-14T14:42:28.136Z"
   },
   {
    "duration": 264,
    "start_time": "2021-09-14T14:42:28.650Z"
   },
   {
    "duration": 279,
    "start_time": "2021-09-14T14:42:28.916Z"
   },
   {
    "duration": 256,
    "start_time": "2021-09-14T14:42:29.196Z"
   },
   {
    "duration": 380,
    "start_time": "2021-09-14T14:42:29.454Z"
   },
   {
    "duration": 15,
    "start_time": "2021-09-14T14:44:27.429Z"
   },
   {
    "duration": 348,
    "start_time": "2021-09-14T14:46:30.402Z"
   },
   {
    "duration": 10,
    "start_time": "2021-09-14T14:46:56.715Z"
   },
   {
    "duration": 9,
    "start_time": "2021-09-14T14:48:07.939Z"
   },
   {
    "duration": 9,
    "start_time": "2021-09-14T14:49:08.402Z"
   },
   {
    "duration": 13,
    "start_time": "2021-09-14T14:55:46.729Z"
   },
   {
    "duration": 10,
    "start_time": "2021-09-14T14:56:00.354Z"
   },
   {
    "duration": 4,
    "start_time": "2021-09-14T14:56:14.559Z"
   },
   {
    "duration": 91,
    "start_time": "2021-09-14T14:56:14.570Z"
   },
   {
    "duration": 13,
    "start_time": "2021-09-14T14:56:14.663Z"
   },
   {
    "duration": 602,
    "start_time": "2021-09-14T14:56:14.678Z"
   },
   {
    "duration": 303,
    "start_time": "2021-09-14T14:56:15.282Z"
   },
   {
    "duration": 289,
    "start_time": "2021-09-14T14:56:15.587Z"
   },
   {
    "duration": 617,
    "start_time": "2021-09-14T14:56:15.878Z"
   },
   {
    "duration": 10,
    "start_time": "2021-09-14T14:56:16.498Z"
   },
   {
    "duration": 115,
    "start_time": "2021-09-14T14:56:16.510Z"
   },
   {
    "duration": 1971,
    "start_time": "2021-09-15T03:56:45.185Z"
   },
   {
    "duration": 128,
    "start_time": "2021-09-15T03:56:47.158Z"
   },
   {
    "duration": 27,
    "start_time": "2021-09-15T03:56:47.289Z"
   },
   {
    "duration": 1057,
    "start_time": "2021-09-15T03:56:47.319Z"
   },
   {
    "duration": 505,
    "start_time": "2021-09-15T03:56:48.378Z"
   },
   {
    "duration": 398,
    "start_time": "2021-09-15T03:56:48.886Z"
   },
   {
    "duration": 557,
    "start_time": "2021-09-15T03:56:49.286Z"
   },
   {
    "duration": 12,
    "start_time": "2021-09-15T03:56:49.846Z"
   },
   {
    "duration": 102,
    "start_time": "2021-09-15T03:56:49.861Z"
   },
   {
    "duration": 14,
    "start_time": "2021-09-15T05:12:39.847Z"
   },
   {
    "duration": 13,
    "start_time": "2021-09-15T05:12:45.298Z"
   },
   {
    "duration": 12,
    "start_time": "2021-09-15T05:12:49.090Z"
   },
   {
    "duration": 13,
    "start_time": "2021-09-15T05:12:53.327Z"
   },
   {
    "duration": 24,
    "start_time": "2021-09-15T05:13:03.923Z"
   },
   {
    "duration": 18,
    "start_time": "2021-09-15T05:13:39.017Z"
   },
   {
    "duration": 17,
    "start_time": "2021-09-15T05:13:51.659Z"
   },
   {
    "duration": 13,
    "start_time": "2021-09-15T05:14:27.220Z"
   },
   {
    "duration": 15,
    "start_time": "2021-09-15T05:14:32.690Z"
   },
   {
    "duration": 13,
    "start_time": "2021-09-15T05:14:36.913Z"
   },
   {
    "duration": 13,
    "start_time": "2021-09-15T05:14:43.730Z"
   },
   {
    "duration": 12,
    "start_time": "2021-09-15T05:14:46.866Z"
   },
   {
    "duration": 13,
    "start_time": "2021-09-15T05:14:52.130Z"
   },
   {
    "duration": 13,
    "start_time": "2021-09-15T05:15:14.527Z"
   },
   {
    "duration": 13,
    "start_time": "2021-09-15T05:15:20.892Z"
   },
   {
    "duration": 12,
    "start_time": "2021-09-15T05:15:25.754Z"
   },
   {
    "duration": 25,
    "start_time": "2021-09-15T05:15:39.757Z"
   },
   {
    "duration": 17,
    "start_time": "2021-09-15T05:15:44.775Z"
   },
   {
    "duration": 20,
    "start_time": "2021-09-15T05:16:13.544Z"
   },
   {
    "duration": 13,
    "start_time": "2021-09-15T05:17:50.990Z"
   },
   {
    "duration": 13,
    "start_time": "2021-09-15T05:18:23.506Z"
   },
   {
    "duration": 23,
    "start_time": "2021-09-15T05:20:37.678Z"
   },
   {
    "duration": 13,
    "start_time": "2021-09-15T05:39:00.297Z"
   },
   {
    "duration": 16,
    "start_time": "2021-09-15T05:39:04.665Z"
   },
   {
    "duration": 13,
    "start_time": "2021-09-15T05:39:25.973Z"
   },
   {
    "duration": 13,
    "start_time": "2021-09-15T05:39:45.603Z"
   },
   {
    "duration": 18,
    "start_time": "2021-09-15T05:39:51.891Z"
   },
   {
    "duration": 16,
    "start_time": "2021-09-15T05:40:23.476Z"
   },
   {
    "duration": 13,
    "start_time": "2021-09-15T05:53:38.518Z"
   },
   {
    "duration": 12,
    "start_time": "2021-09-15T05:53:47.262Z"
   },
   {
    "duration": 12,
    "start_time": "2021-09-15T05:54:38.595Z"
   },
   {
    "duration": 16,
    "start_time": "2021-09-15T05:54:44.134Z"
   },
   {
    "duration": 13,
    "start_time": "2021-09-15T05:55:15.270Z"
   },
   {
    "duration": 13,
    "start_time": "2021-09-15T05:55:24.555Z"
   },
   {
    "duration": 13,
    "start_time": "2021-09-15T05:55:31.100Z"
   },
   {
    "duration": 13,
    "start_time": "2021-09-15T05:55:58.600Z"
   },
   {
    "duration": 19,
    "start_time": "2021-09-15T05:56:27.507Z"
   },
   {
    "duration": 13,
    "start_time": "2021-09-15T05:57:24.845Z"
   },
   {
    "duration": 5,
    "start_time": "2021-09-15T05:57:42.027Z"
   },
   {
    "duration": 7,
    "start_time": "2021-09-15T05:57:47.267Z"
   },
   {
    "duration": 94,
    "start_time": "2021-09-15T06:04:57.484Z"
   },
   {
    "duration": 5,
    "start_time": "2021-09-15T06:05:06.422Z"
   },
   {
    "duration": 36,
    "start_time": "2021-09-15T06:07:39.212Z"
   },
   {
    "duration": 16,
    "start_time": "2021-09-15T06:09:10.111Z"
   },
   {
    "duration": 6,
    "start_time": "2021-09-15T06:11:25.515Z"
   },
   {
    "duration": 722,
    "start_time": "2021-09-15T06:12:22.979Z"
   },
   {
    "duration": 35,
    "start_time": "2021-09-15T06:18:25.600Z"
   },
   {
    "duration": 32,
    "start_time": "2021-09-15T06:21:38.092Z"
   },
   {
    "duration": 40,
    "start_time": "2021-09-15T06:23:47.538Z"
   },
   {
    "duration": 38,
    "start_time": "2021-09-15T06:24:33.028Z"
   },
   {
    "duration": 1512,
    "start_time": "2021-09-15T06:29:32.455Z"
   },
   {
    "duration": 637,
    "start_time": "2021-09-15T06:30:23.030Z"
   },
   {
    "duration": 308,
    "start_time": "2021-09-15T09:58:56.206Z"
   },
   {
    "duration": 499,
    "start_time": "2021-09-15T10:02:09.065Z"
   },
   {
    "duration": 314,
    "start_time": "2021-09-15T10:03:09.961Z"
   },
   {
    "duration": 508,
    "start_time": "2021-09-15T10:03:20.341Z"
   },
   {
    "duration": 51,
    "start_time": "2021-09-15T10:04:37.954Z"
   },
   {
    "duration": 1883,
    "start_time": "2021-09-15T10:05:20.347Z"
   },
   {
    "duration": 101,
    "start_time": "2021-09-15T10:05:22.233Z"
   },
   {
    "duration": 14,
    "start_time": "2021-09-15T10:05:22.338Z"
   },
   {
    "duration": 28,
    "start_time": "2021-09-15T10:05:22.356Z"
   },
   {
    "duration": 6,
    "start_time": "2021-09-15T10:05:22.387Z"
   },
   {
    "duration": 1069,
    "start_time": "2021-09-15T10:05:22.416Z"
   },
   {
    "duration": 533,
    "start_time": "2021-09-15T10:05:23.487Z"
   },
   {
    "duration": 417,
    "start_time": "2021-09-15T10:05:24.024Z"
   },
   {
    "duration": 578,
    "start_time": "2021-09-15T10:05:24.445Z"
   },
   {
    "duration": 16,
    "start_time": "2021-09-15T10:05:25.026Z"
   },
   {
    "duration": 22,
    "start_time": "2021-09-15T10:05:25.045Z"
   },
   {
    "duration": 548,
    "start_time": "2021-09-15T10:05:30.510Z"
   },
   {
    "duration": 42,
    "start_time": "2021-09-15T10:05:40.774Z"
   },
   {
    "duration": 95,
    "start_time": "2021-09-15T10:06:44.077Z"
   },
   {
    "duration": 46,
    "start_time": "2021-09-15T10:06:56.467Z"
   },
   {
    "duration": 19,
    "start_time": "2021-09-15T10:07:05.947Z"
   },
   {
    "duration": 13,
    "start_time": "2021-09-15T10:07:14.281Z"
   },
   {
    "duration": 13,
    "start_time": "2021-09-15T10:08:05.981Z"
   },
   {
    "duration": 13,
    "start_time": "2021-09-15T10:08:15.478Z"
   },
   {
    "duration": 13,
    "start_time": "2021-09-15T10:08:52.924Z"
   },
   {
    "duration": 13,
    "start_time": "2021-09-15T10:09:03.227Z"
   },
   {
    "duration": 43,
    "start_time": "2021-09-15T10:09:19.862Z"
   },
   {
    "duration": 14,
    "start_time": "2021-09-15T10:09:33.816Z"
   },
   {
    "duration": 47,
    "start_time": "2021-09-15T10:09:37.517Z"
   },
   {
    "duration": 20,
    "start_time": "2021-09-15T10:09:56.673Z"
   },
   {
    "duration": 13,
    "start_time": "2021-09-15T10:10:09.548Z"
   },
   {
    "duration": 1910,
    "start_time": "2021-09-15T10:17:24.421Z"
   },
   {
    "duration": 102,
    "start_time": "2021-09-15T10:17:26.334Z"
   },
   {
    "duration": 16,
    "start_time": "2021-09-15T10:17:26.438Z"
   },
   {
    "duration": 213,
    "start_time": "2021-09-15T10:17:26.457Z"
   },
   {
    "duration": 16,
    "start_time": "2021-09-15T10:17:26.672Z"
   },
   {
    "duration": 1158,
    "start_time": "2021-09-15T10:17:26.690Z"
   },
   {
    "duration": 529,
    "start_time": "2021-09-15T10:17:27.850Z"
   },
   {
    "duration": 410,
    "start_time": "2021-09-15T10:17:28.383Z"
   },
   {
    "duration": 543,
    "start_time": "2021-09-15T10:17:28.796Z"
   },
   {
    "duration": 11,
    "start_time": "2021-09-15T10:17:29.341Z"
   },
   {
    "duration": 11,
    "start_time": "2021-09-15T10:17:29.355Z"
   },
   {
    "duration": 14,
    "start_time": "2021-09-15T10:17:59.174Z"
   },
   {
    "duration": 33,
    "start_time": "2021-09-15T10:18:32.355Z"
   },
   {
    "duration": 13,
    "start_time": "2021-09-15T10:18:50.973Z"
   },
   {
    "duration": 1973,
    "start_time": "2021-09-15T10:20:13.578Z"
   },
   {
    "duration": 104,
    "start_time": "2021-09-15T10:20:15.554Z"
   },
   {
    "duration": 16,
    "start_time": "2021-09-15T10:20:15.661Z"
   },
   {
    "duration": 261,
    "start_time": "2021-09-15T10:20:15.680Z"
   },
   {
    "duration": 25,
    "start_time": "2021-09-15T10:20:15.943Z"
   },
   {
    "duration": 1081,
    "start_time": "2021-09-15T10:20:15.971Z"
   },
   {
    "duration": 536,
    "start_time": "2021-09-15T10:20:17.054Z"
   },
   {
    "duration": 400,
    "start_time": "2021-09-15T10:20:17.593Z"
   },
   {
    "duration": 596,
    "start_time": "2021-09-15T10:20:17.995Z"
   },
   {
    "duration": 11,
    "start_time": "2021-09-15T10:20:18.593Z"
   },
   {
    "duration": 21,
    "start_time": "2021-09-15T10:20:18.606Z"
   },
   {
    "duration": 2049,
    "start_time": "2021-09-15T11:01:55.430Z"
   },
   {
    "duration": 106,
    "start_time": "2021-09-15T11:01:57.482Z"
   },
   {
    "duration": 15,
    "start_time": "2021-09-15T11:01:57.591Z"
   },
   {
    "duration": 475,
    "start_time": "2021-09-15T11:01:57.617Z"
   },
   {
    "duration": -99,
    "start_time": "2021-09-15T11:01:58.194Z"
   },
   {
    "duration": -102,
    "start_time": "2021-09-15T11:01:58.198Z"
   },
   {
    "duration": -103,
    "start_time": "2021-09-15T11:01:58.201Z"
   },
   {
    "duration": -108,
    "start_time": "2021-09-15T11:01:58.207Z"
   },
   {
    "duration": -110,
    "start_time": "2021-09-15T11:01:58.210Z"
   },
   {
    "duration": -110,
    "start_time": "2021-09-15T11:01:58.212Z"
   },
   {
    "duration": -111,
    "start_time": "2021-09-15T11:01:58.214Z"
   },
   {
    "duration": 323,
    "start_time": "2021-09-15T11:02:27.394Z"
   },
   {
    "duration": 275,
    "start_time": "2021-09-15T11:03:11.756Z"
   },
   {
    "duration": 1922,
    "start_time": "2021-09-15T14:31:37.537Z"
   },
   {
    "duration": 102,
    "start_time": "2021-09-15T14:31:39.462Z"
   },
   {
    "duration": 16,
    "start_time": "2021-09-15T14:31:39.567Z"
   },
   {
    "duration": 284,
    "start_time": "2021-09-15T14:31:39.586Z"
   },
   {
    "duration": 24,
    "start_time": "2021-09-15T14:31:39.873Z"
   },
   {
    "duration": 1057,
    "start_time": "2021-09-15T14:31:39.900Z"
   },
   {
    "duration": 525,
    "start_time": "2021-09-15T14:31:40.959Z"
   },
   {
    "duration": 395,
    "start_time": "2021-09-15T14:31:41.487Z"
   },
   {
    "duration": 541,
    "start_time": "2021-09-15T14:31:41.884Z"
   },
   {
    "duration": 31,
    "start_time": "2021-09-15T14:31:42.428Z"
   },
   {
    "duration": 12,
    "start_time": "2021-09-15T14:31:42.462Z"
   },
   {
    "duration": 12,
    "start_time": "2021-09-15T14:34:13.133Z"
   },
   {
    "duration": 13,
    "start_time": "2021-09-15T14:34:18.136Z"
   },
   {
    "duration": 12,
    "start_time": "2021-09-15T14:34:21.720Z"
   },
   {
    "duration": 15,
    "start_time": "2021-09-15T14:34:44.400Z"
   },
   {
    "duration": 330,
    "start_time": "2021-09-15T14:45:59.434Z"
   },
   {
    "duration": 22,
    "start_time": "2021-09-15T14:47:57.058Z"
   },
   {
    "duration": 20,
    "start_time": "2021-09-15T14:49:05.313Z"
   },
   {
    "duration": 12,
    "start_time": "2021-09-15T14:49:52.569Z"
   },
   {
    "duration": 12,
    "start_time": "2021-09-15T14:50:36.598Z"
   },
   {
    "duration": 12,
    "start_time": "2021-09-15T14:50:40.573Z"
   },
   {
    "duration": 12,
    "start_time": "2021-09-15T14:50:44.478Z"
   },
   {
    "duration": 12,
    "start_time": "2021-09-15T14:50:46.758Z"
   },
   {
    "duration": 12,
    "start_time": "2021-09-15T14:50:51.097Z"
   },
   {
    "duration": 12,
    "start_time": "2021-09-15T14:50:53.626Z"
   },
   {
    "duration": 13,
    "start_time": "2021-09-15T14:50:56.481Z"
   },
   {
    "duration": 12,
    "start_time": "2021-09-15T14:50:58.835Z"
   },
   {
    "duration": 12,
    "start_time": "2021-09-15T14:51:01.089Z"
   },
   {
    "duration": 1985,
    "start_time": "2021-09-15T14:51:24.210Z"
   },
   {
    "duration": 105,
    "start_time": "2021-09-15T14:51:26.198Z"
   },
   {
    "duration": 15,
    "start_time": "2021-09-15T14:51:26.306Z"
   },
   {
    "duration": 347,
    "start_time": "2021-09-15T14:51:26.324Z"
   },
   {
    "duration": 15,
    "start_time": "2021-09-15T14:51:26.673Z"
   },
   {
    "duration": 1111,
    "start_time": "2021-09-15T14:51:26.690Z"
   },
   {
    "duration": 523,
    "start_time": "2021-09-15T14:51:27.804Z"
   },
   {
    "duration": 390,
    "start_time": "2021-09-15T14:51:28.330Z"
   },
   {
    "duration": 537,
    "start_time": "2021-09-15T14:51:28.723Z"
   },
   {
    "duration": 11,
    "start_time": "2021-09-15T14:51:29.263Z"
   },
   {
    "duration": 21,
    "start_time": "2021-09-15T14:51:29.277Z"
   },
   {
    "duration": 316,
    "start_time": "2021-09-15T14:53:01.087Z"
   },
   {
    "duration": 19,
    "start_time": "2021-09-15T14:54:00.936Z"
   },
   {
    "duration": 15,
    "start_time": "2021-09-15T14:54:30.620Z"
   },
   {
    "duration": 552,
    "start_time": "2021-09-15T14:54:41.869Z"
   },
   {
    "duration": 21,
    "start_time": "2021-09-15T14:56:22.401Z"
   },
   {
    "duration": 368,
    "start_time": "2021-09-15T14:56:52.502Z"
   },
   {
    "duration": 22,
    "start_time": "2021-09-15T14:57:09.157Z"
   },
   {
    "duration": 17,
    "start_time": "2021-09-15T14:57:18.567Z"
   },
   {
    "duration": 19,
    "start_time": "2021-09-15T14:57:26.728Z"
   },
   {
    "duration": 2827,
    "start_time": "2021-09-15T15:03:37.743Z"
   },
   {
    "duration": 2168,
    "start_time": "2021-09-15T15:03:53.596Z"
   },
   {
    "duration": 25,
    "start_time": "2021-09-15T15:03:59.947Z"
   },
   {
    "duration": 15,
    "start_time": "2021-09-15T15:05:26.064Z"
   },
   {
    "duration": 387,
    "start_time": "2021-09-15T15:05:50.112Z"
   },
   {
    "duration": 112,
    "start_time": "2021-09-15T15:06:02.337Z"
   },
   {
    "duration": 28,
    "start_time": "2021-09-15T15:06:18.002Z"
   },
   {
    "duration": 28,
    "start_time": "2021-09-15T15:07:08.108Z"
   },
   {
    "duration": 41,
    "start_time": "2021-09-15T15:07:14.493Z"
   },
   {
    "duration": 11,
    "start_time": "2021-09-15T15:07:22.753Z"
   },
   {
    "duration": 30,
    "start_time": "2021-09-15T15:08:12.913Z"
   },
   {
    "duration": 27,
    "start_time": "2021-09-15T15:08:42.191Z"
   },
   {
    "duration": 22,
    "start_time": "2021-09-15T15:09:42.961Z"
   },
   {
    "duration": 21,
    "start_time": "2021-09-15T15:09:50.291Z"
   },
   {
    "duration": 20,
    "start_time": "2021-09-15T15:10:58.235Z"
   },
   {
    "duration": 319,
    "start_time": "2021-09-15T15:13:15.573Z"
   },
   {
    "duration": 751,
    "start_time": "2021-09-15T15:14:00.352Z"
   },
   {
    "duration": 326,
    "start_time": "2021-09-15T15:14:21.213Z"
   },
   {
    "duration": 344,
    "start_time": "2021-09-15T15:15:37.406Z"
   },
   {
    "duration": 376,
    "start_time": "2021-09-15T15:16:39.882Z"
   },
   {
    "duration": 372,
    "start_time": "2021-09-15T15:16:53.206Z"
   },
   {
    "duration": 337,
    "start_time": "2021-09-15T15:17:52.140Z"
   },
   {
    "duration": 365,
    "start_time": "2021-09-15T15:19:21.319Z"
   },
   {
    "duration": 419,
    "start_time": "2021-09-15T15:20:00.295Z"
   },
   {
    "duration": 47,
    "start_time": "2021-09-15T15:25:47.610Z"
   },
   {
    "duration": 23,
    "start_time": "2021-09-15T15:26:13.361Z"
   },
   {
    "duration": 336,
    "start_time": "2021-09-15T15:27:33.397Z"
   },
   {
    "duration": 24,
    "start_time": "2021-09-15T15:27:55.907Z"
   },
   {
    "duration": 64,
    "start_time": "2021-09-15T15:28:19.684Z"
   },
   {
    "duration": 25,
    "start_time": "2021-09-15T15:28:22.618Z"
   },
   {
    "duration": 328,
    "start_time": "2021-09-15T15:28:23.355Z"
   },
   {
    "duration": 23,
    "start_time": "2021-09-15T15:28:46.074Z"
   },
   {
    "duration": 1849,
    "start_time": "2021-09-15T15:29:25.592Z"
   },
   {
    "duration": 103,
    "start_time": "2021-09-15T15:29:27.444Z"
   },
   {
    "duration": 16,
    "start_time": "2021-09-15T15:29:27.555Z"
   },
   {
    "duration": 330,
    "start_time": "2021-09-15T15:29:27.574Z"
   },
   {
    "duration": 35,
    "start_time": "2021-09-15T15:29:27.907Z"
   },
   {
    "duration": 27,
    "start_time": "2021-09-15T15:29:27.955Z"
   },
   {
    "duration": 486,
    "start_time": "2021-09-15T15:29:27.984Z"
   },
   {
    "duration": -81,
    "start_time": "2021-09-15T15:29:28.554Z"
   },
   {
    "duration": -81,
    "start_time": "2021-09-15T15:29:28.556Z"
   },
   {
    "duration": -83,
    "start_time": "2021-09-15T15:29:28.559Z"
   },
   {
    "duration": -89,
    "start_time": "2021-09-15T15:29:28.566Z"
   },
   {
    "duration": -92,
    "start_time": "2021-09-15T15:29:28.571Z"
   },
   {
    "duration": -94,
    "start_time": "2021-09-15T15:29:28.574Z"
   },
   {
    "duration": -95,
    "start_time": "2021-09-15T15:29:28.576Z"
   },
   {
    "duration": 100,
    "start_time": "2021-09-15T15:30:19.351Z"
   },
   {
    "duration": 327,
    "start_time": "2021-09-15T15:30:37.519Z"
   },
   {
    "duration": 19,
    "start_time": "2021-09-15T15:30:44.290Z"
   },
   {
    "duration": 294,
    "start_time": "2021-09-15T15:30:58.801Z"
   },
   {
    "duration": 50,
    "start_time": "2021-09-15T15:31:00.361Z"
   },
   {
    "duration": 26,
    "start_time": "2021-09-15T15:31:03.481Z"
   },
   {
    "duration": 22,
    "start_time": "2021-09-15T15:31:04.567Z"
   },
   {
    "duration": 30,
    "start_time": "2021-09-15T15:34:27.837Z"
   },
   {
    "duration": 13,
    "start_time": "2021-09-15T15:36:07.615Z"
   },
   {
    "duration": 13,
    "start_time": "2021-09-15T15:36:38.343Z"
   },
   {
    "duration": 26,
    "start_time": "2021-09-15T15:37:05.465Z"
   },
   {
    "duration": 12,
    "start_time": "2021-09-15T15:37:50.345Z"
   },
   {
    "duration": 437,
    "start_time": "2021-09-15T15:37:53.863Z"
   },
   {
    "duration": 1883,
    "start_time": "2021-09-15T15:38:14.498Z"
   },
   {
    "duration": 97,
    "start_time": "2021-09-15T15:38:16.384Z"
   },
   {
    "duration": 15,
    "start_time": "2021-09-15T15:38:16.484Z"
   },
   {
    "duration": 338,
    "start_time": "2021-09-15T15:38:16.502Z"
   },
   {
    "duration": 41,
    "start_time": "2021-09-15T15:38:16.842Z"
   },
   {
    "duration": 26,
    "start_time": "2021-09-15T15:38:16.885Z"
   },
   {
    "duration": 40,
    "start_time": "2021-09-15T15:38:16.914Z"
   },
   {
    "duration": 16,
    "start_time": "2021-09-15T15:38:16.959Z"
   },
   {
    "duration": 1169,
    "start_time": "2021-09-15T15:38:16.978Z"
   },
   {
    "duration": 512,
    "start_time": "2021-09-15T15:38:18.150Z"
   },
   {
    "duration": 9377,
    "start_time": "2021-09-15T15:38:18.665Z"
   },
   {
    "duration": -26,
    "start_time": "2021-09-15T15:38:28.071Z"
   },
   {
    "duration": -28,
    "start_time": "2021-09-15T15:38:28.074Z"
   },
   {
    "duration": -29,
    "start_time": "2021-09-15T15:38:28.077Z"
   },
   {
    "duration": 98,
    "start_time": "2021-09-15T15:38:32.614Z"
   },
   {
    "duration": 20,
    "start_time": "2021-09-15T15:38:36.433Z"
   },
   {
    "duration": 611,
    "start_time": "2021-09-15T15:42:07.345Z"
   },
   {
    "duration": 103,
    "start_time": "2021-09-15T15:42:33.632Z"
   },
   {
    "duration": 515,
    "start_time": "2021-09-15T15:42:37.173Z"
   },
   {
    "duration": 1883,
    "start_time": "2021-09-15T15:47:56.550Z"
   },
   {
    "duration": 100,
    "start_time": "2021-09-15T15:47:58.435Z"
   },
   {
    "duration": 30,
    "start_time": "2021-09-15T15:47:58.538Z"
   },
   {
    "duration": 316,
    "start_time": "2021-09-15T15:47:58.571Z"
   },
   {
    "duration": 38,
    "start_time": "2021-09-15T15:47:58.889Z"
   },
   {
    "duration": 44,
    "start_time": "2021-09-15T15:47:58.929Z"
   },
   {
    "duration": 287,
    "start_time": "2021-09-15T15:47:58.976Z"
   },
   {
    "duration": 22,
    "start_time": "2021-09-15T15:47:59.267Z"
   },
   {
    "duration": 1062,
    "start_time": "2021-09-15T15:47:59.293Z"
   },
   {
    "duration": 639,
    "start_time": "2021-09-15T15:48:00.358Z"
   },
   {
    "duration": 406,
    "start_time": "2021-09-15T15:48:01.000Z"
   },
   {
    "duration": 572,
    "start_time": "2021-09-15T15:48:01.409Z"
   },
   {
    "duration": 12,
    "start_time": "2021-09-15T15:48:01.983Z"
   },
   {
    "duration": 42,
    "start_time": "2021-09-15T15:48:01.997Z"
   },
   {
    "duration": 14,
    "start_time": "2021-09-15T15:48:54.192Z"
   },
   {
    "duration": 7890,
    "start_time": "2021-09-15T15:55:26.309Z"
   },
   {
    "duration": 19,
    "start_time": "2021-09-15T15:55:47.469Z"
   },
   {
    "duration": 27,
    "start_time": "2021-09-15T15:56:04.977Z"
   },
   {
    "duration": 13,
    "start_time": "2021-09-15T15:56:24.340Z"
   },
   {
    "duration": 19,
    "start_time": "2021-09-15T16:00:16.007Z"
   },
   {
    "duration": 19,
    "start_time": "2021-09-15T16:00:24.424Z"
   },
   {
    "duration": 2064,
    "start_time": "2021-09-15T16:00:39.232Z"
   },
   {
    "duration": 100,
    "start_time": "2021-09-15T16:00:41.298Z"
   },
   {
    "duration": 14,
    "start_time": "2021-09-15T16:00:41.401Z"
   },
   {
    "duration": 425,
    "start_time": "2021-09-15T16:00:41.419Z"
   },
   {
    "duration": 40,
    "start_time": "2021-09-15T16:00:41.846Z"
   },
   {
    "duration": 21,
    "start_time": "2021-09-15T16:00:41.889Z"
   },
   {
    "duration": 13,
    "start_time": "2021-09-15T16:00:41.912Z"
   },
   {
    "duration": 1064,
    "start_time": "2021-09-15T16:00:41.955Z"
   },
   {
    "duration": 533,
    "start_time": "2021-09-15T16:00:43.021Z"
   },
   {
    "duration": 411,
    "start_time": "2021-09-15T16:00:43.557Z"
   },
   {
    "duration": 584,
    "start_time": "2021-09-15T16:00:43.971Z"
   },
   {
    "duration": 16,
    "start_time": "2021-09-15T16:00:44.558Z"
   },
   {
    "duration": 14,
    "start_time": "2021-09-15T16:00:44.576Z"
   },
   {
    "duration": 21,
    "start_time": "2021-09-15T16:01:20.027Z"
   },
   {
    "duration": 13,
    "start_time": "2021-09-15T16:39:39.553Z"
   },
   {
    "duration": 6,
    "start_time": "2021-09-15T16:40:27.310Z"
   },
   {
    "duration": 12,
    "start_time": "2021-09-15T16:41:34.190Z"
   },
   {
    "duration": 542,
    "start_time": "2021-09-15T16:42:18.705Z"
   },
   {
    "duration": 7,
    "start_time": "2021-09-15T16:46:54.185Z"
   },
   {
    "duration": 8,
    "start_time": "2021-09-15T16:46:56.136Z"
   },
   {
    "duration": 8,
    "start_time": "2021-09-15T16:46:58.098Z"
   },
   {
    "duration": 9,
    "start_time": "2021-09-15T16:47:00.587Z"
   },
   {
    "duration": 7,
    "start_time": "2021-09-15T16:47:03.849Z"
   },
   {
    "duration": 8,
    "start_time": "2021-09-15T16:47:05.713Z"
   },
   {
    "duration": 7,
    "start_time": "2021-09-15T16:47:06.656Z"
   },
   {
    "duration": 549,
    "start_time": "2021-09-15T16:47:09.461Z"
   },
   {
    "duration": 14,
    "start_time": "2021-09-15T16:47:17.280Z"
   },
   {
    "duration": 334,
    "start_time": "2021-09-15T16:48:15.335Z"
   },
   {
    "duration": 9,
    "start_time": "2021-09-15T16:48:58.308Z"
   },
   {
    "duration": 360,
    "start_time": "2021-09-15T16:48:59.509Z"
   },
   {
    "duration": 7,
    "start_time": "2021-09-15T17:01:21.522Z"
   },
   {
    "duration": 370,
    "start_time": "2021-09-15T17:02:07.634Z"
   },
   {
    "duration": 5,
    "start_time": "2021-09-15T17:03:55.091Z"
   },
   {
    "duration": 123,
    "start_time": "2021-09-15T17:03:55.098Z"
   },
   {
    "duration": 15,
    "start_time": "2021-09-15T17:03:55.224Z"
   },
   {
    "duration": 124,
    "start_time": "2021-09-15T17:03:55.241Z"
   },
   {
    "duration": 923,
    "start_time": "2021-09-15T17:03:54.444Z"
   },
   {
    "duration": 919,
    "start_time": "2021-09-15T17:03:54.449Z"
   },
   {
    "duration": 917,
    "start_time": "2021-09-15T17:03:54.453Z"
   },
   {
    "duration": 913,
    "start_time": "2021-09-15T17:03:54.458Z"
   },
   {
    "duration": 910,
    "start_time": "2021-09-15T17:03:54.462Z"
   },
   {
    "duration": 907,
    "start_time": "2021-09-15T17:03:54.466Z"
   },
   {
    "duration": 905,
    "start_time": "2021-09-15T17:03:54.470Z"
   },
   {
    "duration": 902,
    "start_time": "2021-09-15T17:03:54.474Z"
   },
   {
    "duration": 900,
    "start_time": "2021-09-15T17:03:54.478Z"
   },
   {
    "duration": 462,
    "start_time": "2021-09-15T17:05:25.871Z"
   },
   {
    "duration": 9,
    "start_time": "2021-09-15T17:05:53.181Z"
   },
   {
    "duration": 9,
    "start_time": "2021-09-15T17:05:55.821Z"
   },
   {
    "duration": 11,
    "start_time": "2021-09-15T17:05:59.606Z"
   },
   {
    "duration": 7567,
    "start_time": "2021-09-15T17:07:24.392Z"
   },
   {
    "duration": 1319,
    "start_time": "2021-09-15T17:09:06.059Z"
   },
   {
    "duration": 11,
    "start_time": "2021-09-15T17:09:38.178Z"
   },
   {
    "duration": 4,
    "start_time": "2021-09-15T17:09:40.458Z"
   },
   {
    "duration": 16,
    "start_time": "2021-09-15T17:09:43.394Z"
   },
   {
    "duration": 317,
    "start_time": "2021-09-15T17:10:10.733Z"
   },
   {
    "duration": 6,
    "start_time": "2021-09-15T17:11:07.415Z"
   },
   {
    "duration": 325,
    "start_time": "2021-09-15T17:12:00.052Z"
   },
   {
    "duration": 343,
    "start_time": "2021-09-15T17:12:17.787Z"
   },
   {
    "duration": 1499,
    "start_time": "2021-09-16T03:58:20.560Z"
   },
   {
    "duration": 74,
    "start_time": "2021-09-16T03:58:22.061Z"
   },
   {
    "duration": 10,
    "start_time": "2021-09-16T03:58:22.137Z"
   },
   {
    "duration": 103,
    "start_time": "2021-09-16T03:58:22.149Z"
   },
   {
    "duration": -2003,
    "start_time": "2021-09-16T03:58:24.257Z"
   },
   {
    "duration": -2007,
    "start_time": "2021-09-16T03:58:24.262Z"
   },
   {
    "duration": -2011,
    "start_time": "2021-09-16T03:58:24.267Z"
   },
   {
    "duration": -2024,
    "start_time": "2021-09-16T03:58:24.280Z"
   },
   {
    "duration": -2036,
    "start_time": "2021-09-16T03:58:24.293Z"
   },
   {
    "duration": -2039,
    "start_time": "2021-09-16T03:58:24.297Z"
   },
   {
    "duration": -2042,
    "start_time": "2021-09-16T03:58:24.301Z"
   },
   {
    "duration": -2045,
    "start_time": "2021-09-16T03:58:24.305Z"
   },
   {
    "duration": -2049,
    "start_time": "2021-09-16T03:58:24.309Z"
   },
   {
    "duration": 428,
    "start_time": "2021-09-16T04:02:37.943Z"
   },
   {
    "duration": 1367,
    "start_time": "2021-09-16T04:03:47.752Z"
   },
   {
    "duration": 73,
    "start_time": "2021-09-16T04:03:49.121Z"
   },
   {
    "duration": 11,
    "start_time": "2021-09-16T04:03:49.197Z"
   },
   {
    "duration": 169,
    "start_time": "2021-09-16T04:03:49.210Z"
   },
   {
    "duration": 3,
    "start_time": "2021-09-16T04:03:49.380Z"
   },
   {
    "duration": 18,
    "start_time": "2021-09-16T04:03:49.385Z"
   },
   {
    "duration": 697,
    "start_time": "2021-09-16T04:03:49.405Z"
   },
   {
    "duration": 433,
    "start_time": "2021-09-16T04:03:50.104Z"
   },
   {
    "duration": 242,
    "start_time": "2021-09-16T04:03:50.542Z"
   },
   {
    "duration": 372,
    "start_time": "2021-09-16T04:03:50.786Z"
   },
   {
    "duration": 9,
    "start_time": "2021-09-16T04:03:51.160Z"
   },
   {
    "duration": 3,
    "start_time": "2021-09-16T04:03:51.171Z"
   },
   {
    "duration": 13,
    "start_time": "2021-09-16T04:03:51.176Z"
   },
   {
    "duration": 9,
    "start_time": "2021-09-16T04:14:38.956Z"
   },
   {
    "duration": 6,
    "start_time": "2021-09-16T04:15:20.242Z"
   },
   {
    "duration": 1132,
    "start_time": "2021-09-16T04:16:21.754Z"
   },
   {
    "duration": 706,
    "start_time": "2021-09-16T04:16:37.575Z"
   },
   {
    "duration": 1938,
    "start_time": "2021-09-16T12:30:02.145Z"
   },
   {
    "duration": 98,
    "start_time": "2021-09-16T12:30:04.086Z"
   },
   {
    "duration": 16,
    "start_time": "2021-09-16T12:30:04.187Z"
   },
   {
    "duration": 336,
    "start_time": "2021-09-16T12:30:04.205Z"
   },
   {
    "duration": 4,
    "start_time": "2021-09-16T12:30:04.543Z"
   },
   {
    "duration": 66,
    "start_time": "2021-09-16T12:30:04.549Z"
   },
   {
    "duration": 1181,
    "start_time": "2021-09-16T12:30:04.618Z"
   },
   {
    "duration": 543,
    "start_time": "2021-09-16T12:30:05.802Z"
   },
   {
    "duration": 421,
    "start_time": "2021-09-16T12:30:06.347Z"
   },
   {
    "duration": 567,
    "start_time": "2021-09-16T12:30:06.770Z"
   },
   {
    "duration": 26,
    "start_time": "2021-09-16T12:30:07.340Z"
   },
   {
    "duration": 16,
    "start_time": "2021-09-16T12:30:07.368Z"
   },
   {
    "duration": 32,
    "start_time": "2021-09-16T12:30:07.386Z"
   },
   {
    "duration": 1429,
    "start_time": "2021-09-16T12:30:07.420Z"
   },
   {
    "duration": 14,
    "start_time": "2021-09-16T12:32:08.772Z"
   },
   {
    "duration": 12,
    "start_time": "2021-09-16T12:33:09.343Z"
   },
   {
    "duration": 1087,
    "start_time": "2021-09-16T12:33:14.076Z"
   },
   {
    "duration": 20,
    "start_time": "2021-09-16T12:33:49.781Z"
   },
   {
    "duration": 1405,
    "start_time": "2021-09-16T12:36:09.435Z"
   },
   {
    "duration": 331,
    "start_time": "2021-09-16T12:38:13.033Z"
   },
   {
    "duration": 1763,
    "start_time": "2021-09-16T12:39:56.628Z"
   },
   {
    "duration": 50,
    "start_time": "2021-09-16T12:40:17.738Z"
   },
   {
    "duration": 12,
    "start_time": "2021-09-16T12:41:21.252Z"
   },
   {
    "duration": 20,
    "start_time": "2021-09-16T12:42:15.321Z"
   },
   {
    "duration": 13,
    "start_time": "2021-09-16T12:42:17.944Z"
   },
   {
    "duration": 20,
    "start_time": "2021-09-16T12:42:29.956Z"
   },
   {
    "duration": 12,
    "start_time": "2021-09-16T12:42:31.610Z"
   },
   {
    "duration": 20,
    "start_time": "2021-09-16T12:42:38.159Z"
   },
   {
    "duration": 21,
    "start_time": "2021-09-16T12:43:45.416Z"
   },
   {
    "duration": 3,
    "start_time": "2021-09-16T12:43:46.944Z"
   },
   {
    "duration": 3,
    "start_time": "2021-09-16T12:43:51.802Z"
   },
   {
    "duration": 2087,
    "start_time": "2021-09-16T12:44:12.320Z"
   },
   {
    "duration": 94,
    "start_time": "2021-09-16T12:44:14.410Z"
   },
   {
    "duration": 14,
    "start_time": "2021-09-16T12:44:14.507Z"
   },
   {
    "duration": 299,
    "start_time": "2021-09-16T12:44:14.524Z"
   },
   {
    "duration": 22,
    "start_time": "2021-09-16T12:44:14.826Z"
   },
   {
    "duration": 3,
    "start_time": "2021-09-16T12:44:14.861Z"
   },
   {
    "duration": 961,
    "start_time": "2021-09-16T12:44:14.866Z"
   },
   {
    "duration": 686,
    "start_time": "2021-09-16T12:44:15.144Z"
   },
   {
    "duration": 687,
    "start_time": "2021-09-16T12:44:15.148Z"
   },
   {
    "duration": 685,
    "start_time": "2021-09-16T12:44:15.151Z"
   },
   {
    "duration": 683,
    "start_time": "2021-09-16T12:44:15.155Z"
   },
   {
    "duration": 681,
    "start_time": "2021-09-16T12:44:15.158Z"
   },
   {
    "duration": 681,
    "start_time": "2021-09-16T12:44:15.160Z"
   },
   {
    "duration": 676,
    "start_time": "2021-09-16T12:44:15.166Z"
   },
   {
    "duration": 3,
    "start_time": "2021-09-16T12:44:34.488Z"
   },
   {
    "duration": 342,
    "start_time": "2021-09-16T12:44:39.319Z"
   },
   {
    "duration": 1920,
    "start_time": "2021-09-16T12:45:43.452Z"
   },
   {
    "duration": 98,
    "start_time": "2021-09-16T12:45:45.374Z"
   },
   {
    "duration": 15,
    "start_time": "2021-09-16T12:45:45.475Z"
   },
   {
    "duration": 295,
    "start_time": "2021-09-16T12:45:45.493Z"
   },
   {
    "duration": 22,
    "start_time": "2021-09-16T12:45:45.791Z"
   },
   {
    "duration": 11,
    "start_time": "2021-09-16T12:45:45.816Z"
   },
   {
    "duration": 1098,
    "start_time": "2021-09-16T12:45:45.829Z"
   },
   {
    "duration": 649,
    "start_time": "2021-09-16T12:45:46.931Z"
   },
   {
    "duration": 410,
    "start_time": "2021-09-16T12:45:47.582Z"
   },
   {
    "duration": 558,
    "start_time": "2021-09-16T12:45:47.994Z"
   },
   {
    "duration": 14,
    "start_time": "2021-09-16T12:45:48.554Z"
   },
   {
    "duration": 13,
    "start_time": "2021-09-16T12:45:48.570Z"
   },
   {
    "duration": 40,
    "start_time": "2021-09-16T12:45:48.585Z"
   },
   {
    "duration": 1542,
    "start_time": "2021-09-16T12:45:48.627Z"
   },
   {
    "duration": 19,
    "start_time": "2021-09-16T12:45:54.203Z"
   },
   {
    "duration": 21,
    "start_time": "2021-09-16T12:46:00.782Z"
   },
   {
    "duration": 25,
    "start_time": "2021-09-16T13:03:12.803Z"
   },
   {
    "duration": 597,
    "start_time": "2021-09-16T13:09:48.819Z"
   },
   {
    "duration": 28,
    "start_time": "2021-09-16T13:10:15.630Z"
   },
   {
    "duration": 10914,
    "start_time": "2021-09-16T13:11:38.272Z"
   },
   {
    "duration": 28,
    "start_time": "2021-09-16T13:11:56.701Z"
   },
   {
    "duration": 21,
    "start_time": "2021-09-16T13:12:35.942Z"
   },
   {
    "duration": 17,
    "start_time": "2021-09-16T13:36:27.938Z"
   },
   {
    "duration": 1447,
    "start_time": "2021-09-16T13:36:35.410Z"
   },
   {
    "duration": 22,
    "start_time": "2021-09-16T13:36:45.880Z"
   },
   {
    "duration": 22,
    "start_time": "2021-09-16T13:44:48.148Z"
   },
   {
    "duration": 1601,
    "start_time": "2021-09-16T13:44:52.694Z"
   },
   {
    "duration": 15,
    "start_time": "2021-09-16T13:47:49.695Z"
   },
   {
    "duration": 446,
    "start_time": "2021-09-16T13:51:26.137Z"
   },
   {
    "duration": 367,
    "start_time": "2021-09-16T13:52:16.575Z"
   },
   {
    "duration": 9,
    "start_time": "2021-09-16T13:52:29.819Z"
   },
   {
    "duration": 380,
    "start_time": "2021-09-16T13:53:55.757Z"
   },
   {
    "duration": 10,
    "start_time": "2021-09-16T13:54:00.602Z"
   },
   {
    "duration": 371,
    "start_time": "2021-09-16T13:54:09.996Z"
   },
   {
    "duration": 2008,
    "start_time": "2021-09-21T07:04:33.612Z"
   },
   {
    "duration": 102,
    "start_time": "2021-09-21T07:04:35.623Z"
   },
   {
    "duration": 16,
    "start_time": "2021-09-21T07:04:35.728Z"
   },
   {
    "duration": 521,
    "start_time": "2021-09-21T07:04:35.764Z"
   },
   {
    "duration": 35,
    "start_time": "2021-09-21T07:04:36.288Z"
   },
   {
    "duration": 58,
    "start_time": "2021-09-21T07:04:36.327Z"
   },
   {
    "duration": 29,
    "start_time": "2021-09-21T07:04:36.389Z"
   },
   {
    "duration": 1666,
    "start_time": "2021-09-21T07:04:36.425Z"
   },
   {
    "duration": 567,
    "start_time": "2021-09-21T07:04:38.095Z"
   },
   {
    "duration": 416,
    "start_time": "2021-09-21T07:04:38.664Z"
   },
   {
    "duration": 573,
    "start_time": "2021-09-21T07:04:39.082Z"
   },
   {
    "duration": 11,
    "start_time": "2021-09-21T07:04:39.658Z"
   },
   {
    "duration": 9,
    "start_time": "2021-09-21T07:04:39.672Z"
   },
   {
    "duration": 30,
    "start_time": "2021-09-21T07:04:39.684Z"
   },
   {
    "duration": 1319,
    "start_time": "2021-09-21T07:04:39.717Z"
   },
   {
    "duration": 580,
    "start_time": "2021-09-21T07:04:41.038Z"
   },
   {
    "duration": 10,
    "start_time": "2021-09-21T07:04:41.621Z"
   },
   {
    "duration": 11,
    "start_time": "2021-09-21T08:07:50.554Z"
   },
   {
    "duration": 683,
    "start_time": "2021-09-21T08:09:20.094Z"
   },
   {
    "duration": 10,
    "start_time": "2021-09-21T08:09:29.615Z"
   },
   {
    "duration": 428,
    "start_time": "2021-09-21T08:10:22.758Z"
   },
   {
    "duration": 990,
    "start_time": "2021-09-21T08:10:46.404Z"
   },
   {
    "duration": 595,
    "start_time": "2021-09-21T08:10:56.941Z"
   },
   {
    "duration": 29,
    "start_time": "2021-09-21T08:20:09.467Z"
   },
   {
    "duration": 78,
    "start_time": "2021-09-21T08:20:41.425Z"
   },
   {
    "duration": 24,
    "start_time": "2021-09-21T08:20:42.906Z"
   },
   {
    "duration": 107,
    "start_time": "2021-09-21T08:22:35.765Z"
   },
   {
    "duration": 28,
    "start_time": "2021-09-21T08:22:35.874Z"
   },
   {
    "duration": 86,
    "start_time": "2021-09-21T08:26:52.121Z"
   },
   {
    "duration": 26,
    "start_time": "2021-09-21T08:26:55.394Z"
   },
   {
    "duration": 96,
    "start_time": "2021-09-21T08:27:08.892Z"
   },
   {
    "duration": 31,
    "start_time": "2021-09-21T08:27:10.149Z"
   },
   {
    "duration": 512,
    "start_time": "2021-09-21T08:34:04.306Z"
   },
   {
    "duration": 153,
    "start_time": "2021-09-21T08:34:22.938Z"
   },
   {
    "duration": 129,
    "start_time": "2021-09-21T08:34:45.881Z"
   },
   {
    "duration": 128,
    "start_time": "2021-09-21T08:35:00.503Z"
   },
   {
    "duration": 601,
    "start_time": "2021-09-21T08:35:57.076Z"
   },
   {
    "duration": 979,
    "start_time": "2021-09-21T08:36:58.132Z"
   },
   {
    "duration": 205,
    "start_time": "2021-09-21T08:37:14.328Z"
   },
   {
    "duration": 146,
    "start_time": "2021-09-21T08:44:02.102Z"
   },
   {
    "duration": 136,
    "start_time": "2021-09-21T08:44:28.067Z"
   },
   {
    "duration": 151,
    "start_time": "2021-09-21T08:44:51.668Z"
   },
   {
    "duration": 121,
    "start_time": "2021-09-21T08:45:25.607Z"
   },
   {
    "duration": 23,
    "start_time": "2021-09-21T08:45:27.207Z"
   },
   {
    "duration": 158,
    "start_time": "2021-09-21T08:45:49.340Z"
   },
   {
    "duration": 42,
    "start_time": "2021-09-21T08:45:50.541Z"
   },
   {
    "duration": 152,
    "start_time": "2021-09-21T08:48:42.460Z"
   },
   {
    "duration": 23,
    "start_time": "2021-09-21T08:48:45.185Z"
   },
   {
    "duration": 226,
    "start_time": "2021-09-21T08:49:35.495Z"
   },
   {
    "duration": 23,
    "start_time": "2021-09-21T08:49:37.106Z"
   },
   {
    "duration": 173,
    "start_time": "2021-09-21T08:50:02.720Z"
   },
   {
    "duration": 167,
    "start_time": "2021-09-21T08:50:24.620Z"
   },
   {
    "duration": 35,
    "start_time": "2021-09-21T08:50:25.801Z"
   },
   {
    "duration": 143,
    "start_time": "2021-09-21T08:50:36.291Z"
   },
   {
    "duration": 147,
    "start_time": "2021-09-21T08:55:12.355Z"
   },
   {
    "duration": 7288,
    "start_time": "2021-09-21T08:55:56.967Z"
   },
   {
    "duration": 35,
    "start_time": "2021-09-21T08:56:06.320Z"
   },
   {
    "duration": 146,
    "start_time": "2021-09-21T09:19:01.655Z"
   },
   {
    "duration": 145,
    "start_time": "2021-09-21T09:19:25.083Z"
   },
   {
    "duration": 141,
    "start_time": "2021-09-21T09:19:56.835Z"
   },
   {
    "duration": 43,
    "start_time": "2021-09-21T09:20:20.306Z"
   },
   {
    "duration": 32,
    "start_time": "2021-09-21T09:20:35.109Z"
   },
   {
    "duration": 368,
    "start_time": "2021-09-21T09:24:46.636Z"
   },
   {
    "duration": 2037,
    "start_time": "2021-09-21T09:25:31.595Z"
   },
   {
    "duration": 116,
    "start_time": "2021-09-21T09:25:33.635Z"
   },
   {
    "duration": 25,
    "start_time": "2021-09-21T09:25:33.755Z"
   },
   {
    "duration": 320,
    "start_time": "2021-09-21T09:25:33.783Z"
   },
   {
    "duration": 24,
    "start_time": "2021-09-21T09:25:34.105Z"
   },
   {
    "duration": 52,
    "start_time": "2021-09-21T09:25:34.131Z"
   },
   {
    "duration": 24,
    "start_time": "2021-09-21T09:25:34.185Z"
   },
   {
    "duration": 1163,
    "start_time": "2021-09-21T09:25:34.213Z"
   },
   {
    "duration": 559,
    "start_time": "2021-09-21T09:25:35.381Z"
   },
   {
    "duration": 446,
    "start_time": "2021-09-21T09:25:35.943Z"
   },
   {
    "duration": 596,
    "start_time": "2021-09-21T09:25:36.392Z"
   },
   {
    "duration": 28,
    "start_time": "2021-09-21T09:25:36.991Z"
   },
   {
    "duration": 5,
    "start_time": "2021-09-21T09:25:37.022Z"
   },
   {
    "duration": 54,
    "start_time": "2021-09-21T09:25:37.030Z"
   },
   {
    "duration": 1523,
    "start_time": "2021-09-21T09:25:37.087Z"
   },
   {
    "duration": 573,
    "start_time": "2021-09-21T09:25:38.613Z"
   },
   {
    "duration": 4,
    "start_time": "2021-09-21T09:25:39.188Z"
   },
   {
    "duration": 624,
    "start_time": "2021-09-21T09:25:39.194Z"
   },
   {
    "duration": -50,
    "start_time": "2021-09-21T09:25:39.871Z"
   },
   {
    "duration": 442,
    "start_time": "2021-09-21T10:03:57.620Z"
   },
   {
    "duration": 399,
    "start_time": "2021-09-21T10:04:09.143Z"
   },
   {
    "duration": 118,
    "start_time": "2021-09-21T10:04:15.444Z"
   },
   {
    "duration": 24,
    "start_time": "2021-09-21T10:04:20.677Z"
   },
   {
    "duration": 9790,
    "start_time": "2021-09-21T10:36:08.855Z"
   },
   {
    "duration": 23,
    "start_time": "2021-09-21T10:36:32.971Z"
   },
   {
    "duration": 442,
    "start_time": "2021-09-21T10:36:58.492Z"
   },
   {
    "duration": 22,
    "start_time": "2021-09-21T10:37:10.351Z"
   },
   {
    "duration": 21,
    "start_time": "2021-09-21T10:38:27.259Z"
   },
   {
    "duration": 181,
    "start_time": "2021-09-21T11:11:37.978Z"
   },
   {
    "duration": 131,
    "start_time": "2021-09-21T11:12:51.925Z"
   },
   {
    "duration": 136,
    "start_time": "2021-09-21T11:14:53.963Z"
   },
   {
    "duration": 119,
    "start_time": "2021-09-21T11:27:26.902Z"
   },
   {
    "duration": 115,
    "start_time": "2021-09-21T11:29:33.831Z"
   },
   {
    "duration": 156,
    "start_time": "2021-09-21T11:30:43.353Z"
   },
   {
    "duration": 1337,
    "start_time": "2021-09-21T11:31:01.113Z"
   },
   {
    "duration": 942,
    "start_time": "2021-09-21T11:31:34.583Z"
   },
   {
    "duration": 140,
    "start_time": "2021-09-21T11:31:43.332Z"
   },
   {
    "duration": 291,
    "start_time": "2021-09-21T11:33:41.596Z"
   },
   {
    "duration": 274,
    "start_time": "2021-09-21T11:33:56.653Z"
   },
   {
    "duration": 692,
    "start_time": "2021-09-21T11:34:41.961Z"
   },
   {
    "duration": 277,
    "start_time": "2021-09-21T11:34:49.700Z"
   },
   {
    "duration": 295,
    "start_time": "2021-09-21T11:35:04.048Z"
   },
   {
    "duration": 1464,
    "start_time": "2021-09-21T11:35:34.113Z"
   },
   {
    "duration": 811,
    "start_time": "2021-09-21T11:40:19.925Z"
   },
   {
    "duration": 849,
    "start_time": "2021-09-21T11:41:45.308Z"
   },
   {
    "duration": 31,
    "start_time": "2021-09-21T11:42:23.092Z"
   },
   {
    "duration": 38,
    "start_time": "2021-09-21T11:42:28.440Z"
   },
   {
    "duration": 48,
    "start_time": "2021-09-21T11:44:13.679Z"
   },
   {
    "duration": 799,
    "start_time": "2021-09-21T11:45:38.178Z"
   },
   {
    "duration": 20,
    "start_time": "2021-09-21T11:47:12.823Z"
   },
   {
    "duration": 23,
    "start_time": "2021-09-21T11:47:59.569Z"
   },
   {
    "duration": 22,
    "start_time": "2021-09-21T11:48:35.962Z"
   },
   {
    "duration": 18,
    "start_time": "2021-09-21T11:49:07.981Z"
   },
   {
    "duration": 20,
    "start_time": "2021-09-21T11:49:31.747Z"
   },
   {
    "duration": 651,
    "start_time": "2021-09-21T11:49:47.928Z"
   },
   {
    "duration": 23,
    "start_time": "2021-09-21T11:50:10.377Z"
   },
   {
    "duration": 17,
    "start_time": "2021-09-21T11:50:58.226Z"
   },
   {
    "duration": 18,
    "start_time": "2021-09-21T11:51:16.749Z"
   },
   {
    "duration": 13,
    "start_time": "2021-09-21T11:51:33.946Z"
   },
   {
    "duration": 443,
    "start_time": "2021-09-21T11:51:40.229Z"
   },
   {
    "duration": 18,
    "start_time": "2021-09-21T11:51:45.129Z"
   },
   {
    "duration": 28,
    "start_time": "2021-09-21T11:55:28.797Z"
   },
   {
    "duration": 37,
    "start_time": "2021-09-21T11:57:12.954Z"
   },
   {
    "duration": 31,
    "start_time": "2021-09-21T11:57:41.700Z"
   },
   {
    "duration": 7,
    "start_time": "2021-09-21T11:59:37.380Z"
   },
   {
    "duration": 11,
    "start_time": "2021-09-21T11:59:49.341Z"
   },
   {
    "duration": 23,
    "start_time": "2021-09-21T12:00:26.186Z"
   },
   {
    "duration": 18,
    "start_time": "2021-09-21T12:05:55.369Z"
   },
   {
    "duration": 20,
    "start_time": "2021-09-21T12:06:08.360Z"
   },
   {
    "duration": 2297,
    "start_time": "2021-09-21T14:01:55.395Z"
   },
   {
    "duration": 99,
    "start_time": "2021-09-21T14:01:57.695Z"
   },
   {
    "duration": 15,
    "start_time": "2021-09-21T14:01:57.798Z"
   },
   {
    "duration": 331,
    "start_time": "2021-09-21T14:01:57.816Z"
   },
   {
    "duration": 30,
    "start_time": "2021-09-21T14:01:58.150Z"
   },
   {
    "duration": 31,
    "start_time": "2021-09-21T14:01:58.182Z"
   },
   {
    "duration": 50,
    "start_time": "2021-09-21T14:01:58.215Z"
   },
   {
    "duration": 1152,
    "start_time": "2021-09-21T14:01:58.270Z"
   },
   {
    "duration": 536,
    "start_time": "2021-09-21T14:01:59.426Z"
   },
   {
    "duration": 685,
    "start_time": "2021-09-21T14:01:59.965Z"
   },
   {
    "duration": 794,
    "start_time": "2021-09-21T14:02:00.652Z"
   },
   {
    "duration": 22,
    "start_time": "2021-09-21T14:02:01.449Z"
   },
   {
    "duration": 27,
    "start_time": "2021-09-21T14:02:01.474Z"
   },
   {
    "duration": 40,
    "start_time": "2021-09-21T14:02:01.504Z"
   },
   {
    "duration": 1536,
    "start_time": "2021-09-21T14:02:01.547Z"
   },
   {
    "duration": 825,
    "start_time": "2021-09-21T14:02:03.086Z"
   },
   {
    "duration": 124,
    "start_time": "2021-09-21T14:02:03.914Z"
   },
   {
    "duration": 31,
    "start_time": "2021-09-21T14:02:04.040Z"
   },
   {
    "duration": 60,
    "start_time": "2021-09-21T14:02:04.075Z"
   },
   {
    "duration": 1447,
    "start_time": "2021-09-21T14:02:04.138Z"
   },
   {
    "duration": 40,
    "start_time": "2021-09-21T14:02:05.588Z"
   },
   {
    "duration": 51,
    "start_time": "2021-09-21T14:02:05.631Z"
   },
   {
    "duration": 24,
    "start_time": "2021-09-21T14:02:05.686Z"
   },
   {
    "duration": 24,
    "start_time": "2021-09-21T14:08:09.889Z"
   },
   {
    "duration": 885,
    "start_time": "2021-09-21T14:08:16.652Z"
   },
   {
    "duration": 41,
    "start_time": "2021-09-21T14:08:28.315Z"
   },
   {
    "duration": 147,
    "start_time": "2021-09-21T14:09:01.688Z"
   },
   {
    "duration": 23,
    "start_time": "2021-09-21T14:09:05.616Z"
   },
   {
    "duration": 30,
    "start_time": "2021-09-21T14:15:35.076Z"
   },
   {
    "duration": 399,
    "start_time": "2021-09-21T14:15:57.005Z"
   },
   {
    "duration": 1380,
    "start_time": "2021-09-21T14:16:03.817Z"
   },
   {
    "duration": 598,
    "start_time": "2021-09-21T14:16:19.484Z"
   },
   {
    "duration": 71,
    "start_time": "2021-09-21T14:16:42.808Z"
   },
   {
    "duration": 624,
    "start_time": "2021-09-21T14:17:26.122Z"
   },
   {
    "duration": 17,
    "start_time": "2021-09-21T14:32:32.141Z"
   },
   {
    "duration": 33,
    "start_time": "2021-09-21T14:32:56.760Z"
   },
   {
    "duration": 18,
    "start_time": "2021-09-21T14:33:20.951Z"
   },
   {
    "duration": 23,
    "start_time": "2021-09-21T14:33:52.159Z"
   },
   {
    "duration": 124,
    "start_time": "2021-09-21T14:34:43.454Z"
   },
   {
    "duration": 34,
    "start_time": "2021-09-21T14:36:49.211Z"
   },
   {
    "duration": 19,
    "start_time": "2021-09-21T14:41:15.611Z"
   },
   {
    "duration": 12,
    "start_time": "2021-09-21T14:41:21.139Z"
   },
   {
    "duration": 24,
    "start_time": "2021-09-21T14:48:49.869Z"
   },
   {
    "duration": 16,
    "start_time": "2021-09-21T14:48:56.422Z"
   },
   {
    "duration": 33,
    "start_time": "2021-09-21T14:49:30.439Z"
   },
   {
    "duration": 14,
    "start_time": "2021-09-21T14:49:52.665Z"
   },
   {
    "duration": 15,
    "start_time": "2021-09-21T14:50:10.558Z"
   },
   {
    "duration": 16,
    "start_time": "2021-09-21T14:50:47.132Z"
   },
   {
    "duration": 15,
    "start_time": "2021-09-21T14:55:29.086Z"
   },
   {
    "duration": 40,
    "start_time": "2021-09-21T14:55:42.419Z"
   },
   {
    "duration": 523,
    "start_time": "2021-09-21T14:56:36.229Z"
   },
   {
    "duration": 2195,
    "start_time": "2021-09-21T14:56:44.574Z"
   },
   {
    "duration": 110,
    "start_time": "2021-09-21T14:56:46.772Z"
   },
   {
    "duration": 16,
    "start_time": "2021-09-21T14:56:46.885Z"
   },
   {
    "duration": 322,
    "start_time": "2021-09-21T14:56:46.904Z"
   },
   {
    "duration": 34,
    "start_time": "2021-09-21T14:56:47.228Z"
   },
   {
    "duration": 30,
    "start_time": "2021-09-21T14:56:47.264Z"
   },
   {
    "duration": 22,
    "start_time": "2021-09-21T14:56:47.296Z"
   },
   {
    "duration": 1177,
    "start_time": "2021-09-21T14:56:47.321Z"
   },
   {
    "duration": 479,
    "start_time": "2021-09-21T14:56:48.501Z"
   },
   {
    "duration": 615,
    "start_time": "2021-09-21T14:56:48.983Z"
   },
   {
    "duration": 617,
    "start_time": "2021-09-21T14:56:49.601Z"
   },
   {
    "duration": 11,
    "start_time": "2021-09-21T14:56:50.220Z"
   },
   {
    "duration": 6,
    "start_time": "2021-09-21T14:56:50.234Z"
   },
   {
    "duration": 38,
    "start_time": "2021-09-21T14:56:50.242Z"
   },
   {
    "duration": 1344,
    "start_time": "2021-09-21T14:56:50.282Z"
   },
   {
    "duration": 809,
    "start_time": "2021-09-21T14:56:51.630Z"
   },
   {
    "duration": 163,
    "start_time": "2021-09-21T14:56:52.442Z"
   },
   {
    "duration": 33,
    "start_time": "2021-09-21T14:56:52.608Z"
   },
   {
    "duration": 31,
    "start_time": "2021-09-21T14:56:52.663Z"
   },
   {
    "duration": 1795,
    "start_time": "2021-09-21T14:56:52.696Z"
   },
   {
    "duration": 31,
    "start_time": "2021-09-21T14:56:54.494Z"
   },
   {
    "duration": 55,
    "start_time": "2021-09-21T14:56:54.527Z"
   },
   {
    "duration": 31,
    "start_time": "2021-09-21T14:56:54.587Z"
   },
   {
    "duration": 43,
    "start_time": "2021-09-21T14:56:54.621Z"
   },
   {
    "duration": 28,
    "start_time": "2021-09-21T14:56:54.666Z"
   },
   {
    "duration": 63,
    "start_time": "2021-09-21T14:56:54.699Z"
   },
   {
    "duration": 9,
    "start_time": "2021-09-21T14:57:44.895Z"
   },
   {
    "duration": 9596,
    "start_time": "2021-09-21T14:58:09.192Z"
   },
   {
    "duration": 369,
    "start_time": "2021-09-21T15:04:43.639Z"
   },
   {
    "duration": 23,
    "start_time": "2021-09-21T15:05:28.701Z"
   },
   {
    "duration": 5,
    "start_time": "2021-09-21T15:05:43.386Z"
   },
   {
    "duration": 7,
    "start_time": "2021-09-21T15:05:54.682Z"
   },
   {
    "duration": 18,
    "start_time": "2021-09-21T15:06:02.173Z"
   },
   {
    "duration": 38,
    "start_time": "2021-09-21T15:06:10.833Z"
   },
   {
    "duration": 11,
    "start_time": "2021-09-21T15:07:36.370Z"
   },
   {
    "duration": 18,
    "start_time": "2021-09-21T15:08:03.459Z"
   },
   {
    "duration": 15,
    "start_time": "2021-09-21T15:08:08.912Z"
   },
   {
    "duration": 115,
    "start_time": "2021-09-21T15:09:04.742Z"
   },
   {
    "duration": 17,
    "start_time": "2021-09-21T15:09:10.437Z"
   },
   {
    "duration": 29,
    "start_time": "2021-09-21T15:09:14.692Z"
   },
   {
    "duration": 302,
    "start_time": "2021-09-21T15:10:33.824Z"
   },
   {
    "duration": 3367,
    "start_time": "2021-09-21T15:10:52.441Z"
   },
   {
    "duration": 3580,
    "start_time": "2021-09-21T15:11:11.957Z"
   },
   {
    "duration": 3795,
    "start_time": "2021-09-21T15:11:23.701Z"
   },
   {
    "duration": 676,
    "start_time": "2021-09-21T15:11:39.369Z"
   },
   {
    "duration": 505,
    "start_time": "2021-09-21T15:13:23.165Z"
   },
   {
    "duration": 466,
    "start_time": "2021-09-21T15:13:36.011Z"
   },
   {
    "duration": 1304,
    "start_time": "2021-09-22T08:13:38.920Z"
   },
   {
    "duration": 73,
    "start_time": "2021-09-22T08:13:40.226Z"
   },
   {
    "duration": 10,
    "start_time": "2021-09-22T08:13:40.301Z"
   },
   {
    "duration": 168,
    "start_time": "2021-09-22T08:13:40.312Z"
   },
   {
    "duration": 19,
    "start_time": "2021-09-22T08:13:40.482Z"
   },
   {
    "duration": 21,
    "start_time": "2021-09-22T08:13:40.503Z"
   },
   {
    "duration": 12,
    "start_time": "2021-09-22T08:13:40.525Z"
   },
   {
    "duration": 722,
    "start_time": "2021-09-22T08:13:40.539Z"
   },
   {
    "duration": 370,
    "start_time": "2021-09-22T08:13:41.264Z"
   },
   {
    "duration": 245,
    "start_time": "2021-09-22T08:13:41.636Z"
   },
   {
    "duration": 381,
    "start_time": "2021-09-22T08:13:41.882Z"
   },
   {
    "duration": 7,
    "start_time": "2021-09-22T08:13:42.265Z"
   },
   {
    "duration": 8,
    "start_time": "2021-09-22T08:13:42.273Z"
   },
   {
    "duration": 36,
    "start_time": "2021-09-22T08:13:42.282Z"
   },
   {
    "duration": 893,
    "start_time": "2021-09-22T08:13:42.319Z"
   },
   {
    "duration": 354,
    "start_time": "2021-09-22T08:13:43.214Z"
   },
   {
    "duration": 74,
    "start_time": "2021-09-22T08:13:43.570Z"
   },
   {
    "duration": 15,
    "start_time": "2021-09-22T08:13:43.645Z"
   },
   {
    "duration": 40,
    "start_time": "2021-09-22T08:13:43.662Z"
   },
   {
    "duration": 1169,
    "start_time": "2021-09-22T08:13:43.704Z"
   },
   {
    "duration": 19,
    "start_time": "2021-09-22T08:13:44.875Z"
   },
   {
    "duration": 24,
    "start_time": "2021-09-22T08:13:44.896Z"
   },
   {
    "duration": 17,
    "start_time": "2021-09-22T08:13:44.923Z"
   },
   {
    "duration": 10,
    "start_time": "2021-09-22T08:13:44.942Z"
   },
   {
    "duration": 10,
    "start_time": "2021-09-22T08:13:44.954Z"
   },
   {
    "duration": 281,
    "start_time": "2021-09-22T08:13:44.966Z"
   },
   {
    "duration": 65,
    "start_time": "2021-09-22T08:56:45.744Z"
   },
   {
    "duration": 1317,
    "start_time": "2021-09-22T09:12:26.305Z"
   },
   {
    "duration": 76,
    "start_time": "2021-09-22T09:12:27.624Z"
   },
   {
    "duration": 12,
    "start_time": "2021-09-22T09:12:27.702Z"
   },
   {
    "duration": 187,
    "start_time": "2021-09-22T09:12:27.716Z"
   },
   {
    "duration": 18,
    "start_time": "2021-09-22T09:12:27.905Z"
   },
   {
    "duration": 20,
    "start_time": "2021-09-22T09:12:27.925Z"
   },
   {
    "duration": 15,
    "start_time": "2021-09-22T09:12:27.947Z"
   },
   {
    "duration": 723,
    "start_time": "2021-09-22T09:12:27.964Z"
   },
   {
    "duration": 326,
    "start_time": "2021-09-22T09:12:28.689Z"
   },
   {
    "duration": 231,
    "start_time": "2021-09-22T09:12:29.017Z"
   },
   {
    "duration": 358,
    "start_time": "2021-09-22T09:12:29.250Z"
   },
   {
    "duration": 7,
    "start_time": "2021-09-22T09:12:29.609Z"
   },
   {
    "duration": 4,
    "start_time": "2021-09-22T09:12:29.618Z"
   },
   {
    "duration": 15,
    "start_time": "2021-09-22T09:12:29.624Z"
   },
   {
    "duration": 867,
    "start_time": "2021-09-22T09:12:29.640Z"
   },
   {
    "duration": 354,
    "start_time": "2021-09-22T09:12:30.508Z"
   },
   {
    "duration": 69,
    "start_time": "2021-09-22T09:12:30.864Z"
   },
   {
    "duration": 15,
    "start_time": "2021-09-22T09:12:30.935Z"
   },
   {
    "duration": 18,
    "start_time": "2021-09-22T09:12:30.951Z"
   },
   {
    "duration": 1377,
    "start_time": "2021-09-22T09:12:30.970Z"
   },
   {
    "duration": 18,
    "start_time": "2021-09-22T09:12:32.348Z"
   },
   {
    "duration": 23,
    "start_time": "2021-09-22T09:12:32.367Z"
   },
   {
    "duration": 16,
    "start_time": "2021-09-22T09:12:32.392Z"
   },
   {
    "duration": 9,
    "start_time": "2021-09-22T09:12:32.410Z"
   },
   {
    "duration": 12,
    "start_time": "2021-09-22T09:12:32.420Z"
   },
   {
    "duration": 268,
    "start_time": "2021-09-22T09:12:32.433Z"
   },
   {
    "duration": 8,
    "start_time": "2021-09-22T09:57:45.731Z"
   },
   {
    "duration": 298,
    "start_time": "2021-09-22T10:00:01.342Z"
   },
   {
    "duration": 389,
    "start_time": "2021-09-22T10:00:57.897Z"
   },
   {
    "duration": 215,
    "start_time": "2021-09-22T10:01:35.211Z"
   },
   {
    "duration": 187,
    "start_time": "2021-09-22T10:01:52.288Z"
   },
   {
    "duration": 188,
    "start_time": "2021-09-22T10:02:59.861Z"
   },
   {
    "duration": 173,
    "start_time": "2021-09-22T10:03:16.385Z"
   },
   {
    "duration": 176,
    "start_time": "2021-09-22T10:03:55.814Z"
   },
   {
    "duration": 195,
    "start_time": "2021-09-22T10:04:11.195Z"
   },
   {
    "duration": 328,
    "start_time": "2021-09-22T10:04:35.667Z"
   },
   {
    "duration": 4,
    "start_time": "2021-09-22T10:05:02.211Z"
   },
   {
    "duration": 4,
    "start_time": "2021-09-22T10:05:34.879Z"
   },
   {
    "duration": 1341,
    "start_time": "2021-09-22T10:06:47.457Z"
   },
   {
    "duration": 71,
    "start_time": "2021-09-22T10:06:48.800Z"
   },
   {
    "duration": 6,
    "start_time": "2021-09-22T10:06:48.873Z"
   },
   {
    "duration": 19,
    "start_time": "2021-09-22T10:06:48.880Z"
   },
   {
    "duration": 158,
    "start_time": "2021-09-22T10:06:48.901Z"
   },
   {
    "duration": 26,
    "start_time": "2021-09-22T10:06:49.061Z"
   },
   {
    "duration": 28,
    "start_time": "2021-09-22T10:06:49.088Z"
   },
   {
    "duration": 11,
    "start_time": "2021-09-22T10:06:49.118Z"
   },
   {
    "duration": 716,
    "start_time": "2021-09-22T10:06:49.132Z"
   },
   {
    "duration": 385,
    "start_time": "2021-09-22T10:06:49.850Z"
   },
   {
    "duration": 237,
    "start_time": "2021-09-22T10:06:50.236Z"
   },
   {
    "duration": 452,
    "start_time": "2021-09-22T10:06:50.475Z"
   },
   {
    "duration": 8,
    "start_time": "2021-09-22T10:06:50.928Z"
   },
   {
    "duration": 3,
    "start_time": "2021-09-22T10:06:50.937Z"
   },
   {
    "duration": 65,
    "start_time": "2021-09-22T10:06:50.942Z"
   },
   {
    "duration": 902,
    "start_time": "2021-09-22T10:06:51.008Z"
   },
   {
    "duration": 352,
    "start_time": "2021-09-22T10:06:51.911Z"
   },
   {
    "duration": 68,
    "start_time": "2021-09-22T10:06:52.264Z"
   },
   {
    "duration": 14,
    "start_time": "2021-09-22T10:06:52.334Z"
   },
   {
    "duration": 16,
    "start_time": "2021-09-22T10:06:52.350Z"
   },
   {
    "duration": 1350,
    "start_time": "2021-09-22T10:06:52.367Z"
   },
   {
    "duration": 17,
    "start_time": "2021-09-22T10:06:53.719Z"
   },
   {
    "duration": 24,
    "start_time": "2021-09-22T10:06:53.739Z"
   },
   {
    "duration": 37,
    "start_time": "2021-09-22T10:06:53.764Z"
   },
   {
    "duration": 10,
    "start_time": "2021-09-22T10:06:53.802Z"
   },
   {
    "duration": 10,
    "start_time": "2021-09-22T10:06:53.813Z"
   },
   {
    "duration": 280,
    "start_time": "2021-09-22T10:06:53.825Z"
   },
   {
    "duration": 36,
    "start_time": "2021-09-22T10:13:54.216Z"
   },
   {
    "duration": 29,
    "start_time": "2021-09-22T10:14:09.254Z"
   },
   {
    "duration": 30,
    "start_time": "2021-09-22T10:14:14.558Z"
   },
   {
    "duration": 18,
    "start_time": "2021-09-22T10:14:26.967Z"
   },
   {
    "duration": 14,
    "start_time": "2021-09-22T10:14:34.212Z"
   },
   {
    "duration": 29,
    "start_time": "2021-09-22T10:15:12.060Z"
   },
   {
    "duration": 13,
    "start_time": "2021-09-22T10:15:13.224Z"
   },
   {
    "duration": 16,
    "start_time": "2021-09-22T10:16:02.377Z"
   },
   {
    "duration": 19,
    "start_time": "2021-09-22T10:16:03.231Z"
   },
   {
    "duration": 1288,
    "start_time": "2021-09-22T10:16:22.133Z"
   },
   {
    "duration": 70,
    "start_time": "2021-09-22T10:16:23.423Z"
   },
   {
    "duration": 6,
    "start_time": "2021-09-22T10:16:23.496Z"
   },
   {
    "duration": 13,
    "start_time": "2021-09-22T10:16:23.504Z"
   },
   {
    "duration": 175,
    "start_time": "2021-09-22T10:16:23.518Z"
   },
   {
    "duration": 17,
    "start_time": "2021-09-22T10:16:23.699Z"
   },
   {
    "duration": 12,
    "start_time": "2021-09-22T10:16:23.717Z"
   },
   {
    "duration": 8,
    "start_time": "2021-09-22T10:16:23.732Z"
   },
   {
    "duration": 21,
    "start_time": "2021-09-22T10:16:23.742Z"
   },
   {
    "duration": 36,
    "start_time": "2021-09-22T10:16:23.764Z"
   },
   {
    "duration": 704,
    "start_time": "2021-09-22T10:16:23.802Z"
   },
   {
    "duration": 344,
    "start_time": "2021-09-22T10:16:24.507Z"
   },
   {
    "duration": 248,
    "start_time": "2021-09-22T10:16:24.852Z"
   },
   {
    "duration": 378,
    "start_time": "2021-09-22T10:16:25.101Z"
   },
   {
    "duration": 8,
    "start_time": "2021-09-22T10:16:25.480Z"
   },
   {
    "duration": 20,
    "start_time": "2021-09-22T10:16:25.489Z"
   },
   {
    "duration": 30,
    "start_time": "2021-09-22T10:16:25.510Z"
   },
   {
    "duration": 989,
    "start_time": "2021-09-22T10:16:25.541Z"
   },
   {
    "duration": 549,
    "start_time": "2021-09-22T10:16:26.532Z"
   },
   {
    "duration": 66,
    "start_time": "2021-09-22T10:16:27.083Z"
   },
   {
    "duration": 18,
    "start_time": "2021-09-22T10:16:27.151Z"
   },
   {
    "duration": 25,
    "start_time": "2021-09-22T10:16:27.170Z"
   },
   {
    "duration": 1099,
    "start_time": "2021-09-22T10:16:27.201Z"
   },
   {
    "duration": 18,
    "start_time": "2021-09-22T10:16:28.302Z"
   },
   {
    "duration": 40,
    "start_time": "2021-09-22T10:16:28.321Z"
   },
   {
    "duration": 34,
    "start_time": "2021-09-22T10:16:28.363Z"
   },
   {
    "duration": 57,
    "start_time": "2021-09-22T10:16:28.399Z"
   },
   {
    "duration": 41,
    "start_time": "2021-09-22T10:16:28.457Z"
   },
   {
    "duration": 308,
    "start_time": "2021-09-22T10:16:28.500Z"
   },
   {
    "duration": 20,
    "start_time": "2021-09-22T10:16:46.639Z"
   },
   {
    "duration": 17,
    "start_time": "2021-09-22T10:19:23.237Z"
   },
   {
    "duration": 21,
    "start_time": "2021-09-22T10:20:04.627Z"
   },
   {
    "duration": 14,
    "start_time": "2021-09-22T10:20:06.004Z"
   },
   {
    "duration": 16,
    "start_time": "2021-09-22T10:20:10.173Z"
   },
   {
    "duration": 16,
    "start_time": "2021-09-22T10:20:11.167Z"
   },
   {
    "duration": 14,
    "start_time": "2021-09-22T10:20:12.086Z"
   },
   {
    "duration": 17,
    "start_time": "2021-09-22T10:20:24.164Z"
   },
   {
    "duration": 14,
    "start_time": "2021-09-22T10:22:03.374Z"
   },
   {
    "duration": 15,
    "start_time": "2021-09-22T10:22:23.669Z"
   },
   {
    "duration": 1297,
    "start_time": "2021-09-22T10:22:38.919Z"
   },
   {
    "duration": 71,
    "start_time": "2021-09-22T10:22:40.218Z"
   },
   {
    "duration": 6,
    "start_time": "2021-09-22T10:22:40.291Z"
   },
   {
    "duration": 13,
    "start_time": "2021-09-22T10:22:40.299Z"
   },
   {
    "duration": 158,
    "start_time": "2021-09-22T10:22:40.314Z"
   },
   {
    "duration": 17,
    "start_time": "2021-09-22T10:22:40.474Z"
   },
   {
    "duration": 17,
    "start_time": "2021-09-22T10:22:40.492Z"
   },
   {
    "duration": 9,
    "start_time": "2021-09-22T10:22:40.511Z"
   },
   {
    "duration": 21,
    "start_time": "2021-09-22T10:22:40.521Z"
   },
   {
    "duration": 12,
    "start_time": "2021-09-22T10:22:40.543Z"
   },
   {
    "duration": 729,
    "start_time": "2021-09-22T10:22:40.556Z"
   },
   {
    "duration": 337,
    "start_time": "2021-09-22T10:22:41.287Z"
   },
   {
    "duration": 238,
    "start_time": "2021-09-22T10:22:41.625Z"
   },
   {
    "duration": 376,
    "start_time": "2021-09-22T10:22:41.864Z"
   },
   {
    "duration": 8,
    "start_time": "2021-09-22T10:22:42.242Z"
   },
   {
    "duration": 11,
    "start_time": "2021-09-22T10:22:42.251Z"
   },
   {
    "duration": 17,
    "start_time": "2021-09-22T10:22:42.264Z"
   },
   {
    "duration": 835,
    "start_time": "2021-09-22T10:22:42.282Z"
   },
   {
    "duration": 350,
    "start_time": "2021-09-22T10:22:43.118Z"
   },
   {
    "duration": 66,
    "start_time": "2021-09-22T10:22:43.470Z"
   },
   {
    "duration": 14,
    "start_time": "2021-09-22T10:22:43.537Z"
   },
   {
    "duration": 14,
    "start_time": "2021-09-22T10:22:43.552Z"
   },
   {
    "duration": 1351,
    "start_time": "2021-09-22T10:22:43.569Z"
   },
   {
    "duration": 17,
    "start_time": "2021-09-22T10:22:44.922Z"
   },
   {
    "duration": 23,
    "start_time": "2021-09-22T10:22:44.941Z"
   },
   {
    "duration": 34,
    "start_time": "2021-09-22T10:22:44.965Z"
   },
   {
    "duration": 11,
    "start_time": "2021-09-22T10:22:45.004Z"
   },
   {
    "duration": 12,
    "start_time": "2021-09-22T10:22:45.016Z"
   },
   {
    "duration": 264,
    "start_time": "2021-09-22T10:22:45.030Z"
   },
   {
    "duration": 27,
    "start_time": "2021-09-22T10:23:36.108Z"
   },
   {
    "duration": 22,
    "start_time": "2021-09-22T10:24:25.198Z"
   },
   {
    "duration": 14,
    "start_time": "2021-09-22T10:24:27.057Z"
   },
   {
    "duration": 14,
    "start_time": "2021-09-22T10:24:31.976Z"
   },
   {
    "duration": 1492,
    "start_time": "2021-09-23T04:41:23.585Z"
   },
   {
    "duration": 77,
    "start_time": "2021-09-23T04:41:25.079Z"
   },
   {
    "duration": 7,
    "start_time": "2021-09-23T04:41:25.158Z"
   },
   {
    "duration": 16,
    "start_time": "2021-09-23T04:41:25.167Z"
   },
   {
    "duration": 177,
    "start_time": "2021-09-23T04:41:25.185Z"
   },
   {
    "duration": 21,
    "start_time": "2021-09-23T04:41:25.364Z"
   },
   {
    "duration": 740,
    "start_time": "2021-09-23T04:41:25.387Z"
   },
   {
    "duration": 350,
    "start_time": "2021-09-23T04:41:26.130Z"
   },
   {
    "duration": 252,
    "start_time": "2021-09-23T04:41:26.483Z"
   },
   {
    "duration": 406,
    "start_time": "2021-09-23T04:41:26.737Z"
   },
   {
    "duration": 10,
    "start_time": "2021-09-23T04:41:27.145Z"
   },
   {
    "duration": 3,
    "start_time": "2021-09-23T04:41:27.157Z"
   },
   {
    "duration": 22,
    "start_time": "2021-09-23T04:41:27.177Z"
   },
   {
    "duration": 864,
    "start_time": "2021-09-23T04:41:27.200Z"
   },
   {
    "duration": 379,
    "start_time": "2021-09-23T04:41:28.066Z"
   },
   {
    "duration": 75,
    "start_time": "2021-09-23T04:41:28.447Z"
   },
   {
    "duration": 16,
    "start_time": "2021-09-23T04:41:28.523Z"
   },
   {
    "duration": 37,
    "start_time": "2021-09-23T04:41:28.541Z"
   },
   {
    "duration": 1284,
    "start_time": "2021-09-23T04:41:28.580Z"
   },
   {
    "duration": 20,
    "start_time": "2021-09-23T04:41:29.866Z"
   },
   {
    "duration": 23,
    "start_time": "2021-09-23T04:41:29.888Z"
   },
   {
    "duration": 19,
    "start_time": "2021-09-23T04:41:29.913Z"
   },
   {
    "duration": 11,
    "start_time": "2021-09-23T04:41:29.935Z"
   },
   {
    "duration": 30,
    "start_time": "2021-09-23T04:41:29.947Z"
   },
   {
    "duration": 274,
    "start_time": "2021-09-23T04:41:29.979Z"
   },
   {
    "duration": 397,
    "start_time": "2021-09-23T09:01:00.601Z"
   },
   {
    "duration": 494,
    "start_time": "2021-09-23T09:11:11.660Z"
   },
   {
    "duration": 239,
    "start_time": "2021-09-23T09:16:59.646Z"
   },
   {
    "duration": 242,
    "start_time": "2021-09-23T09:39:08.559Z"
   },
   {
    "duration": 414,
    "start_time": "2021-09-23T14:02:03.058Z"
   },
   {
    "duration": 7,
    "start_time": "2021-09-23T14:02:28.468Z"
   },
   {
    "duration": 22,
    "start_time": "2021-09-23T14:03:10.424Z"
   },
   {
    "duration": 18,
    "start_time": "2021-09-23T14:03:46.476Z"
   },
   {
    "duration": 36,
    "start_time": "2021-09-23T14:05:23.182Z"
   },
   {
    "duration": 1504,
    "start_time": "2021-09-23T14:05:38.872Z"
   },
   {
    "duration": 76,
    "start_time": "2021-09-23T14:05:40.378Z"
   },
   {
    "duration": 6,
    "start_time": "2021-09-23T14:05:40.456Z"
   },
   {
    "duration": 20,
    "start_time": "2021-09-23T14:05:40.464Z"
   },
   {
    "duration": 177,
    "start_time": "2021-09-23T14:05:40.486Z"
   },
   {
    "duration": 31,
    "start_time": "2021-09-23T14:05:40.665Z"
   },
   {
    "duration": 744,
    "start_time": "2021-09-23T14:05:40.698Z"
   },
   {
    "duration": 96,
    "start_time": "2021-09-23T14:05:41.445Z"
   },
   {
    "duration": -2446,
    "start_time": "2021-09-23T14:05:43.990Z"
   },
   {
    "duration": -2457,
    "start_time": "2021-09-23T14:05:44.001Z"
   },
   {
    "duration": -2459,
    "start_time": "2021-09-23T14:05:44.004Z"
   },
   {
    "duration": -2461,
    "start_time": "2021-09-23T14:05:44.007Z"
   },
   {
    "duration": -2471,
    "start_time": "2021-09-23T14:05:44.018Z"
   },
   {
    "duration": -2475,
    "start_time": "2021-09-23T14:05:44.023Z"
   },
   {
    "duration": -2483,
    "start_time": "2021-09-23T14:05:44.032Z"
   },
   {
    "duration": -2489,
    "start_time": "2021-09-23T14:05:44.039Z"
   },
   {
    "duration": -2499,
    "start_time": "2021-09-23T14:05:44.050Z"
   },
   {
    "duration": -2477,
    "start_time": "2021-09-23T14:05:44.052Z"
   },
   {
    "duration": -2480,
    "start_time": "2021-09-23T14:05:44.057Z"
   },
   {
    "duration": -2489,
    "start_time": "2021-09-23T14:05:44.067Z"
   },
   {
    "duration": -2492,
    "start_time": "2021-09-23T14:05:44.071Z"
   },
   {
    "duration": -2494,
    "start_time": "2021-09-23T14:05:44.074Z"
   },
   {
    "duration": -2502,
    "start_time": "2021-09-23T14:05:44.083Z"
   },
   {
    "duration": -2505,
    "start_time": "2021-09-23T14:05:44.087Z"
   },
   {
    "duration": -2507,
    "start_time": "2021-09-23T14:05:44.090Z"
   },
   {
    "duration": -2516,
    "start_time": "2021-09-23T14:05:44.100Z"
   },
   {
    "duration": -2517,
    "start_time": "2021-09-23T14:05:44.102Z"
   },
   {
    "duration": 266,
    "start_time": "2021-09-23T14:20:40.762Z"
   },
   {
    "duration": 252,
    "start_time": "2021-09-23T14:20:52.531Z"
   },
   {
    "duration": 386,
    "start_time": "2021-09-23T15:07:19.583Z"
   },
   {
    "duration": 8,
    "start_time": "2021-09-23T15:07:41.420Z"
   },
   {
    "duration": 3,
    "start_time": "2021-09-23T15:07:41.822Z"
   },
   {
    "duration": 16,
    "start_time": "2021-09-23T15:07:42.218Z"
   },
   {
    "duration": 816,
    "start_time": "2021-09-23T15:07:43.577Z"
   },
   {
    "duration": 380,
    "start_time": "2021-09-23T15:07:44.805Z"
   },
   {
    "duration": 18,
    "start_time": "2021-09-23T15:08:53.923Z"
   },
   {
    "duration": 1012,
    "start_time": "2021-09-23T15:08:56.738Z"
   },
   {
    "duration": 440,
    "start_time": "2021-09-23T15:12:28.824Z"
   },
   {
    "duration": 304,
    "start_time": "2021-09-23T15:14:27.905Z"
   },
   {
    "duration": 284,
    "start_time": "2021-09-23T15:19:00.803Z"
   },
   {
    "duration": 360,
    "start_time": "2021-09-23T15:21:21.122Z"
   },
   {
    "duration": 90,
    "start_time": "2021-09-23T15:21:29.923Z"
   },
   {
    "duration": 109,
    "start_time": "2021-09-23T15:22:08.469Z"
   },
   {
    "duration": 108,
    "start_time": "2021-09-23T15:22:13.399Z"
   },
   {
    "duration": 107,
    "start_time": "2021-09-23T15:23:27.521Z"
   },
   {
    "duration": 139,
    "start_time": "2021-09-23T15:23:43.367Z"
   },
   {
    "duration": 542,
    "start_time": "2021-09-23T15:24:06.396Z"
   },
   {
    "duration": 1116,
    "start_time": "2021-09-23T15:24:17.283Z"
   },
   {
    "duration": 332,
    "start_time": "2021-09-23T15:26:13.863Z"
   },
   {
    "duration": 247,
    "start_time": "2021-09-23T15:26:21.417Z"
   },
   {
    "duration": 182,
    "start_time": "2021-09-23T15:26:26.137Z"
   },
   {
    "duration": 610,
    "start_time": "2021-09-23T15:27:14.744Z"
   },
   {
    "duration": 181,
    "start_time": "2021-09-23T15:28:51.564Z"
   },
   {
    "duration": 180,
    "start_time": "2021-09-23T15:28:59.588Z"
   },
   {
    "duration": 2634,
    "start_time": "2021-09-23T15:29:12.442Z"
   },
   {
    "duration": 193,
    "start_time": "2021-09-23T15:29:18.800Z"
   },
   {
    "duration": 183,
    "start_time": "2021-09-23T15:31:44.918Z"
   },
   {
    "duration": 313,
    "start_time": "2021-09-23T15:31:50.178Z"
   },
   {
    "duration": 146,
    "start_time": "2021-09-23T15:32:15.947Z"
   },
   {
    "duration": 147,
    "start_time": "2021-09-23T15:32:20.836Z"
   },
   {
    "duration": 13,
    "start_time": "2021-09-23T15:36:06.254Z"
   },
   {
    "duration": 238,
    "start_time": "2021-09-23T15:36:34.733Z"
   },
   {
    "duration": 401,
    "start_time": "2021-09-23T15:39:11.431Z"
   },
   {
    "duration": 1106,
    "start_time": "2021-09-23T16:08:02.889Z"
   },
   {
    "duration": 898,
    "start_time": "2021-09-23T16:08:17.671Z"
   },
   {
    "duration": 96,
    "start_time": "2021-09-23T16:11:04.169Z"
   },
   {
    "duration": 1263,
    "start_time": "2021-09-23T16:11:10.429Z"
   },
   {
    "duration": 8,
    "start_time": "2021-09-23T16:12:26.103Z"
   },
   {
    "duration": 92,
    "start_time": "2021-09-23T16:12:55.661Z"
   },
   {
    "duration": 1148,
    "start_time": "2021-09-23T16:13:02.820Z"
   },
   {
    "duration": 903,
    "start_time": "2021-09-23T16:13:14.651Z"
   },
   {
    "duration": 953,
    "start_time": "2021-09-23T16:15:12.544Z"
   },
   {
    "duration": 980,
    "start_time": "2021-09-23T16:15:31.537Z"
   },
   {
    "duration": 847,
    "start_time": "2021-09-23T16:17:59.792Z"
   },
   {
    "duration": 103,
    "start_time": "2021-09-23T16:18:32.184Z"
   },
   {
    "duration": 90,
    "start_time": "2021-09-23T16:18:47.306Z"
   },
   {
    "duration": 822,
    "start_time": "2021-09-23T16:18:57.042Z"
   },
   {
    "duration": 783,
    "start_time": "2021-09-23T16:20:02.683Z"
   },
   {
    "duration": 875,
    "start_time": "2021-09-23T16:20:08.446Z"
   },
   {
    "duration": 884,
    "start_time": "2021-09-23T16:20:16.478Z"
   },
   {
    "duration": 1230,
    "start_time": "2021-09-23T16:21:27.697Z"
   },
   {
    "duration": 1196,
    "start_time": "2021-09-23T16:22:32.107Z"
   },
   {
    "duration": 888,
    "start_time": "2021-09-23T16:24:09.720Z"
   },
   {
    "duration": 1180,
    "start_time": "2021-09-23T16:24:21.284Z"
   },
   {
    "duration": 865,
    "start_time": "2021-09-23T16:25:47.844Z"
   },
   {
    "duration": 918,
    "start_time": "2021-09-23T16:26:29.429Z"
   },
   {
    "duration": 430,
    "start_time": "2021-09-23T16:33:41.755Z"
   },
   {
    "duration": 1867,
    "start_time": "2021-09-24T08:39:08.506Z"
   },
   {
    "duration": 107,
    "start_time": "2021-09-24T08:39:10.376Z"
   },
   {
    "duration": 9,
    "start_time": "2021-09-24T08:39:10.487Z"
   },
   {
    "duration": 15,
    "start_time": "2021-09-24T08:39:10.499Z"
   },
   {
    "duration": 306,
    "start_time": "2021-09-24T08:39:10.516Z"
   },
   {
    "duration": 46,
    "start_time": "2021-09-24T08:39:10.825Z"
   },
   {
    "duration": 1048,
    "start_time": "2021-09-24T08:39:10.873Z"
   },
   {
    "duration": 372,
    "start_time": "2021-09-24T08:39:11.926Z"
   },
   {
    "duration": 413,
    "start_time": "2021-09-24T08:39:12.302Z"
   },
   {
    "duration": 556,
    "start_time": "2021-09-24T08:39:12.718Z"
   },
   {
    "duration": 398,
    "start_time": "2021-09-24T08:39:13.277Z"
   },
   {
    "duration": 1463,
    "start_time": "2021-09-24T08:39:13.678Z"
   },
   {
    "duration": 561,
    "start_time": "2021-09-24T08:39:15.144Z"
   },
   {
    "duration": 121,
    "start_time": "2021-09-24T08:39:15.708Z"
   },
   {
    "duration": 37,
    "start_time": "2021-09-24T08:39:15.832Z"
   },
   {
    "duration": 25,
    "start_time": "2021-09-24T08:39:15.872Z"
   },
   {
    "duration": 1205,
    "start_time": "2021-09-24T08:39:15.901Z"
   },
   {
    "duration": 28,
    "start_time": "2021-09-24T08:39:17.108Z"
   },
   {
    "duration": 38,
    "start_time": "2021-09-24T08:39:17.138Z"
   },
   {
    "duration": 24,
    "start_time": "2021-09-24T08:39:17.178Z"
   },
   {
    "duration": 15,
    "start_time": "2021-09-24T08:39:17.204Z"
   },
   {
    "duration": 46,
    "start_time": "2021-09-24T08:39:17.221Z"
   },
   {
    "duration": 444,
    "start_time": "2021-09-24T08:39:17.273Z"
   },
   {
    "duration": 388,
    "start_time": "2021-09-24T10:07:53.076Z"
   },
   {
    "duration": 136,
    "start_time": "2021-09-24T10:21:07.175Z"
   },
   {
    "duration": 32,
    "start_time": "2021-09-24T10:23:06.533Z"
   },
   {
    "duration": 1958,
    "start_time": "2021-09-24T10:23:27.762Z"
   },
   {
    "duration": 100,
    "start_time": "2021-09-24T10:23:29.723Z"
   },
   {
    "duration": 8,
    "start_time": "2021-09-24T10:23:29.827Z"
   },
   {
    "duration": 44,
    "start_time": "2021-09-24T10:23:29.838Z"
   },
   {
    "duration": 316,
    "start_time": "2021-09-24T10:23:29.884Z"
   },
   {
    "duration": 39,
    "start_time": "2021-09-24T10:23:30.205Z"
   },
   {
    "duration": 1107,
    "start_time": "2021-09-24T10:23:30.261Z"
   },
   {
    "duration": 404,
    "start_time": "2021-09-24T10:23:31.373Z"
   },
   {
    "duration": 412,
    "start_time": "2021-09-24T10:23:31.780Z"
   },
   {
    "duration": 578,
    "start_time": "2021-09-24T10:23:32.194Z"
   },
   {
    "duration": 401,
    "start_time": "2021-09-24T10:23:32.774Z"
   },
   {
    "duration": 1551,
    "start_time": "2021-09-24T10:23:33.178Z"
   },
   {
    "duration": 606,
    "start_time": "2021-09-24T10:23:34.731Z"
   },
   {
    "duration": 132,
    "start_time": "2021-09-24T10:23:35.341Z"
   },
   {
    "duration": 24,
    "start_time": "2021-09-24T10:23:35.477Z"
   },
   {
    "duration": 1518,
    "start_time": "2021-09-24T10:23:35.503Z"
   },
   {
    "duration": 30,
    "start_time": "2021-09-24T10:23:37.024Z"
   },
   {
    "duration": 39,
    "start_time": "2021-09-24T10:23:37.057Z"
   },
   {
    "duration": 25,
    "start_time": "2021-09-24T10:23:37.099Z"
   },
   {
    "duration": 44,
    "start_time": "2021-09-24T10:23:37.126Z"
   },
   {
    "duration": 12691,
    "start_time": "2021-09-24T10:23:37.173Z"
   },
   {
    "duration": -31,
    "start_time": "2021-09-24T10:23:49.898Z"
   },
   {
    "duration": 1279,
    "start_time": "2021-09-24T11:18:55.494Z"
   },
   {
    "duration": 85,
    "start_time": "2021-09-24T11:19:49.933Z"
   },
   {
    "duration": 481,
    "start_time": "2021-09-24T11:19:56.825Z"
   },
   {
    "duration": 631,
    "start_time": "2021-09-24T11:20:17.897Z"
   },
   {
    "duration": 386,
    "start_time": "2021-09-24T11:20:25.515Z"
   },
   {
    "duration": 67,
    "start_time": "2021-09-24T11:21:43.307Z"
   },
   {
    "duration": 130,
    "start_time": "2021-09-24T11:54:34.903Z"
   },
   {
    "duration": 120,
    "start_time": "2021-09-24T11:54:55.991Z"
   },
   {
    "duration": 120,
    "start_time": "2021-09-24T11:55:02.931Z"
   },
   {
    "duration": 126,
    "start_time": "2021-09-24T11:55:16.024Z"
   },
   {
    "duration": 117,
    "start_time": "2021-09-24T11:55:48.402Z"
   },
   {
    "duration": 17,
    "start_time": "2021-09-24T12:00:10.059Z"
   },
   {
    "duration": 9948,
    "start_time": "2021-09-24T12:00:17.646Z"
   },
   {
    "duration": 2087,
    "start_time": "2021-09-24T12:24:11.268Z"
   },
   {
    "duration": 95,
    "start_time": "2021-09-24T12:24:13.358Z"
   },
   {
    "duration": 11,
    "start_time": "2021-09-24T12:24:13.462Z"
   },
   {
    "duration": 26,
    "start_time": "2021-09-24T12:24:13.477Z"
   },
   {
    "duration": 288,
    "start_time": "2021-09-24T12:24:13.505Z"
   },
   {
    "duration": 42,
    "start_time": "2021-09-24T12:24:13.796Z"
   },
   {
    "duration": 1066,
    "start_time": "2021-09-24T12:24:13.840Z"
   },
   {
    "duration": 371,
    "start_time": "2021-09-24T12:24:14.911Z"
   },
   {
    "duration": 410,
    "start_time": "2021-09-24T12:24:15.285Z"
   },
   {
    "duration": 568,
    "start_time": "2021-09-24T12:24:15.698Z"
   },
   {
    "duration": 397,
    "start_time": "2021-09-24T12:24:16.268Z"
   },
   {
    "duration": 1424,
    "start_time": "2021-09-24T12:24:16.667Z"
   },
   {
    "duration": 543,
    "start_time": "2021-09-24T12:24:18.093Z"
   },
   {
    "duration": 126,
    "start_time": "2021-09-24T12:24:18.638Z"
   },
   {
    "duration": 21,
    "start_time": "2021-09-24T12:24:18.767Z"
   },
   {
    "duration": 1309,
    "start_time": "2021-09-24T12:24:18.790Z"
   },
   {
    "duration": 31,
    "start_time": "2021-09-24T12:24:20.101Z"
   },
   {
    "duration": 36,
    "start_time": "2021-09-24T12:24:20.135Z"
   },
   {
    "duration": 26,
    "start_time": "2021-09-24T12:24:20.174Z"
   },
   {
    "duration": 15,
    "start_time": "2021-09-24T12:24:20.202Z"
   },
   {
    "duration": 11191,
    "start_time": "2021-09-24T12:24:20.220Z"
   },
   {
    "duration": -121,
    "start_time": "2021-09-24T12:24:31.535Z"
   },
   {
    "duration": 15,
    "start_time": "2021-09-24T12:25:12.648Z"
   },
   {
    "duration": 28,
    "start_time": "2021-09-24T12:26:43.856Z"
   },
   {
    "duration": 16,
    "start_time": "2021-09-24T12:28:00.500Z"
   },
   {
    "duration": 41,
    "start_time": "2021-09-24T12:28:00.519Z"
   },
   {
    "duration": 432,
    "start_time": "2021-09-24T12:28:37.683Z"
   },
   {
    "duration": 544,
    "start_time": "2021-09-24T12:29:23.140Z"
   },
   {
    "duration": 2067,
    "start_time": "2021-09-24T12:34:42.748Z"
   },
   {
    "duration": 526,
    "start_time": "2021-09-24T12:35:02.013Z"
   },
   {
    "duration": 905,
    "start_time": "2021-09-24T12:41:25.819Z"
   },
   {
    "duration": 1027,
    "start_time": "2021-09-24T12:41:42.092Z"
   },
   {
    "duration": 850,
    "start_time": "2021-09-24T12:42:00.007Z"
   },
   {
    "duration": 369,
    "start_time": "2021-09-24T12:42:18.492Z"
   },
   {
    "duration": 547,
    "start_time": "2021-09-24T12:42:46.346Z"
   },
   {
    "duration": 400,
    "start_time": "2021-09-24T12:43:17.156Z"
   },
   {
    "duration": 42,
    "start_time": "2021-09-24T12:44:23.149Z"
   },
   {
    "duration": 19,
    "start_time": "2021-09-24T12:45:27.191Z"
   },
   {
    "duration": 1320,
    "start_time": "2021-09-27T09:53:55.647Z"
   },
   {
    "duration": 72,
    "start_time": "2021-09-27T09:53:56.969Z"
   },
   {
    "duration": 7,
    "start_time": "2021-09-27T09:53:57.042Z"
   },
   {
    "duration": 11,
    "start_time": "2021-09-27T09:53:57.051Z"
   },
   {
    "duration": 180,
    "start_time": "2021-09-27T09:53:57.063Z"
   },
   {
    "duration": 27,
    "start_time": "2021-09-27T09:53:57.245Z"
   },
   {
    "duration": 719,
    "start_time": "2021-09-27T09:53:57.273Z"
   },
   {
    "duration": 263,
    "start_time": "2021-09-27T09:53:57.994Z"
   },
   {
    "duration": 239,
    "start_time": "2021-09-27T09:53:58.259Z"
   },
   {
    "duration": 362,
    "start_time": "2021-09-27T09:53:58.499Z"
   },
   {
    "duration": 240,
    "start_time": "2021-09-27T09:53:58.863Z"
   },
   {
    "duration": 927,
    "start_time": "2021-09-27T09:53:59.104Z"
   },
   {
    "duration": 385,
    "start_time": "2021-09-27T09:54:00.032Z"
   },
   {
    "duration": 82,
    "start_time": "2021-09-27T09:54:00.419Z"
   },
   {
    "duration": 16,
    "start_time": "2021-09-27T09:54:00.503Z"
   },
   {
    "duration": 1230,
    "start_time": "2021-09-27T09:54:00.520Z"
   },
   {
    "duration": 19,
    "start_time": "2021-09-27T09:54:01.752Z"
   },
   {
    "duration": 35,
    "start_time": "2021-09-27T09:54:01.773Z"
   },
   {
    "duration": 19,
    "start_time": "2021-09-27T09:54:01.810Z"
   },
   {
    "duration": 10,
    "start_time": "2021-09-27T09:54:01.831Z"
   },
   {
    "duration": 36,
    "start_time": "2021-09-27T09:54:01.843Z"
   },
   {
    "duration": 367,
    "start_time": "2021-09-27T09:54:01.881Z"
   },
   {
    "duration": 421,
    "start_time": "2021-09-27T10:05:04.416Z"
   },
   {
    "duration": 6,
    "start_time": "2021-09-27T10:05:12.286Z"
   },
   {
    "duration": 6,
    "start_time": "2021-09-27T10:05:17.835Z"
   },
   {
    "duration": 6,
    "start_time": "2021-09-27T10:05:25.816Z"
   },
   {
    "duration": 5,
    "start_time": "2021-09-27T10:05:36.125Z"
   },
   {
    "duration": 4,
    "start_time": "2021-09-27T10:06:05.334Z"
   },
   {
    "duration": 4,
    "start_time": "2021-09-27T10:06:12.454Z"
   },
   {
    "duration": 17,
    "start_time": "2021-09-27T10:08:27.641Z"
   },
   {
    "duration": 147,
    "start_time": "2021-09-27T10:10:10.988Z"
   },
   {
    "duration": 124,
    "start_time": "2021-09-27T10:10:17.911Z"
   },
   {
    "duration": 726,
    "start_time": "2021-09-27T10:10:57.735Z"
   },
   {
    "duration": 372,
    "start_time": "2021-09-27T10:11:11.366Z"
   },
   {
    "duration": 208,
    "start_time": "2021-09-27T10:11:22.412Z"
   },
   {
    "duration": 129,
    "start_time": "2021-09-27T10:11:25.844Z"
   },
   {
    "duration": 236,
    "start_time": "2021-09-27T11:24:54.998Z"
   },
   {
    "duration": 392,
    "start_time": "2021-09-27T11:26:20.504Z"
   },
   {
    "duration": 225,
    "start_time": "2021-09-27T11:26:46.329Z"
   },
   {
    "duration": 240,
    "start_time": "2021-09-27T11:26:54.698Z"
   },
   {
    "duration": 412,
    "start_time": "2021-09-27T11:27:16.736Z"
   },
   {
    "duration": 222,
    "start_time": "2021-09-27T11:27:27.262Z"
   },
   {
    "duration": 373,
    "start_time": "2021-09-27T11:27:34.123Z"
   },
   {
    "duration": 229,
    "start_time": "2021-09-27T11:27:51.975Z"
   },
   {
    "duration": 393,
    "start_time": "2021-09-27T11:28:03.282Z"
   },
   {
    "duration": 230,
    "start_time": "2021-09-27T11:28:19.710Z"
   },
   {
    "duration": 226,
    "start_time": "2021-09-27T11:28:43.714Z"
   },
   {
    "duration": 389,
    "start_time": "2021-09-27T11:29:10.867Z"
   },
   {
    "duration": 227,
    "start_time": "2021-09-27T11:29:30.959Z"
   },
   {
    "duration": 364,
    "start_time": "2021-09-27T11:29:39.323Z"
   },
   {
    "duration": 236,
    "start_time": "2021-09-27T11:48:51.140Z"
   },
   {
    "duration": 407,
    "start_time": "2021-09-27T11:52:51.597Z"
   },
   {
    "duration": 56,
    "start_time": "2021-09-27T12:03:15.518Z"
   },
   {
    "duration": 296,
    "start_time": "2021-09-27T15:13:52.216Z"
   },
   {
    "duration": 1285,
    "start_time": "2021-09-27T15:14:04.525Z"
   },
   {
    "duration": 76,
    "start_time": "2021-09-27T15:14:05.812Z"
   },
   {
    "duration": 9,
    "start_time": "2021-09-27T15:14:05.890Z"
   },
   {
    "duration": 26,
    "start_time": "2021-09-27T15:14:05.901Z"
   },
   {
    "duration": 173,
    "start_time": "2021-09-27T15:14:05.928Z"
   },
   {
    "duration": 26,
    "start_time": "2021-09-27T15:14:06.103Z"
   },
   {
    "duration": 696,
    "start_time": "2021-09-27T15:14:06.130Z"
   },
   {
    "duration": 243,
    "start_time": "2021-09-27T15:14:06.828Z"
   },
   {
    "duration": 241,
    "start_time": "2021-09-27T15:14:07.073Z"
   },
   {
    "duration": 363,
    "start_time": "2021-09-27T15:14:07.315Z"
   },
   {
    "duration": 237,
    "start_time": "2021-09-27T15:14:07.679Z"
   },
   {
    "duration": 920,
    "start_time": "2021-09-27T15:14:07.917Z"
   },
   {
    "duration": 365,
    "start_time": "2021-09-27T15:14:08.839Z"
   },
   {
    "duration": 77,
    "start_time": "2021-09-27T15:14:09.205Z"
   },
   {
    "duration": 27,
    "start_time": "2021-09-27T15:14:09.284Z"
   },
   {
    "duration": 1194,
    "start_time": "2021-09-27T15:14:09.312Z"
   },
   {
    "duration": 20,
    "start_time": "2021-09-27T15:14:10.508Z"
   },
   {
    "duration": 28,
    "start_time": "2021-09-27T15:14:10.530Z"
   },
   {
    "duration": 48,
    "start_time": "2021-09-27T15:14:10.560Z"
   },
   {
    "duration": 12,
    "start_time": "2021-09-27T15:14:10.611Z"
   },
   {
    "duration": 11,
    "start_time": "2021-09-27T15:14:10.625Z"
   },
   {
    "duration": 395,
    "start_time": "2021-09-27T15:14:10.637Z"
   },
   {
    "duration": 16,
    "start_time": "2021-09-27T15:15:17.069Z"
   },
   {
    "duration": 17,
    "start_time": "2021-09-27T15:15:28.905Z"
   },
   {
    "duration": 1010,
    "start_time": "2021-09-27T15:35:37.268Z"
   },
   {
    "duration": 17,
    "start_time": "2021-09-27T15:36:16.888Z"
   },
   {
    "duration": 937,
    "start_time": "2021-09-27T15:36:54.232Z"
   },
   {
    "duration": 18,
    "start_time": "2021-09-27T15:37:14.594Z"
   },
   {
    "duration": 1379,
    "start_time": "2021-09-27T15:37:25.669Z"
   },
   {
    "duration": 75,
    "start_time": "2021-09-27T15:37:27.050Z"
   },
   {
    "duration": 52,
    "start_time": "2021-09-27T15:37:27.127Z"
   },
   {
    "duration": 12,
    "start_time": "2021-09-27T15:37:27.181Z"
   },
   {
    "duration": 165,
    "start_time": "2021-09-27T15:37:27.195Z"
   },
   {
    "duration": 27,
    "start_time": "2021-09-27T15:37:27.361Z"
   },
   {
    "duration": 738,
    "start_time": "2021-09-27T15:37:27.390Z"
   },
   {
    "duration": 270,
    "start_time": "2021-09-27T15:37:28.131Z"
   },
   {
    "duration": 248,
    "start_time": "2021-09-27T15:37:28.403Z"
   },
   {
    "duration": 493,
    "start_time": "2021-09-27T15:37:28.653Z"
   },
   {
    "duration": 377,
    "start_time": "2021-09-27T15:37:29.148Z"
   },
   {
    "duration": 930,
    "start_time": "2021-09-27T15:37:29.527Z"
   },
   {
    "duration": 392,
    "start_time": "2021-09-27T15:37:30.459Z"
   },
   {
    "duration": 81,
    "start_time": "2021-09-27T15:37:30.852Z"
   },
   {
    "duration": 14,
    "start_time": "2021-09-27T15:37:30.934Z"
   },
   {
    "duration": 1174,
    "start_time": "2021-09-27T15:37:30.949Z"
   },
   {
    "duration": 19,
    "start_time": "2021-09-27T15:37:32.124Z"
   },
   {
    "duration": 24,
    "start_time": "2021-09-27T15:37:32.144Z"
   },
   {
    "duration": 31,
    "start_time": "2021-09-27T15:37:32.170Z"
   },
   {
    "duration": 979,
    "start_time": "2021-09-27T15:37:32.203Z"
   },
   {
    "duration": -60,
    "start_time": "2021-09-27T15:37:33.244Z"
   },
   {
    "duration": -63,
    "start_time": "2021-09-27T15:37:33.248Z"
   },
   {
    "duration": 26,
    "start_time": "2021-09-27T15:38:00.256Z"
   },
   {
    "duration": 18,
    "start_time": "2021-09-27T15:38:12.766Z"
   },
   {
    "duration": 14,
    "start_time": "2021-09-27T15:40:11.942Z"
   },
   {
    "duration": 7,
    "start_time": "2021-09-27T15:40:22.780Z"
   },
   {
    "duration": 270,
    "start_time": "2021-09-27T15:40:55.576Z"
   },
   {
    "duration": 215,
    "start_time": "2021-09-27T15:41:24.146Z"
   },
   {
    "duration": 303,
    "start_time": "2021-09-27T15:41:38.530Z"
   },
   {
    "duration": 18,
    "start_time": "2021-09-27T15:41:53.573Z"
   },
   {
    "duration": 235,
    "start_time": "2021-09-27T15:42:38.345Z"
   },
   {
    "duration": 14,
    "start_time": "2021-09-27T15:42:47.154Z"
   },
   {
    "duration": 5256,
    "start_time": "2021-09-27T15:43:21.326Z"
   },
   {
    "duration": 12,
    "start_time": "2021-09-27T15:43:27.227Z"
   },
   {
    "duration": 13,
    "start_time": "2021-09-27T15:46:42.655Z"
   },
   {
    "duration": 14,
    "start_time": "2021-09-27T15:46:56.393Z"
   },
   {
    "duration": 13,
    "start_time": "2021-09-27T15:47:09.162Z"
   },
   {
    "duration": 18,
    "start_time": "2021-09-27T15:49:01.076Z"
   },
   {
    "duration": 13,
    "start_time": "2021-09-27T15:49:03.635Z"
   },
   {
    "duration": 14,
    "start_time": "2021-09-27T15:55:28.686Z"
   },
   {
    "duration": 12,
    "start_time": "2021-09-27T15:55:37.521Z"
   },
   {
    "duration": 369,
    "start_time": "2021-09-27T15:55:38.480Z"
   },
   {
    "duration": 1385,
    "start_time": "2021-09-27T16:24:15.480Z"
   },
   {
    "duration": 72,
    "start_time": "2021-09-27T16:24:16.867Z"
   },
   {
    "duration": 6,
    "start_time": "2021-09-27T16:24:16.941Z"
   },
   {
    "duration": 12,
    "start_time": "2021-09-27T16:24:16.948Z"
   },
   {
    "duration": 173,
    "start_time": "2021-09-27T16:24:16.962Z"
   },
   {
    "duration": 27,
    "start_time": "2021-09-27T16:24:17.137Z"
   },
   {
    "duration": 726,
    "start_time": "2021-09-27T16:24:17.166Z"
   },
   {
    "duration": 248,
    "start_time": "2021-09-27T16:24:17.900Z"
   },
   {
    "duration": 270,
    "start_time": "2021-09-27T16:24:18.150Z"
   },
   {
    "duration": 375,
    "start_time": "2021-09-27T16:24:18.421Z"
   },
   {
    "duration": 256,
    "start_time": "2021-09-27T16:24:18.799Z"
   },
   {
    "duration": 955,
    "start_time": "2021-09-27T16:24:19.057Z"
   },
   {
    "duration": 394,
    "start_time": "2021-09-27T16:24:20.014Z"
   },
   {
    "duration": 74,
    "start_time": "2021-09-27T16:24:20.409Z"
   },
   {
    "duration": 27,
    "start_time": "2021-09-27T16:24:20.485Z"
   },
   {
    "duration": 1253,
    "start_time": "2021-09-27T16:24:20.513Z"
   },
   {
    "duration": 20,
    "start_time": "2021-09-27T16:24:21.769Z"
   },
   {
    "duration": 24,
    "start_time": "2021-09-27T16:24:21.791Z"
   },
   {
    "duration": 21,
    "start_time": "2021-09-27T16:24:21.817Z"
   },
   {
    "duration": 12,
    "start_time": "2021-09-27T16:24:21.840Z"
   },
   {
    "duration": 11,
    "start_time": "2021-09-27T16:24:21.854Z"
   },
   {
    "duration": 405,
    "start_time": "2021-09-27T16:24:21.867Z"
   },
   {
    "duration": 1280,
    "start_time": "2021-09-28T09:33:38.461Z"
   },
   {
    "duration": 2060,
    "start_time": "2021-09-28T09:33:46.949Z"
   },
   {
    "duration": 94,
    "start_time": "2021-09-28T09:33:49.012Z"
   },
   {
    "duration": 17,
    "start_time": "2021-09-28T09:33:49.110Z"
   },
   {
    "duration": 39,
    "start_time": "2021-09-28T09:33:49.130Z"
   },
   {
    "duration": 309,
    "start_time": "2021-09-28T09:33:49.172Z"
   },
   {
    "duration": 47,
    "start_time": "2021-09-28T09:33:49.484Z"
   },
   {
    "duration": 1120,
    "start_time": "2021-09-28T09:33:49.533Z"
   },
   {
    "duration": 394,
    "start_time": "2021-09-28T09:33:50.658Z"
   },
   {
    "duration": 390,
    "start_time": "2021-09-28T09:33:51.056Z"
   },
   {
    "duration": 528,
    "start_time": "2021-09-28T09:33:51.449Z"
   },
   {
    "duration": 393,
    "start_time": "2021-09-28T09:33:51.979Z"
   },
   {
    "duration": 1380,
    "start_time": "2021-09-28T09:33:52.375Z"
   },
   {
    "duration": 540,
    "start_time": "2021-09-28T09:33:53.757Z"
   },
   {
    "duration": 128,
    "start_time": "2021-09-28T09:33:54.300Z"
   },
   {
    "duration": 441,
    "start_time": "2021-09-28T09:33:54.430Z"
   },
   {
    "duration": 34009,
    "start_time": "2021-09-28T09:33:20.864Z"
   },
   {
    "duration": 34009,
    "start_time": "2021-09-28T09:33:20.865Z"
   },
   {
    "duration": 34003,
    "start_time": "2021-09-28T09:33:20.872Z"
   },
   {
    "duration": 34003,
    "start_time": "2021-09-28T09:33:20.874Z"
   },
   {
    "duration": 33994,
    "start_time": "2021-09-28T09:33:20.884Z"
   },
   {
    "duration": 33993,
    "start_time": "2021-09-28T09:33:20.886Z"
   },
   {
    "duration": 33994,
    "start_time": "2021-09-28T09:33:20.887Z"
   },
   {
    "duration": 33993,
    "start_time": "2021-09-28T09:33:20.889Z"
   },
   {
    "duration": 6,
    "start_time": "2021-09-28T09:34:15.939Z"
   },
   {
    "duration": 6,
    "start_time": "2021-09-28T09:34:20.207Z"
   },
   {
    "duration": 131,
    "start_time": "2021-09-28T09:34:20.216Z"
   },
   {
    "duration": 11,
    "start_time": "2021-09-28T09:34:20.351Z"
   },
   {
    "duration": 41,
    "start_time": "2021-09-28T09:34:20.365Z"
   },
   {
    "duration": 278,
    "start_time": "2021-09-28T09:34:20.408Z"
   },
   {
    "duration": 46,
    "start_time": "2021-09-28T09:34:20.688Z"
   },
   {
    "duration": 365,
    "start_time": "2021-09-28T09:34:20.736Z"
   },
   {
    "duration": 257,
    "start_time": "2021-09-28T09:34:21.103Z"
   },
   {
    "duration": 529,
    "start_time": "2021-09-28T09:34:21.366Z"
   },
   {
    "duration": 411,
    "start_time": "2021-09-28T09:34:21.898Z"
   },
   {
    "duration": 539,
    "start_time": "2021-09-28T09:34:22.311Z"
   },
   {
    "duration": 1433,
    "start_time": "2021-09-28T09:34:22.853Z"
   },
   {
    "duration": 538,
    "start_time": "2021-09-28T09:34:24.289Z"
   },
   {
    "duration": 123,
    "start_time": "2021-09-28T09:34:24.829Z"
   },
   {
    "duration": 7,
    "start_time": "2021-09-28T09:34:24.954Z"
   },
   {
    "duration": 55,
    "start_time": "2021-09-28T09:34:24.963Z"
   },
   {
    "duration": 1356,
    "start_time": "2021-09-28T09:34:25.020Z"
   },
   {
    "duration": 26,
    "start_time": "2021-09-28T09:34:26.379Z"
   },
   {
    "duration": 42,
    "start_time": "2021-09-28T09:34:26.407Z"
   },
   {
    "duration": 29,
    "start_time": "2021-09-28T09:34:26.452Z"
   },
   {
    "duration": 41,
    "start_time": "2021-09-28T09:34:26.484Z"
   },
   {
    "duration": 19,
    "start_time": "2021-09-28T09:34:26.528Z"
   },
   {
    "duration": 398,
    "start_time": "2021-09-28T09:34:26.549Z"
   },
   {
    "duration": 96,
    "start_time": "2021-09-28T09:35:45.055Z"
   },
   {
    "duration": 2360,
    "start_time": "2021-09-28T09:51:10.733Z"
   },
   {
    "duration": 98,
    "start_time": "2021-09-28T09:51:13.096Z"
   },
   {
    "duration": 10,
    "start_time": "2021-09-28T09:51:13.197Z"
   },
   {
    "duration": 26,
    "start_time": "2021-09-28T09:51:13.209Z"
   },
   {
    "duration": 439,
    "start_time": "2021-09-28T09:51:13.238Z"
   },
   {
    "duration": 41,
    "start_time": "2021-09-28T09:51:13.680Z"
   },
   {
    "duration": 1118,
    "start_time": "2021-09-28T09:51:13.723Z"
   },
   {
    "duration": 456,
    "start_time": "2021-09-28T09:51:14.845Z"
   },
   {
    "duration": 433,
    "start_time": "2021-09-28T09:51:15.304Z"
   },
   {
    "duration": 571,
    "start_time": "2021-09-28T09:51:15.739Z"
   },
   {
    "duration": 459,
    "start_time": "2021-09-28T09:51:16.312Z"
   },
   {
    "duration": 1569,
    "start_time": "2021-09-28T09:51:16.774Z"
   },
   {
    "duration": 548,
    "start_time": "2021-09-28T09:51:18.346Z"
   },
   {
    "duration": 133,
    "start_time": "2021-09-28T09:51:18.897Z"
   },
   {
    "duration": 6,
    "start_time": "2021-09-28T09:51:19.033Z"
   },
   {
    "duration": 47,
    "start_time": "2021-09-28T09:51:19.041Z"
   },
   {
    "duration": 1387,
    "start_time": "2021-09-28T09:51:19.090Z"
   },
   {
    "duration": 27,
    "start_time": "2021-09-28T09:51:20.480Z"
   },
   {
    "duration": 59,
    "start_time": "2021-09-28T09:51:20.510Z"
   },
   {
    "duration": 28,
    "start_time": "2021-09-28T09:51:20.571Z"
   },
   {
    "duration": 19,
    "start_time": "2021-09-28T09:51:20.601Z"
   },
   {
    "duration": 52,
    "start_time": "2021-09-28T09:51:20.622Z"
   },
   {
    "duration": 553,
    "start_time": "2021-09-28T09:51:20.678Z"
   },
   {
    "duration": 97,
    "start_time": "2021-09-28T09:52:36.445Z"
   },
   {
    "duration": 134,
    "start_time": "2021-09-28T09:53:02.864Z"
   },
   {
    "duration": 100,
    "start_time": "2021-09-28T09:58:25.095Z"
   },
   {
    "duration": 10,
    "start_time": "2021-09-28T09:58:33.404Z"
   },
   {
    "duration": 103,
    "start_time": "2021-09-28T09:58:37.531Z"
   },
   {
    "duration": 1095,
    "start_time": "2021-09-28T10:06:57.134Z"
   },
   {
    "duration": 463,
    "start_time": "2021-09-28T10:08:31.504Z"
   },
   {
    "duration": 281,
    "start_time": "2021-09-28T10:12:51.847Z"
   },
   {
    "duration": 180,
    "start_time": "2021-09-28T10:13:10.837Z"
   },
   {
    "duration": 138,
    "start_time": "2021-09-28T10:13:15.211Z"
   },
   {
    "duration": 938,
    "start_time": "2021-09-28T10:13:21.868Z"
   },
   {
    "duration": 422,
    "start_time": "2021-09-28T10:13:43.912Z"
   },
   {
    "duration": 897,
    "start_time": "2021-09-28T10:14:17.639Z"
   },
   {
    "duration": 843,
    "start_time": "2021-09-28T10:14:33.335Z"
   },
   {
    "duration": 573,
    "start_time": "2021-09-28T10:14:59.642Z"
   },
   {
    "duration": 391,
    "start_time": "2021-09-28T10:15:09.280Z"
   },
   {
    "duration": 6,
    "start_time": "2021-09-28T11:15:48.598Z"
   },
   {
    "duration": 97,
    "start_time": "2021-09-28T11:15:48.607Z"
   },
   {
    "duration": 10,
    "start_time": "2021-09-28T11:15:48.708Z"
   },
   {
    "duration": 48,
    "start_time": "2021-09-28T11:15:48.722Z"
   },
   {
    "duration": 323,
    "start_time": "2021-09-28T11:15:48.773Z"
   },
   {
    "duration": 41,
    "start_time": "2021-09-28T11:15:49.099Z"
   },
   {
    "duration": 411,
    "start_time": "2021-09-28T11:15:49.143Z"
   },
   {
    "duration": 259,
    "start_time": "2021-09-28T11:15:49.556Z"
   },
   {
    "duration": 595,
    "start_time": "2021-09-28T11:15:49.819Z"
   },
   {
    "duration": 434,
    "start_time": "2021-09-28T11:15:50.417Z"
   },
   {
    "duration": 601,
    "start_time": "2021-09-28T11:15:50.854Z"
   },
   {
    "duration": 2238,
    "start_time": "2021-09-28T11:15:51.458Z"
   },
   {
    "duration": 556,
    "start_time": "2021-09-28T11:15:53.698Z"
   },
   {
    "duration": 138,
    "start_time": "2021-09-28T11:15:54.256Z"
   },
   {
    "duration": 6,
    "start_time": "2021-09-28T11:15:54.397Z"
   },
   {
    "duration": 27,
    "start_time": "2021-09-28T11:15:54.406Z"
   },
   {
    "duration": 1144,
    "start_time": "2021-09-28T11:15:54.435Z"
   },
   {
    "duration": 29,
    "start_time": "2021-09-28T11:15:55.581Z"
   },
   {
    "duration": 58,
    "start_time": "2021-09-28T11:15:55.612Z"
   },
   {
    "duration": 29,
    "start_time": "2021-09-28T11:15:55.673Z"
   },
   {
    "duration": 26,
    "start_time": "2021-09-28T11:15:55.705Z"
   },
   {
    "duration": 45,
    "start_time": "2021-09-28T11:15:55.734Z"
   },
   {
    "duration": 413,
    "start_time": "2021-09-28T11:15:55.782Z"
   },
   {
    "duration": 583,
    "start_time": "2021-09-28T11:18:06.780Z"
   },
   {
    "duration": 157,
    "start_time": "2021-09-28T11:25:16.217Z"
   },
   {
    "duration": 187,
    "start_time": "2021-09-28T11:38:44.184Z"
   },
   {
    "duration": 154,
    "start_time": "2021-09-28T11:39:07.119Z"
   },
   {
    "duration": 647,
    "start_time": "2021-09-28T11:52:50.564Z"
   },
   {
    "duration": 1197,
    "start_time": "2021-09-28T11:53:17.839Z"
   },
   {
    "duration": 987,
    "start_time": "2021-09-28T11:54:15.143Z"
   },
   {
    "duration": 1713,
    "start_time": "2021-09-28T11:55:31.218Z"
   },
   {
    "duration": 965,
    "start_time": "2021-09-28T11:55:42.597Z"
   },
   {
    "duration": 177,
    "start_time": "2021-09-28T11:56:31.906Z"
   },
   {
    "duration": 11,
    "start_time": "2021-09-28T12:07:12.837Z"
   },
   {
    "duration": 44,
    "start_time": "2021-09-28T12:08:17.465Z"
   },
   {
    "duration": 37,
    "start_time": "2021-09-28T12:08:40.908Z"
   },
   {
    "duration": 31,
    "start_time": "2021-09-28T12:09:18.615Z"
   },
   {
    "duration": 48,
    "start_time": "2021-09-28T12:09:33.456Z"
   },
   {
    "duration": 29,
    "start_time": "2021-09-28T12:11:40.151Z"
   },
   {
    "duration": 45,
    "start_time": "2021-09-28T12:12:16.305Z"
   },
   {
    "duration": 44,
    "start_time": "2021-09-28T12:12:33.184Z"
   },
   {
    "duration": 43,
    "start_time": "2021-09-28T12:12:49.767Z"
   },
   {
    "duration": 36,
    "start_time": "2021-09-28T12:13:01.854Z"
   },
   {
    "duration": 32,
    "start_time": "2021-09-28T12:13:07.304Z"
   },
   {
    "duration": 35,
    "start_time": "2021-09-28T12:14:35.579Z"
   },
   {
    "duration": 638,
    "start_time": "2021-09-28T12:16:53.575Z"
   },
   {
    "duration": 362,
    "start_time": "2021-09-28T12:17:14.645Z"
   },
   {
    "duration": 19,
    "start_time": "2021-09-28T12:17:38.486Z"
   },
   {
    "duration": 8,
    "start_time": "2021-09-28T12:18:00.213Z"
   },
   {
    "duration": 8815,
    "start_time": "2021-09-28T12:18:21.185Z"
   },
   {
    "duration": 6,
    "start_time": "2021-09-28T12:18:33.751Z"
   },
   {
    "duration": 300,
    "start_time": "2021-09-28T12:21:28.250Z"
   },
   {
    "duration": 22,
    "start_time": "2021-09-28T12:21:47.761Z"
   },
   {
    "duration": 21,
    "start_time": "2021-09-28T12:21:53.487Z"
   },
   {
    "duration": 26,
    "start_time": "2021-09-28T12:21:59.284Z"
   },
   {
    "duration": 39,
    "start_time": "2021-09-28T12:37:06.504Z"
   },
   {
    "duration": 36,
    "start_time": "2021-09-28T12:37:51.417Z"
   },
   {
    "duration": 25,
    "start_time": "2021-09-28T12:38:47.438Z"
   },
   {
    "duration": 30,
    "start_time": "2021-09-28T12:39:01.450Z"
   },
   {
    "duration": 28,
    "start_time": "2021-09-28T12:40:20.957Z"
   },
   {
    "duration": 30,
    "start_time": "2021-09-28T12:40:30.895Z"
   },
   {
    "duration": 381,
    "start_time": "2021-09-28T12:41:00.020Z"
   },
   {
    "duration": 376,
    "start_time": "2021-09-28T12:41:09.392Z"
   },
   {
    "duration": 29,
    "start_time": "2021-09-28T12:41:41.214Z"
   },
   {
    "duration": 24,
    "start_time": "2021-09-28T12:43:51.046Z"
   },
   {
    "duration": 1375,
    "start_time": "2021-09-28T12:44:44.258Z"
   },
   {
    "duration": 37,
    "start_time": "2021-09-28T12:44:57.850Z"
   },
   {
    "duration": 20,
    "start_time": "2021-09-28T12:46:18.396Z"
   },
   {
    "duration": 36,
    "start_time": "2021-09-28T12:46:28.027Z"
   },
   {
    "duration": 28,
    "start_time": "2021-09-28T12:47:14.308Z"
   },
   {
    "duration": 27,
    "start_time": "2021-09-28T12:47:55.197Z"
   },
   {
    "duration": 29,
    "start_time": "2021-09-28T12:52:13.920Z"
   },
   {
    "duration": 394,
    "start_time": "2021-09-28T12:52:48.880Z"
   },
   {
    "duration": 33,
    "start_time": "2021-09-28T12:52:58.206Z"
   },
   {
    "duration": 8,
    "start_time": "2021-09-28T12:53:35.061Z"
   },
   {
    "duration": 9,
    "start_time": "2021-09-28T12:53:42.200Z"
   },
   {
    "duration": 26,
    "start_time": "2021-09-28T12:54:53.724Z"
   },
   {
    "duration": 40,
    "start_time": "2021-09-28T12:55:21.101Z"
   },
   {
    "duration": 58,
    "start_time": "2021-09-28T12:55:44.407Z"
   },
   {
    "duration": 2415,
    "start_time": "2021-09-28T12:56:16.835Z"
   },
   {
    "duration": 139,
    "start_time": "2021-09-28T12:56:19.253Z"
   },
   {
    "duration": 15,
    "start_time": "2021-09-28T12:56:19.398Z"
   },
   {
    "duration": 37,
    "start_time": "2021-09-28T12:56:19.416Z"
   },
   {
    "duration": 468,
    "start_time": "2021-09-28T12:56:19.456Z"
   },
   {
    "duration": 45,
    "start_time": "2021-09-28T12:56:19.930Z"
   },
   {
    "duration": 1334,
    "start_time": "2021-09-28T12:56:19.977Z"
   },
   {
    "duration": 480,
    "start_time": "2021-09-28T12:56:21.316Z"
   },
   {
    "duration": 616,
    "start_time": "2021-09-28T12:56:21.801Z"
   },
   {
    "duration": 717,
    "start_time": "2021-09-28T12:56:22.420Z"
   },
   {
    "duration": 595,
    "start_time": "2021-09-28T12:56:23.141Z"
   },
   {
    "duration": 1900,
    "start_time": "2021-09-28T12:56:23.740Z"
   },
   {
    "duration": 699,
    "start_time": "2021-09-28T12:56:25.643Z"
   },
   {
    "duration": 180,
    "start_time": "2021-09-28T12:56:26.346Z"
   },
   {
    "duration": 8,
    "start_time": "2021-09-28T12:56:26.529Z"
   },
   {
    "duration": 57,
    "start_time": "2021-09-28T12:56:26.540Z"
   },
   {
    "duration": 1522,
    "start_time": "2021-09-28T12:56:26.600Z"
   },
   {
    "duration": 28,
    "start_time": "2021-09-28T12:56:28.125Z"
   },
   {
    "duration": 68,
    "start_time": "2021-09-28T12:56:28.155Z"
   },
   {
    "duration": 56,
    "start_time": "2021-09-28T12:56:28.228Z"
   },
   {
    "duration": 9,
    "start_time": "2021-09-28T12:56:28.287Z"
   },
   {
    "duration": 62,
    "start_time": "2021-09-28T12:56:28.298Z"
   },
   {
    "duration": 37,
    "start_time": "2021-09-28T12:56:28.366Z"
   },
   {
    "duration": 31,
    "start_time": "2021-09-28T12:56:28.409Z"
   },
   {
    "duration": 766,
    "start_time": "2021-09-28T12:56:28.442Z"
   },
   {
    "duration": 62,
    "start_time": "2021-09-28T12:56:59.997Z"
   },
   {
    "duration": 37,
    "start_time": "2021-09-28T13:00:03.416Z"
   },
   {
    "duration": 15,
    "start_time": "2021-09-28T13:00:51.838Z"
   },
   {
    "duration": 38,
    "start_time": "2021-09-28T13:00:59.794Z"
   },
   {
    "duration": 22,
    "start_time": "2021-09-28T13:01:31.394Z"
   },
   {
    "duration": 43,
    "start_time": "2021-09-28T13:01:50.542Z"
   },
   {
    "duration": 31,
    "start_time": "2021-09-28T13:03:12.832Z"
   },
   {
    "duration": 17,
    "start_time": "2021-09-28T13:05:11.360Z"
   },
   {
    "duration": 27,
    "start_time": "2021-09-28T13:06:25.180Z"
   },
   {
    "duration": 24,
    "start_time": "2021-09-28T13:06:45.002Z"
   },
   {
    "duration": 25,
    "start_time": "2021-09-28T13:08:26.384Z"
   },
   {
    "duration": 1672,
    "start_time": "2021-09-29T10:40:48.805Z"
   },
   {
    "duration": 70,
    "start_time": "2021-09-29T10:40:50.479Z"
   },
   {
    "duration": 6,
    "start_time": "2021-09-29T10:40:50.551Z"
   },
   {
    "duration": 11,
    "start_time": "2021-09-29T10:40:50.559Z"
   },
   {
    "duration": 167,
    "start_time": "2021-09-29T10:40:50.571Z"
   },
   {
    "duration": 26,
    "start_time": "2021-09-29T10:40:50.739Z"
   },
   {
    "duration": 691,
    "start_time": "2021-09-29T10:40:50.777Z"
   },
   {
    "duration": 236,
    "start_time": "2021-09-29T10:40:51.470Z"
   },
   {
    "duration": 238,
    "start_time": "2021-09-29T10:40:51.708Z"
   },
   {
    "duration": 366,
    "start_time": "2021-09-29T10:40:51.948Z"
   },
   {
    "duration": 241,
    "start_time": "2021-09-29T10:40:52.315Z"
   },
   {
    "duration": 831,
    "start_time": "2021-09-29T10:40:52.558Z"
   },
   {
    "duration": 371,
    "start_time": "2021-09-29T10:40:53.391Z"
   },
   {
    "duration": 75,
    "start_time": "2021-09-29T10:40:53.764Z"
   },
   {
    "duration": 5,
    "start_time": "2021-09-29T10:40:53.841Z"
   },
   {
    "duration": 33,
    "start_time": "2021-09-29T10:40:53.848Z"
   },
   {
    "duration": 1281,
    "start_time": "2021-09-29T10:40:53.883Z"
   },
   {
    "duration": 19,
    "start_time": "2021-09-29T10:40:55.166Z"
   },
   {
    "duration": 21,
    "start_time": "2021-09-29T10:40:55.187Z"
   },
   {
    "duration": 12,
    "start_time": "2021-09-29T10:40:55.210Z"
   },
   {
    "duration": 19,
    "start_time": "2021-09-29T10:40:55.223Z"
   },
   {
    "duration": 39,
    "start_time": "2021-09-29T10:40:55.244Z"
   },
   {
    "duration": 9,
    "start_time": "2021-09-29T10:40:55.285Z"
   },
   {
    "duration": 239,
    "start_time": "2021-09-29T10:40:55.296Z"
   },
   {
    "duration": 6746,
    "start_time": "2021-09-29T10:43:34.386Z"
   },
   {
    "duration": 6619,
    "start_time": "2021-09-29T10:44:10.632Z"
   },
   {
    "duration": 363,
    "start_time": "2021-09-29T10:44:48.383Z"
   },
   {
    "duration": 82,
    "start_time": "2021-09-29T10:45:59.075Z"
   },
   {
    "duration": 87,
    "start_time": "2021-09-29T10:50:00.539Z"
   },
   {
    "duration": 2041,
    "start_time": "2021-09-29T12:09:51.925Z"
   },
   {
    "duration": 101,
    "start_time": "2021-09-29T12:09:53.975Z"
   },
   {
    "duration": 11,
    "start_time": "2021-09-29T12:09:54.079Z"
   },
   {
    "duration": 26,
    "start_time": "2021-09-29T12:09:54.092Z"
   },
   {
    "duration": 294,
    "start_time": "2021-09-29T12:09:54.121Z"
   },
   {
    "duration": 51,
    "start_time": "2021-09-29T12:09:54.418Z"
   },
   {
    "duration": 1179,
    "start_time": "2021-09-29T12:09:54.473Z"
   },
   {
    "duration": 507,
    "start_time": "2021-09-29T12:09:55.658Z"
   },
   {
    "duration": 771,
    "start_time": "2021-09-29T12:09:56.168Z"
   },
   {
    "duration": 581,
    "start_time": "2021-09-29T12:09:56.942Z"
   },
   {
    "duration": 415,
    "start_time": "2021-09-29T12:09:57.526Z"
   },
   {
    "duration": 1424,
    "start_time": "2021-09-29T12:09:57.943Z"
   },
   {
    "duration": 578,
    "start_time": "2021-09-29T12:09:59.370Z"
   },
   {
    "duration": 143,
    "start_time": "2021-09-29T12:09:59.950Z"
   },
   {
    "duration": 6,
    "start_time": "2021-09-29T12:10:00.096Z"
   },
   {
    "duration": 37,
    "start_time": "2021-09-29T12:10:00.104Z"
   },
   {
    "duration": 1383,
    "start_time": "2021-09-29T12:10:00.143Z"
   },
   {
    "duration": 27,
    "start_time": "2021-09-29T12:10:01.528Z"
   },
   {
    "duration": 37,
    "start_time": "2021-09-29T12:10:01.558Z"
   },
   {
    "duration": 17,
    "start_time": "2021-09-29T12:10:01.597Z"
   },
   {
    "duration": 55,
    "start_time": "2021-09-29T12:10:01.617Z"
   },
   {
    "duration": 22,
    "start_time": "2021-09-29T12:10:01.675Z"
   },
   {
    "duration": 28,
    "start_time": "2021-09-29T12:10:01.701Z"
   },
   {
    "duration": 607,
    "start_time": "2021-09-29T12:10:01.732Z"
   },
   {
    "duration": 1876,
    "start_time": "2021-10-12T11:08:23.285Z"
   },
   {
    "duration": 113,
    "start_time": "2021-10-12T11:08:25.163Z"
   },
   {
    "duration": 10,
    "start_time": "2021-10-12T11:08:25.279Z"
   },
   {
    "duration": 25,
    "start_time": "2021-10-12T11:08:25.293Z"
   },
   {
    "duration": 327,
    "start_time": "2021-10-12T11:08:25.321Z"
   },
   {
    "duration": 43,
    "start_time": "2021-10-12T11:08:25.651Z"
   },
   {
    "duration": 1062,
    "start_time": "2021-10-12T11:08:25.696Z"
   },
   {
    "duration": 357,
    "start_time": "2021-10-12T11:08:26.762Z"
   },
   {
    "duration": 424,
    "start_time": "2021-10-12T11:08:27.122Z"
   },
   {
    "duration": 561,
    "start_time": "2021-10-12T11:08:27.548Z"
   },
   {
    "duration": 402,
    "start_time": "2021-10-12T11:08:28.112Z"
   },
   {
    "duration": 1448,
    "start_time": "2021-10-12T11:08:28.517Z"
   },
   {
    "duration": 574,
    "start_time": "2021-10-12T11:08:29.967Z"
   },
   {
    "duration": 129,
    "start_time": "2021-10-12T11:08:30.544Z"
   },
   {
    "duration": 6,
    "start_time": "2021-10-12T11:08:30.675Z"
   },
   {
    "duration": 39,
    "start_time": "2021-10-12T11:08:30.683Z"
   },
   {
    "duration": 1325,
    "start_time": "2021-10-12T11:08:30.725Z"
   },
   {
    "duration": 26,
    "start_time": "2021-10-12T11:08:32.053Z"
   },
   {
    "duration": 39,
    "start_time": "2021-10-12T11:08:32.082Z"
   },
   {
    "duration": 36,
    "start_time": "2021-10-12T11:08:32.123Z"
   },
   {
    "duration": 27,
    "start_time": "2021-10-12T11:08:32.161Z"
   },
   {
    "duration": 17,
    "start_time": "2021-10-12T11:08:32.191Z"
   },
   {
    "duration": 49,
    "start_time": "2021-10-12T11:08:32.212Z"
   },
   {
    "duration": 551,
    "start_time": "2021-10-12T11:08:32.263Z"
   },
   {
    "duration": 1349,
    "start_time": "2021-11-25T13:43:13.254Z"
   },
   {
    "duration": 320,
    "start_time": "2021-11-25T13:43:14.605Z"
   },
   {
    "duration": 6,
    "start_time": "2021-11-25T13:43:14.927Z"
   },
   {
    "duration": 13,
    "start_time": "2021-11-25T13:43:14.935Z"
   },
   {
    "duration": 176,
    "start_time": "2021-11-25T13:43:14.950Z"
   },
   {
    "duration": 24,
    "start_time": "2021-11-25T13:43:15.127Z"
   },
   {
    "duration": 651,
    "start_time": "2021-11-25T13:43:15.153Z"
   },
   {
    "duration": 223,
    "start_time": "2021-11-25T13:43:15.806Z"
   },
   {
    "duration": 230,
    "start_time": "2021-11-25T13:43:16.032Z"
   },
   {
    "duration": 348,
    "start_time": "2021-11-25T13:43:16.264Z"
   },
   {
    "duration": 234,
    "start_time": "2021-11-25T13:43:16.614Z"
   },
   {
    "duration": 806,
    "start_time": "2021-11-25T13:43:16.850Z"
   },
   {
    "duration": 336,
    "start_time": "2021-11-25T13:43:17.658Z"
   },
   {
    "duration": 69,
    "start_time": "2021-11-25T13:43:17.996Z"
   },
   {
    "duration": 22,
    "start_time": "2021-11-25T13:43:18.067Z"
   },
   {
    "duration": 16,
    "start_time": "2021-11-25T13:43:18.091Z"
   },
   {
    "duration": 1280,
    "start_time": "2021-11-25T13:43:18.109Z"
   },
   {
    "duration": 17,
    "start_time": "2021-11-25T13:43:19.391Z"
   },
   {
    "duration": 21,
    "start_time": "2021-11-25T13:43:19.409Z"
   },
   {
    "duration": 9,
    "start_time": "2021-11-25T13:43:19.431Z"
   },
   {
    "duration": 46,
    "start_time": "2021-11-25T13:43:19.442Z"
   },
   {
    "duration": 11,
    "start_time": "2021-11-25T13:43:19.490Z"
   },
   {
    "duration": 10,
    "start_time": "2021-11-25T13:43:19.504Z"
   },
   {
    "duration": 348,
    "start_time": "2021-11-25T13:43:19.515Z"
   },
   {
    "duration": 8,
    "start_time": "2021-11-25T13:45:43.147Z"
   },
   {
    "duration": 16,
    "start_time": "2021-11-25T13:46:31.977Z"
   },
   {
    "duration": 294,
    "start_time": "2021-11-25T13:49:21.537Z"
   },
   {
    "duration": 547,
    "start_time": "2021-11-25T13:49:43.826Z"
   },
   {
    "duration": 391,
    "start_time": "2021-11-25T13:50:07.664Z"
   },
   {
    "duration": 539,
    "start_time": "2021-11-25T13:50:21.571Z"
   },
   {
    "duration": 1954,
    "start_time": "2021-11-29T08:11:55.983Z"
   },
   {
    "duration": 108,
    "start_time": "2021-11-29T08:11:57.941Z"
   },
   {
    "duration": 9,
    "start_time": "2021-11-29T08:11:58.052Z"
   },
   {
    "duration": 16,
    "start_time": "2021-11-29T08:11:58.063Z"
   },
   {
    "duration": 329,
    "start_time": "2021-11-29T08:11:58.082Z"
   },
   {
    "duration": 53,
    "start_time": "2021-11-29T08:11:58.414Z"
   },
   {
    "duration": 1142,
    "start_time": "2021-11-29T08:11:58.469Z"
   },
   {
    "duration": 437,
    "start_time": "2021-11-29T08:11:59.631Z"
   },
   {
    "duration": 445,
    "start_time": "2021-11-29T08:12:00.072Z"
   },
   {
    "duration": 1102,
    "start_time": "2021-11-29T08:12:00.519Z"
   },
   {
    "duration": 504,
    "start_time": "2021-11-29T08:12:01.625Z"
   },
   {
    "duration": 571,
    "start_time": "2021-11-29T08:12:02.131Z"
   },
   {
    "duration": 1555,
    "start_time": "2021-11-29T08:12:02.705Z"
   },
   {
    "duration": 393,
    "start_time": "2021-11-29T08:12:04.263Z"
   },
   {
    "duration": 282,
    "start_time": "2021-11-29T08:12:04.658Z"
   },
   {
    "duration": 6,
    "start_time": "2021-11-29T08:12:04.942Z"
   },
   {
    "duration": 24,
    "start_time": "2021-11-29T08:12:04.950Z"
   },
   {
    "duration": 1327,
    "start_time": "2021-11-29T08:12:04.977Z"
   },
   {
    "duration": 27,
    "start_time": "2021-11-29T08:12:06.306Z"
   },
   {
    "duration": 30,
    "start_time": "2021-11-29T08:12:06.336Z"
   },
   {
    "duration": 16,
    "start_time": "2021-11-29T08:12:06.368Z"
   },
   {
    "duration": 56,
    "start_time": "2021-11-29T08:12:06.386Z"
   },
   {
    "duration": 17,
    "start_time": "2021-11-29T08:12:06.446Z"
   },
   {
    "duration": 16,
    "start_time": "2021-11-29T08:12:06.466Z"
   },
   {
    "duration": 416,
    "start_time": "2021-11-29T08:12:06.484Z"
   },
   {
    "duration": 2028,
    "start_time": "2021-12-22T10:14:37.816Z"
   },
   {
    "duration": 102,
    "start_time": "2021-12-22T10:14:39.847Z"
   },
   {
    "duration": 9,
    "start_time": "2021-12-22T10:14:39.964Z"
   },
   {
    "duration": 14,
    "start_time": "2021-12-22T10:14:39.976Z"
   },
   {
    "duration": 307,
    "start_time": "2021-12-22T10:14:39.992Z"
   },
   {
    "duration": 38,
    "start_time": "2021-12-22T10:14:40.302Z"
   },
   {
    "duration": 1078,
    "start_time": "2021-12-22T10:14:40.343Z"
   },
   {
    "duration": 370,
    "start_time": "2021-12-22T10:14:41.425Z"
   },
   {
    "duration": 408,
    "start_time": "2021-12-22T10:14:41.799Z"
   },
   {
    "duration": 716,
    "start_time": "2021-12-22T10:14:42.210Z"
   },
   {
    "duration": 496,
    "start_time": "2021-12-22T10:14:42.928Z"
   },
   {
    "duration": 546,
    "start_time": "2021-12-22T10:14:43.427Z"
   },
   {
    "duration": 1400,
    "start_time": "2021-12-22T10:14:43.975Z"
   },
   {
    "duration": 377,
    "start_time": "2021-12-22T10:14:45.378Z"
   },
   {
    "duration": 279,
    "start_time": "2021-12-22T10:14:45.758Z"
   },
   {
    "duration": 6,
    "start_time": "2021-12-22T10:14:46.039Z"
   },
   {
    "duration": 21,
    "start_time": "2021-12-22T10:14:46.063Z"
   },
   {
    "duration": 1226,
    "start_time": "2021-12-22T10:14:46.086Z"
   },
   {
    "duration": 29,
    "start_time": "2021-12-22T10:14:47.315Z"
   },
   {
    "duration": 31,
    "start_time": "2021-12-22T10:14:47.346Z"
   },
   {
    "duration": 17,
    "start_time": "2021-12-22T10:14:47.380Z"
   },
   {
    "duration": 27,
    "start_time": "2021-12-22T10:14:47.399Z"
   },
   {
    "duration": 49,
    "start_time": "2021-12-22T10:14:47.428Z"
   },
   {
    "duration": 15,
    "start_time": "2021-12-22T10:14:47.479Z"
   },
   {
    "duration": 415,
    "start_time": "2021-12-22T10:14:47.496Z"
   }
  ],
  "kernelspec": {
   "display_name": "Python 3.11.0 64-bit",
   "language": "python",
   "name": "python3"
  },
  "language_info": {
   "codemirror_mode": {
    "name": "ipython",
    "version": 3
   },
   "file_extension": ".py",
   "mimetype": "text/x-python",
   "name": "python",
   "nbconvert_exporter": "python",
   "pygments_lexer": "ipython3",
   "version": "3.11.0"
  },
  "toc": {
   "base_numbering": 1,
   "nav_menu": {},
   "number_sections": true,
   "sideBar": true,
   "skip_h1_title": true,
   "title_cell": "Содержание",
   "title_sidebar": "Содержание",
   "toc_cell": true,
   "toc_position": {
    "height": "calc(100% - 180px)",
    "left": "10px",
    "top": "150px",
    "width": "388.212px"
   },
   "toc_section_display": true,
   "toc_window_display": true
  },
  "vscode": {
   "interpreter": {
    "hash": "aee8b7b246df8f9039afb4144a1f6fd8d2ca17a180786b69acc140d282b71a49"
   }
  }
 },
 "nbformat": 4,
 "nbformat_minor": 2
}
