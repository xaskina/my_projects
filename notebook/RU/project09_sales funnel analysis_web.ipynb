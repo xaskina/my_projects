{
 "cells": [
  {
   "cell_type": "markdown",
   "metadata": {},
   "source": [
    "# Исследование поведения пользователей мобильного приложения по продаже продуктов питания\n",
    "\n",
    "<b> Заказчик: </b>\n",
    "\n",
    "Стартап, основанный на продаже продуктов питания.\n",
    "\n",
    "<b> Предоставленные данные: </b>\n",
    "\n",
    "Лог с данными, содержащий информацию о:\n",
    "   - EventName — название события;\n",
    "   - DeviceIDHash — уникальный идентификатор пользователя;\n",
    "   - EventTimestamp — время события;\n",
    "   - ExpId — номер эксперимента: 246 и 247 — контрольные группы, а 248 — экспериментальная.\n",
    "\n",
    "<b> Задачи исследования: </b>\n",
    "1. Изучение воронки продаж: \n",
    "    - Исследовать путь пользователей до покупки; \n",
    "    - Установить количество пользователей совершивших покупку и недошедших до этого события; \n",
    "    - Выявить этапы на которых \"застревают\" пользователи.\n",
    "2. Исследование результатов A/A/B-эксперимента: \n",
    "    - Изучить результаты эксперимента и выявить, при наличии, закономерности, влияющие на изменение активности пользователей экспериментальной группы с отличающимся шрифтом.\n"
   ]
  },
  {
   "cell_type": "markdown",
   "metadata": {},
   "source": [
    "## Загрузка данных и изучение общей информации"
   ]
  },
  {
   "cell_type": "code",
   "execution_count": 1,
   "metadata": {},
   "outputs": [],
   "source": [
    "import pandas as pd\n",
    "import numpy as np\n",
    "from scipy import stats as st\n",
    "import math as mth\n",
    "import matplotlib.pyplot as plt\n",
    "import seaborn as sns\n",
    "import plotly.express as px\n",
    "from plotly import graph_objects as go\n",
    "from IPython.core.interactiveshell import InteractiveShell\n",
    "InteractiveShell.ast_node_interactivity = \"all\"\n",
    "import warnings\n",
    "warnings.filterwarnings('ignore')"
   ]
  },
  {
   "cell_type": "code",
   "execution_count": 2,
   "metadata": {},
   "outputs": [],
   "source": [
    "df = pd.read_csv('/Users/vintera/Git/projects/my_projects/dataset/project_09/logs_exp.csv', sep='\\t')"
   ]
  },
  {
   "cell_type": "code",
   "execution_count": 3,
   "metadata": {},
   "outputs": [
    {
     "name": "stdout",
     "output_type": "stream",
     "text": [
      "<class 'pandas.core.frame.DataFrame'>\n",
      "RangeIndex: 244126 entries, 0 to 244125\n",
      "Data columns (total 4 columns):\n",
      " #   Column          Non-Null Count   Dtype \n",
      "---  ------          --------------   ----- \n",
      " 0   EventName       244126 non-null  object\n",
      " 1   DeviceIDHash    244126 non-null  int64 \n",
      " 2   EventTimestamp  244126 non-null  int64 \n",
      " 3   ExpId           244126 non-null  int64 \n",
      "dtypes: int64(3), object(1)\n",
      "memory usage: 7.5+ MB\n"
     ]
    },
    {
     "data": {
      "text/html": [
       "<div>\n",
       "<style scoped>\n",
       "    .dataframe tbody tr th:only-of-type {\n",
       "        vertical-align: middle;\n",
       "    }\n",
       "\n",
       "    .dataframe tbody tr th {\n",
       "        vertical-align: top;\n",
       "    }\n",
       "\n",
       "    .dataframe thead th {\n",
       "        text-align: right;\n",
       "    }\n",
       "</style>\n",
       "<table border=\"1\" class=\"dataframe\">\n",
       "  <thead>\n",
       "    <tr style=\"text-align: right;\">\n",
       "      <th></th>\n",
       "      <th>EventName</th>\n",
       "      <th>DeviceIDHash</th>\n",
       "      <th>EventTimestamp</th>\n",
       "      <th>ExpId</th>\n",
       "    </tr>\n",
       "  </thead>\n",
       "  <tbody>\n",
       "    <tr>\n",
       "      <th>188066</th>\n",
       "      <td>MainScreenAppear</td>\n",
       "      <td>4022914497222644222</td>\n",
       "      <td>1565084333</td>\n",
       "      <td>247</td>\n",
       "    </tr>\n",
       "    <tr>\n",
       "      <th>178527</th>\n",
       "      <td>MainScreenAppear</td>\n",
       "      <td>4324680624591436809</td>\n",
       "      <td>1565063630</td>\n",
       "      <td>248</td>\n",
       "    </tr>\n",
       "    <tr>\n",
       "      <th>186271</th>\n",
       "      <td>MainScreenAppear</td>\n",
       "      <td>3896142600614297711</td>\n",
       "      <td>1565081128</td>\n",
       "      <td>247</td>\n",
       "    </tr>\n",
       "    <tr>\n",
       "      <th>197492</th>\n",
       "      <td>CartScreenAppear</td>\n",
       "      <td>3940194724501792579</td>\n",
       "      <td>1565100602</td>\n",
       "      <td>248</td>\n",
       "    </tr>\n",
       "    <tr>\n",
       "      <th>42671</th>\n",
       "      <td>MainScreenAppear</td>\n",
       "      <td>5696093535989664031</td>\n",
       "      <td>1564721324</td>\n",
       "      <td>248</td>\n",
       "    </tr>\n",
       "  </tbody>\n",
       "</table>\n",
       "</div>"
      ],
      "text/plain": [
       "               EventName         DeviceIDHash  EventTimestamp  ExpId\n",
       "188066  MainScreenAppear  4022914497222644222      1565084333    247\n",
       "178527  MainScreenAppear  4324680624591436809      1565063630    248\n",
       "186271  MainScreenAppear  3896142600614297711      1565081128    247\n",
       "197492  CartScreenAppear  3940194724501792579      1565100602    248\n",
       "42671   MainScreenAppear  5696093535989664031      1564721324    248"
      ]
     },
     "execution_count": 3,
     "metadata": {},
     "output_type": "execute_result"
    }
   ],
   "source": [
    "df.info()\n",
    "df.sample(5)"
   ]
  },
  {
   "cell_type": "code",
   "execution_count": 4,
   "metadata": {},
   "outputs": [
    {
     "data": {
      "text/plain": [
       "MainScreenAppear           119205\n",
       "OffersScreenAppear          46825\n",
       "CartScreenAppear            42731\n",
       "PaymentScreenSuccessful     34313\n",
       "Tutorial                     1052\n",
       "Name: EventName, dtype: int64"
      ]
     },
     "execution_count": 4,
     "metadata": {},
     "output_type": "execute_result"
    }
   ],
   "source": [
    "df.EventName.value_counts()"
   ]
  },
  {
   "cell_type": "code",
   "execution_count": 5,
   "metadata": {},
   "outputs": [
    {
     "data": {
      "text/plain": [
       "248    85747\n",
       "246    80304\n",
       "247    78075\n",
       "Name: ExpId, dtype: int64"
      ]
     },
     "execution_count": 5,
     "metadata": {},
     "output_type": "execute_result"
    }
   ],
   "source": [
    "df.ExpId.value_counts()"
   ]
  },
  {
   "cell_type": "markdown",
   "metadata": {},
   "source": [
    "### Вывод\n",
    "С данными познакомились, можно приступать к их обработке."
   ]
  },
  {
   "cell_type": "markdown",
   "metadata": {},
   "source": [
    "## Предобработка и исследование данных"
   ]
  },
  {
   "cell_type": "code",
   "execution_count": 6,
   "metadata": {},
   "outputs": [],
   "source": [
    "# Для удобства переименуем столбцы\n",
    "df = df.rename(columns={'EventName' : 'event',\n",
    "                        'DeviceIDHash' : 'id',\n",
    "                        'EventTimestamp' : 'dt',\n",
    "                        'ExpId' : 'group'})"
   ]
  },
  {
   "cell_type": "code",
   "execution_count": 7,
   "metadata": {},
   "outputs": [],
   "source": [
    "# Преобразуем столбец с датой и временем к соответствующему формату\n",
    "df.dt = pd.to_datetime(df.dt, unit='s')"
   ]
  },
  {
   "cell_type": "code",
   "execution_count": 8,
   "metadata": {},
   "outputs": [],
   "source": [
    "# Создадим столбец, содержащий только дату события\n",
    "df['date'] = df.dt.astype('datetime64[D]')"
   ]
  },
  {
   "cell_type": "code",
   "execution_count": 9,
   "metadata": {},
   "outputs": [
    {
     "name": "stdout",
     "output_type": "stream",
     "text": [
      "Строк дублируется: 413, что составляет: 0.17% от общего количества строк.\n"
     ]
    }
   ],
   "source": [
    "# Проверим наличие дубликатов и избавимся от них\n",
    "print('Строк дублируется: {:.0f},'.format(df.duplicated().sum()),\n",
    "      'что составляет: {:.2%} от общего количества строк.'.format((df.duplicated().sum() / len(df))))"
   ]
  },
  {
   "cell_type": "code",
   "execution_count": 10,
   "metadata": {},
   "outputs": [],
   "source": [
    "df = df.drop_duplicates().reset_index(drop=True)"
   ]
  },
  {
   "cell_type": "code",
   "execution_count": 11,
   "metadata": {},
   "outputs": [
    {
     "name": "stdout",
     "output_type": "stream",
     "text": [
      "<class 'pandas.core.frame.DataFrame'>\n",
      "RangeIndex: 243713 entries, 0 to 243712\n",
      "Data columns (total 5 columns):\n",
      " #   Column  Non-Null Count   Dtype         \n",
      "---  ------  --------------   -----         \n",
      " 0   event   243713 non-null  object        \n",
      " 1   id      243713 non-null  int64         \n",
      " 2   dt      243713 non-null  datetime64[ns]\n",
      " 3   group   243713 non-null  int64         \n",
      " 4   date    243713 non-null  datetime64[ns]\n",
      "dtypes: datetime64[ns](2), int64(2), object(1)\n",
      "memory usage: 9.3+ MB\n"
     ]
    }
   ],
   "source": [
    "df.info()"
   ]
  },
  {
   "cell_type": "markdown",
   "metadata": {},
   "source": [
    "#### Вывод\n",
    "Столбцы переименованны, информация о датах приведена к нужному формату, пропуски отсутствуют а дубликаты удалены. Можно переходить к следующему этапу."
   ]
  },
  {
   "cell_type": "markdown",
   "metadata": {},
   "source": [
    "## Исследовательский анализ данных (EDA)"
   ]
  },
  {
   "cell_type": "code",
   "execution_count": 12,
   "metadata": {},
   "outputs": [
    {
     "name": "stdout",
     "output_type": "stream",
     "text": [
      "Всего событий в логе: 243713\n"
     ]
    }
   ],
   "source": [
    "print('Всего событий в логе:', df.event.count())"
   ]
  },
  {
   "cell_type": "code",
   "execution_count": 13,
   "metadata": {},
   "outputs": [
    {
     "name": "stdout",
     "output_type": "stream",
     "text": [
      "Всего пользователей в логе: 7551\n"
     ]
    }
   ],
   "source": [
    "print('Всего пользователей в логе:', df.id.nunique())"
   ]
  },
  {
   "cell_type": "code",
   "execution_count": 14,
   "metadata": {},
   "outputs": [
    {
     "name": "stdout",
     "output_type": "stream",
     "text": [
      "В среднем на пользователя приходится 32 события\n"
     ]
    }
   ],
   "source": [
    "print('В среднем на пользователя приходится', int((df.event.count() / df.id.nunique()).round()), 'события')"
   ]
  },
  {
   "cell_type": "code",
   "execution_count": 15,
   "metadata": {},
   "outputs": [
    {
     "name": "stdout",
     "output_type": "stream",
     "text": [
      "Первая дата в логе: 2019-07-25 04:43:36\n",
      "Последняя дата в логе: 2019-08-07 21:15:17\n"
     ]
    }
   ],
   "source": [
    "print('Первая дата в логе:', df.dt.min())\n",
    "print('Последняя дата в логе:', df.dt.max())"
   ]
  },
  {
   "cell_type": "code",
   "execution_count": 16,
   "metadata": {},
   "outputs": [
    {
     "data": {
      "image/png": "[encoded data removed]",
      "text/plain": [
       "<Figure size 1300x500 with 1 Axes>"
      ]
     },
     "metadata": {},
     "output_type": "display_data"
    }
   ],
   "source": [
    "# Построим гистограмму распределения пользовательской активности во времени\n",
    "df['dt'].hist(bins=100, figsize=(13,5))\n",
    "plt.title('Распределение пользовательской активности во времени')\n",
    "plt.xlabel('Дата')\n",
    "plt.ylabel('Пользовательская активность');"
   ]
  },
  {
   "cell_type": "code",
   "execution_count": 17,
   "metadata": {},
   "outputs": [
    {
     "name": "stdout",
     "output_type": "stream",
     "text": [
      "95% данных сосредоточено после 2019-08-01 09:28:05\n"
     ]
    }
   ],
   "source": [
    "print('95% данных сосредоточено после', df.dt.quantile(0.05))"
   ]
  },
  {
   "cell_type": "markdown",
   "metadata": {},
   "source": [
    "### Комментарий\n",
    "Как можно заметить на графике, практически все данные о пользовательской активности сосредоточены после 1 августа."
   ]
  },
  {
   "cell_type": "code",
   "execution_count": 18,
   "metadata": {},
   "outputs": [],
   "source": [
    "# Создадим обновленный датафрейм, содержащий информацию начиная с 1 августа\n",
    "new_df = df.query('dt > \"2019-08-01 00:00:00\"')"
   ]
  },
  {
   "cell_type": "code",
   "execution_count": 19,
   "metadata": {},
   "outputs": [
    {
     "name": "stdout",
     "output_type": "stream",
     "text": [
      "Отбросив старые данные, мы потеряли 2826 событий, что составляет 1.16% от общего количества данных\n"
     ]
    }
   ],
   "source": [
    "print('Отбросив старые данные, мы потеряли', \n",
    "      df['event'].count() - new_df['event'].count(),\n",
    "      'событий, что составляет {:.2%} от общего количества данных'.format(\n",
    "      ((df['event'].count() - new_df['event'].count()) / df['event'].count())))"
   ]
  },
  {
   "cell_type": "code",
   "execution_count": 20,
   "metadata": {},
   "outputs": [
    {
     "name": "stdout",
     "output_type": "stream",
     "text": [
      "Отбросив старые данные, мы потеряли 17 уникальных пользователей, что составляет 0.23% от общего количества данных\n"
     ]
    }
   ],
   "source": [
    "print('Отбросив старые данные, мы потеряли', \n",
    "      df['id'].nunique() - new_df['id'].nunique(),\n",
    "      'уникальных пользователей, что составляет {:.2%} от общего количества данных'.format(\n",
    "      (df['id'].nunique() - new_df['id'].nunique()) / df['id'].nunique()))"
   ]
  },
  {
   "cell_type": "code",
   "execution_count": 21,
   "metadata": {},
   "outputs": [
    {
     "data": {
      "text/html": [
       "<div>\n",
       "<style scoped>\n",
       "    .dataframe tbody tr th:only-of-type {\n",
       "        vertical-align: middle;\n",
       "    }\n",
       "\n",
       "    .dataframe tbody tr th {\n",
       "        vertical-align: top;\n",
       "    }\n",
       "\n",
       "    .dataframe thead th {\n",
       "        text-align: right;\n",
       "    }\n",
       "</style>\n",
       "<table border=\"1\" class=\"dataframe\">\n",
       "  <thead>\n",
       "    <tr style=\"text-align: right;\">\n",
       "      <th></th>\n",
       "      <th>id</th>\n",
       "    </tr>\n",
       "    <tr>\n",
       "      <th>group</th>\n",
       "      <th></th>\n",
       "    </tr>\n",
       "  </thead>\n",
       "  <tbody>\n",
       "    <tr>\n",
       "      <th>246</th>\n",
       "      <td>2484</td>\n",
       "    </tr>\n",
       "    <tr>\n",
       "      <th>247</th>\n",
       "      <td>2513</td>\n",
       "    </tr>\n",
       "    <tr>\n",
       "      <th>248</th>\n",
       "      <td>2537</td>\n",
       "    </tr>\n",
       "  </tbody>\n",
       "</table>\n",
       "</div>"
      ],
      "text/plain": [
       "         id\n",
       "group      \n",
       "246    2484\n",
       "247    2513\n",
       "248    2537"
      ]
     },
     "execution_count": 21,
     "metadata": {},
     "output_type": "execute_result"
    }
   ],
   "source": [
    "new_df.groupby('group').agg({'id':'nunique'})"
   ]
  },
  {
   "cell_type": "markdown",
   "metadata": {},
   "source": [
    "### Комментарий\n",
    "Во всех группах осталось приблизительно равное количество уникальных пользователей."
   ]
  },
  {
   "cell_type": "markdown",
   "metadata": {},
   "source": [
    "## Изучение воронки событий"
   ]
  },
  {
   "cell_type": "code",
   "execution_count": 22,
   "metadata": {},
   "outputs": [
    {
     "data": {
      "text/html": [
       "<div>\n",
       "<style scoped>\n",
       "    .dataframe tbody tr th:only-of-type {\n",
       "        vertical-align: middle;\n",
       "    }\n",
       "\n",
       "    .dataframe tbody tr th {\n",
       "        vertical-align: top;\n",
       "    }\n",
       "\n",
       "    .dataframe thead th {\n",
       "        text-align: right;\n",
       "    }\n",
       "</style>\n",
       "<table border=\"1\" class=\"dataframe\">\n",
       "  <thead>\n",
       "    <tr style=\"text-align: right;\">\n",
       "      <th></th>\n",
       "      <th>event</th>\n",
       "      <th>id</th>\n",
       "    </tr>\n",
       "  </thead>\n",
       "  <tbody>\n",
       "    <tr>\n",
       "      <th>0</th>\n",
       "      <td>MainScreenAppear</td>\n",
       "      <td>117328</td>\n",
       "    </tr>\n",
       "    <tr>\n",
       "      <th>1</th>\n",
       "      <td>OffersScreenAppear</td>\n",
       "      <td>46333</td>\n",
       "    </tr>\n",
       "    <tr>\n",
       "      <th>2</th>\n",
       "      <td>CartScreenAppear</td>\n",
       "      <td>42303</td>\n",
       "    </tr>\n",
       "    <tr>\n",
       "      <th>3</th>\n",
       "      <td>PaymentScreenSuccessful</td>\n",
       "      <td>33918</td>\n",
       "    </tr>\n",
       "    <tr>\n",
       "      <th>4</th>\n",
       "      <td>Tutorial</td>\n",
       "      <td>1005</td>\n",
       "    </tr>\n",
       "  </tbody>\n",
       "</table>\n",
       "</div>"
      ],
      "text/plain": [
       "                     event      id\n",
       "0         MainScreenAppear  117328\n",
       "1       OffersScreenAppear   46333\n",
       "2         CartScreenAppear   42303\n",
       "3  PaymentScreenSuccessful   33918\n",
       "4                 Tutorial    1005"
      ]
     },
     "execution_count": 22,
     "metadata": {},
     "output_type": "execute_result"
    }
   ],
   "source": [
    "all_events = new_df.groupby('event').agg({'id' : 'count'}).sort_values(\n",
    "    by = 'id', ascending = False).reset_index()\n",
    "all_events"
   ]
  },
  {
   "cell_type": "code",
   "execution_count": 23,
   "metadata": {},
   "outputs": [
    {
     "data": {
      "image/png": "[encoded data removed]",
      "text/plain": [
       "<Figure size 500x500 with 1 Axes>"
      ]
     },
     "metadata": {},
     "output_type": "display_data"
    }
   ],
   "source": [
    "all_events.sort_values(by='id').plot(kind='barh', x='event', y='id', grid=True, figsize=(5,5))\n",
    "plt.title('Распределение пользовательской активности по событиям')\n",
    "plt.xlabel('Количество совершенных событий')\n",
    "plt.ylabel('Название события');"
   ]
  },
  {
   "cell_type": "markdown",
   "metadata": {},
   "source": [
    "### Комментарий\n",
    "В логе присутствует 5 видов событий. Начиная от самого популярного, это:\n",
    " - MainScreenAppear\t(Главная страница);\n",
    " - OffersScreenAppear (Страница предложений);\n",
    " - CartScreenAppear (Страница корзины);\n",
    " - PaymentScreenSuccessful (Страница успешной оплаты);\n",
    " - Tutorial (Руководство пользователя).\n",
    "\n",
    "Порядок событий: 1. Main Screen Appear → 2. Offers Screen Appear → 3. Cart Screen Appear → 4. Payment Screen Successful \n",
    "\n",
    "Событие \"Tutorial\" - как правило ситуационное, к нему пользователи могут прийти на любом из этапов, а могут и не воспользоваться совсем."
   ]
  },
  {
   "cell_type": "markdown",
   "metadata": {},
   "source": [
    "### Воронка всех пользователей"
   ]
  },
  {
   "cell_type": "code",
   "execution_count": 24,
   "metadata": {},
   "outputs": [
    {
     "data": {
      "text/html": [
       "<div>\n",
       "<style scoped>\n",
       "    .dataframe tbody tr th:only-of-type {\n",
       "        vertical-align: middle;\n",
       "    }\n",
       "\n",
       "    .dataframe tbody tr th {\n",
       "        vertical-align: top;\n",
       "    }\n",
       "\n",
       "    .dataframe thead th {\n",
       "        text-align: right;\n",
       "    }\n",
       "</style>\n",
       "<table border=\"1\" class=\"dataframe\">\n",
       "  <thead>\n",
       "    <tr style=\"text-align: right;\">\n",
       "      <th>event</th>\n",
       "      <th>CartScreenAppear</th>\n",
       "      <th>MainScreenAppear</th>\n",
       "      <th>OffersScreenAppear</th>\n",
       "      <th>PaymentScreenSuccessful</th>\n",
       "      <th>Tutorial</th>\n",
       "    </tr>\n",
       "    <tr>\n",
       "      <th>date</th>\n",
       "      <th></th>\n",
       "      <th></th>\n",
       "      <th></th>\n",
       "      <th></th>\n",
       "      <th></th>\n",
       "    </tr>\n",
       "  </thead>\n",
       "  <tbody>\n",
       "    <tr>\n",
       "      <th>2019-08-01 00:07:28</th>\n",
       "      <td>NaN</td>\n",
       "      <td>NaN</td>\n",
       "      <td>NaN</td>\n",
       "      <td>NaN</td>\n",
       "      <td>1.0</td>\n",
       "    </tr>\n",
       "    <tr>\n",
       "      <th>2019-08-01 00:08:00</th>\n",
       "      <td>NaN</td>\n",
       "      <td>1.0</td>\n",
       "      <td>NaN</td>\n",
       "      <td>NaN</td>\n",
       "      <td>NaN</td>\n",
       "    </tr>\n",
       "    <tr>\n",
       "      <th>2019-08-01 00:08:55</th>\n",
       "      <td>NaN</td>\n",
       "      <td>1.0</td>\n",
       "      <td>NaN</td>\n",
       "      <td>NaN</td>\n",
       "      <td>NaN</td>\n",
       "    </tr>\n",
       "    <tr>\n",
       "      <th>2019-08-01 00:08:58</th>\n",
       "      <td>NaN</td>\n",
       "      <td>NaN</td>\n",
       "      <td>1.0</td>\n",
       "      <td>NaN</td>\n",
       "      <td>NaN</td>\n",
       "    </tr>\n",
       "    <tr>\n",
       "      <th>2019-08-01 00:08:59</th>\n",
       "      <td>NaN</td>\n",
       "      <td>1.0</td>\n",
       "      <td>NaN</td>\n",
       "      <td>NaN</td>\n",
       "      <td>NaN</td>\n",
       "    </tr>\n",
       "    <tr>\n",
       "      <th>...</th>\n",
       "      <td>...</td>\n",
       "      <td>...</td>\n",
       "      <td>...</td>\n",
       "      <td>...</td>\n",
       "      <td>...</td>\n",
       "    </tr>\n",
       "    <tr>\n",
       "      <th>2019-08-07 21:12:25</th>\n",
       "      <td>NaN</td>\n",
       "      <td>1.0</td>\n",
       "      <td>NaN</td>\n",
       "      <td>NaN</td>\n",
       "      <td>NaN</td>\n",
       "    </tr>\n",
       "    <tr>\n",
       "      <th>2019-08-07 21:13:59</th>\n",
       "      <td>NaN</td>\n",
       "      <td>1.0</td>\n",
       "      <td>NaN</td>\n",
       "      <td>NaN</td>\n",
       "      <td>NaN</td>\n",
       "    </tr>\n",
       "    <tr>\n",
       "      <th>2019-08-07 21:14:43</th>\n",
       "      <td>NaN</td>\n",
       "      <td>1.0</td>\n",
       "      <td>NaN</td>\n",
       "      <td>NaN</td>\n",
       "      <td>NaN</td>\n",
       "    </tr>\n",
       "    <tr>\n",
       "      <th>2019-08-07 21:14:58</th>\n",
       "      <td>NaN</td>\n",
       "      <td>1.0</td>\n",
       "      <td>NaN</td>\n",
       "      <td>NaN</td>\n",
       "      <td>NaN</td>\n",
       "    </tr>\n",
       "    <tr>\n",
       "      <th>2019-08-07 21:15:17</th>\n",
       "      <td>NaN</td>\n",
       "      <td>NaN</td>\n",
       "      <td>1.0</td>\n",
       "      <td>NaN</td>\n",
       "      <td>NaN</td>\n",
       "    </tr>\n",
       "  </tbody>\n",
       "</table>\n",
       "<p>174044 rows × 5 columns</p>\n",
       "</div>"
      ],
      "text/plain": [
       "event                CartScreenAppear  MainScreenAppear  OffersScreenAppear  \\\n",
       "date                                                                          \n",
       "2019-08-01 00:07:28               NaN               NaN                 NaN   \n",
       "2019-08-01 00:08:00               NaN               1.0                 NaN   \n",
       "2019-08-01 00:08:55               NaN               1.0                 NaN   \n",
       "2019-08-01 00:08:58               NaN               NaN                 1.0   \n",
       "2019-08-01 00:08:59               NaN               1.0                 NaN   \n",
       "...                               ...               ...                 ...   \n",
       "2019-08-07 21:12:25               NaN               1.0                 NaN   \n",
       "2019-08-07 21:13:59               NaN               1.0                 NaN   \n",
       "2019-08-07 21:14:43               NaN               1.0                 NaN   \n",
       "2019-08-07 21:14:58               NaN               1.0                 NaN   \n",
       "2019-08-07 21:15:17               NaN               NaN                 1.0   \n",
       "\n",
       "event                PaymentScreenSuccessful  Tutorial  \n",
       "date                                                    \n",
       "2019-08-01 00:07:28                      NaN       1.0  \n",
       "2019-08-01 00:08:00                      NaN       NaN  \n",
       "2019-08-01 00:08:55                      NaN       NaN  \n",
       "2019-08-01 00:08:58                      NaN       NaN  \n",
       "2019-08-01 00:08:59                      NaN       NaN  \n",
       "...                                      ...       ...  \n",
       "2019-08-07 21:12:25                      NaN       NaN  \n",
       "2019-08-07 21:13:59                      NaN       NaN  \n",
       "2019-08-07 21:14:43                      NaN       NaN  \n",
       "2019-08-07 21:14:58                      NaN       NaN  \n",
       "2019-08-07 21:15:17                      NaN       NaN  \n",
       "\n",
       "[174044 rows x 5 columns]"
      ]
     },
     "execution_count": 24,
     "metadata": {},
     "output_type": "execute_result"
    }
   ],
   "source": [
    "# Сгруппируем количество всех событий по датам\n",
    "users_funnel = new_df.pivot_table(\n",
    "    index='date', \n",
    "    columns='event', \n",
    "    values='id',\n",
    "    aggfunc='count')\n",
    "users_funnel"
   ]
  },
  {
   "cell_type": "code",
   "execution_count": 25,
   "metadata": {},
   "outputs": [
    {
     "data": {
      "application/vnd.plotly.v1+json": {
       "config": {
        "plotlyServerURL": "https://plot.ly"
       },
       "data": [
        {
         "type": "funnel",
         "x": [
          117328,
          46333,
          42303,
          33918
         ],
         "y": [
          "Главная страница",
          "Страница предложений",
          "Страница корзины",
          "Страница успешной оплаты"
         ]
        }
       ],
       "layout": {
        "template": {
         "data": {
          "bar": [
           {
            "error_x": {
             "color": "#2a3f5f"
            },
            "error_y": {
             "color": "#2a3f5f"
            },
            "marker": {
             "line": {
              "color": "#E5ECF6",
              "width": 0.5
             },
             "pattern": {
              "fillmode": "overlay",
              "size": 10,
              "solidity": 0.2
             }
            },
            "type": "bar"
           }
          ],
          "barpolar": [
           {
            "marker": {
             "line": {
              "color": "#E5ECF6",
              "width": 0.5
             },
             "pattern": {
              "fillmode": "overlay",
              "size": 10,
              "solidity": 0.2
             }
            },
            "type": "barpolar"
           }
          ],
          "carpet": [
           {
            "aaxis": {
             "endlinecolor": "#2a3f5f",
             "gridcolor": "white",
             "linecolor": "white",
             "minorgridcolor": "white",
             "startlinecolor": "#2a3f5f"
            },
            "baxis": {
             "endlinecolor": "#2a3f5f",
             "gridcolor": "white",
             "linecolor": "white",
             "minorgridcolor": "white",
             "startlinecolor": "#2a3f5f"
            },
            "type": "carpet"
           }
          ],
          "choropleth": [
           {
            "colorbar": {
             "outlinewidth": 0,
             "ticks": ""
            },
            "type": "choropleth"
           }
          ],
          "contour": [
           {
            "colorbar": {
             "outlinewidth": 0,
             "ticks": ""
            },
            "colorscale": [
             [
              0,
              "#0d0887"
             ],
             [
              0.1111111111111111,
              "#46039f"
             ],
             [
              0.2222222222222222,
              "#7201a8"
             ],
             [
              0.3333333333333333,
              "#9c179e"
             ],
             [
              0.4444444444444444,
              "#bd3786"
             ],
             [
              0.5555555555555556,
              "#d8576b"
             ],
             [
              0.6666666666666666,
              "#ed7953"
             ],
             [
              0.7777777777777778,
              "#fb9f3a"
             ],
             [
              0.8888888888888888,
              "#fdca26"
             ],
             [
              1,
              "#f0f921"
             ]
            ],
            "type": "contour"
           }
          ],
          "contourcarpet": [
           {
            "colorbar": {
             "outlinewidth": 0,
             "ticks": ""
            },
            "type": "contourcarpet"
           }
          ],
          "heatmap": [
           {
            "colorbar": {
             "outlinewidth": 0,
             "ticks": ""
            },
            "colorscale": [
             [
              0,
              "#0d0887"
             ],
             [
              0.1111111111111111,
              "#46039f"
             ],
             [
              0.2222222222222222,
              "#7201a8"
             ],
             [
              0.3333333333333333,
              "#9c179e"
             ],
             [
              0.4444444444444444,
              "#bd3786"
             ],
             [
              0.5555555555555556,
              "#d8576b"
             ],
             [
              0.6666666666666666,
              "#ed7953"
             ],
             [
              0.7777777777777778,
              "#fb9f3a"
             ],
             [
              0.8888888888888888,
              "#fdca26"
             ],
             [
              1,
              "#f0f921"
             ]
            ],
            "type": "heatmap"
           }
          ],
          "heatmapgl": [
           {
            "colorbar": {
             "outlinewidth": 0,
             "ticks": ""
            },
            "colorscale": [
             [
              0,
              "#0d0887"
             ],
             [
              0.1111111111111111,
              "#46039f"
             ],
             [
              0.2222222222222222,
              "#7201a8"
             ],
             [
              0.3333333333333333,
              "#9c179e"
             ],
             [
              0.4444444444444444,
              "#bd3786"
             ],
             [
              0.5555555555555556,
              "#d8576b"
             ],
             [
              0.6666666666666666,
              "#ed7953"
             ],
             [
              0.7777777777777778,
              "#fb9f3a"
             ],
             [
              0.8888888888888888,
              "#fdca26"
             ],
             [
              1,
              "#f0f921"
             ]
            ],
            "type": "heatmapgl"
           }
          ],
          "histogram": [
           {
            "marker": {
             "pattern": {
              "fillmode": "overlay",
              "size": 10,
              "solidity": 0.2
             }
            },
            "type": "histogram"
           }
          ],
          "histogram2d": [
           {
            "colorbar": {
             "outlinewidth": 0,
             "ticks": ""
            },
            "colorscale": [
             [
              0,
              "#0d0887"
             ],
             [
              0.1111111111111111,
              "#46039f"
             ],
             [
              0.2222222222222222,
              "#7201a8"
             ],
             [
              0.3333333333333333,
              "#9c179e"
             ],
             [
              0.4444444444444444,
              "#bd3786"
             ],
             [
              0.5555555555555556,
              "#d8576b"
             ],
             [
              0.6666666666666666,
              "#ed7953"
             ],
             [
              0.7777777777777778,
              "#fb9f3a"
             ],
             [
              0.8888888888888888,
              "#fdca26"
             ],
             [
              1,
              "#f0f921"
             ]
            ],
            "type": "histogram2d"
           }
          ],
          "histogram2dcontour": [
           {
            "colorbar": {
             "outlinewidth": 0,
             "ticks": ""
            },
            "colorscale": [
             [
              0,
              "#0d0887"
             ],
             [
              0.1111111111111111,
              "#46039f"
             ],
             [
              0.2222222222222222,
              "#7201a8"
             ],
             [
              0.3333333333333333,
              "#9c179e"
             ],
             [
              0.4444444444444444,
              "#bd3786"
             ],
             [
              0.5555555555555556,
              "#d8576b"
             ],
             [
              0.6666666666666666,
              "#ed7953"
             ],
             [
              0.7777777777777778,
              "#fb9f3a"
             ],
             [
              0.8888888888888888,
              "#fdca26"
             ],
             [
              1,
              "#f0f921"
             ]
            ],
            "type": "histogram2dcontour"
           }
          ],
          "mesh3d": [
           {
            "colorbar": {
             "outlinewidth": 0,
             "ticks": ""
            },
            "type": "mesh3d"
           }
          ],
          "parcoords": [
           {
            "line": {
             "colorbar": {
              "outlinewidth": 0,
              "ticks": ""
             }
            },
            "type": "parcoords"
           }
          ],
          "pie": [
           {
            "automargin": true,
            "type": "pie"
           }
          ],
          "scatter": [
           {
            "fillpattern": {
             "fillmode": "overlay",
             "size": 10,
             "solidity": 0.2
            },
            "type": "scatter"
           }
          ],
          "scatter3d": [
           {
            "line": {
             "colorbar": {
              "outlinewidth": 0,
              "ticks": ""
             }
            },
            "marker": {
             "colorbar": {
              "outlinewidth": 0,
              "ticks": ""
             }
            },
            "type": "scatter3d"
           }
          ],
          "scattercarpet": [
           {
            "marker": {
             "colorbar": {
              "outlinewidth": 0,
              "ticks": ""
             }
            },
            "type": "scattercarpet"
           }
          ],
          "scattergeo": [
           {
            "marker": {
             "colorbar": {
              "outlinewidth": 0,
              "ticks": ""
             }
            },
            "type": "scattergeo"
           }
          ],
          "scattergl": [
           {
            "marker": {
             "colorbar": {
              "outlinewidth": 0,
              "ticks": ""
             }
            },
            "type": "scattergl"
           }
          ],
          "scattermapbox": [
           {
            "marker": {
             "colorbar": {
              "outlinewidth": 0,
              "ticks": ""
             }
            },
            "type": "scattermapbox"
           }
          ],
          "scatterpolar": [
           {
            "marker": {
             "colorbar": {
              "outlinewidth": 0,
              "ticks": ""
             }
            },
            "type": "scatterpolar"
           }
          ],
          "scatterpolargl": [
           {
            "marker": {
             "colorbar": {
              "outlinewidth": 0,
              "ticks": ""
             }
            },
            "type": "scatterpolargl"
           }
          ],
          "scatterternary": [
           {
            "marker": {
             "colorbar": {
              "outlinewidth": 0,
              "ticks": ""
             }
            },
            "type": "scatterternary"
           }
          ],
          "surface": [
           {
            "colorbar": {
             "outlinewidth": 0,
             "ticks": ""
            },
            "colorscale": [
             [
              0,
              "#0d0887"
             ],
             [
              0.1111111111111111,
              "#46039f"
             ],
             [
              0.2222222222222222,
              "#7201a8"
             ],
             [
              0.3333333333333333,
              "#9c179e"
             ],
             [
              0.4444444444444444,
              "#bd3786"
             ],
             [
              0.5555555555555556,
              "#d8576b"
             ],
             [
              0.6666666666666666,
              "#ed7953"
             ],
             [
              0.7777777777777778,
              "#fb9f3a"
             ],
             [
              0.8888888888888888,
              "#fdca26"
             ],
             [
              1,
              "#f0f921"
             ]
            ],
            "type": "surface"
           }
          ],
          "table": [
           {
            "cells": {
             "fill": {
              "color": "#EBF0F8"
             },
             "line": {
              "color": "white"
             }
            },
            "header": {
             "fill": {
              "color": "#C8D4E3"
             },
             "line": {
              "color": "white"
             }
            },
            "type": "table"
           }
          ]
         },
         "layout": {
          "annotationdefaults": {
           "arrowcolor": "#2a3f5f",
           "arrowhead": 0,
           "arrowwidth": 1
          },
          "autotypenumbers": "strict",
          "coloraxis": {
           "colorbar": {
            "outlinewidth": 0,
            "ticks": ""
           }
          },
          "colorscale": {
           "diverging": [
            [
             0,
             "#8e0152"
            ],
            [
             0.1,
             "#c51b7d"
            ],
            [
             0.2,
             "#de77ae"
            ],
            [
             0.3,
             "#f1b6da"
            ],
            [
             0.4,
             "#fde0ef"
            ],
            [
             0.5,
             "#f7f7f7"
            ],
            [
             0.6,
             "#e6f5d0"
            ],
            [
             0.7,
             "#b8e186"
            ],
            [
             0.8,
             "#7fbc41"
            ],
            [
             0.9,
             "#4d9221"
            ],
            [
             1,
             "#276419"
            ]
           ],
           "sequential": [
            [
             0,
             "#0d0887"
            ],
            [
             0.1111111111111111,
             "#46039f"
            ],
            [
             0.2222222222222222,
             "#7201a8"
            ],
            [
             0.3333333333333333,
             "#9c179e"
            ],
            [
             0.4444444444444444,
             "#bd3786"
            ],
            [
             0.5555555555555556,
             "#d8576b"
            ],
            [
             0.6666666666666666,
             "#ed7953"
            ],
            [
             0.7777777777777778,
             "#fb9f3a"
            ],
            [
             0.8888888888888888,
             "#fdca26"
            ],
            [
             1,
             "#f0f921"
            ]
           ],
           "sequentialminus": [
            [
             0,
             "#0d0887"
            ],
            [
             0.1111111111111111,
             "#46039f"
            ],
            [
             0.2222222222222222,
             "#7201a8"
            ],
            [
             0.3333333333333333,
             "#9c179e"
            ],
            [
             0.4444444444444444,
             "#bd3786"
            ],
            [
             0.5555555555555556,
             "#d8576b"
            ],
            [
             0.6666666666666666,
             "#ed7953"
            ],
            [
             0.7777777777777778,
             "#fb9f3a"
            ],
            [
             0.8888888888888888,
             "#fdca26"
            ],
            [
             1,
             "#f0f921"
            ]
           ]
          },
          "colorway": [
           "#636efa",
           "#EF553B",
           "#00cc96",
           "#ab63fa",
           "#FFA15A",
           "#19d3f3",
           "#FF6692",
           "#B6E880",
           "#FF97FF",
           "#FECB52"
          ],
          "font": {
           "color": "#2a3f5f"
          },
          "geo": {
           "bgcolor": "white",
           "lakecolor": "white",
           "landcolor": "#E5ECF6",
           "showlakes": true,
           "showland": true,
           "subunitcolor": "white"
          },
          "hoverlabel": {
           "align": "left"
          },
          "hovermode": "closest",
          "mapbox": {
           "style": "light"
          },
          "paper_bgcolor": "white",
          "plot_bgcolor": "#E5ECF6",
          "polar": {
           "angularaxis": {
            "gridcolor": "white",
            "linecolor": "white",
            "ticks": ""
           },
           "bgcolor": "#E5ECF6",
           "radialaxis": {
            "gridcolor": "white",
            "linecolor": "white",
            "ticks": ""
           }
          },
          "scene": {
           "xaxis": {
            "backgroundcolor": "#E5ECF6",
            "gridcolor": "white",
            "gridwidth": 2,
            "linecolor": "white",
            "showbackground": true,
            "ticks": "",
            "zerolinecolor": "white"
           },
           "yaxis": {
            "backgroundcolor": "#E5ECF6",
            "gridcolor": "white",
            "gridwidth": 2,
            "linecolor": "white",
            "showbackground": true,
            "ticks": "",
            "zerolinecolor": "white"
           },
           "zaxis": {
            "backgroundcolor": "#E5ECF6",
            "gridcolor": "white",
            "gridwidth": 2,
            "linecolor": "white",
            "showbackground": true,
            "ticks": "",
            "zerolinecolor": "white"
           }
          },
          "shapedefaults": {
           "line": {
            "color": "#2a3f5f"
           }
          },
          "ternary": {
           "aaxis": {
            "gridcolor": "white",
            "linecolor": "white",
            "ticks": ""
           },
           "baxis": {
            "gridcolor": "white",
            "linecolor": "white",
            "ticks": ""
           },
           "bgcolor": "#E5ECF6",
           "caxis": {
            "gridcolor": "white",
            "linecolor": "white",
            "ticks": ""
           }
          },
          "title": {
           "x": 0.05
          },
          "xaxis": {
           "automargin": true,
           "gridcolor": "white",
           "linecolor": "white",
           "ticks": "",
           "title": {
            "standoff": 15
           },
           "zerolinecolor": "white",
           "zerolinewidth": 2
          },
          "yaxis": {
           "automargin": true,
           "gridcolor": "white",
           "linecolor": "white",
           "ticks": "",
           "title": {
            "standoff": 15
           },
           "zerolinecolor": "white",
           "zerolinewidth": 2
          }
         }
        }
       }
      }
     },
     "metadata": {},
     "output_type": "display_data"
    }
   ],
   "source": [
    "# Построим график воронки событий, где значения, разбитые по датам, суммируем \n",
    "fig = go.Figure(go.Funnel(\n",
    "    y = [\"Главная страница\",\n",
    "         \"Страница предложений\", \n",
    "         \"Страница корзины\", \n",
    "         \"Страница успешной оплаты\"],\n",
    "    x = [users_funnel.MainScreenAppear.sum(), \n",
    "         users_funnel.OffersScreenAppear.sum(), \n",
    "         users_funnel.CartScreenAppear.sum(), \n",
    "         users_funnel.PaymentScreenSuccessful.sum()]\n",
    "    ))\n",
    "fig.show()"
   ]
  },
  {
   "cell_type": "markdown",
   "metadata": {},
   "source": [
    "#### Вывод\n",
    "61.5% теряется на этапе перехода от главной страницы к странице предложений. Больше половины пользователей теряется именно на этом этапе. От первого события до оплаты доходит лишь 28.9% пользователей."
   ]
  },
  {
   "cell_type": "markdown",
   "metadata": {},
   "source": [
    "### Воронка уникальных пользователей"
   ]
  },
  {
   "cell_type": "code",
   "execution_count": 26,
   "metadata": {
    "scrolled": true
   },
   "outputs": [
    {
     "name": "stdout",
     "output_type": "stream",
     "text": [
      "Пользователей, совершивших хотя бы одно событие: 7534\n"
     ]
    }
   ],
   "source": [
    "print('Пользователей, совершивших хотя бы одно событие:',new_df.id.nunique())"
   ]
  },
  {
   "cell_type": "code",
   "execution_count": 27,
   "metadata": {},
   "outputs": [],
   "source": [
    "# Создадим сводную таблицу, где значениями будут первые даты событий, совершенных пользователями\n",
    "users = new_df.pivot_table(\n",
    "    index='id', \n",
    "    columns='event', \n",
    "    values='dt',\n",
    "    aggfunc='min').reset_index()"
   ]
  },
  {
   "cell_type": "code",
   "execution_count": 28,
   "metadata": {},
   "outputs": [
    {
     "data": {
      "application/vnd.plotly.v1+json": {
       "config": {
        "plotlyServerURL": "https://plot.ly"
       },
       "data": [
        {
         "type": "funnel",
         "x": [
          7419,
          4593,
          3734,
          3539
         ],
         "y": [
          "Главная страница",
          "Страница предложений",
          "Страница корзины",
          "Страница успешной оплаты"
         ]
        }
       ],
       "layout": {
        "template": {
         "data": {
          "bar": [
           {
            "error_x": {
             "color": "#2a3f5f"
            },
            "error_y": {
             "color": "#2a3f5f"
            },
            "marker": {
             "line": {
              "color": "#E5ECF6",
              "width": 0.5
             },
             "pattern": {
              "fillmode": "overlay",
              "size": 10,
              "solidity": 0.2
             }
            },
            "type": "bar"
           }
          ],
          "barpolar": [
           {
            "marker": {
             "line": {
              "color": "#E5ECF6",
              "width": 0.5
             },
             "pattern": {
              "fillmode": "overlay",
              "size": 10,
              "solidity": 0.2
             }
            },
            "type": "barpolar"
           }
          ],
          "carpet": [
           {
            "aaxis": {
             "endlinecolor": "#2a3f5f",
             "gridcolor": "white",
             "linecolor": "white",
             "minorgridcolor": "white",
             "startlinecolor": "#2a3f5f"
            },
            "baxis": {
             "endlinecolor": "#2a3f5f",
             "gridcolor": "white",
             "linecolor": "white",
             "minorgridcolor": "white",
             "startlinecolor": "#2a3f5f"
            },
            "type": "carpet"
           }
          ],
          "choropleth": [
           {
            "colorbar": {
             "outlinewidth": 0,
             "ticks": ""
            },
            "type": "choropleth"
           }
          ],
          "contour": [
           {
            "colorbar": {
             "outlinewidth": 0,
             "ticks": ""
            },
            "colorscale": [
             [
              0,
              "#0d0887"
             ],
             [
              0.1111111111111111,
              "#46039f"
             ],
             [
              0.2222222222222222,
              "#7201a8"
             ],
             [
              0.3333333333333333,
              "#9c179e"
             ],
             [
              0.4444444444444444,
              "#bd3786"
             ],
             [
              0.5555555555555556,
              "#d8576b"
             ],
             [
              0.6666666666666666,
              "#ed7953"
             ],
             [
              0.7777777777777778,
              "#fb9f3a"
             ],
             [
              0.8888888888888888,
              "#fdca26"
             ],
             [
              1,
              "#f0f921"
             ]
            ],
            "type": "contour"
           }
          ],
          "contourcarpet": [
           {
            "colorbar": {
             "outlinewidth": 0,
             "ticks": ""
            },
            "type": "contourcarpet"
           }
          ],
          "heatmap": [
           {
            "colorbar": {
             "outlinewidth": 0,
             "ticks": ""
            },
            "colorscale": [
             [
              0,
              "#0d0887"
             ],
             [
              0.1111111111111111,
              "#46039f"
             ],
             [
              0.2222222222222222,
              "#7201a8"
             ],
             [
              0.3333333333333333,
              "#9c179e"
             ],
             [
              0.4444444444444444,
              "#bd3786"
             ],
             [
              0.5555555555555556,
              "#d8576b"
             ],
             [
              0.6666666666666666,
              "#ed7953"
             ],
             [
              0.7777777777777778,
              "#fb9f3a"
             ],
             [
              0.8888888888888888,
              "#fdca26"
             ],
             [
              1,
              "#f0f921"
             ]
            ],
            "type": "heatmap"
           }
          ],
          "heatmapgl": [
           {
            "colorbar": {
             "outlinewidth": 0,
             "ticks": ""
            },
            "colorscale": [
             [
              0,
              "#0d0887"
             ],
             [
              0.1111111111111111,
              "#46039f"
             ],
             [
              0.2222222222222222,
              "#7201a8"
             ],
             [
              0.3333333333333333,
              "#9c179e"
             ],
             [
              0.4444444444444444,
              "#bd3786"
             ],
             [
              0.5555555555555556,
              "#d8576b"
             ],
             [
              0.6666666666666666,
              "#ed7953"
             ],
             [
              0.7777777777777778,
              "#fb9f3a"
             ],
             [
              0.8888888888888888,
              "#fdca26"
             ],
             [
              1,
              "#f0f921"
             ]
            ],
            "type": "heatmapgl"
           }
          ],
          "histogram": [
           {
            "marker": {
             "pattern": {
              "fillmode": "overlay",
              "size": 10,
              "solidity": 0.2
             }
            },
            "type": "histogram"
           }
          ],
          "histogram2d": [
           {
            "colorbar": {
             "outlinewidth": 0,
             "ticks": ""
            },
            "colorscale": [
             [
              0,
              "#0d0887"
             ],
             [
              0.1111111111111111,
              "#46039f"
             ],
             [
              0.2222222222222222,
              "#7201a8"
             ],
             [
              0.3333333333333333,
              "#9c179e"
             ],
             [
              0.4444444444444444,
              "#bd3786"
             ],
             [
              0.5555555555555556,
              "#d8576b"
             ],
             [
              0.6666666666666666,
              "#ed7953"
             ],
             [
              0.7777777777777778,
              "#fb9f3a"
             ],
             [
              0.8888888888888888,
              "#fdca26"
             ],
             [
              1,
              "#f0f921"
             ]
            ],
            "type": "histogram2d"
           }
          ],
          "histogram2dcontour": [
           {
            "colorbar": {
             "outlinewidth": 0,
             "ticks": ""
            },
            "colorscale": [
             [
              0,
              "#0d0887"
             ],
             [
              0.1111111111111111,
              "#46039f"
             ],
             [
              0.2222222222222222,
              "#7201a8"
             ],
             [
              0.3333333333333333,
              "#9c179e"
             ],
             [
              0.4444444444444444,
              "#bd3786"
             ],
             [
              0.5555555555555556,
              "#d8576b"
             ],
             [
              0.6666666666666666,
              "#ed7953"
             ],
             [
              0.7777777777777778,
              "#fb9f3a"
             ],
             [
              0.8888888888888888,
              "#fdca26"
             ],
             [
              1,
              "#f0f921"
             ]
            ],
            "type": "histogram2dcontour"
           }
          ],
          "mesh3d": [
           {
            "colorbar": {
             "outlinewidth": 0,
             "ticks": ""
            },
            "type": "mesh3d"
           }
          ],
          "parcoords": [
           {
            "line": {
             "colorbar": {
              "outlinewidth": 0,
              "ticks": ""
             }
            },
            "type": "parcoords"
           }
          ],
          "pie": [
           {
            "automargin": true,
            "type": "pie"
           }
          ],
          "scatter": [
           {
            "fillpattern": {
             "fillmode": "overlay",
             "size": 10,
             "solidity": 0.2
            },
            "type": "scatter"
           }
          ],
          "scatter3d": [
           {
            "line": {
             "colorbar": {
              "outlinewidth": 0,
              "ticks": ""
             }
            },
            "marker": {
             "colorbar": {
              "outlinewidth": 0,
              "ticks": ""
             }
            },
            "type": "scatter3d"
           }
          ],
          "scattercarpet": [
           {
            "marker": {
             "colorbar": {
              "outlinewidth": 0,
              "ticks": ""
             }
            },
            "type": "scattercarpet"
           }
          ],
          "scattergeo": [
           {
            "marker": {
             "colorbar": {
              "outlinewidth": 0,
              "ticks": ""
             }
            },
            "type": "scattergeo"
           }
          ],
          "scattergl": [
           {
            "marker": {
             "colorbar": {
              "outlinewidth": 0,
              "ticks": ""
             }
            },
            "type": "scattergl"
           }
          ],
          "scattermapbox": [
           {
            "marker": {
             "colorbar": {
              "outlinewidth": 0,
              "ticks": ""
             }
            },
            "type": "scattermapbox"
           }
          ],
          "scatterpolar": [
           {
            "marker": {
             "colorbar": {
              "outlinewidth": 0,
              "ticks": ""
             }
            },
            "type": "scatterpolar"
           }
          ],
          "scatterpolargl": [
           {
            "marker": {
             "colorbar": {
              "outlinewidth": 0,
              "ticks": ""
             }
            },
            "type": "scatterpolargl"
           }
          ],
          "scatterternary": [
           {
            "marker": {
             "colorbar": {
              "outlinewidth": 0,
              "ticks": ""
             }
            },
            "type": "scatterternary"
           }
          ],
          "surface": [
           {
            "colorbar": {
             "outlinewidth": 0,
             "ticks": ""
            },
            "colorscale": [
             [
              0,
              "#0d0887"
             ],
             [
              0.1111111111111111,
              "#46039f"
             ],
             [
              0.2222222222222222,
              "#7201a8"
             ],
             [
              0.3333333333333333,
              "#9c179e"
             ],
             [
              0.4444444444444444,
              "#bd3786"
             ],
             [
              0.5555555555555556,
              "#d8576b"
             ],
             [
              0.6666666666666666,
              "#ed7953"
             ],
             [
              0.7777777777777778,
              "#fb9f3a"
             ],
             [
              0.8888888888888888,
              "#fdca26"
             ],
             [
              1,
              "#f0f921"
             ]
            ],
            "type": "surface"
           }
          ],
          "table": [
           {
            "cells": {
             "fill": {
              "color": "#EBF0F8"
             },
             "line": {
              "color": "white"
             }
            },
            "header": {
             "fill": {
              "color": "#C8D4E3"
             },
             "line": {
              "color": "white"
             }
            },
            "type": "table"
           }
          ]
         },
         "layout": {
          "annotationdefaults": {
           "arrowcolor": "#2a3f5f",
           "arrowhead": 0,
           "arrowwidth": 1
          },
          "autotypenumbers": "strict",
          "coloraxis": {
           "colorbar": {
            "outlinewidth": 0,
            "ticks": ""
           }
          },
          "colorscale": {
           "diverging": [
            [
             0,
             "#8e0152"
            ],
            [
             0.1,
             "#c51b7d"
            ],
            [
             0.2,
             "#de77ae"
            ],
            [
             0.3,
             "#f1b6da"
            ],
            [
             0.4,
             "#fde0ef"
            ],
            [
             0.5,
             "#f7f7f7"
            ],
            [
             0.6,
             "#e6f5d0"
            ],
            [
             0.7,
             "#b8e186"
            ],
            [
             0.8,
             "#7fbc41"
            ],
            [
             0.9,
             "#4d9221"
            ],
            [
             1,
             "#276419"
            ]
           ],
           "sequential": [
            [
             0,
             "#0d0887"
            ],
            [
             0.1111111111111111,
             "#46039f"
            ],
            [
             0.2222222222222222,
             "#7201a8"
            ],
            [
             0.3333333333333333,
             "#9c179e"
            ],
            [
             0.4444444444444444,
             "#bd3786"
            ],
            [
             0.5555555555555556,
             "#d8576b"
            ],
            [
             0.6666666666666666,
             "#ed7953"
            ],
            [
             0.7777777777777778,
             "#fb9f3a"
            ],
            [
             0.8888888888888888,
             "#fdca26"
            ],
            [
             1,
             "#f0f921"
            ]
           ],
           "sequentialminus": [
            [
             0,
             "#0d0887"
            ],
            [
             0.1111111111111111,
             "#46039f"
            ],
            [
             0.2222222222222222,
             "#7201a8"
            ],
            [
             0.3333333333333333,
             "#9c179e"
            ],
            [
             0.4444444444444444,
             "#bd3786"
            ],
            [
             0.5555555555555556,
             "#d8576b"
            ],
            [
             0.6666666666666666,
             "#ed7953"
            ],
            [
             0.7777777777777778,
             "#fb9f3a"
            ],
            [
             0.8888888888888888,
             "#fdca26"
            ],
            [
             1,
             "#f0f921"
            ]
           ]
          },
          "colorway": [
           "#636efa",
           "#EF553B",
           "#00cc96",
           "#ab63fa",
           "#FFA15A",
           "#19d3f3",
           "#FF6692",
           "#B6E880",
           "#FF97FF",
           "#FECB52"
          ],
          "font": {
           "color": "#2a3f5f"
          },
          "geo": {
           "bgcolor": "white",
           "lakecolor": "white",
           "landcolor": "#E5ECF6",
           "showlakes": true,
           "showland": true,
           "subunitcolor": "white"
          },
          "hoverlabel": {
           "align": "left"
          },
          "hovermode": "closest",
          "mapbox": {
           "style": "light"
          },
          "paper_bgcolor": "white",
          "plot_bgcolor": "#E5ECF6",
          "polar": {
           "angularaxis": {
            "gridcolor": "white",
            "linecolor": "white",
            "ticks": ""
           },
           "bgcolor": "#E5ECF6",
           "radialaxis": {
            "gridcolor": "white",
            "linecolor": "white",
            "ticks": ""
           }
          },
          "scene": {
           "xaxis": {
            "backgroundcolor": "#E5ECF6",
            "gridcolor": "white",
            "gridwidth": 2,
            "linecolor": "white",
            "showbackground": true,
            "ticks": "",
            "zerolinecolor": "white"
           },
           "yaxis": {
            "backgroundcolor": "#E5ECF6",
            "gridcolor": "white",
            "gridwidth": 2,
            "linecolor": "white",
            "showbackground": true,
            "ticks": "",
            "zerolinecolor": "white"
           },
           "zaxis": {
            "backgroundcolor": "#E5ECF6",
            "gridcolor": "white",
            "gridwidth": 2,
            "linecolor": "white",
            "showbackground": true,
            "ticks": "",
            "zerolinecolor": "white"
           }
          },
          "shapedefaults": {
           "line": {
            "color": "#2a3f5f"
           }
          },
          "ternary": {
           "aaxis": {
            "gridcolor": "white",
            "linecolor": "white",
            "ticks": ""
           },
           "baxis": {
            "gridcolor": "white",
            "linecolor": "white",
            "ticks": ""
           },
           "bgcolor": "#E5ECF6",
           "caxis": {
            "gridcolor": "white",
            "linecolor": "white",
            "ticks": ""
           }
          },
          "title": {
           "x": 0.05
          },
          "xaxis": {
           "automargin": true,
           "gridcolor": "white",
           "linecolor": "white",
           "ticks": "",
           "title": {
            "standoff": 15
           },
           "zerolinecolor": "white",
           "zerolinewidth": 2
          },
          "yaxis": {
           "automargin": true,
           "gridcolor": "white",
           "linecolor": "white",
           "ticks": "",
           "title": {
            "standoff": 15
           },
           "zerolinecolor": "white",
           "zerolinewidth": 2
          }
         }
        }
       }
      }
     },
     "metadata": {},
     "output_type": "display_data"
    }
   ],
   "source": [
    "# Построим воронку и посчитаем пользователей, которые хоть раз совершали то или иное событие\n",
    "fig = go.Figure(go.Funnel(\n",
    "    y = [\"Главная страница\",\n",
    "         \"Страница предложений\", \n",
    "         \"Страница корзины\", \n",
    "         \"Страница успешной оплаты\"],\n",
    "    x = [users.MainScreenAppear.count(), \n",
    "         users.OffersScreenAppear.count(), \n",
    "         users.CartScreenAppear.count(), \n",
    "         users.PaymentScreenSuccessful.count()]\n",
    "    ))\n",
    "fig.show()"
   ]
  },
  {
   "cell_type": "markdown",
   "metadata": {},
   "source": [
    "#### Комментарий\n",
    "Исходя из расчета воронки уникальных пользователей на этапе перехода от главной страницы к странице предложения так же теряется бОльшая часть пользователей - 38.1%. На последующих этапах, убыль пользователей не так значительна.\n",
    "\n",
    "Учитывая, что всего уникальных пользователей 7534, а как мы видим из графика, на главную страницу зашло только 7419, можно предположить, что как минимум 115 пользователей начинали пользоваться приложением не с главной страницы. Возможно это особенность приложения, а возможно ошибка. Необходимо будет уточнить у заказчика."
   ]
  },
  {
   "cell_type": "code",
   "execution_count": 29,
   "metadata": {},
   "outputs": [
    {
     "data": {
      "text/plain": [
       "280"
      ]
     },
     "execution_count": 29,
     "metadata": {},
     "output_type": "execute_result"
    },
    {
     "data": {
      "text/plain": [
       "203"
      ]
     },
     "execution_count": 29,
     "metadata": {},
     "output_type": "execute_result"
    },
    {
     "data": {
      "text/plain": [
       "172"
      ]
     },
     "execution_count": 29,
     "metadata": {},
     "output_type": "execute_result"
    }
   ],
   "source": [
    "users.query('OffersScreenAppear < MainScreenAppear')['id'].count()\n",
    "users.query('CartScreenAppear < MainScreenAppear')['id'].count()\n",
    "users.query('PaymentScreenSuccessful < MainScreenAppear')['id'].count()"
   ]
  },
  {
   "cell_type": "markdown",
   "metadata": {},
   "source": [
    "#### Вывод\n",
    "Как минимум 655 пользователей начинают пользоваться приложением не с главного экрана. Данный факт может негативно отразиться на результатах исследования, поэтому сообщим об этом дата-инжинерам, руководству или заказчику. Пока ответ не получен и неизвестно какие действия предпринимать, продолжим проводить исследование с имеющимися данными."
   ]
  },
  {
   "cell_type": "markdown",
   "metadata": {},
   "source": [
    "### Воронка с учетом последовательности событий"
   ]
  },
  {
   "cell_type": "code",
   "execution_count": 30,
   "metadata": {},
   "outputs": [],
   "source": [
    "# Пошагово рассчитаем количество пользователей с учетом последовательности событий\n",
    "step_1 = ~users['MainScreenAppear'].isna()\n",
    "step_2 = step_1 & (users['OffersScreenAppear'] > users['MainScreenAppear'])\n",
    "step_3 = step_2 & (users['CartScreenAppear'] > users['OffersScreenAppear'])\n",
    "step_4 = step_3 & (users['PaymentScreenSuccessful'] > users['CartScreenAppear'])\n",
    "\n",
    "n_main_screen = users[step_1].shape[0]\n",
    "n_offer = users[step_2].shape[0]\n",
    "n_cart = users[step_3].shape[0]\n",
    "n_payment_successful = users[step_4].shape[0]"
   ]
  },
  {
   "cell_type": "code",
   "execution_count": 31,
   "metadata": {},
   "outputs": [
    {
     "data": {
      "application/vnd.plotly.v1+json": {
       "config": {
        "plotlyServerURL": "https://plot.ly"
       },
       "data": [
        {
         "type": "funnel",
         "x": [
          7419,
          4201,
          1767,
          454
         ],
         "y": [
          "Главная страница",
          "Страница предложений",
          "Страница корзины",
          "Страница успешной оплаты"
         ]
        }
       ],
       "layout": {
        "template": {
         "data": {
          "bar": [
           {
            "error_x": {
             "color": "#2a3f5f"
            },
            "error_y": {
             "color": "#2a3f5f"
            },
            "marker": {
             "line": {
              "color": "#E5ECF6",
              "width": 0.5
             },
             "pattern": {
              "fillmode": "overlay",
              "size": 10,
              "solidity": 0.2
             }
            },
            "type": "bar"
           }
          ],
          "barpolar": [
           {
            "marker": {
             "line": {
              "color": "#E5ECF6",
              "width": 0.5
             },
             "pattern": {
              "fillmode": "overlay",
              "size": 10,
              "solidity": 0.2
             }
            },
            "type": "barpolar"
           }
          ],
          "carpet": [
           {
            "aaxis": {
             "endlinecolor": "#2a3f5f",
             "gridcolor": "white",
             "linecolor": "white",
             "minorgridcolor": "white",
             "startlinecolor": "#2a3f5f"
            },
            "baxis": {
             "endlinecolor": "#2a3f5f",
             "gridcolor": "white",
             "linecolor": "white",
             "minorgridcolor": "white",
             "startlinecolor": "#2a3f5f"
            },
            "type": "carpet"
           }
          ],
          "choropleth": [
           {
            "colorbar": {
             "outlinewidth": 0,
             "ticks": ""
            },
            "type": "choropleth"
           }
          ],
          "contour": [
           {
            "colorbar": {
             "outlinewidth": 0,
             "ticks": ""
            },
            "colorscale": [
             [
              0,
              "#0d0887"
             ],
             [
              0.1111111111111111,
              "#46039f"
             ],
             [
              0.2222222222222222,
              "#7201a8"
             ],
             [
              0.3333333333333333,
              "#9c179e"
             ],
             [
              0.4444444444444444,
              "#bd3786"
             ],
             [
              0.5555555555555556,
              "#d8576b"
             ],
             [
              0.6666666666666666,
              "#ed7953"
             ],
             [
              0.7777777777777778,
              "#fb9f3a"
             ],
             [
              0.8888888888888888,
              "#fdca26"
             ],
             [
              1,
              "#f0f921"
             ]
            ],
            "type": "contour"
           }
          ],
          "contourcarpet": [
           {
            "colorbar": {
             "outlinewidth": 0,
             "ticks": ""
            },
            "type": "contourcarpet"
           }
          ],
          "heatmap": [
           {
            "colorbar": {
             "outlinewidth": 0,
             "ticks": ""
            },
            "colorscale": [
             [
              0,
              "#0d0887"
             ],
             [
              0.1111111111111111,
              "#46039f"
             ],
             [
              0.2222222222222222,
              "#7201a8"
             ],
             [
              0.3333333333333333,
              "#9c179e"
             ],
             [
              0.4444444444444444,
              "#bd3786"
             ],
             [
              0.5555555555555556,
              "#d8576b"
             ],
             [
              0.6666666666666666,
              "#ed7953"
             ],
             [
              0.7777777777777778,
              "#fb9f3a"
             ],
             [
              0.8888888888888888,
              "#fdca26"
             ],
             [
              1,
              "#f0f921"
             ]
            ],
            "type": "heatmap"
           }
          ],
          "heatmapgl": [
           {
            "colorbar": {
             "outlinewidth": 0,
             "ticks": ""
            },
            "colorscale": [
             [
              0,
              "#0d0887"
             ],
             [
              0.1111111111111111,
              "#46039f"
             ],
             [
              0.2222222222222222,
              "#7201a8"
             ],
             [
              0.3333333333333333,
              "#9c179e"
             ],
             [
              0.4444444444444444,
              "#bd3786"
             ],
             [
              0.5555555555555556,
              "#d8576b"
             ],
             [
              0.6666666666666666,
              "#ed7953"
             ],
             [
              0.7777777777777778,
              "#fb9f3a"
             ],
             [
              0.8888888888888888,
              "#fdca26"
             ],
             [
              1,
              "#f0f921"
             ]
            ],
            "type": "heatmapgl"
           }
          ],
          "histogram": [
           {
            "marker": {
             "pattern": {
              "fillmode": "overlay",
              "size": 10,
              "solidity": 0.2
             }
            },
            "type": "histogram"
           }
          ],
          "histogram2d": [
           {
            "colorbar": {
             "outlinewidth": 0,
             "ticks": ""
            },
            "colorscale": [
             [
              0,
              "#0d0887"
             ],
             [
              0.1111111111111111,
              "#46039f"
             ],
             [
              0.2222222222222222,
              "#7201a8"
             ],
             [
              0.3333333333333333,
              "#9c179e"
             ],
             [
              0.4444444444444444,
              "#bd3786"
             ],
             [
              0.5555555555555556,
              "#d8576b"
             ],
             [
              0.6666666666666666,
              "#ed7953"
             ],
             [
              0.7777777777777778,
              "#fb9f3a"
             ],
             [
              0.8888888888888888,
              "#fdca26"
             ],
             [
              1,
              "#f0f921"
             ]
            ],
            "type": "histogram2d"
           }
          ],
          "histogram2dcontour": [
           {
            "colorbar": {
             "outlinewidth": 0,
             "ticks": ""
            },
            "colorscale": [
             [
              0,
              "#0d0887"
             ],
             [
              0.1111111111111111,
              "#46039f"
             ],
             [
              0.2222222222222222,
              "#7201a8"
             ],
             [
              0.3333333333333333,
              "#9c179e"
             ],
             [
              0.4444444444444444,
              "#bd3786"
             ],
             [
              0.5555555555555556,
              "#d8576b"
             ],
             [
              0.6666666666666666,
              "#ed7953"
             ],
             [
              0.7777777777777778,
              "#fb9f3a"
             ],
             [
              0.8888888888888888,
              "#fdca26"
             ],
             [
              1,
              "#f0f921"
             ]
            ],
            "type": "histogram2dcontour"
           }
          ],
          "mesh3d": [
           {
            "colorbar": {
             "outlinewidth": 0,
             "ticks": ""
            },
            "type": "mesh3d"
           }
          ],
          "parcoords": [
           {
            "line": {
             "colorbar": {
              "outlinewidth": 0,
              "ticks": ""
             }
            },
            "type": "parcoords"
           }
          ],
          "pie": [
           {
            "automargin": true,
            "type": "pie"
           }
          ],
          "scatter": [
           {
            "fillpattern": {
             "fillmode": "overlay",
             "size": 10,
             "solidity": 0.2
            },
            "type": "scatter"
           }
          ],
          "scatter3d": [
           {
            "line": {
             "colorbar": {
              "outlinewidth": 0,
              "ticks": ""
             }
            },
            "marker": {
             "colorbar": {
              "outlinewidth": 0,
              "ticks": ""
             }
            },
            "type": "scatter3d"
           }
          ],
          "scattercarpet": [
           {
            "marker": {
             "colorbar": {
              "outlinewidth": 0,
              "ticks": ""
             }
            },
            "type": "scattercarpet"
           }
          ],
          "scattergeo": [
           {
            "marker": {
             "colorbar": {
              "outlinewidth": 0,
              "ticks": ""
             }
            },
            "type": "scattergeo"
           }
          ],
          "scattergl": [
           {
            "marker": {
             "colorbar": {
              "outlinewidth": 0,
              "ticks": ""
             }
            },
            "type": "scattergl"
           }
          ],
          "scattermapbox": [
           {
            "marker": {
             "colorbar": {
              "outlinewidth": 0,
              "ticks": ""
             }
            },
            "type": "scattermapbox"
           }
          ],
          "scatterpolar": [
           {
            "marker": {
             "colorbar": {
              "outlinewidth": 0,
              "ticks": ""
             }
            },
            "type": "scatterpolar"
           }
          ],
          "scatterpolargl": [
           {
            "marker": {
             "colorbar": {
              "outlinewidth": 0,
              "ticks": ""
             }
            },
            "type": "scatterpolargl"
           }
          ],
          "scatterternary": [
           {
            "marker": {
             "colorbar": {
              "outlinewidth": 0,
              "ticks": ""
             }
            },
            "type": "scatterternary"
           }
          ],
          "surface": [
           {
            "colorbar": {
             "outlinewidth": 0,
             "ticks": ""
            },
            "colorscale": [
             [
              0,
              "#0d0887"
             ],
             [
              0.1111111111111111,
              "#46039f"
             ],
             [
              0.2222222222222222,
              "#7201a8"
             ],
             [
              0.3333333333333333,
              "#9c179e"
             ],
             [
              0.4444444444444444,
              "#bd3786"
             ],
             [
              0.5555555555555556,
              "#d8576b"
             ],
             [
              0.6666666666666666,
              "#ed7953"
             ],
             [
              0.7777777777777778,
              "#fb9f3a"
             ],
             [
              0.8888888888888888,
              "#fdca26"
             ],
             [
              1,
              "#f0f921"
             ]
            ],
            "type": "surface"
           }
          ],
          "table": [
           {
            "cells": {
             "fill": {
              "color": "#EBF0F8"
             },
             "line": {
              "color": "white"
             }
            },
            "header": {
             "fill": {
              "color": "#C8D4E3"
             },
             "line": {
              "color": "white"
             }
            },
            "type": "table"
           }
          ]
         },
         "layout": {
          "annotationdefaults": {
           "arrowcolor": "#2a3f5f",
           "arrowhead": 0,
           "arrowwidth": 1
          },
          "autotypenumbers": "strict",
          "coloraxis": {
           "colorbar": {
            "outlinewidth": 0,
            "ticks": ""
           }
          },
          "colorscale": {
           "diverging": [
            [
             0,
             "#8e0152"
            ],
            [
             0.1,
             "#c51b7d"
            ],
            [
             0.2,
             "#de77ae"
            ],
            [
             0.3,
             "#f1b6da"
            ],
            [
             0.4,
             "#fde0ef"
            ],
            [
             0.5,
             "#f7f7f7"
            ],
            [
             0.6,
             "#e6f5d0"
            ],
            [
             0.7,
             "#b8e186"
            ],
            [
             0.8,
             "#7fbc41"
            ],
            [
             0.9,
             "#4d9221"
            ],
            [
             1,
             "#276419"
            ]
           ],
           "sequential": [
            [
             0,
             "#0d0887"
            ],
            [
             0.1111111111111111,
             "#46039f"
            ],
            [
             0.2222222222222222,
             "#7201a8"
            ],
            [
             0.3333333333333333,
             "#9c179e"
            ],
            [
             0.4444444444444444,
             "#bd3786"
            ],
            [
             0.5555555555555556,
             "#d8576b"
            ],
            [
             0.6666666666666666,
             "#ed7953"
            ],
            [
             0.7777777777777778,
             "#fb9f3a"
            ],
            [
             0.8888888888888888,
             "#fdca26"
            ],
            [
             1,
             "#f0f921"
            ]
           ],
           "sequentialminus": [
            [
             0,
             "#0d0887"
            ],
            [
             0.1111111111111111,
             "#46039f"
            ],
            [
             0.2222222222222222,
             "#7201a8"
            ],
            [
             0.3333333333333333,
             "#9c179e"
            ],
            [
             0.4444444444444444,
             "#bd3786"
            ],
            [
             0.5555555555555556,
             "#d8576b"
            ],
            [
             0.6666666666666666,
             "#ed7953"
            ],
            [
             0.7777777777777778,
             "#fb9f3a"
            ],
            [
             0.8888888888888888,
             "#fdca26"
            ],
            [
             1,
             "#f0f921"
            ]
           ]
          },
          "colorway": [
           "#636efa",
           "#EF553B",
           "#00cc96",
           "#ab63fa",
           "#FFA15A",
           "#19d3f3",
           "#FF6692",
           "#B6E880",
           "#FF97FF",
           "#FECB52"
          ],
          "font": {
           "color": "#2a3f5f"
          },
          "geo": {
           "bgcolor": "white",
           "lakecolor": "white",
           "landcolor": "#E5ECF6",
           "showlakes": true,
           "showland": true,
           "subunitcolor": "white"
          },
          "hoverlabel": {
           "align": "left"
          },
          "hovermode": "closest",
          "mapbox": {
           "style": "light"
          },
          "paper_bgcolor": "white",
          "plot_bgcolor": "#E5ECF6",
          "polar": {
           "angularaxis": {
            "gridcolor": "white",
            "linecolor": "white",
            "ticks": ""
           },
           "bgcolor": "#E5ECF6",
           "radialaxis": {
            "gridcolor": "white",
            "linecolor": "white",
            "ticks": ""
           }
          },
          "scene": {
           "xaxis": {
            "backgroundcolor": "#E5ECF6",
            "gridcolor": "white",
            "gridwidth": 2,
            "linecolor": "white",
            "showbackground": true,
            "ticks": "",
            "zerolinecolor": "white"
           },
           "yaxis": {
            "backgroundcolor": "#E5ECF6",
            "gridcolor": "white",
            "gridwidth": 2,
            "linecolor": "white",
            "showbackground": true,
            "ticks": "",
            "zerolinecolor": "white"
           },
           "zaxis": {
            "backgroundcolor": "#E5ECF6",
            "gridcolor": "white",
            "gridwidth": 2,
            "linecolor": "white",
            "showbackground": true,
            "ticks": "",
            "zerolinecolor": "white"
           }
          },
          "shapedefaults": {
           "line": {
            "color": "#2a3f5f"
           }
          },
          "ternary": {
           "aaxis": {
            "gridcolor": "white",
            "linecolor": "white",
            "ticks": ""
           },
           "baxis": {
            "gridcolor": "white",
            "linecolor": "white",
            "ticks": ""
           },
           "bgcolor": "#E5ECF6",
           "caxis": {
            "gridcolor": "white",
            "linecolor": "white",
            "ticks": ""
           }
          },
          "title": {
           "x": 0.05
          },
          "xaxis": {
           "automargin": true,
           "gridcolor": "white",
           "linecolor": "white",
           "ticks": "",
           "title": {
            "standoff": 15
           },
           "zerolinecolor": "white",
           "zerolinewidth": 2
          },
          "yaxis": {
           "automargin": true,
           "gridcolor": "white",
           "linecolor": "white",
           "ticks": "",
           "title": {
            "standoff": 15
           },
           "zerolinecolor": "white",
           "zerolinewidth": 2
          }
         }
        }
       }
      }
     },
     "metadata": {},
     "output_type": "display_data"
    }
   ],
   "source": [
    "# Аналогично построим воронку\n",
    "fig = go.Figure(go.Funnel(\n",
    "    y = [\"Главная страница\",\n",
    "         \"Страница предложений\", \n",
    "         \"Страница корзины\", \n",
    "         \"Страница успешной оплаты\"],\n",
    "    x = [n_main_screen, \n",
    "         n_offer, \n",
    "         n_cart, \n",
    "         n_payment_successful]\n",
    "    ))\n",
    "fig.show()"
   ]
  },
  {
   "cell_type": "markdown",
   "metadata": {},
   "source": [
    "#### Комментарий\n",
    "С учетом последовательности событий, картина кажется более разочаровывающей. 74.3% теряется на этапе перехода от корзины к успешной оплате ее содержимого.\n",
    "\n",
    "От главной страницы до успешной оплаты доходит лишь 6.1% пользователей."
   ]
  },
  {
   "cell_type": "markdown",
   "metadata": {},
   "source": [
    "#### Вывод\n",
    "\n",
    "Рассмотрев воронки событий по трем вариациям пользователей, в первую очередь следует обратить внимание на воронку, построенную с учетом последовательности событий, где на каждом этапе воронки отсеивается почти половина пользователей, а до успешной оплаты доходит всего 454 пользователя из 7419, что составляет 6.1%. При переходе от корзины к оплате товара теряется самое большое количество пользователей - 74.3%. Возможно в приложении, на указаном этапе у пользователей возникают трудности, связанные с техническими неполадками."
   ]
  },
  {
   "cell_type": "markdown",
   "metadata": {},
   "source": [
    "## Изучение результатов эксперимента"
   ]
  },
  {
   "cell_type": "code",
   "execution_count": 32,
   "metadata": {},
   "outputs": [
    {
     "data": {
      "text/plain": [
       "0"
      ]
     },
     "execution_count": 32,
     "metadata": {},
     "output_type": "execute_result"
    },
    {
     "data": {
      "text/plain": [
       "0"
      ]
     },
     "execution_count": 32,
     "metadata": {},
     "output_type": "execute_result"
    },
    {
     "data": {
      "text/plain": [
       "0"
      ]
     },
     "execution_count": 32,
     "metadata": {},
     "output_type": "execute_result"
    },
    {
     "data": {
      "text/plain": [
       "0"
      ]
     },
     "execution_count": 32,
     "metadata": {},
     "output_type": "execute_result"
    },
    {
     "data": {
      "text/plain": [
       "0"
      ]
     },
     "execution_count": 32,
     "metadata": {},
     "output_type": "execute_result"
    },
    {
     "data": {
      "text/plain": [
       "0"
      ]
     },
     "execution_count": 32,
     "metadata": {},
     "output_type": "execute_result"
    }
   ],
   "source": [
    "# Разделим пользователей по группам и проверим на данные на совпадение id\n",
    "group_246 = new_df.query('group == 246')\n",
    "id_246 = pd.Series(group_246['id'])\n",
    "\n",
    "group_247 = new_df.query('group == 247')\n",
    "id_247 = pd.Series(group_247['id'])\n",
    "\n",
    "group_248 = new_df.query('group == 248')\n",
    "id_248 = pd.Series(group_248['id'])\n",
    "\n",
    "group_246.query('id in @id_247')['id'].count()\n",
    "group_246.query('id in @id_248')['id'].count()\n",
    "group_247.query('id in @id_248')['id'].count()\n",
    "group_247.query('id in @id_246')['id'].count()\n",
    "group_248.query('id in @id_246')['id'].count()\n",
    "group_248.query('id in @id_247')['id'].count()"
   ]
  },
  {
   "cell_type": "markdown",
   "metadata": {},
   "source": [
    "### Комментарий\n",
    "Повторяющиеся id не выявлены."
   ]
  },
  {
   "cell_type": "code",
   "execution_count": 33,
   "metadata": {},
   "outputs": [
    {
     "data": {
      "text/html": [
       "<div>\n",
       "<style scoped>\n",
       "    .dataframe tbody tr th:only-of-type {\n",
       "        vertical-align: middle;\n",
       "    }\n",
       "\n",
       "    .dataframe tbody tr th {\n",
       "        vertical-align: top;\n",
       "    }\n",
       "\n",
       "    .dataframe thead th {\n",
       "        text-align: right;\n",
       "    }\n",
       "</style>\n",
       "<table border=\"1\" class=\"dataframe\">\n",
       "  <thead>\n",
       "    <tr style=\"text-align: right;\">\n",
       "      <th></th>\n",
       "      <th>id</th>\n",
       "    </tr>\n",
       "    <tr>\n",
       "      <th>group</th>\n",
       "      <th></th>\n",
       "    </tr>\n",
       "  </thead>\n",
       "  <tbody>\n",
       "    <tr>\n",
       "      <th>246</th>\n",
       "      <td>2484</td>\n",
       "    </tr>\n",
       "    <tr>\n",
       "      <th>247</th>\n",
       "      <td>2513</td>\n",
       "    </tr>\n",
       "    <tr>\n",
       "      <th>248</th>\n",
       "      <td>2537</td>\n",
       "    </tr>\n",
       "  </tbody>\n",
       "</table>\n",
       "</div>"
      ],
      "text/plain": [
       "         id\n",
       "group      \n",
       "246    2484\n",
       "247    2513\n",
       "248    2537"
      ]
     },
     "execution_count": 33,
     "metadata": {},
     "output_type": "execute_result"
    }
   ],
   "source": [
    "user_groups = new_df.groupby('group').agg({'id' : 'nunique'})\n",
    "user_groups"
   ]
  },
  {
   "cell_type": "code",
   "execution_count": 34,
   "metadata": {},
   "outputs": [
    {
     "data": {
      "image/png": "[encoded data removed]",
      "text/plain": [
       "<Figure size 800x300 with 1 Axes>"
      ]
     },
     "metadata": {},
     "output_type": "display_data"
    }
   ],
   "source": [
    "user_groups.plot(kind='bar', grid=True, figsize=(8,3))\n",
    "plt.title('Распределение пользователей по группам')\n",
    "plt.xlabel('Группа')\n",
    "plt.ylabel('количество пользователей');"
   ]
  },
  {
   "cell_type": "markdown",
   "metadata": {},
   "source": [
    "### Комментарий\n",
    "Количество пользователей в группах приблизительно одинаковое."
   ]
  },
  {
   "cell_type": "markdown",
   "metadata": {},
   "source": [
    "### Проверка гипотез\n",
    "Сформулируем гипотезы для сравниваемых долей:\n",
    "    \n",
    "    H₀ - Нет оснований считать доли разными.\n",
    "\n",
    "    H₁ - Между долями есть значимая разница."
   ]
  },
  {
   "cell_type": "code",
   "execution_count": 35,
   "metadata": {},
   "outputs": [],
   "source": [
    "# Создадим функцию, где в параметрах укажем датасет, название события, сравниваемые группы и значение альфа\n",
    "def Ztest(data, event, gr1, gr2, alpha):\n",
    "    \n",
    "    # Посчитаем количество совершенных событий и уникальных пользователей в группах\n",
    "    gr1_event = data.query('group == @gr1 and @event in event').id.nunique()\n",
    "    gr2_event = data.query('group == @gr2 and @event in event').id.nunique()\n",
    "    gr1_users = data.query('group == @gr1').id.nunique()\n",
    "    gr2_users = data.query('group == @gr2').id.nunique()\n",
    "    \n",
    "    # Посчитаем доли в группах и разницу между ними\n",
    "    p1 = gr1_event / gr1_users\n",
    "    p2 = gr2_event / gr2_users\n",
    "    difference = p1 - p2\n",
    "    \n",
    "    p_combined = (gr1_event + gr2_event) / (gr1_users + gr2_users)\n",
    "    \n",
    "    # Посчитаем статистику в стандартных отклонениях стандартного нормального распределения\n",
    "    z_value = difference / mth.sqrt(p_combined * (1 - p_combined) * (1/gr1_users + 1/gr2_users))\n",
    "    \n",
    "    distr = st.norm(0, 1)\n",
    "    p_value = (1 - distr.cdf(abs(z_value))) * 2\n",
    "    \n",
    "    print('Событие: {}'.format(event))\n",
    "    print('Сравниваемые группы: {}, {}'.format(gr1, gr2))\n",
    "    print('------------------------------')\n",
    "    print('p-значение: ', round(p_value, 5))\n",
    "    \n",
    "    if p_value < alpha:\n",
    "        print('Отвергаем нулевую гипотезу: между долями есть значимая разница')\n",
    "    else:\n",
    "        print('Не получилось отвергнуть нулевую гипотезу, нет оснований считать доли разными') "
   ]
  },
  {
   "cell_type": "code",
   "execution_count": 36,
   "metadata": {},
   "outputs": [
    {
     "name": "stdout",
     "output_type": "stream",
     "text": [
      "Событие: MainScreenAppear\n",
      "Сравниваемые группы: 246, 247\n",
      "------------------------------\n",
      "p-значение:  0.75706\n",
      "Не получилось отвергнуть нулевую гипотезу, нет оснований считать доли разными\n"
     ]
    }
   ],
   "source": [
    "Ztest(new_df, 'MainScreenAppear', 246, 247, 0.05)"
   ]
  },
  {
   "cell_type": "markdown",
   "metadata": {},
   "source": [
    "#### Вывод\n",
    "Разница в статистических критериях между выборками 246 и 247 в событии \"Главная страница\" не выявлена."
   ]
  },
  {
   "cell_type": "code",
   "execution_count": 37,
   "metadata": {},
   "outputs": [
    {
     "data": {
      "text/html": [
       "<div>\n",
       "<style scoped>\n",
       "    .dataframe tbody tr th:only-of-type {\n",
       "        vertical-align: middle;\n",
       "    }\n",
       "\n",
       "    .dataframe tbody tr th {\n",
       "        vertical-align: top;\n",
       "    }\n",
       "\n",
       "    .dataframe thead th {\n",
       "        text-align: right;\n",
       "    }\n",
       "</style>\n",
       "<table border=\"1\" class=\"dataframe\">\n",
       "  <thead>\n",
       "    <tr style=\"text-align: right;\">\n",
       "      <th>event</th>\n",
       "      <th>group</th>\n",
       "      <th>total</th>\n",
       "      <th>Tutorial</th>\n",
       "      <th>tutorial_ratio</th>\n",
       "      <th>MainScreenAppear</th>\n",
       "      <th>main_ratio</th>\n",
       "      <th>OffersScreenAppear</th>\n",
       "      <th>offer_ratio</th>\n",
       "      <th>CartScreenAppear</th>\n",
       "      <th>cart_ratio</th>\n",
       "      <th>PaymentScreenSuccessful</th>\n",
       "      <th>payment_ratio</th>\n",
       "    </tr>\n",
       "  </thead>\n",
       "  <tbody>\n",
       "    <tr>\n",
       "      <th>0</th>\n",
       "      <td>246</td>\n",
       "      <td>6736</td>\n",
       "      <td>278</td>\n",
       "      <td>0.041</td>\n",
       "      <td>2450</td>\n",
       "      <td>0.364</td>\n",
       "      <td>1542</td>\n",
       "      <td>0.229</td>\n",
       "      <td>1266</td>\n",
       "      <td>0.188</td>\n",
       "      <td>1200</td>\n",
       "      <td>0.178</td>\n",
       "    </tr>\n",
       "    <tr>\n",
       "      <th>1</th>\n",
       "      <td>247</td>\n",
       "      <td>6675</td>\n",
       "      <td>283</td>\n",
       "      <td>0.042</td>\n",
       "      <td>2476</td>\n",
       "      <td>0.371</td>\n",
       "      <td>1520</td>\n",
       "      <td>0.228</td>\n",
       "      <td>1238</td>\n",
       "      <td>0.185</td>\n",
       "      <td>1158</td>\n",
       "      <td>0.173</td>\n",
       "    </tr>\n",
       "    <tr>\n",
       "      <th>2</th>\n",
       "      <td>248</td>\n",
       "      <td>6714</td>\n",
       "      <td>279</td>\n",
       "      <td>0.042</td>\n",
       "      <td>2493</td>\n",
       "      <td>0.371</td>\n",
       "      <td>1531</td>\n",
       "      <td>0.228</td>\n",
       "      <td>1230</td>\n",
       "      <td>0.183</td>\n",
       "      <td>1181</td>\n",
       "      <td>0.176</td>\n",
       "    </tr>\n",
       "  </tbody>\n",
       "</table>\n",
       "</div>"
      ],
      "text/plain": [
       "event  group  total  Tutorial  tutorial_ratio  MainScreenAppear  main_ratio  \\\n",
       "0        246   6736       278           0.041              2450       0.364   \n",
       "1        247   6675       283           0.042              2476       0.371   \n",
       "2        248   6714       279           0.042              2493       0.371   \n",
       "\n",
       "event  OffersScreenAppear  offer_ratio  CartScreenAppear  cart_ratio  \\\n",
       "0                    1542        0.229              1266       0.188   \n",
       "1                    1520        0.228              1238       0.185   \n",
       "2                    1531        0.228              1230       0.183   \n",
       "\n",
       "event  PaymentScreenSuccessful  payment_ratio  \n",
       "0                         1200          0.178  \n",
       "1                         1158          0.173  \n",
       "2                         1181          0.176  "
      ]
     },
     "execution_count": 37,
     "metadata": {},
     "output_type": "execute_result"
    }
   ],
   "source": [
    "# Разделим события на группы и посчитаем для каждого доли\n",
    "popular_event = new_df.pivot_table(\n",
    "        index='group', \n",
    "        columns='event', \n",
    "        values='id',\n",
    "        aggfunc='nunique').reset_index()\n",
    "\n",
    "popular_event['total'] = popular_event[['Tutorial', \n",
    "                               'MainScreenAppear', \n",
    "                               'OffersScreenAppear', \n",
    "                               'CartScreenAppear',\n",
    "                               'PaymentScreenSuccessful']].sum(axis=1)\n",
    "popular_event['tutorial_ratio'] = (popular_event['Tutorial'] / popular_event['total']).round(3)\n",
    "popular_event['main_ratio'] = (popular_event['MainScreenAppear'] / popular_event['total']).round(3)\n",
    "popular_event['offer_ratio'] = (popular_event['OffersScreenAppear'] / popular_event['total']).round(3)\n",
    "popular_event['cart_ratio'] = (popular_event['CartScreenAppear'] / popular_event['total']).round(3)\n",
    "popular_event['payment_ratio'] = (popular_event['PaymentScreenSuccessful'] / popular_event['total']).round(3)\n",
    "\n",
    "popular_event = popular_event[['group',\n",
    "                               'total',\n",
    "                               'Tutorial',\n",
    "                               'tutorial_ratio',\n",
    "                               'MainScreenAppear',\n",
    "                               'main_ratio',\n",
    "                               'OffersScreenAppear',\n",
    "                               'offer_ratio',\n",
    "                               'CartScreenAppear',\n",
    "                               'cart_ratio',\n",
    "                               'PaymentScreenSuccessful',\n",
    "                               'payment_ratio']]\n",
    "popular_event"
   ]
  },
  {
   "cell_type": "markdown",
   "metadata": {},
   "source": [
    "#### Вывод\n",
    "Самым популярным событием для всех групп будет переход на главный экран. Доли между группами приблизительно равны."
   ]
  },
  {
   "cell_type": "markdown",
   "metadata": {},
   "source": [
    "#### Сравнение контрольных групп 246 и 247"
   ]
  },
  {
   "cell_type": "code",
   "execution_count": 38,
   "metadata": {},
   "outputs": [
    {
     "name": "stdout",
     "output_type": "stream",
     "text": [
      "1.\n",
      "Событие: MainScreenAppear\n",
      "Сравниваемые группы: 246, 247\n",
      "------------------------------\n",
      "p-значение:  0.75706\n",
      "Не получилось отвергнуть нулевую гипотезу, нет оснований считать доли разными\n",
      "2.\n",
      "Событие: OffersScreenAppear\n",
      "Сравниваемые группы: 246, 247\n",
      "------------------------------\n",
      "p-значение:  0.2481\n",
      "Не получилось отвергнуть нулевую гипотезу, нет оснований считать доли разными\n",
      "3.\n",
      "Событие: CartScreenAppear\n",
      "Сравниваемые группы: 246, 247\n",
      "------------------------------\n",
      "p-значение:  0.22883\n",
      "Не получилось отвергнуть нулевую гипотезу, нет оснований считать доли разными\n",
      "4.\n",
      "Событие: PaymentScreenSuccessful\n",
      "Сравниваемые группы: 246, 247\n",
      "------------------------------\n",
      "p-значение:  0.11457\n",
      "Не получилось отвергнуть нулевую гипотезу, нет оснований считать доли разными\n",
      "5.\n",
      "Событие: Tutorial\n",
      "Сравниваемые группы: 246, 247\n",
      "------------------------------\n",
      "p-значение:  0.9377\n",
      "Не получилось отвергнуть нулевую гипотезу, нет оснований считать доли разными\n"
     ]
    }
   ],
   "source": [
    "print('1.')\n",
    "Ztest(new_df, 'MainScreenAppear', 246, 247, 0.05)\n",
    "print('2.')\n",
    "Ztest(new_df, 'OffersScreenAppear', 246, 247, 0.05)\n",
    "print('3.')\n",
    "Ztest(new_df, 'CartScreenAppear', 246, 247, 0.05)\n",
    "print('4.')\n",
    "Ztest(new_df, 'PaymentScreenSuccessful', 246, 247, 0.05)\n",
    "print('5.')\n",
    "Ztest(new_df, 'Tutorial', 246, 247, 0.05)"
   ]
  },
  {
   "cell_type": "markdown",
   "metadata": {},
   "source": [
    "##### Вывод\n",
    "По результатам проведенных тестов можно полагать, что разбиение на группы работает корректно."
   ]
  },
  {
   "cell_type": "markdown",
   "metadata": {},
   "source": [
    "#### Сравнение контрольных групп 246, 247 с экспериментальной 248"
   ]
  },
  {
   "cell_type": "code",
   "execution_count": 39,
   "metadata": {},
   "outputs": [
    {
     "name": "stdout",
     "output_type": "stream",
     "text": [
      "1.\n",
      "Событие: MainScreenAppear\n",
      "Сравниваемые группы: 246, 248\n",
      "------------------------------\n",
      "p-значение:  0.29497\n",
      "Не получилось отвергнуть нулевую гипотезу, нет оснований считать доли разными\n",
      "2.\n",
      "Событие: OffersScreenAppear\n",
      "Сравниваемые группы: 246, 248\n",
      "------------------------------\n",
      "p-значение:  0.20836\n",
      "Не получилось отвергнуть нулевую гипотезу, нет оснований считать доли разными\n",
      "3.\n",
      "Событие: CartScreenAppear\n",
      "Сравниваемые группы: 246, 248\n",
      "------------------------------\n",
      "p-значение:  0.07843\n",
      "Не получилось отвергнуть нулевую гипотезу, нет оснований считать доли разными\n",
      "4.\n",
      "Событие: PaymentScreenSuccessful\n",
      "Сравниваемые группы: 246, 248\n",
      "------------------------------\n",
      "p-значение:  0.21226\n",
      "Не получилось отвергнуть нулевую гипотезу, нет оснований считать доли разными\n",
      "5.\n",
      "Событие: Tutorial\n",
      "Сравниваемые группы: 246, 248\n",
      "------------------------------\n",
      "p-значение:  0.82643\n",
      "Не получилось отвергнуть нулевую гипотезу, нет оснований считать доли разными\n"
     ]
    }
   ],
   "source": [
    "print('1.')\n",
    "Ztest(new_df, 'MainScreenAppear', 246, 248, 0.05)\n",
    "print('2.')\n",
    "Ztest(new_df, 'OffersScreenAppear', 246, 248, 0.05)\n",
    "print('3.')\n",
    "Ztest(new_df, 'CartScreenAppear', 246, 248, 0.05)\n",
    "print('4.')\n",
    "Ztest(new_df, 'PaymentScreenSuccessful', 246, 248, 0.05)\n",
    "print('5.')\n",
    "Ztest(new_df, 'Tutorial', 246, 248, 0.05)"
   ]
  },
  {
   "cell_type": "code",
   "execution_count": 40,
   "metadata": {},
   "outputs": [
    {
     "name": "stdout",
     "output_type": "stream",
     "text": [
      "1.\n",
      "Событие: MainScreenAppear\n",
      "Сравниваемые группы: 247, 248\n",
      "------------------------------\n",
      "p-значение:  0.45871\n",
      "Не получилось отвергнуть нулевую гипотезу, нет оснований считать доли разными\n",
      "2.\n",
      "Событие: OffersScreenAppear\n",
      "Сравниваемые группы: 247, 248\n",
      "------------------------------\n",
      "p-значение:  0.91978\n",
      "Не получилось отвергнуть нулевую гипотезу, нет оснований считать доли разными\n",
      "3.\n",
      "Событие: CartScreenAppear\n",
      "Сравниваемые группы: 247, 248\n",
      "------------------------------\n",
      "p-значение:  0.57862\n",
      "Не получилось отвергнуть нулевую гипотезу, нет оснований считать доли разными\n",
      "4.\n",
      "Событие: PaymentScreenSuccessful\n",
      "Сравниваемые группы: 247, 248\n",
      "------------------------------\n",
      "p-значение:  0.73734\n",
      "Не получилось отвергнуть нулевую гипотезу, нет оснований считать доли разными\n",
      "5.\n",
      "Событие: Tutorial\n",
      "Сравниваемые группы: 247, 248\n",
      "------------------------------\n",
      "p-значение:  0.76532\n",
      "Не получилось отвергнуть нулевую гипотезу, нет оснований считать доли разными\n"
     ]
    }
   ],
   "source": [
    "print('1.')\n",
    "Ztest(new_df, 'MainScreenAppear', 247, 248, 0.05)\n",
    "print('2.')\n",
    "Ztest(new_df, 'OffersScreenAppear', 247, 248, 0.05)\n",
    "print('3.')\n",
    "Ztest(new_df, 'CartScreenAppear', 247, 248, 0.05)\n",
    "print('4.')\n",
    "Ztest(new_df, 'PaymentScreenSuccessful', 247, 248, 0.05)\n",
    "print('5.')\n",
    "Ztest(new_df, 'Tutorial', 247, 248, 0.05)"
   ]
  },
  {
   "cell_type": "markdown",
   "metadata": {},
   "source": [
    "##### Вывод\n",
    "Статистически значимые различия между контрольными группами и группой с измененным шрифтом отсутствуют."
   ]
  },
  {
   "cell_type": "markdown",
   "metadata": {},
   "source": [
    "#### Сравнение объединенной контрольной группы с экспериментальной"
   ]
  },
  {
   "cell_type": "code",
   "execution_count": 41,
   "metadata": {},
   "outputs": [],
   "source": [
    "pooled_control_group = new_df.copy()"
   ]
  },
  {
   "cell_type": "code",
   "execution_count": 42,
   "metadata": {},
   "outputs": [],
   "source": [
    "pooled_control_group.group = pooled_control_group.group.replace({246: 493, 247: 493})\n",
    "# Назовем объединенную контрольную группу - 493"
   ]
  },
  {
   "cell_type": "code",
   "execution_count": 43,
   "metadata": {},
   "outputs": [
    {
     "name": "stdout",
     "output_type": "stream",
     "text": [
      "1.\n",
      "Событие: MainScreenAppear\n",
      "Сравниваемые группы: 493, 248\n",
      "------------------------------\n",
      "p-значение:  0.29425\n",
      "Не получилось отвергнуть нулевую гипотезу, нет оснований считать доли разными\n",
      "2.\n",
      "Событие: OffersScreenAppear\n",
      "Сравниваемые группы: 493, 248\n",
      "------------------------------\n",
      "p-значение:  0.43426\n",
      "Не получилось отвергнуть нулевую гипотезу, нет оснований считать доли разными\n",
      "3.\n",
      "Событие: CartScreenAppear\n",
      "Сравниваемые группы: 493, 248\n",
      "------------------------------\n",
      "p-значение:  0.18176\n",
      "Не получилось отвергнуть нулевую гипотезу, нет оснований считать доли разными\n",
      "4.\n",
      "Событие: PaymentScreenSuccessful\n",
      "Сравниваемые группы: 493, 248\n",
      "------------------------------\n",
      "p-значение:  0.60043\n",
      "Не получилось отвергнуть нулевую гипотезу, нет оснований считать доли разными\n",
      "5.\n",
      "Событие: Tutorial\n",
      "Сравниваемые группы: 493, 248\n",
      "------------------------------\n",
      "p-значение:  0.76486\n",
      "Не получилось отвергнуть нулевую гипотезу, нет оснований считать доли разными\n"
     ]
    }
   ],
   "source": [
    "print('1.')\n",
    "Ztest(pooled_control_group, 'MainScreenAppear', 493, 248, 0.05)\n",
    "print('2.')\n",
    "Ztest(pooled_control_group, 'OffersScreenAppear', 493, 248, 0.05)\n",
    "print('3.')\n",
    "Ztest(pooled_control_group, 'CartScreenAppear', 493, 248, 0.05)\n",
    "print('4.')\n",
    "Ztest(pooled_control_group, 'PaymentScreenSuccessful', 493, 248, 0.05)\n",
    "print('5.')\n",
    "Ztest(pooled_control_group, 'Tutorial', 493, 248, 0.05)"
   ]
  },
  {
   "cell_type": "markdown",
   "metadata": {},
   "source": [
    "##### Вывод\n",
    "При сравнении объединенной контрольной группы и экспериментальной группы с измененным шрифтом, различия между ними также отсутствуют. \n",
    "\n",
    "В общей сложности было проведено 20 тестов, по результатам которых опровергнуть нулевую гипотезу не получилось, основания считать доли разными отсутствуют. Для проведения тестов использовался уровень значимости равный 0.05, то есть каждый двадцатый раз можно было получить ложный результат. Изменять уровень значимости и проводить новые тесты нецелесообразно, так как в проведенных тестах р-значения почти всегда были достаточно высоки, что говорит о точности результатов эксперимента."
   ]
  },
  {
   "cell_type": "markdown",
   "metadata": {},
   "source": [
    "## Общий вывод и рекомендации бизнесу\n",
    "\n",
    "Подводя итог исследования и отвечая на вопросы поставленных задач, можно сделать следующие выводы:\n",
    "\n",
    "<b>1. Воронка продаж:</b>\n",
    "- При использовании приложения, пользователи как правило соблюдают следующий порядок событий: Main Screen Appear → Offers Screen Appear → Cart Screen Appear → Payment Screen Successful. Событие Tutorial пользователи проходят на свое усмотрение;\n",
    "- Из 7419 уникальных пользователей, посетивших главную страницу, до успешной покупки дошло лишь 454 пользователя, соблюдая логику выполнения событий. То есть 6965 (93.9%) пользователей, посетивших главную страницу, отсеялись так и не совершив покупу, что говорит о крайне слабых показателях продаж;\n",
    "- Большая часть пользователей отсекается после просмотра главной страницы, что можно объяснить отсутствием интереса к представленным товарам. Однако следует обратить пристальное внимание на 74.3 % пользователей, которые выбрали заинтересовавший их товар, зашли в корзину для оформления покупки, но так и не совершили оплату. Можно предположить, что какая-то часть передумывает совершать покупку, увидев итоговую сумму или по иным причинам, но высокий процент таких пользователей подсказывает, что это является не единственной причиной отказа от совершения оплаты и возможно объясняется трудностями или техническими ошибками в приложении при осуществлении платежа.\n",
    "\n",
    "<b>2. Исследование результатов A/A/B-эксперимента:</b>\n",
    "- Набор в группы был совершен корректно - количество пользователей распределено практически поровну, среди групп они не повторяются, а проведенным тестированием установлено, что статистически значимые различия в двух контрольных группах отсутствуют.\n",
    "- При проведении сравнительных тестов контрольных групп, а также их объединенной версии с экспериментальной группой, статистически значимые различия не обнаружены. Измененный шрифт в экспериментальной группе никак не влияет на пользовательскую активность."
   ]
  }
 ],
 "metadata": {
  "ExecuteTimeLog": [
   {
    "duration": 789,
    "start_time": "2021-09-29T12:19:29.812Z"
   },
   {
    "duration": 482,
    "start_time": "2021-09-29T12:21:26.703Z"
   },
   {
    "duration": 24,
    "start_time": "2021-09-29T12:21:31.179Z"
   },
   {
    "duration": 145,
    "start_time": "2021-09-29T12:21:53.546Z"
   },
   {
    "duration": 983,
    "start_time": "2021-09-29T12:24:27.138Z"
   },
   {
    "duration": 13,
    "start_time": "2021-09-29T12:24:32.135Z"
   },
   {
    "duration": 125,
    "start_time": "2021-09-29T12:24:40.467Z"
   },
   {
    "duration": 166,
    "start_time": "2021-09-29T12:24:54.490Z"
   },
   {
    "duration": 15,
    "start_time": "2021-09-29T12:24:55.820Z"
   },
   {
    "duration": 329,
    "start_time": "2021-09-29T12:25:04.608Z"
   },
   {
    "duration": 11,
    "start_time": "2021-09-29T12:25:05.707Z"
   },
   {
    "duration": 161,
    "start_time": "2021-09-29T12:25:10.843Z"
   },
   {
    "duration": 14,
    "start_time": "2021-09-29T12:25:12.330Z"
   },
   {
    "duration": 84,
    "start_time": "2021-09-29T12:25:52.760Z"
   },
   {
    "duration": 31,
    "start_time": "2021-09-29T12:26:36.580Z"
   },
   {
    "duration": 442,
    "start_time": "2021-09-29T12:28:22.554Z"
   },
   {
    "duration": 8579,
    "start_time": "2021-09-29T12:29:34.799Z"
   },
   {
    "duration": 61,
    "start_time": "2021-09-29T12:29:54.330Z"
   },
   {
    "duration": 50,
    "start_time": "2021-09-29T12:30:31.078Z"
   },
   {
    "duration": 18,
    "start_time": "2021-09-29T12:30:34.569Z"
   },
   {
    "duration": 7,
    "start_time": "2021-09-29T13:33:44.312Z"
   },
   {
    "duration": 16,
    "start_time": "2021-09-29T13:33:48.040Z"
   },
   {
    "duration": 8,
    "start_time": "2021-09-29T13:34:21.687Z"
   },
   {
    "duration": 20,
    "start_time": "2021-09-29T13:34:23.395Z"
   },
   {
    "duration": 7,
    "start_time": "2021-09-29T13:34:49.264Z"
   },
   {
    "duration": 18,
    "start_time": "2021-09-29T13:34:50.124Z"
   },
   {
    "duration": 7,
    "start_time": "2021-09-29T13:34:56.420Z"
   },
   {
    "duration": 19,
    "start_time": "2021-09-29T13:34:57.742Z"
   },
   {
    "duration": 7,
    "start_time": "2021-09-29T13:36:08.620Z"
   },
   {
    "duration": 19,
    "start_time": "2021-09-29T13:36:09.499Z"
   },
   {
    "duration": 815,
    "start_time": "2021-09-29T13:36:24.626Z"
   },
   {
    "duration": 171,
    "start_time": "2021-09-29T13:36:25.443Z"
   },
   {
    "duration": 56,
    "start_time": "2021-09-29T13:36:25.617Z"
   },
   {
    "duration": 19,
    "start_time": "2021-09-29T13:36:25.676Z"
   },
   {
    "duration": 17,
    "start_time": "2021-09-29T13:36:25.697Z"
   },
   {
    "duration": 23,
    "start_time": "2021-09-29T13:36:54.103Z"
   },
   {
    "duration": 17,
    "start_time": "2021-09-29T13:37:08.144Z"
   },
   {
    "duration": 42,
    "start_time": "2021-09-29T13:37:32.881Z"
   },
   {
    "duration": 33,
    "start_time": "2021-09-29T13:38:06.775Z"
   },
   {
    "duration": 77,
    "start_time": "2021-09-29T13:47:16.581Z"
   },
   {
    "duration": 536,
    "start_time": "2021-09-29T13:47:29.356Z"
   },
   {
    "duration": 81,
    "start_time": "2021-09-29T13:47:36.786Z"
   },
   {
    "duration": 76,
    "start_time": "2021-09-29T13:47:43.312Z"
   },
   {
    "duration": 400,
    "start_time": "2021-09-29T13:48:13.950Z"
   },
   {
    "duration": 1452,
    "start_time": "2021-09-29T13:48:26.393Z"
   },
   {
    "duration": 406,
    "start_time": "2021-09-29T13:48:36.526Z"
   },
   {
    "duration": 2539,
    "start_time": "2021-09-29T13:49:09.061Z"
   },
   {
    "duration": 1603,
    "start_time": "2021-09-29T13:51:50.752Z"
   },
   {
    "duration": 95,
    "start_time": "2021-09-29T13:52:02.806Z"
   },
   {
    "duration": 386,
    "start_time": "2021-09-29T13:52:11.388Z"
   },
   {
    "duration": 384,
    "start_time": "2021-09-29T13:52:15.907Z"
   },
   {
    "duration": 1477,
    "start_time": "2021-09-29T13:52:20.026Z"
   },
   {
    "duration": 330,
    "start_time": "2021-09-29T13:52:38.384Z"
   },
   {
    "duration": 95,
    "start_time": "2021-09-29T13:52:50.534Z"
   },
   {
    "duration": 99,
    "start_time": "2021-09-29T13:54:20.928Z"
   },
   {
    "duration": 68,
    "start_time": "2021-09-29T14:04:22.554Z"
   },
   {
    "duration": 100,
    "start_time": "2021-09-29T14:06:14.291Z"
   },
   {
    "duration": 314,
    "start_time": "2021-09-29T14:06:34.077Z"
   },
   {
    "duration": 20,
    "start_time": "2021-09-29T14:06:49.043Z"
   },
   {
    "duration": 365,
    "start_time": "2021-09-29T14:07:26.205Z"
   },
   {
    "duration": 29,
    "start_time": "2021-09-29T14:07:30.059Z"
   },
   {
    "duration": 77,
    "start_time": "2021-09-29T14:07:58.024Z"
   },
   {
    "duration": 23,
    "start_time": "2021-09-29T14:07:59.450Z"
   },
   {
    "duration": 84,
    "start_time": "2021-09-29T14:50:56.588Z"
   },
   {
    "duration": 336,
    "start_time": "2021-09-29T14:50:59.610Z"
   },
   {
    "duration": 752,
    "start_time": "2021-09-29T14:51:24.619Z"
   },
   {
    "duration": 171,
    "start_time": "2021-09-29T14:51:25.374Z"
   },
   {
    "duration": 52,
    "start_time": "2021-09-29T14:51:25.549Z"
   },
   {
    "duration": 13,
    "start_time": "2021-09-29T14:51:25.603Z"
   },
   {
    "duration": 112,
    "start_time": "2021-09-29T14:51:25.619Z"
   },
   {
    "duration": 96,
    "start_time": "2021-09-29T14:51:25.733Z"
   },
   {
    "duration": 425,
    "start_time": "2021-09-29T14:51:25.832Z"
   },
   {
    "duration": 4,
    "start_time": "2021-09-29T14:51:34.315Z"
   },
   {
    "duration": 317,
    "start_time": "2021-09-29T14:53:10.737Z"
   },
   {
    "duration": 819,
    "start_time": "2021-09-29T14:53:17.485Z"
   },
   {
    "duration": 183,
    "start_time": "2021-09-29T14:53:18.306Z"
   },
   {
    "duration": 50,
    "start_time": "2021-09-29T14:53:18.493Z"
   },
   {
    "duration": 31,
    "start_time": "2021-09-29T14:53:18.546Z"
   },
   {
    "duration": 106,
    "start_time": "2021-09-29T14:53:18.579Z"
   },
   {
    "duration": 119,
    "start_time": "2021-09-29T14:53:18.687Z"
   },
   {
    "duration": 24,
    "start_time": "2021-09-29T14:53:18.809Z"
   },
   {
    "duration": 22,
    "start_time": "2021-09-29T14:53:28.561Z"
   },
   {
    "duration": 11,
    "start_time": "2021-09-29T14:54:03.795Z"
   },
   {
    "duration": 767,
    "start_time": "2021-09-29T15:50:29.386Z"
   },
   {
    "duration": 4,
    "start_time": "2021-09-29T15:52:24.632Z"
   },
   {
    "duration": 9,
    "start_time": "2021-09-29T15:52:25.563Z"
   },
   {
    "duration": 107,
    "start_time": "2021-09-29T15:52:26.766Z"
   },
   {
    "duration": 93,
    "start_time": "2021-09-29T15:52:28.777Z"
   },
   {
    "duration": 530,
    "start_time": "2021-09-29T15:52:29.677Z"
   },
   {
    "duration": 11,
    "start_time": "2021-09-29T15:52:39.003Z"
   },
   {
    "duration": 31,
    "start_time": "2021-09-29T15:55:16.291Z"
   },
   {
    "duration": 22,
    "start_time": "2021-09-29T15:55:22.918Z"
   },
   {
    "duration": 363,
    "start_time": "2021-09-29T15:55:47.174Z"
   },
   {
    "duration": 25,
    "start_time": "2021-09-29T15:55:51.160Z"
   },
   {
    "duration": 23,
    "start_time": "2021-09-29T15:55:55.265Z"
   },
   {
    "duration": 24,
    "start_time": "2021-09-29T15:56:26.963Z"
   },
   {
    "duration": 8,
    "start_time": "2021-09-29T15:56:38.996Z"
   },
   {
    "duration": 103,
    "start_time": "2021-09-29T15:56:40.986Z"
   },
   {
    "duration": 108,
    "start_time": "2021-09-29T15:56:41.578Z"
   },
   {
    "duration": 10,
    "start_time": "2021-09-29T15:56:42.061Z"
   },
   {
    "duration": 24,
    "start_time": "2021-09-29T15:56:42.861Z"
   },
   {
    "duration": 20,
    "start_time": "2021-09-29T15:56:50.234Z"
   },
   {
    "duration": 24,
    "start_time": "2021-09-29T15:59:08.573Z"
   },
   {
    "duration": 90,
    "start_time": "2021-09-29T15:59:08.939Z"
   },
   {
    "duration": 112,
    "start_time": "2021-09-29T15:59:09.507Z"
   },
   {
    "duration": 12,
    "start_time": "2021-09-29T15:59:09.934Z"
   },
   {
    "duration": 24,
    "start_time": "2021-09-29T15:59:10.667Z"
   },
   {
    "duration": 20,
    "start_time": "2021-09-29T16:00:08.311Z"
   },
   {
    "duration": 356,
    "start_time": "2021-09-29T16:01:13.465Z"
   },
   {
    "duration": 20,
    "start_time": "2021-09-29T16:01:22.235Z"
   },
   {
    "duration": 20,
    "start_time": "2021-09-29T16:01:27.269Z"
   },
   {
    "duration": 31,
    "start_time": "2021-09-29T16:01:47.808Z"
   },
   {
    "duration": 30,
    "start_time": "2021-09-29T16:01:53.379Z"
   },
   {
    "duration": 16,
    "start_time": "2021-09-29T16:02:47.689Z"
   },
   {
    "duration": 8,
    "start_time": "2021-09-29T16:03:08.589Z"
   },
   {
    "duration": 8,
    "start_time": "2021-09-29T16:03:13.403Z"
   },
   {
    "duration": 20,
    "start_time": "2021-09-29T16:03:22.038Z"
   },
   {
    "duration": 16,
    "start_time": "2021-09-29T16:03:26.286Z"
   },
   {
    "duration": 338,
    "start_time": "2021-09-29T16:04:22.222Z"
   },
   {
    "duration": 188,
    "start_time": "2021-09-29T16:05:03.095Z"
   },
   {
    "duration": 33,
    "start_time": "2021-09-29T16:05:13.433Z"
   },
   {
    "duration": 28,
    "start_time": "2021-09-29T16:05:23.024Z"
   },
   {
    "duration": 20,
    "start_time": "2021-09-29T16:06:12.898Z"
   },
   {
    "duration": 20,
    "start_time": "2021-09-29T16:06:39.645Z"
   },
   {
    "duration": 9,
    "start_time": "2021-09-29T16:06:54.011Z"
   },
   {
    "duration": 19,
    "start_time": "2021-09-29T16:06:54.807Z"
   },
   {
    "duration": 327,
    "start_time": "2021-09-29T16:08:16.879Z"
   },
   {
    "duration": 571,
    "start_time": "2021-09-29T16:08:34.084Z"
   },
   {
    "duration": 574,
    "start_time": "2021-09-29T16:12:00.262Z"
   },
   {
    "duration": 837,
    "start_time": "2021-09-29T16:12:37.932Z"
   },
   {
    "duration": 767,
    "start_time": "2021-09-29T16:13:57.867Z"
   },
   {
    "duration": 37,
    "start_time": "2021-09-29T16:14:29.735Z"
   },
   {
    "duration": 684,
    "start_time": "2021-09-29T16:16:32.311Z"
   },
   {
    "duration": 9,
    "start_time": "2021-09-29T16:16:43.813Z"
   },
   {
    "duration": 12,
    "start_time": "2021-09-29T16:17:01.151Z"
   },
   {
    "duration": 9,
    "start_time": "2021-09-29T16:17:11.330Z"
   },
   {
    "duration": 8,
    "start_time": "2021-09-29T16:17:19.803Z"
   },
   {
    "duration": 8,
    "start_time": "2021-09-29T16:17:50.041Z"
   },
   {
    "duration": 25,
    "start_time": "2021-09-29T16:20:09.235Z"
   },
   {
    "duration": 757,
    "start_time": "2021-09-29T16:20:24.936Z"
   },
   {
    "duration": 14,
    "start_time": "2021-09-29T16:21:33.119Z"
   },
   {
    "duration": 27,
    "start_time": "2021-09-29T16:21:52.016Z"
   },
   {
    "duration": 44,
    "start_time": "2021-09-29T16:22:35.131Z"
   },
   {
    "duration": 19,
    "start_time": "2021-09-29T16:23:14.931Z"
   },
   {
    "duration": 61,
    "start_time": "2021-09-29T16:23:32.709Z"
   },
   {
    "duration": 10,
    "start_time": "2021-09-29T16:24:15.165Z"
   },
   {
    "duration": 1523,
    "start_time": "2021-09-29T18:56:44.814Z"
   },
   {
    "duration": 1321,
    "start_time": "2021-09-29T18:56:46.340Z"
   },
   {
    "duration": 40,
    "start_time": "2021-09-29T18:56:47.664Z"
   },
   {
    "duration": 4,
    "start_time": "2021-09-29T18:56:47.707Z"
   },
   {
    "duration": 44,
    "start_time": "2021-09-29T18:56:47.714Z"
   },
   {
    "duration": 23,
    "start_time": "2021-09-29T18:56:47.760Z"
   },
   {
    "duration": 106,
    "start_time": "2021-09-29T18:56:47.786Z"
   },
   {
    "duration": 135,
    "start_time": "2021-09-29T18:56:47.897Z"
   },
   {
    "duration": 24,
    "start_time": "2021-09-29T18:56:48.035Z"
   },
   {
    "duration": 7,
    "start_time": "2021-09-29T18:56:48.061Z"
   },
   {
    "duration": 21,
    "start_time": "2021-09-29T18:56:48.070Z"
   },
   {
    "duration": 65,
    "start_time": "2021-09-29T18:56:48.094Z"
   },
   {
    "duration": 852,
    "start_time": "2021-09-29T18:56:48.162Z"
   },
   {
    "duration": 10,
    "start_time": "2021-09-29T18:56:49.017Z"
   },
   {
    "duration": 46,
    "start_time": "2021-09-29T18:56:49.030Z"
   },
   {
    "duration": 60,
    "start_time": "2021-09-29T18:56:49.079Z"
   },
   {
    "duration": 38,
    "start_time": "2021-09-29T18:56:49.142Z"
   },
   {
    "duration": 11,
    "start_time": "2021-09-29T18:56:49.183Z"
   },
   {
    "duration": 1468,
    "start_time": "2021-09-30T04:36:57.567Z"
   },
   {
    "duration": 156,
    "start_time": "2021-09-30T04:36:59.037Z"
   },
   {
    "duration": 39,
    "start_time": "2021-09-30T04:36:59.196Z"
   },
   {
    "duration": 4,
    "start_time": "2021-09-30T04:36:59.238Z"
   },
   {
    "duration": 48,
    "start_time": "2021-09-30T04:36:59.244Z"
   },
   {
    "duration": 23,
    "start_time": "2021-09-30T04:36:59.294Z"
   },
   {
    "duration": 105,
    "start_time": "2021-09-30T04:36:59.319Z"
   },
   {
    "duration": 148,
    "start_time": "2021-09-30T04:36:59.427Z"
   },
   {
    "duration": 20,
    "start_time": "2021-09-30T04:36:59.580Z"
   },
   {
    "duration": 9,
    "start_time": "2021-09-30T04:36:59.603Z"
   },
   {
    "duration": 19,
    "start_time": "2021-09-30T04:36:59.614Z"
   },
   {
    "duration": 70,
    "start_time": "2021-09-30T04:36:59.635Z"
   },
   {
    "duration": 753,
    "start_time": "2021-09-30T04:36:59.708Z"
   },
   {
    "duration": 21,
    "start_time": "2021-09-30T04:37:00.463Z"
   },
   {
    "duration": 51,
    "start_time": "2021-09-30T04:37:00.487Z"
   },
   {
    "duration": 59,
    "start_time": "2021-09-30T04:37:00.541Z"
   },
   {
    "duration": 19,
    "start_time": "2021-09-30T04:37:00.602Z"
   },
   {
    "duration": 11,
    "start_time": "2021-09-30T04:37:00.624Z"
   },
   {
    "duration": 29,
    "start_time": "2021-09-30T05:04:56.701Z"
   },
   {
    "duration": 31,
    "start_time": "2021-09-30T06:02:56.406Z"
   },
   {
    "duration": 62,
    "start_time": "2021-09-30T06:03:40.336Z"
   },
   {
    "duration": 22,
    "start_time": "2021-09-30T06:11:44.408Z"
   },
   {
    "duration": 29,
    "start_time": "2021-09-30T06:12:38.811Z"
   },
   {
    "duration": 208,
    "start_time": "2021-09-30T06:13:38.309Z"
   },
   {
    "duration": 216,
    "start_time": "2021-09-30T06:14:04.704Z"
   },
   {
    "duration": 232,
    "start_time": "2021-09-30T06:35:50.393Z"
   },
   {
    "duration": 216,
    "start_time": "2021-09-30T06:36:14.902Z"
   },
   {
    "duration": 899,
    "start_time": "2021-09-30T06:36:30.383Z"
   },
   {
    "duration": 221,
    "start_time": "2021-09-30T06:36:37.433Z"
   },
   {
    "duration": 215,
    "start_time": "2021-09-30T06:37:00.631Z"
   },
   {
    "duration": 212,
    "start_time": "2021-09-30T06:38:35.244Z"
   },
   {
    "duration": 7,
    "start_time": "2021-09-30T06:59:40.240Z"
   },
   {
    "duration": 7,
    "start_time": "2021-09-30T07:03:27.551Z"
   },
   {
    "duration": 75,
    "start_time": "2021-09-30T08:04:21.456Z"
   },
   {
    "duration": 86,
    "start_time": "2021-09-30T08:04:27.556Z"
   },
   {
    "duration": 10,
    "start_time": "2021-09-30T08:09:52.599Z"
   },
   {
    "duration": 215,
    "start_time": "2021-09-30T08:12:14.168Z"
   },
   {
    "duration": 70,
    "start_time": "2021-09-30T08:12:50.162Z"
   },
   {
    "duration": 65,
    "start_time": "2021-09-30T08:23:28.520Z"
   },
   {
    "duration": 66,
    "start_time": "2021-09-30T08:23:42.988Z"
   },
   {
    "duration": 374,
    "start_time": "2021-09-30T08:25:29.102Z"
   },
   {
    "duration": 596,
    "start_time": "2021-09-30T08:25:58.213Z"
   },
   {
    "duration": 602,
    "start_time": "2021-09-30T08:26:02.602Z"
   },
   {
    "duration": 346,
    "start_time": "2021-09-30T08:26:39.946Z"
   },
   {
    "duration": 1140,
    "start_time": "2021-09-30T08:27:33.683Z"
   },
   {
    "duration": 320,
    "start_time": "2021-09-30T08:28:04.371Z"
   },
   {
    "duration": 10,
    "start_time": "2021-09-30T08:39:26.497Z"
   },
   {
    "duration": 16,
    "start_time": "2021-09-30T08:39:41.142Z"
   },
   {
    "duration": 19,
    "start_time": "2021-09-30T08:40:09.020Z"
   },
   {
    "duration": 19,
    "start_time": "2021-09-30T08:40:22.672Z"
   },
   {
    "duration": 24,
    "start_time": "2021-09-30T08:41:44.027Z"
   },
   {
    "duration": 19,
    "start_time": "2021-09-30T08:41:48.645Z"
   },
   {
    "duration": 438,
    "start_time": "2021-09-30T08:41:56.034Z"
   },
   {
    "duration": 18,
    "start_time": "2021-09-30T08:42:03.916Z"
   },
   {
    "duration": 315,
    "start_time": "2021-09-30T08:47:52.430Z"
   },
   {
    "duration": 170,
    "start_time": "2021-09-30T08:48:05.404Z"
   },
   {
    "duration": 75,
    "start_time": "2021-09-30T09:36:08.881Z"
   },
   {
    "duration": 176,
    "start_time": "2021-09-30T09:45:40.409Z"
   },
   {
    "duration": 1294,
    "start_time": "2021-09-30T10:08:14.908Z"
   },
   {
    "duration": 276,
    "start_time": "2021-09-30T10:08:36.396Z"
   },
   {
    "duration": 298,
    "start_time": "2021-09-30T10:08:40.602Z"
   },
   {
    "duration": 67,
    "start_time": "2021-09-30T10:09:00.715Z"
   },
   {
    "duration": 61,
    "start_time": "2021-09-30T10:09:13.427Z"
   },
   {
    "duration": 341,
    "start_time": "2021-09-30T11:23:44.107Z"
   },
   {
    "duration": 69,
    "start_time": "2021-09-30T11:23:48.478Z"
   },
   {
    "duration": 10,
    "start_time": "2021-09-30T11:23:50.292Z"
   },
   {
    "duration": 50,
    "start_time": "2021-09-30T11:24:18.366Z"
   },
   {
    "duration": 43,
    "start_time": "2021-09-30T11:27:01.245Z"
   },
   {
    "duration": 31,
    "start_time": "2021-09-30T11:27:05.557Z"
   },
   {
    "duration": 35,
    "start_time": "2021-09-30T11:27:29.285Z"
   },
   {
    "duration": 31,
    "start_time": "2021-09-30T11:28:15.341Z"
   },
   {
    "duration": 28,
    "start_time": "2021-09-30T11:28:47.627Z"
   },
   {
    "duration": 29,
    "start_time": "2021-09-30T11:28:59.745Z"
   },
   {
    "duration": 32,
    "start_time": "2021-09-30T12:00:14.327Z"
   },
   {
    "duration": 68,
    "start_time": "2021-09-30T12:00:22.963Z"
   },
   {
    "duration": 67,
    "start_time": "2021-09-30T12:01:08.530Z"
   },
   {
    "duration": 187,
    "start_time": "2021-09-30T12:01:10.341Z"
   },
   {
    "duration": 68,
    "start_time": "2021-09-30T12:01:20.558Z"
   },
   {
    "duration": 182,
    "start_time": "2021-09-30T12:01:21.298Z"
   },
   {
    "duration": 67,
    "start_time": "2021-09-30T12:01:28.010Z"
   },
   {
    "duration": 372,
    "start_time": "2021-09-30T12:01:29.951Z"
   },
   {
    "duration": 18,
    "start_time": "2021-09-30T12:01:45.437Z"
   },
   {
    "duration": 7,
    "start_time": "2021-09-30T12:02:10.048Z"
   },
   {
    "duration": 25,
    "start_time": "2021-09-30T12:02:44.703Z"
   },
   {
    "duration": 56,
    "start_time": "2021-09-30T12:03:20.474Z"
   },
   {
    "duration": 18,
    "start_time": "2021-09-30T12:03:28.585Z"
   },
   {
    "duration": 50,
    "start_time": "2021-09-30T12:03:49.542Z"
   },
   {
    "duration": 14,
    "start_time": "2021-09-30T12:03:50.688Z"
   },
   {
    "duration": 70,
    "start_time": "2021-09-30T12:05:04.361Z"
   },
   {
    "duration": 18,
    "start_time": "2021-09-30T12:05:04.926Z"
   },
   {
    "duration": 179,
    "start_time": "2021-09-30T12:05:11.739Z"
   },
   {
    "duration": 165,
    "start_time": "2021-09-30T12:06:17.919Z"
   },
   {
    "duration": 43,
    "start_time": "2021-09-30T12:06:43.601Z"
   },
   {
    "duration": 174,
    "start_time": "2021-09-30T12:06:47.996Z"
   },
   {
    "duration": 57,
    "start_time": "2021-09-30T12:06:57.876Z"
   },
   {
    "duration": 175,
    "start_time": "2021-09-30T12:07:15.659Z"
   },
   {
    "duration": 7,
    "start_time": "2021-09-30T12:07:30.825Z"
   },
   {
    "duration": 39,
    "start_time": "2021-09-30T12:07:53.708Z"
   },
   {
    "duration": 62,
    "start_time": "2021-09-30T12:08:06.963Z"
   },
   {
    "duration": 374,
    "start_time": "2021-09-30T12:08:43.975Z"
   },
   {
    "duration": 21,
    "start_time": "2021-09-30T12:29:54.682Z"
   },
   {
    "duration": 13,
    "start_time": "2021-09-30T12:30:28.253Z"
   },
   {
    "duration": 312,
    "start_time": "2021-09-30T12:30:50.910Z"
   },
   {
    "duration": 184,
    "start_time": "2021-09-30T12:35:50.529Z"
   },
   {
    "duration": 113,
    "start_time": "2021-09-30T12:48:25.151Z"
   },
   {
    "duration": 392,
    "start_time": "2021-09-30T12:48:44.655Z"
   },
   {
    "duration": 180,
    "start_time": "2021-09-30T12:49:01.227Z"
   },
   {
    "duration": 7,
    "start_time": "2021-09-30T12:50:04.940Z"
   },
   {
    "duration": 4,
    "start_time": "2021-09-30T12:50:59.850Z"
   },
   {
    "duration": 372,
    "start_time": "2021-09-30T12:51:33.246Z"
   },
   {
    "duration": 17,
    "start_time": "2021-09-30T12:55:37.142Z"
   },
   {
    "duration": 21,
    "start_time": "2021-09-30T12:56:23.711Z"
   },
   {
    "duration": 22,
    "start_time": "2021-09-30T12:57:34.574Z"
   },
   {
    "duration": 11,
    "start_time": "2021-09-30T12:58:37.177Z"
   },
   {
    "duration": 20,
    "start_time": "2021-09-30T12:58:53.632Z"
   },
   {
    "duration": 21,
    "start_time": "2021-09-30T13:03:45.828Z"
   },
   {
    "duration": 43,
    "start_time": "2021-09-30T13:27:11.501Z"
   },
   {
    "duration": 5,
    "start_time": "2021-09-30T13:57:25.544Z"
   },
   {
    "duration": 6,
    "start_time": "2021-09-30T13:58:00.724Z"
   },
   {
    "duration": 377,
    "start_time": "2021-09-30T14:05:40.173Z"
   },
   {
    "duration": 306,
    "start_time": "2021-09-30T14:05:59.396Z"
   },
   {
    "duration": 354,
    "start_time": "2021-09-30T14:06:07.508Z"
   },
   {
    "duration": 1380,
    "start_time": "2021-09-30T16:27:19.645Z"
   },
   {
    "duration": 125,
    "start_time": "2021-09-30T16:27:21.027Z"
   },
   {
    "duration": 29,
    "start_time": "2021-09-30T16:27:21.154Z"
   },
   {
    "duration": 2,
    "start_time": "2021-09-30T16:27:21.200Z"
   },
   {
    "duration": 12,
    "start_time": "2021-09-30T16:27:21.204Z"
   },
   {
    "duration": 14,
    "start_time": "2021-09-30T16:27:21.218Z"
   },
   {
    "duration": 75,
    "start_time": "2021-09-30T16:27:21.234Z"
   },
   {
    "duration": 88,
    "start_time": "2021-09-30T16:27:21.311Z"
   },
   {
    "duration": 12,
    "start_time": "2021-09-30T16:27:21.402Z"
   },
   {
    "duration": 10,
    "start_time": "2021-09-30T16:27:21.416Z"
   },
   {
    "duration": 14,
    "start_time": "2021-09-30T16:27:21.428Z"
   },
   {
    "duration": 29,
    "start_time": "2021-09-30T16:27:21.444Z"
   },
   {
    "duration": 496,
    "start_time": "2021-09-30T16:27:21.474Z"
   },
   {
    "duration": 6,
    "start_time": "2021-09-30T16:27:21.972Z"
   },
   {
    "duration": 30,
    "start_time": "2021-09-30T16:27:21.980Z"
   },
   {
    "duration": 45,
    "start_time": "2021-09-30T16:27:22.011Z"
   },
   {
    "duration": 14,
    "start_time": "2021-09-30T16:27:22.057Z"
   },
   {
    "duration": 6,
    "start_time": "2021-09-30T16:27:22.072Z"
   },
   {
    "duration": 4,
    "start_time": "2021-09-30T16:27:22.100Z"
   },
   {
    "duration": 50,
    "start_time": "2021-09-30T16:27:22.106Z"
   },
   {
    "duration": 73,
    "start_time": "2021-09-30T16:27:22.158Z"
   },
   {
    "duration": 628,
    "start_time": "2021-09-30T16:27:22.233Z"
   },
   {
    "duration": 38,
    "start_time": "2021-09-30T16:27:22.863Z"
   },
   {
    "duration": 110,
    "start_time": "2021-09-30T16:27:22.902Z"
   },
   {
    "duration": 169,
    "start_time": "2021-09-30T16:27:23.013Z"
   },
   {
    "duration": 22,
    "start_time": "2021-09-30T16:27:23.183Z"
   },
   {
    "duration": 129,
    "start_time": "2021-09-30T16:27:23.208Z"
   },
   {
    "duration": 31,
    "start_time": "2021-09-30T16:27:23.339Z"
   },
   {
    "duration": 254,
    "start_time": "2021-09-30T16:27:23.372Z"
   },
   {
    "duration": 1640,
    "start_time": "2021-10-01T04:51:19.971Z"
   },
   {
    "duration": 133,
    "start_time": "2021-10-01T04:51:21.613Z"
   },
   {
    "duration": 30,
    "start_time": "2021-10-01T04:51:21.748Z"
   },
   {
    "duration": 3,
    "start_time": "2021-10-01T04:51:21.781Z"
   },
   {
    "duration": 19,
    "start_time": "2021-10-01T04:51:21.786Z"
   },
   {
    "duration": 16,
    "start_time": "2021-10-01T04:51:21.807Z"
   },
   {
    "duration": 81,
    "start_time": "2021-10-01T04:51:21.824Z"
   },
   {
    "duration": 92,
    "start_time": "2021-10-01T04:51:21.906Z"
   },
   {
    "duration": 12,
    "start_time": "2021-10-01T04:51:22.002Z"
   },
   {
    "duration": 6,
    "start_time": "2021-10-01T04:51:22.016Z"
   },
   {
    "duration": 14,
    "start_time": "2021-10-01T04:51:22.024Z"
   },
   {
    "duration": 52,
    "start_time": "2021-10-01T04:51:22.039Z"
   },
   {
    "duration": 628,
    "start_time": "2021-10-01T04:51:22.093Z"
   },
   {
    "duration": 7,
    "start_time": "2021-10-01T04:51:22.723Z"
   },
   {
    "duration": 16,
    "start_time": "2021-10-01T04:51:22.731Z"
   },
   {
    "duration": 72,
    "start_time": "2021-10-01T04:51:22.749Z"
   },
   {
    "duration": 13,
    "start_time": "2021-10-01T04:51:22.823Z"
   },
   {
    "duration": 6,
    "start_time": "2021-10-01T04:51:22.838Z"
   },
   {
    "duration": 35,
    "start_time": "2021-10-01T04:51:22.845Z"
   },
   {
    "duration": 57,
    "start_time": "2021-10-01T04:51:22.883Z"
   },
   {
    "duration": 74,
    "start_time": "2021-10-01T04:51:22.942Z"
   },
   {
    "duration": 648,
    "start_time": "2021-10-01T04:51:23.018Z"
   },
   {
    "duration": 26,
    "start_time": "2021-10-01T04:51:23.668Z"
   },
   {
    "duration": 110,
    "start_time": "2021-10-01T04:51:23.696Z"
   },
   {
    "duration": 208,
    "start_time": "2021-10-01T04:51:23.808Z"
   },
   {
    "duration": 9,
    "start_time": "2021-10-01T04:51:24.018Z"
   },
   {
    "duration": 138,
    "start_time": "2021-10-01T04:51:24.030Z"
   },
   {
    "duration": 43,
    "start_time": "2021-10-01T04:51:24.170Z"
   },
   {
    "duration": 277,
    "start_time": "2021-10-01T04:51:24.215Z"
   },
   {
    "duration": 4,
    "start_time": "2021-10-01T08:53:34.570Z"
   },
   {
    "duration": 14,
    "start_time": "2021-10-01T08:54:49.840Z"
   },
   {
    "duration": 447,
    "start_time": "2021-10-01T08:56:03.116Z"
   },
   {
    "duration": 16,
    "start_time": "2021-10-01T08:57:41.045Z"
   },
   {
    "duration": 1906,
    "start_time": "2021-10-07T09:22:07.259Z"
   },
   {
    "duration": 163,
    "start_time": "2021-10-07T09:22:09.168Z"
   },
   {
    "duration": 53,
    "start_time": "2021-10-07T09:22:09.335Z"
   },
   {
    "duration": 5,
    "start_time": "2021-10-07T09:22:09.391Z"
   },
   {
    "duration": 15,
    "start_time": "2021-10-07T09:22:09.399Z"
   },
   {
    "duration": 23,
    "start_time": "2021-10-07T09:22:09.416Z"
   },
   {
    "duration": 109,
    "start_time": "2021-10-07T09:22:09.442Z"
   },
   {
    "duration": 115,
    "start_time": "2021-10-07T09:22:09.555Z"
   },
   {
    "duration": 16,
    "start_time": "2021-10-07T09:22:09.672Z"
   },
   {
    "duration": 9,
    "start_time": "2021-10-07T09:22:09.690Z"
   },
   {
    "duration": 16,
    "start_time": "2021-10-07T09:22:09.701Z"
   },
   {
    "duration": 71,
    "start_time": "2021-10-07T09:22:09.720Z"
   },
   {
    "duration": 722,
    "start_time": "2021-10-07T09:22:09.793Z"
   },
   {
    "duration": 8,
    "start_time": "2021-10-07T09:22:10.517Z"
   },
   {
    "duration": 24,
    "start_time": "2021-10-07T09:22:10.527Z"
   },
   {
    "duration": 72,
    "start_time": "2021-10-07T09:22:10.554Z"
   },
   {
    "duration": 17,
    "start_time": "2021-10-07T09:22:10.629Z"
   },
   {
    "duration": 36,
    "start_time": "2021-10-07T09:22:10.648Z"
   },
   {
    "duration": 7,
    "start_time": "2021-10-07T09:22:10.686Z"
   },
   {
    "duration": 63,
    "start_time": "2021-10-07T09:22:10.695Z"
   },
   {
    "duration": 72,
    "start_time": "2021-10-07T09:22:10.783Z"
   },
   {
    "duration": 829,
    "start_time": "2021-10-07T09:22:10.857Z"
   },
   {
    "duration": 19,
    "start_time": "2021-10-07T09:22:11.691Z"
   },
   {
    "duration": 183,
    "start_time": "2021-10-07T09:22:11.712Z"
   },
   {
    "duration": 190,
    "start_time": "2021-10-07T09:22:11.898Z"
   },
   {
    "duration": 13,
    "start_time": "2021-10-07T09:22:12.090Z"
   },
   {
    "duration": 190,
    "start_time": "2021-10-07T09:22:12.105Z"
   },
   {
    "duration": 39,
    "start_time": "2021-10-07T09:22:12.297Z"
   },
   {
    "duration": 357,
    "start_time": "2021-10-07T09:22:12.339Z"
   },
   {
    "duration": 24,
    "start_time": "2021-10-07T09:22:12.699Z"
   },
   {
    "duration": 9,
    "start_time": "2021-10-07T09:34:32.198Z"
   },
   {
    "duration": 1110,
    "start_time": "2021-10-07T09:36:32.724Z"
   },
   {
    "duration": 22,
    "start_time": "2021-10-07T09:36:53.108Z"
   },
   {
    "duration": 10,
    "start_time": "2021-10-07T09:37:34.288Z"
   },
   {
    "duration": 8225,
    "start_time": "2021-10-07T09:37:36.696Z"
   },
   {
    "duration": 21,
    "start_time": "2021-10-07T09:38:22.411Z"
   },
   {
    "duration": 7997,
    "start_time": "2021-10-07T09:39:37.884Z"
   },
   {
    "duration": 9,
    "start_time": "2021-10-07T09:40:05.025Z"
   },
   {
    "duration": 9033,
    "start_time": "2021-10-07T09:40:06.400Z"
   },
   {
    "duration": 12,
    "start_time": "2021-10-07T09:46:02.050Z"
   },
   {
    "duration": 7733,
    "start_time": "2021-10-07T09:46:03.026Z"
   },
   {
    "duration": 21,
    "start_time": "2021-10-07T10:03:58.865Z"
   },
   {
    "duration": 9580,
    "start_time": "2021-10-07T10:06:06.382Z"
   },
   {
    "duration": 36,
    "start_time": "2021-10-07T10:06:46.439Z"
   },
   {
    "duration": 42,
    "start_time": "2021-10-07T10:06:52.316Z"
   },
   {
    "duration": 41,
    "start_time": "2021-10-07T10:07:01.051Z"
   },
   {
    "duration": 10,
    "start_time": "2021-10-07T10:07:24.402Z"
   },
   {
    "duration": 19,
    "start_time": "2021-10-07T10:07:39.697Z"
   },
   {
    "duration": 10,
    "start_time": "2021-10-07T10:07:52.301Z"
   },
   {
    "duration": 11,
    "start_time": "2021-10-07T10:07:56.059Z"
   },
   {
    "duration": 207,
    "start_time": "2021-10-07T10:08:42.605Z"
   },
   {
    "duration": 735,
    "start_time": "2021-10-07T10:09:05.219Z"
   },
   {
    "duration": 9,
    "start_time": "2021-10-07T10:09:58.216Z"
   },
   {
    "duration": 208,
    "start_time": "2021-10-07T10:10:03.029Z"
   },
   {
    "duration": 205,
    "start_time": "2021-10-07T10:12:50.328Z"
   },
   {
    "duration": 200,
    "start_time": "2021-10-07T10:13:02.199Z"
   },
   {
    "duration": 20,
    "start_time": "2021-10-07T10:14:16.761Z"
   },
   {
    "duration": 205,
    "start_time": "2021-10-07T10:14:27.502Z"
   },
   {
    "duration": 201,
    "start_time": "2021-10-07T10:14:33.898Z"
   },
   {
    "duration": 197,
    "start_time": "2021-10-07T10:14:43.440Z"
   },
   {
    "duration": 198,
    "start_time": "2021-10-07T10:15:17.215Z"
   },
   {
    "duration": 202,
    "start_time": "2021-10-07T10:16:01.985Z"
   },
   {
    "duration": 263,
    "start_time": "2021-10-07T10:16:03.419Z"
   },
   {
    "duration": 206,
    "start_time": "2021-10-07T10:31:15.046Z"
   },
   {
    "duration": 198,
    "start_time": "2021-10-07T10:31:18.824Z"
   },
   {
    "duration": 9,
    "start_time": "2021-10-07T10:33:34.464Z"
   },
   {
    "duration": 234,
    "start_time": "2021-10-07T10:33:40.013Z"
   },
   {
    "duration": 9,
    "start_time": "2021-10-07T10:35:12.936Z"
   },
   {
    "duration": 663,
    "start_time": "2021-10-07T10:35:16.710Z"
   },
   {
    "duration": 10,
    "start_time": "2021-10-07T10:36:02.490Z"
   },
   {
    "duration": 595,
    "start_time": "2021-10-07T10:36:03.818Z"
   },
   {
    "duration": 9,
    "start_time": "2021-10-07T10:36:28.508Z"
   },
   {
    "duration": 8290,
    "start_time": "2021-10-07T10:36:30.239Z"
   },
   {
    "duration": 13,
    "start_time": "2021-10-07T10:40:25.359Z"
   },
   {
    "duration": 239,
    "start_time": "2021-10-07T10:40:25.374Z"
   },
   {
    "duration": 10,
    "start_time": "2021-10-07T10:40:42.527Z"
   },
   {
    "duration": 211,
    "start_time": "2021-10-07T10:40:45.007Z"
   },
   {
    "duration": 208,
    "start_time": "2021-10-07T10:40:52.351Z"
   },
   {
    "duration": 209,
    "start_time": "2021-10-07T10:40:55.351Z"
   },
   {
    "duration": 10,
    "start_time": "2021-10-07T10:42:35.396Z"
   },
   {
    "duration": 211,
    "start_time": "2021-10-07T10:42:36.645Z"
   },
   {
    "duration": 10,
    "start_time": "2021-10-07T10:43:59.480Z"
   },
   {
    "duration": 231,
    "start_time": "2021-10-07T10:44:03.695Z"
   },
   {
    "duration": 247,
    "start_time": "2021-10-07T10:44:20.138Z"
   },
   {
    "duration": 10,
    "start_time": "2021-10-07T10:44:41.499Z"
   },
   {
    "duration": 841,
    "start_time": "2021-10-07T10:44:42.120Z"
   },
   {
    "duration": 10,
    "start_time": "2021-10-07T10:44:51.977Z"
   },
   {
    "duration": 210,
    "start_time": "2021-10-07T10:44:52.974Z"
   },
   {
    "duration": 10,
    "start_time": "2021-10-07T10:45:08.562Z"
   },
   {
    "duration": 209,
    "start_time": "2021-10-07T10:45:09.548Z"
   },
   {
    "duration": 10,
    "start_time": "2021-10-07T10:45:15.501Z"
   },
   {
    "duration": 203,
    "start_time": "2021-10-07T10:45:16.027Z"
   },
   {
    "duration": 9,
    "start_time": "2021-10-07T10:45:26.048Z"
   },
   {
    "duration": 208,
    "start_time": "2021-10-07T10:45:26.618Z"
   },
   {
    "duration": 1843,
    "start_time": "2021-10-07T14:38:41.936Z"
   },
   {
    "duration": 166,
    "start_time": "2021-10-07T14:38:43.782Z"
   },
   {
    "duration": 43,
    "start_time": "2021-10-07T14:38:43.951Z"
   },
   {
    "duration": 4,
    "start_time": "2021-10-07T14:38:43.997Z"
   },
   {
    "duration": 16,
    "start_time": "2021-10-07T14:38:44.003Z"
   },
   {
    "duration": 23,
    "start_time": "2021-10-07T14:38:44.021Z"
   },
   {
    "duration": 110,
    "start_time": "2021-10-07T14:38:44.046Z"
   },
   {
    "duration": 123,
    "start_time": "2021-10-07T14:38:44.159Z"
   },
   {
    "duration": 17,
    "start_time": "2021-10-07T14:38:44.286Z"
   },
   {
    "duration": 8,
    "start_time": "2021-10-07T14:38:44.307Z"
   },
   {
    "duration": 18,
    "start_time": "2021-10-07T14:38:44.317Z"
   },
   {
    "duration": 75,
    "start_time": "2021-10-07T14:38:44.337Z"
   },
   {
    "duration": 722,
    "start_time": "2021-10-07T14:38:44.414Z"
   },
   {
    "duration": 8,
    "start_time": "2021-10-07T14:38:45.139Z"
   },
   {
    "duration": 37,
    "start_time": "2021-10-07T14:38:45.150Z"
   },
   {
    "duration": 58,
    "start_time": "2021-10-07T14:38:45.190Z"
   },
   {
    "duration": 43,
    "start_time": "2021-10-07T14:38:45.250Z"
   },
   {
    "duration": 10,
    "start_time": "2021-10-07T14:38:45.295Z"
   },
   {
    "duration": 7,
    "start_time": "2021-10-07T14:38:45.307Z"
   },
   {
    "duration": 102,
    "start_time": "2021-10-07T14:38:45.316Z"
   },
   {
    "duration": 80,
    "start_time": "2021-10-07T14:38:45.421Z"
   },
   {
    "duration": 841,
    "start_time": "2021-10-07T14:38:45.504Z"
   },
   {
    "duration": 50,
    "start_time": "2021-10-07T14:38:46.347Z"
   },
   {
    "duration": 137,
    "start_time": "2021-10-07T14:38:46.399Z"
   },
   {
    "duration": 199,
    "start_time": "2021-10-07T14:38:46.584Z"
   },
   {
    "duration": 16,
    "start_time": "2021-10-07T14:38:46.787Z"
   },
   {
    "duration": 194,
    "start_time": "2021-10-07T14:38:46.808Z"
   },
   {
    "duration": 40,
    "start_time": "2021-10-07T14:38:47.005Z"
   },
   {
    "duration": 359,
    "start_time": "2021-10-07T14:38:47.047Z"
   },
   {
    "duration": 24,
    "start_time": "2021-10-07T14:38:47.408Z"
   },
   {
    "duration": 10,
    "start_time": "2021-10-07T14:38:47.435Z"
   },
   {
    "duration": 256,
    "start_time": "2021-10-07T14:38:47.447Z"
   },
   {
    "duration": 231,
    "start_time": "2021-10-07T14:38:47.705Z"
   },
   {
    "duration": 224,
    "start_time": "2021-10-07T14:38:47.938Z"
   },
   {
    "duration": 28,
    "start_time": "2021-10-07T14:38:48.164Z"
   },
   {
    "duration": 10,
    "start_time": "2021-10-07T14:51:53.564Z"
   },
   {
    "duration": 213,
    "start_time": "2021-10-07T14:51:55.001Z"
   },
   {
    "duration": 10,
    "start_time": "2021-10-07T14:58:21.986Z"
   },
   {
    "duration": 114,
    "start_time": "2021-10-07T15:09:27.833Z"
   },
   {
    "duration": 11,
    "start_time": "2021-10-07T15:09:36.243Z"
   },
   {
    "duration": 112,
    "start_time": "2021-10-07T15:11:12.014Z"
   },
   {
    "duration": 9,
    "start_time": "2021-10-07T15:13:23.109Z"
   },
   {
    "duration": 8325,
    "start_time": "2021-10-07T15:13:35.112Z"
   },
   {
    "duration": 12,
    "start_time": "2021-10-07T15:14:35.306Z"
   },
   {
    "duration": 8716,
    "start_time": "2021-10-07T15:14:36.208Z"
   },
   {
    "duration": 11,
    "start_time": "2021-10-07T15:15:42.126Z"
   },
   {
    "duration": 8077,
    "start_time": "2021-10-07T15:15:52.031Z"
   },
   {
    "duration": -59,
    "start_time": "2021-10-07T15:16:00.170Z"
   },
   {
    "duration": 223,
    "start_time": "2021-10-07T15:16:24.784Z"
   },
   {
    "duration": 212,
    "start_time": "2021-10-07T15:16:28.272Z"
   },
   {
    "duration": 342,
    "start_time": "2021-10-07T15:17:37.356Z"
   },
   {
    "duration": 10,
    "start_time": "2021-10-07T15:17:48.519Z"
   },
   {
    "duration": 7998,
    "start_time": "2021-10-07T15:17:52.140Z"
   },
   {
    "duration": 303,
    "start_time": "2021-10-07T15:18:56.787Z"
   },
   {
    "duration": 285,
    "start_time": "2021-10-07T15:19:23.941Z"
   },
   {
    "duration": 524,
    "start_time": "2021-10-07T15:19:40.873Z"
   },
   {
    "duration": 222,
    "start_time": "2021-10-07T15:20:35.928Z"
   },
   {
    "duration": 6,
    "start_time": "2021-10-07T15:20:51.079Z"
   },
   {
    "duration": 7,
    "start_time": "2021-10-07T15:21:22.546Z"
   },
   {
    "duration": 9,
    "start_time": "2021-10-07T15:22:53.324Z"
   },
   {
    "duration": 13,
    "start_time": "2021-10-07T15:23:00.371Z"
   },
   {
    "duration": 14,
    "start_time": "2021-10-07T15:23:07.270Z"
   },
   {
    "duration": 16,
    "start_time": "2021-10-07T15:23:17.035Z"
   },
   {
    "duration": 20,
    "start_time": "2021-10-07T15:23:32.138Z"
   },
   {
    "duration": 11,
    "start_time": "2021-10-07T15:24:44.922Z"
   },
   {
    "duration": 7902,
    "start_time": "2021-10-07T15:24:53.095Z"
   },
   {
    "duration": 220,
    "start_time": "2021-10-07T15:25:12.261Z"
   },
   {
    "duration": 17,
    "start_time": "2021-10-07T15:25:24.351Z"
   },
   {
    "duration": 22,
    "start_time": "2021-10-07T15:25:31.253Z"
   },
   {
    "duration": 24,
    "start_time": "2021-10-07T15:25:37.352Z"
   },
   {
    "duration": 15,
    "start_time": "2021-10-07T15:26:01.830Z"
   },
   {
    "duration": 15,
    "start_time": "2021-10-07T15:26:41.644Z"
   },
   {
    "duration": 7,
    "start_time": "2021-10-07T15:27:07.895Z"
   },
   {
    "duration": 8,
    "start_time": "2021-10-07T15:27:43.043Z"
   },
   {
    "duration": 12,
    "start_time": "2021-10-07T15:28:00.096Z"
   },
   {
    "duration": 10,
    "start_time": "2021-10-07T15:28:13.280Z"
   },
   {
    "duration": 7932,
    "start_time": "2021-10-07T15:28:18.595Z"
   },
   {
    "duration": 10,
    "start_time": "2021-10-07T15:29:02.623Z"
   },
   {
    "duration": 1990,
    "start_time": "2021-10-07T15:29:38.282Z"
   },
   {
    "duration": 165,
    "start_time": "2021-10-07T15:29:40.275Z"
   },
   {
    "duration": 49,
    "start_time": "2021-10-07T15:29:40.443Z"
   },
   {
    "duration": 4,
    "start_time": "2021-10-07T15:29:40.496Z"
   },
   {
    "duration": 18,
    "start_time": "2021-10-07T15:29:40.502Z"
   },
   {
    "duration": 23,
    "start_time": "2021-10-07T15:29:40.523Z"
   },
   {
    "duration": 113,
    "start_time": "2021-10-07T15:29:40.548Z"
   },
   {
    "duration": 119,
    "start_time": "2021-10-07T15:29:40.683Z"
   },
   {
    "duration": 16,
    "start_time": "2021-10-07T15:29:40.805Z"
   },
   {
    "duration": 11,
    "start_time": "2021-10-07T15:29:40.823Z"
   },
   {
    "duration": 54,
    "start_time": "2021-10-07T15:29:40.838Z"
   },
   {
    "duration": 47,
    "start_time": "2021-10-07T15:29:40.895Z"
   },
   {
    "duration": 1218,
    "start_time": "2021-10-07T15:29:40.945Z"
   },
   {
    "duration": 18,
    "start_time": "2021-10-07T15:29:42.167Z"
   },
   {
    "duration": 28,
    "start_time": "2021-10-07T15:29:42.188Z"
   },
   {
    "duration": 119,
    "start_time": "2021-10-07T15:29:42.218Z"
   },
   {
    "duration": 20,
    "start_time": "2021-10-07T15:29:42.341Z"
   },
   {
    "duration": 11,
    "start_time": "2021-10-07T15:29:42.383Z"
   },
   {
    "duration": 7,
    "start_time": "2021-10-07T15:29:42.396Z"
   },
   {
    "duration": 97,
    "start_time": "2021-10-07T15:29:42.405Z"
   },
   {
    "duration": 90,
    "start_time": "2021-10-07T15:29:42.504Z"
   },
   {
    "duration": 867,
    "start_time": "2021-10-07T15:29:42.597Z"
   },
   {
    "duration": 20,
    "start_time": "2021-10-07T15:29:43.486Z"
   },
   {
    "duration": 194,
    "start_time": "2021-10-07T15:29:43.509Z"
   },
   {
    "duration": 213,
    "start_time": "2021-10-07T15:29:43.706Z"
   },
   {
    "duration": 14,
    "start_time": "2021-10-07T15:29:43.921Z"
   },
   {
    "duration": 197,
    "start_time": "2021-10-07T15:29:43.938Z"
   },
   {
    "duration": 53,
    "start_time": "2021-10-07T15:29:44.137Z"
   },
   {
    "duration": 360,
    "start_time": "2021-10-07T15:29:44.192Z"
   },
   {
    "duration": 45,
    "start_time": "2021-10-07T15:29:44.556Z"
   },
   {
    "duration": 15,
    "start_time": "2021-10-07T15:29:44.604Z"
   },
   {
    "duration": 8802,
    "start_time": "2021-10-07T15:29:44.622Z"
   },
   {
    "duration": -79,
    "start_time": "2021-10-07T15:29:53.507Z"
   },
   {
    "duration": -81,
    "start_time": "2021-10-07T15:29:53.511Z"
   },
   {
    "duration": 11,
    "start_time": "2021-10-07T15:30:35.266Z"
   },
   {
    "duration": 8976,
    "start_time": "2021-10-07T15:30:36.284Z"
   },
   {
    "duration": 1957,
    "start_time": "2021-10-11T06:13:24.061Z"
   },
   {
    "duration": 160,
    "start_time": "2021-10-11T06:13:26.021Z"
   },
   {
    "duration": 47,
    "start_time": "2021-10-11T06:13:26.184Z"
   },
   {
    "duration": 4,
    "start_time": "2021-10-11T06:13:26.233Z"
   },
   {
    "duration": 33,
    "start_time": "2021-10-11T06:13:26.239Z"
   },
   {
    "duration": 27,
    "start_time": "2021-10-11T06:13:26.274Z"
   },
   {
    "duration": 97,
    "start_time": "2021-10-11T06:13:26.303Z"
   },
   {
    "duration": 120,
    "start_time": "2021-10-11T06:13:26.404Z"
   },
   {
    "duration": 15,
    "start_time": "2021-10-11T06:13:26.527Z"
   },
   {
    "duration": 45,
    "start_time": "2021-10-11T06:13:26.545Z"
   },
   {
    "duration": 31,
    "start_time": "2021-10-11T06:13:26.592Z"
   },
   {
    "duration": 39,
    "start_time": "2021-10-11T06:13:26.625Z"
   },
   {
    "duration": 732,
    "start_time": "2021-10-11T06:13:26.666Z"
   },
   {
    "duration": 8,
    "start_time": "2021-10-11T06:13:27.401Z"
   },
   {
    "duration": 23,
    "start_time": "2021-10-11T06:13:27.422Z"
   },
   {
    "duration": 77,
    "start_time": "2021-10-11T06:13:27.447Z"
   },
   {
    "duration": 18,
    "start_time": "2021-10-11T06:13:27.526Z"
   },
   {
    "duration": 10,
    "start_time": "2021-10-11T06:13:27.546Z"
   },
   {
    "duration": 9,
    "start_time": "2021-10-11T06:13:27.558Z"
   },
   {
    "duration": 105,
    "start_time": "2021-10-11T06:13:27.569Z"
   },
   {
    "duration": 85,
    "start_time": "2021-10-11T06:13:27.676Z"
   },
   {
    "duration": 844,
    "start_time": "2021-10-11T06:13:27.763Z"
   },
   {
    "duration": 20,
    "start_time": "2021-10-11T06:13:28.625Z"
   },
   {
    "duration": 183,
    "start_time": "2021-10-11T06:13:28.648Z"
   },
   {
    "duration": 220,
    "start_time": "2021-10-11T06:13:28.834Z"
   },
   {
    "duration": 13,
    "start_time": "2021-10-11T06:13:29.056Z"
   },
   {
    "duration": 188,
    "start_time": "2021-10-11T06:13:29.072Z"
   },
   {
    "duration": 40,
    "start_time": "2021-10-11T06:13:29.262Z"
   },
   {
    "duration": 349,
    "start_time": "2021-10-11T06:13:29.322Z"
   },
   {
    "duration": 23,
    "start_time": "2021-10-11T06:13:29.674Z"
   },
   {
    "duration": 24,
    "start_time": "2021-10-11T06:13:29.699Z"
   },
   {
    "duration": 12771,
    "start_time": "2021-10-11T06:13:29.726Z"
   },
   {
    "duration": 663,
    "start_time": "2021-10-11T06:13:41.836Z"
   },
   {
    "duration": 662,
    "start_time": "2021-10-11T06:13:41.839Z"
   },
   {
    "duration": 358,
    "start_time": "2021-10-11T06:16:29.879Z"
   },
   {
    "duration": 24,
    "start_time": "2021-10-11T06:16:33.298Z"
   },
   {
    "duration": 325,
    "start_time": "2021-10-11T06:21:57.368Z"
   },
   {
    "duration": 346,
    "start_time": "2021-10-11T06:22:00.998Z"
   },
   {
    "duration": 227,
    "start_time": "2021-10-11T06:22:24.228Z"
   },
   {
    "duration": 212,
    "start_time": "2021-10-11T06:22:40.219Z"
   },
   {
    "duration": 7,
    "start_time": "2021-10-11T07:21:07.703Z"
   },
   {
    "duration": 260,
    "start_time": "2021-10-11T07:21:07.713Z"
   },
   {
    "duration": 46,
    "start_time": "2021-10-11T07:21:07.976Z"
   },
   {
    "duration": 5,
    "start_time": "2021-10-11T07:21:08.026Z"
   },
   {
    "duration": 19,
    "start_time": "2021-10-11T07:21:08.033Z"
   },
   {
    "duration": 24,
    "start_time": "2021-10-11T07:21:08.055Z"
   },
   {
    "duration": 109,
    "start_time": "2021-10-11T07:21:08.083Z"
   },
   {
    "duration": 106,
    "start_time": "2021-10-11T07:21:08.197Z"
   },
   {
    "duration": 25,
    "start_time": "2021-10-11T07:21:08.306Z"
   },
   {
    "duration": 13,
    "start_time": "2021-10-11T07:21:08.334Z"
   },
   {
    "duration": 32,
    "start_time": "2021-10-11T07:21:08.349Z"
   },
   {
    "duration": 65,
    "start_time": "2021-10-11T07:21:08.384Z"
   },
   {
    "duration": 802,
    "start_time": "2021-10-11T07:21:08.452Z"
   },
   {
    "duration": 9,
    "start_time": "2021-10-11T07:21:09.257Z"
   },
   {
    "duration": 26,
    "start_time": "2021-10-11T07:21:09.269Z"
   },
   {
    "duration": 80,
    "start_time": "2021-10-11T07:21:09.298Z"
   },
   {
    "duration": 44,
    "start_time": "2021-10-11T07:21:09.381Z"
   },
   {
    "duration": 11,
    "start_time": "2021-10-11T07:21:09.427Z"
   },
   {
    "duration": 14,
    "start_time": "2021-10-11T07:21:09.440Z"
   },
   {
    "duration": 91,
    "start_time": "2021-10-11T07:21:09.456Z"
   },
   {
    "duration": 80,
    "start_time": "2021-10-11T07:21:09.550Z"
   },
   {
    "duration": 280,
    "start_time": "2021-10-11T07:21:09.632Z"
   },
   {
    "duration": 31,
    "start_time": "2021-10-11T07:21:09.924Z"
   },
   {
    "duration": 116,
    "start_time": "2021-10-11T07:21:09.959Z"
   },
   {
    "duration": 477,
    "start_time": "2021-10-11T07:21:10.077Z"
   },
   {
    "duration": 13,
    "start_time": "2021-10-11T07:21:10.556Z"
   },
   {
    "duration": 203,
    "start_time": "2021-10-11T07:21:10.571Z"
   },
   {
    "duration": 57,
    "start_time": "2021-10-11T07:21:10.777Z"
   },
   {
    "duration": 394,
    "start_time": "2021-10-11T07:21:10.837Z"
   },
   {
    "duration": 28,
    "start_time": "2021-10-11T07:21:11.234Z"
   },
   {
    "duration": 13,
    "start_time": "2021-10-11T07:21:11.265Z"
   },
   {
    "duration": 259,
    "start_time": "2021-10-11T07:21:11.280Z"
   },
   {
    "duration": 233,
    "start_time": "2021-10-11T07:21:11.541Z"
   },
   {
    "duration": 20,
    "start_time": "2021-10-11T07:21:11.777Z"
   },
   {
    "duration": 209,
    "start_time": "2021-10-11T07:50:48.207Z"
   },
   {
    "duration": 209,
    "start_time": "2021-10-11T07:51:27.013Z"
   },
   {
    "duration": 205,
    "start_time": "2021-10-11T07:51:46.480Z"
   },
   {
    "duration": 10,
    "start_time": "2021-10-11T07:52:09.633Z"
   },
   {
    "duration": 210,
    "start_time": "2021-10-11T07:52:10.584Z"
   },
   {
    "duration": 212,
    "start_time": "2021-10-11T07:52:12.072Z"
   },
   {
    "duration": 212,
    "start_time": "2021-10-11T07:52:13.344Z"
   },
   {
    "duration": 214,
    "start_time": "2021-10-11T07:52:14.508Z"
   },
   {
    "duration": 326,
    "start_time": "2021-10-11T07:54:03.857Z"
   },
   {
    "duration": 23,
    "start_time": "2021-10-11T07:54:05.620Z"
   },
   {
    "duration": 127,
    "start_time": "2021-10-11T09:16:24.012Z"
   },
   {
    "duration": 197,
    "start_time": "2021-10-11T09:16:58.361Z"
   },
   {
    "duration": 205,
    "start_time": "2021-10-11T09:17:04.281Z"
   },
   {
    "duration": 22,
    "start_time": "2021-10-11T09:17:14.872Z"
   },
   {
    "duration": 6,
    "start_time": "2021-10-11T09:17:43.556Z"
   },
   {
    "duration": 5,
    "start_time": "2021-10-11T09:17:55.564Z"
   },
   {
    "duration": 212,
    "start_time": "2021-10-11T09:19:06.843Z"
   },
   {
    "duration": 220,
    "start_time": "2021-10-11T09:19:21.983Z"
   },
   {
    "duration": 293,
    "start_time": "2021-10-11T09:20:04.733Z"
   },
   {
    "duration": 10,
    "start_time": "2021-10-11T09:20:56.456Z"
   },
   {
    "duration": 635,
    "start_time": "2021-10-11T09:20:57.914Z"
   },
   {
    "duration": 221,
    "start_time": "2021-10-11T09:21:06.100Z"
   },
   {
    "duration": 11,
    "start_time": "2021-10-11T09:21:17.320Z"
   },
   {
    "duration": 215,
    "start_time": "2021-10-11T09:21:18.750Z"
   },
   {
    "duration": 664,
    "start_time": "2021-10-11T09:21:40.123Z"
   },
   {
    "duration": 10,
    "start_time": "2021-10-11T09:22:09.769Z"
   },
   {
    "duration": 208,
    "start_time": "2021-10-11T09:22:10.515Z"
   },
   {
    "duration": 40,
    "start_time": "2021-10-11T09:23:07.963Z"
   },
   {
    "duration": 11,
    "start_time": "2021-10-11T09:23:10.081Z"
   },
   {
    "duration": 215,
    "start_time": "2021-10-11T09:23:10.755Z"
   },
   {
    "duration": 287,
    "start_time": "2021-10-11T09:30:15.107Z"
   },
   {
    "duration": 745,
    "start_time": "2021-10-11T09:38:02.369Z"
   },
   {
    "duration": 670,
    "start_time": "2021-10-11T09:38:40.755Z"
   },
   {
    "duration": 659,
    "start_time": "2021-10-11T12:28:07.022Z"
   },
   {
    "duration": 695,
    "start_time": "2021-10-11T12:28:22.504Z"
   },
   {
    "duration": 7,
    "start_time": "2021-10-11T12:50:25.550Z"
   },
   {
    "duration": 137,
    "start_time": "2021-10-11T12:53:08.209Z"
   },
   {
    "duration": 22,
    "start_time": "2021-10-11T12:53:15.147Z"
   },
   {
    "duration": 7,
    "start_time": "2021-10-11T12:53:45.060Z"
   },
   {
    "duration": 129,
    "start_time": "2021-10-11T12:53:50.333Z"
   },
   {
    "duration": 10,
    "start_time": "2021-10-11T12:53:52.420Z"
   },
   {
    "duration": 130,
    "start_time": "2021-10-11T12:54:14.343Z"
   },
   {
    "duration": 7,
    "start_time": "2021-10-11T12:54:15.159Z"
   },
   {
    "duration": 138,
    "start_time": "2021-10-11T12:54:25.688Z"
   },
   {
    "duration": 8,
    "start_time": "2021-10-11T12:54:26.615Z"
   },
   {
    "duration": 131,
    "start_time": "2021-10-11T12:54:36.242Z"
   },
   {
    "duration": 7,
    "start_time": "2021-10-11T12:54:36.988Z"
   },
   {
    "duration": 7,
    "start_time": "2021-10-11T12:54:46.291Z"
   },
   {
    "duration": 130,
    "start_time": "2021-10-11T12:54:46.881Z"
   },
   {
    "duration": 8,
    "start_time": "2021-10-11T12:54:47.631Z"
   },
   {
    "duration": 21,
    "start_time": "2021-10-11T12:55:01.056Z"
   },
   {
    "duration": 1832,
    "start_time": "2021-10-11T12:55:34.310Z"
   },
   {
    "duration": 165,
    "start_time": "2021-10-11T12:55:36.144Z"
   },
   {
    "duration": 41,
    "start_time": "2021-10-11T12:55:36.312Z"
   },
   {
    "duration": 4,
    "start_time": "2021-10-11T12:55:36.356Z"
   },
   {
    "duration": 26,
    "start_time": "2021-10-11T12:55:36.362Z"
   },
   {
    "duration": 36,
    "start_time": "2021-10-11T12:55:36.391Z"
   },
   {
    "duration": 97,
    "start_time": "2021-10-11T12:55:36.430Z"
   },
   {
    "duration": 129,
    "start_time": "2021-10-11T12:55:36.531Z"
   },
   {
    "duration": 17,
    "start_time": "2021-10-11T12:55:36.663Z"
   },
   {
    "duration": 21,
    "start_time": "2021-10-11T12:55:36.683Z"
   },
   {
    "duration": 28,
    "start_time": "2021-10-11T12:55:36.707Z"
   },
   {
    "duration": 53,
    "start_time": "2021-10-11T12:55:36.737Z"
   },
   {
    "duration": 740,
    "start_time": "2021-10-11T12:55:36.792Z"
   },
   {
    "duration": 8,
    "start_time": "2021-10-11T12:55:37.534Z"
   },
   {
    "duration": 44,
    "start_time": "2021-10-11T12:55:37.545Z"
   },
   {
    "duration": 78,
    "start_time": "2021-10-11T12:55:37.592Z"
   },
   {
    "duration": 19,
    "start_time": "2021-10-11T12:55:37.672Z"
   },
   {
    "duration": 30,
    "start_time": "2021-10-11T12:55:37.694Z"
   },
   {
    "duration": 7,
    "start_time": "2021-10-11T12:55:37.727Z"
   },
   {
    "duration": 104,
    "start_time": "2021-10-11T12:55:37.737Z"
   },
   {
    "duration": 89,
    "start_time": "2021-10-11T12:55:37.843Z"
   },
   {
    "duration": 821,
    "start_time": "2021-10-11T12:55:37.934Z"
   },
   {
    "duration": 64,
    "start_time": "2021-10-11T12:55:38.760Z"
   },
   {
    "duration": 215,
    "start_time": "2021-10-11T12:55:38.828Z"
   },
   {
    "duration": 239,
    "start_time": "2021-10-11T12:55:39.047Z"
   },
   {
    "duration": 13,
    "start_time": "2021-10-11T12:55:39.288Z"
   },
   {
    "duration": 188,
    "start_time": "2021-10-11T12:55:39.303Z"
   },
   {
    "duration": 52,
    "start_time": "2021-10-11T12:55:39.494Z"
   },
   {
    "duration": 10,
    "start_time": "2021-10-11T12:55:39.548Z"
   },
   {
    "duration": 234,
    "start_time": "2021-10-11T12:55:39.560Z"
   },
   {
    "duration": 318,
    "start_time": "2021-10-11T12:55:39.796Z"
   },
   {
    "duration": 649,
    "start_time": "2021-10-11T12:55:40.122Z"
   },
   {
    "duration": 723,
    "start_time": "2021-10-11T12:55:40.774Z"
   },
   {
    "duration": 691,
    "start_time": "2021-10-11T12:55:41.499Z"
   },
   {
    "duration": 13,
    "start_time": "2021-10-11T12:55:42.192Z"
   },
   {
    "duration": 174,
    "start_time": "2021-10-11T12:55:42.207Z"
   },
   {
    "duration": 22,
    "start_time": "2021-10-11T12:55:42.383Z"
   },
   {
    "duration": 21,
    "start_time": "2021-10-11T12:55:53.343Z"
   },
   {
    "duration": 30,
    "start_time": "2021-10-11T12:57:45.914Z"
   },
   {
    "duration": 21,
    "start_time": "2021-10-11T12:57:51.470Z"
   },
   {
    "duration": 12,
    "start_time": "2021-10-11T12:58:58.678Z"
   },
   {
    "duration": 21,
    "start_time": "2021-10-11T12:58:59.800Z"
   },
   {
    "duration": 12,
    "start_time": "2021-10-11T12:59:11.459Z"
   },
   {
    "duration": 152,
    "start_time": "2021-10-11T13:09:44.131Z"
   },
   {
    "duration": 21,
    "start_time": "2021-10-11T13:09:45.187Z"
   },
   {
    "duration": 6464,
    "start_time": "2021-10-11T13:10:17.361Z"
   },
   {
    "duration": 34,
    "start_time": "2021-10-11T13:10:23.829Z"
   },
   {
    "duration": 7,
    "start_time": "2021-10-11T13:10:53.315Z"
   },
   {
    "duration": 6308,
    "start_time": "2021-10-11T13:10:54.539Z"
   },
   {
    "duration": 23,
    "start_time": "2021-10-11T13:11:00.849Z"
   },
   {
    "duration": 7,
    "start_time": "2021-10-11T13:11:52.984Z"
   },
   {
    "duration": 23,
    "start_time": "2021-10-11T13:11:55.428Z"
   },
   {
    "duration": 3224,
    "start_time": "2021-10-11T13:12:13.484Z"
   },
   {
    "duration": 28,
    "start_time": "2021-10-11T13:12:16.710Z"
   },
   {
    "duration": 3363,
    "start_time": "2021-10-11T13:12:41.684Z"
   },
   {
    "duration": 21,
    "start_time": "2021-10-11T13:12:45.049Z"
   },
   {
    "duration": 65,
    "start_time": "2021-10-11T13:13:15.673Z"
   },
   {
    "duration": 20,
    "start_time": "2021-10-11T13:13:16.864Z"
   },
   {
    "duration": 7,
    "start_time": "2021-10-11T13:13:29.347Z"
   },
   {
    "duration": 84,
    "start_time": "2021-10-11T13:14:26.015Z"
   },
   {
    "duration": 7,
    "start_time": "2021-10-11T13:14:27.112Z"
   },
   {
    "duration": 11,
    "start_time": "2021-10-11T13:16:07.966Z"
   },
   {
    "duration": 7,
    "start_time": "2021-10-11T13:16:13.624Z"
   },
   {
    "duration": 9,
    "start_time": "2021-10-11T13:16:24.371Z"
   },
   {
    "duration": 8,
    "start_time": "2021-10-11T13:16:25.353Z"
   },
   {
    "duration": 6,
    "start_time": "2021-10-11T13:17:05.052Z"
   },
   {
    "duration": 7,
    "start_time": "2021-10-11T13:17:05.804Z"
   },
   {
    "duration": 7,
    "start_time": "2021-10-11T13:17:11.360Z"
   },
   {
    "duration": 10,
    "start_time": "2021-10-11T13:17:12.092Z"
   },
   {
    "duration": 8,
    "start_time": "2021-10-11T13:17:12.770Z"
   },
   {
    "duration": 7,
    "start_time": "2021-10-11T13:18:31.022Z"
   },
   {
    "duration": 26,
    "start_time": "2021-10-11T13:19:34.235Z"
   },
   {
    "duration": 816,
    "start_time": "2021-10-11T13:20:11.613Z"
   },
   {
    "duration": 949,
    "start_time": "2021-10-11T13:20:24.513Z"
   },
   {
    "duration": 950,
    "start_time": "2021-10-11T13:43:11.494Z"
   },
   {
    "duration": 955,
    "start_time": "2021-10-11T13:43:23.346Z"
   },
   {
    "duration": 971,
    "start_time": "2021-10-11T13:43:40.075Z"
   },
   {
    "duration": 2016,
    "start_time": "2021-10-11T14:01:00.008Z"
   },
   {
    "duration": 178,
    "start_time": "2021-10-11T14:01:02.027Z"
   },
   {
    "duration": 43,
    "start_time": "2021-10-11T14:01:02.208Z"
   },
   {
    "duration": 22,
    "start_time": "2021-10-11T14:01:02.254Z"
   },
   {
    "duration": 46,
    "start_time": "2021-10-11T14:01:02.279Z"
   },
   {
    "duration": 34,
    "start_time": "2021-10-11T14:01:02.328Z"
   },
   {
    "duration": 87,
    "start_time": "2021-10-11T14:01:02.365Z"
   },
   {
    "duration": 117,
    "start_time": "2021-10-11T14:01:02.456Z"
   },
   {
    "duration": 15,
    "start_time": "2021-10-11T14:01:02.576Z"
   },
   {
    "duration": 46,
    "start_time": "2021-10-11T14:01:02.594Z"
   },
   {
    "duration": 32,
    "start_time": "2021-10-11T14:01:02.643Z"
   },
   {
    "duration": 41,
    "start_time": "2021-10-11T14:01:02.678Z"
   },
   {
    "duration": 979,
    "start_time": "2021-10-11T14:01:02.721Z"
   },
   {
    "duration": 21,
    "start_time": "2021-10-11T14:01:03.703Z"
   },
   {
    "duration": 18,
    "start_time": "2021-10-11T14:01:03.726Z"
   },
   {
    "duration": 83,
    "start_time": "2021-10-11T14:01:03.747Z"
   },
   {
    "duration": 19,
    "start_time": "2021-10-11T14:01:03.832Z"
   },
   {
    "duration": 10,
    "start_time": "2021-10-11T14:01:03.853Z"
   },
   {
    "duration": 14,
    "start_time": "2021-10-11T14:01:03.866Z"
   },
   {
    "duration": 98,
    "start_time": "2021-10-11T14:01:03.883Z"
   },
   {
    "duration": 86,
    "start_time": "2021-10-11T14:01:03.983Z"
   },
   {
    "duration": 835,
    "start_time": "2021-10-11T14:01:04.071Z"
   },
   {
    "duration": 21,
    "start_time": "2021-10-11T14:01:04.925Z"
   },
   {
    "duration": 177,
    "start_time": "2021-10-11T14:01:04.949Z"
   },
   {
    "duration": 250,
    "start_time": "2021-10-11T14:01:05.130Z"
   },
   {
    "duration": 13,
    "start_time": "2021-10-11T14:01:05.382Z"
   },
   {
    "duration": 194,
    "start_time": "2021-10-11T14:01:05.397Z"
   },
   {
    "duration": 53,
    "start_time": "2021-10-11T14:01:05.593Z"
   },
   {
    "duration": 11,
    "start_time": "2021-10-11T14:01:05.650Z"
   },
   {
    "duration": 242,
    "start_time": "2021-10-11T14:01:05.664Z"
   },
   {
    "duration": 308,
    "start_time": "2021-10-11T14:01:05.909Z"
   },
   {
    "duration": 662,
    "start_time": "2021-10-11T14:01:06.223Z"
   },
   {
    "duration": 675,
    "start_time": "2021-10-11T14:01:06.888Z"
   },
   {
    "duration": 667,
    "start_time": "2021-10-11T14:01:07.566Z"
   },
   {
    "duration": 7,
    "start_time": "2021-10-11T14:01:08.235Z"
   },
   {
    "duration": 11,
    "start_time": "2021-10-11T14:01:08.245Z"
   },
   {
    "duration": 976,
    "start_time": "2021-10-11T14:01:08.258Z"
   },
   {
    "duration": 662,
    "start_time": "2021-10-11T14:01:09.237Z"
   },
   {
    "duration": 702,
    "start_time": "2021-10-11T14:01:09.901Z"
   },
   {
    "duration": 692,
    "start_time": "2021-10-11T14:01:10.606Z"
   },
   {
    "duration": 1261,
    "start_time": "2021-10-11T14:01:11.301Z"
   },
   {
    "duration": 940,
    "start_time": "2021-10-11T14:03:49.487Z"
   },
   {
    "duration": 951,
    "start_time": "2021-10-11T14:04:21.503Z"
   },
   {
    "duration": 432,
    "start_time": "2021-10-12T04:53:21.811Z"
   },
   {
    "duration": 2125,
    "start_time": "2021-10-12T04:53:26.501Z"
   },
   {
    "duration": 163,
    "start_time": "2021-10-12T04:53:28.630Z"
   },
   {
    "duration": 37,
    "start_time": "2021-10-12T04:53:28.797Z"
   },
   {
    "duration": 21,
    "start_time": "2021-10-12T04:53:28.837Z"
   },
   {
    "duration": 13,
    "start_time": "2021-10-12T04:53:28.861Z"
   },
   {
    "duration": 21,
    "start_time": "2021-10-12T04:53:28.876Z"
   },
   {
    "duration": 112,
    "start_time": "2021-10-12T04:53:28.899Z"
   },
   {
    "duration": 115,
    "start_time": "2021-10-12T04:53:29.013Z"
   },
   {
    "duration": 15,
    "start_time": "2021-10-12T04:53:29.132Z"
   },
   {
    "duration": 14,
    "start_time": "2021-10-12T04:53:29.149Z"
   },
   {
    "duration": 18,
    "start_time": "2021-10-12T04:53:29.165Z"
   },
   {
    "duration": 37,
    "start_time": "2021-10-12T04:53:29.186Z"
   },
   {
    "duration": 731,
    "start_time": "2021-10-12T04:53:29.257Z"
   },
   {
    "duration": 8,
    "start_time": "2021-10-12T04:53:29.990Z"
   },
   {
    "duration": 25,
    "start_time": "2021-10-12T04:53:30.000Z"
   },
   {
    "duration": 78,
    "start_time": "2021-10-12T04:53:30.027Z"
   },
   {
    "duration": 19,
    "start_time": "2021-10-12T04:53:30.107Z"
   },
   {
    "duration": 48,
    "start_time": "2021-10-12T04:53:30.128Z"
   },
   {
    "duration": 9,
    "start_time": "2021-10-12T04:53:30.179Z"
   },
   {
    "duration": 74,
    "start_time": "2021-10-12T04:53:30.190Z"
   },
   {
    "duration": 95,
    "start_time": "2021-10-12T04:53:30.266Z"
   },
   {
    "duration": 1005,
    "start_time": "2021-10-12T04:53:30.364Z"
   },
   {
    "duration": 21,
    "start_time": "2021-10-12T04:53:31.372Z"
   },
   {
    "duration": 184,
    "start_time": "2021-10-12T04:53:31.395Z"
   },
   {
    "duration": 228,
    "start_time": "2021-10-12T04:53:31.581Z"
   },
   {
    "duration": 13,
    "start_time": "2021-10-12T04:53:31.812Z"
   },
   {
    "duration": 191,
    "start_time": "2021-10-12T04:53:31.830Z"
   },
   {
    "duration": 51,
    "start_time": "2021-10-12T04:53:32.024Z"
   },
   {
    "duration": 10,
    "start_time": "2021-10-12T04:53:32.077Z"
   },
   {
    "duration": 236,
    "start_time": "2021-10-12T04:53:32.089Z"
   },
   {
    "duration": 354,
    "start_time": "2021-10-12T04:53:32.328Z"
   },
   {
    "duration": 790,
    "start_time": "2021-10-12T04:53:32.684Z"
   },
   {
    "duration": 749,
    "start_time": "2021-10-12T04:53:33.477Z"
   },
   {
    "duration": 721,
    "start_time": "2021-10-12T04:53:34.229Z"
   },
   {
    "duration": 7,
    "start_time": "2021-10-12T04:53:34.958Z"
   },
   {
    "duration": 8,
    "start_time": "2021-10-12T04:53:34.968Z"
   },
   {
    "duration": 1003,
    "start_time": "2021-10-12T04:53:34.979Z"
   },
   {
    "duration": 698,
    "start_time": "2021-10-12T04:53:35.985Z"
   },
   {
    "duration": 695,
    "start_time": "2021-10-12T04:53:36.686Z"
   },
   {
    "duration": 725,
    "start_time": "2021-10-12T04:53:37.384Z"
   },
   {
    "duration": 1192,
    "start_time": "2021-10-12T04:53:38.111Z"
   },
   {
    "duration": 36,
    "start_time": "2021-10-12T05:02:01.845Z"
   },
   {
    "duration": 23,
    "start_time": "2021-10-12T05:02:07.782Z"
   },
   {
    "duration": 2377,
    "start_time": "2021-10-12T05:35:16.361Z"
   },
   {
    "duration": 7599,
    "start_time": "2021-10-12T05:35:52.625Z"
   },
   {
    "duration": 8007,
    "start_time": "2021-10-12T06:59:43.651Z"
   },
   {
    "duration": 7323,
    "start_time": "2021-10-12T07:00:11.067Z"
   },
   {
    "duration": 7329,
    "start_time": "2021-10-12T09:58:06.910Z"
   },
   {
    "duration": 7305,
    "start_time": "2021-10-12T09:58:36.817Z"
   },
   {
    "duration": 32,
    "start_time": "2021-10-12T10:03:33.536Z"
   },
   {
    "duration": 25,
    "start_time": "2021-10-12T10:04:23.506Z"
   },
   {
    "duration": 34,
    "start_time": "2021-10-12T10:04:29.868Z"
   },
   {
    "duration": 23,
    "start_time": "2021-10-12T10:04:30.981Z"
   },
   {
    "duration": 7,
    "start_time": "2021-10-12T10:04:41.139Z"
   },
   {
    "duration": 30,
    "start_time": "2021-10-12T10:05:12.096Z"
   },
   {
    "duration": 30,
    "start_time": "2021-10-12T10:05:19.498Z"
   },
   {
    "duration": 39,
    "start_time": "2021-10-12T10:05:25.458Z"
   },
   {
    "duration": 26,
    "start_time": "2021-10-12T10:05:41.852Z"
   },
   {
    "duration": 23,
    "start_time": "2021-10-12T10:06:29.222Z"
   },
   {
    "duration": 24,
    "start_time": "2021-10-12T10:06:58.238Z"
   },
   {
    "duration": 1417,
    "start_time": "2021-10-13T04:34:05.303Z"
   },
   {
    "duration": 130,
    "start_time": "2021-10-13T04:34:06.723Z"
   },
   {
    "duration": 31,
    "start_time": "2021-10-13T04:34:06.855Z"
   },
   {
    "duration": 3,
    "start_time": "2021-10-13T04:34:06.888Z"
   },
   {
    "duration": 17,
    "start_time": "2021-10-13T04:34:06.893Z"
   },
   {
    "duration": 16,
    "start_time": "2021-10-13T04:34:06.912Z"
   },
   {
    "duration": 61,
    "start_time": "2021-10-13T04:34:06.950Z"
   },
   {
    "duration": 97,
    "start_time": "2021-10-13T04:34:07.013Z"
   },
   {
    "duration": 12,
    "start_time": "2021-10-13T04:34:07.112Z"
   },
   {
    "duration": 14,
    "start_time": "2021-10-13T04:34:07.125Z"
   },
   {
    "duration": 24,
    "start_time": "2021-10-13T04:34:07.140Z"
   },
   {
    "duration": 34,
    "start_time": "2021-10-13T04:34:07.165Z"
   },
   {
    "duration": 429,
    "start_time": "2021-10-13T04:34:07.201Z"
   },
   {
    "duration": 6,
    "start_time": "2021-10-13T04:34:07.632Z"
   },
   {
    "duration": 15,
    "start_time": "2021-10-13T04:34:07.649Z"
   },
   {
    "duration": 45,
    "start_time": "2021-10-13T04:34:07.665Z"
   },
   {
    "duration": 14,
    "start_time": "2021-10-13T04:34:07.711Z"
   },
   {
    "duration": 8,
    "start_time": "2021-10-13T04:34:07.749Z"
   },
   {
    "duration": 10,
    "start_time": "2021-10-13T04:34:07.758Z"
   },
   {
    "duration": 60,
    "start_time": "2021-10-13T04:34:07.769Z"
   },
   {
    "duration": 64,
    "start_time": "2021-10-13T04:34:07.830Z"
   },
   {
    "duration": 656,
    "start_time": "2021-10-13T04:34:07.896Z"
   },
   {
    "duration": 15,
    "start_time": "2021-10-13T04:34:08.555Z"
   },
   {
    "duration": 107,
    "start_time": "2021-10-13T04:34:08.572Z"
   },
   {
    "duration": 194,
    "start_time": "2021-10-13T04:34:08.681Z"
   },
   {
    "duration": 10,
    "start_time": "2021-10-13T04:34:08.876Z"
   },
   {
    "duration": 130,
    "start_time": "2021-10-13T04:34:08.887Z"
   },
   {
    "duration": 37,
    "start_time": "2021-10-13T04:34:09.019Z"
   },
   {
    "duration": 18,
    "start_time": "2021-10-13T04:34:09.058Z"
   },
   {
    "duration": 37,
    "start_time": "2021-10-13T04:34:09.078Z"
   },
   {
    "duration": 7,
    "start_time": "2021-10-13T04:34:09.116Z"
   },
   {
    "duration": 185,
    "start_time": "2021-10-13T04:34:09.125Z"
   },
   {
    "duration": 232,
    "start_time": "2021-10-13T04:34:09.312Z"
   },
   {
    "duration": 476,
    "start_time": "2021-10-13T04:34:09.545Z"
   },
   {
    "duration": 500,
    "start_time": "2021-10-13T04:34:10.023Z"
   },
   {
    "duration": 493,
    "start_time": "2021-10-13T04:34:10.525Z"
   },
   {
    "duration": 10,
    "start_time": "2021-10-13T04:34:11.019Z"
   },
   {
    "duration": 22,
    "start_time": "2021-10-13T04:34:11.031Z"
   },
   {
    "duration": 699,
    "start_time": "2021-10-13T04:34:11.055Z"
   },
   {
    "duration": 466,
    "start_time": "2021-10-13T04:34:11.756Z"
   },
   {
    "duration": 499,
    "start_time": "2021-10-13T04:34:12.224Z"
   },
   {
    "duration": 524,
    "start_time": "2021-10-13T04:34:12.725Z"
   },
   {
    "duration": 701,
    "start_time": "2021-10-13T04:34:13.251Z"
   },
   {
    "duration": 1455,
    "start_time": "2021-10-13T10:43:34.804Z"
   },
   {
    "duration": 129,
    "start_time": "2021-10-13T10:43:36.262Z"
   },
   {
    "duration": 31,
    "start_time": "2021-10-13T10:43:36.393Z"
   },
   {
    "duration": 3,
    "start_time": "2021-10-13T10:43:36.426Z"
   },
   {
    "duration": 25,
    "start_time": "2021-10-13T10:43:36.431Z"
   },
   {
    "duration": 15,
    "start_time": "2021-10-13T10:43:36.458Z"
   },
   {
    "duration": 166,
    "start_time": "2021-10-13T10:43:36.476Z"
   },
   {
    "duration": 12,
    "start_time": "2021-10-13T10:43:36.648Z"
   },
   {
    "duration": 10,
    "start_time": "2021-10-13T10:43:36.662Z"
   },
   {
    "duration": 15,
    "start_time": "2021-10-13T10:43:36.674Z"
   },
   {
    "duration": 28,
    "start_time": "2021-10-13T10:43:36.690Z"
   },
   {
    "duration": 472,
    "start_time": "2021-10-13T10:43:36.720Z"
   },
   {
    "duration": 8,
    "start_time": "2021-10-13T10:43:37.195Z"
   },
   {
    "duration": 23,
    "start_time": "2021-10-13T10:43:37.205Z"
   },
   {
    "duration": 62,
    "start_time": "2021-10-13T10:43:37.230Z"
   },
   {
    "duration": 17,
    "start_time": "2021-10-13T10:43:37.295Z"
   },
   {
    "duration": 37,
    "start_time": "2021-10-13T10:43:37.314Z"
   },
   {
    "duration": 13,
    "start_time": "2021-10-13T10:43:37.353Z"
   },
   {
    "duration": 56,
    "start_time": "2021-10-13T10:43:37.369Z"
   },
   {
    "duration": 70,
    "start_time": "2021-10-13T10:43:37.427Z"
   },
   {
    "duration": 668,
    "start_time": "2021-10-13T10:43:37.499Z"
   },
   {
    "duration": 19,
    "start_time": "2021-10-13T10:43:38.170Z"
   },
   {
    "duration": 174,
    "start_time": "2021-10-13T10:43:38.194Z"
   },
   {
    "duration": 188,
    "start_time": "2021-10-13T10:43:38.371Z"
   },
   {
    "duration": 9,
    "start_time": "2021-10-13T10:43:38.561Z"
   },
   {
    "duration": 132,
    "start_time": "2021-10-13T10:43:38.572Z"
   },
   {
    "duration": 43,
    "start_time": "2021-10-13T10:43:38.706Z"
   },
   {
    "duration": 19,
    "start_time": "2021-10-13T10:43:38.752Z"
   },
   {
    "duration": 37,
    "start_time": "2021-10-13T10:43:38.773Z"
   },
   {
    "duration": 6,
    "start_time": "2021-10-13T10:43:38.812Z"
   },
   {
    "duration": 183,
    "start_time": "2021-10-13T10:43:38.819Z"
   },
   {
    "duration": 240,
    "start_time": "2021-10-13T10:43:39.004Z"
   },
   {
    "duration": 473,
    "start_time": "2021-10-13T10:43:39.245Z"
   },
   {
    "duration": 508,
    "start_time": "2021-10-13T10:43:39.720Z"
   },
   {
    "duration": 489,
    "start_time": "2021-10-13T10:43:40.230Z"
   },
   {
    "duration": 10,
    "start_time": "2021-10-13T10:43:40.721Z"
   },
   {
    "duration": 22,
    "start_time": "2021-10-13T10:43:40.733Z"
   },
   {
    "duration": 704,
    "start_time": "2021-10-13T10:43:40.757Z"
   },
   {
    "duration": 482,
    "start_time": "2021-10-13T10:43:41.463Z"
   },
   {
    "duration": 515,
    "start_time": "2021-10-13T10:43:41.950Z"
   },
   {
    "duration": 748,
    "start_time": "2021-10-13T10:43:42.467Z"
   },
   {
    "duration": 702,
    "start_time": "2021-10-13T10:43:43.217Z"
   },
   {
    "duration": 360,
    "start_time": "2021-10-13T10:45:42.555Z"
   },
   {
    "duration": 1421,
    "start_time": "2021-10-13T10:46:12.305Z"
   },
   {
    "duration": 132,
    "start_time": "2021-10-13T10:46:14.699Z"
   },
   {
    "duration": 30,
    "start_time": "2021-10-13T10:46:16.107Z"
   },
   {
    "duration": 24,
    "start_time": "2021-10-13T10:46:19.634Z"
   },
   {
    "duration": 8,
    "start_time": "2021-10-13T10:48:15.805Z"
   },
   {
    "duration": 10,
    "start_time": "2021-10-13T10:51:07.229Z"
   },
   {
    "duration": 16,
    "start_time": "2021-10-13T10:51:40.556Z"
   },
   {
    "duration": 322,
    "start_time": "2021-10-13T10:52:18.321Z"
   },
   {
    "duration": 5030,
    "start_time": "2021-10-13T10:52:32.224Z"
   },
   {
    "duration": 3,
    "start_time": "2021-10-13T10:52:44.243Z"
   },
   {
    "duration": 14,
    "start_time": "2021-10-13T10:53:07.797Z"
   },
   {
    "duration": 16,
    "start_time": "2021-10-13T10:53:27.948Z"
   },
   {
    "duration": 124,
    "start_time": "2021-10-13T10:53:36.116Z"
   },
   {
    "duration": 17,
    "start_time": "2021-10-13T10:53:39.860Z"
   },
   {
    "duration": 16,
    "start_time": "2021-10-13T10:54:10.184Z"
   },
   {
    "duration": 16,
    "start_time": "2021-10-13T10:54:13.568Z"
   },
   {
    "duration": 15,
    "start_time": "2021-10-13T10:54:33.316Z"
   },
   {
    "duration": 23,
    "start_time": "2021-10-13T10:54:36.118Z"
   },
   {
    "duration": 12,
    "start_time": "2021-10-13T12:29:57.146Z"
   },
   {
    "duration": 10,
    "start_time": "2021-10-13T12:30:44.069Z"
   },
   {
    "duration": 6,
    "start_time": "2021-10-13T12:30:56.708Z"
   },
   {
    "duration": 16,
    "start_time": "2021-10-13T12:33:40.781Z"
   },
   {
    "duration": 13,
    "start_time": "2021-10-13T12:33:55.054Z"
   },
   {
    "duration": 13,
    "start_time": "2021-10-13T12:34:00.532Z"
   },
   {
    "duration": 17,
    "start_time": "2021-10-13T12:34:24.597Z"
   },
   {
    "duration": 13,
    "start_time": "2021-10-13T12:34:32.876Z"
   },
   {
    "duration": 14,
    "start_time": "2021-10-13T12:34:42.388Z"
   },
   {
    "duration": 221,
    "start_time": "2021-10-13T12:34:48.643Z"
   },
   {
    "duration": 15,
    "start_time": "2021-10-13T12:34:56.479Z"
   },
   {
    "duration": 15,
    "start_time": "2021-10-13T12:35:03.013Z"
   },
   {
    "duration": 5,
    "start_time": "2021-10-13T12:35:50.272Z"
   },
   {
    "duration": 5,
    "start_time": "2021-10-13T12:36:42.142Z"
   },
   {
    "duration": 6,
    "start_time": "2021-10-13T12:37:08.568Z"
   },
   {
    "duration": 6,
    "start_time": "2021-10-13T12:37:18.206Z"
   },
   {
    "duration": 7,
    "start_time": "2021-10-13T12:38:23.177Z"
   },
   {
    "duration": 6,
    "start_time": "2021-10-13T12:45:05.716Z"
   },
   {
    "duration": 13,
    "start_time": "2021-10-13T12:45:06.505Z"
   },
   {
    "duration": 7,
    "start_time": "2021-10-13T12:45:07.600Z"
   },
   {
    "duration": 435,
    "start_time": "2021-10-13T12:45:08.557Z"
   },
   {
    "duration": 728,
    "start_time": "2021-10-13T12:46:07.438Z"
   },
   {
    "duration": 221,
    "start_time": "2021-10-13T12:49:14.855Z"
   },
   {
    "duration": 9,
    "start_time": "2021-10-13T12:49:48.078Z"
   },
   {
    "duration": 7722,
    "start_time": "2021-10-13T12:49:54.769Z"
   },
   {
    "duration": 7368,
    "start_time": "2021-10-13T12:50:10.144Z"
   },
   {
    "duration": 4,
    "start_time": "2021-10-13T12:50:26.986Z"
   },
   {
    "duration": 674,
    "start_time": "2021-10-13T12:52:06.895Z"
   },
   {
    "duration": 462,
    "start_time": "2021-10-13T12:52:15.074Z"
   },
   {
    "duration": 672,
    "start_time": "2021-10-13T12:54:43.575Z"
   },
   {
    "duration": 540,
    "start_time": "2021-10-13T12:54:55.798Z"
   },
   {
    "duration": 81,
    "start_time": "2021-10-13T12:55:47.525Z"
   },
   {
    "duration": 452,
    "start_time": "2021-10-13T12:55:51.639Z"
   },
   {
    "duration": 787,
    "start_time": "2021-10-13T12:58:12.872Z"
   },
   {
    "duration": 8,
    "start_time": "2021-10-13T13:00:19.837Z"
   },
   {
    "duration": 7,
    "start_time": "2021-10-13T13:00:27.897Z"
   },
   {
    "duration": 449,
    "start_time": "2021-10-13T13:04:06.233Z"
   },
   {
    "duration": 21,
    "start_time": "2021-10-13T13:05:13.376Z"
   },
   {
    "duration": 46,
    "start_time": "2021-10-13T13:05:15.118Z"
   },
   {
    "duration": 265,
    "start_time": "2021-10-13T13:08:38.335Z"
   },
   {
    "duration": 43,
    "start_time": "2021-10-13T13:08:46.805Z"
   },
   {
    "duration": 44,
    "start_time": "2021-10-13T13:09:00.352Z"
   },
   {
    "duration": 41,
    "start_time": "2021-10-13T13:09:05.513Z"
   },
   {
    "duration": 220,
    "start_time": "2021-10-13T13:09:16.823Z"
   },
   {
    "duration": 215,
    "start_time": "2021-10-13T13:09:22.610Z"
   },
   {
    "duration": 240,
    "start_time": "2021-10-13T13:09:28.944Z"
   },
   {
    "duration": 69,
    "start_time": "2021-10-13T13:09:44.074Z"
   },
   {
    "duration": 221,
    "start_time": "2021-10-13T13:09:54.610Z"
   },
   {
    "duration": 66,
    "start_time": "2021-10-13T13:10:05.953Z"
   },
   {
    "duration": 43,
    "start_time": "2021-10-13T13:10:18.041Z"
   },
   {
    "duration": 46,
    "start_time": "2021-10-13T13:10:30.480Z"
   },
   {
    "duration": 44,
    "start_time": "2021-10-13T13:11:14.736Z"
   },
   {
    "duration": 43,
    "start_time": "2021-10-13T13:11:42.240Z"
   },
   {
    "duration": 46,
    "start_time": "2021-10-13T13:11:59.073Z"
   },
   {
    "duration": 176,
    "start_time": "2021-10-13T13:50:45.590Z"
   },
   {
    "duration": 8,
    "start_time": "2021-10-13T13:51:05.078Z"
   },
   {
    "duration": 222,
    "start_time": "2021-10-13T13:55:15.819Z"
   },
   {
    "duration": 25,
    "start_time": "2021-10-13T13:55:39.173Z"
   },
   {
    "duration": 43,
    "start_time": "2021-10-13T13:55:55.853Z"
   },
   {
    "duration": 247,
    "start_time": "2021-10-13T13:56:49.490Z"
   },
   {
    "duration": 206,
    "start_time": "2021-10-13T13:57:29.314Z"
   },
   {
    "duration": 248,
    "start_time": "2021-10-13T13:57:56.630Z"
   },
   {
    "duration": 18,
    "start_time": "2021-10-13T13:58:39.024Z"
   },
   {
    "duration": 215,
    "start_time": "2021-10-13T14:00:03.035Z"
   },
   {
    "duration": 48,
    "start_time": "2021-10-13T14:02:27.685Z"
   },
   {
    "duration": 284,
    "start_time": "2021-10-13T14:02:41.969Z"
   },
   {
    "duration": 209,
    "start_time": "2021-10-13T14:02:57.230Z"
   },
   {
    "duration": 13,
    "start_time": "2021-10-13T14:03:09.742Z"
   },
   {
    "duration": 70,
    "start_time": "2021-10-13T14:07:13.405Z"
   },
   {
    "duration": 10,
    "start_time": "2021-10-13T14:07:20.382Z"
   },
   {
    "duration": 10,
    "start_time": "2021-10-13T14:07:42.531Z"
   },
   {
    "duration": 10,
    "start_time": "2021-10-13T14:10:57.770Z"
   },
   {
    "duration": 214,
    "start_time": "2021-10-13T14:11:13.169Z"
   },
   {
    "duration": 10,
    "start_time": "2021-10-13T14:11:25.180Z"
   },
   {
    "duration": 385,
    "start_time": "2021-10-14T06:37:39.500Z"
   },
   {
    "duration": 2040,
    "start_time": "2021-10-14T06:37:45.456Z"
   },
   {
    "duration": 163,
    "start_time": "2021-10-14T06:37:47.499Z"
   },
   {
    "duration": 39,
    "start_time": "2021-10-14T06:37:47.665Z"
   },
   {
    "duration": 30,
    "start_time": "2021-10-14T06:37:47.707Z"
   },
   {
    "duration": 11,
    "start_time": "2021-10-14T06:37:47.763Z"
   },
   {
    "duration": 4,
    "start_time": "2021-10-14T06:37:47.776Z"
   },
   {
    "duration": 14,
    "start_time": "2021-10-14T06:37:47.782Z"
   },
   {
    "duration": 21,
    "start_time": "2021-10-14T06:37:47.800Z"
   },
   {
    "duration": 232,
    "start_time": "2021-10-14T06:37:47.824Z"
   },
   {
    "duration": 21,
    "start_time": "2021-10-14T06:37:48.059Z"
   },
   {
    "duration": 16,
    "start_time": "2021-10-14T06:37:48.083Z"
   },
   {
    "duration": 21,
    "start_time": "2021-10-14T06:37:48.102Z"
   },
   {
    "duration": 43,
    "start_time": "2021-10-14T06:37:48.126Z"
   },
   {
    "duration": 8,
    "start_time": "2021-10-14T06:37:48.171Z"
   },
   {
    "duration": 1105,
    "start_time": "2021-10-14T06:37:48.182Z"
   },
   {
    "duration": 7,
    "start_time": "2021-10-14T06:37:49.290Z"
   },
   {
    "duration": 68,
    "start_time": "2021-10-14T06:37:49.299Z"
   },
   {
    "duration": 111,
    "start_time": "2021-10-14T06:37:49.370Z"
   },
   {
    "duration": 17,
    "start_time": "2021-10-14T06:37:49.483Z"
   },
   {
    "duration": 13,
    "start_time": "2021-10-14T06:37:49.502Z"
   },
   {
    "duration": 11,
    "start_time": "2021-10-14T06:37:49.517Z"
   },
   {
    "duration": 35,
    "start_time": "2021-10-14T06:37:49.531Z"
   },
   {
    "duration": 93,
    "start_time": "2021-10-14T06:37:49.572Z"
   },
   {
    "duration": 79,
    "start_time": "2021-10-14T06:37:49.668Z"
   },
   {
    "duration": 901,
    "start_time": "2021-10-14T06:37:49.762Z"
   },
   {
    "duration": 19,
    "start_time": "2021-10-14T06:37:50.665Z"
   },
   {
    "duration": 187,
    "start_time": "2021-10-14T06:37:50.687Z"
   },
   {
    "duration": 247,
    "start_time": "2021-10-14T06:37:50.877Z"
   },
   {
    "duration": 13,
    "start_time": "2021-10-14T06:37:51.126Z"
   },
   {
    "duration": 207,
    "start_time": "2021-10-14T06:37:51.142Z"
   },
   {
    "duration": 50,
    "start_time": "2021-10-14T06:37:51.351Z"
   },
   {
    "duration": 28,
    "start_time": "2021-10-14T06:37:51.404Z"
   },
   {
    "duration": 71,
    "start_time": "2021-10-14T06:37:51.434Z"
   },
   {
    "duration": 10,
    "start_time": "2021-10-14T06:37:51.508Z"
   },
   {
    "duration": 274,
    "start_time": "2021-10-14T06:37:51.521Z"
   },
   {
    "duration": 357,
    "start_time": "2021-10-14T06:37:51.798Z"
   },
   {
    "duration": 665,
    "start_time": "2021-10-14T06:37:52.157Z"
   },
   {
    "duration": 709,
    "start_time": "2021-10-14T06:37:52.824Z"
   },
   {
    "duration": 713,
    "start_time": "2021-10-14T06:37:53.536Z"
   },
   {
    "duration": 22,
    "start_time": "2021-10-14T06:37:54.252Z"
   },
   {
    "duration": 11,
    "start_time": "2021-10-14T06:37:54.276Z"
   },
   {
    "duration": 1056,
    "start_time": "2021-10-14T06:37:54.289Z"
   },
   {
    "duration": 715,
    "start_time": "2021-10-14T06:37:55.347Z"
   },
   {
    "duration": 710,
    "start_time": "2021-10-14T06:37:56.065Z"
   },
   {
    "duration": 695,
    "start_time": "2021-10-14T06:37:56.778Z"
   },
   {
    "duration": 989,
    "start_time": "2021-10-14T06:37:57.476Z"
   },
   {
    "duration": 11,
    "start_time": "2021-10-14T06:37:58.469Z"
   },
   {
    "duration": 485,
    "start_time": "2021-10-14T06:38:19.180Z"
   },
   {
    "duration": 539,
    "start_time": "2021-10-14T06:39:45.580Z"
   },
   {
    "duration": 14,
    "start_time": "2021-10-14T11:42:40.026Z"
   },
   {
    "duration": 12,
    "start_time": "2021-10-14T11:42:51.487Z"
   },
   {
    "duration": 342,
    "start_time": "2021-10-14T11:43:04.779Z"
   },
   {
    "duration": 11,
    "start_time": "2021-10-14T11:43:14.435Z"
   },
   {
    "duration": 13,
    "start_time": "2021-10-14T11:43:19.035Z"
   },
   {
    "duration": 13,
    "start_time": "2021-10-14T11:43:25.310Z"
   },
   {
    "duration": 18,
    "start_time": "2021-10-14T11:44:05.296Z"
   },
   {
    "duration": 18,
    "start_time": "2021-10-14T11:44:15.110Z"
   },
   {
    "duration": 250,
    "start_time": "2021-10-14T11:44:59.212Z"
   },
   {
    "duration": 8,
    "start_time": "2021-10-14T11:45:05.278Z"
   },
   {
    "duration": 9,
    "start_time": "2021-10-14T11:45:13.858Z"
   },
   {
    "duration": 20,
    "start_time": "2021-10-14T11:46:19.775Z"
   },
   {
    "duration": 18,
    "start_time": "2021-10-14T11:46:37.455Z"
   },
   {
    "duration": 11,
    "start_time": "2021-10-14T11:47:51.996Z"
   },
   {
    "duration": 13,
    "start_time": "2021-10-14T11:48:13.950Z"
   },
   {
    "duration": 39,
    "start_time": "2021-10-14T11:48:51.488Z"
   },
   {
    "duration": 41,
    "start_time": "2021-10-14T11:50:20.747Z"
   },
   {
    "duration": 7,
    "start_time": "2021-10-14T12:09:30.905Z"
   },
   {
    "duration": 18,
    "start_time": "2021-10-14T12:12:49.956Z"
   },
   {
    "duration": 18,
    "start_time": "2021-10-14T12:12:58.537Z"
   },
   {
    "duration": 10,
    "start_time": "2021-10-14T12:15:15.791Z"
   },
   {
    "duration": 15,
    "start_time": "2021-10-14T12:15:26.500Z"
   },
   {
    "duration": 59,
    "start_time": "2021-10-14T12:17:12.202Z"
   },
   {
    "duration": 20,
    "start_time": "2021-10-14T12:17:57.161Z"
   },
   {
    "duration": 58,
    "start_time": "2021-10-14T12:18:08.808Z"
   },
   {
    "duration": 17,
    "start_time": "2021-10-14T12:18:13.561Z"
   },
   {
    "duration": 343,
    "start_time": "2021-10-14T12:19:54.026Z"
   },
   {
    "duration": 57,
    "start_time": "2021-10-14T12:20:56.087Z"
   },
   {
    "duration": 55,
    "start_time": "2021-10-14T12:21:04.162Z"
   },
   {
    "duration": 370,
    "start_time": "2021-10-14T12:21:10.962Z"
   },
   {
    "duration": 60,
    "start_time": "2021-10-14T12:21:34.322Z"
   },
   {
    "duration": 56,
    "start_time": "2021-10-14T12:21:40.994Z"
   },
   {
    "duration": 55,
    "start_time": "2021-10-14T12:21:51.673Z"
   },
   {
    "duration": 57,
    "start_time": "2021-10-14T12:22:06.928Z"
   },
   {
    "duration": 16,
    "start_time": "2021-10-14T12:23:42.187Z"
   },
   {
    "duration": 16,
    "start_time": "2021-10-14T12:24:32.562Z"
   },
   {
    "duration": 32,
    "start_time": "2021-10-14T12:42:59.611Z"
   },
   {
    "duration": 30,
    "start_time": "2021-10-14T12:51:11.388Z"
   },
   {
    "duration": 342,
    "start_time": "2021-10-14T12:51:36.406Z"
   },
   {
    "duration": 295,
    "start_time": "2021-10-14T12:51:50.344Z"
   },
   {
    "duration": 364,
    "start_time": "2021-10-14T12:53:00.887Z"
   },
   {
    "duration": 363,
    "start_time": "2021-10-14T12:53:46.812Z"
   },
   {
    "duration": 1027,
    "start_time": "2021-10-14T12:54:18.289Z"
   },
   {
    "duration": 295,
    "start_time": "2021-10-14T12:54:32.901Z"
   },
   {
    "duration": 295,
    "start_time": "2021-10-14T12:54:37.703Z"
   },
   {
    "duration": 305,
    "start_time": "2021-10-14T12:55:17.335Z"
   },
   {
    "duration": 507,
    "start_time": "2021-10-14T12:55:32.448Z"
   },
   {
    "duration": 308,
    "start_time": "2021-10-14T12:56:27.542Z"
   },
   {
    "duration": 511,
    "start_time": "2021-10-14T12:56:44.867Z"
   },
   {
    "duration": 323,
    "start_time": "2021-10-14T12:57:01.857Z"
   },
   {
    "duration": 302,
    "start_time": "2021-10-14T12:57:11.182Z"
   },
   {
    "duration": 324,
    "start_time": "2021-10-14T12:57:24.628Z"
   },
   {
    "duration": 290,
    "start_time": "2021-10-14T12:57:35.677Z"
   },
   {
    "duration": 320,
    "start_time": "2021-10-14T12:57:57.062Z"
   },
   {
    "duration": 313,
    "start_time": "2021-10-14T12:58:01.462Z"
   },
   {
    "duration": 299,
    "start_time": "2021-10-14T12:58:30.231Z"
   },
   {
    "duration": 35,
    "start_time": "2021-10-14T12:59:47.405Z"
   },
   {
    "duration": 75,
    "start_time": "2021-10-14T13:46:22.326Z"
   },
   {
    "duration": 173,
    "start_time": "2021-10-14T13:46:28.478Z"
   },
   {
    "duration": 1882,
    "start_time": "2021-10-15T04:28:12.031Z"
   },
   {
    "duration": 167,
    "start_time": "2021-10-15T04:28:13.916Z"
   },
   {
    "duration": 45,
    "start_time": "2021-10-15T04:28:14.086Z"
   },
   {
    "duration": 28,
    "start_time": "2021-10-15T04:28:14.134Z"
   },
   {
    "duration": 21,
    "start_time": "2021-10-15T04:28:14.164Z"
   },
   {
    "duration": 5,
    "start_time": "2021-10-15T04:28:14.187Z"
   },
   {
    "duration": 35,
    "start_time": "2021-10-15T04:28:14.195Z"
   },
   {
    "duration": 21,
    "start_time": "2021-10-15T04:28:14.234Z"
   },
   {
    "duration": 224,
    "start_time": "2021-10-15T04:28:14.258Z"
   },
   {
    "duration": 20,
    "start_time": "2021-10-15T04:28:14.485Z"
   },
   {
    "duration": 28,
    "start_time": "2021-10-15T04:28:14.507Z"
   },
   {
    "duration": 14,
    "start_time": "2021-10-15T04:28:14.538Z"
   },
   {
    "duration": 27,
    "start_time": "2021-10-15T04:28:14.554Z"
   },
   {
    "duration": 12,
    "start_time": "2021-10-15T04:28:14.583Z"
   },
   {
    "duration": 771,
    "start_time": "2021-10-15T04:28:14.598Z"
   },
   {
    "duration": 8,
    "start_time": "2021-10-15T04:28:15.371Z"
   },
   {
    "duration": 25,
    "start_time": "2021-10-15T04:28:15.381Z"
   },
   {
    "duration": 54,
    "start_time": "2021-10-15T04:28:15.423Z"
   },
   {
    "duration": 16,
    "start_time": "2021-10-15T04:28:15.480Z"
   },
   {
    "duration": 59,
    "start_time": "2021-10-15T04:28:15.498Z"
   },
   {
    "duration": 33,
    "start_time": "2021-10-15T04:28:15.560Z"
   },
   {
    "duration": 309,
    "start_time": "2021-10-15T04:28:15.595Z"
   },
   {
    "duration": 15,
    "start_time": "2021-10-15T04:28:15.909Z"
   },
   {
    "duration": 103,
    "start_time": "2021-10-15T04:28:15.926Z"
   },
   {
    "duration": 832,
    "start_time": "2021-10-15T04:28:16.032Z"
   },
   {
    "duration": 58,
    "start_time": "2021-10-15T04:28:16.866Z"
   },
   {
    "duration": 134,
    "start_time": "2021-10-15T04:28:16.926Z"
   },
   {
    "duration": 260,
    "start_time": "2021-10-15T04:28:17.062Z"
   },
   {
    "duration": 13,
    "start_time": "2021-10-15T04:28:17.324Z"
   },
   {
    "duration": 188,
    "start_time": "2021-10-15T04:28:17.339Z"
   },
   {
    "duration": 34,
    "start_time": "2021-10-15T04:28:17.529Z"
   },
   {
    "duration": 23,
    "start_time": "2021-10-15T04:28:17.565Z"
   },
   {
    "duration": 72,
    "start_time": "2021-10-15T04:28:17.590Z"
   },
   {
    "duration": 10,
    "start_time": "2021-10-15T04:28:17.664Z"
   },
   {
    "duration": 246,
    "start_time": "2021-10-15T04:28:17.676Z"
   },
   {
    "duration": 316,
    "start_time": "2021-10-15T04:28:17.924Z"
   },
   {
    "duration": 658,
    "start_time": "2021-10-15T04:28:18.242Z"
   },
   {
    "duration": 679,
    "start_time": "2021-10-15T04:28:18.902Z"
   },
   {
    "duration": 674,
    "start_time": "2021-10-15T04:28:19.584Z"
   },
   {
    "duration": 12,
    "start_time": "2021-10-15T04:28:20.261Z"
   },
   {
    "duration": 45,
    "start_time": "2021-10-15T04:28:20.276Z"
   },
   {
    "duration": 952,
    "start_time": "2021-10-15T04:28:20.324Z"
   },
   {
    "duration": 665,
    "start_time": "2021-10-15T04:28:21.279Z"
   },
   {
    "duration": 694,
    "start_time": "2021-10-15T04:28:21.946Z"
   },
   {
    "duration": 680,
    "start_time": "2021-10-15T04:28:22.642Z"
   },
   {
    "duration": 956,
    "start_time": "2021-10-15T04:28:23.325Z"
   },
   {
    "duration": 19,
    "start_time": "2021-10-15T08:44:56.313Z"
   },
   {
    "duration": 185,
    "start_time": "2021-10-15T08:52:55.908Z"
   },
   {
    "duration": 489,
    "start_time": "2021-10-15T09:04:24.459Z"
   },
   {
    "duration": 16,
    "start_time": "2021-10-15T09:04:29.234Z"
   },
   {
    "duration": 20,
    "start_time": "2021-10-15T09:04:48.268Z"
   },
   {
    "duration": 19,
    "start_time": "2021-10-15T09:05:06.246Z"
   },
   {
    "duration": 23,
    "start_time": "2021-10-15T09:06:09.926Z"
   },
   {
    "duration": 49,
    "start_time": "2021-10-15T09:06:29.695Z"
   },
   {
    "duration": 8175,
    "start_time": "2021-10-15T09:06:53.171Z"
   },
   {
    "duration": 52,
    "start_time": "2021-10-15T09:07:10.841Z"
   },
   {
    "duration": 17,
    "start_time": "2021-10-15T09:07:46.241Z"
   },
   {
    "duration": 20,
    "start_time": "2021-10-15T09:08:01.824Z"
   },
   {
    "duration": 17,
    "start_time": "2021-10-15T09:08:26.499Z"
   },
   {
    "duration": 17,
    "start_time": "2021-10-15T09:10:21.073Z"
   },
   {
    "duration": 75,
    "start_time": "2021-10-15T09:10:24.777Z"
   },
   {
    "duration": 17,
    "start_time": "2021-10-15T09:10:26.194Z"
   },
   {
    "duration": 41,
    "start_time": "2021-10-15T09:10:51.741Z"
   },
   {
    "duration": 19,
    "start_time": "2021-10-15T09:11:00.551Z"
   },
   {
    "duration": 1280,
    "start_time": "2021-10-15T12:21:08.562Z"
   },
   {
    "duration": 390,
    "start_time": "2021-10-15T12:21:09.844Z"
   },
   {
    "duration": 26,
    "start_time": "2021-10-15T12:21:10.236Z"
   },
   {
    "duration": 21,
    "start_time": "2021-10-15T12:21:10.264Z"
   },
   {
    "duration": 8,
    "start_time": "2021-10-15T12:21:10.287Z"
   },
   {
    "duration": 3,
    "start_time": "2021-10-15T12:21:10.296Z"
   },
   {
    "duration": 13,
    "start_time": "2021-10-15T12:21:10.300Z"
   },
   {
    "duration": 14,
    "start_time": "2021-10-15T12:21:10.316Z"
   },
   {
    "duration": 150,
    "start_time": "2021-10-15T12:21:10.331Z"
   },
   {
    "duration": 14,
    "start_time": "2021-10-15T12:21:10.482Z"
   },
   {
    "duration": 10,
    "start_time": "2021-10-15T12:21:10.498Z"
   },
   {
    "duration": 8,
    "start_time": "2021-10-15T12:21:10.509Z"
   },
   {
    "duration": 15,
    "start_time": "2021-10-15T12:21:10.518Z"
   },
   {
    "duration": 6,
    "start_time": "2021-10-15T12:21:10.535Z"
   },
   {
    "duration": 474,
    "start_time": "2021-10-15T12:21:10.543Z"
   },
   {
    "duration": 6,
    "start_time": "2021-10-15T12:21:11.018Z"
   },
   {
    "duration": 16,
    "start_time": "2021-10-15T12:21:11.026Z"
   },
   {
    "duration": 47,
    "start_time": "2021-10-15T12:21:11.044Z"
   },
   {
    "duration": 11,
    "start_time": "2021-10-15T12:21:11.092Z"
   },
   {
    "duration": 32,
    "start_time": "2021-10-15T12:21:11.105Z"
   },
   {
    "duration": 19,
    "start_time": "2021-10-15T12:21:11.138Z"
   },
   {
    "duration": 197,
    "start_time": "2021-10-15T12:21:11.158Z"
   },
   {
    "duration": 5,
    "start_time": "2021-10-15T12:21:11.358Z"
   },
   {
    "duration": 70,
    "start_time": "2021-10-15T12:21:11.365Z"
   },
   {
    "duration": 587,
    "start_time": "2021-10-15T12:21:11.436Z"
   },
   {
    "duration": 17,
    "start_time": "2021-10-15T12:21:12.025Z"
   },
   {
    "duration": 151,
    "start_time": "2021-10-15T12:21:12.043Z"
   },
   {
    "duration": 149,
    "start_time": "2021-10-15T12:21:12.196Z"
   },
   {
    "duration": 9,
    "start_time": "2021-10-15T12:21:12.347Z"
   },
   {
    "duration": 124,
    "start_time": "2021-10-15T12:21:12.357Z"
   },
   {
    "duration": 22,
    "start_time": "2021-10-15T12:21:12.483Z"
   },
   {
    "duration": 19,
    "start_time": "2021-10-15T12:21:12.507Z"
   },
   {
    "duration": 31,
    "start_time": "2021-10-15T12:21:12.527Z"
   },
   {
    "duration": 34,
    "start_time": "2021-10-15T12:21:12.560Z"
   },
   {
    "duration": 148,
    "start_time": "2021-10-15T12:21:12.595Z"
   },
   {
    "duration": 217,
    "start_time": "2021-10-15T12:21:12.744Z"
   },
   {
    "duration": 432,
    "start_time": "2021-10-15T12:21:12.962Z"
   },
   {
    "duration": 454,
    "start_time": "2021-10-15T12:21:13.395Z"
   },
   {
    "duration": 450,
    "start_time": "2021-10-15T12:21:13.851Z"
   },
   {
    "duration": 8,
    "start_time": "2021-10-15T12:21:14.303Z"
   },
   {
    "duration": 7,
    "start_time": "2021-10-15T12:21:14.313Z"
   },
   {
    "duration": 656,
    "start_time": "2021-10-15T12:21:14.321Z"
   },
   {
    "duration": 431,
    "start_time": "2021-10-15T12:21:14.979Z"
   },
   {
    "duration": 452,
    "start_time": "2021-10-15T12:21:15.411Z"
   },
   {
    "duration": 446,
    "start_time": "2021-10-15T12:21:15.865Z"
   },
   {
    "duration": 648,
    "start_time": "2021-10-15T12:21:16.313Z"
   },
   {
    "duration": 198,
    "start_time": "2021-10-18T04:46:32.893Z"
   },
   {
    "duration": 1295,
    "start_time": "2021-10-18T04:46:37.062Z"
   },
   {
    "duration": 115,
    "start_time": "2021-10-18T04:46:38.359Z"
   },
   {
    "duration": 29,
    "start_time": "2021-10-18T04:46:38.476Z"
   },
   {
    "duration": 22,
    "start_time": "2021-10-18T04:46:38.506Z"
   },
   {
    "duration": 9,
    "start_time": "2021-10-18T04:46:38.529Z"
   },
   {
    "duration": 2,
    "start_time": "2021-10-18T04:46:38.540Z"
   },
   {
    "duration": 12,
    "start_time": "2021-10-18T04:46:38.544Z"
   },
   {
    "duration": 38,
    "start_time": "2021-10-18T04:46:38.558Z"
   },
   {
    "duration": 136,
    "start_time": "2021-10-18T04:46:38.598Z"
   },
   {
    "duration": 16,
    "start_time": "2021-10-18T04:46:38.735Z"
   },
   {
    "duration": 11,
    "start_time": "2021-10-18T04:46:38.752Z"
   },
   {
    "duration": 27,
    "start_time": "2021-10-18T04:46:38.764Z"
   },
   {
    "duration": 13,
    "start_time": "2021-10-18T04:46:38.793Z"
   },
   {
    "duration": 9,
    "start_time": "2021-10-18T04:46:38.807Z"
   },
   {
    "duration": 468,
    "start_time": "2021-10-18T04:46:38.817Z"
   },
   {
    "duration": 5,
    "start_time": "2021-10-18T04:46:39.287Z"
   },
   {
    "duration": 12,
    "start_time": "2021-10-18T04:46:39.294Z"
   },
   {
    "duration": 41,
    "start_time": "2021-10-18T04:46:39.308Z"
   },
   {
    "duration": 11,
    "start_time": "2021-10-18T04:46:39.351Z"
   },
   {
    "duration": 30,
    "start_time": "2021-10-18T04:46:39.392Z"
   },
   {
    "duration": 21,
    "start_time": "2021-10-18T04:46:39.424Z"
   },
   {
    "duration": 189,
    "start_time": "2021-10-18T04:46:39.447Z"
   },
   {
    "duration": 4,
    "start_time": "2021-10-18T04:46:39.639Z"
   },
   {
    "duration": 65,
    "start_time": "2021-10-18T04:46:39.645Z"
   },
   {
    "duration": 587,
    "start_time": "2021-10-18T04:46:39.711Z"
   },
   {
    "duration": 13,
    "start_time": "2021-10-18T04:46:40.301Z"
   },
   {
    "duration": 104,
    "start_time": "2021-10-18T04:46:40.315Z"
   },
   {
    "duration": 171,
    "start_time": "2021-10-18T04:46:40.420Z"
   },
   {
    "duration": 9,
    "start_time": "2021-10-18T04:46:40.593Z"
   },
   {
    "duration": 122,
    "start_time": "2021-10-18T04:46:40.604Z"
   },
   {
    "duration": 23,
    "start_time": "2021-10-18T04:46:40.728Z"
   },
   {
    "duration": 15,
    "start_time": "2021-10-18T04:46:40.753Z"
   },
   {
    "duration": 51,
    "start_time": "2021-10-18T04:46:40.769Z"
   },
   {
    "duration": 6,
    "start_time": "2021-10-18T04:46:40.822Z"
   },
   {
    "duration": 150,
    "start_time": "2021-10-18T04:46:40.829Z"
   },
   {
    "duration": 212,
    "start_time": "2021-10-18T04:46:40.980Z"
   },
   {
    "duration": 450,
    "start_time": "2021-10-18T04:46:41.193Z"
   },
   {
    "duration": 462,
    "start_time": "2021-10-18T04:46:41.645Z"
   },
   {
    "duration": 464,
    "start_time": "2021-10-18T04:46:42.109Z"
   },
   {
    "duration": 18,
    "start_time": "2021-10-18T04:46:42.574Z"
   },
   {
    "duration": 9,
    "start_time": "2021-10-18T04:46:42.593Z"
   },
   {
    "duration": 897,
    "start_time": "2021-10-18T04:46:42.604Z"
   },
   {
    "duration": 461,
    "start_time": "2021-10-18T04:46:43.502Z"
   },
   {
    "duration": 491,
    "start_time": "2021-10-18T04:46:43.965Z"
   },
   {
    "duration": 469,
    "start_time": "2021-10-18T04:46:44.458Z"
   },
   {
    "duration": 650,
    "start_time": "2021-10-18T04:46:44.928Z"
   },
   {
    "duration": 10,
    "start_time": "2021-10-18T04:52:23.851Z"
   },
   {
    "duration": 107,
    "start_time": "2021-10-18T04:52:27.102Z"
   },
   {
    "duration": 406,
    "start_time": "2021-10-18T07:35:52.744Z"
   },
   {
    "duration": 2139,
    "start_time": "2021-10-18T07:35:58.133Z"
   },
   {
    "duration": 169,
    "start_time": "2021-10-18T07:36:00.275Z"
   },
   {
    "duration": 38,
    "start_time": "2021-10-18T07:36:00.447Z"
   },
   {
    "duration": 39,
    "start_time": "2021-10-18T07:36:00.488Z"
   },
   {
    "duration": 16,
    "start_time": "2021-10-18T07:36:00.530Z"
   },
   {
    "duration": 5,
    "start_time": "2021-10-18T07:36:00.548Z"
   },
   {
    "duration": 46,
    "start_time": "2021-10-18T07:36:00.555Z"
   },
   {
    "duration": 23,
    "start_time": "2021-10-18T07:36:00.605Z"
   },
   {
    "duration": 233,
    "start_time": "2021-10-18T07:36:00.632Z"
   },
   {
    "duration": 37,
    "start_time": "2021-10-18T07:36:00.868Z"
   },
   {
    "duration": 15,
    "start_time": "2021-10-18T07:36:00.908Z"
   },
   {
    "duration": 10,
    "start_time": "2021-10-18T07:36:00.926Z"
   },
   {
    "duration": 20,
    "start_time": "2021-10-18T07:36:00.938Z"
   },
   {
    "duration": 40,
    "start_time": "2021-10-18T07:36:00.961Z"
   },
   {
    "duration": 899,
    "start_time": "2021-10-18T07:36:01.004Z"
   },
   {
    "duration": 8,
    "start_time": "2021-10-18T07:36:01.907Z"
   },
   {
    "duration": 22,
    "start_time": "2021-10-18T07:36:01.917Z"
   },
   {
    "duration": 82,
    "start_time": "2021-10-18T07:36:01.942Z"
   },
   {
    "duration": 17,
    "start_time": "2021-10-18T07:36:02.027Z"
   },
   {
    "duration": 70,
    "start_time": "2021-10-18T07:36:02.046Z"
   },
   {
    "duration": 37,
    "start_time": "2021-10-18T07:36:02.118Z"
   },
   {
    "duration": 330,
    "start_time": "2021-10-18T07:36:02.158Z"
   },
   {
    "duration": 10,
    "start_time": "2021-10-18T07:36:02.503Z"
   },
   {
    "duration": 111,
    "start_time": "2021-10-18T07:36:02.517Z"
   },
   {
    "duration": 918,
    "start_time": "2021-10-18T07:36:02.630Z"
   },
   {
    "duration": 55,
    "start_time": "2021-10-18T07:36:03.550Z"
   },
   {
    "duration": 129,
    "start_time": "2021-10-18T07:36:03.608Z"
   },
   {
    "duration": 278,
    "start_time": "2021-10-18T07:36:03.740Z"
   },
   {
    "duration": 15,
    "start_time": "2021-10-18T07:36:04.020Z"
   },
   {
    "duration": 205,
    "start_time": "2021-10-18T07:36:04.037Z"
   },
   {
    "duration": 34,
    "start_time": "2021-10-18T07:36:04.244Z"
   },
   {
    "duration": 40,
    "start_time": "2021-10-18T07:36:04.280Z"
   },
   {
    "duration": 45,
    "start_time": "2021-10-18T07:36:04.323Z"
   },
   {
    "duration": 35,
    "start_time": "2021-10-18T07:36:04.370Z"
   },
   {
    "duration": 236,
    "start_time": "2021-10-18T07:36:04.408Z"
   },
   {
    "duration": 344,
    "start_time": "2021-10-18T07:36:04.647Z"
   },
   {
    "duration": 697,
    "start_time": "2021-10-18T07:36:04.993Z"
   },
   {
    "duration": 856,
    "start_time": "2021-10-18T07:36:05.693Z"
   },
   {
    "duration": 769,
    "start_time": "2021-10-18T07:36:06.552Z"
   },
   {
    "duration": 12,
    "start_time": "2021-10-18T07:36:07.324Z"
   },
   {
    "duration": 11,
    "start_time": "2021-10-18T07:36:07.338Z"
   },
   {
    "duration": 1050,
    "start_time": "2021-10-18T07:36:07.352Z"
   },
   {
    "duration": 679,
    "start_time": "2021-10-18T07:36:08.404Z"
   },
   {
    "duration": 751,
    "start_time": "2021-10-18T07:36:09.085Z"
   },
   {
    "duration": 736,
    "start_time": "2021-10-18T07:36:09.839Z"
   },
   {
    "duration": 1151,
    "start_time": "2021-10-18T07:36:10.578Z"
   },
   {
    "duration": 1908,
    "start_time": "2021-10-18T13:40:53.597Z"
   },
   {
    "duration": 170,
    "start_time": "2021-10-18T13:40:55.508Z"
   },
   {
    "duration": 39,
    "start_time": "2021-10-18T13:40:55.681Z"
   },
   {
    "duration": 48,
    "start_time": "2021-10-18T13:40:55.722Z"
   },
   {
    "duration": 18,
    "start_time": "2021-10-18T13:40:55.773Z"
   },
   {
    "duration": 5,
    "start_time": "2021-10-18T13:40:55.794Z"
   },
   {
    "duration": 14,
    "start_time": "2021-10-18T13:40:55.802Z"
   },
   {
    "duration": 23,
    "start_time": "2021-10-18T13:40:55.857Z"
   },
   {
    "duration": 215,
    "start_time": "2021-10-18T13:40:55.884Z"
   },
   {
    "duration": 23,
    "start_time": "2021-10-18T13:40:56.101Z"
   },
   {
    "duration": 33,
    "start_time": "2021-10-18T13:40:56.127Z"
   },
   {
    "duration": 9,
    "start_time": "2021-10-18T13:40:56.163Z"
   },
   {
    "duration": 19,
    "start_time": "2021-10-18T13:40:56.175Z"
   },
   {
    "duration": 10,
    "start_time": "2021-10-18T13:40:56.197Z"
   },
   {
    "duration": 815,
    "start_time": "2021-10-18T13:40:56.209Z"
   },
   {
    "duration": 8,
    "start_time": "2021-10-18T13:40:57.026Z"
   },
   {
    "duration": 35,
    "start_time": "2021-10-18T13:40:57.036Z"
   },
   {
    "duration": 84,
    "start_time": "2021-10-18T13:40:57.074Z"
   },
   {
    "duration": 19,
    "start_time": "2021-10-18T13:40:57.161Z"
   },
   {
    "duration": 45,
    "start_time": "2021-10-18T13:40:57.182Z"
   },
   {
    "duration": 58,
    "start_time": "2021-10-18T13:40:57.229Z"
   },
   {
    "duration": 334,
    "start_time": "2021-10-18T13:40:57.289Z"
   },
   {
    "duration": 87,
    "start_time": "2021-10-18T13:40:57.629Z"
   },
   {
    "duration": 1408,
    "start_time": "2021-10-18T13:40:57.719Z"
   },
   {
    "duration": 9,
    "start_time": "2021-10-18T13:40:59.159Z"
   },
   {
    "duration": 205,
    "start_time": "2021-10-18T13:40:59.171Z"
   },
   {
    "duration": 288,
    "start_time": "2021-10-18T13:40:59.379Z"
   },
   {
    "duration": 21,
    "start_time": "2021-10-18T13:40:59.669Z"
   },
   {
    "duration": 15,
    "start_time": "2021-10-18T13:40:59.693Z"
   },
   {
    "duration": 215,
    "start_time": "2021-10-18T13:40:59.711Z"
   },
   {
    "duration": 58,
    "start_time": "2021-10-18T13:40:59.929Z"
   },
   {
    "duration": 28,
    "start_time": "2021-10-18T13:40:59.990Z"
   },
   {
    "duration": 76,
    "start_time": "2021-10-18T13:41:00.020Z"
   },
   {
    "duration": 10,
    "start_time": "2021-10-18T13:41:00.099Z"
   },
   {
    "duration": 246,
    "start_time": "2021-10-18T13:41:00.111Z"
   },
   {
    "duration": 330,
    "start_time": "2021-10-18T13:41:00.360Z"
   },
   {
    "duration": 694,
    "start_time": "2021-10-18T13:41:00.692Z"
   },
   {
    "duration": 693,
    "start_time": "2021-10-18T13:41:01.389Z"
   },
   {
    "duration": 811,
    "start_time": "2021-10-18T13:41:02.084Z"
   },
   {
    "duration": 11,
    "start_time": "2021-10-18T13:41:02.897Z"
   },
   {
    "duration": 11,
    "start_time": "2021-10-18T13:41:02.911Z"
   },
   {
    "duration": 1129,
    "start_time": "2021-10-18T13:41:02.925Z"
   },
   {
    "duration": 699,
    "start_time": "2021-10-18T13:41:04.058Z"
   },
   {
    "duration": 721,
    "start_time": "2021-10-18T13:41:04.760Z"
   },
   {
    "duration": 713,
    "start_time": "2021-10-18T13:41:05.483Z"
   },
   {
    "duration": 1121,
    "start_time": "2021-10-18T13:41:06.198Z"
   },
   {
    "duration": 88,
    "start_time": "2021-10-18T14:40:05.768Z"
   },
   {
    "duration": 73,
    "start_time": "2021-10-18T14:40:17.610Z"
   },
   {
    "duration": 174,
    "start_time": "2021-10-18T14:42:37.894Z"
   },
   {
    "duration": 330,
    "start_time": "2021-10-18T14:46:15.094Z"
   },
   {
    "duration": 179,
    "start_time": "2021-10-18T14:47:18.249Z"
   },
   {
    "duration": 182,
    "start_time": "2021-10-18T15:33:32.214Z"
   },
   {
    "duration": 53,
    "start_time": "2021-10-18T15:53:07.631Z"
   },
   {
    "duration": 53,
    "start_time": "2021-10-18T15:54:18.486Z"
   },
   {
    "duration": 83,
    "start_time": "2021-10-18T16:02:12.396Z"
   },
   {
    "duration": 254,
    "start_time": "2021-10-18T16:03:11.581Z"
   },
   {
    "duration": 252,
    "start_time": "2021-10-18T16:03:35.488Z"
   },
   {
    "duration": 2222,
    "start_time": "2021-10-19T07:06:09.619Z"
   },
   {
    "duration": 3039,
    "start_time": "2021-10-19T07:06:11.844Z"
   },
   {
    "duration": 40,
    "start_time": "2021-10-19T07:06:14.886Z"
   },
   {
    "duration": 30,
    "start_time": "2021-10-19T07:06:14.929Z"
   },
   {
    "duration": 41,
    "start_time": "2021-10-19T07:06:14.962Z"
   },
   {
    "duration": 5,
    "start_time": "2021-10-19T07:06:15.006Z"
   },
   {
    "duration": 25,
    "start_time": "2021-10-19T07:06:15.014Z"
   },
   {
    "duration": 22,
    "start_time": "2021-10-19T07:06:15.042Z"
   },
   {
    "duration": 222,
    "start_time": "2021-10-19T07:06:15.068Z"
   },
   {
    "duration": 23,
    "start_time": "2021-10-19T07:06:15.293Z"
   },
   {
    "duration": 16,
    "start_time": "2021-10-19T07:06:15.318Z"
   },
   {
    "duration": 12,
    "start_time": "2021-10-19T07:06:15.336Z"
   },
   {
    "duration": 50,
    "start_time": "2021-10-19T07:06:15.350Z"
   },
   {
    "duration": 8,
    "start_time": "2021-10-19T07:06:15.403Z"
   },
   {
    "duration": 816,
    "start_time": "2021-10-19T07:06:15.413Z"
   },
   {
    "duration": 8,
    "start_time": "2021-10-19T07:06:16.231Z"
   },
   {
    "duration": 27,
    "start_time": "2021-10-19T07:06:16.241Z"
   },
   {
    "duration": 76,
    "start_time": "2021-10-19T07:06:16.270Z"
   },
   {
    "duration": 17,
    "start_time": "2021-10-19T07:06:16.348Z"
   },
   {
    "duration": 72,
    "start_time": "2021-10-19T07:06:16.368Z"
   },
   {
    "duration": 35,
    "start_time": "2021-10-19T07:06:16.442Z"
   },
   {
    "duration": 309,
    "start_time": "2021-10-19T07:06:16.479Z"
   },
   {
    "duration": 80,
    "start_time": "2021-10-19T07:06:16.791Z"
   },
   {
    "duration": 880,
    "start_time": "2021-10-19T07:06:16.873Z"
   },
   {
    "duration": 9,
    "start_time": "2021-10-19T07:06:17.756Z"
   },
   {
    "duration": 144,
    "start_time": "2021-10-19T07:06:17.802Z"
   },
   {
    "duration": 225,
    "start_time": "2021-10-19T07:06:18.004Z"
   },
   {
    "duration": 21,
    "start_time": "2021-10-19T07:06:18.232Z"
   },
   {
    "duration": 46,
    "start_time": "2021-10-19T07:06:18.255Z"
   },
   {
    "duration": 192,
    "start_time": "2021-10-19T07:06:18.303Z"
   },
   {
    "duration": 103,
    "start_time": "2021-10-19T07:06:18.501Z"
   },
   {
    "duration": 273,
    "start_time": "2021-10-19T07:06:18.606Z"
   },
   {
    "duration": 19,
    "start_time": "2021-10-19T07:06:18.881Z"
   },
   {
    "duration": 233,
    "start_time": "2021-10-19T07:06:18.903Z"
   },
   {
    "duration": 331,
    "start_time": "2021-10-19T07:06:19.138Z"
   },
   {
    "duration": 686,
    "start_time": "2021-10-19T07:06:19.471Z"
   },
   {
    "duration": 730,
    "start_time": "2021-10-19T07:06:20.159Z"
   },
   {
    "duration": 709,
    "start_time": "2021-10-19T07:06:20.900Z"
   },
   {
    "duration": 13,
    "start_time": "2021-10-19T07:06:21.612Z"
   },
   {
    "duration": 11,
    "start_time": "2021-10-19T07:06:21.628Z"
   },
   {
    "duration": 1038,
    "start_time": "2021-10-19T07:06:21.641Z"
   },
   {
    "duration": 702,
    "start_time": "2021-10-19T07:06:22.682Z"
   },
   {
    "duration": 736,
    "start_time": "2021-10-19T07:06:23.386Z"
   },
   {
    "duration": 715,
    "start_time": "2021-10-19T07:06:24.126Z"
   },
   {
    "duration": 1010,
    "start_time": "2021-10-19T07:06:24.843Z"
   },
   {
    "duration": 6,
    "start_time": "2021-10-19T08:03:29.685Z"
   },
   {
    "duration": 203,
    "start_time": "2021-10-19T08:03:29.694Z"
   },
   {
    "duration": 36,
    "start_time": "2021-10-19T08:03:29.900Z"
   },
   {
    "duration": 31,
    "start_time": "2021-10-19T08:03:29.939Z"
   },
   {
    "duration": 37,
    "start_time": "2021-10-19T08:03:29.972Z"
   },
   {
    "duration": 4,
    "start_time": "2021-10-19T08:03:30.012Z"
   },
   {
    "duration": 26,
    "start_time": "2021-10-19T08:03:30.018Z"
   },
   {
    "duration": 472,
    "start_time": "2021-10-19T08:03:30.048Z"
   },
   {
    "duration": 206,
    "start_time": "2021-10-19T08:03:30.523Z"
   },
   {
    "duration": 22,
    "start_time": "2021-10-19T08:03:30.732Z"
   },
   {
    "duration": 15,
    "start_time": "2021-10-19T08:03:30.756Z"
   },
   {
    "duration": 32,
    "start_time": "2021-10-19T08:03:30.773Z"
   },
   {
    "duration": 25,
    "start_time": "2021-10-19T08:03:30.807Z"
   },
   {
    "duration": 10,
    "start_time": "2021-10-19T08:03:30.835Z"
   },
   {
    "duration": 842,
    "start_time": "2021-10-19T08:03:30.848Z"
   },
   {
    "duration": 13,
    "start_time": "2021-10-19T08:03:31.693Z"
   },
   {
    "duration": 25,
    "start_time": "2021-10-19T08:03:31.710Z"
   },
   {
    "duration": 89,
    "start_time": "2021-10-19T08:03:31.738Z"
   },
   {
    "duration": 17,
    "start_time": "2021-10-19T08:03:31.830Z"
   },
   {
    "duration": 64,
    "start_time": "2021-10-19T08:03:31.850Z"
   },
   {
    "duration": 34,
    "start_time": "2021-10-19T08:03:31.916Z"
   },
   {
    "duration": 315,
    "start_time": "2021-10-19T08:03:31.952Z"
   },
   {
    "duration": 78,
    "start_time": "2021-10-19T08:03:32.273Z"
   },
   {
    "duration": 188,
    "start_time": "2021-10-19T08:03:32.353Z"
   },
   {
    "duration": 7,
    "start_time": "2021-10-19T08:03:32.544Z"
   },
   {
    "duration": 92,
    "start_time": "2021-10-19T08:03:32.553Z"
   },
   {
    "duration": 196,
    "start_time": "2021-10-19T08:03:32.648Z"
   },
   {
    "duration": 20,
    "start_time": "2021-10-19T08:03:32.846Z"
   },
   {
    "duration": 45,
    "start_time": "2021-10-19T08:03:32.869Z"
   },
   {
    "duration": 189,
    "start_time": "2021-10-19T08:03:32.916Z"
   },
   {
    "duration": 100,
    "start_time": "2021-10-19T08:03:33.108Z"
   },
   {
    "duration": 434,
    "start_time": "2021-10-19T08:03:33.211Z"
   },
   {
    "duration": 10,
    "start_time": "2021-10-19T08:03:33.647Z"
   },
   {
    "duration": 241,
    "start_time": "2021-10-19T08:03:33.659Z"
   },
   {
    "duration": 319,
    "start_time": "2021-10-19T08:03:33.902Z"
   },
   {
    "duration": 670,
    "start_time": "2021-10-19T08:03:34.224Z"
   },
   {
    "duration": 1002,
    "start_time": "2021-10-19T08:03:34.901Z"
   },
   {
    "duration": 754,
    "start_time": "2021-10-19T08:03:35.905Z"
   },
   {
    "duration": 8,
    "start_time": "2021-10-19T08:03:36.662Z"
   },
   {
    "duration": 29,
    "start_time": "2021-10-19T08:03:36.672Z"
   },
   {
    "duration": 957,
    "start_time": "2021-10-19T08:03:36.704Z"
   },
   {
    "duration": 1045,
    "start_time": "2021-10-19T08:03:37.664Z"
   },
   {
    "duration": 700,
    "start_time": "2021-10-19T08:03:38.712Z"
   },
   {
    "duration": 690,
    "start_time": "2021-10-19T08:03:39.415Z"
   },
   {
    "duration": 962,
    "start_time": "2021-10-19T08:03:40.107Z"
   },
   {
    "duration": 11,
    "start_time": "2021-10-19T09:40:33.263Z"
   },
   {
    "duration": 235,
    "start_time": "2021-10-19T09:40:34.075Z"
   },
   {
    "duration": 656,
    "start_time": "2021-10-19T09:40:53.591Z"
   },
   {
    "duration": 11,
    "start_time": "2021-10-19T09:41:26.767Z"
   },
   {
    "duration": 238,
    "start_time": "2021-10-19T09:41:27.328Z"
   },
   {
    "duration": 12,
    "start_time": "2021-10-19T09:45:53.717Z"
   },
   {
    "duration": 234,
    "start_time": "2021-10-19T09:45:55.377Z"
   },
   {
    "duration": 9151,
    "start_time": "2021-10-19T09:59:17.316Z"
   },
   {
    "duration": 326,
    "start_time": "2021-10-19T09:59:30.645Z"
   },
   {
    "duration": 670,
    "start_time": "2021-10-19T09:59:53.021Z"
   },
   {
    "duration": 328,
    "start_time": "2021-10-19T10:00:10.591Z"
   },
   {
    "duration": 8707,
    "start_time": "2021-10-19T10:01:34.431Z"
   },
   {
    "duration": 671,
    "start_time": "2021-10-19T10:02:06.472Z"
   },
   {
    "duration": 318,
    "start_time": "2021-10-19T10:02:25.129Z"
   },
   {
    "duration": 339,
    "start_time": "2021-10-19T10:02:31.887Z"
   },
   {
    "duration": 354,
    "start_time": "2021-10-19T10:03:10.281Z"
   },
   {
    "duration": 13,
    "start_time": "2021-10-19T10:03:42.218Z"
   },
   {
    "duration": 30,
    "start_time": "2021-10-19T10:17:09.590Z"
   },
   {
    "duration": 29,
    "start_time": "2021-10-19T10:17:49.399Z"
   },
   {
    "duration": 30,
    "start_time": "2021-10-19T10:18:41.115Z"
   },
   {
    "duration": 362,
    "start_time": "2021-10-19T10:19:49.624Z"
   },
   {
    "duration": 319,
    "start_time": "2021-10-19T10:20:07.380Z"
   },
   {
    "duration": 35,
    "start_time": "2021-10-19T10:20:08.945Z"
   },
   {
    "duration": 31,
    "start_time": "2021-10-19T10:20:42.801Z"
   },
   {
    "duration": 313,
    "start_time": "2021-10-19T10:21:04.917Z"
   },
   {
    "duration": 356,
    "start_time": "2021-10-19T10:21:06.094Z"
   },
   {
    "duration": 32,
    "start_time": "2021-10-19T10:21:27.364Z"
   },
   {
    "duration": 31,
    "start_time": "2021-10-19T10:37:29.634Z"
   },
   {
    "duration": 31,
    "start_time": "2021-10-19T10:37:55.869Z"
   },
   {
    "duration": 346,
    "start_time": "2021-10-19T10:39:07.420Z"
   },
   {
    "duration": 329,
    "start_time": "2021-10-19T10:44:13.117Z"
   },
   {
    "duration": 8762,
    "start_time": "2021-10-19T11:23:37.691Z"
   },
   {
    "duration": 334,
    "start_time": "2021-10-19T11:23:56.602Z"
   },
   {
    "duration": 327,
    "start_time": "2021-10-19T11:30:56.877Z"
   },
   {
    "duration": 695,
    "start_time": "2021-10-19T12:11:46.696Z"
   },
   {
    "duration": 676,
    "start_time": "2021-10-19T12:11:57.610Z"
   },
   {
    "duration": 691,
    "start_time": "2021-10-19T12:12:11.324Z"
   },
   {
    "duration": 1974,
    "start_time": "2021-10-20T04:46:20.515Z"
   },
   {
    "duration": 159,
    "start_time": "2021-10-20T04:46:22.492Z"
   },
   {
    "duration": 44,
    "start_time": "2021-10-20T04:46:22.654Z"
   },
   {
    "duration": 30,
    "start_time": "2021-10-20T04:46:22.700Z"
   },
   {
    "duration": 37,
    "start_time": "2021-10-20T04:46:22.733Z"
   },
   {
    "duration": 4,
    "start_time": "2021-10-20T04:46:22.772Z"
   },
   {
    "duration": 14,
    "start_time": "2021-10-20T04:46:22.778Z"
   },
   {
    "duration": 21,
    "start_time": "2021-10-20T04:46:22.796Z"
   },
   {
    "duration": 231,
    "start_time": "2021-10-20T04:46:22.820Z"
   },
   {
    "duration": 25,
    "start_time": "2021-10-20T04:46:23.053Z"
   },
   {
    "duration": 14,
    "start_time": "2021-10-20T04:46:23.081Z"
   },
   {
    "duration": 8,
    "start_time": "2021-10-20T04:46:23.098Z"
   },
   {
    "duration": 17,
    "start_time": "2021-10-20T04:46:23.108Z"
   },
   {
    "duration": 8,
    "start_time": "2021-10-20T04:46:23.163Z"
   },
   {
    "duration": 769,
    "start_time": "2021-10-20T04:46:23.173Z"
   },
   {
    "duration": 8,
    "start_time": "2021-10-20T04:46:23.944Z"
   },
   {
    "duration": 21,
    "start_time": "2021-10-20T04:46:23.963Z"
   },
   {
    "duration": 56,
    "start_time": "2021-10-20T04:46:23.986Z"
   },
   {
    "duration": 17,
    "start_time": "2021-10-20T04:46:24.062Z"
   },
   {
    "duration": 44,
    "start_time": "2021-10-20T04:46:24.082Z"
   },
   {
    "duration": 56,
    "start_time": "2021-10-20T04:46:24.128Z"
   },
   {
    "duration": 301,
    "start_time": "2021-10-20T04:46:24.186Z"
   },
   {
    "duration": 85,
    "start_time": "2021-10-20T04:46:24.492Z"
   },
   {
    "duration": 857,
    "start_time": "2021-10-20T04:46:24.580Z"
   },
   {
    "duration": 26,
    "start_time": "2021-10-20T04:46:25.440Z"
   },
   {
    "duration": 135,
    "start_time": "2021-10-20T04:46:25.468Z"
   },
   {
    "duration": 264,
    "start_time": "2021-10-20T04:46:25.605Z"
   },
   {
    "duration": 19,
    "start_time": "2021-10-20T04:46:25.871Z"
   },
   {
    "duration": 13,
    "start_time": "2021-10-20T04:46:25.892Z"
   },
   {
    "duration": 212,
    "start_time": "2021-10-20T04:46:25.907Z"
   },
   {
    "duration": 95,
    "start_time": "2021-10-20T04:46:26.121Z"
   },
   {
    "duration": 274,
    "start_time": "2021-10-20T04:46:26.219Z"
   },
   {
    "duration": 11,
    "start_time": "2021-10-20T04:46:26.496Z"
   },
   {
    "duration": 232,
    "start_time": "2021-10-20T04:46:26.509Z"
   },
   {
    "duration": 355,
    "start_time": "2021-10-20T04:46:26.743Z"
   },
   {
    "duration": 678,
    "start_time": "2021-10-20T04:46:27.100Z"
   },
   {
    "duration": 715,
    "start_time": "2021-10-20T04:46:27.780Z"
   },
   {
    "duration": 696,
    "start_time": "2021-10-20T04:46:28.498Z"
   },
   {
    "duration": 13,
    "start_time": "2021-10-20T04:46:29.196Z"
   },
   {
    "duration": 10,
    "start_time": "2021-10-20T04:46:29.211Z"
   },
   {
    "duration": 1010,
    "start_time": "2021-10-20T04:46:29.223Z"
   },
   {
    "duration": 1907,
    "start_time": "2021-10-21T07:09:31.922Z"
   },
   {
    "duration": 172,
    "start_time": "2021-10-21T07:09:33.832Z"
   },
   {
    "duration": 37,
    "start_time": "2021-10-21T07:09:34.007Z"
   },
   {
    "duration": 31,
    "start_time": "2021-10-21T07:09:34.047Z"
   },
   {
    "duration": 11,
    "start_time": "2021-10-21T07:09:34.100Z"
   },
   {
    "duration": 4,
    "start_time": "2021-10-21T07:09:34.113Z"
   },
   {
    "duration": 16,
    "start_time": "2021-10-21T07:09:34.121Z"
   },
   {
    "duration": 57,
    "start_time": "2021-10-21T07:09:34.143Z"
   },
   {
    "duration": 210,
    "start_time": "2021-10-21T07:09:34.204Z"
   },
   {
    "duration": 24,
    "start_time": "2021-10-21T07:09:34.417Z"
   },
   {
    "duration": 17,
    "start_time": "2021-10-21T07:09:34.444Z"
   },
   {
    "duration": 40,
    "start_time": "2021-10-21T07:09:34.464Z"
   },
   {
    "duration": 24,
    "start_time": "2021-10-21T07:09:34.507Z"
   },
   {
    "duration": 8,
    "start_time": "2021-10-21T07:09:34.534Z"
   },
   {
    "duration": 818,
    "start_time": "2021-10-21T07:09:34.544Z"
   },
   {
    "duration": 7,
    "start_time": "2021-10-21T07:09:35.365Z"
   },
   {
    "duration": 41,
    "start_time": "2021-10-21T07:09:35.374Z"
   },
   {
    "duration": 59,
    "start_time": "2021-10-21T07:09:35.417Z"
   },
   {
    "duration": 33,
    "start_time": "2021-10-21T07:09:35.479Z"
   },
   {
    "duration": 44,
    "start_time": "2021-10-21T07:09:35.514Z"
   },
   {
    "duration": 55,
    "start_time": "2021-10-21T07:09:35.560Z"
   },
   {
    "duration": 298,
    "start_time": "2021-10-21T07:09:35.617Z"
   },
   {
    "duration": 90,
    "start_time": "2021-10-21T07:09:35.921Z"
   },
   {
    "duration": 988,
    "start_time": "2021-10-21T07:09:36.014Z"
   },
   {
    "duration": 7,
    "start_time": "2021-10-21T07:09:37.005Z"
   },
   {
    "duration": 186,
    "start_time": "2021-10-21T07:09:37.015Z"
   },
   {
    "duration": 218,
    "start_time": "2021-10-21T07:09:37.204Z"
   },
   {
    "duration": 21,
    "start_time": "2021-10-21T07:09:37.425Z"
   },
   {
    "duration": 14,
    "start_time": "2021-10-21T07:09:37.449Z"
   },
   {
    "duration": 210,
    "start_time": "2021-10-21T07:09:37.466Z"
   },
   {
    "duration": 105,
    "start_time": "2021-10-21T07:09:37.678Z"
   },
   {
    "duration": 281,
    "start_time": "2021-10-21T07:09:37.785Z"
   },
   {
    "duration": 10,
    "start_time": "2021-10-21T07:09:38.068Z"
   },
   {
    "duration": 238,
    "start_time": "2021-10-21T07:09:38.081Z"
   },
   {
    "duration": 342,
    "start_time": "2021-10-21T07:09:38.322Z"
   },
   {
    "duration": 701,
    "start_time": "2021-10-21T07:09:38.666Z"
   },
   {
    "duration": 731,
    "start_time": "2021-10-21T07:09:39.370Z"
   },
   {
    "duration": 709,
    "start_time": "2021-10-21T07:09:40.103Z"
   },
   {
    "duration": 13,
    "start_time": "2021-10-21T07:09:40.815Z"
   },
   {
    "duration": 11,
    "start_time": "2021-10-21T07:09:40.830Z"
   },
   {
    "duration": 1022,
    "start_time": "2021-10-21T07:09:40.843Z"
   },
   {
    "duration": 296,
    "start_time": "2021-10-21T10:12:10.770Z"
   },
   {
    "duration": 296,
    "start_time": "2021-10-21T10:12:36.634Z"
   },
   {
    "duration": 972,
    "start_time": "2021-10-21T11:43:39.688Z"
   },
   {
    "duration": 702,
    "start_time": "2021-10-21T12:08:22.874Z"
   },
   {
    "duration": 1964,
    "start_time": "2021-10-21T15:55:23.812Z"
   },
   {
    "duration": 170,
    "start_time": "2021-10-21T15:55:25.779Z"
   },
   {
    "duration": 49,
    "start_time": "2021-10-21T15:55:25.952Z"
   },
   {
    "duration": 32,
    "start_time": "2021-10-21T15:55:26.004Z"
   },
   {
    "duration": 10,
    "start_time": "2021-10-21T15:55:26.039Z"
   },
   {
    "duration": 4,
    "start_time": "2021-10-21T15:55:26.051Z"
   },
   {
    "duration": 45,
    "start_time": "2021-10-21T15:55:26.057Z"
   },
   {
    "duration": 22,
    "start_time": "2021-10-21T15:55:26.106Z"
   },
   {
    "duration": 216,
    "start_time": "2021-10-21T15:55:26.130Z"
   },
   {
    "duration": 22,
    "start_time": "2021-10-21T15:55:26.348Z"
   },
   {
    "duration": 31,
    "start_time": "2021-10-21T15:55:26.372Z"
   },
   {
    "duration": 8,
    "start_time": "2021-10-21T15:55:26.406Z"
   },
   {
    "duration": 18,
    "start_time": "2021-10-21T15:55:26.417Z"
   },
   {
    "duration": 7,
    "start_time": "2021-10-21T15:55:26.438Z"
   },
   {
    "duration": 841,
    "start_time": "2021-10-21T15:55:26.448Z"
   },
   {
    "duration": 13,
    "start_time": "2021-10-21T15:55:27.291Z"
   },
   {
    "duration": 29,
    "start_time": "2021-10-21T15:55:27.307Z"
   },
   {
    "duration": 79,
    "start_time": "2021-10-21T15:55:27.339Z"
   },
   {
    "duration": 18,
    "start_time": "2021-10-21T15:55:27.420Z"
   },
   {
    "duration": 61,
    "start_time": "2021-10-21T15:55:27.441Z"
   },
   {
    "duration": 36,
    "start_time": "2021-10-21T15:55:27.504Z"
   },
   {
    "duration": 322,
    "start_time": "2021-10-21T15:55:27.543Z"
   },
   {
    "duration": 91,
    "start_time": "2021-10-21T15:55:27.870Z"
   },
   {
    "duration": 1236,
    "start_time": "2021-10-21T15:55:27.964Z"
   },
   {
    "duration": 8,
    "start_time": "2021-10-21T15:55:29.203Z"
   },
   {
    "duration": 189,
    "start_time": "2021-10-21T15:55:29.213Z"
   },
   {
    "duration": 236,
    "start_time": "2021-10-21T15:55:29.405Z"
   },
   {
    "duration": 19,
    "start_time": "2021-10-21T15:55:29.643Z"
   },
   {
    "duration": 37,
    "start_time": "2021-10-21T15:55:29.664Z"
   },
   {
    "duration": 196,
    "start_time": "2021-10-21T15:55:29.704Z"
   },
   {
    "duration": 106,
    "start_time": "2021-10-21T15:55:29.902Z"
   },
   {
    "duration": 319,
    "start_time": "2021-10-21T15:55:30.011Z"
   },
   {
    "duration": 11,
    "start_time": "2021-10-21T15:55:30.332Z"
   },
   {
    "duration": 238,
    "start_time": "2021-10-21T15:55:30.346Z"
   },
   {
    "duration": 346,
    "start_time": "2021-10-21T15:55:30.587Z"
   },
   {
    "duration": 699,
    "start_time": "2021-10-21T15:55:30.936Z"
   },
   {
    "duration": 718,
    "start_time": "2021-10-21T15:55:31.637Z"
   },
   {
    "duration": 807,
    "start_time": "2021-10-21T15:55:32.358Z"
   },
   {
    "duration": 12,
    "start_time": "2021-10-21T15:55:33.167Z"
   },
   {
    "duration": 26,
    "start_time": "2021-10-21T15:55:33.181Z"
   },
   {
    "duration": 1021,
    "start_time": "2021-10-21T15:55:33.210Z"
   },
   {
    "duration": 1582,
    "start_time": "2021-10-22T04:39:01.250Z"
   },
   {
    "duration": 131,
    "start_time": "2021-10-22T04:39:02.834Z"
   },
   {
    "duration": 30,
    "start_time": "2021-10-22T04:39:02.967Z"
   },
   {
    "duration": 25,
    "start_time": "2021-10-22T04:39:02.999Z"
   },
   {
    "duration": 12,
    "start_time": "2021-10-22T04:39:03.025Z"
   },
   {
    "duration": 4,
    "start_time": "2021-10-22T04:39:03.039Z"
   },
   {
    "duration": 11,
    "start_time": "2021-10-22T04:39:03.063Z"
   },
   {
    "duration": 15,
    "start_time": "2021-10-22T04:39:03.077Z"
   },
   {
    "duration": 179,
    "start_time": "2021-10-22T04:39:03.094Z"
   },
   {
    "duration": 16,
    "start_time": "2021-10-22T04:39:03.275Z"
   },
   {
    "duration": 11,
    "start_time": "2021-10-22T04:39:03.293Z"
   },
   {
    "duration": 8,
    "start_time": "2021-10-22T04:39:03.306Z"
   },
   {
    "duration": 14,
    "start_time": "2021-10-22T04:39:03.316Z"
   },
   {
    "duration": 36,
    "start_time": "2021-10-22T04:39:03.332Z"
   },
   {
    "duration": 482,
    "start_time": "2021-10-22T04:39:03.370Z"
   },
   {
    "duration": 11,
    "start_time": "2021-10-22T04:39:03.854Z"
   },
   {
    "duration": 24,
    "start_time": "2021-10-22T04:39:03.867Z"
   },
   {
    "duration": 44,
    "start_time": "2021-10-22T04:39:03.893Z"
   },
   {
    "duration": 30,
    "start_time": "2021-10-22T04:39:03.939Z"
   },
   {
    "duration": 36,
    "start_time": "2021-10-22T04:39:03.971Z"
   },
   {
    "duration": 25,
    "start_time": "2021-10-22T04:39:04.009Z"
   },
   {
    "duration": 207,
    "start_time": "2021-10-22T04:39:04.036Z"
   },
   {
    "duration": 66,
    "start_time": "2021-10-22T04:39:04.247Z"
   },
   {
    "duration": 698,
    "start_time": "2021-10-22T04:39:04.315Z"
   },
   {
    "duration": 6,
    "start_time": "2021-10-22T04:39:05.017Z"
   },
   {
    "duration": 150,
    "start_time": "2021-10-22T04:39:05.025Z"
   },
   {
    "duration": 170,
    "start_time": "2021-10-22T04:39:05.177Z"
   },
   {
    "duration": 27,
    "start_time": "2021-10-22T04:39:05.349Z"
   },
   {
    "duration": 19,
    "start_time": "2021-10-22T04:39:05.378Z"
   },
   {
    "duration": 137,
    "start_time": "2021-10-22T04:39:05.399Z"
   },
   {
    "duration": 77,
    "start_time": "2021-10-22T04:39:05.537Z"
   },
   {
    "duration": 220,
    "start_time": "2021-10-22T04:39:05.616Z"
   },
   {
    "duration": 7,
    "start_time": "2021-10-22T04:39:05.838Z"
   },
   {
    "duration": 166,
    "start_time": "2021-10-22T04:39:05.847Z"
   },
   {
    "duration": 249,
    "start_time": "2021-10-22T04:39:06.015Z"
   },
   {
    "duration": 486,
    "start_time": "2021-10-22T04:39:06.266Z"
   },
   {
    "duration": 526,
    "start_time": "2021-10-22T04:39:06.753Z"
   },
   {
    "duration": 514,
    "start_time": "2021-10-22T04:39:07.281Z"
   },
   {
    "duration": 10,
    "start_time": "2021-10-22T04:39:07.797Z"
   },
   {
    "duration": 10,
    "start_time": "2021-10-22T04:39:07.809Z"
   },
   {
    "duration": 727,
    "start_time": "2021-10-22T04:39:07.821Z"
   },
   {
    "duration": 77,
    "start_time": "2021-10-22T04:55:27.495Z"
   },
   {
    "duration": 8,
    "start_time": "2021-10-22T05:12:30.583Z"
   },
   {
    "duration": 157,
    "start_time": "2021-10-22T05:12:33.756Z"
   },
   {
    "duration": 408,
    "start_time": "2021-10-22T05:18:23.108Z"
   },
   {
    "duration": 264,
    "start_time": "2021-10-22T05:18:36.817Z"
   },
   {
    "duration": 269,
    "start_time": "2021-10-22T05:18:59.718Z"
   },
   {
    "duration": 93,
    "start_time": "2021-10-22T05:19:19.863Z"
   },
   {
    "duration": 82,
    "start_time": "2021-10-22T05:19:37.384Z"
   },
   {
    "duration": 9,
    "start_time": "2021-10-22T05:19:42.680Z"
   },
   {
    "duration": 8,
    "start_time": "2021-10-22T05:29:23.571Z"
   },
   {
    "duration": 165,
    "start_time": "2021-10-22T05:29:25.179Z"
   },
   {
    "duration": 1551,
    "start_time": "2021-10-22T06:07:46.321Z"
   },
   {
    "duration": 130,
    "start_time": "2021-10-22T06:07:47.875Z"
   },
   {
    "duration": 31,
    "start_time": "2021-10-22T06:07:48.006Z"
   },
   {
    "duration": 36,
    "start_time": "2021-10-22T06:07:48.039Z"
   },
   {
    "duration": 7,
    "start_time": "2021-10-22T06:07:48.077Z"
   },
   {
    "duration": 3,
    "start_time": "2021-10-22T06:07:48.085Z"
   },
   {
    "duration": 11,
    "start_time": "2021-10-22T06:07:48.090Z"
   },
   {
    "duration": 16,
    "start_time": "2021-10-22T06:07:48.103Z"
   },
   {
    "duration": 184,
    "start_time": "2021-10-22T06:07:48.122Z"
   },
   {
    "duration": 17,
    "start_time": "2021-10-22T06:07:48.308Z"
   },
   {
    "duration": 12,
    "start_time": "2021-10-22T06:07:48.326Z"
   },
   {
    "duration": 23,
    "start_time": "2021-10-22T06:07:48.340Z"
   },
   {
    "duration": 14,
    "start_time": "2021-10-22T06:07:48.365Z"
   },
   {
    "duration": 7,
    "start_time": "2021-10-22T06:07:48.381Z"
   },
   {
    "duration": 493,
    "start_time": "2021-10-22T06:07:48.390Z"
   },
   {
    "duration": 7,
    "start_time": "2021-10-22T06:07:48.885Z"
   },
   {
    "duration": 28,
    "start_time": "2021-10-22T06:07:48.893Z"
   },
   {
    "duration": 53,
    "start_time": "2021-10-22T06:07:48.923Z"
   },
   {
    "duration": 13,
    "start_time": "2021-10-22T06:07:48.977Z"
   },
   {
    "duration": 36,
    "start_time": "2021-10-22T06:07:48.992Z"
   },
   {
    "duration": 44,
    "start_time": "2021-10-22T06:07:49.030Z"
   },
   {
    "duration": 187,
    "start_time": "2021-10-22T06:07:49.076Z"
   },
   {
    "duration": 54,
    "start_time": "2021-10-22T06:07:49.265Z"
   },
   {
    "duration": 685,
    "start_time": "2021-10-22T06:07:49.321Z"
   },
   {
    "duration": 6,
    "start_time": "2021-10-22T06:07:50.008Z"
   },
   {
    "duration": 154,
    "start_time": "2021-10-22T06:07:50.016Z"
   },
   {
    "duration": 152,
    "start_time": "2021-10-22T06:07:50.174Z"
   },
   {
    "duration": 35,
    "start_time": "2021-10-22T06:07:50.328Z"
   },
   {
    "duration": 11,
    "start_time": "2021-10-22T06:07:50.365Z"
   },
   {
    "duration": 139,
    "start_time": "2021-10-22T06:07:50.377Z"
   },
   {
    "duration": 72,
    "start_time": "2021-10-22T06:07:50.518Z"
   },
   {
    "duration": 205,
    "start_time": "2021-10-22T06:07:50.592Z"
   },
   {
    "duration": 6,
    "start_time": "2021-10-22T06:07:50.799Z"
   },
   {
    "duration": 173,
    "start_time": "2021-10-22T06:07:50.807Z"
   },
   {
    "duration": 241,
    "start_time": "2021-10-22T06:07:50.982Z"
   },
   {
    "duration": 491,
    "start_time": "2021-10-22T06:07:51.225Z"
   },
   {
    "duration": 514,
    "start_time": "2021-10-22T06:07:51.718Z"
   },
   {
    "duration": 504,
    "start_time": "2021-10-22T06:07:52.234Z"
   },
   {
    "duration": 9,
    "start_time": "2021-10-22T06:07:52.740Z"
   },
   {
    "duration": 20,
    "start_time": "2021-10-22T06:07:52.751Z"
   },
   {
    "duration": 745,
    "start_time": "2021-10-22T06:07:52.773Z"
   },
   {
    "duration": 7,
    "start_time": "2021-10-22T08:07:07.135Z"
   },
   {
    "duration": 165,
    "start_time": "2021-10-22T08:07:13.464Z"
   },
   {
    "duration": 79,
    "start_time": "2021-10-22T08:09:45.385Z"
   },
   {
    "duration": 74,
    "start_time": "2021-10-22T08:10:05.438Z"
   },
   {
    "duration": 389,
    "start_time": "2021-10-22T08:10:25.565Z"
   },
   {
    "duration": 93,
    "start_time": "2021-10-22T08:10:39.836Z"
   },
   {
    "duration": 81,
    "start_time": "2021-10-22T08:11:02.809Z"
   },
   {
    "duration": 86,
    "start_time": "2021-10-22T08:11:08.058Z"
   },
   {
    "duration": 80,
    "start_time": "2021-10-22T08:14:16.170Z"
   },
   {
    "duration": 88,
    "start_time": "2021-10-22T08:14:35.704Z"
   },
   {
    "duration": 320,
    "start_time": "2021-10-22T08:16:28.685Z"
   },
   {
    "duration": 309,
    "start_time": "2021-10-22T08:16:55.937Z"
   },
   {
    "duration": 95,
    "start_time": "2021-10-22T08:17:19.204Z"
   },
   {
    "duration": 96,
    "start_time": "2021-10-22T08:17:34.224Z"
   },
   {
    "duration": 1034,
    "start_time": "2021-10-22T08:19:06.851Z"
   },
   {
    "duration": 94,
    "start_time": "2021-10-22T08:19:20.742Z"
   },
   {
    "duration": 87,
    "start_time": "2021-10-22T08:19:43.888Z"
   },
   {
    "duration": 93,
    "start_time": "2021-10-22T08:20:46.410Z"
   },
   {
    "duration": 6104,
    "start_time": "2021-10-22T08:21:05.365Z"
   },
   {
    "duration": 94,
    "start_time": "2021-10-22T08:21:25.981Z"
   },
   {
    "duration": 94,
    "start_time": "2021-10-22T08:21:51.484Z"
   },
   {
    "duration": 1973,
    "start_time": "2021-10-25T05:23:27.298Z"
   },
   {
    "duration": 178,
    "start_time": "2021-10-25T05:23:29.273Z"
   },
   {
    "duration": 56,
    "start_time": "2021-10-25T05:23:29.454Z"
   },
   {
    "duration": 31,
    "start_time": "2021-10-25T05:23:29.513Z"
   },
   {
    "duration": 11,
    "start_time": "2021-10-25T05:23:29.546Z"
   },
   {
    "duration": 5,
    "start_time": "2021-10-25T05:23:29.583Z"
   },
   {
    "duration": 13,
    "start_time": "2021-10-25T05:23:29.594Z"
   },
   {
    "duration": 28,
    "start_time": "2021-10-25T05:23:29.610Z"
   },
   {
    "duration": 233,
    "start_time": "2021-10-25T05:23:29.642Z"
   },
   {
    "duration": 21,
    "start_time": "2021-10-25T05:23:29.878Z"
   },
   {
    "duration": 17,
    "start_time": "2021-10-25T05:23:29.902Z"
   },
   {
    "duration": 11,
    "start_time": "2021-10-25T05:23:29.921Z"
   },
   {
    "duration": 59,
    "start_time": "2021-10-25T05:23:29.937Z"
   },
   {
    "duration": 16,
    "start_time": "2021-10-25T05:23:29.999Z"
   },
   {
    "duration": 828,
    "start_time": "2021-10-25T05:23:30.018Z"
   },
   {
    "duration": 7,
    "start_time": "2021-10-25T05:23:30.849Z"
   },
   {
    "duration": 38,
    "start_time": "2021-10-25T05:23:30.859Z"
   },
   {
    "duration": 55,
    "start_time": "2021-10-25T05:23:30.901Z"
   },
   {
    "duration": 20,
    "start_time": "2021-10-25T05:23:30.984Z"
   },
   {
    "duration": 51,
    "start_time": "2021-10-25T05:23:31.007Z"
   },
   {
    "duration": 38,
    "start_time": "2021-10-25T05:23:31.082Z"
   },
   {
    "duration": 316,
    "start_time": "2021-10-25T05:23:31.122Z"
   },
   {
    "duration": 91,
    "start_time": "2021-10-25T05:23:31.443Z"
   },
   {
    "duration": 911,
    "start_time": "2021-10-25T05:23:31.539Z"
   },
   {
    "duration": 41,
    "start_time": "2021-10-25T05:23:32.455Z"
   },
   {
    "duration": 205,
    "start_time": "2021-10-25T05:23:32.503Z"
   },
   {
    "duration": 291,
    "start_time": "2021-10-25T05:23:32.711Z"
   },
   {
    "duration": 20,
    "start_time": "2021-10-25T05:23:33.007Z"
   },
   {
    "duration": 14,
    "start_time": "2021-10-25T05:23:33.029Z"
   },
   {
    "duration": 220,
    "start_time": "2021-10-25T05:23:33.045Z"
   },
   {
    "duration": 93,
    "start_time": "2021-10-25T05:23:33.268Z"
   },
   {
    "duration": 328,
    "start_time": "2021-10-25T05:23:33.382Z"
   },
   {
    "duration": 11,
    "start_time": "2021-10-25T05:23:33.712Z"
   },
   {
    "duration": 146,
    "start_time": "2021-10-25T05:23:33.726Z"
   },
   {
    "duration": 243,
    "start_time": "2021-10-25T05:23:33.883Z"
   },
   {
    "duration": 344,
    "start_time": "2021-10-25T05:23:34.129Z"
   },
   {
    "duration": 706,
    "start_time": "2021-10-25T05:23:34.476Z"
   },
   {
    "duration": 733,
    "start_time": "2021-10-25T05:23:35.185Z"
   },
   {
    "duration": 716,
    "start_time": "2021-10-25T05:23:35.921Z"
   },
   {
    "duration": 13,
    "start_time": "2021-10-25T05:23:36.640Z"
   },
   {
    "duration": 32,
    "start_time": "2021-10-25T05:23:36.655Z"
   },
   {
    "duration": 1027,
    "start_time": "2021-10-25T05:23:36.690Z"
   },
   {
    "duration": 532,
    "start_time": "2021-10-25T08:22:21.465Z"
   },
   {
    "duration": 312,
    "start_time": "2021-10-25T08:22:36.820Z"
   },
   {
    "duration": 320,
    "start_time": "2021-10-25T08:23:13.834Z"
   },
   {
    "duration": 324,
    "start_time": "2021-10-25T08:24:51.871Z"
   },
   {
    "duration": 281,
    "start_time": "2021-10-25T09:14:12.081Z"
   },
   {
    "duration": 252,
    "start_time": "2021-10-25T09:14:34.325Z"
   },
   {
    "duration": 375,
    "start_time": "2021-10-25T09:14:53.305Z"
   },
   {
    "duration": 308,
    "start_time": "2021-10-25T09:15:11.767Z"
   },
   {
    "duration": 324,
    "start_time": "2021-10-25T09:15:32.208Z"
   },
   {
    "duration": 283,
    "start_time": "2021-10-25T09:16:01.615Z"
   },
   {
    "duration": 523,
    "start_time": "2021-10-25T09:19:38.573Z"
   },
   {
    "duration": 311,
    "start_time": "2021-10-25T09:19:44.752Z"
   },
   {
    "duration": 318,
    "start_time": "2021-10-25T09:20:27.956Z"
   },
   {
    "duration": 348,
    "start_time": "2021-10-25T09:21:05.695Z"
   },
   {
    "duration": 291,
    "start_time": "2021-10-25T09:21:18.304Z"
   },
   {
    "duration": 433,
    "start_time": "2021-10-25T09:21:29.994Z"
   },
   {
    "duration": 397,
    "start_time": "2021-10-25T09:21:56.390Z"
   },
   {
    "duration": 524,
    "start_time": "2021-10-25T09:23:38.919Z"
   },
   {
    "duration": 541,
    "start_time": "2021-10-25T09:29:10.183Z"
   },
   {
    "duration": 96,
    "start_time": "2021-10-25T09:29:44.869Z"
   },
   {
    "duration": 308,
    "start_time": "2021-10-25T09:29:48.556Z"
   },
   {
    "duration": 527,
    "start_time": "2021-10-25T09:31:09.986Z"
   },
   {
    "duration": 490,
    "start_time": "2021-10-25T09:31:25.767Z"
   },
   {
    "duration": 42,
    "start_time": "2021-10-25T09:31:55.621Z"
   },
   {
    "duration": 37,
    "start_time": "2021-10-25T09:38:54.413Z"
   },
   {
    "duration": 389,
    "start_time": "2021-10-25T09:39:10.126Z"
   },
   {
    "duration": 28,
    "start_time": "2021-10-25T09:39:12.398Z"
   },
   {
    "duration": 21,
    "start_time": "2021-10-25T09:39:30.248Z"
   },
   {
    "duration": 2027,
    "start_time": "2021-10-25T09:39:44.533Z"
   },
   {
    "duration": 175,
    "start_time": "2021-10-25T09:39:46.562Z"
   },
   {
    "duration": 49,
    "start_time": "2021-10-25T09:39:46.739Z"
   },
   {
    "duration": 42,
    "start_time": "2021-10-25T09:39:46.792Z"
   },
   {
    "duration": 14,
    "start_time": "2021-10-25T09:39:46.837Z"
   },
   {
    "duration": 46,
    "start_time": "2021-10-25T09:39:46.853Z"
   },
   {
    "duration": 13,
    "start_time": "2021-10-25T09:39:46.902Z"
   },
   {
    "duration": 23,
    "start_time": "2021-10-25T09:39:46.921Z"
   },
   {
    "duration": 211,
    "start_time": "2021-10-25T09:39:46.987Z"
   },
   {
    "duration": 22,
    "start_time": "2021-10-25T09:39:47.200Z"
   },
   {
    "duration": 14,
    "start_time": "2021-10-25T09:39:47.225Z"
   },
   {
    "duration": 9,
    "start_time": "2021-10-25T09:39:47.243Z"
   },
   {
    "duration": 23,
    "start_time": "2021-10-25T09:39:47.285Z"
   },
   {
    "duration": 8,
    "start_time": "2021-10-25T09:39:47.310Z"
   },
   {
    "duration": 873,
    "start_time": "2021-10-25T09:39:47.321Z"
   },
   {
    "duration": 8,
    "start_time": "2021-10-25T09:39:48.197Z"
   },
   {
    "duration": 30,
    "start_time": "2021-10-25T09:39:48.208Z"
   },
   {
    "duration": 90,
    "start_time": "2021-10-25T09:39:48.240Z"
   },
   {
    "duration": 17,
    "start_time": "2021-10-25T09:39:48.332Z"
   },
   {
    "duration": 63,
    "start_time": "2021-10-25T09:39:48.351Z"
   },
   {
    "duration": 33,
    "start_time": "2021-10-25T09:39:48.416Z"
   },
   {
    "duration": 573,
    "start_time": "2021-10-25T09:39:48.452Z"
   },
   {
    "duration": 96,
    "start_time": "2021-10-25T09:39:49.030Z"
   },
   {
    "duration": 901,
    "start_time": "2021-10-25T09:39:49.129Z"
   },
   {
    "duration": 7,
    "start_time": "2021-10-25T09:39:50.033Z"
   },
   {
    "duration": 187,
    "start_time": "2021-10-25T09:39:50.043Z"
   },
   {
    "duration": 222,
    "start_time": "2021-10-25T09:39:50.286Z"
   },
   {
    "duration": 20,
    "start_time": "2021-10-25T09:39:50.510Z"
   },
   {
    "duration": 13,
    "start_time": "2021-10-25T09:39:50.533Z"
   },
   {
    "duration": 225,
    "start_time": "2021-10-25T09:39:50.549Z"
   },
   {
    "duration": 116,
    "start_time": "2021-10-25T09:39:50.782Z"
   },
   {
    "duration": 47,
    "start_time": "2021-10-25T09:39:50.901Z"
   },
   {
    "duration": 570,
    "start_time": "2021-10-25T09:39:50.950Z"
   },
   {
    "duration": 613,
    "start_time": "2021-10-25T09:39:51.523Z"
   },
   {
    "duration": 11,
    "start_time": "2021-10-25T09:39:52.138Z"
   },
   {
    "duration": 164,
    "start_time": "2021-10-25T09:39:52.152Z"
   },
   {
    "duration": 254,
    "start_time": "2021-10-25T09:39:52.319Z"
   },
   {
    "duration": 487,
    "start_time": "2021-10-25T09:39:52.581Z"
   },
   {
    "duration": 762,
    "start_time": "2021-10-25T09:39:53.072Z"
   },
   {
    "duration": 758,
    "start_time": "2021-10-25T09:39:53.836Z"
   },
   {
    "duration": 844,
    "start_time": "2021-10-25T09:39:54.598Z"
   },
   {
    "duration": 14,
    "start_time": "2021-10-25T09:39:55.444Z"
   },
   {
    "duration": 31,
    "start_time": "2021-10-25T09:39:55.460Z"
   },
   {
    "duration": 1080,
    "start_time": "2021-10-25T09:39:55.494Z"
   },
   {
    "duration": 31,
    "start_time": "2021-10-25T09:40:08.367Z"
   },
   {
    "duration": 5,
    "start_time": "2021-10-25T09:44:46.360Z"
   },
   {
    "duration": 88,
    "start_time": "2021-10-25T09:45:29.563Z"
   },
   {
    "duration": 93,
    "start_time": "2021-10-25T09:45:37.117Z"
   },
   {
    "duration": 94,
    "start_time": "2021-10-25T09:45:51.457Z"
   },
   {
    "duration": 105,
    "start_time": "2021-10-25T09:46:01.554Z"
   },
   {
    "duration": 94,
    "start_time": "2021-10-25T09:46:07.679Z"
   },
   {
    "duration": 91,
    "start_time": "2021-10-25T09:46:15.159Z"
   },
   {
    "duration": 5,
    "start_time": "2021-10-25T09:46:25.072Z"
   },
   {
    "duration": 222,
    "start_time": "2021-10-25T09:51:32.991Z"
   },
   {
    "duration": 269,
    "start_time": "2021-10-25T09:54:00.349Z"
   },
   {
    "duration": 245,
    "start_time": "2021-10-25T09:54:31.120Z"
   },
   {
    "duration": 240,
    "start_time": "2021-10-25T09:54:44.575Z"
   },
   {
    "duration": 228,
    "start_time": "2021-10-25T09:54:48.342Z"
   },
   {
    "duration": 238,
    "start_time": "2021-10-25T09:54:55.175Z"
   },
   {
    "duration": 227,
    "start_time": "2021-10-25T09:54:59.635Z"
   },
   {
    "duration": 227,
    "start_time": "2021-10-25T09:55:14.911Z"
   },
   {
    "duration": 275,
    "start_time": "2021-10-25T09:55:31.739Z"
   },
   {
    "duration": 228,
    "start_time": "2021-10-25T09:55:36.907Z"
   },
   {
    "duration": 224,
    "start_time": "2021-10-25T09:55:58.354Z"
   },
   {
    "duration": 223,
    "start_time": "2021-10-25T09:56:09.552Z"
   },
   {
    "duration": 226,
    "start_time": "2021-10-25T09:56:25.298Z"
   },
   {
    "duration": 2028,
    "start_time": "2021-10-25T09:56:54.362Z"
   },
   {
    "duration": 173,
    "start_time": "2021-10-25T09:56:56.394Z"
   },
   {
    "duration": 50,
    "start_time": "2021-10-25T09:56:56.570Z"
   },
   {
    "duration": 35,
    "start_time": "2021-10-25T09:56:56.623Z"
   },
   {
    "duration": 15,
    "start_time": "2021-10-25T09:56:56.687Z"
   },
   {
    "duration": 16,
    "start_time": "2021-10-25T09:56:56.704Z"
   },
   {
    "duration": 11,
    "start_time": "2021-10-25T09:56:56.722Z"
   },
   {
    "duration": 59,
    "start_time": "2021-10-25T09:56:56.737Z"
   },
   {
    "duration": 174,
    "start_time": "2021-10-25T09:56:56.799Z"
   },
   {
    "duration": 123,
    "start_time": "2021-10-25T09:56:56.976Z"
   },
   {
    "duration": 21,
    "start_time": "2021-10-25T09:56:57.102Z"
   },
   {
    "duration": 18,
    "start_time": "2021-10-25T09:56:57.126Z"
   },
   {
    "duration": 43,
    "start_time": "2021-10-25T09:56:57.146Z"
   },
   {
    "duration": 18,
    "start_time": "2021-10-25T09:56:57.193Z"
   },
   {
    "duration": 8,
    "start_time": "2021-10-25T09:56:57.214Z"
   },
   {
    "duration": 1303,
    "start_time": "2021-10-25T09:56:57.224Z"
   },
   {
    "duration": 8,
    "start_time": "2021-10-25T09:56:58.529Z"
   },
   {
    "duration": 24,
    "start_time": "2021-10-25T09:56:58.539Z"
   },
   {
    "duration": 65,
    "start_time": "2021-10-25T09:56:58.582Z"
   },
   {
    "duration": 41,
    "start_time": "2021-10-25T09:56:58.649Z"
   },
   {
    "duration": 43,
    "start_time": "2021-10-25T09:56:58.694Z"
   },
   {
    "duration": 56,
    "start_time": "2021-10-25T09:56:58.739Z"
   },
   {
    "duration": 546,
    "start_time": "2021-10-25T09:56:58.801Z"
   },
   {
    "duration": 92,
    "start_time": "2021-10-25T09:56:59.350Z"
   },
   {
    "duration": 905,
    "start_time": "2021-10-25T09:56:59.445Z"
   },
   {
    "duration": 34,
    "start_time": "2021-10-25T09:57:00.353Z"
   },
   {
    "duration": 209,
    "start_time": "2021-10-25T09:57:00.391Z"
   },
   {
    "duration": 352,
    "start_time": "2021-10-25T09:57:00.604Z"
   },
   {
    "duration": 39,
    "start_time": "2021-10-25T09:57:00.959Z"
   },
   {
    "duration": 18,
    "start_time": "2021-10-25T09:57:01.001Z"
   },
   {
    "duration": 296,
    "start_time": "2021-10-25T09:57:01.022Z"
   },
   {
    "duration": 114,
    "start_time": "2021-10-25T09:57:01.321Z"
   },
   {
    "duration": 80,
    "start_time": "2021-10-25T09:57:01.437Z"
   },
   {
    "duration": 357,
    "start_time": "2021-10-25T09:57:01.520Z"
   },
   {
    "duration": 348,
    "start_time": "2021-10-25T09:57:01.887Z"
   },
   {
    "duration": 12,
    "start_time": "2021-10-25T09:57:02.238Z"
   },
   {
    "duration": 160,
    "start_time": "2021-10-25T09:57:02.253Z"
   },
   {
    "duration": 306,
    "start_time": "2021-10-25T09:57:02.415Z"
   },
   {
    "duration": 378,
    "start_time": "2021-10-25T09:57:02.724Z"
   },
   {
    "duration": 735,
    "start_time": "2021-10-25T09:57:03.106Z"
   },
   {
    "duration": 759,
    "start_time": "2021-10-25T09:57:03.844Z"
   },
   {
    "duration": 940,
    "start_time": "2021-10-25T09:57:04.606Z"
   },
   {
    "duration": 15,
    "start_time": "2021-10-25T09:57:05.549Z"
   },
   {
    "duration": 21,
    "start_time": "2021-10-25T09:57:05.566Z"
   },
   {
    "duration": 1110,
    "start_time": "2021-10-25T09:57:05.590Z"
   },
   {
    "duration": 170,
    "start_time": "2021-10-25T09:57:22.433Z"
   },
   {
    "duration": 182,
    "start_time": "2021-10-25T09:57:29.972Z"
   },
   {
    "duration": 27,
    "start_time": "2021-10-25T09:57:54.532Z"
   },
   {
    "duration": 15,
    "start_time": "2021-10-25T10:56:45.960Z"
   },
   {
    "duration": 318,
    "start_time": "2021-10-25T10:58:23.323Z"
   },
   {
    "duration": 10222,
    "start_time": "2021-10-25T11:01:00.750Z"
   },
   {
    "duration": 119,
    "start_time": "2021-10-25T11:01:20.755Z"
   },
   {
    "duration": 315,
    "start_time": "2021-10-25T11:11:33.446Z"
   },
   {
    "duration": 1647,
    "start_time": "2021-10-25T11:12:11.097Z"
   },
   {
    "duration": 327,
    "start_time": "2021-10-25T11:12:29.923Z"
   },
   {
    "duration": 512,
    "start_time": "2021-10-25T11:13:22.976Z"
   },
   {
    "duration": 40,
    "start_time": "2021-10-25T11:16:11.234Z"
   },
   {
    "duration": 344,
    "start_time": "2021-10-25T11:27:55.343Z"
   },
   {
    "duration": 327,
    "start_time": "2021-10-25T11:28:29.602Z"
   },
   {
    "duration": 343,
    "start_time": "2021-10-25T11:28:41.815Z"
   },
   {
    "duration": 53,
    "start_time": "2021-10-25T11:29:12.564Z"
   },
   {
    "duration": 335,
    "start_time": "2021-10-25T11:29:16.462Z"
   },
   {
    "duration": 328,
    "start_time": "2021-10-25T11:29:48.473Z"
   },
   {
    "duration": 45,
    "start_time": "2021-10-25T11:30:58.528Z"
   },
   {
    "duration": 53,
    "start_time": "2021-10-25T11:31:56.437Z"
   },
   {
    "duration": 534,
    "start_time": "2021-10-25T11:32:14.841Z"
   },
   {
    "duration": 56,
    "start_time": "2021-10-25T11:32:32.555Z"
   },
   {
    "duration": 46,
    "start_time": "2021-10-25T11:33:49.434Z"
   },
   {
    "duration": 343,
    "start_time": "2021-10-25T11:33:53.285Z"
   },
   {
    "duration": 357,
    "start_time": "2021-10-25T11:34:44.249Z"
   },
   {
    "duration": 48,
    "start_time": "2021-10-25T11:35:09.637Z"
   },
   {
    "duration": 356,
    "start_time": "2021-10-25T11:35:25.298Z"
   },
   {
    "duration": 48,
    "start_time": "2021-10-25T11:35:35.521Z"
   },
   {
    "duration": 55,
    "start_time": "2021-10-25T11:36:47.551Z"
   },
   {
    "duration": 8,
    "start_time": "2021-10-25T11:43:17.702Z"
   },
   {
    "duration": 7880,
    "start_time": "2021-10-25T11:43:34.486Z"
   },
   {
    "duration": 8858,
    "start_time": "2021-10-25T11:44:16.651Z"
   },
   {
    "duration": 10,
    "start_time": "2021-10-25T11:45:10.120Z"
   },
   {
    "duration": 335,
    "start_time": "2021-10-25T11:45:25.891Z"
   },
   {
    "duration": 5,
    "start_time": "2021-10-25T11:45:34.286Z"
   },
   {
    "duration": 6,
    "start_time": "2021-10-25T11:45:41.362Z"
   },
   {
    "duration": 390,
    "start_time": "2021-10-25T11:46:45.516Z"
   },
   {
    "duration": 8757,
    "start_time": "2021-10-25T11:46:58.879Z"
   },
   {
    "duration": -118,
    "start_time": "2021-10-25T11:47:26.835Z"
   },
   {
    "duration": 13,
    "start_time": "2021-10-25T11:47:32.184Z"
   },
   {
    "duration": 5831,
    "start_time": "2021-10-25T11:47:51.213Z"
   },
   {
    "duration": 11,
    "start_time": "2021-10-25T12:24:37.236Z"
   },
   {
    "duration": 57,
    "start_time": "2021-10-25T12:25:34.144Z"
   },
   {
    "duration": 54,
    "start_time": "2021-10-25T12:25:55.880Z"
   },
   {
    "duration": 50,
    "start_time": "2021-10-25T12:26:21.828Z"
   },
   {
    "duration": 360,
    "start_time": "2021-10-25T12:26:22.603Z"
   },
   {
    "duration": 47,
    "start_time": "2021-10-25T12:26:41.489Z"
   },
   {
    "duration": 56,
    "start_time": "2021-10-25T12:26:49.950Z"
   },
   {
    "duration": 50,
    "start_time": "2021-10-25T12:27:10.019Z"
   },
   {
    "duration": 522,
    "start_time": "2021-10-25T12:27:18.060Z"
   },
   {
    "duration": 46,
    "start_time": "2021-10-25T12:27:27.707Z"
   },
   {
    "duration": 45,
    "start_time": "2021-10-25T12:27:38.731Z"
   },
   {
    "duration": 7765,
    "start_time": "2021-10-25T12:27:45.958Z"
   },
   {
    "duration": 49,
    "start_time": "2021-10-25T12:28:13.453Z"
   },
   {
    "duration": 39,
    "start_time": "2021-10-25T12:28:25.020Z"
   },
   {
    "duration": 69,
    "start_time": "2021-10-25T12:28:35.325Z"
   },
   {
    "duration": 40,
    "start_time": "2021-10-25T12:29:04.045Z"
   },
   {
    "duration": 61,
    "start_time": "2021-10-25T12:29:11.553Z"
   },
   {
    "duration": 361,
    "start_time": "2021-10-25T12:29:16.718Z"
   },
   {
    "duration": 350,
    "start_time": "2021-10-25T12:29:41.015Z"
   },
   {
    "duration": 32,
    "start_time": "2021-10-25T12:29:54.331Z"
   },
   {
    "duration": 31,
    "start_time": "2021-10-25T12:30:55.841Z"
   },
   {
    "duration": 95,
    "start_time": "2021-10-25T12:31:28.285Z"
   },
   {
    "duration": 18,
    "start_time": "2021-10-25T12:31:42.637Z"
   },
   {
    "duration": 22,
    "start_time": "2021-10-25T12:32:25.032Z"
   },
   {
    "duration": 9,
    "start_time": "2021-10-25T12:35:04.464Z"
   },
   {
    "duration": 665,
    "start_time": "2021-10-25T12:35:18.951Z"
   },
   {
    "duration": 8,
    "start_time": "2021-10-25T12:35:44.711Z"
   },
   {
    "duration": 29,
    "start_time": "2021-10-25T12:35:48.887Z"
   },
   {
    "duration": 325,
    "start_time": "2021-10-25T12:37:01.475Z"
   },
   {
    "duration": 47,
    "start_time": "2021-10-25T12:37:09.475Z"
   },
   {
    "duration": 104,
    "start_time": "2021-10-25T12:37:40.887Z"
   },
   {
    "duration": 113,
    "start_time": "2021-10-25T12:38:06.325Z"
   },
   {
    "duration": 727,
    "start_time": "2021-10-25T12:38:14.981Z"
   },
   {
    "duration": 37,
    "start_time": "2021-10-25T12:38:27.831Z"
   },
   {
    "duration": 28,
    "start_time": "2021-10-25T12:38:44.365Z"
   },
   {
    "duration": 18,
    "start_time": "2021-10-25T12:39:10.290Z"
   },
   {
    "duration": 12,
    "start_time": "2021-10-25T12:40:27.988Z"
   },
   {
    "duration": 1530,
    "start_time": "2021-10-25T12:40:31.210Z"
   },
   {
    "duration": 302,
    "start_time": "2021-10-25T12:40:40.735Z"
   },
   {
    "duration": 8,
    "start_time": "2021-10-25T12:40:52.143Z"
   },
   {
    "duration": 639,
    "start_time": "2021-10-25T12:40:54.008Z"
   },
   {
    "duration": 293,
    "start_time": "2021-10-25T12:41:05.036Z"
   },
   {
    "duration": 637,
    "start_time": "2021-10-25T12:41:11.503Z"
   },
   {
    "duration": 8,
    "start_time": "2021-10-25T12:41:55.757Z"
   },
   {
    "duration": 658,
    "start_time": "2021-10-25T12:41:57.447Z"
   },
   {
    "duration": 9,
    "start_time": "2021-10-25T12:43:43.034Z"
   },
   {
    "duration": 621,
    "start_time": "2021-10-25T12:43:43.989Z"
   },
   {
    "duration": 9,
    "start_time": "2021-10-25T12:44:00.003Z"
   },
   {
    "duration": 60,
    "start_time": "2021-10-25T12:44:01.269Z"
   },
   {
    "duration": 29,
    "start_time": "2021-10-25T12:45:25.460Z"
   },
   {
    "duration": 43,
    "start_time": "2021-10-25T12:46:20.627Z"
   },
   {
    "duration": 341,
    "start_time": "2021-10-25T12:46:24.124Z"
   },
   {
    "duration": 41,
    "start_time": "2021-10-25T12:46:40.304Z"
   },
   {
    "duration": 344,
    "start_time": "2021-10-25T12:46:49.073Z"
   },
   {
    "duration": 46,
    "start_time": "2021-10-25T12:47:04.241Z"
   },
   {
    "duration": 472,
    "start_time": "2021-10-25T12:47:05.043Z"
   },
   {
    "duration": 12,
    "start_time": "2021-10-25T12:47:40.680Z"
   },
   {
    "duration": 66,
    "start_time": "2021-10-25T12:47:54.867Z"
   },
   {
    "duration": 10,
    "start_time": "2021-10-25T12:49:43.653Z"
   },
   {
    "duration": 69,
    "start_time": "2021-10-25T12:49:50.531Z"
   },
   {
    "duration": 369,
    "start_time": "2021-10-25T12:50:17.033Z"
   },
   {
    "duration": 330,
    "start_time": "2021-10-25T12:51:11.208Z"
   },
   {
    "duration": 10,
    "start_time": "2021-10-25T12:52:08.275Z"
   },
   {
    "duration": 70,
    "start_time": "2021-10-25T12:52:10.479Z"
   },
   {
    "duration": 110,
    "start_time": "2021-10-25T12:52:29.409Z"
   },
   {
    "duration": 114,
    "start_time": "2021-10-25T12:52:57.905Z"
   },
   {
    "duration": 10,
    "start_time": "2021-10-25T12:56:50.996Z"
   },
   {
    "duration": 58,
    "start_time": "2021-10-25T12:56:52.393Z"
   },
   {
    "duration": 376,
    "start_time": "2021-10-25T12:57:02.187Z"
   },
   {
    "duration": 297,
    "start_time": "2021-10-25T12:57:08.848Z"
   },
   {
    "duration": 330,
    "start_time": "2021-10-25T12:58:06.556Z"
   },
   {
    "duration": 323,
    "start_time": "2021-10-25T12:59:09.819Z"
   },
   {
    "duration": 352,
    "start_time": "2021-10-25T13:00:23.964Z"
   },
   {
    "duration": 11,
    "start_time": "2021-10-25T13:04:38.526Z"
   },
   {
    "duration": 59,
    "start_time": "2021-10-25T13:04:57.418Z"
   },
   {
    "duration": 1527,
    "start_time": "2021-10-26T02:20:18.253Z"
   },
   {
    "duration": 121,
    "start_time": "2021-10-26T02:20:19.782Z"
   },
   {
    "duration": 27,
    "start_time": "2021-10-26T02:20:19.905Z"
   },
   {
    "duration": 35,
    "start_time": "2021-10-26T02:20:19.934Z"
   },
   {
    "duration": 26,
    "start_time": "2021-10-26T02:20:19.971Z"
   },
   {
    "duration": 26,
    "start_time": "2021-10-26T02:20:19.998Z"
   },
   {
    "duration": 18,
    "start_time": "2021-10-26T02:20:20.025Z"
   },
   {
    "duration": 25,
    "start_time": "2021-10-26T02:20:20.046Z"
   },
   {
    "duration": 111,
    "start_time": "2021-10-26T02:20:20.073Z"
   },
   {
    "duration": 73,
    "start_time": "2021-10-26T02:20:20.186Z"
   },
   {
    "duration": 15,
    "start_time": "2021-10-26T02:20:20.261Z"
   },
   {
    "duration": 14,
    "start_time": "2021-10-26T02:20:20.277Z"
   },
   {
    "duration": 25,
    "start_time": "2021-10-26T02:20:20.293Z"
   },
   {
    "duration": 35,
    "start_time": "2021-10-26T02:20:20.319Z"
   },
   {
    "duration": 32,
    "start_time": "2021-10-26T02:20:20.355Z"
   },
   {
    "duration": 456,
    "start_time": "2021-10-26T02:20:20.388Z"
   },
   {
    "duration": 7,
    "start_time": "2021-10-26T02:20:20.846Z"
   },
   {
    "duration": 37,
    "start_time": "2021-10-26T02:20:20.854Z"
   },
   {
    "duration": 45,
    "start_time": "2021-10-26T02:20:20.893Z"
   },
   {
    "duration": 13,
    "start_time": "2021-10-26T02:20:20.940Z"
   },
   {
    "duration": 38,
    "start_time": "2021-10-26T02:20:20.955Z"
   },
   {
    "duration": 23,
    "start_time": "2021-10-26T02:20:20.995Z"
   },
   {
    "duration": 306,
    "start_time": "2021-10-26T02:20:21.022Z"
   },
   {
    "duration": 58,
    "start_time": "2021-10-26T02:20:21.331Z"
   },
   {
    "duration": 602,
    "start_time": "2021-10-26T02:20:21.391Z"
   },
   {
    "duration": 6,
    "start_time": "2021-10-26T02:20:21.995Z"
   },
   {
    "duration": 150,
    "start_time": "2021-10-26T02:20:22.002Z"
   },
   {
    "duration": 134,
    "start_time": "2021-10-26T02:20:22.154Z"
   },
   {
    "duration": 16,
    "start_time": "2021-10-26T02:20:22.289Z"
   },
   {
    "duration": 10,
    "start_time": "2021-10-26T02:20:22.306Z"
   },
   {
    "duration": 138,
    "start_time": "2021-10-26T02:20:22.317Z"
   },
   {
    "duration": 58,
    "start_time": "2021-10-26T02:20:22.457Z"
   },
   {
    "duration": 58,
    "start_time": "2021-10-26T02:20:22.516Z"
   },
   {
    "duration": 189,
    "start_time": "2021-10-26T02:20:22.575Z"
   },
   {
    "duration": 5,
    "start_time": "2021-10-26T02:20:22.766Z"
   },
   {
    "duration": 53,
    "start_time": "2021-10-26T02:20:22.773Z"
   },
   {
    "duration": 230,
    "start_time": "2021-10-26T02:20:22.827Z"
   },
   {
    "duration": 209,
    "start_time": "2021-10-26T02:20:23.059Z"
   },
   {
    "duration": 205,
    "start_time": "2021-10-26T02:20:23.269Z"
   },
   {
    "duration": 217,
    "start_time": "2021-10-26T02:20:23.476Z"
   },
   {
    "duration": 7,
    "start_time": "2021-10-26T02:20:23.695Z"
   },
   {
    "duration": 8,
    "start_time": "2021-10-26T02:20:23.704Z"
   },
   {
    "duration": 242,
    "start_time": "2021-10-26T02:20:23.713Z"
   },
   {
    "duration": 6,
    "start_time": "2021-10-26T02:46:39.154Z"
   },
   {
    "duration": 45,
    "start_time": "2021-10-26T02:46:42.700Z"
   },
   {
    "duration": 205,
    "start_time": "2021-10-26T02:46:52.736Z"
   },
   {
    "duration": 6,
    "start_time": "2021-10-26T02:47:05.618Z"
   },
   {
    "duration": 40,
    "start_time": "2021-10-26T02:47:13.796Z"
   },
   {
    "duration": 199,
    "start_time": "2021-10-26T02:47:17.675Z"
   },
   {
    "duration": 1444,
    "start_time": "2021-10-26T03:56:56.765Z"
   },
   {
    "duration": 125,
    "start_time": "2021-10-26T03:56:58.211Z"
   },
   {
    "duration": 28,
    "start_time": "2021-10-26T03:56:58.338Z"
   },
   {
    "duration": 22,
    "start_time": "2021-10-26T03:56:58.368Z"
   },
   {
    "duration": 16,
    "start_time": "2021-10-26T03:56:58.391Z"
   },
   {
    "duration": 19,
    "start_time": "2021-10-26T03:56:58.408Z"
   },
   {
    "duration": 21,
    "start_time": "2021-10-26T03:56:58.429Z"
   },
   {
    "duration": 17,
    "start_time": "2021-10-26T03:56:58.452Z"
   },
   {
    "duration": 109,
    "start_time": "2021-10-26T03:56:58.472Z"
   },
   {
    "duration": 74,
    "start_time": "2021-10-26T03:56:58.583Z"
   },
   {
    "duration": 16,
    "start_time": "2021-10-26T03:56:58.659Z"
   },
   {
    "duration": 11,
    "start_time": "2021-10-26T03:56:58.677Z"
   },
   {
    "duration": 20,
    "start_time": "2021-10-26T03:56:58.690Z"
   },
   {
    "duration": 29,
    "start_time": "2021-10-26T03:56:58.711Z"
   },
   {
    "duration": 16,
    "start_time": "2021-10-26T03:56:58.742Z"
   },
   {
    "duration": 452,
    "start_time": "2021-10-26T03:56:58.760Z"
   },
   {
    "duration": 5,
    "start_time": "2021-10-26T03:56:59.214Z"
   },
   {
    "duration": 27,
    "start_time": "2021-10-26T03:56:59.221Z"
   },
   {
    "duration": 43,
    "start_time": "2021-10-26T03:56:59.250Z"
   },
   {
    "duration": 12,
    "start_time": "2021-10-26T03:56:59.294Z"
   },
   {
    "duration": 52,
    "start_time": "2021-10-26T03:56:59.307Z"
   },
   {
    "duration": 22,
    "start_time": "2021-10-26T03:56:59.361Z"
   },
   {
    "duration": 311,
    "start_time": "2021-10-26T03:56:59.385Z"
   },
   {
    "duration": 57,
    "start_time": "2021-10-26T03:56:59.697Z"
   },
   {
    "duration": 611,
    "start_time": "2021-10-26T03:56:59.755Z"
   },
   {
    "duration": 7,
    "start_time": "2021-10-26T03:57:00.367Z"
   },
   {
    "duration": 99,
    "start_time": "2021-10-26T03:57:00.377Z"
   },
   {
    "duration": 186,
    "start_time": "2021-10-26T03:57:00.478Z"
   },
   {
    "duration": 14,
    "start_time": "2021-10-26T03:57:00.666Z"
   },
   {
    "duration": 10,
    "start_time": "2021-10-26T03:57:00.681Z"
   },
   {
    "duration": 134,
    "start_time": "2021-10-26T03:57:00.693Z"
   },
   {
    "duration": 69,
    "start_time": "2021-10-26T03:57:00.829Z"
   },
   {
    "duration": 51,
    "start_time": "2021-10-26T03:57:00.899Z"
   },
   {
    "duration": 193,
    "start_time": "2021-10-26T03:57:00.952Z"
   },
   {
    "duration": 6,
    "start_time": "2021-10-26T03:57:01.147Z"
   },
   {
    "duration": 57,
    "start_time": "2021-10-26T03:57:01.154Z"
   },
   {
    "duration": 227,
    "start_time": "2021-10-26T03:57:01.213Z"
   },
   {
    "duration": 227,
    "start_time": "2021-10-26T03:57:01.445Z"
   },
   {
    "duration": 230,
    "start_time": "2021-10-26T03:57:01.673Z"
   },
   {
    "duration": 222,
    "start_time": "2021-10-26T03:57:01.905Z"
   },
   {
    "duration": 17,
    "start_time": "2021-10-26T03:57:02.129Z"
   },
   {
    "duration": 9,
    "start_time": "2021-10-26T03:57:02.148Z"
   },
   {
    "duration": 255,
    "start_time": "2021-10-26T03:57:02.159Z"
   },
   {
    "duration": 1397,
    "start_time": "2022-01-28T10:24:28.117Z"
   },
   {
    "duration": 121,
    "start_time": "2022-01-28T10:24:29.516Z"
   },
   {
    "duration": 27,
    "start_time": "2022-01-28T10:24:29.640Z"
   },
   {
    "duration": 22,
    "start_time": "2022-01-28T10:24:29.669Z"
   },
   {
    "duration": 23,
    "start_time": "2022-01-28T10:24:29.693Z"
   },
   {
    "duration": 14,
    "start_time": "2022-01-28T10:24:29.718Z"
   },
   {
    "duration": 8,
    "start_time": "2022-01-28T10:24:29.734Z"
   },
   {
    "duration": 15,
    "start_time": "2022-01-28T10:24:29.744Z"
   },
   {
    "duration": 124,
    "start_time": "2022-01-28T10:24:29.762Z"
   },
   {
    "duration": 72,
    "start_time": "2022-01-28T10:24:29.889Z"
   },
   {
    "duration": 16,
    "start_time": "2022-01-28T10:24:29.963Z"
   },
   {
    "duration": 12,
    "start_time": "2022-01-28T10:24:29.981Z"
   },
   {
    "duration": 22,
    "start_time": "2022-01-28T10:24:29.994Z"
   },
   {
    "duration": 19,
    "start_time": "2022-01-28T10:24:30.017Z"
   },
   {
    "duration": 11,
    "start_time": "2022-01-28T10:24:30.038Z"
   },
   {
    "duration": 511,
    "start_time": "2022-01-28T10:24:30.051Z"
   },
   {
    "duration": 6,
    "start_time": "2022-01-28T10:24:30.563Z"
   },
   {
    "duration": 13,
    "start_time": "2022-01-28T10:24:30.571Z"
   },
   {
    "duration": 60,
    "start_time": "2022-01-28T10:24:30.586Z"
   },
   {
    "duration": 12,
    "start_time": "2022-01-28T10:24:30.648Z"
   },
   {
    "duration": 32,
    "start_time": "2022-01-28T10:24:30.662Z"
   },
   {
    "duration": 23,
    "start_time": "2022-01-28T10:24:30.712Z"
   },
   {
    "duration": 327,
    "start_time": "2022-01-28T10:24:30.736Z"
   },
   {
    "duration": 61,
    "start_time": "2022-01-28T10:24:31.065Z"
   },
   {
    "duration": 590,
    "start_time": "2022-01-28T10:24:31.127Z"
   },
   {
    "duration": 5,
    "start_time": "2022-01-28T10:24:31.719Z"
   },
   {
    "duration": 105,
    "start_time": "2022-01-28T10:24:31.727Z"
   },
   {
    "duration": 181,
    "start_time": "2022-01-28T10:24:31.834Z"
   },
   {
    "duration": 13,
    "start_time": "2022-01-28T10:24:32.017Z"
   },
   {
    "duration": 9,
    "start_time": "2022-01-28T10:24:32.031Z"
   },
   {
    "duration": 128,
    "start_time": "2022-01-28T10:24:32.041Z"
   },
   {
    "duration": 63,
    "start_time": "2022-01-28T10:24:32.171Z"
   },
   {
    "duration": 33,
    "start_time": "2022-01-28T10:24:32.235Z"
   },
   {
    "duration": 219,
    "start_time": "2022-01-28T10:24:32.270Z"
   },
   {
    "duration": 6,
    "start_time": "2022-01-28T10:24:32.490Z"
   },
   {
    "duration": 52,
    "start_time": "2022-01-28T10:24:32.497Z"
   },
   {
    "duration": 232,
    "start_time": "2022-01-28T10:24:32.551Z"
   },
   {
    "duration": 204,
    "start_time": "2022-01-28T10:24:32.784Z"
   },
   {
    "duration": 207,
    "start_time": "2022-01-28T10:24:32.990Z"
   },
   {
    "duration": 216,
    "start_time": "2022-01-28T10:24:33.198Z"
   },
   {
    "duration": 8,
    "start_time": "2022-01-28T10:24:33.415Z"
   },
   {
    "duration": 9,
    "start_time": "2022-01-28T10:24:33.424Z"
   },
   {
    "duration": 230,
    "start_time": "2022-01-28T10:24:33.434Z"
   },
   {
    "duration": 1409,
    "start_time": "2022-02-16T11:04:40.744Z"
   },
   {
    "duration": 128,
    "start_time": "2022-02-16T11:04:42.156Z"
   },
   {
    "duration": 36,
    "start_time": "2022-02-16T11:04:42.287Z"
   },
   {
    "duration": 22,
    "start_time": "2022-02-16T11:04:42.325Z"
   },
   {
    "duration": 8,
    "start_time": "2022-02-16T11:04:42.349Z"
   },
   {
    "duration": 18,
    "start_time": "2022-02-16T11:04:42.359Z"
   },
   {
    "duration": 8,
    "start_time": "2022-02-16T11:04:42.379Z"
   },
   {
    "duration": 35,
    "start_time": "2022-02-16T11:04:42.389Z"
   },
   {
    "duration": 104,
    "start_time": "2022-02-16T11:04:42.426Z"
   },
   {
    "duration": 60,
    "start_time": "2022-02-16T11:04:42.532Z"
   },
   {
    "duration": 24,
    "start_time": "2022-02-16T11:04:42.594Z"
   },
   {
    "duration": 11,
    "start_time": "2022-02-16T11:04:42.620Z"
   },
   {
    "duration": 5,
    "start_time": "2022-02-16T11:04:42.632Z"
   },
   {
    "duration": 15,
    "start_time": "2022-02-16T11:04:42.639Z"
   },
   {
    "duration": 5,
    "start_time": "2022-02-16T11:04:42.656Z"
   },
   {
    "duration": 549,
    "start_time": "2022-02-16T11:04:42.663Z"
   },
   {
    "duration": 6,
    "start_time": "2022-02-16T11:04:43.214Z"
   },
   {
    "duration": 12,
    "start_time": "2022-02-16T11:04:43.221Z"
   },
   {
    "duration": 43,
    "start_time": "2022-02-16T11:04:43.234Z"
   },
   {
    "duration": 40,
    "start_time": "2022-02-16T11:04:43.278Z"
   },
   {
    "duration": 32,
    "start_time": "2022-02-16T11:04:43.320Z"
   },
   {
    "duration": 22,
    "start_time": "2022-02-16T11:04:43.353Z"
   },
   {
    "duration": 365,
    "start_time": "2022-02-16T11:04:43.378Z"
   },
   {
    "duration": 50,
    "start_time": "2022-02-16T11:04:43.744Z"
   },
   {
    "duration": 630,
    "start_time": "2022-02-16T11:04:43.796Z"
   },
   {
    "duration": 6,
    "start_time": "2022-02-16T11:04:44.427Z"
   },
   {
    "duration": 103,
    "start_time": "2022-02-16T11:04:44.434Z"
   },
   {
    "duration": 215,
    "start_time": "2022-02-16T11:04:44.538Z"
   },
   {
    "duration": 14,
    "start_time": "2022-02-16T11:04:44.755Z"
   },
   {
    "duration": 11,
    "start_time": "2022-02-16T11:04:44.771Z"
   },
   {
    "duration": 153,
    "start_time": "2022-02-16T11:04:44.783Z"
   },
   {
    "duration": 83,
    "start_time": "2022-02-16T11:04:44.938Z"
   },
   {
    "duration": 36,
    "start_time": "2022-02-16T11:04:45.023Z"
   },
   {
    "duration": 223,
    "start_time": "2022-02-16T11:04:45.061Z"
   },
   {
    "duration": 6,
    "start_time": "2022-02-16T11:04:45.287Z"
   },
   {
    "duration": 55,
    "start_time": "2022-02-16T11:04:45.294Z"
   },
   {
    "duration": 231,
    "start_time": "2022-02-16T11:04:45.351Z"
   },
   {
    "duration": 217,
    "start_time": "2022-02-16T11:04:45.584Z"
   },
   {
    "duration": 236,
    "start_time": "2022-02-16T11:04:45.802Z"
   },
   {
    "duration": 223,
    "start_time": "2022-02-16T11:04:46.040Z"
   },
   {
    "duration": 7,
    "start_time": "2022-02-16T11:04:46.265Z"
   },
   {
    "duration": 8,
    "start_time": "2022-02-16T11:04:46.273Z"
   },
   {
    "duration": 243,
    "start_time": "2022-02-16T11:04:46.282Z"
   }
  ],
  "kernelspec": {
   "display_name": "Python 3.11.0 64-bit",
   "language": "python",
   "name": "python3"
  },
  "language_info": {
   "codemirror_mode": {
    "name": "ipython",
    "version": 3
   },
   "file_extension": ".py",
   "mimetype": "text/x-python",
   "name": "python",
   "nbconvert_exporter": "python",
   "pygments_lexer": "ipython3",
   "version": "3.11.0"
  },
  "toc": {
   "base_numbering": 1,
   "nav_menu": {},
   "number_sections": true,
   "sideBar": true,
   "skip_h1_title": true,
   "title_cell": "Содержание",
   "title_sidebar": "Содержание",
   "toc_cell": true,
   "toc_position": {
    "height": "calc(100% - 180px)",
    "left": "10px",
    "top": "150px",
    "width": "386.215px"
   },
   "toc_section_display": true,
   "toc_window_display": true
  },
  "vscode": {
   "interpreter": {
    "hash": "aee8b7b246df8f9039afb4144a1f6fd8d2ca17a180786b69acc140d282b71a49"
   }
  }
 },
 "nbformat": 4,
 "nbformat_minor": 2
}
