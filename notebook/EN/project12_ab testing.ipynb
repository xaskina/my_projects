{
 "cells": [
  {
   "cell_type": "markdown",
   "metadata": {},
   "source": [
    "# A/B testing project\n",
    "\n",
    "<b> Terms of Reference: </b>\n",
    "* Test name: recommender_system_test;\n",
    "* Groups: A (control), B (new payment funnel);\n",
    "* Launch Date: 2020-12-07;\n",
    "* Date of stopping the recruitment of new users: 2020-12-21;\n",
    "* Stop date: 2021-01-04;\n",
    "* Audience: 15% of new users from the EU region;\n",
    "* Purpose of the test: testing of changes related to the implementation of an improved recommendation system;\n",
    "* Expected number of test participants: 6000.\n",
    "* Expected effect: in 14 days from the moment of registration in the system, users will show an improvement in each metric by at least 10%:\n",
    "* conversions to viewing product cards — the product_page event\n",
    "* basket views — product_cart\n",
    "    * purchases — purchase.\n",
    "      \n",
    "<b> Data: </b>\n",
    "- ab_project_marketing_events.csv — calendar of marketing events for 2020;\n",
    "- final_ab_new_users.csv — all users who registered in the online store in the period from December 7 to December 21, 2020;\n",
    "- final_ab_events.csv — all events of new users in the period from December 7, 2020 to January 4, 2021;\n",
    "- final_ab_participants.csv — table of test participants.\n",
    "\n",
    "<b> Research objectives: </b>\n",
    "- Assessment of the correctness of the test;\n",
    "- Analysis of test results."
   ]
  },
  {
   "cell_type": "markdown",
   "metadata": {},
   "source": [
    "## Data Preparation and Exploration"
   ]
  },
  {
   "cell_type": "code",
   "execution_count": 201,
   "metadata": {},
   "outputs": [],
   "source": [
    "import pandas as pd\n",
    "import numpy as np\n",
    "import math as mth\n",
    "import datetime as dt\n",
    "import scipy.stats as stats\n",
    "import matplotlib.pyplot as plt\n",
    "import plotly.express as px\n",
    "from scipy import stats as st\n",
    "from plotly import graph_objects as go\n",
    "from IPython.core.interactiveshell import InteractiveShell\n",
    "InteractiveShell.ast_node_interactivity = \"all\"\n",
    "import warnings\n",
    "warnings.filterwarnings('ignore')"
   ]
  },
  {
   "cell_type": "code",
   "execution_count": 202,
   "metadata": {},
   "outputs": [],
   "source": [
    "marketing_events = pd.read_csv('/Users/vintera/Git/my_projects/dataset/project_12/ab_project_marketing_events.csv')\n",
    "users = pd.read_csv('/Users/vintera/Git/my_projects/dataset/project_12/final_ab_new_users.csv')\n",
    "events = pd.read_csv('/Users/vintera/Git/my_projects/dataset/project_12/final_ab_events.csv')\n",
    "participants = pd.read_csv('/Users/vintera/Git/my_projects/dataset/project_12/final_ab_participants.csv')"
   ]
  },
  {
   "cell_type": "code",
   "execution_count": 203,
   "metadata": {},
   "outputs": [
    {
     "data": {
      "text/html": [
       "<div>\n",
       "<style scoped>\n",
       "    .dataframe tbody tr th:only-of-type {\n",
       "        vertical-align: middle;\n",
       "    }\n",
       "\n",
       "    .dataframe tbody tr th {\n",
       "        vertical-align: top;\n",
       "    }\n",
       "\n",
       "    .dataframe thead th {\n",
       "        text-align: right;\n",
       "    }\n",
       "</style>\n",
       "<table border=\"1\" class=\"dataframe\">\n",
       "  <thead>\n",
       "    <tr style=\"text-align: right;\">\n",
       "      <th></th>\n",
       "      <th>name</th>\n",
       "      <th>regions</th>\n",
       "      <th>start_dt</th>\n",
       "      <th>finish_dt</th>\n",
       "    </tr>\n",
       "  </thead>\n",
       "  <tbody>\n",
       "    <tr>\n",
       "      <th>0</th>\n",
       "      <td>Christmas&amp;New Year Promo</td>\n",
       "      <td>EU, N.America</td>\n",
       "      <td>2020-12-25</td>\n",
       "      <td>2021-01-03</td>\n",
       "    </tr>\n",
       "    <tr>\n",
       "      <th>1</th>\n",
       "      <td>St. Valentine's Day Giveaway</td>\n",
       "      <td>EU, CIS, APAC, N.America</td>\n",
       "      <td>2020-02-14</td>\n",
       "      <td>2020-02-16</td>\n",
       "    </tr>\n",
       "    <tr>\n",
       "      <th>2</th>\n",
       "      <td>St. Patric's Day Promo</td>\n",
       "      <td>EU, N.America</td>\n",
       "      <td>2020-03-17</td>\n",
       "      <td>2020-03-19</td>\n",
       "    </tr>\n",
       "    <tr>\n",
       "      <th>3</th>\n",
       "      <td>Easter Promo</td>\n",
       "      <td>EU, CIS, APAC, N.America</td>\n",
       "      <td>2020-04-12</td>\n",
       "      <td>2020-04-19</td>\n",
       "    </tr>\n",
       "    <tr>\n",
       "      <th>4</th>\n",
       "      <td>4th of July Promo</td>\n",
       "      <td>N.America</td>\n",
       "      <td>2020-07-04</td>\n",
       "      <td>2020-07-11</td>\n",
       "    </tr>\n",
       "    <tr>\n",
       "      <th>5</th>\n",
       "      <td>Black Friday Ads Campaign</td>\n",
       "      <td>EU, CIS, APAC, N.America</td>\n",
       "      <td>2020-11-26</td>\n",
       "      <td>2020-12-01</td>\n",
       "    </tr>\n",
       "    <tr>\n",
       "      <th>6</th>\n",
       "      <td>Chinese New Year Promo</td>\n",
       "      <td>APAC</td>\n",
       "      <td>2020-01-25</td>\n",
       "      <td>2020-02-07</td>\n",
       "    </tr>\n",
       "    <tr>\n",
       "      <th>7</th>\n",
       "      <td>Labor day (May 1st) Ads Campaign</td>\n",
       "      <td>EU, CIS, APAC</td>\n",
       "      <td>2020-05-01</td>\n",
       "      <td>2020-05-03</td>\n",
       "    </tr>\n",
       "    <tr>\n",
       "      <th>8</th>\n",
       "      <td>International Women's Day Promo</td>\n",
       "      <td>EU, CIS, APAC</td>\n",
       "      <td>2020-03-08</td>\n",
       "      <td>2020-03-10</td>\n",
       "    </tr>\n",
       "    <tr>\n",
       "      <th>9</th>\n",
       "      <td>Victory Day CIS (May 9th) Event</td>\n",
       "      <td>CIS</td>\n",
       "      <td>2020-05-09</td>\n",
       "      <td>2020-05-11</td>\n",
       "    </tr>\n",
       "    <tr>\n",
       "      <th>10</th>\n",
       "      <td>CIS New Year Gift Lottery</td>\n",
       "      <td>CIS</td>\n",
       "      <td>2020-12-30</td>\n",
       "      <td>2021-01-07</td>\n",
       "    </tr>\n",
       "    <tr>\n",
       "      <th>11</th>\n",
       "      <td>Dragon Boat Festival Giveaway</td>\n",
       "      <td>APAC</td>\n",
       "      <td>2020-06-25</td>\n",
       "      <td>2020-07-01</td>\n",
       "    </tr>\n",
       "    <tr>\n",
       "      <th>12</th>\n",
       "      <td>Single's Day Gift Promo</td>\n",
       "      <td>APAC</td>\n",
       "      <td>2020-11-11</td>\n",
       "      <td>2020-11-12</td>\n",
       "    </tr>\n",
       "    <tr>\n",
       "      <th>13</th>\n",
       "      <td>Chinese Moon Festival</td>\n",
       "      <td>APAC</td>\n",
       "      <td>2020-10-01</td>\n",
       "      <td>2020-10-07</td>\n",
       "    </tr>\n",
       "  </tbody>\n",
       "</table>\n",
       "</div>"
      ],
      "text/plain": [
       "                                name                   regions    start_dt  \\\n",
       "0           Christmas&New Year Promo             EU, N.America  2020-12-25   \n",
       "1       St. Valentine's Day Giveaway  EU, CIS, APAC, N.America  2020-02-14   \n",
       "2             St. Patric's Day Promo             EU, N.America  2020-03-17   \n",
       "3                       Easter Promo  EU, CIS, APAC, N.America  2020-04-12   \n",
       "4                  4th of July Promo                 N.America  2020-07-04   \n",
       "5          Black Friday Ads Campaign  EU, CIS, APAC, N.America  2020-11-26   \n",
       "6             Chinese New Year Promo                      APAC  2020-01-25   \n",
       "7   Labor day (May 1st) Ads Campaign             EU, CIS, APAC  2020-05-01   \n",
       "8    International Women's Day Promo             EU, CIS, APAC  2020-03-08   \n",
       "9    Victory Day CIS (May 9th) Event                       CIS  2020-05-09   \n",
       "10         CIS New Year Gift Lottery                       CIS  2020-12-30   \n",
       "11     Dragon Boat Festival Giveaway                      APAC  2020-06-25   \n",
       "12           Single's Day Gift Promo                      APAC  2020-11-11   \n",
       "13             Chinese Moon Festival                      APAC  2020-10-01   \n",
       "\n",
       "     finish_dt  \n",
       "0   2021-01-03  \n",
       "1   2020-02-16  \n",
       "2   2020-03-19  \n",
       "3   2020-04-19  \n",
       "4   2020-07-11  \n",
       "5   2020-12-01  \n",
       "6   2020-02-07  \n",
       "7   2020-05-03  \n",
       "8   2020-03-10  \n",
       "9   2020-05-11  \n",
       "10  2021-01-07  \n",
       "11  2020-07-01  \n",
       "12  2020-11-12  \n",
       "13  2020-10-07  "
      ]
     },
     "execution_count": 203,
     "metadata": {},
     "output_type": "execute_result"
    },
    {
     "name": "stdout",
     "output_type": "stream",
     "text": [
      "<class 'pandas.core.frame.DataFrame'>\n",
      "RangeIndex: 14 entries, 0 to 13\n",
      "Data columns (total 4 columns):\n",
      " #   Column     Non-Null Count  Dtype \n",
      "---  ------     --------------  ----- \n",
      " 0   name       14 non-null     object\n",
      " 1   regions    14 non-null     object\n",
      " 2   start_dt   14 non-null     object\n",
      " 3   finish_dt  14 non-null     object\n",
      "dtypes: object(4)\n",
      "memory usage: 576.0+ bytes\n"
     ]
    }
   ],
   "source": [
    "marketing_events\n",
    "marketing_events.info()"
   ]
  },
  {
   "cell_type": "code",
   "execution_count": 204,
   "metadata": {},
   "outputs": [
    {
     "data": {
      "text/html": [
       "<div>\n",
       "<style scoped>\n",
       "    .dataframe tbody tr th:only-of-type {\n",
       "        vertical-align: middle;\n",
       "    }\n",
       "\n",
       "    .dataframe tbody tr th {\n",
       "        vertical-align: top;\n",
       "    }\n",
       "\n",
       "    .dataframe thead th {\n",
       "        text-align: right;\n",
       "    }\n",
       "</style>\n",
       "<table border=\"1\" class=\"dataframe\">\n",
       "  <thead>\n",
       "    <tr style=\"text-align: right;\">\n",
       "      <th></th>\n",
       "      <th>user_id</th>\n",
       "      <th>first_date</th>\n",
       "      <th>region</th>\n",
       "      <th>device</th>\n",
       "    </tr>\n",
       "  </thead>\n",
       "  <tbody>\n",
       "    <tr>\n",
       "      <th>49747</th>\n",
       "      <td>3DC81C2669E3EEF2</td>\n",
       "      <td>2020-12-19</td>\n",
       "      <td>EU</td>\n",
       "      <td>PC</td>\n",
       "    </tr>\n",
       "    <tr>\n",
       "      <th>35660</th>\n",
       "      <td>7C908A054B623C5A</td>\n",
       "      <td>2020-12-10</td>\n",
       "      <td>EU</td>\n",
       "      <td>Android</td>\n",
       "    </tr>\n",
       "    <tr>\n",
       "      <th>49819</th>\n",
       "      <td>25AFE52E8B033172</td>\n",
       "      <td>2020-12-19</td>\n",
       "      <td>N.America</td>\n",
       "      <td>Android</td>\n",
       "    </tr>\n",
       "    <tr>\n",
       "      <th>51579</th>\n",
       "      <td>3D244BFFB35D8CFC</td>\n",
       "      <td>2020-12-19</td>\n",
       "      <td>N.America</td>\n",
       "      <td>Android</td>\n",
       "    </tr>\n",
       "    <tr>\n",
       "      <th>3412</th>\n",
       "      <td>A13077E1AAA391DD</td>\n",
       "      <td>2020-12-07</td>\n",
       "      <td>EU</td>\n",
       "      <td>Android</td>\n",
       "    </tr>\n",
       "  </tbody>\n",
       "</table>\n",
       "</div>"
      ],
      "text/plain": [
       "                user_id  first_date     region   device\n",
       "49747  3DC81C2669E3EEF2  2020-12-19         EU       PC\n",
       "35660  7C908A054B623C5A  2020-12-10         EU  Android\n",
       "49819  25AFE52E8B033172  2020-12-19  N.America  Android\n",
       "51579  3D244BFFB35D8CFC  2020-12-19  N.America  Android\n",
       "3412   A13077E1AAA391DD  2020-12-07         EU  Android"
      ]
     },
     "execution_count": 204,
     "metadata": {},
     "output_type": "execute_result"
    },
    {
     "name": "stdout",
     "output_type": "stream",
     "text": [
      "<class 'pandas.core.frame.DataFrame'>\n",
      "RangeIndex: 61733 entries, 0 to 61732\n",
      "Data columns (total 4 columns):\n",
      " #   Column      Non-Null Count  Dtype \n",
      "---  ------      --------------  ----- \n",
      " 0   user_id     61733 non-null  object\n",
      " 1   first_date  61733 non-null  object\n",
      " 2   region      61733 non-null  object\n",
      " 3   device      61733 non-null  object\n",
      "dtypes: object(4)\n",
      "memory usage: 1.9+ MB\n"
     ]
    }
   ],
   "source": [
    "users.sample(5)\n",
    "users.info()"
   ]
  },
  {
   "cell_type": "code",
   "execution_count": 205,
   "metadata": {},
   "outputs": [
    {
     "data": {
      "text/html": [
       "<div>\n",
       "<style scoped>\n",
       "    .dataframe tbody tr th:only-of-type {\n",
       "        vertical-align: middle;\n",
       "    }\n",
       "\n",
       "    .dataframe tbody tr th {\n",
       "        vertical-align: top;\n",
       "    }\n",
       "\n",
       "    .dataframe thead th {\n",
       "        text-align: right;\n",
       "    }\n",
       "</style>\n",
       "<table border=\"1\" class=\"dataframe\">\n",
       "  <thead>\n",
       "    <tr style=\"text-align: right;\">\n",
       "      <th></th>\n",
       "      <th>user_id</th>\n",
       "      <th>event_dt</th>\n",
       "      <th>event_name</th>\n",
       "      <th>details</th>\n",
       "    </tr>\n",
       "  </thead>\n",
       "  <tbody>\n",
       "    <tr>\n",
       "      <th>392962</th>\n",
       "      <td>73CF1355CC711498</td>\n",
       "      <td>2020-12-22 10:43:09</td>\n",
       "      <td>login</td>\n",
       "      <td>NaN</td>\n",
       "    </tr>\n",
       "    <tr>\n",
       "      <th>138244</th>\n",
       "      <td>E58765D4936EF8FD</td>\n",
       "      <td>2020-12-10 17:55:29</td>\n",
       "      <td>product_page</td>\n",
       "      <td>NaN</td>\n",
       "    </tr>\n",
       "    <tr>\n",
       "      <th>158269</th>\n",
       "      <td>85AF3968F5535E39</td>\n",
       "      <td>2020-12-14 06:01:45</td>\n",
       "      <td>product_page</td>\n",
       "      <td>NaN</td>\n",
       "    </tr>\n",
       "    <tr>\n",
       "      <th>148870</th>\n",
       "      <td>FEC9089D2A4D1BA1</td>\n",
       "      <td>2020-12-13 00:51:40</td>\n",
       "      <td>product_page</td>\n",
       "      <td>NaN</td>\n",
       "    </tr>\n",
       "    <tr>\n",
       "      <th>32128</th>\n",
       "      <td>DBD606A00777E27D</td>\n",
       "      <td>2020-12-19 10:32:36</td>\n",
       "      <td>purchase</td>\n",
       "      <td>4.99</td>\n",
       "    </tr>\n",
       "  </tbody>\n",
       "</table>\n",
       "</div>"
      ],
      "text/plain": [
       "                 user_id             event_dt    event_name  details\n",
       "392962  73CF1355CC711498  2020-12-22 10:43:09         login      NaN\n",
       "138244  E58765D4936EF8FD  2020-12-10 17:55:29  product_page      NaN\n",
       "158269  85AF3968F5535E39  2020-12-14 06:01:45  product_page      NaN\n",
       "148870  FEC9089D2A4D1BA1  2020-12-13 00:51:40  product_page      NaN\n",
       "32128   DBD606A00777E27D  2020-12-19 10:32:36      purchase     4.99"
      ]
     },
     "execution_count": 205,
     "metadata": {},
     "output_type": "execute_result"
    },
    {
     "name": "stdout",
     "output_type": "stream",
     "text": [
      "<class 'pandas.core.frame.DataFrame'>\n",
      "RangeIndex: 440317 entries, 0 to 440316\n",
      "Data columns (total 4 columns):\n",
      " #   Column      Non-Null Count   Dtype  \n",
      "---  ------      --------------   -----  \n",
      " 0   user_id     440317 non-null  object \n",
      " 1   event_dt    440317 non-null  object \n",
      " 2   event_name  440317 non-null  object \n",
      " 3   details     62740 non-null   float64\n",
      "dtypes: float64(1), object(3)\n",
      "memory usage: 13.4+ MB\n"
     ]
    }
   ],
   "source": [
    "events.sample(5)\n",
    "events.info()"
   ]
  },
  {
   "cell_type": "code",
   "execution_count": 206,
   "metadata": {
    "scrolled": true
   },
   "outputs": [
    {
     "data": {
      "text/html": [
       "<div>\n",
       "<style scoped>\n",
       "    .dataframe tbody tr th:only-of-type {\n",
       "        vertical-align: middle;\n",
       "    }\n",
       "\n",
       "    .dataframe tbody tr th {\n",
       "        vertical-align: top;\n",
       "    }\n",
       "\n",
       "    .dataframe thead th {\n",
       "        text-align: right;\n",
       "    }\n",
       "</style>\n",
       "<table border=\"1\" class=\"dataframe\">\n",
       "  <thead>\n",
       "    <tr style=\"text-align: right;\">\n",
       "      <th></th>\n",
       "      <th>user_id</th>\n",
       "      <th>group</th>\n",
       "      <th>ab_test</th>\n",
       "    </tr>\n",
       "  </thead>\n",
       "  <tbody>\n",
       "    <tr>\n",
       "      <th>18172</th>\n",
       "      <td>8F3559A16ADC8D54</td>\n",
       "      <td>A</td>\n",
       "      <td>interface_eu_test</td>\n",
       "    </tr>\n",
       "    <tr>\n",
       "      <th>14206</th>\n",
       "      <td>6B280A59E356C47B</td>\n",
       "      <td>A</td>\n",
       "      <td>interface_eu_test</td>\n",
       "    </tr>\n",
       "    <tr>\n",
       "      <th>11261</th>\n",
       "      <td>9949A6B619681862</td>\n",
       "      <td>A</td>\n",
       "      <td>interface_eu_test</td>\n",
       "    </tr>\n",
       "    <tr>\n",
       "      <th>15375</th>\n",
       "      <td>546BB65F575BA3CB</td>\n",
       "      <td>A</td>\n",
       "      <td>interface_eu_test</td>\n",
       "    </tr>\n",
       "    <tr>\n",
       "      <th>6382</th>\n",
       "      <td>2073AB360C197095</td>\n",
       "      <td>A</td>\n",
       "      <td>recommender_system_test</td>\n",
       "    </tr>\n",
       "  </tbody>\n",
       "</table>\n",
       "</div>"
      ],
      "text/plain": [
       "                user_id group                  ab_test\n",
       "18172  8F3559A16ADC8D54     A        interface_eu_test\n",
       "14206  6B280A59E356C47B     A        interface_eu_test\n",
       "11261  9949A6B619681862     A        interface_eu_test\n",
       "15375  546BB65F575BA3CB     A        interface_eu_test\n",
       "6382   2073AB360C197095     A  recommender_system_test"
      ]
     },
     "execution_count": 206,
     "metadata": {},
     "output_type": "execute_result"
    },
    {
     "name": "stdout",
     "output_type": "stream",
     "text": [
      "<class 'pandas.core.frame.DataFrame'>\n",
      "RangeIndex: 18268 entries, 0 to 18267\n",
      "Data columns (total 3 columns):\n",
      " #   Column   Non-Null Count  Dtype \n",
      "---  ------   --------------  ----- \n",
      " 0   user_id  18268 non-null  object\n",
      " 1   group    18268 non-null  object\n",
      " 2   ab_test  18268 non-null  object\n",
      "dtypes: object(3)\n",
      "memory usage: 428.3+ KB\n"
     ]
    }
   ],
   "source": [
    "participants.sample(5)\n",
    "participants.info()"
   ]
  },
  {
   "cell_type": "markdown",
   "metadata": {},
   "source": [
    "### Summary\n",
    "During the initial acquaintance with the data, it was found that the dates are specified in the object format, which will need to be corrected in the data preprocessing."
   ]
  },
  {
   "cell_type": "markdown",
   "metadata": {},
   "source": [
    "## Data preprocessing and research"
   ]
  },
  {
   "cell_type": "code",
   "execution_count": 207,
   "metadata": {},
   "outputs": [],
   "source": [
    "# Convert columns with dates in all dataframes to the appropriate format\n",
    "marketing_events['start_dt'] = marketing_events['start_dt'].map(lambda x: dt.datetime.strptime(x, '%Y-%m-%d'))\n",
    "marketing_events['finish_dt'] = marketing_events['finish_dt'].map(lambda x: dt.datetime.strptime(x, '%Y-%m-%d'))\n",
    "users['first_date'] = users['first_date'].map(lambda x: dt.datetime.strptime(x, '%Y-%m-%d'))\n",
    "events['event_dt'] = events['event_dt'].map(lambda x: dt.datetime.strptime(x, '%Y-%m-%d %H:%M:%S'))\n",
    "# In the event table, add a new column containing dates\n",
    "events['date'] = events['event_dt'].astype('datetime64[D]')"
   ]
  },
  {
   "cell_type": "code",
   "execution_count": 208,
   "metadata": {},
   "outputs": [
    {
     "data": {
      "text/plain": [
       "0"
      ]
     },
     "execution_count": 208,
     "metadata": {},
     "output_type": "execute_result"
    },
    {
     "data": {
      "text/plain": [
       "0"
      ]
     },
     "execution_count": 208,
     "metadata": {},
     "output_type": "execute_result"
    },
    {
     "data": {
      "text/plain": [
       "0"
      ]
     },
     "execution_count": 208,
     "metadata": {},
     "output_type": "execute_result"
    }
   ],
   "source": [
    "# We will check for complete duplicates\n",
    "users.duplicated().sum()\n",
    "events.duplicated().sum()\n",
    "participants.duplicated().sum()"
   ]
  },
  {
   "cell_type": "markdown",
   "metadata": {},
   "source": [
    "### Comment\n",
    "There are no duplicates in the data"
   ]
  },
  {
   "cell_type": "code",
   "execution_count": 209,
   "metadata": {
    "scrolled": false
   },
   "outputs": [
    {
     "data": {
      "text/plain": [
       "user_id       377577\n",
       "event_dt      377577\n",
       "event_name    377577\n",
       "details            0\n",
       "date          377577\n",
       "dtype: int64"
      ]
     },
     "execution_count": 209,
     "metadata": {},
     "output_type": "execute_result"
    },
    {
     "data": {
      "text/plain": [
       "user_id       62740\n",
       "event_dt      62740\n",
       "event_name    62740\n",
       "details       62740\n",
       "date          62740\n",
       "dtype: int64"
      ]
     },
     "execution_count": 209,
     "metadata": {},
     "output_type": "execute_result"
    }
   ],
   "source": [
    "events.query('event_name != \"purchase\"').count()\n",
    "events.query('event_name == \"purchase\"').count()"
   ]
  },
  {
   "cell_type": "markdown",
   "metadata": {},
   "source": [
    "### Comment\n",
    "The omissions are available exclusively in the details column of the event table, since it contains information only for purchase events. We will not change anything."
   ]
  },
  {
   "cell_type": "markdown",
   "metadata": {},
   "source": [
    "### Preparation of data in accordance with the TOR"
   ]
  },
  {
   "cell_type": "code",
   "execution_count": 210,
   "metadata": {},
   "outputs": [
    {
     "data": {
      "text/plain": [
       "Timestamp('2020-12-07 00:00:00')"
      ]
     },
     "execution_count": 210,
     "metadata": {},
     "output_type": "execute_result"
    },
    {
     "data": {
      "text/plain": [
       "Timestamp('2020-12-23 00:00:00')"
      ]
     },
     "execution_count": 210,
     "metadata": {},
     "output_type": "execute_result"
    }
   ],
   "source": [
    "users.first_date.min()\n",
    "users.first_date.max()"
   ]
  },
  {
   "cell_type": "markdown",
   "metadata": {},
   "source": [
    "#### Comment\n",
    "New users are recruited until December 23, 2020. We will leave the data on users typed up to and including December 21, in accordance with the requirements of the TOR."
   ]
  },
  {
   "cell_type": "code",
   "execution_count": 211,
   "metadata": {
    "scrolled": true
   },
   "outputs": [
    {
     "data": {
      "text/html": [
       "<div>\n",
       "<style scoped>\n",
       "    .dataframe tbody tr th:only-of-type {\n",
       "        vertical-align: middle;\n",
       "    }\n",
       "\n",
       "    .dataframe tbody tr th {\n",
       "        vertical-align: top;\n",
       "    }\n",
       "\n",
       "    .dataframe thead th {\n",
       "        text-align: right;\n",
       "    }\n",
       "</style>\n",
       "<table border=\"1\" class=\"dataframe\">\n",
       "  <thead>\n",
       "    <tr style=\"text-align: right;\">\n",
       "      <th></th>\n",
       "      <th>user_id</th>\n",
       "      <th>first_date</th>\n",
       "      <th>region</th>\n",
       "      <th>device</th>\n",
       "    </tr>\n",
       "  </thead>\n",
       "  <tbody>\n",
       "    <tr>\n",
       "      <th>count</th>\n",
       "      <td>56470</td>\n",
       "      <td>56470</td>\n",
       "      <td>56470</td>\n",
       "      <td>56470</td>\n",
       "    </tr>\n",
       "    <tr>\n",
       "      <th>unique</th>\n",
       "      <td>56470</td>\n",
       "      <td>15</td>\n",
       "      <td>4</td>\n",
       "      <td>4</td>\n",
       "    </tr>\n",
       "    <tr>\n",
       "      <th>top</th>\n",
       "      <td>D72A72121175D8BE</td>\n",
       "      <td>2020-12-21 00:00:00</td>\n",
       "      <td>EU</td>\n",
       "      <td>Android</td>\n",
       "    </tr>\n",
       "    <tr>\n",
       "      <th>freq</th>\n",
       "      <td>1</td>\n",
       "      <td>6290</td>\n",
       "      <td>42340</td>\n",
       "      <td>25161</td>\n",
       "    </tr>\n",
       "    <tr>\n",
       "      <th>first</th>\n",
       "      <td>NaN</td>\n",
       "      <td>2020-12-07 00:00:00</td>\n",
       "      <td>NaN</td>\n",
       "      <td>NaN</td>\n",
       "    </tr>\n",
       "    <tr>\n",
       "      <th>last</th>\n",
       "      <td>NaN</td>\n",
       "      <td>2020-12-21 00:00:00</td>\n",
       "      <td>NaN</td>\n",
       "      <td>NaN</td>\n",
       "    </tr>\n",
       "  </tbody>\n",
       "</table>\n",
       "</div>"
      ],
      "text/plain": [
       "                 user_id           first_date region   device\n",
       "count              56470                56470  56470    56470\n",
       "unique             56470                   15      4        4\n",
       "top     D72A72121175D8BE  2020-12-21 00:00:00     EU  Android\n",
       "freq                   1                 6290  42340    25161\n",
       "first                NaN  2020-12-07 00:00:00    NaN      NaN\n",
       "last                 NaN  2020-12-21 00:00:00    NaN      NaN"
      ]
     },
     "execution_count": 211,
     "metadata": {},
     "output_type": "execute_result"
    }
   ],
   "source": [
    "spec_users = users.query('first_date <= \"2020-12-21\"')\n",
    "spec_users.describe()"
   ]
  },
  {
   "cell_type": "markdown",
   "metadata": {},
   "source": [
    "#### Comment\n",
    "We have 56470 new users left, recruited before December 21"
   ]
  },
  {
   "cell_type": "code",
   "execution_count": 212,
   "metadata": {
    "scrolled": false
   },
   "outputs": [
    {
     "data": {
      "text/plain": [
       "count                  440317\n",
       "unique                 267268\n",
       "top       2020-12-23 02:37:24\n",
       "freq                       10\n",
       "first     2020-12-07 00:00:33\n",
       "last      2020-12-30 23:36:33\n",
       "Name: event_dt, dtype: object"
      ]
     },
     "execution_count": 212,
     "metadata": {},
     "output_type": "execute_result"
    }
   ],
   "source": [
    "events.event_dt.describe()"
   ]
  },
  {
   "cell_type": "markdown",
   "metadata": {},
   "source": [
    "#### Comment\n",
    "Unfortunately, event data was collected only until 2020-12-30 23:36:33, and according to the technical specification, the test stop date is 2021-01-04. We will work with the available data."
   ]
  },
  {
   "cell_type": "code",
   "execution_count": 213,
   "metadata": {},
   "outputs": [
    {
     "data": {
      "text/plain": [
       "6701"
      ]
     },
     "execution_count": 213,
     "metadata": {},
     "output_type": "execute_result"
    }
   ],
   "source": [
    "spec_participants = participants.query('ab_test == \"recommender_system_test\"')\n",
    "len(spec_participants)"
   ]
  },
  {
   "cell_type": "markdown",
   "metadata": {},
   "source": [
    "#### Comment\n",
    "6701 users participated in the \"recommender_system_test\". Let's check if the users were repeated in two groups."
   ]
  },
  {
   "cell_type": "code",
   "execution_count": 214,
   "metadata": {},
   "outputs": [
    {
     "data": {
      "text/plain": [
       "A    3824\n",
       "B    2877\n",
       "Name: group, dtype: int64"
      ]
     },
     "execution_count": 214,
     "metadata": {},
     "output_type": "execute_result"
    }
   ],
   "source": [
    "spec_participants.group.value_counts()"
   ]
  },
  {
   "cell_type": "code",
   "execution_count": 215,
   "metadata": {},
   "outputs": [],
   "source": [
    "group_a = spec_participants.query('group == \"A\"')\n",
    "group_b = spec_participants.query('group == \"B\"')"
   ]
  },
  {
   "cell_type": "code",
   "execution_count": 216,
   "metadata": {},
   "outputs": [
    {
     "data": {
      "text/plain": [
       "0"
      ]
     },
     "execution_count": 216,
     "metadata": {},
     "output_type": "execute_result"
    },
    {
     "data": {
      "text/plain": [
       "0"
      ]
     },
     "execution_count": 216,
     "metadata": {},
     "output_type": "execute_result"
    }
   ],
   "source": [
    "group_a.query('user_id in @group_b')['user_id'].count()\n",
    "group_b.query('user_id in @group_a')['user_id'].count()"
   ]
  },
  {
   "cell_type": "markdown",
   "metadata": {},
   "source": [
    "#### Comment\n",
    "There are no duplicate users in Groups A and B."
   ]
  },
  {
   "cell_type": "code",
   "execution_count": 217,
   "metadata": {},
   "outputs": [],
   "source": [
    "# Connect the resulting tables. First, we will attach data from the users table to the id from the participants table,\n",
    "# then we will attach data on completed events from the events table to the resulting table, also by id.\n",
    "spec_df = spec_participants.merge(spec_users, how='inner', on='user_id').merge(events, how='left', on='user_id')"
   ]
  },
  {
   "cell_type": "code",
   "execution_count": 218,
   "metadata": {},
   "outputs": [
    {
     "data": {
      "text/plain": [
       "6701"
      ]
     },
     "execution_count": 218,
     "metadata": {},
     "output_type": "execute_result"
    },
    {
     "data": {
      "text/html": [
       "<div>\n",
       "<style scoped>\n",
       "    .dataframe tbody tr th:only-of-type {\n",
       "        vertical-align: middle;\n",
       "    }\n",
       "\n",
       "    .dataframe tbody tr th {\n",
       "        vertical-align: top;\n",
       "    }\n",
       "\n",
       "    .dataframe thead th {\n",
       "        text-align: right;\n",
       "    }\n",
       "</style>\n",
       "<table border=\"1\" class=\"dataframe\">\n",
       "  <thead>\n",
       "    <tr style=\"text-align: right;\">\n",
       "      <th></th>\n",
       "      <th>user_id</th>\n",
       "    </tr>\n",
       "    <tr>\n",
       "      <th>group</th>\n",
       "      <th></th>\n",
       "    </tr>\n",
       "  </thead>\n",
       "  <tbody>\n",
       "    <tr>\n",
       "      <th>A</th>\n",
       "      <td>3824</td>\n",
       "    </tr>\n",
       "    <tr>\n",
       "      <th>B</th>\n",
       "      <td>2877</td>\n",
       "    </tr>\n",
       "  </tbody>\n",
       "</table>\n",
       "</div>"
      ],
      "text/plain": [
       "       user_id\n",
       "group         \n",
       "A         3824\n",
       "B         2877"
      ]
     },
     "execution_count": 218,
     "metadata": {},
     "output_type": "execute_result"
    }
   ],
   "source": [
    "spec_df.user_id.nunique()\n",
    "spec_df.groupby('group').agg({'user_id' : 'nunique'})"
   ]
  },
  {
   "cell_type": "markdown",
   "metadata": {},
   "source": [
    "#### Comment\n",
    "Unfortunately, in the resulting table, after transformations in accordance with the requirements of the TOR, only 3675 unique users remained, which is significantly less than the expected 6000. We will inform the customer about this problem and continue the research with the available data."
   ]
  },
  {
   "cell_type": "code",
   "execution_count": 219,
   "metadata": {},
   "outputs": [
    {
     "data": {
      "text/html": [
       "<style type=\"text/css\">\n",
       "</style>\n",
       "<table id=\"T_29278\">\n",
       "  <thead>\n",
       "    <tr>\n",
       "      <th class=\"blank level0\" >&nbsp;</th>\n",
       "      <th id=\"T_29278_level0_col0\" class=\"col_heading level0 col0\" >Регион</th>\n",
       "      <th id=\"T_29278_level0_col1\" class=\"col_heading level0 col1\" >Всего</th>\n",
       "      <th id=\"T_29278_level0_col2\" class=\"col_heading level0 col2\" >Тестовая группа</th>\n",
       "      <th id=\"T_29278_level0_col3\" class=\"col_heading level0 col3\" >Соотношение</th>\n",
       "    </tr>\n",
       "  </thead>\n",
       "  <tbody>\n",
       "    <tr>\n",
       "      <th id=\"T_29278_level0_row0\" class=\"row_heading level0 row0\" >0</th>\n",
       "      <td id=\"T_29278_row0_col0\" class=\"data row0 col0\" >APAC</td>\n",
       "      <td id=\"T_29278_row0_col1\" class=\"data row0 col1\" >3153</td>\n",
       "      <td id=\"T_29278_row0_col2\" class=\"data row0 col2\" >72</td>\n",
       "      <td id=\"T_29278_row0_col3\" class=\"data row0 col3\" >2.3%</td>\n",
       "    </tr>\n",
       "    <tr>\n",
       "      <th id=\"T_29278_level0_row1\" class=\"row_heading level0 row1\" >1</th>\n",
       "      <td id=\"T_29278_row1_col0\" class=\"data row1 col0\" >CIS</td>\n",
       "      <td id=\"T_29278_row1_col1\" class=\"data row1 col1\" >3155</td>\n",
       "      <td id=\"T_29278_row1_col2\" class=\"data row1 col2\" >55</td>\n",
       "      <td id=\"T_29278_row1_col3\" class=\"data row1 col3\" >1.7%</td>\n",
       "    </tr>\n",
       "    <tr>\n",
       "      <th id=\"T_29278_level0_row2\" class=\"row_heading level0 row2\" >2</th>\n",
       "      <td id=\"T_29278_row2_col0\" class=\"data row2 col0\" >EU</td>\n",
       "      <td id=\"T_29278_row2_col1\" class=\"data row2 col1\" >46270</td>\n",
       "      <td id=\"T_29278_row2_col2\" class=\"data row2 col2\" >6351</td>\n",
       "      <td id=\"T_29278_row2_col3\" class=\"data row2 col3\" >13.7%</td>\n",
       "    </tr>\n",
       "    <tr>\n",
       "      <th id=\"T_29278_level0_row3\" class=\"row_heading level0 row3\" >3</th>\n",
       "      <td id=\"T_29278_row3_col0\" class=\"data row3 col0\" >N.America</td>\n",
       "      <td id=\"T_29278_row3_col1\" class=\"data row3 col1\" >9155</td>\n",
       "      <td id=\"T_29278_row3_col2\" class=\"data row3 col2\" >223</td>\n",
       "      <td id=\"T_29278_row3_col3\" class=\"data row3 col3\" >2.4%</td>\n",
       "    </tr>\n",
       "  </tbody>\n",
       "</table>\n"
      ],
      "text/plain": [
       "<pandas.io.formats.style.Styler at 0x17c881010>"
      ]
     },
     "metadata": {},
     "output_type": "display_data"
    }
   ],
   "source": [
    "users_regions = spec_df.groupby('region').agg({'user_id': 'nunique'}).reset_index()\n",
    "all_users_regions = users.groupby('region').agg({'user_id': 'nunique'}).reset_index()\n",
    "users_regions = all_users_regions.merge(users_regions, how='inner', on='region')\n",
    "users_regions['ratio'] = users_regions['user_id_y'] / users_regions['user_id_x']\n",
    "users_regions = users_regions.rename(columns={\"region\": \"Регион\", \n",
    "                              \"user_id_x\": \"Всего\", \n",
    "                              \"user_id_y\": \"Тестовая группа\", \n",
    "                              \"ratio\": \"Соотношение\"})\n",
    "display(users_regions.style.format({'Соотношение':\"{0:.1%}\"}))"
   ]
  },
  {
   "cell_type": "markdown",
   "metadata": {},
   "source": [
    "#### Comment\n",
    "Regarding the requirement of 15% of new users from the EU, everything is not very good either. Almost 95% of users are from the mentioned region and it is not worth reducing the audience to a percentage of TK, since there will be no data left for research at all. We will also mention this circumstance in the report to the customer."
   ]
  },
  {
   "cell_type": "code",
   "execution_count": 220,
   "metadata": {},
   "outputs": [],
   "source": [
    "recomender_participants = participants.query('ab_test == \"recommender_system_test\"')\n",
    "recomender_user_list = participants.query('ab_test == \"recommender_system_test\"')['user_id']\n",
    "interface_participants = participants.query('ab_test == \"interface_eu_test\"')\n",
    "interface_user_list = participants.query('ab_test == \"interface_eu_test\"')['user_id']"
   ]
  },
  {
   "cell_type": "code",
   "execution_count": 221,
   "metadata": {},
   "outputs": [
    {
     "data": {
      "text/plain": [
       "1602"
      ]
     },
     "execution_count": 221,
     "metadata": {},
     "output_type": "execute_result"
    },
    {
     "data": {
      "text/plain": [
       "1602"
      ]
     },
     "execution_count": 221,
     "metadata": {},
     "output_type": "execute_result"
    }
   ],
   "source": [
    "recomender_participants.query('user_id in @interface_user_list')['user_id'].count()\n",
    "interface_participants.query('user_id in @recomender_user_list')['user_id'].count()"
   ]
  },
  {
   "cell_type": "markdown",
   "metadata": {},
   "source": [
    "#### Comment\n",
    "1602 users participated simultaneously in recommender_system_test and interface_eu_test. Participation in several places at the same time affects the adequacy of the test negatively. We will also inform the customer about this."
   ]
  },
  {
   "cell_type": "markdown",
   "metadata": {},
   "source": [
    "### Summary\n",
    "\n",
    "When bringing the data into compliance with the requirements of the TOR, most of the data was lost. The errors of the test were revealed (participation in several tests simultaneously by 1602 users). It is necessary to prepare an appropriate report on the identified circumstances and send it to the research customer."
   ]
  },
  {
   "cell_type": "markdown",
   "metadata": {},
   "source": [
    "## Exploratory Data Analysis"
   ]
  },
  {
   "cell_type": "markdown",
   "metadata": {},
   "source": [
    "### Conversion in the funnel at different stages"
   ]
  },
  {
   "cell_type": "code",
   "execution_count": 222,
   "metadata": {},
   "outputs": [
    {
     "data": {
      "text/html": [
       "<div>\n",
       "<style scoped>\n",
       "    .dataframe tbody tr th:only-of-type {\n",
       "        vertical-align: middle;\n",
       "    }\n",
       "\n",
       "    .dataframe tbody tr th {\n",
       "        vertical-align: top;\n",
       "    }\n",
       "\n",
       "    .dataframe thead th {\n",
       "        text-align: right;\n",
       "    }\n",
       "</style>\n",
       "<table border=\"1\" class=\"dataframe\">\n",
       "  <thead>\n",
       "    <tr style=\"text-align: right;\">\n",
       "      <th></th>\n",
       "      <th>event_name</th>\n",
       "      <th>user_id</th>\n",
       "    </tr>\n",
       "  </thead>\n",
       "  <tbody>\n",
       "    <tr>\n",
       "      <th>0</th>\n",
       "      <td>login</td>\n",
       "      <td>11190</td>\n",
       "    </tr>\n",
       "    <tr>\n",
       "      <th>1</th>\n",
       "      <td>product_page</td>\n",
       "      <td>6930</td>\n",
       "    </tr>\n",
       "    <tr>\n",
       "      <th>2</th>\n",
       "      <td>purchase</td>\n",
       "      <td>3331</td>\n",
       "    </tr>\n",
       "    <tr>\n",
       "      <th>3</th>\n",
       "      <td>product_cart</td>\n",
       "      <td>3247</td>\n",
       "    </tr>\n",
       "  </tbody>\n",
       "</table>\n",
       "</div>"
      ],
      "text/plain": [
       "     event_name  user_id\n",
       "0         login    11190\n",
       "1  product_page     6930\n",
       "2      purchase     3331\n",
       "3  product_cart     3247"
      ]
     },
     "execution_count": 222,
     "metadata": {},
     "output_type": "execute_result"
    }
   ],
   "source": [
    "# Group by events\n",
    "all_events = spec_df.groupby('event_name').agg({'user_id' : 'count'}).sort_values(\n",
    "    by = 'user_id', ascending = False).reset_index()\n",
    "all_events"
   ]
  },
  {
   "cell_type": "code",
   "execution_count": 223,
   "metadata": {},
   "outputs": [
    {
     "data": {
      "image/png": "[encoded data removed]",
      "text/plain": [
       "<Figure size 500x300 with 1 Axes>"
      ]
     },
     "metadata": {},
     "output_type": "display_data"
    }
   ],
   "source": [
    "all_events.sort_values(by='user_id').plot(kind='barh', x='event_name', y='user_id', grid=True, figsize=(5,3))\n",
    "plt.title('Distribution of user activity by events')\n",
    "plt.xlabel('Number of events committed')\n",
    "plt.ylabel('Event name');"
   ]
  },
  {
   "cell_type": "markdown",
   "metadata": {},
   "source": [
    "#### Comment\n",
    "There are 4 types of events in the log. Starting from the most popular, it is:\n",
    " - login (Authorization);\n",
    " - product_page (Product page);\n",
    " - purchase;\n",
    " - product_cart (Grocery basket).\n",
    " \n",
    "Oddly enough, there are no \"Purchase\" events, there are more \"Grocery basket\" events. It can be assumed that users have the opportunity to make a quick purchase without going to the shopping cart page."
   ]
  },
  {
   "cell_type": "markdown",
   "metadata": {},
   "source": [
    "#### Funnel of all events"
   ]
  },
  {
   "cell_type": "code",
   "execution_count": 224,
   "metadata": {},
   "outputs": [],
   "source": [
    "# Group the number of all events by dates\n",
    "users_funnel = spec_df.pivot_table(\n",
    "    index='date', \n",
    "    columns='event_name', \n",
    "    values='user_id',\n",
    "    aggfunc='count')"
   ]
  },
  {
   "cell_type": "code",
   "execution_count": 225,
   "metadata": {},
   "outputs": [
    {
     "data": {
      "application/vnd.plotly.v1+json": {
       "config": {
        "plotlyServerURL": "https://plot.ly"
       },
       "data": [
        {
         "type": "funnel",
         "x": [
          11190,
          6930,
          3247,
          3331
         ],
         "y": [
          "Authorization",
          "Product Page",
          "Shopping cart",
          "Purchase"
         ]
        }
       ],
       "layout": {
        "template": {
         "data": {
          "bar": [
           {
            "error_x": {
             "color": "#2a3f5f"
            },
            "error_y": {
             "color": "#2a3f5f"
            },
            "marker": {
             "line": {
              "color": "#E5ECF6",
              "width": 0.5
             },
             "pattern": {
              "fillmode": "overlay",
              "size": 10,
              "solidity": 0.2
             }
            },
            "type": "bar"
           }
          ],
          "barpolar": [
           {
            "marker": {
             "line": {
              "color": "#E5ECF6",
              "width": 0.5
             },
             "pattern": {
              "fillmode": "overlay",
              "size": 10,
              "solidity": 0.2
             }
            },
            "type": "barpolar"
           }
          ],
          "carpet": [
           {
            "aaxis": {
             "endlinecolor": "#2a3f5f",
             "gridcolor": "white",
             "linecolor": "white",
             "minorgridcolor": "white",
             "startlinecolor": "#2a3f5f"
            },
            "baxis": {
             "endlinecolor": "#2a3f5f",
             "gridcolor": "white",
             "linecolor": "white",
             "minorgridcolor": "white",
             "startlinecolor": "#2a3f5f"
            },
            "type": "carpet"
           }
          ],
          "choropleth": [
           {
            "colorbar": {
             "outlinewidth": 0,
             "ticks": ""
            },
            "type": "choropleth"
           }
          ],
          "contour": [
           {
            "colorbar": {
             "outlinewidth": 0,
             "ticks": ""
            },
            "colorscale": [
             [
              0,
              "#0d0887"
             ],
             [
              0.1111111111111111,
              "#46039f"
             ],
             [
              0.2222222222222222,
              "#7201a8"
             ],
             [
              0.3333333333333333,
              "#9c179e"
             ],
             [
              0.4444444444444444,
              "#bd3786"
             ],
             [
              0.5555555555555556,
              "#d8576b"
             ],
             [
              0.6666666666666666,
              "#ed7953"
             ],
             [
              0.7777777777777778,
              "#fb9f3a"
             ],
             [
              0.8888888888888888,
              "#fdca26"
             ],
             [
              1,
              "#f0f921"
             ]
            ],
            "type": "contour"
           }
          ],
          "contourcarpet": [
           {
            "colorbar": {
             "outlinewidth": 0,
             "ticks": ""
            },
            "type": "contourcarpet"
           }
          ],
          "heatmap": [
           {
            "colorbar": {
             "outlinewidth": 0,
             "ticks": ""
            },
            "colorscale": [
             [
              0,
              "#0d0887"
             ],
             [
              0.1111111111111111,
              "#46039f"
             ],
             [
              0.2222222222222222,
              "#7201a8"
             ],
             [
              0.3333333333333333,
              "#9c179e"
             ],
             [
              0.4444444444444444,
              "#bd3786"
             ],
             [
              0.5555555555555556,
              "#d8576b"
             ],
             [
              0.6666666666666666,
              "#ed7953"
             ],
             [
              0.7777777777777778,
              "#fb9f3a"
             ],
             [
              0.8888888888888888,
              "#fdca26"
             ],
             [
              1,
              "#f0f921"
             ]
            ],
            "type": "heatmap"
           }
          ],
          "heatmapgl": [
           {
            "colorbar": {
             "outlinewidth": 0,
             "ticks": ""
            },
            "colorscale": [
             [
              0,
              "#0d0887"
             ],
             [
              0.1111111111111111,
              "#46039f"
             ],
             [
              0.2222222222222222,
              "#7201a8"
             ],
             [
              0.3333333333333333,
              "#9c179e"
             ],
             [
              0.4444444444444444,
              "#bd3786"
             ],
             [
              0.5555555555555556,
              "#d8576b"
             ],
             [
              0.6666666666666666,
              "#ed7953"
             ],
             [
              0.7777777777777778,
              "#fb9f3a"
             ],
             [
              0.8888888888888888,
              "#fdca26"
             ],
             [
              1,
              "#f0f921"
             ]
            ],
            "type": "heatmapgl"
           }
          ],
          "histogram": [
           {
            "marker": {
             "pattern": {
              "fillmode": "overlay",
              "size": 10,
              "solidity": 0.2
             }
            },
            "type": "histogram"
           }
          ],
          "histogram2d": [
           {
            "colorbar": {
             "outlinewidth": 0,
             "ticks": ""
            },
            "colorscale": [
             [
              0,
              "#0d0887"
             ],
             [
              0.1111111111111111,
              "#46039f"
             ],
             [
              0.2222222222222222,
              "#7201a8"
             ],
             [
              0.3333333333333333,
              "#9c179e"
             ],
             [
              0.4444444444444444,
              "#bd3786"
             ],
             [
              0.5555555555555556,
              "#d8576b"
             ],
             [
              0.6666666666666666,
              "#ed7953"
             ],
             [
              0.7777777777777778,
              "#fb9f3a"
             ],
             [
              0.8888888888888888,
              "#fdca26"
             ],
             [
              1,
              "#f0f921"
             ]
            ],
            "type": "histogram2d"
           }
          ],
          "histogram2dcontour": [
           {
            "colorbar": {
             "outlinewidth": 0,
             "ticks": ""
            },
            "colorscale": [
             [
              0,
              "#0d0887"
             ],
             [
              0.1111111111111111,
              "#46039f"
             ],
             [
              0.2222222222222222,
              "#7201a8"
             ],
             [
              0.3333333333333333,
              "#9c179e"
             ],
             [
              0.4444444444444444,
              "#bd3786"
             ],
             [
              0.5555555555555556,
              "#d8576b"
             ],
             [
              0.6666666666666666,
              "#ed7953"
             ],
             [
              0.7777777777777778,
              "#fb9f3a"
             ],
             [
              0.8888888888888888,
              "#fdca26"
             ],
             [
              1,
              "#f0f921"
             ]
            ],
            "type": "histogram2dcontour"
           }
          ],
          "mesh3d": [
           {
            "colorbar": {
             "outlinewidth": 0,
             "ticks": ""
            },
            "type": "mesh3d"
           }
          ],
          "parcoords": [
           {
            "line": {
             "colorbar": {
              "outlinewidth": 0,
              "ticks": ""
             }
            },
            "type": "parcoords"
           }
          ],
          "pie": [
           {
            "automargin": true,
            "type": "pie"
           }
          ],
          "scatter": [
           {
            "fillpattern": {
             "fillmode": "overlay",
             "size": 10,
             "solidity": 0.2
            },
            "type": "scatter"
           }
          ],
          "scatter3d": [
           {
            "line": {
             "colorbar": {
              "outlinewidth": 0,
              "ticks": ""
             }
            },
            "marker": {
             "colorbar": {
              "outlinewidth": 0,
              "ticks": ""
             }
            },
            "type": "scatter3d"
           }
          ],
          "scattercarpet": [
           {
            "marker": {
             "colorbar": {
              "outlinewidth": 0,
              "ticks": ""
             }
            },
            "type": "scattercarpet"
           }
          ],
          "scattergeo": [
           {
            "marker": {
             "colorbar": {
              "outlinewidth": 0,
              "ticks": ""
             }
            },
            "type": "scattergeo"
           }
          ],
          "scattergl": [
           {
            "marker": {
             "colorbar": {
              "outlinewidth": 0,
              "ticks": ""
             }
            },
            "type": "scattergl"
           }
          ],
          "scattermapbox": [
           {
            "marker": {
             "colorbar": {
              "outlinewidth": 0,
              "ticks": ""
             }
            },
            "type": "scattermapbox"
           }
          ],
          "scatterpolar": [
           {
            "marker": {
             "colorbar": {
              "outlinewidth": 0,
              "ticks": ""
             }
            },
            "type": "scatterpolar"
           }
          ],
          "scatterpolargl": [
           {
            "marker": {
             "colorbar": {
              "outlinewidth": 0,
              "ticks": ""
             }
            },
            "type": "scatterpolargl"
           }
          ],
          "scatterternary": [
           {
            "marker": {
             "colorbar": {
              "outlinewidth": 0,
              "ticks": ""
             }
            },
            "type": "scatterternary"
           }
          ],
          "surface": [
           {
            "colorbar": {
             "outlinewidth": 0,
             "ticks": ""
            },
            "colorscale": [
             [
              0,
              "#0d0887"
             ],
             [
              0.1111111111111111,
              "#46039f"
             ],
             [
              0.2222222222222222,
              "#7201a8"
             ],
             [
              0.3333333333333333,
              "#9c179e"
             ],
             [
              0.4444444444444444,
              "#bd3786"
             ],
             [
              0.5555555555555556,
              "#d8576b"
             ],
             [
              0.6666666666666666,
              "#ed7953"
             ],
             [
              0.7777777777777778,
              "#fb9f3a"
             ],
             [
              0.8888888888888888,
              "#fdca26"
             ],
             [
              1,
              "#f0f921"
             ]
            ],
            "type": "surface"
           }
          ],
          "table": [
           {
            "cells": {
             "fill": {
              "color": "#EBF0F8"
             },
             "line": {
              "color": "white"
             }
            },
            "header": {
             "fill": {
              "color": "#C8D4E3"
             },
             "line": {
              "color": "white"
             }
            },
            "type": "table"
           }
          ]
         },
         "layout": {
          "annotationdefaults": {
           "arrowcolor": "#2a3f5f",
           "arrowhead": 0,
           "arrowwidth": 1
          },
          "autotypenumbers": "strict",
          "coloraxis": {
           "colorbar": {
            "outlinewidth": 0,
            "ticks": ""
           }
          },
          "colorscale": {
           "diverging": [
            [
             0,
             "#8e0152"
            ],
            [
             0.1,
             "#c51b7d"
            ],
            [
             0.2,
             "#de77ae"
            ],
            [
             0.3,
             "#f1b6da"
            ],
            [
             0.4,
             "#fde0ef"
            ],
            [
             0.5,
             "#f7f7f7"
            ],
            [
             0.6,
             "#e6f5d0"
            ],
            [
             0.7,
             "#b8e186"
            ],
            [
             0.8,
             "#7fbc41"
            ],
            [
             0.9,
             "#4d9221"
            ],
            [
             1,
             "#276419"
            ]
           ],
           "sequential": [
            [
             0,
             "#0d0887"
            ],
            [
             0.1111111111111111,
             "#46039f"
            ],
            [
             0.2222222222222222,
             "#7201a8"
            ],
            [
             0.3333333333333333,
             "#9c179e"
            ],
            [
             0.4444444444444444,
             "#bd3786"
            ],
            [
             0.5555555555555556,
             "#d8576b"
            ],
            [
             0.6666666666666666,
             "#ed7953"
            ],
            [
             0.7777777777777778,
             "#fb9f3a"
            ],
            [
             0.8888888888888888,
             "#fdca26"
            ],
            [
             1,
             "#f0f921"
            ]
           ],
           "sequentialminus": [
            [
             0,
             "#0d0887"
            ],
            [
             0.1111111111111111,
             "#46039f"
            ],
            [
             0.2222222222222222,
             "#7201a8"
            ],
            [
             0.3333333333333333,
             "#9c179e"
            ],
            [
             0.4444444444444444,
             "#bd3786"
            ],
            [
             0.5555555555555556,
             "#d8576b"
            ],
            [
             0.6666666666666666,
             "#ed7953"
            ],
            [
             0.7777777777777778,
             "#fb9f3a"
            ],
            [
             0.8888888888888888,
             "#fdca26"
            ],
            [
             1,
             "#f0f921"
            ]
           ]
          },
          "colorway": [
           "#636efa",
           "#EF553B",
           "#00cc96",
           "#ab63fa",
           "#FFA15A",
           "#19d3f3",
           "#FF6692",
           "#B6E880",
           "#FF97FF",
           "#FECB52"
          ],
          "font": {
           "color": "#2a3f5f"
          },
          "geo": {
           "bgcolor": "white",
           "lakecolor": "white",
           "landcolor": "#E5ECF6",
           "showlakes": true,
           "showland": true,
           "subunitcolor": "white"
          },
          "hoverlabel": {
           "align": "left"
          },
          "hovermode": "closest",
          "mapbox": {
           "style": "light"
          },
          "paper_bgcolor": "white",
          "plot_bgcolor": "#E5ECF6",
          "polar": {
           "angularaxis": {
            "gridcolor": "white",
            "linecolor": "white",
            "ticks": ""
           },
           "bgcolor": "#E5ECF6",
           "radialaxis": {
            "gridcolor": "white",
            "linecolor": "white",
            "ticks": ""
           }
          },
          "scene": {
           "xaxis": {
            "backgroundcolor": "#E5ECF6",
            "gridcolor": "white",
            "gridwidth": 2,
            "linecolor": "white",
            "showbackground": true,
            "ticks": "",
            "zerolinecolor": "white"
           },
           "yaxis": {
            "backgroundcolor": "#E5ECF6",
            "gridcolor": "white",
            "gridwidth": 2,
            "linecolor": "white",
            "showbackground": true,
            "ticks": "",
            "zerolinecolor": "white"
           },
           "zaxis": {
            "backgroundcolor": "#E5ECF6",
            "gridcolor": "white",
            "gridwidth": 2,
            "linecolor": "white",
            "showbackground": true,
            "ticks": "",
            "zerolinecolor": "white"
           }
          },
          "shapedefaults": {
           "line": {
            "color": "#2a3f5f"
           }
          },
          "ternary": {
           "aaxis": {
            "gridcolor": "white",
            "linecolor": "white",
            "ticks": ""
           },
           "baxis": {
            "gridcolor": "white",
            "linecolor": "white",
            "ticks": ""
           },
           "bgcolor": "#E5ECF6",
           "caxis": {
            "gridcolor": "white",
            "linecolor": "white",
            "ticks": ""
           }
          },
          "title": {
           "x": 0.05
          },
          "xaxis": {
           "automargin": true,
           "gridcolor": "white",
           "linecolor": "white",
           "ticks": "",
           "title": {
            "standoff": 15
           },
           "zerolinecolor": "white",
           "zerolinewidth": 2
          },
          "yaxis": {
           "automargin": true,
           "gridcolor": "white",
           "linecolor": "white",
           "ticks": "",
           "title": {
            "standoff": 15
           },
           "zerolinecolor": "white",
           "zerolinewidth": 2
          }
         }
        }
       }
      }
     },
     "metadata": {},
     "output_type": "display_data"
    }
   ],
   "source": [
    "# Build a graph of the funnel of events, where the values, broken down by dates, are summarized\n",
    "fig = go.Figure(go.Funnel(\n",
    "    y = [\"Authorization\",\n",
    "         \"Product Page\", \n",
    "         \"Shopping cart\", \n",
    "         \"Purchase\"],\n",
    "    x = [users_funnel.login.sum(), \n",
    "         users_funnel.product_page.sum(), \n",
    "         users_funnel.product_cart.sum(), \n",
    "         users_funnel.purchase.sum()]\n",
    "    ))\n",
    "fig.show()"
   ]
  },
  {
   "cell_type": "markdown",
   "metadata": {},
   "source": [
    "##### Summary\n",
    "61.9% of users reach the product page from authorization when the event \"grocery basket\" or \"purchase\" is made by 29-30% of authorized users."
   ]
  },
  {
   "cell_type": "markdown",
   "metadata": {},
   "source": [
    "#### Funnel of unique users"
   ]
  },
  {
   "cell_type": "code",
   "execution_count": 226,
   "metadata": {},
   "outputs": [],
   "source": [
    "# Create a summary table where the values will be the first dates of events committed by users\n",
    "uniq_users = spec_df.pivot_table(\n",
    "    index='user_id', \n",
    "    columns='event_name', \n",
    "    values='event_dt',\n",
    "    aggfunc='min').reset_index()"
   ]
  },
  {
   "cell_type": "code",
   "execution_count": 227,
   "metadata": {},
   "outputs": [
    {
     "data": {
      "application/vnd.plotly.v1+json": {
       "config": {
        "plotlyServerURL": "https://plot.ly"
       },
       "data": [
        {
         "type": "funnel",
         "x": [
          3675,
          2303,
          1079,
          1128
         ],
         "y": [
          "Authorization",
          "Product Page",
          "Shopping cart",
          "Purchase"
         ]
        }
       ],
       "layout": {
        "template": {
         "data": {
          "bar": [
           {
            "error_x": {
             "color": "#2a3f5f"
            },
            "error_y": {
             "color": "#2a3f5f"
            },
            "marker": {
             "line": {
              "color": "#E5ECF6",
              "width": 0.5
             },
             "pattern": {
              "fillmode": "overlay",
              "size": 10,
              "solidity": 0.2
             }
            },
            "type": "bar"
           }
          ],
          "barpolar": [
           {
            "marker": {
             "line": {
              "color": "#E5ECF6",
              "width": 0.5
             },
             "pattern": {
              "fillmode": "overlay",
              "size": 10,
              "solidity": 0.2
             }
            },
            "type": "barpolar"
           }
          ],
          "carpet": [
           {
            "aaxis": {
             "endlinecolor": "#2a3f5f",
             "gridcolor": "white",
             "linecolor": "white",
             "minorgridcolor": "white",
             "startlinecolor": "#2a3f5f"
            },
            "baxis": {
             "endlinecolor": "#2a3f5f",
             "gridcolor": "white",
             "linecolor": "white",
             "minorgridcolor": "white",
             "startlinecolor": "#2a3f5f"
            },
            "type": "carpet"
           }
          ],
          "choropleth": [
           {
            "colorbar": {
             "outlinewidth": 0,
             "ticks": ""
            },
            "type": "choropleth"
           }
          ],
          "contour": [
           {
            "colorbar": {
             "outlinewidth": 0,
             "ticks": ""
            },
            "colorscale": [
             [
              0,
              "#0d0887"
             ],
             [
              0.1111111111111111,
              "#46039f"
             ],
             [
              0.2222222222222222,
              "#7201a8"
             ],
             [
              0.3333333333333333,
              "#9c179e"
             ],
             [
              0.4444444444444444,
              "#bd3786"
             ],
             [
              0.5555555555555556,
              "#d8576b"
             ],
             [
              0.6666666666666666,
              "#ed7953"
             ],
             [
              0.7777777777777778,
              "#fb9f3a"
             ],
             [
              0.8888888888888888,
              "#fdca26"
             ],
             [
              1,
              "#f0f921"
             ]
            ],
            "type": "contour"
           }
          ],
          "contourcarpet": [
           {
            "colorbar": {
             "outlinewidth": 0,
             "ticks": ""
            },
            "type": "contourcarpet"
           }
          ],
          "heatmap": [
           {
            "colorbar": {
             "outlinewidth": 0,
             "ticks": ""
            },
            "colorscale": [
             [
              0,
              "#0d0887"
             ],
             [
              0.1111111111111111,
              "#46039f"
             ],
             [
              0.2222222222222222,
              "#7201a8"
             ],
             [
              0.3333333333333333,
              "#9c179e"
             ],
             [
              0.4444444444444444,
              "#bd3786"
             ],
             [
              0.5555555555555556,
              "#d8576b"
             ],
             [
              0.6666666666666666,
              "#ed7953"
             ],
             [
              0.7777777777777778,
              "#fb9f3a"
             ],
             [
              0.8888888888888888,
              "#fdca26"
             ],
             [
              1,
              "#f0f921"
             ]
            ],
            "type": "heatmap"
           }
          ],
          "heatmapgl": [
           {
            "colorbar": {
             "outlinewidth": 0,
             "ticks": ""
            },
            "colorscale": [
             [
              0,
              "#0d0887"
             ],
             [
              0.1111111111111111,
              "#46039f"
             ],
             [
              0.2222222222222222,
              "#7201a8"
             ],
             [
              0.3333333333333333,
              "#9c179e"
             ],
             [
              0.4444444444444444,
              "#bd3786"
             ],
             [
              0.5555555555555556,
              "#d8576b"
             ],
             [
              0.6666666666666666,
              "#ed7953"
             ],
             [
              0.7777777777777778,
              "#fb9f3a"
             ],
             [
              0.8888888888888888,
              "#fdca26"
             ],
             [
              1,
              "#f0f921"
             ]
            ],
            "type": "heatmapgl"
           }
          ],
          "histogram": [
           {
            "marker": {
             "pattern": {
              "fillmode": "overlay",
              "size": 10,
              "solidity": 0.2
             }
            },
            "type": "histogram"
           }
          ],
          "histogram2d": [
           {
            "colorbar": {
             "outlinewidth": 0,
             "ticks": ""
            },
            "colorscale": [
             [
              0,
              "#0d0887"
             ],
             [
              0.1111111111111111,
              "#46039f"
             ],
             [
              0.2222222222222222,
              "#7201a8"
             ],
             [
              0.3333333333333333,
              "#9c179e"
             ],
             [
              0.4444444444444444,
              "#bd3786"
             ],
             [
              0.5555555555555556,
              "#d8576b"
             ],
             [
              0.6666666666666666,
              "#ed7953"
             ],
             [
              0.7777777777777778,
              "#fb9f3a"
             ],
             [
              0.8888888888888888,
              "#fdca26"
             ],
             [
              1,
              "#f0f921"
             ]
            ],
            "type": "histogram2d"
           }
          ],
          "histogram2dcontour": [
           {
            "colorbar": {
             "outlinewidth": 0,
             "ticks": ""
            },
            "colorscale": [
             [
              0,
              "#0d0887"
             ],
             [
              0.1111111111111111,
              "#46039f"
             ],
             [
              0.2222222222222222,
              "#7201a8"
             ],
             [
              0.3333333333333333,
              "#9c179e"
             ],
             [
              0.4444444444444444,
              "#bd3786"
             ],
             [
              0.5555555555555556,
              "#d8576b"
             ],
             [
              0.6666666666666666,
              "#ed7953"
             ],
             [
              0.7777777777777778,
              "#fb9f3a"
             ],
             [
              0.8888888888888888,
              "#fdca26"
             ],
             [
              1,
              "#f0f921"
             ]
            ],
            "type": "histogram2dcontour"
           }
          ],
          "mesh3d": [
           {
            "colorbar": {
             "outlinewidth": 0,
             "ticks": ""
            },
            "type": "mesh3d"
           }
          ],
          "parcoords": [
           {
            "line": {
             "colorbar": {
              "outlinewidth": 0,
              "ticks": ""
             }
            },
            "type": "parcoords"
           }
          ],
          "pie": [
           {
            "automargin": true,
            "type": "pie"
           }
          ],
          "scatter": [
           {
            "fillpattern": {
             "fillmode": "overlay",
             "size": 10,
             "solidity": 0.2
            },
            "type": "scatter"
           }
          ],
          "scatter3d": [
           {
            "line": {
             "colorbar": {
              "outlinewidth": 0,
              "ticks": ""
             }
            },
            "marker": {
             "colorbar": {
              "outlinewidth": 0,
              "ticks": ""
             }
            },
            "type": "scatter3d"
           }
          ],
          "scattercarpet": [
           {
            "marker": {
             "colorbar": {
              "outlinewidth": 0,
              "ticks": ""
             }
            },
            "type": "scattercarpet"
           }
          ],
          "scattergeo": [
           {
            "marker": {
             "colorbar": {
              "outlinewidth": 0,
              "ticks": ""
             }
            },
            "type": "scattergeo"
           }
          ],
          "scattergl": [
           {
            "marker": {
             "colorbar": {
              "outlinewidth": 0,
              "ticks": ""
             }
            },
            "type": "scattergl"
           }
          ],
          "scattermapbox": [
           {
            "marker": {
             "colorbar": {
              "outlinewidth": 0,
              "ticks": ""
             }
            },
            "type": "scattermapbox"
           }
          ],
          "scatterpolar": [
           {
            "marker": {
             "colorbar": {
              "outlinewidth": 0,
              "ticks": ""
             }
            },
            "type": "scatterpolar"
           }
          ],
          "scatterpolargl": [
           {
            "marker": {
             "colorbar": {
              "outlinewidth": 0,
              "ticks": ""
             }
            },
            "type": "scatterpolargl"
           }
          ],
          "scatterternary": [
           {
            "marker": {
             "colorbar": {
              "outlinewidth": 0,
              "ticks": ""
             }
            },
            "type": "scatterternary"
           }
          ],
          "surface": [
           {
            "colorbar": {
             "outlinewidth": 0,
             "ticks": ""
            },
            "colorscale": [
             [
              0,
              "#0d0887"
             ],
             [
              0.1111111111111111,
              "#46039f"
             ],
             [
              0.2222222222222222,
              "#7201a8"
             ],
             [
              0.3333333333333333,
              "#9c179e"
             ],
             [
              0.4444444444444444,
              "#bd3786"
             ],
             [
              0.5555555555555556,
              "#d8576b"
             ],
             [
              0.6666666666666666,
              "#ed7953"
             ],
             [
              0.7777777777777778,
              "#fb9f3a"
             ],
             [
              0.8888888888888888,
              "#fdca26"
             ],
             [
              1,
              "#f0f921"
             ]
            ],
            "type": "surface"
           }
          ],
          "table": [
           {
            "cells": {
             "fill": {
              "color": "#EBF0F8"
             },
             "line": {
              "color": "white"
             }
            },
            "header": {
             "fill": {
              "color": "#C8D4E3"
             },
             "line": {
              "color": "white"
             }
            },
            "type": "table"
           }
          ]
         },
         "layout": {
          "annotationdefaults": {
           "arrowcolor": "#2a3f5f",
           "arrowhead": 0,
           "arrowwidth": 1
          },
          "autotypenumbers": "strict",
          "coloraxis": {
           "colorbar": {
            "outlinewidth": 0,
            "ticks": ""
           }
          },
          "colorscale": {
           "diverging": [
            [
             0,
             "#8e0152"
            ],
            [
             0.1,
             "#c51b7d"
            ],
            [
             0.2,
             "#de77ae"
            ],
            [
             0.3,
             "#f1b6da"
            ],
            [
             0.4,
             "#fde0ef"
            ],
            [
             0.5,
             "#f7f7f7"
            ],
            [
             0.6,
             "#e6f5d0"
            ],
            [
             0.7,
             "#b8e186"
            ],
            [
             0.8,
             "#7fbc41"
            ],
            [
             0.9,
             "#4d9221"
            ],
            [
             1,
             "#276419"
            ]
           ],
           "sequential": [
            [
             0,
             "#0d0887"
            ],
            [
             0.1111111111111111,
             "#46039f"
            ],
            [
             0.2222222222222222,
             "#7201a8"
            ],
            [
             0.3333333333333333,
             "#9c179e"
            ],
            [
             0.4444444444444444,
             "#bd3786"
            ],
            [
             0.5555555555555556,
             "#d8576b"
            ],
            [
             0.6666666666666666,
             "#ed7953"
            ],
            [
             0.7777777777777778,
             "#fb9f3a"
            ],
            [
             0.8888888888888888,
             "#fdca26"
            ],
            [
             1,
             "#f0f921"
            ]
           ],
           "sequentialminus": [
            [
             0,
             "#0d0887"
            ],
            [
             0.1111111111111111,
             "#46039f"
            ],
            [
             0.2222222222222222,
             "#7201a8"
            ],
            [
             0.3333333333333333,
             "#9c179e"
            ],
            [
             0.4444444444444444,
             "#bd3786"
            ],
            [
             0.5555555555555556,
             "#d8576b"
            ],
            [
             0.6666666666666666,
             "#ed7953"
            ],
            [
             0.7777777777777778,
             "#fb9f3a"
            ],
            [
             0.8888888888888888,
             "#fdca26"
            ],
            [
             1,
             "#f0f921"
            ]
           ]
          },
          "colorway": [
           "#636efa",
           "#EF553B",
           "#00cc96",
           "#ab63fa",
           "#FFA15A",
           "#19d3f3",
           "#FF6692",
           "#B6E880",
           "#FF97FF",
           "#FECB52"
          ],
          "font": {
           "color": "#2a3f5f"
          },
          "geo": {
           "bgcolor": "white",
           "lakecolor": "white",
           "landcolor": "#E5ECF6",
           "showlakes": true,
           "showland": true,
           "subunitcolor": "white"
          },
          "hoverlabel": {
           "align": "left"
          },
          "hovermode": "closest",
          "mapbox": {
           "style": "light"
          },
          "paper_bgcolor": "white",
          "plot_bgcolor": "#E5ECF6",
          "polar": {
           "angularaxis": {
            "gridcolor": "white",
            "linecolor": "white",
            "ticks": ""
           },
           "bgcolor": "#E5ECF6",
           "radialaxis": {
            "gridcolor": "white",
            "linecolor": "white",
            "ticks": ""
           }
          },
          "scene": {
           "xaxis": {
            "backgroundcolor": "#E5ECF6",
            "gridcolor": "white",
            "gridwidth": 2,
            "linecolor": "white",
            "showbackground": true,
            "ticks": "",
            "zerolinecolor": "white"
           },
           "yaxis": {
            "backgroundcolor": "#E5ECF6",
            "gridcolor": "white",
            "gridwidth": 2,
            "linecolor": "white",
            "showbackground": true,
            "ticks": "",
            "zerolinecolor": "white"
           },
           "zaxis": {
            "backgroundcolor": "#E5ECF6",
            "gridcolor": "white",
            "gridwidth": 2,
            "linecolor": "white",
            "showbackground": true,
            "ticks": "",
            "zerolinecolor": "white"
           }
          },
          "shapedefaults": {
           "line": {
            "color": "#2a3f5f"
           }
          },
          "ternary": {
           "aaxis": {
            "gridcolor": "white",
            "linecolor": "white",
            "ticks": ""
           },
           "baxis": {
            "gridcolor": "white",
            "linecolor": "white",
            "ticks": ""
           },
           "bgcolor": "#E5ECF6",
           "caxis": {
            "gridcolor": "white",
            "linecolor": "white",
            "ticks": ""
           }
          },
          "title": {
           "x": 0.05
          },
          "xaxis": {
           "automargin": true,
           "gridcolor": "white",
           "linecolor": "white",
           "ticks": "",
           "title": {
            "standoff": 15
           },
           "zerolinecolor": "white",
           "zerolinewidth": 2
          },
          "yaxis": {
           "automargin": true,
           "gridcolor": "white",
           "linecolor": "white",
           "ticks": "",
           "title": {
            "standoff": 15
           },
           "zerolinecolor": "white",
           "zerolinewidth": 2
          }
         }
        }
       }
      }
     },
     "metadata": {},
     "output_type": "display_data"
    }
   ],
   "source": [
    "# Build a funnel and count the users who have at least once committed this or that event\n",
    "fig = go.Figure(go.Funnel(\n",
    "    y = [\"Authorization\",\n",
    "         \"Product Page\", \n",
    "         \"Shopping cart\", \n",
    "         \"Purchase\"],\n",
    "    x = [uniq_users.login.count(), \n",
    "         uniq_users.product_page.count(), \n",
    "         uniq_users.product_cart.count(), \n",
    "         uniq_users.purchase.count()]\n",
    "    ))\n",
    "fig.show()"
   ]
  },
  {
   "cell_type": "markdown",
   "metadata": {},
   "source": [
    "##### Summary\n",
    "Examining the funnel of events by unique users, the picture in percentage ratio is approximately the same as it was in the first funnel."
   ]
  },
  {
   "cell_type": "markdown",
   "metadata": {},
   "source": [
    "### Distribution of the number of events per user in the samples"
   ]
  },
  {
   "cell_type": "code",
   "execution_count": 228,
   "metadata": {},
   "outputs": [],
   "source": [
    "# Divide the events by selections\n",
    "event_A = spec_df.query('group == \"A\"').groupby('event_name').agg({'user_id': 'count'}).reset_index()\n",
    "event_B = spec_df.query('group == \"B\"').groupby('event_name').agg({'user_id': 'count'}).reset_index()"
   ]
  },
  {
   "cell_type": "code",
   "execution_count": 229,
   "metadata": {
    "scrolled": true
   },
   "outputs": [],
   "source": [
    "# Calculate the ratio of the number of events to the number of users in groups A and B\n",
    "event_A['ratio'] = (event_A['user_id'] / event_A['user_id'].sum() * 100).round(1)\n",
    "event_A = event_A.rename(columns={\"user_id\":\"count_A\", \"ratio\": \"ratio_A\"})"
   ]
  },
  {
   "cell_type": "code",
   "execution_count": 230,
   "metadata": {},
   "outputs": [],
   "source": [
    "event_B['ratio'] = (event_B['user_id'] / event_B['user_id'].sum() * 100).round(1)\n",
    "event_B = event_B.rename(columns={\"user_id\":\"count_B\", \"ratio\": \"ratio_B\"})"
   ]
  },
  {
   "cell_type": "code",
   "execution_count": 231,
   "metadata": {},
   "outputs": [],
   "source": [
    "event_AB = event_A.merge(event_B, how='inner', on='event_name')"
   ]
  },
  {
   "cell_type": "code",
   "execution_count": 232,
   "metadata": {},
   "outputs": [
    {
     "data": {
      "text/html": [
       "<div>\n",
       "<style scoped>\n",
       "    .dataframe tbody tr th:only-of-type {\n",
       "        vertical-align: middle;\n",
       "    }\n",
       "\n",
       "    .dataframe tbody tr th {\n",
       "        vertical-align: top;\n",
       "    }\n",
       "\n",
       "    .dataframe thead th {\n",
       "        text-align: right;\n",
       "    }\n",
       "</style>\n",
       "<table border=\"1\" class=\"dataframe\">\n",
       "  <thead>\n",
       "    <tr style=\"text-align: right;\">\n",
       "      <th></th>\n",
       "      <th>event_name</th>\n",
       "      <th>count_A</th>\n",
       "      <th>ratio_A</th>\n",
       "      <th>count_B</th>\n",
       "      <th>ratio_B</th>\n",
       "    </tr>\n",
       "  </thead>\n",
       "  <tbody>\n",
       "    <tr>\n",
       "      <th>0</th>\n",
       "      <td>login</td>\n",
       "      <td>8566</td>\n",
       "      <td>44.4</td>\n",
       "      <td>2624</td>\n",
       "      <td>48.6</td>\n",
       "    </tr>\n",
       "    <tr>\n",
       "      <th>2</th>\n",
       "      <td>product_page</td>\n",
       "      <td>5525</td>\n",
       "      <td>28.6</td>\n",
       "      <td>1405</td>\n",
       "      <td>26.0</td>\n",
       "    </tr>\n",
       "    <tr>\n",
       "      <th>3</th>\n",
       "      <td>purchase</td>\n",
       "      <td>2655</td>\n",
       "      <td>13.8</td>\n",
       "      <td>676</td>\n",
       "      <td>12.5</td>\n",
       "    </tr>\n",
       "    <tr>\n",
       "      <th>1</th>\n",
       "      <td>product_cart</td>\n",
       "      <td>2558</td>\n",
       "      <td>13.3</td>\n",
       "      <td>689</td>\n",
       "      <td>12.8</td>\n",
       "    </tr>\n",
       "  </tbody>\n",
       "</table>\n",
       "</div>"
      ],
      "text/plain": [
       "     event_name  count_A  ratio_A  count_B  ratio_B\n",
       "0         login     8566     44.4     2624     48.6\n",
       "2  product_page     5525     28.6     1405     26.0\n",
       "3      purchase     2655     13.8      676     12.5\n",
       "1  product_cart     2558     13.3      689     12.8"
      ]
     },
     "execution_count": 232,
     "metadata": {},
     "output_type": "execute_result"
    }
   ],
   "source": [
    "event_AB = event_AB.sort_values(by='count_A', ascending=False)\n",
    "event_AB"
   ]
  },
  {
   "cell_type": "markdown",
   "metadata": {},
   "source": [
    "#### Comment\n",
    "In general, the distribution of events in groups is almost the same, the difference in events is on average 2-4%% between groups A and B. However, it is worth noting that apart from the authorization event, group B loses a little to group A for all other events."
   ]
  },
  {
   "cell_type": "code",
   "execution_count": 233,
   "metadata": {},
   "outputs": [
    {
     "data": {
      "application/vnd.plotly.v1+json": {
       "config": {
        "plotlyServerURL": "https://plot.ly"
       },
       "data": [
        {
         "name": "Группа А",
         "textinfo": "value+percent initial",
         "textposition": "inside",
         "type": "funnel",
         "x": [
          8566,
          5525,
          2655,
          2558
         ],
         "y": [
          "Authorization",
          "Product Page",
          "Shopping cart",
          "Purchase"
         ]
        }
       ],
       "layout": {
        "template": {
         "data": {
          "bar": [
           {
            "error_x": {
             "color": "#2a3f5f"
            },
            "error_y": {
             "color": "#2a3f5f"
            },
            "marker": {
             "line": {
              "color": "#E5ECF6",
              "width": 0.5
             },
             "pattern": {
              "fillmode": "overlay",
              "size": 10,
              "solidity": 0.2
             }
            },
            "type": "bar"
           }
          ],
          "barpolar": [
           {
            "marker": {
             "line": {
              "color": "#E5ECF6",
              "width": 0.5
             },
             "pattern": {
              "fillmode": "overlay",
              "size": 10,
              "solidity": 0.2
             }
            },
            "type": "barpolar"
           }
          ],
          "carpet": [
           {
            "aaxis": {
             "endlinecolor": "#2a3f5f",
             "gridcolor": "white",
             "linecolor": "white",
             "minorgridcolor": "white",
             "startlinecolor": "#2a3f5f"
            },
            "baxis": {
             "endlinecolor": "#2a3f5f",
             "gridcolor": "white",
             "linecolor": "white",
             "minorgridcolor": "white",
             "startlinecolor": "#2a3f5f"
            },
            "type": "carpet"
           }
          ],
          "choropleth": [
           {
            "colorbar": {
             "outlinewidth": 0,
             "ticks": ""
            },
            "type": "choropleth"
           }
          ],
          "contour": [
           {
            "colorbar": {
             "outlinewidth": 0,
             "ticks": ""
            },
            "colorscale": [
             [
              0,
              "#0d0887"
             ],
             [
              0.1111111111111111,
              "#46039f"
             ],
             [
              0.2222222222222222,
              "#7201a8"
             ],
             [
              0.3333333333333333,
              "#9c179e"
             ],
             [
              0.4444444444444444,
              "#bd3786"
             ],
             [
              0.5555555555555556,
              "#d8576b"
             ],
             [
              0.6666666666666666,
              "#ed7953"
             ],
             [
              0.7777777777777778,
              "#fb9f3a"
             ],
             [
              0.8888888888888888,
              "#fdca26"
             ],
             [
              1,
              "#f0f921"
             ]
            ],
            "type": "contour"
           }
          ],
          "contourcarpet": [
           {
            "colorbar": {
             "outlinewidth": 0,
             "ticks": ""
            },
            "type": "contourcarpet"
           }
          ],
          "heatmap": [
           {
            "colorbar": {
             "outlinewidth": 0,
             "ticks": ""
            },
            "colorscale": [
             [
              0,
              "#0d0887"
             ],
             [
              0.1111111111111111,
              "#46039f"
             ],
             [
              0.2222222222222222,
              "#7201a8"
             ],
             [
              0.3333333333333333,
              "#9c179e"
             ],
             [
              0.4444444444444444,
              "#bd3786"
             ],
             [
              0.5555555555555556,
              "#d8576b"
             ],
             [
              0.6666666666666666,
              "#ed7953"
             ],
             [
              0.7777777777777778,
              "#fb9f3a"
             ],
             [
              0.8888888888888888,
              "#fdca26"
             ],
             [
              1,
              "#f0f921"
             ]
            ],
            "type": "heatmap"
           }
          ],
          "heatmapgl": [
           {
            "colorbar": {
             "outlinewidth": 0,
             "ticks": ""
            },
            "colorscale": [
             [
              0,
              "#0d0887"
             ],
             [
              0.1111111111111111,
              "#46039f"
             ],
             [
              0.2222222222222222,
              "#7201a8"
             ],
             [
              0.3333333333333333,
              "#9c179e"
             ],
             [
              0.4444444444444444,
              "#bd3786"
             ],
             [
              0.5555555555555556,
              "#d8576b"
             ],
             [
              0.6666666666666666,
              "#ed7953"
             ],
             [
              0.7777777777777778,
              "#fb9f3a"
             ],
             [
              0.8888888888888888,
              "#fdca26"
             ],
             [
              1,
              "#f0f921"
             ]
            ],
            "type": "heatmapgl"
           }
          ],
          "histogram": [
           {
            "marker": {
             "pattern": {
              "fillmode": "overlay",
              "size": 10,
              "solidity": 0.2
             }
            },
            "type": "histogram"
           }
          ],
          "histogram2d": [
           {
            "colorbar": {
             "outlinewidth": 0,
             "ticks": ""
            },
            "colorscale": [
             [
              0,
              "#0d0887"
             ],
             [
              0.1111111111111111,
              "#46039f"
             ],
             [
              0.2222222222222222,
              "#7201a8"
             ],
             [
              0.3333333333333333,
              "#9c179e"
             ],
             [
              0.4444444444444444,
              "#bd3786"
             ],
             [
              0.5555555555555556,
              "#d8576b"
             ],
             [
              0.6666666666666666,
              "#ed7953"
             ],
             [
              0.7777777777777778,
              "#fb9f3a"
             ],
             [
              0.8888888888888888,
              "#fdca26"
             ],
             [
              1,
              "#f0f921"
             ]
            ],
            "type": "histogram2d"
           }
          ],
          "histogram2dcontour": [
           {
            "colorbar": {
             "outlinewidth": 0,
             "ticks": ""
            },
            "colorscale": [
             [
              0,
              "#0d0887"
             ],
             [
              0.1111111111111111,
              "#46039f"
             ],
             [
              0.2222222222222222,
              "#7201a8"
             ],
             [
              0.3333333333333333,
              "#9c179e"
             ],
             [
              0.4444444444444444,
              "#bd3786"
             ],
             [
              0.5555555555555556,
              "#d8576b"
             ],
             [
              0.6666666666666666,
              "#ed7953"
             ],
             [
              0.7777777777777778,
              "#fb9f3a"
             ],
             [
              0.8888888888888888,
              "#fdca26"
             ],
             [
              1,
              "#f0f921"
             ]
            ],
            "type": "histogram2dcontour"
           }
          ],
          "mesh3d": [
           {
            "colorbar": {
             "outlinewidth": 0,
             "ticks": ""
            },
            "type": "mesh3d"
           }
          ],
          "parcoords": [
           {
            "line": {
             "colorbar": {
              "outlinewidth": 0,
              "ticks": ""
             }
            },
            "type": "parcoords"
           }
          ],
          "pie": [
           {
            "automargin": true,
            "type": "pie"
           }
          ],
          "scatter": [
           {
            "fillpattern": {
             "fillmode": "overlay",
             "size": 10,
             "solidity": 0.2
            },
            "type": "scatter"
           }
          ],
          "scatter3d": [
           {
            "line": {
             "colorbar": {
              "outlinewidth": 0,
              "ticks": ""
             }
            },
            "marker": {
             "colorbar": {
              "outlinewidth": 0,
              "ticks": ""
             }
            },
            "type": "scatter3d"
           }
          ],
          "scattercarpet": [
           {
            "marker": {
             "colorbar": {
              "outlinewidth": 0,
              "ticks": ""
             }
            },
            "type": "scattercarpet"
           }
          ],
          "scattergeo": [
           {
            "marker": {
             "colorbar": {
              "outlinewidth": 0,
              "ticks": ""
             }
            },
            "type": "scattergeo"
           }
          ],
          "scattergl": [
           {
            "marker": {
             "colorbar": {
              "outlinewidth": 0,
              "ticks": ""
             }
            },
            "type": "scattergl"
           }
          ],
          "scattermapbox": [
           {
            "marker": {
             "colorbar": {
              "outlinewidth": 0,
              "ticks": ""
             }
            },
            "type": "scattermapbox"
           }
          ],
          "scatterpolar": [
           {
            "marker": {
             "colorbar": {
              "outlinewidth": 0,
              "ticks": ""
             }
            },
            "type": "scatterpolar"
           }
          ],
          "scatterpolargl": [
           {
            "marker": {
             "colorbar": {
              "outlinewidth": 0,
              "ticks": ""
             }
            },
            "type": "scatterpolargl"
           }
          ],
          "scatterternary": [
           {
            "marker": {
             "colorbar": {
              "outlinewidth": 0,
              "ticks": ""
             }
            },
            "type": "scatterternary"
           }
          ],
          "surface": [
           {
            "colorbar": {
             "outlinewidth": 0,
             "ticks": ""
            },
            "colorscale": [
             [
              0,
              "#0d0887"
             ],
             [
              0.1111111111111111,
              "#46039f"
             ],
             [
              0.2222222222222222,
              "#7201a8"
             ],
             [
              0.3333333333333333,
              "#9c179e"
             ],
             [
              0.4444444444444444,
              "#bd3786"
             ],
             [
              0.5555555555555556,
              "#d8576b"
             ],
             [
              0.6666666666666666,
              "#ed7953"
             ],
             [
              0.7777777777777778,
              "#fb9f3a"
             ],
             [
              0.8888888888888888,
              "#fdca26"
             ],
             [
              1,
              "#f0f921"
             ]
            ],
            "type": "surface"
           }
          ],
          "table": [
           {
            "cells": {
             "fill": {
              "color": "#EBF0F8"
             },
             "line": {
              "color": "white"
             }
            },
            "header": {
             "fill": {
              "color": "#C8D4E3"
             },
             "line": {
              "color": "white"
             }
            },
            "type": "table"
           }
          ]
         },
         "layout": {
          "annotationdefaults": {
           "arrowcolor": "#2a3f5f",
           "arrowhead": 0,
           "arrowwidth": 1
          },
          "autotypenumbers": "strict",
          "coloraxis": {
           "colorbar": {
            "outlinewidth": 0,
            "ticks": ""
           }
          },
          "colorscale": {
           "diverging": [
            [
             0,
             "#8e0152"
            ],
            [
             0.1,
             "#c51b7d"
            ],
            [
             0.2,
             "#de77ae"
            ],
            [
             0.3,
             "#f1b6da"
            ],
            [
             0.4,
             "#fde0ef"
            ],
            [
             0.5,
             "#f7f7f7"
            ],
            [
             0.6,
             "#e6f5d0"
            ],
            [
             0.7,
             "#b8e186"
            ],
            [
             0.8,
             "#7fbc41"
            ],
            [
             0.9,
             "#4d9221"
            ],
            [
             1,
             "#276419"
            ]
           ],
           "sequential": [
            [
             0,
             "#0d0887"
            ],
            [
             0.1111111111111111,
             "#46039f"
            ],
            [
             0.2222222222222222,
             "#7201a8"
            ],
            [
             0.3333333333333333,
             "#9c179e"
            ],
            [
             0.4444444444444444,
             "#bd3786"
            ],
            [
             0.5555555555555556,
             "#d8576b"
            ],
            [
             0.6666666666666666,
             "#ed7953"
            ],
            [
             0.7777777777777778,
             "#fb9f3a"
            ],
            [
             0.8888888888888888,
             "#fdca26"
            ],
            [
             1,
             "#f0f921"
            ]
           ],
           "sequentialminus": [
            [
             0,
             "#0d0887"
            ],
            [
             0.1111111111111111,
             "#46039f"
            ],
            [
             0.2222222222222222,
             "#7201a8"
            ],
            [
             0.3333333333333333,
             "#9c179e"
            ],
            [
             0.4444444444444444,
             "#bd3786"
            ],
            [
             0.5555555555555556,
             "#d8576b"
            ],
            [
             0.6666666666666666,
             "#ed7953"
            ],
            [
             0.7777777777777778,
             "#fb9f3a"
            ],
            [
             0.8888888888888888,
             "#fdca26"
            ],
            [
             1,
             "#f0f921"
            ]
           ]
          },
          "colorway": [
           "#636efa",
           "#EF553B",
           "#00cc96",
           "#ab63fa",
           "#FFA15A",
           "#19d3f3",
           "#FF6692",
           "#B6E880",
           "#FF97FF",
           "#FECB52"
          ],
          "font": {
           "color": "#2a3f5f"
          },
          "geo": {
           "bgcolor": "white",
           "lakecolor": "white",
           "landcolor": "#E5ECF6",
           "showlakes": true,
           "showland": true,
           "subunitcolor": "white"
          },
          "hoverlabel": {
           "align": "left"
          },
          "hovermode": "closest",
          "mapbox": {
           "style": "light"
          },
          "paper_bgcolor": "white",
          "plot_bgcolor": "#E5ECF6",
          "polar": {
           "angularaxis": {
            "gridcolor": "white",
            "linecolor": "white",
            "ticks": ""
           },
           "bgcolor": "#E5ECF6",
           "radialaxis": {
            "gridcolor": "white",
            "linecolor": "white",
            "ticks": ""
           }
          },
          "scene": {
           "xaxis": {
            "backgroundcolor": "#E5ECF6",
            "gridcolor": "white",
            "gridwidth": 2,
            "linecolor": "white",
            "showbackground": true,
            "ticks": "",
            "zerolinecolor": "white"
           },
           "yaxis": {
            "backgroundcolor": "#E5ECF6",
            "gridcolor": "white",
            "gridwidth": 2,
            "linecolor": "white",
            "showbackground": true,
            "ticks": "",
            "zerolinecolor": "white"
           },
           "zaxis": {
            "backgroundcolor": "#E5ECF6",
            "gridcolor": "white",
            "gridwidth": 2,
            "linecolor": "white",
            "showbackground": true,
            "ticks": "",
            "zerolinecolor": "white"
           }
          },
          "shapedefaults": {
           "line": {
            "color": "#2a3f5f"
           }
          },
          "ternary": {
           "aaxis": {
            "gridcolor": "white",
            "linecolor": "white",
            "ticks": ""
           },
           "baxis": {
            "gridcolor": "white",
            "linecolor": "white",
            "ticks": ""
           },
           "bgcolor": "#E5ECF6",
           "caxis": {
            "gridcolor": "white",
            "linecolor": "white",
            "ticks": ""
           }
          },
          "title": {
           "x": 0.05
          },
          "xaxis": {
           "automargin": true,
           "gridcolor": "white",
           "linecolor": "white",
           "ticks": "",
           "title": {
            "standoff": 15
           },
           "zerolinecolor": "white",
           "zerolinewidth": 2
          },
          "yaxis": {
           "automargin": true,
           "gridcolor": "white",
           "linecolor": "white",
           "ticks": "",
           "title": {
            "standoff": 15
           },
           "zerolinecolor": "white",
           "zerolinewidth": 2
          }
         }
        }
       }
      }
     },
     "metadata": {},
     "output_type": "display_data"
    },
    {
     "data": {
      "application/vnd.plotly.v1+json": {
       "config": {
        "plotlyServerURL": "https://plot.ly"
       },
       "data": [
        {
         "name": "Группа А",
         "textinfo": "value+percent initial",
         "textposition": "inside",
         "type": "funnel",
         "x": [
          8566,
          5525,
          2655,
          2558
         ],
         "y": [
          "Authorization",
          "Product Page",
          "Shopping cart",
          "Purchase"
         ]
        },
        {
         "name": "Группа В",
         "textinfo": "value+percent initial",
         "textposition": "inside",
         "type": "funnel",
         "x": [
          2624,
          1405,
          676,
          689
         ],
         "y": [
          "Authorization",
          "Product Page",
          "Shopping cart",
          "Purchase"
         ]
        }
       ],
       "layout": {
        "template": {
         "data": {
          "bar": [
           {
            "error_x": {
             "color": "#2a3f5f"
            },
            "error_y": {
             "color": "#2a3f5f"
            },
            "marker": {
             "line": {
              "color": "#E5ECF6",
              "width": 0.5
             },
             "pattern": {
              "fillmode": "overlay",
              "size": 10,
              "solidity": 0.2
             }
            },
            "type": "bar"
           }
          ],
          "barpolar": [
           {
            "marker": {
             "line": {
              "color": "#E5ECF6",
              "width": 0.5
             },
             "pattern": {
              "fillmode": "overlay",
              "size": 10,
              "solidity": 0.2
             }
            },
            "type": "barpolar"
           }
          ],
          "carpet": [
           {
            "aaxis": {
             "endlinecolor": "#2a3f5f",
             "gridcolor": "white",
             "linecolor": "white",
             "minorgridcolor": "white",
             "startlinecolor": "#2a3f5f"
            },
            "baxis": {
             "endlinecolor": "#2a3f5f",
             "gridcolor": "white",
             "linecolor": "white",
             "minorgridcolor": "white",
             "startlinecolor": "#2a3f5f"
            },
            "type": "carpet"
           }
          ],
          "choropleth": [
           {
            "colorbar": {
             "outlinewidth": 0,
             "ticks": ""
            },
            "type": "choropleth"
           }
          ],
          "contour": [
           {
            "colorbar": {
             "outlinewidth": 0,
             "ticks": ""
            },
            "colorscale": [
             [
              0,
              "#0d0887"
             ],
             [
              0.1111111111111111,
              "#46039f"
             ],
             [
              0.2222222222222222,
              "#7201a8"
             ],
             [
              0.3333333333333333,
              "#9c179e"
             ],
             [
              0.4444444444444444,
              "#bd3786"
             ],
             [
              0.5555555555555556,
              "#d8576b"
             ],
             [
              0.6666666666666666,
              "#ed7953"
             ],
             [
              0.7777777777777778,
              "#fb9f3a"
             ],
             [
              0.8888888888888888,
              "#fdca26"
             ],
             [
              1,
              "#f0f921"
             ]
            ],
            "type": "contour"
           }
          ],
          "contourcarpet": [
           {
            "colorbar": {
             "outlinewidth": 0,
             "ticks": ""
            },
            "type": "contourcarpet"
           }
          ],
          "heatmap": [
           {
            "colorbar": {
             "outlinewidth": 0,
             "ticks": ""
            },
            "colorscale": [
             [
              0,
              "#0d0887"
             ],
             [
              0.1111111111111111,
              "#46039f"
             ],
             [
              0.2222222222222222,
              "#7201a8"
             ],
             [
              0.3333333333333333,
              "#9c179e"
             ],
             [
              0.4444444444444444,
              "#bd3786"
             ],
             [
              0.5555555555555556,
              "#d8576b"
             ],
             [
              0.6666666666666666,
              "#ed7953"
             ],
             [
              0.7777777777777778,
              "#fb9f3a"
             ],
             [
              0.8888888888888888,
              "#fdca26"
             ],
             [
              1,
              "#f0f921"
             ]
            ],
            "type": "heatmap"
           }
          ],
          "heatmapgl": [
           {
            "colorbar": {
             "outlinewidth": 0,
             "ticks": ""
            },
            "colorscale": [
             [
              0,
              "#0d0887"
             ],
             [
              0.1111111111111111,
              "#46039f"
             ],
             [
              0.2222222222222222,
              "#7201a8"
             ],
             [
              0.3333333333333333,
              "#9c179e"
             ],
             [
              0.4444444444444444,
              "#bd3786"
             ],
             [
              0.5555555555555556,
              "#d8576b"
             ],
             [
              0.6666666666666666,
              "#ed7953"
             ],
             [
              0.7777777777777778,
              "#fb9f3a"
             ],
             [
              0.8888888888888888,
              "#fdca26"
             ],
             [
              1,
              "#f0f921"
             ]
            ],
            "type": "heatmapgl"
           }
          ],
          "histogram": [
           {
            "marker": {
             "pattern": {
              "fillmode": "overlay",
              "size": 10,
              "solidity": 0.2
             }
            },
            "type": "histogram"
           }
          ],
          "histogram2d": [
           {
            "colorbar": {
             "outlinewidth": 0,
             "ticks": ""
            },
            "colorscale": [
             [
              0,
              "#0d0887"
             ],
             [
              0.1111111111111111,
              "#46039f"
             ],
             [
              0.2222222222222222,
              "#7201a8"
             ],
             [
              0.3333333333333333,
              "#9c179e"
             ],
             [
              0.4444444444444444,
              "#bd3786"
             ],
             [
              0.5555555555555556,
              "#d8576b"
             ],
             [
              0.6666666666666666,
              "#ed7953"
             ],
             [
              0.7777777777777778,
              "#fb9f3a"
             ],
             [
              0.8888888888888888,
              "#fdca26"
             ],
             [
              1,
              "#f0f921"
             ]
            ],
            "type": "histogram2d"
           }
          ],
          "histogram2dcontour": [
           {
            "colorbar": {
             "outlinewidth": 0,
             "ticks": ""
            },
            "colorscale": [
             [
              0,
              "#0d0887"
             ],
             [
              0.1111111111111111,
              "#46039f"
             ],
             [
              0.2222222222222222,
              "#7201a8"
             ],
             [
              0.3333333333333333,
              "#9c179e"
             ],
             [
              0.4444444444444444,
              "#bd3786"
             ],
             [
              0.5555555555555556,
              "#d8576b"
             ],
             [
              0.6666666666666666,
              "#ed7953"
             ],
             [
              0.7777777777777778,
              "#fb9f3a"
             ],
             [
              0.8888888888888888,
              "#fdca26"
             ],
             [
              1,
              "#f0f921"
             ]
            ],
            "type": "histogram2dcontour"
           }
          ],
          "mesh3d": [
           {
            "colorbar": {
             "outlinewidth": 0,
             "ticks": ""
            },
            "type": "mesh3d"
           }
          ],
          "parcoords": [
           {
            "line": {
             "colorbar": {
              "outlinewidth": 0,
              "ticks": ""
             }
            },
            "type": "parcoords"
           }
          ],
          "pie": [
           {
            "automargin": true,
            "type": "pie"
           }
          ],
          "scatter": [
           {
            "fillpattern": {
             "fillmode": "overlay",
             "size": 10,
             "solidity": 0.2
            },
            "type": "scatter"
           }
          ],
          "scatter3d": [
           {
            "line": {
             "colorbar": {
              "outlinewidth": 0,
              "ticks": ""
             }
            },
            "marker": {
             "colorbar": {
              "outlinewidth": 0,
              "ticks": ""
             }
            },
            "type": "scatter3d"
           }
          ],
          "scattercarpet": [
           {
            "marker": {
             "colorbar": {
              "outlinewidth": 0,
              "ticks": ""
             }
            },
            "type": "scattercarpet"
           }
          ],
          "scattergeo": [
           {
            "marker": {
             "colorbar": {
              "outlinewidth": 0,
              "ticks": ""
             }
            },
            "type": "scattergeo"
           }
          ],
          "scattergl": [
           {
            "marker": {
             "colorbar": {
              "outlinewidth": 0,
              "ticks": ""
             }
            },
            "type": "scattergl"
           }
          ],
          "scattermapbox": [
           {
            "marker": {
             "colorbar": {
              "outlinewidth": 0,
              "ticks": ""
             }
            },
            "type": "scattermapbox"
           }
          ],
          "scatterpolar": [
           {
            "marker": {
             "colorbar": {
              "outlinewidth": 0,
              "ticks": ""
             }
            },
            "type": "scatterpolar"
           }
          ],
          "scatterpolargl": [
           {
            "marker": {
             "colorbar": {
              "outlinewidth": 0,
              "ticks": ""
             }
            },
            "type": "scatterpolargl"
           }
          ],
          "scatterternary": [
           {
            "marker": {
             "colorbar": {
              "outlinewidth": 0,
              "ticks": ""
             }
            },
            "type": "scatterternary"
           }
          ],
          "surface": [
           {
            "colorbar": {
             "outlinewidth": 0,
             "ticks": ""
            },
            "colorscale": [
             [
              0,
              "#0d0887"
             ],
             [
              0.1111111111111111,
              "#46039f"
             ],
             [
              0.2222222222222222,
              "#7201a8"
             ],
             [
              0.3333333333333333,
              "#9c179e"
             ],
             [
              0.4444444444444444,
              "#bd3786"
             ],
             [
              0.5555555555555556,
              "#d8576b"
             ],
             [
              0.6666666666666666,
              "#ed7953"
             ],
             [
              0.7777777777777778,
              "#fb9f3a"
             ],
             [
              0.8888888888888888,
              "#fdca26"
             ],
             [
              1,
              "#f0f921"
             ]
            ],
            "type": "surface"
           }
          ],
          "table": [
           {
            "cells": {
             "fill": {
              "color": "#EBF0F8"
             },
             "line": {
              "color": "white"
             }
            },
            "header": {
             "fill": {
              "color": "#C8D4E3"
             },
             "line": {
              "color": "white"
             }
            },
            "type": "table"
           }
          ]
         },
         "layout": {
          "annotationdefaults": {
           "arrowcolor": "#2a3f5f",
           "arrowhead": 0,
           "arrowwidth": 1
          },
          "autotypenumbers": "strict",
          "coloraxis": {
           "colorbar": {
            "outlinewidth": 0,
            "ticks": ""
           }
          },
          "colorscale": {
           "diverging": [
            [
             0,
             "#8e0152"
            ],
            [
             0.1,
             "#c51b7d"
            ],
            [
             0.2,
             "#de77ae"
            ],
            [
             0.3,
             "#f1b6da"
            ],
            [
             0.4,
             "#fde0ef"
            ],
            [
             0.5,
             "#f7f7f7"
            ],
            [
             0.6,
             "#e6f5d0"
            ],
            [
             0.7,
             "#b8e186"
            ],
            [
             0.8,
             "#7fbc41"
            ],
            [
             0.9,
             "#4d9221"
            ],
            [
             1,
             "#276419"
            ]
           ],
           "sequential": [
            [
             0,
             "#0d0887"
            ],
            [
             0.1111111111111111,
             "#46039f"
            ],
            [
             0.2222222222222222,
             "#7201a8"
            ],
            [
             0.3333333333333333,
             "#9c179e"
            ],
            [
             0.4444444444444444,
             "#bd3786"
            ],
            [
             0.5555555555555556,
             "#d8576b"
            ],
            [
             0.6666666666666666,
             "#ed7953"
            ],
            [
             0.7777777777777778,
             "#fb9f3a"
            ],
            [
             0.8888888888888888,
             "#fdca26"
            ],
            [
             1,
             "#f0f921"
            ]
           ],
           "sequentialminus": [
            [
             0,
             "#0d0887"
            ],
            [
             0.1111111111111111,
             "#46039f"
            ],
            [
             0.2222222222222222,
             "#7201a8"
            ],
            [
             0.3333333333333333,
             "#9c179e"
            ],
            [
             0.4444444444444444,
             "#bd3786"
            ],
            [
             0.5555555555555556,
             "#d8576b"
            ],
            [
             0.6666666666666666,
             "#ed7953"
            ],
            [
             0.7777777777777778,
             "#fb9f3a"
            ],
            [
             0.8888888888888888,
             "#fdca26"
            ],
            [
             1,
             "#f0f921"
            ]
           ]
          },
          "colorway": [
           "#636efa",
           "#EF553B",
           "#00cc96",
           "#ab63fa",
           "#FFA15A",
           "#19d3f3",
           "#FF6692",
           "#B6E880",
           "#FF97FF",
           "#FECB52"
          ],
          "font": {
           "color": "#2a3f5f"
          },
          "geo": {
           "bgcolor": "white",
           "lakecolor": "white",
           "landcolor": "#E5ECF6",
           "showlakes": true,
           "showland": true,
           "subunitcolor": "white"
          },
          "hoverlabel": {
           "align": "left"
          },
          "hovermode": "closest",
          "mapbox": {
           "style": "light"
          },
          "paper_bgcolor": "white",
          "plot_bgcolor": "#E5ECF6",
          "polar": {
           "angularaxis": {
            "gridcolor": "white",
            "linecolor": "white",
            "ticks": ""
           },
           "bgcolor": "#E5ECF6",
           "radialaxis": {
            "gridcolor": "white",
            "linecolor": "white",
            "ticks": ""
           }
          },
          "scene": {
           "xaxis": {
            "backgroundcolor": "#E5ECF6",
            "gridcolor": "white",
            "gridwidth": 2,
            "linecolor": "white",
            "showbackground": true,
            "ticks": "",
            "zerolinecolor": "white"
           },
           "yaxis": {
            "backgroundcolor": "#E5ECF6",
            "gridcolor": "white",
            "gridwidth": 2,
            "linecolor": "white",
            "showbackground": true,
            "ticks": "",
            "zerolinecolor": "white"
           },
           "zaxis": {
            "backgroundcolor": "#E5ECF6",
            "gridcolor": "white",
            "gridwidth": 2,
            "linecolor": "white",
            "showbackground": true,
            "ticks": "",
            "zerolinecolor": "white"
           }
          },
          "shapedefaults": {
           "line": {
            "color": "#2a3f5f"
           }
          },
          "ternary": {
           "aaxis": {
            "gridcolor": "white",
            "linecolor": "white",
            "ticks": ""
           },
           "baxis": {
            "gridcolor": "white",
            "linecolor": "white",
            "ticks": ""
           },
           "bgcolor": "#E5ECF6",
           "caxis": {
            "gridcolor": "white",
            "linecolor": "white",
            "ticks": ""
           }
          },
          "title": {
           "x": 0.05
          },
          "xaxis": {
           "automargin": true,
           "gridcolor": "white",
           "linecolor": "white",
           "ticks": "",
           "title": {
            "standoff": 15
           },
           "zerolinecolor": "white",
           "zerolinewidth": 2
          },
          "yaxis": {
           "automargin": true,
           "gridcolor": "white",
           "linecolor": "white",
           "ticks": "",
           "title": {
            "standoff": 15
           },
           "zerolinecolor": "white",
           "zerolinewidth": 2
          }
         }
        }
       }
      }
     },
     "metadata": {},
     "output_type": "display_data"
    }
   ],
   "source": [
    "# Build funnels for groups to compare their conversions\n",
    "fig = go.Figure()\n",
    "fig.add_trace(go.Funnel(\n",
    "    name = 'Группа А',\n",
    "    y=[\"Authorization\",\n",
    "         \"Product Page\", \n",
    "         \"Shopping cart\", \n",
    "         \"Purchase\"],\n",
    "    x=event_AB['count_A'],\n",
    "    textposition = \"inside\",\n",
    "    textinfo = \"value+percent initial\"\n",
    "    ))\n",
    "fig.add_trace(go.Funnel(\n",
    "    name = 'Группа В',\n",
    "    y=[\"Authorization\",\n",
    "         \"Product Page\", \n",
    "         \"Shopping cart\", \n",
    "         \"Purchase\"],\n",
    "    x=event_AB['count_B'],\n",
    "    textposition = \"inside\",\n",
    "    textinfo = \"value+percent initial\"\n",
    "    ))"
   ]
  },
  {
   "cell_type": "markdown",
   "metadata": {},
   "source": [
    "#### Comment\n",
    "On the resulting graph, we can also notice the lag of group B. The transition to the product page of group B is 10% lower, the shopping cart is 5% lower, and the purchase is 4% lower."
   ]
  },
  {
   "cell_type": "markdown",
   "metadata": {},
   "source": [
    "### Distribution of the number of events by day"
   ]
  },
  {
   "cell_type": "code",
   "execution_count": 234,
   "metadata": {},
   "outputs": [
    {
     "data": {
      "image/png": "[encoded data removed]",
      "text/plain": [
       "<Figure size 800x500 with 1 Axes>"
      ]
     },
     "metadata": {},
     "output_type": "display_data"
    }
   ],
   "source": [
    "# Build a histogram of the distribution of user activity over time\n",
    "spec_df['event_dt'].hist(bins=100, figsize=(8,5))\n",
    "plt.title('Distribution of user activity over time')\n",
    "plt.xlabel('Date')\n",
    "plt.ylabel('User activity');"
   ]
  },
  {
   "cell_type": "markdown",
   "metadata": {},
   "source": [
    "#### Comment\n",
    "As you can see on the graph, the distribution of events is uneven. You can notice jumps in user activity on December 14, after which activity remains at a high level and on December 21 - the surge in activity lasted a day, after which the indicators go down and return to the initial indicators by December 29. The surge in user activity can be explained by the upcoming Catholic Christmas, when users buy gifts for their relatives and friends for the holiday."
   ]
  },
  {
   "cell_type": "code",
   "execution_count": 235,
   "metadata": {
    "scrolled": false
   },
   "outputs": [
    {
     "data": {
      "text/plain": [
       "count                   24698\n",
       "unique                  16523\n",
       "top       2020-12-09 19:01:05\n",
       "freq                        6\n",
       "first     2020-12-07 00:05:57\n",
       "last      2020-12-30 12:42:57\n",
       "Name: event_dt, dtype: object"
      ]
     },
     "execution_count": 235,
     "metadata": {},
     "output_type": "execute_result"
    }
   ],
   "source": [
    "spec_df.event_dt.describe()"
   ]
  },
  {
   "cell_type": "code",
   "execution_count": 236,
   "metadata": {},
   "outputs": [
    {
     "data": {
      "text/html": [
       "<div>\n",
       "<style scoped>\n",
       "    .dataframe tbody tr th:only-of-type {\n",
       "        vertical-align: middle;\n",
       "    }\n",
       "\n",
       "    .dataframe tbody tr th {\n",
       "        vertical-align: top;\n",
       "    }\n",
       "\n",
       "    .dataframe thead th {\n",
       "        text-align: right;\n",
       "    }\n",
       "</style>\n",
       "<table border=\"1\" class=\"dataframe\">\n",
       "  <thead>\n",
       "    <tr style=\"text-align: right;\">\n",
       "      <th></th>\n",
       "      <th>name</th>\n",
       "      <th>regions</th>\n",
       "      <th>start_dt</th>\n",
       "      <th>finish_dt</th>\n",
       "    </tr>\n",
       "  </thead>\n",
       "  <tbody>\n",
       "    <tr>\n",
       "      <th>0</th>\n",
       "      <td>Christmas&amp;New Year Promo</td>\n",
       "      <td>EU, N.America</td>\n",
       "      <td>2020-12-25</td>\n",
       "      <td>2021-01-03</td>\n",
       "    </tr>\n",
       "    <tr>\n",
       "      <th>10</th>\n",
       "      <td>CIS New Year Gift Lottery</td>\n",
       "      <td>CIS</td>\n",
       "      <td>2020-12-30</td>\n",
       "      <td>2021-01-07</td>\n",
       "    </tr>\n",
       "  </tbody>\n",
       "</table>\n",
       "</div>"
      ],
      "text/plain": [
       "                         name        regions   start_dt  finish_dt\n",
       "0    Christmas&New Year Promo  EU, N.America 2020-12-25 2021-01-03\n",
       "10  CIS New Year Gift Lottery            CIS 2020-12-30 2021-01-07"
      ]
     },
     "execution_count": 236,
     "metadata": {},
     "output_type": "execute_result"
    }
   ],
   "source": [
    "# Check which of the marketing activities were carried out simultaneously with the test\n",
    "marketing_events.query('start_dt > \"2020-12-07\" and finish_dt > \"2020-12-30\"')"
   ]
  },
  {
   "cell_type": "markdown",
   "metadata": {},
   "source": [
    "#### Summary\n",
    "\"CIS New Year Gift Lottery\" will not affect the study, since the event began on the last day of data collection (especially since the data was collected on 30.12.20 just before noon). The \"Christmas&New Year Promo\", which began on December 25, intersects with the test for five days. We will inform the customer about this circumstance."
   ]
  },
  {
   "cell_type": "code",
   "execution_count": 237,
   "metadata": {
    "scrolled": false
   },
   "outputs": [
    {
     "data": {
      "text/plain": [
       "count                   21370\n",
       "unique                  14332\n",
       "top       2020-12-09 19:01:05\n",
       "freq                        6\n",
       "first     2020-12-07 00:05:57\n",
       "last      2020-12-24 23:58:32\n",
       "Name: event_dt, dtype: object"
      ]
     },
     "execution_count": 237,
     "metadata": {},
     "output_type": "execute_result"
    }
   ],
   "source": [
    "# Let's shorten the investigated events to December 25 so that the data does not overlap \n",
    "# with Christmas&New Year Promo dates\n",
    "spec_df_before_25_12 = spec_df.query('event_dt < \"2020-12-25 00:00:00\"')\n",
    "spec_df_before_25_12.event_dt.describe()"
   ]
  },
  {
   "cell_type": "markdown",
   "metadata": {},
   "source": [
    "## Evaluation of A/B testing results\n",
    "\n",
    "Let's formulate hypotheses for the compared fractions:\n",
    "    \n",
    "    h₀ - There is no reason to consider the shares different.\n",
    "\n",
    "    h₁ - There is a significant difference between the shares."
   ]
  },
  {
   "cell_type": "code",
   "execution_count": 238,
   "metadata": {},
   "outputs": [],
   "source": [
    "# Create a function where in the parameters we specify the dataset, the name of the event, the groups being compared and the alpha value\n",
    "alpha = 0.05\n",
    "def Ztest(data, event):\n",
    "    \n",
    "    # Count the number of completed events and unique users in groups\n",
    "    gr1_event = data.query('group == \"A\" and @event in event_name').user_id.nunique()\n",
    "    gr2_event = data.query('group == \"B\" and @event in event_name').user_id.nunique()\n",
    "    gr1_users = data.query('group == \"A\"').user_id.nunique()\n",
    "    gr2_users = data.query('group == \"B\"').user_id.nunique()\n",
    "    \n",
    "    # Calculate the shares in the groups and the difference between them\n",
    "    p1 = gr1_event / gr1_users\n",
    "    p2 = gr2_event / gr2_users\n",
    "    difference = p1 - p2\n",
    "    \n",
    "    p_combined = (gr1_event + gr2_event) / (gr1_users + gr2_users)\n",
    "    \n",
    "    # Calculate statistics in standard deviations of the standard normal distribution\n",
    "    z_value = difference / mth.sqrt(p_combined * (1 - p_combined) * (1/gr1_users + 1/gr2_users))\n",
    "    \n",
    "    distr = st.norm(0, 1)\n",
    "    p_value = (1 - distr.cdf(abs(z_value))) * 2\n",
    "    \n",
    "    print('Event: {}'.format(event))\n",
    "    print('p-value: ', round(p_value, 5))\n",
    "    \n",
    "    if p_value < alpha:\n",
    "        print('Reject the null hypothesis: there is a significant difference between the shares')\n",
    "    else:\n",
    "        print('Not possible to reject the null hypothesis, there is no reason to consider the shares different')"
   ]
  },
  {
   "cell_type": "code",
   "execution_count": 239,
   "metadata": {},
   "outputs": [],
   "source": [
    "events_list = ['product_page', 'product_cart', 'purchase']"
   ]
  },
  {
   "cell_type": "code",
   "execution_count": 240,
   "metadata": {},
   "outputs": [
    {
     "name": "stdout",
     "output_type": "stream",
     "text": [
      "Event: product_page\n",
      "p-value:  0.0\n",
      "Reject the null hypothesis: there is a significant difference between the shares\n",
      "-------------------------------------------------------------\n",
      "\n",
      "Event: product_cart\n",
      "p-value:  0.14535\n",
      "Not possible to reject the null hypothesis, there is no reason to consider the shares different\n",
      "-------------------------------------------------------------\n",
      "\n",
      "Event: purchase\n",
      "p-value:  0.01759\n",
      "Reject the null hypothesis: there is a significant difference between the shares\n",
      "-------------------------------------------------------------\n",
      "\n"
     ]
    }
   ],
   "source": [
    "# In the loop, let's run the event names for the prepared function\n",
    "for event in events_list:\n",
    "    Ztest(spec_df_before_25_12, event)\n",
    "    print('-------------------------------------------------------------')\n",
    "    print()"
   ]
  },
  {
   "cell_type": "markdown",
   "metadata": {},
   "source": [
    "### Summary\n",
    "Statistically significant differences between the control and test groups when comparing the \"product_page\" and \"purchase\" events are present, which cannot be said about the \"product_cart\" event, where there are no grounds to consider the shares different."
   ]
  },
  {
   "cell_type": "markdown",
   "metadata": {},
   "source": [
    "## General Conclusion and Recommendations\n",
    "\n",
    "Summing up the results of the study, it is worth noting that it is not possible to conduct it in accordance with the terms of reference, since the data provided did not meet its requirements in many ways.\n",
    "Thus: \n",
    "- The date of stopping the test according to TK: 2021-01-04, but the data was provided before 2020-12-30 12:42:57;\n",
    "- Audience for TK: 15% of new users from the EU region, although in the data provided there were 13.7% of users from this region;\n",
    "\n",
    "In addition to low-quality data, the following circumstances can be noted that negatively affect the results of the study:\n",
    "- 1602 users participated simultaneously in recommender_system_test and interface_eu_test;\n",
    "- There is a big difference between the number of participants in group A - 3824 and B - 2877;\n",
    "- The coincidence of the dates of the test and the marketing event \"Christmas&New Year Promo\".\n",
    "\n",
    "Judging by the results of the test with the available data, turning a blind eye to the above circumstances, the test group B showed worse results of conversions to events compared to group A: \n",
    "- \"Go to the product page\" is 10% lower; \n",
    "- \"Basket page\" - 5% lower; \n",
    "- \"Making a purchase\" - 4% lower.\n",
    "\n",
    "When checking the statistical difference of the fractions by the z-criterion, it is established:\n",
    "- \"Go to the product page\" - there is a difference between the shares; \n",
    "- \"Basket page\" - there is no reason to consider the shares different; \n",
    "- \"Making a purchase\" - there is a difference between the shares.\n",
    "\n",
    "Considering the above and summing up the results of the study, there are sufficient grounds to consider A/B testing failed due to the presence of a large number of errors, which were mentioned earlier. To get better results,"
   ]
  }
 ],
 "metadata": {
  "ExecuteTimeLog": [
   {
    "duration": 982,
    "start_time": "2022-01-28T08:18:49.777Z"
   },
   {
    "duration": 14,
    "start_time": "2022-01-28T08:19:57.589Z"
   },
   {
    "duration": 22,
    "start_time": "2022-01-28T08:20:02.981Z"
   },
   {
    "duration": 538,
    "start_time": "2022-01-28T08:22:22.233Z"
   },
   {
    "duration": 9,
    "start_time": "2022-01-28T08:22:32.612Z"
   },
   {
    "duration": 9,
    "start_time": "2022-01-28T08:22:55.967Z"
   },
   {
    "duration": 10,
    "start_time": "2022-01-28T08:23:32.095Z"
   },
   {
    "duration": 20,
    "start_time": "2022-01-28T08:23:57.391Z"
   },
   {
    "duration": 68,
    "start_time": "2022-01-28T08:24:24.361Z"
   },
   {
    "duration": 18,
    "start_time": "2022-01-28T08:26:04.375Z"
   },
   {
    "duration": 12,
    "start_time": "2022-01-28T08:26:37.527Z"
   },
   {
    "duration": 523,
    "start_time": "2022-01-28T08:52:30.755Z"
   },
   {
    "duration": 288,
    "start_time": "2022-01-28T08:52:57.870Z"
   },
   {
    "duration": 250,
    "start_time": "2022-01-28T08:53:07.234Z"
   },
   {
    "duration": 21,
    "start_time": "2022-01-28T08:53:16.103Z"
   },
   {
    "duration": 27,
    "start_time": "2022-01-28T08:53:39.489Z"
   },
   {
    "duration": 244,
    "start_time": "2022-01-28T08:54:10.669Z"
   },
   {
    "duration": 84,
    "start_time": "2022-01-28T08:56:08.912Z"
   },
   {
    "duration": 20,
    "start_time": "2022-01-28T09:00:44.451Z"
   },
   {
    "duration": 4,
    "start_time": "2022-01-28T09:07:55.386Z"
   },
   {
    "duration": 1126,
    "start_time": "2022-01-28T09:08:19.869Z"
   },
   {
    "duration": 4,
    "start_time": "2022-01-28T09:18:43.391Z"
   },
   {
    "duration": 5,
    "start_time": "2022-01-28T09:18:54.282Z"
   },
   {
    "duration": 8,
    "start_time": "2022-01-28T09:19:00.824Z"
   },
   {
    "duration": 1070,
    "start_time": "2022-01-28T09:19:46.509Z"
   },
   {
    "duration": 388,
    "start_time": "2022-01-28T09:19:55.701Z"
   },
   {
    "duration": 13,
    "start_time": "2022-01-28T09:20:17.419Z"
   },
   {
    "duration": 1093,
    "start_time": "2022-01-28T09:29:02.767Z"
   },
   {
    "duration": 3416,
    "start_time": "2022-01-28T09:30:12.814Z"
   },
   {
    "duration": 39,
    "start_time": "2022-01-28T09:30:25.829Z"
   },
   {
    "duration": 1065,
    "start_time": "2022-01-28T09:31:02.289Z"
   },
   {
    "duration": 1045,
    "start_time": "2022-01-28T09:31:16.409Z"
   },
   {
    "duration": 522,
    "start_time": "2022-01-28T09:31:17.456Z"
   },
   {
    "duration": 390,
    "start_time": "2022-01-28T09:31:17.980Z"
   },
   {
    "duration": -69,
    "start_time": "2022-01-28T09:31:18.441Z"
   },
   {
    "duration": -70,
    "start_time": "2022-01-28T09:31:18.443Z"
   },
   {
    "duration": -75,
    "start_time": "2022-01-28T09:31:18.449Z"
   },
   {
    "duration": -75,
    "start_time": "2022-01-28T09:31:18.451Z"
   },
   {
    "duration": -77,
    "start_time": "2022-01-28T09:31:18.453Z"
   },
   {
    "duration": -78,
    "start_time": "2022-01-28T09:31:18.455Z"
   },
   {
    "duration": 55,
    "start_time": "2022-01-28T09:31:22.673Z"
   },
   {
    "duration": 3879,
    "start_time": "2022-01-28T09:31:43.103Z"
   },
   {
    "duration": 45,
    "start_time": "2022-01-28T09:31:49.841Z"
   },
   {
    "duration": 13,
    "start_time": "2022-01-28T09:31:56.794Z"
   },
   {
    "duration": 12,
    "start_time": "2022-01-28T09:32:25.869Z"
   },
   {
    "duration": 18,
    "start_time": "2022-01-28T09:32:37.145Z"
   },
   {
    "duration": 56,
    "start_time": "2022-01-28T09:32:38.041Z"
   },
   {
    "duration": 12,
    "start_time": "2022-01-28T09:32:39.157Z"
   },
   {
    "duration": 55,
    "start_time": "2022-01-28T09:32:53.751Z"
   },
   {
    "duration": 163,
    "start_time": "2022-01-28T09:36:32.128Z"
   },
   {
    "duration": 18,
    "start_time": "2022-01-28T09:39:13.208Z"
   },
   {
    "duration": 67,
    "start_time": "2022-01-28T09:40:48.636Z"
   },
   {
    "duration": 62,
    "start_time": "2022-01-28T09:42:33.521Z"
   },
   {
    "duration": 76,
    "start_time": "2022-01-28T09:43:11.354Z"
   },
   {
    "duration": 22,
    "start_time": "2022-01-28T09:43:22.332Z"
   },
   {
    "duration": 41,
    "start_time": "2022-01-28T09:43:42.455Z"
   },
   {
    "duration": 39,
    "start_time": "2022-01-28T09:44:11.563Z"
   },
   {
    "duration": 9,
    "start_time": "2022-01-28T09:44:38.999Z"
   },
   {
    "duration": 15,
    "start_time": "2022-01-28T09:45:25.792Z"
   },
   {
    "duration": 51,
    "start_time": "2022-01-28T09:46:08.205Z"
   },
   {
    "duration": 8,
    "start_time": "2022-01-28T09:46:37.475Z"
   },
   {
    "duration": 14,
    "start_time": "2022-01-28T09:48:23.859Z"
   },
   {
    "duration": 45,
    "start_time": "2022-01-28T09:48:59.747Z"
   },
   {
    "duration": 474,
    "start_time": "2022-01-28T10:29:25.655Z"
   },
   {
    "duration": 312,
    "start_time": "2022-01-28T10:31:24.720Z"
   },
   {
    "duration": 32,
    "start_time": "2022-01-28T10:31:34.762Z"
   },
   {
    "duration": 19,
    "start_time": "2022-01-28T10:31:46.098Z"
   },
   {
    "duration": 2139,
    "start_time": "2022-01-28T10:34:24.416Z"
   },
   {
    "duration": 375,
    "start_time": "2022-01-28T10:34:34.495Z"
   },
   {
    "duration": 14,
    "start_time": "2022-01-28T10:35:46.512Z"
   },
   {
    "duration": 9,
    "start_time": "2022-01-28T10:36:06.832Z"
   },
   {
    "duration": 224,
    "start_time": "2022-01-28T10:36:34.061Z"
   },
   {
    "duration": 8,
    "start_time": "2022-01-28T10:36:39.370Z"
   },
   {
    "duration": 9,
    "start_time": "2022-01-28T10:38:40.094Z"
   },
   {
    "duration": 24,
    "start_time": "2022-01-28T10:38:49.609Z"
   },
   {
    "duration": 9,
    "start_time": "2022-01-28T10:39:14.796Z"
   },
   {
    "duration": 14,
    "start_time": "2022-01-28T10:42:59.727Z"
   },
   {
    "duration": 240,
    "start_time": "2022-01-28T10:43:27.190Z"
   },
   {
    "duration": 893,
    "start_time": "2022-01-28T10:43:49.598Z"
   },
   {
    "duration": 1010,
    "start_time": "2022-01-28T10:43:59.838Z"
   },
   {
    "duration": 523,
    "start_time": "2022-01-28T10:44:00.850Z"
   },
   {
    "duration": 14,
    "start_time": "2022-01-28T10:44:01.377Z"
   },
   {
    "duration": 25,
    "start_time": "2022-01-28T10:44:01.393Z"
   },
   {
    "duration": 71,
    "start_time": "2022-01-28T10:44:01.419Z"
   },
   {
    "duration": 29,
    "start_time": "2022-01-28T10:44:01.492Z"
   },
   {
    "duration": 3984,
    "start_time": "2022-01-28T10:44:01.524Z"
   },
   {
    "duration": 189,
    "start_time": "2022-01-28T10:44:05.509Z"
   },
   {
    "duration": 15,
    "start_time": "2022-01-28T10:44:05.699Z"
   },
   {
    "duration": 7,
    "start_time": "2022-01-28T10:44:05.716Z"
   },
   {
    "duration": 6,
    "start_time": "2022-01-28T10:44:05.725Z"
   },
   {
    "duration": 11,
    "start_time": "2022-01-28T10:44:05.733Z"
   },
   {
    "duration": 91,
    "start_time": "2022-01-28T10:44:05.746Z"
   },
   {
    "duration": 1073,
    "start_time": "2022-01-28T10:56:31.869Z"
   },
   {
    "duration": 529,
    "start_time": "2022-01-28T10:56:32.944Z"
   },
   {
    "duration": 14,
    "start_time": "2022-01-28T10:56:33.475Z"
   },
   {
    "duration": 25,
    "start_time": "2022-01-28T10:56:33.491Z"
   },
   {
    "duration": 67,
    "start_time": "2022-01-28T10:56:33.517Z"
   },
   {
    "duration": 30,
    "start_time": "2022-01-28T10:56:33.585Z"
   },
   {
    "duration": 3909,
    "start_time": "2022-01-28T10:56:33.616Z"
   },
   {
    "duration": 193,
    "start_time": "2022-01-28T10:56:37.527Z"
   },
   {
    "duration": 565,
    "start_time": "2022-01-28T11:22:13.180Z"
   },
   {
    "duration": 314,
    "start_time": "2022-01-28T11:22:44.732Z"
   },
   {
    "duration": 275,
    "start_time": "2022-01-28T11:23:23.552Z"
   },
   {
    "duration": 33,
    "start_time": "2022-01-28T11:24:02.242Z"
   },
   {
    "duration": 31,
    "start_time": "2022-01-28T11:24:17.106Z"
   },
   {
    "duration": 73,
    "start_time": "2022-01-28T11:24:25.303Z"
   },
   {
    "duration": 59,
    "start_time": "2022-01-28T11:24:40.746Z"
   },
   {
    "duration": 84,
    "start_time": "2022-01-28T11:24:56.890Z"
   },
   {
    "duration": 20,
    "start_time": "2022-01-28T11:28:22.946Z"
   },
   {
    "duration": 27,
    "start_time": "2022-01-28T11:28:53.850Z"
   },
   {
    "duration": 20,
    "start_time": "2022-01-28T11:29:13.760Z"
   },
   {
    "duration": 15,
    "start_time": "2022-01-28T11:34:04.269Z"
   },
   {
    "duration": 40,
    "start_time": "2022-01-28T11:34:30.749Z"
   },
   {
    "duration": 308,
    "start_time": "2022-01-28T11:36:32.179Z"
   },
   {
    "duration": 44,
    "start_time": "2022-01-28T11:37:46.384Z"
   },
   {
    "duration": 237,
    "start_time": "2022-01-28T11:38:34.278Z"
   },
   {
    "duration": 43,
    "start_time": "2022-01-28T11:39:00.787Z"
   },
   {
    "duration": 245,
    "start_time": "2022-01-28T11:39:01.750Z"
   },
   {
    "duration": 652,
    "start_time": "2022-01-28T11:39:45.060Z"
   },
   {
    "duration": 45,
    "start_time": "2022-01-28T11:39:52.930Z"
   },
   {
    "duration": 257,
    "start_time": "2022-01-28T11:39:55.667Z"
   },
   {
    "duration": 53,
    "start_time": "2022-01-28T11:40:23.641Z"
   },
   {
    "duration": 318,
    "start_time": "2022-01-28T11:40:35.318Z"
   },
   {
    "duration": 14,
    "start_time": "2022-01-28T11:42:40.915Z"
   },
   {
    "duration": 90,
    "start_time": "2022-01-28T11:43:05.203Z"
   },
   {
    "duration": 267,
    "start_time": "2022-01-28T11:43:57.624Z"
   },
   {
    "duration": 303,
    "start_time": "2022-01-28T11:44:23.699Z"
   },
   {
    "duration": 394,
    "start_time": "2022-01-28T11:44:30.008Z"
   },
   {
    "duration": 474,
    "start_time": "2022-01-28T11:45:17.544Z"
   },
   {
    "duration": 190,
    "start_time": "2022-01-28T11:45:37.014Z"
   },
   {
    "duration": 105,
    "start_time": "2022-01-28T12:41:53.986Z"
   },
   {
    "duration": 128,
    "start_time": "2022-01-28T12:59:00.620Z"
   },
   {
    "duration": 21,
    "start_time": "2022-01-28T12:59:11.924Z"
   },
   {
    "duration": 14,
    "start_time": "2022-01-28T12:59:41.942Z"
   },
   {
    "duration": 10,
    "start_time": "2022-01-28T13:00:30.090Z"
   },
   {
    "duration": 7,
    "start_time": "2022-01-28T13:01:08.716Z"
   },
   {
    "duration": 16,
    "start_time": "2022-01-28T13:01:22.516Z"
   },
   {
    "duration": 18,
    "start_time": "2022-01-28T13:03:52.661Z"
   },
   {
    "duration": 20,
    "start_time": "2022-01-28T13:04:02.441Z"
   },
   {
    "duration": 22,
    "start_time": "2022-01-28T13:04:13.939Z"
   },
   {
    "duration": 114,
    "start_time": "2022-01-28T13:04:16.875Z"
   },
   {
    "duration": 19,
    "start_time": "2022-01-28T13:04:18.034Z"
   },
   {
    "duration": 32,
    "start_time": "2022-01-28T13:13:47.905Z"
   },
   {
    "duration": 303,
    "start_time": "2022-01-28T13:15:14.423Z"
   },
   {
    "duration": 35,
    "start_time": "2022-01-28T13:15:23.191Z"
   },
   {
    "duration": 21,
    "start_time": "2022-01-28T13:15:30.286Z"
   },
   {
    "duration": 23,
    "start_time": "2022-01-28T13:16:16.393Z"
   },
   {
    "duration": 14,
    "start_time": "2022-01-28T13:16:45.974Z"
   },
   {
    "duration": 7,
    "start_time": "2022-01-28T13:31:27.291Z"
   },
   {
    "duration": 24,
    "start_time": "2022-01-28T13:56:40.974Z"
   },
   {
    "duration": 21,
    "start_time": "2022-01-28T13:56:50.131Z"
   },
   {
    "duration": 28,
    "start_time": "2022-01-28T13:57:03.924Z"
   },
   {
    "duration": 24,
    "start_time": "2022-01-28T13:57:20.505Z"
   },
   {
    "duration": 29,
    "start_time": "2022-01-28T13:57:25.511Z"
   },
   {
    "duration": 26,
    "start_time": "2022-01-28T13:57:51.900Z"
   },
   {
    "duration": 1358,
    "start_time": "2022-01-29T10:03:34.090Z"
   },
   {
    "duration": 6524,
    "start_time": "2022-01-29T10:03:35.450Z"
   },
   {
    "duration": 13,
    "start_time": "2022-01-29T10:03:41.976Z"
   },
   {
    "duration": 22,
    "start_time": "2022-01-29T10:03:41.990Z"
   },
   {
    "duration": 66,
    "start_time": "2022-01-29T10:03:42.013Z"
   },
   {
    "duration": 11,
    "start_time": "2022-01-29T10:03:42.081Z"
   },
   {
    "duration": 3793,
    "start_time": "2022-01-29T10:03:42.093Z"
   },
   {
    "duration": 176,
    "start_time": "2022-01-29T10:03:45.888Z"
   },
   {
    "duration": 92,
    "start_time": "2022-01-29T10:03:46.066Z"
   },
   {
    "duration": 38,
    "start_time": "2022-01-29T10:03:46.160Z"
   },
   {
    "duration": 280,
    "start_time": "2022-01-29T10:03:46.199Z"
   },
   {
    "duration": 100,
    "start_time": "2022-01-29T10:03:46.481Z"
   },
   {
    "duration": 560,
    "start_time": "2022-01-29T10:03:46.582Z"
   },
   {
    "duration": 231,
    "start_time": "2022-01-29T10:03:47.144Z"
   },
   {
    "duration": 6,
    "start_time": "2022-01-29T10:03:47.377Z"
   },
   {
    "duration": 64,
    "start_time": "2022-01-29T10:03:47.385Z"
   },
   {
    "duration": 8,
    "start_time": "2022-01-29T10:03:47.451Z"
   },
   {
    "duration": 79,
    "start_time": "2022-01-29T10:05:42.155Z"
   },
   {
    "duration": 14,
    "start_time": "2022-01-29T10:13:41.875Z"
   },
   {
    "duration": 8,
    "start_time": "2022-01-29T10:15:26.248Z"
   },
   {
    "duration": 24,
    "start_time": "2022-01-29T10:18:33.278Z"
   },
   {
    "duration": 24,
    "start_time": "2022-01-29T10:19:28.627Z"
   },
   {
    "duration": 23,
    "start_time": "2022-01-29T10:21:29.222Z"
   },
   {
    "duration": 26,
    "start_time": "2022-01-29T10:21:57.991Z"
   },
   {
    "duration": 24,
    "start_time": "2022-01-29T10:22:03.272Z"
   },
   {
    "duration": 23,
    "start_time": "2022-01-29T10:22:15.579Z"
   },
   {
    "duration": 24,
    "start_time": "2022-01-29T10:24:03.743Z"
   },
   {
    "duration": 2,
    "start_time": "2022-01-29T10:26:34.852Z"
   },
   {
    "duration": 3,
    "start_time": "2022-01-29T10:27:50.670Z"
   },
   {
    "duration": 1905,
    "start_time": "2022-01-29T14:59:53.585Z"
   },
   {
    "duration": 1101,
    "start_time": "2022-01-29T14:59:55.493Z"
   },
   {
    "duration": 21,
    "start_time": "2022-01-29T14:59:56.597Z"
   },
   {
    "duration": 28,
    "start_time": "2022-01-29T14:59:56.621Z"
   },
   {
    "duration": 106,
    "start_time": "2022-01-29T14:59:56.651Z"
   },
   {
    "duration": 19,
    "start_time": "2022-01-29T14:59:56.759Z"
   },
   {
    "duration": 6681,
    "start_time": "2022-01-29T14:59:56.780Z"
   },
   {
    "duration": 292,
    "start_time": "2022-01-29T15:00:03.465Z"
   },
   {
    "duration": 151,
    "start_time": "2022-01-29T15:00:03.760Z"
   },
   {
    "duration": 85,
    "start_time": "2022-01-29T15:00:03.914Z"
   },
   {
    "duration": 509,
    "start_time": "2022-01-29T15:00:04.002Z"
   },
   {
    "duration": 137,
    "start_time": "2022-01-29T15:00:04.514Z"
   },
   {
    "duration": 719,
    "start_time": "2022-01-29T15:00:04.654Z"
   },
   {
    "duration": 79,
    "start_time": "2022-01-29T15:00:05.376Z"
   },
   {
    "duration": 3,
    "start_time": "2022-01-29T15:00:05.458Z"
   },
   {
    "duration": 18,
    "start_time": "2022-01-29T15:00:05.463Z"
   },
   {
    "duration": 264,
    "start_time": "2022-01-29T15:00:05.484Z"
   },
   {
    "duration": 10,
    "start_time": "2022-01-29T15:00:05.751Z"
   },
   {
    "duration": 38,
    "start_time": "2022-01-29T15:00:05.763Z"
   },
   {
    "duration": 14,
    "start_time": "2022-01-29T15:00:05.804Z"
   },
   {
    "duration": 18,
    "start_time": "2022-01-29T15:01:23.364Z"
   },
   {
    "duration": 102,
    "start_time": "2022-01-29T15:01:49.677Z"
   },
   {
    "duration": 109,
    "start_time": "2022-01-29T15:08:07.328Z"
   },
   {
    "duration": 96,
    "start_time": "2022-01-29T15:08:43.580Z"
   },
   {
    "duration": 113,
    "start_time": "2022-01-29T15:08:58.204Z"
   },
   {
    "duration": 7,
    "start_time": "2022-01-29T15:09:35.143Z"
   },
   {
    "duration": 79,
    "start_time": "2022-01-29T15:09:57.227Z"
   },
   {
    "duration": 642,
    "start_time": "2022-01-29T15:10:26.964Z"
   },
   {
    "duration": 88,
    "start_time": "2022-01-29T15:11:28.361Z"
   },
   {
    "duration": 89,
    "start_time": "2022-01-29T15:11:59.016Z"
   },
   {
    "duration": 93,
    "start_time": "2022-01-29T15:13:07.204Z"
   },
   {
    "duration": 8,
    "start_time": "2022-01-29T15:13:54.409Z"
   },
   {
    "duration": 77,
    "start_time": "2022-01-29T15:16:11.036Z"
   },
   {
    "duration": 16,
    "start_time": "2022-01-29T15:16:15.423Z"
   },
   {
    "duration": 23,
    "start_time": "2022-01-29T15:18:03.490Z"
   },
   {
    "duration": 17,
    "start_time": "2022-01-29T15:18:59.668Z"
   },
   {
    "duration": 18,
    "start_time": "2022-01-29T15:19:39.333Z"
   },
   {
    "duration": 17,
    "start_time": "2022-01-29T15:19:47.749Z"
   },
   {
    "duration": 100,
    "start_time": "2022-01-29T15:24:12.110Z"
   },
   {
    "duration": 21,
    "start_time": "2022-01-29T15:26:37.861Z"
   },
   {
    "duration": 62,
    "start_time": "2022-01-29T15:28:32.424Z"
   },
   {
    "duration": 14,
    "start_time": "2022-01-29T15:41:35.858Z"
   },
   {
    "duration": 8,
    "start_time": "2022-01-29T15:48:56.739Z"
   },
   {
    "duration": 34,
    "start_time": "2022-01-29T15:49:16.459Z"
   },
   {
    "duration": 20,
    "start_time": "2022-01-29T15:50:08.823Z"
   },
   {
    "duration": 23,
    "start_time": "2022-01-29T15:52:20.840Z"
   },
   {
    "duration": 9,
    "start_time": "2022-01-29T15:53:34.749Z"
   },
   {
    "duration": 10,
    "start_time": "2022-01-29T15:56:44.269Z"
   },
   {
    "duration": 17,
    "start_time": "2022-01-29T15:57:08.820Z"
   },
   {
    "duration": 10,
    "start_time": "2022-01-29T15:58:55.868Z"
   },
   {
    "duration": 18,
    "start_time": "2022-01-29T16:00:35.072Z"
   },
   {
    "duration": 21,
    "start_time": "2022-01-29T16:00:47.457Z"
   },
   {
    "duration": 10,
    "start_time": "2022-01-29T16:02:02.826Z"
   },
   {
    "duration": 9,
    "start_time": "2022-01-29T16:02:38.759Z"
   },
   {
    "duration": 14,
    "start_time": "2022-01-29T16:02:59.419Z"
   },
   {
    "duration": 13,
    "start_time": "2022-01-29T16:35:05.322Z"
   },
   {
    "duration": 34,
    "start_time": "2022-01-29T16:36:49.925Z"
   },
   {
    "duration": 18,
    "start_time": "2022-01-29T16:37:30.247Z"
   },
   {
    "duration": 14,
    "start_time": "2022-01-29T16:38:06.719Z"
   },
   {
    "duration": 24,
    "start_time": "2022-01-29T16:54:23.395Z"
   },
   {
    "duration": 352,
    "start_time": "2022-01-29T16:54:38.141Z"
   },
   {
    "duration": 52,
    "start_time": "2022-01-29T17:03:05.904Z"
   },
   {
    "duration": 24,
    "start_time": "2022-01-29T17:03:17.728Z"
   },
   {
    "duration": 23,
    "start_time": "2022-01-29T17:04:24.170Z"
   },
   {
    "duration": 164,
    "start_time": "2022-01-29T17:05:20.666Z"
   },
   {
    "duration": 35,
    "start_time": "2022-01-29T17:05:26.325Z"
   },
   {
    "duration": 34,
    "start_time": "2022-01-29T17:06:14.568Z"
   },
   {
    "duration": 23,
    "start_time": "2022-01-29T17:06:17.088Z"
   },
   {
    "duration": 22,
    "start_time": "2022-01-29T17:06:46.355Z"
   },
   {
    "duration": 62,
    "start_time": "2022-01-29T17:09:58.086Z"
   },
   {
    "duration": 166,
    "start_time": "2022-01-29T17:10:05.949Z"
   },
   {
    "duration": 34,
    "start_time": "2022-01-29T17:10:07.139Z"
   },
   {
    "duration": 9,
    "start_time": "2022-01-29T17:10:37.777Z"
   },
   {
    "duration": 30,
    "start_time": "2022-01-29T17:10:50.382Z"
   },
   {
    "duration": 36,
    "start_time": "2022-01-29T17:11:08.138Z"
   },
   {
    "duration": 22,
    "start_time": "2022-01-29T17:11:10.192Z"
   },
   {
    "duration": 7,
    "start_time": "2022-01-29T17:12:09.999Z"
   },
   {
    "duration": 8,
    "start_time": "2022-01-29T17:12:16.534Z"
   },
   {
    "duration": 8,
    "start_time": "2022-01-29T17:12:32.073Z"
   },
   {
    "duration": 5,
    "start_time": "2022-01-29T17:12:42.228Z"
   },
   {
    "duration": 22,
    "start_time": "2022-01-29T17:13:09.286Z"
   },
   {
    "duration": 58,
    "start_time": "2022-01-29T17:13:50.914Z"
   },
   {
    "duration": 46,
    "start_time": "2022-01-29T17:14:10.781Z"
   },
   {
    "duration": 48,
    "start_time": "2022-01-29T17:14:19.061Z"
   },
   {
    "duration": 14,
    "start_time": "2022-01-29T17:22:36.087Z"
   },
   {
    "duration": 20,
    "start_time": "2022-01-29T17:22:54.353Z"
   },
   {
    "duration": 23,
    "start_time": "2022-01-29T17:24:50.383Z"
   },
   {
    "duration": 22,
    "start_time": "2022-01-29T17:44:34.676Z"
   },
   {
    "duration": 192,
    "start_time": "2022-01-29T17:46:07.355Z"
   },
   {
    "duration": 33,
    "start_time": "2022-01-29T17:46:08.882Z"
   },
   {
    "duration": 24,
    "start_time": "2022-01-29T17:51:02.304Z"
   },
   {
    "duration": 41,
    "start_time": "2022-01-29T17:51:42.129Z"
   },
   {
    "duration": 46,
    "start_time": "2022-01-29T17:51:45.944Z"
   },
   {
    "duration": 22,
    "start_time": "2022-01-29T17:52:02.293Z"
   },
   {
    "duration": 398,
    "start_time": "2022-01-29T17:52:10.460Z"
   },
   {
    "duration": 190,
    "start_time": "2022-01-29T17:52:32.858Z"
   },
   {
    "duration": 30,
    "start_time": "2022-01-29T17:52:36.536Z"
   },
   {
    "duration": 188,
    "start_time": "2022-01-29T17:56:53.910Z"
   },
   {
    "duration": 8,
    "start_time": "2022-01-29T17:57:26.084Z"
   },
   {
    "duration": 10,
    "start_time": "2022-01-29T18:02:57.945Z"
   },
   {
    "duration": 93,
    "start_time": "2022-01-29T18:03:20.957Z"
   },
   {
    "duration": 85,
    "start_time": "2022-01-29T18:03:45.201Z"
   },
   {
    "duration": 11,
    "start_time": "2022-01-29T18:03:50.822Z"
   },
   {
    "duration": 22,
    "start_time": "2022-01-29T18:06:25.455Z"
   },
   {
    "duration": 268,
    "start_time": "2022-01-29T18:09:15.222Z"
   },
   {
    "duration": 45,
    "start_time": "2022-01-29T18:09:19.817Z"
   },
   {
    "duration": 9,
    "start_time": "2022-01-29T18:09:25.073Z"
   },
   {
    "duration": 10,
    "start_time": "2022-01-29T18:11:59.052Z"
   },
   {
    "duration": 9,
    "start_time": "2022-01-29T18:12:00.937Z"
   },
   {
    "duration": 26,
    "start_time": "2022-01-29T18:12:16.202Z"
   },
   {
    "duration": 9,
    "start_time": "2022-01-29T18:12:16.609Z"
   },
   {
    "duration": 6494,
    "start_time": "2022-01-29T18:13:54.380Z"
   },
   {
    "duration": -72,
    "start_time": "2022-01-29T18:14:00.949Z"
   },
   {
    "duration": 26,
    "start_time": "2022-01-29T18:14:11.492Z"
   },
   {
    "duration": 10,
    "start_time": "2022-01-29T18:14:12.774Z"
   },
   {
    "duration": 28,
    "start_time": "2022-01-29T18:14:26.143Z"
   },
   {
    "duration": 10,
    "start_time": "2022-01-29T18:14:27.313Z"
   },
   {
    "duration": 31,
    "start_time": "2022-01-29T18:14:47.944Z"
   },
   {
    "duration": 14,
    "start_time": "2022-01-29T18:14:48.998Z"
   },
   {
    "duration": 35,
    "start_time": "2022-01-29T18:15:08.080Z"
   },
   {
    "duration": 19,
    "start_time": "2022-01-29T18:43:48.281Z"
   },
   {
    "duration": 19,
    "start_time": "2022-01-29T18:44:23.024Z"
   },
   {
    "duration": 15,
    "start_time": "2022-01-29T18:46:02.382Z"
   },
   {
    "duration": 72,
    "start_time": "2022-01-29T19:00:26.483Z"
   },
   {
    "duration": 1936,
    "start_time": "2022-01-29T19:00:52.178Z"
   },
   {
    "duration": 798,
    "start_time": "2022-01-29T19:00:54.117Z"
   },
   {
    "duration": 22,
    "start_time": "2022-01-29T19:00:54.919Z"
   },
   {
    "duration": 33,
    "start_time": "2022-01-29T19:00:54.944Z"
   },
   {
    "duration": 125,
    "start_time": "2022-01-29T19:00:54.980Z"
   },
   {
    "duration": 20,
    "start_time": "2022-01-29T19:00:55.107Z"
   },
   {
    "duration": 6591,
    "start_time": "2022-01-29T19:00:55.149Z"
   },
   {
    "duration": 295,
    "start_time": "2022-01-29T19:01:01.743Z"
   },
   {
    "duration": 217,
    "start_time": "2022-01-29T19:01:02.041Z"
   },
   {
    "duration": 11,
    "start_time": "2022-01-29T19:01:02.262Z"
   },
   {
    "duration": 167,
    "start_time": "2022-01-29T19:01:02.276Z"
   },
   {
    "duration": 62,
    "start_time": "2022-01-29T19:01:02.448Z"
   },
   {
    "duration": 35,
    "start_time": "2022-01-29T19:01:02.513Z"
   },
   {
    "duration": 9,
    "start_time": "2022-01-29T19:01:02.551Z"
   },
   {
    "duration": 13,
    "start_time": "2022-01-29T19:01:02.562Z"
   },
   {
    "duration": 15,
    "start_time": "2022-01-29T19:01:02.578Z"
   },
   {
    "duration": 252,
    "start_time": "2022-01-29T19:01:02.596Z"
   },
   {
    "duration": 32,
    "start_time": "2022-01-29T19:01:02.851Z"
   },
   {
    "duration": 7,
    "start_time": "2022-01-29T19:01:02.885Z"
   },
   {
    "duration": 67,
    "start_time": "2022-01-29T19:01:02.894Z"
   },
   {
    "duration": 86,
    "start_time": "2022-01-29T19:01:02.964Z"
   },
   {
    "duration": 483,
    "start_time": "2022-01-29T19:01:03.053Z"
   },
   {
    "duration": 143,
    "start_time": "2022-01-29T19:01:03.538Z"
   },
   {
    "duration": 809,
    "start_time": "2022-01-29T19:01:03.684Z"
   },
   {
    "duration": 75,
    "start_time": "2022-01-29T19:01:04.495Z"
   },
   {
    "duration": 3,
    "start_time": "2022-01-29T19:01:04.573Z"
   },
   {
    "duration": 68,
    "start_time": "2022-01-29T19:01:04.581Z"
   },
   {
    "duration": 225,
    "start_time": "2022-01-29T19:01:04.651Z"
   },
   {
    "duration": 10,
    "start_time": "2022-01-29T19:01:04.879Z"
   },
   {
    "duration": 61,
    "start_time": "2022-01-29T19:01:04.891Z"
   },
   {
    "duration": 12,
    "start_time": "2022-01-29T19:01:04.955Z"
   },
   {
    "duration": 17,
    "start_time": "2022-01-29T19:01:35.509Z"
   },
   {
    "duration": 366,
    "start_time": "2022-01-29T19:02:12.039Z"
   },
   {
    "duration": 39,
    "start_time": "2022-01-29T19:03:11.391Z"
   },
   {
    "duration": 154,
    "start_time": "2022-01-29T19:03:33.858Z"
   },
   {
    "duration": 39,
    "start_time": "2022-01-29T19:04:00.237Z"
   },
   {
    "duration": 27,
    "start_time": "2022-01-29T19:04:23.326Z"
   },
   {
    "duration": 300,
    "start_time": "2022-01-29T19:04:26.616Z"
   },
   {
    "duration": 31,
    "start_time": "2022-01-29T19:09:44.104Z"
   },
   {
    "duration": 34,
    "start_time": "2022-01-29T19:11:59.605Z"
   },
   {
    "duration": 185,
    "start_time": "2022-01-29T19:13:01.613Z"
   },
   {
    "duration": 44,
    "start_time": "2022-01-29T19:13:46.008Z"
   },
   {
    "duration": 183,
    "start_time": "2022-01-29T19:19:11.202Z"
   },
   {
    "duration": 6809,
    "start_time": "2022-01-29T19:24:33.706Z"
   },
   {
    "duration": 6343,
    "start_time": "2022-01-29T19:25:20.229Z"
   },
   {
    "duration": 16,
    "start_time": "2022-01-29T19:25:53.157Z"
   },
   {
    "duration": 23,
    "start_time": "2022-01-29T19:26:32.021Z"
   },
   {
    "duration": 267,
    "start_time": "2022-01-29T19:27:17.535Z"
   },
   {
    "duration": 12,
    "start_time": "2022-01-29T19:29:17.360Z"
   },
   {
    "duration": 324,
    "start_time": "2022-01-29T19:29:19.042Z"
   },
   {
    "duration": 12,
    "start_time": "2022-01-29T19:29:27.351Z"
   },
   {
    "duration": 202,
    "start_time": "2022-01-29T19:29:28.272Z"
   },
   {
    "duration": 11,
    "start_time": "2022-01-29T19:31:00.124Z"
   },
   {
    "duration": 191,
    "start_time": "2022-01-29T19:31:01.418Z"
   },
   {
    "duration": 571,
    "start_time": "2022-01-29T19:39:44.316Z"
   },
   {
    "duration": 279,
    "start_time": "2022-01-29T19:40:03.593Z"
   },
   {
    "duration": 325,
    "start_time": "2022-01-29T19:40:20.082Z"
   },
   {
    "duration": 387,
    "start_time": "2022-01-29T19:41:23.768Z"
   },
   {
    "duration": 39,
    "start_time": "2022-01-29T19:42:50.542Z"
   },
   {
    "duration": 30,
    "start_time": "2022-01-29T19:42:57.293Z"
   },
   {
    "duration": 37,
    "start_time": "2022-01-29T19:43:26.060Z"
   },
   {
    "duration": 181,
    "start_time": "2022-01-29T19:47:34.622Z"
   },
   {
    "duration": 28,
    "start_time": "2022-01-29T19:51:37.222Z"
   },
   {
    "duration": 32,
    "start_time": "2022-01-29T19:52:38.318Z"
   },
   {
    "duration": 175,
    "start_time": "2022-01-29T19:52:53.885Z"
   },
   {
    "duration": 248,
    "start_time": "2022-01-29T19:53:48.159Z"
   },
   {
    "duration": 12,
    "start_time": "2022-01-29T19:55:32.637Z"
   },
   {
    "duration": 12,
    "start_time": "2022-01-29T19:55:38.009Z"
   },
   {
    "duration": 12,
    "start_time": "2022-01-29T19:55:51.690Z"
   },
   {
    "duration": 30,
    "start_time": "2022-01-29T19:56:35.175Z"
   },
   {
    "duration": 245,
    "start_time": "2022-01-29T20:01:08.380Z"
   },
   {
    "duration": 21,
    "start_time": "2022-01-29T20:01:24.050Z"
   },
   {
    "duration": 24,
    "start_time": "2022-01-29T20:02:11.910Z"
   },
   {
    "duration": 27,
    "start_time": "2022-01-29T20:02:26.129Z"
   },
   {
    "duration": 24,
    "start_time": "2022-01-29T20:02:46.782Z"
   },
   {
    "duration": 20,
    "start_time": "2022-01-29T20:05:25.606Z"
   },
   {
    "duration": 16,
    "start_time": "2022-01-29T20:05:27.744Z"
   },
   {
    "duration": 13,
    "start_time": "2022-01-29T20:06:04.029Z"
   },
   {
    "duration": 250,
    "start_time": "2022-01-29T20:06:33.630Z"
   },
   {
    "duration": 379,
    "start_time": "2022-01-29T20:07:22.740Z"
   },
   {
    "duration": 227,
    "start_time": "2022-01-29T20:07:45.714Z"
   },
   {
    "duration": 311,
    "start_time": "2022-01-29T20:08:04.924Z"
   },
   {
    "duration": 244,
    "start_time": "2022-01-29T20:08:47.562Z"
   },
   {
    "duration": 273,
    "start_time": "2022-01-29T20:09:03.148Z"
   },
   {
    "duration": 254,
    "start_time": "2022-01-29T20:09:55.420Z"
   },
   {
    "duration": 382,
    "start_time": "2022-01-29T20:10:42.609Z"
   },
   {
    "duration": 7,
    "start_time": "2022-01-29T20:13:12.075Z"
   },
   {
    "duration": 256,
    "start_time": "2022-01-29T20:13:19.834Z"
   },
   {
    "duration": 1936,
    "start_time": "2022-01-29T20:17:06.548Z"
   },
   {
    "duration": 721,
    "start_time": "2022-01-29T20:17:08.486Z"
   },
   {
    "duration": 21,
    "start_time": "2022-01-29T20:17:09.210Z"
   },
   {
    "duration": 32,
    "start_time": "2022-01-29T20:17:09.233Z"
   },
   {
    "duration": 119,
    "start_time": "2022-01-29T20:17:09.267Z"
   },
   {
    "duration": 20,
    "start_time": "2022-01-29T20:17:09.389Z"
   },
   {
    "duration": 6930,
    "start_time": "2022-01-29T20:17:09.412Z"
   },
   {
    "duration": 289,
    "start_time": "2022-01-29T20:17:16.346Z"
   },
   {
    "duration": 143,
    "start_time": "2022-01-29T20:17:16.638Z"
   },
   {
    "duration": 9,
    "start_time": "2022-01-29T20:17:16.784Z"
   },
   {
    "duration": 125,
    "start_time": "2022-01-29T20:17:16.795Z"
   },
   {
    "duration": 101,
    "start_time": "2022-01-29T20:17:16.923Z"
   },
   {
    "duration": 9,
    "start_time": "2022-01-29T20:17:17.027Z"
   },
   {
    "duration": 24,
    "start_time": "2022-01-29T20:17:17.050Z"
   },
   {
    "duration": 15,
    "start_time": "2022-01-29T20:17:17.076Z"
   },
   {
    "duration": 14,
    "start_time": "2022-01-29T20:17:17.093Z"
   },
   {
    "duration": 242,
    "start_time": "2022-01-29T20:17:17.110Z"
   },
   {
    "duration": 33,
    "start_time": "2022-01-29T20:17:17.354Z"
   },
   {
    "duration": 18,
    "start_time": "2022-01-29T20:17:17.389Z"
   },
   {
    "duration": 59,
    "start_time": "2022-01-29T20:17:17.409Z"
   },
   {
    "duration": 16,
    "start_time": "2022-01-29T20:17:17.470Z"
   },
   {
    "duration": 350,
    "start_time": "2022-01-29T20:17:17.488Z"
   },
   {
    "duration": 30,
    "start_time": "2022-01-29T20:17:17.842Z"
   },
   {
    "duration": 719,
    "start_time": "2022-01-29T20:17:17.875Z"
   },
   {
    "duration": 65,
    "start_time": "2022-01-29T20:17:18.596Z"
   },
   {
    "duration": 417,
    "start_time": "2022-01-29T20:17:18.663Z"
   },
   {
    "duration": 32,
    "start_time": "2022-01-29T20:17:19.082Z"
   },
   {
    "duration": 202,
    "start_time": "2022-01-29T20:17:19.116Z"
   },
   {
    "duration": 466,
    "start_time": "2022-01-29T20:17:19.321Z"
   },
   {
    "duration": -207,
    "start_time": "2022-01-29T20:17:19.997Z"
   },
   {
    "duration": -217,
    "start_time": "2022-01-29T20:17:20.008Z"
   },
   {
    "duration": -223,
    "start_time": "2022-01-29T20:17:20.016Z"
   },
   {
    "duration": -229,
    "start_time": "2022-01-29T20:17:20.024Z"
   },
   {
    "duration": 19,
    "start_time": "2022-01-29T20:17:42.716Z"
   },
   {
    "duration": 15,
    "start_time": "2022-01-29T20:17:43.076Z"
   },
   {
    "duration": 15,
    "start_time": "2022-01-29T20:17:45.003Z"
   },
   {
    "duration": 259,
    "start_time": "2022-01-29T20:20:33.685Z"
   },
   {
    "duration": 289,
    "start_time": "2022-01-29T20:20:42.701Z"
   },
   {
    "duration": 1924,
    "start_time": "2022-01-30T10:25:48.843Z"
   },
   {
    "duration": 773,
    "start_time": "2022-01-30T10:25:50.769Z"
   },
   {
    "duration": 28,
    "start_time": "2022-01-30T10:25:51.546Z"
   },
   {
    "duration": 65,
    "start_time": "2022-01-30T10:25:51.577Z"
   },
   {
    "duration": 168,
    "start_time": "2022-01-30T10:25:51.645Z"
   },
   {
    "duration": 29,
    "start_time": "2022-01-30T10:25:51.816Z"
   },
   {
    "duration": 11062,
    "start_time": "2022-01-30T10:25:51.848Z"
   },
   {
    "duration": 362,
    "start_time": "2022-01-30T10:26:02.923Z"
   },
   {
    "duration": 204,
    "start_time": "2022-01-30T10:26:03.288Z"
   },
   {
    "duration": 30,
    "start_time": "2022-01-30T10:26:03.495Z"
   },
   {
    "duration": 105,
    "start_time": "2022-01-30T10:26:03.527Z"
   },
   {
    "duration": 60,
    "start_time": "2022-01-30T10:26:03.635Z"
   },
   {
    "duration": 27,
    "start_time": "2022-01-30T10:26:03.698Z"
   },
   {
    "duration": 15,
    "start_time": "2022-01-30T10:26:03.728Z"
   },
   {
    "duration": 13,
    "start_time": "2022-01-30T10:26:03.746Z"
   },
   {
    "duration": 15,
    "start_time": "2022-01-30T10:26:03.761Z"
   },
   {
    "duration": 210,
    "start_time": "2022-01-30T10:26:03.778Z"
   },
   {
    "duration": 38,
    "start_time": "2022-01-30T10:26:03.991Z"
   },
   {
    "duration": 6,
    "start_time": "2022-01-30T10:26:04.032Z"
   },
   {
    "duration": 48,
    "start_time": "2022-01-30T10:26:04.040Z"
   },
   {
    "duration": 41,
    "start_time": "2022-01-30T10:26:04.091Z"
   },
   {
    "duration": 351,
    "start_time": "2022-01-30T10:26:04.135Z"
   },
   {
    "duration": 50,
    "start_time": "2022-01-30T10:26:04.492Z"
   },
   {
    "duration": 1041,
    "start_time": "2022-01-30T10:26:04.545Z"
   },
   {
    "duration": 73,
    "start_time": "2022-01-30T10:26:05.589Z"
   },
   {
    "duration": 519,
    "start_time": "2022-01-30T10:26:05.665Z"
   },
   {
    "duration": 57,
    "start_time": "2022-01-30T10:26:06.187Z"
   },
   {
    "duration": 282,
    "start_time": "2022-01-30T10:26:06.247Z"
   },
   {
    "duration": 764,
    "start_time": "2022-01-30T10:26:06.532Z"
   },
   {
    "duration": -364,
    "start_time": "2022-01-30T10:26:07.663Z"
   },
   {
    "duration": -367,
    "start_time": "2022-01-30T10:26:07.667Z"
   },
   {
    "duration": -370,
    "start_time": "2022-01-30T10:26:07.672Z"
   },
   {
    "duration": -373,
    "start_time": "2022-01-30T10:26:07.677Z"
   },
   {
    "duration": -376,
    "start_time": "2022-01-30T10:26:07.681Z"
   },
   {
    "duration": -378,
    "start_time": "2022-01-30T10:26:07.685Z"
   },
   {
    "duration": 4485,
    "start_time": "2022-01-30T10:28:04.623Z"
   },
   {
    "duration": 1840,
    "start_time": "2022-01-30T10:28:21.484Z"
   },
   {
    "duration": 708,
    "start_time": "2022-01-30T10:28:23.327Z"
   },
   {
    "duration": 20,
    "start_time": "2022-01-30T10:28:24.038Z"
   },
   {
    "duration": 27,
    "start_time": "2022-01-30T10:28:24.061Z"
   },
   {
    "duration": 134,
    "start_time": "2022-01-30T10:28:24.091Z"
   },
   {
    "duration": 18,
    "start_time": "2022-01-30T10:28:24.227Z"
   },
   {
    "duration": 7368,
    "start_time": "2022-01-30T10:28:24.247Z"
   },
   {
    "duration": 280,
    "start_time": "2022-01-30T10:28:31.619Z"
   },
   {
    "duration": 145,
    "start_time": "2022-01-30T10:28:31.902Z"
   },
   {
    "duration": 8,
    "start_time": "2022-01-30T10:28:32.049Z"
   },
   {
    "duration": 124,
    "start_time": "2022-01-30T10:28:32.059Z"
   },
   {
    "duration": 72,
    "start_time": "2022-01-30T10:28:32.185Z"
   },
   {
    "duration": 8,
    "start_time": "2022-01-30T10:28:32.259Z"
   },
   {
    "duration": 7,
    "start_time": "2022-01-30T10:28:32.270Z"
   },
   {
    "duration": 9,
    "start_time": "2022-01-30T10:28:32.280Z"
   },
   {
    "duration": 43,
    "start_time": "2022-01-30T10:28:32.291Z"
   },
   {
    "duration": 215,
    "start_time": "2022-01-30T10:28:32.337Z"
   },
   {
    "duration": 33,
    "start_time": "2022-01-30T10:28:32.554Z"
   },
   {
    "duration": 7,
    "start_time": "2022-01-30T10:28:32.589Z"
   },
   {
    "duration": 38,
    "start_time": "2022-01-30T10:28:32.623Z"
   },
   {
    "duration": 15,
    "start_time": "2022-01-30T10:28:32.663Z"
   },
   {
    "duration": 369,
    "start_time": "2022-01-30T10:28:32.681Z"
   },
   {
    "duration": 27,
    "start_time": "2022-01-30T10:28:33.055Z"
   },
   {
    "duration": 751,
    "start_time": "2022-01-30T10:28:33.085Z"
   },
   {
    "duration": 86,
    "start_time": "2022-01-30T10:28:33.838Z"
   },
   {
    "duration": 377,
    "start_time": "2022-01-30T10:28:33.926Z"
   },
   {
    "duration": 40,
    "start_time": "2022-01-30T10:28:34.305Z"
   },
   {
    "duration": 189,
    "start_time": "2022-01-30T10:28:34.348Z"
   },
   {
    "duration": 573,
    "start_time": "2022-01-30T10:28:34.540Z"
   },
   {
    "duration": -592,
    "start_time": "2022-01-30T10:28:35.708Z"
   },
   {
    "duration": -595,
    "start_time": "2022-01-30T10:28:35.713Z"
   },
   {
    "duration": -599,
    "start_time": "2022-01-30T10:28:35.719Z"
   },
   {
    "duration": -600,
    "start_time": "2022-01-30T10:28:35.723Z"
   },
   {
    "duration": -603,
    "start_time": "2022-01-30T10:28:35.727Z"
   },
   {
    "duration": -605,
    "start_time": "2022-01-30T10:28:35.731Z"
   },
   {
    "duration": -608,
    "start_time": "2022-01-30T10:28:35.736Z"
   },
   {
    "duration": 4113,
    "start_time": "2022-01-30T10:29:12.470Z"
   },
   {
    "duration": 1871,
    "start_time": "2022-01-30T10:29:28.542Z"
   },
   {
    "duration": 755,
    "start_time": "2022-01-30T10:29:30.416Z"
   },
   {
    "duration": 24,
    "start_time": "2022-01-30T10:29:31.174Z"
   },
   {
    "duration": 54,
    "start_time": "2022-01-30T10:29:31.202Z"
   },
   {
    "duration": 128,
    "start_time": "2022-01-30T10:29:31.258Z"
   },
   {
    "duration": 20,
    "start_time": "2022-01-30T10:29:31.389Z"
   },
   {
    "duration": 7234,
    "start_time": "2022-01-30T10:29:31.411Z"
   },
   {
    "duration": 297,
    "start_time": "2022-01-30T10:29:38.649Z"
   },
   {
    "duration": 151,
    "start_time": "2022-01-30T10:29:38.949Z"
   },
   {
    "duration": 22,
    "start_time": "2022-01-30T10:29:39.103Z"
   },
   {
    "duration": 137,
    "start_time": "2022-01-30T10:29:39.128Z"
   },
   {
    "duration": 82,
    "start_time": "2022-01-30T10:29:39.268Z"
   },
   {
    "duration": 9,
    "start_time": "2022-01-30T10:29:39.352Z"
   },
   {
    "duration": 8,
    "start_time": "2022-01-30T10:29:39.363Z"
   },
   {
    "duration": 10,
    "start_time": "2022-01-30T10:29:39.373Z"
   },
   {
    "duration": 49,
    "start_time": "2022-01-30T10:29:39.386Z"
   },
   {
    "duration": 208,
    "start_time": "2022-01-30T10:29:39.437Z"
   },
   {
    "duration": 32,
    "start_time": "2022-01-30T10:29:39.648Z"
   },
   {
    "duration": 7,
    "start_time": "2022-01-30T10:29:39.682Z"
   },
   {
    "duration": 66,
    "start_time": "2022-01-30T10:29:39.691Z"
   },
   {
    "duration": 15,
    "start_time": "2022-01-30T10:29:39.760Z"
   },
   {
    "duration": 362,
    "start_time": "2022-01-30T10:29:39.777Z"
   },
   {
    "duration": 28,
    "start_time": "2022-01-30T10:29:40.144Z"
   },
   {
    "duration": 729,
    "start_time": "2022-01-30T10:29:40.175Z"
   },
   {
    "duration": 43,
    "start_time": "2022-01-30T10:29:40.906Z"
   },
   {
    "duration": 496,
    "start_time": "2022-01-30T10:29:40.952Z"
   },
   {
    "duration": 34,
    "start_time": "2022-01-30T10:29:41.451Z"
   },
   {
    "duration": 203,
    "start_time": "2022-01-30T10:29:41.488Z"
   },
   {
    "duration": 590,
    "start_time": "2022-01-30T10:29:41.695Z"
   },
   {
    "duration": -321,
    "start_time": "2022-01-30T10:29:42.609Z"
   },
   {
    "duration": -326,
    "start_time": "2022-01-30T10:29:42.617Z"
   },
   {
    "duration": -329,
    "start_time": "2022-01-30T10:29:42.622Z"
   },
   {
    "duration": -332,
    "start_time": "2022-01-30T10:29:42.627Z"
   },
   {
    "duration": -335,
    "start_time": "2022-01-30T10:29:42.631Z"
   },
   {
    "duration": -337,
    "start_time": "2022-01-30T10:29:42.635Z"
   },
   {
    "duration": 431,
    "start_time": "2022-01-30T10:31:54.541Z"
   },
   {
    "duration": 21,
    "start_time": "2022-01-30T10:32:10.913Z"
   },
   {
    "duration": 24,
    "start_time": "2022-01-30T10:32:11.353Z"
   },
   {
    "duration": 15,
    "start_time": "2022-01-30T10:32:11.910Z"
   },
   {
    "duration": 472,
    "start_time": "2022-01-30T10:32:13.735Z"
   },
   {
    "duration": 971,
    "start_time": "2022-01-30T10:32:17.072Z"
   },
   {
    "duration": 12,
    "start_time": "2022-01-30T10:32:20.035Z"
   },
   {
    "duration": 14,
    "start_time": "2022-01-30T10:32:47.539Z"
   },
   {
    "duration": 19,
    "start_time": "2022-01-30T10:38:31.127Z"
   },
   {
    "duration": 14,
    "start_time": "2022-01-30T10:38:53.248Z"
   },
   {
    "duration": 16,
    "start_time": "2022-01-30T10:39:45.159Z"
   },
   {
    "duration": 13,
    "start_time": "2022-01-30T10:39:45.996Z"
   },
   {
    "duration": 13,
    "start_time": "2022-01-30T10:40:04.778Z"
   },
   {
    "duration": 23,
    "start_time": "2022-01-30T10:53:45.200Z"
   },
   {
    "duration": 12,
    "start_time": "2022-01-30T10:54:57.011Z"
   },
   {
    "duration": 15,
    "start_time": "2022-01-30T10:57:04.312Z"
   },
   {
    "duration": 20,
    "start_time": "2022-01-30T10:57:33.428Z"
   },
   {
    "duration": 346,
    "start_time": "2022-01-30T11:05:49.610Z"
   },
   {
    "duration": 368,
    "start_time": "2022-01-30T11:06:28.086Z"
   },
   {
    "duration": 348,
    "start_time": "2022-01-30T11:06:46.916Z"
   },
   {
    "duration": 337,
    "start_time": "2022-01-30T11:11:23.702Z"
   },
   {
    "duration": 429,
    "start_time": "2022-01-30T11:11:49.099Z"
   },
   {
    "duration": 369,
    "start_time": "2022-01-30T11:14:20.109Z"
   },
   {
    "duration": 333,
    "start_time": "2022-01-30T11:16:52.248Z"
   },
   {
    "duration": 335,
    "start_time": "2022-01-30T11:21:22.566Z"
   },
   {
    "duration": 434,
    "start_time": "2022-01-30T11:23:15.325Z"
   },
   {
    "duration": 402,
    "start_time": "2022-01-30T11:23:30.022Z"
   },
   {
    "duration": 9692,
    "start_time": "2022-01-30T11:25:10.082Z"
   },
   {
    "duration": 24,
    "start_time": "2022-01-30T11:26:04.107Z"
   },
   {
    "duration": 341,
    "start_time": "2022-01-30T11:26:23.029Z"
   },
   {
    "duration": 15,
    "start_time": "2022-01-30T11:26:45.206Z"
   },
   {
    "duration": 9876,
    "start_time": "2022-01-30T11:27:39.635Z"
   },
   {
    "duration": -167,
    "start_time": "2022-01-30T11:27:49.681Z"
   },
   {
    "duration": 9001,
    "start_time": "2022-01-30T11:27:52.767Z"
   },
   {
    "duration": 24,
    "start_time": "2022-01-30T11:28:15.998Z"
   },
   {
    "duration": 10,
    "start_time": "2022-01-30T11:28:20.252Z"
   },
   {
    "duration": 15,
    "start_time": "2022-01-30T11:31:09.171Z"
   },
   {
    "duration": 21,
    "start_time": "2022-01-30T11:32:12.258Z"
   },
   {
    "duration": 21,
    "start_time": "2022-01-30T11:32:31.058Z"
   },
   {
    "duration": 17,
    "start_time": "2022-01-30T11:32:37.410Z"
   },
   {
    "duration": 9,
    "start_time": "2022-01-30T11:32:52.846Z"
   },
   {
    "duration": 7,
    "start_time": "2022-01-30T11:33:10.475Z"
   },
   {
    "duration": 9,
    "start_time": "2022-01-30T11:33:13.271Z"
   },
   {
    "duration": 9564,
    "start_time": "2022-01-30T11:34:19.147Z"
   },
   {
    "duration": 25,
    "start_time": "2022-01-30T11:34:37.759Z"
   },
   {
    "duration": 7,
    "start_time": "2022-01-30T11:34:39.086Z"
   },
   {
    "duration": 15,
    "start_time": "2022-01-30T11:34:42.444Z"
   },
   {
    "duration": 9,
    "start_time": "2022-01-30T11:34:49.970Z"
   },
   {
    "duration": 8700,
    "start_time": "2022-01-30T11:34:56.503Z"
   },
   {
    "duration": -222,
    "start_time": "2022-01-30T11:35:05.427Z"
   },
   {
    "duration": 11,
    "start_time": "2022-01-30T11:35:21.775Z"
   },
   {
    "duration": 8944,
    "start_time": "2022-01-30T11:35:36.188Z"
   },
   {
    "duration": 23,
    "start_time": "2022-01-30T11:36:46.131Z"
   },
   {
    "duration": 8,
    "start_time": "2022-01-30T11:36:46.906Z"
   },
   {
    "duration": 7,
    "start_time": "2022-01-30T11:36:47.584Z"
   },
   {
    "duration": 9,
    "start_time": "2022-01-30T11:36:51.384Z"
   },
   {
    "duration": 12,
    "start_time": "2022-01-30T11:36:53.118Z"
   },
   {
    "duration": 8913,
    "start_time": "2022-01-30T11:41:31.309Z"
   },
   {
    "duration": 29,
    "start_time": "2022-01-30T11:41:42.091Z"
   },
   {
    "duration": 8,
    "start_time": "2022-01-30T11:41:42.513Z"
   },
   {
    "duration": 8,
    "start_time": "2022-01-30T11:41:43.126Z"
   },
   {
    "duration": 9,
    "start_time": "2022-01-30T11:41:44.953Z"
   },
   {
    "duration": 12,
    "start_time": "2022-01-30T11:41:45.671Z"
   },
   {
    "duration": 22,
    "start_time": "2022-01-30T11:42:03.017Z"
   },
   {
    "duration": 8,
    "start_time": "2022-01-30T11:42:03.428Z"
   },
   {
    "duration": 8,
    "start_time": "2022-01-30T11:42:03.880Z"
   },
   {
    "duration": 9,
    "start_time": "2022-01-30T11:42:04.360Z"
   },
   {
    "duration": 11,
    "start_time": "2022-01-30T11:42:06.347Z"
   },
   {
    "duration": 31,
    "start_time": "2022-01-30T12:15:10.959Z"
   },
   {
    "duration": 777,
    "start_time": "2022-01-30T12:15:35.902Z"
   },
   {
    "duration": 1047,
    "start_time": "2022-01-30T12:15:55.461Z"
   },
   {
    "duration": 1315,
    "start_time": "2022-01-30T12:16:16.286Z"
   },
   {
    "duration": 929,
    "start_time": "2022-01-30T12:16:23.082Z"
   },
   {
    "duration": 759,
    "start_time": "2022-01-30T12:16:33.264Z"
   },
   {
    "duration": 529,
    "start_time": "2022-01-30T12:16:37.936Z"
   },
   {
    "duration": 538,
    "start_time": "2022-01-30T12:16:42.850Z"
   },
   {
    "duration": 573,
    "start_time": "2022-01-30T12:16:46.884Z"
   },
   {
    "duration": 801,
    "start_time": "2022-01-30T12:16:57.968Z"
   },
   {
    "duration": 943,
    "start_time": "2022-01-30T12:17:11.013Z"
   },
   {
    "duration": 32,
    "start_time": "2022-01-30T12:35:11.619Z"
   },
   {
    "duration": 13,
    "start_time": "2022-01-30T12:35:46.364Z"
   },
   {
    "duration": 15,
    "start_time": "2022-01-30T12:36:23.925Z"
   },
   {
    "duration": 165,
    "start_time": "2022-01-30T12:37:31.870Z"
   },
   {
    "duration": 14,
    "start_time": "2022-01-30T12:38:03.913Z"
   },
   {
    "duration": 17,
    "start_time": "2022-01-30T12:38:20.943Z"
   },
   {
    "duration": 10,
    "start_time": "2022-01-30T13:13:44.387Z"
   },
   {
    "duration": 32,
    "start_time": "2022-01-30T13:14:42.438Z"
   },
   {
    "duration": 317,
    "start_time": "2022-01-30T13:15:22.725Z"
   },
   {
    "duration": 8,
    "start_time": "2022-01-30T13:15:57.699Z"
   },
   {
    "duration": 326,
    "start_time": "2022-01-30T13:15:59.192Z"
   },
   {
    "duration": 379,
    "start_time": "2022-01-30T13:16:54.624Z"
   },
   {
    "duration": 759,
    "start_time": "2022-01-30T13:17:06.380Z"
   },
   {
    "duration": 9,
    "start_time": "2022-01-30T13:17:31.747Z"
   },
   {
    "duration": 789,
    "start_time": "2022-01-30T13:17:32.591Z"
   },
   {
    "duration": 17,
    "start_time": "2022-01-30T13:17:47.459Z"
   },
   {
    "duration": 703,
    "start_time": "2022-01-30T13:17:49.256Z"
   },
   {
    "duration": 5,
    "start_time": "2022-01-30T13:18:20.907Z"
   },
   {
    "duration": 9,
    "start_time": "2022-01-30T13:18:25.205Z"
   },
   {
    "duration": 691,
    "start_time": "2022-01-30T13:18:26.099Z"
   },
   {
    "duration": 378,
    "start_time": "2022-01-30T13:27:34.341Z"
   },
   {
    "duration": 368,
    "start_time": "2022-01-30T13:28:14.619Z"
   },
   {
    "duration": 359,
    "start_time": "2022-01-30T13:28:27.236Z"
   },
   {
    "duration": 31,
    "start_time": "2022-01-30T13:29:01.521Z"
   },
   {
    "duration": 32,
    "start_time": "2022-01-30T13:29:07.272Z"
   },
   {
    "duration": 36,
    "start_time": "2022-01-30T13:29:14.671Z"
   },
   {
    "duration": 35,
    "start_time": "2022-01-30T13:29:24.138Z"
   },
   {
    "duration": 39,
    "start_time": "2022-01-30T13:29:37.552Z"
   },
   {
    "duration": 34,
    "start_time": "2022-01-30T13:30:34.192Z"
   },
   {
    "duration": 14,
    "start_time": "2022-01-30T13:30:55.729Z"
   },
   {
    "duration": 34,
    "start_time": "2022-01-30T13:32:08.724Z"
   },
   {
    "duration": 38,
    "start_time": "2022-01-30T13:37:57.759Z"
   },
   {
    "duration": 332,
    "start_time": "2022-01-30T13:38:04.761Z"
   },
   {
    "duration": 5,
    "start_time": "2022-01-30T13:38:45.488Z"
   },
   {
    "duration": 420,
    "start_time": "2022-01-30T13:39:00.756Z"
   },
   {
    "duration": 391,
    "start_time": "2022-01-30T13:40:04.695Z"
   },
   {
    "duration": 8,
    "start_time": "2022-01-30T13:40:27.540Z"
   },
   {
    "duration": 38,
    "start_time": "2022-01-30T13:41:13.433Z"
   },
   {
    "duration": 10,
    "start_time": "2022-01-30T13:41:15.682Z"
   },
   {
    "duration": 11,
    "start_time": "2022-01-30T13:44:33.438Z"
   },
   {
    "duration": 339,
    "start_time": "2022-01-30T13:44:58.053Z"
   },
   {
    "duration": 716,
    "start_time": "2022-01-30T13:45:05.244Z"
   },
   {
    "duration": 8,
    "start_time": "2022-01-30T13:45:26.508Z"
   },
   {
    "duration": 31,
    "start_time": "2022-01-30T13:45:27.472Z"
   },
   {
    "duration": 332,
    "start_time": "2022-01-30T13:45:42.100Z"
   },
   {
    "duration": 317,
    "start_time": "2022-01-30T13:47:17.161Z"
   },
   {
    "duration": 4,
    "start_time": "2022-01-30T13:47:23.250Z"
   },
   {
    "duration": 76,
    "start_time": "2022-01-30T13:47:25.409Z"
   },
   {
    "duration": 69,
    "start_time": "2022-01-30T13:53:57.601Z"
   },
   {
    "duration": 10,
    "start_time": "2022-01-30T13:54:03.193Z"
   },
   {
    "duration": 817,
    "start_time": "2022-01-30T13:54:25.914Z"
   },
   {
    "duration": 340,
    "start_time": "2022-01-30T13:55:08.333Z"
   },
   {
    "duration": 494,
    "start_time": "2022-01-30T13:55:42.682Z"
   },
   {
    "duration": 201,
    "start_time": "2022-01-30T13:56:53.926Z"
   },
   {
    "duration": 234,
    "start_time": "2022-01-30T13:58:29.226Z"
   },
   {
    "duration": 346,
    "start_time": "2022-01-30T13:59:09.005Z"
   },
   {
    "duration": 283,
    "start_time": "2022-01-30T14:13:57.020Z"
   },
   {
    "duration": 203,
    "start_time": "2022-01-30T14:14:21.055Z"
   },
   {
    "duration": 214,
    "start_time": "2022-01-30T14:14:45.024Z"
   },
   {
    "duration": 218,
    "start_time": "2022-01-30T14:15:58.894Z"
   },
   {
    "duration": 12,
    "start_time": "2022-01-30T14:17:06.175Z"
   },
   {
    "duration": 198,
    "start_time": "2022-01-30T14:17:18.646Z"
   },
   {
    "duration": 5,
    "start_time": "2022-01-30T14:17:30.289Z"
   },
   {
    "duration": 13,
    "start_time": "2022-01-30T14:17:36.512Z"
   },
   {
    "duration": 411,
    "start_time": "2022-01-30T14:17:39.258Z"
   },
   {
    "duration": 214,
    "start_time": "2022-01-30T14:20:39.323Z"
   },
   {
    "duration": 305,
    "start_time": "2022-01-30T14:22:53.753Z"
   },
   {
    "duration": 82,
    "start_time": "2022-01-30T14:25:39.161Z"
   },
   {
    "duration": 83,
    "start_time": "2022-01-30T14:26:04.823Z"
   },
   {
    "duration": 86,
    "start_time": "2022-01-30T14:26:10.761Z"
   },
   {
    "duration": 80,
    "start_time": "2022-01-30T14:26:34.345Z"
   },
   {
    "duration": 91,
    "start_time": "2022-01-30T14:26:40.873Z"
   },
   {
    "duration": 8,
    "start_time": "2022-01-30T14:26:49.625Z"
   },
   {
    "duration": 6,
    "start_time": "2022-01-30T14:26:50.434Z"
   },
   {
    "duration": 91,
    "start_time": "2022-01-30T14:26:51.273Z"
   },
   {
    "duration": 89,
    "start_time": "2022-01-30T14:27:50.620Z"
   },
   {
    "duration": 13,
    "start_time": "2022-01-30T14:55:55.174Z"
   },
   {
    "duration": 10,
    "start_time": "2022-01-30T15:02:02.037Z"
   },
   {
    "duration": 48,
    "start_time": "2022-01-30T15:02:38.702Z"
   },
   {
    "duration": 2395,
    "start_time": "2022-01-31T12:59:18.827Z"
   },
   {
    "duration": 536,
    "start_time": "2022-01-31T12:59:21.225Z"
   },
   {
    "duration": 14,
    "start_time": "2022-01-31T12:59:21.763Z"
   },
   {
    "duration": 20,
    "start_time": "2022-01-31T12:59:21.779Z"
   },
   {
    "duration": 79,
    "start_time": "2022-01-31T12:59:21.801Z"
   },
   {
    "duration": 31,
    "start_time": "2022-01-31T12:59:21.882Z"
   },
   {
    "duration": 4259,
    "start_time": "2022-01-31T12:59:21.914Z"
   },
   {
    "duration": 204,
    "start_time": "2022-01-31T12:59:26.175Z"
   },
   {
    "duration": 102,
    "start_time": "2022-01-31T12:59:26.383Z"
   },
   {
    "duration": 6,
    "start_time": "2022-01-31T12:59:26.487Z"
   },
   {
    "duration": 82,
    "start_time": "2022-01-31T12:59:26.494Z"
   },
   {
    "duration": 54,
    "start_time": "2022-01-31T12:59:26.578Z"
   },
   {
    "duration": 7,
    "start_time": "2022-01-31T12:59:26.633Z"
   },
   {
    "duration": 9,
    "start_time": "2022-01-31T12:59:26.641Z"
   },
   {
    "duration": 8,
    "start_time": "2022-01-31T12:59:26.651Z"
   },
   {
    "duration": 10,
    "start_time": "2022-01-31T12:59:26.661Z"
   },
   {
    "duration": 160,
    "start_time": "2022-01-31T12:59:26.673Z"
   },
   {
    "duration": 22,
    "start_time": "2022-01-31T12:59:26.835Z"
   },
   {
    "duration": 27,
    "start_time": "2022-01-31T12:59:26.859Z"
   },
   {
    "duration": 46,
    "start_time": "2022-01-31T12:59:26.887Z"
   },
   {
    "duration": 10,
    "start_time": "2022-01-31T12:59:26.935Z"
   },
   {
    "duration": 246,
    "start_time": "2022-01-31T12:59:26.947Z"
   },
   {
    "duration": 27,
    "start_time": "2022-01-31T12:59:27.195Z"
   },
   {
    "duration": 508,
    "start_time": "2022-01-31T12:59:27.224Z"
   },
   {
    "duration": 23,
    "start_time": "2022-01-31T12:59:27.733Z"
   },
   {
    "duration": 322,
    "start_time": "2022-01-31T12:59:27.758Z"
   },
   {
    "duration": 17,
    "start_time": "2022-01-31T12:59:28.083Z"
   },
   {
    "duration": 5,
    "start_time": "2022-01-31T12:59:28.112Z"
   },
   {
    "duration": 7,
    "start_time": "2022-01-31T12:59:28.119Z"
   },
   {
    "duration": 10,
    "start_time": "2022-01-31T12:59:28.127Z"
   },
   {
    "duration": 12,
    "start_time": "2022-01-31T12:59:28.139Z"
   },
   {
    "duration": 136,
    "start_time": "2022-01-31T12:59:28.153Z"
   },
   {
    "duration": 501,
    "start_time": "2022-01-31T12:59:28.291Z"
   },
   {
    "duration": 19,
    "start_time": "2022-01-31T12:59:28.794Z"
   },
   {
    "duration": 11,
    "start_time": "2022-01-31T12:59:28.815Z"
   },
   {
    "duration": 6,
    "start_time": "2022-01-31T12:59:28.828Z"
   },
   {
    "duration": 12,
    "start_time": "2022-01-31T12:59:28.835Z"
   },
   {
    "duration": 806,
    "start_time": "2022-01-31T12:59:28.848Z"
   },
   {
    "duration": 6,
    "start_time": "2022-01-31T12:59:45.427Z"
   },
   {
    "duration": 2,
    "start_time": "2022-01-31T12:59:45.786Z"
   },
   {
    "duration": 50,
    "start_time": "2022-01-31T12:59:46.415Z"
   },
   {
    "duration": 1340,
    "start_time": "2022-01-31T13:12:32.108Z"
   },
   {
    "duration": 468,
    "start_time": "2022-01-31T13:12:33.450Z"
   },
   {
    "duration": 13,
    "start_time": "2022-01-31T13:12:33.920Z"
   },
   {
    "duration": 18,
    "start_time": "2022-01-31T13:12:33.934Z"
   },
   {
    "duration": 69,
    "start_time": "2022-01-31T13:12:33.953Z"
   },
   {
    "duration": 11,
    "start_time": "2022-01-31T13:12:34.024Z"
   },
   {
    "duration": 3826,
    "start_time": "2022-01-31T13:12:34.036Z"
   },
   {
    "duration": 198,
    "start_time": "2022-01-31T13:12:37.865Z"
   },
   {
    "duration": 86,
    "start_time": "2022-01-31T13:12:38.065Z"
   },
   {
    "duration": 5,
    "start_time": "2022-01-31T13:12:38.152Z"
   },
   {
    "duration": 74,
    "start_time": "2022-01-31T13:12:38.158Z"
   },
   {
    "duration": 50,
    "start_time": "2022-01-31T13:12:38.234Z"
   },
   {
    "duration": 6,
    "start_time": "2022-01-31T13:12:38.286Z"
   },
   {
    "duration": 6,
    "start_time": "2022-01-31T13:12:38.294Z"
   },
   {
    "duration": 7,
    "start_time": "2022-01-31T13:12:38.302Z"
   },
   {
    "duration": 9,
    "start_time": "2022-01-31T13:12:38.310Z"
   },
   {
    "duration": 135,
    "start_time": "2022-01-31T13:12:38.321Z"
   },
   {
    "duration": 27,
    "start_time": "2022-01-31T13:12:38.458Z"
   },
   {
    "duration": 25,
    "start_time": "2022-01-31T13:12:38.487Z"
   },
   {
    "duration": 22,
    "start_time": "2022-01-31T13:12:38.514Z"
   },
   {
    "duration": 35,
    "start_time": "2022-01-31T13:12:38.538Z"
   },
   {
    "duration": 198,
    "start_time": "2022-01-31T13:12:38.575Z"
   },
   {
    "duration": 18,
    "start_time": "2022-01-31T13:12:38.776Z"
   },
   {
    "duration": 678,
    "start_time": "2022-01-31T13:12:38.795Z"
   },
   {
    "duration": 22,
    "start_time": "2022-01-31T13:12:39.474Z"
   },
   {
    "duration": 271,
    "start_time": "2022-01-31T13:12:39.497Z"
   },
   {
    "duration": 15,
    "start_time": "2022-01-31T13:12:39.772Z"
   },
   {
    "duration": 5,
    "start_time": "2022-01-31T13:12:39.788Z"
   },
   {
    "duration": 8,
    "start_time": "2022-01-31T13:12:39.794Z"
   },
   {
    "duration": 8,
    "start_time": "2022-01-31T13:12:39.803Z"
   },
   {
    "duration": 9,
    "start_time": "2022-01-31T13:12:39.813Z"
   },
   {
    "duration": 149,
    "start_time": "2022-01-31T13:12:39.823Z"
   },
   {
    "duration": 431,
    "start_time": "2022-01-31T13:12:39.974Z"
   },
   {
    "duration": 9,
    "start_time": "2022-01-31T13:12:40.407Z"
   },
   {
    "duration": 10,
    "start_time": "2022-01-31T13:12:40.417Z"
   },
   {
    "duration": 6,
    "start_time": "2022-01-31T13:12:40.429Z"
   },
   {
    "duration": 5,
    "start_time": "2022-01-31T13:12:40.437Z"
   },
   {
    "duration": 74,
    "start_time": "2022-01-31T13:12:40.444Z"
   },
   {
    "duration": 5,
    "start_time": "2022-01-31T13:17:20.652Z"
   },
   {
    "duration": 1308,
    "start_time": "2022-01-31T13:19:15.929Z"
   },
   {
    "duration": 489,
    "start_time": "2022-01-31T13:19:17.239Z"
   },
   {
    "duration": 12,
    "start_time": "2022-01-31T13:19:17.730Z"
   },
   {
    "duration": 18,
    "start_time": "2022-01-31T13:19:17.744Z"
   },
   {
    "duration": 70,
    "start_time": "2022-01-31T13:19:17.764Z"
   },
   {
    "duration": 11,
    "start_time": "2022-01-31T13:19:17.836Z"
   },
   {
    "duration": 4512,
    "start_time": "2022-01-31T13:19:17.849Z"
   },
   {
    "duration": 169,
    "start_time": "2022-01-31T13:19:22.363Z"
   },
   {
    "duration": 99,
    "start_time": "2022-01-31T13:19:22.533Z"
   },
   {
    "duration": 7,
    "start_time": "2022-01-31T13:19:22.634Z"
   },
   {
    "duration": 124,
    "start_time": "2022-01-31T13:19:22.643Z"
   },
   {
    "duration": 55,
    "start_time": "2022-01-31T13:19:22.769Z"
   },
   {
    "duration": 9,
    "start_time": "2022-01-31T13:19:22.827Z"
   },
   {
    "duration": 33,
    "start_time": "2022-01-31T13:19:22.838Z"
   },
   {
    "duration": 7,
    "start_time": "2022-01-31T13:19:22.873Z"
   },
   {
    "duration": 21,
    "start_time": "2022-01-31T13:19:22.882Z"
   },
   {
    "duration": 21,
    "start_time": "2022-01-31T13:19:22.905Z"
   },
   {
    "duration": 10,
    "start_time": "2022-01-31T13:19:22.928Z"
   },
   {
    "duration": 22,
    "start_time": "2022-01-31T13:19:22.941Z"
   },
   {
    "duration": 513,
    "start_time": "2022-01-31T13:19:22.965Z"
   },
   {
    "duration": 672,
    "start_time": "2022-01-31T13:19:22.808Z"
   },
   {
    "duration": 665,
    "start_time": "2022-01-31T13:19:22.816Z"
   },
   {
    "duration": 660,
    "start_time": "2022-01-31T13:19:22.822Z"
   },
   {
    "duration": 652,
    "start_time": "2022-01-31T13:19:22.831Z"
   },
   {
    "duration": 649,
    "start_time": "2022-01-31T13:19:22.834Z"
   },
   {
    "duration": 646,
    "start_time": "2022-01-31T13:19:22.838Z"
   },
   {
    "duration": 639,
    "start_time": "2022-01-31T13:19:22.846Z"
   },
   {
    "duration": 637,
    "start_time": "2022-01-31T13:19:22.849Z"
   },
   {
    "duration": 634,
    "start_time": "2022-01-31T13:19:22.853Z"
   },
   {
    "duration": 632,
    "start_time": "2022-01-31T13:19:22.856Z"
   },
   {
    "duration": 626,
    "start_time": "2022-01-31T13:19:22.863Z"
   },
   {
    "duration": 620,
    "start_time": "2022-01-31T13:19:22.869Z"
   },
   {
    "duration": 618,
    "start_time": "2022-01-31T13:19:22.872Z"
   },
   {
    "duration": 611,
    "start_time": "2022-01-31T13:19:22.880Z"
   },
   {
    "duration": 609,
    "start_time": "2022-01-31T13:19:22.883Z"
   },
   {
    "duration": 606,
    "start_time": "2022-01-31T13:19:22.887Z"
   },
   {
    "duration": 606,
    "start_time": "2022-01-31T13:19:22.888Z"
   },
   {
    "duration": 598,
    "start_time": "2022-01-31T13:19:22.897Z"
   },
   {
    "duration": 594,
    "start_time": "2022-01-31T13:19:22.902Z"
   },
   {
    "duration": 12,
    "start_time": "2022-01-31T13:19:49.595Z"
   },
   {
    "duration": 12,
    "start_time": "2022-01-31T13:19:57.101Z"
   },
   {
    "duration": 23,
    "start_time": "2022-01-31T13:20:59.146Z"
   },
   {
    "duration": 13,
    "start_time": "2022-01-31T13:21:11.155Z"
   },
   {
    "duration": 5,
    "start_time": "2022-01-31T13:22:16.361Z"
   },
   {
    "duration": 14,
    "start_time": "2022-01-31T13:22:31.085Z"
   },
   {
    "duration": 43,
    "start_time": "2022-01-31T13:23:00.681Z"
   },
   {
    "duration": 15,
    "start_time": "2022-01-31T13:23:42.976Z"
   },
   {
    "duration": 39,
    "start_time": "2022-01-31T13:26:29.678Z"
   },
   {
    "duration": 20,
    "start_time": "2022-01-31T13:26:32.864Z"
   },
   {
    "duration": 28,
    "start_time": "2022-01-31T13:26:39.487Z"
   },
   {
    "duration": 1291,
    "start_time": "2022-01-31T13:27:51.415Z"
   },
   {
    "duration": 501,
    "start_time": "2022-01-31T13:27:52.707Z"
   },
   {
    "duration": 15,
    "start_time": "2022-01-31T13:27:53.210Z"
   },
   {
    "duration": 20,
    "start_time": "2022-01-31T13:27:53.227Z"
   },
   {
    "duration": 80,
    "start_time": "2022-01-31T13:27:53.249Z"
   },
   {
    "duration": 11,
    "start_time": "2022-01-31T13:27:53.331Z"
   },
   {
    "duration": 4398,
    "start_time": "2022-01-31T13:27:53.344Z"
   },
   {
    "duration": 177,
    "start_time": "2022-01-31T13:27:57.744Z"
   },
   {
    "duration": 91,
    "start_time": "2022-01-31T13:27:57.923Z"
   },
   {
    "duration": 5,
    "start_time": "2022-01-31T13:27:58.015Z"
   },
   {
    "duration": 70,
    "start_time": "2022-01-31T13:27:58.022Z"
   },
   {
    "duration": 38,
    "start_time": "2022-01-31T13:27:58.093Z"
   },
   {
    "duration": 5,
    "start_time": "2022-01-31T13:27:58.133Z"
   },
   {
    "duration": 11,
    "start_time": "2022-01-31T13:27:58.139Z"
   },
   {
    "duration": 19,
    "start_time": "2022-01-31T13:27:58.152Z"
   },
   {
    "duration": 8,
    "start_time": "2022-01-31T13:27:58.173Z"
   },
   {
    "duration": 136,
    "start_time": "2022-01-31T13:27:58.182Z"
   },
   {
    "duration": 24,
    "start_time": "2022-01-31T13:27:58.319Z"
   },
   {
    "duration": 36,
    "start_time": "2022-01-31T13:27:58.344Z"
   },
   {
    "duration": 10,
    "start_time": "2022-01-31T13:27:58.381Z"
   },
   {
    "duration": 202,
    "start_time": "2022-01-31T13:27:58.392Z"
   },
   {
    "duration": 17,
    "start_time": "2022-01-31T13:27:58.595Z"
   },
   {
    "duration": 465,
    "start_time": "2022-01-31T13:27:58.615Z"
   },
   {
    "duration": 21,
    "start_time": "2022-01-31T13:27:59.083Z"
   },
   {
    "duration": 299,
    "start_time": "2022-01-31T13:27:59.105Z"
   },
   {
    "duration": 15,
    "start_time": "2022-01-31T13:27:59.405Z"
   },
   {
    "duration": 5,
    "start_time": "2022-01-31T13:27:59.421Z"
   },
   {
    "duration": 5,
    "start_time": "2022-01-31T13:27:59.428Z"
   },
   {
    "duration": 9,
    "start_time": "2022-01-31T13:27:59.435Z"
   },
   {
    "duration": 10,
    "start_time": "2022-01-31T13:27:59.445Z"
   },
   {
    "duration": 125,
    "start_time": "2022-01-31T13:27:59.471Z"
   },
   {
    "duration": 411,
    "start_time": "2022-01-31T13:27:59.597Z"
   },
   {
    "duration": 10,
    "start_time": "2022-01-31T13:28:00.010Z"
   },
   {
    "duration": 14,
    "start_time": "2022-01-31T13:28:00.021Z"
   },
   {
    "duration": 7,
    "start_time": "2022-01-31T13:28:00.036Z"
   },
   {
    "duration": 17,
    "start_time": "2022-01-31T13:28:00.044Z"
   },
   {
    "duration": 60,
    "start_time": "2022-01-31T13:28:00.062Z"
   },
   {
    "duration": 406,
    "start_time": "2022-01-31T13:28:37.605Z"
   },
   {
    "duration": 8,
    "start_time": "2022-01-31T13:28:46.454Z"
   },
   {
    "duration": 10,
    "start_time": "2022-01-31T13:29:09.449Z"
   },
   {
    "duration": 26,
    "start_time": "2022-01-31T13:31:41.153Z"
   },
   {
    "duration": 14,
    "start_time": "2022-01-31T13:31:48.615Z"
   },
   {
    "duration": 7,
    "start_time": "2022-01-31T13:32:11.589Z"
   },
   {
    "duration": 22,
    "start_time": "2022-01-31T13:32:34.256Z"
   },
   {
    "duration": 14,
    "start_time": "2022-01-31T13:32:38.792Z"
   },
   {
    "duration": 14,
    "start_time": "2022-01-31T13:32:55.114Z"
   },
   {
    "duration": 90,
    "start_time": "2022-01-31T13:34:30.252Z"
   },
   {
    "duration": 21,
    "start_time": "2022-01-31T13:34:35.273Z"
   },
   {
    "duration": 7,
    "start_time": "2022-01-31T13:35:03.918Z"
   },
   {
    "duration": 20,
    "start_time": "2022-01-31T13:35:10.430Z"
   },
   {
    "duration": 21,
    "start_time": "2022-01-31T13:35:39.622Z"
   },
   {
    "duration": 14,
    "start_time": "2022-01-31T13:35:47.346Z"
   },
   {
    "duration": 24,
    "start_time": "2022-01-31T13:38:11.866Z"
   },
   {
    "duration": 96,
    "start_time": "2022-01-31T13:38:12.662Z"
   },
   {
    "duration": 17,
    "start_time": "2022-01-31T13:38:20.147Z"
   },
   {
    "duration": 6,
    "start_time": "2022-01-31T13:38:42.498Z"
   },
   {
    "duration": 5,
    "start_time": "2022-01-31T13:38:52.463Z"
   },
   {
    "duration": 19,
    "start_time": "2022-01-31T13:38:57.060Z"
   },
   {
    "duration": 16,
    "start_time": "2022-01-31T13:39:10.556Z"
   },
   {
    "duration": 124,
    "start_time": "2022-01-31T13:39:57.532Z"
   },
   {
    "duration": 30,
    "start_time": "2022-01-31T13:39:58.385Z"
   },
   {
    "duration": 1330,
    "start_time": "2022-01-31T13:41:11.888Z"
   },
   {
    "duration": 488,
    "start_time": "2022-01-31T13:41:13.219Z"
   },
   {
    "duration": 13,
    "start_time": "2022-01-31T13:41:13.709Z"
   },
   {
    "duration": 18,
    "start_time": "2022-01-31T13:41:13.723Z"
   },
   {
    "duration": 77,
    "start_time": "2022-01-31T13:41:13.742Z"
   },
   {
    "duration": 11,
    "start_time": "2022-01-31T13:41:13.820Z"
   },
   {
    "duration": 3796,
    "start_time": "2022-01-31T13:41:13.833Z"
   },
   {
    "duration": 170,
    "start_time": "2022-01-31T13:41:17.631Z"
   },
   {
    "duration": 91,
    "start_time": "2022-01-31T13:41:17.803Z"
   },
   {
    "duration": 5,
    "start_time": "2022-01-31T13:41:17.896Z"
   },
   {
    "duration": 76,
    "start_time": "2022-01-31T13:41:17.902Z"
   },
   {
    "duration": 36,
    "start_time": "2022-01-31T13:41:17.980Z"
   },
   {
    "duration": 6,
    "start_time": "2022-01-31T13:41:18.018Z"
   },
   {
    "duration": 7,
    "start_time": "2022-01-31T13:41:18.025Z"
   },
   {
    "duration": 13,
    "start_time": "2022-01-31T13:41:18.033Z"
   },
   {
    "duration": 26,
    "start_time": "2022-01-31T13:41:18.047Z"
   },
   {
    "duration": 117,
    "start_time": "2022-01-31T13:41:18.075Z"
   },
   {
    "duration": 28,
    "start_time": "2022-01-31T13:41:18.193Z"
   },
   {
    "duration": 25,
    "start_time": "2022-01-31T13:41:18.223Z"
   },
   {
    "duration": 27,
    "start_time": "2022-01-31T13:41:18.249Z"
   },
   {
    "duration": 195,
    "start_time": "2022-01-31T13:41:18.278Z"
   },
   {
    "duration": 18,
    "start_time": "2022-01-31T13:41:18.475Z"
   },
   {
    "duration": 449,
    "start_time": "2022-01-31T13:41:18.495Z"
   },
   {
    "duration": 36,
    "start_time": "2022-01-31T13:41:18.946Z"
   },
   {
    "duration": 270,
    "start_time": "2022-01-31T13:41:18.984Z"
   },
   {
    "duration": 28,
    "start_time": "2022-01-31T13:41:19.255Z"
   },
   {
    "duration": 5,
    "start_time": "2022-01-31T13:41:19.284Z"
   },
   {
    "duration": 20,
    "start_time": "2022-01-31T13:41:19.290Z"
   },
   {
    "duration": 10,
    "start_time": "2022-01-31T13:41:19.312Z"
   },
   {
    "duration": 20,
    "start_time": "2022-01-31T13:41:19.324Z"
   },
   {
    "duration": 116,
    "start_time": "2022-01-31T13:41:19.345Z"
   },
   {
    "duration": 404,
    "start_time": "2022-01-31T13:41:19.462Z"
   },
   {
    "duration": 7,
    "start_time": "2022-01-31T13:41:19.868Z"
   },
   {
    "duration": 10,
    "start_time": "2022-01-31T13:41:19.877Z"
   },
   {
    "duration": 5,
    "start_time": "2022-01-31T13:41:19.888Z"
   },
   {
    "duration": 6,
    "start_time": "2022-01-31T13:41:19.894Z"
   },
   {
    "duration": 71,
    "start_time": "2022-01-31T13:41:19.901Z"
   },
   {
    "duration": 837,
    "start_time": "2022-01-31T13:45:43.615Z"
   },
   {
    "duration": 26,
    "start_time": "2022-01-31T13:45:52.831Z"
   },
   {
    "duration": 17,
    "start_time": "2022-01-31T13:47:18.083Z"
   },
   {
    "duration": 60,
    "start_time": "2022-01-31T13:49:17.473Z"
   },
   {
    "duration": 57,
    "start_time": "2022-01-31T13:49:31.983Z"
   },
   {
    "duration": 75,
    "start_time": "2022-01-31T13:55:43.166Z"
   },
   {
    "duration": 76,
    "start_time": "2022-01-31T13:55:51.405Z"
   },
   {
    "duration": 23,
    "start_time": "2022-01-31T13:56:43.705Z"
   },
   {
    "duration": 101,
    "start_time": "2022-01-31T13:57:40.516Z"
   },
   {
    "duration": 74,
    "start_time": "2022-01-31T13:58:05.789Z"
   },
   {
    "duration": 5,
    "start_time": "2022-01-31T13:58:19.488Z"
   },
   {
    "duration": 84,
    "start_time": "2022-01-31T14:00:10.042Z"
   },
   {
    "duration": 76,
    "start_time": "2022-01-31T14:00:15.395Z"
   },
   {
    "duration": 6,
    "start_time": "2022-01-31T14:00:25.809Z"
   },
   {
    "duration": 84,
    "start_time": "2022-01-31T14:03:37.957Z"
   },
   {
    "duration": 6833,
    "start_time": "2022-01-31T14:04:43.939Z"
   },
   {
    "duration": 77,
    "start_time": "2022-01-31T14:05:44.258Z"
   },
   {
    "duration": 7,
    "start_time": "2022-01-31T14:05:54.823Z"
   },
   {
    "duration": 3,
    "start_time": "2022-01-31T14:06:34.652Z"
   },
   {
    "duration": 8,
    "start_time": "2022-01-31T14:06:40.319Z"
   },
   {
    "duration": 1397,
    "start_time": "2022-01-31T14:10:18.643Z"
   },
   {
    "duration": 527,
    "start_time": "2022-01-31T14:10:20.042Z"
   },
   {
    "duration": 15,
    "start_time": "2022-01-31T14:10:20.571Z"
   },
   {
    "duration": 42,
    "start_time": "2022-01-31T14:10:20.588Z"
   },
   {
    "duration": 82,
    "start_time": "2022-01-31T14:10:20.631Z"
   },
   {
    "duration": 11,
    "start_time": "2022-01-31T14:10:20.716Z"
   },
   {
    "duration": 4373,
    "start_time": "2022-01-31T14:10:20.729Z"
   },
   {
    "duration": 189,
    "start_time": "2022-01-31T14:10:25.103Z"
   },
   {
    "duration": 103,
    "start_time": "2022-01-31T14:10:25.294Z"
   },
   {
    "duration": 6,
    "start_time": "2022-01-31T14:10:25.399Z"
   },
   {
    "duration": 74,
    "start_time": "2022-01-31T14:10:25.407Z"
   },
   {
    "duration": 36,
    "start_time": "2022-01-31T14:10:25.483Z"
   },
   {
    "duration": 7,
    "start_time": "2022-01-31T14:10:25.521Z"
   },
   {
    "duration": 11,
    "start_time": "2022-01-31T14:10:25.529Z"
   },
   {
    "duration": 34,
    "start_time": "2022-01-31T14:10:25.541Z"
   },
   {
    "duration": 14,
    "start_time": "2022-01-31T14:10:25.576Z"
   },
   {
    "duration": 185,
    "start_time": "2022-01-31T14:10:25.592Z"
   },
   {
    "duration": 45,
    "start_time": "2022-01-31T14:10:25.782Z"
   },
   {
    "duration": 569,
    "start_time": "2022-01-31T14:10:25.829Z"
   },
   {
    "duration": 18,
    "start_time": "2022-01-31T14:10:26.401Z"
   },
   {
    "duration": 314,
    "start_time": "2022-01-31T14:10:26.421Z"
   },
   {
    "duration": 19,
    "start_time": "2022-01-31T14:10:26.737Z"
   },
   {
    "duration": 564,
    "start_time": "2022-01-31T14:10:26.758Z"
   },
   {
    "duration": 67,
    "start_time": "2022-01-31T14:10:27.325Z"
   },
   {
    "duration": 239,
    "start_time": "2022-01-31T14:10:27.394Z"
   },
   {
    "duration": 38,
    "start_time": "2022-01-31T14:10:27.636Z"
   },
   {
    "duration": 6,
    "start_time": "2022-01-31T14:10:27.676Z"
   },
   {
    "duration": 19,
    "start_time": "2022-01-31T14:10:27.684Z"
   },
   {
    "duration": 39,
    "start_time": "2022-01-31T14:10:27.705Z"
   },
   {
    "duration": 27,
    "start_time": "2022-01-31T14:10:27.746Z"
   },
   {
    "duration": 140,
    "start_time": "2022-01-31T14:10:27.774Z"
   },
   {
    "duration": 421,
    "start_time": "2022-01-31T14:10:27.916Z"
   },
   {
    "duration": 8,
    "start_time": "2022-01-31T14:10:28.339Z"
   },
   {
    "duration": 23,
    "start_time": "2022-01-31T14:10:28.349Z"
   },
   {
    "duration": 5,
    "start_time": "2022-01-31T14:10:28.374Z"
   },
   {
    "duration": 7,
    "start_time": "2022-01-31T14:10:28.380Z"
   },
   {
    "duration": 51,
    "start_time": "2022-01-31T14:10:28.388Z"
   },
   {
    "duration": 84,
    "start_time": "2022-01-31T14:10:53.578Z"
   },
   {
    "duration": 81,
    "start_time": "2022-01-31T14:11:07.007Z"
   },
   {
    "duration": 85,
    "start_time": "2022-01-31T14:11:18.532Z"
   },
   {
    "duration": 82,
    "start_time": "2022-01-31T14:11:33.948Z"
   },
   {
    "duration": 95,
    "start_time": "2022-01-31T14:12:22.640Z"
   },
   {
    "duration": 81,
    "start_time": "2022-01-31T14:12:30.107Z"
   },
   {
    "duration": 9,
    "start_time": "2022-01-31T14:17:18.485Z"
   },
   {
    "duration": 7,
    "start_time": "2022-01-31T14:19:59.736Z"
   },
   {
    "duration": 12,
    "start_time": "2022-01-31T14:20:59.345Z"
   },
   {
    "duration": 13,
    "start_time": "2022-01-31T14:21:48.795Z"
   },
   {
    "duration": 20,
    "start_time": "2022-01-31T14:21:49.830Z"
   },
   {
    "duration": 14,
    "start_time": "2022-01-31T14:22:03.549Z"
   },
   {
    "duration": 15,
    "start_time": "2022-01-31T14:22:23.414Z"
   },
   {
    "duration": 8,
    "start_time": "2022-01-31T14:23:02.780Z"
   },
   {
    "duration": 20,
    "start_time": "2022-01-31T14:45:15.367Z"
   },
   {
    "duration": 89,
    "start_time": "2022-01-31T14:47:04.747Z"
   },
   {
    "duration": 400,
    "start_time": "2022-01-31T14:47:10.520Z"
   },
   {
    "duration": 27,
    "start_time": "2022-01-31T14:47:33.435Z"
   },
   {
    "duration": 34,
    "start_time": "2022-01-31T14:48:47.154Z"
   },
   {
    "duration": 27,
    "start_time": "2022-01-31T14:49:11.991Z"
   },
   {
    "duration": 16,
    "start_time": "2022-01-31T14:49:27.647Z"
   },
   {
    "duration": 11,
    "start_time": "2022-01-31T14:50:57.837Z"
   },
   {
    "duration": 5,
    "start_time": "2022-01-31T14:51:44.979Z"
   },
   {
    "duration": 47,
    "start_time": "2022-01-31T14:51:52.841Z"
   },
   {
    "duration": 48,
    "start_time": "2022-01-31T14:52:14.335Z"
   },
   {
    "duration": 44,
    "start_time": "2022-01-31T14:53:06.046Z"
   },
   {
    "duration": 1553,
    "start_time": "2022-01-31T15:03:26.702Z"
   },
   {
    "duration": 521,
    "start_time": "2022-01-31T15:03:28.256Z"
   },
   {
    "duration": 13,
    "start_time": "2022-01-31T15:03:28.782Z"
   },
   {
    "duration": 19,
    "start_time": "2022-01-31T15:03:28.797Z"
   },
   {
    "duration": 72,
    "start_time": "2022-01-31T15:03:28.818Z"
   },
   {
    "duration": 12,
    "start_time": "2022-01-31T15:03:28.892Z"
   },
   {
    "duration": 4014,
    "start_time": "2022-01-31T15:03:28.906Z"
   },
   {
    "duration": 174,
    "start_time": "2022-01-31T15:03:32.922Z"
   },
   {
    "duration": 111,
    "start_time": "2022-01-31T15:03:33.098Z"
   },
   {
    "duration": 6,
    "start_time": "2022-01-31T15:03:33.210Z"
   },
   {
    "duration": 112,
    "start_time": "2022-01-31T15:03:33.272Z"
   },
   {
    "duration": 89,
    "start_time": "2022-01-31T15:03:33.386Z"
   },
   {
    "duration": 6,
    "start_time": "2022-01-31T15:03:33.477Z"
   },
   {
    "duration": 8,
    "start_time": "2022-01-31T15:03:33.484Z"
   },
   {
    "duration": 8,
    "start_time": "2022-01-31T15:03:33.493Z"
   },
   {
    "duration": 11,
    "start_time": "2022-01-31T15:03:33.503Z"
   },
   {
    "duration": 180,
    "start_time": "2022-01-31T15:03:33.571Z"
   },
   {
    "duration": 36,
    "start_time": "2022-01-31T15:03:33.753Z"
   },
   {
    "duration": 462,
    "start_time": "2022-01-31T15:03:33.790Z"
   },
   {
    "duration": 13,
    "start_time": "2022-01-31T15:03:34.254Z"
   },
   {
    "duration": 12,
    "start_time": "2022-01-31T15:03:34.268Z"
   },
   {
    "duration": 12,
    "start_time": "2022-01-31T15:03:34.283Z"
   },
   {
    "duration": 210,
    "start_time": "2022-01-31T15:03:34.297Z"
   },
   {
    "duration": 20,
    "start_time": "2022-01-31T15:03:34.508Z"
   },
   {
    "duration": 550,
    "start_time": "2022-01-31T15:03:34.529Z"
   },
   {
    "duration": 25,
    "start_time": "2022-01-31T15:03:35.081Z"
   },
   {
    "duration": 201,
    "start_time": "2022-01-31T15:03:35.107Z"
   },
   {
    "duration": 16,
    "start_time": "2022-01-31T15:03:35.310Z"
   },
   {
    "duration": 4,
    "start_time": "2022-01-31T15:03:35.328Z"
   },
   {
    "duration": 7,
    "start_time": "2022-01-31T15:03:35.334Z"
   },
   {
    "duration": 7,
    "start_time": "2022-01-31T15:03:35.342Z"
   },
   {
    "duration": 24,
    "start_time": "2022-01-31T15:03:35.351Z"
   },
   {
    "duration": 123,
    "start_time": "2022-01-31T15:03:35.377Z"
   },
   {
    "duration": 522,
    "start_time": "2022-01-31T15:03:35.501Z"
   },
   {
    "duration": 8,
    "start_time": "2022-01-31T15:03:36.025Z"
   },
   {
    "duration": 10,
    "start_time": "2022-01-31T15:03:36.034Z"
   },
   {
    "duration": 30,
    "start_time": "2022-01-31T15:03:36.046Z"
   },
   {
    "duration": 4,
    "start_time": "2022-01-31T15:03:36.078Z"
   },
   {
    "duration": 5,
    "start_time": "2022-01-31T15:03:36.084Z"
   },
   {
    "duration": 44,
    "start_time": "2022-01-31T15:03:36.091Z"
   }
  ],
  "kernelspec": {
   "display_name": "Python 3.11.0 64-bit",
   "language": "python",
   "name": "python3"
  },
  "language_info": {
   "codemirror_mode": {
    "name": "ipython",
    "version": 3
   },
   "file_extension": ".py",
   "mimetype": "text/x-python",
   "name": "python",
   "nbconvert_exporter": "python",
   "pygments_lexer": "ipython3",
   "version": "3.11.0"
  },
  "toc": {
   "base_numbering": 1,
   "nav_menu": {},
   "number_sections": true,
   "sideBar": true,
   "skip_h1_title": true,
   "title_cell": "Содержание",
   "title_sidebar": "Содержание",
   "toc_cell": true,
   "toc_position": {},
   "toc_section_display": true,
   "toc_window_display": false
  },
  "vscode": {
   "interpreter": {
    "hash": "aee8b7b246df8f9039afb4144a1f6fd8d2ca17a180786b69acc140d282b71a49"
   }
  }
 },
 "nbformat": 4,
 "nbformat_minor": 2
}
