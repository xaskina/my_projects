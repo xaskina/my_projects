{
 "cells": [
  {
   "cell_type": "markdown",
   "metadata": {},
   "source": [
    "# Research of ads for the sale of apartments\n",
    "\n",
    "The customer is a service of ads for the sale of apartments in St. Petersburg and neighboring settlements for several years. You need to learn how to determine the market value of real estate. The task is to set the parameters. This will allow you to build an automated system: it will track anomalies and fraudulent activity. \n",
    "\n",
    "Two types of data are available for each apartment for sale. The first ones are entered by the user, the second ones are obtained automatically based on cartographic data. For example, the distance to the center, airport, nearest park and reservoir."
   ]
  },
  {
   "cell_type": "markdown",
   "metadata": {},
   "source": [
    "## Data Preparation and Exploration"
   ]
  },
  {
   "cell_type": "code",
   "execution_count": 716,
   "metadata": {},
   "outputs": [],
   "source": [
    "import pandas as pd\n",
    "import numpy as np\n",
    "import matplotlib.pyplot as plt\n",
    "import warnings\n",
    "warnings.filterwarnings('ignore')"
   ]
  },
  {
   "cell_type": "code",
   "execution_count": 717,
   "metadata": {},
   "outputs": [],
   "source": [
    "data = pd.read_csv('/Users/vintera/Git/my_projects/dataset/project_02/real_estate_data.csv', sep='\\t')"
   ]
  },
  {
   "cell_type": "code",
   "execution_count": 718,
   "metadata": {},
   "outputs": [
    {
     "name": "stdout",
     "output_type": "stream",
     "text": [
      "<class 'pandas.core.frame.DataFrame'>\n",
      "RangeIndex: 23699 entries, 0 to 23698\n",
      "Data columns (total 22 columns):\n",
      " #   Column                Non-Null Count  Dtype  \n",
      "---  ------                --------------  -----  \n",
      " 0   total_images          23699 non-null  int64  \n",
      " 1   last_price            23699 non-null  float64\n",
      " 2   total_area            23699 non-null  float64\n",
      " 3   first_day_exposition  23699 non-null  object \n",
      " 4   rooms                 23699 non-null  int64  \n",
      " 5   ceiling_height        14504 non-null  float64\n",
      " 6   floors_total          23613 non-null  float64\n",
      " 7   living_area           21796 non-null  float64\n",
      " 8   floor                 23699 non-null  int64  \n",
      " 9   is_apartment          2775 non-null   object \n",
      " 10  studio                23699 non-null  bool   \n",
      " 11  open_plan             23699 non-null  bool   \n",
      " 12  kitchen_area          21421 non-null  float64\n",
      " 13  balcony               12180 non-null  float64\n",
      " 14  locality_name         23650 non-null  object \n",
      " 15  airports_nearest      18157 non-null  float64\n",
      " 16  cityCenters_nearest   18180 non-null  float64\n",
      " 17  parks_around3000      18181 non-null  float64\n",
      " 18  parks_nearest         8079 non-null   float64\n",
      " 19  ponds_around3000      18181 non-null  float64\n",
      " 20  ponds_nearest         9110 non-null   float64\n",
      " 21  days_exposition       20518 non-null  float64\n",
      "dtypes: bool(2), float64(14), int64(3), object(3)\n",
      "memory usage: 3.7+ MB\n"
     ]
    }
   ],
   "source": [
    "data.info()"
   ]
  },
  {
   "cell_type": "code",
   "execution_count": 719,
   "metadata": {},
   "outputs": [
    {
     "data": {
      "text/html": [
       "<div>\n",
       "<style scoped>\n",
       "    .dataframe tbody tr th:only-of-type {\n",
       "        vertical-align: middle;\n",
       "    }\n",
       "\n",
       "    .dataframe tbody tr th {\n",
       "        vertical-align: top;\n",
       "    }\n",
       "\n",
       "    .dataframe thead th {\n",
       "        text-align: right;\n",
       "    }\n",
       "</style>\n",
       "<table border=\"1\" class=\"dataframe\">\n",
       "  <thead>\n",
       "    <tr style=\"text-align: right;\">\n",
       "      <th></th>\n",
       "      <th>total_images</th>\n",
       "      <th>last_price</th>\n",
       "      <th>total_area</th>\n",
       "      <th>first_day_exposition</th>\n",
       "      <th>rooms</th>\n",
       "      <th>ceiling_height</th>\n",
       "      <th>floors_total</th>\n",
       "      <th>living_area</th>\n",
       "      <th>floor</th>\n",
       "      <th>is_apartment</th>\n",
       "      <th>...</th>\n",
       "      <th>kitchen_area</th>\n",
       "      <th>balcony</th>\n",
       "      <th>locality_name</th>\n",
       "      <th>airports_nearest</th>\n",
       "      <th>cityCenters_nearest</th>\n",
       "      <th>parks_around3000</th>\n",
       "      <th>parks_nearest</th>\n",
       "      <th>ponds_around3000</th>\n",
       "      <th>ponds_nearest</th>\n",
       "      <th>days_exposition</th>\n",
       "    </tr>\n",
       "  </thead>\n",
       "  <tbody>\n",
       "    <tr>\n",
       "      <th>17338</th>\n",
       "      <td>5</td>\n",
       "      <td>3300000.0</td>\n",
       "      <td>47.0</td>\n",
       "      <td>2018-03-30T00:00:00</td>\n",
       "      <td>1</td>\n",
       "      <td>3.00</td>\n",
       "      <td>10.0</td>\n",
       "      <td>NaN</td>\n",
       "      <td>4</td>\n",
       "      <td>NaN</td>\n",
       "      <td>...</td>\n",
       "      <td>NaN</td>\n",
       "      <td>NaN</td>\n",
       "      <td>деревня Новое Девяткино</td>\n",
       "      <td>NaN</td>\n",
       "      <td>NaN</td>\n",
       "      <td>NaN</td>\n",
       "      <td>NaN</td>\n",
       "      <td>NaN</td>\n",
       "      <td>NaN</td>\n",
       "      <td>42.0</td>\n",
       "    </tr>\n",
       "    <tr>\n",
       "      <th>13876</th>\n",
       "      <td>12</td>\n",
       "      <td>2290000.0</td>\n",
       "      <td>40.0</td>\n",
       "      <td>2016-01-17T00:00:00</td>\n",
       "      <td>2</td>\n",
       "      <td>3.00</td>\n",
       "      <td>3.0</td>\n",
       "      <td>27.000000</td>\n",
       "      <td>2</td>\n",
       "      <td>False</td>\n",
       "      <td>...</td>\n",
       "      <td>7.4</td>\n",
       "      <td>NaN</td>\n",
       "      <td>Гатчина</td>\n",
       "      <td>NaN</td>\n",
       "      <td>NaN</td>\n",
       "      <td>NaN</td>\n",
       "      <td>NaN</td>\n",
       "      <td>NaN</td>\n",
       "      <td>NaN</td>\n",
       "      <td>895.0</td>\n",
       "    </tr>\n",
       "    <tr>\n",
       "      <th>3586</th>\n",
       "      <td>0</td>\n",
       "      <td>5450000.0</td>\n",
       "      <td>53.8</td>\n",
       "      <td>2018-02-01T00:00:00</td>\n",
       "      <td>2</td>\n",
       "      <td>2.85</td>\n",
       "      <td>2.0</td>\n",
       "      <td>36.500000</td>\n",
       "      <td>2</td>\n",
       "      <td>NaN</td>\n",
       "      <td>...</td>\n",
       "      <td>5.3</td>\n",
       "      <td>1.0</td>\n",
       "      <td>Санкт-Петербург</td>\n",
       "      <td>38914.0</td>\n",
       "      <td>10617.0</td>\n",
       "      <td>1.0</td>\n",
       "      <td>255.0</td>\n",
       "      <td>0.0</td>\n",
       "      <td>NaN</td>\n",
       "      <td>64.0</td>\n",
       "    </tr>\n",
       "    <tr>\n",
       "      <th>6495</th>\n",
       "      <td>1</td>\n",
       "      <td>5482990.0</td>\n",
       "      <td>66.1</td>\n",
       "      <td>2016-02-19T00:00:00</td>\n",
       "      <td>2</td>\n",
       "      <td>NaN</td>\n",
       "      <td>25.0</td>\n",
       "      <td>43.600000</td>\n",
       "      <td>1</td>\n",
       "      <td>NaN</td>\n",
       "      <td>...</td>\n",
       "      <td>11.1</td>\n",
       "      <td>0.0</td>\n",
       "      <td>поселок Бугры</td>\n",
       "      <td>NaN</td>\n",
       "      <td>NaN</td>\n",
       "      <td>NaN</td>\n",
       "      <td>NaN</td>\n",
       "      <td>NaN</td>\n",
       "      <td>NaN</td>\n",
       "      <td>469.0</td>\n",
       "    </tr>\n",
       "    <tr>\n",
       "      <th>14431</th>\n",
       "      <td>5</td>\n",
       "      <td>4190000.0</td>\n",
       "      <td>54.0</td>\n",
       "      <td>2017-10-30T00:00:00</td>\n",
       "      <td>2</td>\n",
       "      <td>3.00</td>\n",
       "      <td>12.0</td>\n",
       "      <td>34.000000</td>\n",
       "      <td>3</td>\n",
       "      <td>NaN</td>\n",
       "      <td>...</td>\n",
       "      <td>9.0</td>\n",
       "      <td>2.0</td>\n",
       "      <td>Гатчина</td>\n",
       "      <td>NaN</td>\n",
       "      <td>NaN</td>\n",
       "      <td>NaN</td>\n",
       "      <td>NaN</td>\n",
       "      <td>NaN</td>\n",
       "      <td>NaN</td>\n",
       "      <td>73.0</td>\n",
       "    </tr>\n",
       "    <tr>\n",
       "      <th>...</th>\n",
       "      <td>...</td>\n",
       "      <td>...</td>\n",
       "      <td>...</td>\n",
       "      <td>...</td>\n",
       "      <td>...</td>\n",
       "      <td>...</td>\n",
       "      <td>...</td>\n",
       "      <td>...</td>\n",
       "      <td>...</td>\n",
       "      <td>...</td>\n",
       "      <td>...</td>\n",
       "      <td>...</td>\n",
       "      <td>...</td>\n",
       "      <td>...</td>\n",
       "      <td>...</td>\n",
       "      <td>...</td>\n",
       "      <td>...</td>\n",
       "      <td>...</td>\n",
       "      <td>...</td>\n",
       "      <td>...</td>\n",
       "      <td>...</td>\n",
       "    </tr>\n",
       "    <tr>\n",
       "      <th>15474</th>\n",
       "      <td>14</td>\n",
       "      <td>3920000.0</td>\n",
       "      <td>33.9</td>\n",
       "      <td>2018-03-21T00:00:00</td>\n",
       "      <td>1</td>\n",
       "      <td>2.64</td>\n",
       "      <td>17.0</td>\n",
       "      <td>15.200000</td>\n",
       "      <td>14</td>\n",
       "      <td>NaN</td>\n",
       "      <td>...</td>\n",
       "      <td>7.1</td>\n",
       "      <td>1.0</td>\n",
       "      <td>Санкт-Петербург</td>\n",
       "      <td>25565.0</td>\n",
       "      <td>14075.0</td>\n",
       "      <td>0.0</td>\n",
       "      <td>NaN</td>\n",
       "      <td>0.0</td>\n",
       "      <td>NaN</td>\n",
       "      <td>258.0</td>\n",
       "    </tr>\n",
       "    <tr>\n",
       "      <th>5987</th>\n",
       "      <td>1</td>\n",
       "      <td>3970000.0</td>\n",
       "      <td>50.0</td>\n",
       "      <td>2017-08-17T00:00:00</td>\n",
       "      <td>2</td>\n",
       "      <td>NaN</td>\n",
       "      <td>9.0</td>\n",
       "      <td>31.000000</td>\n",
       "      <td>1</td>\n",
       "      <td>NaN</td>\n",
       "      <td>...</td>\n",
       "      <td>8.0</td>\n",
       "      <td>1.0</td>\n",
       "      <td>Санкт-Петербург</td>\n",
       "      <td>12669.0</td>\n",
       "      <td>12581.0</td>\n",
       "      <td>0.0</td>\n",
       "      <td>NaN</td>\n",
       "      <td>1.0</td>\n",
       "      <td>335.0</td>\n",
       "      <td>45.0</td>\n",
       "    </tr>\n",
       "    <tr>\n",
       "      <th>3011</th>\n",
       "      <td>16</td>\n",
       "      <td>3600000.0</td>\n",
       "      <td>50.2</td>\n",
       "      <td>2016-05-26T00:00:00</td>\n",
       "      <td>2</td>\n",
       "      <td>2.54</td>\n",
       "      <td>9.0</td>\n",
       "      <td>30.900002</td>\n",
       "      <td>6</td>\n",
       "      <td>False</td>\n",
       "      <td>...</td>\n",
       "      <td>6.2</td>\n",
       "      <td>1.0</td>\n",
       "      <td>Санкт-Петербург</td>\n",
       "      <td>41786.0</td>\n",
       "      <td>10666.0</td>\n",
       "      <td>1.0</td>\n",
       "      <td>677.0</td>\n",
       "      <td>0.0</td>\n",
       "      <td>NaN</td>\n",
       "      <td>173.0</td>\n",
       "    </tr>\n",
       "    <tr>\n",
       "      <th>4838</th>\n",
       "      <td>10</td>\n",
       "      <td>1600000.0</td>\n",
       "      <td>43.0</td>\n",
       "      <td>2019-04-06T00:00:00</td>\n",
       "      <td>2</td>\n",
       "      <td>NaN</td>\n",
       "      <td>5.0</td>\n",
       "      <td>NaN</td>\n",
       "      <td>5</td>\n",
       "      <td>NaN</td>\n",
       "      <td>...</td>\n",
       "      <td>NaN</td>\n",
       "      <td>1.0</td>\n",
       "      <td>Сясьстрой</td>\n",
       "      <td>NaN</td>\n",
       "      <td>NaN</td>\n",
       "      <td>NaN</td>\n",
       "      <td>NaN</td>\n",
       "      <td>NaN</td>\n",
       "      <td>NaN</td>\n",
       "      <td>NaN</td>\n",
       "    </tr>\n",
       "    <tr>\n",
       "      <th>18064</th>\n",
       "      <td>3</td>\n",
       "      <td>5060000.0</td>\n",
       "      <td>37.2</td>\n",
       "      <td>2016-07-08T00:00:00</td>\n",
       "      <td>1</td>\n",
       "      <td>NaN</td>\n",
       "      <td>11.0</td>\n",
       "      <td>15.100000</td>\n",
       "      <td>7</td>\n",
       "      <td>NaN</td>\n",
       "      <td>...</td>\n",
       "      <td>16.6</td>\n",
       "      <td>NaN</td>\n",
       "      <td>Санкт-Петербург</td>\n",
       "      <td>30894.0</td>\n",
       "      <td>4087.0</td>\n",
       "      <td>1.0</td>\n",
       "      <td>696.0</td>\n",
       "      <td>1.0</td>\n",
       "      <td>223.0</td>\n",
       "      <td>746.0</td>\n",
       "    </tr>\n",
       "  </tbody>\n",
       "</table>\n",
       "<p>2370 rows × 22 columns</p>\n",
       "</div>"
      ],
      "text/plain": [
       "       total_images  last_price  total_area first_day_exposition  rooms  \\\n",
       "17338             5   3300000.0        47.0  2018-03-30T00:00:00      1   \n",
       "13876            12   2290000.0        40.0  2016-01-17T00:00:00      2   \n",
       "3586              0   5450000.0        53.8  2018-02-01T00:00:00      2   \n",
       "6495              1   5482990.0        66.1  2016-02-19T00:00:00      2   \n",
       "14431             5   4190000.0        54.0  2017-10-30T00:00:00      2   \n",
       "...             ...         ...         ...                  ...    ...   \n",
       "15474            14   3920000.0        33.9  2018-03-21T00:00:00      1   \n",
       "5987              1   3970000.0        50.0  2017-08-17T00:00:00      2   \n",
       "3011             16   3600000.0        50.2  2016-05-26T00:00:00      2   \n",
       "4838             10   1600000.0        43.0  2019-04-06T00:00:00      2   \n",
       "18064             3   5060000.0        37.2  2016-07-08T00:00:00      1   \n",
       "\n",
       "       ceiling_height  floors_total  living_area  floor is_apartment  ...  \\\n",
       "17338            3.00          10.0          NaN      4          NaN  ...   \n",
       "13876            3.00           3.0    27.000000      2        False  ...   \n",
       "3586             2.85           2.0    36.500000      2          NaN  ...   \n",
       "6495              NaN          25.0    43.600000      1          NaN  ...   \n",
       "14431            3.00          12.0    34.000000      3          NaN  ...   \n",
       "...               ...           ...          ...    ...          ...  ...   \n",
       "15474            2.64          17.0    15.200000     14          NaN  ...   \n",
       "5987              NaN           9.0    31.000000      1          NaN  ...   \n",
       "3011             2.54           9.0    30.900002      6        False  ...   \n",
       "4838              NaN           5.0          NaN      5          NaN  ...   \n",
       "18064             NaN          11.0    15.100000      7          NaN  ...   \n",
       "\n",
       "       kitchen_area  balcony            locality_name  airports_nearest  \\\n",
       "17338           NaN      NaN  деревня Новое Девяткино               NaN   \n",
       "13876           7.4      NaN                  Гатчина               NaN   \n",
       "3586            5.3      1.0          Санкт-Петербург           38914.0   \n",
       "6495           11.1      0.0            поселок Бугры               NaN   \n",
       "14431           9.0      2.0                  Гатчина               NaN   \n",
       "...             ...      ...                      ...               ...   \n",
       "15474           7.1      1.0          Санкт-Петербург           25565.0   \n",
       "5987            8.0      1.0          Санкт-Петербург           12669.0   \n",
       "3011            6.2      1.0          Санкт-Петербург           41786.0   \n",
       "4838            NaN      1.0                Сясьстрой               NaN   \n",
       "18064          16.6      NaN          Санкт-Петербург           30894.0   \n",
       "\n",
       "      cityCenters_nearest  parks_around3000  parks_nearest  ponds_around3000  \\\n",
       "17338                 NaN               NaN            NaN               NaN   \n",
       "13876                 NaN               NaN            NaN               NaN   \n",
       "3586              10617.0               1.0          255.0               0.0   \n",
       "6495                  NaN               NaN            NaN               NaN   \n",
       "14431                 NaN               NaN            NaN               NaN   \n",
       "...                   ...               ...            ...               ...   \n",
       "15474             14075.0               0.0            NaN               0.0   \n",
       "5987              12581.0               0.0            NaN               1.0   \n",
       "3011              10666.0               1.0          677.0               0.0   \n",
       "4838                  NaN               NaN            NaN               NaN   \n",
       "18064              4087.0               1.0          696.0               1.0   \n",
       "\n",
       "       ponds_nearest  days_exposition  \n",
       "17338            NaN             42.0  \n",
       "13876            NaN            895.0  \n",
       "3586             NaN             64.0  \n",
       "6495             NaN            469.0  \n",
       "14431            NaN             73.0  \n",
       "...              ...              ...  \n",
       "15474            NaN            258.0  \n",
       "5987           335.0             45.0  \n",
       "3011             NaN            173.0  \n",
       "4838             NaN              NaN  \n",
       "18064          223.0            746.0  \n",
       "\n",
       "[2370 rows x 22 columns]"
      ]
     },
     "execution_count": 719,
     "metadata": {},
     "output_type": "execute_result"
    }
   ],
   "source": [
    "data.sample(frac=0.1, random_state=1)"
   ]
  },
  {
   "cell_type": "markdown",
   "metadata": {},
   "source": [
    "### Comment\n",
    "There are missing values in 14 columns."
   ]
  },
  {
   "cell_type": "code",
   "execution_count": 720,
   "metadata": {},
   "outputs": [
    {
     "data": {
      "text/html": [
       "<div>\n",
       "<style scoped>\n",
       "    .dataframe tbody tr th:only-of-type {\n",
       "        vertical-align: middle;\n",
       "    }\n",
       "\n",
       "    .dataframe tbody tr th {\n",
       "        vertical-align: top;\n",
       "    }\n",
       "\n",
       "    .dataframe thead th {\n",
       "        text-align: right;\n",
       "    }\n",
       "</style>\n",
       "<table border=\"1\" class=\"dataframe\">\n",
       "  <thead>\n",
       "    <tr style=\"text-align: right;\">\n",
       "      <th></th>\n",
       "      <th>total_images</th>\n",
       "      <th>last_price</th>\n",
       "      <th>total_area</th>\n",
       "      <th>rooms</th>\n",
       "      <th>ceiling_height</th>\n",
       "      <th>floors_total</th>\n",
       "      <th>living_area</th>\n",
       "      <th>floor</th>\n",
       "      <th>kitchen_area</th>\n",
       "      <th>balcony</th>\n",
       "      <th>airports_nearest</th>\n",
       "      <th>cityCenters_nearest</th>\n",
       "      <th>parks_around3000</th>\n",
       "      <th>parks_nearest</th>\n",
       "      <th>ponds_around3000</th>\n",
       "      <th>ponds_nearest</th>\n",
       "      <th>days_exposition</th>\n",
       "    </tr>\n",
       "  </thead>\n",
       "  <tbody>\n",
       "    <tr>\n",
       "      <th>count</th>\n",
       "      <td>23699.000000</td>\n",
       "      <td>2.369900e+04</td>\n",
       "      <td>23699.000000</td>\n",
       "      <td>23699.000000</td>\n",
       "      <td>14504.000000</td>\n",
       "      <td>23613.000000</td>\n",
       "      <td>21796.000000</td>\n",
       "      <td>23699.000000</td>\n",
       "      <td>21421.000000</td>\n",
       "      <td>12180.000000</td>\n",
       "      <td>18157.000000</td>\n",
       "      <td>18180.000000</td>\n",
       "      <td>18181.000000</td>\n",
       "      <td>8079.000000</td>\n",
       "      <td>18181.000000</td>\n",
       "      <td>9110.000000</td>\n",
       "      <td>20518.000000</td>\n",
       "    </tr>\n",
       "    <tr>\n",
       "      <th>mean</th>\n",
       "      <td>9.858475</td>\n",
       "      <td>6.541549e+06</td>\n",
       "      <td>60.348651</td>\n",
       "      <td>2.070636</td>\n",
       "      <td>2.771499</td>\n",
       "      <td>10.673824</td>\n",
       "      <td>34.457852</td>\n",
       "      <td>5.892358</td>\n",
       "      <td>10.569807</td>\n",
       "      <td>1.150082</td>\n",
       "      <td>28793.672193</td>\n",
       "      <td>14191.277833</td>\n",
       "      <td>0.611408</td>\n",
       "      <td>490.804555</td>\n",
       "      <td>0.770255</td>\n",
       "      <td>517.980900</td>\n",
       "      <td>180.888634</td>\n",
       "    </tr>\n",
       "    <tr>\n",
       "      <th>std</th>\n",
       "      <td>5.682529</td>\n",
       "      <td>1.088701e+07</td>\n",
       "      <td>35.654083</td>\n",
       "      <td>1.078405</td>\n",
       "      <td>1.261056</td>\n",
       "      <td>6.597173</td>\n",
       "      <td>22.030445</td>\n",
       "      <td>4.885249</td>\n",
       "      <td>5.905438</td>\n",
       "      <td>1.071300</td>\n",
       "      <td>12630.880622</td>\n",
       "      <td>8608.386210</td>\n",
       "      <td>0.802074</td>\n",
       "      <td>342.317995</td>\n",
       "      <td>0.938346</td>\n",
       "      <td>277.720643</td>\n",
       "      <td>219.727988</td>\n",
       "    </tr>\n",
       "    <tr>\n",
       "      <th>min</th>\n",
       "      <td>0.000000</td>\n",
       "      <td>1.219000e+04</td>\n",
       "      <td>12.000000</td>\n",
       "      <td>0.000000</td>\n",
       "      <td>1.000000</td>\n",
       "      <td>1.000000</td>\n",
       "      <td>2.000000</td>\n",
       "      <td>1.000000</td>\n",
       "      <td>1.300000</td>\n",
       "      <td>0.000000</td>\n",
       "      <td>0.000000</td>\n",
       "      <td>181.000000</td>\n",
       "      <td>0.000000</td>\n",
       "      <td>1.000000</td>\n",
       "      <td>0.000000</td>\n",
       "      <td>13.000000</td>\n",
       "      <td>1.000000</td>\n",
       "    </tr>\n",
       "    <tr>\n",
       "      <th>25%</th>\n",
       "      <td>6.000000</td>\n",
       "      <td>3.400000e+06</td>\n",
       "      <td>40.000000</td>\n",
       "      <td>1.000000</td>\n",
       "      <td>2.520000</td>\n",
       "      <td>5.000000</td>\n",
       "      <td>18.600000</td>\n",
       "      <td>2.000000</td>\n",
       "      <td>7.000000</td>\n",
       "      <td>0.000000</td>\n",
       "      <td>18585.000000</td>\n",
       "      <td>9238.000000</td>\n",
       "      <td>0.000000</td>\n",
       "      <td>288.000000</td>\n",
       "      <td>0.000000</td>\n",
       "      <td>294.000000</td>\n",
       "      <td>45.000000</td>\n",
       "    </tr>\n",
       "    <tr>\n",
       "      <th>50%</th>\n",
       "      <td>9.000000</td>\n",
       "      <td>4.650000e+06</td>\n",
       "      <td>52.000000</td>\n",
       "      <td>2.000000</td>\n",
       "      <td>2.650000</td>\n",
       "      <td>9.000000</td>\n",
       "      <td>30.000000</td>\n",
       "      <td>4.000000</td>\n",
       "      <td>9.100000</td>\n",
       "      <td>1.000000</td>\n",
       "      <td>26726.000000</td>\n",
       "      <td>13098.500000</td>\n",
       "      <td>0.000000</td>\n",
       "      <td>455.000000</td>\n",
       "      <td>1.000000</td>\n",
       "      <td>502.000000</td>\n",
       "      <td>95.000000</td>\n",
       "    </tr>\n",
       "    <tr>\n",
       "      <th>75%</th>\n",
       "      <td>14.000000</td>\n",
       "      <td>6.800000e+06</td>\n",
       "      <td>69.900000</td>\n",
       "      <td>3.000000</td>\n",
       "      <td>2.800000</td>\n",
       "      <td>16.000000</td>\n",
       "      <td>42.300000</td>\n",
       "      <td>8.000000</td>\n",
       "      <td>12.000000</td>\n",
       "      <td>2.000000</td>\n",
       "      <td>37273.000000</td>\n",
       "      <td>16293.000000</td>\n",
       "      <td>1.000000</td>\n",
       "      <td>612.000000</td>\n",
       "      <td>1.000000</td>\n",
       "      <td>729.000000</td>\n",
       "      <td>232.000000</td>\n",
       "    </tr>\n",
       "    <tr>\n",
       "      <th>max</th>\n",
       "      <td>50.000000</td>\n",
       "      <td>7.630000e+08</td>\n",
       "      <td>900.000000</td>\n",
       "      <td>19.000000</td>\n",
       "      <td>100.000000</td>\n",
       "      <td>60.000000</td>\n",
       "      <td>409.700000</td>\n",
       "      <td>33.000000</td>\n",
       "      <td>112.000000</td>\n",
       "      <td>5.000000</td>\n",
       "      <td>84869.000000</td>\n",
       "      <td>65968.000000</td>\n",
       "      <td>3.000000</td>\n",
       "      <td>3190.000000</td>\n",
       "      <td>3.000000</td>\n",
       "      <td>1344.000000</td>\n",
       "      <td>1580.000000</td>\n",
       "    </tr>\n",
       "  </tbody>\n",
       "</table>\n",
       "</div>"
      ],
      "text/plain": [
       "       total_images    last_price    total_area         rooms  ceiling_height  \\\n",
       "count  23699.000000  2.369900e+04  23699.000000  23699.000000    14504.000000   \n",
       "mean       9.858475  6.541549e+06     60.348651      2.070636        2.771499   \n",
       "std        5.682529  1.088701e+07     35.654083      1.078405        1.261056   \n",
       "min        0.000000  1.219000e+04     12.000000      0.000000        1.000000   \n",
       "25%        6.000000  3.400000e+06     40.000000      1.000000        2.520000   \n",
       "50%        9.000000  4.650000e+06     52.000000      2.000000        2.650000   \n",
       "75%       14.000000  6.800000e+06     69.900000      3.000000        2.800000   \n",
       "max       50.000000  7.630000e+08    900.000000     19.000000      100.000000   \n",
       "\n",
       "       floors_total   living_area         floor  kitchen_area       balcony  \\\n",
       "count  23613.000000  21796.000000  23699.000000  21421.000000  12180.000000   \n",
       "mean      10.673824     34.457852      5.892358     10.569807      1.150082   \n",
       "std        6.597173     22.030445      4.885249      5.905438      1.071300   \n",
       "min        1.000000      2.000000      1.000000      1.300000      0.000000   \n",
       "25%        5.000000     18.600000      2.000000      7.000000      0.000000   \n",
       "50%        9.000000     30.000000      4.000000      9.100000      1.000000   \n",
       "75%       16.000000     42.300000      8.000000     12.000000      2.000000   \n",
       "max       60.000000    409.700000     33.000000    112.000000      5.000000   \n",
       "\n",
       "       airports_nearest  cityCenters_nearest  parks_around3000  parks_nearest  \\\n",
       "count      18157.000000         18180.000000      18181.000000    8079.000000   \n",
       "mean       28793.672193         14191.277833          0.611408     490.804555   \n",
       "std        12630.880622          8608.386210          0.802074     342.317995   \n",
       "min            0.000000           181.000000          0.000000       1.000000   \n",
       "25%        18585.000000          9238.000000          0.000000     288.000000   \n",
       "50%        26726.000000         13098.500000          0.000000     455.000000   \n",
       "75%        37273.000000         16293.000000          1.000000     612.000000   \n",
       "max        84869.000000         65968.000000          3.000000    3190.000000   \n",
       "\n",
       "       ponds_around3000  ponds_nearest  days_exposition  \n",
       "count      18181.000000    9110.000000     20518.000000  \n",
       "mean           0.770255     517.980900       180.888634  \n",
       "std            0.938346     277.720643       219.727988  \n",
       "min            0.000000      13.000000         1.000000  \n",
       "25%            0.000000     294.000000        45.000000  \n",
       "50%            1.000000     502.000000        95.000000  \n",
       "75%            1.000000     729.000000       232.000000  \n",
       "max            3.000000    1344.000000      1580.000000  "
      ]
     },
     "execution_count": 720,
     "metadata": {},
     "output_type": "execute_result"
    }
   ],
   "source": [
    "data.describe()\n"
   ]
  },
  {
   "cell_type": "markdown",
   "metadata": {},
   "source": [
    "### Summary\n",
    "\n",
    "The studied data on the real estate market in St. Petersburg and the Leningrad region is a table consisting of 23699 rows and 22 columns containing various types of data. Only 8 columns of the table are completely filled and do not contain gaps. To prepare the data for working with them, we have to eliminate omissions and abnormal values, change the data types in the columns we are interested in, based on the tasks assigned to the study."
   ]
  },
  {
   "cell_type": "markdown",
   "metadata": {},
   "source": [
    "## Data preprocessing and research"
   ]
  },
  {
   "cell_type": "code",
   "execution_count": 721,
   "metadata": {},
   "outputs": [],
   "source": [
    "# Remove the gaps in the column with the names of the locality. Their number is small, and the significance of these data is high.\n",
    "data.dropna(subset=['locality_name'], inplace=True)"
   ]
  },
  {
   "cell_type": "code",
   "execution_count": 722,
   "metadata": {},
   "outputs": [],
   "source": [
    "# Put the names of settlements in order by replacing all the \"e\" in their names with \"e\".\n",
    "data['locality_name'] = data['locality_name'].str.replace('ё', 'е')"
   ]
  },
  {
   "cell_type": "code",
   "execution_count": 723,
   "metadata": {},
   "outputs": [
    {
     "data": {
      "text/plain": [
       "106"
      ]
     },
     "execution_count": 723,
     "metadata": {},
     "output_type": "execute_result"
    }
   ],
   "source": [
    "# Replace the gaps in the ceiling height data with median values, grouping them by the location of these apartments.\n",
    "data['ceiling_height'] = data['ceiling_height'].fillna(data.groupby('locality_name')['ceiling_height'].transform('median'))\n",
    "data['ceiling_height'].isna().sum()"
   ]
  },
  {
   "cell_type": "code",
   "execution_count": 724,
   "metadata": {},
   "outputs": [],
   "source": [
    "# For the remaining 106, with unique location data, replace the gaps with a common median value.\n",
    "data['ceiling_height'] = data['ceiling_height'].fillna(data['ceiling_height'].median())"
   ]
  },
  {
   "cell_type": "code",
   "execution_count": 725,
   "metadata": {},
   "outputs": [
    {
     "data": {
      "text/plain": [
       "4864"
      ]
     },
     "execution_count": 725,
     "metadata": {},
     "output_type": "execute_result"
    }
   ],
   "source": [
    "data['cityCenters_nearest'] = data['cityCenters_nearest'].fillna(data.groupby('locality_name')['cityCenters_nearest'].transform('median'))\n",
    "data['cityCenters_nearest'].isna().sum()"
   ]
  },
  {
   "cell_type": "markdown",
   "metadata": {},
   "source": [
    "### Comment\n",
    "In the column with the distance to the city center, only a small part of the gaps were filled in. It would be incorrect to fill in the remaining almost five thousand gaps with the median value, especially since the data in this column is very versatile."
   ]
  },
  {
   "cell_type": "code",
   "execution_count": 726,
   "metadata": {},
   "outputs": [],
   "source": [
    "# Delete 85 lines with missing values about the number of storeys of buildings.\n",
    "data.dropna(subset=['floors_total'], inplace=True)"
   ]
  },
  {
   "cell_type": "code",
   "execution_count": 727,
   "metadata": {},
   "outputs": [],
   "source": [
    "# Assuming that the gaps in the data on the number of balconies indicate their absence, replace them with 0.\n",
    "data['balcony'] = data['balcony'].fillna(0)"
   ]
  },
  {
   "cell_type": "code",
   "execution_count": 728,
   "metadata": {},
   "outputs": [
    {
     "data": {
      "text/plain": [
       "133"
      ]
     },
     "execution_count": 728,
     "metadata": {},
     "output_type": "execute_result"
    }
   ],
   "source": [
    "data['living_area'] = data['living_area'].fillna(data.groupby('total_area')['living_area'].transform('median'))\n",
    "data['living_area'].isna().sum()"
   ]
  },
  {
   "cell_type": "markdown",
   "metadata": {},
   "source": [
    "### Comment\n",
    "We replace the missing data on the living area, grouped by total area, with median values. We will not delete the remaining gaps, we will try to come up with something else for them."
   ]
  },
  {
   "cell_type": "code",
   "execution_count": 729,
   "metadata": {
    "scrolled": true
   },
   "outputs": [
    {
     "data": {
      "text/plain": [
       "0.5709677419354838"
      ]
     },
     "execution_count": 729,
     "metadata": {},
     "output_type": "execute_result"
    }
   ],
   "source": [
    "# Calculate the median ratio of residential and total area.\n",
    "median_ratio_living_total = (data['living_area'] / data ['total_area']).median()\n",
    "median_ratio_living_total"
   ]
  },
  {
   "cell_type": "code",
   "execution_count": 730,
   "metadata": {},
   "outputs": [],
   "source": [
    "# Create a function that replaces the missing values of the living area with the product of the total area and, previously obtained, the median of the ratio of these areas.\n",
    "def living_area_from_median_ratio(row):\n",
    "    living = row['living_area']\n",
    "    total = row['total_area']\n",
    "    \n",
    "    if living > 0:\n",
    "        return living\n",
    "    return total * median_ratio_living_total\n",
    "\n",
    "\n",
    "data['living_area'] = data.apply(living_area_from_median_ratio, axis=1)"
   ]
  },
  {
   "cell_type": "code",
   "execution_count": 731,
   "metadata": {},
   "outputs": [
    {
     "data": {
      "text/plain": [
       "185"
      ]
     },
     "execution_count": 731,
     "metadata": {},
     "output_type": "execute_result"
    }
   ],
   "source": [
    "data['kitchen_area'] = data['kitchen_area'].fillna(data.groupby('total_area')['kitchen_area'].transform('median'))\n",
    "data['kitchen_area'].isna().sum()"
   ]
  },
  {
   "cell_type": "code",
   "execution_count": 732,
   "metadata": {},
   "outputs": [
    {
     "data": {
      "text/plain": [
       "0.1713505331051731"
      ]
     },
     "execution_count": 732,
     "metadata": {},
     "output_type": "execute_result"
    }
   ],
   "source": [
    "median_ratio_kitchen_total = (data['kitchen_area'] / data ['total_area']).median()\n",
    "median_ratio_kitchen_total"
   ]
  },
  {
   "cell_type": "code",
   "execution_count": 733,
   "metadata": {},
   "outputs": [],
   "source": [
    "# With the missing values in the kitchen area, we act similarly to the missing values in the living area.\n",
    "def kitchen_area_from_median_ratio(row):\n",
    "    kitchen = row['kitchen_area']\n",
    "    total = row['total_area']\n",
    "    \n",
    "    if kitchen > 0:\n",
    "        return kitchen\n",
    "    return total * median_ratio_kitchen_total\n",
    "\n",
    "\n",
    "data['kitchen_area'] = data.apply(kitchen_area_from_median_ratio, axis=1)"
   ]
  },
  {
   "cell_type": "markdown",
   "metadata": {},
   "source": [
    "### Data type converting"
   ]
  },
  {
   "cell_type": "code",
   "execution_count": 734,
   "metadata": {},
   "outputs": [],
   "source": [
    "# Information about the date of publication of the announcement will be reformatted into a temporary format.\n",
    "data['first_day_exposition'] = pd.to_datetime(data['first_day_exposition'], format='%Y-%m-%dT%H:%M:%S')"
   ]
  },
  {
   "cell_type": "code",
   "execution_count": 735,
   "metadata": {},
   "outputs": [],
   "source": [
    "# Change the data types in columns without omissions and data that does not imply fractional values to integers.\n",
    "data['last_price'] = data['last_price'].astype('int')\n",
    "data['rooms'] = data['rooms'].astype('int')\n",
    "data['floors_total'] = data['floors_total'].astype('int')\n",
    "data['floor'] = data['floor'].astype('int')\n",
    "data['balcony'] = data['balcony'].astype('int')"
   ]
  },
  {
   "cell_type": "code",
   "execution_count": 736,
   "metadata": {},
   "outputs": [
    {
     "name": "stdout",
     "output_type": "stream",
     "text": [
      "<class 'pandas.core.frame.DataFrame'>\n",
      "Int64Index: 23565 entries, 0 to 23698\n",
      "Data columns (total 22 columns):\n",
      " #   Column                Non-Null Count  Dtype         \n",
      "---  ------                --------------  -----         \n",
      " 0   total_images          23565 non-null  int64         \n",
      " 1   last_price            23565 non-null  int64         \n",
      " 2   total_area            23565 non-null  float64       \n",
      " 3   first_day_exposition  23565 non-null  datetime64[ns]\n",
      " 4   rooms                 23565 non-null  int64         \n",
      " 5   ceiling_height        23565 non-null  float64       \n",
      " 6   floors_total          23565 non-null  int64         \n",
      " 7   living_area           23565 non-null  float64       \n",
      " 8   floor                 23565 non-null  int64         \n",
      " 9   is_apartment          2760 non-null   object        \n",
      " 10  studio                23565 non-null  bool          \n",
      " 11  open_plan             23565 non-null  bool          \n",
      " 12  kitchen_area          23565 non-null  float64       \n",
      " 13  balcony               23565 non-null  int64         \n",
      " 14  locality_name         23565 non-null  object        \n",
      " 15  airports_nearest      18041 non-null  float64       \n",
      " 16  cityCenters_nearest   18707 non-null  float64       \n",
      " 17  parks_around3000      18065 non-null  float64       \n",
      " 18  parks_nearest         8030 non-null   float64       \n",
      " 19  ponds_around3000      18065 non-null  float64       \n",
      " 20  ponds_nearest         9036 non-null   float64       \n",
      " 21  days_exposition       20394 non-null  float64       \n",
      "dtypes: bool(2), datetime64[ns](1), float64(11), int64(6), object(2)\n",
      "memory usage: 3.8+ MB\n"
     ]
    }
   ],
   "source": [
    "data.info()"
   ]
  },
  {
   "cell_type": "markdown",
   "metadata": {},
   "source": [
    "### Summary\n",
    "\n",
    "There are now no gaps in most of the columns. During data preprocessing, only 134 rows were deleted, which was only 0.5% of the original number. Deleting an insignificant part of the data with omissions will affect the results of the study less negatively than replacing omissions with median values. Changing the data types in columns containing integers will provide comfort when working with data by cutting off the \"fractional tails\" from the numbers, and in order to work with dates, and not with numbers similar to dates, we assigned the necessary data type to the corresponding column."
   ]
  },
  {
   "cell_type": "markdown",
   "metadata": {},
   "source": [
    "## Calculations and adding results to the table"
   ]
  },
  {
   "cell_type": "code",
   "execution_count": 737,
   "metadata": {},
   "outputs": [],
   "source": [
    "# Add a column with calculations of the cost per square meter.\n",
    "data['price_per_m2'] = data['last_price'] / data ['total_area']"
   ]
  },
  {
   "cell_type": "code",
   "execution_count": 738,
   "metadata": {},
   "outputs": [],
   "source": [
    "# Create and add columns to the table containing information about the year, month and day of the week of the publication of the sale announcement.\n",
    "data['year'] = data['first_day_exposition'].dt.year\n",
    "data['month'] = data['first_day_exposition'].dt.month\n",
    "data['weekday'] = data['first_day_exposition'].dt.weekday"
   ]
  },
  {
   "cell_type": "code",
   "execution_count": 739,
   "metadata": {},
   "outputs": [
    {
     "data": {
      "text/plain": [
       "другой       17326\n",
       "последний     3330\n",
       "первый        2909\n",
       "Name: floor_cat, dtype: int64"
      ]
     },
     "execution_count": 739,
     "metadata": {},
     "output_type": "execute_result"
    }
   ],
   "source": [
    "# Categorize the floor data and add this data to a new column.\n",
    "def floor_categorization(row):\n",
    "    floor = row['floor']\n",
    "    floors_total = row['floors_total']\n",
    "    \n",
    "    if floor == 1:\n",
    "        return 'первый'\n",
    "    \n",
    "    if floor == floors_total:\n",
    "        return 'последний'\n",
    "\n",
    "    return 'другой'\n",
    "\n",
    "data['floor_cat'] = data.apply(floor_categorization, axis=1)\n",
    "data['floor_cat'].value_counts()"
   ]
  },
  {
   "cell_type": "code",
   "execution_count": 740,
   "metadata": {},
   "outputs": [],
   "source": [
    "# Calculate the ratio of living and kitchen areas to the total area.\n",
    "data['living_to_total_ratio'] = data['living_area'] / data ['total_area']\n",
    "data['kitchen_to_total_ratio'] = data['kitchen_area'] / data ['total_area']"
   ]
  },
  {
   "cell_type": "markdown",
   "metadata": {},
   "source": [
    "### Summary\n",
    "\n",
    "In this section, calculations were made, the results of which were added to the table, in accordance with the tasks assigned to the study."
   ]
  },
  {
   "cell_type": "markdown",
   "metadata": {},
   "source": [
    "## Exploratory Data Analysis"
   ]
  },
  {
   "cell_type": "markdown",
   "metadata": {},
   "source": [
    "### Investigation of the main parameters. Search and elimination of rare and erratic values."
   ]
  },
  {
   "cell_type": "code",
   "execution_count": 741,
   "metadata": {},
   "outputs": [
    {
     "data": {
      "text/plain": [
       "count    23565.000000\n",
       "mean        60.322824\n",
       "std         35.657060\n",
       "min         12.000000\n",
       "25%         40.000000\n",
       "50%         52.000000\n",
       "75%         69.700000\n",
       "max        900.000000\n",
       "Name: total_area, dtype: float64"
      ]
     },
     "execution_count": 741,
     "metadata": {},
     "output_type": "execute_result"
    },
    {
     "data": {
      "image/png": "[encoded data removed]",
      "text/plain": [
       "<Figure size 500x500 with 1 Axes>"
      ]
     },
     "metadata": {},
     "output_type": "display_data"
    }
   ],
   "source": [
    "data['total_area'].plot(kind='hist', bins=200, range = (0, 400), figsize = (5, 5), grid=True, title='Total area')\n",
    "plt.xlabel('Area sq.m.')\n",
    "plt.ylabel('Number of ads')\n",
    "data['total_area'].describe()"
   ]
  },
  {
   "cell_type": "code",
   "execution_count": 742,
   "metadata": {},
   "outputs": [
    {
     "data": {
      "text/plain": [
       "116.0"
      ]
     },
     "execution_count": 742,
     "metadata": {},
     "output_type": "execute_result"
    }
   ],
   "source": [
    "data['total_area'].quantile(0.95)"
   ]
  },
  {
   "cell_type": "markdown",
   "metadata": {},
   "source": [
    "#### Comment\n",
    "As you can see from the graph, the main part of the premises sold has an area of less than 100 sq.m. At the same time, the average value is 60 sq.m., and the median is 52 sq.m. The average value is overestimated by the presence of rooms with a very large quadrature in the data under study (the maximum value is 900 sq.m.). Despite the fact that these data cannot be considered abnormal, in order to avoid distortion of the main indicators, we will establish a 95% percentile in order to subsequently get rid of the remaining 5% of ads with a very large quadrature."
   ]
  },
  {
   "cell_type": "code",
   "execution_count": 743,
   "metadata": {},
   "outputs": [
    {
     "data": {
      "text/html": [
       "<style type=\"text/css\">\n",
       "</style>\n",
       "<table id=\"T_719b4\">\n",
       "  <thead>\n",
       "    <tr>\n",
       "      <th class=\"blank level0\" >&nbsp;</th>\n",
       "      <th id=\"T_719b4_level0_col0\" class=\"col_heading level0 col0\" >price_per_m2</th>\n",
       "    </tr>\n",
       "  </thead>\n",
       "  <tbody>\n",
       "    <tr>\n",
       "      <th id=\"T_719b4_level0_row0\" class=\"row_heading level0 row0\" >count</th>\n",
       "      <td id=\"T_719b4_row0_col0\" class=\"data row0 col0\" >23565</td>\n",
       "    </tr>\n",
       "    <tr>\n",
       "      <th id=\"T_719b4_level0_row1\" class=\"row_heading level0 row1\" >mean</th>\n",
       "      <td id=\"T_719b4_row1_col0\" class=\"data row1 col0\" >99406</td>\n",
       "    </tr>\n",
       "    <tr>\n",
       "      <th id=\"T_719b4_level0_row2\" class=\"row_heading level0 row2\" >std</th>\n",
       "      <td id=\"T_719b4_row2_col0\" class=\"data row2 col0\" >50389</td>\n",
       "    </tr>\n",
       "    <tr>\n",
       "      <th id=\"T_719b4_level0_row3\" class=\"row_heading level0 row3\" >min</th>\n",
       "      <td id=\"T_719b4_row3_col0\" class=\"data row3 col0\" >112</td>\n",
       "    </tr>\n",
       "    <tr>\n",
       "      <th id=\"T_719b4_level0_row4\" class=\"row_heading level0 row4\" >25%</th>\n",
       "      <td id=\"T_719b4_row4_col0\" class=\"data row4 col0\" >76566</td>\n",
       "    </tr>\n",
       "    <tr>\n",
       "      <th id=\"T_719b4_level0_row5\" class=\"row_heading level0 row5\" >50%</th>\n",
       "      <td id=\"T_719b4_row5_col0\" class=\"data row5 col0\" >95000</td>\n",
       "    </tr>\n",
       "    <tr>\n",
       "      <th id=\"T_719b4_level0_row6\" class=\"row_heading level0 row6\" >75%</th>\n",
       "      <td id=\"T_719b4_row6_col0\" class=\"data row6 col0\" >114213</td>\n",
       "    </tr>\n",
       "    <tr>\n",
       "      <th id=\"T_719b4_level0_row7\" class=\"row_heading level0 row7\" >max</th>\n",
       "      <td id=\"T_719b4_row7_col0\" class=\"data row7 col0\" >1907500</td>\n",
       "    </tr>\n",
       "  </tbody>\n",
       "</table>\n"
      ],
      "text/plain": [
       "<pandas.io.formats.style.Styler at 0x13fc50d50>"
      ]
     },
     "execution_count": 743,
     "metadata": {},
     "output_type": "execute_result"
    },
    {
     "data": {
      "image/png": "[encoded data removed]",
      "text/plain": [
       "<Figure size 500x500 with 1 Axes>"
      ]
     },
     "metadata": {},
     "output_type": "display_data"
    }
   ],
   "source": [
    "data['price_per_m2'].plot(kind='hist', bins=100, range = (0, 800000), figsize = (5, 5), grid=True, title='Price per square meter')\n",
    "plt.xlabel('Cost')\n",
    "plt.ylabel('Number of ads')\n",
    "data[['price_per_m2']].describe().style.format({'price_per_m2': '{:.0f}'})"
   ]
  },
  {
   "cell_type": "code",
   "execution_count": 744,
   "metadata": {},
   "outputs": [
    {
     "data": {
      "text/plain": [
       "160714.2857142857"
      ]
     },
     "execution_count": 744,
     "metadata": {},
     "output_type": "execute_result"
    }
   ],
   "source": [
    "data['price_per_m2'].quantile(0.95)"
   ]
  },
  {
   "cell_type": "markdown",
   "metadata": {},
   "source": [
    "#### Comment\n",
    "The cost per square meter of almost all premises for sale does not exceed 200 thousand. The average and median indicators are almost equal and are kept at the level of 95-99 thousand. The values in 95% of the data presented do not exceed 161 thousand per square meter."
   ]
  },
  {
   "cell_type": "code",
   "execution_count": 745,
   "metadata": {},
   "outputs": [
    {
     "data": {
      "text/html": [
       "<style type=\"text/css\">\n",
       "</style>\n",
       "<table id=\"T_e097f\">\n",
       "  <thead>\n",
       "    <tr>\n",
       "      <th class=\"blank level0\" >&nbsp;</th>\n",
       "      <th id=\"T_e097f_level0_col0\" class=\"col_heading level0 col0\" >last_price</th>\n",
       "    </tr>\n",
       "  </thead>\n",
       "  <tbody>\n",
       "    <tr>\n",
       "      <th id=\"T_e097f_level0_row0\" class=\"row_heading level0 row0\" >count</th>\n",
       "      <td id=\"T_e097f_row0_col0\" class=\"data row0 col0\" >23565.0</td>\n",
       "    </tr>\n",
       "    <tr>\n",
       "      <th id=\"T_e097f_level0_row1\" class=\"row_heading level0 row1\" >mean</th>\n",
       "      <td id=\"T_e097f_row1_col0\" class=\"data row1 col0\" >6540058.3</td>\n",
       "    </tr>\n",
       "    <tr>\n",
       "      <th id=\"T_e097f_level0_row2\" class=\"row_heading level0 row2\" >std</th>\n",
       "      <td id=\"T_e097f_row2_col0\" class=\"data row2 col0\" >10910934.7</td>\n",
       "    </tr>\n",
       "    <tr>\n",
       "      <th id=\"T_e097f_level0_row3\" class=\"row_heading level0 row3\" >min</th>\n",
       "      <td id=\"T_e097f_row3_col0\" class=\"data row3 col0\" >12190.0</td>\n",
       "    </tr>\n",
       "    <tr>\n",
       "      <th id=\"T_e097f_level0_row4\" class=\"row_heading level0 row4\" >25%</th>\n",
       "      <td id=\"T_e097f_row4_col0\" class=\"data row4 col0\" >3400000.0</td>\n",
       "    </tr>\n",
       "    <tr>\n",
       "      <th id=\"T_e097f_level0_row5\" class=\"row_heading level0 row5\" >50%</th>\n",
       "      <td id=\"T_e097f_row5_col0\" class=\"data row5 col0\" >4646000.0</td>\n",
       "    </tr>\n",
       "    <tr>\n",
       "      <th id=\"T_e097f_level0_row6\" class=\"row_heading level0 row6\" >75%</th>\n",
       "      <td id=\"T_e097f_row6_col0\" class=\"data row6 col0\" >6790000.0</td>\n",
       "    </tr>\n",
       "    <tr>\n",
       "      <th id=\"T_e097f_level0_row7\" class=\"row_heading level0 row7\" >max</th>\n",
       "      <td id=\"T_e097f_row7_col0\" class=\"data row7 col0\" >763000000.0</td>\n",
       "    </tr>\n",
       "  </tbody>\n",
       "</table>\n"
      ],
      "text/plain": [
       "<pandas.io.formats.style.Styler at 0x156f50590>"
      ]
     },
     "execution_count": 745,
     "metadata": {},
     "output_type": "execute_result"
    },
    {
     "data": {
      "image/png": "[encoded data removed]",
      "text/plain": [
       "<Figure size 500x500 with 1 Axes>"
      ]
     },
     "metadata": {},
     "output_type": "display_data"
    }
   ],
   "source": [
    "data['last_price'].plot(kind='hist', bins=200, range = (0, 80000000), figsize = (5, 5), grid=True, title='The cost of the apartment')\n",
    "plt.xlabel('Cost (x10 million)')\n",
    "plt.ylabel('Number of ads')\n",
    "data[['last_price']].describe().style.format({'last_price': '{:.1f}'})"
   ]
  },
  {
   "cell_type": "code",
   "execution_count": 746,
   "metadata": {},
   "outputs": [
    {
     "data": {
      "text/plain": [
       "15300000.0"
      ]
     },
     "execution_count": 746,
     "metadata": {},
     "output_type": "execute_result"
    }
   ],
   "source": [
    "data['last_price'].quantile(0.95)"
   ]
  },
  {
   "cell_type": "markdown",
   "metadata": {},
   "source": [
    "#### Comment\n",
    "On the resulting histogram, we see that the bulk of the ads for the sale of premises worth less than 10 million. The average value is 6.5 million, the median is 4.6 million. The shift of the average to higher values is caused by the presence of very expensive premises in the data. 95% of values less than - 15.3 million."
   ]
  },
  {
   "cell_type": "code",
   "execution_count": 747,
   "metadata": {},
   "outputs": [
    {
     "data": {
      "text/plain": [
       "count    23565.000000\n",
       "mean         2.070656\n",
       "std          1.078591\n",
       "min          0.000000\n",
       "25%          1.000000\n",
       "50%          2.000000\n",
       "75%          3.000000\n",
       "max         19.000000\n",
       "Name: rooms, dtype: float64"
      ]
     },
     "execution_count": 747,
     "metadata": {},
     "output_type": "execute_result"
    },
    {
     "data": {
      "image/png": "[encoded data removed]",
      "text/plain": [
       "<Figure size 500x500 with 1 Axes>"
      ]
     },
     "metadata": {},
     "output_type": "display_data"
    }
   ],
   "source": [
    "data['rooms'].plot(kind='hist', bins=10, range = (0, 10), figsize = (5, 5), grid=True, title='Number of rooms')\n",
    "plt.xlabel('Rooms')\n",
    "plt.ylabel('Number of ads')\n",
    "data['rooms'].describe()"
   ]
  },
  {
   "cell_type": "code",
   "execution_count": 748,
   "metadata": {},
   "outputs": [
    {
     "data": {
      "text/plain": [
       "4.0"
      ]
     },
     "execution_count": 748,
     "metadata": {},
     "output_type": "execute_result"
    }
   ],
   "source": [
    "data['rooms'].quantile(0.95)"
   ]
  },
  {
   "cell_type": "markdown",
   "metadata": {},
   "source": [
    "#### Comment\n",
    "The prevailing part of the premises sold have from 1st to 3 rooms, which is why the average and median in this case are solid and give out indicators of 2 rooms. Let's calculate which data is within the 95% quantile."
   ]
  },
  {
   "cell_type": "code",
   "execution_count": 749,
   "metadata": {},
   "outputs": [
    {
     "data": {
      "text/plain": [
       "count    23565.000000\n",
       "mean         2.732308\n",
       "std          1.004402\n",
       "min          1.000000\n",
       "25%          2.550000\n",
       "50%          2.700000\n",
       "75%          2.700000\n",
       "max        100.000000\n",
       "Name: ceiling_height, dtype: float64"
      ]
     },
     "execution_count": 749,
     "metadata": {},
     "output_type": "execute_result"
    },
    {
     "data": {
      "image/png": "[encoded data removed]",
      "text/plain": [
       "<Figure size 500x500 with 1 Axes>"
      ]
     },
     "metadata": {},
     "output_type": "display_data"
    }
   ],
   "source": [
    "data['ceiling_height'].plot(kind='hist', bins=50, range = (2, 6), figsize = (5, 5), grid=True, title='Ceiling height')\n",
    "plt.xlabel('Height (m)')\n",
    "plt.ylabel('Number of ads')\n",
    "data['ceiling_height'].describe()"
   ]
  },
  {
   "cell_type": "code",
   "execution_count": 750,
   "metadata": {},
   "outputs": [
    {
     "data": {
      "text/plain": [
       "3.15"
      ]
     },
     "execution_count": 750,
     "metadata": {},
     "output_type": "execute_result"
    }
   ],
   "source": [
    "data['ceiling_height'].quantile(0.95)"
   ]
  },
  {
   "cell_type": "markdown",
   "metadata": {},
   "source": [
    "#### Comment\n",
    "The average and median ceiling height is 2.7 meters, almost all ceiling height data is enclosed in frames from 2.5 to 3 meters. Only 5% of all data (which even has a 100-meter ceiling height) have values above 3.15 meters."
   ]
  },
  {
   "cell_type": "code",
   "execution_count": 751,
   "metadata": {},
   "outputs": [
    {
     "data": {
      "text/html": [
       "<style type=\"text/css\">\n",
       "</style>\n",
       "<table id=\"T_ceb07\">\n",
       "  <thead>\n",
       "    <tr>\n",
       "      <th class=\"blank level0\" >&nbsp;</th>\n",
       "      <th id=\"T_ceb07_level0_col0\" class=\"col_heading level0 col0\" >days_exposition</th>\n",
       "    </tr>\n",
       "  </thead>\n",
       "  <tbody>\n",
       "    <tr>\n",
       "      <th id=\"T_ceb07_level0_row0\" class=\"row_heading level0 row0\" >count</th>\n",
       "      <td id=\"T_ceb07_row0_col0\" class=\"data row0 col0\" >20394</td>\n",
       "    </tr>\n",
       "    <tr>\n",
       "      <th id=\"T_ceb07_level0_row1\" class=\"row_heading level0 row1\" >mean</th>\n",
       "      <td id=\"T_ceb07_row1_col0\" class=\"data row1 col0\" >181</td>\n",
       "    </tr>\n",
       "    <tr>\n",
       "      <th id=\"T_ceb07_level0_row2\" class=\"row_heading level0 row2\" >std</th>\n",
       "      <td id=\"T_ceb07_row2_col0\" class=\"data row2 col0\" >220</td>\n",
       "    </tr>\n",
       "    <tr>\n",
       "      <th id=\"T_ceb07_level0_row3\" class=\"row_heading level0 row3\" >min</th>\n",
       "      <td id=\"T_ceb07_row3_col0\" class=\"data row3 col0\" >1</td>\n",
       "    </tr>\n",
       "    <tr>\n",
       "      <th id=\"T_ceb07_level0_row4\" class=\"row_heading level0 row4\" >25%</th>\n",
       "      <td id=\"T_ceb07_row4_col0\" class=\"data row4 col0\" >45</td>\n",
       "    </tr>\n",
       "    <tr>\n",
       "      <th id=\"T_ceb07_level0_row5\" class=\"row_heading level0 row5\" >50%</th>\n",
       "      <td id=\"T_ceb07_row5_col0\" class=\"data row5 col0\" >95</td>\n",
       "    </tr>\n",
       "    <tr>\n",
       "      <th id=\"T_ceb07_level0_row6\" class=\"row_heading level0 row6\" >75%</th>\n",
       "      <td id=\"T_ceb07_row6_col0\" class=\"data row6 col0\" >231</td>\n",
       "    </tr>\n",
       "    <tr>\n",
       "      <th id=\"T_ceb07_level0_row7\" class=\"row_heading level0 row7\" >max</th>\n",
       "      <td id=\"T_ceb07_row7_col0\" class=\"data row7 col0\" >1580</td>\n",
       "    </tr>\n",
       "  </tbody>\n",
       "</table>\n"
      ],
      "text/plain": [
       "<pandas.io.formats.style.Styler at 0x16800d350>"
      ]
     },
     "execution_count": 751,
     "metadata": {},
     "output_type": "execute_result"
    },
    {
     "data": {
      "image/png": "[encoded data removed]",
      "text/plain": [
       "<Figure size 500x500 with 1 Axes>"
      ]
     },
     "metadata": {},
     "output_type": "display_data"
    }
   ],
   "source": [
    "data['days_exposition'].plot(kind='hist', bins=100, range = (0, 1500), figsize = (5, 5), grid=True, title='Timeframes of sale')\n",
    "plt.xlabel('Number of days')\n",
    "plt.ylabel('Number of ads')\n",
    "data[['days_exposition']].describe().style.format({'days_exposition': '{:.0f}'})"
   ]
  },
  {
   "cell_type": "code",
   "execution_count": 752,
   "metadata": {},
   "outputs": [
    {
     "data": {
      "text/plain": [
       "647.3499999999985"
      ]
     },
     "execution_count": 752,
     "metadata": {},
     "output_type": "execute_result"
    }
   ],
   "source": [
    "data['days_exposition'].quantile(0.95)"
   ]
  },
  {
   "cell_type": "markdown",
   "metadata": {},
   "source": [
    "#### Comment\n",
    "The average number of days for which an apartment is sold is 181, the median is 95 days. 95% of sales were made in less than 647 days."
   ]
  },
  {
   "cell_type": "code",
   "execution_count": 753,
   "metadata": {},
   "outputs": [],
   "source": [
    "# Create a new dataframe that excludes 5% of the high values in the studied columns.\n",
    "data_1 = data.query('total_area <= 116 \\\n",
    "                    and price_per_m2 <= 161000 \\\n",
    "                    and last_price <= 15300000 \\\n",
    "                    and rooms <= 4 \\\n",
    "                    and ceiling_height <= 3.15 \\\n",
    "                    and days_exposition <= 647')"
   ]
  },
  {
   "cell_type": "markdown",
   "metadata": {},
   "source": [
    "### Factors affecting the cost of an apartment"
   ]
  },
  {
   "cell_type": "code",
   "execution_count": 754,
   "metadata": {},
   "outputs": [
    {
     "data": {
      "text/plain": [
       "0.7489337143556064"
      ]
     },
     "execution_count": 754,
     "metadata": {},
     "output_type": "execute_result"
    },
    {
     "data": {
      "image/png": "[encoded data removed]",
      "text/plain": [
       "<Figure size 1000x500 with 1 Axes>"
      ]
     },
     "metadata": {},
     "output_type": "display_data"
    }
   ],
   "source": [
    "data_1.plot(x='total_area', y='last_price', kind='scatter', grid=True, figsize=(10, 5), title='The ratio of area and cost of premises')\n",
    "plt.xlabel('Square')\n",
    "plt.ylabel('Cost (x 10 million)')\n",
    "data_1['total_area'].corr(data_1['last_price'])"
   ]
  },
  {
   "cell_type": "markdown",
   "metadata": {},
   "source": [
    "#### Comment\n",
    "This graph clearly shows the dependence of the cost of an apartment on its area, despite the fact that there are a small number of deviating values. A correlation of 0.75 confirms the relationship seen on the graph between the selected parameters."
   ]
  },
  {
   "cell_type": "code",
   "execution_count": 755,
   "metadata": {},
   "outputs": [
    {
     "data": {
      "text/plain": [
       "0.4702101042722245"
      ]
     },
     "execution_count": 755,
     "metadata": {},
     "output_type": "execute_result"
    },
    {
     "data": {
      "image/png": "[encoded data removed]",
      "text/plain": [
       "<Figure size 500x300 with 1 Axes>"
      ]
     },
     "metadata": {},
     "output_type": "display_data"
    }
   ],
   "source": [
    "data_1.pivot_table(index='rooms', values='last_price', aggfunc='median').plot(style='o-', grid=True, figsize=(5,3), title='The ratio of the number of rooms and the cost of premises')\n",
    "plt.xlabel('Number of rooms')\n",
    "plt.ylabel('Cost (x10 million)')\n",
    "data_1['rooms'].corr(data_1['last_price'])"
   ]
  },
  {
   "cell_type": "markdown",
   "metadata": {},
   "source": [
    "#### Comment\n",
    "The relationship between the number of rooms and the cost of the room is obvious. Although the correlation of 0.5 indicates the average degree of connection of these indicators."
   ]
  },
  {
   "cell_type": "code",
   "execution_count": 756,
   "metadata": {},
   "outputs": [
    {
     "data": {
      "text/plain": [
       "-0.3301499858199321"
      ]
     },
     "execution_count": 756,
     "metadata": {},
     "output_type": "execute_result"
    },
    {
     "data": {
      "image/png": "[encoded data removed]",
      "text/plain": [
       "<Figure size 800x500 with 1 Axes>"
      ]
     },
     "metadata": {},
     "output_type": "display_data"
    }
   ],
   "source": [
    "data_1.plot(x='cityCenters_nearest', y='last_price', kind='scatter', grid=True, figsize=(8,5), title='The ratio of remoteness from the center and the cost of premises')\n",
    "plt.xlabel('Distance from the center (m)')\n",
    "plt.ylabel('Cost (x 10 million)')\n",
    "data_1['cityCenters_nearest'].corr(data_1['last_price'])"
   ]
  },
  {
   "cell_type": "markdown",
   "metadata": {},
   "source": [
    "#### Comment\n",
    "In this graph, you can pay attention to the accumulation of indicators in the zone up to 20 km, which is caused by the presence in the data of almost half of the ads for the sale of real estate in St. Petersburg. It is also possible to trace a downward trend in cost depending on the distance from the center. White spots, as well as straight lines of values are caused by the presence of omissions and replacement with median values in this column."
   ]
  },
  {
   "cell_type": "code",
   "execution_count": 757,
   "metadata": {},
   "outputs": [
    {
     "data": {
      "text/plain": [
       "0.1581246400022178"
      ]
     },
     "execution_count": 757,
     "metadata": {},
     "output_type": "execute_result"
    },
    {
     "data": {
      "image/png": "[encoded data removed]",
      "text/plain": [
       "<Figure size 640x480 with 1 Axes>"
      ]
     },
     "metadata": {},
     "output_type": "display_data"
    }
   ],
   "source": [
    "# Floor category\n",
    "data_1.pivot_table(index='floor_cat', values='last_price', aggfunc='median').plot(style='o-', grid=True, title='The dependence of the cost on the floor')\n",
    "plt.xlabel('Floor')\n",
    "plt.ylabel('Cost')\n",
    "data_1['floor'].corr(data_1['last_price'])"
   ]
  },
  {
   "cell_type": "markdown",
   "metadata": {},
   "source": [
    "#### Comment\n",
    "The dependence of the cost of a room on its floor is predictable - the first and last floors are cheaper than the rest by almost 800 and 500 thousand, respectively. The correlation of 0.15 is low due to the presence of a large number of factors affecting the cost of the premises."
   ]
  },
  {
   "cell_type": "code",
   "execution_count": 758,
   "metadata": {},
   "outputs": [
    {
     "data": {
      "text/plain": [
       "-0.014237047539564288"
      ]
     },
     "execution_count": 758,
     "metadata": {},
     "output_type": "execute_result"
    },
    {
     "data": {
      "image/png": "[encoded data removed]",
      "text/plain": [
       "<Figure size 640x480 with 1 Axes>"
      ]
     },
     "metadata": {},
     "output_type": "display_data"
    }
   ],
   "source": [
    "# Year of announcement\n",
    "data_1.pivot_table(index='year', values='last_price', aggfunc='median').plot(style='o-', grid=True, title='The dependence of the cost on the year of placement of the ad')\n",
    "plt.xlabel('Year')\n",
    "plt.ylabel('Cost')\n",
    "data_1['year'].corr(data_1['last_price'])"
   ]
  },
  {
   "cell_type": "markdown",
   "metadata": {},
   "source": [
    "#### Comment\n",
    "The cost of premises decreased significantly in 2015, which was caused by a decrease in demand due to the deterioration of the welfare of citizens. Only by 2018-2019 can you notice a slight increase in prices associated with a reduction in the Central Bank rate, the availability of mortgages and an increase in the pace of housing construction."
   ]
  },
  {
   "cell_type": "code",
   "execution_count": 759,
   "metadata": {},
   "outputs": [
    {
     "data": {
      "text/plain": [
       "0.0069262972860929615"
      ]
     },
     "execution_count": 759,
     "metadata": {},
     "output_type": "execute_result"
    },
    {
     "data": {
      "image/png": "[encoded data removed]",
      "text/plain": [
       "<Figure size 500x300 with 1 Axes>"
      ]
     },
     "metadata": {},
     "output_type": "display_data"
    }
   ],
   "source": [
    "# Month of announcement\n",
    "data_1.pivot_table(index='month', values='last_price', aggfunc='median').plot(style='o-', grid=True, figsize=(5,3), title='The dependence of the cost on the month of placement of the ad')\n",
    "plt.xlabel('Month')\n",
    "plt.ylabel('Cost')\n",
    "data_1['month'].corr(data_1['last_price'])"
   ]
  },
  {
   "cell_type": "markdown",
   "metadata": {},
   "source": [
    "#### Comment\n",
    "As you can see, the cost is not much dependent on the month of putting up for sale. In the most expensive April and November, the cost of premises is higher than the \"vacation\" June by 200 thousand."
   ]
  },
  {
   "cell_type": "code",
   "execution_count": 760,
   "metadata": {},
   "outputs": [
    {
     "data": {
      "text/plain": [
       "-0.007435800002102798"
      ]
     },
     "execution_count": 760,
     "metadata": {},
     "output_type": "execute_result"
    },
    {
     "data": {
      "image/png": "[encoded data removed]",
      "text/plain": [
       "<Figure size 500x300 with 1 Axes>"
      ]
     },
     "metadata": {},
     "output_type": "display_data"
    }
   ],
   "source": [
    "# Day of the week of the announcement\n",
    "data_1.pivot_table(index='weekday', values='last_price', aggfunc='median').plot(style='o-', grid=True, figsize=(5,3), title='The dependence of the cost on the day of the week of the ad placement')\n",
    "plt.xlabel('Week day')\n",
    "plt.ylabel('Cost')\n",
    "data_1['weekday'].corr(data_1['last_price'])"
   ]
  },
  {
   "cell_type": "markdown",
   "metadata": {},
   "source": [
    "#### Comment\n",
    "In the studied parameters, the dependence is almost not traced, but based on the graph, it can be assumed that viewing ads posted on Friday and Sunday will allow you to save up to 100 thousand."
   ]
  },
  {
   "cell_type": "markdown",
   "metadata": {},
   "source": [
    "### Investigation of the cost of premises in localities with the largest number of ads."
   ]
  },
  {
   "cell_type": "code",
   "execution_count": 761,
   "metadata": {
    "scrolled": false
   },
   "outputs": [
    {
     "data": {
      "text/html": [
       "<div>\n",
       "<style scoped>\n",
       "    .dataframe tbody tr th:only-of-type {\n",
       "        vertical-align: middle;\n",
       "    }\n",
       "\n",
       "    .dataframe tbody tr th {\n",
       "        vertical-align: top;\n",
       "    }\n",
       "\n",
       "    .dataframe thead th {\n",
       "        text-align: right;\n",
       "    }\n",
       "</style>\n",
       "<table border=\"1\" class=\"dataframe\">\n",
       "  <thead>\n",
       "    <tr style=\"text-align: right;\">\n",
       "      <th></th>\n",
       "      <th>Кол-во объявлений</th>\n",
       "      <th>Стоимость за кв.м</th>\n",
       "    </tr>\n",
       "    <tr>\n",
       "      <th>locality_name</th>\n",
       "      <th></th>\n",
       "      <th></th>\n",
       "    </tr>\n",
       "  </thead>\n",
       "  <tbody>\n",
       "    <tr>\n",
       "      <th>Санкт-Петербург</th>\n",
       "      <td>11114</td>\n",
       "      <td>103545.340593</td>\n",
       "    </tr>\n",
       "    <tr>\n",
       "      <th>Пушкин</th>\n",
       "      <td>266</td>\n",
       "      <td>99601.524868</td>\n",
       "    </tr>\n",
       "    <tr>\n",
       "      <th>деревня Кудрово</th>\n",
       "      <td>277</td>\n",
       "      <td>92602.719834</td>\n",
       "    </tr>\n",
       "    <tr>\n",
       "      <th>поселок Парголово</th>\n",
       "      <td>292</td>\n",
       "      <td>89472.350768</td>\n",
       "    </tr>\n",
       "    <tr>\n",
       "      <th>поселок Мурино</th>\n",
       "      <td>524</td>\n",
       "      <td>85872.485816</td>\n",
       "    </tr>\n",
       "    <tr>\n",
       "      <th>поселок Шушары</th>\n",
       "      <td>387</td>\n",
       "      <td>77857.354572</td>\n",
       "    </tr>\n",
       "    <tr>\n",
       "      <th>Колпино</th>\n",
       "      <td>291</td>\n",
       "      <td>74716.826825</td>\n",
       "    </tr>\n",
       "    <tr>\n",
       "      <th>Гатчина</th>\n",
       "      <td>247</td>\n",
       "      <td>68268.838186</td>\n",
       "    </tr>\n",
       "    <tr>\n",
       "      <th>Всеволожск</th>\n",
       "      <td>318</td>\n",
       "      <td>66826.503478</td>\n",
       "    </tr>\n",
       "    <tr>\n",
       "      <th>Выборг</th>\n",
       "      <td>187</td>\n",
       "      <td>57189.324066</td>\n",
       "    </tr>\n",
       "  </tbody>\n",
       "</table>\n",
       "</div>"
      ],
      "text/plain": [
       "                   Кол-во объявлений  Стоимость за кв.м\n",
       "locality_name                                          \n",
       "Санкт-Петербург                11114      103545.340593\n",
       "Пушкин                           266       99601.524868\n",
       "деревня Кудрово                  277       92602.719834\n",
       "поселок Парголово                292       89472.350768\n",
       "поселок Мурино                   524       85872.485816\n",
       "поселок Шушары                   387       77857.354572\n",
       "Колпино                          291       74716.826825\n",
       "Гатчина                          247       68268.838186\n",
       "Всеволожск                       318       66826.503478\n",
       "Выборг                           187       57189.324066"
      ]
     },
     "execution_count": 761,
     "metadata": {},
     "output_type": "execute_result"
    }
   ],
   "source": [
    "data_1_pivot = data_1.pivot_table(index= 'locality_name', values= 'price_per_m2', aggfunc=['count', 'mean'])\n",
    "data_1_pivot.columns = ['Кол-во объявлений', 'Стоимость за кв.м']\n",
    "data_1_pivot = data_1_pivot.sort_values(by='Кол-во объявлений', ascending=False).head(10)\n",
    "data_1_pivot = data_1_pivot.sort_values(by='Стоимость за кв.м', ascending=False)\n",
    "data_1_pivot"
   ]
  },
  {
   "cell_type": "markdown",
   "metadata": {},
   "source": [
    "#### Comment\n",
    "From the summary table obtained and sorted, in accordance with the task, it can be concluded that almost half of the ads for the sale of premises in St. Petersburg, where the average cost per sq.m. is 104 thousand. Vyborg completes the top ten with 187 ads and 57 thousand per sq.m."
   ]
  },
  {
   "cell_type": "markdown",
   "metadata": {},
   "source": [
    "### Investigation of the parameters of apartments located in St. Petersburg and its center"
   ]
  },
  {
   "cell_type": "code",
   "execution_count": 762,
   "metadata": {},
   "outputs": [],
   "source": [
    "# Add a column containing rounded data on the distance to the city center in kilometers.\n",
    "data_1['km_to_center'] = data_1['cityCenters_nearest'] / 1000\n",
    "data_1['km_to_center'] = data_1['km_to_center'].apply(np.around)"
   ]
  },
  {
   "cell_type": "code",
   "execution_count": 763,
   "metadata": {},
   "outputs": [
    {
     "data": {
      "text/plain": [
       "Text(0, 0.5, 'Cost')"
      ]
     },
     "execution_count": 763,
     "metadata": {},
     "output_type": "execute_result"
    },
    {
     "data": {
      "image/png": "[encoded data removed]",
      "text/plain": [
       "<Figure size 500x300 with 1 Axes>"
      ]
     },
     "metadata": {},
     "output_type": "display_data"
    }
   ],
   "source": [
    "spb_km_to_center = data_1.query('locality_name == \"Санкт-Петербург\"').pivot_table(index='km_to_center', values='price_per_m2', aggfunc='median')\n",
    "spb_km_to_center.plot(style='o-', grid=True, figsize=(5,3), title='The cost per square meter in St. Petersburg, depending on the distance from the center')\n",
    "plt.xlabel('Distance from the center (km)')\n",
    "plt.ylabel('Cost')"
   ]
  },
  {
   "cell_type": "markdown",
   "metadata": {},
   "source": [
    "#### Comment\n",
    "The created graph shows the dependence of distance from the city center and the cost per square meter in St. Petersburg. Despite the fact that 3 km from the center there are premises below the average cost, as well as 20 km from the center there are premises above the average cost, we can pay attention to the steady decline in prices after the 8th kilometer, which gives us reason to believe that the end of the central zone of the city on this border."
   ]
  },
  {
   "cell_type": "code",
   "execution_count": 764,
   "metadata": {},
   "outputs": [
    {
     "data": {
      "text/plain": [
       "price_per_m2    1557.765152\n",
       "dtype: float64"
      ]
     },
     "execution_count": 764,
     "metadata": {},
     "output_type": "execute_result"
    }
   ],
   "source": [
    "km_mean_price = (spb_km_to_center.max() - spb_km_to_center.min()) / len(spb_km_to_center)\n",
    "km_mean_price"
   ]
  },
  {
   "cell_type": "markdown",
   "metadata": {},
   "source": [
    "#### Comment\n",
    "The cost of the price per square meter is reduced on average by 1,558 rubles for each kilometer of distance from the city center."
   ]
  },
  {
   "cell_type": "code",
   "execution_count": 765,
   "metadata": {},
   "outputs": [
    {
     "data": {
      "text/html": [
       "<style type=\"text/css\">\n",
       "</style>\n",
       "<table id=\"T_6b9bd\">\n",
       "  <thead>\n",
       "    <tr>\n",
       "      <th class=\"blank level0\" >&nbsp;</th>\n",
       "      <th id=\"T_6b9bd_level0_col0\" class=\"col_heading level0 col0\" >total_area</th>\n",
       "      <th id=\"T_6b9bd_level0_col1\" class=\"col_heading level0 col1\" >last_price</th>\n",
       "      <th id=\"T_6b9bd_level0_col2\" class=\"col_heading level0 col2\" >rooms</th>\n",
       "      <th id=\"T_6b9bd_level0_col3\" class=\"col_heading level0 col3\" >ceiling_height</th>\n",
       "    </tr>\n",
       "  </thead>\n",
       "  <tbody>\n",
       "    <tr>\n",
       "      <th id=\"T_6b9bd_level0_row0\" class=\"row_heading level0 row0\" >count</th>\n",
       "      <td id=\"T_6b9bd_row0_col0\" class=\"data row0 col0\" >11114.000000</td>\n",
       "      <td id=\"T_6b9bd_row0_col1\" class=\"data row0 col1\" >11114</td>\n",
       "      <td id=\"T_6b9bd_row0_col2\" class=\"data row0 col2\" >11114.000000</td>\n",
       "      <td id=\"T_6b9bd_row0_col3\" class=\"data row0 col3\" >11114.000000</td>\n",
       "    </tr>\n",
       "    <tr>\n",
       "      <th id=\"T_6b9bd_level0_row1\" class=\"row_heading level0 row1\" >mean</th>\n",
       "      <td id=\"T_6b9bd_row1_col0\" class=\"data row1 col0\" >53.890347</td>\n",
       "      <td id=\"T_6b9bd_row1_col1\" class=\"data row1 col1\" >5548506</td>\n",
       "      <td id=\"T_6b9bd_row1_col2\" class=\"data row1 col2\" >1.932608</td>\n",
       "      <td id=\"T_6b9bd_row1_col3\" class=\"data row1 col3\" >2.677904</td>\n",
       "    </tr>\n",
       "    <tr>\n",
       "      <th id=\"T_6b9bd_level0_row2\" class=\"row_heading level0 row2\" >std</th>\n",
       "      <td id=\"T_6b9bd_row2_col0\" class=\"data row2 col0\" >18.905965</td>\n",
       "      <td id=\"T_6b9bd_row2_col1\" class=\"data row2 col1\" >2265751</td>\n",
       "      <td id=\"T_6b9bd_row2_col2\" class=\"data row2 col2\" >0.884519</td>\n",
       "      <td id=\"T_6b9bd_row2_col3\" class=\"data row2 col3\" >0.127719</td>\n",
       "    </tr>\n",
       "    <tr>\n",
       "      <th id=\"T_6b9bd_level0_row3\" class=\"row_heading level0 row3\" >min</th>\n",
       "      <td id=\"T_6b9bd_row3_col0\" class=\"data row3 col0\" >13.000000</td>\n",
       "      <td id=\"T_6b9bd_row3_col1\" class=\"data row3 col1\" >12190</td>\n",
       "      <td id=\"T_6b9bd_row3_col2\" class=\"data row3 col2\" >0.000000</td>\n",
       "      <td id=\"T_6b9bd_row3_col3\" class=\"data row3 col3\" >1.000000</td>\n",
       "    </tr>\n",
       "    <tr>\n",
       "      <th id=\"T_6b9bd_level0_row4\" class=\"row_heading level0 row4\" >25%</th>\n",
       "      <td id=\"T_6b9bd_row4_col0\" class=\"data row4 col0\" >39.700000</td>\n",
       "      <td id=\"T_6b9bd_row4_col1\" class=\"data row4 col1\" >3950000</td>\n",
       "      <td id=\"T_6b9bd_row4_col2\" class=\"data row4 col2\" >1.000000</td>\n",
       "      <td id=\"T_6b9bd_row4_col3\" class=\"data row4 col3\" >2.600000</td>\n",
       "    </tr>\n",
       "    <tr>\n",
       "      <th id=\"T_6b9bd_level0_row5\" class=\"row_heading level0 row5\" >50%</th>\n",
       "      <td id=\"T_6b9bd_row5_col0\" class=\"data row5 col0\" >49.900000</td>\n",
       "      <td id=\"T_6b9bd_row5_col1\" class=\"data row5 col1\" >4900000</td>\n",
       "      <td id=\"T_6b9bd_row5_col2\" class=\"data row5 col2\" >2.000000</td>\n",
       "      <td id=\"T_6b9bd_row5_col3\" class=\"data row5 col3\" >2.700000</td>\n",
       "    </tr>\n",
       "    <tr>\n",
       "      <th id=\"T_6b9bd_level0_row6\" class=\"row_heading level0 row6\" >75%</th>\n",
       "      <td id=\"T_6b9bd_row6_col0\" class=\"data row6 col0\" >64.585000</td>\n",
       "      <td id=\"T_6b9bd_row6_col1\" class=\"data row6 col1\" >6500000</td>\n",
       "      <td id=\"T_6b9bd_row6_col2\" class=\"data row6 col2\" >3.000000</td>\n",
       "      <td id=\"T_6b9bd_row6_col3\" class=\"data row6 col3\" >2.700000</td>\n",
       "    </tr>\n",
       "    <tr>\n",
       "      <th id=\"T_6b9bd_level0_row7\" class=\"row_heading level0 row7\" >max</th>\n",
       "      <td id=\"T_6b9bd_row7_col0\" class=\"data row7 col0\" >116.000000</td>\n",
       "      <td id=\"T_6b9bd_row7_col1\" class=\"data row7 col1\" >15300000</td>\n",
       "      <td id=\"T_6b9bd_row7_col2\" class=\"data row7 col2\" >4.000000</td>\n",
       "      <td id=\"T_6b9bd_row7_col3\" class=\"data row7 col3\" >3.150000</td>\n",
       "    </tr>\n",
       "  </tbody>\n",
       "</table>\n"
      ],
      "text/plain": [
       "<pandas.io.formats.style.Styler at 0x1680be9d0>"
      ]
     },
     "execution_count": 765,
     "metadata": {},
     "output_type": "execute_result"
    }
   ],
   "source": [
    "spb = data_1.query('locality_name == \"Санкт-Петербург\"')\n",
    "spb_center = spb.query('km_to_center <= 8')\n",
    "spb[['total_area', 'last_price', 'rooms', 'ceiling_height']].describe().style.format({'last_price': '{:.0f}'})"
   ]
  },
  {
   "cell_type": "code",
   "execution_count": 766,
   "metadata": {},
   "outputs": [
    {
     "data": {
      "text/html": [
       "<style type=\"text/css\">\n",
       "</style>\n",
       "<table id=\"T_7ae9d\">\n",
       "  <thead>\n",
       "    <tr>\n",
       "      <th class=\"blank level0\" >&nbsp;</th>\n",
       "      <th id=\"T_7ae9d_level0_col0\" class=\"col_heading level0 col0\" >total_area</th>\n",
       "      <th id=\"T_7ae9d_level0_col1\" class=\"col_heading level0 col1\" >last_price</th>\n",
       "      <th id=\"T_7ae9d_level0_col2\" class=\"col_heading level0 col2\" >rooms</th>\n",
       "      <th id=\"T_7ae9d_level0_col3\" class=\"col_heading level0 col3\" >ceiling_height</th>\n",
       "    </tr>\n",
       "  </thead>\n",
       "  <tbody>\n",
       "    <tr>\n",
       "      <th id=\"T_7ae9d_level0_row0\" class=\"row_heading level0 row0\" >count</th>\n",
       "      <td id=\"T_7ae9d_row0_col0\" class=\"data row0 col0\" >1813.000000</td>\n",
       "      <td id=\"T_7ae9d_row0_col1\" class=\"data row0 col1\" >1813</td>\n",
       "      <td id=\"T_7ae9d_row0_col2\" class=\"data row0 col2\" >1813.000000</td>\n",
       "      <td id=\"T_7ae9d_row0_col3\" class=\"data row0 col3\" >1813.000000</td>\n",
       "    </tr>\n",
       "    <tr>\n",
       "      <th id=\"T_7ae9d_level0_row1\" class=\"row_heading level0 row1\" >mean</th>\n",
       "      <td id=\"T_7ae9d_row1_col0\" class=\"data row1 col0\" >64.338748</td>\n",
       "      <td id=\"T_7ae9d_row1_col1\" class=\"data row1 col1\" >7244931</td>\n",
       "      <td id=\"T_7ae9d_row1_col2\" class=\"data row1 col2\" >2.242692</td>\n",
       "      <td id=\"T_7ae9d_row1_col3\" class=\"data row1 col3\" >2.763701</td>\n",
       "    </tr>\n",
       "    <tr>\n",
       "      <th id=\"T_7ae9d_level0_row2\" class=\"row_heading level0 row2\" >std</th>\n",
       "      <td id=\"T_7ae9d_row2_col0\" class=\"data row2 col0\" >21.660096</td>\n",
       "      <td id=\"T_7ae9d_row2_col1\" class=\"data row2 col1\" >2659638</td>\n",
       "      <td id=\"T_7ae9d_row2_col2\" class=\"data row2 col2\" >0.900458</td>\n",
       "      <td id=\"T_7ae9d_row2_col3\" class=\"data row2 col3\" >0.157828</td>\n",
       "    </tr>\n",
       "    <tr>\n",
       "      <th id=\"T_7ae9d_level0_row3\" class=\"row_heading level0 row3\" >min</th>\n",
       "      <td id=\"T_7ae9d_row3_col0\" class=\"data row3 col0\" >13.200000</td>\n",
       "      <td id=\"T_7ae9d_row3_col1\" class=\"data row3 col1\" >1600000</td>\n",
       "      <td id=\"T_7ae9d_row3_col2\" class=\"data row3 col2\" >0.000000</td>\n",
       "      <td id=\"T_7ae9d_row3_col3\" class=\"data row3 col3\" >2.400000</td>\n",
       "    </tr>\n",
       "    <tr>\n",
       "      <th id=\"T_7ae9d_level0_row4\" class=\"row_heading level0 row4\" >25%</th>\n",
       "      <td id=\"T_7ae9d_row4_col0\" class=\"data row4 col0\" >46.400000</td>\n",
       "      <td id=\"T_7ae9d_row4_col1\" class=\"data row4 col1\" >5250000</td>\n",
       "      <td id=\"T_7ae9d_row4_col2\" class=\"data row4 col2\" >2.000000</td>\n",
       "      <td id=\"T_7ae9d_row4_col3\" class=\"data row4 col3\" >2.700000</td>\n",
       "    </tr>\n",
       "    <tr>\n",
       "      <th id=\"T_7ae9d_level0_row5\" class=\"row_heading level0 row5\" >50%</th>\n",
       "      <td id=\"T_7ae9d_row5_col0\" class=\"data row5 col0\" >62.000000</td>\n",
       "      <td id=\"T_7ae9d_row5_col1\" class=\"data row5 col1\" >6800000</td>\n",
       "      <td id=\"T_7ae9d_row5_col2\" class=\"data row5 col2\" >2.000000</td>\n",
       "      <td id=\"T_7ae9d_row5_col3\" class=\"data row5 col3\" >2.700000</td>\n",
       "    </tr>\n",
       "    <tr>\n",
       "      <th id=\"T_7ae9d_level0_row6\" class=\"row_heading level0 row6\" >75%</th>\n",
       "      <td id=\"T_7ae9d_row6_col0\" class=\"data row6 col0\" >80.000000</td>\n",
       "      <td id=\"T_7ae9d_row6_col1\" class=\"data row6 col1\" >8900000</td>\n",
       "      <td id=\"T_7ae9d_row6_col2\" class=\"data row6 col2\" >3.000000</td>\n",
       "      <td id=\"T_7ae9d_row6_col3\" class=\"data row6 col3\" >2.820000</td>\n",
       "    </tr>\n",
       "    <tr>\n",
       "      <th id=\"T_7ae9d_level0_row7\" class=\"row_heading level0 row7\" >max</th>\n",
       "      <td id=\"T_7ae9d_row7_col0\" class=\"data row7 col0\" >116.000000</td>\n",
       "      <td id=\"T_7ae9d_row7_col1\" class=\"data row7 col1\" >15300000</td>\n",
       "      <td id=\"T_7ae9d_row7_col2\" class=\"data row7 col2\" >4.000000</td>\n",
       "      <td id=\"T_7ae9d_row7_col3\" class=\"data row7 col3\" >3.150000</td>\n",
       "    </tr>\n",
       "  </tbody>\n",
       "</table>\n"
      ],
      "text/plain": [
       "<pandas.io.formats.style.Styler at 0x15591aa10>"
      ]
     },
     "execution_count": 766,
     "metadata": {},
     "output_type": "execute_result"
    }
   ],
   "source": [
    "# We extract basic data on the area, cost, number of rooms and ceiling height in St. Petersburg and its central part.\n",
    "spb_center[['total_area', 'last_price', 'rooms', 'ceiling_height']].describe().style.format({'last_price': '{:.0f}'})"
   ]
  },
  {
   "cell_type": "code",
   "execution_count": 767,
   "metadata": {},
   "outputs": [
    {
     "data": {
      "text/plain": [
       "Text(0, 0.5, 'Number of ads')"
      ]
     },
     "execution_count": 767,
     "metadata": {},
     "output_type": "execute_result"
    },
    {
     "data": {
      "image/png": "[encoded data removed]",
      "text/plain": [
       "<Figure size 500x300 with 1 Axes>"
      ]
     },
     "metadata": {},
     "output_type": "display_data"
    }
   ],
   "source": [
    "ax = spb.plot(kind='hist', y='rooms', histtype='step', range=(0, 5), bins=5,\n",
    "    linewidth=3, alpha=0.7, label='SPb', figsize = (5,3), title='The ratio of the number of rooms')\n",
    "spb_center.plot(kind='hist', y='rooms', histtype='step',range=(0, 5), bins=5,\n",
    "    linewidth=3, alpha=0.7, label='SPb center', ax=ax, grid=True, legend=True)\n",
    "plt.xlabel('Number of rooms')\n",
    "plt.ylabel('Number of ads')"
   ]
  },
  {
   "cell_type": "markdown",
   "metadata": {},
   "source": [
    "#### Comment\n",
    "From this graph, it can be concluded that premises with a large number of rooms are more often sold in the city center, and 4-room premises in the center make up slightly less than half of such ads throughout the city."
   ]
  },
  {
   "cell_type": "code",
   "execution_count": 768,
   "metadata": {},
   "outputs": [
    {
     "data": {
      "text/plain": [
       "Text(0, 0.5, 'Number of ads')"
      ]
     },
     "execution_count": 768,
     "metadata": {},
     "output_type": "execute_result"
    },
    {
     "data": {
      "image/png": "[encoded data removed]",
      "text/plain": [
       "<Figure size 500x300 with 1 Axes>"
      ]
     },
     "metadata": {},
     "output_type": "display_data"
    }
   ],
   "source": [
    "ax = spb.plot(kind='hist', y='floor', histtype='step', range=(0, 33), bins=33,\n",
    "    linewidth=5, alpha=0.7, label='SPb', figsize = (5,3), title='The ratio of floors')\n",
    "spb_center.plot(kind='hist', y='floor', histtype='step',range=(0, 33), bins=33,\n",
    "    linewidth=5, alpha=0.7, label='SPb center', ax=ax, grid=True, legend=True)\n",
    "plt.xlabel('Floor')\n",
    "plt.ylabel('Number of ads')"
   ]
  },
  {
   "cell_type": "markdown",
   "metadata": {},
   "source": [
    "#### Comment\n",
    "Since mostly low-rise buildings are concentrated in the central part of the city, most of the ads for the sale of premises in this part of the city are limited to the 5th floor. Throughout the city, most of the ads are also rooms up to the fifth floor, however, there is a significant part of the ads up to the 25th floor."
   ]
  },
  {
   "cell_type": "code",
   "execution_count": 769,
   "metadata": {},
   "outputs": [
    {
     "data": {
      "text/plain": [
       "Text(0, 0.5, 'Number of ads')"
      ]
     },
     "execution_count": 769,
     "metadata": {},
     "output_type": "execute_result"
    },
    {
     "data": {
      "image/png": "[encoded data removed]",
      "text/plain": [
       "<Figure size 500x300 with 1 Axes>"
      ]
     },
     "metadata": {},
     "output_type": "display_data"
    }
   ],
   "source": [
    "ax = spb.plot(kind='hist', y='km_to_center', histtype='step', range=(0, 30), bins=30,\n",
    "    linewidth=5, alpha=0.7, label='SPb', figsize = (5,3),  title='Distance from the center')\n",
    "spb_center.plot(kind='hist', y='km_to_center', histtype='step',range=(0, 30), bins=30,\n",
    "    linewidth=5, alpha=0.7, label='SPb center', ax=ax, grid=True, legend=True)\n",
    "plt.xlabel('Distance (km)')\n",
    "plt.ylabel('Number of ads')"
   ]
  },
  {
   "cell_type": "markdown",
   "metadata": {},
   "source": [
    "#### Comment\n",
    "As we already know from the study of the main displays, the premises for sale in the center make up a sixth of all the ads for sale in the city, which is perfectly visible on the graph. Most of the premises in the center are located 5-8 km away. In the city, the remoteness of the main part of the premises for sale is 10-17 km."
   ]
  },
  {
   "cell_type": "code",
   "execution_count": 770,
   "metadata": {},
   "outputs": [
    {
     "data": {
      "text/plain": [
       "Text(0, 0.5, 'Number of ads')"
      ]
     },
     "execution_count": 770,
     "metadata": {},
     "output_type": "execute_result"
    },
    {
     "data": {
      "image/png": "[encoded data removed]",
      "text/plain": [
       "<Figure size 500x300 with 1 Axes>"
      ]
     },
     "metadata": {},
     "output_type": "display_data"
    }
   ],
   "source": [
    "ax = spb.plot(kind='hist', y='year', histtype='step', range=(2014, 2019), bins=6,\n",
    "    linewidth=5, alpha=0.7, label='SPb', figsize = (5,3),  title='Number of ads by year')\n",
    "spb_center.plot(kind='hist', y='year', histtype='step',range=(2014, 2019), bins=6,\n",
    "    linewidth=5, alpha=0.7, label='SPb center', ax=ax, grid=True, legend=True)\n",
    "plt.xlabel('Year')\n",
    "plt.ylabel('Number of ads')"
   ]
  },
  {
   "cell_type": "markdown",
   "metadata": {},
   "source": [
    "#### Comment\n",
    "The data on the graph is evenly distributed relative to each other. Most of the ads for sale were in 2017 and 2018, which is correlated with the previously obtained data on the low price of apartments in these years."
   ]
  },
  {
   "cell_type": "markdown",
   "metadata": {},
   "source": [
    "### Summary\n",
    "\n",
    "In this section, we have established the characteristics of the premises, the ads for the sale of which are most common. Most often, premises with an area of 30-60 sq.m. are sold, with a cost of 50-150 thousand per square meter, up to 10 million per room, having 2-4 rooms, with a ceiling height of 2.5 to 2.7 meters. The sale of premises always takes place in very different terms, as the median value shows, this happens in three months. It was also found that the fundamental factor in the formation of the cost of a room is its area with a correlation of 0.75, and the date of placement of the ad plays a small role in this matter. In addition, the central zone of the city was established and the indicators of the premises sold in it were compared with the ads for sale throughout the city. Based on the data obtained, it is possible to confirm the theory that housing in the center is more expensive, larger, located on low floors and sold less often."
   ]
  },
  {
   "cell_type": "markdown",
   "metadata": {},
   "source": [
    "## General Conclusions and Recommendations\n",
    "\n",
    "The results obtained in the course of the study have a small share of subjectivity, since there is no connection with those involved in the formation of data. In this matter, it is very difficult to separate abnormal indicators from real ones, since the real estate market is extremely diverse and a huge number of factors that are not reflected in the data provided can affect the final cost of the premises. In turn, in order to obtain results as close to reality as possible, the gaps were filled in only in cases where they could be grouped with other room parameters. In other situations, the omissions were left because their incorrect filling could have an extremely negative impact on the results of the study. Despite this, the results of the study turned out to be extremely informative, visual and do not go beyond the objective reality."
   ]
  }
 ],
 "metadata": {
  "ExecuteTimeLog": [
   {
    "duration": 968,
    "start_time": "2021-06-11T10:39:44.541Z"
   },
   {
    "duration": 110,
    "start_time": "2021-06-11T10:42:52.102Z"
   },
   {
    "duration": 77,
    "start_time": "2021-06-11T10:43:16.740Z"
   },
   {
    "duration": 78,
    "start_time": "2021-06-11T10:43:29.642Z"
   },
   {
    "duration": 82,
    "start_time": "2021-06-11T10:43:39.875Z"
   },
   {
    "duration": 107,
    "start_time": "2021-06-11T10:43:59.036Z"
   },
   {
    "duration": 78,
    "start_time": "2021-06-11T10:44:06.432Z"
   },
   {
    "duration": 78,
    "start_time": "2021-06-11T10:48:05.278Z"
   },
   {
    "duration": 78,
    "start_time": "2021-06-11T10:48:45.950Z"
   },
   {
    "duration": 139,
    "start_time": "2021-06-11T10:50:05.487Z"
   },
   {
    "duration": 93,
    "start_time": "2021-06-11T10:50:55.106Z"
   },
   {
    "duration": 104,
    "start_time": "2021-06-11T10:51:12.047Z"
   },
   {
    "duration": 15,
    "start_time": "2021-06-11T10:52:52.065Z"
   },
   {
    "duration": 137,
    "start_time": "2021-06-11T10:52:56.892Z"
   },
   {
    "duration": 209,
    "start_time": "2021-06-14T08:48:49.160Z"
   },
   {
    "duration": 608,
    "start_time": "2021-06-14T08:48:56.749Z"
   },
   {
    "duration": 7,
    "start_time": "2021-06-14T08:49:03.811Z"
   },
   {
    "duration": 6,
    "start_time": "2021-06-14T08:49:31.432Z"
   },
   {
    "duration": 209,
    "start_time": "2021-06-14T08:50:15.441Z"
   },
   {
    "duration": 199,
    "start_time": "2021-06-14T08:50:30.002Z"
   },
   {
    "duration": 32,
    "start_time": "2021-06-14T08:50:39.538Z"
   },
   {
    "duration": 9,
    "start_time": "2021-06-14T08:51:42.731Z"
   },
   {
    "duration": 9,
    "start_time": "2021-06-14T08:51:50.257Z"
   },
   {
    "duration": 8,
    "start_time": "2021-06-14T08:51:56.868Z"
   },
   {
    "duration": 7,
    "start_time": "2021-06-14T08:53:08.962Z"
   },
   {
    "duration": 8,
    "start_time": "2021-06-14T08:53:21.772Z"
   },
   {
    "duration": 6,
    "start_time": "2021-06-14T08:54:22.403Z"
   },
   {
    "duration": 5,
    "start_time": "2021-06-14T08:55:02.348Z"
   },
   {
    "duration": 7,
    "start_time": "2021-06-14T08:55:10.572Z"
   },
   {
    "duration": 7,
    "start_time": "2021-06-14T09:01:04.169Z"
   },
   {
    "duration": 4,
    "start_time": "2021-06-14T09:01:16.173Z"
   },
   {
    "duration": 6,
    "start_time": "2021-06-14T09:01:24.639Z"
   },
   {
    "duration": 7,
    "start_time": "2021-06-14T09:02:14.528Z"
   },
   {
    "duration": 7,
    "start_time": "2021-06-14T09:02:21.456Z"
   },
   {
    "duration": 247,
    "start_time": "2021-06-14T09:05:16.010Z"
   },
   {
    "duration": 327,
    "start_time": "2021-06-14T09:05:31.035Z"
   },
   {
    "duration": 306,
    "start_time": "2021-06-14T09:05:50.266Z"
   },
   {
    "duration": 196,
    "start_time": "2021-06-14T09:06:02.034Z"
   },
   {
    "duration": 259,
    "start_time": "2021-06-14T09:06:27.331Z"
   },
   {
    "duration": 174,
    "start_time": "2021-06-14T09:09:18.565Z"
   },
   {
    "duration": 214,
    "start_time": "2021-06-14T09:09:26.909Z"
   },
   {
    "duration": 342,
    "start_time": "2021-06-14T09:09:37.172Z"
   },
   {
    "duration": 335,
    "start_time": "2021-06-14T09:09:45.759Z"
   },
   {
    "duration": 363,
    "start_time": "2021-06-14T09:10:12.165Z"
   },
   {
    "duration": 422,
    "start_time": "2021-06-14T09:10:16.288Z"
   },
   {
    "duration": 348,
    "start_time": "2021-06-14T09:10:33.877Z"
   },
   {
    "duration": 284,
    "start_time": "2021-06-14T09:10:43.853Z"
   },
   {
    "duration": 266,
    "start_time": "2021-06-14T09:11:48.054Z"
   },
   {
    "duration": 11,
    "start_time": "2021-06-14T09:26:11.471Z"
   },
   {
    "duration": 10,
    "start_time": "2021-06-14T09:26:20.223Z"
   },
   {
    "duration": 190,
    "start_time": "2021-06-14T09:39:14.961Z"
   },
   {
    "duration": 8,
    "start_time": "2021-06-14T09:39:21.064Z"
   },
   {
    "duration": 6,
    "start_time": "2021-06-14T09:39:36.532Z"
   },
   {
    "duration": 178,
    "start_time": "2021-06-14T09:50:59.566Z"
   },
   {
    "duration": 57,
    "start_time": "2021-06-14T09:51:18.639Z"
   },
   {
    "duration": 60,
    "start_time": "2021-06-14T09:51:26.374Z"
   },
   {
    "duration": 15,
    "start_time": "2021-06-14T09:51:54.150Z"
   },
   {
    "duration": 17,
    "start_time": "2021-06-14T09:52:07.945Z"
   },
   {
    "duration": 85,
    "start_time": "2021-06-14T11:59:58.670Z"
   },
   {
    "duration": 5,
    "start_time": "2021-06-14T12:01:23.150Z"
   },
   {
    "duration": 6,
    "start_time": "2021-06-14T13:36:49.119Z"
   },
   {
    "duration": 8,
    "start_time": "2021-06-14T13:37:53.648Z"
   },
   {
    "duration": 7,
    "start_time": "2021-06-14T13:38:25.856Z"
   },
   {
    "duration": 363,
    "start_time": "2021-06-14T13:47:06.128Z"
   },
   {
    "duration": 354,
    "start_time": "2021-06-14T13:47:56.831Z"
   },
   {
    "duration": 458,
    "start_time": "2021-06-14T13:48:12.335Z"
   },
   {
    "duration": 373,
    "start_time": "2021-06-14T13:48:23.648Z"
   },
   {
    "duration": 237,
    "start_time": "2021-06-14T13:48:44.774Z"
   },
   {
    "duration": 181,
    "start_time": "2021-06-14T13:50:14.021Z"
   },
   {
    "duration": 733,
    "start_time": "2021-06-14T13:57:27.871Z"
   },
   {
    "duration": 13,
    "start_time": "2021-06-14T13:57:28.607Z"
   },
   {
    "duration": 667,
    "start_time": "2021-06-14T13:57:28.622Z"
   },
   {
    "duration": 82,
    "start_time": "2021-06-14T13:57:29.292Z"
   },
   {
    "duration": 603,
    "start_time": "2021-06-14T13:58:29.376Z"
   },
   {
    "duration": 576,
    "start_time": "2021-06-14T14:04:46.367Z"
   },
   {
    "duration": 418,
    "start_time": "2021-06-14T14:05:43.317Z"
   },
   {
    "duration": 308,
    "start_time": "2021-06-14T14:08:52.873Z"
   },
   {
    "duration": 48,
    "start_time": "2021-06-14T14:09:41.584Z"
   },
   {
    "duration": 329,
    "start_time": "2021-06-15T05:00:57.410Z"
   },
   {
    "duration": 855,
    "start_time": "2021-06-15T05:01:08.758Z"
   },
   {
    "duration": 19,
    "start_time": "2021-06-15T05:01:09.616Z"
   },
   {
    "duration": 353,
    "start_time": "2021-06-15T05:01:09.638Z"
   },
   {
    "duration": 1067,
    "start_time": "2021-06-15T05:01:08.926Z"
   },
   {
    "duration": 269,
    "start_time": "2021-06-15T05:02:17.268Z"
   },
   {
    "duration": 290,
    "start_time": "2021-06-15T05:02:36.314Z"
   },
   {
    "duration": 8,
    "start_time": "2021-06-15T05:02:56.676Z"
   },
   {
    "duration": 909,
    "start_time": "2021-06-15T05:03:25.899Z"
   },
   {
    "duration": 27,
    "start_time": "2021-06-15T05:03:26.810Z"
   },
   {
    "duration": 13,
    "start_time": "2021-06-15T05:03:26.843Z"
   },
   {
    "duration": 349,
    "start_time": "2021-06-15T05:03:26.859Z"
   },
   {
    "duration": 1093,
    "start_time": "2021-06-15T05:03:26.119Z"
   },
   {
    "duration": 9,
    "start_time": "2021-06-15T05:05:44.804Z"
   },
   {
    "duration": 283,
    "start_time": "2021-06-15T05:08:11.023Z"
   },
   {
    "duration": 14,
    "start_time": "2021-06-15T05:08:50.176Z"
   },
   {
    "duration": 942,
    "start_time": "2021-06-15T05:08:53.470Z"
   },
   {
    "duration": 112,
    "start_time": "2021-06-15T05:14:12.996Z"
   },
   {
    "duration": 854,
    "start_time": "2021-06-15T05:16:34.648Z"
   },
   {
    "duration": 24,
    "start_time": "2021-06-15T05:16:35.505Z"
   },
   {
    "duration": 116,
    "start_time": "2021-06-15T05:16:35.531Z"
   },
   {
    "duration": 13,
    "start_time": "2021-06-15T05:17:51.798Z"
   },
   {
    "duration": 19,
    "start_time": "2021-06-15T05:18:15.862Z"
   },
   {
    "duration": 9,
    "start_time": "2021-06-15T05:18:37.273Z"
   },
   {
    "duration": 7,
    "start_time": "2021-06-15T05:42:52.310Z"
   },
   {
    "duration": 345,
    "start_time": "2021-06-15T05:48:59.689Z"
   },
   {
    "duration": 19,
    "start_time": "2021-06-15T05:49:09.187Z"
   },
   {
    "duration": 6,
    "start_time": "2021-06-15T05:49:12.218Z"
   },
   {
    "duration": 6,
    "start_time": "2021-06-15T05:56:39.719Z"
   },
   {
    "duration": 13,
    "start_time": "2021-06-15T06:06:06.683Z"
   },
   {
    "duration": 880,
    "start_time": "2021-06-15T06:11:07.409Z"
   },
   {
    "duration": 15,
    "start_time": "2021-06-15T06:11:08.292Z"
   },
   {
    "duration": 119,
    "start_time": "2021-06-15T06:11:08.324Z"
   },
   {
    "duration": 12,
    "start_time": "2021-06-15T06:11:08.446Z"
   },
   {
    "duration": 18,
    "start_time": "2021-06-15T06:11:08.461Z"
   },
   {
    "duration": 355,
    "start_time": "2021-06-15T06:11:08.481Z"
   },
   {
    "duration": 12,
    "start_time": "2021-06-15T06:11:53.216Z"
   },
   {
    "duration": 6,
    "start_time": "2021-06-15T06:12:15.663Z"
   },
   {
    "duration": 12,
    "start_time": "2021-06-15T06:12:57.526Z"
   },
   {
    "duration": 7,
    "start_time": "2021-06-15T06:13:59.319Z"
   },
   {
    "duration": 7,
    "start_time": "2021-06-15T06:14:12.456Z"
   },
   {
    "duration": 67,
    "start_time": "2021-06-15T06:14:19.818Z"
   },
   {
    "duration": 89,
    "start_time": "2021-06-15T06:15:43.044Z"
   },
   {
    "duration": 79,
    "start_time": "2021-06-15T06:15:47.842Z"
   },
   {
    "duration": 135,
    "start_time": "2021-06-15T06:23:06.039Z"
   },
   {
    "duration": 57,
    "start_time": "2021-06-15T06:23:11.997Z"
   },
   {
    "duration": 434,
    "start_time": "2021-06-15T06:26:02.337Z"
   },
   {
    "duration": 61,
    "start_time": "2021-06-15T06:26:17.412Z"
   },
   {
    "duration": 56,
    "start_time": "2021-06-15T06:27:37.918Z"
   },
   {
    "duration": 378,
    "start_time": "2021-06-15T06:30:51.848Z"
   },
   {
    "duration": 7,
    "start_time": "2021-06-15T06:31:00.774Z"
   },
   {
    "duration": 217,
    "start_time": "2021-06-15T06:36:02.943Z"
   },
   {
    "duration": 340,
    "start_time": "2021-06-15T06:48:19.927Z"
   },
   {
    "duration": 9,
    "start_time": "2021-06-15T06:49:41.477Z"
   },
   {
    "duration": 13,
    "start_time": "2021-06-15T06:50:14.342Z"
   },
   {
    "duration": 12,
    "start_time": "2021-06-15T06:50:32.568Z"
   },
   {
    "duration": 9,
    "start_time": "2021-06-15T06:50:34.885Z"
   },
   {
    "duration": 11,
    "start_time": "2021-06-15T06:50:37.560Z"
   },
   {
    "duration": 299,
    "start_time": "2021-06-15T06:51:22.710Z"
   },
   {
    "duration": 61,
    "start_time": "2021-06-15T06:52:20.064Z"
   },
   {
    "duration": 6,
    "start_time": "2021-06-15T06:56:49.401Z"
   },
   {
    "duration": 277,
    "start_time": "2021-06-15T06:56:52.558Z"
   },
   {
    "duration": 3366,
    "start_time": "2021-06-15T06:57:38.251Z"
   },
   {
    "duration": 7,
    "start_time": "2021-06-15T06:58:01.748Z"
   },
   {
    "duration": 8,
    "start_time": "2021-06-15T06:58:05.716Z"
   },
   {
    "duration": 824,
    "start_time": "2021-06-15T06:58:34.262Z"
   },
   {
    "duration": 16,
    "start_time": "2021-06-15T06:58:35.089Z"
   },
   {
    "duration": 120,
    "start_time": "2021-06-15T06:58:35.108Z"
   },
   {
    "duration": 12,
    "start_time": "2021-06-15T06:58:35.231Z"
   },
   {
    "duration": 21,
    "start_time": "2021-06-15T06:58:35.245Z"
   },
   {
    "duration": 15,
    "start_time": "2021-06-15T06:58:35.269Z"
   },
   {
    "duration": 8,
    "start_time": "2021-06-15T06:58:35.286Z"
   },
   {
    "duration": 87,
    "start_time": "2021-06-15T06:58:35.297Z"
   },
   {
    "duration": 7,
    "start_time": "2021-06-15T06:58:51.158Z"
   },
   {
    "duration": 24,
    "start_time": "2021-06-15T06:59:10.932Z"
   },
   {
    "duration": 93,
    "start_time": "2021-06-15T07:00:56.256Z"
   },
   {
    "duration": 17,
    "start_time": "2021-06-15T07:01:02.319Z"
   },
   {
    "duration": 15,
    "start_time": "2021-06-15T07:01:06.109Z"
   },
   {
    "duration": 10,
    "start_time": "2021-06-15T07:03:26.495Z"
   },
   {
    "duration": 6,
    "start_time": "2021-06-15T07:03:33.815Z"
   },
   {
    "duration": 56,
    "start_time": "2021-06-15T07:04:13.632Z"
   },
   {
    "duration": 422,
    "start_time": "2021-06-15T07:16:16.230Z"
   },
   {
    "duration": 7,
    "start_time": "2021-06-15T07:16:39.537Z"
   },
   {
    "duration": 16,
    "start_time": "2021-06-15T07:16:57.536Z"
   },
   {
    "duration": 375,
    "start_time": "2021-06-15T07:17:32.527Z"
   },
   {
    "duration": 361,
    "start_time": "2021-06-15T07:18:08.472Z"
   },
   {
    "duration": 11,
    "start_time": "2021-06-15T07:18:20.560Z"
   },
   {
    "duration": 9,
    "start_time": "2021-06-15T07:19:04.793Z"
   },
   {
    "duration": 13,
    "start_time": "2021-06-15T07:28:49.776Z"
   },
   {
    "duration": 966,
    "start_time": "2021-06-15T07:29:08.586Z"
   },
   {
    "duration": 16,
    "start_time": "2021-06-15T07:29:09.554Z"
   },
   {
    "duration": 134,
    "start_time": "2021-06-15T07:29:09.573Z"
   },
   {
    "duration": 22,
    "start_time": "2021-06-15T07:29:09.710Z"
   },
   {
    "duration": 17,
    "start_time": "2021-06-15T07:29:09.735Z"
   },
   {
    "duration": 13,
    "start_time": "2021-06-15T07:29:09.755Z"
   },
   {
    "duration": 5,
    "start_time": "2021-06-15T07:29:09.771Z"
   },
   {
    "duration": 44,
    "start_time": "2021-06-15T07:29:09.780Z"
   },
   {
    "duration": 13,
    "start_time": "2021-06-15T07:29:09.827Z"
   },
   {
    "duration": 15,
    "start_time": "2021-06-15T07:29:09.843Z"
   },
   {
    "duration": 13,
    "start_time": "2021-06-15T07:30:13.627Z"
   },
   {
    "duration": 16,
    "start_time": "2021-06-15T07:30:16.811Z"
   },
   {
    "duration": 1300,
    "start_time": "2021-06-15T07:31:46.124Z"
   },
   {
    "duration": 7629,
    "start_time": "2021-06-15T07:31:50.907Z"
   },
   {
    "duration": 6,
    "start_time": "2021-06-15T07:32:08.947Z"
   },
   {
    "duration": 60,
    "start_time": "2021-06-15T07:32:46.012Z"
   },
   {
    "duration": 57,
    "start_time": "2021-06-15T07:33:24.831Z"
   },
   {
    "duration": 29,
    "start_time": "2021-06-15T07:35:01.080Z"
   },
   {
    "duration": 24,
    "start_time": "2021-06-15T07:35:10.502Z"
   },
   {
    "duration": 12,
    "start_time": "2021-06-15T07:35:40.044Z"
   },
   {
    "duration": 15,
    "start_time": "2021-06-15T07:35:54.493Z"
   },
   {
    "duration": 12,
    "start_time": "2021-06-15T07:37:40.710Z"
   },
   {
    "duration": 6,
    "start_time": "2021-06-15T07:38:04.998Z"
   },
   {
    "duration": 77,
    "start_time": "2021-06-15T07:39:02.551Z"
   },
   {
    "duration": 93,
    "start_time": "2021-06-15T07:42:32.402Z"
   },
   {
    "duration": 11,
    "start_time": "2021-06-15T07:42:58.385Z"
   },
   {
    "duration": 6,
    "start_time": "2021-06-15T07:43:18.858Z"
   },
   {
    "duration": 15,
    "start_time": "2021-06-15T07:44:00.931Z"
   },
   {
    "duration": 137,
    "start_time": "2021-06-15T08:23:07.096Z"
   },
   {
    "duration": 14,
    "start_time": "2021-06-15T08:23:07.236Z"
   },
   {
    "duration": 118,
    "start_time": "2021-06-15T08:23:07.253Z"
   },
   {
    "duration": 11,
    "start_time": "2021-06-15T08:23:07.373Z"
   },
   {
    "duration": 18,
    "start_time": "2021-06-15T08:23:07.387Z"
   },
   {
    "duration": 25,
    "start_time": "2021-06-15T08:23:07.407Z"
   },
   {
    "duration": 6,
    "start_time": "2021-06-15T08:23:07.434Z"
   },
   {
    "duration": 11,
    "start_time": "2021-06-15T08:23:07.443Z"
   },
   {
    "duration": 12,
    "start_time": "2021-06-15T08:23:07.457Z"
   },
   {
    "duration": 55,
    "start_time": "2021-06-15T08:23:07.472Z"
   },
   {
    "duration": 11,
    "start_time": "2021-06-15T08:23:07.529Z"
   },
   {
    "duration": 6,
    "start_time": "2021-06-15T08:23:07.542Z"
   },
   {
    "duration": 7,
    "start_time": "2021-06-15T08:29:46.118Z"
   },
   {
    "duration": 7,
    "start_time": "2021-06-15T08:30:19.875Z"
   },
   {
    "duration": 7,
    "start_time": "2021-06-15T08:30:27.294Z"
   },
   {
    "duration": 10,
    "start_time": "2021-06-15T08:30:42.293Z"
   },
   {
    "duration": 290,
    "start_time": "2021-06-15T08:31:40.276Z"
   },
   {
    "duration": 370,
    "start_time": "2021-06-15T08:31:57.925Z"
   },
   {
    "duration": 71,
    "start_time": "2021-06-15T08:32:03.422Z"
   },
   {
    "duration": 8,
    "start_time": "2021-06-15T08:44:55.574Z"
   },
   {
    "duration": 16,
    "start_time": "2021-06-15T08:45:21.039Z"
   },
   {
    "duration": 60,
    "start_time": "2021-06-15T08:46:46.718Z"
   },
   {
    "duration": 588,
    "start_time": "2021-06-15T08:47:15.726Z"
   },
   {
    "duration": 16,
    "start_time": "2021-06-15T08:47:23.629Z"
   },
   {
    "duration": 12,
    "start_time": "2021-06-15T08:48:05.622Z"
   },
   {
    "duration": 39,
    "start_time": "2021-06-15T08:48:10.631Z"
   },
   {
    "duration": 24,
    "start_time": "2021-06-15T08:49:22.227Z"
   },
   {
    "duration": 11,
    "start_time": "2021-06-15T08:50:44.903Z"
   },
   {
    "duration": 98,
    "start_time": "2021-06-15T08:50:54.176Z"
   },
   {
    "duration": 13,
    "start_time": "2021-06-15T08:51:00.791Z"
   },
   {
    "duration": 38,
    "start_time": "2021-06-15T08:52:10.000Z"
   },
   {
    "duration": 58,
    "start_time": "2021-06-15T08:54:45.507Z"
   },
   {
    "duration": 305,
    "start_time": "2021-06-15T08:55:05.103Z"
   },
   {
    "duration": 63,
    "start_time": "2021-06-15T08:55:14.632Z"
   },
   {
    "duration": 887,
    "start_time": "2021-06-15T09:00:00.050Z"
   },
   {
    "duration": 16,
    "start_time": "2021-06-15T09:00:00.939Z"
   },
   {
    "duration": 172,
    "start_time": "2021-06-15T09:00:00.958Z"
   },
   {
    "duration": 13,
    "start_time": "2021-06-15T09:00:01.132Z"
   },
   {
    "duration": 39,
    "start_time": "2021-06-15T09:00:01.147Z"
   },
   {
    "duration": 26,
    "start_time": "2021-06-15T09:00:01.189Z"
   },
   {
    "duration": 14,
    "start_time": "2021-06-15T09:00:01.217Z"
   },
   {
    "duration": 26,
    "start_time": "2021-06-15T09:00:01.235Z"
   },
   {
    "duration": 34,
    "start_time": "2021-06-15T09:00:01.264Z"
   },
   {
    "duration": 703,
    "start_time": "2021-06-15T09:00:01.300Z"
   },
   {
    "duration": 1389,
    "start_time": "2021-06-15T09:00:00.617Z"
   },
   {
    "duration": 1384,
    "start_time": "2021-06-15T09:00:00.623Z"
   },
   {
    "duration": 24,
    "start_time": "2021-06-15T09:00:49.282Z"
   },
   {
    "duration": 14,
    "start_time": "2021-06-15T09:00:55.762Z"
   },
   {
    "duration": 64,
    "start_time": "2021-06-15T09:01:15.729Z"
   },
   {
    "duration": 3824,
    "start_time": "2021-06-15T09:16:41.527Z"
   },
   {
    "duration": 3583,
    "start_time": "2021-06-15T09:17:12.143Z"
   },
   {
    "duration": 6,
    "start_time": "2021-06-15T09:17:31.308Z"
   },
   {
    "duration": 8,
    "start_time": "2021-06-15T09:18:04.588Z"
   },
   {
    "duration": 295,
    "start_time": "2021-06-15T09:19:37.861Z"
   },
   {
    "duration": 284,
    "start_time": "2021-06-15T09:41:55.156Z"
   },
   {
    "duration": 5,
    "start_time": "2021-06-15T09:44:07.196Z"
   },
   {
    "duration": 7,
    "start_time": "2021-06-15T09:44:34.980Z"
   },
   {
    "duration": 17,
    "start_time": "2021-06-15T09:44:45.284Z"
   },
   {
    "duration": 6,
    "start_time": "2021-06-15T10:49:43.547Z"
   },
   {
    "duration": 66,
    "start_time": "2021-06-15T10:49:57.882Z"
   },
   {
    "duration": 1805,
    "start_time": "2021-06-15T10:58:32.573Z"
   },
   {
    "duration": 1865,
    "start_time": "2021-06-15T10:59:06.219Z"
   },
   {
    "duration": 58,
    "start_time": "2021-06-15T11:00:21.437Z"
   },
   {
    "duration": 267,
    "start_time": "2021-06-15T11:01:41.478Z"
   },
   {
    "duration": 1894,
    "start_time": "2021-06-15T11:03:39.261Z"
   },
   {
    "duration": 1848,
    "start_time": "2021-06-15T11:05:22.406Z"
   },
   {
    "duration": 1885,
    "start_time": "2021-06-15T11:05:29.182Z"
   },
   {
    "duration": 1339,
    "start_time": "2021-06-15T11:06:41.984Z"
   },
   {
    "duration": 831,
    "start_time": "2021-06-15T11:12:22.576Z"
   },
   {
    "duration": 23,
    "start_time": "2021-06-15T11:12:23.410Z"
   },
   {
    "duration": 119,
    "start_time": "2021-06-15T11:12:23.437Z"
   },
   {
    "duration": 12,
    "start_time": "2021-06-15T11:12:23.560Z"
   },
   {
    "duration": 17,
    "start_time": "2021-06-15T11:12:23.575Z"
   },
   {
    "duration": 35,
    "start_time": "2021-06-15T11:12:23.595Z"
   },
   {
    "duration": 7,
    "start_time": "2021-06-15T11:12:23.632Z"
   },
   {
    "duration": 23,
    "start_time": "2021-06-15T11:12:23.643Z"
   },
   {
    "duration": 15,
    "start_time": "2021-06-15T11:12:23.670Z"
   },
   {
    "duration": 57,
    "start_time": "2021-06-15T11:12:23.688Z"
   },
   {
    "duration": 14,
    "start_time": "2021-06-15T11:12:23.747Z"
   },
   {
    "duration": 87,
    "start_time": "2021-06-15T11:12:23.763Z"
   },
   {
    "duration": 13,
    "start_time": "2021-06-15T11:12:23.853Z"
   },
   {
    "duration": 6,
    "start_time": "2021-06-15T11:12:23.868Z"
   },
   {
    "duration": 100,
    "start_time": "2021-06-15T11:12:23.876Z"
   },
   {
    "duration": 1990,
    "start_time": "2021-06-15T11:12:23.978Z"
   },
   {
    "duration": 7,
    "start_time": "2021-06-15T11:14:34.881Z"
   },
   {
    "duration": 12,
    "start_time": "2021-06-15T11:15:05.950Z"
   },
   {
    "duration": 1788,
    "start_time": "2021-06-15T11:19:35.409Z"
   },
   {
    "duration": 145,
    "start_time": "2021-06-15T11:23:05.636Z"
   },
   {
    "duration": 17,
    "start_time": "2021-06-15T11:23:05.784Z"
   },
   {
    "duration": 130,
    "start_time": "2021-06-15T11:23:05.805Z"
   },
   {
    "duration": 14,
    "start_time": "2021-06-15T11:23:05.938Z"
   },
   {
    "duration": 20,
    "start_time": "2021-06-15T11:23:05.955Z"
   },
   {
    "duration": 47,
    "start_time": "2021-06-15T11:23:05.977Z"
   },
   {
    "duration": 6,
    "start_time": "2021-06-15T11:23:06.027Z"
   },
   {
    "duration": 19,
    "start_time": "2021-06-15T11:23:06.037Z"
   },
   {
    "duration": 14,
    "start_time": "2021-06-15T11:23:06.059Z"
   },
   {
    "duration": 49,
    "start_time": "2021-06-15T11:23:06.075Z"
   },
   {
    "duration": 14,
    "start_time": "2021-06-15T11:23:06.126Z"
   },
   {
    "duration": 83,
    "start_time": "2021-06-15T11:23:06.142Z"
   },
   {
    "duration": 13,
    "start_time": "2021-06-15T11:23:06.228Z"
   },
   {
    "duration": 5,
    "start_time": "2021-06-15T11:23:06.244Z"
   },
   {
    "duration": 98,
    "start_time": "2021-06-15T11:23:06.251Z"
   },
   {
    "duration": 1915,
    "start_time": "2021-06-15T11:23:06.351Z"
   },
   {
    "duration": 1865,
    "start_time": "2021-06-15T11:28:38.663Z"
   },
   {
    "duration": 75,
    "start_time": "2021-06-15T11:28:44.139Z"
   },
   {
    "duration": 6,
    "start_time": "2021-06-15T13:32:39.638Z"
   },
   {
    "duration": 66,
    "start_time": "2021-06-15T13:32:47.051Z"
   },
   {
    "duration": 67,
    "start_time": "2021-06-15T13:33:49.929Z"
   },
   {
    "duration": 945,
    "start_time": "2021-06-15T14:01:26.633Z"
   },
   {
    "duration": 15,
    "start_time": "2021-06-15T14:01:27.580Z"
   },
   {
    "duration": 131,
    "start_time": "2021-06-15T14:01:27.599Z"
   },
   {
    "duration": 12,
    "start_time": "2021-06-15T14:01:27.733Z"
   },
   {
    "duration": 32,
    "start_time": "2021-06-15T14:01:27.747Z"
   },
   {
    "duration": 22,
    "start_time": "2021-06-15T14:01:27.782Z"
   },
   {
    "duration": 6,
    "start_time": "2021-06-15T14:01:27.806Z"
   },
   {
    "duration": 20,
    "start_time": "2021-06-15T14:01:27.815Z"
   },
   {
    "duration": 33,
    "start_time": "2021-06-15T14:01:27.839Z"
   },
   {
    "duration": 26,
    "start_time": "2021-06-15T14:01:27.875Z"
   },
   {
    "duration": 14,
    "start_time": "2021-06-15T14:01:27.903Z"
   },
   {
    "duration": 106,
    "start_time": "2021-06-15T14:01:27.919Z"
   },
   {
    "duration": 14,
    "start_time": "2021-06-15T14:01:28.027Z"
   },
   {
    "duration": 32,
    "start_time": "2021-06-15T14:01:28.044Z"
   },
   {
    "duration": 7,
    "start_time": "2021-06-15T14:01:28.079Z"
   },
   {
    "duration": 103,
    "start_time": "2021-06-15T14:01:28.089Z"
   },
   {
    "duration": 429,
    "start_time": "2021-06-15T14:02:19.298Z"
   },
   {
    "duration": 389,
    "start_time": "2021-06-15T14:03:13.334Z"
   },
   {
    "duration": 415,
    "start_time": "2021-06-15T14:03:33.721Z"
   },
   {
    "duration": 398,
    "start_time": "2021-06-15T14:04:00.153Z"
   },
   {
    "duration": 130,
    "start_time": "2021-06-15T14:04:59.514Z"
   },
   {
    "duration": 265,
    "start_time": "2021-06-15T14:05:10.578Z"
   },
   {
    "duration": 261,
    "start_time": "2021-06-15T14:05:31.843Z"
   },
   {
    "duration": 270,
    "start_time": "2021-06-15T14:06:33.849Z"
   },
   {
    "duration": 234,
    "start_time": "2021-06-15T14:06:50.498Z"
   },
   {
    "duration": 253,
    "start_time": "2021-06-15T14:07:04.200Z"
   },
   {
    "duration": 102,
    "start_time": "2021-06-15T14:07:20.012Z"
   },
   {
    "duration": 105,
    "start_time": "2021-06-15T14:07:31.946Z"
   },
   {
    "duration": 263,
    "start_time": "2021-06-15T14:07:43.225Z"
   },
   {
    "duration": 353,
    "start_time": "2021-06-15T14:20:56.478Z"
   },
   {
    "duration": 291,
    "start_time": "2021-06-15T14:21:18.889Z"
   },
   {
    "duration": 921,
    "start_time": "2021-06-16T04:29:39.457Z"
   },
   {
    "duration": 18,
    "start_time": "2021-06-16T04:29:40.381Z"
   },
   {
    "duration": 134,
    "start_time": "2021-06-16T04:29:40.403Z"
   },
   {
    "duration": 16,
    "start_time": "2021-06-16T04:29:40.541Z"
   },
   {
    "duration": 20,
    "start_time": "2021-06-16T04:29:40.561Z"
   },
   {
    "duration": 14,
    "start_time": "2021-06-16T04:29:40.583Z"
   },
   {
    "duration": 8,
    "start_time": "2021-06-16T04:29:40.599Z"
   },
   {
    "duration": 59,
    "start_time": "2021-06-16T04:29:40.612Z"
   },
   {
    "duration": 16,
    "start_time": "2021-06-16T04:29:40.674Z"
   },
   {
    "duration": 26,
    "start_time": "2021-06-16T04:29:40.693Z"
   },
   {
    "duration": 46,
    "start_time": "2021-06-16T04:29:40.722Z"
   },
   {
    "duration": 86,
    "start_time": "2021-06-16T04:29:40.771Z"
   },
   {
    "duration": 13,
    "start_time": "2021-06-16T04:29:40.861Z"
   },
   {
    "duration": 16,
    "start_time": "2021-06-16T04:29:40.877Z"
   },
   {
    "duration": 8,
    "start_time": "2021-06-16T04:29:40.896Z"
   },
   {
    "duration": 299,
    "start_time": "2021-06-16T04:29:40.907Z"
   },
   {
    "duration": 829,
    "start_time": "2021-06-16T04:31:44.004Z"
   },
   {
    "duration": 22,
    "start_time": "2021-06-16T04:31:44.837Z"
   },
   {
    "duration": 116,
    "start_time": "2021-06-16T04:31:44.863Z"
   },
   {
    "duration": 14,
    "start_time": "2021-06-16T04:31:44.981Z"
   },
   {
    "duration": 18,
    "start_time": "2021-06-16T04:31:44.998Z"
   },
   {
    "duration": 44,
    "start_time": "2021-06-16T04:31:45.019Z"
   },
   {
    "duration": 11,
    "start_time": "2021-06-16T04:31:45.065Z"
   },
   {
    "duration": 31,
    "start_time": "2021-06-16T04:31:45.078Z"
   },
   {
    "duration": 13,
    "start_time": "2021-06-16T04:31:45.112Z"
   },
   {
    "duration": 28,
    "start_time": "2021-06-16T04:31:45.127Z"
   },
   {
    "duration": 62,
    "start_time": "2021-06-16T04:31:45.158Z"
   },
   {
    "duration": 12,
    "start_time": "2021-06-16T04:31:45.222Z"
   },
   {
    "duration": 14,
    "start_time": "2021-06-16T04:31:45.255Z"
   },
   {
    "duration": 18,
    "start_time": "2021-06-16T04:31:45.271Z"
   },
   {
    "duration": 265,
    "start_time": "2021-06-16T04:31:45.292Z"
   },
   {
    "duration": 5,
    "start_time": "2021-06-16T04:31:54.214Z"
   },
   {
    "duration": 1197,
    "start_time": "2021-06-16T08:27:40.930Z"
   },
   {
    "duration": 28,
    "start_time": "2021-06-16T08:27:42.129Z"
   },
   {
    "duration": 116,
    "start_time": "2021-06-16T08:27:42.161Z"
   },
   {
    "duration": 14,
    "start_time": "2021-06-16T08:27:42.281Z"
   },
   {
    "duration": 19,
    "start_time": "2021-06-16T08:27:42.298Z"
   },
   {
    "duration": 42,
    "start_time": "2021-06-16T08:27:42.320Z"
   },
   {
    "duration": 6,
    "start_time": "2021-06-16T08:27:42.364Z"
   },
   {
    "duration": 17,
    "start_time": "2021-06-16T08:27:42.372Z"
   },
   {
    "duration": 12,
    "start_time": "2021-06-16T08:27:42.393Z"
   },
   {
    "duration": 5,
    "start_time": "2021-06-16T08:27:42.408Z"
   },
   {
    "duration": 49,
    "start_time": "2021-06-16T08:27:42.415Z"
   },
   {
    "duration": 97,
    "start_time": "2021-06-16T08:27:42.467Z"
   },
   {
    "duration": 13,
    "start_time": "2021-06-16T08:27:42.566Z"
   },
   {
    "duration": 14,
    "start_time": "2021-06-16T08:27:42.581Z"
   },
   {
    "duration": 5,
    "start_time": "2021-06-16T08:27:42.598Z"
   },
   {
    "duration": 340,
    "start_time": "2021-06-16T08:27:42.606Z"
   },
   {
    "duration": 136,
    "start_time": "2021-06-16T08:35:07.009Z"
   },
   {
    "duration": 4,
    "start_time": "2021-06-16T08:35:30.517Z"
   },
   {
    "duration": 8,
    "start_time": "2021-06-16T08:45:30.196Z"
   },
   {
    "duration": 6,
    "start_time": "2021-06-16T08:45:36.741Z"
   },
   {
    "duration": 3,
    "start_time": "2021-06-16T08:46:24.514Z"
   },
   {
    "duration": 152,
    "start_time": "2021-06-16T08:46:24.520Z"
   },
   {
    "duration": 16,
    "start_time": "2021-06-16T08:46:24.674Z"
   },
   {
    "duration": 137,
    "start_time": "2021-06-16T08:46:24.693Z"
   },
   {
    "duration": 24,
    "start_time": "2021-06-16T08:46:24.833Z"
   },
   {
    "duration": 17,
    "start_time": "2021-06-16T08:46:24.860Z"
   },
   {
    "duration": 17,
    "start_time": "2021-06-16T08:46:24.883Z"
   },
   {
    "duration": 8,
    "start_time": "2021-06-16T08:46:24.903Z"
   },
   {
    "duration": 45,
    "start_time": "2021-06-16T08:46:24.914Z"
   },
   {
    "duration": 6,
    "start_time": "2021-06-16T08:46:24.961Z"
   },
   {
    "duration": 22,
    "start_time": "2021-06-16T08:46:24.969Z"
   },
   {
    "duration": 87,
    "start_time": "2021-06-16T08:46:24.994Z"
   },
   {
    "duration": 12,
    "start_time": "2021-06-16T08:46:25.083Z"
   },
   {
    "duration": 15,
    "start_time": "2021-06-16T08:46:25.098Z"
   },
   {
    "duration": 5,
    "start_time": "2021-06-16T08:46:25.116Z"
   },
   {
    "duration": 294,
    "start_time": "2021-06-16T08:46:25.123Z"
   },
   {
    "duration": 6,
    "start_time": "2021-06-16T08:46:34.370Z"
   },
   {
    "duration": 6,
    "start_time": "2021-06-16T08:46:54.737Z"
   },
   {
    "duration": 20,
    "start_time": "2021-06-16T08:47:47.317Z"
   },
   {
    "duration": 7,
    "start_time": "2021-06-16T08:47:49.675Z"
   },
   {
    "duration": 16,
    "start_time": "2021-06-16T08:47:54.474Z"
   },
   {
    "duration": 15,
    "start_time": "2021-06-16T08:55:33.506Z"
   },
   {
    "duration": 11,
    "start_time": "2021-06-16T09:09:35.362Z"
   },
   {
    "duration": 16,
    "start_time": "2021-06-16T09:09:51.539Z"
   },
   {
    "duration": 11,
    "start_time": "2021-06-16T09:20:09.561Z"
   },
   {
    "duration": 17,
    "start_time": "2021-06-16T09:20:13.604Z"
   },
   {
    "duration": 15,
    "start_time": "2021-06-16T09:26:01.875Z"
   },
   {
    "duration": 8,
    "start_time": "2021-06-16T09:32:17.649Z"
   },
   {
    "duration": 15,
    "start_time": "2021-06-16T09:32:23.614Z"
   },
   {
    "duration": 6,
    "start_time": "2021-06-16T09:32:55.031Z"
   },
   {
    "duration": 17,
    "start_time": "2021-06-16T09:32:58.559Z"
   },
   {
    "duration": 12,
    "start_time": "2021-06-16T09:35:29.861Z"
   },
   {
    "duration": 517,
    "start_time": "2021-06-16T09:45:12.272Z"
   },
   {
    "duration": 785,
    "start_time": "2021-06-16T09:46:32.524Z"
   },
   {
    "duration": 174,
    "start_time": "2021-06-16T09:46:33.312Z"
   },
   {
    "duration": 20,
    "start_time": "2021-06-16T09:46:33.489Z"
   },
   {
    "duration": 147,
    "start_time": "2021-06-16T09:46:33.513Z"
   },
   {
    "duration": 16,
    "start_time": "2021-06-16T09:46:33.664Z"
   },
   {
    "duration": 17,
    "start_time": "2021-06-16T09:46:33.683Z"
   },
   {
    "duration": 19,
    "start_time": "2021-06-16T09:46:33.703Z"
   },
   {
    "duration": 31,
    "start_time": "2021-06-16T09:46:33.725Z"
   },
   {
    "duration": 24,
    "start_time": "2021-06-16T09:46:33.760Z"
   },
   {
    "duration": 4,
    "start_time": "2021-06-16T09:46:33.787Z"
   },
   {
    "duration": 13,
    "start_time": "2021-06-16T09:46:33.793Z"
   },
   {
    "duration": 10,
    "start_time": "2021-06-16T09:46:33.808Z"
   },
   {
    "duration": 36,
    "start_time": "2021-06-16T09:46:33.821Z"
   },
   {
    "duration": 12,
    "start_time": "2021-06-16T09:46:33.860Z"
   },
   {
    "duration": 11,
    "start_time": "2021-06-16T09:46:33.875Z"
   },
   {
    "duration": 428,
    "start_time": "2021-06-16T09:46:33.889Z"
   },
   {
    "duration": 77,
    "start_time": "2021-06-16T09:46:52.418Z"
   },
   {
    "duration": 50,
    "start_time": "2021-06-16T09:51:44.850Z"
   },
   {
    "duration": 75,
    "start_time": "2021-06-16T09:52:52.731Z"
   },
   {
    "duration": 1044,
    "start_time": "2021-06-16T09:59:38.132Z"
   },
   {
    "duration": 1047,
    "start_time": "2021-06-16T10:00:29.517Z"
   },
   {
    "duration": 598,
    "start_time": "2021-06-16T10:01:00.486Z"
   },
   {
    "duration": 678,
    "start_time": "2021-06-16T10:01:55.768Z"
   },
   {
    "duration": 108,
    "start_time": "2021-06-16T10:02:06.112Z"
   },
   {
    "duration": 696,
    "start_time": "2021-06-16T10:02:12.144Z"
   },
   {
    "duration": 554,
    "start_time": "2021-06-16T10:02:32.992Z"
   },
   {
    "duration": 62,
    "start_time": "2021-06-16T10:02:59.057Z"
   },
   {
    "duration": 557,
    "start_time": "2021-06-16T10:03:58.977Z"
   },
   {
    "duration": 639,
    "start_time": "2021-06-16T10:04:19.205Z"
   },
   {
    "duration": 625,
    "start_time": "2021-06-16T10:04:28.919Z"
   },
   {
    "duration": 773,
    "start_time": "2021-06-16T10:13:37.651Z"
   },
   {
    "duration": 52,
    "start_time": "2021-06-16T10:14:34.780Z"
   },
   {
    "duration": 287,
    "start_time": "2021-06-16T10:56:48.070Z"
   },
   {
    "duration": 97,
    "start_time": "2021-06-16T10:57:05.184Z"
   },
   {
    "duration": 308,
    "start_time": "2021-06-16T10:57:33.119Z"
   },
   {
    "duration": 59,
    "start_time": "2021-06-16T10:58:02.483Z"
   },
   {
    "duration": 6,
    "start_time": "2021-06-16T10:58:42.410Z"
   },
   {
    "duration": 346,
    "start_time": "2021-06-16T11:00:04.499Z"
   },
   {
    "duration": 5,
    "start_time": "2021-06-16T11:00:11.054Z"
   },
   {
    "duration": 51,
    "start_time": "2021-06-16T11:00:14.021Z"
   },
   {
    "duration": 8,
    "start_time": "2021-06-16T11:01:53.843Z"
   },
   {
    "duration": 55,
    "start_time": "2021-06-16T11:02:11.126Z"
   },
   {
    "duration": 28,
    "start_time": "2021-06-16T11:03:05.887Z"
   },
   {
    "duration": 25,
    "start_time": "2021-06-16T11:03:21.106Z"
   },
   {
    "duration": 41,
    "start_time": "2021-06-16T11:03:41.007Z"
   },
   {
    "duration": 59,
    "start_time": "2021-06-16T11:04:50.471Z"
   },
   {
    "duration": 281,
    "start_time": "2021-06-16T11:17:22.254Z"
   },
   {
    "duration": 7,
    "start_time": "2021-06-16T11:18:46.107Z"
   },
   {
    "duration": 6,
    "start_time": "2021-06-16T11:19:00.634Z"
   },
   {
    "duration": 307,
    "start_time": "2021-06-16T11:19:08.901Z"
   },
   {
    "duration": 270,
    "start_time": "2021-06-16T11:19:17.926Z"
   },
   {
    "duration": 8,
    "start_time": "2021-06-16T11:19:25.853Z"
   },
   {
    "duration": 297,
    "start_time": "2021-06-16T11:20:26.787Z"
   },
   {
    "duration": 105,
    "start_time": "2021-06-16T11:20:49.480Z"
   },
   {
    "duration": 8,
    "start_time": "2021-06-16T11:38:13.215Z"
   },
   {
    "duration": 4,
    "start_time": "2021-06-16T11:38:21.507Z"
   },
   {
    "duration": 3347,
    "start_time": "2021-06-16T11:38:46.628Z"
   },
   {
    "duration": 3688,
    "start_time": "2021-06-16T11:38:54.126Z"
   },
   {
    "duration": 7,
    "start_time": "2021-06-16T11:39:15.105Z"
   },
   {
    "duration": 803,
    "start_time": "2021-06-16T11:39:39.129Z"
   },
   {
    "duration": 159,
    "start_time": "2021-06-16T11:39:39.935Z"
   },
   {
    "duration": 15,
    "start_time": "2021-06-16T11:39:40.097Z"
   },
   {
    "duration": 126,
    "start_time": "2021-06-16T11:39:40.116Z"
   },
   {
    "duration": 14,
    "start_time": "2021-06-16T11:39:40.245Z"
   },
   {
    "duration": 17,
    "start_time": "2021-06-16T11:39:40.262Z"
   },
   {
    "duration": 17,
    "start_time": "2021-06-16T11:39:40.281Z"
   },
   {
    "duration": 7,
    "start_time": "2021-06-16T11:39:40.301Z"
   },
   {
    "duration": 44,
    "start_time": "2021-06-16T11:39:40.310Z"
   },
   {
    "duration": 5,
    "start_time": "2021-06-16T11:39:40.357Z"
   },
   {
    "duration": 17,
    "start_time": "2021-06-16T11:39:40.365Z"
   },
   {
    "duration": 9,
    "start_time": "2021-06-16T11:39:40.385Z"
   },
   {
    "duration": 76,
    "start_time": "2021-06-16T11:39:40.397Z"
   },
   {
    "duration": 12,
    "start_time": "2021-06-16T11:39:40.476Z"
   },
   {
    "duration": 13,
    "start_time": "2021-06-16T11:39:40.491Z"
   },
   {
    "duration": 49,
    "start_time": "2021-06-16T11:39:40.507Z"
   },
   {
    "duration": 11,
    "start_time": "2021-06-16T11:39:40.559Z"
   },
   {
    "duration": 378,
    "start_time": "2021-06-16T11:39:40.573Z"
   },
   {
    "duration": 842,
    "start_time": "2021-06-16T11:39:40.954Z"
   },
   {
    "duration": 340,
    "start_time": "2021-06-16T11:40:27.419Z"
   },
   {
    "duration": 8,
    "start_time": "2021-06-16T11:40:32.208Z"
   },
   {
    "duration": 7,
    "start_time": "2021-06-16T11:40:37.908Z"
   },
   {
    "duration": 6,
    "start_time": "2021-06-16T11:42:27.175Z"
   },
   {
    "duration": 8,
    "start_time": "2021-06-16T11:42:36.213Z"
   },
   {
    "duration": 7,
    "start_time": "2021-06-16T11:43:27.310Z"
   },
   {
    "duration": 8,
    "start_time": "2021-06-16T11:43:33.322Z"
   },
   {
    "duration": 841,
    "start_time": "2021-06-16T11:49:18.167Z"
   },
   {
    "duration": 773,
    "start_time": "2021-06-16T11:50:12.447Z"
   },
   {
    "duration": 172,
    "start_time": "2021-06-16T11:50:13.222Z"
   },
   {
    "duration": 15,
    "start_time": "2021-06-16T11:50:13.397Z"
   },
   {
    "duration": 142,
    "start_time": "2021-06-16T11:50:13.415Z"
   },
   {
    "duration": 18,
    "start_time": "2021-06-16T11:50:13.561Z"
   },
   {
    "duration": 32,
    "start_time": "2021-06-16T11:50:13.582Z"
   },
   {
    "duration": 29,
    "start_time": "2021-06-16T11:50:13.616Z"
   },
   {
    "duration": 21,
    "start_time": "2021-06-16T11:50:13.649Z"
   },
   {
    "duration": 18,
    "start_time": "2021-06-16T11:50:13.673Z"
   },
   {
    "duration": 18,
    "start_time": "2021-06-16T11:50:13.693Z"
   },
   {
    "duration": 25,
    "start_time": "2021-06-16T11:50:13.714Z"
   },
   {
    "duration": 15,
    "start_time": "2021-06-16T11:50:13.742Z"
   },
   {
    "duration": 38,
    "start_time": "2021-06-16T11:50:13.760Z"
   },
   {
    "duration": 795,
    "start_time": "2021-06-16T11:50:13.801Z"
   },
   {
    "duration": 10,
    "start_time": "2021-06-16T11:50:14.598Z"
   },
   {
    "duration": 18,
    "start_time": "2021-06-16T11:50:14.611Z"
   },
   {
    "duration": 37,
    "start_time": "2021-06-16T11:50:14.632Z"
   },
   {
    "duration": 31,
    "start_time": "2021-06-16T11:50:14.671Z"
   },
   {
    "duration": 424,
    "start_time": "2021-06-16T11:50:14.705Z"
   },
   {
    "duration": 878,
    "start_time": "2021-06-16T11:50:15.131Z"
   },
   {
    "duration": 770,
    "start_time": "2021-06-16T11:51:50.255Z"
   },
   {
    "duration": 786,
    "start_time": "2021-06-16T11:52:07.243Z"
   },
   {
    "duration": 92,
    "start_time": "2021-06-16T11:53:57.580Z"
   },
   {
    "duration": 759,
    "start_time": "2021-06-16T11:54:05.743Z"
   },
   {
    "duration": 770,
    "start_time": "2021-06-16T12:17:29.052Z"
   },
   {
    "duration": 160,
    "start_time": "2021-06-16T12:17:29.824Z"
   },
   {
    "duration": 15,
    "start_time": "2021-06-16T12:17:29.987Z"
   },
   {
    "duration": 133,
    "start_time": "2021-06-16T12:17:30.005Z"
   },
   {
    "duration": 21,
    "start_time": "2021-06-16T12:17:30.140Z"
   },
   {
    "duration": 18,
    "start_time": "2021-06-16T12:17:30.163Z"
   },
   {
    "duration": 21,
    "start_time": "2021-06-16T12:17:30.184Z"
   },
   {
    "duration": 16,
    "start_time": "2021-06-16T12:17:30.208Z"
   },
   {
    "duration": 21,
    "start_time": "2021-06-16T12:17:30.227Z"
   },
   {
    "duration": 5,
    "start_time": "2021-06-16T12:17:30.255Z"
   },
   {
    "duration": 21,
    "start_time": "2021-06-16T12:17:30.263Z"
   },
   {
    "duration": 16,
    "start_time": "2021-06-16T12:17:30.286Z"
   },
   {
    "duration": 21,
    "start_time": "2021-06-16T12:17:30.305Z"
   },
   {
    "duration": 734,
    "start_time": "2021-06-16T12:17:30.328Z"
   },
   {
    "duration": 10,
    "start_time": "2021-06-16T12:17:31.064Z"
   },
   {
    "duration": 23,
    "start_time": "2021-06-16T12:17:31.076Z"
   },
   {
    "duration": 26,
    "start_time": "2021-06-16T12:17:31.102Z"
   },
   {
    "duration": 19,
    "start_time": "2021-06-16T12:17:31.131Z"
   },
   {
    "duration": 403,
    "start_time": "2021-06-16T12:17:31.152Z"
   },
   {
    "duration": 860,
    "start_time": "2021-06-16T12:17:31.557Z"
   },
   {
    "duration": 7,
    "start_time": "2021-06-16T12:17:58.804Z"
   },
   {
    "duration": 835,
    "start_time": "2021-06-16T12:19:04.531Z"
   },
   {
    "duration": 793,
    "start_time": "2021-06-16T12:20:48.635Z"
   },
   {
    "duration": 821,
    "start_time": "2021-06-16T12:21:08.168Z"
   },
   {
    "duration": 784,
    "start_time": "2021-06-16T12:22:11.034Z"
   },
   {
    "duration": 156,
    "start_time": "2021-06-16T12:22:11.820Z"
   },
   {
    "duration": 16,
    "start_time": "2021-06-16T12:22:11.982Z"
   },
   {
    "duration": 128,
    "start_time": "2021-06-16T12:22:12.000Z"
   },
   {
    "duration": 24,
    "start_time": "2021-06-16T12:22:12.130Z"
   },
   {
    "duration": 18,
    "start_time": "2021-06-16T12:22:12.156Z"
   },
   {
    "duration": 14,
    "start_time": "2021-06-16T12:22:12.177Z"
   },
   {
    "duration": 5,
    "start_time": "2021-06-16T12:22:12.194Z"
   },
   {
    "duration": 17,
    "start_time": "2021-06-16T12:22:12.201Z"
   },
   {
    "duration": 37,
    "start_time": "2021-06-16T12:22:12.220Z"
   },
   {
    "duration": 13,
    "start_time": "2021-06-16T12:22:12.260Z"
   },
   {
    "duration": 13,
    "start_time": "2021-06-16T12:22:12.276Z"
   },
   {
    "duration": 12,
    "start_time": "2021-06-16T12:22:12.291Z"
   },
   {
    "duration": 1058,
    "start_time": "2021-06-16T12:22:12.306Z"
   },
   {
    "duration": 10,
    "start_time": "2021-06-16T12:22:13.367Z"
   },
   {
    "duration": 12,
    "start_time": "2021-06-16T12:22:13.380Z"
   },
   {
    "duration": 12,
    "start_time": "2021-06-16T12:22:13.394Z"
   },
   {
    "duration": 5,
    "start_time": "2021-06-16T12:22:13.409Z"
   },
   {
    "duration": 397,
    "start_time": "2021-06-16T12:22:13.416Z"
   },
   {
    "duration": 795,
    "start_time": "2021-06-16T12:22:13.816Z"
   },
   {
    "duration": 756,
    "start_time": "2021-06-16T12:25:40.523Z"
   },
   {
    "duration": 737,
    "start_time": "2021-06-16T12:25:50.487Z"
   },
   {
    "duration": 72,
    "start_time": "2021-06-16T12:30:04.189Z"
   },
   {
    "duration": 10,
    "start_time": "2021-06-16T12:34:21.467Z"
   },
   {
    "duration": 853,
    "start_time": "2021-06-16T12:34:33.976Z"
   },
   {
    "duration": 801,
    "start_time": "2021-06-16T12:36:27.525Z"
   },
   {
    "duration": 154,
    "start_time": "2021-06-16T12:36:28.328Z"
   },
   {
    "duration": 15,
    "start_time": "2021-06-16T12:36:28.485Z"
   },
   {
    "duration": 126,
    "start_time": "2021-06-16T12:36:28.503Z"
   },
   {
    "duration": 25,
    "start_time": "2021-06-16T12:36:28.631Z"
   },
   {
    "duration": 18,
    "start_time": "2021-06-16T12:36:28.659Z"
   },
   {
    "duration": 18,
    "start_time": "2021-06-16T12:36:28.679Z"
   },
   {
    "duration": 12,
    "start_time": "2021-06-16T12:36:28.701Z"
   },
   {
    "duration": 14,
    "start_time": "2021-06-16T12:36:28.715Z"
   },
   {
    "duration": 24,
    "start_time": "2021-06-16T12:36:28.731Z"
   },
   {
    "duration": 10,
    "start_time": "2021-06-16T12:36:28.758Z"
   },
   {
    "duration": 13,
    "start_time": "2021-06-16T12:36:28.770Z"
   },
   {
    "duration": 671,
    "start_time": "2021-06-16T12:36:28.786Z"
   },
   {
    "duration": 11,
    "start_time": "2021-06-16T12:36:29.459Z"
   },
   {
    "duration": 8,
    "start_time": "2021-06-16T12:36:29.472Z"
   },
   {
    "duration": 703,
    "start_time": "2021-06-16T12:36:29.482Z"
   },
   {
    "duration": 15,
    "start_time": "2021-06-16T12:36:30.187Z"
   },
   {
    "duration": 17,
    "start_time": "2021-06-16T12:36:30.204Z"
   },
   {
    "duration": 33,
    "start_time": "2021-06-16T12:36:30.223Z"
   },
   {
    "duration": 6,
    "start_time": "2021-06-16T12:36:30.259Z"
   },
   {
    "duration": 376,
    "start_time": "2021-06-16T12:36:30.267Z"
   },
   {
    "duration": 802,
    "start_time": "2021-06-16T12:36:30.645Z"
   },
   {
    "duration": 20,
    "start_time": "2021-06-16T12:50:41.049Z"
   },
   {
    "duration": 12,
    "start_time": "2021-06-16T12:50:47.700Z"
   },
   {
    "duration": 763,
    "start_time": "2021-06-16T13:33:58.531Z"
   },
   {
    "duration": 159,
    "start_time": "2021-06-16T13:33:59.297Z"
   },
   {
    "duration": 23,
    "start_time": "2021-06-16T13:33:59.460Z"
   },
   {
    "duration": 164,
    "start_time": "2021-06-16T13:33:59.487Z"
   },
   {
    "duration": 13,
    "start_time": "2021-06-16T13:33:59.656Z"
   },
   {
    "duration": 24,
    "start_time": "2021-06-16T13:33:59.672Z"
   },
   {
    "duration": 11,
    "start_time": "2021-06-16T13:33:59.699Z"
   },
   {
    "duration": 43,
    "start_time": "2021-06-16T13:33:59.714Z"
   },
   {
    "duration": 16,
    "start_time": "2021-06-16T13:33:59.760Z"
   },
   {
    "duration": 6,
    "start_time": "2021-06-16T13:33:59.779Z"
   },
   {
    "duration": 14,
    "start_time": "2021-06-16T13:33:59.787Z"
   },
   {
    "duration": 52,
    "start_time": "2021-06-16T13:33:59.804Z"
   },
   {
    "duration": 806,
    "start_time": "2021-06-16T13:33:59.858Z"
   },
   {
    "duration": 11,
    "start_time": "2021-06-16T13:34:00.666Z"
   },
   {
    "duration": 16,
    "start_time": "2021-06-16T13:34:00.680Z"
   },
   {
    "duration": 889,
    "start_time": "2021-06-16T13:34:00.698Z"
   },
   {
    "duration": 15,
    "start_time": "2021-06-16T13:34:01.590Z"
   },
   {
    "duration": 18,
    "start_time": "2021-06-16T13:34:01.607Z"
   },
   {
    "duration": 34,
    "start_time": "2021-06-16T13:34:01.627Z"
   },
   {
    "duration": 5,
    "start_time": "2021-06-16T13:34:01.665Z"
   },
   {
    "duration": 440,
    "start_time": "2021-06-16T13:34:01.673Z"
   },
   {
    "duration": 943,
    "start_time": "2021-06-16T13:34:02.115Z"
   },
   {
    "duration": 7,
    "start_time": "2021-06-16T13:41:08.500Z"
   },
   {
    "duration": 95,
    "start_time": "2021-06-16T13:41:16.119Z"
   },
   {
    "duration": 332,
    "start_time": "2021-06-18T08:49:39.117Z"
   },
   {
    "duration": 672,
    "start_time": "2021-06-18T08:49:45.727Z"
   },
   {
    "duration": 144,
    "start_time": "2021-06-18T08:49:46.402Z"
   },
   {
    "duration": 17,
    "start_time": "2021-06-18T08:49:46.550Z"
   },
   {
    "duration": 112,
    "start_time": "2021-06-18T08:49:46.583Z"
   },
   {
    "duration": 15,
    "start_time": "2021-06-18T08:49:46.698Z"
   },
   {
    "duration": 20,
    "start_time": "2021-06-18T08:49:46.715Z"
   },
   {
    "duration": 47,
    "start_time": "2021-06-18T08:49:46.737Z"
   },
   {
    "duration": 8,
    "start_time": "2021-06-18T08:49:46.787Z"
   },
   {
    "duration": 12,
    "start_time": "2021-06-18T08:49:46.800Z"
   },
   {
    "duration": 5,
    "start_time": "2021-06-18T08:49:46.816Z"
   },
   {
    "duration": 17,
    "start_time": "2021-06-18T08:49:46.824Z"
   },
   {
    "duration": 51,
    "start_time": "2021-06-18T08:49:46.843Z"
   },
   {
    "duration": 636,
    "start_time": "2021-06-18T08:49:46.897Z"
   },
   {
    "duration": 16,
    "start_time": "2021-06-18T08:49:47.535Z"
   },
   {
    "duration": 33,
    "start_time": "2021-06-18T08:49:47.553Z"
   },
   {
    "duration": 620,
    "start_time": "2021-06-18T08:49:47.589Z"
   },
   {
    "duration": 12,
    "start_time": "2021-06-18T08:49:48.211Z"
   },
   {
    "duration": 12,
    "start_time": "2021-06-18T08:49:48.225Z"
   },
   {
    "duration": 6,
    "start_time": "2021-06-18T08:49:48.239Z"
   },
   {
    "duration": 372,
    "start_time": "2021-06-18T08:49:48.247Z"
   },
   {
    "duration": 810,
    "start_time": "2021-06-18T08:49:48.622Z"
   },
   {
    "duration": 6,
    "start_time": "2021-06-18T08:49:49.435Z"
   },
   {
    "duration": 86,
    "start_time": "2021-06-18T08:49:49.443Z"
   },
   {
    "duration": 384,
    "start_time": "2021-06-18T08:49:49.532Z"
   },
   {
    "duration": 597,
    "start_time": "2021-06-18T08:55:31.542Z"
   },
   {
    "duration": 565,
    "start_time": "2021-06-18T08:55:55.430Z"
   },
   {
    "duration": 923,
    "start_time": "2021-06-18T08:56:17.437Z"
   },
   {
    "duration": 540,
    "start_time": "2021-06-18T08:56:22.671Z"
   },
   {
    "duration": 3024,
    "start_time": "2021-06-18T08:56:26.397Z"
   },
   {
    "duration": 3173,
    "start_time": "2021-06-18T08:56:43.573Z"
   },
   {
    "duration": 2700,
    "start_time": "2021-06-18T08:56:53.470Z"
   },
   {
    "duration": 2896,
    "start_time": "2021-06-18T08:57:06.502Z"
   },
   {
    "duration": 688,
    "start_time": "2021-06-18T08:57:18.385Z"
   },
   {
    "duration": 552,
    "start_time": "2021-06-18T08:57:51.438Z"
   },
   {
    "duration": 504,
    "start_time": "2021-06-18T09:00:49.523Z"
   },
   {
    "duration": 502,
    "start_time": "2021-06-18T09:01:28.274Z"
   },
   {
    "duration": 6,
    "start_time": "2021-06-18T09:01:54.160Z"
   },
   {
    "duration": 5,
    "start_time": "2021-06-18T09:02:08.920Z"
   },
   {
    "duration": 538,
    "start_time": "2021-06-18T09:02:20.131Z"
   },
   {
    "duration": 512,
    "start_time": "2021-06-18T09:02:48.248Z"
   },
   {
    "duration": 518,
    "start_time": "2021-06-18T09:02:54.874Z"
   },
   {
    "duration": 418,
    "start_time": "2021-06-18T09:03:42.002Z"
   },
   {
    "duration": 555,
    "start_time": "2021-06-18T09:04:10.196Z"
   },
   {
    "duration": 634,
    "start_time": "2021-06-18T09:05:31.483Z"
   },
   {
    "duration": 634,
    "start_time": "2021-06-18T09:05:49.395Z"
   },
   {
    "duration": 502,
    "start_time": "2021-06-18T09:06:06.971Z"
   },
   {
    "duration": 730,
    "start_time": "2021-06-18T09:06:50.947Z"
   },
   {
    "duration": 627,
    "start_time": "2021-06-18T09:07:50.788Z"
   },
   {
    "duration": 7,
    "start_time": "2021-06-18T09:09:29.005Z"
   },
   {
    "duration": 673,
    "start_time": "2021-06-18T09:09:44.230Z"
   },
   {
    "duration": 626,
    "start_time": "2021-06-18T09:09:55.894Z"
   },
   {
    "duration": 626,
    "start_time": "2021-06-18T09:10:06.375Z"
   },
   {
    "duration": 651,
    "start_time": "2021-06-18T09:15:48.105Z"
   },
   {
    "duration": 397,
    "start_time": "2021-06-18T11:34:09.191Z"
   },
   {
    "duration": 791,
    "start_time": "2021-06-18T11:34:14.226Z"
   },
   {
    "duration": 161,
    "start_time": "2021-06-18T11:34:15.020Z"
   },
   {
    "duration": 17,
    "start_time": "2021-06-18T11:34:15.184Z"
   },
   {
    "duration": 133,
    "start_time": "2021-06-18T11:34:15.204Z"
   },
   {
    "duration": 26,
    "start_time": "2021-06-18T11:34:15.340Z"
   },
   {
    "duration": 21,
    "start_time": "2021-06-18T11:34:15.369Z"
   },
   {
    "duration": 26,
    "start_time": "2021-06-18T11:34:15.392Z"
   },
   {
    "duration": 7,
    "start_time": "2021-06-18T11:34:15.422Z"
   },
   {
    "duration": 25,
    "start_time": "2021-06-18T11:34:15.431Z"
   },
   {
    "duration": 5,
    "start_time": "2021-06-18T11:34:15.462Z"
   },
   {
    "duration": 27,
    "start_time": "2021-06-18T11:34:15.470Z"
   },
   {
    "duration": 19,
    "start_time": "2021-06-18T11:34:15.500Z"
   },
   {
    "duration": 674,
    "start_time": "2021-06-18T11:34:15.521Z"
   },
   {
    "duration": 14,
    "start_time": "2021-06-18T11:34:16.198Z"
   },
   {
    "duration": 21,
    "start_time": "2021-06-18T11:34:16.215Z"
   },
   {
    "duration": 1207,
    "start_time": "2021-06-18T11:34:16.238Z"
   },
   {
    "duration": 22,
    "start_time": "2021-06-18T11:34:17.449Z"
   },
   {
    "duration": 38,
    "start_time": "2021-06-18T11:34:17.474Z"
   },
   {
    "duration": 22,
    "start_time": "2021-06-18T11:34:17.515Z"
   },
   {
    "duration": 660,
    "start_time": "2021-06-18T11:34:17.540Z"
   },
   {
    "duration": 1411,
    "start_time": "2021-06-18T11:34:18.203Z"
   },
   {
    "duration": 7,
    "start_time": "2021-06-18T11:34:19.617Z"
   },
   {
    "duration": 86,
    "start_time": "2021-06-18T11:34:19.628Z"
   },
   {
    "duration": 1098,
    "start_time": "2021-06-18T11:34:19.716Z"
   },
   {
    "duration": 6,
    "start_time": "2021-06-18T11:34:20.816Z"
   },
   {
    "duration": 1409,
    "start_time": "2021-06-18T12:13:48.266Z"
   },
   {
    "duration": 1180,
    "start_time": "2021-06-18T12:14:02.739Z"
   },
   {
    "duration": 933,
    "start_time": "2021-06-18T12:15:49.424Z"
   },
   {
    "duration": 667,
    "start_time": "2021-06-18T12:16:02.320Z"
   },
   {
    "duration": 6,
    "start_time": "2021-06-18T12:16:23.826Z"
   },
   {
    "duration": 698,
    "start_time": "2021-06-18T12:16:32.091Z"
   },
   {
    "duration": 1047,
    "start_time": "2021-06-18T12:16:53.378Z"
   },
   {
    "duration": 7,
    "start_time": "2021-06-18T12:33:51.482Z"
   },
   {
    "duration": 686,
    "start_time": "2021-06-18T12:34:51.881Z"
   },
   {
    "duration": 669,
    "start_time": "2021-06-18T12:36:03.021Z"
   },
   {
    "duration": 6,
    "start_time": "2021-06-18T12:36:26.253Z"
   },
   {
    "duration": 943,
    "start_time": "2021-06-18T12:37:49.057Z"
   },
   {
    "duration": 1112,
    "start_time": "2021-06-18T12:38:04.687Z"
   },
   {
    "duration": 491,
    "start_time": "2021-06-18T12:38:13.302Z"
   },
   {
    "duration": 573,
    "start_time": "2021-06-18T12:38:32.839Z"
   },
   {
    "duration": 548,
    "start_time": "2021-06-18T12:38:54.288Z"
   },
   {
    "duration": 430,
    "start_time": "2021-06-18T12:39:09.263Z"
   },
   {
    "duration": 429,
    "start_time": "2021-06-18T12:39:19.456Z"
   },
   {
    "duration": 467,
    "start_time": "2021-06-18T12:39:29.169Z"
   },
   {
    "duration": 6,
    "start_time": "2021-06-18T12:39:55.848Z"
   },
   {
    "duration": 475,
    "start_time": "2021-06-18T12:40:02.532Z"
   },
   {
    "duration": 631,
    "start_time": "2021-06-18T12:40:21.377Z"
   },
   {
    "duration": 608,
    "start_time": "2021-06-18T12:40:28.384Z"
   },
   {
    "duration": 637,
    "start_time": "2021-06-18T12:40:41.736Z"
   },
   {
    "duration": 641,
    "start_time": "2021-06-18T12:41:01.256Z"
   },
   {
    "duration": 635,
    "start_time": "2021-06-18T12:41:08.980Z"
   },
   {
    "duration": 614,
    "start_time": "2021-06-18T12:41:23.002Z"
   },
   {
    "duration": 618,
    "start_time": "2021-06-18T12:59:31.588Z"
   },
   {
    "duration": 837,
    "start_time": "2021-06-18T12:59:53.287Z"
   },
   {
    "duration": 570,
    "start_time": "2021-06-18T13:00:01.244Z"
   },
   {
    "duration": 8,
    "start_time": "2021-06-18T13:00:33.293Z"
   },
   {
    "duration": 404,
    "start_time": "2021-06-18T13:00:52.885Z"
   },
   {
    "duration": 533,
    "start_time": "2021-06-18T13:01:13.465Z"
   },
   {
    "duration": 565,
    "start_time": "2021-06-18T13:01:25.049Z"
   },
   {
    "duration": 605,
    "start_time": "2021-06-18T13:02:13.069Z"
   },
   {
    "duration": 550,
    "start_time": "2021-06-18T13:02:26.621Z"
   },
   {
    "duration": 661,
    "start_time": "2021-06-18T13:03:13.184Z"
   },
   {
    "duration": 1306,
    "start_time": "2021-06-18T13:03:25.102Z"
   },
   {
    "duration": 669,
    "start_time": "2021-06-18T13:03:29.415Z"
   },
   {
    "duration": 544,
    "start_time": "2021-06-18T13:03:41.590Z"
   },
   {
    "duration": 561,
    "start_time": "2021-06-18T13:08:53.826Z"
   },
   {
    "duration": 566,
    "start_time": "2021-06-18T13:09:04.459Z"
   },
   {
    "duration": 572,
    "start_time": "2021-06-18T13:10:16.101Z"
   },
   {
    "duration": 535,
    "start_time": "2021-06-18T13:10:24.675Z"
   },
   {
    "duration": 504,
    "start_time": "2021-06-18T13:38:00.421Z"
   },
   {
    "duration": 4,
    "start_time": "2021-06-18T13:39:13.220Z"
   },
   {
    "duration": 1310,
    "start_time": "2021-06-18T13:44:34.423Z"
   },
   {
    "duration": 321,
    "start_time": "2021-06-18T13:44:59.776Z"
   },
   {
    "duration": 1282,
    "start_time": "2021-06-18T13:45:29.016Z"
   },
   {
    "duration": 1451,
    "start_time": "2021-06-18T13:45:49.864Z"
   },
   {
    "duration": 4,
    "start_time": "2021-06-18T13:47:36.749Z"
   },
   {
    "duration": 169,
    "start_time": "2021-06-18T13:47:36.756Z"
   },
   {
    "duration": 15,
    "start_time": "2021-06-18T13:47:36.928Z"
   },
   {
    "duration": 112,
    "start_time": "2021-06-18T13:47:36.962Z"
   },
   {
    "duration": 12,
    "start_time": "2021-06-18T13:47:37.076Z"
   },
   {
    "duration": 18,
    "start_time": "2021-06-18T13:47:37.090Z"
   },
   {
    "duration": 15,
    "start_time": "2021-06-18T13:47:37.112Z"
   },
   {
    "duration": 34,
    "start_time": "2021-06-18T13:47:37.130Z"
   },
   {
    "duration": 12,
    "start_time": "2021-06-18T13:47:37.167Z"
   },
   {
    "duration": 5,
    "start_time": "2021-06-18T13:47:37.181Z"
   },
   {
    "duration": 14,
    "start_time": "2021-06-18T13:47:37.188Z"
   },
   {
    "duration": 6,
    "start_time": "2021-06-18T13:47:37.204Z"
   },
   {
    "duration": 874,
    "start_time": "2021-06-18T13:47:37.212Z"
   },
   {
    "duration": 13,
    "start_time": "2021-06-18T13:47:38.088Z"
   },
   {
    "duration": 11,
    "start_time": "2021-06-18T13:47:38.104Z"
   },
   {
    "duration": 740,
    "start_time": "2021-06-18T13:47:38.117Z"
   },
   {
    "duration": 12,
    "start_time": "2021-06-18T13:47:38.859Z"
   },
   {
    "duration": 20,
    "start_time": "2021-06-18T13:47:38.874Z"
   },
   {
    "duration": 6,
    "start_time": "2021-06-18T13:47:38.898Z"
   },
   {
    "duration": 866,
    "start_time": "2021-06-18T13:47:38.906Z"
   },
   {
    "duration": 1155,
    "start_time": "2021-06-18T13:47:39.774Z"
   },
   {
    "duration": 7,
    "start_time": "2021-06-18T13:47:40.931Z"
   },
   {
    "duration": 102,
    "start_time": "2021-06-18T13:47:40.940Z"
   },
   {
    "duration": 688,
    "start_time": "2021-06-18T13:47:41.044Z"
   },
   {
    "duration": 1008,
    "start_time": "2021-06-18T13:47:41.735Z"
   },
   {
    "duration": 460,
    "start_time": "2021-06-18T13:47:42.746Z"
   },
   {
    "duration": 556,
    "start_time": "2021-06-18T13:47:43.208Z"
   },
   {
    "duration": 514,
    "start_time": "2021-06-18T13:47:43.767Z"
   },
   {
    "duration": 6,
    "start_time": "2021-06-18T13:47:44.283Z"
   },
   {
    "duration": 17,
    "start_time": "2021-06-18T13:47:44.292Z"
   },
   {
    "duration": 881,
    "start_time": "2021-06-18T13:52:04.915Z"
   },
   {
    "duration": 703,
    "start_time": "2021-06-18T13:52:36.252Z"
   },
   {
    "duration": 659,
    "start_time": "2021-06-18T13:59:20.905Z"
   },
   {
    "duration": 718,
    "start_time": "2021-06-18T14:00:43.849Z"
   },
   {
    "duration": 684,
    "start_time": "2021-06-18T14:02:12.059Z"
   },
   {
    "duration": 683,
    "start_time": "2021-06-18T14:02:20.946Z"
   },
   {
    "duration": 6,
    "start_time": "2021-06-18T14:02:34.156Z"
   },
   {
    "duration": 689,
    "start_time": "2021-06-18T14:02:55.075Z"
   },
   {
    "duration": 12,
    "start_time": "2021-06-18T14:09:55.583Z"
   },
   {
    "duration": 6,
    "start_time": "2021-06-18T14:10:21.727Z"
   },
   {
    "duration": 417,
    "start_time": "2021-06-21T08:01:06.468Z"
   },
   {
    "duration": 867,
    "start_time": "2021-06-21T08:01:13.487Z"
   },
   {
    "duration": 147,
    "start_time": "2021-06-21T08:01:14.357Z"
   },
   {
    "duration": 26,
    "start_time": "2021-06-21T08:01:14.507Z"
   },
   {
    "duration": 128,
    "start_time": "2021-06-21T08:01:14.536Z"
   },
   {
    "duration": 14,
    "start_time": "2021-06-21T08:01:14.666Z"
   },
   {
    "duration": 41,
    "start_time": "2021-06-21T08:01:14.683Z"
   },
   {
    "duration": 14,
    "start_time": "2021-06-21T08:01:14.727Z"
   },
   {
    "duration": 7,
    "start_time": "2021-06-21T08:01:14.746Z"
   },
   {
    "duration": 11,
    "start_time": "2021-06-21T08:01:14.756Z"
   },
   {
    "duration": 5,
    "start_time": "2021-06-21T08:01:14.769Z"
   },
   {
    "duration": 60,
    "start_time": "2021-06-21T08:01:14.777Z"
   },
   {
    "duration": 14,
    "start_time": "2021-06-21T08:01:14.839Z"
   },
   {
    "duration": 690,
    "start_time": "2021-06-21T08:01:14.856Z"
   },
   {
    "duration": 12,
    "start_time": "2021-06-21T08:01:15.549Z"
   },
   {
    "duration": 12,
    "start_time": "2021-06-21T08:01:15.564Z"
   },
   {
    "duration": 860,
    "start_time": "2021-06-21T08:01:15.578Z"
   },
   {
    "duration": 19,
    "start_time": "2021-06-21T08:01:16.442Z"
   },
   {
    "duration": 27,
    "start_time": "2021-06-21T08:01:16.464Z"
   },
   {
    "duration": 8,
    "start_time": "2021-06-21T08:01:16.494Z"
   },
   {
    "duration": 677,
    "start_time": "2021-06-21T08:01:16.504Z"
   },
   {
    "duration": 840,
    "start_time": "2021-06-21T08:01:17.184Z"
   },
   {
    "duration": 6,
    "start_time": "2021-06-21T08:01:18.026Z"
   },
   {
    "duration": 93,
    "start_time": "2021-06-21T08:01:18.037Z"
   },
   {
    "duration": 799,
    "start_time": "2021-06-21T08:01:18.133Z"
   },
   {
    "duration": 1835,
    "start_time": "2021-06-21T08:01:18.935Z"
   },
   {
    "duration": 1099,
    "start_time": "2021-06-21T08:01:20.772Z"
   },
   {
    "duration": 428,
    "start_time": "2021-06-21T08:01:21.874Z"
   },
   {
    "duration": 524,
    "start_time": "2021-06-21T08:01:22.304Z"
   },
   {
    "duration": 1069,
    "start_time": "2021-06-21T08:01:22.831Z"
   },
   {
    "duration": 22,
    "start_time": "2021-06-21T08:01:23.903Z"
   },
   {
    "duration": 8,
    "start_time": "2021-06-21T08:01:23.928Z"
   },
   {
    "duration": 8,
    "start_time": "2021-06-21T08:09:00.366Z"
   },
   {
    "duration": 7,
    "start_time": "2021-06-21T08:09:18.752Z"
   },
   {
    "duration": 7,
    "start_time": "2021-06-21T08:09:25.021Z"
   },
   {
    "duration": 8,
    "start_time": "2021-06-21T08:16:47.978Z"
   },
   {
    "duration": 8,
    "start_time": "2021-06-21T08:18:04.458Z"
   },
   {
    "duration": 7,
    "start_time": "2021-06-21T08:18:11.890Z"
   },
   {
    "duration": 9,
    "start_time": "2021-06-21T08:19:07.684Z"
   },
   {
    "duration": 313,
    "start_time": "2021-06-21T08:21:51.500Z"
   },
   {
    "duration": 12,
    "start_time": "2021-06-21T08:23:05.039Z"
   },
   {
    "duration": 769,
    "start_time": "2021-06-21T08:23:49.526Z"
   },
   {
    "duration": 22,
    "start_time": "2021-06-21T08:23:55.705Z"
   },
   {
    "duration": 9,
    "start_time": "2021-06-21T08:24:53.768Z"
   },
   {
    "duration": 670,
    "start_time": "2021-06-21T08:32:55.740Z"
   },
   {
    "duration": 774,
    "start_time": "2021-06-21T08:33:09.564Z"
   },
   {
    "duration": 689,
    "start_time": "2021-06-21T08:33:41.428Z"
   },
   {
    "duration": 689,
    "start_time": "2021-06-21T08:35:53.601Z"
   },
   {
    "duration": 1010,
    "start_time": "2021-06-21T08:38:42.217Z"
   },
   {
    "duration": 1070,
    "start_time": "2021-06-21T08:39:00.544Z"
   },
   {
    "duration": 549,
    "start_time": "2021-06-21T08:41:02.336Z"
   },
   {
    "duration": 545,
    "start_time": "2021-06-21T09:15:44.492Z"
   },
   {
    "duration": 96,
    "start_time": "2021-06-21T09:19:04.938Z"
   },
   {
    "duration": 89,
    "start_time": "2021-06-21T09:19:23.952Z"
   },
   {
    "duration": 16,
    "start_time": "2021-06-21T09:19:55.586Z"
   },
   {
    "duration": 88,
    "start_time": "2021-06-21T09:22:10.141Z"
   },
   {
    "duration": 17,
    "start_time": "2021-06-21T09:22:19.724Z"
   },
   {
    "duration": 109,
    "start_time": "2021-06-21T09:29:12.831Z"
   },
   {
    "duration": 93,
    "start_time": "2021-06-21T09:29:46.127Z"
   },
   {
    "duration": 791,
    "start_time": "2021-06-21T09:29:54.876Z"
   },
   {
    "duration": 144,
    "start_time": "2021-06-21T09:29:55.670Z"
   },
   {
    "duration": 15,
    "start_time": "2021-06-21T09:29:55.824Z"
   },
   {
    "duration": 117,
    "start_time": "2021-06-21T09:29:55.842Z"
   },
   {
    "duration": 16,
    "start_time": "2021-06-21T09:29:55.962Z"
   },
   {
    "duration": 23,
    "start_time": "2021-06-21T09:29:55.981Z"
   },
   {
    "duration": 16,
    "start_time": "2021-06-21T09:29:56.025Z"
   },
   {
    "duration": 7,
    "start_time": "2021-06-21T09:29:56.045Z"
   },
   {
    "duration": 11,
    "start_time": "2021-06-21T09:29:56.055Z"
   },
   {
    "duration": 5,
    "start_time": "2021-06-21T09:29:56.068Z"
   },
   {
    "duration": 50,
    "start_time": "2021-06-21T09:29:56.075Z"
   },
   {
    "duration": 13,
    "start_time": "2021-06-21T09:29:56.128Z"
   },
   {
    "duration": 670,
    "start_time": "2021-06-21T09:29:56.143Z"
   },
   {
    "duration": 17,
    "start_time": "2021-06-21T09:29:56.816Z"
   },
   {
    "duration": 7,
    "start_time": "2021-06-21T09:29:56.835Z"
   },
   {
    "duration": 1090,
    "start_time": "2021-06-21T09:29:56.844Z"
   },
   {
    "duration": 11,
    "start_time": "2021-06-21T09:29:57.936Z"
   },
   {
    "duration": 15,
    "start_time": "2021-06-21T09:29:57.950Z"
   },
   {
    "duration": 6,
    "start_time": "2021-06-21T09:29:57.967Z"
   },
   {
    "duration": 428,
    "start_time": "2021-06-21T09:29:57.975Z"
   },
   {
    "duration": 869,
    "start_time": "2021-06-21T09:29:58.405Z"
   },
   {
    "duration": 6,
    "start_time": "2021-06-21T09:29:59.277Z"
   },
   {
    "duration": 86,
    "start_time": "2021-06-21T09:29:59.288Z"
   },
   {
    "duration": 696,
    "start_time": "2021-06-21T09:29:59.377Z"
   },
   {
    "duration": 10,
    "start_time": "2021-06-21T09:30:00.076Z"
   },
   {
    "duration": 1128,
    "start_time": "2021-06-21T09:30:00.089Z"
   },
   {
    "duration": 11,
    "start_time": "2021-06-21T09:30:01.219Z"
   },
   {
    "duration": 575,
    "start_time": "2021-06-21T09:30:01.233Z"
   },
   {
    "duration": 15,
    "start_time": "2021-06-21T09:30:01.811Z"
   },
   {
    "duration": 774,
    "start_time": "2021-06-21T09:30:01.828Z"
   },
   {
    "duration": 22,
    "start_time": "2021-06-21T09:30:02.605Z"
   },
   {
    "duration": 757,
    "start_time": "2021-06-21T09:30:02.630Z"
   },
   {
    "duration": 664,
    "start_time": "2021-06-21T09:30:03.389Z"
   },
   {
    "duration": 8,
    "start_time": "2021-06-21T09:30:04.056Z"
   },
   {
    "duration": 100,
    "start_time": "2021-06-21T09:30:04.066Z"
   },
   {
    "duration": 712,
    "start_time": "2021-06-21T09:32:31.337Z"
   },
   {
    "duration": 97,
    "start_time": "2021-06-21T09:33:01.915Z"
   },
   {
    "duration": 19,
    "start_time": "2021-06-21T09:33:15.393Z"
   },
   {
    "duration": 20,
    "start_time": "2021-06-21T09:33:30.193Z"
   },
   {
    "duration": 117,
    "start_time": "2021-06-21T09:34:10.155Z"
   },
   {
    "duration": 70,
    "start_time": "2021-06-21T09:47:36.969Z"
   },
   {
    "duration": 66,
    "start_time": "2021-06-21T09:47:48.089Z"
   },
   {
    "duration": 743,
    "start_time": "2021-06-21T09:49:48.740Z"
   },
   {
    "duration": 749,
    "start_time": "2021-06-21T09:50:07.749Z"
   },
   {
    "duration": 732,
    "start_time": "2021-06-21T09:50:23.260Z"
   },
   {
    "duration": 652,
    "start_time": "2021-06-21T09:50:51.704Z"
   },
   {
    "duration": 28,
    "start_time": "2021-06-21T09:52:05.567Z"
   },
   {
    "duration": 26,
    "start_time": "2021-06-21T09:53:05.762Z"
   },
   {
    "duration": 28,
    "start_time": "2021-06-21T09:53:25.320Z"
   },
   {
    "duration": 18,
    "start_time": "2021-06-21T09:54:51.407Z"
   },
   {
    "duration": 402,
    "start_time": "2021-06-21T09:55:58.442Z"
   },
   {
    "duration": 320,
    "start_time": "2021-06-21T09:56:19.297Z"
   },
   {
    "duration": 320,
    "start_time": "2021-06-21T10:01:19.547Z"
   },
   {
    "duration": 318,
    "start_time": "2021-06-21T10:01:27.957Z"
   },
   {
    "duration": 20,
    "start_time": "2021-06-21T10:01:47.155Z"
   },
   {
    "duration": 19,
    "start_time": "2021-06-21T10:02:22.605Z"
   },
   {
    "duration": 337,
    "start_time": "2021-06-21T10:03:42.912Z"
   },
   {
    "duration": 399,
    "start_time": "2021-06-21T10:04:27.352Z"
   },
   {
    "duration": 400,
    "start_time": "2021-06-21T10:10:17.961Z"
   },
   {
    "duration": 519,
    "start_time": "2021-06-21T10:11:10.450Z"
   },
   {
    "duration": 397,
    "start_time": "2021-06-21T10:11:34.236Z"
   },
   {
    "duration": 416,
    "start_time": "2021-06-21T10:12:47.089Z"
   },
   {
    "duration": 418,
    "start_time": "2021-06-21T10:12:58.724Z"
   },
   {
    "duration": 420,
    "start_time": "2021-06-21T10:13:24.050Z"
   },
   {
    "duration": 559,
    "start_time": "2021-06-21T10:14:00.596Z"
   },
   {
    "duration": 534,
    "start_time": "2021-06-21T10:14:26.893Z"
   },
   {
    "duration": 458,
    "start_time": "2021-06-21T10:14:34.108Z"
   },
   {
    "duration": 281,
    "start_time": "2021-06-21T10:14:48.075Z"
   },
   {
    "duration": 304,
    "start_time": "2021-06-21T10:16:08.901Z"
   },
   {
    "duration": 364,
    "start_time": "2021-06-21T10:38:09.786Z"
   },
   {
    "duration": 339,
    "start_time": "2021-06-21T10:38:52.966Z"
   },
   {
    "duration": 753,
    "start_time": "2021-06-21T10:43:04.317Z"
   },
   {
    "duration": 900,
    "start_time": "2021-06-21T10:47:00.447Z"
   },
   {
    "duration": 997,
    "start_time": "2021-06-21T10:50:11.201Z"
   },
   {
    "duration": 862,
    "start_time": "2021-06-21T10:51:26.162Z"
   },
   {
    "duration": 1160,
    "start_time": "2021-06-21T10:52:43.610Z"
   },
   {
    "duration": 482,
    "start_time": "2021-06-21T10:53:35.436Z"
   },
   {
    "duration": 660,
    "start_time": "2021-06-21T10:54:57.451Z"
   },
   {
    "duration": 324,
    "start_time": "2021-06-21T11:03:39.702Z"
   },
   {
    "duration": 317,
    "start_time": "2021-06-21T11:06:26.131Z"
   },
   {
    "duration": 315,
    "start_time": "2021-06-21T11:07:01.611Z"
   },
   {
    "duration": 306,
    "start_time": "2021-06-21T11:08:08.652Z"
   },
   {
    "duration": 301,
    "start_time": "2021-06-21T11:12:37.449Z"
   },
   {
    "duration": 11,
    "start_time": "2021-06-21T11:52:23.940Z"
   },
   {
    "duration": 291,
    "start_time": "2021-06-21T11:53:19.984Z"
   },
   {
    "duration": 7,
    "start_time": "2021-06-21T11:53:39.687Z"
   },
   {
    "duration": 304,
    "start_time": "2021-06-21T11:53:58.457Z"
   },
   {
    "duration": 324,
    "start_time": "2021-06-21T11:54:15.729Z"
   },
   {
    "duration": 424,
    "start_time": "2021-06-21T11:54:32.992Z"
   },
   {
    "duration": 18,
    "start_time": "2021-06-21T11:54:53.411Z"
   },
   {
    "duration": 24,
    "start_time": "2021-06-21T11:55:17.465Z"
   },
   {
    "duration": 19,
    "start_time": "2021-06-21T11:55:39.793Z"
   },
   {
    "duration": 301,
    "start_time": "2021-06-21T11:55:53.890Z"
   },
   {
    "duration": 287,
    "start_time": "2021-06-21T11:56:03.170Z"
   },
   {
    "duration": 19,
    "start_time": "2021-06-21T11:56:30.019Z"
   },
   {
    "duration": 19,
    "start_time": "2021-06-21T11:56:56.179Z"
   },
   {
    "duration": 299,
    "start_time": "2021-06-21T11:57:11.916Z"
   },
   {
    "duration": 290,
    "start_time": "2021-06-21T11:57:36.493Z"
   },
   {
    "duration": 426,
    "start_time": "2021-06-21T11:57:42.988Z"
   },
   {
    "duration": 351,
    "start_time": "2021-06-21T11:57:50.166Z"
   },
   {
    "duration": 333,
    "start_time": "2021-06-21T11:58:06.066Z"
   },
   {
    "duration": 271,
    "start_time": "2021-06-21T11:58:11.099Z"
   },
   {
    "duration": 289,
    "start_time": "2021-06-21T11:58:31.252Z"
   },
   {
    "duration": 19,
    "start_time": "2021-06-21T11:59:03.483Z"
   },
   {
    "duration": 277,
    "start_time": "2021-06-21T12:18:05.741Z"
   },
   {
    "duration": 443,
    "start_time": "2021-06-21T12:18:13.512Z"
   },
   {
    "duration": 312,
    "start_time": "2021-06-21T12:18:25.312Z"
   },
   {
    "duration": 19,
    "start_time": "2021-06-21T12:18:59.481Z"
   },
   {
    "duration": 445,
    "start_time": "2021-06-21T12:20:37.112Z"
   },
   {
    "duration": 430,
    "start_time": "2021-06-21T12:20:46.986Z"
   },
   {
    "duration": 456,
    "start_time": "2021-06-21T12:21:00.898Z"
   },
   {
    "duration": 319,
    "start_time": "2021-06-21T12:21:06.729Z"
   },
   {
    "duration": 325,
    "start_time": "2021-06-21T12:21:20.314Z"
   },
   {
    "duration": 296,
    "start_time": "2021-06-21T12:21:41.283Z"
   },
   {
    "duration": 291,
    "start_time": "2021-06-21T12:21:58.733Z"
   },
   {
    "duration": 271,
    "start_time": "2021-06-21T12:22:49.562Z"
   },
   {
    "duration": 214,
    "start_time": "2021-06-21T12:23:04.426Z"
   },
   {
    "duration": 502,
    "start_time": "2021-06-21T12:24:25.635Z"
   },
   {
    "duration": 344,
    "start_time": "2021-06-21T12:24:57.204Z"
   },
   {
    "duration": 372,
    "start_time": "2021-06-21T12:25:17.827Z"
   },
   {
    "duration": 366,
    "start_time": "2021-06-21T12:25:29.068Z"
   },
   {
    "duration": 386,
    "start_time": "2021-06-21T12:25:40.411Z"
   },
   {
    "duration": 458,
    "start_time": "2021-06-21T12:26:00.288Z"
   },
   {
    "duration": 362,
    "start_time": "2021-06-21T12:26:17.827Z"
   },
   {
    "duration": 1324,
    "start_time": "2021-06-21T12:28:33.837Z"
   },
   {
    "duration": 1126,
    "start_time": "2021-06-21T12:29:05.699Z"
   },
   {
    "duration": 4165,
    "start_time": "2021-06-21T12:29:31.935Z"
   },
   {
    "duration": 310,
    "start_time": "2021-06-21T12:29:46.650Z"
   },
   {
    "duration": 20,
    "start_time": "2021-06-21T12:40:11.629Z"
   },
   {
    "duration": 17,
    "start_time": "2021-06-21T12:40:51.813Z"
   },
   {
    "duration": 303,
    "start_time": "2021-06-21T12:41:02.158Z"
   },
   {
    "duration": 412,
    "start_time": "2021-06-21T12:41:24.292Z"
   },
   {
    "duration": 321,
    "start_time": "2021-06-21T12:42:02.222Z"
   },
   {
    "duration": 305,
    "start_time": "2021-06-21T12:43:05.437Z"
   },
   {
    "duration": 309,
    "start_time": "2021-06-21T12:43:27.111Z"
   },
   {
    "duration": 264,
    "start_time": "2021-06-21T12:43:44.663Z"
   },
   {
    "duration": 372,
    "start_time": "2021-06-21T12:43:51.600Z"
   },
   {
    "duration": 268,
    "start_time": "2021-06-21T12:43:57.344Z"
   },
   {
    "duration": 273,
    "start_time": "2021-06-21T12:44:09.226Z"
   },
   {
    "duration": 288,
    "start_time": "2021-06-21T12:44:20.886Z"
   },
   {
    "duration": 296,
    "start_time": "2021-06-21T12:44:26.087Z"
   },
   {
    "duration": 292,
    "start_time": "2021-06-21T12:44:34.100Z"
   },
   {
    "duration": 296,
    "start_time": "2021-06-21T12:44:46.656Z"
   },
   {
    "duration": 386,
    "start_time": "2021-06-21T12:44:52.887Z"
   },
   {
    "duration": 707,
    "start_time": "2021-06-21T12:45:00.249Z"
   },
   {
    "duration": 103,
    "start_time": "2021-06-21T12:45:53.552Z"
   },
   {
    "duration": 853,
    "start_time": "2021-06-21T12:46:00.512Z"
   },
   {
    "duration": 527,
    "start_time": "2021-06-21T12:46:24.140Z"
   },
   {
    "duration": 303,
    "start_time": "2021-06-21T12:46:28.672Z"
   },
   {
    "duration": 293,
    "start_time": "2021-06-21T12:46:50.033Z"
   },
   {
    "duration": 268,
    "start_time": "2021-06-21T12:56:21.912Z"
   },
   {
    "duration": 322,
    "start_time": "2021-06-21T12:56:31.102Z"
   },
   {
    "duration": 304,
    "start_time": "2021-06-21T12:57:54.703Z"
   },
   {
    "duration": 415,
    "start_time": "2021-06-21T12:58:34.945Z"
   },
   {
    "duration": 557,
    "start_time": "2021-06-21T12:58:42.577Z"
   },
   {
    "duration": 303,
    "start_time": "2021-06-21T12:59:17.921Z"
   },
   {
    "duration": 298,
    "start_time": "2021-06-21T12:59:38.697Z"
   },
   {
    "duration": 295,
    "start_time": "2021-06-21T13:01:04.905Z"
   },
   {
    "duration": 289,
    "start_time": "2021-06-21T13:01:49.274Z"
   },
   {
    "duration": 321,
    "start_time": "2021-06-21T13:02:05.233Z"
   },
   {
    "duration": 315,
    "start_time": "2021-06-21T13:02:33.082Z"
   },
   {
    "duration": 574,
    "start_time": "2021-06-21T13:27:09.153Z"
   },
   {
    "duration": 886,
    "start_time": "2021-06-21T13:27:33.154Z"
   },
   {
    "duration": 662,
    "start_time": "2021-06-21T13:28:22.986Z"
   },
   {
    "duration": 6580,
    "start_time": "2021-06-21T13:36:22.330Z"
   },
   {
    "duration": 270,
    "start_time": "2021-06-21T13:36:58.928Z"
   },
   {
    "duration": 306,
    "start_time": "2021-06-21T13:37:58.667Z"
   },
   {
    "duration": 405,
    "start_time": "2021-06-21T13:38:45.122Z"
   },
   {
    "duration": 785,
    "start_time": "2021-06-21T13:39:57.965Z"
   },
   {
    "duration": 585,
    "start_time": "2021-06-21T13:40:18.831Z"
   },
   {
    "duration": 303,
    "start_time": "2021-06-21T13:53:20.924Z"
   },
   {
    "duration": 297,
    "start_time": "2021-06-21T13:53:37.906Z"
   },
   {
    "duration": 66,
    "start_time": "2021-06-21T14:04:38.655Z"
   },
   {
    "duration": 19,
    "start_time": "2021-06-21T14:05:08.067Z"
   },
   {
    "duration": 18,
    "start_time": "2021-06-21T14:05:14.691Z"
   },
   {
    "duration": 632,
    "start_time": "2021-06-21T14:05:41.097Z"
   },
   {
    "duration": 285,
    "start_time": "2021-06-21T14:08:42.431Z"
   },
   {
    "duration": 258,
    "start_time": "2021-06-21T14:15:36.735Z"
   },
   {
    "duration": 283,
    "start_time": "2021-06-21T14:15:57.016Z"
   },
   {
    "duration": 692,
    "start_time": "2021-06-21T14:16:18.915Z"
   },
   {
    "duration": 453,
    "start_time": "2021-06-21T14:19:03.241Z"
   },
   {
    "duration": 277,
    "start_time": "2021-06-21T14:19:48.770Z"
   },
   {
    "duration": 16,
    "start_time": "2021-06-21T14:20:22.970Z"
   },
   {
    "duration": 71,
    "start_time": "2021-06-21T14:20:41.472Z"
   },
   {
    "duration": 16,
    "start_time": "2021-06-21T14:21:37.673Z"
   },
   {
    "duration": 16,
    "start_time": "2021-06-21T14:22:07.709Z"
   },
   {
    "duration": 17,
    "start_time": "2021-06-21T14:22:26.211Z"
   },
   {
    "duration": 367,
    "start_time": "2021-06-21T14:24:04.700Z"
   },
   {
    "duration": 346,
    "start_time": "2021-06-21T14:24:44.013Z"
   },
   {
    "duration": 351,
    "start_time": "2021-06-21T14:29:45.968Z"
   },
   {
    "duration": 331,
    "start_time": "2021-06-21T14:31:03.376Z"
   },
   {
    "duration": 660,
    "start_time": "2021-06-21T14:35:55.347Z"
   },
   {
    "duration": 691,
    "start_time": "2021-06-21T14:37:36.124Z"
   },
   {
    "duration": 669,
    "start_time": "2021-06-21T14:37:57.062Z"
   },
   {
    "duration": 660,
    "start_time": "2021-06-21T14:38:01.788Z"
   },
   {
    "duration": 339,
    "start_time": "2021-06-21T14:39:06.329Z"
   },
   {
    "duration": 480,
    "start_time": "2021-06-21T14:39:30.758Z"
   },
   {
    "duration": 618,
    "start_time": "2021-06-21T14:39:45.621Z"
   },
   {
    "duration": 610,
    "start_time": "2021-06-21T14:44:18.082Z"
   },
   {
    "duration": 597,
    "start_time": "2021-06-21T14:44:27.152Z"
   },
   {
    "duration": 607,
    "start_time": "2021-06-21T14:45:04.890Z"
   },
   {
    "duration": 283,
    "start_time": "2021-06-21T14:52:57.095Z"
   },
   {
    "duration": 527,
    "start_time": "2021-06-21T14:53:34.418Z"
   },
   {
    "duration": 275,
    "start_time": "2021-06-21T14:53:39.136Z"
   },
   {
    "duration": 1356,
    "start_time": "2021-06-21T14:54:14.391Z"
   },
   {
    "duration": 281,
    "start_time": "2021-06-21T14:54:47.136Z"
   },
   {
    "duration": 17,
    "start_time": "2021-06-21T14:56:48.817Z"
   },
   {
    "duration": 292,
    "start_time": "2021-06-21T14:57:18.083Z"
   },
   {
    "duration": 262,
    "start_time": "2021-06-21T14:57:22.712Z"
   },
   {
    "duration": 262,
    "start_time": "2021-06-21T14:57:25.272Z"
   },
   {
    "duration": 295,
    "start_time": "2021-06-21T15:00:40.731Z"
   },
   {
    "duration": 300,
    "start_time": "2021-06-21T15:01:10.724Z"
   },
   {
    "duration": 22,
    "start_time": "2021-06-21T15:05:14.287Z"
   },
   {
    "duration": 283,
    "start_time": "2021-06-21T15:05:33.521Z"
   },
   {
    "duration": 21,
    "start_time": "2021-06-21T15:05:51.077Z"
   },
   {
    "duration": 32,
    "start_time": "2021-06-21T15:06:07.334Z"
   },
   {
    "duration": 22,
    "start_time": "2021-06-21T15:06:32.159Z"
   },
   {
    "duration": 22,
    "start_time": "2021-06-21T15:06:40.985Z"
   },
   {
    "duration": 99,
    "start_time": "2021-06-21T15:09:26.419Z"
   },
   {
    "duration": 89,
    "start_time": "2021-06-21T15:09:41.928Z"
   },
   {
    "duration": 88,
    "start_time": "2021-06-21T15:09:49.864Z"
   },
   {
    "duration": 90,
    "start_time": "2021-06-21T15:09:59.496Z"
   },
   {
    "duration": 92,
    "start_time": "2021-06-21T15:10:32.300Z"
   },
   {
    "duration": 127,
    "start_time": "2021-06-21T15:10:46.097Z"
   },
   {
    "duration": 90,
    "start_time": "2021-06-21T15:10:52.371Z"
   },
   {
    "duration": 86,
    "start_time": "2021-06-21T15:11:00.348Z"
   },
   {
    "duration": 34,
    "start_time": "2021-06-21T15:11:06.393Z"
   },
   {
    "duration": 333,
    "start_time": "2021-06-21T15:11:35.403Z"
   },
   {
    "duration": 355,
    "start_time": "2021-06-21T15:11:51.291Z"
   },
   {
    "duration": 681,
    "start_time": "2021-06-21T15:14:06.708Z"
   },
   {
    "duration": 287,
    "start_time": "2021-06-21T15:14:13.552Z"
   },
   {
    "duration": 189,
    "start_time": "2021-06-21T15:14:33.324Z"
   },
   {
    "duration": 526,
    "start_time": "2021-06-21T15:15:27.821Z"
   },
   {
    "duration": 268,
    "start_time": "2021-06-21T15:15:31.144Z"
   },
   {
    "duration": 291,
    "start_time": "2021-06-21T15:16:08.165Z"
   },
   {
    "duration": 35,
    "start_time": "2021-06-21T15:16:26.190Z"
   },
   {
    "duration": 287,
    "start_time": "2021-06-21T15:21:33.096Z"
   },
   {
    "duration": 34,
    "start_time": "2021-06-21T15:35:10.725Z"
   },
   {
    "duration": 504,
    "start_time": "2021-06-21T15:37:54.722Z"
   },
   {
    "duration": 34,
    "start_time": "2021-06-21T15:38:20.668Z"
   },
   {
    "duration": 36,
    "start_time": "2021-06-21T15:38:50.261Z"
   },
   {
    "duration": 34,
    "start_time": "2021-06-21T15:39:13.208Z"
   },
   {
    "duration": 28,
    "start_time": "2021-06-21T15:39:56.428Z"
   },
   {
    "duration": 36,
    "start_time": "2021-06-21T15:40:05.980Z"
   },
   {
    "duration": 7,
    "start_time": "2021-06-21T15:47:46.087Z"
   },
   {
    "duration": 64,
    "start_time": "2021-06-21T15:47:54.814Z"
   },
   {
    "duration": 62,
    "start_time": "2021-06-21T15:49:08.771Z"
   },
   {
    "duration": 291,
    "start_time": "2021-06-21T15:49:17.282Z"
   },
   {
    "duration": 2391,
    "start_time": "2021-06-21T15:49:30.770Z"
   },
   {
    "duration": 65,
    "start_time": "2021-06-21T15:49:33.479Z"
   },
   {
    "duration": 75,
    "start_time": "2021-06-21T15:49:53.380Z"
   },
   {
    "duration": 78,
    "start_time": "2021-06-21T15:50:13.828Z"
   },
   {
    "duration": 81,
    "start_time": "2021-06-21T15:50:16.307Z"
   },
   {
    "duration": 406,
    "start_time": "2021-06-21T15:50:58.709Z"
   },
   {
    "duration": 72,
    "start_time": "2021-06-21T15:51:11.914Z"
   },
   {
    "duration": 4,
    "start_time": "2021-06-21T15:56:03.864Z"
   },
   {
    "duration": 67,
    "start_time": "2021-06-21T15:57:01.871Z"
   },
   {
    "duration": 20,
    "start_time": "2021-06-21T15:58:51.199Z"
   },
   {
    "duration": 305,
    "start_time": "2021-06-21T16:07:55.717Z"
   },
   {
    "duration": 359,
    "start_time": "2021-06-21T16:08:19.735Z"
   },
   {
    "duration": 299,
    "start_time": "2021-06-21T16:08:58.185Z"
   },
   {
    "duration": 284,
    "start_time": "2021-06-21T16:09:04.744Z"
   },
   {
    "duration": 22,
    "start_time": "2021-06-21T16:09:47.576Z"
   },
   {
    "duration": 31,
    "start_time": "2021-06-21T16:10:02.021Z"
   },
   {
    "duration": 319,
    "start_time": "2021-06-21T16:10:46.264Z"
   },
   {
    "duration": 28,
    "start_time": "2021-06-21T16:10:57.159Z"
   },
   {
    "duration": 308,
    "start_time": "2021-06-21T17:33:12.809Z"
   },
   {
    "duration": 30,
    "start_time": "2021-06-21T17:33:52.767Z"
   },
   {
    "duration": 312,
    "start_time": "2021-06-21T17:34:38.857Z"
   },
   {
    "duration": 296,
    "start_time": "2021-06-21T17:40:13.163Z"
   },
   {
    "duration": 310,
    "start_time": "2021-06-21T17:40:50.526Z"
   },
   {
    "duration": 8,
    "start_time": "2021-06-21T17:43:53.750Z"
   },
   {
    "duration": 8,
    "start_time": "2021-06-21T17:44:05.254Z"
   },
   {
    "duration": 8,
    "start_time": "2021-06-21T17:44:17.198Z"
   },
   {
    "duration": 16,
    "start_time": "2021-06-21T17:45:06.329Z"
   },
   {
    "duration": 833,
    "start_time": "2021-06-21T17:45:15.970Z"
   },
   {
    "duration": 149,
    "start_time": "2021-06-21T17:45:16.805Z"
   },
   {
    "duration": 16,
    "start_time": "2021-06-21T17:45:16.957Z"
   },
   {
    "duration": 125,
    "start_time": "2021-06-21T17:45:16.976Z"
   },
   {
    "duration": 23,
    "start_time": "2021-06-21T17:45:17.103Z"
   },
   {
    "duration": 18,
    "start_time": "2021-06-21T17:45:17.128Z"
   },
   {
    "duration": 17,
    "start_time": "2021-06-21T17:45:17.148Z"
   },
   {
    "duration": 6,
    "start_time": "2021-06-21T17:45:17.169Z"
   },
   {
    "duration": 11,
    "start_time": "2021-06-21T17:45:17.178Z"
   },
   {
    "duration": 5,
    "start_time": "2021-06-21T17:45:17.225Z"
   },
   {
    "duration": 16,
    "start_time": "2021-06-21T17:45:17.232Z"
   },
   {
    "duration": 15,
    "start_time": "2021-06-21T17:45:17.251Z"
   },
   {
    "duration": 685,
    "start_time": "2021-06-21T17:45:17.268Z"
   },
   {
    "duration": 15,
    "start_time": "2021-06-21T17:45:17.955Z"
   },
   {
    "duration": 9,
    "start_time": "2021-06-21T17:45:17.973Z"
   },
   {
    "duration": 694,
    "start_time": "2021-06-21T17:45:17.985Z"
   },
   {
    "duration": 11,
    "start_time": "2021-06-21T17:45:18.681Z"
   },
   {
    "duration": 36,
    "start_time": "2021-06-21T17:45:18.694Z"
   },
   {
    "duration": 13,
    "start_time": "2021-06-21T17:45:18.732Z"
   },
   {
    "duration": 435,
    "start_time": "2021-06-21T17:45:18.748Z"
   },
   {
    "duration": 772,
    "start_time": "2021-06-21T17:45:19.185Z"
   },
   {
    "duration": 6,
    "start_time": "2021-06-21T17:45:19.959Z"
   },
   {
    "duration": 691,
    "start_time": "2021-06-21T17:45:19.970Z"
   },
   {
    "duration": 7,
    "start_time": "2021-06-21T17:45:20.664Z"
   },
   {
    "duration": 999,
    "start_time": "2021-06-21T17:45:20.674Z"
   },
   {
    "duration": 8,
    "start_time": "2021-06-21T17:45:21.675Z"
   },
   {
    "duration": 464,
    "start_time": "2021-06-21T17:45:21.685Z"
   },
   {
    "duration": 6,
    "start_time": "2021-06-21T17:45:22.152Z"
   },
   {
    "duration": 521,
    "start_time": "2021-06-21T17:45:22.160Z"
   },
   {
    "duration": 7,
    "start_time": "2021-06-21T17:45:22.683Z"
   },
   {
    "duration": 744,
    "start_time": "2021-06-21T17:45:22.693Z"
   },
   {
    "duration": 620,
    "start_time": "2021-06-21T17:45:23.440Z"
   },
   {
    "duration": 9,
    "start_time": "2021-06-21T17:45:24.063Z"
   },
   {
    "duration": 23,
    "start_time": "2021-06-21T17:45:24.075Z"
   },
   {
    "duration": 772,
    "start_time": "2021-06-21T17:45:24.100Z"
   },
   {
    "duration": 292,
    "start_time": "2021-06-21T17:45:24.874Z"
   },
   {
    "duration": 610,
    "start_time": "2021-06-21T17:45:25.168Z"
   },
   {
    "duration": 300,
    "start_time": "2021-06-21T17:45:25.781Z"
   },
   {
    "duration": 288,
    "start_time": "2021-06-21T17:45:26.084Z"
   },
   {
    "duration": 359,
    "start_time": "2021-06-21T17:45:26.375Z"
   },
   {
    "duration": 324,
    "start_time": "2021-06-21T17:45:26.737Z"
   },
   {
    "duration": 59,
    "start_time": "2021-06-21T17:45:27.064Z"
   },
   {
    "duration": 9,
    "start_time": "2021-06-21T17:45:27.126Z"
   },
   {
    "duration": 322,
    "start_time": "2021-06-21T17:45:27.138Z"
   },
   {
    "duration": 19,
    "start_time": "2021-06-21T17:45:27.463Z"
   },
   {
    "duration": 593,
    "start_time": "2021-06-21T17:45:52.364Z"
   },
   {
    "duration": 456,
    "start_time": "2021-06-21T17:50:24.776Z"
   },
   {
    "duration": 543,
    "start_time": "2021-06-21T17:50:39.244Z"
   },
   {
    "duration": 325,
    "start_time": "2021-06-22T04:40:20.371Z"
   },
   {
    "duration": 840,
    "start_time": "2021-06-22T04:40:25.422Z"
   },
   {
    "duration": 152,
    "start_time": "2021-06-22T04:40:26.264Z"
   },
   {
    "duration": 21,
    "start_time": "2021-06-22T04:40:26.419Z"
   },
   {
    "duration": 133,
    "start_time": "2021-06-22T04:40:26.443Z"
   },
   {
    "duration": 14,
    "start_time": "2021-06-22T04:40:26.579Z"
   },
   {
    "duration": 34,
    "start_time": "2021-06-22T04:40:26.596Z"
   },
   {
    "duration": 14,
    "start_time": "2021-06-22T04:40:26.634Z"
   },
   {
    "duration": 7,
    "start_time": "2021-06-22T04:40:26.653Z"
   },
   {
    "duration": 12,
    "start_time": "2021-06-22T04:40:26.662Z"
   },
   {
    "duration": 49,
    "start_time": "2021-06-22T04:40:26.676Z"
   },
   {
    "duration": 13,
    "start_time": "2021-06-22T04:40:26.728Z"
   },
   {
    "duration": 13,
    "start_time": "2021-06-22T04:40:26.743Z"
   },
   {
    "duration": 677,
    "start_time": "2021-06-22T04:40:26.758Z"
   },
   {
    "duration": 13,
    "start_time": "2021-06-22T04:40:27.438Z"
   },
   {
    "duration": 6,
    "start_time": "2021-06-22T04:40:27.453Z"
   },
   {
    "duration": 672,
    "start_time": "2021-06-22T04:40:27.461Z"
   },
   {
    "duration": 11,
    "start_time": "2021-06-22T04:40:28.135Z"
   },
   {
    "duration": 13,
    "start_time": "2021-06-22T04:40:28.149Z"
   },
   {
    "duration": 8,
    "start_time": "2021-06-22T04:40:28.165Z"
   },
   {
    "duration": 431,
    "start_time": "2021-06-22T04:40:28.175Z"
   },
   {
    "duration": 771,
    "start_time": "2021-06-22T04:40:28.608Z"
   },
   {
    "duration": 6,
    "start_time": "2021-06-22T04:40:29.381Z"
   },
   {
    "duration": 677,
    "start_time": "2021-06-22T04:40:29.392Z"
   },
   {
    "duration": 7,
    "start_time": "2021-06-22T04:40:30.072Z"
   },
   {
    "duration": 1000,
    "start_time": "2021-06-22T04:40:30.082Z"
   },
   {
    "duration": 7,
    "start_time": "2021-06-22T04:40:31.085Z"
   },
   {
    "duration": 457,
    "start_time": "2021-06-22T04:40:31.095Z"
   },
   {
    "duration": 8,
    "start_time": "2021-06-22T04:40:31.555Z"
   },
   {
    "duration": 619,
    "start_time": "2021-06-22T04:40:31.565Z"
   },
   {
    "duration": 7,
    "start_time": "2021-06-22T04:40:32.186Z"
   },
   {
    "duration": 709,
    "start_time": "2021-06-22T04:40:32.196Z"
   },
   {
    "duration": 626,
    "start_time": "2021-06-22T04:40:32.907Z"
   },
   {
    "duration": 8,
    "start_time": "2021-06-22T04:40:33.536Z"
   },
   {
    "duration": 21,
    "start_time": "2021-06-22T04:40:33.547Z"
   },
   {
    "duration": 770,
    "start_time": "2021-06-22T04:40:33.571Z"
   },
   {
    "duration": 292,
    "start_time": "2021-06-22T04:40:34.344Z"
   },
   {
    "duration": 604,
    "start_time": "2021-06-22T04:40:34.638Z"
   },
   {
    "duration": 292,
    "start_time": "2021-06-22T04:40:35.245Z"
   },
   {
    "duration": 268,
    "start_time": "2021-06-22T04:40:35.539Z"
   },
   {
    "duration": 355,
    "start_time": "2021-06-22T04:40:35.809Z"
   },
   {
    "duration": 317,
    "start_time": "2021-06-22T04:40:36.167Z"
   },
   {
    "duration": 48,
    "start_time": "2021-06-22T04:40:36.487Z"
   },
   {
    "duration": 6,
    "start_time": "2021-06-22T04:40:36.537Z"
   },
   {
    "duration": 329,
    "start_time": "2021-06-22T04:40:36.545Z"
   },
   {
    "duration": 16,
    "start_time": "2021-06-22T04:40:36.877Z"
   },
   {
    "duration": 943,
    "start_time": "2021-06-22T04:41:40.198Z"
   },
   {
    "duration": 11,
    "start_time": "2021-06-22T04:43:24.824Z"
   },
   {
    "duration": 979,
    "start_time": "2021-06-22T04:45:31.449Z"
   },
   {
    "duration": 945,
    "start_time": "2021-06-22T04:46:18.579Z"
   },
   {
    "duration": 270,
    "start_time": "2021-06-22T08:30:06.763Z"
   },
   {
    "duration": 271,
    "start_time": "2021-06-22T08:30:13.036Z"
   },
   {
    "duration": 274,
    "start_time": "2021-06-22T08:30:26.135Z"
   },
   {
    "duration": 33,
    "start_time": "2021-06-22T08:37:11.566Z"
   },
   {
    "duration": 299,
    "start_time": "2021-06-22T08:38:10.446Z"
   },
   {
    "duration": 8,
    "start_time": "2021-06-22T08:40:45.536Z"
   },
   {
    "duration": 28,
    "start_time": "2021-06-22T08:41:34.226Z"
   },
   {
    "duration": 5,
    "start_time": "2021-06-22T08:42:15.914Z"
   },
   {
    "duration": 7,
    "start_time": "2021-06-22T08:42:26.930Z"
   },
   {
    "duration": 12,
    "start_time": "2021-06-22T08:46:30.445Z"
   },
   {
    "duration": 10,
    "start_time": "2021-06-22T08:46:50.685Z"
   },
   {
    "duration": 7,
    "start_time": "2021-06-22T08:46:56.717Z"
   },
   {
    "duration": 8,
    "start_time": "2021-06-22T08:47:27.468Z"
   },
   {
    "duration": 307,
    "start_time": "2021-06-22T09:10:32.934Z"
   },
   {
    "duration": 9,
    "start_time": "2021-06-22T09:13:59.135Z"
   },
   {
    "duration": 29,
    "start_time": "2021-06-22T09:14:10.541Z"
   },
   {
    "duration": 97,
    "start_time": "2021-06-22T09:15:02.680Z"
   },
   {
    "duration": 27,
    "start_time": "2021-06-22T09:16:34.512Z"
   },
   {
    "duration": 24,
    "start_time": "2021-06-22T09:16:49.055Z"
   },
   {
    "duration": 15,
    "start_time": "2021-06-22T09:17:05.975Z"
   },
   {
    "duration": 15,
    "start_time": "2021-06-22T09:17:21.536Z"
   },
   {
    "duration": 22,
    "start_time": "2021-06-22T09:17:28.649Z"
   },
   {
    "duration": 15,
    "start_time": "2021-06-22T09:17:41.183Z"
   },
   {
    "duration": 19,
    "start_time": "2021-06-22T09:18:29.423Z"
   },
   {
    "duration": 65,
    "start_time": "2021-06-22T09:19:01.960Z"
   },
   {
    "duration": 22,
    "start_time": "2021-06-22T09:19:10.187Z"
   },
   {
    "duration": 117,
    "start_time": "2021-06-22T09:19:28.425Z"
   },
   {
    "duration": 2948,
    "start_time": "2021-06-22T09:20:29.566Z"
   },
   {
    "duration": 467,
    "start_time": "2021-06-22T09:20:47.386Z"
   },
   {
    "duration": 13988,
    "start_time": "2021-06-22T09:21:00.465Z"
   },
   {
    "duration": 307,
    "start_time": "2021-06-22T09:21:26.132Z"
   },
   {
    "duration": 2575,
    "start_time": "2021-06-22T09:21:32.186Z"
   },
   {
    "duration": 295,
    "start_time": "2021-06-22T09:21:48.106Z"
   },
   {
    "duration": 313,
    "start_time": "2021-06-22T09:21:53.426Z"
   },
   {
    "duration": 12123,
    "start_time": "2021-06-22T09:25:03.525Z"
   },
   {
    "duration": 27,
    "start_time": "2021-06-22T09:25:39.734Z"
   },
   {
    "duration": 30,
    "start_time": "2021-06-22T09:26:28.286Z"
   },
   {
    "duration": 341,
    "start_time": "2021-06-22T09:26:44.653Z"
   },
   {
    "duration": 18,
    "start_time": "2021-06-22T09:27:02.629Z"
   },
   {
    "duration": 398,
    "start_time": "2021-06-22T09:27:14.342Z"
   },
   {
    "duration": 39,
    "start_time": "2021-06-22T09:27:52.881Z"
   },
   {
    "duration": 95,
    "start_time": "2021-06-22T09:28:44.318Z"
   },
   {
    "duration": 35,
    "start_time": "2021-06-22T09:28:53.606Z"
   },
   {
    "duration": 346,
    "start_time": "2021-06-22T10:56:02.619Z"
   },
   {
    "duration": 9,
    "start_time": "2021-06-22T10:56:41.343Z"
   },
   {
    "duration": 41,
    "start_time": "2021-06-22T11:02:41.502Z"
   },
   {
    "duration": 313,
    "start_time": "2021-06-22T11:05:13.561Z"
   },
   {
    "duration": 384,
    "start_time": "2021-06-22T11:05:40.571Z"
   },
   {
    "duration": 309,
    "start_time": "2021-06-22T11:06:15.825Z"
   },
   {
    "duration": 18,
    "start_time": "2021-06-22T11:07:59.009Z"
   },
   {
    "duration": 40,
    "start_time": "2021-06-22T11:10:45.908Z"
   },
   {
    "duration": 115,
    "start_time": "2021-06-22T11:11:44.284Z"
   },
   {
    "duration": 99,
    "start_time": "2021-06-22T11:11:52.716Z"
   },
   {
    "duration": 11,
    "start_time": "2021-06-22T11:12:03.236Z"
   },
   {
    "duration": 129,
    "start_time": "2021-06-22T11:16:36.856Z"
   },
   {
    "duration": 10,
    "start_time": "2021-06-22T11:16:52.910Z"
   },
   {
    "duration": 11,
    "start_time": "2021-06-22T11:17:02.919Z"
   },
   {
    "duration": 11,
    "start_time": "2021-06-22T11:18:22.664Z"
   },
   {
    "duration": 10,
    "start_time": "2021-06-22T11:18:31.143Z"
   },
   {
    "duration": 11,
    "start_time": "2021-06-22T11:18:37.488Z"
   },
   {
    "duration": 977,
    "start_time": "2021-06-22T11:46:53.391Z"
   },
   {
    "duration": 995,
    "start_time": "2021-06-22T11:47:03.916Z"
   },
   {
    "duration": 451,
    "start_time": "2021-06-22T11:47:12.889Z"
   },
   {
    "duration": 340,
    "start_time": "2021-06-22T11:47:22.961Z"
   },
   {
    "duration": 335,
    "start_time": "2021-06-22T11:47:32.059Z"
   },
   {
    "duration": 329,
    "start_time": "2021-06-22T11:50:09.860Z"
   },
   {
    "duration": 336,
    "start_time": "2021-06-22T11:50:54.709Z"
   },
   {
    "duration": 411,
    "start_time": "2021-06-22T11:52:02.317Z"
   },
   {
    "duration": 20,
    "start_time": "2021-06-22T11:52:48.947Z"
   },
   {
    "duration": 619,
    "start_time": "2021-06-22T11:53:18.366Z"
   },
   {
    "duration": 337,
    "start_time": "2021-06-22T11:53:49.648Z"
   },
   {
    "duration": 379,
    "start_time": "2021-06-22T11:54:28.214Z"
   },
   {
    "duration": 11,
    "start_time": "2021-06-22T11:55:41.398Z"
   },
   {
    "duration": 360,
    "start_time": "2021-06-22T11:56:07.241Z"
   },
   {
    "duration": 17,
    "start_time": "2021-06-22T11:57:58.465Z"
   },
   {
    "duration": 353,
    "start_time": "2021-06-22T11:58:28.506Z"
   },
   {
    "duration": 292,
    "start_time": "2021-06-22T12:06:03.112Z"
   },
   {
    "duration": 7,
    "start_time": "2021-06-22T12:06:15.126Z"
   },
   {
    "duration": 12,
    "start_time": "2021-06-22T12:06:22.695Z"
   },
   {
    "duration": 11,
    "start_time": "2021-06-22T12:06:56.319Z"
   },
   {
    "duration": 659,
    "start_time": "2021-06-22T12:07:28.230Z"
   },
   {
    "duration": 330,
    "start_time": "2021-06-22T12:09:14.617Z"
   },
   {
    "duration": 17,
    "start_time": "2021-06-22T12:09:37.387Z"
   },
   {
    "duration": 276,
    "start_time": "2021-06-22T12:14:03.418Z"
   },
   {
    "duration": 260,
    "start_time": "2021-06-22T12:15:36.380Z"
   },
   {
    "duration": 272,
    "start_time": "2021-06-22T12:16:02.860Z"
   },
   {
    "duration": 314,
    "start_time": "2021-06-22T12:16:28.379Z"
   },
   {
    "duration": 341,
    "start_time": "2021-06-22T12:20:26.135Z"
   },
   {
    "duration": 451,
    "start_time": "2021-06-22T12:20:56.558Z"
   },
   {
    "duration": 719,
    "start_time": "2021-06-22T12:27:07.956Z"
   },
   {
    "duration": 893,
    "start_time": "2021-06-22T12:28:24.331Z"
   },
   {
    "duration": 464,
    "start_time": "2021-06-22T12:29:56.636Z"
   },
   {
    "duration": 644,
    "start_time": "2021-06-22T12:30:11.539Z"
   },
   {
    "duration": 551,
    "start_time": "2021-06-22T12:30:21.773Z"
   },
   {
    "duration": 546,
    "start_time": "2021-06-22T12:30:26.589Z"
   },
   {
    "duration": 337,
    "start_time": "2021-06-22T12:30:59.645Z"
   },
   {
    "duration": 361,
    "start_time": "2021-06-22T12:31:04.558Z"
   },
   {
    "duration": 861,
    "start_time": "2021-06-22T12:44:30.931Z"
   },
   {
    "duration": 153,
    "start_time": "2021-06-22T12:44:31.794Z"
   },
   {
    "duration": 16,
    "start_time": "2021-06-22T12:44:31.950Z"
   },
   {
    "duration": 127,
    "start_time": "2021-06-22T12:44:31.969Z"
   },
   {
    "duration": 12,
    "start_time": "2021-06-22T12:44:32.099Z"
   },
   {
    "duration": 17,
    "start_time": "2021-06-22T12:44:32.125Z"
   },
   {
    "duration": 15,
    "start_time": "2021-06-22T12:44:32.144Z"
   },
   {
    "duration": 5,
    "start_time": "2021-06-22T12:44:32.163Z"
   },
   {
    "duration": 13,
    "start_time": "2021-06-22T12:44:32.171Z"
   },
   {
    "duration": 5,
    "start_time": "2021-06-22T12:44:32.186Z"
   },
   {
    "duration": 13,
    "start_time": "2021-06-22T12:44:32.224Z"
   },
   {
    "duration": 14,
    "start_time": "2021-06-22T12:44:32.239Z"
   },
   {
    "duration": 669,
    "start_time": "2021-06-22T12:44:32.255Z"
   },
   {
    "duration": 13,
    "start_time": "2021-06-22T12:44:32.926Z"
   },
   {
    "duration": 8,
    "start_time": "2021-06-22T12:44:32.941Z"
   },
   {
    "duration": 686,
    "start_time": "2021-06-22T12:44:32.951Z"
   },
   {
    "duration": 11,
    "start_time": "2021-06-22T12:44:33.640Z"
   },
   {
    "duration": 15,
    "start_time": "2021-06-22T12:44:33.654Z"
   },
   {
    "duration": 5,
    "start_time": "2021-06-22T12:44:33.671Z"
   },
   {
    "duration": 450,
    "start_time": "2021-06-22T12:44:33.679Z"
   },
   {
    "duration": 770,
    "start_time": "2021-06-22T12:44:34.131Z"
   },
   {
    "duration": 7,
    "start_time": "2021-06-22T12:44:34.903Z"
   },
   {
    "duration": 707,
    "start_time": "2021-06-22T12:44:34.928Z"
   },
   {
    "duration": 7,
    "start_time": "2021-06-22T12:44:35.638Z"
   },
   {
    "duration": 1004,
    "start_time": "2021-06-22T12:44:35.648Z"
   },
   {
    "duration": 7,
    "start_time": "2021-06-22T12:44:36.654Z"
   },
   {
    "duration": 463,
    "start_time": "2021-06-22T12:44:36.663Z"
   },
   {
    "duration": 8,
    "start_time": "2021-06-22T12:44:37.129Z"
   },
   {
    "duration": 635,
    "start_time": "2021-06-22T12:44:37.139Z"
   },
   {
    "duration": 8,
    "start_time": "2021-06-22T12:44:37.776Z"
   },
   {
    "duration": 739,
    "start_time": "2021-06-22T12:44:37.787Z"
   },
   {
    "duration": 636,
    "start_time": "2021-06-22T12:44:38.529Z"
   },
   {
    "duration": 9,
    "start_time": "2021-06-22T12:44:39.168Z"
   },
   {
    "duration": 46,
    "start_time": "2021-06-22T12:44:39.179Z"
   },
   {
    "duration": 1052,
    "start_time": "2021-06-22T12:44:39.228Z"
   },
   {
    "duration": 305,
    "start_time": "2021-06-22T12:44:40.283Z"
   },
   {
    "duration": 614,
    "start_time": "2021-06-22T12:44:40.591Z"
   },
   {
    "duration": 297,
    "start_time": "2021-06-22T12:44:41.208Z"
   },
   {
    "duration": 278,
    "start_time": "2021-06-22T12:44:41.507Z"
   },
   {
    "duration": 352,
    "start_time": "2021-06-22T12:44:41.787Z"
   },
   {
    "duration": 321,
    "start_time": "2021-06-22T12:44:42.142Z"
   },
   {
    "duration": 36,
    "start_time": "2021-06-22T12:44:42.466Z"
   },
   {
    "duration": 22,
    "start_time": "2021-06-22T12:44:42.505Z"
   },
   {
    "duration": 319,
    "start_time": "2021-06-22T12:44:42.529Z"
   },
   {
    "duration": 369,
    "start_time": "2021-06-22T12:44:42.851Z"
   },
   {
    "duration": 140,
    "start_time": "2021-06-22T12:44:43.082Z"
   },
   {
    "duration": 135,
    "start_time": "2021-06-22T12:44:43.089Z"
   },
   {
    "duration": 130,
    "start_time": "2021-06-22T12:44:43.095Z"
   },
   {
    "duration": 82,
    "start_time": "2021-06-22T12:44:43.145Z"
   },
   {
    "duration": 79,
    "start_time": "2021-06-22T12:44:43.149Z"
   },
   {
    "duration": 74,
    "start_time": "2021-06-22T12:44:43.155Z"
   },
   {
    "duration": 41,
    "start_time": "2021-06-22T12:45:47.491Z"
   },
   {
    "duration": 359,
    "start_time": "2021-06-22T12:45:51.587Z"
   },
   {
    "duration": 375,
    "start_time": "2021-06-22T12:45:55.994Z"
   },
   {
    "duration": 360,
    "start_time": "2021-06-22T12:45:59.238Z"
   },
   {
    "duration": 312,
    "start_time": "2021-06-22T12:47:41.560Z"
   },
   {
    "duration": 306,
    "start_time": "2021-06-22T12:47:48.243Z"
   },
   {
    "duration": 8,
    "start_time": "2021-06-22T12:47:51.843Z"
   },
   {
    "duration": 950,
    "start_time": "2021-06-22T13:00:19.113Z"
   },
   {
    "duration": 366,
    "start_time": "2021-06-22T13:00:45.918Z"
   },
   {
    "duration": 3214,
    "start_time": "2021-06-22T13:01:00.752Z"
   },
   {
    "duration": 969,
    "start_time": "2021-06-22T13:01:28.242Z"
   },
   {
    "duration": 1005,
    "start_time": "2021-06-22T13:02:42.253Z"
   },
   {
    "duration": 1023,
    "start_time": "2021-06-22T13:02:54.301Z"
   },
   {
    "duration": 3335,
    "start_time": "2021-06-22T13:03:11.677Z"
   },
   {
    "duration": 807,
    "start_time": "2021-06-22T13:08:37.768Z"
   },
   {
    "duration": 147,
    "start_time": "2021-06-22T13:08:38.578Z"
   },
   {
    "duration": 16,
    "start_time": "2021-06-22T13:08:38.728Z"
   },
   {
    "duration": 123,
    "start_time": "2021-06-22T13:08:38.746Z"
   },
   {
    "duration": 13,
    "start_time": "2021-06-22T13:08:38.871Z"
   },
   {
    "duration": 39,
    "start_time": "2021-06-22T13:08:38.886Z"
   },
   {
    "duration": 13,
    "start_time": "2021-06-22T13:08:38.927Z"
   },
   {
    "duration": 6,
    "start_time": "2021-06-22T13:08:38.943Z"
   },
   {
    "duration": 19,
    "start_time": "2021-06-22T13:08:38.952Z"
   },
   {
    "duration": 4,
    "start_time": "2021-06-22T13:08:38.974Z"
   },
   {
    "duration": 43,
    "start_time": "2021-06-22T13:08:38.981Z"
   },
   {
    "duration": 13,
    "start_time": "2021-06-22T13:08:39.027Z"
   },
   {
    "duration": 682,
    "start_time": "2021-06-22T13:08:39.042Z"
   },
   {
    "duration": 12,
    "start_time": "2021-06-22T13:08:39.726Z"
   },
   {
    "duration": 6,
    "start_time": "2021-06-22T13:08:39.741Z"
   },
   {
    "duration": 685,
    "start_time": "2021-06-22T13:08:39.749Z"
   },
   {
    "duration": 11,
    "start_time": "2021-06-22T13:08:40.436Z"
   },
   {
    "duration": 11,
    "start_time": "2021-06-22T13:08:40.450Z"
   },
   {
    "duration": 5,
    "start_time": "2021-06-22T13:08:40.463Z"
   },
   {
    "duration": 429,
    "start_time": "2021-06-22T13:08:40.470Z"
   },
   {
    "duration": 776,
    "start_time": "2021-06-22T13:08:40.901Z"
   },
   {
    "duration": 7,
    "start_time": "2021-06-22T13:08:41.679Z"
   },
   {
    "duration": 711,
    "start_time": "2021-06-22T13:08:41.691Z"
   },
   {
    "duration": 19,
    "start_time": "2021-06-22T13:08:42.405Z"
   },
   {
    "duration": 1005,
    "start_time": "2021-06-22T13:08:42.426Z"
   },
   {
    "duration": 7,
    "start_time": "2021-06-22T13:08:43.434Z"
   },
   {
    "duration": 475,
    "start_time": "2021-06-22T13:08:43.443Z"
   },
   {
    "duration": 7,
    "start_time": "2021-06-22T13:08:43.924Z"
   },
   {
    "duration": 727,
    "start_time": "2021-06-22T13:08:43.933Z"
   },
   {
    "duration": 8,
    "start_time": "2021-06-22T13:08:44.662Z"
   },
   {
    "duration": 752,
    "start_time": "2021-06-22T13:08:44.672Z"
   },
   {
    "duration": 889,
    "start_time": "2021-06-22T13:08:45.426Z"
   },
   {
    "duration": 12,
    "start_time": "2021-06-22T13:08:46.323Z"
   },
   {
    "duration": 22,
    "start_time": "2021-06-22T13:08:46.338Z"
   },
   {
    "duration": 1019,
    "start_time": "2021-06-22T13:08:46.363Z"
   },
   {
    "duration": 307,
    "start_time": "2021-06-22T13:08:47.384Z"
   },
   {
    "duration": 621,
    "start_time": "2021-06-22T13:08:47.693Z"
   },
   {
    "duration": 293,
    "start_time": "2021-06-22T13:08:48.324Z"
   },
   {
    "duration": 296,
    "start_time": "2021-06-22T13:08:48.619Z"
   },
   {
    "duration": 371,
    "start_time": "2021-06-22T13:08:48.917Z"
   },
   {
    "duration": 333,
    "start_time": "2021-06-22T13:08:49.291Z"
   },
   {
    "duration": 35,
    "start_time": "2021-06-22T13:08:49.626Z"
   },
   {
    "duration": 7,
    "start_time": "2021-06-22T13:08:49.663Z"
   },
   {
    "duration": 351,
    "start_time": "2021-06-22T13:08:49.672Z"
   },
   {
    "duration": 8,
    "start_time": "2021-06-22T13:08:50.025Z"
   },
   {
    "duration": 46,
    "start_time": "2021-06-22T13:08:50.035Z"
   },
   {
    "duration": 372,
    "start_time": "2021-06-22T13:08:50.083Z"
   },
   {
    "duration": 400,
    "start_time": "2021-06-22T13:08:50.457Z"
   },
   {
    "duration": 14,
    "start_time": "2021-06-22T13:08:50.860Z"
   },
   {
    "duration": 392,
    "start_time": "2021-06-22T13:08:50.877Z"
   },
   {
    "duration": 15,
    "start_time": "2021-06-22T13:09:42.401Z"
   },
   {
    "duration": 381,
    "start_time": "2021-06-22T13:09:50.726Z"
   },
   {
    "duration": 16,
    "start_time": "2021-06-22T13:09:54.078Z"
   },
   {
    "duration": 679,
    "start_time": "2021-06-22T13:10:20.783Z"
   },
   {
    "duration": 356,
    "start_time": "2021-06-22T13:24:47.370Z"
   },
   {
    "duration": 6,
    "start_time": "2021-06-22T13:25:23.656Z"
   },
   {
    "duration": 381,
    "start_time": "2021-06-22T13:25:25.222Z"
   },
   {
    "duration": 455,
    "start_time": "2021-06-22T13:25:43.995Z"
   },
   {
    "duration": 7,
    "start_time": "2021-06-22T13:26:23.281Z"
   },
   {
    "duration": 16,
    "start_time": "2021-06-22T13:37:04.796Z"
   },
   {
    "duration": 1209,
    "start_time": "2021-06-22T13:37:47.275Z"
   },
   {
    "duration": 6,
    "start_time": "2021-06-22T13:41:02.385Z"
   },
   {
    "duration": 341,
    "start_time": "2021-06-22T13:41:09.246Z"
   },
   {
    "duration": 687,
    "start_time": "2021-06-22T13:52:21.269Z"
   },
   {
    "duration": 331,
    "start_time": "2021-06-22T18:54:01.646Z"
   },
   {
    "duration": 257,
    "start_time": "2021-06-22T18:54:06.887Z"
   },
   {
    "duration": 858,
    "start_time": "2021-06-22T18:54:18.813Z"
   },
   {
    "duration": 150,
    "start_time": "2021-06-22T18:54:19.673Z"
   },
   {
    "duration": 29,
    "start_time": "2021-06-22T18:54:19.826Z"
   },
   {
    "duration": 115,
    "start_time": "2021-06-22T18:54:19.859Z"
   },
   {
    "duration": 12,
    "start_time": "2021-06-22T18:54:19.976Z"
   },
   {
    "duration": 17,
    "start_time": "2021-06-22T18:54:19.991Z"
   },
   {
    "duration": 21,
    "start_time": "2021-06-22T18:54:20.011Z"
   },
   {
    "duration": 9,
    "start_time": "2021-06-22T18:54:20.057Z"
   },
   {
    "duration": 13,
    "start_time": "2021-06-22T18:54:20.071Z"
   },
   {
    "duration": 5,
    "start_time": "2021-06-22T18:54:20.086Z"
   },
   {
    "duration": 18,
    "start_time": "2021-06-22T18:54:20.094Z"
   },
   {
    "duration": 48,
    "start_time": "2021-06-22T18:54:20.114Z"
   },
   {
    "duration": 715,
    "start_time": "2021-06-22T18:54:20.165Z"
   },
   {
    "duration": 13,
    "start_time": "2021-06-22T18:54:20.882Z"
   },
   {
    "duration": 7,
    "start_time": "2021-06-22T18:54:20.897Z"
   },
   {
    "duration": 703,
    "start_time": "2021-06-22T18:54:20.906Z"
   },
   {
    "duration": 11,
    "start_time": "2021-06-22T18:54:21.611Z"
   },
   {
    "duration": 14,
    "start_time": "2021-06-22T18:54:21.624Z"
   },
   {
    "duration": 17,
    "start_time": "2021-06-22T18:54:21.641Z"
   },
   {
    "duration": 628,
    "start_time": "2021-06-22T18:54:21.661Z"
   },
   {
    "duration": 786,
    "start_time": "2021-06-22T18:54:22.291Z"
   },
   {
    "duration": 9,
    "start_time": "2021-06-22T18:54:23.080Z"
   },
   {
    "duration": 823,
    "start_time": "2021-06-22T18:54:23.094Z"
   },
   {
    "duration": 7,
    "start_time": "2021-06-22T18:54:23.920Z"
   },
   {
    "duration": 1008,
    "start_time": "2021-06-22T18:54:23.930Z"
   },
   {
    "duration": 19,
    "start_time": "2021-06-22T18:54:24.941Z"
   },
   {
    "duration": 469,
    "start_time": "2021-06-22T18:54:24.962Z"
   },
   {
    "duration": 24,
    "start_time": "2021-06-22T18:54:25.434Z"
   },
   {
    "duration": 642,
    "start_time": "2021-06-22T18:54:25.461Z"
   },
   {
    "duration": 10,
    "start_time": "2021-06-22T18:54:26.106Z"
   },
   {
    "duration": 747,
    "start_time": "2021-06-22T18:54:26.119Z"
   },
   {
    "duration": 570,
    "start_time": "2021-06-22T18:54:26.870Z"
   },
   {
    "duration": 16,
    "start_time": "2021-06-22T18:54:27.442Z"
   },
   {
    "duration": 28,
    "start_time": "2021-06-22T18:54:27.461Z"
   },
   {
    "duration": 1021,
    "start_time": "2021-06-22T18:54:27.492Z"
   },
   {
    "duration": 317,
    "start_time": "2021-06-22T18:54:28.516Z"
   },
   {
    "duration": 615,
    "start_time": "2021-06-22T18:54:28.835Z"
   },
   {
    "duration": 302,
    "start_time": "2021-06-22T18:54:29.457Z"
   },
   {
    "duration": 291,
    "start_time": "2021-06-22T18:54:29.763Z"
   },
   {
    "duration": 373,
    "start_time": "2021-06-22T18:54:30.057Z"
   },
   {
    "duration": 331,
    "start_time": "2021-06-22T18:54:30.432Z"
   },
   {
    "duration": 38,
    "start_time": "2021-06-22T18:54:30.766Z"
   },
   {
    "duration": 6,
    "start_time": "2021-06-22T18:54:30.807Z"
   },
   {
    "duration": 375,
    "start_time": "2021-06-22T18:54:30.816Z"
   },
   {
    "duration": 8,
    "start_time": "2021-06-22T18:54:31.194Z"
   },
   {
    "duration": 68,
    "start_time": "2021-06-22T18:54:31.204Z"
   },
   {
    "duration": 370,
    "start_time": "2021-06-22T18:54:31.275Z"
   },
   {
    "duration": 401,
    "start_time": "2021-06-22T18:54:31.647Z"
   },
   {
    "duration": 19,
    "start_time": "2021-06-22T18:54:32.051Z"
   },
   {
    "duration": 391,
    "start_time": "2021-06-22T18:54:32.074Z"
   },
   {
    "duration": 11,
    "start_time": "2021-06-22T18:54:32.468Z"
   },
   {
    "duration": 667,
    "start_time": "2021-06-22T18:54:32.481Z"
   },
   {
    "duration": -28,
    "start_time": "2021-06-22T18:54:33.178Z"
   },
   {
    "duration": 8,
    "start_time": "2021-06-22T19:19:15.568Z"
   },
   {
    "duration": 321,
    "start_time": "2021-06-22T19:43:07.527Z"
   },
   {
    "duration": 5,
    "start_time": "2021-06-22T19:45:18.346Z"
   },
   {
    "duration": 317,
    "start_time": "2021-06-22T19:45:20.775Z"
   },
   {
    "duration": 15,
    "start_time": "2021-06-22T19:45:29.102Z"
   },
   {
    "duration": 345,
    "start_time": "2021-06-22T19:48:49.073Z"
   },
   {
    "duration": 344,
    "start_time": "2021-06-22T19:49:06.873Z"
   },
   {
    "duration": 9,
    "start_time": "2021-06-22T19:50:48.736Z"
   },
   {
    "duration": 9,
    "start_time": "2021-06-22T19:50:49.843Z"
   },
   {
    "duration": 356,
    "start_time": "2021-06-22T19:50:52.763Z"
   },
   {
    "duration": 20,
    "start_time": "2021-06-22T19:51:09.451Z"
   },
   {
    "duration": 4,
    "start_time": "2021-06-22T19:51:57.670Z"
   },
   {
    "duration": 154,
    "start_time": "2021-06-22T19:51:57.677Z"
   },
   {
    "duration": 23,
    "start_time": "2021-06-22T19:51:57.834Z"
   },
   {
    "duration": 112,
    "start_time": "2021-06-22T19:51:57.859Z"
   },
   {
    "duration": 12,
    "start_time": "2021-06-22T19:51:57.973Z"
   },
   {
    "duration": 25,
    "start_time": "2021-06-22T19:51:57.987Z"
   },
   {
    "duration": 13,
    "start_time": "2021-06-22T19:51:58.015Z"
   },
   {
    "duration": 28,
    "start_time": "2021-06-22T19:51:58.030Z"
   },
   {
    "duration": 16,
    "start_time": "2021-06-22T19:51:58.060Z"
   },
   {
    "duration": 5,
    "start_time": "2021-06-22T19:51:58.078Z"
   },
   {
    "duration": 18,
    "start_time": "2021-06-22T19:51:58.085Z"
   },
   {
    "duration": 6,
    "start_time": "2021-06-22T19:51:58.106Z"
   },
   {
    "duration": 687,
    "start_time": "2021-06-22T19:51:58.115Z"
   },
   {
    "duration": 12,
    "start_time": "2021-06-22T19:51:58.811Z"
   },
   {
    "duration": 7,
    "start_time": "2021-06-22T19:51:58.826Z"
   },
   {
    "duration": 672,
    "start_time": "2021-06-22T19:51:58.835Z"
   },
   {
    "duration": 10,
    "start_time": "2021-06-22T19:51:59.509Z"
   },
   {
    "duration": 15,
    "start_time": "2021-06-22T19:51:59.521Z"
   },
   {
    "duration": 5,
    "start_time": "2021-06-22T19:51:59.556Z"
   },
   {
    "duration": 448,
    "start_time": "2021-06-22T19:51:59.563Z"
   },
   {
    "duration": 781,
    "start_time": "2021-06-22T19:52:00.013Z"
   },
   {
    "duration": 6,
    "start_time": "2021-06-22T19:52:00.796Z"
   },
   {
    "duration": 781,
    "start_time": "2021-06-22T19:52:00.805Z"
   },
   {
    "duration": 8,
    "start_time": "2021-06-22T19:52:01.588Z"
   },
   {
    "duration": 973,
    "start_time": "2021-06-22T19:52:01.598Z"
   },
   {
    "duration": 8,
    "start_time": "2021-06-22T19:52:02.573Z"
   },
   {
    "duration": 454,
    "start_time": "2021-06-22T19:52:02.583Z"
   },
   {
    "duration": 20,
    "start_time": "2021-06-22T19:52:03.039Z"
   },
   {
    "duration": 551,
    "start_time": "2021-06-22T19:52:03.062Z"
   },
   {
    "duration": 8,
    "start_time": "2021-06-22T19:52:03.615Z"
   },
   {
    "duration": 917,
    "start_time": "2021-06-22T19:52:03.625Z"
   },
   {
    "duration": 28,
    "start_time": "2021-06-22T19:52:04.545Z"
   },
   {
    "duration": 7,
    "start_time": "2021-06-22T19:52:04.575Z"
   },
   {
    "duration": 18,
    "start_time": "2021-06-22T19:52:04.584Z"
   },
   {
    "duration": 1125,
    "start_time": "2021-06-22T19:52:04.604Z"
   },
   {
    "duration": 288,
    "start_time": "2021-06-22T19:52:05.732Z"
   },
   {
    "duration": 592,
    "start_time": "2021-06-22T19:52:06.023Z"
   },
   {
    "duration": 283,
    "start_time": "2021-06-22T19:52:06.617Z"
   },
   {
    "duration": 268,
    "start_time": "2021-06-22T19:52:06.902Z"
   },
   {
    "duration": 268,
    "start_time": "2021-06-22T19:52:07.172Z"
   },
   {
    "duration": 309,
    "start_time": "2021-06-22T19:52:07.442Z"
   },
   {
    "duration": 34,
    "start_time": "2021-06-22T19:52:07.756Z"
   },
   {
    "duration": 7,
    "start_time": "2021-06-22T19:52:07.792Z"
   },
   {
    "duration": 320,
    "start_time": "2021-06-22T19:52:07.801Z"
   },
   {
    "duration": 9,
    "start_time": "2021-06-22T19:52:08.123Z"
   },
   {
    "duration": 52,
    "start_time": "2021-06-22T19:52:08.134Z"
   },
   {
    "duration": 348,
    "start_time": "2021-06-22T19:52:08.189Z"
   },
   {
    "duration": 366,
    "start_time": "2021-06-22T19:52:08.540Z"
   },
   {
    "duration": 14,
    "start_time": "2021-06-22T19:52:08.909Z"
   },
   {
    "duration": 362,
    "start_time": "2021-06-22T19:52:08.926Z"
   },
   {
    "duration": 10,
    "start_time": "2021-06-22T19:52:09.291Z"
   },
   {
    "duration": 9,
    "start_time": "2021-06-22T19:52:09.303Z"
   },
   {
    "duration": 356,
    "start_time": "2021-06-22T19:52:09.314Z"
   },
   {
    "duration": 14,
    "start_time": "2021-06-22T19:52:09.673Z"
   },
   {
    "duration": 324,
    "start_time": "2021-06-22T19:56:27.249Z"
   },
   {
    "duration": 319,
    "start_time": "2021-06-22T19:56:35.129Z"
   },
   {
    "duration": 81,
    "start_time": "2021-06-22T19:59:27.764Z"
   },
   {
    "duration": 93,
    "start_time": "2021-06-22T20:00:28.764Z"
   },
   {
    "duration": 403,
    "start_time": "2021-06-22T20:00:41.444Z"
   },
   {
    "duration": 249,
    "start_time": "2021-06-22T20:01:07.180Z"
   },
   {
    "duration": 252,
    "start_time": "2021-06-22T20:01:29.404Z"
   },
   {
    "duration": 265,
    "start_time": "2021-06-22T20:01:54.796Z"
   },
   {
    "duration": 817,
    "start_time": "2021-06-23T14:12:57.404Z"
   },
   {
    "duration": 144,
    "start_time": "2021-06-23T14:12:58.223Z"
   },
   {
    "duration": 17,
    "start_time": "2021-06-23T14:12:58.371Z"
   },
   {
    "duration": 125,
    "start_time": "2021-06-23T14:12:58.392Z"
   },
   {
    "duration": 16,
    "start_time": "2021-06-23T14:12:58.520Z"
   },
   {
    "duration": 18,
    "start_time": "2021-06-23T14:12:58.555Z"
   },
   {
    "duration": 16,
    "start_time": "2021-06-23T14:12:58.576Z"
   },
   {
    "duration": 6,
    "start_time": "2021-06-23T14:12:58.597Z"
   },
   {
    "duration": 11,
    "start_time": "2021-06-23T14:12:58.607Z"
   },
   {
    "duration": 38,
    "start_time": "2021-06-23T14:12:58.620Z"
   },
   {
    "duration": 16,
    "start_time": "2021-06-23T14:12:58.661Z"
   },
   {
    "duration": 16,
    "start_time": "2021-06-23T14:12:58.680Z"
   },
   {
    "duration": 704,
    "start_time": "2021-06-23T14:12:58.699Z"
   },
   {
    "duration": 13,
    "start_time": "2021-06-23T14:12:59.405Z"
   },
   {
    "duration": 7,
    "start_time": "2021-06-23T14:12:59.420Z"
   },
   {
    "duration": 716,
    "start_time": "2021-06-23T14:12:59.429Z"
   },
   {
    "duration": 17,
    "start_time": "2021-06-23T14:13:00.147Z"
   },
   {
    "duration": 31,
    "start_time": "2021-06-23T14:13:00.166Z"
   },
   {
    "duration": 17,
    "start_time": "2021-06-23T14:13:00.199Z"
   },
   {
    "duration": 420,
    "start_time": "2021-06-23T14:13:00.219Z"
   },
   {
    "duration": 771,
    "start_time": "2021-06-23T14:13:00.641Z"
   },
   {
    "duration": 7,
    "start_time": "2021-06-23T14:13:01.414Z"
   },
   {
    "duration": 723,
    "start_time": "2021-06-23T14:13:01.427Z"
   },
   {
    "duration": 8,
    "start_time": "2021-06-23T14:13:02.156Z"
   },
   {
    "duration": 1017,
    "start_time": "2021-06-23T14:13:02.167Z"
   },
   {
    "duration": 8,
    "start_time": "2021-06-23T14:13:03.186Z"
   },
   {
    "duration": 463,
    "start_time": "2021-06-23T14:13:03.196Z"
   },
   {
    "duration": 7,
    "start_time": "2021-06-23T14:13:03.661Z"
   },
   {
    "duration": 620,
    "start_time": "2021-06-23T14:13:03.670Z"
   },
   {
    "duration": 8,
    "start_time": "2021-06-23T14:13:04.292Z"
   },
   {
    "duration": 743,
    "start_time": "2021-06-23T14:13:04.302Z"
   },
   {
    "duration": 610,
    "start_time": "2021-06-23T14:13:05.047Z"
   },
   {
    "duration": 9,
    "start_time": "2021-06-23T14:13:05.660Z"
   },
   {
    "duration": 39,
    "start_time": "2021-06-23T14:13:05.671Z"
   },
   {
    "duration": 1152,
    "start_time": "2021-06-23T14:13:05.712Z"
   },
   {
    "duration": 302,
    "start_time": "2021-06-23T14:13:06.867Z"
   },
   {
    "duration": 606,
    "start_time": "2021-06-23T14:13:07.172Z"
   },
   {
    "duration": 300,
    "start_time": "2021-06-23T14:13:07.780Z"
   },
   {
    "duration": 275,
    "start_time": "2021-06-23T14:13:08.082Z"
   },
   {
    "duration": 369,
    "start_time": "2021-06-23T14:13:08.359Z"
   },
   {
    "duration": 320,
    "start_time": "2021-06-23T14:13:08.730Z"
   },
   {
    "duration": 34,
    "start_time": "2021-06-23T14:13:09.053Z"
   },
   {
    "duration": 7,
    "start_time": "2021-06-23T14:13:09.089Z"
   },
   {
    "duration": 349,
    "start_time": "2021-06-23T14:13:09.098Z"
   },
   {
    "duration": 12,
    "start_time": "2021-06-23T14:13:09.449Z"
   },
   {
    "duration": 45,
    "start_time": "2021-06-23T14:13:09.463Z"
   },
   {
    "duration": 371,
    "start_time": "2021-06-23T14:13:09.510Z"
   },
   {
    "duration": 387,
    "start_time": "2021-06-23T14:13:09.883Z"
   },
   {
    "duration": 15,
    "start_time": "2021-06-23T14:13:10.272Z"
   },
   {
    "duration": 390,
    "start_time": "2021-06-23T14:13:10.289Z"
   },
   {
    "duration": 10,
    "start_time": "2021-06-23T14:13:10.681Z"
   },
   {
    "duration": 13,
    "start_time": "2021-06-23T14:13:10.694Z"
   },
   {
    "duration": 90,
    "start_time": "2021-06-23T14:13:10.709Z"
   },
   {
    "duration": 74,
    "start_time": "2021-06-23T14:13:10.728Z"
   },
   {
    "duration": 384,
    "start_time": "2021-06-23T14:13:29.650Z"
   },
   {
    "duration": 269,
    "start_time": "2021-06-23T14:13:45.850Z"
   },
   {
    "duration": 86,
    "start_time": "2021-06-23T14:13:54.648Z"
   },
   {
    "duration": 338,
    "start_time": "2021-06-23T14:14:01.888Z"
   },
   {
    "duration": 599,
    "start_time": "2021-06-23T14:14:58.707Z"
   },
   {
    "duration": 728,
    "start_time": "2021-06-23T14:15:15.835Z"
   },
   {
    "duration": 290,
    "start_time": "2021-06-23T14:19:00.839Z"
   },
   {
    "duration": 366,
    "start_time": "2021-06-23T14:28:11.560Z"
   },
   {
    "duration": 3,
    "start_time": "2021-06-23T14:29:25.385Z"
   },
   {
    "duration": 260,
    "start_time": "2021-06-23T14:29:43.098Z"
   },
   {
    "duration": 9,
    "start_time": "2021-06-23T14:29:56.159Z"
   },
   {
    "duration": 287,
    "start_time": "2021-06-23T14:30:26.380Z"
   },
   {
    "duration": 8,
    "start_time": "2021-06-23T14:31:02.835Z"
   },
   {
    "duration": 260,
    "start_time": "2021-06-23T14:31:24.882Z"
   },
   {
    "duration": 283,
    "start_time": "2021-06-23T14:31:28.882Z"
   },
   {
    "duration": 9,
    "start_time": "2021-06-23T14:36:40.215Z"
   },
   {
    "duration": 885,
    "start_time": "2021-06-23T14:37:01.555Z"
   },
   {
    "duration": 148,
    "start_time": "2021-06-23T14:37:02.443Z"
   },
   {
    "duration": 16,
    "start_time": "2021-06-23T14:37:02.594Z"
   },
   {
    "duration": 130,
    "start_time": "2021-06-23T14:37:02.612Z"
   },
   {
    "duration": 18,
    "start_time": "2021-06-23T14:37:02.745Z"
   },
   {
    "duration": 24,
    "start_time": "2021-06-23T14:37:02.765Z"
   },
   {
    "duration": 25,
    "start_time": "2021-06-23T14:37:02.792Z"
   },
   {
    "duration": 6,
    "start_time": "2021-06-23T14:37:02.821Z"
   },
   {
    "duration": 36,
    "start_time": "2021-06-23T14:37:02.830Z"
   },
   {
    "duration": 8,
    "start_time": "2021-06-23T14:37:02.869Z"
   },
   {
    "duration": 21,
    "start_time": "2021-06-23T14:37:02.880Z"
   },
   {
    "duration": 7,
    "start_time": "2021-06-23T14:37:02.904Z"
   },
   {
    "duration": 717,
    "start_time": "2021-06-23T14:37:02.914Z"
   },
   {
    "duration": 24,
    "start_time": "2021-06-23T14:37:03.634Z"
   },
   {
    "duration": 8,
    "start_time": "2021-06-23T14:37:03.660Z"
   },
   {
    "duration": 710,
    "start_time": "2021-06-23T14:37:03.670Z"
   },
   {
    "duration": 11,
    "start_time": "2021-06-23T14:37:04.383Z"
   },
   {
    "duration": 18,
    "start_time": "2021-06-23T14:37:04.397Z"
   },
   {
    "duration": 21,
    "start_time": "2021-06-23T14:37:04.417Z"
   },
   {
    "duration": 536,
    "start_time": "2021-06-23T14:37:04.441Z"
   },
   {
    "duration": 890,
    "start_time": "2021-06-23T14:37:04.979Z"
   },
   {
    "duration": 9,
    "start_time": "2021-06-23T14:37:05.871Z"
   },
   {
    "duration": 736,
    "start_time": "2021-06-23T14:37:05.885Z"
   },
   {
    "duration": 8,
    "start_time": "2021-06-23T14:37:06.624Z"
   },
   {
    "duration": 1065,
    "start_time": "2021-06-23T14:37:06.635Z"
   },
   {
    "duration": 7,
    "start_time": "2021-06-23T14:37:07.703Z"
   },
   {
    "duration": 487,
    "start_time": "2021-06-23T14:37:07.713Z"
   },
   {
    "duration": 7,
    "start_time": "2021-06-23T14:37:08.203Z"
   },
   {
    "duration": 627,
    "start_time": "2021-06-23T14:37:08.212Z"
   },
   {
    "duration": 16,
    "start_time": "2021-06-23T14:37:08.841Z"
   },
   {
    "duration": 756,
    "start_time": "2021-06-23T14:37:08.859Z"
   },
   {
    "duration": 657,
    "start_time": "2021-06-23T14:37:09.617Z"
   },
   {
    "duration": 9,
    "start_time": "2021-06-23T14:37:10.277Z"
   },
   {
    "duration": 23,
    "start_time": "2021-06-23T14:37:10.288Z"
   },
   {
    "duration": 1307,
    "start_time": "2021-06-23T14:37:10.313Z"
   },
   {
    "duration": 321,
    "start_time": "2021-06-23T14:37:11.623Z"
   },
   {
    "duration": 616,
    "start_time": "2021-06-23T14:37:11.947Z"
   },
   {
    "duration": 305,
    "start_time": "2021-06-23T14:37:12.566Z"
   },
   {
    "duration": 286,
    "start_time": "2021-06-23T14:37:12.874Z"
   },
   {
    "duration": 372,
    "start_time": "2021-06-23T14:37:13.162Z"
   },
   {
    "duration": 437,
    "start_time": "2021-06-23T14:37:13.538Z"
   },
   {
    "duration": 37,
    "start_time": "2021-06-23T14:37:13.979Z"
   },
   {
    "duration": 7,
    "start_time": "2021-06-23T14:37:14.019Z"
   },
   {
    "duration": 344,
    "start_time": "2021-06-23T14:37:14.055Z"
   },
   {
    "duration": 31,
    "start_time": "2021-06-23T14:37:14.402Z"
   },
   {
    "duration": 52,
    "start_time": "2021-06-23T14:37:14.435Z"
   },
   {
    "duration": 350,
    "start_time": "2021-06-23T14:37:14.489Z"
   },
   {
    "duration": 384,
    "start_time": "2021-06-23T14:37:14.842Z"
   },
   {
    "duration": 31,
    "start_time": "2021-06-23T14:37:15.229Z"
   },
   {
    "duration": 392,
    "start_time": "2021-06-23T14:37:15.262Z"
   },
   {
    "duration": 10,
    "start_time": "2021-06-23T14:37:15.656Z"
   },
   {
    "duration": 9,
    "start_time": "2021-06-23T14:37:15.668Z"
   },
   {
    "duration": 8,
    "start_time": "2021-06-23T14:37:15.679Z"
   },
   {
    "duration": 17,
    "start_time": "2021-06-23T14:41:30.820Z"
   },
   {
    "duration": 4,
    "start_time": "2021-06-23T14:54:57.300Z"
   },
   {
    "duration": 131,
    "start_time": "2021-06-23T14:54:57.308Z"
   },
   {
    "duration": 20,
    "start_time": "2021-06-23T14:54:57.442Z"
   },
   {
    "duration": 119,
    "start_time": "2021-06-23T14:54:57.465Z"
   },
   {
    "duration": 11,
    "start_time": "2021-06-23T14:54:57.587Z"
   },
   {
    "duration": 17,
    "start_time": "2021-06-23T14:54:57.601Z"
   },
   {
    "duration": 34,
    "start_time": "2021-06-23T14:54:57.620Z"
   },
   {
    "duration": 6,
    "start_time": "2021-06-23T14:54:57.657Z"
   },
   {
    "duration": 23,
    "start_time": "2021-06-23T14:54:57.665Z"
   },
   {
    "duration": 6,
    "start_time": "2021-06-23T14:54:57.691Z"
   },
   {
    "duration": 24,
    "start_time": "2021-06-23T14:54:57.699Z"
   },
   {
    "duration": 7,
    "start_time": "2021-06-23T14:54:57.726Z"
   },
   {
    "duration": 666,
    "start_time": "2021-06-23T14:54:57.735Z"
   },
   {
    "duration": 13,
    "start_time": "2021-06-23T14:54:58.403Z"
   },
   {
    "duration": 11,
    "start_time": "2021-06-23T14:54:58.418Z"
   },
   {
    "duration": 774,
    "start_time": "2021-06-23T14:54:58.431Z"
   },
   {
    "duration": 11,
    "start_time": "2021-06-23T14:54:59.208Z"
   },
   {
    "duration": 22,
    "start_time": "2021-06-23T14:54:59.222Z"
   },
   {
    "duration": 5,
    "start_time": "2021-06-23T14:54:59.254Z"
   },
   {
    "duration": 429,
    "start_time": "2021-06-23T14:54:59.261Z"
   },
   {
    "duration": 854,
    "start_time": "2021-06-23T14:54:59.693Z"
   },
   {
    "duration": 8,
    "start_time": "2021-06-23T14:55:00.554Z"
   },
   {
    "duration": 738,
    "start_time": "2021-06-23T14:55:00.565Z"
   },
   {
    "duration": 8,
    "start_time": "2021-06-23T14:55:01.306Z"
   },
   {
    "duration": 1046,
    "start_time": "2021-06-23T14:55:01.316Z"
   },
   {
    "duration": 8,
    "start_time": "2021-06-23T14:55:02.365Z"
   },
   {
    "duration": 490,
    "start_time": "2021-06-23T14:55:02.375Z"
   },
   {
    "duration": 9,
    "start_time": "2021-06-23T14:55:02.868Z"
   },
   {
    "duration": 846,
    "start_time": "2021-06-23T14:55:02.880Z"
   },
   {
    "duration": 25,
    "start_time": "2021-06-23T14:55:03.729Z"
   },
   {
    "duration": 761,
    "start_time": "2021-06-23T14:55:03.757Z"
   },
   {
    "duration": 35,
    "start_time": "2021-06-23T14:55:04.521Z"
   },
   {
    "duration": 9,
    "start_time": "2021-06-23T14:55:04.558Z"
   },
   {
    "duration": 29,
    "start_time": "2021-06-23T14:55:04.570Z"
   },
   {
    "duration": 1034,
    "start_time": "2021-06-23T14:55:04.602Z"
   },
   {
    "duration": 340,
    "start_time": "2021-06-23T14:55:05.638Z"
   },
   {
    "duration": 623,
    "start_time": "2021-06-23T14:55:05.980Z"
   },
   {
    "duration": 312,
    "start_time": "2021-06-23T14:55:06.605Z"
   },
   {
    "duration": 287,
    "start_time": "2021-06-23T14:55:06.920Z"
   },
   {
    "duration": 288,
    "start_time": "2021-06-23T14:55:07.210Z"
   },
   {
    "duration": 325,
    "start_time": "2021-06-23T14:55:07.501Z"
   },
   {
    "duration": 50,
    "start_time": "2021-06-23T14:55:07.833Z"
   },
   {
    "duration": 6,
    "start_time": "2021-06-23T14:55:07.886Z"
   },
   {
    "duration": 343,
    "start_time": "2021-06-23T14:55:07.894Z"
   },
   {
    "duration": 20,
    "start_time": "2021-06-23T14:55:08.241Z"
   },
   {
    "duration": 40,
    "start_time": "2021-06-23T14:55:08.264Z"
   },
   {
    "duration": 480,
    "start_time": "2021-06-23T14:55:08.307Z"
   },
   {
    "duration": 401,
    "start_time": "2021-06-23T14:55:08.790Z"
   },
   {
    "duration": 20,
    "start_time": "2021-06-23T14:55:09.194Z"
   },
   {
    "duration": 447,
    "start_time": "2021-06-23T14:55:09.216Z"
   },
   {
    "duration": 10,
    "start_time": "2021-06-23T14:55:09.666Z"
   },
   {
    "duration": 22,
    "start_time": "2021-06-23T14:55:09.678Z"
   },
   {
    "duration": 17,
    "start_time": "2021-06-23T14:55:09.702Z"
   },
   {
    "duration": 18,
    "start_time": "2021-06-23T15:08:06.203Z"
   },
   {
    "duration": 130,
    "start_time": "2021-06-23T15:08:07.028Z"
   },
   {
    "duration": 20,
    "start_time": "2021-06-23T15:08:07.206Z"
   },
   {
    "duration": 173,
    "start_time": "2021-06-23T15:08:07.488Z"
   },
   {
    "duration": 165,
    "start_time": "2021-06-23T15:08:07.499Z"
   },
   {
    "duration": 151,
    "start_time": "2021-06-23T15:08:07.517Z"
   },
   {
    "duration": 150,
    "start_time": "2021-06-23T15:08:07.522Z"
   },
   {
    "duration": 148,
    "start_time": "2021-06-23T15:08:07.528Z"
   },
   {
    "duration": 145,
    "start_time": "2021-06-23T15:08:07.535Z"
   },
   {
    "duration": 144,
    "start_time": "2021-06-23T15:08:07.540Z"
   },
   {
    "duration": 143,
    "start_time": "2021-06-23T15:08:07.544Z"
   },
   {
    "duration": 143,
    "start_time": "2021-06-23T15:08:07.549Z"
   },
   {
    "duration": 125,
    "start_time": "2021-06-23T15:08:07.571Z"
   },
   {
    "duration": 123,
    "start_time": "2021-06-23T15:08:07.576Z"
   },
   {
    "duration": 175,
    "start_time": "2021-06-23T15:08:07.581Z"
   },
   {
    "duration": 175,
    "start_time": "2021-06-23T15:08:07.585Z"
   },
   {
    "duration": 165,
    "start_time": "2021-06-23T15:08:07.599Z"
   },
   {
    "duration": 137,
    "start_time": "2021-06-23T15:08:07.631Z"
   },
   {
    "duration": 135,
    "start_time": "2021-06-23T15:08:07.636Z"
   },
   {
    "duration": 133,
    "start_time": "2021-06-23T15:08:07.642Z"
   },
   {
    "duration": 112,
    "start_time": "2021-06-23T15:08:07.667Z"
   },
   {
    "duration": 110,
    "start_time": "2021-06-23T15:08:07.673Z"
   },
   {
    "duration": 99,
    "start_time": "2021-06-23T15:08:07.687Z"
   },
   {
    "duration": 96,
    "start_time": "2021-06-23T15:08:07.694Z"
   },
   {
    "duration": 9,
    "start_time": "2021-06-23T15:08:07.845Z"
   },
   {
    "duration": -10,
    "start_time": "2021-06-23T15:08:07.868Z"
   },
   {
    "duration": -12,
    "start_time": "2021-06-23T15:08:07.874Z"
   },
   {
    "duration": -55,
    "start_time": "2021-06-23T15:08:07.920Z"
   },
   {
    "duration": -57,
    "start_time": "2021-06-23T15:08:07.926Z"
   },
   {
    "duration": -57,
    "start_time": "2021-06-23T15:08:07.930Z"
   },
   {
    "duration": -74,
    "start_time": "2021-06-23T15:08:07.950Z"
   },
   {
    "duration": -74,
    "start_time": "2021-06-23T15:08:07.954Z"
   },
   {
    "duration": -145,
    "start_time": "2021-06-23T15:08:08.029Z"
   },
   {
    "duration": -148,
    "start_time": "2021-06-23T15:08:08.035Z"
   },
   {
    "duration": -201,
    "start_time": "2021-06-23T15:08:08.092Z"
   },
   {
    "duration": -138,
    "start_time": "2021-06-23T15:08:08.098Z"
   },
   {
    "duration": -139,
    "start_time": "2021-06-23T15:08:08.103Z"
   },
   {
    "duration": -139,
    "start_time": "2021-06-23T15:08:08.107Z"
   },
   {
    "duration": -140,
    "start_time": "2021-06-23T15:08:08.112Z"
   },
   {
    "duration": -140,
    "start_time": "2021-06-23T15:08:08.116Z"
   },
   {
    "duration": -143,
    "start_time": "2021-06-23T15:08:08.120Z"
   },
   {
    "duration": -144,
    "start_time": "2021-06-23T15:08:08.124Z"
   },
   {
    "duration": -157,
    "start_time": "2021-06-23T15:08:08.139Z"
   },
   {
    "duration": -160,
    "start_time": "2021-06-23T15:08:08.145Z"
   },
   {
    "duration": -162,
    "start_time": "2021-06-23T15:08:08.150Z"
   },
   {
    "duration": -102,
    "start_time": "2021-06-23T15:08:08.156Z"
   },
   {
    "duration": -103,
    "start_time": "2021-06-23T15:08:08.160Z"
   },
   {
    "duration": -105,
    "start_time": "2021-06-23T15:08:08.165Z"
   },
   {
    "duration": -109,
    "start_time": "2021-06-23T15:08:08.171Z"
   },
   {
    "duration": -111,
    "start_time": "2021-06-23T15:08:08.176Z"
   },
   {
    "duration": -112,
    "start_time": "2021-06-23T15:08:08.180Z"
   },
   {
    "duration": -113,
    "start_time": "2021-06-23T15:08:08.184Z"
   },
   {
    "duration": -114,
    "start_time": "2021-06-23T15:08:08.187Z"
   },
   {
    "duration": -115,
    "start_time": "2021-06-23T15:08:08.191Z"
   },
   {
    "duration": 476,
    "start_time": "2021-06-23T15:08:18.522Z"
   },
   {
    "duration": 8,
    "start_time": "2021-06-23T15:08:38.624Z"
   },
   {
    "duration": 8,
    "start_time": "2021-06-23T15:08:41.586Z"
   },
   {
    "duration": 8,
    "start_time": "2021-06-23T15:09:20.364Z"
   },
   {
    "duration": 9,
    "start_time": "2021-06-23T15:09:31.576Z"
   },
   {
    "duration": 348,
    "start_time": "2021-06-23T15:10:10.073Z"
   },
   {
    "duration": 403,
    "start_time": "2021-06-23T15:11:39.514Z"
   },
   {
    "duration": 356,
    "start_time": "2021-06-23T15:11:59.986Z"
   },
   {
    "duration": 460,
    "start_time": "2021-06-23T15:12:06.698Z"
   },
   {
    "duration": 924,
    "start_time": "2021-06-23T15:13:29.112Z"
   },
   {
    "duration": 155,
    "start_time": "2021-06-23T15:13:30.040Z"
   },
   {
    "duration": 15,
    "start_time": "2021-06-23T15:13:30.202Z"
   },
   {
    "duration": 138,
    "start_time": "2021-06-23T15:13:30.220Z"
   },
   {
    "duration": 13,
    "start_time": "2021-06-23T15:13:30.360Z"
   },
   {
    "duration": 19,
    "start_time": "2021-06-23T15:13:30.376Z"
   },
   {
    "duration": 35,
    "start_time": "2021-06-23T15:13:30.399Z"
   },
   {
    "duration": 16,
    "start_time": "2021-06-23T15:13:30.437Z"
   },
   {
    "duration": 31,
    "start_time": "2021-06-23T15:13:30.455Z"
   },
   {
    "duration": 25,
    "start_time": "2021-06-23T15:13:30.489Z"
   },
   {
    "duration": 41,
    "start_time": "2021-06-23T15:13:30.516Z"
   },
   {
    "duration": 30,
    "start_time": "2021-06-23T15:13:30.559Z"
   },
   {
    "duration": 726,
    "start_time": "2021-06-23T15:13:30.592Z"
   },
   {
    "duration": 13,
    "start_time": "2021-06-23T15:13:31.320Z"
   },
   {
    "duration": 20,
    "start_time": "2021-06-23T15:13:31.336Z"
   },
   {
    "duration": 693,
    "start_time": "2021-06-23T15:13:31.359Z"
   },
   {
    "duration": 11,
    "start_time": "2021-06-23T15:13:32.055Z"
   },
   {
    "duration": 20,
    "start_time": "2021-06-23T15:13:32.069Z"
   },
   {
    "duration": 5,
    "start_time": "2021-06-23T15:13:32.092Z"
   },
   {
    "duration": 526,
    "start_time": "2021-06-23T15:13:32.100Z"
   },
   {
    "duration": 1126,
    "start_time": "2021-06-23T15:13:32.629Z"
   },
   {
    "duration": 6,
    "start_time": "2021-06-23T15:13:33.761Z"
   },
   {
    "duration": 707,
    "start_time": "2021-06-23T15:13:33.770Z"
   },
   {
    "duration": 8,
    "start_time": "2021-06-23T15:13:34.479Z"
   },
   {
    "duration": 1150,
    "start_time": "2021-06-23T15:13:34.490Z"
   },
   {
    "duration": 12,
    "start_time": "2021-06-23T15:13:35.643Z"
   },
   {
    "duration": 460,
    "start_time": "2021-06-23T15:13:35.658Z"
   },
   {
    "duration": 7,
    "start_time": "2021-06-23T15:13:36.120Z"
   },
   {
    "duration": 1126,
    "start_time": "2021-06-23T15:13:36.130Z"
   },
   {
    "duration": 8,
    "start_time": "2021-06-23T15:13:37.259Z"
   },
   {
    "duration": 763,
    "start_time": "2021-06-23T15:13:37.270Z"
   },
   {
    "duration": 689,
    "start_time": "2021-06-23T15:13:38.035Z"
   },
   {
    "duration": 29,
    "start_time": "2021-06-23T15:13:38.727Z"
   },
   {
    "duration": 23,
    "start_time": "2021-06-23T15:13:38.758Z"
   },
   {
    "duration": 1388,
    "start_time": "2021-06-23T15:13:38.784Z"
   },
   {
    "duration": 480,
    "start_time": "2021-06-23T15:13:40.174Z"
   },
   {
    "duration": 630,
    "start_time": "2021-06-23T15:13:40.656Z"
   },
   {
    "duration": 295,
    "start_time": "2021-06-23T15:13:41.289Z"
   },
   {
    "duration": 287,
    "start_time": "2021-06-23T15:13:41.587Z"
   },
   {
    "duration": 369,
    "start_time": "2021-06-23T15:13:41.877Z"
   },
   {
    "duration": 334,
    "start_time": "2021-06-23T15:13:42.249Z"
   },
   {
    "duration": 36,
    "start_time": "2021-06-23T15:13:42.585Z"
   },
   {
    "duration": 6,
    "start_time": "2021-06-23T15:13:42.623Z"
   },
   {
    "duration": 464,
    "start_time": "2021-06-23T15:13:42.655Z"
   },
   {
    "duration": 11,
    "start_time": "2021-06-23T15:13:43.122Z"
   },
   {
    "duration": 66,
    "start_time": "2021-06-23T15:13:43.154Z"
   },
   {
    "duration": 547,
    "start_time": "2021-06-23T15:13:43.223Z"
   },
   {
    "duration": 680,
    "start_time": "2021-06-23T15:13:43.774Z"
   },
   {
    "duration": 14,
    "start_time": "2021-06-23T15:13:44.457Z"
   },
   {
    "duration": 414,
    "start_time": "2021-06-23T15:13:44.474Z"
   },
   {
    "duration": 644,
    "start_time": "2021-06-23T15:13:44.890Z"
   },
   {
    "duration": 152,
    "start_time": "2021-06-23T15:13:45.385Z"
   },
   {
    "duration": 15,
    "start_time": "2021-06-23T15:14:41.144Z"
   },
   {
    "duration": 19,
    "start_time": "2021-06-23T15:16:25.882Z"
   },
   {
    "duration": 15,
    "start_time": "2021-06-23T15:16:45.203Z"
   },
   {
    "duration": 900,
    "start_time": "2021-06-23T15:17:08.758Z"
   },
   {
    "duration": 149,
    "start_time": "2021-06-23T15:17:09.661Z"
   },
   {
    "duration": 16,
    "start_time": "2021-06-23T15:17:09.813Z"
   },
   {
    "duration": 123,
    "start_time": "2021-06-23T15:17:09.833Z"
   },
   {
    "duration": 13,
    "start_time": "2021-06-23T15:17:09.959Z"
   },
   {
    "duration": 22,
    "start_time": "2021-06-23T15:17:09.975Z"
   },
   {
    "duration": 20,
    "start_time": "2021-06-23T15:17:10.000Z"
   },
   {
    "duration": 30,
    "start_time": "2021-06-23T15:17:10.024Z"
   },
   {
    "duration": 12,
    "start_time": "2021-06-23T15:17:10.058Z"
   },
   {
    "duration": 6,
    "start_time": "2021-06-23T15:17:10.073Z"
   },
   {
    "duration": 24,
    "start_time": "2021-06-23T15:17:10.081Z"
   },
   {
    "duration": 13,
    "start_time": "2021-06-23T15:17:10.108Z"
   },
   {
    "duration": 714,
    "start_time": "2021-06-23T15:17:10.123Z"
   },
   {
    "duration": 21,
    "start_time": "2021-06-23T15:17:10.840Z"
   },
   {
    "duration": 8,
    "start_time": "2021-06-23T15:17:10.864Z"
   },
   {
    "duration": 712,
    "start_time": "2021-06-23T15:17:10.874Z"
   },
   {
    "duration": 11,
    "start_time": "2021-06-23T15:17:11.589Z"
   },
   {
    "duration": 22,
    "start_time": "2021-06-23T15:17:11.603Z"
   },
   {
    "duration": 13,
    "start_time": "2021-06-23T15:17:11.628Z"
   },
   {
    "duration": 32,
    "start_time": "2021-06-23T15:17:11.644Z"
   },
   {
    "duration": 794,
    "start_time": "2021-06-23T15:17:11.679Z"
   },
   {
    "duration": 6,
    "start_time": "2021-06-23T15:17:12.475Z"
   },
   {
    "duration": 774,
    "start_time": "2021-06-23T15:17:12.487Z"
   },
   {
    "duration": 8,
    "start_time": "2021-06-23T15:17:13.264Z"
   },
   {
    "duration": 1027,
    "start_time": "2021-06-23T15:17:13.274Z"
   },
   {
    "duration": 10,
    "start_time": "2021-06-23T15:17:14.303Z"
   },
   {
    "duration": 474,
    "start_time": "2021-06-23T15:17:14.316Z"
   },
   {
    "duration": 8,
    "start_time": "2021-06-23T15:17:14.792Z"
   },
   {
    "duration": 594,
    "start_time": "2021-06-23T15:17:14.802Z"
   },
   {
    "duration": 9,
    "start_time": "2021-06-23T15:17:15.398Z"
   },
   {
    "duration": 748,
    "start_time": "2021-06-23T15:17:15.410Z"
   },
   {
    "duration": 616,
    "start_time": "2021-06-23T15:17:16.160Z"
   },
   {
    "duration": 11,
    "start_time": "2021-06-23T15:17:16.779Z"
   },
   {
    "duration": 36,
    "start_time": "2021-06-23T15:17:16.792Z"
   },
   {
    "duration": 1086,
    "start_time": "2021-06-23T15:17:16.831Z"
   },
   {
    "duration": 393,
    "start_time": "2021-06-23T15:17:17.919Z"
   },
   {
    "duration": 616,
    "start_time": "2021-06-23T15:17:18.315Z"
   },
   {
    "duration": 413,
    "start_time": "2021-06-23T15:17:18.933Z"
   },
   {
    "duration": 363,
    "start_time": "2021-06-23T15:17:19.349Z"
   },
   {
    "duration": 343,
    "start_time": "2021-06-23T15:17:19.715Z"
   },
   {
    "duration": 335,
    "start_time": "2021-06-23T15:17:20.061Z"
   },
   {
    "duration": 34,
    "start_time": "2021-06-23T15:17:20.399Z"
   },
   {
    "duration": 20,
    "start_time": "2021-06-23T15:17:20.435Z"
   },
   {
    "duration": 345,
    "start_time": "2021-06-23T15:17:20.458Z"
   },
   {
    "duration": 8,
    "start_time": "2021-06-23T15:17:20.805Z"
   },
   {
    "duration": 61,
    "start_time": "2021-06-23T15:17:20.815Z"
   },
   {
    "duration": 366,
    "start_time": "2021-06-23T15:17:20.879Z"
   },
   {
    "duration": 399,
    "start_time": "2021-06-23T15:17:21.248Z"
   },
   {
    "duration": 15,
    "start_time": "2021-06-23T15:17:21.649Z"
   },
   {
    "duration": 391,
    "start_time": "2021-06-23T15:17:21.666Z"
   },
   {
    "duration": 13,
    "start_time": "2021-06-23T15:17:22.059Z"
   },
   {
    "duration": 384,
    "start_time": "2021-06-23T15:17:22.075Z"
   },
   {
    "duration": 14,
    "start_time": "2021-06-23T15:17:22.461Z"
   },
   {
    "duration": 14,
    "start_time": "2021-06-23T15:51:16.122Z"
   },
   {
    "duration": 18,
    "start_time": "2021-06-23T16:09:26.443Z"
   },
   {
    "duration": 850,
    "start_time": "2021-06-23T16:10:09.603Z"
   },
   {
    "duration": 153,
    "start_time": "2021-06-23T16:10:10.456Z"
   },
   {
    "duration": 18,
    "start_time": "2021-06-23T16:10:10.613Z"
   },
   {
    "duration": 131,
    "start_time": "2021-06-23T16:10:10.634Z"
   },
   {
    "duration": 13,
    "start_time": "2021-06-23T16:10:10.767Z"
   },
   {
    "duration": 20,
    "start_time": "2021-06-23T16:10:10.782Z"
   },
   {
    "duration": 17,
    "start_time": "2021-06-23T16:10:10.805Z"
   },
   {
    "duration": 33,
    "start_time": "2021-06-23T16:10:10.825Z"
   },
   {
    "duration": 13,
    "start_time": "2021-06-23T16:10:10.862Z"
   },
   {
    "duration": 5,
    "start_time": "2021-06-23T16:10:10.878Z"
   },
   {
    "duration": 24,
    "start_time": "2021-06-23T16:10:10.886Z"
   },
   {
    "duration": 44,
    "start_time": "2021-06-23T16:10:10.912Z"
   },
   {
    "duration": 670,
    "start_time": "2021-06-23T16:10:10.959Z"
   },
   {
    "duration": 25,
    "start_time": "2021-06-23T16:10:11.631Z"
   },
   {
    "duration": 8,
    "start_time": "2021-06-23T16:10:11.658Z"
   },
   {
    "duration": 697,
    "start_time": "2021-06-23T16:10:11.668Z"
   },
   {
    "duration": 12,
    "start_time": "2021-06-23T16:10:12.367Z"
   },
   {
    "duration": 14,
    "start_time": "2021-06-23T16:10:12.381Z"
   },
   {
    "duration": 17,
    "start_time": "2021-06-23T16:10:12.398Z"
   },
   {
    "duration": 39,
    "start_time": "2021-06-23T16:10:12.418Z"
   },
   {
    "duration": 21,
    "start_time": "2021-06-23T16:10:12.459Z"
   },
   {
    "duration": 818,
    "start_time": "2021-06-23T16:10:12.483Z"
   },
   {
    "duration": 6,
    "start_time": "2021-06-23T16:10:13.307Z"
   },
   {
    "duration": 831,
    "start_time": "2021-06-23T16:10:13.316Z"
   },
   {
    "duration": 7,
    "start_time": "2021-06-23T16:10:14.149Z"
   },
   {
    "duration": 1140,
    "start_time": "2021-06-23T16:10:14.159Z"
   },
   {
    "duration": 9,
    "start_time": "2021-06-23T16:10:15.301Z"
   },
   {
    "duration": 507,
    "start_time": "2021-06-23T16:10:15.312Z"
   },
   {
    "duration": 8,
    "start_time": "2021-06-23T16:10:15.821Z"
   },
   {
    "duration": 586,
    "start_time": "2021-06-23T16:10:15.832Z"
   },
   {
    "duration": 8,
    "start_time": "2021-06-23T16:10:16.421Z"
   },
   {
    "duration": 748,
    "start_time": "2021-06-23T16:10:16.431Z"
   },
   {
    "duration": 640,
    "start_time": "2021-06-23T16:10:17.182Z"
   },
   {
    "duration": 10,
    "start_time": "2021-06-23T16:10:17.825Z"
   },
   {
    "duration": 40,
    "start_time": "2021-06-23T16:10:17.837Z"
   },
   {
    "duration": 1056,
    "start_time": "2021-06-23T16:10:17.879Z"
   },
   {
    "duration": 410,
    "start_time": "2021-06-23T16:10:18.938Z"
   },
   {
    "duration": 995,
    "start_time": "2021-06-23T16:10:19.354Z"
   },
   {
    "duration": 298,
    "start_time": "2021-06-23T16:10:20.354Z"
   },
   {
    "duration": 322,
    "start_time": "2021-06-23T16:10:20.655Z"
   },
   {
    "duration": 329,
    "start_time": "2021-06-23T16:10:20.979Z"
   },
   {
    "duration": 346,
    "start_time": "2021-06-23T16:10:21.311Z"
   },
   {
    "duration": 42,
    "start_time": "2021-06-23T16:10:21.660Z"
   },
   {
    "duration": 6,
    "start_time": "2021-06-23T16:10:21.706Z"
   },
   {
    "duration": 383,
    "start_time": "2021-06-23T16:10:21.715Z"
   },
   {
    "duration": 9,
    "start_time": "2021-06-23T16:10:22.101Z"
   },
   {
    "duration": 65,
    "start_time": "2021-06-23T16:10:22.113Z"
   },
   {
    "duration": 377,
    "start_time": "2021-06-23T16:10:22.181Z"
   },
   {
    "duration": 411,
    "start_time": "2021-06-23T16:10:22.560Z"
   },
   {
    "duration": 14,
    "start_time": "2021-06-23T16:10:22.974Z"
   },
   {
    "duration": 405,
    "start_time": "2021-06-23T16:10:22.990Z"
   },
   {
    "duration": 378,
    "start_time": "2021-06-23T16:10:23.399Z"
   },
   {
    "duration": 986,
    "start_time": "2021-06-24T05:08:40.197Z"
   },
   {
    "duration": 171,
    "start_time": "2021-06-24T05:08:41.185Z"
   },
   {
    "duration": 31,
    "start_time": "2021-06-24T05:08:41.360Z"
   },
   {
    "duration": 117,
    "start_time": "2021-06-24T05:08:41.395Z"
   },
   {
    "duration": 15,
    "start_time": "2021-06-24T05:08:41.514Z"
   },
   {
    "duration": 17,
    "start_time": "2021-06-24T05:08:41.532Z"
   },
   {
    "duration": 43,
    "start_time": "2021-06-24T05:08:41.551Z"
   },
   {
    "duration": 6,
    "start_time": "2021-06-24T05:08:41.596Z"
   },
   {
    "duration": 17,
    "start_time": "2021-06-24T05:08:41.606Z"
   },
   {
    "duration": 5,
    "start_time": "2021-06-24T05:08:41.627Z"
   },
   {
    "duration": 14,
    "start_time": "2021-06-24T05:08:41.635Z"
   },
   {
    "duration": 42,
    "start_time": "2021-06-24T05:08:41.652Z"
   },
   {
    "duration": 634,
    "start_time": "2021-06-24T05:08:41.697Z"
   },
   {
    "duration": 12,
    "start_time": "2021-06-24T05:08:42.334Z"
   },
   {
    "duration": 6,
    "start_time": "2021-06-24T05:08:42.349Z"
   },
   {
    "duration": 650,
    "start_time": "2021-06-24T05:08:42.357Z"
   },
   {
    "duration": 11,
    "start_time": "2021-06-24T05:08:43.010Z"
   },
   {
    "duration": 13,
    "start_time": "2021-06-24T05:08:43.024Z"
   },
   {
    "duration": 17,
    "start_time": "2021-06-24T05:08:43.040Z"
   },
   {
    "duration": 27,
    "start_time": "2021-06-24T05:08:43.059Z"
   },
   {
    "duration": 25,
    "start_time": "2021-06-24T05:08:43.088Z"
   },
   {
    "duration": 740,
    "start_time": "2021-06-24T05:08:43.116Z"
   },
   {
    "duration": 6,
    "start_time": "2021-06-24T05:08:43.859Z"
   },
   {
    "duration": 728,
    "start_time": "2021-06-24T05:08:43.868Z"
   },
   {
    "duration": 8,
    "start_time": "2021-06-24T05:08:44.598Z"
   },
   {
    "duration": 1074,
    "start_time": "2021-06-24T05:08:44.609Z"
   },
   {
    "duration": 8,
    "start_time": "2021-06-24T05:08:45.690Z"
   },
   {
    "duration": 685,
    "start_time": "2021-06-24T05:08:45.701Z"
   },
   {
    "duration": 8,
    "start_time": "2021-06-24T05:08:46.388Z"
   },
   {
    "duration": 533,
    "start_time": "2021-06-24T05:08:46.399Z"
   },
   {
    "duration": 8,
    "start_time": "2021-06-24T05:08:46.934Z"
   },
   {
    "duration": 679,
    "start_time": "2021-06-24T05:08:46.945Z"
   },
   {
    "duration": 661,
    "start_time": "2021-06-24T05:08:47.626Z"
   },
   {
    "duration": 9,
    "start_time": "2021-06-24T05:08:48.289Z"
   },
   {
    "duration": 21,
    "start_time": "2021-06-24T05:08:48.301Z"
   },
   {
    "duration": 1004,
    "start_time": "2021-06-24T05:08:48.324Z"
   },
   {
    "duration": 398,
    "start_time": "2021-06-24T05:08:49.330Z"
   },
   {
    "duration": 623,
    "start_time": "2021-06-24T05:08:49.731Z"
   },
   {
    "duration": 416,
    "start_time": "2021-06-24T05:08:50.357Z"
   },
   {
    "duration": 315,
    "start_time": "2021-06-24T05:08:50.784Z"
   },
   {
    "duration": 315,
    "start_time": "2021-06-24T05:08:51.101Z"
   },
   {
    "duration": 357,
    "start_time": "2021-06-24T05:08:51.419Z"
   },
   {
    "duration": 42,
    "start_time": "2021-06-24T05:08:51.782Z"
   },
   {
    "duration": 7,
    "start_time": "2021-06-24T05:08:51.827Z"
   },
   {
    "duration": 356,
    "start_time": "2021-06-24T05:08:51.837Z"
   },
   {
    "duration": 9,
    "start_time": "2021-06-24T05:08:52.197Z"
   },
   {
    "duration": 41,
    "start_time": "2021-06-24T05:08:52.209Z"
   },
   {
    "duration": 375,
    "start_time": "2021-06-24T05:08:52.253Z"
   },
   {
    "duration": 361,
    "start_time": "2021-06-24T05:08:52.631Z"
   },
   {
    "duration": 13,
    "start_time": "2021-06-24T05:08:52.995Z"
   },
   {
    "duration": 374,
    "start_time": "2021-06-24T05:08:53.010Z"
   },
   {
    "duration": 344,
    "start_time": "2021-06-24T05:08:53.387Z"
   },
   {
    "duration": 9,
    "start_time": "2021-06-24T05:08:54.552Z"
   },
   {
    "duration": 9,
    "start_time": "2021-06-24T05:09:21.993Z"
   },
   {
    "duration": 7,
    "start_time": "2021-06-24T05:10:03.554Z"
   },
   {
    "duration": 1407,
    "start_time": "2021-06-24T05:11:14.391Z"
   },
   {
    "duration": 952,
    "start_time": "2021-06-24T05:11:33.555Z"
   },
   {
    "duration": 9,
    "start_time": "2021-06-24T05:11:59.458Z"
   },
   {
    "duration": 8,
    "start_time": "2021-06-24T05:12:37.227Z"
   },
   {
    "duration": 8,
    "start_time": "2021-06-24T05:15:08.109Z"
   },
   {
    "duration": 11,
    "start_time": "2021-06-24T05:16:01.577Z"
   },
   {
    "duration": 335,
    "start_time": "2021-06-24T05:40:02.643Z"
   },
   {
    "duration": 12,
    "start_time": "2021-06-24T05:40:08.915Z"
   },
   {
    "duration": 660,
    "start_time": "2021-06-24T05:40:26.832Z"
   },
   {
    "duration": 693,
    "start_time": "2021-06-24T05:41:08.297Z"
   },
   {
    "duration": 10,
    "start_time": "2021-06-24T05:41:39.660Z"
   },
   {
    "duration": 755,
    "start_time": "2021-06-24T05:43:16.406Z"
   },
   {
    "duration": 9,
    "start_time": "2021-06-24T05:56:33.896Z"
   },
   {
    "duration": 8,
    "start_time": "2021-06-24T05:56:39.934Z"
   },
   {
    "duration": 3121,
    "start_time": "2021-06-24T06:20:31.729Z"
   },
   {
    "duration": 1903,
    "start_time": "2021-06-24T06:21:01.650Z"
   },
   {
    "duration": 918,
    "start_time": "2021-06-24T06:21:16.784Z"
   },
   {
    "duration": 959,
    "start_time": "2021-06-24T06:26:26.113Z"
   },
   {
    "duration": 8,
    "start_time": "2021-06-24T06:26:44.455Z"
   },
   {
    "duration": 1438,
    "start_time": "2021-06-24T07:01:07.033Z"
   },
   {
    "duration": 1216,
    "start_time": "2021-06-24T07:03:22.103Z"
   },
   {
    "duration": 942,
    "start_time": "2021-06-24T07:08:11.156Z"
   },
   {
    "duration": 1122,
    "start_time": "2021-06-24T07:42:15.123Z"
   },
   {
    "duration": 8,
    "start_time": "2021-06-24T07:49:55.365Z"
   },
   {
    "duration": 538,
    "start_time": "2021-06-24T07:50:58.789Z"
   },
   {
    "duration": 60,
    "start_time": "2021-06-24T08:11:57.586Z"
   },
   {
    "duration": 524,
    "start_time": "2021-06-24T08:13:07.829Z"
   },
   {
    "duration": 518,
    "start_time": "2021-06-24T08:14:14.571Z"
   },
   {
    "duration": 533,
    "start_time": "2021-06-24T08:14:27.395Z"
   },
   {
    "duration": 554,
    "start_time": "2021-06-24T08:15:42.029Z"
   },
   {
    "duration": 651,
    "start_time": "2021-06-24T08:16:07.788Z"
   },
   {
    "duration": 528,
    "start_time": "2021-06-24T08:16:26.644Z"
   },
   {
    "duration": 691,
    "start_time": "2021-06-24T08:17:11.013Z"
   },
   {
    "duration": 9,
    "start_time": "2021-06-24T08:17:46.021Z"
   },
   {
    "duration": 841,
    "start_time": "2021-06-24T08:18:16.158Z"
   },
   {
    "duration": 8,
    "start_time": "2021-06-24T08:18:55.359Z"
   },
   {
    "duration": 8,
    "start_time": "2021-06-24T08:19:01.293Z"
   },
   {
    "duration": 8,
    "start_time": "2021-06-24T08:19:14.062Z"
   },
   {
    "duration": 550,
    "start_time": "2021-06-24T08:21:38.192Z"
   },
   {
    "duration": 797,
    "start_time": "2021-06-24T08:27:03.114Z"
   },
   {
    "duration": 692,
    "start_time": "2021-06-24T08:27:14.756Z"
   },
   {
    "duration": 678,
    "start_time": "2021-06-24T08:27:50.811Z"
   },
   {
    "duration": 8,
    "start_time": "2021-06-24T08:45:25.232Z"
   },
   {
    "duration": 8,
    "start_time": "2021-06-24T08:45:29.422Z"
   },
   {
    "duration": 106,
    "start_time": "2021-06-24T11:05:21.082Z"
   },
   {
    "duration": 97,
    "start_time": "2021-06-24T11:05:25.995Z"
   },
   {
    "duration": 103,
    "start_time": "2021-06-24T11:05:29.094Z"
   },
   {
    "duration": 118,
    "start_time": "2021-06-24T11:05:33.972Z"
   },
   {
    "duration": 91,
    "start_time": "2021-06-24T11:05:37.595Z"
   },
   {
    "duration": 95,
    "start_time": "2021-06-24T11:05:45.827Z"
   },
   {
    "duration": 100,
    "start_time": "2021-06-24T11:05:51.100Z"
   },
   {
    "duration": 18,
    "start_time": "2021-06-24T11:06:01.716Z"
   },
   {
    "duration": 18,
    "start_time": "2021-06-24T11:07:33.117Z"
   },
   {
    "duration": 930,
    "start_time": "2021-06-24T11:11:25.944Z"
   },
   {
    "duration": 92,
    "start_time": "2021-06-24T11:11:32.720Z"
   },
   {
    "duration": 9,
    "start_time": "2021-06-24T11:11:44.539Z"
   },
   {
    "duration": 1045,
    "start_time": "2021-06-24T11:13:04.098Z"
   },
   {
    "duration": 914,
    "start_time": "2021-06-24T11:14:04.195Z"
   },
   {
    "duration": 977,
    "start_time": "2021-06-24T11:14:29.946Z"
   },
   {
    "duration": 1333,
    "start_time": "2021-06-24T11:20:30.279Z"
   },
   {
    "duration": 16,
    "start_time": "2021-06-24T11:24:30.727Z"
   },
   {
    "duration": 815,
    "start_time": "2021-06-24T11:35:14.904Z"
   },
   {
    "duration": 144,
    "start_time": "2021-06-24T11:35:15.722Z"
   },
   {
    "duration": 23,
    "start_time": "2021-06-24T11:35:15.869Z"
   },
   {
    "duration": 114,
    "start_time": "2021-06-24T11:35:15.895Z"
   },
   {
    "duration": 13,
    "start_time": "2021-06-24T11:35:16.012Z"
   },
   {
    "duration": 17,
    "start_time": "2021-06-24T11:35:16.028Z"
   },
   {
    "duration": 43,
    "start_time": "2021-06-24T11:35:16.047Z"
   },
   {
    "duration": 6,
    "start_time": "2021-06-24T11:35:16.093Z"
   },
   {
    "duration": 12,
    "start_time": "2021-06-24T11:35:16.102Z"
   },
   {
    "duration": 5,
    "start_time": "2021-06-24T11:35:16.116Z"
   },
   {
    "duration": 18,
    "start_time": "2021-06-24T11:35:16.123Z"
   },
   {
    "duration": 42,
    "start_time": "2021-06-24T11:35:16.143Z"
   },
   {
    "duration": 643,
    "start_time": "2021-06-24T11:35:16.187Z"
   },
   {
    "duration": 13,
    "start_time": "2021-06-24T11:35:16.832Z"
   },
   {
    "duration": 7,
    "start_time": "2021-06-24T11:35:16.847Z"
   },
   {
    "duration": 647,
    "start_time": "2021-06-24T11:35:16.856Z"
   },
   {
    "duration": 11,
    "start_time": "2021-06-24T11:35:17.505Z"
   },
   {
    "duration": 13,
    "start_time": "2021-06-24T11:35:17.518Z"
   },
   {
    "duration": 16,
    "start_time": "2021-06-24T11:35:17.534Z"
   },
   {
    "duration": 31,
    "start_time": "2021-06-24T11:35:17.552Z"
   },
   {
    "duration": 21,
    "start_time": "2021-06-24T11:35:17.585Z"
   },
   {
    "duration": 768,
    "start_time": "2021-06-24T11:35:17.609Z"
   },
   {
    "duration": 7,
    "start_time": "2021-06-24T11:35:18.386Z"
   },
   {
    "duration": 987,
    "start_time": "2021-06-24T11:35:18.396Z"
   },
   {
    "duration": 8,
    "start_time": "2021-06-24T11:35:19.385Z"
   },
   {
    "duration": 1557,
    "start_time": "2021-06-24T11:35:19.395Z"
   },
   {
    "duration": 9,
    "start_time": "2021-06-24T11:35:20.955Z"
   },
   {
    "duration": 962,
    "start_time": "2021-06-24T11:35:20.967Z"
   },
   {
    "duration": 6,
    "start_time": "2021-06-24T11:35:21.931Z"
   },
   {
    "duration": 451,
    "start_time": "2021-06-24T11:35:21.940Z"
   },
   {
    "duration": 7,
    "start_time": "2021-06-24T11:35:22.393Z"
   },
   {
    "duration": 646,
    "start_time": "2021-06-24T11:35:22.402Z"
   },
   {
    "duration": 8,
    "start_time": "2021-06-24T11:35:23.050Z"
   },
   {
    "duration": 683,
    "start_time": "2021-06-24T11:35:23.060Z"
   },
   {
    "duration": 8,
    "start_time": "2021-06-24T11:35:23.745Z"
   },
   {
    "duration": 35,
    "start_time": "2021-06-24T11:35:23.755Z"
   },
   {
    "duration": 1011,
    "start_time": "2021-06-24T11:35:23.793Z"
   },
   {
    "duration": 333,
    "start_time": "2021-06-24T11:35:24.806Z"
   },
   {
    "duration": 616,
    "start_time": "2021-06-24T11:35:25.142Z"
   },
   {
    "duration": 273,
    "start_time": "2021-06-24T11:35:25.760Z"
   },
   {
    "duration": 295,
    "start_time": "2021-06-24T11:35:26.036Z"
   },
   {
    "duration": 394,
    "start_time": "2021-06-24T11:35:26.334Z"
   },
   {
    "duration": 524,
    "start_time": "2021-06-24T11:35:26.783Z"
   },
   {
    "duration": 35,
    "start_time": "2021-06-24T11:35:27.310Z"
   },
   {
    "duration": 6,
    "start_time": "2021-06-24T11:35:27.347Z"
   },
   {
    "duration": 307,
    "start_time": "2021-06-24T11:35:27.384Z"
   },
   {
    "duration": 10,
    "start_time": "2021-06-24T11:35:27.694Z"
   },
   {
    "duration": 145,
    "start_time": "2021-06-24T11:35:27.707Z"
   },
   {
    "duration": 360,
    "start_time": "2021-06-24T11:35:27.855Z"
   },
   {
    "duration": 358,
    "start_time": "2021-06-24T11:35:28.217Z"
   },
   {
    "duration": 17,
    "start_time": "2021-06-24T11:35:28.577Z"
   },
   {
    "duration": 355,
    "start_time": "2021-06-24T11:35:28.596Z"
   },
   {
    "duration": 404,
    "start_time": "2021-06-24T11:35:28.953Z"
   },
   {
    "duration": 463,
    "start_time": "2021-06-24T11:36:34.624Z"
   },
   {
    "duration": 594,
    "start_time": "2021-06-24T11:36:46.967Z"
   },
   {
    "duration": 293,
    "start_time": "2021-06-24T11:38:54.352Z"
   },
   {
    "duration": 298,
    "start_time": "2021-06-24T11:39:57.201Z"
   },
   {
    "duration": 950,
    "start_time": "2021-06-24T12:04:15.899Z"
   },
   {
    "duration": 961,
    "start_time": "2021-06-24T12:07:03.886Z"
   },
   {
    "duration": 330,
    "start_time": "2021-06-24T12:21:59.503Z"
   },
   {
    "duration": 1022,
    "start_time": "2021-06-24T13:58:38.694Z"
   },
   {
    "duration": 334,
    "start_time": "2021-06-24T13:59:25.222Z"
   },
   {
    "duration": 1028,
    "start_time": "2021-06-24T13:59:46.479Z"
   },
   {
    "duration": 927,
    "start_time": "2021-06-24T14:15:56.413Z"
   },
   {
    "duration": 930,
    "start_time": "2021-06-24T14:16:59.015Z"
   },
   {
    "duration": 14,
    "start_time": "2021-06-24T14:20:12.622Z"
   },
   {
    "duration": 13,
    "start_time": "2021-06-24T14:20:41.587Z"
   },
   {
    "duration": 835,
    "start_time": "2021-06-24T14:23:57.499Z"
   },
   {
    "duration": 147,
    "start_time": "2021-06-24T14:23:58.337Z"
   },
   {
    "duration": 14,
    "start_time": "2021-06-24T14:23:58.487Z"
   },
   {
    "duration": 115,
    "start_time": "2021-06-24T14:23:58.504Z"
   },
   {
    "duration": 13,
    "start_time": "2021-06-24T14:23:58.621Z"
   },
   {
    "duration": 16,
    "start_time": "2021-06-24T14:23:58.636Z"
   },
   {
    "duration": 38,
    "start_time": "2021-06-24T14:23:58.655Z"
   },
   {
    "duration": 5,
    "start_time": "2021-06-24T14:23:58.697Z"
   },
   {
    "duration": 24,
    "start_time": "2021-06-24T14:23:58.705Z"
   },
   {
    "duration": 12,
    "start_time": "2021-06-24T14:23:58.732Z"
   },
   {
    "duration": 5,
    "start_time": "2021-06-24T14:23:58.746Z"
   },
   {
    "duration": 46,
    "start_time": "2021-06-24T14:23:58.753Z"
   },
   {
    "duration": 13,
    "start_time": "2021-06-24T14:23:58.801Z"
   },
   {
    "duration": 644,
    "start_time": "2021-06-24T14:23:58.817Z"
   },
   {
    "duration": 24,
    "start_time": "2021-06-24T14:23:59.464Z"
   },
   {
    "duration": 6,
    "start_time": "2021-06-24T14:23:59.491Z"
   },
   {
    "duration": 650,
    "start_time": "2021-06-24T14:23:59.500Z"
   },
   {
    "duration": 11,
    "start_time": "2021-06-24T14:24:00.153Z"
   },
   {
    "duration": 25,
    "start_time": "2021-06-24T14:24:00.166Z"
   },
   {
    "duration": 30,
    "start_time": "2021-06-24T14:24:00.194Z"
   },
   {
    "duration": 5,
    "start_time": "2021-06-24T14:24:00.227Z"
   },
   {
    "duration": 24,
    "start_time": "2021-06-24T14:24:00.234Z"
   },
   {
    "duration": 740,
    "start_time": "2021-06-24T14:24:00.263Z"
   },
   {
    "duration": 7,
    "start_time": "2021-06-24T14:24:01.006Z"
   },
   {
    "duration": 1010,
    "start_time": "2021-06-24T14:24:01.016Z"
   },
   {
    "duration": 10,
    "start_time": "2021-06-24T14:24:02.029Z"
   },
   {
    "duration": 1576,
    "start_time": "2021-06-24T14:24:02.042Z"
   },
   {
    "duration": 11,
    "start_time": "2021-06-24T14:24:03.621Z"
   },
   {
    "duration": 999,
    "start_time": "2021-06-24T14:24:03.635Z"
   },
   {
    "duration": 9,
    "start_time": "2021-06-24T14:24:04.637Z"
   },
   {
    "duration": 444,
    "start_time": "2021-06-24T14:24:04.649Z"
   },
   {
    "duration": 8,
    "start_time": "2021-06-24T14:24:05.096Z"
   },
   {
    "duration": 688,
    "start_time": "2021-06-24T14:24:05.106Z"
   },
   {
    "duration": 8,
    "start_time": "2021-06-24T14:24:05.796Z"
   },
   {
    "duration": 701,
    "start_time": "2021-06-24T14:24:05.807Z"
   },
   {
    "duration": 7,
    "start_time": "2021-06-24T14:24:06.511Z"
   },
   {
    "duration": 20,
    "start_time": "2021-06-24T14:24:06.520Z"
   },
   {
    "duration": 1075,
    "start_time": "2021-06-24T14:24:06.543Z"
   },
   {
    "duration": 348,
    "start_time": "2021-06-24T14:24:07.621Z"
   },
   {
    "duration": 943,
    "start_time": "2021-06-24T14:24:07.971Z"
   },
   {
    "duration": 280,
    "start_time": "2021-06-24T14:24:08.917Z"
   },
   {
    "duration": 280,
    "start_time": "2021-06-24T14:24:09.199Z"
   },
   {
    "duration": 322,
    "start_time": "2021-06-24T14:24:09.483Z"
   },
   {
    "duration": 291,
    "start_time": "2021-06-24T14:24:09.808Z"
   },
   {
    "duration": 33,
    "start_time": "2021-06-24T14:24:10.102Z"
   },
   {
    "duration": 5,
    "start_time": "2021-06-24T14:24:10.138Z"
   },
   {
    "duration": 317,
    "start_time": "2021-06-24T14:24:10.146Z"
   },
   {
    "duration": 24,
    "start_time": "2021-06-24T14:24:10.465Z"
   },
   {
    "duration": 128,
    "start_time": "2021-06-24T14:24:10.492Z"
   },
   {
    "duration": 352,
    "start_time": "2021-06-24T14:24:10.622Z"
   },
   {
    "duration": 367,
    "start_time": "2021-06-24T14:24:10.977Z"
   },
   {
    "duration": 18,
    "start_time": "2021-06-24T14:24:11.347Z"
   },
   {
    "duration": 375,
    "start_time": "2021-06-24T14:24:11.384Z"
   },
   {
    "duration": 340,
    "start_time": "2021-06-24T14:24:11.762Z"
   },
   {
    "duration": 62,
    "start_time": "2021-06-24T14:26:35.014Z"
   },
   {
    "duration": 13,
    "start_time": "2021-06-24T14:27:19.927Z"
   },
   {
    "duration": 15,
    "start_time": "2021-06-24T14:36:59.118Z"
   },
   {
    "duration": 15,
    "start_time": "2021-06-24T14:37:10.663Z"
   },
   {
    "duration": 928,
    "start_time": "2021-06-24T14:37:22.932Z"
   },
   {
    "duration": 1099,
    "start_time": "2021-06-24T14:38:13.989Z"
   },
   {
    "duration": 374,
    "start_time": "2021-06-24T14:41:49.872Z"
   },
   {
    "duration": 16,
    "start_time": "2021-06-24T14:42:00.704Z"
   },
   {
    "duration": 19,
    "start_time": "2021-06-24T14:42:06.657Z"
   },
   {
    "duration": 21,
    "start_time": "2021-06-24T14:49:02.414Z"
   },
   {
    "duration": 358,
    "start_time": "2021-06-24T14:49:21.853Z"
   },
   {
    "duration": 45,
    "start_time": "2021-06-24T14:50:01.831Z"
   },
   {
    "duration": 20,
    "start_time": "2021-06-24T14:50:07.534Z"
   },
   {
    "duration": 70,
    "start_time": "2021-06-24T14:51:12.181Z"
   },
   {
    "duration": 19,
    "start_time": "2021-06-24T14:51:28.209Z"
   },
   {
    "duration": 18,
    "start_time": "2021-06-24T14:51:47.421Z"
   },
   {
    "duration": 71,
    "start_time": "2021-06-24T14:54:38.024Z"
   },
   {
    "duration": 20,
    "start_time": "2021-06-24T14:54:42.039Z"
   },
   {
    "duration": 321,
    "start_time": "2021-06-24T14:55:47.328Z"
   },
   {
    "duration": 19,
    "start_time": "2021-06-24T15:06:08.071Z"
   },
   {
    "duration": 17,
    "start_time": "2021-06-24T15:06:20.472Z"
   },
   {
    "duration": 16,
    "start_time": "2021-06-24T15:06:34.375Z"
   },
   {
    "duration": 15,
    "start_time": "2021-06-24T15:06:42.870Z"
   },
   {
    "duration": 14,
    "start_time": "2021-06-24T15:07:19.094Z"
   },
   {
    "duration": 15,
    "start_time": "2021-06-24T15:07:45.966Z"
   },
   {
    "duration": 33,
    "start_time": "2021-06-24T15:08:24.240Z"
   },
   {
    "duration": 847,
    "start_time": "2021-06-24T15:08:32.006Z"
   },
   {
    "duration": 144,
    "start_time": "2021-06-24T15:08:32.856Z"
   },
   {
    "duration": 16,
    "start_time": "2021-06-24T15:08:33.004Z"
   },
   {
    "duration": 127,
    "start_time": "2021-06-24T15:08:33.023Z"
   },
   {
    "duration": 15,
    "start_time": "2021-06-24T15:08:33.152Z"
   },
   {
    "duration": 32,
    "start_time": "2021-06-24T15:08:33.169Z"
   },
   {
    "duration": 23,
    "start_time": "2021-06-24T15:08:33.204Z"
   },
   {
    "duration": 6,
    "start_time": "2021-06-24T15:08:33.233Z"
   },
   {
    "duration": 70,
    "start_time": "2021-06-24T15:08:33.243Z"
   },
   {
    "duration": 14,
    "start_time": "2021-06-24T15:08:33.315Z"
   },
   {
    "duration": 8,
    "start_time": "2021-06-24T15:08:33.332Z"
   },
   {
    "duration": 16,
    "start_time": "2021-06-24T15:08:33.343Z"
   },
   {
    "duration": 27,
    "start_time": "2021-06-24T15:08:33.362Z"
   },
   {
    "duration": 719,
    "start_time": "2021-06-24T15:08:33.391Z"
   },
   {
    "duration": 14,
    "start_time": "2021-06-24T15:08:34.113Z"
   },
   {
    "duration": 8,
    "start_time": "2021-06-24T15:08:34.129Z"
   },
   {
    "duration": 670,
    "start_time": "2021-06-24T15:08:34.140Z"
   },
   {
    "duration": 11,
    "start_time": "2021-06-24T15:08:34.812Z"
   },
   {
    "duration": 14,
    "start_time": "2021-06-24T15:08:34.826Z"
   },
   {
    "duration": 40,
    "start_time": "2021-06-24T15:08:34.843Z"
   },
   {
    "duration": 5,
    "start_time": "2021-06-24T15:08:34.886Z"
   },
   {
    "duration": 21,
    "start_time": "2021-06-24T15:08:34.893Z"
   },
   {
    "duration": 775,
    "start_time": "2021-06-24T15:08:34.920Z"
   },
   {
    "duration": 7,
    "start_time": "2021-06-24T15:08:35.698Z"
   },
   {
    "duration": 1015,
    "start_time": "2021-06-24T15:08:35.707Z"
   },
   {
    "duration": 8,
    "start_time": "2021-06-24T15:08:36.724Z"
   },
   {
    "duration": 1564,
    "start_time": "2021-06-24T15:08:36.734Z"
   },
   {
    "duration": 8,
    "start_time": "2021-06-24T15:08:38.300Z"
   },
   {
    "duration": 991,
    "start_time": "2021-06-24T15:08:38.311Z"
   },
   {
    "duration": 9,
    "start_time": "2021-06-24T15:08:39.305Z"
   },
   {
    "duration": 466,
    "start_time": "2021-06-24T15:08:39.317Z"
   },
   {
    "duration": 10,
    "start_time": "2021-06-24T15:08:39.786Z"
   },
   {
    "duration": 637,
    "start_time": "2021-06-24T15:08:39.799Z"
   },
   {
    "duration": 8,
    "start_time": "2021-06-24T15:08:40.438Z"
   },
   {
    "duration": 695,
    "start_time": "2021-06-24T15:08:40.448Z"
   },
   {
    "duration": 8,
    "start_time": "2021-06-24T15:08:41.146Z"
   },
   {
    "duration": 37,
    "start_time": "2021-06-24T15:08:41.156Z"
   },
   {
    "duration": 1003,
    "start_time": "2021-06-24T15:08:41.196Z"
   },
   {
    "duration": 348,
    "start_time": "2021-06-24T15:08:42.201Z"
   },
   {
    "duration": 908,
    "start_time": "2021-06-24T15:08:42.551Z"
   },
   {
    "duration": 288,
    "start_time": "2021-06-24T15:08:43.462Z"
   },
   {
    "duration": 279,
    "start_time": "2021-06-24T15:08:43.752Z"
   },
   {
    "duration": 327,
    "start_time": "2021-06-24T15:08:44.033Z"
   },
   {
    "duration": 303,
    "start_time": "2021-06-24T15:08:44.362Z"
   },
   {
    "duration": 43,
    "start_time": "2021-06-24T15:08:44.667Z"
   },
   {
    "duration": 7,
    "start_time": "2021-06-24T15:08:44.713Z"
   },
   {
    "duration": 333,
    "start_time": "2021-06-24T15:08:44.723Z"
   },
   {
    "duration": 9,
    "start_time": "2021-06-24T15:08:45.059Z"
   },
   {
    "duration": 135,
    "start_time": "2021-06-24T15:08:45.083Z"
   },
   {
    "duration": 373,
    "start_time": "2021-06-24T15:08:45.220Z"
   },
   {
    "duration": 369,
    "start_time": "2021-06-24T15:08:45.596Z"
   },
   {
    "duration": 20,
    "start_time": "2021-06-24T15:08:45.968Z"
   },
   {
    "duration": 352,
    "start_time": "2021-06-24T15:08:45.991Z"
   },
   {
    "duration": 349,
    "start_time": "2021-06-24T15:08:46.345Z"
   },
   {
    "duration": 66,
    "start_time": "2021-06-24T15:15:43.263Z"
   },
   {
    "duration": 67,
    "start_time": "2021-06-24T15:23:14.373Z"
   },
   {
    "duration": 19,
    "start_time": "2021-06-24T15:26:18.219Z"
   },
   {
    "duration": 41,
    "start_time": "2021-06-24T15:26:39.104Z"
   },
   {
    "duration": 19,
    "start_time": "2021-06-24T15:26:44.155Z"
   },
   {
    "duration": 9,
    "start_time": "2021-06-24T15:32:37.499Z"
   },
   {
    "duration": 370,
    "start_time": "2021-06-24T15:33:05.778Z"
   },
   {
    "duration": 283,
    "start_time": "2021-06-24T15:33:22.581Z"
   },
   {
    "duration": 9,
    "start_time": "2021-06-24T15:33:44.660Z"
   },
   {
    "duration": 265,
    "start_time": "2021-06-24T15:33:58.482Z"
   },
   {
    "duration": 294,
    "start_time": "2021-06-24T15:34:13.930Z"
   },
   {
    "duration": 280,
    "start_time": "2021-06-24T15:34:31.075Z"
   },
   {
    "duration": 9,
    "start_time": "2021-06-24T15:34:45.332Z"
   },
   {
    "duration": 270,
    "start_time": "2021-06-24T15:41:29.071Z"
   },
   {
    "duration": 269,
    "start_time": "2021-06-24T15:41:59.257Z"
   },
   {
    "duration": 12,
    "start_time": "2021-06-24T15:42:58.744Z"
   },
   {
    "duration": 10,
    "start_time": "2021-06-24T15:43:21.169Z"
   },
   {
    "duration": 16,
    "start_time": "2021-06-24T15:43:56.215Z"
   },
   {
    "duration": 43,
    "start_time": "2021-06-24T15:48:29.548Z"
   },
   {
    "duration": 18,
    "start_time": "2021-06-24T15:48:35.728Z"
   },
   {
    "duration": 18,
    "start_time": "2021-06-24T15:48:44.211Z"
   },
   {
    "duration": 305,
    "start_time": "2021-06-24T15:49:34.579Z"
   },
   {
    "duration": 329,
    "start_time": "2021-06-24T15:51:00.037Z"
   },
   {
    "duration": 295,
    "start_time": "2021-06-24T15:51:27.974Z"
   },
   {
    "duration": 17,
    "start_time": "2021-06-24T15:52:13.237Z"
   },
   {
    "duration": 15,
    "start_time": "2021-06-24T15:52:23.804Z"
   },
   {
    "duration": 14,
    "start_time": "2021-06-24T15:52:58.574Z"
   },
   {
    "duration": 916,
    "start_time": "2021-06-24T15:53:23.168Z"
   },
   {
    "duration": 16,
    "start_time": "2021-06-24T15:55:12.582Z"
   },
   {
    "duration": 867,
    "start_time": "2021-06-24T15:55:24.134Z"
   },
   {
    "duration": 158,
    "start_time": "2021-06-24T15:55:25.004Z"
   },
   {
    "duration": 20,
    "start_time": "2021-06-24T15:55:25.165Z"
   },
   {
    "duration": 129,
    "start_time": "2021-06-24T15:55:25.188Z"
   },
   {
    "duration": 16,
    "start_time": "2021-06-24T15:55:25.320Z"
   },
   {
    "duration": 44,
    "start_time": "2021-06-24T15:55:25.339Z"
   },
   {
    "duration": 17,
    "start_time": "2021-06-24T15:55:25.385Z"
   },
   {
    "duration": 6,
    "start_time": "2021-06-24T15:55:25.407Z"
   },
   {
    "duration": 19,
    "start_time": "2021-06-24T15:55:25.417Z"
   },
   {
    "duration": 45,
    "start_time": "2021-06-24T15:55:25.438Z"
   },
   {
    "duration": 5,
    "start_time": "2021-06-24T15:55:25.485Z"
   },
   {
    "duration": 20,
    "start_time": "2021-06-24T15:55:25.492Z"
   },
   {
    "duration": 12,
    "start_time": "2021-06-24T15:55:25.515Z"
   },
   {
    "duration": 635,
    "start_time": "2021-06-24T15:55:25.529Z"
   },
   {
    "duration": 21,
    "start_time": "2021-06-24T15:55:26.166Z"
   },
   {
    "duration": 7,
    "start_time": "2021-06-24T15:55:26.189Z"
   },
   {
    "duration": 753,
    "start_time": "2021-06-24T15:55:26.199Z"
   },
   {
    "duration": 11,
    "start_time": "2021-06-24T15:55:26.955Z"
   },
   {
    "duration": 23,
    "start_time": "2021-06-24T15:55:26.968Z"
   },
   {
    "duration": 15,
    "start_time": "2021-06-24T15:55:26.994Z"
   },
   {
    "duration": 5,
    "start_time": "2021-06-24T15:55:27.012Z"
   },
   {
    "duration": 26,
    "start_time": "2021-06-24T15:55:27.020Z"
   },
   {
    "duration": 758,
    "start_time": "2021-06-24T15:55:27.051Z"
   },
   {
    "duration": 7,
    "start_time": "2021-06-24T15:55:27.812Z"
   },
   {
    "duration": 976,
    "start_time": "2021-06-24T15:55:27.822Z"
   },
   {
    "duration": 8,
    "start_time": "2021-06-24T15:55:28.801Z"
   },
   {
    "duration": 1661,
    "start_time": "2021-06-24T15:55:28.812Z"
   },
   {
    "duration": 10,
    "start_time": "2021-06-24T15:55:30.483Z"
   },
   {
    "duration": 955,
    "start_time": "2021-06-24T15:55:30.495Z"
   },
   {
    "duration": 7,
    "start_time": "2021-06-24T15:55:31.452Z"
   },
   {
    "duration": 446,
    "start_time": "2021-06-24T15:55:31.461Z"
   },
   {
    "duration": 8,
    "start_time": "2021-06-24T15:55:31.911Z"
   },
   {
    "duration": 647,
    "start_time": "2021-06-24T15:55:31.921Z"
   },
   {
    "duration": 13,
    "start_time": "2021-06-24T15:55:32.571Z"
   },
   {
    "duration": 702,
    "start_time": "2021-06-24T15:55:32.587Z"
   },
   {
    "duration": 7,
    "start_time": "2021-06-24T15:55:33.292Z"
   },
   {
    "duration": 19,
    "start_time": "2021-06-24T15:55:33.301Z"
   },
   {
    "duration": 1294,
    "start_time": "2021-06-24T15:55:33.322Z"
   },
   {
    "duration": 721,
    "start_time": "2021-06-24T15:55:34.619Z"
   },
   {
    "duration": 932,
    "start_time": "2021-06-24T15:55:35.344Z"
   },
   {
    "duration": 298,
    "start_time": "2021-06-24T15:55:36.285Z"
   },
   {
    "duration": 282,
    "start_time": "2021-06-24T15:55:36.586Z"
   },
   {
    "duration": 326,
    "start_time": "2021-06-24T15:55:36.872Z"
   },
   {
    "duration": 317,
    "start_time": "2021-06-24T15:55:37.201Z"
   },
   {
    "duration": 32,
    "start_time": "2021-06-24T15:55:37.521Z"
   },
   {
    "duration": 6,
    "start_time": "2021-06-24T15:55:37.555Z"
   },
   {
    "duration": 302,
    "start_time": "2021-06-24T15:55:37.584Z"
   },
   {
    "duration": 8,
    "start_time": "2021-06-24T15:55:37.889Z"
   },
   {
    "duration": 130,
    "start_time": "2021-06-24T15:55:37.900Z"
   },
   {
    "duration": 365,
    "start_time": "2021-06-24T15:55:38.032Z"
   },
   {
    "duration": 361,
    "start_time": "2021-06-24T15:55:38.400Z"
   },
   {
    "duration": 22,
    "start_time": "2021-06-24T15:55:38.763Z"
   },
   {
    "duration": 360,
    "start_time": "2021-06-24T15:55:38.787Z"
   },
   {
    "duration": 354,
    "start_time": "2021-06-24T15:55:39.149Z"
   },
   {
    "duration": 375,
    "start_time": "2021-06-24T16:09:23.794Z"
   },
   {
    "duration": 4,
    "start_time": "2021-06-24T16:11:04.853Z"
   },
   {
    "duration": 160,
    "start_time": "2021-06-24T16:11:04.860Z"
   },
   {
    "duration": 14,
    "start_time": "2021-06-24T16:11:05.023Z"
   },
   {
    "duration": 142,
    "start_time": "2021-06-24T16:11:05.040Z"
   },
   {
    "duration": 12,
    "start_time": "2021-06-24T16:11:05.185Z"
   },
   {
    "duration": 16,
    "start_time": "2021-06-24T16:11:05.199Z"
   },
   {
    "duration": 15,
    "start_time": "2021-06-24T16:11:05.219Z"
   },
   {
    "duration": 5,
    "start_time": "2021-06-24T16:11:05.237Z"
   },
   {
    "duration": 50,
    "start_time": "2021-06-24T16:11:05.244Z"
   },
   {
    "duration": 10,
    "start_time": "2021-06-24T16:11:05.296Z"
   },
   {
    "duration": 4,
    "start_time": "2021-06-24T16:11:05.309Z"
   },
   {
    "duration": 16,
    "start_time": "2021-06-24T16:11:05.316Z"
   },
   {
    "duration": 7,
    "start_time": "2021-06-24T16:11:05.335Z"
   },
   {
    "duration": 632,
    "start_time": "2021-06-24T16:11:05.384Z"
   },
   {
    "duration": 15,
    "start_time": "2021-06-24T16:11:06.019Z"
   },
   {
    "duration": 10,
    "start_time": "2021-06-24T16:11:06.037Z"
   },
   {
    "duration": 660,
    "start_time": "2021-06-24T16:11:06.049Z"
   },
   {
    "duration": 15,
    "start_time": "2021-06-24T16:11:06.712Z"
   },
   {
    "duration": 11,
    "start_time": "2021-06-24T16:11:06.734Z"
   },
   {
    "duration": 39,
    "start_time": "2021-06-24T16:11:06.749Z"
   },
   {
    "duration": 5,
    "start_time": "2021-06-24T16:11:06.790Z"
   },
   {
    "duration": 23,
    "start_time": "2021-06-24T16:11:06.797Z"
   },
   {
    "duration": 1101,
    "start_time": "2021-06-24T16:11:06.822Z"
   },
   {
    "duration": 7,
    "start_time": "2021-06-24T16:11:07.925Z"
   },
   {
    "duration": 971,
    "start_time": "2021-06-24T16:11:07.934Z"
   },
   {
    "duration": 7,
    "start_time": "2021-06-24T16:11:08.908Z"
   },
   {
    "duration": 1044,
    "start_time": "2021-06-24T16:11:08.917Z"
   },
   {
    "duration": 8,
    "start_time": "2021-06-24T16:11:09.963Z"
   },
   {
    "duration": 958,
    "start_time": "2021-06-24T16:11:09.983Z"
   },
   {
    "duration": 8,
    "start_time": "2021-06-24T16:11:10.943Z"
   },
   {
    "duration": 452,
    "start_time": "2021-06-24T16:11:10.953Z"
   },
   {
    "duration": 8,
    "start_time": "2021-06-24T16:11:11.407Z"
   },
   {
    "duration": 548,
    "start_time": "2021-06-24T16:11:11.418Z"
   },
   {
    "duration": 20,
    "start_time": "2021-06-24T16:11:11.968Z"
   },
   {
    "duration": 693,
    "start_time": "2021-06-24T16:11:11.990Z"
   },
   {
    "duration": 7,
    "start_time": "2021-06-24T16:11:12.686Z"
   },
   {
    "duration": 286,
    "start_time": "2021-06-24T16:11:12.696Z"
   },
   {
    "duration": 329,
    "start_time": "2021-06-24T16:11:12.655Z"
   },
   {
    "duration": 319,
    "start_time": "2021-06-24T16:11:12.667Z"
   },
   {
    "duration": 313,
    "start_time": "2021-06-24T16:11:12.674Z"
   },
   {
    "duration": 311,
    "start_time": "2021-06-24T16:11:12.678Z"
   },
   {
    "duration": 309,
    "start_time": "2021-06-24T16:11:12.681Z"
   },
   {
    "duration": 306,
    "start_time": "2021-06-24T16:11:12.685Z"
   },
   {
    "duration": 304,
    "start_time": "2021-06-24T16:11:12.689Z"
   },
   {
    "duration": 301,
    "start_time": "2021-06-24T16:11:12.693Z"
   },
   {
    "duration": 298,
    "start_time": "2021-06-24T16:11:12.697Z"
   },
   {
    "duration": 296,
    "start_time": "2021-06-24T16:11:12.701Z"
   },
   {
    "duration": 293,
    "start_time": "2021-06-24T16:11:12.705Z"
   },
   {
    "duration": 291,
    "start_time": "2021-06-24T16:11:12.708Z"
   },
   {
    "duration": 289,
    "start_time": "2021-06-24T16:11:12.712Z"
   },
   {
    "duration": 287,
    "start_time": "2021-06-24T16:11:12.715Z"
   },
   {
    "duration": 284,
    "start_time": "2021-06-24T16:11:12.719Z"
   },
   {
    "duration": 281,
    "start_time": "2021-06-24T16:11:12.724Z"
   },
   {
    "duration": 277,
    "start_time": "2021-06-24T16:11:12.729Z"
   },
   {
    "duration": 275,
    "start_time": "2021-06-24T16:11:12.733Z"
   },
   {
    "duration": 920,
    "start_time": "2021-06-24T16:11:36.161Z"
   },
   {
    "duration": 899,
    "start_time": "2021-06-24T16:13:39.556Z"
   },
   {
    "duration": 1000,
    "start_time": "2021-06-24T16:14:37.053Z"
   },
   {
    "duration": 916,
    "start_time": "2021-06-24T16:15:18.285Z"
   },
   {
    "duration": 6,
    "start_time": "2021-06-24T16:16:31.253Z"
   },
   {
    "duration": 9,
    "start_time": "2021-06-24T16:16:37.501Z"
   },
   {
    "duration": 110,
    "start_time": "2021-06-24T16:23:54.481Z"
   },
   {
    "duration": 10,
    "start_time": "2021-06-24T16:23:59.435Z"
   },
   {
    "duration": 58,
    "start_time": "2021-06-24T16:24:12.320Z"
   },
   {
    "duration": 356,
    "start_time": "2021-06-24T16:24:21.056Z"
   },
   {
    "duration": 359,
    "start_time": "2021-06-24T16:24:27.176Z"
   },
   {
    "duration": 350,
    "start_time": "2021-06-24T16:24:31.368Z"
   },
   {
    "duration": 911,
    "start_time": "2021-06-24T16:27:28.361Z"
   },
   {
    "duration": 11,
    "start_time": "2021-06-24T16:43:24.834Z"
   },
   {
    "duration": 14,
    "start_time": "2021-06-24T16:44:33.836Z"
   },
   {
    "duration": 845,
    "start_time": "2021-06-24T16:44:39.377Z"
   },
   {
    "duration": 141,
    "start_time": "2021-06-24T16:44:40.225Z"
   },
   {
    "duration": 19,
    "start_time": "2021-06-24T16:44:40.368Z"
   },
   {
    "duration": 107,
    "start_time": "2021-06-24T16:44:40.390Z"
   },
   {
    "duration": 13,
    "start_time": "2021-06-24T16:44:40.499Z"
   },
   {
    "duration": 17,
    "start_time": "2021-06-24T16:44:40.514Z"
   },
   {
    "duration": 17,
    "start_time": "2021-06-24T16:44:40.533Z"
   },
   {
    "duration": 32,
    "start_time": "2021-06-24T16:44:40.553Z"
   },
   {
    "duration": 14,
    "start_time": "2021-06-24T16:44:40.588Z"
   },
   {
    "duration": 11,
    "start_time": "2021-06-24T16:44:40.604Z"
   },
   {
    "duration": 6,
    "start_time": "2021-06-24T16:44:40.618Z"
   },
   {
    "duration": 15,
    "start_time": "2021-06-24T16:44:40.626Z"
   },
   {
    "duration": 52,
    "start_time": "2021-06-24T16:44:40.643Z"
   },
   {
    "duration": 630,
    "start_time": "2021-06-24T16:44:40.697Z"
   },
   {
    "duration": 17,
    "start_time": "2021-06-24T16:44:41.329Z"
   },
   {
    "duration": 8,
    "start_time": "2021-06-24T16:44:41.349Z"
   },
   {
    "duration": 727,
    "start_time": "2021-06-24T16:44:41.384Z"
   },
   {
    "duration": 11,
    "start_time": "2021-06-24T16:44:42.114Z"
   },
   {
    "duration": 24,
    "start_time": "2021-06-24T16:44:42.128Z"
   },
   {
    "duration": 21,
    "start_time": "2021-06-24T16:44:42.155Z"
   },
   {
    "duration": 5,
    "start_time": "2021-06-24T16:44:42.182Z"
   },
   {
    "duration": 27,
    "start_time": "2021-06-24T16:44:42.189Z"
   },
   {
    "duration": 740,
    "start_time": "2021-06-24T16:44:42.221Z"
   },
   {
    "duration": 6,
    "start_time": "2021-06-24T16:44:42.964Z"
   },
   {
    "duration": 962,
    "start_time": "2021-06-24T16:44:42.983Z"
   },
   {
    "duration": 8,
    "start_time": "2021-06-24T16:44:43.948Z"
   },
   {
    "duration": 1895,
    "start_time": "2021-06-24T16:44:43.958Z"
   },
   {
    "duration": 8,
    "start_time": "2021-06-24T16:44:45.856Z"
   },
   {
    "duration": 1143,
    "start_time": "2021-06-24T16:44:45.866Z"
   },
   {
    "duration": 8,
    "start_time": "2021-06-24T16:44:47.011Z"
   },
   {
    "duration": 475,
    "start_time": "2021-06-24T16:44:47.021Z"
   },
   {
    "duration": 7,
    "start_time": "2021-06-24T16:44:47.499Z"
   },
   {
    "duration": 661,
    "start_time": "2021-06-24T16:44:47.508Z"
   },
   {
    "duration": 13,
    "start_time": "2021-06-24T16:44:48.171Z"
   },
   {
    "duration": 728,
    "start_time": "2021-06-24T16:44:48.187Z"
   },
   {
    "duration": 8,
    "start_time": "2021-06-24T16:44:48.918Z"
   },
   {
    "duration": 360,
    "start_time": "2021-06-24T16:44:48.928Z"
   },
   {
    "duration": 321,
    "start_time": "2021-06-24T16:44:48.969Z"
   },
   {
    "duration": 317,
    "start_time": "2021-06-24T16:44:48.975Z"
   },
   {
    "duration": 312,
    "start_time": "2021-06-24T16:44:48.981Z"
   },
   {
    "duration": 307,
    "start_time": "2021-06-24T16:44:48.987Z"
   },
   {
    "duration": 306,
    "start_time": "2021-06-24T16:44:48.990Z"
   },
   {
    "duration": 303,
    "start_time": "2021-06-24T16:44:48.994Z"
   },
   {
    "duration": 297,
    "start_time": "2021-06-24T16:44:49.001Z"
   },
   {
    "duration": 295,
    "start_time": "2021-06-24T16:44:49.005Z"
   },
   {
    "duration": 293,
    "start_time": "2021-06-24T16:44:49.008Z"
   },
   {
    "duration": 290,
    "start_time": "2021-06-24T16:44:49.012Z"
   },
   {
    "duration": 289,
    "start_time": "2021-06-24T16:44:49.015Z"
   },
   {
    "duration": 286,
    "start_time": "2021-06-24T16:44:49.019Z"
   },
   {
    "duration": 285,
    "start_time": "2021-06-24T16:44:49.022Z"
   },
   {
    "duration": 280,
    "start_time": "2021-06-24T16:44:49.028Z"
   },
   {
    "duration": 279,
    "start_time": "2021-06-24T16:44:49.031Z"
   },
   {
    "duration": 276,
    "start_time": "2021-06-24T16:44:49.035Z"
   },
   {
    "duration": 274,
    "start_time": "2021-06-24T16:44:49.038Z"
   },
   {
    "duration": 272,
    "start_time": "2021-06-24T16:44:49.042Z"
   },
   {
    "duration": 15,
    "start_time": "2021-06-24T16:44:58.892Z"
   },
   {
    "duration": 858,
    "start_time": "2021-06-25T04:32:41.209Z"
   },
   {
    "duration": 152,
    "start_time": "2021-06-25T04:32:42.070Z"
   },
   {
    "duration": 16,
    "start_time": "2021-06-25T04:32:42.226Z"
   },
   {
    "duration": 117,
    "start_time": "2021-06-25T04:32:42.261Z"
   },
   {
    "duration": 14,
    "start_time": "2021-06-25T04:32:42.380Z"
   },
   {
    "duration": 20,
    "start_time": "2021-06-25T04:32:42.397Z"
   },
   {
    "duration": 50,
    "start_time": "2021-06-25T04:32:42.419Z"
   },
   {
    "duration": 7,
    "start_time": "2021-06-25T04:32:42.474Z"
   },
   {
    "duration": 13,
    "start_time": "2021-06-25T04:32:42.485Z"
   },
   {
    "duration": 11,
    "start_time": "2021-06-25T04:32:42.501Z"
   },
   {
    "duration": 5,
    "start_time": "2021-06-25T04:32:42.514Z"
   },
   {
    "duration": 52,
    "start_time": "2021-06-25T04:32:42.521Z"
   },
   {
    "duration": 13,
    "start_time": "2021-06-25T04:32:42.576Z"
   },
   {
    "duration": 682,
    "start_time": "2021-06-25T04:32:42.591Z"
   },
   {
    "duration": 13,
    "start_time": "2021-06-25T04:32:43.276Z"
   },
   {
    "duration": 7,
    "start_time": "2021-06-25T04:32:43.292Z"
   },
   {
    "duration": 693,
    "start_time": "2021-06-25T04:32:43.302Z"
   },
   {
    "duration": 12,
    "start_time": "2021-06-25T04:32:43.997Z"
   },
   {
    "duration": 18,
    "start_time": "2021-06-25T04:32:44.011Z"
   },
   {
    "duration": 32,
    "start_time": "2021-06-25T04:32:44.031Z"
   },
   {
    "duration": 6,
    "start_time": "2021-06-25T04:32:44.065Z"
   },
   {
    "duration": 20,
    "start_time": "2021-06-25T04:32:44.074Z"
   },
   {
    "duration": 801,
    "start_time": "2021-06-25T04:32:44.100Z"
   },
   {
    "duration": 7,
    "start_time": "2021-06-25T04:32:44.904Z"
   },
   {
    "duration": 1069,
    "start_time": "2021-06-25T04:32:44.914Z"
   },
   {
    "duration": 9,
    "start_time": "2021-06-25T04:32:45.986Z"
   },
   {
    "duration": 1681,
    "start_time": "2021-06-25T04:32:45.997Z"
   },
   {
    "duration": 10,
    "start_time": "2021-06-25T04:32:47.680Z"
   },
   {
    "duration": 1020,
    "start_time": "2021-06-25T04:32:47.692Z"
   },
   {
    "duration": 8,
    "start_time": "2021-06-25T04:32:48.715Z"
   },
   {
    "duration": 495,
    "start_time": "2021-06-25T04:32:48.726Z"
   },
   {
    "duration": 8,
    "start_time": "2021-06-25T04:32:49.223Z"
   },
   {
    "duration": 685,
    "start_time": "2021-06-25T04:32:49.234Z"
   },
   {
    "duration": 9,
    "start_time": "2021-06-25T04:32:49.922Z"
   },
   {
    "duration": 797,
    "start_time": "2021-06-25T04:32:49.933Z"
   },
   {
    "duration": 7,
    "start_time": "2021-06-25T04:32:50.733Z"
   },
   {
    "duration": 468,
    "start_time": "2021-06-25T04:32:50.743Z"
   },
   {
    "duration": 2002,
    "start_time": "2021-06-25T04:32:49.212Z"
   },
   {
    "duration": 1993,
    "start_time": "2021-06-25T04:32:49.222Z"
   },
   {
    "duration": 1987,
    "start_time": "2021-06-25T04:32:49.229Z"
   },
   {
    "duration": 1982,
    "start_time": "2021-06-25T04:32:49.236Z"
   },
   {
    "duration": 1979,
    "start_time": "2021-06-25T04:32:49.240Z"
   },
   {
    "duration": 1977,
    "start_time": "2021-06-25T04:32:49.244Z"
   },
   {
    "duration": 1974,
    "start_time": "2021-06-25T04:32:49.249Z"
   },
   {
    "duration": 1971,
    "start_time": "2021-06-25T04:32:49.253Z"
   },
   {
    "duration": 1967,
    "start_time": "2021-06-25T04:32:49.258Z"
   },
   {
    "duration": 1962,
    "start_time": "2021-06-25T04:32:49.265Z"
   },
   {
    "duration": 1960,
    "start_time": "2021-06-25T04:32:49.269Z"
   },
   {
    "duration": 1956,
    "start_time": "2021-06-25T04:32:49.274Z"
   },
   {
    "duration": 1951,
    "start_time": "2021-06-25T04:32:49.281Z"
   },
   {
    "duration": 1936,
    "start_time": "2021-06-25T04:32:49.297Z"
   },
   {
    "duration": 1933,
    "start_time": "2021-06-25T04:32:49.301Z"
   },
   {
    "duration": 1930,
    "start_time": "2021-06-25T04:32:49.305Z"
   },
   {
    "duration": 1928,
    "start_time": "2021-06-25T04:32:49.309Z"
   },
   {
    "duration": 1924,
    "start_time": "2021-06-25T04:32:49.314Z"
   },
   {
    "duration": 341,
    "start_time": "2021-06-25T04:33:54.019Z"
   },
   {
    "duration": 18,
    "start_time": "2021-06-25T04:34:01.639Z"
   },
   {
    "duration": 1018,
    "start_time": "2021-06-25T04:34:05.135Z"
   },
   {
    "duration": 354,
    "start_time": "2021-06-25T04:34:11.255Z"
   },
   {
    "duration": 957,
    "start_time": "2021-06-25T04:34:15.095Z"
   },
   {
    "duration": 285,
    "start_time": "2021-06-25T04:43:02.837Z"
   },
   {
    "duration": 989,
    "start_time": "2021-06-25T04:43:59.781Z"
   },
   {
    "duration": 947,
    "start_time": "2021-06-25T04:44:26.229Z"
   },
   {
    "duration": 303,
    "start_time": "2021-06-25T04:45:47.559Z"
   },
   {
    "duration": 318,
    "start_time": "2021-06-25T04:46:21.903Z"
   },
   {
    "duration": 377,
    "start_time": "2021-06-25T04:46:40.257Z"
   },
   {
    "duration": 1565,
    "start_time": "2021-06-25T04:47:38.014Z"
   },
   {
    "duration": 436,
    "start_time": "2021-06-25T04:47:55.314Z"
   },
   {
    "duration": 434,
    "start_time": "2021-06-25T04:53:51.916Z"
   },
   {
    "duration": 444,
    "start_time": "2021-06-25T04:58:41.507Z"
   },
   {
    "duration": 454,
    "start_time": "2021-06-25T04:59:07.967Z"
   },
   {
    "duration": 330,
    "start_time": "2021-06-25T05:08:56.470Z"
   },
   {
    "duration": 349,
    "start_time": "2021-06-25T05:09:35.650Z"
   },
   {
    "duration": 310,
    "start_time": "2021-06-25T05:13:20.283Z"
   },
   {
    "duration": 37,
    "start_time": "2021-06-25T05:17:02.082Z"
   },
   {
    "duration": 34,
    "start_time": "2021-06-25T05:28:09.642Z"
   },
   {
    "duration": 35,
    "start_time": "2021-06-25T05:28:29.749Z"
   },
   {
    "duration": 35,
    "start_time": "2021-06-25T05:28:41.500Z"
   },
   {
    "duration": 35,
    "start_time": "2021-06-25T05:29:00.453Z"
   },
   {
    "duration": 390,
    "start_time": "2021-06-25T05:38:32.879Z"
   },
   {
    "duration": 109,
    "start_time": "2021-06-25T05:38:44.274Z"
   },
   {
    "duration": 294,
    "start_time": "2021-06-25T05:38:48.678Z"
   },
   {
    "duration": 912,
    "start_time": "2021-06-25T05:39:10.665Z"
   },
   {
    "duration": 160,
    "start_time": "2021-06-25T05:39:11.579Z"
   },
   {
    "duration": 27,
    "start_time": "2021-06-25T05:39:11.742Z"
   },
   {
    "duration": 124,
    "start_time": "2021-06-25T05:39:11.772Z"
   },
   {
    "duration": 13,
    "start_time": "2021-06-25T05:39:11.898Z"
   },
   {
    "duration": 23,
    "start_time": "2021-06-25T05:39:11.913Z"
   },
   {
    "duration": 34,
    "start_time": "2021-06-25T05:39:11.939Z"
   },
   {
    "duration": 9,
    "start_time": "2021-06-25T05:39:11.977Z"
   },
   {
    "duration": 24,
    "start_time": "2021-06-25T05:39:11.989Z"
   },
   {
    "duration": 47,
    "start_time": "2021-06-25T05:39:12.015Z"
   },
   {
    "duration": 5,
    "start_time": "2021-06-25T05:39:12.065Z"
   },
   {
    "duration": 31,
    "start_time": "2021-06-25T05:39:12.072Z"
   },
   {
    "duration": 15,
    "start_time": "2021-06-25T05:39:12.105Z"
   },
   {
    "duration": 773,
    "start_time": "2021-06-25T05:39:12.123Z"
   },
   {
    "duration": 13,
    "start_time": "2021-06-25T05:39:12.898Z"
   },
   {
    "duration": 14,
    "start_time": "2021-06-25T05:39:12.914Z"
   },
   {
    "duration": 766,
    "start_time": "2021-06-25T05:39:12.930Z"
   },
   {
    "duration": 12,
    "start_time": "2021-06-25T05:39:13.698Z"
   },
   {
    "duration": 13,
    "start_time": "2021-06-25T05:39:13.713Z"
   },
   {
    "duration": 41,
    "start_time": "2021-06-25T05:39:13.728Z"
   },
   {
    "duration": 5,
    "start_time": "2021-06-25T05:39:13.771Z"
   },
   {
    "duration": 26,
    "start_time": "2021-06-25T05:39:13.778Z"
   },
   {
    "duration": 871,
    "start_time": "2021-06-25T05:39:13.810Z"
   },
   {
    "duration": 7,
    "start_time": "2021-06-25T05:39:14.684Z"
   },
   {
    "duration": 1078,
    "start_time": "2021-06-25T05:39:14.694Z"
   },
   {
    "duration": 8,
    "start_time": "2021-06-25T05:39:15.775Z"
   },
   {
    "duration": 1615,
    "start_time": "2021-06-25T05:39:15.785Z"
   },
   {
    "duration": 10,
    "start_time": "2021-06-25T05:39:17.402Z"
   },
   {
    "duration": 1054,
    "start_time": "2021-06-25T05:39:17.415Z"
   },
   {
    "duration": 9,
    "start_time": "2021-06-25T05:39:18.471Z"
   },
   {
    "duration": 500,
    "start_time": "2021-06-25T05:39:18.483Z"
   },
   {
    "duration": 8,
    "start_time": "2021-06-25T05:39:18.985Z"
   },
   {
    "duration": 697,
    "start_time": "2021-06-25T05:39:18.995Z"
   },
   {
    "duration": 8,
    "start_time": "2021-06-25T05:39:19.695Z"
   },
   {
    "duration": 757,
    "start_time": "2021-06-25T05:39:19.705Z"
   },
   {
    "duration": 8,
    "start_time": "2021-06-25T05:39:20.465Z"
   },
   {
    "duration": 20,
    "start_time": "2021-06-25T05:39:20.476Z"
   },
   {
    "duration": 1814,
    "start_time": "2021-06-25T05:39:20.499Z"
   },
   {
    "duration": 364,
    "start_time": "2021-06-25T05:39:22.315Z"
   },
   {
    "duration": 1339,
    "start_time": "2021-06-25T05:39:22.683Z"
   },
   {
    "duration": 455,
    "start_time": "2021-06-25T05:39:24.025Z"
   },
   {
    "duration": 482,
    "start_time": "2021-06-25T05:39:24.483Z"
   },
   {
    "duration": 506,
    "start_time": "2021-06-25T05:39:24.968Z"
   },
   {
    "duration": 506,
    "start_time": "2021-06-25T05:39:25.477Z"
   },
   {
    "duration": 52,
    "start_time": "2021-06-25T05:39:25.986Z"
   },
   {
    "duration": 322,
    "start_time": "2021-06-25T05:39:26.041Z"
   },
   {
    "duration": 456,
    "start_time": "2021-06-25T05:39:26.366Z"
   },
   {
    "duration": 39,
    "start_time": "2021-06-25T05:39:26.825Z"
   },
   {
    "duration": 208,
    "start_time": "2021-06-25T05:39:26.867Z"
   },
   {
    "duration": 550,
    "start_time": "2021-06-25T05:39:27.078Z"
   },
   {
    "duration": 635,
    "start_time": "2021-06-25T05:39:27.632Z"
   },
   {
    "duration": 18,
    "start_time": "2021-06-25T05:39:28.270Z"
   },
   {
    "duration": 777,
    "start_time": "2021-06-25T05:39:28.291Z"
   },
   {
    "duration": 454,
    "start_time": "2021-06-25T05:39:29.071Z"
   },
   {
    "duration": 340,
    "start_time": "2021-06-25T05:43:28.905Z"
   },
   {
    "duration": 118,
    "start_time": "2021-06-25T05:44:03.056Z"
   },
   {
    "duration": 598,
    "start_time": "2021-06-25T05:44:10.850Z"
   },
   {
    "duration": 8,
    "start_time": "2021-06-25T05:56:30.079Z"
   },
   {
    "duration": 39,
    "start_time": "2021-06-25T05:58:06.233Z"
   },
   {
    "duration": 394,
    "start_time": "2021-06-25T06:01:54.615Z"
   },
   {
    "duration": 392,
    "start_time": "2021-06-25T06:02:22.090Z"
   },
   {
    "duration": 384,
    "start_time": "2021-06-25T06:02:46.971Z"
   },
   {
    "duration": 389,
    "start_time": "2021-06-25T06:07:36.037Z"
   },
   {
    "duration": 915,
    "start_time": "2021-06-25T10:23:45.257Z"
   },
   {
    "duration": 156,
    "start_time": "2021-06-25T10:23:46.175Z"
   },
   {
    "duration": 18,
    "start_time": "2021-06-25T10:23:46.335Z"
   },
   {
    "duration": 132,
    "start_time": "2021-06-25T10:23:46.357Z"
   },
   {
    "duration": 15,
    "start_time": "2021-06-25T10:23:46.492Z"
   },
   {
    "duration": 18,
    "start_time": "2021-06-25T10:23:46.509Z"
   },
   {
    "duration": 17,
    "start_time": "2021-06-25T10:23:46.530Z"
   },
   {
    "duration": 9,
    "start_time": "2021-06-25T10:23:46.588Z"
   },
   {
    "duration": 16,
    "start_time": "2021-06-25T10:23:46.601Z"
   },
   {
    "duration": 11,
    "start_time": "2021-06-25T10:23:46.620Z"
   },
   {
    "duration": 6,
    "start_time": "2021-06-25T10:23:46.634Z"
   },
   {
    "duration": 57,
    "start_time": "2021-06-25T10:23:46.642Z"
   },
   {
    "duration": 13,
    "start_time": "2021-06-25T10:23:46.702Z"
   },
   {
    "duration": 687,
    "start_time": "2021-06-25T10:23:46.718Z"
   },
   {
    "duration": 13,
    "start_time": "2021-06-25T10:23:47.408Z"
   },
   {
    "duration": 8,
    "start_time": "2021-06-25T10:23:47.424Z"
   },
   {
    "duration": 743,
    "start_time": "2021-06-25T10:23:47.434Z"
   },
   {
    "duration": 17,
    "start_time": "2021-06-25T10:23:48.179Z"
   },
   {
    "duration": 20,
    "start_time": "2021-06-25T10:23:48.200Z"
   },
   {
    "duration": 15,
    "start_time": "2021-06-25T10:23:48.223Z"
   },
   {
    "duration": 5,
    "start_time": "2021-06-25T10:23:48.241Z"
   },
   {
    "duration": 58,
    "start_time": "2021-06-25T10:23:48.249Z"
   },
   {
    "duration": 859,
    "start_time": "2021-06-25T10:23:48.313Z"
   },
   {
    "duration": 12,
    "start_time": "2021-06-25T10:23:49.176Z"
   },
   {
    "duration": 1103,
    "start_time": "2021-06-25T10:23:49.191Z"
   },
   {
    "duration": 10,
    "start_time": "2021-06-25T10:23:50.297Z"
   },
   {
    "duration": 1611,
    "start_time": "2021-06-25T10:23:50.310Z"
   },
   {
    "duration": 8,
    "start_time": "2021-06-25T10:23:51.924Z"
   },
   {
    "duration": 1010,
    "start_time": "2021-06-25T10:23:51.934Z"
   },
   {
    "duration": 8,
    "start_time": "2021-06-25T10:23:52.947Z"
   },
   {
    "duration": 472,
    "start_time": "2021-06-25T10:23:52.957Z"
   },
   {
    "duration": 8,
    "start_time": "2021-06-25T10:23:53.432Z"
   },
   {
    "duration": 687,
    "start_time": "2021-06-25T10:23:53.442Z"
   },
   {
    "duration": 8,
    "start_time": "2021-06-25T10:23:54.132Z"
   },
   {
    "duration": 732,
    "start_time": "2021-06-25T10:23:54.142Z"
   },
   {
    "duration": 10,
    "start_time": "2021-06-25T10:23:54.876Z"
   },
   {
    "duration": 30,
    "start_time": "2021-06-25T10:23:54.889Z"
   },
   {
    "duration": 1005,
    "start_time": "2021-06-25T10:23:54.922Z"
   },
   {
    "duration": 352,
    "start_time": "2021-06-25T10:23:55.929Z"
   },
   {
    "duration": 980,
    "start_time": "2021-06-25T10:23:56.291Z"
   },
   {
    "duration": 312,
    "start_time": "2021-06-25T10:23:57.274Z"
   },
   {
    "duration": 302,
    "start_time": "2021-06-25T10:23:57.592Z"
   },
   {
    "duration": 333,
    "start_time": "2021-06-25T10:23:57.897Z"
   },
   {
    "duration": 329,
    "start_time": "2021-06-25T10:23:58.232Z"
   },
   {
    "duration": 55,
    "start_time": "2021-06-25T10:23:58.564Z"
   },
   {
    "duration": 129,
    "start_time": "2021-06-25T10:23:58.621Z"
   },
   {
    "duration": 605,
    "start_time": "2021-06-25T10:23:58.753Z"
   },
   {
    "duration": 21,
    "start_time": "2021-06-25T10:23:59.361Z"
   },
   {
    "duration": 126,
    "start_time": "2021-06-25T10:23:59.385Z"
   },
   {
    "duration": 370,
    "start_time": "2021-06-25T10:23:59.513Z"
   },
   {
    "duration": 380,
    "start_time": "2021-06-25T10:23:59.888Z"
   },
   {
    "duration": 28,
    "start_time": "2021-06-25T10:24:00.271Z"
   },
   {
    "duration": 392,
    "start_time": "2021-06-25T10:24:00.301Z"
   },
   {
    "duration": 342,
    "start_time": "2021-06-25T10:24:00.696Z"
   },
   {
    "duration": 54,
    "start_time": "2021-06-25T10:42:36.447Z"
   },
   {
    "duration": 30,
    "start_time": "2021-06-25T10:43:55.037Z"
   },
   {
    "duration": 356,
    "start_time": "2021-06-25T10:53:38.478Z"
   },
   {
    "duration": 337,
    "start_time": "2021-06-25T11:09:07.158Z"
   },
   {
    "duration": 3015,
    "start_time": "2021-06-25T12:24:34.150Z"
   },
   {
    "duration": 675,
    "start_time": "2021-06-25T12:24:37.942Z"
   },
   {
    "duration": 662,
    "start_time": "2021-06-25T12:35:58.902Z"
   },
   {
    "duration": 886,
    "start_time": "2021-06-26T06:36:36.621Z"
   },
   {
    "duration": 144,
    "start_time": "2021-06-26T06:36:37.509Z"
   },
   {
    "duration": 16,
    "start_time": "2021-06-26T06:36:37.656Z"
   },
   {
    "duration": 127,
    "start_time": "2021-06-26T06:36:37.675Z"
   },
   {
    "duration": 15,
    "start_time": "2021-06-26T06:36:37.805Z"
   },
   {
    "duration": 39,
    "start_time": "2021-06-26T06:36:37.823Z"
   },
   {
    "duration": 17,
    "start_time": "2021-06-26T06:36:37.865Z"
   },
   {
    "duration": 5,
    "start_time": "2021-06-26T06:36:37.885Z"
   },
   {
    "duration": 7,
    "start_time": "2021-06-26T06:36:44.645Z"
   },
   {
    "duration": 4,
    "start_time": "2021-06-26T07:05:15.340Z"
   },
   {
    "duration": 159,
    "start_time": "2021-06-26T07:05:15.347Z"
   },
   {
    "duration": 14,
    "start_time": "2021-06-26T07:05:15.509Z"
   },
   {
    "duration": 107,
    "start_time": "2021-06-26T07:05:15.525Z"
   },
   {
    "duration": 30,
    "start_time": "2021-06-26T07:05:15.635Z"
   },
   {
    "duration": 20,
    "start_time": "2021-06-26T07:05:15.668Z"
   },
   {
    "duration": 16,
    "start_time": "2021-06-26T07:05:15.690Z"
   },
   {
    "duration": 7,
    "start_time": "2021-06-26T07:05:15.712Z"
   },
   {
    "duration": 49,
    "start_time": "2021-06-26T07:05:15.722Z"
   },
   {
    "duration": 12,
    "start_time": "2021-06-26T07:05:15.775Z"
   },
   {
    "duration": 6,
    "start_time": "2021-06-26T07:05:15.790Z"
   },
   {
    "duration": 59,
    "start_time": "2021-06-26T07:05:15.798Z"
   },
   {
    "duration": 13,
    "start_time": "2021-06-26T07:05:15.859Z"
   },
   {
    "duration": 649,
    "start_time": "2021-06-26T07:05:15.874Z"
   },
   {
    "duration": 12,
    "start_time": "2021-06-26T07:05:16.525Z"
   },
   {
    "duration": 20,
    "start_time": "2021-06-26T07:05:16.539Z"
   },
   {
    "duration": 630,
    "start_time": "2021-06-26T07:05:16.562Z"
   },
   {
    "duration": 11,
    "start_time": "2021-06-26T07:05:17.195Z"
   },
   {
    "duration": 25,
    "start_time": "2021-06-26T07:05:17.209Z"
   },
   {
    "duration": 28,
    "start_time": "2021-06-26T07:05:17.237Z"
   },
   {
    "duration": 5,
    "start_time": "2021-06-26T07:05:17.268Z"
   },
   {
    "duration": 24,
    "start_time": "2021-06-26T07:05:17.276Z"
   },
   {
    "duration": 772,
    "start_time": "2021-06-26T07:05:17.305Z"
   },
   {
    "duration": 7,
    "start_time": "2021-06-26T07:05:18.081Z"
   },
   {
    "duration": 980,
    "start_time": "2021-06-26T07:05:18.090Z"
   },
   {
    "duration": 7,
    "start_time": "2021-06-26T07:05:19.073Z"
   },
   {
    "duration": 5402,
    "start_time": "2021-06-26T07:05:19.082Z"
   },
   {
    "duration": 10,
    "start_time": "2021-06-26T07:05:24.486Z"
   },
   {
    "duration": 960,
    "start_time": "2021-06-26T07:05:24.499Z"
   },
   {
    "duration": 7,
    "start_time": "2021-06-26T07:05:25.461Z"
   },
   {
    "duration": 490,
    "start_time": "2021-06-26T07:05:25.470Z"
   },
   {
    "duration": 8,
    "start_time": "2021-06-26T07:05:25.962Z"
   },
   {
    "duration": 561,
    "start_time": "2021-06-26T07:05:25.972Z"
   },
   {
    "duration": 6,
    "start_time": "2021-06-26T07:05:26.536Z"
   },
   {
    "duration": 780,
    "start_time": "2021-06-26T07:05:26.556Z"
   },
   {
    "duration": 380,
    "start_time": "2021-06-26T07:05:59.931Z"
   },
   {
    "duration": 10,
    "start_time": "2021-06-26T07:06:15.799Z"
   }
  ],
  "kernelspec": {
   "display_name": "Python 3.11.0 64-bit",
   "language": "python",
   "name": "python3"
  },
  "language_info": {
   "codemirror_mode": {
    "name": "ipython",
    "version": 3
   },
   "file_extension": ".py",
   "mimetype": "text/x-python",
   "name": "python",
   "nbconvert_exporter": "python",
   "pygments_lexer": "ipython3",
   "version": "3.11.0"
  },
  "toc": {
   "base_numbering": 1,
   "nav_menu": {},
   "number_sections": true,
   "sideBar": true,
   "skip_h1_title": true,
   "title_cell": "Title",
   "title_sidebar": "CONTENT",
   "toc_cell": true,
   "toc_position": {
    "height": "calc(100% - 180px)",
    "left": "10px",
    "top": "150px",
    "width": "268.993px"
   },
   "toc_section_display": true,
   "toc_window_display": true
  },
  "vscode": {
   "interpreter": {
    "hash": "aee8b7b246df8f9039afb4144a1f6fd8d2ca17a180786b69acc140d282b71a49"
   }
  }
 },
 "nbformat": 4,
 "nbformat_minor": 2
}
